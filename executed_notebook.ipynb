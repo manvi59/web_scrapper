{
 "cells": [
  {
   "cell_type": "markdown",
   "id": "2649dc27",
   "metadata": {
    "tags": [
     "papermill-error-cell-tag"
    ]
   },
   "source": [
    "<span style=\"color:red; font-family:Helvetica Neue, Helvetica, Arial, sans-serif; font-size:2em;\">An Exception was encountered at '<a href=\"#papermill-error-cell\">In [6]</a>'.</span>"
   ]
  },
  {
   "cell_type": "code",
   "execution_count": 1,
   "id": "24365b14",
   "metadata": {
    "execution": {
     "iopub.execute_input": "2025-09-16T04:46:51.232778Z",
     "iopub.status.busy": "2025-09-16T04:46:51.232412Z",
     "iopub.status.idle": "2025-09-16T04:46:51.239151Z",
     "shell.execute_reply": "2025-09-16T04:46:51.238320Z"
    },
    "papermill": {
     "duration": 0.014426,
     "end_time": "2025-09-16T04:46:51.240652",
     "exception": false,
     "start_time": "2025-09-16T04:46:51.226226",
     "status": "completed"
    },
    "tags": [
     "injected-parameters"
    ]
   },
   "outputs": [],
   "source": [
    "# Parameters\n",
    "location = \"atlanta_ga\"\n",
    "final_url = \"/type-single-family-home/dom-60/price-500000-na\"\n"
   ]
  },
  {
   "cell_type": "code",
   "execution_count": 2,
   "id": "14978b06",
   "metadata": {
    "execution": {
     "iopub.execute_input": "2025-09-16T04:46:51.251158Z",
     "iopub.status.busy": "2025-09-16T04:46:51.250167Z",
     "iopub.status.idle": "2025-09-16T04:46:57.225076Z",
     "shell.execute_reply": "2025-09-16T04:46:57.224128Z"
    },
    "papermill": {
     "duration": 5.982181,
     "end_time": "2025-09-16T04:46:57.226316",
     "exception": false,
     "start_time": "2025-09-16T04:46:51.244135",
     "status": "completed"
    },
    "tags": []
   },
   "outputs": [
    {
     "name": "stdout",
     "output_type": "stream",
     "text": [
      "🔗 Final URL: https://www.realtor.com/realestateandhomes-search/atlanta_ga/type-single-family-home/dom-60/price-500000-na\n",
      "final url is  /type-single-family-home/dom-60/price-500000-na\n"
     ]
    },
    {
     "name": "stdout",
     "output_type": "stream",
     "text": [
      "['265-Glen-Lake-Dr_Atlanta_GA_30327_M64551-34603', '4000-Wieuca-Rd-NE_Atlanta_GA_30342_M59132-44236', '2594-Essex-Ln-SW_Atlanta_GA_30331_M51599-43993', '140-Old-Fairburn-Close-SW_Atlanta_GA_30331_M63523-50396', '2115-Howell-Mill-Rd-NW_Atlanta_GA_30318_M68897-31951', '1386-Moores-Mill-Rd-NW_Atlanta_GA_30327_M69238-54256', '1012-Madeline-Ln_Atlanta_GA_30350_M64734-47742', '3429-Walnut-Rdg_Atlanta_GA_30349_M91355-25069', '4560-Harris-Trl_Atlanta_GA_30327_M59094-24554', '2218-Tamassee-Ct_Atlanta_GA_30338_M52131-63612', '4025-Cascade-Rd-SW_Atlanta_GA_30331_M52836-98013', '1225-W-Wesley-Rd-NW_Atlanta_GA_30327_M66773-41972', '460-Riverside-Pkwy_Atlanta_GA_30328_M66824-67002', '393-The-Falls-Ct-NE_Atlanta_GA_30307_M69501-60160', '1530-Niskey-Lake-Trl-SW_Atlanta_GA_30331_M69692-20206', '400-Pine-Tree-Dr-NE_Atlanta_GA_30305_M69928-02027', '1905-Gainsborough-Dr_Chamblee_GA_30341_M62685-09270', '355-Aldenshire-Pl_Atlanta_GA_30350_M57286-52725', '2180-Spalding-Dr_Atlanta_GA_30350_M65370-34812', '7700-Wickley-Way_Atlanta_GA_30350_M63191-03581', '256-Montpelier-Ct-SW_Atlanta_GA_30331_M50425-05710', '3600-Tanglewood-Dr-SE_Atlanta_GA_30339_M58891-79885', '3300-Cascade-Rd-SW_Atlanta_GA_30311_M53838-89747', '2264-Seaman-Cir_Atlanta_GA_30341_M62753-66204', '456-Candler-St-NE_Atlanta_GA_30307_M64746-06319', '3620-Cloudland-Dr-NW_Atlanta_GA_30327_M57739-25587', '953-Faith-Ave-SE_Atlanta_GA_30316_M56061-21419', '377-East-Side-Ave-SE_Atlanta_GA_30316_M65378-69368', '1533-Van-Epps-St-SE_Atlanta_GA_30316_M64535-73806', '415-River-Valley-Rd_Atlanta_GA_30328_M60822-71882', '36-S-Prado-NE_Atlanta_GA_30309_M58249-36028', '812-Stratford-Ct_Atlanta_GA_30350_M57660-51804', '2137-Virginia-Pl-NE_Atlanta_GA_30305_M62249-93442', '614-Charlotte-Pl-NW_Atlanta_GA_30318_M69132-63208', '4036-Statewood-Rd-NE_Atlanta_GA_30342_M60689-04078', '1179-Milmar-Dr-NW_Atlanta_GA_30327_M64205-13321', '1001-Oxford-Rd-NE_Atlanta_GA_30306_M68502-50168', '3560-Ridgewood-Rd-NW_Atlanta_GA_30327_M54981-22456', '1263-Hopkins-Ter-NE_Atlanta_GA_30324_M53841-73874', '1583-McLendon-Ave-NE_Atlanta_GA_30307_M68682-95108', '452-Euclid-Ter-NE_Atlanta_GA_30307_M64674-51258', '1129-Sanders-Ave-SE_Atlanta_GA_30316_M51573-07558']\n",
      "841\n"
     ]
    }
   ],
   "source": [
    "import requests\n",
    "import time\n",
    "import sys\n",
    "from bs4 import BeautifulSoup\n",
    "import json\n",
    " \n",
    "# cookies = {\n",
    "#     '_cq_duid': '1.1744778181.6MobFmGeC2R1nUU7',\n",
    "#     'split': 'n',\n",
    "#     '__vst': '510a7abc-5631-4c8b-a9a5-54de51e58a8a',\n",
    "#     '__bot': 'false',\n",
    "#     '_lr_env_src_ats': 'false',\n",
    "#     'permutive-id': '36491759-b0ef-4036-bc03-7d07f765413e',\n",
    "#     's_ecid': 'MCMID%7C62206642167978879802294781651943730817',\n",
    "#     '_cc_id': 'f15316d1891455e0cdcc7f071e6be91a',\n",
    "#     '_gcl_au': '1.1.761638148.1744778188',\n",
    "#     'pbjs-unifiedid': '%7B%22TDID%22%3A%22768f16ce-051a-44b9-986e-505d5a184422%22%2C%22TDID_LOOKUP%22%3A%22TRUE%22%2C%22TDID_CREATED_AT%22%3A%222025-03-16T04%3A36%3A27%22%7D',\n",
    "#     'pbjs-unifiedid_cst': 'VyxHLMwsHQ%3D%3D',\n",
    "#     '__gsas': 'ID=b761dbf92fed2797:T=1744778187:RT=1744778187:S=ALNI_MYyPr435-r92Lh6hgKWE7ir2wPpFg',\n",
    "#     '__split': '11',\n",
    "#     '_ga': 'GA1.1.122217795.1744778189',\n",
    "#     '_fbp': 'fb.1.1744778190942.615506763789365416',\n",
    "#     'ajs_anonymous_id': '484b625d-2e90-49a9-82ea-71509bf26df2',\n",
    "#     'kampyle_userid': '597b-3652-68fb-14df-8b6d-f4a2-9005-9eb6',\n",
    "#     'cto_bundle': 'OyMQ419RVHR2WTVsekpyUlYyaUt1RzBVN25kNWJ5eG45aU1kZ21lc3NIREpMTHVNcm4ybXA5Z0ZmMzF3YXZZaEVISyUyQlpoeE9rQlN3N2dsNVlWZmRwc2d6TjhucUExcSUyQjhwSHVqNExBVjdVZUU3eE5OdjRmRlc2SEZld3c2SFhpMVI0Slh0NmN6Ymh3MzlPN1kzJTJGeFZObEklMkJpQSUzRCUzRA',\n",
    "#     'G_ENABLED_IDPS': 'google',\n",
    "#     '__spdt': 'fec8a0e0243d44f7ac0a8810ea3a5617',\n",
    "#     '_pbjs_userid_consent_data': '3524755945110770',\n",
    "#     'spec-property-history': 'true',\n",
    "#     '_lr_sampling_rate': '100',\n",
    "#     'sbjs_migrations': '1418474375998%3D1',\n",
    "#     'sbjs_current_add': 'fd%3D2025-05-13%2015%3A38%3A57%7C%7C%7Cep%3Dhttps%3A%2F%2Fwww.realtor.com%2Frealestateagents%2FMarie-Crabb_San-Antonio_TX_1562457_770159571%7C%7C%7Crf%3D%28none%29',\n",
    "#     'sbjs_first_add': 'fd%3D2025-05-13%2015%3A38%3A57%7C%7C%7Cep%3Dhttps%3A%2F%2Fwww.realtor.com%2Frealestateagents%2FMarie-Crabb_San-Antonio_TX_1562457_770159571%7C%7C%7Crf%3D%28none%29',\n",
    "#     'sbjs_current': 'typ%3Dtypein%7C%7C%7Csrc%3D%28direct%29%7C%7C%7Cmdm%3D%28none%29%7C%7C%7Ccmp%3D%28none%29%7C%7C%7Ccnt%3D%28none%29%7C%7C%7Ctrm%3D%28none%29',\n",
    "#     'sbjs_first': 'typ%3Dtypein%7C%7C%7Csrc%3D%28direct%29%7C%7C%7Cmdm%3D%28none%29%7C%7C%7Ccmp%3D%28none%29%7C%7C%7Ccnt%3D%28none%29%7C%7C%7Ctrm%3D%28none%29',\n",
    "#     'sbjs_udata': 'vst%3D1%7C%7C%7Cuip%3D%28none%29%7C%7C%7Cuag%3DMozilla%2F5.0%20%28Windows%20NT%2010.0%3B%20Win64%3B%20x64%29%20AppleWebKit%2F537.36%20%28KHTML%2C%20like%20Gecko%29%20Chrome%2F136.0.0.0%20Safari%2F537.36',\n",
    "#     'AWSALBTG': 'Gysy51HA+pJTrxIKFj2v3w0nCE/eoaQmJ7DSPj4suoUKY1CHB4l5GhwD4Qau/EW7RngdZBfgTbUsgutlOm0f96YiXJTcsrWR+T8lWoqugNfMSDTEbOwrgbTJv4zI4vgeWeD4ltJdQFCOglNyh0FuxME92j87R8+5+nrtZTwzAFAL',\n",
    "#     'AWSALBTGCORS': 'Gysy51HA+pJTrxIKFj2v3w0nCE/eoaQmJ7DSPj4suoUKY1CHB4l5GhwD4Qau/EW7RngdZBfgTbUsgutlOm0f96YiXJTcsrWR+T8lWoqugNfMSDTEbOwrgbTJv4zI4vgeWeD4ltJdQFCOglNyh0FuxME92j87R8+5+nrtZTwzAFAL',\n",
    "#     'AWSALB': 'PA4KsCC+ZE35rkHrZlFJmvdEFqqcwpfhPvIHyR8fvTkTuV8elUxXm3ZXx+OJ8h1qNL5Hsxp9M9bcRnTPQfhDhKnSOIaGtgnBBIXsSuTsBL6E4DClOUhJXGkw1ucY',\n",
    "#     'AWSALBCORS': 'PA4KsCC+ZE35rkHrZlFJmvdEFqqcwpfhPvIHyR8fvTkTuV8elUxXm3ZXx+OJ8h1qNL5Hsxp9M9bcRnTPQfhDhKnSOIaGtgnBBIXsSuTsBL6E4DClOUhJXGkw1ucY',\n",
    "#     'leadid_token-27789EFE-7A9A-DB70-BB9B-97D9B7057DBB-01836014-7527-FD48-9B7F-1A40A9705CFE': '86378343-6E72-C9A3-F38C-4FC85D4B9DDF',\n",
    "#     '_parsely_session': '{%22sid%22:25%2C%22surl%22:%22https://www.realtor.com/realestateandhomes-detail/127-Concord-St_Brooklyn_NY_11201_M94228-18638%22%2C%22sref%22:%22https://colab.research.google.com/%22%2C%22sts%22:1747135330658%2C%22slts%22:1747130960659}',\n",
    "#     '_parsely_visitor': '{%22id%22:%22pid=1b405088-93a3-4244-a70a-8f0b5d157233%22%2C%22session_count%22:25%2C%22last_session_ts%22:1747135330658}',\n",
    "#     '_lr_retry_request': 'true',\n",
    "#     'AMP_MKTG_c07a79acf5': 'JTdCJTdE',\n",
    "#     'claritas_24hrexp_ldp': 'true',\n",
    "#     'split_tcv': '123',\n",
    "#     'panoramaId_expiry': '1747223247759',\n",
    "#     'panoramaId': '1c8ce1f32d9b77f43d98a20754f4a9fb927a4d1c3ceb4de2702245f6f0c8d4e0',\n",
    "#     'ab.storage.deviceId.7cc9d032-9d6d-44cf-a8f5-d276489af322': 'g%3Ac0e51af7-dd43-dbd5-e0cf-a1fa33760e57%7Ce%3Aundefined%7Cc%3A1744778189271%7Cl%3A1747136849038',\n",
    "#     'ab.storage.userId.7cc9d032-9d6d-44cf-a8f5-d276489af322': 'g%3Avisitor_510a7abc-5631-4c8b-a9a5-54de51e58a8a%7Ce%3Aundefined%7Cc%3A1744778189264%7Cl%3A1747136849040',\n",
    "#     'kampyleUserSession': '1747136968797',\n",
    "#     'kampyleUserSessionsCount': '73',\n",
    "#     'kampyleSessionPageCounter': '1',\n",
    "#     'kampyleUserPercentile': '38.99125802441098',\n",
    "#     '__ssn': '12d7e70c-46a9-45b7-8708-9b6155f748af',\n",
    "#     '__ssnstarttime': '1747138479',\n",
    "#     'criteria': 'sprefix%3D%252Fnewhomecommunities%26area_type%3Dcity%26city%3DNew%2520York%26pg%3D1%26state_code%3DNY%26state_id%3DNY%26loc%3DNew%2520York%252C%2520NY%26locSlug%3DNew-York_NY%26county_fips%3D36081%26county_fips_multi%3D36081-36047-36085-36005-36061',\n",
    "#     'isAuth0GnavEnabled': 'C',\n",
    "#     'AMCVS_8853394255142B6A0A4C98A4%40AdobeOrg': '1',\n",
    "#     'AMCV_8853394255142B6A0A4C98A4%40AdobeOrg': '-1124106680%7CMCIDTS%7C20221%7CMCMID%7C62206642167978879802294781651943730817%7CMCAAMLH-1747743283%7C12%7CMCAAMB-1747743283%7CRKhpRz8krg2tLO6pguXWp5olkAcUniQYPHaMWWgdJ3xzPWQmdj0y%7CMCOPTOUT-1747145683s%7CNONE%7CMCAID%7CNONE%7CvVersion%7C5.2.0',\n",
    "#     'claritas_24hrexp_sitevisit': 'true',\n",
    "#     'ab.storage.sessionId.7cc9d032-9d6d-44cf-a8f5-d276489af322': 'g%3A5e73a82d-0856-363b-ebe3-ab7bcf82f658%7Ce%3A1747140285057%7Cc%3A1747136849034%7Cl%3A1747138485057',\n",
    "#     '_uetsid': '523b07802f1e11f0a6117f38eb0c06f4|nu1ncn|2|fvv|0|1958',\n",
    "#     'AMP_c07a79acf5': 'JTdCJTIyZGV2aWNlSWQlMjIlM0ElMjJjNGJmMzkxNC1mNjA1LTQyZWUtYWM2Yi02MTQwMzBlODAxNGYlMjIlMkMlMjJ1c2VySWQlMjIlM0ElMjI1MTBhN2FiYy01NjMxLTRjOGItYTlhNS01NGRlNTFlNThhOGElMjIlMkMlMjJzZXNzaW9uSWQlMjIlM0ExNzQ3MTM2ODQ2ODMxJTJDJTIyb3B0T3V0JTIyJTNBZmFsc2UlMkMlMjJsYXN0RXZlbnRUaW1lJTIyJTNBMTc0NzEzODQ4NTQxNSUyQyUyMmxhc3RFdmVudElkJTIyJTNBMzc2JTJDJTIycGFnZUNvdW50ZXIlMjIlM0EzJTdE',\n",
    "#     '__gads': 'ID=90cc70a1b7f62534:T=1744778191:RT=1747138485:S=ALNI_Mbwq8lNnQn41vMslb5NKa0v1IXODQ',\n",
    "#     '__gpi': 'UID=000010a0d44ff64d:T=1744778191:RT=1747138485:S=ALNI_MYQOz2G493eHyeT1BxhNY1pSbZ_ZQ',\n",
    "#     '__eoi': 'ID=ff471cc055362e70:T=1744778191:RT=1747138485:S=AA-AfjY5Nukxc6S-HKQMxCxsgauf',\n",
    "#     '_uetvid': '5e6611101a7c11f096fd0b3e24a7f2ce|1glbpa|1747138486190|3|1|bat.bing.com/p/insights/c/b',\n",
    "#     '_ga_07XBH6XBNS': 'GS2.1.s1747135361$o25$g0$t1747138488$j0$l0$h538070340',\n",
    "#     '_ga_MS5EHT6J6V': 'GS2.1.s1747135361$o25$g1$t1747138488$j0$l0$h0',\n",
    "#     'KP_UIDz-ssn': '0MfNNCrrSb9BV7sBp4WHRRcf76Hju6CLGwabGOT0OemzWxp7pYt891SoHjCmiqzeE4EogTl5pik6AxlNeZssOqeTyXwkGLi6ak34mTbRw8IRL3eAxozFBk7kKCJKW4DrGUsqoPvVO0Mi9LFWIIbEhrxyequ0ffzwIJVbhdPx',\n",
    "#     'KP_UIDz': '0MfNNCrrSb9BV7sBp4WHRRcf76Hju6CLGwabGOT0OemzWxp7pYt891SoHjCmiqzeE4EogTl5pik6AxlNeZssOqeTyXwkGLi6ak34mTbRw8IRL3eAxozFBk7kKCJKW4DrGUsqoPvVO0Mi9LFWIIbEhrxyequ0ffzwIJVbhdPx',\n",
    "# }\n",
    "\n",
    "# headers = {\n",
    "#     'accept': 'text/html,application/xhtml+xml,application/xml;q=0.9,image/avif,image/webp,image/apng,*/*;q=0.8,application/signed-exchange;v=b3;q=0.7',\n",
    "#     'accept-language': 'en-US,en;q=0.9',\n",
    "#     'cache-control': 'max-age=0',\n",
    "#     'priority': 'u=0, i',\n",
    "#     'sec-ch-ua': '\"Chromium\";v=\"136\", \"Google Chrome\";v=\"136\", \"Not.A/Brand\";v=\"99\"',\n",
    "#     'sec-ch-ua-mobile': '?0',\n",
    "#     'sec-ch-ua-platform': '\"Windows\"',\n",
    "#     'sec-fetch-dest': 'document',\n",
    "#     'sec-fetch-mode': 'navigate',\n",
    "#     'sec-fetch-site': 'same-origin',\n",
    "#     'sec-fetch-user': '?1',\n",
    "#     'upgrade-insecure-requests': '1',\n",
    "#     'user-agent': 'Mozilla/5.0 (Windows NT 10.0; Win64; x64) AppleWebKit/537.36 (KHTML, like Gecko) Chrome/136.0.0.0 Safari/537.36',\n",
    "#     # 'cookie': '_cq_duid=1.1744778181.6MobFmGeC2R1nUU7; split=n; __vst=510a7abc-5631-4c8b-a9a5-54de51e58a8a; __bot=false; _lr_env_src_ats=false; permutive-id=36491759-b0ef-4036-bc03-7d07f765413e; s_ecid=MCMID%7C62206642167978879802294781651943730817; _cc_id=f15316d1891455e0cdcc7f071e6be91a; _gcl_au=1.1.761638148.1744778188; pbjs-unifiedid=%7B%22TDID%22%3A%22768f16ce-051a-44b9-986e-505d5a184422%22%2C%22TDID_LOOKUP%22%3A%22TRUE%22%2C%22TDID_CREATED_AT%22%3A%222025-03-16T04%3A36%3A27%22%7D; pbjs-unifiedid_cst=VyxHLMwsHQ%3D%3D; __gsas=ID=b761dbf92fed2797:T=1744778187:RT=1744778187:S=ALNI_MYyPr435-r92Lh6hgKWE7ir2wPpFg; __split=11; _ga=GA1.1.122217795.1744778189; _fbp=fb.1.1744778190942.615506763789365416; ajs_anonymous_id=484b625d-2e90-49a9-82ea-71509bf26df2; kampyle_userid=597b-3652-68fb-14df-8b6d-f4a2-9005-9eb6; cto_bundle=OyMQ419RVHR2WTVsekpyUlYyaUt1RzBVN25kNWJ5eG45aU1kZ21lc3NIREpMTHVNcm4ybXA5Z0ZmMzF3YXZZaEVISyUyQlpoeE9rQlN3N2dsNVlWZmRwc2d6TjhucUExcSUyQjhwSHVqNExBVjdVZUU3eE5OdjRmRlc2SEZld3c2SFhpMVI0Slh0NmN6Ymh3MzlPN1kzJTJGeFZObEklMkJpQSUzRCUzRA; G_ENABLED_IDPS=google; __spdt=fec8a0e0243d44f7ac0a8810ea3a5617; _pbjs_userid_consent_data=3524755945110770; spec-property-history=true; _lr_sampling_rate=100; sbjs_migrations=1418474375998%3D1; sbjs_current_add=fd%3D2025-05-13%2015%3A38%3A57%7C%7C%7Cep%3Dhttps%3A%2F%2Fwww.realtor.com%2Frealestateagents%2FMarie-Crabb_San-Antonio_TX_1562457_770159571%7C%7C%7Crf%3D%28none%29; sbjs_first_add=fd%3D2025-05-13%2015%3A38%3A57%7C%7C%7Cep%3Dhttps%3A%2F%2Fwww.realtor.com%2Frealestateagents%2FMarie-Crabb_San-Antonio_TX_1562457_770159571%7C%7C%7Crf%3D%28none%29; sbjs_current=typ%3Dtypein%7C%7C%7Csrc%3D%28direct%29%7C%7C%7Cmdm%3D%28none%29%7C%7C%7Ccmp%3D%28none%29%7C%7C%7Ccnt%3D%28none%29%7C%7C%7Ctrm%3D%28none%29; sbjs_first=typ%3Dtypein%7C%7C%7Csrc%3D%28direct%29%7C%7C%7Cmdm%3D%28none%29%7C%7C%7Ccmp%3D%28none%29%7C%7C%7Ccnt%3D%28none%29%7C%7C%7Ctrm%3D%28none%29; sbjs_udata=vst%3D1%7C%7C%7Cuip%3D%28none%29%7C%7C%7Cuag%3DMozilla%2F5.0%20%28Windows%20NT%2010.0%3B%20Win64%3B%20x64%29%20AppleWebKit%2F537.36%20%28KHTML%2C%20like%20Gecko%29%20Chrome%2F136.0.0.0%20Safari%2F537.36; AWSALBTG=Gysy51HA+pJTrxIKFj2v3w0nCE/eoaQmJ7DSPj4suoUKY1CHB4l5GhwD4Qau/EW7RngdZBfgTbUsgutlOm0f96YiXJTcsrWR+T8lWoqugNfMSDTEbOwrgbTJv4zI4vgeWeD4ltJdQFCOglNyh0FuxME92j87R8+5+nrtZTwzAFAL; AWSALBTGCORS=Gysy51HA+pJTrxIKFj2v3w0nCE/eoaQmJ7DSPj4suoUKY1CHB4l5GhwD4Qau/EW7RngdZBfgTbUsgutlOm0f96YiXJTcsrWR+T8lWoqugNfMSDTEbOwrgbTJv4zI4vgeWeD4ltJdQFCOglNyh0FuxME92j87R8+5+nrtZTwzAFAL; AWSALB=PA4KsCC+ZE35rkHrZlFJmvdEFqqcwpfhPvIHyR8fvTkTuV8elUxXm3ZXx+OJ8h1qNL5Hsxp9M9bcRnTPQfhDhKnSOIaGtgnBBIXsSuTsBL6E4DClOUhJXGkw1ucY; AWSALBCORS=PA4KsCC+ZE35rkHrZlFJmvdEFqqcwpfhPvIHyR8fvTkTuV8elUxXm3ZXx+OJ8h1qNL5Hsxp9M9bcRnTPQfhDhKnSOIaGtgnBBIXsSuTsBL6E4DClOUhJXGkw1ucY; leadid_token-27789EFE-7A9A-DB70-BB9B-97D9B7057DBB-01836014-7527-FD48-9B7F-1A40A9705CFE=86378343-6E72-C9A3-F38C-4FC85D4B9DDF; _parsely_session={%22sid%22:25%2C%22surl%22:%22https://www.realtor.com/realestateandhomes-detail/127-Concord-St_Brooklyn_NY_11201_M94228-18638%22%2C%22sref%22:%22https://colab.research.google.com/%22%2C%22sts%22:1747135330658%2C%22slts%22:1747130960659}; _parsely_visitor={%22id%22:%22pid=1b405088-93a3-4244-a70a-8f0b5d157233%22%2C%22session_count%22:25%2C%22last_session_ts%22:1747135330658}; _lr_retry_request=true; AMP_MKTG_c07a79acf5=JTdCJTdE; claritas_24hrexp_ldp=true; split_tcv=123; panoramaId_expiry=1747223247759; panoramaId=1c8ce1f32d9b77f43d98a20754f4a9fb927a4d1c3ceb4de2702245f6f0c8d4e0; ab.storage.deviceId.7cc9d032-9d6d-44cf-a8f5-d276489af322=g%3Ac0e51af7-dd43-dbd5-e0cf-a1fa33760e57%7Ce%3Aundefined%7Cc%3A1744778189271%7Cl%3A1747136849038; ab.storage.userId.7cc9d032-9d6d-44cf-a8f5-d276489af322=g%3Avisitor_510a7abc-5631-4c8b-a9a5-54de51e58a8a%7Ce%3Aundefined%7Cc%3A1744778189264%7Cl%3A1747136849040; kampyleUserSession=1747136968797; kampyleUserSessionsCount=73; kampyleSessionPageCounter=1; kampyleUserPercentile=38.99125802441098; __ssn=12d7e70c-46a9-45b7-8708-9b6155f748af; __ssnstarttime=1747138479; criteria=sprefix%3D%252Fnewhomecommunities%26area_type%3Dcity%26city%3DNew%2520York%26pg%3D1%26state_code%3DNY%26state_id%3DNY%26loc%3DNew%2520York%252C%2520NY%26locSlug%3DNew-York_NY%26county_fips%3D36081%26county_fips_multi%3D36081-36047-36085-36005-36061; isAuth0GnavEnabled=C; AMCVS_8853394255142B6A0A4C98A4%40AdobeOrg=1; AMCV_8853394255142B6A0A4C98A4%40AdobeOrg=-1124106680%7CMCIDTS%7C20221%7CMCMID%7C62206642167978879802294781651943730817%7CMCAAMLH-1747743283%7C12%7CMCAAMB-1747743283%7CRKhpRz8krg2tLO6pguXWp5olkAcUniQYPHaMWWgdJ3xzPWQmdj0y%7CMCOPTOUT-1747145683s%7CNONE%7CMCAID%7CNONE%7CvVersion%7C5.2.0; claritas_24hrexp_sitevisit=true; ab.storage.sessionId.7cc9d032-9d6d-44cf-a8f5-d276489af322=g%3A5e73a82d-0856-363b-ebe3-ab7bcf82f658%7Ce%3A1747140285057%7Cc%3A1747136849034%7Cl%3A1747138485057; _uetsid=523b07802f1e11f0a6117f38eb0c06f4|nu1ncn|2|fvv|0|1958; AMP_c07a79acf5=JTdCJTIyZGV2aWNlSWQlMjIlM0ElMjJjNGJmMzkxNC1mNjA1LTQyZWUtYWM2Yi02MTQwMzBlODAxNGYlMjIlMkMlMjJ1c2VySWQlMjIlM0ElMjI1MTBhN2FiYy01NjMxLTRjOGItYTlhNS01NGRlNTFlNThhOGElMjIlMkMlMjJzZXNzaW9uSWQlMjIlM0ExNzQ3MTM2ODQ2ODMxJTJDJTIyb3B0T3V0JTIyJTNBZmFsc2UlMkMlMjJsYXN0RXZlbnRUaW1lJTIyJTNBMTc0NzEzODQ4NTQxNSUyQyUyMmxhc3RFdmVudElkJTIyJTNBMzc2JTJDJTIycGFnZUNvdW50ZXIlMjIlM0EzJTdE; __gads=ID=90cc70a1b7f62534:T=1744778191:RT=1747138485:S=ALNI_Mbwq8lNnQn41vMslb5NKa0v1IXODQ; __gpi=UID=000010a0d44ff64d:T=1744778191:RT=1747138485:S=ALNI_MYQOz2G493eHyeT1BxhNY1pSbZ_ZQ; __eoi=ID=ff471cc055362e70:T=1744778191:RT=1747138485:S=AA-AfjY5Nukxc6S-HKQMxCxsgauf; _uetvid=5e6611101a7c11f096fd0b3e24a7f2ce|1glbpa|1747138486190|3|1|bat.bing.com/p/insights/c/b; _ga_07XBH6XBNS=GS2.1.s1747135361$o25$g0$t1747138488$j0$l0$h538070340; _ga_MS5EHT6J6V=GS2.1.s1747135361$o25$g1$t1747138488$j0$l0$h0; KP_UIDz-ssn=0MfNNCrrSb9BV7sBp4WHRRcf76Hju6CLGwabGOT0OemzWxp7pYt891SoHjCmiqzeE4EogTl5pik6AxlNeZssOqeTyXwkGLi6ak34mTbRw8IRL3eAxozFBk7kKCJKW4DrGUsqoPvVO0Mi9LFWIIbEhrxyequ0ffzwIJVbhdPx; KP_UIDz=0MfNNCrrSb9BV7sBp4WHRRcf76Hju6CLGwabGOT0OemzWxp7pYt891SoHjCmiqzeE4EogTl5pik6AxlNeZssOqeTyXwkGLi6ak34mTbRw8IRL3eAxozFBk7kKCJKW4DrGUsqoPvVO0Mi9LFWIIbEhrxyequ0ffzwIJVbhdPx',\n",
    "# }\n",
    " \n",
    "import requests\n",
    "\n",
    "cookies = {\n",
    "    'split': 'n',\n",
    "    'split_tcv': '144',\n",
    "    '__vst': '5056ada1-4afa-4a96-9a2d-a4c74d330c5d',\n",
    "    '__bot': 'false',\n",
    "    '__split': '43',\n",
    "    '__rdc_id': 'rdc-id-92314d38-0757-47cd-b6ab-ca8ba2a5abe1',\n",
    "    '_lr_env_src_ats': 'false',\n",
    "    'permutive-id': '92c6d6fb-9750-4deb-9595-d5ced8ab2a86',\n",
    "    's_ecid': 'MCMID%7C17983692702918069113749507537504307488',\n",
    "    'pbjs-unifiedid': '%7B%22TDID%22%3A%2219960453-9169-4706-a117-1d1d8b097707%22%2C%22TDID_LOOKUP%22%3A%22FALSE%22%2C%22TDID_CREATED_AT%22%3A%222025-09-15T04%3A28%3A29%22%7D',\n",
    "    'pbjs-unifiedid_cst': 'VyxHLMwsHQ%3D%3D',\n",
    "    'panoramaId_expiry': '1758515309969',\n",
    "    '_cc_id': '19e0fef4c5094d73fe4fe34d8a2fba28',\n",
    "    'panoramaId': '888da814865546903f5874ad8e3d185ca02c84efd8ce73f31289556d0d876cbf',\n",
    "    '_gcl_au': '1.1.1901698854.1757910513',\n",
    "    '_fbp': 'fb.1.1757910513233.8355899311',\n",
    "    'claritas_24hrexp_ldp': 'true',\n",
    "    '_ga': 'GA1.1.1170325650.1757910514',\n",
    "    'G_ENABLED_IDPS': 'google',\n",
    "    '__spdt': '5b86fc614506437cae583ba82156309a',\n",
    "    'ajs_anonymous_id': '2ced0b79-ae19-4283-886e-6194bd4944ff',\n",
    "    'AMP_MKTG_c07a79acf5': 'JTdCJTdE',\n",
    "    '_lr_sampling_rate': '100',\n",
    "    '_parsely_visitor': '{%22id%22:%22pid=acad58b2-6b38-476b-bd7b-c059104c3107%22%2C%22session_count%22:1%2C%22last_session_ts%22:1757910552534}',\n",
    "    'kampyle_userid': '9b3a-c5c8-b81b-489e-8065-999b-ac60-22c4',\n",
    "    'kampyleUserSession': '1757910552855',\n",
    "    'kampyleUserSessionsCount': '1',\n",
    "    'kampyleUserPercentile': '96.01054766353265',\n",
    "    'kampyleSessionPageCounter': '1',\n",
    "    '__ssn': 'aa0fda32-efe7-4f31-b2ac-916de3b22efa',\n",
    "    '__ssnstarttime': '1757919195',\n",
    "    '_lr_retry_request': 'true',\n",
    "    'AMCVS_8853394255142B6A0A4C98A4%40AdobeOrg': '1',\n",
    "    'AMCV_8853394255142B6A0A4C98A4%40AdobeOrg': '-1124106680%7CMCIDTS%7C20347%7CMCMID%7C17983692702918069113749507537504307488%7CMCAAMLH-1758523997%7C12%7CMCAAMB-1758523997%7C6G1ynYcLPuiQxYZrsz_pkqfLG9yMXBpb2zX5dvJdYQJzPXImdj0y%7CMCOPTOUT-1757926397s%7CNONE%7CMCAID%7CNONE%7CMCSYNCSOP%7C411-20354%7CvVersion%7C5.2.0',\n",
    "    'criteria': 'sprefix%3D%252Fnewhomecommunities%26area_type%3Dcity%26city%3DLos%2520Angeles%26pg%3D1%26state_code%3DCA%26state_id%3DCA%26loc%3DLos%2520Angeles%252C%2520CA%26locSlug%3DLos-Angeles_CA%26county_fips%3D06037%26county_fips_multi%3D06037',\n",
    "    '__gsas': 'ID=d62a1df4d6c0be10:T=1757919197:RT=1757919197:S=ALNI_Mal2EQmI6hFz05hPSmvUpB_BJdJkA',\n",
    "    'claritas_24hrexp_sitevisit': 'true',\n",
    "    'ab.storage.deviceId.7cc9d032-9d6d-44cf-a8f5-d276489af322': 'g%3A59ad132e-40ea-24c5-0a2c-4a267763187b%7Ce%3Aundefined%7Cc%3A1757910512654%7Cl%3A1757919198389',\n",
    "    'ab.storage.userId.7cc9d032-9d6d-44cf-a8f5-d276489af322': 'g%3Avisitor_5056ada1-4afa-4a96-9a2d-a4c74d330c5d%7Ce%3Aundefined%7Cc%3A1757910512650%7Cl%3A1757919198390',\n",
    "    'ab.storage.sessionId.7cc9d032-9d6d-44cf-a8f5-d276489af322': 'g%3A619cee7b-e896-8396-667c-2bde248f8954%7Ce%3A1757920998397%7Cc%3A1757919198387%7Cl%3A1757919198397',\n",
    "    '_awl': '2.1757919198.5-11945dd8f154f0690611096c643e200a-6763652d617369612d6561737431-0',\n",
    "    'AMP_c07a79acf5': 'JTdCJTIyZGV2aWNlSWQlMjIlM0ElMjI0ZDg1MTkxNi1mZWE4LTRjNmEtODEyNC0yOThjOTlhNzM1OGElMjIlMkMlMjJ1c2VySWQlMjIlM0ElMjI1MDU2YWRhMS00YWZhLTRhOTYtOWEyZC1hNGM3NGQzMzBjNWQlMjIlMkMlMjJzZXNzaW9uSWQlMjIlM0ExNzU3OTE5MTk5MTE0JTJDJTIyb3B0T3V0JTIyJTNBZmFsc2UlMkMlMjJsYXN0RXZlbnRUaW1lJTIyJTNBMTc1NzkxOTE5OTE4MiUyQyUyMmxhc3RFdmVudElkJTIyJTNBOSUyQyUyMnBhZ2VDb3VudGVyJTIyJTNBMCU3RA==',\n",
    "    '_uetsid': '71529e6091ec11f09d32fb274bc416f6|xr4rbc|2|fzc|0|2084',\n",
    "    '_uetvid': '7152c53091ec11f08e55c761497e9036|341nh7|1757919200891|1|1|bat.bing.com/p/insights/c/k',\n",
    "    'KP_UIDz-ssn': '0PMONw98kNVHaAAxJinltMRazZAM47G0dD4Q1uJqePx0Rn0PFcuHl4gZgnRFodArBXwAtVlpnOEU4vCpT5Gokx8uhhcIs7mE0jBpPKzsRc9uh9LEwcdDyIBaEnTIXpIZMes6ZMce7RhjtepsPdibkydWWMfV8Facl3DnDoABs52mAtfR',\n",
    "    'KP_UIDz': '0PMONw98kNVHaAAxJinltMRazZAM47G0dD4Q1uJqePx0Rn0PFcuHl4gZgnRFodArBXwAtVlpnOEU4vCpT5Gokx8uhhcIs7mE0jBpPKzsRc9uh9LEwcdDyIBaEnTIXpIZMes6ZMce7RhjtepsPdibkydWWMfV8Facl3DnDoABs52mAtfR',\n",
    "    '_ga_MS5EHT6J6V': 'GS2.1.s1757919198$o2$g0$t1757919202$j56$l0$h0',\n",
    "    '_ga_07XBH6XBNS': 'GS2.1.s1757919199$o2$g0$t1757919202$j57$l0$h876630246',\n",
    "}\n",
    "\n",
    "headers = {\n",
    "    'accept': 'text/html,application/xhtml+xml,application/xml;q=0.9,image/avif,image/webp,image/apng,*/*;q=0.8,application/signed-exchange;v=b3;q=0.7',\n",
    "    'accept-language': 'en-US,en;q=0.9,hi;q=0.8',\n",
    "    'cache-control': 'max-age=0',\n",
    "    'priority': 'u=0, i',\n",
    "    'sec-ch-ua': '\"Chromium\";v=\"140\", \"Not=A?Brand\";v=\"24\", \"Google Chrome\";v=\"140\"',\n",
    "    'sec-ch-ua-mobile': '?0',\n",
    "    'sec-ch-ua-platform': '\"Windows\"',\n",
    "    'sec-fetch-dest': 'document',\n",
    "    'sec-fetch-mode': 'navigate',\n",
    "    'sec-fetch-site': 'same-origin',\n",
    "    'sec-fetch-user': '?1',\n",
    "    'upgrade-insecure-requests': '1',\n",
    "    'user-agent': 'Mozilla/5.0 (Windows NT 10.0; Win64; x64) AppleWebKit/537.36 (KHTML, like Gecko) Chrome/140.0.0.0 Safari/537.36',\n",
    "    # 'cookie': 'split=n; split_tcv=144; __vst=5056ada1-4afa-4a96-9a2d-a4c74d330c5d; __bot=false; __split=43; __rdc_id=rdc-id-92314d38-0757-47cd-b6ab-ca8ba2a5abe1; _lr_env_src_ats=false; permutive-id=92c6d6fb-9750-4deb-9595-d5ced8ab2a86; s_ecid=MCMID%7C17983692702918069113749507537504307488; pbjs-unifiedid=%7B%22TDID%22%3A%2219960453-9169-4706-a117-1d1d8b097707%22%2C%22TDID_LOOKUP%22%3A%22FALSE%22%2C%22TDID_CREATED_AT%22%3A%222025-09-15T04%3A28%3A29%22%7D; pbjs-unifiedid_cst=VyxHLMwsHQ%3D%3D; panoramaId_expiry=1758515309969; _cc_id=19e0fef4c5094d73fe4fe34d8a2fba28; panoramaId=888da814865546903f5874ad8e3d185ca02c84efd8ce73f31289556d0d876cbf; _gcl_au=1.1.1901698854.1757910513; _fbp=fb.1.1757910513233.8355899311; claritas_24hrexp_ldp=true; _ga=GA1.1.1170325650.1757910514; G_ENABLED_IDPS=google; __spdt=5b86fc614506437cae583ba82156309a; ajs_anonymous_id=2ced0b79-ae19-4283-886e-6194bd4944ff; AMP_MKTG_c07a79acf5=JTdCJTdE; _lr_sampling_rate=100; _parsely_visitor={%22id%22:%22pid=acad58b2-6b38-476b-bd7b-c059104c3107%22%2C%22session_count%22:1%2C%22last_session_ts%22:1757910552534}; kampyle_userid=9b3a-c5c8-b81b-489e-8065-999b-ac60-22c4; kampyleUserSession=1757910552855; kampyleUserSessionsCount=1; kampyleUserPercentile=96.01054766353265; kampyleSessionPageCounter=1; __ssn=aa0fda32-efe7-4f31-b2ac-916de3b22efa; __ssnstarttime=1757919195; _lr_retry_request=true; AMCVS_8853394255142B6A0A4C98A4%40AdobeOrg=1; AMCV_8853394255142B6A0A4C98A4%40AdobeOrg=-1124106680%7CMCIDTS%7C20347%7CMCMID%7C17983692702918069113749507537504307488%7CMCAAMLH-1758523997%7C12%7CMCAAMB-1758523997%7C6G1ynYcLPuiQxYZrsz_pkqfLG9yMXBpb2zX5dvJdYQJzPXImdj0y%7CMCOPTOUT-1757926397s%7CNONE%7CMCAID%7CNONE%7CMCSYNCSOP%7C411-20354%7CvVersion%7C5.2.0; criteria=sprefix%3D%252Fnewhomecommunities%26area_type%3Dcity%26city%3DLos%2520Angeles%26pg%3D1%26state_code%3DCA%26state_id%3DCA%26loc%3DLos%2520Angeles%252C%2520CA%26locSlug%3DLos-Angeles_CA%26county_fips%3D06037%26county_fips_multi%3D06037; __gsas=ID=d62a1df4d6c0be10:T=1757919197:RT=1757919197:S=ALNI_Mal2EQmI6hFz05hPSmvUpB_BJdJkA; claritas_24hrexp_sitevisit=true; ab.storage.deviceId.7cc9d032-9d6d-44cf-a8f5-d276489af322=g%3A59ad132e-40ea-24c5-0a2c-4a267763187b%7Ce%3Aundefined%7Cc%3A1757910512654%7Cl%3A1757919198389; ab.storage.userId.7cc9d032-9d6d-44cf-a8f5-d276489af322=g%3Avisitor_5056ada1-4afa-4a96-9a2d-a4c74d330c5d%7Ce%3Aundefined%7Cc%3A1757910512650%7Cl%3A1757919198390; ab.storage.sessionId.7cc9d032-9d6d-44cf-a8f5-d276489af322=g%3A619cee7b-e896-8396-667c-2bde248f8954%7Ce%3A1757920998397%7Cc%3A1757919198387%7Cl%3A1757919198397; _awl=2.1757919198.5-11945dd8f154f0690611096c643e200a-6763652d617369612d6561737431-0; AMP_c07a79acf5=JTdCJTIyZGV2aWNlSWQlMjIlM0ElMjI0ZDg1MTkxNi1mZWE4LTRjNmEtODEyNC0yOThjOTlhNzM1OGElMjIlMkMlMjJ1c2VySWQlMjIlM0ElMjI1MDU2YWRhMS00YWZhLTRhOTYtOWEyZC1hNGM3NGQzMzBjNWQlMjIlMkMlMjJzZXNzaW9uSWQlMjIlM0ExNzU3OTE5MTk5MTE0JTJDJTIyb3B0T3V0JTIyJTNBZmFsc2UlMkMlMjJsYXN0RXZlbnRUaW1lJTIyJTNBMTc1NzkxOTE5OTE4MiUyQyUyMmxhc3RFdmVudElkJTIyJTNBOSUyQyUyMnBhZ2VDb3VudGVyJTIyJTNBMCU3RA==; _uetsid=71529e6091ec11f09d32fb274bc416f6|xr4rbc|2|fzc|0|2084; _uetvid=7152c53091ec11f08e55c761497e9036|341nh7|1757919200891|1|1|bat.bing.com/p/insights/c/k; KP_UIDz-ssn=0PMONw98kNVHaAAxJinltMRazZAM47G0dD4Q1uJqePx0Rn0PFcuHl4gZgnRFodArBXwAtVlpnOEU4vCpT5Gokx8uhhcIs7mE0jBpPKzsRc9uh9LEwcdDyIBaEnTIXpIZMes6ZMce7RhjtepsPdibkydWWMfV8Facl3DnDoABs52mAtfR; KP_UIDz=0PMONw98kNVHaAAxJinltMRazZAM47G0dD4Q1uJqePx0Rn0PFcuHl4gZgnRFodArBXwAtVlpnOEU4vCpT5Gokx8uhhcIs7mE0jBpPKzsRc9uh9LEwcdDyIBaEnTIXpIZMes6ZMce7RhjtepsPdibkydWWMfV8Facl3DnDoABs52mAtfR; _ga_MS5EHT6J6V=GS2.1.s1757919198$o2$g0$t1757919202$j56$l0$h0; _ga_07XBH6XBNS=GS2.1.s1757919199$o2$g0$t1757919202$j57$l0$h876630246',\n",
    "}\n",
    "\n",
    "# response = requests.get(\n",
    "#     'https://www.realtor.com/realestateandhomes-search/Los-Angeles_CA/type-single-family-home/dom-30/price-500000-900000/sby-6',\n",
    "#     cookies=cookies,\n",
    "#     headers=headers,\n",
    "# )\n",
    "\n",
    "location=location\n",
    "# days=days\n",
    "# price=price\n",
    "# property_type=\"property_type\"\n",
    "final_url=final_url\n",
    "\n",
    "url = f\"https://www.realtor.com/realestateandhomes-search/{location}\"\n",
    "\n",
    "if final_url:\n",
    "   url+=final_url\n",
    "\n",
    "# if days:\n",
    "#     url += f\"/dom-{int(days)}\"\n",
    "# if price:\n",
    "#     url += f\"/price-{int(price)}-na\"\n",
    "# if property_type:\n",
    "#     url += f\"/type-{property_type.replace(' ', '-').lower()}\"\n",
    "\n",
    "print(\"🔗 Final URL:\", url)\n",
    "print(\"final url is \", final_url)\n",
    "\n",
    "response = requests.get(\n",
    "    # 'https://www.realtor.com/realestateandhomes-search/Indiana/type-multi-family-home/dom-30/price-800000-na',\n",
    "    url,\n",
    "    cookies=cookies,\n",
    "    headers=headers,\n",
    ")\n",
    "\n",
    "\n",
    "link_array=[]\n",
    "\n",
    "soup = BeautifulSoup(response.text, 'html.parser')\n",
    "# print(soup.prettify())\n",
    "# total_homes=soup.find('div', class_=\"TotalResults_totalNumber__ejYIx\")\n",
    "total_homes = soup.find('div', attrs={'data-testid': 'total-results'})\n",
    "# script_tag = soup.find('script', {'data-testid': 'seoLinkingData', 'type': 'application/ld+json'})\n",
    "script_tag = soup.find('script', {'id': '__NEXT_DATA__', 'type': 'application/json'})\n",
    "# print(script_tag)\n",
    "# print(total_homes.text)\n",
    "\n",
    "\n",
    "def get_main_entity_item_list(json_data):\n",
    "    for item in json_data:\n",
    "        if \"mainEntity\" in item:\n",
    "            main_entity = item[\"mainEntity\"]\n",
    "            if \"itemListElement\" in main_entity:\n",
    "                return main_entity[\"itemListElement\"]\n",
    "    return None  # Return None if not found\n",
    "\n",
    "if script_tag and total_homes:\n",
    "  # Load the content of the script tag (it's a JSON string)\n",
    "  json_data = json.loads(script_tag.string)\n",
    "  # print(json_data)\n",
    "  # print(json.dumps(json_data, indent=2))\n",
    "  new_data=json_data[\"props\"][\"pageProps\"][\"properties\"]\n",
    "  # print(json.dumps(new_data, indent=2))\n",
    "  permalinks = [item.get(\"permalink\") for item in new_data]\n",
    "  print(permalinks)\n",
    "  link_array.append(permalinks)\n",
    "# print(len(permalinks))\n",
    "  # ans=json_data[1][\"mainEntity\"][\"itemListElement\"]\n",
    "  # ans=get_main_entity_item_list(json_data)\n",
    "\n",
    "  # print(json.dumps(ans,indent=2))\n",
    "  # print(ans)\n",
    "  # c=0\n",
    "  # if (ans):\n",
    "  #   for i in ans:\n",
    "  #     # print(i[\"url\"])\n",
    "  #     link_array.append(i[\"url\"])\n",
    "  #     c=c+1\n",
    "#   print(c)\n",
    "\n",
    "if total_homes:\n",
    "\n",
    "    print(total_homes.text.strip()) "
   ]
  },
  {
   "cell_type": "code",
   "execution_count": 3,
   "id": "c9b89832",
   "metadata": {
    "execution": {
     "iopub.execute_input": "2025-09-16T04:46:57.235257Z",
     "iopub.status.busy": "2025-09-16T04:46:57.234858Z",
     "iopub.status.idle": "2025-09-16T04:48:14.698091Z",
     "shell.execute_reply": "2025-09-16T04:48:14.696446Z"
    },
    "papermill": {
     "duration": 77.470004,
     "end_time": "2025-09-16T04:48:14.700378",
     "exception": false,
     "start_time": "2025-09-16T04:46:57.230374",
     "status": "completed"
    },
    "tags": []
   },
   "outputs": [
    {
     "name": "stdout",
     "output_type": "stream",
     "text": [
      "heyyyyyyyy 21\n"
     ]
    },
    {
     "name": "stdout",
     "output_type": "stream",
     "text": [
      "mmmmmmmmmmmmmmmmmmmm https://www.realtor.com/realestateandhomes-search/atlanta_ga/type-single-family-home/dom-60/price-500000-na/pg-2\n",
      "\n",
      "\n",
      "\n",
      "\n",
      " 2\n"
     ]
    },
    {
     "name": "stdout",
     "output_type": "stream",
     "text": [
      "mmmmmmmmmmmmmmmmmmmm https://www.realtor.com/realestateandhomes-search/atlanta_ga/type-single-family-home/dom-60/price-500000-na/pg-3\n",
      "\n",
      "\n",
      "\n",
      "\n",
      " 3\n"
     ]
    },
    {
     "name": "stdout",
     "output_type": "stream",
     "text": [
      "mmmmmmmmmmmmmmmmmmmm https://www.realtor.com/realestateandhomes-search/atlanta_ga/type-single-family-home/dom-60/price-500000-na/pg-4\n",
      "\n",
      "\n",
      "\n",
      "\n",
      " 4\n"
     ]
    },
    {
     "name": "stdout",
     "output_type": "stream",
     "text": [
      "mmmmmmmmmmmmmmmmmmmm https://www.realtor.com/realestateandhomes-search/atlanta_ga/type-single-family-home/dom-60/price-500000-na/pg-5\n",
      "\n",
      "\n",
      "\n",
      "\n",
      " 5\n"
     ]
    },
    {
     "name": "stdout",
     "output_type": "stream",
     "text": [
      "mmmmmmmmmmmmmmmmmmmm https://www.realtor.com/realestateandhomes-search/atlanta_ga/type-single-family-home/dom-60/price-500000-na/pg-6\n",
      "\n",
      "\n",
      "\n",
      "\n",
      " 6\n"
     ]
    },
    {
     "name": "stdout",
     "output_type": "stream",
     "text": [
      "mmmmmmmmmmmmmmmmmmmm https://www.realtor.com/realestateandhomes-search/atlanta_ga/type-single-family-home/dom-60/price-500000-na/pg-7\n",
      "\n",
      "\n",
      "\n",
      "\n",
      " 7\n"
     ]
    },
    {
     "name": "stdout",
     "output_type": "stream",
     "text": [
      "mmmmmmmmmmmmmmmmmmmm https://www.realtor.com/realestateandhomes-search/atlanta_ga/type-single-family-home/dom-60/price-500000-na/pg-8\n",
      "\n",
      "\n",
      "\n",
      "\n",
      " 8\n"
     ]
    },
    {
     "name": "stdout",
     "output_type": "stream",
     "text": [
      "mmmmmmmmmmmmmmmmmmmm https://www.realtor.com/realestateandhomes-search/atlanta_ga/type-single-family-home/dom-60/price-500000-na/pg-9\n",
      "\n",
      "\n",
      "\n",
      "\n",
      " 9\n"
     ]
    },
    {
     "name": "stdout",
     "output_type": "stream",
     "text": [
      "mmmmmmmmmmmmmmmmmmmm https://www.realtor.com/realestateandhomes-search/atlanta_ga/type-single-family-home/dom-60/price-500000-na/pg-10\n",
      "\n",
      "\n",
      "\n",
      "\n",
      " 10\n"
     ]
    },
    {
     "name": "stdout",
     "output_type": "stream",
     "text": [
      "mmmmmmmmmmmmmmmmmmmm https://www.realtor.com/realestateandhomes-search/atlanta_ga/type-single-family-home/dom-60/price-500000-na/pg-11\n",
      "\n",
      "\n",
      "\n",
      "\n",
      " 11\n"
     ]
    },
    {
     "name": "stdout",
     "output_type": "stream",
     "text": [
      "mmmmmmmmmmmmmmmmmmmm https://www.realtor.com/realestateandhomes-search/atlanta_ga/type-single-family-home/dom-60/price-500000-na/pg-12\n",
      "\n",
      "\n",
      "\n",
      "\n",
      " 12\n"
     ]
    },
    {
     "name": "stdout",
     "output_type": "stream",
     "text": [
      "mmmmmmmmmmmmmmmmmmmm https://www.realtor.com/realestateandhomes-search/atlanta_ga/type-single-family-home/dom-60/price-500000-na/pg-13\n",
      "\n",
      "\n",
      "\n",
      "\n",
      " 13\n"
     ]
    },
    {
     "name": "stdout",
     "output_type": "stream",
     "text": [
      "mmmmmmmmmmmmmmmmmmmm https://www.realtor.com/realestateandhomes-search/atlanta_ga/type-single-family-home/dom-60/price-500000-na/pg-14\n",
      "\n",
      "\n",
      "\n",
      "\n",
      " 14\n"
     ]
    },
    {
     "name": "stdout",
     "output_type": "stream",
     "text": [
      "mmmmmmmmmmmmmmmmmmmm https://www.realtor.com/realestateandhomes-search/atlanta_ga/type-single-family-home/dom-60/price-500000-na/pg-15\n",
      "\n",
      "\n",
      "\n",
      "\n",
      " 15\n"
     ]
    },
    {
     "name": "stdout",
     "output_type": "stream",
     "text": [
      "mmmmmmmmmmmmmmmmmmmm https://www.realtor.com/realestateandhomes-search/atlanta_ga/type-single-family-home/dom-60/price-500000-na/pg-16\n",
      "\n",
      "\n",
      "\n",
      "\n",
      " 16\n"
     ]
    },
    {
     "name": "stdout",
     "output_type": "stream",
     "text": [
      "mmmmmmmmmmmmmmmmmmmm https://www.realtor.com/realestateandhomes-search/atlanta_ga/type-single-family-home/dom-60/price-500000-na/pg-17\n",
      "\n",
      "\n",
      "\n",
      "\n",
      " 17\n"
     ]
    },
    {
     "name": "stdout",
     "output_type": "stream",
     "text": [
      "mmmmmmmmmmmmmmmmmmmm https://www.realtor.com/realestateandhomes-search/atlanta_ga/type-single-family-home/dom-60/price-500000-na/pg-18\n",
      "\n",
      "\n",
      "\n",
      "\n",
      " 18\n"
     ]
    },
    {
     "name": "stdout",
     "output_type": "stream",
     "text": [
      "mmmmmmmmmmmmmmmmmmmm https://www.realtor.com/realestateandhomes-search/atlanta_ga/type-single-family-home/dom-60/price-500000-na/pg-19\n",
      "\n",
      "\n",
      "\n",
      "\n",
      " 19\n"
     ]
    },
    {
     "name": "stdout",
     "output_type": "stream",
     "text": [
      "mmmmmmmmmmmmmmmmmmmm https://www.realtor.com/realestateandhomes-search/atlanta_ga/type-single-family-home/dom-60/price-500000-na/pg-20\n",
      "\n",
      "\n",
      "\n",
      "\n",
      " 20\n"
     ]
    },
    {
     "name": "stdout",
     "output_type": "stream",
     "text": [
      "mmmmmmmmmmmmmmmmmmmm https://www.realtor.com/realestateandhomes-search/atlanta_ga/type-single-family-home/dom-60/price-500000-na/pg-21\n",
      "\n",
      "\n",
      "\n",
      "\n",
      " 21\n"
     ]
    }
   ],
   "source": [
    "import math\n",
    " \n",
    "\n",
    "if total_homes:  # Add your condition here (e.g., ensure the element exists)\n",
    "    total_homes_number = int(total_homes.text.strip().replace(',', ''))\n",
    "\n",
    "    # Now do the math\n",
    "    page = math.ceil(total_homes_number / len(permalinks) )\n",
    "    print(\"heyyyyyyyy\" ,page)\n",
    "\n",
    "    for p in range(2, page + 1):\n",
    "        response = requests.get(\n",
    "            f'{url}/pg-{p}',\n",
    "            cookies=cookies,\n",
    "            headers=headers,\n",
    "        )\n",
    "        print(\"mmmmmmmmmmmmmmmmmmmm\", f'{url}/pg-{p}')\n",
    "        \n",
    "        if response.status_code == 200:\n",
    "            soup = BeautifulSoup(response.text, 'html.parser')\n",
    "            script_tag = soup.find('script', {'id': '__NEXT_DATA__', 'type': 'application/json'})\n",
    "            # script_tag = soup.find('script', {'data-testid': 'seoLinkingData', 'type': 'application/ld+json'})\n",
    "\n",
    "            \n",
    "\n",
    "            if script_tag:\n",
    "                try:\n",
    "                    # Load the content of the script tag (it's a JSON string)\n",
    "                    json_data = json.loads(script_tag.string)\n",
    "                     \n",
    "                    new_data=json_data[\"props\"][\"pageProps\"][\"properties\"]\n",
    "                    # print(json.dumps(new_data, indent=2))\n",
    "                    permalinks = [item.get(\"permalink\") for item in new_data]\n",
    "                    link_array.append(permalinks)\n",
    "\n",
    "                    # c = 0\n",
    "                    # if ans:\n",
    "                    #     for i in ans:\n",
    "                    #         print(i[\"url\"])\n",
    "                    #         link_array.append(i[\"url\"])\n",
    "                    #         c += 1\n",
    "                    print(\"\\n\\n\\n\\n\", p)\n",
    "                except Exception as e:\n",
    "                    print(f\"Error parsing page {p}: {e}\")\n",
    " "
   ]
  },
  {
   "cell_type": "code",
   "execution_count": 4,
   "id": "f270f001",
   "metadata": {
    "execution": {
     "iopub.execute_input": "2025-09-16T04:48:14.723944Z",
     "iopub.status.busy": "2025-09-16T04:48:14.721656Z",
     "iopub.status.idle": "2025-09-16T04:48:14.745939Z",
     "shell.execute_reply": "2025-09-16T04:48:14.744538Z"
    },
    "papermill": {
     "duration": 0.042023,
     "end_time": "2025-09-16T04:48:14.749090",
     "exception": false,
     "start_time": "2025-09-16T04:48:14.707067",
     "status": "completed"
    },
    "tags": []
   },
   "outputs": [
    {
     "data": {
      "text/plain": [
       "['265-Glen-Lake-Dr_Atlanta_GA_30327_M64551-34603',\n",
       " '4000-Wieuca-Rd-NE_Atlanta_GA_30342_M59132-44236',\n",
       " '2594-Essex-Ln-SW_Atlanta_GA_30331_M51599-43993',\n",
       " '140-Old-Fairburn-Close-SW_Atlanta_GA_30331_M63523-50396',\n",
       " '2115-Howell-Mill-Rd-NW_Atlanta_GA_30318_M68897-31951',\n",
       " '1386-Moores-Mill-Rd-NW_Atlanta_GA_30327_M69238-54256',\n",
       " '1012-Madeline-Ln_Atlanta_GA_30350_M64734-47742',\n",
       " '3429-Walnut-Rdg_Atlanta_GA_30349_M91355-25069',\n",
       " '4560-Harris-Trl_Atlanta_GA_30327_M59094-24554',\n",
       " '2218-Tamassee-Ct_Atlanta_GA_30338_M52131-63612',\n",
       " '4025-Cascade-Rd-SW_Atlanta_GA_30331_M52836-98013',\n",
       " '1225-W-Wesley-Rd-NW_Atlanta_GA_30327_M66773-41972',\n",
       " '460-Riverside-Pkwy_Atlanta_GA_30328_M66824-67002',\n",
       " '393-The-Falls-Ct-NE_Atlanta_GA_30307_M69501-60160',\n",
       " '1530-Niskey-Lake-Trl-SW_Atlanta_GA_30331_M69692-20206',\n",
       " '400-Pine-Tree-Dr-NE_Atlanta_GA_30305_M69928-02027',\n",
       " '1905-Gainsborough-Dr_Chamblee_GA_30341_M62685-09270',\n",
       " '355-Aldenshire-Pl_Atlanta_GA_30350_M57286-52725',\n",
       " '2180-Spalding-Dr_Atlanta_GA_30350_M65370-34812',\n",
       " '7700-Wickley-Way_Atlanta_GA_30350_M63191-03581',\n",
       " '256-Montpelier-Ct-SW_Atlanta_GA_30331_M50425-05710',\n",
       " '3600-Tanglewood-Dr-SE_Atlanta_GA_30339_M58891-79885',\n",
       " '3300-Cascade-Rd-SW_Atlanta_GA_30311_M53838-89747',\n",
       " '2264-Seaman-Cir_Atlanta_GA_30341_M62753-66204',\n",
       " '456-Candler-St-NE_Atlanta_GA_30307_M64746-06319',\n",
       " '3620-Cloudland-Dr-NW_Atlanta_GA_30327_M57739-25587',\n",
       " '953-Faith-Ave-SE_Atlanta_GA_30316_M56061-21419',\n",
       " '377-East-Side-Ave-SE_Atlanta_GA_30316_M65378-69368',\n",
       " '1533-Van-Epps-St-SE_Atlanta_GA_30316_M64535-73806',\n",
       " '415-River-Valley-Rd_Atlanta_GA_30328_M60822-71882',\n",
       " '36-S-Prado-NE_Atlanta_GA_30309_M58249-36028',\n",
       " '812-Stratford-Ct_Atlanta_GA_30350_M57660-51804',\n",
       " '2137-Virginia-Pl-NE_Atlanta_GA_30305_M62249-93442',\n",
       " '614-Charlotte-Pl-NW_Atlanta_GA_30318_M69132-63208',\n",
       " '4036-Statewood-Rd-NE_Atlanta_GA_30342_M60689-04078',\n",
       " '1179-Milmar-Dr-NW_Atlanta_GA_30327_M64205-13321',\n",
       " '1001-Oxford-Rd-NE_Atlanta_GA_30306_M68502-50168',\n",
       " '3560-Ridgewood-Rd-NW_Atlanta_GA_30327_M54981-22456',\n",
       " '1263-Hopkins-Ter-NE_Atlanta_GA_30324_M53841-73874',\n",
       " '1583-McLendon-Ave-NE_Atlanta_GA_30307_M68682-95108',\n",
       " '452-Euclid-Ter-NE_Atlanta_GA_30307_M64674-51258',\n",
       " '1129-Sanders-Ave-SE_Atlanta_GA_30316_M51573-07558',\n",
       " '5260-Long-Island-Dr-NW_Atlanta_GA_30327_M99361-09512',\n",
       " '3897-Lake-Forrest-Dr-NE_Atlanta_GA_30342_M56332-05200',\n",
       " '4850-Guilford-Forest-Dr-SW_Atlanta_GA_30331_M56694-09842',\n",
       " '1572-Clifton-Rdg_Atlanta_GA_30307_M93411-31395',\n",
       " '751-Kennolia-Dr-SW_Atlanta_GA_30310_M66133-27306',\n",
       " '710-Registry-Ln_Atlanta_GA_30342_M56957-55121',\n",
       " '575-Highland-Ave-NE_Atlanta_GA_30312_M59623-52707',\n",
       " '4387-Old-Fairburn-Rd_Atlanta_GA_30349_M55175-57699',\n",
       " '790-Lakeview-Ave-NE_Atlanta_GA_30308_M91865-72539',\n",
       " '1145-Kingston-Dr_Atlanta_GA_30342_M59018-07780',\n",
       " '1023-Shady-Valley-Pl-NE_Atlanta_GA_30324_M54218-12475',\n",
       " '5145-Davantry-Dr_Atlanta_GA_30338_M56260-70255',\n",
       " '126-Howard-St-SE_Atlanta_GA_30317_M64601-21240',\n",
       " '908-N-Highland-Ave-NE-Apt-3_Atlanta_GA_30306_M64682-08651',\n",
       " '898-Adair-Ave-NE_Atlanta_GA_30306_M67403-37862',\n",
       " '1343-Peachtree-Battle-Ave-NW_Atlanta_GA_30327_M56444-94335',\n",
       " '619-Page-Ave-NE_Atlanta_GA_30307_M63644-10928',\n",
       " '5488-Windwood-Rd_Atlanta_GA_30349_M56865-66697',\n",
       " '1791-Breckenridge-Dr-NE_Atlanta_GA_30345_M56504-39033',\n",
       " '110-Stewart-Dr_Atlanta_GA_30342_M65231-36725',\n",
       " '5015-Oakhurst-Walk_Atlanta_GA_30338_M62920-18946',\n",
       " '1079-Saint-Louis-Pl-NE_Atlanta_GA_30306_M52775-23300',\n",
       " '548-Oakdale-Rd-NE_Atlanta_GA_30307_M64168-81375',\n",
       " '405-Ferry-Lndg_Atlanta_GA_30328_M59036-11067',\n",
       " '1240-Mount-Paran-Rd-NW_Atlanta_GA_30327_M61271-18555',\n",
       " '2987-Northside-Dr-NW_Atlanta_GA_30305_M66009-27530',\n",
       " '1430-N-Harris-Rdg_Atlanta_GA_30327_M54274-39112',\n",
       " '980-Buckhorn-E_Atlanta_GA_30350_M53345-26894',\n",
       " '42-Blackland-Rd-NW_Atlanta_GA_30342_M60003-89680',\n",
       " '700-N-Island-Dr_Atlanta_GA_30327_M61410-48497',\n",
       " '240-Nacoochee-Dr-NW_Atlanta_GA_30305_M53076-98564',\n",
       " '4975-Peachtree-Dunwoody-Rd_Atlanta_GA_30342_M51947-98319',\n",
       " '3115-Old-Jonesboro-Rd_Atlanta_GA_30354_M68602-85740',\n",
       " '840-Camden-Park-Ct-NE_Atlanta_GA_30342_M61135-82947',\n",
       " '670-River-Chase-Pt_Atlanta_GA_30328_M52475-85450',\n",
       " '4505-Glengary-Dr-NE_Atlanta_GA_30342_M68165-56864',\n",
       " '4765-Jett-Rd_Atlanta_GA_30327_M54342-99194',\n",
       " '2960-Sylvan-Ramble-Rd-NE_Atlanta_GA_30345_M53705-97698',\n",
       " '1127-Wimberly-Rd-NE_Brookhaven_GA_30319_M68350-74706',\n",
       " '3337-Cochise-Dr-SE_Atlanta_GA_30339_M65248-62331',\n",
       " '3047-Terramar-Dr_Atlanta_GA_30341_M52376-95975',\n",
       " '5410-New-Wellington-Close_Atlanta_GA_30327_M66298-00747',\n",
       " '1361-Normandy-Dr-NE_Atlanta_GA_30306_M68193-19436',\n",
       " '85-Grogans-Lndg_Atlanta_GA_30350_M52227-35364',\n",
       " '2966-Waverly-Ct-SE_Atlanta_GA_30339_M58784-10028',\n",
       " '2289-Chrysler-Ct-NE_Atlanta_GA_30345_M64395-45365',\n",
       " '280-Chastain-Park-Dr-NE_Atlanta_GA_30342_M67222-70176',\n",
       " '7695-Brigham-Dr_Atlanta_GA_30350_M65683-01824',\n",
       " '4220-Paces-Ferry-Rd-SE_Atlanta_GA_30339_M65061-17562',\n",
       " '96-Lakeview-Dr-NE_Atlanta_GA_30317_M63194-42308',\n",
       " '6715-Laurian-Wood-Dr_Atlanta_GA_30328_M56574-85627',\n",
       " '3281-Habersham-Rd-NW_Atlanta_GA_30305_M64251-74712',\n",
       " '185-Windsor-Cv_Atlanta_GA_30328_M59283-90473',\n",
       " '1566-Womack-Rd_Atlanta_GA_30338_M55333-15324',\n",
       " '3540-Tuxedo-Rd-NW_Atlanta_GA_30305_M66126-57742',\n",
       " '42-Camden-Rd-NE_Atlanta_GA_30309_M57936-58866',\n",
       " '1241-Niles-Ave-NW_Atlanta_GA_30318_M52167-46920',\n",
       " '1810-E-Clifton-Rd-NE_Atlanta_GA_30307_M69012-67244',\n",
       " '499-Broadland-Rd-NW_Atlanta_GA_30342_M59487-66903',\n",
       " '4610-Brierwood-Pl_Atlanta_GA_30360_M50961-11287',\n",
       " '532-Broyles-St-SE_Atlanta_GA_30312_M69994-51109',\n",
       " '764-Burke-Rd-NE_Atlanta_GA_30305_M55158-86938',\n",
       " '1987-Wellbourne-Dr-NE_Atlanta_GA_30324_M55845-30804',\n",
       " '3612-Mayfair-Rd-NE_Atlanta_GA_30342_M65690-22472',\n",
       " '2456-Sunset-Dr-NE_Atlanta_GA_30345_M68627-74674',\n",
       " '2568-Sugarplum-Ct-NE_Atlanta_GA_30345_M59791-50539',\n",
       " '566-E-Wesley-Rd-NE_Atlanta_GA_30305_M64881-91420',\n",
       " '68-N-Muscogee-Ave-NW_Atlanta_GA_30305_M55111-06381',\n",
       " '1590-Bishop-Hollow-Run_Atlanta_GA_30338_M59185-33004',\n",
       " '3764-Ensign-Dr_Atlanta_GA_30341_M62517-76862',\n",
       " '3287-Alton-Rd_Atlanta_GA_30341_M51212-02638',\n",
       " '5390-Harrowood-Ln_Atlanta_GA_30327_M65337-59597',\n",
       " '731-Gladstone-Rd-NW_Atlanta_GA_30318_M54419-46936',\n",
       " '3670-Ridgewood-Rd-NW_Atlanta_GA_30327_M54262-50607',\n",
       " '1020-Foxcroft-Rd-NW_Atlanta_GA_30327_M60481-39764',\n",
       " '2106-Zelda-Dr-NE_Atlanta_GA_30345_M69845-59774',\n",
       " '1168-Clifton-Rd-NE_Atlanta_GA_30307_M69207-57332',\n",
       " '4679-Glenshire-Pl_Atlanta_GA_30338_M69258-80436',\n",
       " '273-Peachtree-Way-NE_Atlanta_GA_30305_M57518-82705',\n",
       " '3704-Doroco-Dr_Atlanta_GA_30340_M52240-56640',\n",
       " '1548-Mason-Mill-Rd-NE_Atlanta_GA_30329_M59695-58671',\n",
       " '1666-Johnson-Rd-NE_Atlanta_GA_30306_M66146-43507',\n",
       " '3854-Sidestreet_Atlanta_GA_30341_M63137-50065',\n",
       " '789-Longwood-Dr-NW_Atlanta_GA_30305_M51372-87707',\n",
       " '5618-Livesage-Dr_Atlanta_GA_30349_M52777-25648',\n",
       " '3296-Lions-Ruby-Ln_Atlanta_GA_30349_M94651-61280',\n",
       " '5109-Mount-Vernon-Way_Atlanta_GA_30338_M54961-98446',\n",
       " '1835-Wellbourne-Dr-NE_Atlanta_GA_30324_M54073-66404',\n",
       " '2059-Howell-Mill-Rd-NW_Atlanta_GA_30318_M60701-68675',\n",
       " '23-Clay-St-NE_Atlanta_GA_30317_M65053-62094',\n",
       " '3303-Habersham-Rd-NW_Atlanta_GA_30305_M64173-11598',\n",
       " '1460-Valley-View-Rd_Atlanta_GA_30338_M53814-19343',\n",
       " '1929-Clairmont-Ter-NE_Atlanta_GA_30345_M55163-44799',\n",
       " '3494-Briarcliff-Rd-NE_Atlanta_GA_30345_M64504-27020',\n",
       " '2437-Flair-Knoll-Dr-NE_Atlanta_GA_30345_M54532-53559',\n",
       " '700-Edgewater-Trl_Atlanta_GA_30328_M57053-34394',\n",
       " '4070-Annecy-Dr-SW_Atlanta_GA_30331_M66115-38358',\n",
       " '5408-Spelman-Dr-SW_Atlanta_GA_30331_M61928-08599',\n",
       " '1912-Edinburgh-Ter-NE_Atlanta_GA_30307_M64946-84438',\n",
       " '2102-Fisher-Trl-NE_Atlanta_GA_30345_M67846-27992',\n",
       " '1105-Moores-Mill-Rd-NW_Atlanta_GA_30327_M64262-44755',\n",
       " '295-Glen-Lake-Dr_Atlanta_GA_30327_M58036-02759',\n",
       " '405-Glenmanor-Ct_Atlanta_GA_30328_M53397-91510',\n",
       " '1448-N-Highland-Ave-NE_Atlanta_GA_30306_M58642-92012',\n",
       " '411-Chelsea-Cir-NE_Atlanta_GA_30307_M69508-68213',\n",
       " '570-Old-Harbor-Dr_Atlanta_GA_30328_M66648-35840',\n",
       " '475-Grant-St-SE_Atlanta_GA_30312_M55963-26438',\n",
       " '2223-Fairway-Cir-NE_Brookhaven_GA_30319_M66559-85959',\n",
       " '1620-Dupont-Commons-Dr-NW_Atlanta_GA_30318_M66177-34470',\n",
       " '240-Beachland-Dr_Atlanta_GA_30342_M68744-15648',\n",
       " '2050-Eldorado-Dr-NE_Atlanta_GA_30345_M64791-21796',\n",
       " '1263-Beech-Valley-Rd-NE_Atlanta_GA_30306_M66322-33032',\n",
       " '3086-Pine-Valley-Rd_Atlanta_GA_30305_M99933-73081',\n",
       " '4855-Regency-Trce-SW_Atlanta_GA_30331_M65285-74037',\n",
       " '3580-Grove-Gate-Ln_Atlanta_GA_30339_M63906-67673',\n",
       " '310-Hidden-Oak-Ct-SW_Atlanta_GA_30331_M59600-17366',\n",
       " '25-Sanderson-St-NE_Atlanta_GA_30307_M66445-50389',\n",
       " '2067-Fairhaven-Cir-NE_Atlanta_GA_30305_M54243-31518',\n",
       " '737-W-Conway-Dr-NW_Atlanta_GA_30327_M54978-52851',\n",
       " '1631-Harts-Mill-Rd-NE_Brookhaven_GA_30319_M58820-98653',\n",
       " '81-Peachtree-Cir-NE_Atlanta_GA_30309_M66511-29493',\n",
       " '3115-Wood-Valley-Rd-NW_Atlanta_GA_30327_M96847-57624',\n",
       " '414-Peachtree-Battle-Ave-NW_Atlanta_GA_30305_M53807-18106',\n",
       " '4526-Peachtree-Dunwoody-Rd-NE_Atlanta_GA_30342_M51239-45519',\n",
       " '3780-Lake-Haven-Way_Atlanta_GA_30349_M59334-46778',\n",
       " '2151-Zelda-Dr-NE_Atlanta_GA_30345_M69823-98349',\n",
       " '430-Huntcliff-Grn_Atlanta_GA_30350_M67940-87946',\n",
       " '6162-Red-Maple-Rd_Atlanta_GA_30349_M57481-07992',\n",
       " '621-Broadview-Ter-NE_Atlanta_GA_30324_M96099-46323',\n",
       " '558-Park-Dr-NE_Atlanta_GA_30306_M59769-78445',\n",
       " '735-Glenridge-Close-Dr_Atlanta_GA_30328_M53844-78481',\n",
       " '426-Morgan-Pl-SE_Atlanta_GA_30317_M64205-91582',\n",
       " '5114-N-Ivy-Rd-NE_Atlanta_GA_30342_M51450-51434',\n",
       " '2439-Briarmoor-Rd-NE_Atlanta_GA_30345_M53735-04442',\n",
       " '19-Saratoga-Pl-NE_Atlanta_GA_30324_M67937-55702',\n",
       " '475-Trowgate-Ln_Atlanta_GA_30350_M57455-43184',\n",
       " '3180-Barkside-Ct_Atlanta_GA_30341_M50755-89125',\n",
       " '4648-Glenshire-Pl_Atlanta_GA_30338_M69268-86616',\n",
       " '307-Josephine-St-NE_Atlanta_GA_30307_M68084-46004',\n",
       " '1751-N-Pelham-Rd-NE_Atlanta_GA_30324_M58956-83754',\n",
       " '727-Channing-Dr-NW_Atlanta_GA_30318_M54150-78192',\n",
       " '5271-Vernon-Lake-Dr_Atlanta_GA_30338_M58813-79227',\n",
       " '1633-Woodbine-Ave-NE_Atlanta_GA_30317_M54273-49232',\n",
       " '138-Peachtree-Hills-Ave-NE_Atlanta_GA_30305_M65853-92371',\n",
       " '521-Collier-Rd-NW_Atlanta_GA_30318_M52887-18827',\n",
       " '1775-Mount-Paran-Rd-NW_Atlanta_GA_30327_M69589-23434',\n",
       " '1242-Wild-Creek-Trl-NE_Atlanta_GA_30324_M61325-59904',\n",
       " '1165-E-Beechwood-Dr-NW_Atlanta_GA_30327_M63391-54248',\n",
       " '29-Greenland-Trce_Atlanta_GA_30342_M56919-10431',\n",
       " '335-Eureka-Dr-NE_Atlanta_GA_30305_M62822-06110',\n",
       " '1706-Remington-Rd_Atlanta_GA_30341_M62764-46856',\n",
       " '19-Spruell-Springs-Rd_Atlanta_GA_30342_M54997-61087',\n",
       " '2329-Red-Hibiscus-Ct_Atlanta_GA_30331_M99193-10845',\n",
       " '3200-Windsor-Lake-Dr-NE_Brookhaven_GA_30319_M67274-05175',\n",
       " '2836-Alpine-Rd-NE_Atlanta_GA_30305_M69374-39358',\n",
       " '1088-Clifton-Rd-NE_Atlanta_GA_30307_M68922-11620',\n",
       " '1905-Windemere-Dr-NE_Atlanta_GA_30324_M54789-19123',\n",
       " '7632-Auden-Trl_Atlanta_GA_30350_M59946-93066',\n",
       " '120-Huntcliff-Pt_Atlanta_GA_30350_M62945-98702',\n",
       " '9035-River-Run_Atlanta_GA_30350_M67910-39476',\n",
       " '4411-Paces-Battle-NW_Atlanta_GA_30327_M58475-27933',\n",
       " '4751-Rosebrook-Pl-SE_Atlanta_GA_30339_M99887-00592',\n",
       " '313-5th-St-NE_Atlanta_GA_30308_M50052-87519',\n",
       " '3370-Habersham-Rd-NW_Atlanta_GA_30305_M64470-12554',\n",
       " '151-Rockmart-Dr-SW_Atlanta_GA_30314_M51092-68793',\n",
       " '1230-New-Britain-Dr-SW_Atlanta_GA_30331_M50170-03730',\n",
       " '8120-Habersham-Waters-Rd_Atlanta_GA_30350_M60010-29499',\n",
       " '514-Valley-Green-Dr-NE_Atlanta_GA_30342_M56086-58316',\n",
       " '1542-Lavista-Rd-NE_Atlanta_GA_30329_M61455-65717',\n",
       " '5395-Mount-Vernon-Way_Atlanta_GA_30338_M59574-01750',\n",
       " '4906-Cambridge-Dr_Atlanta_GA_30338_M53470-22878',\n",
       " '1176-Lullwater-Rd-NE_Atlanta_GA_30307_M65186-46439',\n",
       " '2086-Lenox-Rd-NE_Atlanta_GA_30324_M51098-72385',\n",
       " '7300-Chattahoochee-Bluff-Dr_Atlanta_GA_30350_M68822-47794',\n",
       " '513-Broadview-Ln-NE_Atlanta_GA_30324_M95454-26633',\n",
       " '600-Broadview-Ter-NE_Atlanta_GA_30324_M50706-22969',\n",
       " '205-Powers-Cv_Atlanta_GA_30327_M64155-30170',\n",
       " '1104-Mason-Woods-Dr-NE_Atlanta_GA_30329_M59076-59940',\n",
       " '2063-Browns-Mill-Rd-SE_Atlanta_GA_30315_M60716-71386',\n",
       " '1190-W-Wesley-Rd-NW_Atlanta_GA_30327_M54820-80430',\n",
       " '1339-Valley-View-Rd_Atlanta_GA_30338_M53898-78712',\n",
       " '6097-Marigold-Way_Atlanta_GA_30349_M91666-57807',\n",
       " '3040-Stone-Rd_Atlanta_GA_30344_M53351-18594',\n",
       " '3008-Ridgeside-Ct_Atlanta_GA_30341_M50764-08975',\n",
       " '2401-Greenglade-Rd-NE_Atlanta_GA_30345_M64162-91417',\n",
       " '985-McDaniel-St-SW_Atlanta_GA_30310_M50701-23104',\n",
       " '1638-Gilstrap-Ln-NW_Atlanta_GA_30318_M53683-72226',\n",
       " '2937-Sylvan-Ramble-Rd-NE_Atlanta_GA_30345_M53793-55195',\n",
       " '2166-Leafmore-Dr_Decatur_GA_30033_M62617-98192',\n",
       " '613-Home-Ave-SE_Atlanta_GA_30312_M64945-99053',\n",
       " '1139-Berne-St-SE_Atlanta_GA_30316_M59674-63034',\n",
       " '2381-Briarleigh-Way_Atlanta_GA_30338_M65688-45590',\n",
       " '6277-Mount-Vernon-Oaks-Dr_Atlanta_GA_30328_M63426-85677',\n",
       " '5697-Whitehall-Walk_Atlanta_GA_30338_M54889-46108',\n",
       " '18-Polo-Dr-NE_Atlanta_GA_30309_M64259-94563',\n",
       " '782-Charles-Allen-Dr-NE_Atlanta_GA_30308_M63092-94078',\n",
       " '3455-Rivers-Call-Blvd_Atlanta_GA_30339_M66133-97284',\n",
       " '2226-Virginia-Pl-NE_Atlanta_GA_30305_M58199-05462',\n",
       " '3277-Chase-Rd_Atlanta_GA_30341_M50947-06553',\n",
       " '279-Lakeview-Ave-NE_Atlanta_GA_30305_M67862-38131',\n",
       " '1576-Beecher-St-SW_Atlanta_GA_30310_M50994-35659',\n",
       " '34-Conifer-Park-Ln-NE_Atlanta_GA_30342_M62329-14059',\n",
       " '1311-Roxboro-Dr-NE_Atlanta_GA_30324_M65173-56653',\n",
       " '1128-Brookhaven-Walk-Way-NE_Brookhaven_GA_30319_M62723-29777',\n",
       " '78-Whitefoord-Ave-SE_Atlanta_GA_30317_M68852-91527',\n",
       " '1612-Drew-Dr-NW_Atlanta_GA_30318_M60381-72576',\n",
       " '1404-Briarcliff-Rd-NE_Atlanta_GA_30306_M65067-21338',\n",
       " '3776-Powers-Ferry-Rd-NW_Atlanta_GA_30342_M69248-63585',\n",
       " '680-Grady-Pl-SW_Atlanta_GA_30310_M55260-64392',\n",
       " '4136-N-Stratford-Rd-NE_Atlanta_GA_30342_M51091-12208',\n",
       " '4040-Annecy-Dr-SW_Atlanta_GA_30331_M50699-49891',\n",
       " '5231-Seaton-Dr_Atlanta_GA_30338_M56282-31680',\n",
       " '171-Lowry-St-NE_Atlanta_GA_30307_M59814-73255',\n",
       " '313-6th-St-NE_Atlanta_GA_30308_M63889-59246',\n",
       " '306-Pinecrest-Rd-NE_Atlanta_GA_30342_M62380-13989',\n",
       " '5360-Lake-Forrest-Dr_Atlanta_GA_30342_M63813-62405',\n",
       " '4715-Lake-Forrest-Dr_Atlanta_GA_30342_M55246-12396',\n",
       " '2820-Harwick-Dr_Atlanta_GA_30350_M68549-72273',\n",
       " '806-Brookridge-Dr-NE_Atlanta_GA_30306_M60550-70190',\n",
       " '5233-Wynterhall-Dr_Atlanta_GA_30338_M61014-34618',\n",
       " '1181-Fairview-Rd-NE_Atlanta_GA_30306_M65258-09724',\n",
       " '6905-Castleton-Dr_Atlanta_GA_30328_M69952-39171',\n",
       " '57-Northwood-Ave-NE_Atlanta_GA_30309_M54241-82454',\n",
       " '8205-Innsbruck-Dr_Atlanta_GA_30350_M66631-45574',\n",
       " '4395-Woodland-Brook-Dr-SE_Atlanta_GA_30339_M58197-53434',\n",
       " '1190-Arborvista-Dr-NE_Atlanta_GA_30329_M61930-42528',\n",
       " '481-Hill-St-SE_Atlanta_GA_30312_M56589-83785',\n",
       " '930-Custer-St_Atlanta_GA_30354_M55744-79240',\n",
       " '1185-Briarcliff-Rd-NE_Atlanta_GA_30306_M67894-69416',\n",
       " '4715-Lake-Forrest-Dr_Atlanta_GA_30342_M90582-21469',\n",
       " '335-Amberidge-Trl_Atlanta_GA_30328_M57061-15053',\n",
       " '643-Larchmont-Cir-NW_Atlanta_GA_30318_M54440-39760',\n",
       " '2792-Lansdowne-Ln-SE_Atlanta_GA_30339_M57514-44961',\n",
       " '2055-E-Roxboro-Rd-NE_Atlanta_GA_30324_M65391-94495',\n",
       " '2523-Tilson-Dr-SE_Atlanta_GA_30317_M62883-99778',\n",
       " '1487-Sylvan-Cir-NE_Brookhaven_GA_30319_M55974-35490',\n",
       " '272-Ferguson-St-NE_Atlanta_GA_30307_M65831-97349',\n",
       " '390-Holderness-St-SW_Atlanta_GA_30310_M52606-86095',\n",
       " '1270-Beech-Valley-Rd-NE_Atlanta_GA_30306_M66275-00258',\n",
       " '2616-Hawthorne-Dr-NE_Atlanta_GA_30345_M58945-94116',\n",
       " '522-Trabert-Ave-NW_Atlanta_GA_30309_M68902-51748',\n",
       " '1157-Hancock-Dr-NE_Atlanta_GA_30306_M68137-66811',\n",
       " '7611-Regency-Cir_Atlanta_GA_30350_M60252-10846',\n",
       " '3042-Jefferson-St_Atlanta_GA_30341_M57508-60137',\n",
       " '2175-Fisher-Trl-NE_Atlanta_GA_30345_M67758-33230',\n",
       " '1039-Avondale-Ave-SE_Atlanta_GA_30312_M97466-70214',\n",
       " '3333-Thornewood-Dr_Atlanta_GA_30340_M55262-46168',\n",
       " '2786-Overlook-Dr-NE_Atlanta_GA_30345_M54181-86307',\n",
       " '1120-Heards-Ferry-Rd_Atlanta_GA_30328_M58608-82438',\n",
       " '1824-Mount-Paran-Rd-NW_Atlanta_GA_30327_M51545-03349',\n",
       " '1352-Middlesex-Ave-NE_Atlanta_GA_30306_M65958-07942',\n",
       " '1087-Lee-Cir-NE_Atlanta_GA_30324_M52528-34873',\n",
       " '515-Pine-Forest-Rd_Atlanta_GA_30342_M55140-59684',\n",
       " '945-Benson-St-SE_Atlanta_GA_30316_M56891-51162',\n",
       " '2356-Sherbrooke-Dr-NE_Atlanta_GA_30345_M54563-46632',\n",
       " '3673-Castlegate-Dr-NW_Atlanta_GA_30327_M53301-03619',\n",
       " '6206-Mountain-Brook-Way_Atlanta_GA_30328_M56587-51966',\n",
       " '2300-Bohler-Rd-NW_Atlanta_GA_30327_M54251-68305',\n",
       " '327-5th-St-NE_Atlanta_GA_30308_M53173-21401',\n",
       " '780-Starlight-Dr_Atlanta_GA_30342_M93642-51244',\n",
       " '3788-Briarcliff-Rd-NE_Atlanta_GA_30345_M68674-70183',\n",
       " '5860-Riverwood-Dr_Atlanta_GA_30328_M65569-63531',\n",
       " '2631-Holliston-Ct_Atlanta_GA_30360_M51500-72371',\n",
       " '200-Eureka-Dr-NE_Atlanta_GA_30305_M52444-01398',\n",
       " '652-Woodward-Ave-SE_Atlanta_GA_30312_M58086-95598',\n",
       " '3891-Wieuca-Rd-NE_Atlanta_GA_30342_M63543-80794',\n",
       " '1822-Berkeley-Oaks-Ln-NE_Atlanta_GA_30329_M58636-83374',\n",
       " '2254-Wayside-Dr-NE_Brookhaven_GA_30319_M66369-80328',\n",
       " '1190-Cumberland-Rd-NE_Atlanta_GA_30306_M65802-47042',\n",
       " '2793-Woodland-Park-Dr-NE_Atlanta_GA_30345_M63661-31459',\n",
       " '2611-Ridgemore-Rd-NW_Atlanta_GA_30318_M69895-46592',\n",
       " '1435-Skyhaven-Rd-SE_Atlanta_GA_30316_M68679-07927',\n",
       " '2034-Pine-Forest-Dr-NE_Atlanta_GA_30345_M52904-50028',\n",
       " '3245-Lions-Ruby-Ln_Atlanta_GA_30349_M94393-38536',\n",
       " '5232-Wynterhall-Dr_Atlanta_GA_30338_M60635-72420',\n",
       " '428-S-Howard-St-SE_Atlanta_GA_30317_M69215-00724',\n",
       " '1146-Ponce-de-Leon-Ave-NE_Atlanta_GA_30306_M61595-56830',\n",
       " '2762-Arbor-Ave-SE_Atlanta_GA_30317_M62280-28951',\n",
       " '4567-Amberly-Ct_Atlanta_GA_30360_M96886-20273',\n",
       " '4288-Olde-Mill-Ln-NE_Atlanta_GA_30342_M65370-67890',\n",
       " '6350-Glen-Oaks-Ln_Atlanta_GA_30328_M68598-40813',\n",
       " '1188-Lanier-Blvd-NE_Atlanta_GA_30306_M68856-85524',\n",
       " '2515-Habersham-Rd-NW_Atlanta_GA_30305_M62495-92816',\n",
       " '2555-Caldwell-Rd-NE_Brookhaven_GA_30319_M56795-32362',\n",
       " '4132-Haverhill-Dr-NE_Atlanta_GA_30342_M55040-97418',\n",
       " '4750-Dudley-Ln_Atlanta_GA_30327_M55687-55418',\n",
       " '2280-Tanglewood-Cir-NE_Atlanta_GA_30345_M67439-70849',\n",
       " '5795-Timberlane-Ter_Atlanta_GA_30328_M68145-07237',\n",
       " '1058-Hunters-Brook-Ct-NE_Brookhaven_GA_30319_M54131-84447',\n",
       " '767-Piedmont-Ave-NE_Atlanta_GA_30308_M61201-76421',\n",
       " '953-Blue-Ridge-Ave-NE_Atlanta_GA_30306_M61560-60711',\n",
       " '7967-Magnolia-Sq_Atlanta_GA_30350_M63886-71850',\n",
       " '3302-W-Andrews-Dr-NW_Atlanta_GA_30305_M60866-80636',\n",
       " '1960-Westminster-Way-NE_Atlanta_GA_30307_M64106-49739',\n",
       " '4245-Rickenbacker-Way-NE_Atlanta_GA_30342_M55970-68608',\n",
       " '3033-E-Pine-Valley-Rd-NW_Atlanta_GA_30305_M58566-41670',\n",
       " '260-Northland-Ridge-Trl_Atlanta_GA_30342_M62278-25470',\n",
       " '2681-Brookwood-Dr-NE_Atlanta_GA_30305_M59774-91424',\n",
       " '1490-Council-Bluff-Dr-NE_Atlanta_GA_30345_M52882-51338',\n",
       " '3540-Cochise-Dr-SE_Atlanta_GA_30339_M68308-15719',\n",
       " '5453-Dunwoody-Glen-Ct_Atlanta_GA_30360_M55631-48010',\n",
       " '481-Glenwood-Ave-SE_Atlanta_GA_30312_M65938-19548',\n",
       " '3091-Sumac-Dr_Atlanta_GA_30360_M52857-45255',\n",
       " '1821-N-Rock-Springs-Rd-NE_Atlanta_GA_30324_M55049-28641',\n",
       " '2155-Venetian-Dr-SW_Atlanta_GA_30311_M57037-89860',\n",
       " '140-Grosvenor-Pl_Atlanta_GA_30328_M58293-84493',\n",
       " '4065-Peachtree-Dunwoody-Rd-NE_Atlanta_GA_30342_M94973-20921',\n",
       " '4555-Jettridge-Dr-NW_Atlanta_GA_30327_M68606-72739',\n",
       " '161-Randolph-St-NE_Atlanta_GA_30312_M56319-17339',\n",
       " '535-Old-Cobblestone-Dr_Atlanta_GA_30350_M50274-01814',\n",
       " '1356-Peachtree-Battle-Ave-NW_Atlanta_GA_30327_M66558-02257',\n",
       " '3201-Teton-Dr-SE_Atlanta_GA_30339_M65097-32359',\n",
       " '4449-Glengary-Dr-NE_Atlanta_GA_30342_M68299-72603',\n",
       " '3103-Green-Valley-Dr_Atlanta_GA_30344_M58975-95689',\n",
       " '1770-Russell-St_Atlanta_GA_30316_M52896-76551',\n",
       " '3979-Doral-Cir_Atlanta_GA_30360_M62011-69653',\n",
       " '2872-Bainbridge-Way-SE_Atlanta_GA_30339_M58808-69580',\n",
       " '1680-Bristol-Dr-NE_Atlanta_GA_30329_M54816-61579',\n",
       " '2267-Melante-Dr-NE_Atlanta_GA_30324_M68210-99457',\n",
       " '358-Loomis-Ave-SE_Atlanta_GA_30312_M62797-16292',\n",
       " '1211-Oakdale-Rd-NE_Atlanta_GA_30307_M65191-30897',\n",
       " '830-Belgrade-Ave-NE_Atlanta_GA_30306_M55174-60147',\n",
       " '1696-Harts-Run_Atlanta_GA_30341_M62347-46326',\n",
       " '2555-Dayview-Ln_Atlanta_GA_30331_M96218-71378',\n",
       " '1857-Defoor-Ave-NW_Atlanta_GA_30318_M50876-57695',\n",
       " '2267-Echo-Trl-NE_Atlanta_GA_30345_M68363-15855',\n",
       " '1575-Aragon-Way-NE_Brookhaven_GA_30319_M57225-74525',\n",
       " '3990-Paces-Ferry-Rd-NW_Atlanta_GA_30327_M68565-05251',\n",
       " '965-Samples-Ln-NW_Atlanta_GA_30318_M54463-91183',\n",
       " '4320-Brookview-Dr-SE_Atlanta_GA_30339_M52874-83977',\n",
       " '1275-The-By-Way-NE_Atlanta_GA_30306_M67859-29152',\n",
       " '203-Flora-Ave-NE_Atlanta_GA_30307_M69129-04519',\n",
       " '1600-Glenview-Dr-SW_Atlanta_GA_30331_M63372-03578',\n",
       " '100-Barnard-Pl_Atlanta_GA_30328_M61584-42766',\n",
       " '7470-Princeton-Trce_Atlanta_GA_30328_M51928-73972',\n",
       " '172-Lindbergh-Dr-NE_Atlanta_GA_30305_M61221-76706',\n",
       " '1651-Geary-Dr-NW_Atlanta_GA_30309_M66620-37042',\n",
       " '1080-Huntcliff_Atlanta_GA_30350_M62185-15556',\n",
       " '1485-N-Morningside-Dr-NE_Atlanta_GA_30306_M57351-83191',\n",
       " '2493-Parkdale-Pl-NE_Atlanta_GA_30305_M62896-02436',\n",
       " '1060-Winding-Creek-Trl_Atlanta_GA_30328_M58719-95913',\n",
       " '1392-Lively-Ridge-Rd-NE_Atlanta_GA_30329_M59956-44831',\n",
       " '3094-Towerview-Dr-NE_Atlanta_GA_30324_M68097-39642',\n",
       " '1490-Chevron-Dr_Atlanta_GA_30350_M51929-71248',\n",
       " '3088-Valleydale-Dr-SW_Atlanta_GA_30311_M65473-79886',\n",
       " '49-Candler-Rd-NE_Atlanta_GA_30317_M54975-95534',\n",
       " '2291-Hosea-L-Williams-Dr-SE_Atlanta_GA_30317_M67925-19781',\n",
       " '2192-Lenox-Rd-NE_Atlanta_GA_30324_M64985-80395',\n",
       " '1287-Euclid-Ave-NE_Atlanta_GA_30307_M64678-23917',\n",
       " '510-Winton-Ter-NE_Atlanta_GA_30308_M67255-50284',\n",
       " '2202-Bonnavit-Ct-NE_Atlanta_GA_30345_M55425-54129',\n",
       " '611-Pickett-St-SE_Atlanta_GA_30316_M69280-50603',\n",
       " '11-Claire-Dr-SW_Atlanta_GA_30315_M53584-61839',\n",
       " '3556-Kingsboro-Rd-NE_Atlanta_GA_30319_M62828-83194',\n",
       " '1281-Avalon-Pl-NE_Atlanta_GA_30306_M52106-63125',\n",
       " '2953-Hardman-Ct-NE_Atlanta_GA_30305_M64465-86181',\n",
       " '2168-Somerset-Pl-SE_Atlanta_GA_30316_M59607-24717',\n",
       " '3178-Sugarplum-Rd-NE_Atlanta_GA_30345_M59593-99590',\n",
       " '2807-McClave-Dr_Atlanta_GA_30340_M56492-23778',\n",
       " '476-Maynard-Ter-SE_Atlanta_GA_30316_M65610-11518',\n",
       " '1196-Shore-Dr-SW_Atlanta_GA_30311_M90414-99775',\n",
       " '7770-N-Spalding-Lake-Dr_Atlanta_GA_30350_M69231-65799',\n",
       " '1405-Graham-St-SW_Atlanta_GA_30310_M69836-26382',\n",
       " '790-Highland-Ter-NE_Atlanta_GA_30306_M61911-81859',\n",
       " '1115-Ralph-Rd-NE_Atlanta_GA_30324_M60894-80474',\n",
       " '3360-Hidden-Acres-Dr_Atlanta_GA_30340_M54986-69370',\n",
       " '6094-Marigold-Way_Atlanta_GA_30349_M95438-63909',\n",
       " '1931-Peeler-Rd_Atlanta_GA_30338_M50360-38587',\n",
       " '4015-Wieuca-Rd-NE_Atlanta_GA_30342_M68984-63583',\n",
       " '4465-Orleans-Ct_Atlanta_GA_30338_M68758-32275',\n",
       " '130-Bonnie-Ln_Atlanta_GA_30328_M57879-82031',\n",
       " '1251-Cumberland-Rd-NE_Atlanta_GA_30306_M65783-46479',\n",
       " '3941-Paces-Ferry-Dr-SE_Atlanta_GA_30339_M68459-08426',\n",
       " '405-Georgia-Ave-SE_Atlanta_GA_30312_M55325-64806',\n",
       " '1598-Athens-Ave-SW_Atlanta_GA_30310_M90683-77108',\n",
       " '1151-Goodwin-Rd-NE_Atlanta_GA_30324_M54252-40942',\n",
       " '2071-Fairhaven-Cir-NE_Atlanta_GA_30305_M62202-12029',\n",
       " '311-Lamon-Ave-SE_Atlanta_GA_30316_M65410-28750',\n",
       " '2519-Lauderdale-Dr-NE_Atlanta_GA_30345_M53113-82115',\n",
       " '1107-E-Beechwood-Dr-NW_Atlanta_GA_30327_M60500-81629',\n",
       " '1135-Vickers-St-SE_Atlanta_GA_30316_M63584-03590',\n",
       " '1173-Veltre-Cir-SW_Atlanta_GA_30311_M99529-23389',\n",
       " '359-Irwin-St-NE_Atlanta_GA_30312_M66068-62628',\n",
       " '5178-S-Trimble-Rd_Atlanta_GA_30342_M69725-72215',\n",
       " '2761-Dover-Rd-NW_Atlanta_GA_30327_M56186-24770',\n",
       " '4886-Valley-View-Ct_Atlanta_GA_30338_M53861-14851',\n",
       " '2790-Zane-Grey-Dr-SE_Atlanta_GA_30316_M57995-30622',\n",
       " '3671-Cold-Spring-Ln_Atlanta_GA_30341_M62383-98389',\n",
       " '1507-Lively-Ridge-Rd-NE_Atlanta_GA_30329_M59990-73297',\n",
       " '1341-Memorial-Dr-SE_Atlanta_GA_30317_M65117-74985',\n",
       " '371-Hooper-St-SE_Atlanta_GA_30317_M65667-04984',\n",
       " '298-Roy-St-SW_Atlanta_GA_30310_M60681-68022',\n",
       " '4909-Waxleaf-Dr-SW_Atlanta_GA_30331_M99350-24444',\n",
       " '221-Robin-Hood-Rd-NE_Atlanta_GA_30309_M61451-57045',\n",
       " '5027-Greenpine-Dr_Atlanta_GA_30342_M50945-93348',\n",
       " '7750-Landowne-Dr_Atlanta_GA_30350_M58003-52398',\n",
       " '5271-Lake-Forrest-Dr_Atlanta_GA_30342_M53184-01227',\n",
       " '1967-Commodore-Ln_Atlanta_GA_30341_M65578-79253',\n",
       " '313-Sisson-Ave-NE_Atlanta_GA_30317_M69223-71139',\n",
       " '1890-Spalding-Dr_Atlanta_GA_30350_M60850-26933',\n",
       " '55-Daniel-Ave-NE_Atlanta_GA_30317_M61018-44480',\n",
       " '1260-Monroe-Dr-NE_Atlanta_GA_30306_M61755-13716',\n",
       " '9-Palisades-Rd-NE_Atlanta_GA_30309_M61686-35964',\n",
       " '230-Bill-Lucas-Dr-SE_Atlanta_GA_30315_M50845-82108',\n",
       " '405-9th-St-NE_Atlanta_GA_30309_M60162-94014',\n",
       " '1925-Brantley-Walk-Ln-NW_Atlanta_GA_30318_M69646-73394',\n",
       " '4906-Zoya-Ct-SW_Atlanta_GA_30331_M98016-15568',\n",
       " '5676-Wyncreek-Cir-SW_Atlanta_GA_30331_M90964-81291',\n",
       " '1008-State-St-NW_Atlanta_GA_30318_M52771-56938',\n",
       " '1002-Custer-Ave-SE_Atlanta_GA_30316_M94872-28529',\n",
       " '510-Oak-Dr_Atlanta_GA_30354_M96396-08294',\n",
       " '372-Ashburton-Ave-SE_Atlanta_GA_30317_M66985-60112',\n",
       " '2611-Briers-North-Dr_Atlanta_GA_30360_M50949-56042',\n",
       " '225-Midvale-Dr-NE_Atlanta_GA_30342_M67541-85568',\n",
       " '3261-Lions-Ruby-Ln_South-Fulton_GA_30349_M98277-31085',\n",
       " '327-6th-St-NE_Atlanta_GA_30308_M54335-62099',\n",
       " '2890-Howell-Mill-Rd-NW_Atlanta_GA_30327_M50457-70775',\n",
       " '850-Jett-Ferry-Mnr_Atlanta_GA_30350_M59664-78375',\n",
       " '3389-Rilman-Rd-NW_Atlanta_GA_30327_M63411-26714',\n",
       " '2018-Presley-Way-NE_Atlanta_GA_30317_M68768-29009',\n",
       " '1471-Hawthorne-Ave-NW_Atlanta_GA_30309_M67112-65352',\n",
       " '3375-Ridgewood-Rd-NW_Atlanta_GA_30327_M62610-31991',\n",
       " '54-Boulevard-SE_Atlanta_GA_30312_M56554-56512',\n",
       " '2662-Foster-Ridge-Rd-NE_Atlanta_GA_30345_M54267-94739',\n",
       " '2569-Ridgewood-Ter-NW_Atlanta_GA_30318_M63552-07645',\n",
       " '1247-Lucile-Ave-SW_Atlanta_GA_30310_M54942-10235',\n",
       " '1005-The-16th-Fairway_Atlanta_GA_30350_M68226-40995',\n",
       " '1843-Markone-St-NW_Atlanta_GA_30318_M51343-28992',\n",
       " '610-Glenforest-Rd_Atlanta_GA_30328_M55065-98272',\n",
       " '81-Delmont-Dr-NE_Atlanta_GA_30305_M96574-90913',\n",
       " '2664-Rosemary-St-NW_Atlanta_GA_30318_M69345-11093',\n",
       " '2198-Oakawana-Dr-NE_Atlanta_GA_30345_M68196-57978',\n",
       " '4001-Riverchess-Dr-SW_Atlanta_GA_30331_M67470-04767',\n",
       " '490-Hammons-Way_Atlanta_GA_30315_M99478-48052',\n",
       " '1065-Berne-St-SE_Atlanta_GA_30316_M69140-54016',\n",
       " '276-Colewood-Way_Atlanta_GA_30328_M65262-43799',\n",
       " '20-W-Belle-Isle-Rd_Atlanta_GA_30342_M65339-05512',\n",
       " '6305-River-Chase-Cir_Atlanta_GA_30328_M60963-34961',\n",
       " '2908-N-Hills-Dr-NE_Atlanta_GA_30305_M54282-53888',\n",
       " '1354-McPherson-Ave-SE_Atlanta_GA_30316_M65193-85461',\n",
       " '2238-Pinecliff-Dr-NE_Atlanta_GA_30345_M69347-72475',\n",
       " '608-S-Evelyn-Pl-NW_Atlanta_GA_30318_M69638-85060',\n",
       " '1037-North-Ave-NE_Atlanta_GA_30306_M64752-51915',\n",
       " '3831-Lake-Haven-Way_Atlanta_GA_30349_M59157-77403',\n",
       " '654-Woodward-Ave-SE_Atlanta_GA_30312_M69704-84343',\n",
       " '1946-Jeffery-Rd-NW_Atlanta_GA_30318_M60990-06918',\n",
       " '120-W-Belle-Isle-Rd_Atlanta_GA_30342_M68588-38637',\n",
       " '175-River-Court-Pkwy_Atlanta_GA_30328_M55521-82743',\n",
       " '1580-Johnson-Rd-NW_Atlanta_GA_30318_M65597-72752',\n",
       " '5175-Cascade-Rd-SW_Atlanta_GA_30331_M65685-95030',\n",
       " '1099-Vista-Trl-NE_Atlanta_GA_30324_M60666-36451',\n",
       " '224-Peachtree-Way-NE_Atlanta_GA_30305_M61303-37948',\n",
       " '82-Lakeland-Dr-NW_Atlanta_GA_30305_M55974-48604',\n",
       " '2762-Dresden-Dr_Atlanta_GA_30341_M64820-91699',\n",
       " '636-Pauley-Pl_Atlanta_GA_30328_M58705-19796',\n",
       " '1942-Vance-Dr-NE_Atlanta_GA_30345_M67809-75930',\n",
       " '2292-Pembrook-Pl-NE_Atlanta_GA_30324_M54951-64964',\n",
       " '3049-Clarendale-Dr-NW_Atlanta_GA_30327_M69411-08387',\n",
       " '1039-Fern-Ave-SE_Atlanta_GA_30315_M59826-01230',\n",
       " '775-Glenridge-Close-Dr_Atlanta_GA_30328_M52126-44517',\n",
       " '215-Estoria-St-SE_Atlanta_GA_30316_M58771-53837',\n",
       " '1634-Lenox-Rd-NE_Atlanta_GA_30306_M50582-88983',\n",
       " '5625-Roberts-Dr_Atlanta_GA_30338_M61324-39882',\n",
       " '976-Dunning-St-SE_Atlanta_GA_30315_M54436-02685',\n",
       " '465-Forest-Hills-Dr_Atlanta_GA_30342_M63632-00563',\n",
       " '646-Augusta-Pl-SE_Atlanta_GA_30315_M58052-04675',\n",
       " '1691-Ezra-Church-Dr-NW_Atlanta_GA_30314_M58875-68002',\n",
       " '3230-W-Andrews-Dr-NW_Atlanta_GA_30305_M64906-67420',\n",
       " '1035-Amsterdam-Ave-NE_Atlanta_GA_30306_M64503-33075',\n",
       " '1611-Malfre-Ln_Atlanta_GA_30338_M59738-73297',\n",
       " '1382-Wesley-Cir-NW_Atlanta_GA_30327_M68551-00518',\n",
       " '3698-Embry-Cir_Atlanta_GA_30341_M50934-76777',\n",
       " '1533-Willowbrook-Dr-SW_Atlanta_GA_30311_M61988-55495',\n",
       " '1910-Windham-Park-NE_Atlanta_GA_30324_M58471-26231',\n",
       " '1458-Obie-Ave-SE_Atlanta_GA_30315_M99362-76045',\n",
       " '320-Hammond-Dr_Atlanta_GA_30328_M95798-16961',\n",
       " '1629-Woodbine-Ave-SE_Atlanta_GA_30317_M61038-56841',\n",
       " '2983-Ringle-Rd_Atlanta_GA_30341_M66056-28298',\n",
       " '991-Joseph-E-Boone-Blvd-NW_Atlanta_GA_30314_M52261-80981',\n",
       " '966-Bibbs-Cir-NW_Atlanta_GA_30318_M97268-36993',\n",
       " '561-Culberson-St-SW_Atlanta_GA_30310_M52361-05094',\n",
       " '3939-Dahlwiny-Ct_Atlanta_GA_30350_M65802-14788',\n",
       " '1660-S-Gordon-St-SW_Atlanta_GA_30310_M63731-05967',\n",
       " '5680-Whitner-Dr_Atlanta_GA_30327_M67524-99155',\n",
       " '1364-Marion-St-SE_Atlanta_GA_30315_M50401-90667',\n",
       " '605-Forest-Hills-Dr_Atlanta_GA_30342_M55280-92497',\n",
       " '232-Lindbergh-Dr-NE_Atlanta_GA_30305_M67237-05879',\n",
       " '783-Virginia-Cir-NE_Atlanta_GA_30306_M58957-01424',\n",
       " '156-Lake-Forrest-Ln-NE_Atlanta_GA_30342_M61252-28142',\n",
       " '585-Old-Cobblestone-Dr_Atlanta_GA_30350_M60149-29695',\n",
       " '2457-Sunset-Dr-NE_Atlanta_GA_30345_M68423-90203',\n",
       " '2837-N-Hills-Dr-NE_Atlanta_GA_30305_M64211-33543',\n",
       " '309-Kendrick-Ave-SE_Atlanta_GA_30315_M65201-26743',\n",
       " '155-Mellrich-Ave-NE_Atlanta_GA_30317_M69568-76253',\n",
       " '526-Hill-St-SE_Atlanta_GA_30312_M69544-37703',\n",
       " '779-Atwood-St-SW_Atlanta_GA_30310_M59616-07388',\n",
       " '2438-2nd-St-NW_Atlanta_GA_30318_M62201-50092',\n",
       " '2477-Edwards-Dr-NW_Atlanta_GA_30318_M54316-98435',\n",
       " '1102-Sanders-Ave-SE_Atlanta_GA_30316_M99245-66202',\n",
       " '225-Winter-Ave-NE_Atlanta_GA_30317_M69422-30738',\n",
       " '229-Dovecrest-Dr_Atlanta_GA_30305_M67795-69818',\n",
       " '1647-Dupont-Commons-Dr-NW_Atlanta_GA_30318_M50572-66692',\n",
       " '660-Timm-Valley-Rd-NE_Atlanta_GA_30305_M68595-95176',\n",
       " '1283-Beecher-St-SW_Atlanta_GA_30310_M65009-02255',\n",
       " '971-Washington-Pl-SW_Atlanta_GA_30314_M55021-47881',\n",
       " '2526-Cosmos-Dr-NE_Atlanta_GA_30345_M58382-10745',\n",
       " '378-Grant-Park-Pl-SE_Atlanta_GA_30315_M67161-09925',\n",
       " '1600-Belle-Isle-Cir-NE_Atlanta_GA_30329_M58611-24162',\n",
       " '376-Hooper-St-SE_Atlanta_GA_30317_M66946-09922',\n",
       " '807-Gilbert-St-SE_Atlanta_GA_30316_M52579-42936',\n",
       " '2044-Howard-Cir-NE_Atlanta_GA_30307_M50434-10946',\n",
       " '1032-Williams-Mill-Rd-NE_Atlanta_GA_30306_M64782-70456',\n",
       " '6130-Riverwood-Dr_Atlanta_GA_30328_M56851-10360',\n",
       " '1967-Highgrove-Ct_Atlanta_GA_30345_M94001-55217',\n",
       " '718-Terry-St-SE_Atlanta_GA_30315_M69605-61026',\n",
       " '2108-Main-St-NW_Atlanta_GA_30318_M51293-92035',\n",
       " '2233-Clairmont-Rd-NE_Atlanta_GA_30329_M52746-86534',\n",
       " '80-Randolph-St-NE_Atlanta_GA_30312_M59476-35107',\n",
       " '1447-Southland-Vista-Ct-NE_Atlanta_GA_30329_M61327-12176',\n",
       " '330-Lake-Claire-Ct-NE_Atlanta_GA_30307_M68742-94925',\n",
       " '2842-Briarcliff-Rd-NE_Atlanta_GA_30329_M54436-87584',\n",
       " '331-Eleanor-St-SE_Atlanta_GA_30317_M66301-02576',\n",
       " '778-Rosedale-Ave-SE_Atlanta_GA_30312_M68590-73453',\n",
       " '805-Loridans-Cir-NE_Atlanta_GA_30342_M50995-12453',\n",
       " '1386-Elizabeth-Ave-SW_Atlanta_GA_30310_M59590-47045',\n",
       " '4725-Guilford-Forest-Dr-SW_Atlanta_GA_30331_M55871-54461',\n",
       " '89-Waddell-St-NE_Atlanta_GA_30307_M56213-33811',\n",
       " '3781-Narmore-Dr-NE_Atlanta_GA_30319_M55006-11753',\n",
       " '2110-Timball-Rd-NW_Atlanta_GA_30318_M66077-78898',\n",
       " '1357-Grant-St-SE_Atlanta_GA_30315_M53617-74596',\n",
       " '3864-Lake-Sanctuary-Way_Atlanta_GA_30349_M58772-61233',\n",
       " '205-Whitefoord-Ave-NE_Atlanta_GA_30307_M67070-08109',\n",
       " '2904-Arden-Rd-NW_Atlanta_GA_30327_M64795-04420',\n",
       " '2045-Robson-Pl-NE_Atlanta_GA_30317_M68813-38188',\n",
       " '1976-Boyd-Trace-Ln-NW_Atlanta_GA_30318_M60995-65907',\n",
       " '2751-Margaret-Mitchell-Dr-NW_Atlanta_GA_30327_M60310-97856',\n",
       " '380-Garden-Ln-NW_Atlanta_GA_30309_M56436-66596',\n",
       " '237-Georgia-Ave-SE_Atlanta_GA_30312_M63667-25267',\n",
       " '1825-Colland-Dr-NW_Atlanta_GA_30318_M66317-02565',\n",
       " '332-Allison-Dr-NE_Atlanta_GA_30342_M51786-13191',\n",
       " '1646-May-Ave-SE_Atlanta_GA_30316_M63561-23367',\n",
       " '1747-Hollingsworth-Blvd-NW_Atlanta_GA_30318_M65762-27332',\n",
       " '3264-Lions-Ruby-Ln_College-Park_GA_30349_M97058-75352',\n",
       " '387-Hillside-Dr-SW_Atlanta_GA_30310_M53892-23851',\n",
       " '970-Lindbergh-Dr-NE_Atlanta_GA_30324_M68840-60007',\n",
       " '97-Mortimer-St-SE_Atlanta_GA_30317_M65889-12337',\n",
       " '2449-Crestdale-Cir-SE_Atlanta_GA_30316_M92799-81741',\n",
       " '1851-Fern-Creek-Ln-NE_Atlanta_GA_30329_M53093-43861',\n",
       " '2525-Northside-Dr-NW_Atlanta_GA_30305_M53090-18433',\n",
       " '1628-Cecile-Ave-SE_Atlanta_GA_30316_M63944-70022',\n",
       " '3865-Vic-Ar-Ct_Atlanta_GA_30360_M60567-38231',\n",
       " '3139-Stonegate-Dr-SW_Atlanta_GA_30331_M97220-98991',\n",
       " '1419-Coretta-Bnd-NW_Atlanta_GA_30318_M94404-96653',\n",
       " '579-Amsterdam-Ave-NE_Atlanta_GA_30306_M50772-08710',\n",
       " '175-Sampson-St-NE_Atlanta_GA_30312_M63518-44600',\n",
       " '189-15th-St-NE_Atlanta_GA_30309_M65966-02235',\n",
       " '2603-Apple-Valley-Rd-NE_Brookhaven_GA_30319_M56765-51086',\n",
       " '1054-White-Oak-Ave-SW_Atlanta_GA_30310_M55284-86678',\n",
       " '879-Wildwood-Rd-NE_Atlanta_GA_30324_M66288-62130',\n",
       " '2469-Jewel-St_Atlanta_GA_30344_M92064-71220',\n",
       " '2461-Oak-Grove-Ests-NE_Atlanta_GA_30345_M50992-73817',\n",
       " '4500-Stella-Dr_Atlanta_GA_30327_M55528-80127',\n",
       " '1678-Nottingham-Way-NE_Atlanta_GA_30309_M54186-19679',\n",
       " '235-Hillside-Dr-NW_Atlanta_GA_30342_M65075-32444',\n",
       " '826-Gaston-St-SW_Atlanta_GA_30310_M99573-12695',\n",
       " '1400-Bouldercrest-Rd-SE_Atlanta_GA_30316_M67912-51884',\n",
       " '83-Ormond-St-SE_Atlanta_GA_30315_M51569-45231',\n",
       " '21-Cliftwood-Dr_Atlanta_GA_30328_M59769-86485',\n",
       " '2910-Coles-Way_Atlanta_GA_30350_M62545-58969',\n",
       " '6454-Meridian-Way_Atlanta_GA_30328_M95441-80073',\n",
       " '2134-Whittier-Pl-NW_Atlanta_GA_30318_M58173-77156',\n",
       " '2601-Drew-Valley-Rd-NE_Brookhaven_GA_30319_M55700-45022',\n",
       " '2431-Nancy-Ln-NE_Atlanta_GA_30345_M54325-33695',\n",
       " '1434-Fairmont-Ave-NW_Atlanta_GA_30318_M92022-61446',\n",
       " '1192-Coronation-Dr_Atlanta_GA_30338_M61385-88763',\n",
       " '3034-Payton-Rd-NE_Atlanta_GA_30345_M66868-97095',\n",
       " '2570-Hawthorne-Dr-NE_Atlanta_GA_30345_M58941-46924',\n",
       " '3560-Embry-Cir_Atlanta_GA_30341_M51063-33527',\n",
       " '2698-Glenrose-Hl_Atlanta_GA_30341_M60333-72486',\n",
       " '1452-Obie-Ave-SE_Atlanta_GA_30315_M97336-39925',\n",
       " '85-Rockyford-Rd-NE_Atlanta_GA_30317_M69570-27395',\n",
       " '1158-Virginia-Ave-NE_Atlanta_GA_30306_M52455-60890',\n",
       " '1800-Rosalind-Dr-NE_Atlanta_GA_30329_M53283-67162',\n",
       " '110-Landseer-Way_Atlanta_GA_30350_M58938-52648',\n",
       " '2108-Drew-Dr-NW_Atlanta_GA_30318_M98122-52418',\n",
       " '670-Willoughby-Way-NE_Atlanta_GA_30312_M61715-01619',\n",
       " '3320-David-Rd_Atlanta_GA_30341_M50930-66852',\n",
       " '3776-Lake-Haven-Way_Atlanta_GA_30349_M57167-70360',\n",
       " '1934-Westwood-Ave-SW_Atlanta_GA_30310_M65864-04849',\n",
       " '3128-Stonegate-Dr-SW_Atlanta_GA_30331_M93011-31432',\n",
       " '309-Rockyford-Rd-NE_Atlanta_GA_30317_M69877-32454',\n",
       " '1780-Morningtide-Ln-NE_Atlanta_GA_30324_M99474-73938',\n",
       " '328-Clifford-Ave-NE_Atlanta_GA_30317_M69522-92543',\n",
       " '2171-Edgemore-Dr-SE_Atlanta_GA_30316_M59294-16953',\n",
       " '7300-Wynhill-Dr_Atlanta_GA_30328_M68250-74654',\n",
       " '469-Emily-Reed-Ln-Lot-11_Atlanta_GA_30342_M96499-99901',\n",
       " '1403-Sheridan-Rd-NE_Atlanta_GA_30324_M54055-27259',\n",
       " '4951-Coldstream-Dr_Atlanta_GA_30360_M52027-29148',\n",
       " '4351-N-Elizabeth-Ln-SE_Atlanta_GA_30339_M57429-85592',\n",
       " '2660-Spalding-Dr_Dunwoody_GA_30350_M51737-04756',\n",
       " '3728-Peachtree-Dunwoody-Rd-SE_Atlanta_GA_30342_M91715-66770',\n",
       " '974-Rice-St-NW_Atlanta_GA_30318_M59340-05767',\n",
       " '553-Irwin-St-NE_Atlanta_GA_30312_M65294-31673',\n",
       " '1420-Coretta-Bnd-NW_Atlanta_GA_30318_M92435-10657',\n",
       " '4403-Gillon-Cir-SE_Atlanta_GA_30339_M92414-95299',\n",
       " '1721-Springer-St-NW_Atlanta_GA_30318_M66958-17747',\n",
       " '180-4th-Ave-SE_Atlanta_GA_30317_M62956-66636',\n",
       " '1640-Hosea-L-Williams-Dr-NE_Atlanta_GA_30317_M65238-08735',\n",
       " '4-Bentley-Trace-Mnr_Atlanta_GA_30327_M51759-97574',\n",
       " '911-Monroe-Cir-NE_Atlanta_GA_30308_M53387-20275',\n",
       " '3183-Clairwood-Ter_Atlanta_GA_30341_M62012-44244',\n",
       " '3925-Sheldon-Dr-NE_Atlanta_GA_30342_M54891-83704',\n",
       " '1808-Ellen-St-NW_Atlanta_GA_30318_M60891-97203',\n",
       " '979-Hall-Pl-NW_Atlanta_GA_30318_M67427-04509',\n",
       " '500-Tanacrest-Dr_Atlanta_GA_30328_M57686-67940',\n",
       " '1179-Booker-Ave-SW_Atlanta_GA_30310_M63223-56204',\n",
       " '4219-Harrogate-Dr-NW_Atlanta_GA_30327_M68447-18544',\n",
       " '583-Flat-Shoals-Ave-SE_Atlanta_GA_30316_M64638-21940',\n",
       " '2069-Gramercy-Cir_Atlanta_GA_30341_M63193-40016',\n",
       " '1055-Johnson-Grv_Atlanta_GA_30318_M99437-99012',\n",
       " '1912-Canmont-Dr-NE_Brookhaven_GA_30319_M57824-23629',\n",
       " '2376-Melinda-Dr-NE_Atlanta_GA_30345_M54583-21727',\n",
       " '60-Newcastle-St-SW_Atlanta_GA_30314_M61921-26806',\n",
       " '861-Falcon-Dr-SW_Atlanta_GA_30311_M60899-72634',\n",
       " '3416-Harrison-Rd_Atlanta_GA_30344_M60501-54387',\n",
       " '815-Crestridge-Dr-NE_Atlanta_GA_30306_M66337-44671',\n",
       " '2204-Parkview-Ct-NW_Atlanta_GA_30318_M91326-20667',\n",
       " '3265-Lions-Ruby-Ln_College-Park_GA_30349_M92811-78817',\n",
       " '380-Kendrick-Ave-SE_Atlanta_GA_30315_M66110-94499',\n",
       " '1721-S-Gordon-St-SW_Atlanta_GA_30310_M55035-33721',\n",
       " '399-Glencastle-Dr_Atlanta_GA_30327_M58520-48484',\n",
       " '3719-Northbrook-Ct_Atlanta_GA_30340_M54921-47830',\n",
       " '945-Longley-Ave-NW_Atlanta_GA_30318_M65035-34319',\n",
       " '1060-Glenwood-Ave-SE_Atlanta_GA_30316_M64045-86945',\n",
       " '776-Wellesley-Dr-NW_Atlanta_GA_30305_M51950-14578',\n",
       " '662-S-Grand-Ave-NW_Atlanta_GA_30318_M57272-40471',\n",
       " '1343-Brookhaven-Garden-Ln-NE_Brookhaven_GA_30319_M53786-01652',\n",
       " '790-Martina-Dr-NE_Atlanta_GA_30305_M64112-66292',\n",
       " '2159-James-Aly_Atlanta_GA_30345_M93436-70068',\n",
       " '3275-Leslie-Ct-NE_Atlanta_GA_30345_M53587-09862',\n",
       " '1244-Village-Run-NE_Brookhaven_GA_30319_M61705-74373',\n",
       " '508-Longview-Ln_Atlanta_GA_30349_M55566-75871',\n",
       " '169-Moreland-Ave-SE_Atlanta_GA_30316_M69713-83586',\n",
       " '1194-Warfield-St-NW_Atlanta_GA_30318_M63733-93425',\n",
       " '595-Overbrook-Dr-NW_Atlanta_GA_30318_M50957-09064',\n",
       " '1964-North-Ave-NW_Atlanta_GA_30318_M56718-08344',\n",
       " '2772-Dunnington-Cir_Atlanta_GA_30341_M69494-51892',\n",
       " '5270-Green-Hill-Pl_Atlanta_GA_30342_M67857-23928',\n",
       " '2251-Nancy-Creek-Dr_Atlanta_GA_30341_M60244-67512',\n",
       " '4203-N-Carver-Dr_Atlanta_GA_30360_M92746-21957',\n",
       " '966-Blue-Ridge-Ave-NE_Atlanta_GA_30306_M51925-24760',\n",
       " '720-Edgewater-Trl_Atlanta_GA_30328_M54401-48021',\n",
       " '170-Berwick-Dr_Atlanta_GA_30328_M53680-61167',\n",
       " '727-Garibaldi-St-SW_Atlanta_GA_30310_M90727-65231',\n",
       " '3910-Clairmont-Rd_Atlanta_GA_30341_M61922-63152',\n",
       " '816-Berkeley-Ave-NW_Atlanta_GA_30318_M60117-72943',\n",
       " '1959-Highgrove-Ct_Decatur_GA_30345_M98586-53650',\n",
       " '1671-Laurel-Ave-NW_Atlanta_GA_30318_M61945-09014',\n",
       " '1412-Carroll-Dr-NW_Atlanta_GA_30318_M64790-87861',\n",
       " '1533-N-Ellington-St-SE_Atlanta_GA_30317_M59476-86771',\n",
       " '1080-Edie-Ave-SE_Atlanta_GA_30312_M64938-16468',\n",
       " '3399-Heartwood-Ln_Atlanta_GA_30340_M55225-94105',\n",
       " '1928-Main-St-NW_Atlanta_GA_30318_M53383-24688',\n",
       " '2100-Drew-Dr-NW_Atlanta_GA_30318_M97928-62892',\n",
       " '135-River-Lndg_Atlanta_GA_30350_M61028-98841',\n",
       " '1992-Highgrove-Ct_Atlanta_GA_30345_M90805-47688',\n",
       " '1666-Wayland-Cir-NE_Brookhaven_GA_30319_M55600-57750',\n",
       " '2129-Arlington-Ave-NE_Atlanta_GA_30324_M60985-73364',\n",
       " '1076-Lanier-Blvd-NE_Atlanta_GA_30306_M51149-02248',\n",
       " '2452-King-Arthur-Cir-NE_Atlanta_GA_30345_M53923-98274',\n",
       " '770-Waters-Dr-SW_Atlanta_GA_30310_M52647-33898',\n",
       " '827-Sherwood-Rd-NE_Atlanta_GA_30324_M69239-16193',\n",
       " '2075-Old-Georgian-Ter-NW_Atlanta_GA_30318_M65313-69685',\n",
       " '1509-Elleby-Rd-SE_Atlanta_GA_30315_M59514-58275',\n",
       " '3268-Lions-Ruby-Ln_College-Park_GA_30349_M96754-26649',\n",
       " '2869-Woodland-Park-Dr-NE_Atlanta_GA_30345_M63610-63291',\n",
       " '130-Belvedere-Ct_Atlanta_GA_30350_M62977-50196',\n",
       " '81-Highland-Dr-NE_Atlanta_GA_30305_M69655-08836',\n",
       " '3175-Alton-Rd_Atlanta_GA_30341_M51185-94022',\n",
       " '915-Amsterdam-Ave-NE_Atlanta_GA_30306_M51652-99803',\n",
       " '1417-Coretta-Scott-Bnd_Atlanta_GA_30318_M91820-53061',\n",
       " '1050-Mountain-Creek-Trl_Atlanta_GA_30328_M51268-88399',\n",
       " '996-Camilla-St-SW_Atlanta_GA_30314_M95347-96719',\n",
       " '1578-Lincoln-Ave-SE_Atlanta_GA_30317_M66356-55201',\n",
       " '1593-Westhaven-Dr-SW_Atlanta_GA_30311_M64979-09608',\n",
       " '1267-Stillwood-Dr-NE_Atlanta_GA_30306_M67637-18650',\n",
       " '399-Pratt-Dr-SE-Unit-910_Atlanta_GA_30315_M91781-54036',\n",
       " '1412-Richland-Rd-SW_Atlanta_GA_30310_M59872-65771',\n",
       " '1715-Moores-Mill-Rd-NW_Atlanta_GA_30318_M54945-82191',\n",
       " '3629-Embry-Cir_Atlanta_GA_30341_M51156-12747',\n",
       " '2171-James-Aly_Atlanta_GA_30345_M96930-31949',\n",
       " '972-Dunning-St-SE_Atlanta_GA_30315_M55496-78404',\n",
       " '484-Martin-St-SE_Atlanta_GA_30312_M66870-63828',\n",
       " '5659-Mill-Trace-Dr_Atlanta_GA_30338_M61692-95899',\n",
       " '358-Georgia-Ave-SE_Atlanta_GA_30312_M57010-62109',\n",
       " '4958-Firth-Ln_Atlanta_GA_30360_M51963-56672',\n",
       " '830-Gaston-St-SW_Atlanta_GA_30310_M91807-35817',\n",
       " '859-Virginia-Cir-NE_Atlanta_GA_30306_M60699-76567',\n",
       " '833-E-Morningside-Dr-NE_Atlanta_GA_30324_M66523-39673',\n",
       " '1400-Smith-St-SE_Atlanta_GA_30316_M68168-90852',\n",
       " '8390-Valley-Tarn_Atlanta_GA_30350_M66894-63521',\n",
       " '2911-Knob-Hill-Dr-SE_Atlanta_GA_30339_M58565-34919',\n",
       " '3127-Stonegate-Dr-SW_Atlanta_GA_30331_M96039-38040',\n",
       " '1871-Commons-Pl_Atlanta_GA_30318_M90339-57667',\n",
       " '536-Linwood-Ave-NE_Atlanta_GA_30306_M63598-31771',\n",
       " '1431-Metropolitan-Ave-SE_Atlanta_GA_30316_M65396-95399',\n",
       " '1937-Quarry-Park-Pl-NW_Atlanta_GA_30318_M95270-88080',\n",
       " '681-Fielding-Ln-SW_Atlanta_GA_30311_M62171-61296',\n",
       " '489-Hammons-Way_Atlanta_GA_30315_M97435-50816',\n",
       " '995-Lindbergh-Dr-NE_Atlanta_GA_30324_M60907-97560',\n",
       " '3159-Stonegate-Dr-SW_Atlanta_GA_30331_M92487-47321',\n",
       " '2056-Abby-Ln-NE_Atlanta_GA_30345_M64496-07169',\n",
       " '2477-Sherbrooke-Dr-NE_Atlanta_GA_30345_M54357-01300',\n",
       " '1170-Moton-Ave-SW_Atlanta_GA_30315_M63466-56411',\n",
       " '1415-Coretta-Bnd-NW_Atlanta_GA_30318_M93834-89135',\n",
       " '1984-Highgrove-Ct_Atlanta_GA_30345_M94399-52237',\n",
       " '980-Violet-St-SE_Atlanta_GA_30315_M64885-84898',\n",
       " '718-Cascade-Ave-SW_Atlanta_GA_30310_M93475-79780',\n",
       " '882-Tift-Ave-SW_Atlanta_GA_30310_M57014-58736',\n",
       " '2754-Drew-Valley-Rd-NE_Brookhaven_GA_30319_M55193-63341',\n",
       " '3270-Connally-St_Atlanta_GA_30337_M59476-83042',\n",
       " '3324-Henderson-Creek-Rd_Atlanta_GA_30341_M59856-34813',\n",
       " '1993-Reynolds-Dr-SW_Atlanta_GA_30315_M93694-70541',\n",
       " '1056-Regent-St-SW_Atlanta_GA_30310_M92565-99065',\n",
       " '366-Peachtree-Ave-NE_Atlanta_GA_30305_M64616-95335',\n",
       " '800-Spalding-Heights-Dr_Atlanta_GA_30350_M69197-37332',\n",
       " '2904-Saint-Patrick-St-SE_Atlanta_GA_30317_M66714-12133',\n",
       " '3439-Heartwood-Ln_Atlanta_GA_30340_M55241-59275',\n",
       " '194-Rockyford-Rd-NE_Atlanta_GA_30317_M69813-97244',\n",
       " '1590-Johnson-Rd-NE_Atlanta_GA_30306_M51236-53446',\n",
       " '1048-Arbor-Trce-NE_Brookhaven_GA_30319_M53639-18871',\n",
       " '2318-Havenridge-Dr-NW_Atlanta_GA_30305_M51479-93182',\n",
       " '2485-Shallowford-Rd-NE_Atlanta_GA_30345_M54422-22840',\n",
       " '491-Hammons-Way_Atlanta_GA_30315_M92816-89099',\n",
       " '1557-Alder-Ct-SE_Atlanta_GA_30317_M65465-78226',\n",
       " '579-Fielding-Ln-SW_Atlanta_GA_30311_M56762-76222',\n",
       " '850-Harold-Ave-SE_Atlanta_GA_30316_M60701-84419',\n",
       " '4037-Arden-Way-NE_Atlanta_GA_30342_M51583-18110',\n",
       " '4774-Mock-Orange-St-SW_Atlanta_GA_30331_M97446-92619',\n",
       " '944-Herndon-St-NW_Atlanta_GA_30318_M69860-44969',\n",
       " '3260-Lions-Ruby-Ln_College-Park_GA_30349_M94971-42754',\n",
       " '2763-Pioneer-Ct_Atlanta_GA_30341_M58249-81335',\n",
       " '1924-Glenwood-Ave-SE_Atlanta_GA_30316_M66081-15670',\n",
       " '3390-Cedar-Island-Dr-SW_Atlanta_GA_30311_M50668-84821',\n",
       " '2834-Evans-Woods-Dr_Atlanta_GA_30340_M63909-39204',\n",
       " '1929-Quarry-Park-Pl-NW_Atlanta_GA_30318_M97097-78931',\n",
       " '78-Crumley-St-SE_Atlanta_GA_30312_M65622-74859',\n",
       " '6069-Marigold-Way_Atlanta_GA_30349_M92950-53101',\n",
       " '1585-Habershal-Rd-NW_Atlanta_GA_30318_M57159-13243',\n",
       " '38-Mildred-Pl-NW_Atlanta_GA_30318_M91965-42613',\n",
       " '3098-Jackson-St_Atlanta_GA_30354_M56477-66980',\n",
       " '2668-Memorial-Dr-SE_Atlanta_GA_30317_M62314-57417',\n",
       " '22-Vinson-Dr-SE_Atlanta_GA_30317_M65652-11198',\n",
       " '1724-Clifton-Way-SE_Atlanta_GA_30316_M63464-34222',\n",
       " '1864-Crestridge-Pl-NE_Atlanta_GA_30345_M64403-27949',\n",
       " '688-Forrest-Trl-NW_Atlanta_GA_30318_M54676-67437',\n",
       " '934-Burns-Dr-SW_Atlanta_GA_30310_M50505-60412',\n",
       " '777-Forrest-St-NW_Atlanta_GA_30318_M54053-14515',\n",
       " '7230-Wynhill-Dr_Atlanta_GA_30328_M67012-58484',\n",
       " '1134-Knott-St-SE_Atlanta_GA_30316_M57317-97065',\n",
       " '2662-Forrest-Way-NE_Atlanta_GA_30305_M51905-52111',\n",
       " '328-East-Side-Ave-SE_Atlanta_GA_30316_M65837-06477',\n",
       " '38-Atlanta-Ave-SE_Atlanta_GA_30315_M64066-37092',\n",
       " '3958-N-Stratford-Rd-NE_Atlanta_GA_30342_M52992-97280',\n",
       " '1082-Edie-Ave-SE_Atlanta_GA_30312_M52929-31804',\n",
       " '1587-Alder-Ct-SE_Atlanta_GA_30317_M68767-57626',\n",
       " '1992-Highgrove-Ct_Atlanta_GA_30345_M98237-85342',\n",
       " '681-Home-Ave-SE_Atlanta_GA_30312_M64190-60988',\n",
       " '1587-Alder-Ln-SW_Atlanta_GA_30311_M65844-69649',\n",
       " '394-Bill-Kennedy-Way-SE_Atlanta_GA_30316_M57333-16438',\n",
       " '1327-Oaklawn-Ave-NE_Brookhaven_GA_30319_M56748-74119',\n",
       " '1558-Foote-St-NE_Atlanta_GA_30307_M68619-97164',\n",
       " '851-Dill-Ave-SW_Atlanta_GA_30310_M67899-25686',\n",
       " '3272-Lions-Ruby-Ln_College-Park_GA_30349_M98483-43042',\n",
       " '1768-8th-St_Atlanta_GA_30341_M62019-89563',\n",
       " '815-Verner-St-NW_Atlanta_GA_30318_M50017-51474',\n",
       " '1976-Highgrove-Ct_Atlanta_GA_30345_M97263-14138',\n",
       " '78-Rockyford-Rd-NE_Atlanta_GA_30317_M63998-24946',\n",
       " '4432-Brookview-Dr-SE_Atlanta_GA_30339_M97418-46411',\n",
       " '204-Mayson-Ave-NE_Atlanta_GA_30307_M69111-54091',\n",
       " '3131-Stonegate-Dr-SW_Atlanta_GA_30331_M91621-32676',\n",
       " '1081-Napier-St-SE_Atlanta_GA_30316_M65276-01117',\n",
       " '1102-Morley-Ave-SE_Atlanta_GA_30312_M52468-07940',\n",
       " '1854-Braeburn-Cir-SE_Atlanta_GA_30316_M64612-91522',\n",
       " '3143-Stonegate-Dr-SW_Atlanta_GA_30331_M92463-11896',\n",
       " '1423-Lanvale-Dr-SW_Atlanta_GA_30310_M61757-70206',\n",
       " '1040-Edie-Ave-SE_Atlanta_GA_30312_M94155-63584',\n",
       " '3119-Stonegate-Dr-SW_Atlanta_GA_30331_M97292-34115',\n",
       " '2166-Belvedere-Ave-SW_Atlanta_GA_30311_M64331-53597',\n",
       " '3135-Stonegate-Dr-SW_Atlanta_GA_30331_M90353-20846',\n",
       " '1085-Boulevard-Dr-SE_Atlanta_GA_30317_M58785-72389',\n",
       " '760-Weatherly-Ln_Atlanta_GA_30328_M54427-93903',\n",
       " 'Sapling_Parkview-Estates_838-Millberry-Road_Atlanta_GA_30349_P417000982383',\n",
       " '2395-Bradcliff-Dr-NE_Atlanta_GA_30345_M68871-09334',\n",
       " '130-Sycamore-Row_Atlanta_GA_30331_M95280-93336',\n",
       " '556-Bolton-Rd-NW_Atlanta_GA_30331_M66270-58445',\n",
       " '244-Eureka-Dr-NE_Atlanta_GA_30305_M60053-03526',\n",
       " '255-Atlanta-Ave-SE_Atlanta_GA_30315_M58813-86930',\n",
       " '976-Connally-St-SE_Atlanta_GA_30315_M60874-96635']"
      ]
     },
     "execution_count": 4,
     "metadata": {},
     "output_type": "execute_result"
    }
   ],
   "source": [
    "flat_links = [link for sublist in link_array for link in sublist]\n",
    "flat_links "
   ]
  },
  {
   "cell_type": "code",
   "execution_count": 5,
   "id": "b4329f6e",
   "metadata": {
    "execution": {
     "iopub.execute_input": "2025-09-16T04:48:14.778850Z",
     "iopub.status.busy": "2025-09-16T04:48:14.777638Z",
     "iopub.status.idle": "2025-09-16T04:48:14.795951Z",
     "shell.execute_reply": "2025-09-16T04:48:14.794026Z"
    },
    "papermill": {
     "duration": 0.036921,
     "end_time": "2025-09-16T04:48:14.798716",
     "exception": false,
     "start_time": "2025-09-16T04:48:14.761795",
     "status": "completed"
    },
    "tags": []
   },
   "outputs": [],
   "source": [
    "import requests\n",
    "\n",
    "\n",
    "cookies = {\n",
    "    'split': 'n',\n",
    "    'split_tcv': '154',\n",
    "    '__ssn': '074039bd-509b-4f44-8b07-5ab6a42d212c',\n",
    "    '__ssnstarttime': '1757997915',\n",
    "    'KP_UIDz-ssn': '0QTb6cUITmoHzVd4szQHsae57TXd8xpTXakdozGyORv4WamT283kltL6tbBZCI0kKxicKhssGQYlofoqgi1ql0Pp17VQtH6f87SGNBqaUsHHw53Nmo0uM8MfY7xPh54uIOCyrjkzDtNZT1Z1lM1abfGgjcVI5G7d9FFA7pHrjJLhbKgu',\n",
    "    'KP_UIDz': '0QTb6cUITmoHzVd4szQHsae57TXd8xpTXakdozGyORv4WamT283kltL6tbBZCI0kKxicKhssGQYlofoqgi1ql0Pp17VQtH6f87SGNBqaUsHHw53Nmo0uM8MfY7xPh54uIOCyrjkzDtNZT1Z1lM1abfGgjcVI5G7d9FFA7pHrjJLhbKgu',\n",
    "    '__vst': '8b34ab3b-45ae-4371-8ce7-38b0d1703bf8',\n",
    "    '__bot': 'false',\n",
    "    '_lr_retry_request': 'true',\n",
    "    '_lr_env_src_ats': 'false',\n",
    "    '__split': '99',\n",
    "    '__rdc_id': 'rdc-id-383e3098-e185-4872-bcfe-79021c9ed2ad',\n",
    "    'permutive-id': '7185f1bf-3e3a-4740-a360-64f7b4d463a3',\n",
    "    'AMCVS_8853394255142B6A0A4C98A4%40AdobeOrg': '1',\n",
    "    'ab.storage.userId.7cc9d032-9d6d-44cf-a8f5-d276489af322': 'g%3Avisitor_8b34ab3b-45ae-4371-8ce7-38b0d1703bf8%7Ce%3Aundefined%7Cc%3A1757997919188%7Cl%3A1757997919194',\n",
    "    'ab.storage.deviceId.7cc9d032-9d6d-44cf-a8f5-d276489af322': 'g%3A9a797285-a0d8-8f84-ba50-3b011d3d700f%7Ce%3Aundefined%7Cc%3A1757997919196%7Cl%3A1757997919196',\n",
    "    'ab.storage.sessionId.7cc9d032-9d6d-44cf-a8f5-d276489af322': 'g%3Afeddc401-e41a-d45e-2012-c675f88b6279%7Ce%3A1757999719205%7Cc%3A1757997919192%7Cl%3A1757997919205',\n",
    "    'pbjs-unifiedid': '%7B%22TDID%22%3A%22962137a0-00ea-43be-8702-9fc0bf990403%22%2C%22TDID_LOOKUP%22%3A%22FALSE%22%2C%22TDID_CREATED_AT%22%3A%222025-09-16T04%3A45%3A17%22%7D',\n",
    "    'pbjs-unifiedid_cst': 'VyxHLMwsHQ%3D%3D',\n",
    "    'panoramaId_expiry': '1758602717410',\n",
    "    '_cc_id': '1eb18375012a73fb333d4617443e9b5f',\n",
    "    'panoramaId': '888da814865546903f5874ad8e3d185ca02c84efd8ce73f31289556d0d876cbf',\n",
    "    's_ecid': 'MCMID%7C50605055854103586170510416680925939046',\n",
    "    '_gcl_au': '1.1.2088027134.1757997920',\n",
    "    '_fbp': 'fb.1.1757997920012.1396312203',\n",
    "    'claritas_24hrexp_ldp': 'true',\n",
    "    'AMCV_8853394255142B6A0A4C98A4%40AdobeOrg': '-1124106680%7CMCIDTS%7C20348%7CMCMID%7C50605055854103586170510416680925939046%7CMCAAMLH-1758602719%7C12%7CMCAAMB-1758602719%7C6G1ynYcLPuiQxYZrsz_pkqfLG9yMXBpb2zX5dvJdYQJzPXImdj0y%7CMCOPTOUT-1758005120s%7CNONE%7CMCAID%7CNONE%7CMCSYNCSOP%7C411-20355%7CvVersion%7C5.2.0',\n",
    "    '_ga': 'GA1.1.868129813.1757997921',\n",
    "    '__spdt': 'd0ba775270514601a354be76dfaa7a4d',\n",
    "    'leadid_token-27789EFE-7A9A-DB70-BB9B-97D9B7057DBB-01836014-7527-FD48-9B7F-1A40A9705CFE': '93CC6267-9CD1-D328-926B-5386E215DC2E',\n",
    "    'ajs_anonymous_id': 'c48222d0-f402-441a-b39a-026da334dd93',\n",
    "    'AMP_MKTG_c07a79acf5': 'JTdCJTdE',\n",
    "    'AMP_c07a79acf5': 'JTdCJTIyZGV2aWNlSWQlMjIlM0ElMjIxNTc2YjQyNy0zMWE3LTQ2M2MtYWNmNy03NGE0NWE3YzQzNTglMjIlMkMlMjJ1c2VySWQlMjIlM0ElMjI4YjM0YWIzYi00NWFlLTQzNzEtOGNlNy0zOGIwZDE3MDNiZjglMjIlMkMlMjJzZXNzaW9uSWQlMjIlM0ExNzU3OTk3OTIyNTUzJTJDJTIyb3B0T3V0JTIyJTNBZmFsc2UlMkMlMjJsYXN0RXZlbnRUaW1lJTIyJTNBMTc1Nzk5NzkyMjU3NCUyQyUyMmxhc3RFdmVudElkJTIyJTNBMyUyQyUyMnBhZ2VDb3VudGVyJTIyJTNBMCU3RA==',\n",
    "    '_ga_07XBH6XBNS': 'GS2.1.s1757997921$o1$g0$t1757997922$j59$l0$h1231092820',\n",
    "    '_ga_MS5EHT6J6V': 'GS2.1.s1757997921$o1$g0$t1757997922$j59$l0$h0',\n",
    "    '_awl': '2.1757997921.5-91e963aee4152fa3d0b5d083e7a14dc0-6763652d617369612d6561737431-0',\n",
    "    '_uetsid': 'f44a641092b711f0bc3327154bf3a3c9|yp7v5i|2|fzd|0|2085',\n",
    "    '_uetvid': 'f44a89c092b711f0985da54ee2c16fd4|vh5t50|1757997923452|1|1|bat.bing.com/p/insights/c/v',\n",
    "    '_lr_sampling_rate': '100',\n",
    "}\n",
    "\n",
    "headers = {\n",
    "    'accept': 'text/html,application/xhtml+xml,application/xml;q=0.9,image/avif,image/webp,image/apng,*/*;q=0.8,application/signed-exchange;v=b3;q=0.7',\n",
    "    'accept-language': 'en-US,en;q=0.9,hi;q=0.8',\n",
    "    'cache-control': 'max-age=0',\n",
    "    'priority': 'u=0, i',\n",
    "    'referer': 'https://www.realtor.com/realestateandhomes-detail/255-Atlanta-Ave-SE_Atlanta_GA_30315_M58813-86930?from=srp-list-card',\n",
    "    'sec-ch-ua': '\"Chromium\";v=\"140\", \"Not=A?Brand\";v=\"24\", \"Google Chrome\";v=\"140\"',\n",
    "    'sec-ch-ua-mobile': '?0',\n",
    "    'sec-ch-ua-platform': '\"Windows\"',\n",
    "    'sec-fetch-dest': 'document',\n",
    "    'sec-fetch-mode': 'navigate',\n",
    "    'sec-fetch-site': 'same-origin',\n",
    "    'sec-fetch-user': '?1',\n",
    "    'upgrade-insecure-requests': '1',\n",
    "    'user-agent': 'Mozilla/5.0 (Windows NT 10.0; Win64; x64) AppleWebKit/537.36 (KHTML, like Gecko) Chrome/140.0.0.0 Safari/537.36',\n",
    "    # 'cookie': 'split=n; split_tcv=154; __ssn=074039bd-509b-4f44-8b07-5ab6a42d212c; __ssnstarttime=1757997915; KP_UIDz-ssn=0QTb6cUITmoHzVd4szQHsae57TXd8xpTXakdozGyORv4WamT283kltL6tbBZCI0kKxicKhssGQYlofoqgi1ql0Pp17VQtH6f87SGNBqaUsHHw53Nmo0uM8MfY7xPh54uIOCyrjkzDtNZT1Z1lM1abfGgjcVI5G7d9FFA7pHrjJLhbKgu; KP_UIDz=0QTb6cUITmoHzVd4szQHsae57TXd8xpTXakdozGyORv4WamT283kltL6tbBZCI0kKxicKhssGQYlofoqgi1ql0Pp17VQtH6f87SGNBqaUsHHw53Nmo0uM8MfY7xPh54uIOCyrjkzDtNZT1Z1lM1abfGgjcVI5G7d9FFA7pHrjJLhbKgu; __vst=8b34ab3b-45ae-4371-8ce7-38b0d1703bf8; __bot=false; _lr_retry_request=true; _lr_env_src_ats=false; __split=99; __rdc_id=rdc-id-383e3098-e185-4872-bcfe-79021c9ed2ad; permutive-id=7185f1bf-3e3a-4740-a360-64f7b4d463a3; AMCVS_8853394255142B6A0A4C98A4%40AdobeOrg=1; ab.storage.userId.7cc9d032-9d6d-44cf-a8f5-d276489af322=g%3Avisitor_8b34ab3b-45ae-4371-8ce7-38b0d1703bf8%7Ce%3Aundefined%7Cc%3A1757997919188%7Cl%3A1757997919194; ab.storage.deviceId.7cc9d032-9d6d-44cf-a8f5-d276489af322=g%3A9a797285-a0d8-8f84-ba50-3b011d3d700f%7Ce%3Aundefined%7Cc%3A1757997919196%7Cl%3A1757997919196; ab.storage.sessionId.7cc9d032-9d6d-44cf-a8f5-d276489af322=g%3Afeddc401-e41a-d45e-2012-c675f88b6279%7Ce%3A1757999719205%7Cc%3A1757997919192%7Cl%3A1757997919205; pbjs-unifiedid=%7B%22TDID%22%3A%22962137a0-00ea-43be-8702-9fc0bf990403%22%2C%22TDID_LOOKUP%22%3A%22FALSE%22%2C%22TDID_CREATED_AT%22%3A%222025-09-16T04%3A45%3A17%22%7D; pbjs-unifiedid_cst=VyxHLMwsHQ%3D%3D; panoramaId_expiry=1758602717410; _cc_id=1eb18375012a73fb333d4617443e9b5f; panoramaId=888da814865546903f5874ad8e3d185ca02c84efd8ce73f31289556d0d876cbf; s_ecid=MCMID%7C50605055854103586170510416680925939046; _gcl_au=1.1.2088027134.1757997920; _fbp=fb.1.1757997920012.1396312203; claritas_24hrexp_ldp=true; AMCV_8853394255142B6A0A4C98A4%40AdobeOrg=-1124106680%7CMCIDTS%7C20348%7CMCMID%7C50605055854103586170510416680925939046%7CMCAAMLH-1758602719%7C12%7CMCAAMB-1758602719%7C6G1ynYcLPuiQxYZrsz_pkqfLG9yMXBpb2zX5dvJdYQJzPXImdj0y%7CMCOPTOUT-1758005120s%7CNONE%7CMCAID%7CNONE%7CMCSYNCSOP%7C411-20355%7CvVersion%7C5.2.0; _ga=GA1.1.868129813.1757997921; __spdt=d0ba775270514601a354be76dfaa7a4d; leadid_token-27789EFE-7A9A-DB70-BB9B-97D9B7057DBB-01836014-7527-FD48-9B7F-1A40A9705CFE=93CC6267-9CD1-D328-926B-5386E215DC2E; ajs_anonymous_id=c48222d0-f402-441a-b39a-026da334dd93; AMP_MKTG_c07a79acf5=JTdCJTdE; AMP_c07a79acf5=JTdCJTIyZGV2aWNlSWQlMjIlM0ElMjIxNTc2YjQyNy0zMWE3LTQ2M2MtYWNmNy03NGE0NWE3YzQzNTglMjIlMkMlMjJ1c2VySWQlMjIlM0ElMjI4YjM0YWIzYi00NWFlLTQzNzEtOGNlNy0zOGIwZDE3MDNiZjglMjIlMkMlMjJzZXNzaW9uSWQlMjIlM0ExNzU3OTk3OTIyNTUzJTJDJTIyb3B0T3V0JTIyJTNBZmFsc2UlMkMlMjJsYXN0RXZlbnRUaW1lJTIyJTNBMTc1Nzk5NzkyMjU3NCUyQyUyMmxhc3RFdmVudElkJTIyJTNBMyUyQyUyMnBhZ2VDb3VudGVyJTIyJTNBMCU3RA==; _ga_07XBH6XBNS=GS2.1.s1757997921$o1$g0$t1757997922$j59$l0$h1231092820; _ga_MS5EHT6J6V=GS2.1.s1757997921$o1$g0$t1757997922$j59$l0$h0; _awl=2.1757997921.5-91e963aee4152fa3d0b5d083e7a14dc0-6763652d617369612d6561737431-0; _uetsid=f44a641092b711f0bc3327154bf3a3c9|yp7v5i|2|fzd|0|2085; _uetvid=f44a89c092b711f0985da54ee2c16fd4|vh5t50|1757997923452|1|1|bat.bing.com/p/insights/c/v; _lr_sampling_rate=100',\n",
    "}\n",
    "\n",
    "params = {\n",
    "    'from': 'srp-list-card',\n",
    "}\n",
    "\n",
    "# response = requests.get(\n",
    "#     'https://www.realtor.com/realestateandhomes-detail/255-Atlanta-Ave-SE_Atlanta_GA_30315_M58813-86930',\n",
    "#     params=params,\n",
    "#     cookies=cookies,\n",
    "#     headers=headers,\n",
    "# )"
   ]
  },
  {
   "cell_type": "code",
   "execution_count": null,
   "id": "66b8ae28",
   "metadata": {
    "papermill": {
     "duration": 0.015236,
     "end_time": "2025-09-16T04:48:14.840649",
     "exception": false,
     "start_time": "2025-09-16T04:48:14.825413",
     "status": "completed"
    },
    "tags": []
   },
   "outputs": [],
   "source": []
  },
  {
   "cell_type": "markdown",
   "id": "6508cf74",
   "metadata": {
    "tags": [
     "papermill-error-cell-tag"
    ]
   },
   "source": [
    "<span id=\"papermill-error-cell\" style=\"color:red; font-family:Helvetica Neue, Helvetica, Arial, sans-serif; font-size:2em;\">Execution using papermill encountered an exception here and stopped:</span>"
   ]
  },
  {
   "cell_type": "code",
   "execution_count": 6,
   "id": "e254f76e",
   "metadata": {
    "execution": {
     "iopub.execute_input": "2025-09-16T04:48:14.869278Z",
     "iopub.status.busy": "2025-09-16T04:48:14.867130Z",
     "iopub.status.idle": "2025-09-16T05:02:02.380522Z",
     "shell.execute_reply": "2025-09-16T05:02:02.379044Z"
    },
    "papermill": {
     "duration": 827.52829,
     "end_time": "2025-09-16T05:02:02.381945",
     "exception": true,
     "start_time": "2025-09-16T04:48:14.853655",
     "status": "failed"
    },
    "tags": []
   },
   "outputs": [
    {
     "name": "stdout",
     "output_type": "stream",
     "text": [
      "https://www.realtor.com/realestateandhomes-detail/265-Glen-Lake-Dr_Atlanta_GA_30327_M64551-34603\n"
     ]
    },
    {
     "name": "stdout",
     "output_type": "stream",
     "text": [
      "<Response [200]> 2\n",
      "https://www.realtor.com/realestateandhomes-detail/4000-Wieuca-Rd-NE_Atlanta_GA_30342_M59132-44236\n"
     ]
    },
    {
     "name": "stdout",
     "output_type": "stream",
     "text": [
      "<Response [200]> 3\n",
      "https://www.realtor.com/realestateandhomes-detail/2594-Essex-Ln-SW_Atlanta_GA_30331_M51599-43993\n"
     ]
    },
    {
     "name": "stdout",
     "output_type": "stream",
     "text": [
      "<Response [200]> 4\n",
      "https://www.realtor.com/realestateandhomes-detail/140-Old-Fairburn-Close-SW_Atlanta_GA_30331_M63523-50396\n"
     ]
    },
    {
     "name": "stdout",
     "output_type": "stream",
     "text": [
      "<Response [200]> 5\n",
      "https://www.realtor.com/realestateandhomes-detail/2115-Howell-Mill-Rd-NW_Atlanta_GA_30318_M68897-31951\n"
     ]
    },
    {
     "name": "stdout",
     "output_type": "stream",
     "text": [
      "<Response [200]> 6\n",
      "https://www.realtor.com/realestateandhomes-detail/1386-Moores-Mill-Rd-NW_Atlanta_GA_30327_M69238-54256\n"
     ]
    },
    {
     "name": "stdout",
     "output_type": "stream",
     "text": [
      "<Response [200]> 7\n",
      "https://www.realtor.com/realestateandhomes-detail/1012-Madeline-Ln_Atlanta_GA_30350_M64734-47742\n"
     ]
    },
    {
     "name": "stdout",
     "output_type": "stream",
     "text": [
      "<Response [200]> 8\n",
      "https://www.realtor.com/realestateandhomes-detail/3429-Walnut-Rdg_Atlanta_GA_30349_M91355-25069\n"
     ]
    },
    {
     "name": "stdout",
     "output_type": "stream",
     "text": [
      "<Response [200]> 9\n",
      "https://www.realtor.com/realestateandhomes-detail/4560-Harris-Trl_Atlanta_GA_30327_M59094-24554\n"
     ]
    },
    {
     "name": "stdout",
     "output_type": "stream",
     "text": [
      "<Response [200]> 10\n",
      "https://www.realtor.com/realestateandhomes-detail/2218-Tamassee-Ct_Atlanta_GA_30338_M52131-63612\n"
     ]
    },
    {
     "name": "stdout",
     "output_type": "stream",
     "text": [
      "<Response [200]> 11\n",
      "https://www.realtor.com/realestateandhomes-detail/4025-Cascade-Rd-SW_Atlanta_GA_30331_M52836-98013\n"
     ]
    },
    {
     "name": "stdout",
     "output_type": "stream",
     "text": [
      "<Response [200]> 12\n",
      "https://www.realtor.com/realestateandhomes-detail/1225-W-Wesley-Rd-NW_Atlanta_GA_30327_M66773-41972\n"
     ]
    },
    {
     "name": "stdout",
     "output_type": "stream",
     "text": [
      "<Response [200]> 13\n",
      "https://www.realtor.com/realestateandhomes-detail/460-Riverside-Pkwy_Atlanta_GA_30328_M66824-67002\n"
     ]
    },
    {
     "name": "stdout",
     "output_type": "stream",
     "text": [
      "<Response [200]> 14\n",
      "https://www.realtor.com/realestateandhomes-detail/393-The-Falls-Ct-NE_Atlanta_GA_30307_M69501-60160\n"
     ]
    },
    {
     "name": "stdout",
     "output_type": "stream",
     "text": [
      "<Response [200]> 15\n",
      "https://www.realtor.com/realestateandhomes-detail/1530-Niskey-Lake-Trl-SW_Atlanta_GA_30331_M69692-20206\n"
     ]
    },
    {
     "name": "stdout",
     "output_type": "stream",
     "text": [
      "<Response [200]> 16\n",
      "https://www.realtor.com/realestateandhomes-detail/400-Pine-Tree-Dr-NE_Atlanta_GA_30305_M69928-02027\n"
     ]
    },
    {
     "name": "stdout",
     "output_type": "stream",
     "text": [
      "<Response [200]> 17\n",
      "https://www.realtor.com/realestateandhomes-detail/1905-Gainsborough-Dr_Chamblee_GA_30341_M62685-09270\n"
     ]
    },
    {
     "name": "stdout",
     "output_type": "stream",
     "text": [
      "<Response [200]> 18\n",
      "https://www.realtor.com/realestateandhomes-detail/355-Aldenshire-Pl_Atlanta_GA_30350_M57286-52725\n"
     ]
    },
    {
     "name": "stdout",
     "output_type": "stream",
     "text": [
      "<Response [200]> 19\n",
      "https://www.realtor.com/realestateandhomes-detail/2180-Spalding-Dr_Atlanta_GA_30350_M65370-34812\n"
     ]
    },
    {
     "name": "stdout",
     "output_type": "stream",
     "text": [
      "<Response [200]> 20\n",
      "https://www.realtor.com/realestateandhomes-detail/7700-Wickley-Way_Atlanta_GA_30350_M63191-03581\n"
     ]
    },
    {
     "name": "stdout",
     "output_type": "stream",
     "text": [
      "<Response [200]> 21\n",
      "https://www.realtor.com/realestateandhomes-detail/256-Montpelier-Ct-SW_Atlanta_GA_30331_M50425-05710\n"
     ]
    },
    {
     "name": "stdout",
     "output_type": "stream",
     "text": [
      "<Response [200]> 22\n",
      "https://www.realtor.com/realestateandhomes-detail/3600-Tanglewood-Dr-SE_Atlanta_GA_30339_M58891-79885\n"
     ]
    },
    {
     "name": "stdout",
     "output_type": "stream",
     "text": [
      "<Response [200]> 23\n",
      "https://www.realtor.com/realestateandhomes-detail/3300-Cascade-Rd-SW_Atlanta_GA_30311_M53838-89747\n"
     ]
    },
    {
     "name": "stdout",
     "output_type": "stream",
     "text": [
      "<Response [200]> 24\n",
      "https://www.realtor.com/realestateandhomes-detail/2264-Seaman-Cir_Atlanta_GA_30341_M62753-66204\n"
     ]
    },
    {
     "name": "stdout",
     "output_type": "stream",
     "text": [
      "<Response [200]> 25\n",
      "https://www.realtor.com/realestateandhomes-detail/456-Candler-St-NE_Atlanta_GA_30307_M64746-06319\n"
     ]
    },
    {
     "name": "stdout",
     "output_type": "stream",
     "text": [
      "<Response [200]> 26\n",
      "https://www.realtor.com/realestateandhomes-detail/3620-Cloudland-Dr-NW_Atlanta_GA_30327_M57739-25587\n"
     ]
    },
    {
     "name": "stdout",
     "output_type": "stream",
     "text": [
      "<Response [200]> 27\n",
      "https://www.realtor.com/realestateandhomes-detail/953-Faith-Ave-SE_Atlanta_GA_30316_M56061-21419\n"
     ]
    },
    {
     "name": "stdout",
     "output_type": "stream",
     "text": [
      "<Response [200]> 28\n",
      "https://www.realtor.com/realestateandhomes-detail/377-East-Side-Ave-SE_Atlanta_GA_30316_M65378-69368\n"
     ]
    },
    {
     "name": "stdout",
     "output_type": "stream",
     "text": [
      "<Response [200]> 29\n",
      "https://www.realtor.com/realestateandhomes-detail/1533-Van-Epps-St-SE_Atlanta_GA_30316_M64535-73806\n"
     ]
    },
    {
     "name": "stdout",
     "output_type": "stream",
     "text": [
      "<Response [200]> 30\n",
      "https://www.realtor.com/realestateandhomes-detail/415-River-Valley-Rd_Atlanta_GA_30328_M60822-71882\n"
     ]
    },
    {
     "name": "stdout",
     "output_type": "stream",
     "text": [
      "<Response [200]> 31\n",
      "https://www.realtor.com/realestateandhomes-detail/36-S-Prado-NE_Atlanta_GA_30309_M58249-36028\n"
     ]
    },
    {
     "name": "stdout",
     "output_type": "stream",
     "text": [
      "<Response [200]> 32\n",
      "https://www.realtor.com/realestateandhomes-detail/812-Stratford-Ct_Atlanta_GA_30350_M57660-51804\n"
     ]
    },
    {
     "name": "stdout",
     "output_type": "stream",
     "text": [
      "<Response [200]> 33\n",
      "https://www.realtor.com/realestateandhomes-detail/2137-Virginia-Pl-NE_Atlanta_GA_30305_M62249-93442\n"
     ]
    },
    {
     "name": "stdout",
     "output_type": "stream",
     "text": [
      "<Response [200]> 34\n",
      "https://www.realtor.com/realestateandhomes-detail/614-Charlotte-Pl-NW_Atlanta_GA_30318_M69132-63208\n"
     ]
    },
    {
     "name": "stdout",
     "output_type": "stream",
     "text": [
      "<Response [200]> 35\n",
      "https://www.realtor.com/realestateandhomes-detail/4036-Statewood-Rd-NE_Atlanta_GA_30342_M60689-04078\n"
     ]
    },
    {
     "name": "stdout",
     "output_type": "stream",
     "text": [
      "<Response [200]> 36\n",
      "https://www.realtor.com/realestateandhomes-detail/1179-Milmar-Dr-NW_Atlanta_GA_30327_M64205-13321\n"
     ]
    },
    {
     "name": "stdout",
     "output_type": "stream",
     "text": [
      "<Response [200]> 37\n",
      "https://www.realtor.com/realestateandhomes-detail/1001-Oxford-Rd-NE_Atlanta_GA_30306_M68502-50168\n"
     ]
    },
    {
     "name": "stdout",
     "output_type": "stream",
     "text": [
      "<Response [200]> 38\n",
      "https://www.realtor.com/realestateandhomes-detail/3560-Ridgewood-Rd-NW_Atlanta_GA_30327_M54981-22456\n"
     ]
    },
    {
     "name": "stdout",
     "output_type": "stream",
     "text": [
      "<Response [200]> 39\n",
      "https://www.realtor.com/realestateandhomes-detail/1263-Hopkins-Ter-NE_Atlanta_GA_30324_M53841-73874\n"
     ]
    },
    {
     "name": "stdout",
     "output_type": "stream",
     "text": [
      "<Response [200]> 40\n",
      "https://www.realtor.com/realestateandhomes-detail/1583-McLendon-Ave-NE_Atlanta_GA_30307_M68682-95108\n"
     ]
    },
    {
     "name": "stdout",
     "output_type": "stream",
     "text": [
      "<Response [200]> 41\n",
      "https://www.realtor.com/realestateandhomes-detail/452-Euclid-Ter-NE_Atlanta_GA_30307_M64674-51258\n"
     ]
    },
    {
     "name": "stdout",
     "output_type": "stream",
     "text": [
      "<Response [200]> 42\n",
      "https://www.realtor.com/realestateandhomes-detail/1129-Sanders-Ave-SE_Atlanta_GA_30316_M51573-07558\n"
     ]
    },
    {
     "name": "stdout",
     "output_type": "stream",
     "text": [
      "<Response [200]> 43\n",
      "https://www.realtor.com/realestateandhomes-detail/5260-Long-Island-Dr-NW_Atlanta_GA_30327_M99361-09512\n"
     ]
    },
    {
     "name": "stdout",
     "output_type": "stream",
     "text": [
      "<Response [200]> 44\n",
      "https://www.realtor.com/realestateandhomes-detail/3897-Lake-Forrest-Dr-NE_Atlanta_GA_30342_M56332-05200\n"
     ]
    },
    {
     "name": "stdout",
     "output_type": "stream",
     "text": [
      "<Response [200]> 45\n",
      "https://www.realtor.com/realestateandhomes-detail/4850-Guilford-Forest-Dr-SW_Atlanta_GA_30331_M56694-09842\n"
     ]
    },
    {
     "name": "stdout",
     "output_type": "stream",
     "text": [
      "<Response [200]> 46\n",
      "https://www.realtor.com/realestateandhomes-detail/1572-Clifton-Rdg_Atlanta_GA_30307_M93411-31395\n"
     ]
    },
    {
     "name": "stdout",
     "output_type": "stream",
     "text": [
      "<Response [200]> 47\n",
      "https://www.realtor.com/realestateandhomes-detail/751-Kennolia-Dr-SW_Atlanta_GA_30310_M66133-27306\n"
     ]
    },
    {
     "name": "stdout",
     "output_type": "stream",
     "text": [
      "<Response [200]> 48\n",
      "https://www.realtor.com/realestateandhomes-detail/710-Registry-Ln_Atlanta_GA_30342_M56957-55121\n"
     ]
    },
    {
     "name": "stdout",
     "output_type": "stream",
     "text": [
      "<Response [200]> 49\n",
      "https://www.realtor.com/realestateandhomes-detail/575-Highland-Ave-NE_Atlanta_GA_30312_M59623-52707\n"
     ]
    },
    {
     "name": "stdout",
     "output_type": "stream",
     "text": [
      "<Response [200]> 50\n",
      "https://www.realtor.com/realestateandhomes-detail/4387-Old-Fairburn-Rd_Atlanta_GA_30349_M55175-57699\n"
     ]
    },
    {
     "name": "stdout",
     "output_type": "stream",
     "text": [
      "<Response [200]> 51\n",
      "https://www.realtor.com/realestateandhomes-detail/790-Lakeview-Ave-NE_Atlanta_GA_30308_M91865-72539\n"
     ]
    },
    {
     "name": "stdout",
     "output_type": "stream",
     "text": [
      "<Response [200]> 52\n",
      "https://www.realtor.com/realestateandhomes-detail/1145-Kingston-Dr_Atlanta_GA_30342_M59018-07780\n"
     ]
    },
    {
     "name": "stdout",
     "output_type": "stream",
     "text": [
      "<Response [200]> 53\n",
      "https://www.realtor.com/realestateandhomes-detail/1023-Shady-Valley-Pl-NE_Atlanta_GA_30324_M54218-12475\n"
     ]
    },
    {
     "name": "stdout",
     "output_type": "stream",
     "text": [
      "<Response [200]> 54\n",
      "https://www.realtor.com/realestateandhomes-detail/5145-Davantry-Dr_Atlanta_GA_30338_M56260-70255\n"
     ]
    },
    {
     "name": "stdout",
     "output_type": "stream",
     "text": [
      "<Response [200]> 55\n",
      "https://www.realtor.com/realestateandhomes-detail/126-Howard-St-SE_Atlanta_GA_30317_M64601-21240\n"
     ]
    },
    {
     "name": "stdout",
     "output_type": "stream",
     "text": [
      "<Response [200]> 56\n",
      "https://www.realtor.com/realestateandhomes-detail/908-N-Highland-Ave-NE-Apt-3_Atlanta_GA_30306_M64682-08651\n"
     ]
    },
    {
     "name": "stdout",
     "output_type": "stream",
     "text": [
      "<Response [200]> 57\n",
      "https://www.realtor.com/realestateandhomes-detail/898-Adair-Ave-NE_Atlanta_GA_30306_M67403-37862\n"
     ]
    },
    {
     "name": "stdout",
     "output_type": "stream",
     "text": [
      "<Response [200]> 58\n",
      "https://www.realtor.com/realestateandhomes-detail/1343-Peachtree-Battle-Ave-NW_Atlanta_GA_30327_M56444-94335\n"
     ]
    },
    {
     "name": "stdout",
     "output_type": "stream",
     "text": [
      "<Response [200]> 59\n",
      "https://www.realtor.com/realestateandhomes-detail/619-Page-Ave-NE_Atlanta_GA_30307_M63644-10928\n"
     ]
    },
    {
     "name": "stdout",
     "output_type": "stream",
     "text": [
      "<Response [200]> 60\n",
      "https://www.realtor.com/realestateandhomes-detail/5488-Windwood-Rd_Atlanta_GA_30349_M56865-66697\n"
     ]
    },
    {
     "name": "stdout",
     "output_type": "stream",
     "text": [
      "<Response [200]> 61\n",
      "https://www.realtor.com/realestateandhomes-detail/1791-Breckenridge-Dr-NE_Atlanta_GA_30345_M56504-39033\n"
     ]
    },
    {
     "name": "stdout",
     "output_type": "stream",
     "text": [
      "<Response [200]> 62\n",
      "https://www.realtor.com/realestateandhomes-detail/110-Stewart-Dr_Atlanta_GA_30342_M65231-36725\n"
     ]
    },
    {
     "name": "stdout",
     "output_type": "stream",
     "text": [
      "<Response [200]> 63\n",
      "https://www.realtor.com/realestateandhomes-detail/5015-Oakhurst-Walk_Atlanta_GA_30338_M62920-18946\n"
     ]
    },
    {
     "name": "stdout",
     "output_type": "stream",
     "text": [
      "<Response [200]> 64\n",
      "https://www.realtor.com/realestateandhomes-detail/1079-Saint-Louis-Pl-NE_Atlanta_GA_30306_M52775-23300\n"
     ]
    },
    {
     "name": "stdout",
     "output_type": "stream",
     "text": [
      "<Response [200]> 65\n",
      "https://www.realtor.com/realestateandhomes-detail/548-Oakdale-Rd-NE_Atlanta_GA_30307_M64168-81375\n"
     ]
    },
    {
     "name": "stdout",
     "output_type": "stream",
     "text": [
      "<Response [200]> 66\n",
      "https://www.realtor.com/realestateandhomes-detail/405-Ferry-Lndg_Atlanta_GA_30328_M59036-11067\n"
     ]
    },
    {
     "name": "stdout",
     "output_type": "stream",
     "text": [
      "<Response [200]> 67\n",
      "https://www.realtor.com/realestateandhomes-detail/1240-Mount-Paran-Rd-NW_Atlanta_GA_30327_M61271-18555\n"
     ]
    },
    {
     "name": "stdout",
     "output_type": "stream",
     "text": [
      "<Response [200]> 68\n",
      "https://www.realtor.com/realestateandhomes-detail/2987-Northside-Dr-NW_Atlanta_GA_30305_M66009-27530\n"
     ]
    },
    {
     "name": "stdout",
     "output_type": "stream",
     "text": [
      "<Response [200]> 69\n",
      "https://www.realtor.com/realestateandhomes-detail/1430-N-Harris-Rdg_Atlanta_GA_30327_M54274-39112\n"
     ]
    },
    {
     "name": "stdout",
     "output_type": "stream",
     "text": [
      "<Response [200]> 70\n",
      "https://www.realtor.com/realestateandhomes-detail/980-Buckhorn-E_Atlanta_GA_30350_M53345-26894\n"
     ]
    },
    {
     "name": "stdout",
     "output_type": "stream",
     "text": [
      "<Response [200]> 71\n",
      "https://www.realtor.com/realestateandhomes-detail/42-Blackland-Rd-NW_Atlanta_GA_30342_M60003-89680\n"
     ]
    },
    {
     "name": "stdout",
     "output_type": "stream",
     "text": [
      "<Response [200]> 72\n",
      "https://www.realtor.com/realestateandhomes-detail/700-N-Island-Dr_Atlanta_GA_30327_M61410-48497\n"
     ]
    },
    {
     "name": "stdout",
     "output_type": "stream",
     "text": [
      "<Response [200]> 73\n",
      "https://www.realtor.com/realestateandhomes-detail/240-Nacoochee-Dr-NW_Atlanta_GA_30305_M53076-98564\n"
     ]
    },
    {
     "name": "stdout",
     "output_type": "stream",
     "text": [
      "<Response [200]> 74\n",
      "https://www.realtor.com/realestateandhomes-detail/4975-Peachtree-Dunwoody-Rd_Atlanta_GA_30342_M51947-98319\n"
     ]
    },
    {
     "name": "stdout",
     "output_type": "stream",
     "text": [
      "<Response [200]> 75\n",
      "https://www.realtor.com/realestateandhomes-detail/3115-Old-Jonesboro-Rd_Atlanta_GA_30354_M68602-85740\n"
     ]
    },
    {
     "name": "stdout",
     "output_type": "stream",
     "text": [
      "<Response [200]> 76\n",
      "https://www.realtor.com/realestateandhomes-detail/840-Camden-Park-Ct-NE_Atlanta_GA_30342_M61135-82947\n"
     ]
    },
    {
     "name": "stdout",
     "output_type": "stream",
     "text": [
      "<Response [200]> 77\n",
      "https://www.realtor.com/realestateandhomes-detail/670-River-Chase-Pt_Atlanta_GA_30328_M52475-85450\n"
     ]
    },
    {
     "name": "stdout",
     "output_type": "stream",
     "text": [
      "<Response [200]> 78\n",
      "https://www.realtor.com/realestateandhomes-detail/4505-Glengary-Dr-NE_Atlanta_GA_30342_M68165-56864\n"
     ]
    },
    {
     "name": "stdout",
     "output_type": "stream",
     "text": [
      "<Response [200]> 79\n",
      "https://www.realtor.com/realestateandhomes-detail/4765-Jett-Rd_Atlanta_GA_30327_M54342-99194\n"
     ]
    },
    {
     "name": "stdout",
     "output_type": "stream",
     "text": [
      "<Response [200]> 80\n",
      "https://www.realtor.com/realestateandhomes-detail/2960-Sylvan-Ramble-Rd-NE_Atlanta_GA_30345_M53705-97698\n"
     ]
    },
    {
     "name": "stdout",
     "output_type": "stream",
     "text": [
      "<Response [200]> 81\n",
      "https://www.realtor.com/realestateandhomes-detail/1127-Wimberly-Rd-NE_Brookhaven_GA_30319_M68350-74706\n"
     ]
    },
    {
     "name": "stdout",
     "output_type": "stream",
     "text": [
      "<Response [200]> 82\n",
      "https://www.realtor.com/realestateandhomes-detail/3337-Cochise-Dr-SE_Atlanta_GA_30339_M65248-62331\n"
     ]
    },
    {
     "name": "stdout",
     "output_type": "stream",
     "text": [
      "<Response [200]> 83\n",
      "https://www.realtor.com/realestateandhomes-detail/3047-Terramar-Dr_Atlanta_GA_30341_M52376-95975\n"
     ]
    },
    {
     "name": "stdout",
     "output_type": "stream",
     "text": [
      "<Response [200]> 84\n",
      "https://www.realtor.com/realestateandhomes-detail/5410-New-Wellington-Close_Atlanta_GA_30327_M66298-00747\n"
     ]
    },
    {
     "name": "stdout",
     "output_type": "stream",
     "text": [
      "<Response [200]> 85\n",
      "https://www.realtor.com/realestateandhomes-detail/1361-Normandy-Dr-NE_Atlanta_GA_30306_M68193-19436\n"
     ]
    },
    {
     "name": "stdout",
     "output_type": "stream",
     "text": [
      "<Response [200]> 86\n",
      "https://www.realtor.com/realestateandhomes-detail/85-Grogans-Lndg_Atlanta_GA_30350_M52227-35364\n"
     ]
    },
    {
     "name": "stdout",
     "output_type": "stream",
     "text": [
      "<Response [200]> 87\n",
      "https://www.realtor.com/realestateandhomes-detail/2966-Waverly-Ct-SE_Atlanta_GA_30339_M58784-10028\n"
     ]
    },
    {
     "name": "stdout",
     "output_type": "stream",
     "text": [
      "<Response [200]> 88\n",
      "https://www.realtor.com/realestateandhomes-detail/2289-Chrysler-Ct-NE_Atlanta_GA_30345_M64395-45365\n"
     ]
    },
    {
     "name": "stdout",
     "output_type": "stream",
     "text": [
      "<Response [200]> 89\n",
      "https://www.realtor.com/realestateandhomes-detail/280-Chastain-Park-Dr-NE_Atlanta_GA_30342_M67222-70176\n"
     ]
    },
    {
     "name": "stdout",
     "output_type": "stream",
     "text": [
      "<Response [200]> 90\n",
      "https://www.realtor.com/realestateandhomes-detail/7695-Brigham-Dr_Atlanta_GA_30350_M65683-01824\n"
     ]
    },
    {
     "name": "stdout",
     "output_type": "stream",
     "text": [
      "<Response [200]> 91\n",
      "https://www.realtor.com/realestateandhomes-detail/4220-Paces-Ferry-Rd-SE_Atlanta_GA_30339_M65061-17562\n"
     ]
    },
    {
     "name": "stdout",
     "output_type": "stream",
     "text": [
      "<Response [200]> 92\n",
      "https://www.realtor.com/realestateandhomes-detail/96-Lakeview-Dr-NE_Atlanta_GA_30317_M63194-42308\n"
     ]
    },
    {
     "name": "stdout",
     "output_type": "stream",
     "text": [
      "<Response [200]> 93\n",
      "https://www.realtor.com/realestateandhomes-detail/6715-Laurian-Wood-Dr_Atlanta_GA_30328_M56574-85627\n"
     ]
    },
    {
     "name": "stdout",
     "output_type": "stream",
     "text": [
      "<Response [200]> 94\n",
      "https://www.realtor.com/realestateandhomes-detail/3281-Habersham-Rd-NW_Atlanta_GA_30305_M64251-74712\n"
     ]
    },
    {
     "name": "stdout",
     "output_type": "stream",
     "text": [
      "<Response [200]> 95\n",
      "https://www.realtor.com/realestateandhomes-detail/185-Windsor-Cv_Atlanta_GA_30328_M59283-90473\n"
     ]
    },
    {
     "name": "stdout",
     "output_type": "stream",
     "text": [
      "<Response [200]> 96\n",
      "https://www.realtor.com/realestateandhomes-detail/1566-Womack-Rd_Atlanta_GA_30338_M55333-15324\n"
     ]
    },
    {
     "name": "stdout",
     "output_type": "stream",
     "text": [
      "<Response [200]> 97\n",
      "https://www.realtor.com/realestateandhomes-detail/3540-Tuxedo-Rd-NW_Atlanta_GA_30305_M66126-57742\n"
     ]
    },
    {
     "name": "stdout",
     "output_type": "stream",
     "text": [
      "<Response [200]> 98\n",
      "https://www.realtor.com/realestateandhomes-detail/42-Camden-Rd-NE_Atlanta_GA_30309_M57936-58866\n"
     ]
    },
    {
     "name": "stdout",
     "output_type": "stream",
     "text": [
      "<Response [200]> 99\n",
      "https://www.realtor.com/realestateandhomes-detail/1241-Niles-Ave-NW_Atlanta_GA_30318_M52167-46920\n"
     ]
    },
    {
     "name": "stdout",
     "output_type": "stream",
     "text": [
      "<Response [200]> 100\n",
      "https://www.realtor.com/realestateandhomes-detail/1810-E-Clifton-Rd-NE_Atlanta_GA_30307_M69012-67244\n"
     ]
    },
    {
     "name": "stdout",
     "output_type": "stream",
     "text": [
      "<Response [200]> 101\n",
      "https://www.realtor.com/realestateandhomes-detail/499-Broadland-Rd-NW_Atlanta_GA_30342_M59487-66903\n"
     ]
    },
    {
     "name": "stdout",
     "output_type": "stream",
     "text": [
      "<Response [200]> 102\n",
      "https://www.realtor.com/realestateandhomes-detail/4610-Brierwood-Pl_Atlanta_GA_30360_M50961-11287\n"
     ]
    },
    {
     "name": "stdout",
     "output_type": "stream",
     "text": [
      "<Response [200]> 103\n",
      "https://www.realtor.com/realestateandhomes-detail/532-Broyles-St-SE_Atlanta_GA_30312_M69994-51109\n"
     ]
    },
    {
     "name": "stdout",
     "output_type": "stream",
     "text": [
      "<Response [200]> 104\n"
     ]
    },
    {
     "name": "stdout",
     "output_type": "stream",
     "text": [
      "https://www.realtor.com/realestateandhomes-detail/764-Burke-Rd-NE_Atlanta_GA_30305_M55158-86938\n"
     ]
    },
    {
     "name": "stdout",
     "output_type": "stream",
     "text": [
      "<Response [200]> 105\n",
      "https://www.realtor.com/realestateandhomes-detail/1987-Wellbourne-Dr-NE_Atlanta_GA_30324_M55845-30804\n"
     ]
    },
    {
     "name": "stdout",
     "output_type": "stream",
     "text": [
      "<Response [200]> 106\n",
      "https://www.realtor.com/realestateandhomes-detail/3612-Mayfair-Rd-NE_Atlanta_GA_30342_M65690-22472\n"
     ]
    },
    {
     "name": "stdout",
     "output_type": "stream",
     "text": [
      "<Response [200]> 107\n",
      "https://www.realtor.com/realestateandhomes-detail/2456-Sunset-Dr-NE_Atlanta_GA_30345_M68627-74674\n"
     ]
    },
    {
     "name": "stdout",
     "output_type": "stream",
     "text": [
      "<Response [200]> 108\n",
      "https://www.realtor.com/realestateandhomes-detail/2568-Sugarplum-Ct-NE_Atlanta_GA_30345_M59791-50539\n"
     ]
    },
    {
     "name": "stdout",
     "output_type": "stream",
     "text": [
      "<Response [200]> 109\n",
      "https://www.realtor.com/realestateandhomes-detail/566-E-Wesley-Rd-NE_Atlanta_GA_30305_M64881-91420\n"
     ]
    },
    {
     "name": "stdout",
     "output_type": "stream",
     "text": [
      "<Response [200]> 110\n",
      "https://www.realtor.com/realestateandhomes-detail/68-N-Muscogee-Ave-NW_Atlanta_GA_30305_M55111-06381\n"
     ]
    },
    {
     "name": "stdout",
     "output_type": "stream",
     "text": [
      "<Response [200]> 111\n",
      "https://www.realtor.com/realestateandhomes-detail/1590-Bishop-Hollow-Run_Atlanta_GA_30338_M59185-33004\n"
     ]
    },
    {
     "name": "stdout",
     "output_type": "stream",
     "text": [
      "<Response [200]> 112\n",
      "https://www.realtor.com/realestateandhomes-detail/3764-Ensign-Dr_Atlanta_GA_30341_M62517-76862\n"
     ]
    },
    {
     "name": "stdout",
     "output_type": "stream",
     "text": [
      "<Response [200]> 113\n",
      "https://www.realtor.com/realestateandhomes-detail/3287-Alton-Rd_Atlanta_GA_30341_M51212-02638\n"
     ]
    },
    {
     "name": "stdout",
     "output_type": "stream",
     "text": [
      "<Response [200]> 114\n",
      "https://www.realtor.com/realestateandhomes-detail/5390-Harrowood-Ln_Atlanta_GA_30327_M65337-59597\n"
     ]
    },
    {
     "name": "stdout",
     "output_type": "stream",
     "text": [
      "<Response [200]> 115\n",
      "https://www.realtor.com/realestateandhomes-detail/731-Gladstone-Rd-NW_Atlanta_GA_30318_M54419-46936\n"
     ]
    },
    {
     "name": "stdout",
     "output_type": "stream",
     "text": [
      "<Response [200]> 116\n",
      "https://www.realtor.com/realestateandhomes-detail/3670-Ridgewood-Rd-NW_Atlanta_GA_30327_M54262-50607\n"
     ]
    },
    {
     "name": "stdout",
     "output_type": "stream",
     "text": [
      "<Response [200]> 117\n",
      "https://www.realtor.com/realestateandhomes-detail/1020-Foxcroft-Rd-NW_Atlanta_GA_30327_M60481-39764\n"
     ]
    },
    {
     "name": "stdout",
     "output_type": "stream",
     "text": [
      "<Response [200]> 118\n",
      "https://www.realtor.com/realestateandhomes-detail/2106-Zelda-Dr-NE_Atlanta_GA_30345_M69845-59774\n"
     ]
    },
    {
     "name": "stdout",
     "output_type": "stream",
     "text": [
      "<Response [200]> 119\n",
      "https://www.realtor.com/realestateandhomes-detail/1168-Clifton-Rd-NE_Atlanta_GA_30307_M69207-57332\n"
     ]
    },
    {
     "name": "stdout",
     "output_type": "stream",
     "text": [
      "<Response [200]> 120\n",
      "https://www.realtor.com/realestateandhomes-detail/4679-Glenshire-Pl_Atlanta_GA_30338_M69258-80436\n"
     ]
    },
    {
     "name": "stdout",
     "output_type": "stream",
     "text": [
      "<Response [200]> 121\n",
      "https://www.realtor.com/realestateandhomes-detail/273-Peachtree-Way-NE_Atlanta_GA_30305_M57518-82705\n"
     ]
    },
    {
     "name": "stdout",
     "output_type": "stream",
     "text": [
      "<Response [200]> 122\n",
      "https://www.realtor.com/realestateandhomes-detail/3704-Doroco-Dr_Atlanta_GA_30340_M52240-56640\n"
     ]
    },
    {
     "name": "stdout",
     "output_type": "stream",
     "text": [
      "<Response [200]> 123\n",
      "https://www.realtor.com/realestateandhomes-detail/1548-Mason-Mill-Rd-NE_Atlanta_GA_30329_M59695-58671\n"
     ]
    },
    {
     "name": "stdout",
     "output_type": "stream",
     "text": [
      "<Response [200]> 124\n",
      "https://www.realtor.com/realestateandhomes-detail/1666-Johnson-Rd-NE_Atlanta_GA_30306_M66146-43507\n"
     ]
    },
    {
     "name": "stdout",
     "output_type": "stream",
     "text": [
      "<Response [200]> 125\n",
      "https://www.realtor.com/realestateandhomes-detail/3854-Sidestreet_Atlanta_GA_30341_M63137-50065\n"
     ]
    },
    {
     "name": "stdout",
     "output_type": "stream",
     "text": [
      "<Response [200]> 126\n",
      "https://www.realtor.com/realestateandhomes-detail/789-Longwood-Dr-NW_Atlanta_GA_30305_M51372-87707\n"
     ]
    },
    {
     "name": "stdout",
     "output_type": "stream",
     "text": [
      "<Response [200]> 127\n",
      "https://www.realtor.com/realestateandhomes-detail/5618-Livesage-Dr_Atlanta_GA_30349_M52777-25648\n"
     ]
    },
    {
     "name": "stdout",
     "output_type": "stream",
     "text": [
      "<Response [200]> 128\n",
      "https://www.realtor.com/realestateandhomes-detail/3296-Lions-Ruby-Ln_Atlanta_GA_30349_M94651-61280\n"
     ]
    },
    {
     "name": "stdout",
     "output_type": "stream",
     "text": [
      "<Response [200]> 129\n",
      "https://www.realtor.com/realestateandhomes-detail/5109-Mount-Vernon-Way_Atlanta_GA_30338_M54961-98446\n"
     ]
    },
    {
     "name": "stdout",
     "output_type": "stream",
     "text": [
      "<Response [200]> 130\n",
      "https://www.realtor.com/realestateandhomes-detail/1835-Wellbourne-Dr-NE_Atlanta_GA_30324_M54073-66404\n"
     ]
    },
    {
     "name": "stdout",
     "output_type": "stream",
     "text": [
      "<Response [200]> 131\n",
      "https://www.realtor.com/realestateandhomes-detail/2059-Howell-Mill-Rd-NW_Atlanta_GA_30318_M60701-68675\n"
     ]
    },
    {
     "name": "stdout",
     "output_type": "stream",
     "text": [
      "<Response [200]> 132\n",
      "https://www.realtor.com/realestateandhomes-detail/23-Clay-St-NE_Atlanta_GA_30317_M65053-62094\n"
     ]
    },
    {
     "name": "stdout",
     "output_type": "stream",
     "text": [
      "<Response [200]> 133\n",
      "https://www.realtor.com/realestateandhomes-detail/3303-Habersham-Rd-NW_Atlanta_GA_30305_M64173-11598\n"
     ]
    },
    {
     "name": "stdout",
     "output_type": "stream",
     "text": [
      "<Response [200]> 134\n",
      "https://www.realtor.com/realestateandhomes-detail/1460-Valley-View-Rd_Atlanta_GA_30338_M53814-19343\n"
     ]
    },
    {
     "name": "stdout",
     "output_type": "stream",
     "text": [
      "<Response [200]> 135\n",
      "https://www.realtor.com/realestateandhomes-detail/1929-Clairmont-Ter-NE_Atlanta_GA_30345_M55163-44799\n"
     ]
    },
    {
     "name": "stdout",
     "output_type": "stream",
     "text": [
      "<Response [200]> 136\n",
      "https://www.realtor.com/realestateandhomes-detail/3494-Briarcliff-Rd-NE_Atlanta_GA_30345_M64504-27020\n"
     ]
    },
    {
     "name": "stdout",
     "output_type": "stream",
     "text": [
      "<Response [200]> 137\n",
      "https://www.realtor.com/realestateandhomes-detail/2437-Flair-Knoll-Dr-NE_Atlanta_GA_30345_M54532-53559\n"
     ]
    },
    {
     "name": "stdout",
     "output_type": "stream",
     "text": [
      "<Response [200]> 138\n",
      "https://www.realtor.com/realestateandhomes-detail/700-Edgewater-Trl_Atlanta_GA_30328_M57053-34394\n"
     ]
    },
    {
     "name": "stdout",
     "output_type": "stream",
     "text": [
      "<Response [200]> 139\n",
      "https://www.realtor.com/realestateandhomes-detail/4070-Annecy-Dr-SW_Atlanta_GA_30331_M66115-38358\n"
     ]
    },
    {
     "name": "stdout",
     "output_type": "stream",
     "text": [
      "<Response [200]> 140\n",
      "https://www.realtor.com/realestateandhomes-detail/5408-Spelman-Dr-SW_Atlanta_GA_30331_M61928-08599\n"
     ]
    },
    {
     "name": "stdout",
     "output_type": "stream",
     "text": [
      "<Response [200]> 141\n",
      "https://www.realtor.com/realestateandhomes-detail/1912-Edinburgh-Ter-NE_Atlanta_GA_30307_M64946-84438\n"
     ]
    },
    {
     "name": "stdout",
     "output_type": "stream",
     "text": [
      "<Response [200]> 142\n",
      "https://www.realtor.com/realestateandhomes-detail/2102-Fisher-Trl-NE_Atlanta_GA_30345_M67846-27992\n"
     ]
    },
    {
     "name": "stdout",
     "output_type": "stream",
     "text": [
      "<Response [200]> 143\n",
      "https://www.realtor.com/realestateandhomes-detail/1105-Moores-Mill-Rd-NW_Atlanta_GA_30327_M64262-44755\n"
     ]
    },
    {
     "name": "stdout",
     "output_type": "stream",
     "text": [
      "<Response [200]> 144\n",
      "https://www.realtor.com/realestateandhomes-detail/295-Glen-Lake-Dr_Atlanta_GA_30327_M58036-02759\n"
     ]
    },
    {
     "name": "stdout",
     "output_type": "stream",
     "text": [
      "<Response [200]> 145\n",
      "https://www.realtor.com/realestateandhomes-detail/405-Glenmanor-Ct_Atlanta_GA_30328_M53397-91510\n"
     ]
    },
    {
     "name": "stdout",
     "output_type": "stream",
     "text": [
      "<Response [200]> 146\n",
      "https://www.realtor.com/realestateandhomes-detail/1448-N-Highland-Ave-NE_Atlanta_GA_30306_M58642-92012\n"
     ]
    },
    {
     "name": "stdout",
     "output_type": "stream",
     "text": [
      "<Response [200]> 147\n",
      "https://www.realtor.com/realestateandhomes-detail/411-Chelsea-Cir-NE_Atlanta_GA_30307_M69508-68213\n"
     ]
    },
    {
     "name": "stdout",
     "output_type": "stream",
     "text": [
      "<Response [200]> 148\n",
      "https://www.realtor.com/realestateandhomes-detail/570-Old-Harbor-Dr_Atlanta_GA_30328_M66648-35840\n"
     ]
    },
    {
     "name": "stdout",
     "output_type": "stream",
     "text": [
      "<Response [200]> 149\n",
      "https://www.realtor.com/realestateandhomes-detail/475-Grant-St-SE_Atlanta_GA_30312_M55963-26438\n"
     ]
    },
    {
     "name": "stdout",
     "output_type": "stream",
     "text": [
      "<Response [200]> 150\n",
      "https://www.realtor.com/realestateandhomes-detail/2223-Fairway-Cir-NE_Brookhaven_GA_30319_M66559-85959\n"
     ]
    },
    {
     "name": "stdout",
     "output_type": "stream",
     "text": [
      "<Response [200]> 151\n",
      "https://www.realtor.com/realestateandhomes-detail/1620-Dupont-Commons-Dr-NW_Atlanta_GA_30318_M66177-34470\n"
     ]
    },
    {
     "name": "stdout",
     "output_type": "stream",
     "text": [
      "<Response [200]> 152\n",
      "https://www.realtor.com/realestateandhomes-detail/240-Beachland-Dr_Atlanta_GA_30342_M68744-15648\n"
     ]
    },
    {
     "name": "stdout",
     "output_type": "stream",
     "text": [
      "<Response [200]> 153\n",
      "https://www.realtor.com/realestateandhomes-detail/2050-Eldorado-Dr-NE_Atlanta_GA_30345_M64791-21796\n"
     ]
    },
    {
     "name": "stdout",
     "output_type": "stream",
     "text": [
      "<Response [200]> 154\n",
      "https://www.realtor.com/realestateandhomes-detail/1263-Beech-Valley-Rd-NE_Atlanta_GA_30306_M66322-33032\n"
     ]
    },
    {
     "name": "stdout",
     "output_type": "stream",
     "text": [
      "<Response [200]> 155\n",
      "https://www.realtor.com/realestateandhomes-detail/3086-Pine-Valley-Rd_Atlanta_GA_30305_M99933-73081\n"
     ]
    },
    {
     "name": "stdout",
     "output_type": "stream",
     "text": [
      "<Response [200]> 156\n",
      "https://www.realtor.com/realestateandhomes-detail/4855-Regency-Trce-SW_Atlanta_GA_30331_M65285-74037\n"
     ]
    },
    {
     "name": "stdout",
     "output_type": "stream",
     "text": [
      "<Response [200]> 157\n",
      "https://www.realtor.com/realestateandhomes-detail/3580-Grove-Gate-Ln_Atlanta_GA_30339_M63906-67673\n"
     ]
    },
    {
     "name": "stdout",
     "output_type": "stream",
     "text": [
      "<Response [200]> 158\n",
      "https://www.realtor.com/realestateandhomes-detail/310-Hidden-Oak-Ct-SW_Atlanta_GA_30331_M59600-17366\n"
     ]
    },
    {
     "name": "stdout",
     "output_type": "stream",
     "text": [
      "<Response [200]> 159\n",
      "https://www.realtor.com/realestateandhomes-detail/25-Sanderson-St-NE_Atlanta_GA_30307_M66445-50389\n"
     ]
    },
    {
     "name": "stdout",
     "output_type": "stream",
     "text": [
      "<Response [200]> 160\n",
      "https://www.realtor.com/realestateandhomes-detail/2067-Fairhaven-Cir-NE_Atlanta_GA_30305_M54243-31518\n"
     ]
    },
    {
     "name": "stdout",
     "output_type": "stream",
     "text": [
      "<Response [200]> 161\n",
      "https://www.realtor.com/realestateandhomes-detail/737-W-Conway-Dr-NW_Atlanta_GA_30327_M54978-52851\n"
     ]
    },
    {
     "name": "stdout",
     "output_type": "stream",
     "text": [
      "<Response [200]> 162\n",
      "https://www.realtor.com/realestateandhomes-detail/1631-Harts-Mill-Rd-NE_Brookhaven_GA_30319_M58820-98653\n"
     ]
    },
    {
     "name": "stdout",
     "output_type": "stream",
     "text": [
      "<Response [200]> 163\n",
      "https://www.realtor.com/realestateandhomes-detail/81-Peachtree-Cir-NE_Atlanta_GA_30309_M66511-29493\n"
     ]
    },
    {
     "name": "stdout",
     "output_type": "stream",
     "text": [
      "<Response [200]> 164\n",
      "https://www.realtor.com/realestateandhomes-detail/3115-Wood-Valley-Rd-NW_Atlanta_GA_30327_M96847-57624\n"
     ]
    },
    {
     "name": "stdout",
     "output_type": "stream",
     "text": [
      "<Response [200]> 165\n",
      "https://www.realtor.com/realestateandhomes-detail/414-Peachtree-Battle-Ave-NW_Atlanta_GA_30305_M53807-18106\n"
     ]
    },
    {
     "name": "stdout",
     "output_type": "stream",
     "text": [
      "<Response [200]> 166\n",
      "https://www.realtor.com/realestateandhomes-detail/4526-Peachtree-Dunwoody-Rd-NE_Atlanta_GA_30342_M51239-45519\n"
     ]
    },
    {
     "name": "stdout",
     "output_type": "stream",
     "text": [
      "<Response [200]> 167\n",
      "https://www.realtor.com/realestateandhomes-detail/3780-Lake-Haven-Way_Atlanta_GA_30349_M59334-46778\n"
     ]
    },
    {
     "name": "stdout",
     "output_type": "stream",
     "text": [
      "<Response [200]> 168\n",
      "https://www.realtor.com/realestateandhomes-detail/2151-Zelda-Dr-NE_Atlanta_GA_30345_M69823-98349\n"
     ]
    },
    {
     "name": "stdout",
     "output_type": "stream",
     "text": [
      "<Response [200]> 169\n",
      "https://www.realtor.com/realestateandhomes-detail/430-Huntcliff-Grn_Atlanta_GA_30350_M67940-87946\n"
     ]
    },
    {
     "name": "stdout",
     "output_type": "stream",
     "text": [
      "<Response [200]> 170\n",
      "https://www.realtor.com/realestateandhomes-detail/6162-Red-Maple-Rd_Atlanta_GA_30349_M57481-07992\n"
     ]
    },
    {
     "name": "stdout",
     "output_type": "stream",
     "text": [
      "<Response [200]> 171\n",
      "https://www.realtor.com/realestateandhomes-detail/621-Broadview-Ter-NE_Atlanta_GA_30324_M96099-46323\n"
     ]
    },
    {
     "name": "stdout",
     "output_type": "stream",
     "text": [
      "<Response [200]> 172\n",
      "https://www.realtor.com/realestateandhomes-detail/558-Park-Dr-NE_Atlanta_GA_30306_M59769-78445\n"
     ]
    },
    {
     "name": "stdout",
     "output_type": "stream",
     "text": [
      "<Response [200]> 173\n",
      "https://www.realtor.com/realestateandhomes-detail/735-Glenridge-Close-Dr_Atlanta_GA_30328_M53844-78481\n"
     ]
    },
    {
     "name": "stdout",
     "output_type": "stream",
     "text": [
      "<Response [200]> 174\n",
      "https://www.realtor.com/realestateandhomes-detail/426-Morgan-Pl-SE_Atlanta_GA_30317_M64205-91582\n"
     ]
    },
    {
     "name": "stdout",
     "output_type": "stream",
     "text": [
      "<Response [200]> 175\n",
      "https://www.realtor.com/realestateandhomes-detail/5114-N-Ivy-Rd-NE_Atlanta_GA_30342_M51450-51434\n"
     ]
    },
    {
     "name": "stdout",
     "output_type": "stream",
     "text": [
      "<Response [200]> 176\n",
      "https://www.realtor.com/realestateandhomes-detail/2439-Briarmoor-Rd-NE_Atlanta_GA_30345_M53735-04442\n"
     ]
    },
    {
     "name": "stdout",
     "output_type": "stream",
     "text": [
      "<Response [200]> 177\n",
      "https://www.realtor.com/realestateandhomes-detail/19-Saratoga-Pl-NE_Atlanta_GA_30324_M67937-55702\n"
     ]
    },
    {
     "name": "stdout",
     "output_type": "stream",
     "text": [
      "<Response [200]> 178\n",
      "https://www.realtor.com/realestateandhomes-detail/475-Trowgate-Ln_Atlanta_GA_30350_M57455-43184\n"
     ]
    },
    {
     "name": "stdout",
     "output_type": "stream",
     "text": [
      "<Response [200]> 179\n",
      "https://www.realtor.com/realestateandhomes-detail/3180-Barkside-Ct_Atlanta_GA_30341_M50755-89125\n"
     ]
    },
    {
     "name": "stdout",
     "output_type": "stream",
     "text": [
      "<Response [200]> 180\n",
      "https://www.realtor.com/realestateandhomes-detail/4648-Glenshire-Pl_Atlanta_GA_30338_M69268-86616\n"
     ]
    },
    {
     "name": "stdout",
     "output_type": "stream",
     "text": [
      "<Response [200]> 181\n",
      "https://www.realtor.com/realestateandhomes-detail/307-Josephine-St-NE_Atlanta_GA_30307_M68084-46004\n"
     ]
    },
    {
     "name": "stdout",
     "output_type": "stream",
     "text": [
      "<Response [200]> 182\n",
      "https://www.realtor.com/realestateandhomes-detail/1751-N-Pelham-Rd-NE_Atlanta_GA_30324_M58956-83754\n"
     ]
    },
    {
     "name": "stdout",
     "output_type": "stream",
     "text": [
      "<Response [200]> 183\n",
      "https://www.realtor.com/realestateandhomes-detail/727-Channing-Dr-NW_Atlanta_GA_30318_M54150-78192\n"
     ]
    },
    {
     "name": "stdout",
     "output_type": "stream",
     "text": [
      "<Response [200]> 184\n",
      "https://www.realtor.com/realestateandhomes-detail/5271-Vernon-Lake-Dr_Atlanta_GA_30338_M58813-79227\n"
     ]
    },
    {
     "name": "stdout",
     "output_type": "stream",
     "text": [
      "<Response [200]> 185\n",
      "https://www.realtor.com/realestateandhomes-detail/1633-Woodbine-Ave-NE_Atlanta_GA_30317_M54273-49232\n"
     ]
    },
    {
     "name": "stdout",
     "output_type": "stream",
     "text": [
      "<Response [200]> 186\n",
      "https://www.realtor.com/realestateandhomes-detail/138-Peachtree-Hills-Ave-NE_Atlanta_GA_30305_M65853-92371\n"
     ]
    },
    {
     "name": "stdout",
     "output_type": "stream",
     "text": [
      "<Response [200]> 187\n",
      "https://www.realtor.com/realestateandhomes-detail/521-Collier-Rd-NW_Atlanta_GA_30318_M52887-18827\n"
     ]
    },
    {
     "name": "stdout",
     "output_type": "stream",
     "text": [
      "<Response [200]> 188\n",
      "https://www.realtor.com/realestateandhomes-detail/1775-Mount-Paran-Rd-NW_Atlanta_GA_30327_M69589-23434\n"
     ]
    },
    {
     "name": "stdout",
     "output_type": "stream",
     "text": [
      "<Response [200]> 189\n",
      "https://www.realtor.com/realestateandhomes-detail/1242-Wild-Creek-Trl-NE_Atlanta_GA_30324_M61325-59904\n"
     ]
    },
    {
     "name": "stdout",
     "output_type": "stream",
     "text": [
      "<Response [200]> 190\n",
      "https://www.realtor.com/realestateandhomes-detail/1165-E-Beechwood-Dr-NW_Atlanta_GA_30327_M63391-54248\n"
     ]
    },
    {
     "name": "stdout",
     "output_type": "stream",
     "text": [
      "<Response [200]> 191\n",
      "https://www.realtor.com/realestateandhomes-detail/29-Greenland-Trce_Atlanta_GA_30342_M56919-10431\n"
     ]
    },
    {
     "name": "stdout",
     "output_type": "stream",
     "text": [
      "<Response [200]> 192\n",
      "https://www.realtor.com/realestateandhomes-detail/335-Eureka-Dr-NE_Atlanta_GA_30305_M62822-06110\n"
     ]
    },
    {
     "name": "stdout",
     "output_type": "stream",
     "text": [
      "<Response [200]> 193\n",
      "https://www.realtor.com/realestateandhomes-detail/1706-Remington-Rd_Atlanta_GA_30341_M62764-46856\n"
     ]
    },
    {
     "name": "stdout",
     "output_type": "stream",
     "text": [
      "<Response [200]> 194\n",
      "https://www.realtor.com/realestateandhomes-detail/19-Spruell-Springs-Rd_Atlanta_GA_30342_M54997-61087\n"
     ]
    },
    {
     "name": "stdout",
     "output_type": "stream",
     "text": [
      "<Response [200]> 195\n",
      "https://www.realtor.com/realestateandhomes-detail/2329-Red-Hibiscus-Ct_Atlanta_GA_30331_M99193-10845\n"
     ]
    },
    {
     "name": "stdout",
     "output_type": "stream",
     "text": [
      "<Response [200]> 196\n",
      "https://www.realtor.com/realestateandhomes-detail/3200-Windsor-Lake-Dr-NE_Brookhaven_GA_30319_M67274-05175\n"
     ]
    },
    {
     "name": "stdout",
     "output_type": "stream",
     "text": [
      "<Response [200]> 197\n",
      "https://www.realtor.com/realestateandhomes-detail/2836-Alpine-Rd-NE_Atlanta_GA_30305_M69374-39358\n"
     ]
    },
    {
     "name": "stdout",
     "output_type": "stream",
     "text": [
      "<Response [200]> 198\n",
      "https://www.realtor.com/realestateandhomes-detail/1088-Clifton-Rd-NE_Atlanta_GA_30307_M68922-11620\n"
     ]
    },
    {
     "name": "stdout",
     "output_type": "stream",
     "text": [
      "<Response [200]> 199\n",
      "https://www.realtor.com/realestateandhomes-detail/1905-Windemere-Dr-NE_Atlanta_GA_30324_M54789-19123\n"
     ]
    },
    {
     "name": "stdout",
     "output_type": "stream",
     "text": [
      "<Response [200]> 200\n",
      "https://www.realtor.com/realestateandhomes-detail/7632-Auden-Trl_Atlanta_GA_30350_M59946-93066\n"
     ]
    },
    {
     "name": "stdout",
     "output_type": "stream",
     "text": [
      "<Response [200]> 201\n",
      "https://www.realtor.com/realestateandhomes-detail/120-Huntcliff-Pt_Atlanta_GA_30350_M62945-98702\n"
     ]
    },
    {
     "name": "stdout",
     "output_type": "stream",
     "text": [
      "<Response [200]> 202\n",
      "https://www.realtor.com/realestateandhomes-detail/9035-River-Run_Atlanta_GA_30350_M67910-39476\n"
     ]
    },
    {
     "name": "stdout",
     "output_type": "stream",
     "text": [
      "<Response [200]> 203\n",
      "https://www.realtor.com/realestateandhomes-detail/4411-Paces-Battle-NW_Atlanta_GA_30327_M58475-27933\n"
     ]
    },
    {
     "name": "stdout",
     "output_type": "stream",
     "text": [
      "<Response [200]> 204\n",
      "https://www.realtor.com/realestateandhomes-detail/4751-Rosebrook-Pl-SE_Atlanta_GA_30339_M99887-00592\n"
     ]
    },
    {
     "name": "stdout",
     "output_type": "stream",
     "text": [
      "<Response [200]> 205\n",
      "https://www.realtor.com/realestateandhomes-detail/313-5th-St-NE_Atlanta_GA_30308_M50052-87519\n"
     ]
    },
    {
     "name": "stdout",
     "output_type": "stream",
     "text": [
      "<Response [200]> 206\n",
      "https://www.realtor.com/realestateandhomes-detail/3370-Habersham-Rd-NW_Atlanta_GA_30305_M64470-12554\n"
     ]
    },
    {
     "name": "stdout",
     "output_type": "stream",
     "text": [
      "<Response [200]> 207\n",
      "https://www.realtor.com/realestateandhomes-detail/151-Rockmart-Dr-SW_Atlanta_GA_30314_M51092-68793\n"
     ]
    },
    {
     "name": "stdout",
     "output_type": "stream",
     "text": [
      "<Response [200]> 208\n",
      "https://www.realtor.com/realestateandhomes-detail/1230-New-Britain-Dr-SW_Atlanta_GA_30331_M50170-03730\n"
     ]
    },
    {
     "name": "stdout",
     "output_type": "stream",
     "text": [
      "<Response [200]> 209\n",
      "https://www.realtor.com/realestateandhomes-detail/8120-Habersham-Waters-Rd_Atlanta_GA_30350_M60010-29499\n"
     ]
    },
    {
     "name": "stdout",
     "output_type": "stream",
     "text": [
      "<Response [200]> 210\n",
      "https://www.realtor.com/realestateandhomes-detail/514-Valley-Green-Dr-NE_Atlanta_GA_30342_M56086-58316\n"
     ]
    },
    {
     "name": "stdout",
     "output_type": "stream",
     "text": [
      "<Response [200]> 211\n",
      "https://www.realtor.com/realestateandhomes-detail/1542-Lavista-Rd-NE_Atlanta_GA_30329_M61455-65717\n"
     ]
    },
    {
     "name": "stdout",
     "output_type": "stream",
     "text": [
      "<Response [200]> 212\n",
      "https://www.realtor.com/realestateandhomes-detail/5395-Mount-Vernon-Way_Atlanta_GA_30338_M59574-01750\n"
     ]
    },
    {
     "name": "stdout",
     "output_type": "stream",
     "text": [
      "<Response [200]> 213\n",
      "https://www.realtor.com/realestateandhomes-detail/4906-Cambridge-Dr_Atlanta_GA_30338_M53470-22878\n"
     ]
    },
    {
     "name": "stdout",
     "output_type": "stream",
     "text": [
      "<Response [200]> 214\n",
      "https://www.realtor.com/realestateandhomes-detail/1176-Lullwater-Rd-NE_Atlanta_GA_30307_M65186-46439\n"
     ]
    },
    {
     "name": "stdout",
     "output_type": "stream",
     "text": [
      "<Response [200]> 215\n",
      "https://www.realtor.com/realestateandhomes-detail/2086-Lenox-Rd-NE_Atlanta_GA_30324_M51098-72385\n"
     ]
    },
    {
     "name": "stdout",
     "output_type": "stream",
     "text": [
      "<Response [200]> 216\n",
      "https://www.realtor.com/realestateandhomes-detail/7300-Chattahoochee-Bluff-Dr_Atlanta_GA_30350_M68822-47794\n"
     ]
    },
    {
     "name": "stdout",
     "output_type": "stream",
     "text": [
      "<Response [200]> 217\n",
      "https://www.realtor.com/realestateandhomes-detail/513-Broadview-Ln-NE_Atlanta_GA_30324_M95454-26633\n"
     ]
    },
    {
     "name": "stdout",
     "output_type": "stream",
     "text": [
      "<Response [200]> 218\n",
      "https://www.realtor.com/realestateandhomes-detail/600-Broadview-Ter-NE_Atlanta_GA_30324_M50706-22969\n"
     ]
    },
    {
     "name": "stdout",
     "output_type": "stream",
     "text": [
      "<Response [200]> 219\n",
      "https://www.realtor.com/realestateandhomes-detail/205-Powers-Cv_Atlanta_GA_30327_M64155-30170\n"
     ]
    },
    {
     "name": "stdout",
     "output_type": "stream",
     "text": [
      "<Response [200]> 220\n"
     ]
    },
    {
     "name": "stdout",
     "output_type": "stream",
     "text": [
      "https://www.realtor.com/realestateandhomes-detail/1104-Mason-Woods-Dr-NE_Atlanta_GA_30329_M59076-59940\n"
     ]
    },
    {
     "name": "stdout",
     "output_type": "stream",
     "text": [
      "<Response [200]> 221\n",
      "https://www.realtor.com/realestateandhomes-detail/2063-Browns-Mill-Rd-SE_Atlanta_GA_30315_M60716-71386\n"
     ]
    },
    {
     "name": "stdout",
     "output_type": "stream",
     "text": [
      "<Response [200]> 222\n",
      "https://www.realtor.com/realestateandhomes-detail/1190-W-Wesley-Rd-NW_Atlanta_GA_30327_M54820-80430\n"
     ]
    },
    {
     "name": "stdout",
     "output_type": "stream",
     "text": [
      "<Response [200]> 223\n",
      "https://www.realtor.com/realestateandhomes-detail/1339-Valley-View-Rd_Atlanta_GA_30338_M53898-78712\n"
     ]
    },
    {
     "name": "stdout",
     "output_type": "stream",
     "text": [
      "<Response [200]> 224\n",
      "https://www.realtor.com/realestateandhomes-detail/6097-Marigold-Way_Atlanta_GA_30349_M91666-57807\n"
     ]
    },
    {
     "name": "stdout",
     "output_type": "stream",
     "text": [
      "<Response [200]> 225\n",
      "https://www.realtor.com/realestateandhomes-detail/3040-Stone-Rd_Atlanta_GA_30344_M53351-18594\n"
     ]
    },
    {
     "name": "stdout",
     "output_type": "stream",
     "text": [
      "<Response [200]> 226\n",
      "https://www.realtor.com/realestateandhomes-detail/3008-Ridgeside-Ct_Atlanta_GA_30341_M50764-08975\n"
     ]
    },
    {
     "name": "stdout",
     "output_type": "stream",
     "text": [
      "<Response [200]> 227\n",
      "https://www.realtor.com/realestateandhomes-detail/2401-Greenglade-Rd-NE_Atlanta_GA_30345_M64162-91417\n"
     ]
    },
    {
     "name": "stdout",
     "output_type": "stream",
     "text": [
      "<Response [200]> 228\n",
      "https://www.realtor.com/realestateandhomes-detail/985-McDaniel-St-SW_Atlanta_GA_30310_M50701-23104\n"
     ]
    },
    {
     "name": "stdout",
     "output_type": "stream",
     "text": [
      "<Response [200]> 229\n",
      "https://www.realtor.com/realestateandhomes-detail/1638-Gilstrap-Ln-NW_Atlanta_GA_30318_M53683-72226\n"
     ]
    },
    {
     "name": "stdout",
     "output_type": "stream",
     "text": [
      "<Response [200]> 230\n",
      "https://www.realtor.com/realestateandhomes-detail/2937-Sylvan-Ramble-Rd-NE_Atlanta_GA_30345_M53793-55195\n"
     ]
    },
    {
     "name": "stdout",
     "output_type": "stream",
     "text": [
      "<Response [200]> 231\n",
      "https://www.realtor.com/realestateandhomes-detail/2166-Leafmore-Dr_Decatur_GA_30033_M62617-98192\n"
     ]
    },
    {
     "name": "stdout",
     "output_type": "stream",
     "text": [
      "<Response [200]> 232\n",
      "https://www.realtor.com/realestateandhomes-detail/613-Home-Ave-SE_Atlanta_GA_30312_M64945-99053\n"
     ]
    },
    {
     "name": "stdout",
     "output_type": "stream",
     "text": [
      "<Response [200]> 233\n",
      "https://www.realtor.com/realestateandhomes-detail/1139-Berne-St-SE_Atlanta_GA_30316_M59674-63034\n"
     ]
    },
    {
     "name": "stdout",
     "output_type": "stream",
     "text": [
      "<Response [200]> 234\n",
      "https://www.realtor.com/realestateandhomes-detail/2381-Briarleigh-Way_Atlanta_GA_30338_M65688-45590\n"
     ]
    },
    {
     "name": "stdout",
     "output_type": "stream",
     "text": [
      "<Response [200]> 235\n",
      "https://www.realtor.com/realestateandhomes-detail/6277-Mount-Vernon-Oaks-Dr_Atlanta_GA_30328_M63426-85677\n"
     ]
    },
    {
     "name": "stdout",
     "output_type": "stream",
     "text": [
      "<Response [200]> 236\n",
      "https://www.realtor.com/realestateandhomes-detail/5697-Whitehall-Walk_Atlanta_GA_30338_M54889-46108\n"
     ]
    },
    {
     "name": "stdout",
     "output_type": "stream",
     "text": [
      "<Response [200]> 237\n",
      "https://www.realtor.com/realestateandhomes-detail/18-Polo-Dr-NE_Atlanta_GA_30309_M64259-94563\n"
     ]
    },
    {
     "name": "stdout",
     "output_type": "stream",
     "text": [
      "<Response [200]> 238\n",
      "https://www.realtor.com/realestateandhomes-detail/782-Charles-Allen-Dr-NE_Atlanta_GA_30308_M63092-94078\n"
     ]
    },
    {
     "name": "stdout",
     "output_type": "stream",
     "text": [
      "<Response [200]> 239\n",
      "https://www.realtor.com/realestateandhomes-detail/3455-Rivers-Call-Blvd_Atlanta_GA_30339_M66133-97284\n"
     ]
    },
    {
     "name": "stdout",
     "output_type": "stream",
     "text": [
      "<Response [200]> 240\n",
      "https://www.realtor.com/realestateandhomes-detail/2226-Virginia-Pl-NE_Atlanta_GA_30305_M58199-05462\n"
     ]
    },
    {
     "name": "stdout",
     "output_type": "stream",
     "text": [
      "<Response [200]> 241\n",
      "https://www.realtor.com/realestateandhomes-detail/3277-Chase-Rd_Atlanta_GA_30341_M50947-06553\n"
     ]
    },
    {
     "name": "stdout",
     "output_type": "stream",
     "text": [
      "<Response [200]> 242\n",
      "https://www.realtor.com/realestateandhomes-detail/279-Lakeview-Ave-NE_Atlanta_GA_30305_M67862-38131\n"
     ]
    },
    {
     "name": "stdout",
     "output_type": "stream",
     "text": [
      "<Response [200]> 243\n",
      "https://www.realtor.com/realestateandhomes-detail/1576-Beecher-St-SW_Atlanta_GA_30310_M50994-35659\n"
     ]
    },
    {
     "name": "stdout",
     "output_type": "stream",
     "text": [
      "<Response [200]> 244\n",
      "https://www.realtor.com/realestateandhomes-detail/34-Conifer-Park-Ln-NE_Atlanta_GA_30342_M62329-14059\n"
     ]
    },
    {
     "name": "stdout",
     "output_type": "stream",
     "text": [
      "<Response [200]> 245\n",
      "https://www.realtor.com/realestateandhomes-detail/1311-Roxboro-Dr-NE_Atlanta_GA_30324_M65173-56653\n"
     ]
    },
    {
     "name": "stdout",
     "output_type": "stream",
     "text": [
      "<Response [200]> 246\n",
      "https://www.realtor.com/realestateandhomes-detail/1128-Brookhaven-Walk-Way-NE_Brookhaven_GA_30319_M62723-29777\n"
     ]
    },
    {
     "name": "stdout",
     "output_type": "stream",
     "text": [
      "<Response [200]> 247\n",
      "https://www.realtor.com/realestateandhomes-detail/78-Whitefoord-Ave-SE_Atlanta_GA_30317_M68852-91527\n"
     ]
    },
    {
     "name": "stdout",
     "output_type": "stream",
     "text": [
      "<Response [200]> 248\n",
      "https://www.realtor.com/realestateandhomes-detail/1612-Drew-Dr-NW_Atlanta_GA_30318_M60381-72576\n"
     ]
    },
    {
     "name": "stdout",
     "output_type": "stream",
     "text": [
      "<Response [200]> 249\n",
      "https://www.realtor.com/realestateandhomes-detail/1404-Briarcliff-Rd-NE_Atlanta_GA_30306_M65067-21338\n"
     ]
    },
    {
     "name": "stdout",
     "output_type": "stream",
     "text": [
      "<Response [200]> 250\n",
      "https://www.realtor.com/realestateandhomes-detail/3776-Powers-Ferry-Rd-NW_Atlanta_GA_30342_M69248-63585\n"
     ]
    },
    {
     "name": "stdout",
     "output_type": "stream",
     "text": [
      "<Response [200]> 251\n",
      "https://www.realtor.com/realestateandhomes-detail/680-Grady-Pl-SW_Atlanta_GA_30310_M55260-64392\n"
     ]
    },
    {
     "name": "stdout",
     "output_type": "stream",
     "text": [
      "<Response [200]> 252\n",
      "https://www.realtor.com/realestateandhomes-detail/4136-N-Stratford-Rd-NE_Atlanta_GA_30342_M51091-12208\n"
     ]
    },
    {
     "name": "stdout",
     "output_type": "stream",
     "text": [
      "<Response [200]> 253\n",
      "https://www.realtor.com/realestateandhomes-detail/4040-Annecy-Dr-SW_Atlanta_GA_30331_M50699-49891\n"
     ]
    },
    {
     "name": "stdout",
     "output_type": "stream",
     "text": [
      "<Response [200]> 254\n",
      "https://www.realtor.com/realestateandhomes-detail/5231-Seaton-Dr_Atlanta_GA_30338_M56282-31680\n"
     ]
    },
    {
     "name": "stdout",
     "output_type": "stream",
     "text": [
      "<Response [200]> 255\n",
      "https://www.realtor.com/realestateandhomes-detail/171-Lowry-St-NE_Atlanta_GA_30307_M59814-73255\n"
     ]
    },
    {
     "name": "stdout",
     "output_type": "stream",
     "text": [
      "<Response [200]> 256\n",
      "https://www.realtor.com/realestateandhomes-detail/313-6th-St-NE_Atlanta_GA_30308_M63889-59246\n"
     ]
    },
    {
     "name": "stdout",
     "output_type": "stream",
     "text": [
      "<Response [200]> 257\n",
      "https://www.realtor.com/realestateandhomes-detail/306-Pinecrest-Rd-NE_Atlanta_GA_30342_M62380-13989\n"
     ]
    },
    {
     "name": "stdout",
     "output_type": "stream",
     "text": [
      "<Response [200]> 258\n",
      "https://www.realtor.com/realestateandhomes-detail/5360-Lake-Forrest-Dr_Atlanta_GA_30342_M63813-62405\n"
     ]
    },
    {
     "name": "stdout",
     "output_type": "stream",
     "text": [
      "<Response [200]> 259\n",
      "https://www.realtor.com/realestateandhomes-detail/4715-Lake-Forrest-Dr_Atlanta_GA_30342_M55246-12396\n"
     ]
    },
    {
     "name": "stdout",
     "output_type": "stream",
     "text": [
      "<Response [200]> 260\n",
      "https://www.realtor.com/realestateandhomes-detail/2820-Harwick-Dr_Atlanta_GA_30350_M68549-72273\n"
     ]
    },
    {
     "name": "stdout",
     "output_type": "stream",
     "text": [
      "<Response [200]> 261\n",
      "https://www.realtor.com/realestateandhomes-detail/806-Brookridge-Dr-NE_Atlanta_GA_30306_M60550-70190\n"
     ]
    },
    {
     "name": "stdout",
     "output_type": "stream",
     "text": [
      "<Response [200]> 262\n",
      "https://www.realtor.com/realestateandhomes-detail/5233-Wynterhall-Dr_Atlanta_GA_30338_M61014-34618\n"
     ]
    },
    {
     "name": "stdout",
     "output_type": "stream",
     "text": [
      "<Response [200]> 263\n",
      "https://www.realtor.com/realestateandhomes-detail/1181-Fairview-Rd-NE_Atlanta_GA_30306_M65258-09724\n"
     ]
    },
    {
     "name": "stdout",
     "output_type": "stream",
     "text": [
      "<Response [200]> 264\n",
      "https://www.realtor.com/realestateandhomes-detail/6905-Castleton-Dr_Atlanta_GA_30328_M69952-39171\n"
     ]
    },
    {
     "name": "stdout",
     "output_type": "stream",
     "text": [
      "<Response [200]> 265\n",
      "https://www.realtor.com/realestateandhomes-detail/57-Northwood-Ave-NE_Atlanta_GA_30309_M54241-82454\n"
     ]
    },
    {
     "name": "stdout",
     "output_type": "stream",
     "text": [
      "<Response [200]> 266\n",
      "https://www.realtor.com/realestateandhomes-detail/8205-Innsbruck-Dr_Atlanta_GA_30350_M66631-45574\n"
     ]
    },
    {
     "name": "stdout",
     "output_type": "stream",
     "text": [
      "<Response [200]> 267\n",
      "https://www.realtor.com/realestateandhomes-detail/4395-Woodland-Brook-Dr-SE_Atlanta_GA_30339_M58197-53434\n"
     ]
    },
    {
     "name": "stdout",
     "output_type": "stream",
     "text": [
      "<Response [200]> 268\n",
      "https://www.realtor.com/realestateandhomes-detail/1190-Arborvista-Dr-NE_Atlanta_GA_30329_M61930-42528\n"
     ]
    },
    {
     "name": "stdout",
     "output_type": "stream",
     "text": [
      "<Response [200]> 269\n",
      "https://www.realtor.com/realestateandhomes-detail/481-Hill-St-SE_Atlanta_GA_30312_M56589-83785\n"
     ]
    },
    {
     "name": "stdout",
     "output_type": "stream",
     "text": [
      "<Response [200]> 270\n",
      "https://www.realtor.com/realestateandhomes-detail/930-Custer-St_Atlanta_GA_30354_M55744-79240\n"
     ]
    },
    {
     "name": "stdout",
     "output_type": "stream",
     "text": [
      "<Response [200]> 271\n",
      "https://www.realtor.com/realestateandhomes-detail/1185-Briarcliff-Rd-NE_Atlanta_GA_30306_M67894-69416\n"
     ]
    },
    {
     "name": "stdout",
     "output_type": "stream",
     "text": [
      "<Response [200]> 272\n",
      "https://www.realtor.com/realestateandhomes-detail/4715-Lake-Forrest-Dr_Atlanta_GA_30342_M90582-21469\n"
     ]
    },
    {
     "name": "stdout",
     "output_type": "stream",
     "text": [
      "<Response [200]> 273\n",
      "https://www.realtor.com/realestateandhomes-detail/335-Amberidge-Trl_Atlanta_GA_30328_M57061-15053\n"
     ]
    },
    {
     "name": "stdout",
     "output_type": "stream",
     "text": [
      "<Response [200]> 274\n",
      "https://www.realtor.com/realestateandhomes-detail/643-Larchmont-Cir-NW_Atlanta_GA_30318_M54440-39760\n"
     ]
    },
    {
     "name": "stdout",
     "output_type": "stream",
     "text": [
      "<Response [200]> 275\n",
      "https://www.realtor.com/realestateandhomes-detail/2792-Lansdowne-Ln-SE_Atlanta_GA_30339_M57514-44961\n"
     ]
    },
    {
     "name": "stdout",
     "output_type": "stream",
     "text": [
      "<Response [200]> 276\n",
      "https://www.realtor.com/realestateandhomes-detail/2055-E-Roxboro-Rd-NE_Atlanta_GA_30324_M65391-94495\n"
     ]
    },
    {
     "name": "stdout",
     "output_type": "stream",
     "text": [
      "<Response [200]> 277\n",
      "https://www.realtor.com/realestateandhomes-detail/2523-Tilson-Dr-SE_Atlanta_GA_30317_M62883-99778\n"
     ]
    },
    {
     "name": "stdout",
     "output_type": "stream",
     "text": [
      "<Response [200]> 278\n",
      "https://www.realtor.com/realestateandhomes-detail/1487-Sylvan-Cir-NE_Brookhaven_GA_30319_M55974-35490\n"
     ]
    },
    {
     "name": "stdout",
     "output_type": "stream",
     "text": [
      "<Response [200]> 279\n",
      "https://www.realtor.com/realestateandhomes-detail/272-Ferguson-St-NE_Atlanta_GA_30307_M65831-97349\n"
     ]
    },
    {
     "name": "stdout",
     "output_type": "stream",
     "text": [
      "<Response [200]> 280\n",
      "https://www.realtor.com/realestateandhomes-detail/390-Holderness-St-SW_Atlanta_GA_30310_M52606-86095\n"
     ]
    },
    {
     "name": "stdout",
     "output_type": "stream",
     "text": [
      "<Response [200]> 281\n",
      "https://www.realtor.com/realestateandhomes-detail/1270-Beech-Valley-Rd-NE_Atlanta_GA_30306_M66275-00258\n"
     ]
    },
    {
     "name": "stdout",
     "output_type": "stream",
     "text": [
      "<Response [200]> 282\n",
      "https://www.realtor.com/realestateandhomes-detail/2616-Hawthorne-Dr-NE_Atlanta_GA_30345_M58945-94116\n"
     ]
    },
    {
     "name": "stdout",
     "output_type": "stream",
     "text": [
      "<Response [200]> 283\n",
      "https://www.realtor.com/realestateandhomes-detail/522-Trabert-Ave-NW_Atlanta_GA_30309_M68902-51748\n"
     ]
    },
    {
     "name": "stdout",
     "output_type": "stream",
     "text": [
      "<Response [200]> 284\n",
      "https://www.realtor.com/realestateandhomes-detail/1157-Hancock-Dr-NE_Atlanta_GA_30306_M68137-66811\n"
     ]
    },
    {
     "name": "stdout",
     "output_type": "stream",
     "text": [
      "<Response [200]> 285\n",
      "https://www.realtor.com/realestateandhomes-detail/7611-Regency-Cir_Atlanta_GA_30350_M60252-10846\n"
     ]
    },
    {
     "name": "stdout",
     "output_type": "stream",
     "text": [
      "<Response [200]> 286\n",
      "https://www.realtor.com/realestateandhomes-detail/3042-Jefferson-St_Atlanta_GA_30341_M57508-60137\n"
     ]
    },
    {
     "name": "stdout",
     "output_type": "stream",
     "text": [
      "<Response [200]> 287\n",
      "https://www.realtor.com/realestateandhomes-detail/2175-Fisher-Trl-NE_Atlanta_GA_30345_M67758-33230\n"
     ]
    },
    {
     "name": "stdout",
     "output_type": "stream",
     "text": [
      "<Response [200]> 288\n",
      "https://www.realtor.com/realestateandhomes-detail/1039-Avondale-Ave-SE_Atlanta_GA_30312_M97466-70214\n"
     ]
    },
    {
     "name": "stdout",
     "output_type": "stream",
     "text": [
      "<Response [200]> 289\n",
      "https://www.realtor.com/realestateandhomes-detail/3333-Thornewood-Dr_Atlanta_GA_30340_M55262-46168\n"
     ]
    },
    {
     "name": "stdout",
     "output_type": "stream",
     "text": [
      "<Response [200]> 290\n",
      "https://www.realtor.com/realestateandhomes-detail/2786-Overlook-Dr-NE_Atlanta_GA_30345_M54181-86307\n"
     ]
    },
    {
     "name": "stdout",
     "output_type": "stream",
     "text": [
      "<Response [200]> 291\n",
      "https://www.realtor.com/realestateandhomes-detail/1120-Heards-Ferry-Rd_Atlanta_GA_30328_M58608-82438\n"
     ]
    },
    {
     "name": "stdout",
     "output_type": "stream",
     "text": [
      "<Response [200]> 292\n",
      "https://www.realtor.com/realestateandhomes-detail/1824-Mount-Paran-Rd-NW_Atlanta_GA_30327_M51545-03349\n"
     ]
    },
    {
     "name": "stdout",
     "output_type": "stream",
     "text": [
      "<Response [200]> 293\n",
      "https://www.realtor.com/realestateandhomes-detail/1352-Middlesex-Ave-NE_Atlanta_GA_30306_M65958-07942\n"
     ]
    },
    {
     "name": "stdout",
     "output_type": "stream",
     "text": [
      "<Response [200]> 294\n",
      "https://www.realtor.com/realestateandhomes-detail/1087-Lee-Cir-NE_Atlanta_GA_30324_M52528-34873\n"
     ]
    },
    {
     "name": "stdout",
     "output_type": "stream",
     "text": [
      "<Response [200]> 295\n",
      "https://www.realtor.com/realestateandhomes-detail/515-Pine-Forest-Rd_Atlanta_GA_30342_M55140-59684\n"
     ]
    },
    {
     "name": "stdout",
     "output_type": "stream",
     "text": [
      "<Response [200]> 296\n",
      "https://www.realtor.com/realestateandhomes-detail/945-Benson-St-SE_Atlanta_GA_30316_M56891-51162\n"
     ]
    },
    {
     "name": "stdout",
     "output_type": "stream",
     "text": [
      "<Response [200]> 297\n",
      "https://www.realtor.com/realestateandhomes-detail/2356-Sherbrooke-Dr-NE_Atlanta_GA_30345_M54563-46632\n"
     ]
    },
    {
     "name": "stdout",
     "output_type": "stream",
     "text": [
      "<Response [200]> 298\n",
      "https://www.realtor.com/realestateandhomes-detail/3673-Castlegate-Dr-NW_Atlanta_GA_30327_M53301-03619\n"
     ]
    },
    {
     "name": "stdout",
     "output_type": "stream",
     "text": [
      "<Response [200]> 299\n",
      "https://www.realtor.com/realestateandhomes-detail/6206-Mountain-Brook-Way_Atlanta_GA_30328_M56587-51966\n"
     ]
    },
    {
     "name": "stdout",
     "output_type": "stream",
     "text": [
      "<Response [200]> 300\n",
      "https://www.realtor.com/realestateandhomes-detail/2300-Bohler-Rd-NW_Atlanta_GA_30327_M54251-68305\n"
     ]
    },
    {
     "name": "stdout",
     "output_type": "stream",
     "text": [
      "<Response [200]> 301\n",
      "https://www.realtor.com/realestateandhomes-detail/327-5th-St-NE_Atlanta_GA_30308_M53173-21401\n"
     ]
    },
    {
     "name": "stdout",
     "output_type": "stream",
     "text": [
      "<Response [200]> 302\n",
      "https://www.realtor.com/realestateandhomes-detail/780-Starlight-Dr_Atlanta_GA_30342_M93642-51244\n"
     ]
    },
    {
     "name": "stdout",
     "output_type": "stream",
     "text": [
      "<Response [200]> 303\n",
      "https://www.realtor.com/realestateandhomes-detail/3788-Briarcliff-Rd-NE_Atlanta_GA_30345_M68674-70183\n"
     ]
    },
    {
     "name": "stdout",
     "output_type": "stream",
     "text": [
      "<Response [200]> 304\n",
      "https://www.realtor.com/realestateandhomes-detail/5860-Riverwood-Dr_Atlanta_GA_30328_M65569-63531\n"
     ]
    },
    {
     "name": "stdout",
     "output_type": "stream",
     "text": [
      "<Response [200]> 305\n",
      "https://www.realtor.com/realestateandhomes-detail/2631-Holliston-Ct_Atlanta_GA_30360_M51500-72371\n"
     ]
    },
    {
     "name": "stdout",
     "output_type": "stream",
     "text": [
      "<Response [200]> 306\n",
      "https://www.realtor.com/realestateandhomes-detail/200-Eureka-Dr-NE_Atlanta_GA_30305_M52444-01398\n"
     ]
    },
    {
     "name": "stdout",
     "output_type": "stream",
     "text": [
      "<Response [200]> 307\n",
      "https://www.realtor.com/realestateandhomes-detail/652-Woodward-Ave-SE_Atlanta_GA_30312_M58086-95598\n"
     ]
    },
    {
     "name": "stdout",
     "output_type": "stream",
     "text": [
      "<Response [200]> 308\n",
      "https://www.realtor.com/realestateandhomes-detail/3891-Wieuca-Rd-NE_Atlanta_GA_30342_M63543-80794\n"
     ]
    },
    {
     "name": "stdout",
     "output_type": "stream",
     "text": [
      "<Response [200]> 309\n",
      "https://www.realtor.com/realestateandhomes-detail/1822-Berkeley-Oaks-Ln-NE_Atlanta_GA_30329_M58636-83374\n"
     ]
    },
    {
     "name": "stdout",
     "output_type": "stream",
     "text": [
      "<Response [200]> 310\n",
      "https://www.realtor.com/realestateandhomes-detail/2254-Wayside-Dr-NE_Brookhaven_GA_30319_M66369-80328\n"
     ]
    },
    {
     "name": "stdout",
     "output_type": "stream",
     "text": [
      "<Response [200]> 311\n",
      "https://www.realtor.com/realestateandhomes-detail/1190-Cumberland-Rd-NE_Atlanta_GA_30306_M65802-47042\n"
     ]
    },
    {
     "name": "stdout",
     "output_type": "stream",
     "text": [
      "<Response [200]> 312\n",
      "https://www.realtor.com/realestateandhomes-detail/2793-Woodland-Park-Dr-NE_Atlanta_GA_30345_M63661-31459\n"
     ]
    },
    {
     "name": "stdout",
     "output_type": "stream",
     "text": [
      "<Response [200]> 313\n",
      "https://www.realtor.com/realestateandhomes-detail/2611-Ridgemore-Rd-NW_Atlanta_GA_30318_M69895-46592\n"
     ]
    },
    {
     "name": "stdout",
     "output_type": "stream",
     "text": [
      "<Response [200]> 314\n",
      "https://www.realtor.com/realestateandhomes-detail/1435-Skyhaven-Rd-SE_Atlanta_GA_30316_M68679-07927\n"
     ]
    },
    {
     "name": "stdout",
     "output_type": "stream",
     "text": [
      "<Response [200]> 315\n",
      "https://www.realtor.com/realestateandhomes-detail/2034-Pine-Forest-Dr-NE_Atlanta_GA_30345_M52904-50028\n"
     ]
    },
    {
     "name": "stdout",
     "output_type": "stream",
     "text": [
      "<Response [200]> 316\n",
      "https://www.realtor.com/realestateandhomes-detail/3245-Lions-Ruby-Ln_Atlanta_GA_30349_M94393-38536\n"
     ]
    },
    {
     "name": "stdout",
     "output_type": "stream",
     "text": [
      "<Response [200]> 317\n",
      "https://www.realtor.com/realestateandhomes-detail/5232-Wynterhall-Dr_Atlanta_GA_30338_M60635-72420\n"
     ]
    },
    {
     "name": "stdout",
     "output_type": "stream",
     "text": [
      "<Response [200]> 318\n",
      "https://www.realtor.com/realestateandhomes-detail/428-S-Howard-St-SE_Atlanta_GA_30317_M69215-00724\n"
     ]
    },
    {
     "name": "stdout",
     "output_type": "stream",
     "text": [
      "<Response [200]> 319\n",
      "https://www.realtor.com/realestateandhomes-detail/1146-Ponce-de-Leon-Ave-NE_Atlanta_GA_30306_M61595-56830\n"
     ]
    },
    {
     "name": "stdout",
     "output_type": "stream",
     "text": [
      "<Response [200]> 320\n",
      "https://www.realtor.com/realestateandhomes-detail/2762-Arbor-Ave-SE_Atlanta_GA_30317_M62280-28951\n"
     ]
    },
    {
     "name": "stdout",
     "output_type": "stream",
     "text": [
      "<Response [200]> 321\n",
      "https://www.realtor.com/realestateandhomes-detail/4567-Amberly-Ct_Atlanta_GA_30360_M96886-20273\n"
     ]
    },
    {
     "name": "stdout",
     "output_type": "stream",
     "text": [
      "<Response [200]> 322\n",
      "https://www.realtor.com/realestateandhomes-detail/4288-Olde-Mill-Ln-NE_Atlanta_GA_30342_M65370-67890\n"
     ]
    },
    {
     "name": "stdout",
     "output_type": "stream",
     "text": [
      "<Response [200]> 323\n",
      "https://www.realtor.com/realestateandhomes-detail/6350-Glen-Oaks-Ln_Atlanta_GA_30328_M68598-40813\n"
     ]
    },
    {
     "name": "stdout",
     "output_type": "stream",
     "text": [
      "<Response [200]> 324\n",
      "https://www.realtor.com/realestateandhomes-detail/1188-Lanier-Blvd-NE_Atlanta_GA_30306_M68856-85524\n"
     ]
    },
    {
     "name": "stdout",
     "output_type": "stream",
     "text": [
      "<Response [200]> 325\n",
      "https://www.realtor.com/realestateandhomes-detail/2515-Habersham-Rd-NW_Atlanta_GA_30305_M62495-92816\n"
     ]
    },
    {
     "name": "stdout",
     "output_type": "stream",
     "text": [
      "<Response [200]> 326\n",
      "https://www.realtor.com/realestateandhomes-detail/2555-Caldwell-Rd-NE_Brookhaven_GA_30319_M56795-32362\n"
     ]
    },
    {
     "name": "stdout",
     "output_type": "stream",
     "text": [
      "<Response [200]> 327\n",
      "https://www.realtor.com/realestateandhomes-detail/4132-Haverhill-Dr-NE_Atlanta_GA_30342_M55040-97418\n"
     ]
    },
    {
     "name": "stdout",
     "output_type": "stream",
     "text": [
      "<Response [200]> 328\n",
      "https://www.realtor.com/realestateandhomes-detail/4750-Dudley-Ln_Atlanta_GA_30327_M55687-55418\n"
     ]
    },
    {
     "name": "stdout",
     "output_type": "stream",
     "text": [
      "<Response [200]> 329\n",
      "https://www.realtor.com/realestateandhomes-detail/2280-Tanglewood-Cir-NE_Atlanta_GA_30345_M67439-70849\n"
     ]
    },
    {
     "name": "stdout",
     "output_type": "stream",
     "text": [
      "<Response [200]> 330\n",
      "https://www.realtor.com/realestateandhomes-detail/5795-Timberlane-Ter_Atlanta_GA_30328_M68145-07237\n"
     ]
    },
    {
     "name": "stdout",
     "output_type": "stream",
     "text": [
      "<Response [200]> 331\n",
      "https://www.realtor.com/realestateandhomes-detail/1058-Hunters-Brook-Ct-NE_Brookhaven_GA_30319_M54131-84447\n"
     ]
    },
    {
     "name": "stdout",
     "output_type": "stream",
     "text": [
      "<Response [200]> 332\n",
      "https://www.realtor.com/realestateandhomes-detail/767-Piedmont-Ave-NE_Atlanta_GA_30308_M61201-76421\n"
     ]
    },
    {
     "name": "stdout",
     "output_type": "stream",
     "text": [
      "<Response [200]> 333\n",
      "https://www.realtor.com/realestateandhomes-detail/953-Blue-Ridge-Ave-NE_Atlanta_GA_30306_M61560-60711\n"
     ]
    },
    {
     "name": "stdout",
     "output_type": "stream",
     "text": [
      "<Response [200]> 334\n",
      "https://www.realtor.com/realestateandhomes-detail/7967-Magnolia-Sq_Atlanta_GA_30350_M63886-71850\n"
     ]
    },
    {
     "name": "stdout",
     "output_type": "stream",
     "text": [
      "<Response [200]> 335\n",
      "https://www.realtor.com/realestateandhomes-detail/3302-W-Andrews-Dr-NW_Atlanta_GA_30305_M60866-80636\n"
     ]
    },
    {
     "name": "stdout",
     "output_type": "stream",
     "text": [
      "<Response [200]> 336\n"
     ]
    },
    {
     "name": "stdout",
     "output_type": "stream",
     "text": [
      "https://www.realtor.com/realestateandhomes-detail/1960-Westminster-Way-NE_Atlanta_GA_30307_M64106-49739\n"
     ]
    },
    {
     "name": "stdout",
     "output_type": "stream",
     "text": [
      "<Response [200]> 337\n",
      "https://www.realtor.com/realestateandhomes-detail/4245-Rickenbacker-Way-NE_Atlanta_GA_30342_M55970-68608\n"
     ]
    },
    {
     "name": "stdout",
     "output_type": "stream",
     "text": [
      "<Response [200]> 338\n",
      "https://www.realtor.com/realestateandhomes-detail/3033-E-Pine-Valley-Rd-NW_Atlanta_GA_30305_M58566-41670\n"
     ]
    },
    {
     "name": "stdout",
     "output_type": "stream",
     "text": [
      "<Response [200]> 339\n",
      "https://www.realtor.com/realestateandhomes-detail/260-Northland-Ridge-Trl_Atlanta_GA_30342_M62278-25470\n"
     ]
    },
    {
     "name": "stdout",
     "output_type": "stream",
     "text": [
      "<Response [200]> 340\n",
      "https://www.realtor.com/realestateandhomes-detail/2681-Brookwood-Dr-NE_Atlanta_GA_30305_M59774-91424\n"
     ]
    },
    {
     "name": "stdout",
     "output_type": "stream",
     "text": [
      "<Response [200]> 341\n",
      "https://www.realtor.com/realestateandhomes-detail/1490-Council-Bluff-Dr-NE_Atlanta_GA_30345_M52882-51338\n"
     ]
    },
    {
     "name": "stdout",
     "output_type": "stream",
     "text": [
      "<Response [200]> 342\n",
      "https://www.realtor.com/realestateandhomes-detail/3540-Cochise-Dr-SE_Atlanta_GA_30339_M68308-15719\n"
     ]
    },
    {
     "name": "stdout",
     "output_type": "stream",
     "text": [
      "<Response [200]> 343\n",
      "https://www.realtor.com/realestateandhomes-detail/5453-Dunwoody-Glen-Ct_Atlanta_GA_30360_M55631-48010\n"
     ]
    },
    {
     "name": "stdout",
     "output_type": "stream",
     "text": [
      "<Response [200]> 344\n",
      "https://www.realtor.com/realestateandhomes-detail/481-Glenwood-Ave-SE_Atlanta_GA_30312_M65938-19548\n"
     ]
    },
    {
     "name": "stdout",
     "output_type": "stream",
     "text": [
      "<Response [200]> 345\n",
      "https://www.realtor.com/realestateandhomes-detail/3091-Sumac-Dr_Atlanta_GA_30360_M52857-45255\n"
     ]
    },
    {
     "name": "stdout",
     "output_type": "stream",
     "text": [
      "<Response [200]> 346\n",
      "https://www.realtor.com/realestateandhomes-detail/1821-N-Rock-Springs-Rd-NE_Atlanta_GA_30324_M55049-28641\n"
     ]
    },
    {
     "name": "stdout",
     "output_type": "stream",
     "text": [
      "<Response [200]> 347\n",
      "https://www.realtor.com/realestateandhomes-detail/2155-Venetian-Dr-SW_Atlanta_GA_30311_M57037-89860\n"
     ]
    },
    {
     "name": "stdout",
     "output_type": "stream",
     "text": [
      "<Response [200]> 348\n",
      "https://www.realtor.com/realestateandhomes-detail/140-Grosvenor-Pl_Atlanta_GA_30328_M58293-84493\n"
     ]
    },
    {
     "name": "stdout",
     "output_type": "stream",
     "text": [
      "<Response [200]> 349\n",
      "https://www.realtor.com/realestateandhomes-detail/4065-Peachtree-Dunwoody-Rd-NE_Atlanta_GA_30342_M94973-20921\n"
     ]
    },
    {
     "name": "stdout",
     "output_type": "stream",
     "text": [
      "<Response [200]> 350\n",
      "https://www.realtor.com/realestateandhomes-detail/4555-Jettridge-Dr-NW_Atlanta_GA_30327_M68606-72739\n"
     ]
    },
    {
     "name": "stdout",
     "output_type": "stream",
     "text": [
      "<Response [200]> 351\n",
      "https://www.realtor.com/realestateandhomes-detail/161-Randolph-St-NE_Atlanta_GA_30312_M56319-17339\n"
     ]
    },
    {
     "name": "stdout",
     "output_type": "stream",
     "text": [
      "<Response [200]> 352\n",
      "https://www.realtor.com/realestateandhomes-detail/535-Old-Cobblestone-Dr_Atlanta_GA_30350_M50274-01814\n"
     ]
    },
    {
     "name": "stdout",
     "output_type": "stream",
     "text": [
      "<Response [200]> 353\n",
      "https://www.realtor.com/realestateandhomes-detail/1356-Peachtree-Battle-Ave-NW_Atlanta_GA_30327_M66558-02257\n"
     ]
    },
    {
     "name": "stdout",
     "output_type": "stream",
     "text": [
      "<Response [200]> 354\n",
      "https://www.realtor.com/realestateandhomes-detail/3201-Teton-Dr-SE_Atlanta_GA_30339_M65097-32359\n"
     ]
    },
    {
     "name": "stdout",
     "output_type": "stream",
     "text": [
      "<Response [200]> 355\n",
      "https://www.realtor.com/realestateandhomes-detail/4449-Glengary-Dr-NE_Atlanta_GA_30342_M68299-72603\n"
     ]
    },
    {
     "name": "stdout",
     "output_type": "stream",
     "text": [
      "<Response [200]> 356\n",
      "https://www.realtor.com/realestateandhomes-detail/3103-Green-Valley-Dr_Atlanta_GA_30344_M58975-95689\n"
     ]
    },
    {
     "name": "stdout",
     "output_type": "stream",
     "text": [
      "<Response [200]> 357\n",
      "https://www.realtor.com/realestateandhomes-detail/1770-Russell-St_Atlanta_GA_30316_M52896-76551\n"
     ]
    },
    {
     "ename": "ConnectionError",
     "evalue": "('Connection aborted.', ConnectionAbortedError(10053, 'An established connection was aborted by the software in your host machine', None, 10053, None))",
     "output_type": "error",
     "traceback": [
      "\u001b[31m---------------------------------------------------------------------------\u001b[39m",
      "\u001b[31mConnectionAbortedError\u001b[39m                    Traceback (most recent call last)",
      "\u001b[36mFile \u001b[39m\u001b[32m~\\AppData\\Local\\Programs\\Python\\Python313\\Lib\\site-packages\\urllib3\\connectionpool.py:787\u001b[39m, in \u001b[36mHTTPConnectionPool.urlopen\u001b[39m\u001b[34m(self, method, url, body, headers, retries, redirect, assert_same_host, timeout, pool_timeout, release_conn, chunked, body_pos, preload_content, decode_content, **response_kw)\u001b[39m\n\u001b[32m    786\u001b[39m \u001b[38;5;66;03m# Make the request on the HTTPConnection object\u001b[39;00m\n\u001b[32m--> \u001b[39m\u001b[32m787\u001b[39m response = \u001b[38;5;28;43mself\u001b[39;49m\u001b[43m.\u001b[49m\u001b[43m_make_request\u001b[49m\u001b[43m(\u001b[49m\n\u001b[32m    788\u001b[39m \u001b[43m    \u001b[49m\u001b[43mconn\u001b[49m\u001b[43m,\u001b[49m\n\u001b[32m    789\u001b[39m \u001b[43m    \u001b[49m\u001b[43mmethod\u001b[49m\u001b[43m,\u001b[49m\n\u001b[32m    790\u001b[39m \u001b[43m    \u001b[49m\u001b[43murl\u001b[49m\u001b[43m,\u001b[49m\n\u001b[32m    791\u001b[39m \u001b[43m    \u001b[49m\u001b[43mtimeout\u001b[49m\u001b[43m=\u001b[49m\u001b[43mtimeout_obj\u001b[49m\u001b[43m,\u001b[49m\n\u001b[32m    792\u001b[39m \u001b[43m    \u001b[49m\u001b[43mbody\u001b[49m\u001b[43m=\u001b[49m\u001b[43mbody\u001b[49m\u001b[43m,\u001b[49m\n\u001b[32m    793\u001b[39m \u001b[43m    \u001b[49m\u001b[43mheaders\u001b[49m\u001b[43m=\u001b[49m\u001b[43mheaders\u001b[49m\u001b[43m,\u001b[49m\n\u001b[32m    794\u001b[39m \u001b[43m    \u001b[49m\u001b[43mchunked\u001b[49m\u001b[43m=\u001b[49m\u001b[43mchunked\u001b[49m\u001b[43m,\u001b[49m\n\u001b[32m    795\u001b[39m \u001b[43m    \u001b[49m\u001b[43mretries\u001b[49m\u001b[43m=\u001b[49m\u001b[43mretries\u001b[49m\u001b[43m,\u001b[49m\n\u001b[32m    796\u001b[39m \u001b[43m    \u001b[49m\u001b[43mresponse_conn\u001b[49m\u001b[43m=\u001b[49m\u001b[43mresponse_conn\u001b[49m\u001b[43m,\u001b[49m\n\u001b[32m    797\u001b[39m \u001b[43m    \u001b[49m\u001b[43mpreload_content\u001b[49m\u001b[43m=\u001b[49m\u001b[43mpreload_content\u001b[49m\u001b[43m,\u001b[49m\n\u001b[32m    798\u001b[39m \u001b[43m    \u001b[49m\u001b[43mdecode_content\u001b[49m\u001b[43m=\u001b[49m\u001b[43mdecode_content\u001b[49m\u001b[43m,\u001b[49m\n\u001b[32m    799\u001b[39m \u001b[43m    \u001b[49m\u001b[43m*\u001b[49m\u001b[43m*\u001b[49m\u001b[43mresponse_kw\u001b[49m\u001b[43m,\u001b[49m\n\u001b[32m    800\u001b[39m \u001b[43m\u001b[49m\u001b[43m)\u001b[49m\n\u001b[32m    802\u001b[39m \u001b[38;5;66;03m# Everything went great!\u001b[39;00m\n",
      "\u001b[36mFile \u001b[39m\u001b[32m~\\AppData\\Local\\Programs\\Python\\Python313\\Lib\\site-packages\\urllib3\\connectionpool.py:534\u001b[39m, in \u001b[36mHTTPConnectionPool._make_request\u001b[39m\u001b[34m(self, conn, method, url, body, headers, retries, timeout, chunked, response_conn, preload_content, decode_content, enforce_content_length)\u001b[39m\n\u001b[32m    533\u001b[39m \u001b[38;5;28;01mtry\u001b[39;00m:\n\u001b[32m--> \u001b[39m\u001b[32m534\u001b[39m     response = \u001b[43mconn\u001b[49m\u001b[43m.\u001b[49m\u001b[43mgetresponse\u001b[49m\u001b[43m(\u001b[49m\u001b[43m)\u001b[49m\n\u001b[32m    535\u001b[39m \u001b[38;5;28;01mexcept\u001b[39;00m (BaseSSLError, \u001b[38;5;167;01mOSError\u001b[39;00m) \u001b[38;5;28;01mas\u001b[39;00m e:\n",
      "\u001b[36mFile \u001b[39m\u001b[32m~\\AppData\\Local\\Programs\\Python\\Python313\\Lib\\site-packages\\urllib3\\connection.py:516\u001b[39m, in \u001b[36mHTTPConnection.getresponse\u001b[39m\u001b[34m(self)\u001b[39m\n\u001b[32m    515\u001b[39m \u001b[38;5;66;03m# Get the response from http.client.HTTPConnection\u001b[39;00m\n\u001b[32m--> \u001b[39m\u001b[32m516\u001b[39m httplib_response = \u001b[38;5;28;43msuper\u001b[39;49m\u001b[43m(\u001b[49m\u001b[43m)\u001b[49m\u001b[43m.\u001b[49m\u001b[43mgetresponse\u001b[49m\u001b[43m(\u001b[49m\u001b[43m)\u001b[49m\n\u001b[32m    518\u001b[39m \u001b[38;5;28;01mtry\u001b[39;00m:\n",
      "\u001b[36mFile \u001b[39m\u001b[32m~\\AppData\\Local\\Programs\\Python\\Python313\\Lib\\http\\client.py:1430\u001b[39m, in \u001b[36mHTTPConnection.getresponse\u001b[39m\u001b[34m(self)\u001b[39m\n\u001b[32m   1429\u001b[39m \u001b[38;5;28;01mtry\u001b[39;00m:\n\u001b[32m-> \u001b[39m\u001b[32m1430\u001b[39m     \u001b[43mresponse\u001b[49m\u001b[43m.\u001b[49m\u001b[43mbegin\u001b[49m\u001b[43m(\u001b[49m\u001b[43m)\u001b[49m\n\u001b[32m   1431\u001b[39m \u001b[38;5;28;01mexcept\u001b[39;00m \u001b[38;5;167;01mConnectionError\u001b[39;00m:\n",
      "\u001b[36mFile \u001b[39m\u001b[32m~\\AppData\\Local\\Programs\\Python\\Python313\\Lib\\http\\client.py:331\u001b[39m, in \u001b[36mHTTPResponse.begin\u001b[39m\u001b[34m(self)\u001b[39m\n\u001b[32m    330\u001b[39m \u001b[38;5;28;01mwhile\u001b[39;00m \u001b[38;5;28;01mTrue\u001b[39;00m:\n\u001b[32m--> \u001b[39m\u001b[32m331\u001b[39m     version, status, reason = \u001b[38;5;28;43mself\u001b[39;49m\u001b[43m.\u001b[49m\u001b[43m_read_status\u001b[49m\u001b[43m(\u001b[49m\u001b[43m)\u001b[49m\n\u001b[32m    332\u001b[39m     \u001b[38;5;28;01mif\u001b[39;00m status != CONTINUE:\n",
      "\u001b[36mFile \u001b[39m\u001b[32m~\\AppData\\Local\\Programs\\Python\\Python313\\Lib\\http\\client.py:292\u001b[39m, in \u001b[36mHTTPResponse._read_status\u001b[39m\u001b[34m(self)\u001b[39m\n\u001b[32m    291\u001b[39m \u001b[38;5;28;01mdef\u001b[39;00m\u001b[38;5;250m \u001b[39m\u001b[34m_read_status\u001b[39m(\u001b[38;5;28mself\u001b[39m):\n\u001b[32m--> \u001b[39m\u001b[32m292\u001b[39m     line = \u001b[38;5;28mstr\u001b[39m(\u001b[38;5;28;43mself\u001b[39;49m\u001b[43m.\u001b[49m\u001b[43mfp\u001b[49m\u001b[43m.\u001b[49m\u001b[43mreadline\u001b[49m\u001b[43m(\u001b[49m\u001b[43m_MAXLINE\u001b[49m\u001b[43m \u001b[49m\u001b[43m+\u001b[49m\u001b[43m \u001b[49m\u001b[32;43m1\u001b[39;49m\u001b[43m)\u001b[49m, \u001b[33m\"\u001b[39m\u001b[33miso-8859-1\u001b[39m\u001b[33m\"\u001b[39m)\n\u001b[32m    293\u001b[39m     \u001b[38;5;28;01mif\u001b[39;00m \u001b[38;5;28mlen\u001b[39m(line) > _MAXLINE:\n",
      "\u001b[36mFile \u001b[39m\u001b[32m~\\AppData\\Local\\Programs\\Python\\Python313\\Lib\\socket.py:719\u001b[39m, in \u001b[36mSocketIO.readinto\u001b[39m\u001b[34m(self, b)\u001b[39m\n\u001b[32m    718\u001b[39m \u001b[38;5;28;01mtry\u001b[39;00m:\n\u001b[32m--> \u001b[39m\u001b[32m719\u001b[39m     \u001b[38;5;28;01mreturn\u001b[39;00m \u001b[38;5;28;43mself\u001b[39;49m\u001b[43m.\u001b[49m\u001b[43m_sock\u001b[49m\u001b[43m.\u001b[49m\u001b[43mrecv_into\u001b[49m\u001b[43m(\u001b[49m\u001b[43mb\u001b[49m\u001b[43m)\u001b[49m\n\u001b[32m    720\u001b[39m \u001b[38;5;28;01mexcept\u001b[39;00m timeout:\n",
      "\u001b[36mFile \u001b[39m\u001b[32m~\\AppData\\Local\\Programs\\Python\\Python313\\Lib\\ssl.py:1304\u001b[39m, in \u001b[36mSSLSocket.recv_into\u001b[39m\u001b[34m(self, buffer, nbytes, flags)\u001b[39m\n\u001b[32m   1301\u001b[39m         \u001b[38;5;28;01mraise\u001b[39;00m \u001b[38;5;167;01mValueError\u001b[39;00m(\n\u001b[32m   1302\u001b[39m           \u001b[33m\"\u001b[39m\u001b[33mnon-zero flags not allowed in calls to recv_into() on \u001b[39m\u001b[38;5;132;01m%s\u001b[39;00m\u001b[33m\"\u001b[39m %\n\u001b[32m   1303\u001b[39m           \u001b[38;5;28mself\u001b[39m.\u001b[34m__class__\u001b[39m)\n\u001b[32m-> \u001b[39m\u001b[32m1304\u001b[39m     \u001b[38;5;28;01mreturn\u001b[39;00m \u001b[38;5;28;43mself\u001b[39;49m\u001b[43m.\u001b[49m\u001b[43mread\u001b[49m\u001b[43m(\u001b[49m\u001b[43mnbytes\u001b[49m\u001b[43m,\u001b[49m\u001b[43m \u001b[49m\u001b[43mbuffer\u001b[49m\u001b[43m)\u001b[49m\n\u001b[32m   1305\u001b[39m \u001b[38;5;28;01melse\u001b[39;00m:\n",
      "\u001b[36mFile \u001b[39m\u001b[32m~\\AppData\\Local\\Programs\\Python\\Python313\\Lib\\ssl.py:1138\u001b[39m, in \u001b[36mSSLSocket.read\u001b[39m\u001b[34m(self, len, buffer)\u001b[39m\n\u001b[32m   1137\u001b[39m \u001b[38;5;28;01mif\u001b[39;00m buffer \u001b[38;5;129;01mis\u001b[39;00m \u001b[38;5;129;01mnot\u001b[39;00m \u001b[38;5;28;01mNone\u001b[39;00m:\n\u001b[32m-> \u001b[39m\u001b[32m1138\u001b[39m     \u001b[38;5;28;01mreturn\u001b[39;00m \u001b[38;5;28;43mself\u001b[39;49m\u001b[43m.\u001b[49m\u001b[43m_sslobj\u001b[49m\u001b[43m.\u001b[49m\u001b[43mread\u001b[49m\u001b[43m(\u001b[49m\u001b[38;5;28;43mlen\u001b[39;49m\u001b[43m,\u001b[49m\u001b[43m \u001b[49m\u001b[43mbuffer\u001b[49m\u001b[43m)\u001b[49m\n\u001b[32m   1139\u001b[39m \u001b[38;5;28;01melse\u001b[39;00m:\n",
      "\u001b[31mConnectionAbortedError\u001b[39m: [WinError 10053] An established connection was aborted by the software in your host machine",
      "\nDuring handling of the above exception, another exception occurred:\n",
      "\u001b[31mProtocolError\u001b[39m                             Traceback (most recent call last)",
      "\u001b[36mFile \u001b[39m\u001b[32m~\\AppData\\Local\\Programs\\Python\\Python313\\Lib\\site-packages\\requests\\adapters.py:667\u001b[39m, in \u001b[36mHTTPAdapter.send\u001b[39m\u001b[34m(self, request, stream, timeout, verify, cert, proxies)\u001b[39m\n\u001b[32m    666\u001b[39m \u001b[38;5;28;01mtry\u001b[39;00m:\n\u001b[32m--> \u001b[39m\u001b[32m667\u001b[39m     resp = \u001b[43mconn\u001b[49m\u001b[43m.\u001b[49m\u001b[43murlopen\u001b[49m\u001b[43m(\u001b[49m\n\u001b[32m    668\u001b[39m \u001b[43m        \u001b[49m\u001b[43mmethod\u001b[49m\u001b[43m=\u001b[49m\u001b[43mrequest\u001b[49m\u001b[43m.\u001b[49m\u001b[43mmethod\u001b[49m\u001b[43m,\u001b[49m\n\u001b[32m    669\u001b[39m \u001b[43m        \u001b[49m\u001b[43murl\u001b[49m\u001b[43m=\u001b[49m\u001b[43murl\u001b[49m\u001b[43m,\u001b[49m\n\u001b[32m    670\u001b[39m \u001b[43m        \u001b[49m\u001b[43mbody\u001b[49m\u001b[43m=\u001b[49m\u001b[43mrequest\u001b[49m\u001b[43m.\u001b[49m\u001b[43mbody\u001b[49m\u001b[43m,\u001b[49m\n\u001b[32m    671\u001b[39m \u001b[43m        \u001b[49m\u001b[43mheaders\u001b[49m\u001b[43m=\u001b[49m\u001b[43mrequest\u001b[49m\u001b[43m.\u001b[49m\u001b[43mheaders\u001b[49m\u001b[43m,\u001b[49m\n\u001b[32m    672\u001b[39m \u001b[43m        \u001b[49m\u001b[43mredirect\u001b[49m\u001b[43m=\u001b[49m\u001b[38;5;28;43;01mFalse\u001b[39;49;00m\u001b[43m,\u001b[49m\n\u001b[32m    673\u001b[39m \u001b[43m        \u001b[49m\u001b[43massert_same_host\u001b[49m\u001b[43m=\u001b[49m\u001b[38;5;28;43;01mFalse\u001b[39;49;00m\u001b[43m,\u001b[49m\n\u001b[32m    674\u001b[39m \u001b[43m        \u001b[49m\u001b[43mpreload_content\u001b[49m\u001b[43m=\u001b[49m\u001b[38;5;28;43;01mFalse\u001b[39;49;00m\u001b[43m,\u001b[49m\n\u001b[32m    675\u001b[39m \u001b[43m        \u001b[49m\u001b[43mdecode_content\u001b[49m\u001b[43m=\u001b[49m\u001b[38;5;28;43;01mFalse\u001b[39;49;00m\u001b[43m,\u001b[49m\n\u001b[32m    676\u001b[39m \u001b[43m        \u001b[49m\u001b[43mretries\u001b[49m\u001b[43m=\u001b[49m\u001b[38;5;28;43mself\u001b[39;49m\u001b[43m.\u001b[49m\u001b[43mmax_retries\u001b[49m\u001b[43m,\u001b[49m\n\u001b[32m    677\u001b[39m \u001b[43m        \u001b[49m\u001b[43mtimeout\u001b[49m\u001b[43m=\u001b[49m\u001b[43mtimeout\u001b[49m\u001b[43m,\u001b[49m\n\u001b[32m    678\u001b[39m \u001b[43m        \u001b[49m\u001b[43mchunked\u001b[49m\u001b[43m=\u001b[49m\u001b[43mchunked\u001b[49m\u001b[43m,\u001b[49m\n\u001b[32m    679\u001b[39m \u001b[43m    \u001b[49m\u001b[43m)\u001b[49m\n\u001b[32m    681\u001b[39m \u001b[38;5;28;01mexcept\u001b[39;00m (ProtocolError, \u001b[38;5;167;01mOSError\u001b[39;00m) \u001b[38;5;28;01mas\u001b[39;00m err:\n",
      "\u001b[36mFile \u001b[39m\u001b[32m~\\AppData\\Local\\Programs\\Python\\Python313\\Lib\\site-packages\\urllib3\\connectionpool.py:841\u001b[39m, in \u001b[36mHTTPConnectionPool.urlopen\u001b[39m\u001b[34m(self, method, url, body, headers, retries, redirect, assert_same_host, timeout, pool_timeout, release_conn, chunked, body_pos, preload_content, decode_content, **response_kw)\u001b[39m\n\u001b[32m    839\u001b[39m     new_e = ProtocolError(\u001b[33m\"\u001b[39m\u001b[33mConnection aborted.\u001b[39m\u001b[33m\"\u001b[39m, new_e)\n\u001b[32m--> \u001b[39m\u001b[32m841\u001b[39m retries = \u001b[43mretries\u001b[49m\u001b[43m.\u001b[49m\u001b[43mincrement\u001b[49m\u001b[43m(\u001b[49m\n\u001b[32m    842\u001b[39m \u001b[43m    \u001b[49m\u001b[43mmethod\u001b[49m\u001b[43m,\u001b[49m\u001b[43m \u001b[49m\u001b[43murl\u001b[49m\u001b[43m,\u001b[49m\u001b[43m \u001b[49m\u001b[43merror\u001b[49m\u001b[43m=\u001b[49m\u001b[43mnew_e\u001b[49m\u001b[43m,\u001b[49m\u001b[43m \u001b[49m\u001b[43m_pool\u001b[49m\u001b[43m=\u001b[49m\u001b[38;5;28;43mself\u001b[39;49m\u001b[43m,\u001b[49m\u001b[43m \u001b[49m\u001b[43m_stacktrace\u001b[49m\u001b[43m=\u001b[49m\u001b[43msys\u001b[49m\u001b[43m.\u001b[49m\u001b[43mexc_info\u001b[49m\u001b[43m(\u001b[49m\u001b[43m)\u001b[49m\u001b[43m[\u001b[49m\u001b[32;43m2\u001b[39;49m\u001b[43m]\u001b[49m\n\u001b[32m    843\u001b[39m \u001b[43m\u001b[49m\u001b[43m)\u001b[49m\n\u001b[32m    844\u001b[39m retries.sleep()\n",
      "\u001b[36mFile \u001b[39m\u001b[32m~\\AppData\\Local\\Programs\\Python\\Python313\\Lib\\site-packages\\urllib3\\util\\retry.py:474\u001b[39m, in \u001b[36mRetry.increment\u001b[39m\u001b[34m(self, method, url, response, error, _pool, _stacktrace)\u001b[39m\n\u001b[32m    473\u001b[39m \u001b[38;5;28;01mif\u001b[39;00m read \u001b[38;5;129;01mis\u001b[39;00m \u001b[38;5;28;01mFalse\u001b[39;00m \u001b[38;5;129;01mor\u001b[39;00m method \u001b[38;5;129;01mis\u001b[39;00m \u001b[38;5;28;01mNone\u001b[39;00m \u001b[38;5;129;01mor\u001b[39;00m \u001b[38;5;129;01mnot\u001b[39;00m \u001b[38;5;28mself\u001b[39m._is_method_retryable(method):\n\u001b[32m--> \u001b[39m\u001b[32m474\u001b[39m     \u001b[38;5;28;01mraise\u001b[39;00m \u001b[43mreraise\u001b[49m\u001b[43m(\u001b[49m\u001b[38;5;28;43mtype\u001b[39;49m\u001b[43m(\u001b[49m\u001b[43merror\u001b[49m\u001b[43m)\u001b[49m\u001b[43m,\u001b[49m\u001b[43m \u001b[49m\u001b[43merror\u001b[49m\u001b[43m,\u001b[49m\u001b[43m \u001b[49m\u001b[43m_stacktrace\u001b[49m\u001b[43m)\u001b[49m\n\u001b[32m    475\u001b[39m \u001b[38;5;28;01melif\u001b[39;00m read \u001b[38;5;129;01mis\u001b[39;00m \u001b[38;5;129;01mnot\u001b[39;00m \u001b[38;5;28;01mNone\u001b[39;00m:\n",
      "\u001b[36mFile \u001b[39m\u001b[32m~\\AppData\\Local\\Programs\\Python\\Python313\\Lib\\site-packages\\urllib3\\util\\util.py:38\u001b[39m, in \u001b[36mreraise\u001b[39m\u001b[34m(tp, value, tb)\u001b[39m\n\u001b[32m     37\u001b[39m \u001b[38;5;28;01mif\u001b[39;00m value.__traceback__ \u001b[38;5;129;01mis\u001b[39;00m \u001b[38;5;129;01mnot\u001b[39;00m tb:\n\u001b[32m---> \u001b[39m\u001b[32m38\u001b[39m     \u001b[38;5;28;01mraise\u001b[39;00m value.with_traceback(tb)\n\u001b[32m     39\u001b[39m \u001b[38;5;28;01mraise\u001b[39;00m value\n",
      "\u001b[36mFile \u001b[39m\u001b[32m~\\AppData\\Local\\Programs\\Python\\Python313\\Lib\\site-packages\\urllib3\\connectionpool.py:787\u001b[39m, in \u001b[36mHTTPConnectionPool.urlopen\u001b[39m\u001b[34m(self, method, url, body, headers, retries, redirect, assert_same_host, timeout, pool_timeout, release_conn, chunked, body_pos, preload_content, decode_content, **response_kw)\u001b[39m\n\u001b[32m    786\u001b[39m \u001b[38;5;66;03m# Make the request on the HTTPConnection object\u001b[39;00m\n\u001b[32m--> \u001b[39m\u001b[32m787\u001b[39m response = \u001b[38;5;28;43mself\u001b[39;49m\u001b[43m.\u001b[49m\u001b[43m_make_request\u001b[49m\u001b[43m(\u001b[49m\n\u001b[32m    788\u001b[39m \u001b[43m    \u001b[49m\u001b[43mconn\u001b[49m\u001b[43m,\u001b[49m\n\u001b[32m    789\u001b[39m \u001b[43m    \u001b[49m\u001b[43mmethod\u001b[49m\u001b[43m,\u001b[49m\n\u001b[32m    790\u001b[39m \u001b[43m    \u001b[49m\u001b[43murl\u001b[49m\u001b[43m,\u001b[49m\n\u001b[32m    791\u001b[39m \u001b[43m    \u001b[49m\u001b[43mtimeout\u001b[49m\u001b[43m=\u001b[49m\u001b[43mtimeout_obj\u001b[49m\u001b[43m,\u001b[49m\n\u001b[32m    792\u001b[39m \u001b[43m    \u001b[49m\u001b[43mbody\u001b[49m\u001b[43m=\u001b[49m\u001b[43mbody\u001b[49m\u001b[43m,\u001b[49m\n\u001b[32m    793\u001b[39m \u001b[43m    \u001b[49m\u001b[43mheaders\u001b[49m\u001b[43m=\u001b[49m\u001b[43mheaders\u001b[49m\u001b[43m,\u001b[49m\n\u001b[32m    794\u001b[39m \u001b[43m    \u001b[49m\u001b[43mchunked\u001b[49m\u001b[43m=\u001b[49m\u001b[43mchunked\u001b[49m\u001b[43m,\u001b[49m\n\u001b[32m    795\u001b[39m \u001b[43m    \u001b[49m\u001b[43mretries\u001b[49m\u001b[43m=\u001b[49m\u001b[43mretries\u001b[49m\u001b[43m,\u001b[49m\n\u001b[32m    796\u001b[39m \u001b[43m    \u001b[49m\u001b[43mresponse_conn\u001b[49m\u001b[43m=\u001b[49m\u001b[43mresponse_conn\u001b[49m\u001b[43m,\u001b[49m\n\u001b[32m    797\u001b[39m \u001b[43m    \u001b[49m\u001b[43mpreload_content\u001b[49m\u001b[43m=\u001b[49m\u001b[43mpreload_content\u001b[49m\u001b[43m,\u001b[49m\n\u001b[32m    798\u001b[39m \u001b[43m    \u001b[49m\u001b[43mdecode_content\u001b[49m\u001b[43m=\u001b[49m\u001b[43mdecode_content\u001b[49m\u001b[43m,\u001b[49m\n\u001b[32m    799\u001b[39m \u001b[43m    \u001b[49m\u001b[43m*\u001b[49m\u001b[43m*\u001b[49m\u001b[43mresponse_kw\u001b[49m\u001b[43m,\u001b[49m\n\u001b[32m    800\u001b[39m \u001b[43m\u001b[49m\u001b[43m)\u001b[49m\n\u001b[32m    802\u001b[39m \u001b[38;5;66;03m# Everything went great!\u001b[39;00m\n",
      "\u001b[36mFile \u001b[39m\u001b[32m~\\AppData\\Local\\Programs\\Python\\Python313\\Lib\\site-packages\\urllib3\\connectionpool.py:534\u001b[39m, in \u001b[36mHTTPConnectionPool._make_request\u001b[39m\u001b[34m(self, conn, method, url, body, headers, retries, timeout, chunked, response_conn, preload_content, decode_content, enforce_content_length)\u001b[39m\n\u001b[32m    533\u001b[39m \u001b[38;5;28;01mtry\u001b[39;00m:\n\u001b[32m--> \u001b[39m\u001b[32m534\u001b[39m     response = \u001b[43mconn\u001b[49m\u001b[43m.\u001b[49m\u001b[43mgetresponse\u001b[49m\u001b[43m(\u001b[49m\u001b[43m)\u001b[49m\n\u001b[32m    535\u001b[39m \u001b[38;5;28;01mexcept\u001b[39;00m (BaseSSLError, \u001b[38;5;167;01mOSError\u001b[39;00m) \u001b[38;5;28;01mas\u001b[39;00m e:\n",
      "\u001b[36mFile \u001b[39m\u001b[32m~\\AppData\\Local\\Programs\\Python\\Python313\\Lib\\site-packages\\urllib3\\connection.py:516\u001b[39m, in \u001b[36mHTTPConnection.getresponse\u001b[39m\u001b[34m(self)\u001b[39m\n\u001b[32m    515\u001b[39m \u001b[38;5;66;03m# Get the response from http.client.HTTPConnection\u001b[39;00m\n\u001b[32m--> \u001b[39m\u001b[32m516\u001b[39m httplib_response = \u001b[38;5;28;43msuper\u001b[39;49m\u001b[43m(\u001b[49m\u001b[43m)\u001b[49m\u001b[43m.\u001b[49m\u001b[43mgetresponse\u001b[49m\u001b[43m(\u001b[49m\u001b[43m)\u001b[49m\n\u001b[32m    518\u001b[39m \u001b[38;5;28;01mtry\u001b[39;00m:\n",
      "\u001b[36mFile \u001b[39m\u001b[32m~\\AppData\\Local\\Programs\\Python\\Python313\\Lib\\http\\client.py:1430\u001b[39m, in \u001b[36mHTTPConnection.getresponse\u001b[39m\u001b[34m(self)\u001b[39m\n\u001b[32m   1429\u001b[39m \u001b[38;5;28;01mtry\u001b[39;00m:\n\u001b[32m-> \u001b[39m\u001b[32m1430\u001b[39m     \u001b[43mresponse\u001b[49m\u001b[43m.\u001b[49m\u001b[43mbegin\u001b[49m\u001b[43m(\u001b[49m\u001b[43m)\u001b[49m\n\u001b[32m   1431\u001b[39m \u001b[38;5;28;01mexcept\u001b[39;00m \u001b[38;5;167;01mConnectionError\u001b[39;00m:\n",
      "\u001b[36mFile \u001b[39m\u001b[32m~\\AppData\\Local\\Programs\\Python\\Python313\\Lib\\http\\client.py:331\u001b[39m, in \u001b[36mHTTPResponse.begin\u001b[39m\u001b[34m(self)\u001b[39m\n\u001b[32m    330\u001b[39m \u001b[38;5;28;01mwhile\u001b[39;00m \u001b[38;5;28;01mTrue\u001b[39;00m:\n\u001b[32m--> \u001b[39m\u001b[32m331\u001b[39m     version, status, reason = \u001b[38;5;28;43mself\u001b[39;49m\u001b[43m.\u001b[49m\u001b[43m_read_status\u001b[49m\u001b[43m(\u001b[49m\u001b[43m)\u001b[49m\n\u001b[32m    332\u001b[39m     \u001b[38;5;28;01mif\u001b[39;00m status != CONTINUE:\n",
      "\u001b[36mFile \u001b[39m\u001b[32m~\\AppData\\Local\\Programs\\Python\\Python313\\Lib\\http\\client.py:292\u001b[39m, in \u001b[36mHTTPResponse._read_status\u001b[39m\u001b[34m(self)\u001b[39m\n\u001b[32m    291\u001b[39m \u001b[38;5;28;01mdef\u001b[39;00m\u001b[38;5;250m \u001b[39m\u001b[34m_read_status\u001b[39m(\u001b[38;5;28mself\u001b[39m):\n\u001b[32m--> \u001b[39m\u001b[32m292\u001b[39m     line = \u001b[38;5;28mstr\u001b[39m(\u001b[38;5;28;43mself\u001b[39;49m\u001b[43m.\u001b[49m\u001b[43mfp\u001b[49m\u001b[43m.\u001b[49m\u001b[43mreadline\u001b[49m\u001b[43m(\u001b[49m\u001b[43m_MAXLINE\u001b[49m\u001b[43m \u001b[49m\u001b[43m+\u001b[49m\u001b[43m \u001b[49m\u001b[32;43m1\u001b[39;49m\u001b[43m)\u001b[49m, \u001b[33m\"\u001b[39m\u001b[33miso-8859-1\u001b[39m\u001b[33m\"\u001b[39m)\n\u001b[32m    293\u001b[39m     \u001b[38;5;28;01mif\u001b[39;00m \u001b[38;5;28mlen\u001b[39m(line) > _MAXLINE:\n",
      "\u001b[36mFile \u001b[39m\u001b[32m~\\AppData\\Local\\Programs\\Python\\Python313\\Lib\\socket.py:719\u001b[39m, in \u001b[36mSocketIO.readinto\u001b[39m\u001b[34m(self, b)\u001b[39m\n\u001b[32m    718\u001b[39m \u001b[38;5;28;01mtry\u001b[39;00m:\n\u001b[32m--> \u001b[39m\u001b[32m719\u001b[39m     \u001b[38;5;28;01mreturn\u001b[39;00m \u001b[38;5;28;43mself\u001b[39;49m\u001b[43m.\u001b[49m\u001b[43m_sock\u001b[49m\u001b[43m.\u001b[49m\u001b[43mrecv_into\u001b[49m\u001b[43m(\u001b[49m\u001b[43mb\u001b[49m\u001b[43m)\u001b[49m\n\u001b[32m    720\u001b[39m \u001b[38;5;28;01mexcept\u001b[39;00m timeout:\n",
      "\u001b[36mFile \u001b[39m\u001b[32m~\\AppData\\Local\\Programs\\Python\\Python313\\Lib\\ssl.py:1304\u001b[39m, in \u001b[36mSSLSocket.recv_into\u001b[39m\u001b[34m(self, buffer, nbytes, flags)\u001b[39m\n\u001b[32m   1301\u001b[39m         \u001b[38;5;28;01mraise\u001b[39;00m \u001b[38;5;167;01mValueError\u001b[39;00m(\n\u001b[32m   1302\u001b[39m           \u001b[33m\"\u001b[39m\u001b[33mnon-zero flags not allowed in calls to recv_into() on \u001b[39m\u001b[38;5;132;01m%s\u001b[39;00m\u001b[33m\"\u001b[39m %\n\u001b[32m   1303\u001b[39m           \u001b[38;5;28mself\u001b[39m.\u001b[34m__class__\u001b[39m)\n\u001b[32m-> \u001b[39m\u001b[32m1304\u001b[39m     \u001b[38;5;28;01mreturn\u001b[39;00m \u001b[38;5;28;43mself\u001b[39;49m\u001b[43m.\u001b[49m\u001b[43mread\u001b[49m\u001b[43m(\u001b[49m\u001b[43mnbytes\u001b[49m\u001b[43m,\u001b[49m\u001b[43m \u001b[49m\u001b[43mbuffer\u001b[49m\u001b[43m)\u001b[49m\n\u001b[32m   1305\u001b[39m \u001b[38;5;28;01melse\u001b[39;00m:\n",
      "\u001b[36mFile \u001b[39m\u001b[32m~\\AppData\\Local\\Programs\\Python\\Python313\\Lib\\ssl.py:1138\u001b[39m, in \u001b[36mSSLSocket.read\u001b[39m\u001b[34m(self, len, buffer)\u001b[39m\n\u001b[32m   1137\u001b[39m \u001b[38;5;28;01mif\u001b[39;00m buffer \u001b[38;5;129;01mis\u001b[39;00m \u001b[38;5;129;01mnot\u001b[39;00m \u001b[38;5;28;01mNone\u001b[39;00m:\n\u001b[32m-> \u001b[39m\u001b[32m1138\u001b[39m     \u001b[38;5;28;01mreturn\u001b[39;00m \u001b[38;5;28;43mself\u001b[39;49m\u001b[43m.\u001b[49m\u001b[43m_sslobj\u001b[49m\u001b[43m.\u001b[49m\u001b[43mread\u001b[49m\u001b[43m(\u001b[49m\u001b[38;5;28;43mlen\u001b[39;49m\u001b[43m,\u001b[49m\u001b[43m \u001b[49m\u001b[43mbuffer\u001b[49m\u001b[43m)\u001b[49m\n\u001b[32m   1139\u001b[39m \u001b[38;5;28;01melse\u001b[39;00m:\n",
      "\u001b[31mProtocolError\u001b[39m: ('Connection aborted.', ConnectionAbortedError(10053, 'An established connection was aborted by the software in your host machine', None, 10053, None))",
      "\nDuring handling of the above exception, another exception occurred:\n",
      "\u001b[31mConnectionError\u001b[39m                           Traceback (most recent call last)",
      "\u001b[36mCell\u001b[39m\u001b[36m \u001b[39m\u001b[32mIn[6]\u001b[39m\u001b[32m, line 18\u001b[39m\n\u001b[32m     16\u001b[39m link=\u001b[33m\"\u001b[39m\u001b[33mhttps://www.realtor.com/realestateandhomes-detail/\u001b[39m\u001b[33m\"\u001b[39m+link\n\u001b[32m     17\u001b[39m \u001b[38;5;28mprint\u001b[39m(link)\n\u001b[32m---> \u001b[39m\u001b[32m18\u001b[39m detail_res = \u001b[43mrequests\u001b[49m\u001b[43m.\u001b[49m\u001b[43mget\u001b[49m\u001b[43m(\u001b[49m\u001b[43mlink\u001b[49m\u001b[43m,\u001b[49m\u001b[43m \u001b[49m\u001b[43mparams\u001b[49m\u001b[43m=\u001b[49m\u001b[43mparams\u001b[49m\u001b[43m,\u001b[49m\u001b[43m \u001b[49m\u001b[43mcookies\u001b[49m\u001b[43m=\u001b[49m\u001b[43mcookies\u001b[49m\u001b[43m,\u001b[49m\u001b[43m \u001b[49m\u001b[43mheaders\u001b[49m\u001b[43m=\u001b[49m\u001b[43mheaders\u001b[49m\u001b[43m)\u001b[49m\n\u001b[32m     19\u001b[39m k = k + \u001b[32m1\u001b[39m\n\u001b[32m     20\u001b[39m \u001b[38;5;28mprint\u001b[39m(detail_res, k)\n",
      "\u001b[36mFile \u001b[39m\u001b[32m~\\AppData\\Local\\Programs\\Python\\Python313\\Lib\\site-packages\\requests\\api.py:73\u001b[39m, in \u001b[36mget\u001b[39m\u001b[34m(url, params, **kwargs)\u001b[39m\n\u001b[32m     62\u001b[39m \u001b[38;5;28;01mdef\u001b[39;00m\u001b[38;5;250m \u001b[39m\u001b[34mget\u001b[39m(url, params=\u001b[38;5;28;01mNone\u001b[39;00m, **kwargs):\n\u001b[32m     63\u001b[39m \u001b[38;5;250m    \u001b[39m\u001b[33mr\u001b[39m\u001b[33;03m\"\"\"Sends a GET request.\u001b[39;00m\n\u001b[32m     64\u001b[39m \n\u001b[32m     65\u001b[39m \u001b[33;03m    :param url: URL for the new :class:`Request` object.\u001b[39;00m\n\u001b[32m   (...)\u001b[39m\u001b[32m     70\u001b[39m \u001b[33;03m    :rtype: requests.Response\u001b[39;00m\n\u001b[32m     71\u001b[39m \u001b[33;03m    \"\"\"\u001b[39;00m\n\u001b[32m---> \u001b[39m\u001b[32m73\u001b[39m     \u001b[38;5;28;01mreturn\u001b[39;00m \u001b[43mrequest\u001b[49m\u001b[43m(\u001b[49m\u001b[33;43m\"\u001b[39;49m\u001b[33;43mget\u001b[39;49m\u001b[33;43m\"\u001b[39;49m\u001b[43m,\u001b[49m\u001b[43m \u001b[49m\u001b[43murl\u001b[49m\u001b[43m,\u001b[49m\u001b[43m \u001b[49m\u001b[43mparams\u001b[49m\u001b[43m=\u001b[49m\u001b[43mparams\u001b[49m\u001b[43m,\u001b[49m\u001b[43m \u001b[49m\u001b[43m*\u001b[49m\u001b[43m*\u001b[49m\u001b[43mkwargs\u001b[49m\u001b[43m)\u001b[49m\n",
      "\u001b[36mFile \u001b[39m\u001b[32m~\\AppData\\Local\\Programs\\Python\\Python313\\Lib\\site-packages\\requests\\api.py:59\u001b[39m, in \u001b[36mrequest\u001b[39m\u001b[34m(method, url, **kwargs)\u001b[39m\n\u001b[32m     55\u001b[39m \u001b[38;5;66;03m# By using the 'with' statement we are sure the session is closed, thus we\u001b[39;00m\n\u001b[32m     56\u001b[39m \u001b[38;5;66;03m# avoid leaving sockets open which can trigger a ResourceWarning in some\u001b[39;00m\n\u001b[32m     57\u001b[39m \u001b[38;5;66;03m# cases, and look like a memory leak in others.\u001b[39;00m\n\u001b[32m     58\u001b[39m \u001b[38;5;28;01mwith\u001b[39;00m sessions.Session() \u001b[38;5;28;01mas\u001b[39;00m session:\n\u001b[32m---> \u001b[39m\u001b[32m59\u001b[39m     \u001b[38;5;28;01mreturn\u001b[39;00m \u001b[43msession\u001b[49m\u001b[43m.\u001b[49m\u001b[43mrequest\u001b[49m\u001b[43m(\u001b[49m\u001b[43mmethod\u001b[49m\u001b[43m=\u001b[49m\u001b[43mmethod\u001b[49m\u001b[43m,\u001b[49m\u001b[43m \u001b[49m\u001b[43murl\u001b[49m\u001b[43m=\u001b[49m\u001b[43murl\u001b[49m\u001b[43m,\u001b[49m\u001b[43m \u001b[49m\u001b[43m*\u001b[49m\u001b[43m*\u001b[49m\u001b[43mkwargs\u001b[49m\u001b[43m)\u001b[49m\n",
      "\u001b[36mFile \u001b[39m\u001b[32m~\\AppData\\Local\\Programs\\Python\\Python313\\Lib\\site-packages\\requests\\sessions.py:589\u001b[39m, in \u001b[36mSession.request\u001b[39m\u001b[34m(self, method, url, params, data, headers, cookies, files, auth, timeout, allow_redirects, proxies, hooks, stream, verify, cert, json)\u001b[39m\n\u001b[32m    584\u001b[39m send_kwargs = {\n\u001b[32m    585\u001b[39m     \u001b[33m\"\u001b[39m\u001b[33mtimeout\u001b[39m\u001b[33m\"\u001b[39m: timeout,\n\u001b[32m    586\u001b[39m     \u001b[33m\"\u001b[39m\u001b[33mallow_redirects\u001b[39m\u001b[33m\"\u001b[39m: allow_redirects,\n\u001b[32m    587\u001b[39m }\n\u001b[32m    588\u001b[39m send_kwargs.update(settings)\n\u001b[32m--> \u001b[39m\u001b[32m589\u001b[39m resp = \u001b[38;5;28;43mself\u001b[39;49m\u001b[43m.\u001b[49m\u001b[43msend\u001b[49m\u001b[43m(\u001b[49m\u001b[43mprep\u001b[49m\u001b[43m,\u001b[49m\u001b[43m \u001b[49m\u001b[43m*\u001b[49m\u001b[43m*\u001b[49m\u001b[43msend_kwargs\u001b[49m\u001b[43m)\u001b[49m\n\u001b[32m    591\u001b[39m \u001b[38;5;28;01mreturn\u001b[39;00m resp\n",
      "\u001b[36mFile \u001b[39m\u001b[32m~\\AppData\\Local\\Programs\\Python\\Python313\\Lib\\site-packages\\requests\\sessions.py:703\u001b[39m, in \u001b[36mSession.send\u001b[39m\u001b[34m(self, request, **kwargs)\u001b[39m\n\u001b[32m    700\u001b[39m start = preferred_clock()\n\u001b[32m    702\u001b[39m \u001b[38;5;66;03m# Send the request\u001b[39;00m\n\u001b[32m--> \u001b[39m\u001b[32m703\u001b[39m r = \u001b[43madapter\u001b[49m\u001b[43m.\u001b[49m\u001b[43msend\u001b[49m\u001b[43m(\u001b[49m\u001b[43mrequest\u001b[49m\u001b[43m,\u001b[49m\u001b[43m \u001b[49m\u001b[43m*\u001b[49m\u001b[43m*\u001b[49m\u001b[43mkwargs\u001b[49m\u001b[43m)\u001b[49m\n\u001b[32m    705\u001b[39m \u001b[38;5;66;03m# Total elapsed time of the request (approximately)\u001b[39;00m\n\u001b[32m    706\u001b[39m elapsed = preferred_clock() - start\n",
      "\u001b[36mFile \u001b[39m\u001b[32m~\\AppData\\Local\\Programs\\Python\\Python313\\Lib\\site-packages\\requests\\adapters.py:682\u001b[39m, in \u001b[36mHTTPAdapter.send\u001b[39m\u001b[34m(self, request, stream, timeout, verify, cert, proxies)\u001b[39m\n\u001b[32m    667\u001b[39m     resp = conn.urlopen(\n\u001b[32m    668\u001b[39m         method=request.method,\n\u001b[32m    669\u001b[39m         url=url,\n\u001b[32m   (...)\u001b[39m\u001b[32m    678\u001b[39m         chunked=chunked,\n\u001b[32m    679\u001b[39m     )\n\u001b[32m    681\u001b[39m \u001b[38;5;28;01mexcept\u001b[39;00m (ProtocolError, \u001b[38;5;167;01mOSError\u001b[39;00m) \u001b[38;5;28;01mas\u001b[39;00m err:\n\u001b[32m--> \u001b[39m\u001b[32m682\u001b[39m     \u001b[38;5;28;01mraise\u001b[39;00m \u001b[38;5;167;01mConnectionError\u001b[39;00m(err, request=request)\n\u001b[32m    684\u001b[39m \u001b[38;5;28;01mexcept\u001b[39;00m MaxRetryError \u001b[38;5;28;01mas\u001b[39;00m e:\n\u001b[32m    685\u001b[39m     \u001b[38;5;28;01mif\u001b[39;00m \u001b[38;5;28misinstance\u001b[39m(e.reason, ConnectTimeoutError):\n\u001b[32m    686\u001b[39m         \u001b[38;5;66;03m# TODO: Remove this in 3.0.0: see #2811\u001b[39;00m\n",
      "\u001b[31mConnectionError\u001b[39m: ('Connection aborted.', ConnectionAbortedError(10053, 'An established connection was aborted by the software in your host machine', None, 10053, None))"
     ]
    }
   ],
   "source": [
    "from ast import main\n",
    "import requests\n",
    "from bs4 import BeautifulSoup\n",
    "import json\n",
    "import time\n",
    "import re\n",
    "result=[]\n",
    "\n",
    " \n",
    "k=1\n",
    " \n",
    "\n",
    "if link_array:  # Add your condition here (e.g., len(link_array) > 0)\n",
    "    for link in flat_links:\n",
    "        # link=link+'?from=srp-list-card'\n",
    "        link=\"https://www.realtor.com/realestateandhomes-detail/\"+link\n",
    "        print(link)\n",
    "        detail_res = requests.get(link, params=params, cookies=cookies, headers=headers)\n",
    "        k = k + 1\n",
    "        print(detail_res, k)\n",
    "        data = {\n",
    "            \"Price\": \"N/A\",\n",
    "            \"Address\": \"N/A\",\n",
    "            \"Realtor's Name\": \"N/A\",\n",
    "            \"Realtor's Email\": \"N/A\",\n",
    "            \"Realtor's Phone\": \"N/A\",\n",
    "            \"Brokered Name\": \"N/A\",\n",
    "            \"Estimated Price\": \"N/A\",\n",
    "            \"Property Type\": \"N/A\",\n",
    "            \"Days on Market\": \"N/A\",\n",
    "            \"Year Built\": \"N/A\",\n",
    "            \"Zip Code\": \"N/A\",\n",
    "            \"Multi Listings\": \"N/A\",\n",
    "            \"Link\": link,\n",
    "        }\n",
    "\n",
    "        if detail_res.status_code == 200:\n",
    "            # time.sleep(3)  # delay to avoid blocking\n",
    "            detail_soup = BeautifulSoup(detail_res.text, 'html.parser')\n",
    "\n",
    "            main_price = detail_soup.find(\"span\", class_=\"base__StyledType-rui__sc-18muj27-0 idlIli\")\n",
    "            \n",
    "            if main_price:\n",
    "                data['Price'] = main_price.text.strip()\n",
    "\n",
    "            main_address = detail_soup.find(\"h1\", class_=\"sc-fa97e35a-3 dgxOov\")\n",
    "            \n",
    "            if main_address:\n",
    "                data['Address'] = main_address.text.strip()\n",
    "\n",
    "            script_tag = detail_soup.find('script', {'id': '__NEXT_DATA__', 'type': 'application/json'})\n",
    "            if script_tag:\n",
    "                try:\n",
    "                    json_data = json.loads(script_tag.string)\n",
    "                    advertiser_info = json_data[\"props\"][\"pageProps\"][\"initialReduxState\"][\"propertyDetails\"][\"advertisers\"][0]\n",
    "\n",
    "                    data[\"Realtor's Name\"] = advertiser_info.get(\"name\", \"N/A\")\n",
    "                    data[\"Realtor's Email\"] = advertiser_info.get(\"email\", \"N/A\")\n",
    "                    data[\"Realtor's Phone\"] = advertiser_info[\"phones\"][0].get(\"number\", \"N/A\")\n",
    "                    data[\"Brokered Name\"] = advertiser_info[\"office\"].get(\"name\")\n",
    "                    data[\"Estimated Price\"] = json_data[\"props\"][\"pageProps\"][\"initialReduxState\"][\"propertyDetails\"].get(\"estimate\", {}).get(\"price\", \"N/A\")\n",
    "                    data[\"Zip Code\"] = re.search(r'\\b\\d{5}\\b', detail_soup.text).group() if re.search(r'\\b\\d{5}\\b', detail_soup.text) else \"N/A\"\n",
    "                except Exception as e:\n",
    "                    data[\"error\"] = str(e)\n",
    "\n",
    "            # multi_listings = detail_soup.find(\"div\", class_=\"sc-205c724c-0 ficrCd\")\n",
    "            # if multi_listings:\n",
    "            #     listings = multi_listings.find_all('a')\n",
    "            #     data[\"Multi Listings\"] = len(listings)\n",
    "\n",
    "            multi_listings = detail_soup.find(\"div\", class_=\"sc-205c724c-0 ficrCd\")\n",
    "            if multi_listings:\n",
    "                listings = multi_listings.find_all('a')\n",
    "                data[\"Multi Listings\"] = str(len(listings))   \n",
    "            else:\n",
    "                data[\"Multi Listings\"] = \"0\"   \n",
    "\n",
    " \n",
    "\n",
    "            fifi = detail_soup.find(\"ul\", \"sc-596aad4c-0 fdDkrT\")\n",
    "            if fifi:\n",
    "                prop_type_tag = fifi.find('span', string=\"Property type\")\n",
    "                data[\"Property Type\"] = prop_type_tag.find_next('p').text.strip() if prop_type_tag else \"N/A\"\n",
    "\n",
    "                # dom_tag = fifi.find('span', string=\"On Realtor.com\")\n",
    "                # data[\"Days on Market\"] = dom_tag.find_next('p').text.strip() if dom_tag else \"N/A\"\n",
    "                dom_tag = fifi.find('p', class_=\"base__StyledType-rui__sc-18muj27-0 bNJOGz sc-c1d03842-3 cCvGvj\")\n",
    "                data[\"Days on Market\"] = dom_tag.find_next('p').text.strip() if dom_tag else \"N/A\"\n",
    "\n",
    "                year_built_tag = fifi.find('span', string=\"Year built\")\n",
    "                data[\"Year Built\"] = year_built_tag.find_next('p').text.strip() if year_built_tag else \"N/A\"\n",
    "\n",
    "            estim = detail_soup.find(\"div\", \"mortgage-components-bx9k35 jhJBqN\")\n",
    "            if estim:\n",
    "                price = estim.find('span', class_='base__StyledType-rui__sc-18muj27-0 idlIli')\n",
    "                \n",
    "                if price:\n",
    "                    data[\"Estimated Price\"] = price.text.strip()\n",
    "\n",
    "        result.append(data)\n",
    "\n",
    "else:\n",
    "    result.append({'message': 'No property URLs found.'})\n",
    "\n",
    " "
   ]
  },
  {
   "cell_type": "code",
   "execution_count": null,
   "id": "31e3543b",
   "metadata": {
    "papermill": {
     "duration": null,
     "end_time": null,
     "exception": null,
     "start_time": null,
     "status": "pending"
    },
    "tags": []
   },
   "outputs": [],
   "source": [
    "print(json.dumps(result, indent=2))"
   ]
  }
 ],
 "metadata": {
  "kernelspec": {
   "display_name": "Python 3",
   "language": "python",
   "name": "python3"
  },
  "language_info": {
   "codemirror_mode": {
    "name": "ipython",
    "version": 3
   },
   "file_extension": ".py",
   "mimetype": "text/x-python",
   "name": "python",
   "nbconvert_exporter": "python",
   "pygments_lexer": "ipython3",
   "version": "3.13.2"
  },
  "papermill": {
   "default_parameters": {},
   "duration": 913.797448,
   "end_time": "2025-09-16T05:02:03.089222",
   "environment_variables": {},
   "exception": true,
   "input_path": "python_notebook.ipynb",
   "output_path": "executed_notebook.ipynb",
   "parameters": {
    "final_url": "/type-single-family-home/dom-60/price-500000-na",
    "location": "atlanta_ga"
   },
   "start_time": "2025-09-16T04:46:49.291774",
   "version": "2.6.0"
  }
 },
 "nbformat": 4,
 "nbformat_minor": 5
}