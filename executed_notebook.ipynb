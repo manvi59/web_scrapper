{
 "cells": [
  {
   "cell_type": "code",
   "execution_count": 1,
   "id": "83c7bc78",
   "metadata": {
    "execution": {
     "iopub.execute_input": "2025-05-14T06:24:48.777608Z",
     "iopub.status.busy": "2025-05-14T06:24:48.777276Z",
     "iopub.status.idle": "2025-05-14T06:24:48.781709Z",
     "shell.execute_reply": "2025-05-14T06:24:48.781066Z"
    },
    "papermill": {
     "duration": 0.009934,
     "end_time": "2025-05-14T06:24:48.782787",
     "exception": false,
     "start_time": "2025-05-14T06:24:48.772853",
     "status": "completed"
    },
    "tags": [
     "injected-parameters"
    ]
   },
   "outputs": [],
   "source": [
    "# Parameters\n",
    "location = \"new-york_ny\"\n",
    "final_url = \"/type-single-family-home\"\n"
   ]
  },
  {
   "cell_type": "code",
   "execution_count": 2,
   "id": "14978b06",
   "metadata": {
    "execution": {
     "iopub.execute_input": "2025-05-14T06:24:48.794078Z",
     "iopub.status.busy": "2025-05-14T06:24:48.793780Z",
     "iopub.status.idle": "2025-05-14T06:24:55.737309Z",
     "shell.execute_reply": "2025-05-14T06:24:55.736705Z"
    },
    "papermill": {
     "duration": 6.950324,
     "end_time": "2025-05-14T06:24:55.738452",
     "exception": false,
     "start_time": "2025-05-14T06:24:48.788128",
     "status": "completed"
    },
    "tags": []
   },
   "outputs": [
    {
     "name": "stdout",
     "output_type": "stream",
     "text": [
      "🔗 Final URL: https://www.realtor.com/realestateandhomes-search/new-york_ny/type-single-family-home\n"
     ]
    }
   ],
   "source": [
    "import requests\n",
    "import time\n",
    "import sys\n",
    "from bs4 import BeautifulSoup\n",
    "import json\n",
    " \n",
    "cookies = {\n",
    "    '_cq_duid': '1.1744778181.6MobFmGeC2R1nUU7',\n",
    "    'split': 'n',\n",
    "    '__vst': '510a7abc-5631-4c8b-a9a5-54de51e58a8a',\n",
    "    '__bot': 'false',\n",
    "    '_lr_env_src_ats': 'false',\n",
    "    'permutive-id': '36491759-b0ef-4036-bc03-7d07f765413e',\n",
    "    's_ecid': 'MCMID%7C62206642167978879802294781651943730817',\n",
    "    '_cc_id': 'f15316d1891455e0cdcc7f071e6be91a',\n",
    "    '_gcl_au': '1.1.761638148.1744778188',\n",
    "    'pbjs-unifiedid': '%7B%22TDID%22%3A%22768f16ce-051a-44b9-986e-505d5a184422%22%2C%22TDID_LOOKUP%22%3A%22TRUE%22%2C%22TDID_CREATED_AT%22%3A%222025-03-16T04%3A36%3A27%22%7D',\n",
    "    'pbjs-unifiedid_cst': 'VyxHLMwsHQ%3D%3D',\n",
    "    '__gsas': 'ID=b761dbf92fed2797:T=1744778187:RT=1744778187:S=ALNI_MYyPr435-r92Lh6hgKWE7ir2wPpFg',\n",
    "    '__split': '11',\n",
    "    '_ga': 'GA1.1.122217795.1744778189',\n",
    "    '_fbp': 'fb.1.1744778190942.615506763789365416',\n",
    "    'ajs_anonymous_id': '484b625d-2e90-49a9-82ea-71509bf26df2',\n",
    "    'kampyle_userid': '597b-3652-68fb-14df-8b6d-f4a2-9005-9eb6',\n",
    "    'cto_bundle': 'OyMQ419RVHR2WTVsekpyUlYyaUt1RzBVN25kNWJ5eG45aU1kZ21lc3NIREpMTHVNcm4ybXA5Z0ZmMzF3YXZZaEVISyUyQlpoeE9rQlN3N2dsNVlWZmRwc2d6TjhucUExcSUyQjhwSHVqNExBVjdVZUU3eE5OdjRmRlc2SEZld3c2SFhpMVI0Slh0NmN6Ymh3MzlPN1kzJTJGeFZObEklMkJpQSUzRCUzRA',\n",
    "    'G_ENABLED_IDPS': 'google',\n",
    "    '__spdt': 'fec8a0e0243d44f7ac0a8810ea3a5617',\n",
    "    '_pbjs_userid_consent_data': '3524755945110770',\n",
    "    'spec-property-history': 'true',\n",
    "    '_lr_sampling_rate': '100',\n",
    "    'sbjs_migrations': '1418474375998%3D1',\n",
    "    'sbjs_current_add': 'fd%3D2025-05-13%2015%3A38%3A57%7C%7C%7Cep%3Dhttps%3A%2F%2Fwww.realtor.com%2Frealestateagents%2FMarie-Crabb_San-Antonio_TX_1562457_770159571%7C%7C%7Crf%3D%28none%29',\n",
    "    'sbjs_first_add': 'fd%3D2025-05-13%2015%3A38%3A57%7C%7C%7Cep%3Dhttps%3A%2F%2Fwww.realtor.com%2Frealestateagents%2FMarie-Crabb_San-Antonio_TX_1562457_770159571%7C%7C%7Crf%3D%28none%29',\n",
    "    'sbjs_current': 'typ%3Dtypein%7C%7C%7Csrc%3D%28direct%29%7C%7C%7Cmdm%3D%28none%29%7C%7C%7Ccmp%3D%28none%29%7C%7C%7Ccnt%3D%28none%29%7C%7C%7Ctrm%3D%28none%29',\n",
    "    'sbjs_first': 'typ%3Dtypein%7C%7C%7Csrc%3D%28direct%29%7C%7C%7Cmdm%3D%28none%29%7C%7C%7Ccmp%3D%28none%29%7C%7C%7Ccnt%3D%28none%29%7C%7C%7Ctrm%3D%28none%29',\n",
    "    'sbjs_udata': 'vst%3D1%7C%7C%7Cuip%3D%28none%29%7C%7C%7Cuag%3DMozilla%2F5.0%20%28Windows%20NT%2010.0%3B%20Win64%3B%20x64%29%20AppleWebKit%2F537.36%20%28KHTML%2C%20like%20Gecko%29%20Chrome%2F136.0.0.0%20Safari%2F537.36',\n",
    "    'AWSALBTG': 'Gysy51HA+pJTrxIKFj2v3w0nCE/eoaQmJ7DSPj4suoUKY1CHB4l5GhwD4Qau/EW7RngdZBfgTbUsgutlOm0f96YiXJTcsrWR+T8lWoqugNfMSDTEbOwrgbTJv4zI4vgeWeD4ltJdQFCOglNyh0FuxME92j87R8+5+nrtZTwzAFAL',\n",
    "    'AWSALBTGCORS': 'Gysy51HA+pJTrxIKFj2v3w0nCE/eoaQmJ7DSPj4suoUKY1CHB4l5GhwD4Qau/EW7RngdZBfgTbUsgutlOm0f96YiXJTcsrWR+T8lWoqugNfMSDTEbOwrgbTJv4zI4vgeWeD4ltJdQFCOglNyh0FuxME92j87R8+5+nrtZTwzAFAL',\n",
    "    'AWSALB': 'PA4KsCC+ZE35rkHrZlFJmvdEFqqcwpfhPvIHyR8fvTkTuV8elUxXm3ZXx+OJ8h1qNL5Hsxp9M9bcRnTPQfhDhKnSOIaGtgnBBIXsSuTsBL6E4DClOUhJXGkw1ucY',\n",
    "    'AWSALBCORS': 'PA4KsCC+ZE35rkHrZlFJmvdEFqqcwpfhPvIHyR8fvTkTuV8elUxXm3ZXx+OJ8h1qNL5Hsxp9M9bcRnTPQfhDhKnSOIaGtgnBBIXsSuTsBL6E4DClOUhJXGkw1ucY',\n",
    "    'leadid_token-27789EFE-7A9A-DB70-BB9B-97D9B7057DBB-01836014-7527-FD48-9B7F-1A40A9705CFE': '86378343-6E72-C9A3-F38C-4FC85D4B9DDF',\n",
    "    '_parsely_session': '{%22sid%22:25%2C%22surl%22:%22https://www.realtor.com/realestateandhomes-detail/127-Concord-St_Brooklyn_NY_11201_M94228-18638%22%2C%22sref%22:%22https://colab.research.google.com/%22%2C%22sts%22:1747135330658%2C%22slts%22:1747130960659}',\n",
    "    '_parsely_visitor': '{%22id%22:%22pid=1b405088-93a3-4244-a70a-8f0b5d157233%22%2C%22session_count%22:25%2C%22last_session_ts%22:1747135330658}',\n",
    "    '_lr_retry_request': 'true',\n",
    "    'AMP_MKTG_c07a79acf5': 'JTdCJTdE',\n",
    "    'claritas_24hrexp_ldp': 'true',\n",
    "    'split_tcv': '123',\n",
    "    'panoramaId_expiry': '1747223247759',\n",
    "    'panoramaId': '1c8ce1f32d9b77f43d98a20754f4a9fb927a4d1c3ceb4de2702245f6f0c8d4e0',\n",
    "    'ab.storage.deviceId.7cc9d032-9d6d-44cf-a8f5-d276489af322': 'g%3Ac0e51af7-dd43-dbd5-e0cf-a1fa33760e57%7Ce%3Aundefined%7Cc%3A1744778189271%7Cl%3A1747136849038',\n",
    "    'ab.storage.userId.7cc9d032-9d6d-44cf-a8f5-d276489af322': 'g%3Avisitor_510a7abc-5631-4c8b-a9a5-54de51e58a8a%7Ce%3Aundefined%7Cc%3A1744778189264%7Cl%3A1747136849040',\n",
    "    'kampyleUserSession': '1747136968797',\n",
    "    'kampyleUserSessionsCount': '73',\n",
    "    'kampyleSessionPageCounter': '1',\n",
    "    'kampyleUserPercentile': '38.99125802441098',\n",
    "    '__ssn': '12d7e70c-46a9-45b7-8708-9b6155f748af',\n",
    "    '__ssnstarttime': '1747138479',\n",
    "    'criteria': 'sprefix%3D%252Fnewhomecommunities%26area_type%3Dcity%26city%3DNew%2520York%26pg%3D1%26state_code%3DNY%26state_id%3DNY%26loc%3DNew%2520York%252C%2520NY%26locSlug%3DNew-York_NY%26county_fips%3D36081%26county_fips_multi%3D36081-36047-36085-36005-36061',\n",
    "    'isAuth0GnavEnabled': 'C',\n",
    "    'AMCVS_8853394255142B6A0A4C98A4%40AdobeOrg': '1',\n",
    "    'AMCV_8853394255142B6A0A4C98A4%40AdobeOrg': '-1124106680%7CMCIDTS%7C20221%7CMCMID%7C62206642167978879802294781651943730817%7CMCAAMLH-1747743283%7C12%7CMCAAMB-1747743283%7CRKhpRz8krg2tLO6pguXWp5olkAcUniQYPHaMWWgdJ3xzPWQmdj0y%7CMCOPTOUT-1747145683s%7CNONE%7CMCAID%7CNONE%7CvVersion%7C5.2.0',\n",
    "    'claritas_24hrexp_sitevisit': 'true',\n",
    "    'ab.storage.sessionId.7cc9d032-9d6d-44cf-a8f5-d276489af322': 'g%3A5e73a82d-0856-363b-ebe3-ab7bcf82f658%7Ce%3A1747140285057%7Cc%3A1747136849034%7Cl%3A1747138485057',\n",
    "    '_uetsid': '523b07802f1e11f0a6117f38eb0c06f4|nu1ncn|2|fvv|0|1958',\n",
    "    'AMP_c07a79acf5': 'JTdCJTIyZGV2aWNlSWQlMjIlM0ElMjJjNGJmMzkxNC1mNjA1LTQyZWUtYWM2Yi02MTQwMzBlODAxNGYlMjIlMkMlMjJ1c2VySWQlMjIlM0ElMjI1MTBhN2FiYy01NjMxLTRjOGItYTlhNS01NGRlNTFlNThhOGElMjIlMkMlMjJzZXNzaW9uSWQlMjIlM0ExNzQ3MTM2ODQ2ODMxJTJDJTIyb3B0T3V0JTIyJTNBZmFsc2UlMkMlMjJsYXN0RXZlbnRUaW1lJTIyJTNBMTc0NzEzODQ4NTQxNSUyQyUyMmxhc3RFdmVudElkJTIyJTNBMzc2JTJDJTIycGFnZUNvdW50ZXIlMjIlM0EzJTdE',\n",
    "    '__gads': 'ID=90cc70a1b7f62534:T=1744778191:RT=1747138485:S=ALNI_Mbwq8lNnQn41vMslb5NKa0v1IXODQ',\n",
    "    '__gpi': 'UID=000010a0d44ff64d:T=1744778191:RT=1747138485:S=ALNI_MYQOz2G493eHyeT1BxhNY1pSbZ_ZQ',\n",
    "    '__eoi': 'ID=ff471cc055362e70:T=1744778191:RT=1747138485:S=AA-AfjY5Nukxc6S-HKQMxCxsgauf',\n",
    "    '_uetvid': '5e6611101a7c11f096fd0b3e24a7f2ce|1glbpa|1747138486190|3|1|bat.bing.com/p/insights/c/b',\n",
    "    '_ga_07XBH6XBNS': 'GS2.1.s1747135361$o25$g0$t1747138488$j0$l0$h538070340',\n",
    "    '_ga_MS5EHT6J6V': 'GS2.1.s1747135361$o25$g1$t1747138488$j0$l0$h0',\n",
    "    'KP_UIDz-ssn': '0MfNNCrrSb9BV7sBp4WHRRcf76Hju6CLGwabGOT0OemzWxp7pYt891SoHjCmiqzeE4EogTl5pik6AxlNeZssOqeTyXwkGLi6ak34mTbRw8IRL3eAxozFBk7kKCJKW4DrGUsqoPvVO0Mi9LFWIIbEhrxyequ0ffzwIJVbhdPx',\n",
    "    'KP_UIDz': '0MfNNCrrSb9BV7sBp4WHRRcf76Hju6CLGwabGOT0OemzWxp7pYt891SoHjCmiqzeE4EogTl5pik6AxlNeZssOqeTyXwkGLi6ak34mTbRw8IRL3eAxozFBk7kKCJKW4DrGUsqoPvVO0Mi9LFWIIbEhrxyequ0ffzwIJVbhdPx',\n",
    "}\n",
    "\n",
    "headers = {\n",
    "    'accept': 'text/html,application/xhtml+xml,application/xml;q=0.9,image/avif,image/webp,image/apng,*/*;q=0.8,application/signed-exchange;v=b3;q=0.7',\n",
    "    'accept-language': 'en-US,en;q=0.9',\n",
    "    'cache-control': 'max-age=0',\n",
    "    'priority': 'u=0, i',\n",
    "    'sec-ch-ua': '\"Chromium\";v=\"136\", \"Google Chrome\";v=\"136\", \"Not.A/Brand\";v=\"99\"',\n",
    "    'sec-ch-ua-mobile': '?0',\n",
    "    'sec-ch-ua-platform': '\"Windows\"',\n",
    "    'sec-fetch-dest': 'document',\n",
    "    'sec-fetch-mode': 'navigate',\n",
    "    'sec-fetch-site': 'same-origin',\n",
    "    'sec-fetch-user': '?1',\n",
    "    'upgrade-insecure-requests': '1',\n",
    "    'user-agent': 'Mozilla/5.0 (Windows NT 10.0; Win64; x64) AppleWebKit/537.36 (KHTML, like Gecko) Chrome/136.0.0.0 Safari/537.36',\n",
    "    # 'cookie': '_cq_duid=1.1744778181.6MobFmGeC2R1nUU7; split=n; __vst=510a7abc-5631-4c8b-a9a5-54de51e58a8a; __bot=false; _lr_env_src_ats=false; permutive-id=36491759-b0ef-4036-bc03-7d07f765413e; s_ecid=MCMID%7C62206642167978879802294781651943730817; _cc_id=f15316d1891455e0cdcc7f071e6be91a; _gcl_au=1.1.761638148.1744778188; pbjs-unifiedid=%7B%22TDID%22%3A%22768f16ce-051a-44b9-986e-505d5a184422%22%2C%22TDID_LOOKUP%22%3A%22TRUE%22%2C%22TDID_CREATED_AT%22%3A%222025-03-16T04%3A36%3A27%22%7D; pbjs-unifiedid_cst=VyxHLMwsHQ%3D%3D; __gsas=ID=b761dbf92fed2797:T=1744778187:RT=1744778187:S=ALNI_MYyPr435-r92Lh6hgKWE7ir2wPpFg; __split=11; _ga=GA1.1.122217795.1744778189; _fbp=fb.1.1744778190942.615506763789365416; ajs_anonymous_id=484b625d-2e90-49a9-82ea-71509bf26df2; kampyle_userid=597b-3652-68fb-14df-8b6d-f4a2-9005-9eb6; cto_bundle=OyMQ419RVHR2WTVsekpyUlYyaUt1RzBVN25kNWJ5eG45aU1kZ21lc3NIREpMTHVNcm4ybXA5Z0ZmMzF3YXZZaEVISyUyQlpoeE9rQlN3N2dsNVlWZmRwc2d6TjhucUExcSUyQjhwSHVqNExBVjdVZUU3eE5OdjRmRlc2SEZld3c2SFhpMVI0Slh0NmN6Ymh3MzlPN1kzJTJGeFZObEklMkJpQSUzRCUzRA; G_ENABLED_IDPS=google; __spdt=fec8a0e0243d44f7ac0a8810ea3a5617; _pbjs_userid_consent_data=3524755945110770; spec-property-history=true; _lr_sampling_rate=100; sbjs_migrations=1418474375998%3D1; sbjs_current_add=fd%3D2025-05-13%2015%3A38%3A57%7C%7C%7Cep%3Dhttps%3A%2F%2Fwww.realtor.com%2Frealestateagents%2FMarie-Crabb_San-Antonio_TX_1562457_770159571%7C%7C%7Crf%3D%28none%29; sbjs_first_add=fd%3D2025-05-13%2015%3A38%3A57%7C%7C%7Cep%3Dhttps%3A%2F%2Fwww.realtor.com%2Frealestateagents%2FMarie-Crabb_San-Antonio_TX_1562457_770159571%7C%7C%7Crf%3D%28none%29; sbjs_current=typ%3Dtypein%7C%7C%7Csrc%3D%28direct%29%7C%7C%7Cmdm%3D%28none%29%7C%7C%7Ccmp%3D%28none%29%7C%7C%7Ccnt%3D%28none%29%7C%7C%7Ctrm%3D%28none%29; sbjs_first=typ%3Dtypein%7C%7C%7Csrc%3D%28direct%29%7C%7C%7Cmdm%3D%28none%29%7C%7C%7Ccmp%3D%28none%29%7C%7C%7Ccnt%3D%28none%29%7C%7C%7Ctrm%3D%28none%29; sbjs_udata=vst%3D1%7C%7C%7Cuip%3D%28none%29%7C%7C%7Cuag%3DMozilla%2F5.0%20%28Windows%20NT%2010.0%3B%20Win64%3B%20x64%29%20AppleWebKit%2F537.36%20%28KHTML%2C%20like%20Gecko%29%20Chrome%2F136.0.0.0%20Safari%2F537.36; AWSALBTG=Gysy51HA+pJTrxIKFj2v3w0nCE/eoaQmJ7DSPj4suoUKY1CHB4l5GhwD4Qau/EW7RngdZBfgTbUsgutlOm0f96YiXJTcsrWR+T8lWoqugNfMSDTEbOwrgbTJv4zI4vgeWeD4ltJdQFCOglNyh0FuxME92j87R8+5+nrtZTwzAFAL; AWSALBTGCORS=Gysy51HA+pJTrxIKFj2v3w0nCE/eoaQmJ7DSPj4suoUKY1CHB4l5GhwD4Qau/EW7RngdZBfgTbUsgutlOm0f96YiXJTcsrWR+T8lWoqugNfMSDTEbOwrgbTJv4zI4vgeWeD4ltJdQFCOglNyh0FuxME92j87R8+5+nrtZTwzAFAL; AWSALB=PA4KsCC+ZE35rkHrZlFJmvdEFqqcwpfhPvIHyR8fvTkTuV8elUxXm3ZXx+OJ8h1qNL5Hsxp9M9bcRnTPQfhDhKnSOIaGtgnBBIXsSuTsBL6E4DClOUhJXGkw1ucY; AWSALBCORS=PA4KsCC+ZE35rkHrZlFJmvdEFqqcwpfhPvIHyR8fvTkTuV8elUxXm3ZXx+OJ8h1qNL5Hsxp9M9bcRnTPQfhDhKnSOIaGtgnBBIXsSuTsBL6E4DClOUhJXGkw1ucY; leadid_token-27789EFE-7A9A-DB70-BB9B-97D9B7057DBB-01836014-7527-FD48-9B7F-1A40A9705CFE=86378343-6E72-C9A3-F38C-4FC85D4B9DDF; _parsely_session={%22sid%22:25%2C%22surl%22:%22https://www.realtor.com/realestateandhomes-detail/127-Concord-St_Brooklyn_NY_11201_M94228-18638%22%2C%22sref%22:%22https://colab.research.google.com/%22%2C%22sts%22:1747135330658%2C%22slts%22:1747130960659}; _parsely_visitor={%22id%22:%22pid=1b405088-93a3-4244-a70a-8f0b5d157233%22%2C%22session_count%22:25%2C%22last_session_ts%22:1747135330658}; _lr_retry_request=true; AMP_MKTG_c07a79acf5=JTdCJTdE; claritas_24hrexp_ldp=true; split_tcv=123; panoramaId_expiry=1747223247759; panoramaId=1c8ce1f32d9b77f43d98a20754f4a9fb927a4d1c3ceb4de2702245f6f0c8d4e0; ab.storage.deviceId.7cc9d032-9d6d-44cf-a8f5-d276489af322=g%3Ac0e51af7-dd43-dbd5-e0cf-a1fa33760e57%7Ce%3Aundefined%7Cc%3A1744778189271%7Cl%3A1747136849038; ab.storage.userId.7cc9d032-9d6d-44cf-a8f5-d276489af322=g%3Avisitor_510a7abc-5631-4c8b-a9a5-54de51e58a8a%7Ce%3Aundefined%7Cc%3A1744778189264%7Cl%3A1747136849040; kampyleUserSession=1747136968797; kampyleUserSessionsCount=73; kampyleSessionPageCounter=1; kampyleUserPercentile=38.99125802441098; __ssn=12d7e70c-46a9-45b7-8708-9b6155f748af; __ssnstarttime=1747138479; criteria=sprefix%3D%252Fnewhomecommunities%26area_type%3Dcity%26city%3DNew%2520York%26pg%3D1%26state_code%3DNY%26state_id%3DNY%26loc%3DNew%2520York%252C%2520NY%26locSlug%3DNew-York_NY%26county_fips%3D36081%26county_fips_multi%3D36081-36047-36085-36005-36061; isAuth0GnavEnabled=C; AMCVS_8853394255142B6A0A4C98A4%40AdobeOrg=1; AMCV_8853394255142B6A0A4C98A4%40AdobeOrg=-1124106680%7CMCIDTS%7C20221%7CMCMID%7C62206642167978879802294781651943730817%7CMCAAMLH-1747743283%7C12%7CMCAAMB-1747743283%7CRKhpRz8krg2tLO6pguXWp5olkAcUniQYPHaMWWgdJ3xzPWQmdj0y%7CMCOPTOUT-1747145683s%7CNONE%7CMCAID%7CNONE%7CvVersion%7C5.2.0; claritas_24hrexp_sitevisit=true; ab.storage.sessionId.7cc9d032-9d6d-44cf-a8f5-d276489af322=g%3A5e73a82d-0856-363b-ebe3-ab7bcf82f658%7Ce%3A1747140285057%7Cc%3A1747136849034%7Cl%3A1747138485057; _uetsid=523b07802f1e11f0a6117f38eb0c06f4|nu1ncn|2|fvv|0|1958; AMP_c07a79acf5=JTdCJTIyZGV2aWNlSWQlMjIlM0ElMjJjNGJmMzkxNC1mNjA1LTQyZWUtYWM2Yi02MTQwMzBlODAxNGYlMjIlMkMlMjJ1c2VySWQlMjIlM0ElMjI1MTBhN2FiYy01NjMxLTRjOGItYTlhNS01NGRlNTFlNThhOGElMjIlMkMlMjJzZXNzaW9uSWQlMjIlM0ExNzQ3MTM2ODQ2ODMxJTJDJTIyb3B0T3V0JTIyJTNBZmFsc2UlMkMlMjJsYXN0RXZlbnRUaW1lJTIyJTNBMTc0NzEzODQ4NTQxNSUyQyUyMmxhc3RFdmVudElkJTIyJTNBMzc2JTJDJTIycGFnZUNvdW50ZXIlMjIlM0EzJTdE; __gads=ID=90cc70a1b7f62534:T=1744778191:RT=1747138485:S=ALNI_Mbwq8lNnQn41vMslb5NKa0v1IXODQ; __gpi=UID=000010a0d44ff64d:T=1744778191:RT=1747138485:S=ALNI_MYQOz2G493eHyeT1BxhNY1pSbZ_ZQ; __eoi=ID=ff471cc055362e70:T=1744778191:RT=1747138485:S=AA-AfjY5Nukxc6S-HKQMxCxsgauf; _uetvid=5e6611101a7c11f096fd0b3e24a7f2ce|1glbpa|1747138486190|3|1|bat.bing.com/p/insights/c/b; _ga_07XBH6XBNS=GS2.1.s1747135361$o25$g0$t1747138488$j0$l0$h538070340; _ga_MS5EHT6J6V=GS2.1.s1747135361$o25$g1$t1747138488$j0$l0$h0; KP_UIDz-ssn=0MfNNCrrSb9BV7sBp4WHRRcf76Hju6CLGwabGOT0OemzWxp7pYt891SoHjCmiqzeE4EogTl5pik6AxlNeZssOqeTyXwkGLi6ak34mTbRw8IRL3eAxozFBk7kKCJKW4DrGUsqoPvVO0Mi9LFWIIbEhrxyequ0ffzwIJVbhdPx; KP_UIDz=0MfNNCrrSb9BV7sBp4WHRRcf76Hju6CLGwabGOT0OemzWxp7pYt891SoHjCmiqzeE4EogTl5pik6AxlNeZssOqeTyXwkGLi6ak34mTbRw8IRL3eAxozFBk7kKCJKW4DrGUsqoPvVO0Mi9LFWIIbEhrxyequ0ffzwIJVbhdPx',\n",
    "}\n",
    " \n",
    "\n",
    "location=location\n",
    "# days=days\n",
    "# price=price\n",
    "# property_type=\"property_type\"\n",
    "final_url=final_url\n",
    "\n",
    "url = f\"https://www.realtor.com/realestateandhomes-search/{location}\"\n",
    "\n",
    "if final_url:\n",
    "   url+=final_url\n",
    "\n",
    "# if days:\n",
    "#     url += f\"/dom-{int(days)}\"\n",
    "# if price:\n",
    "#     url += f\"/price-{int(price)}-na\"\n",
    "# if property_type:\n",
    "#     url += f\"/type-{property_type.replace(' ', '-').lower()}\"\n",
    "\n",
    "print(\"🔗 Final URL:\", url)\n",
    "\n",
    "response = requests.get(\n",
    "    # 'https://www.realtor.com/realestateandhomes-search/Indiana/type-multi-family-home/dom-30/price-800000-na',\n",
    "    url,\n",
    "    cookies=cookies,\n",
    "    headers=headers,\n",
    ")\n",
    "\n",
    "\n",
    "# response = requests.get(\n",
    "#     'https://www.realtor.com/realestateandhomes-search/Atlanta_GA/shw-nc/price-800000-na',\n",
    "#     cookies=cookies,\n",
    "#     headers=headers,\n",
    "# )\n",
    "\n",
    "# response.text\n",
    "\n",
    "link_array=[]\n",
    "\n",
    "soup = BeautifulSoup(response.text, 'html.parser')\n",
    "# print(soup.prettify())\n",
    "# total_homes=soup.find('div', class_=\"TotalResults_totalNumber__ejYIx\")\n",
    "total_homes = soup.find('div', attrs={'data-testid': 'total-results'})\n",
    "script_tag = soup.find('script', {'data-testid': 'seoLinkingData', 'type': 'application/ld+json'})\n",
    "# print(script_tag)\n",
    "# print(total_homes.text)\n",
    "\n",
    "\n",
    "def get_main_entity_item_list(json_data):\n",
    "    for item in json_data:\n",
    "        if \"mainEntity\" in item:\n",
    "            main_entity = item[\"mainEntity\"]\n",
    "            if \"itemListElement\" in main_entity:\n",
    "                return main_entity[\"itemListElement\"]\n",
    "    return None  # Return None if not found\n",
    "\n",
    "if script_tag:\n",
    "  # Load the content of the script tag (it's a JSON string)\n",
    "  json_data = json.loads(script_tag.string)\n",
    "  # print(json_data)\n",
    "  # print(json.dumps(json_data, indent=2))\n",
    "  # ans=json_data[1][\"mainEntity\"][\"itemListElement\"]\n",
    "  ans=get_main_entity_item_list(json_data)\n",
    "\n",
    "  # print(json.dumps(ans,indent=2))\n",
    "  # print(ans)\n",
    "  c=0\n",
    "  if (ans):\n",
    "    for i in ans:\n",
    "    #   print(i[\"url\"])\n",
    "      link_array.append(i[\"url\"])\n",
    "      c=c+1\n",
    "#   print(c)\n",
    "\n",
    "# print(total_homes.text.strip())\n"
   ]
  },
  {
   "cell_type": "code",
   "execution_count": 3,
   "id": "c9b89832",
   "metadata": {
    "execution": {
     "iopub.execute_input": "2025-05-14T06:24:55.745199Z",
     "iopub.status.busy": "2025-05-14T06:24:55.744476Z",
     "iopub.status.idle": "2025-05-14T06:33:59.506033Z",
     "shell.execute_reply": "2025-05-14T06:33:59.505162Z"
    },
    "papermill": {
     "duration": 543.766057,
     "end_time": "2025-05-14T06:33:59.507196",
     "exception": false,
     "start_time": "2025-05-14T06:24:55.741139",
     "status": "completed"
    },
    "tags": []
   },
   "outputs": [
    {
     "name": "stdout",
     "output_type": "stream",
     "text": [
      "mmmmmmmmmmmmmmmmmmmm https://www.realtor.com/realestateandhomes-search/Atlanta_GA/shw-nc/price-800000-na/pg-2\n",
      "https://www.realtor.com/realestateandhomes-detail/1238-77th-St_Brooklyn_NY_11228_M32334-64563\n",
      "https://www.realtor.com/realestateandhomes-detail/5042-206th-St_Oakland-Gardens_NY_11364_M46232-98041\n",
      "https://www.realtor.com/realestateandhomes-detail/22-Delaware-St_Staten-Island_NY_10304_M44463-56197\n",
      "https://www.realtor.com/realestateandhomes-detail/8927-91st-St_Woodhaven_NY_11421_M45792-16742\n",
      "https://www.realtor.com/realestateandhomes-detail/15838-84th-St_Howard-Beach_NY_11414_M47222-51713\n",
      "https://www.realtor.com/realestateandhomes-detail/333-E-46th-St-Apt-5K_New-York_NY_10017_M48902-98522\n",
      "https://www.realtor.com/realestateandhomes-detail/186-Corona-Ave_Staten-Island_NY_10306_M48903-09742\n",
      "https://www.realtor.com/realestateandhomes-detail/21221-47th-Ave_Bayside_NY_11361_M34644-60549\n",
      "https://www.realtor.com/realestateandhomes-detail/230-Bedell-Ave_Staten-Island_NY_10307_M37375-41524\n",
      "https://www.realtor.com/realestateandhomes-detail/343-E-74th-St-Apt-15D_New-York_NY_10021_M94205-32881\n",
      "https://www.realtor.com/realestateandhomes-detail/216-Continental-Pl_Staten-Island_NY_10303_M45393-47318\n",
      "https://www.realtor.com/realestateandhomes-detail/25-Grace-Ct_Brooklyn_NY_11201_M49134-44219\n",
      "https://www.realtor.com/realestateandhomes-detail/237-Bayview-Ave_Staten-Island_NY_10309_M40950-67094\n",
      "https://www.realtor.com/realestateandhomes-detail/10-Draper-Pl_Staten-Island_NY_10314_M31280-13470\n",
      "https://www.realtor.com/realestateandhomes-detail/190-Prall-Ave_Staten-Island_NY_10312_M43378-56666\n",
      "https://www.realtor.com/realestateandhomes-detail/30-Aviva-Ct_Staten-Island_NY_10307_M45422-76071\n",
      "https://www.realtor.com/realestateandhomes-detail/11-Beach-220th-St_Breezy-Point_NY_11697_M90761-86179\n",
      "https://www.realtor.com/realestateandhomes-detail/1669-E-49th-St_Brooklyn_NY_11234_M38578-71173\n",
      "https://www.realtor.com/realestateandhomes-detail/6-Jules-Dr_Staten-Island_NY_10314_M44141-57720\n",
      "https://www.realtor.com/realestateandhomes-detail/103-Beach-221st-St_Breezy-Point_NY_11697_M97215-01979\n",
      "https://www.realtor.com/realestateandhomes-detail/555-Kappock-St-Apt-23S_Bronx_NY_10463_M95413-22911\n",
      "https://www.realtor.com/realestateandhomes-detail/13407-116th-Ave_South-Ozone-Park_NY_11420_M33172-10735\n",
      "https://www.realtor.com/realestateandhomes-detail/318-Beach-Rd_Staten-Island_NY_10312_M43976-60280\n",
      "https://www.realtor.com/realestateandhomes-detail/9472-199th-St_Hollis_NY_11423_M42372-63995\n",
      "https://www.realtor.com/realestateandhomes-detail/8919-205th-St_Hollis_NY_11423_M45389-10277\n",
      "https://www.realtor.com/realestateandhomes-detail/10402-214th-St_Queens-Village_NY_11429_M49368-19564\n",
      "https://www.realtor.com/realestateandhomes-detail/21831-110th-Ave_Queens-Village_NY_11429_M45290-23430\n",
      "https://www.realtor.com/realestateandhomes-detail/240-Corona-Ave_Staten-Island_NY_10306_M46661-15905\n",
      "https://www.realtor.com/realestateandhomes-detail/2211-3rd-Ave-1_New-York_NY_10035_M49947-40925\n",
      "https://www.realtor.com/realestateandhomes-detail/25510-Iowa-Rd_Little-Neck_NY_11362_M32583-35620\n",
      "https://www.realtor.com/realestateandhomes-detail/9301-71st-Ave_Forest-Hills_NY_11375_M49568-81939\n",
      "https://www.realtor.com/realestateandhomes-detail/1221-Albemarle-Rd_Brooklyn_NY_11218_M43944-42661\n",
      "https://www.realtor.com/realestateandhomes-detail/52-Nicolosi-Loop_Staten-Island_NY_10312_M46901-60875\n",
      "https://www.realtor.com/realestateandhomes-detail/616-City-Island-Ave_Bronx_NY_10464_M48402-69315\n",
      "https://www.realtor.com/realestateandhomes-detail/1120-Shore-Rd_Little-Neck_NY_11363_M35925-68264\n",
      "https://www.realtor.com/realestateandhomes-detail/117-Malba-Dr_Whitestone_NY_11357_M41090-80525\n",
      "https://www.realtor.com/realestateandhomes-detail/732A-Point-Cres_Whitestone_NY_11357_M42889-89275\n",
      "https://www.realtor.com/realestateandhomes-detail/1272-Woodrow-Rd_Staten-Island_NY_10309_M48487-72737\n",
      "https://www.realtor.com/realestateandhomes-detail/4916-216th-St_Oakland-Gardens_NY_11364_M40457-34720\n",
      "https://www.realtor.com/realestateandhomes-detail/3219-Jordan-St_Flushing_NY_11358_M40951-50583\n",
      "https://www.realtor.com/realestateandhomes-detail/4817-54th-Ave_Maspeth_NY_11378_M31294-83289\n",
      "https://www.realtor.com/realestateandhomes-detail/129-Home-Pl_Staten-Island_NY_10314_M31748-87025\n",
      "\n",
      "\n",
      "\n",
      "\n",
      " 2\n"
     ]
    },
    {
     "name": "stdout",
     "output_type": "stream",
     "text": [
      "mmmmmmmmmmmmmmmmmmmm https://www.realtor.com/realestateandhomes-search/Atlanta_GA/shw-nc/price-800000-na/pg-3\n",
      "https://www.realtor.com/realestateandhomes-detail/76-Alaska-St_Staten-Island_NY_10310_M32687-76382\n",
      "https://www.realtor.com/realestateandhomes-detail/92-Earley-St_Bronx_NY_10464_M47095-03123\n",
      "https://www.realtor.com/realestateandhomes-detail/264-Rathbun-Ave_Staten-Island_NY_10312_M34431-30579\n",
      "https://www.realtor.com/realestateandhomes-detail/25-Kunath-Ave_Staten-Island_NY_10309_M38183-07490\n",
      "https://www.realtor.com/realestateandhomes-detail/422-Crystal-Ave_Staten-Island_NY_10314_M48207-16557\n",
      "https://www.realtor.com/realestateandhomes-detail/80-Valdemar-Ave_Staten-Island_NY_10309_M39455-27121\n",
      "https://www.realtor.com/realestateandhomes-detail/43-Winchester-Ave_Staten-Island_NY_10312_M46328-08376\n",
      "https://www.realtor.com/realestateandhomes-detail/200-W-56th-St-904_New-York_NY_10019_M92727-11898\n",
      "https://www.realtor.com/realestateandhomes-detail/16341-95th-St_Howard-Beach_NY_11414_M37594-37451\n",
      "https://www.realtor.com/realestateandhomes-detail/295-Autumn-Ave_Brooklyn_NY_11208_M42371-02061\n",
      "https://www.realtor.com/realestateandhomes-detail/22518-Mentone-Ave_Springfield-Gardens_NY_11413_M33703-87919\n",
      "https://www.realtor.com/realestateandhomes-detail/239-Sycamore-St_Staten-Island_NY_10312_M42651-05322\n",
      "https://www.realtor.com/realestateandhomes-detail/14415-Lakewood-Ave_Jamaica_NY_11435_M47063-44230\n",
      "https://www.realtor.com/realestateandhomes-detail/7343-179th-St_Fresh-Meadows_NY_11366_M30222-78619\n",
      "https://www.realtor.com/realestateandhomes-detail/76-Arlington-Ave_Staten-Island_NY_10303_M36054-38832\n",
      "https://www.realtor.com/realestateandhomes-detail/23919-88th-Ave_Bellerose_NY_11426_M34981-73632\n",
      "https://www.realtor.com/realestateandhomes-detail/329-Beach-146th-St_Rockaway-Park_NY_11694_M35257-68619\n",
      "https://www.realtor.com/realestateandhomes-detail/22554-Murdock-Ave_Queens-Village_NY_11429_M40831-99588\n",
      "https://www.realtor.com/realestateandhomes-detail/114-81st-Ave_Kew-Gardens_NY_11415_M44959-07305\n",
      "https://www.realtor.com/realestateandhomes-detail/11-Chelsea-St_Staten-Island_NY_10307_M39405-29113\n",
      "https://www.realtor.com/realestateandhomes-detail/350-Park-Ln_Little-Neck_NY_11363_M37508-73988\n",
      "https://www.realtor.com/realestateandhomes-detail/5780-Amboy-Rd_Staten-Island_NY_10309_M44360-89689\n",
      "https://www.realtor.com/realestateandhomes-detail/25-Riverside-Blvd_New-York_NY_10069_M42260-76017\n",
      "https://www.realtor.com/realestateandhomes-detail/23-Helene-Ct_Staten-Island_NY_10309_M47355-82771\n",
      "https://www.realtor.com/realestateandhomes-detail/10041-201st-St_Hollis_NY_11423_M43363-91402\n",
      "https://www.realtor.com/realestateandhomes-detail/3203-Parsifal-Pl_Bronx_NY_10465_M49437-22721\n",
      "https://www.realtor.com/realestateandhomes-detail/70-Bayside-Ln_Staten-Island_NY_10309_M42218-26110\n",
      "https://www.realtor.com/realestateandhomes-detail/62-Morton-St_Staten-Island_NY_10306_M32588-44045\n",
      "https://www.realtor.com/realestateandhomes-detail/620-150th-St_Whitestone_NY_11357_M42936-10100\n",
      "https://www.realtor.com/realestateandhomes-detail/15432-24th-Rd_Whitestone_NY_11357_M32819-50336\n",
      "https://www.realtor.com/realestateandhomes-detail/15050-6th-Ave_Whitestone_NY_11357_M43025-58084\n",
      "https://www.realtor.com/realestateandhomes-detail/330-Shirley-Ave_Staten-Island_NY_10312_M41057-27110\n",
      "https://www.realtor.com/realestateandhomes-detail/10528-92nd-St_Ozone-Park_NY_11417_M31707-99847\n",
      "https://www.realtor.com/realestateandhomes-detail/18921-117th-Rd_Saint-Albans_NY_11412_M43486-54343\n",
      "https://www.realtor.com/realestateandhomes-detail/15505-59th-Ave_Flushing_NY_11355_M39236-86833\n",
      "https://www.realtor.com/realestateandhomes-detail/8831-69th-Ave_Forest-Hills_NY_11375_M46280-09996\n",
      "https://www.realtor.com/realestateandhomes-detail/67-Lawrence-Ave_Staten-Island_NY_10310_M34234-73607\n",
      "https://www.realtor.com/realestateandhomes-detail/20115-109th-Ave_Saint-Albans_NY_11412_M42545-46466\n",
      "https://www.realtor.com/realestateandhomes-detail/44-Mildred-Ave_Staten-Island_NY_10314_M33172-31553\n",
      "https://www.realtor.com/realestateandhomes-detail/105-20-E-88th-St_New-York_NY_10128_M92439-00502\n",
      "https://www.realtor.com/realestateandhomes-detail/13124-233rd-St_Rosedale_NY_11422_M48623-59062\n",
      "https://www.realtor.com/realestateandhomes-detail/11230-68th-Ave_Forest-Hills_NY_11375_M47140-65281\n",
      "\n",
      "\n",
      "\n",
      "\n",
      " 3\n"
     ]
    },
    {
     "name": "stdout",
     "output_type": "stream",
     "text": [
      "mmmmmmmmmmmmmmmmmmmm https://www.realtor.com/realestateandhomes-search/Atlanta_GA/shw-nc/price-800000-na/pg-4\n",
      "https://www.realtor.com/realestateandhomes-detail/11230-68th-Ave_Forest-Hills_NY_11375_M47140-65281\n",
      "https://www.realtor.com/realestateandhomes-detail/41-John-St_Staten-Island_NY_10302_M45162-48732\n",
      "https://www.realtor.com/realestateandhomes-detail/8215-Penelope-Ave_Middle-Village_NY_11379_M37665-28833\n",
      "https://www.realtor.com/realestateandhomes-detail/11547-223rd-St_Cambria-Heights_NY_11411_M41585-75291\n",
      "https://www.realtor.com/realestateandhomes-detail/5012-194th-St_Fresh-Meadows_NY_11365_M43328-52360\n",
      "https://www.realtor.com/realestateandhomes-detail/21423-86th-Ave_Queens-Village_NY_11427_M99645-79205\n",
      "https://www.realtor.com/realestateandhomes-detail/563-Todt-Hill-Rd_Staten-Island_NY_10304_M42655-76449\n",
      "https://www.realtor.com/realestateandhomes-detail/8-Maple-Dr_Warwick_NY_10990_M36278-09251\n",
      "https://www.realtor.com/realestateandhomes-detail/26209-82nd-Ave_Floral-Park_NY_11004_M49111-59683\n",
      "https://www.realtor.com/realestateandhomes-detail/183-Benedict-Ave_Staten-Island_NY_10314_M38273-90934\n",
      "https://www.realtor.com/realestateandhomes-detail/18-Futurity-Pl_Staten-Island_NY_10312_M30817-31615\n",
      "https://www.realtor.com/realestateandhomes-detail/8425-249th-St_Bellerose_NY_11426_M33761-69308\n",
      "https://www.realtor.com/realestateandhomes-detail/8702-Chevy-Chase-St_Jamaica_NY_11432_M37960-20011\n",
      "https://www.realtor.com/realestateandhomes-detail/87-Sheldon-Ave_Staten-Island_NY_10312_M49585-32310\n",
      "https://www.realtor.com/realestateandhomes-detail/13516-95th-St_Ozone-Park_NY_11417_M49106-10937\n",
      "https://www.realtor.com/realestateandhomes-detail/2546-47th-St_Astoria_NY_11103_M39076-36064\n",
      "https://www.realtor.com/realestateandhomes-detail/8032-264th-St_Floral-Park_NY_11004_M48969-98625\n",
      "https://www.realtor.com/realestateandhomes-detail/7716-10th-Ave_Brooklyn_NY_11228_M33111-38159\n",
      "https://www.realtor.com/realestateandhomes-detail/11511-173rd-St_Jamaica_NY_11434_M43743-96885\n",
      "https://www.realtor.com/realestateandhomes-detail/14205-184th-St_Springfield-Gardens_NY_11413_M39115-55805\n",
      "https://www.realtor.com/realestateandhomes-detail/195-Yetman-Ave_Staten-Island_NY_10307_M31715-45686\n",
      "https://www.realtor.com/realestateandhomes-detail/11651-230th-St_Cambria-Heights_NY_11411_M44022-20023\n",
      "https://www.realtor.com/realestateandhomes-detail/19820-50th-Ave_Fresh-Meadows_NY_11365_M32032-62335\n",
      "https://www.realtor.com/realestateandhomes-detail/324-E-239th-St_Bronx_NY_10470_M40921-66893\n",
      "https://www.realtor.com/realestateandhomes-detail/25411-82nd-Rd_Glen-Oaks_NY_11004_M49174-94894\n",
      "https://www.realtor.com/realestateandhomes-detail/10121-90th-St_Ozone-Park_NY_11416_M39066-48073\n",
      "https://www.realtor.com/realestateandhomes-detail/11235-168th-St_Jamaica_NY_11433_M36151-48796\n",
      "https://www.realtor.com/realestateandhomes-detail/24924-51st-Ave_Little-Neck_NY_11362_M44190-32038\n",
      "https://www.realtor.com/realestateandhomes-detail/2346-E-64th-St_Brooklyn_NY_11234_M30699-51053\n",
      "https://www.realtor.com/realestateandhomes-detail/55-Exeter-St_Forest-Hills_NY_11375_M49956-01253\n",
      "https://www.realtor.com/realestateandhomes-detail/1542-74th-St_Brooklyn_NY_11228_M30646-49843\n",
      "https://www.realtor.com/realestateandhomes-detail/39-Morton-St_Staten-Island_NY_10306_M45061-22545\n",
      "https://www.realtor.com/realestateandhomes-detail/22-Villanova-St_Staten-Island_NY_10314_M38118-16919\n",
      "https://www.realtor.com/realestateandhomes-detail/8454-85th-Ave_Woodhaven_NY_11421_M47970-22418\n",
      "https://www.realtor.com/realestateandhomes-detail/1313-Kearney-Ave_Bronx_NY_10465_M40116-59158\n",
      "https://www.realtor.com/realestateandhomes-detail/118-Malba-Dr_Whitestone_NY_11357_M30439-20685\n",
      "https://www.realtor.com/realestateandhomes-detail/75-Churchill-Ave_Staten-Island_NY_10309_M34502-40856\n",
      "https://www.realtor.com/realestateandhomes-detail/18110-93rd-Ave_Hollis_NY_11423_M30283-67489\n",
      "https://www.realtor.com/realestateandhomes-detail/1197-Todt-Hill-Rd_Staten-Island_NY_10304_M47886-93740\n",
      "https://www.realtor.com/realestateandhomes-detail/6233-59th-Dr_Maspeth_NY_11378_M44277-98460\n",
      "https://www.realtor.com/realestateandhomes-detail/17539-Underhill-Ave_Fresh-Meadows_NY_11365_M42633-74825\n",
      "https://www.realtor.com/realestateandhomes-detail/5052-Utopia-Pkwy_Fresh-Meadows_NY_11365_M40967-72614\n",
      "\n",
      "\n",
      "\n",
      "\n",
      " 4\n"
     ]
    },
    {
     "name": "stdout",
     "output_type": "stream",
     "text": [
      "mmmmmmmmmmmmmmmmmmmm https://www.realtor.com/realestateandhomes-search/Atlanta_GA/shw-nc/price-800000-na/pg-5\n",
      "https://www.realtor.com/realestateandhomes-detail/16315-86th-St_Howard-Beach_NY_11414_M34649-61973\n",
      "https://www.realtor.com/realestateandhomes-detail/3057-Grace-Ave_Bronx_NY_10469_M33699-47852\n",
      "https://www.realtor.com/realestateandhomes-detail/4618-Glenwood-St_Little-Neck_NY_11362_M32401-12574\n",
      "https://www.realtor.com/realestateandhomes-detail/14816-Rockaway-Beach-Blvd_Rockaway-Park_NY_11694_M31661-16934\n",
      "https://www.realtor.com/realestateandhomes-detail/338-Arlene-St_Staten-Island_NY_10314_M91278-22047\n",
      "https://www.realtor.com/realestateandhomes-detail/249-Lindenwood-Rd_Staten-Island_NY_10308_M41345-07790\n",
      "https://www.realtor.com/realestateandhomes-detail/412-W-146th-St_New-York_NY_10031_M32124-39387\n",
      "https://www.realtor.com/realestateandhomes-detail/266-Wakeman-Pl_Brooklyn_NY_11220_M48240-44445\n",
      "https://www.realtor.com/realestateandhomes-detail/3437-57th-St_Woodside_NY_11377_M31799-83716\n",
      "https://www.realtor.com/realestateandhomes-detail/426-Slosson-Ave_Staten-Island_NY_10314_M32523-92665\n",
      "https://www.realtor.com/realestateandhomes-detail/8563-98th-St_Woodhaven_NY_11421_M46289-41645\n",
      "https://www.realtor.com/realestateandhomes-detail/6-Sniffen-Ct_New-York_NY_10016_M46044-03168\n",
      "https://www.realtor.com/realestateandhomes-detail/4-S-1st-St_Brooklyn_NY_11249_M95928-60901\n",
      "https://www.realtor.com/realestateandhomes-detail/6-Gipson-St_Far-Rockaway_NY_11691_M47900-64356\n",
      "https://www.realtor.com/realestateandhomes-detail/21905-Stewart-Rd_Queens-Village_NY_11427_M44018-51216\n",
      "https://www.realtor.com/realestateandhomes-detail/30-Decker-Ave_Staten-Island_NY_10302_M44773-72130\n",
      "https://www.realtor.com/realestateandhomes-detail/160-Bertha-Pl_Staten-Island_NY_10301_M31981-08782\n",
      "https://www.realtor.com/realestateandhomes-detail/102-Barbara-St_Staten-Island_NY_10306_M49525-24270\n",
      "https://www.realtor.com/realestateandhomes-detail/8404-Doran-Ave_Ridgewood_NY_11385_M40382-75234\n",
      "https://www.realtor.com/realestateandhomes-detail/15840-81st-St_Howard-Beach_NY_11414_M40983-90794\n",
      "https://www.realtor.com/realestateandhomes-detail/8116-11th-Ave_Brooklyn_NY_11228_M37117-84307\n",
      "https://www.realtor.com/realestateandhomes-detail/37-Ashland-Ave-E_Staten-Island_NY_10312_M45837-37354\n",
      "https://www.realtor.com/realestateandhomes-detail/8417-25th-Ave_East-Elmhurst_NY_11370_M32768-75167\n",
      "https://www.realtor.com/realestateandhomes-detail/11420-208th-St_Cambria-Heights_NY_11411_M49518-01176\n",
      "https://www.realtor.com/realestateandhomes-detail/15835-91st-St_Howard-Beach_NY_11414_M41554-44952\n",
      "https://www.realtor.com/realestateandhomes-detail/11-Nixon-Ave_Staten-Island_NY_10304_M42741-46545\n",
      "https://www.realtor.com/realestateandhomes-detail/24631-87th-Ave_Bellerose_NY_11426_M35115-94966\n",
      "https://www.realtor.com/realestateandhomes-detail/11030-69th-Rd_Forest-Hills_NY_11375_M40350-88736\n",
      "https://www.realtor.com/realestateandhomes-detail/426-E-51st-St_Brooklyn_NY_11203_M40163-16515\n",
      "https://www.realtor.com/realestateandhomes-detail/2410-154th-St_Whitestone_NY_11357_M47865-05199\n",
      "https://www.realtor.com/realestateandhomes-detail/5615-214th-St_Oakland-Gardens_NY_11364_M43297-15724\n",
      "https://www.realtor.com/realestateandhomes-detail/10916-118th-St_South-Ozone-Park_NY_11420_M31140-45743\n",
      "https://www.realtor.com/realestateandhomes-detail/6704-53rd-Dr_Maspeth_NY_11378_M34653-64774\n",
      "https://www.realtor.com/realestateandhomes-detail/3374-161st-St_Flushing_NY_11358_M31097-97425\n",
      "https://www.realtor.com/realestateandhomes-detail/3231-200th-St_Bayside_NY_11361_M34234-90757\n",
      "https://www.realtor.com/realestateandhomes-detail/7413-Avenue-X_Brooklyn_NY_11234_M30730-46052\n",
      "https://www.realtor.com/realestateandhomes-detail/3816-Cypress-Ave_Brooklyn_NY_11224_M36260-73862\n",
      "https://www.realtor.com/realestateandhomes-detail/22115-112th-Ave_Queens-Village_NY_11429_M45645-37873\n",
      "https://www.realtor.com/realestateandhomes-detail/3321-Mickle-Ave_Bronx_NY_10469_M45599-49821\n",
      "https://www.realtor.com/realestateandhomes-detail/14316-Cronston-Ave_Rockaway-Park_NY_11694_M34462-05832\n",
      "https://www.realtor.com/realestateandhomes-detail/238-Van-Buren-St_Staten-Island_NY_10301_M31950-50774\n",
      "https://www.realtor.com/realestateandhomes-detail/11429-146th-St_Jamaica_NY_11436_M30534-68287\n",
      "\n",
      "\n",
      "\n",
      "\n",
      " 5\n"
     ]
    },
    {
     "name": "stdout",
     "output_type": "stream",
     "text": [
      "mmmmmmmmmmmmmmmmmmmm https://www.realtor.com/realestateandhomes-search/Atlanta_GA/shw-nc/price-800000-na/pg-6\n",
      "https://www.realtor.com/realestateandhomes-detail/2261-Story-Ave_Bronx_NY_10473_M31713-91761\n",
      "https://www.realtor.com/realestateandhomes-detail/9249-Springfield-Blvd_Queens-Village_NY_11428_M35999-83484\n",
      "https://www.realtor.com/realestateandhomes-detail/15412-14th-Ave_Whitestone_NY_11357_M38048-73651\n",
      "https://www.realtor.com/realestateandhomes-detail/8045-259th-St_Glen-Oaks_NY_11004_M48930-48435\n",
      "https://www.realtor.com/realestateandhomes-detail/331-Bert-Rd_Far-Rockaway_NY_11693_M32280-01143\n",
      "https://www.realtor.com/realestateandhomes-detail/2064-Coleman-St_Brooklyn_NY_11234_M32480-91705\n",
      "https://www.realtor.com/realestateandhomes-detail/3250-87th-St_East-Elmhurst_NY_11369_M33928-72673\n",
      "https://www.realtor.com/realestateandhomes-detail/47-Highview-Ave_Staten-Island_NY_10301_M42023-80444\n",
      "https://www.realtor.com/realestateandhomes-detail/16920-Foch-Blvd_Jamaica_NY_11434_M36445-56700\n",
      "https://www.realtor.com/realestateandhomes-detail/3212-201st-St_Bayside_NY_11361_M37823-11219\n",
      "https://www.realtor.com/realestateandhomes-detail/24223-90th-Ave_Bellerose_NY_11426_M35081-98170\n",
      "https://www.realtor.com/realestateandhomes-detail/150-Northview-Ct_Staten-Island_NY_10301_M44369-16174\n",
      "https://www.realtor.com/realestateandhomes-detail/1862-Willoughby-Ave_Ridgewood_NY_11385_M49739-33997\n",
      "https://www.realtor.com/realestateandhomes-detail/311-Brookfield-Ave_Staten-Island_NY_10308_M36107-85532\n",
      "https://www.realtor.com/realestateandhomes-detail/16333-90th-St_Howard-Beach_NY_11414_M40748-69687\n",
      "https://www.realtor.com/realestateandhomes-detail/3255-54th-St_Woodside_NY_11377_M43407-90709\n",
      "https://www.realtor.com/realestateandhomes-detail/176-Irwin-St_Brooklyn_NY_11235_M39050-15740\n",
      "https://www.realtor.com/realestateandhomes-detail/360-Beach-59th-St-A_Arverne_NY_11692_M93385-19188\n",
      "https://www.realtor.com/realestateandhomes-detail/21806-119th-Ave_Cambria-Heights_NY_11411_M91571-35583\n",
      "https://www.realtor.com/realestateandhomes-detail/17019-118th-Rd_Jamaica_NY_11434_M42689-71534\n",
      "https://www.realtor.com/realestateandhomes-detail/2565-Flatbush-Ave_Brooklyn_NY_11234_M34406-36025\n",
      "https://www.realtor.com/realestateandhomes-detail/2350-Aqueduct-Ave_Bronx_NY_10468_M33354-52887\n",
      "https://www.realtor.com/realestateandhomes-detail/11827-219th-St_Cambria-Heights_NY_11411_M39350-20051\n",
      "https://www.realtor.com/realestateandhomes-detail/10147-131st-St_South-Richmond-Hill_NY_11419_M44380-03551\n",
      "https://www.realtor.com/realestateandhomes-detail/9744-93rd-St_Ozone-Park_NY_11416_M40592-64183\n",
      "https://www.realtor.com/realestateandhomes-detail/5000-Grosvenor-Ave_Bronx_NY_10471_M48493-68624\n",
      "https://www.realtor.com/realestateandhomes-detail/11-Cranberry-St_Brooklyn_NY_11201_M33513-26070\n",
      "https://www.realtor.com/realestateandhomes-detail/1201-E-23rd-St_Brooklyn_NY_11210_M93792-35219\n",
      "https://www.realtor.com/realestateandhomes-detail/NY_11204_M92127-68936\n",
      "https://www.realtor.com/realestateandhomes-detail/5122-Post-Rd_Bronx_NY_10471_M43806-89266\n",
      "https://www.realtor.com/realestateandhomes-detail/2959-Laconia-Ave_Bronx_NY_10469_M43905-66667\n",
      "https://www.realtor.com/realestateandhomes-detail/8112-264th-St_Glen-Oaks_NY_11004_M49128-36651\n",
      "https://www.realtor.com/realestateandhomes-detail/NY_11213_M99638-06213\n",
      "https://www.realtor.com/realestateandhomes-detail/NY_11229_M91230-23442\n",
      "https://www.realtor.com/realestateandhomes-detail/NY_11356_M97900-89212\n",
      "https://www.realtor.com/realestateandhomes-detail/NY_11427_M99831-92522\n",
      "https://www.realtor.com/realestateandhomes-detail/11485-227th-St_Cambria-Heights_NY_11411_M41818-42538\n",
      "https://www.realtor.com/realestateandhomes-detail/46-Duncan-Rd_Staten-Island_NY_10301_M32151-39318\n",
      "https://www.realtor.com/realestateandhomes-detail/21-Preston-Ct_Brooklyn_NY_11234_M44622-12962\n",
      "https://www.realtor.com/realestateandhomes-detail/14A-Lake-Ave-A_Brooklyn_NY_11235_M97047-73352\n",
      "https://www.realtor.com/realestateandhomes-detail/NY_10016_M99195-48098\n",
      "https://www.realtor.com/realestateandhomes-detail/NY_10465_M97613-74758\n",
      "\n",
      "\n",
      "\n",
      "\n",
      " 6\n"
     ]
    },
    {
     "name": "stdout",
     "output_type": "stream",
     "text": [
      "mmmmmmmmmmmmmmmmmmmm https://www.realtor.com/realestateandhomes-search/Atlanta_GA/shw-nc/price-800000-na/pg-7\n",
      "https://www.realtor.com/realestateandhomes-detail/NY_10465_M97613-74758\n",
      "https://www.realtor.com/realestateandhomes-detail/NY_11367_M90562-98718\n",
      "https://www.realtor.com/realestateandhomes-detail/209-Allen-Ave_Brooklyn_NY_11229_M30547-37102\n",
      "https://www.realtor.com/realestateandhomes-detail/NY_11233_M98033-13192\n",
      "https://www.realtor.com/realestateandhomes-detail/NY_11235_M93547-34257\n",
      "https://www.realtor.com/realestateandhomes-detail/NY_11229_M92756-65985\n",
      "https://www.realtor.com/realestateandhomes-detail/NY_11236_M91132-36827\n",
      "https://www.realtor.com/realestateandhomes-detail/NY_11357_M90225-06899\n",
      "https://www.realtor.com/realestateandhomes-detail/NY_10464_M91318-29366\n",
      "https://www.realtor.com/realestateandhomes-detail/NY_11223_M92957-98417\n",
      "https://www.realtor.com/realestateandhomes-detail/NY_11239_M95126-77103\n",
      "https://www.realtor.com/realestateandhomes-detail/NY_11203_M93019-03367\n",
      "https://www.realtor.com/realestateandhomes-detail/NY_11210_M93940-67236\n",
      "https://www.realtor.com/realestateandhomes-detail/NY_11229_M96411-60755\n",
      "https://www.realtor.com/realestateandhomes-detail/NY_11367_M90936-08153\n",
      "https://www.realtor.com/realestateandhomes-detail/NY_11229_M93762-24724\n",
      "https://www.realtor.com/realestateandhomes-detail/NY_10308_M93148-16557\n",
      "https://www.realtor.com/realestateandhomes-detail/81-E-235th-St_Bronx_NY_10470_M40841-57864\n",
      "https://www.realtor.com/realestateandhomes-detail/NY_11367_M97778-75918\n",
      "https://www.realtor.com/realestateandhomes-detail/NY_11427_M98017-05876\n",
      "https://www.realtor.com/realestateandhomes-detail/190-Beach-137th-St_Rockaway-Park_NY_11694_M36006-73866\n",
      "https://www.realtor.com/realestateandhomes-detail/191-Terrace-St_Bronx_NY_10464_M33891-31589\n",
      "https://www.realtor.com/realestateandhomes-detail/NY_11234_M92558-72587\n",
      "https://www.realtor.com/realestateandhomes-detail/NY_11375_M99809-12707\n",
      "https://www.realtor.com/realestateandhomes-detail/NY_11385_M96157-66882\n",
      "https://www.realtor.com/realestateandhomes-detail/NY_11214_M97854-08856\n",
      "https://www.realtor.com/realestateandhomes-detail/15165-18th-Ave_Whitestone_NY_11357_M37911-53397\n",
      "https://www.realtor.com/realestateandhomes-detail/NY_11229_M94749-14263\n",
      "https://www.realtor.com/realestateandhomes-detail/9205-Springfield-Blvd_Queens-Village_NY_11428_M48066-98052\n",
      "https://www.realtor.com/realestateandhomes-detail/96-Circle-Rd_Staten-Island_NY_10304_M46445-99791\n",
      "https://www.realtor.com/realestateandhomes-detail/3917-221st-St_Bayside_NY_11361_M36247-71786\n",
      "https://www.realtor.com/realestateandhomes-detail/79-Goodwin-Ave_Staten-Island_NY_10314_M45041-03183\n",
      "https://www.realtor.com/realestateandhomes-detail/11811-230th-St_Cambria-Heights_NY_11411_M49603-00256\n",
      "https://www.realtor.com/realestateandhomes-detail/12105-196th-St_Springfield-Gardens_NY_11413_M36904-43670\n",
      "https://www.realtor.com/realestateandhomes-detail/1525-Flatbush-Ave_Brooklyn_NY_11210_M95322-38266\n",
      "https://www.realtor.com/realestateandhomes-detail/NY_11204_M92754-05289\n",
      "https://www.realtor.com/realestateandhomes-detail/NY_11358_M90557-11886\n",
      "https://www.realtor.com/realestateandhomes-detail/2013-43rd-St_Astoria_NY_11105_M31198-10591\n",
      "https://www.realtor.com/realestateandhomes-detail/NY_11215_M94724-93391\n",
      "https://www.realtor.com/realestateandhomes-detail/NY_11215_M99460-42867\n",
      "https://www.realtor.com/realestateandhomes-detail/6212-Avenue-T_Brooklyn_NY_11234_M95368-26335\n",
      "https://www.realtor.com/realestateandhomes-detail/NY_11204_M90995-71841\n",
      "\n",
      "\n",
      "\n",
      "\n",
      " 7\n"
     ]
    },
    {
     "name": "stdout",
     "output_type": "stream",
     "text": [
      "mmmmmmmmmmmmmmmmmmmm https://www.realtor.com/realestateandhomes-search/Atlanta_GA/shw-nc/price-800000-na/pg-8\n",
      "https://www.realtor.com/realestateandhomes-detail/26255-Grand-Central-Pkwy_Little-Neck_NY_11362_M46861-15824\n",
      "https://www.realtor.com/realestateandhomes-detail/8436-252nd-St_Bellerose_NY_11426_M36409-16010\n",
      "https://www.realtor.com/realestateandhomes-detail/40-Yeomalt-Ave_Staten-Island_NY_10312_M33606-57749\n",
      "https://www.realtor.com/realestateandhomes-detail/22618-77th-Ave_Oakland-Gardens_NY_11364_M32728-43444\n",
      "https://www.realtor.com/realestateandhomes-detail/202-Watchogue-Rd_Staten-Island_NY_10314_M42290-51486\n",
      "https://www.realtor.com/realestateandhomes-detail/6546-79th-Pl_Middle-Village_NY_11379_M44083-34267\n",
      "https://www.realtor.com/realestateandhomes-detail/5024-64th-St_Woodside_NY_11377_M44348-41724\n",
      "https://www.realtor.com/realestateandhomes-detail/46-Poillon-Ave_Staten-Island_NY_10312_M95449-42506\n",
      "https://www.realtor.com/realestateandhomes-detail/11456-176th-St_Jamaica_NY_11434_M49632-49341\n",
      "https://www.realtor.com/realestateandhomes-detail/49-Marble-Hill-Ave_Bronx_NY_10463_M40547-39230\n",
      "https://www.realtor.com/realestateandhomes-detail/48-Robinson-Ave_Staten-Island_NY_10312_M35799-29118\n",
      "https://www.realtor.com/realestateandhomes-detail/NY_11204_M94556-62923\n",
      "https://www.realtor.com/realestateandhomes-detail/9-W-54th-St_New-York_NY_10019_M91448-13987\n",
      "https://www.realtor.com/realestateandhomes-detail/NY_11220_M94858-86206\n",
      "https://www.realtor.com/realestateandhomes-detail/6-Sutton-Sq_New-York_NY_10022_M44918-11384\n",
      "https://www.realtor.com/realestateandhomes-detail/16038-85th-St_Howard-Beach_NY_11414_M49569-76067\n",
      "https://www.realtor.com/realestateandhomes-detail/560-Logan-Ave_Bronx_NY_10465_M39460-73026\n",
      "https://www.realtor.com/realestateandhomes-detail/NY_11215_M99727-96442\n",
      "https://www.realtor.com/realestateandhomes-detail/8044-Narrows-Ave_Brooklyn_NY_11209_M43051-23198\n",
      "https://www.realtor.com/realestateandhomes-detail/60-Androvette-St_Staten-Island_NY_10309_M34400-34206\n",
      "https://www.realtor.com/realestateandhomes-detail/10315-217th-St_Queens-Village_NY_11429_M40591-74427\n",
      "https://www.realtor.com/realestateandhomes-detail/21708-110th-Rd_Queens-Village_NY_11429_M31017-50427\n",
      "https://www.realtor.com/realestateandhomes-detail/15835-78th-St_Howard-Beach_NY_11414_M34068-34010\n",
      "https://www.realtor.com/realestateandhomes-detail/3318-201st-St_Bayside_NY_11361_M41303-98570\n",
      "https://www.realtor.com/realestateandhomes-detail/697-E-21st-St_Brooklyn_NY_11210_M30699-62426\n",
      "https://www.realtor.com/realestateandhomes-detail/5021-40th-St_Sunnyside_NY_11104_M35168-90581\n",
      "https://www.realtor.com/realestateandhomes-detail/1480-163rd-St_Whitestone_NY_11357_M43614-06999\n",
      "https://www.realtor.com/realestateandhomes-detail/90-Egbert-Ave_Staten-Island_NY_10310_M37671-21236\n",
      "https://www.realtor.com/realestateandhomes-detail/8534-108th-St_Richmond-Hill_NY_11418_M32998-89072\n",
      "https://www.realtor.com/realestateandhomes-detail/39-Post-Ln_Staten-Island_NY_10303_M35701-10719\n",
      "https://www.realtor.com/realestateandhomes-detail/1411-Cross-Bay-Blvd_Far-Rockaway_NY_11693_M45773-90403\n",
      "https://www.realtor.com/realestateandhomes-detail/61-Morton-St_Staten-Island_NY_10306_M48588-37690\n",
      "https://www.realtor.com/realestateandhomes-detail/9910-74th-Ave_Forest-Hills_NY_11375_M44457-79538\n",
      "https://www.realtor.com/realestateandhomes-detail/1182-Arthur-Kill-Rd_Staten-Island_NY_10312_M33820-20580\n",
      "https://www.realtor.com/realestateandhomes-detail/64-Ottavio-Promenade_Staten-Island_NY_10307_M30784-99781\n",
      "https://www.realtor.com/realestateandhomes-detail/19321-109th-Rd_Saint-Albans_NY_11412_M44863-53925\n",
      "https://www.realtor.com/realestateandhomes-detail/8832-Vanderveer-St_Queens-Village_NY_11427_M34560-49115\n",
      "https://www.realtor.com/realestateandhomes-detail/8054-215th-St_Queens-Village_NY_11427_M44523-46567\n",
      "https://www.realtor.com/realestateandhomes-detail/1209-82nd-St_Brooklyn_NY_11228_M39922-11747\n",
      "https://www.realtor.com/realestateandhomes-detail/54-Waterside-St_Staten-Island_NY_10306_M39811-69809\n",
      "https://www.realtor.com/realestateandhomes-detail/11302-199th-St_Saint-Albans_NY_11412_M47866-80156\n",
      "https://www.realtor.com/realestateandhomes-detail/3750-79th-St_Jackson-Heights_NY_11372_M43756-61482\n",
      "\n",
      "\n",
      "\n",
      "\n",
      " 8\n"
     ]
    },
    {
     "name": "stdout",
     "output_type": "stream",
     "text": [
      "mmmmmmmmmmmmmmmmmmmm https://www.realtor.com/realestateandhomes-search/Atlanta_GA/shw-nc/price-800000-na/pg-9\n",
      "https://www.realtor.com/realestateandhomes-detail/6936-Dartmouth-St_Forest-Hills_NY_11375_M42659-96188\n",
      "https://www.realtor.com/realestateandhomes-detail/3098-Bedford-Ave_Brooklyn_NY_11210_M33944-80551\n",
      "https://www.realtor.com/realestateandhomes-detail/1715-W-12th-St_Brooklyn_NY_11223_M34834-31207\n",
      "https://www.realtor.com/realestateandhomes-detail/8555-66th-Rd_Rego-Park_NY_11374_M41659-12310\n",
      "https://www.realtor.com/realestateandhomes-detail/3243-53rd-Pl_Woodside_NY_11377_M36362-54098\n",
      "https://www.realtor.com/realestateandhomes-detail/8408-164th-Ave_Howard-Beach_NY_11414_M34772-59734\n",
      "https://www.realtor.com/realestateandhomes-detail/376-Manhattan-St_Staten-Island_NY_10307_M42833-89569\n",
      "https://www.realtor.com/realestateandhomes-detail/21714-133rd-Rd_Springfield-Gardens_NY_11413_M42838-64000\n",
      "https://www.realtor.com/realestateandhomes-detail/18616-104th-Ave_Saint-Albans_NY_11412_M37219-52987\n",
      "https://www.realtor.com/realestateandhomes-detail/3056-Gerritsen-Ave_Brooklyn_NY_11229_M42564-61397\n",
      "https://www.realtor.com/realestateandhomes-detail/2626-National-Dr_Brooklyn_NY_11234_M35616-10079\n",
      "https://www.realtor.com/realestateandhomes-detail/10750-90th-St_Ozone-Park_NY_11417_M33972-77575\n",
      "https://www.realtor.com/realestateandhomes-detail/16361-20th-Ave_Whitestone_NY_11357_M38502-97597\n",
      "https://www.realtor.com/realestateandhomes-detail/19115-Williamson-Ave_Springfield-Gardens_NY_11413_M46849-84548\n",
      "https://www.realtor.com/realestateandhomes-detail/2157-E-64th-St_Brooklyn_NY_11234_M31657-26451\n",
      "https://www.realtor.com/realestateandhomes-detail/21827-99th-Ave_Queens-Village_NY_11429_M42137-49185\n",
      "https://www.realtor.com/realestateandhomes-detail/NY_11418_M93419-67655\n",
      "https://www.realtor.com/realestateandhomes-detail/55-Kenmore-St_Staten-Island_NY_10312_M33038-73899\n",
      "https://www.realtor.com/realestateandhomes-detail/9417-96th-St_Ozone-Park_NY_11416_M45714-88934\n",
      "https://www.realtor.com/realestateandhomes-detail/540-Argyle-Rd_Brooklyn_NY_11230_M30959-40640\n",
      "https://www.realtor.com/realestateandhomes-detail/2221-E-69th-St_Brooklyn_NY_11234_M41107-62934\n",
      "https://www.realtor.com/realestateandhomes-detail/8119-Ridge-Blvd_Brooklyn_NY_11209_M43969-46480\n",
      "https://www.realtor.com/realestateandhomes-detail/1062-E-93rd-St_Brooklyn_NY_11236_M30852-06122\n",
      "https://www.realtor.com/realestateandhomes-detail/3350-Country-Club-Rd_Bronx_NY_10465_M33413-50353\n",
      "https://www.realtor.com/realestateandhomes-detail/25811-86th-Ave_Floral-Park_NY_11001_M49669-09533\n",
      "https://www.realtor.com/realestateandhomes-detail/1320-Ditmas-Ave_Brooklyn_NY_11226_M31453-55279\n",
      "https://www.realtor.com/realestateandhomes-detail/254-Doane-Ave_Staten-Island_NY_10308_M33790-28636\n",
      "https://www.realtor.com/realestateandhomes-detail/14-Ottavio-Promenade_Staten-Island_NY_10307_M47094-79797\n",
      "https://www.realtor.com/realestateandhomes-detail/13325-84th-St_Ozone-Park_NY_11417_M32195-98636\n",
      "https://www.realtor.com/realestateandhomes-detail/6754-Groton-St_Forest-Hills_NY_11375_M33644-66579\n",
      "https://www.realtor.com/realestateandhomes-detail/42-Adrian-Ave_Bronx_NY_10463_M44169-93967\n",
      "https://www.realtor.com/realestateandhomes-detail/22-Wild-Ave_Staten-Island_NY_10314_M93521-18683\n",
      "https://www.realtor.com/realestateandhomes-detail/328-Stanley-Ave_Staten-Island_NY_10301_M46000-45315\n",
      "https://www.realtor.com/realestateandhomes-detail/26-Hampton-Grn_Staten-Island_NY_10312_M37830-76654\n",
      "https://www.realtor.com/realestateandhomes-detail/1414-154th-St_Whitestone_NY_11357_M43566-07364\n",
      "https://www.realtor.com/realestateandhomes-detail/6928-Almeda-Ave_Arverne_NY_11692_M40670-76030\n",
      "https://www.realtor.com/realestateandhomes-detail/36-Flagg-Pl_Staten-Island_NY_10304_M40704-36262\n",
      "https://www.realtor.com/realestateandhomes-detail/26445-73rd-Ave_Floral-Park_NY_11004_M41646-07144\n",
      "https://www.realtor.com/realestateandhomes-detail/315-Beach-149th-St_Rockaway-Park_NY_11694_M32200-03487\n",
      "https://www.realtor.com/realestateandhomes-detail/19-Occident-Ave_Staten-Island_NY_10304_M47257-23743\n",
      "https://www.realtor.com/realestateandhomes-detail/171-Lee-Ave_Staten-Island_NY_10307_M34253-20457\n",
      "https://www.realtor.com/realestateandhomes-detail/2049-Shore-Pkwy_Brooklyn_NY_11214_M31758-26745\n",
      "\n",
      "\n",
      "\n",
      "\n",
      " 9\n"
     ]
    },
    {
     "name": "stdout",
     "output_type": "stream",
     "text": [
      "mmmmmmmmmmmmmmmmmmmm https://www.realtor.com/realestateandhomes-search/Atlanta_GA/shw-nc/price-800000-na/pg-10\n",
      "https://www.realtor.com/realestateandhomes-detail/7560-180th-St_Fresh-Meadows_NY_11366_M36299-08035\n",
      "https://www.realtor.com/realestateandhomes-detail/87-E-32nd-St_Brooklyn_NY_11226_M44705-64385\n",
      "https://www.realtor.com/realestateandhomes-detail/75-Ludlow-St_Staten-Island_NY_10312_M38682-68524\n",
      "https://www.realtor.com/realestateandhomes-detail/910-157th-St_Whitestone_NY_11357_M45682-60555\n",
      "https://www.realtor.com/realestateandhomes-detail/43-Fern-Ave_Staten-Island_NY_10308_M38694-35141\n",
      "https://www.realtor.com/realestateandhomes-detail/9236-216th-St_Queens-Village_NY_11428_M31657-84689\n",
      "https://www.realtor.com/realestateandhomes-detail/41-Simonson-Pl_Staten-Island_NY_10302_M46704-36309\n",
      "https://www.realtor.com/realestateandhomes-detail/4094-Ocean-Ave_Brooklyn_NY_11235_M40897-94804\n",
      "https://www.realtor.com/realestateandhomes-detail/6324-137th-St_Flushing_NY_11367_M47319-96497\n",
      "https://www.realtor.com/realestateandhomes-detail/17929-142nd-Ave_Jamaica_NY_11434_M49596-47139\n",
      "https://www.realtor.com/realestateandhomes-detail/3038-Harding-Ave_Bronx_NY_10465_M41929-97161\n",
      "https://www.realtor.com/realestateandhomes-detail/114-Pilot-St_Bronx_NY_10464_M47143-47696\n",
      "https://www.realtor.com/realestateandhomes-detail/1008-147th-St_Whitestone_NY_11357_M31371-60073\n",
      "https://www.realtor.com/realestateandhomes-detail/204-Throggs-Neck-Blvd_Bronx_NY_10465_M34597-06986\n",
      "https://www.realtor.com/realestateandhomes-detail/13040-232nd-St_Springfield-Gardens_NY_11413_M32777-82051\n",
      "https://www.realtor.com/realestateandhomes-detail/25903-81st-Ave_Glen-Oaks_NY_11004_M95800-67083\n",
      "https://www.realtor.com/realestateandhomes-detail/15824-81st-St_Howard-Beach_NY_11414_M46557-32006\n",
      "https://www.realtor.com/realestateandhomes-detail/1411-111th-St_College-Point_NY_11356_M41568-90803\n",
      "https://www.realtor.com/realestateandhomes-detail/7962-77th-Ave_Ridgewood_NY_11385_M41174-28096\n",
      "https://www.realtor.com/realestateandhomes-detail/24306-134th-Ave_Rosedale_NY_11422_M31652-06104\n",
      "https://www.realtor.com/realestateandhomes-detail/20607-Richland-Ave_Oakland-Gardens_NY_11364_M36834-02333\n",
      "https://www.realtor.com/realestateandhomes-detail/7828-64th-Pl_Ridgewood_NY_11385_M35439-05241\n",
      "https://www.realtor.com/realestateandhomes-detail/1299-Brunswick-Ave_Far-Rockaway_NY_11691_M41060-47982\n",
      "https://www.realtor.com/realestateandhomes-detail/9113-109th-St_Richmond-Hill_NY_11418_M34554-63010\n",
      "https://www.realtor.com/realestateandhomes-detail/10560-Flatlands-2nd-St_Brooklyn_NY_11236_M33299-01821\n",
      "https://www.realtor.com/realestateandhomes-detail/529-W-42nd-St-Apt-6F_New-York_NY_10036_M38732-64360\n",
      "https://www.realtor.com/realestateandhomes-detail/103-Llewellyn-Pl_Staten-Island_NY_10310_M32467-50284\n",
      "https://www.realtor.com/realestateandhomes-detail/8419-253rd-St_Bellerose_NY_11426_M34856-95135\n",
      "https://www.realtor.com/realestateandhomes-detail/954-E-39th-St_Brooklyn_NY_11210_M30143-84384\n",
      "https://www.realtor.com/realestateandhomes-detail/6-Summit-Pl_Whitestone_NY_11357_M31240-17057\n",
      "https://www.realtor.com/realestateandhomes-detail/12727-102nd-Ave_Jamaica_NY_11419_M47870-73634\n",
      "https://www.realtor.com/realestateandhomes-detail/156-Wilson-Ave_Staten-Island_NY_10308_M41217-98178\n",
      "https://www.realtor.com/realestateandhomes-detail/45-Outerbridge-Ave_Staten-Island_NY_10309_M47327-70155\n",
      "https://www.realtor.com/realestateandhomes-detail/279-Saint-John-Ave_Staten-Island_NY_10314_M48216-46279\n",
      "https://www.realtor.com/realestateandhomes-detail/15-Knight-Loop_Staten-Island_NY_10306_M48377-06465\n",
      "https://www.realtor.com/realestateandhomes-detail/8021-209th-St_Queens-Village_NY_11427_M46920-74004\n",
      "https://www.realtor.com/realestateandhomes-detail/2520-Tenbroeck-Ave_Bronx_NY_10469_M47850-58859\n",
      "https://www.realtor.com/realestateandhomes-detail/3816-211th-St_Bayside_NY_11361_M46411-33906\n",
      "https://www.realtor.com/realestateandhomes-detail/11-Ocean-Driveway_Staten-Island_NY_10312_M33608-80122\n",
      "https://www.realtor.com/realestateandhomes-detail/327-E-241st-St_Bronx_NY_10470_M41534-77592\n",
      "https://www.realtor.com/realestateandhomes-detail/634-W-256th-St_Bronx_NY_10471_M34452-94635\n",
      "https://www.realtor.com/realestateandhomes-detail/6605-Garfield-Ave_Woodside_NY_11377_M47117-17527\n",
      "\n",
      "\n",
      "\n",
      "\n",
      " 10\n"
     ]
    },
    {
     "name": "stdout",
     "output_type": "stream",
     "text": [
      "mmmmmmmmmmmmmmmmmmmm https://www.realtor.com/realestateandhomes-search/Atlanta_GA/shw-nc/price-800000-na/pg-11\n",
      "https://www.realtor.com/realestateandhomes-detail/9428-86th-St_Ozone-Park_NY_11416_M37491-74276\n",
      "https://www.realtor.com/realestateandhomes-detail/4031-Wickham-Ave_Bronx_NY_10466_M40927-02893\n",
      "https://www.realtor.com/realestateandhomes-detail/13611-220th-Pl_Springfield-Gardens_NY_11413_M33203-02492\n",
      "https://www.realtor.com/realestateandhomes-detail/436-E-51st-St_Brooklyn_NY_11203_M40472-44098\n",
      "https://www.realtor.com/realestateandhomes-detail/13113-86th-Rd_Richmond-Hill_NY_11418_M33770-81360\n",
      "https://www.realtor.com/realestateandhomes-detail/9447-Sutter-Ave_Ozone-Park_NY_11417_M34953-98802\n",
      "https://www.realtor.com/realestateandhomes-detail/15-Jumel-St_Staten-Island_NY_10308_M44252-51232\n",
      "https://www.realtor.com/realestateandhomes-detail/3061-Scenic-Pl_Bronx_NY_10463_M47329-35177\n",
      "https://www.realtor.com/realestateandhomes-detail/1848-E-49th-St_Brooklyn_NY_11234_M33731-85953\n",
      "https://www.realtor.com/realestateandhomes-detail/9-Hill-Ct_Whitestone_NY_11357_M37030-71686\n",
      "https://www.realtor.com/realestateandhomes-detail/249-Slosson-Ave_Staten-Island_NY_10314_M36553-71343\n",
      "https://www.realtor.com/realestateandhomes-detail/127-Beverly-Rd-Unit-1_New-York_NY_10011_M99202-62688\n",
      "https://www.realtor.com/realestateandhomes-detail/10140-Nicolls-Ave_Corona_NY_11368_M38935-40611\n",
      "https://www.realtor.com/realestateandhomes-detail/1265-86th-St_Brooklyn_NY_11228_M47726-72381\n",
      "https://www.realtor.com/realestateandhomes-detail/12214-191st-St_Springfield-Gardens_NY_11413_M47213-13767\n",
      "https://www.realtor.com/realestateandhomes-detail/15923-79th-St_Howard-Beach_NY_11414_M32604-46481\n",
      "https://www.realtor.com/realestateandhomes-detail/26-Metcalfe-St_Staten-Island_NY_10304_M30850-31318\n",
      "https://www.realtor.com/realestateandhomes-detail/18314-Arcade-Ave_Saint-Albans_NY_11412_M40647-99659\n",
      "https://www.realtor.com/realestateandhomes-detail/235-Quincy-Ave_Bronx_NY_10465_M38551-35902\n",
      "https://www.realtor.com/realestateandhomes-detail/5503-Avenue-M_Brooklyn_NY_11234_M41011-71066\n",
      "https://www.realtor.com/realestateandhomes-detail/436-W-259th-St_Bronx_NY_10471_M45959-82839\n",
      "https://www.realtor.com/realestateandhomes-detail/938-Armstrong-Ave_Staten-Island_NY_10308_M40256-67270\n",
      "https://www.realtor.com/realestateandhomes-detail/18319-69th-Ave_Fresh-Meadows_NY_11365_M44709-39124\n",
      "https://www.realtor.com/realestateandhomes-detail/11610-140th-St_South-Ozone-Park_NY_11436_M33580-56134\n",
      "https://www.realtor.com/realestateandhomes-detail/7007-171st-St_Fresh-Meadows_NY_11365_M41748-35318\n",
      "https://www.realtor.com/realestateandhomes-detail/1804-Avenue-X_Brooklyn_NY_11235_M45196-80898\n",
      "https://www.realtor.com/realestateandhomes-detail/7045-Manse-St_Forest-Hills_NY_11375_M40425-83562\n",
      "https://www.realtor.com/realestateandhomes-detail/2961-Voorhies-Ave_Brooklyn_NY_11235_M48309-85357\n",
      "https://www.realtor.com/realestateandhomes-detail/2622-E-24th-St_Brooklyn_NY_11235_M35095-20515\n",
      "https://www.realtor.com/realestateandhomes-detail/413-Parsons-Blvd_Whitestone_NY_11357_M49170-96434\n",
      "https://www.realtor.com/realestateandhomes-detail/634-Darlington-Ave_Staten-Island_NY_10309_M95683-66665\n",
      "https://www.realtor.com/realestateandhomes-detail/125-Benedict-Rd_Staten-Island_NY_10304_M46378-03939\n",
      "https://www.realtor.com/realestateandhomes-detail/5564-Kings-Hwy_Brooklyn_NY_11203_M32741-88014\n",
      "https://www.realtor.com/realestateandhomes-detail/1454-Dwight-Pl_Bronx_NY_10465_M49542-38014\n",
      "https://www.realtor.com/realestateandhomes-detail/10421-201st-St_Saint-Albans_NY_11412_M37386-07715\n",
      "https://www.realtor.com/realestateandhomes-detail/802-Lanark-Rd_Far-Rockaway_NY_11693_M40814-52460\n",
      "https://www.realtor.com/realestateandhomes-detail/14965-Hawthorne-Ave_Flushing_NY_11355_M46453-03320\n",
      "https://www.realtor.com/realestateandhomes-detail/10460-89th-Ave_Richmond-Hill_NY_11418_M33077-78080\n",
      "https://www.realtor.com/realestateandhomes-detail/19-Jay-St_New-York_NY_10013_M99221-51871\n",
      "https://www.realtor.com/realestateandhomes-detail/329-Forest-Rd_Little-Neck_NY_11363_M45799-46377\n",
      "https://www.realtor.com/realestateandhomes-detail/8924-86th-St_Woodhaven_NY_11421_M34126-18548\n",
      "https://www.realtor.com/realestateandhomes-detail/10-E-67th-St_New-York_NY_10065_M39233-09985\n",
      "\n",
      "\n",
      "\n",
      "\n",
      " 11\n"
     ]
    },
    {
     "name": "stdout",
     "output_type": "stream",
     "text": [
      "mmmmmmmmmmmmmmmmmmmm https://www.realtor.com/realestateandhomes-search/Atlanta_GA/shw-nc/price-800000-na/pg-12\n",
      "https://www.realtor.com/realestateandhomes-detail/22109-131st-Ave_Springfield-Gardens_NY_11413_M46284-03475\n",
      "https://www.realtor.com/realestateandhomes-detail/283-Bay-14th-St_Brooklyn_NY_11214_M42525-37101\n",
      "https://www.realtor.com/realestateandhomes-detail/62-Ruxton-Ave_Staten-Island_NY_10312_M43860-96465\n",
      "https://www.realtor.com/realestateandhomes-detail/16320-88th-St_Howard-Beach_NY_11414_M46160-19809\n",
      "https://www.realtor.com/realestateandhomes-detail/24025-Alameda-Ave_Little-Neck_NY_11362_M40359-25554\n",
      "https://www.realtor.com/realestateandhomes-detail/63-Finlay-Ave_Staten-Island_NY_10309_M37226-39518\n",
      "https://www.realtor.com/realestateandhomes-detail/842-Carroll-St_Brooklyn_NY_11215_M31501-34766\n",
      "https://www.realtor.com/realestateandhomes-detail/62-Rutland-Rd_Brooklyn_NY_11225_M47304-29249\n",
      "https://www.realtor.com/realestateandhomes-detail/104-Wooster-St-Apt-4S_New-York_NY_10012_M44707-61627\n",
      "https://www.realtor.com/realestateandhomes-detail/21724-100th-Ave_Queens-Village_NY_11429_M45254-20006\n",
      "https://www.realtor.com/realestateandhomes-detail/1959B-Edison-Ave_Bronx_NY_10461_M40924-67769\n",
      "https://www.realtor.com/realestateandhomes-detail/126-77th-St_Brooklyn_NY_11209_M31204-98192\n",
      "https://www.realtor.com/realestateandhomes-detail/26-Luke-Ct_Staten-Island_NY_10306_M40982-94740\n",
      "https://www.realtor.com/realestateandhomes-detail/28-Devon-Pl_Staten-Island_NY_10301_M31265-67619\n",
      "https://www.realtor.com/realestateandhomes-detail/3522-221st-St_Bayside_NY_11361_M97295-07526\n",
      "https://www.realtor.com/realestateandhomes-detail/9410-41st-Rd_Elmhurst_NY_11373_M33205-75522\n",
      "https://www.realtor.com/realestateandhomes-detail/1733-E-37th-St_Brooklyn_NY_11234_M40282-06276\n",
      "https://www.realtor.com/realestateandhomes-detail/20930-111th-Rd_Queens-Village_NY_11429_M32006-62462\n",
      "https://www.realtor.com/realestateandhomes-detail/1548-Schenectady-Ave_Brooklyn_NY_11234_M48765-09818\n",
      "https://www.realtor.com/realestateandhomes-detail/6919-67th-St_Ridgewood_NY_11385_M31317-96927\n",
      "https://www.realtor.com/realestateandhomes-detail/67119-Burns-St_Forest-Hills_NY_11375_M37846-02815\n",
      "https://www.realtor.com/realestateandhomes-detail/10119-130th-St_South-Richmond-Hill_NY_11419_M31040-03534\n",
      "https://www.realtor.com/realestateandhomes-detail/3442-87th-St_Jackson-Heights_NY_11372_M44468-20845\n",
      "https://www.realtor.com/realestateandhomes-detail/21825-101st-Ave_Queens-Village_NY_11429_M38636-63994\n",
      "https://www.realtor.com/realestateandhomes-detail/3950-45th-St_Sunnyside_NY_11104_M37272-03603\n",
      "https://www.realtor.com/realestateandhomes-detail/2701-Quentin-Rd_Brooklyn_NY_11229_M44791-67743\n",
      "https://www.realtor.com/realestateandhomes-detail/11568-229th-St_Cambria-Heights_NY_11411_M38467-79374\n",
      "https://www.realtor.com/realestateandhomes-detail/349-W-86th-St_New-York_NY_10024_M44734-27105\n",
      "https://www.realtor.com/realestateandhomes-detail/8667-108th-St_Richmond-Hill_NY_11418_M43718-76100\n",
      "https://www.realtor.com/realestateandhomes-detail/68-Signal-Hill-Rd_Staten-Island_NY_10301_M36392-21065\n",
      "https://www.realtor.com/realestateandhomes-detail/221-Douglas-Rd_Staten-Island_NY_10304_M46832-49952\n",
      "https://www.realtor.com/realestateandhomes-detail/537-Ionia-Ave_Staten-Island_NY_10312_M31499-36514\n",
      "https://www.realtor.com/realestateandhomes-detail/11149-168th-St_Jamaica_NY_11433_M40615-82192\n",
      "https://www.realtor.com/realestateandhomes-detail/92-Sawyer-Ave_Staten-Island_NY_10314_M39985-90674\n",
      "https://www.realtor.com/realestateandhomes-detail/265-Waters-Ave_Staten-Island_NY_10314_M33511-83976\n",
      "https://www.realtor.com/realestateandhomes-detail/192-Beach-91st-St_Far-Rockaway_NY_11693_M42307-85315\n",
      "https://www.realtor.com/realestateandhomes-detail/729-Hollywood-Ave_Bronx_NY_10465_M31099-35147\n",
      "https://www.realtor.com/realestateandhomes-detail/11162-146th-St_Jamaica_NY_11435_M45090-12841\n",
      "https://www.realtor.com/realestateandhomes-detail/402-Grandview-Ave_Staten-Island_NY_10303_M35795-01736\n",
      "https://www.realtor.com/realestateandhomes-detail/86-Gaylord-Dr_Brooklyn_NY_11234_M99025-30549\n",
      "https://www.realtor.com/realestateandhomes-detail/5450-Valles-Ave_Bronx_NY_10471_M47991-48534\n",
      "https://www.realtor.com/realestateandhomes-detail/70-Lyon-Pl_Staten-Island_NY_10314_M33849-84186\n",
      "\n",
      "\n",
      "\n",
      "\n",
      " 12\n"
     ]
    },
    {
     "name": "stdout",
     "output_type": "stream",
     "text": [
      "mmmmmmmmmmmmmmmmmmmm https://www.realtor.com/realestateandhomes-search/Atlanta_GA/shw-nc/price-800000-na/pg-13\n",
      "https://www.realtor.com/realestateandhomes-detail/11207-Rockaway-Beach-Blvd_Rockaway-Park_NY_11694_M34625-65580\n",
      "https://www.realtor.com/realestateandhomes-detail/38-Case-Ave_Staten-Island_NY_10309_M44743-37845\n",
      "https://www.realtor.com/realestateandhomes-detail/47-Ravenna-St_Staten-Island_NY_10312_M41375-76192\n",
      "https://www.realtor.com/realestateandhomes-detail/31-4th-Ct_Staten-Island_NY_10312_M41010-98062\n",
      "https://www.realtor.com/realestateandhomes-detail/83-Meisner-Ave_Staten-Island_NY_10306_M48540-82171\n",
      "https://www.realtor.com/realestateandhomes-detail/6125-211th-St_Oakland-Gardens_NY_11364_M41306-99846\n",
      "https://www.realtor.com/realestateandhomes-detail/65-Allison-Ave_Staten-Island_NY_10306_M35314-42489\n",
      "https://www.realtor.com/realestateandhomes-detail/13015-Sutter-Ave_South-Ozone-Park_NY_11420_M37415-58022\n",
      "https://www.realtor.com/realestateandhomes-detail/12205-133rd-Ave_South-Ozone-Park_NY_11420_M42602-38708\n",
      "https://www.realtor.com/realestateandhomes-detail/6336-Fitchett-St_Rego-Park_NY_11374_M32811-44303\n",
      "https://www.realtor.com/realestateandhomes-detail/11080-199th-St_Saint-Albans_NY_11412_M32188-64689\n",
      "https://www.realtor.com/realestateandhomes-detail/1463-William-Pl_Bronx_NY_10461_M31388-84487\n",
      "https://www.realtor.com/realestateandhomes-detail/1414-Bay-Ridge-Pkwy_Brooklyn_NY_11228_M38756-40730\n",
      "https://www.realtor.com/realestateandhomes-detail/394-Clarke-Ave_Staten-Island_NY_10306_M37060-46481\n",
      "https://www.realtor.com/realestateandhomes-detail/2545-90th-St_East-Elmhurst_NY_11369_M47835-08179\n",
      "https://www.realtor.com/realestateandhomes-detail/1453-E-65th-St_Brooklyn_NY_11234_M43642-69843\n",
      "https://www.realtor.com/realestateandhomes-detail/664-Mother-Gaston-Blvd_Brooklyn_NY_11212_M49269-57235\n",
      "https://www.realtor.com/realestateandhomes-detail/120-Winham-Ave_Staten-Island_NY_10306_M31960-49006\n",
      "https://www.realtor.com/realestateandhomes-detail/4220-Wickham-Ave_Bronx_NY_10466_M38587-62071\n",
      "https://www.realtor.com/realestateandhomes-detail/394-Page-Ave_Staten-Island_NY_10307_M39097-80428\n",
      "https://www.realtor.com/realestateandhomes-detail/3320-Mott-Ave_Far-Rockaway_NY_11691_M33355-02015\n",
      "https://www.realtor.com/realestateandhomes-detail/5517-Fieldston-Rd_Bronx_NY_10471_M49545-93003\n",
      "https://www.realtor.com/realestateandhomes-detail/15711-85th-St_Howard-Beach_NY_11414_M42682-54035\n",
      "https://www.realtor.com/realestateandhomes-detail/11947-191st-St_Saint-Albans_NY_11412_M44643-70168\n",
      "https://www.realtor.com/realestateandhomes-detail/10202-163rd-Dr_Howard-Beach_NY_11414_M49797-98355\n",
      "https://www.realtor.com/realestateandhomes-detail/166-Pinewood-Ave_Staten-Island_NY_10306_M39645-84538\n",
      "https://www.realtor.com/realestateandhomes-detail/4590-Henry-Hudson-Pkwy_Bronx_NY_10471_M43254-75660\n",
      "https://www.realtor.com/realestateandhomes-detail/1859-E-34th-St_Brooklyn_NY_11234_M43697-70681\n",
      "https://www.realtor.com/realestateandhomes-detail/155-Nicolosi-Dr_Staten-Island_NY_10312_M43613-84774\n",
      "https://www.realtor.com/realestateandhomes-detail/246-Howard-Ave_Staten-Island_NY_10301_M33270-09751\n",
      "https://www.realtor.com/realestateandhomes-detail/618-Dean-St-Apt-1A_Brooklyn_NY_11238_M98619-84296\n",
      "https://www.realtor.com/realestateandhomes-detail/6222-80th-Rd_Ridgewood_NY_11385_M39605-48628\n",
      "https://www.realtor.com/realestateandhomes-detail/129-Hamden-Ave_Staten-Island_NY_10306_M41780-92495\n",
      "https://www.realtor.com/realestateandhomes-detail/5041-Goodridge-Ave_Bronx_NY_10471_M30460-58507\n",
      "https://www.realtor.com/realestateandhomes-detail/21307-28th-Ave_Bayside_NY_11360_M45728-09689\n",
      "https://www.realtor.com/realestateandhomes-detail/2839-Philip-Ave_Bronx_NY_10465_M44174-12667\n",
      "https://www.realtor.com/realestateandhomes-detail/13919-230th-St_Springfield-Gardens_NY_11413_M33652-07953\n",
      "https://www.realtor.com/realestateandhomes-detail/1530-Waring-Ave_Bronx_NY_10469_M32454-87827\n",
      "https://www.realtor.com/realestateandhomes-detail/10424-210th-St_Queens-Village_NY_11429_M38368-32516\n",
      "https://www.realtor.com/realestateandhomes-detail/46-Bay-17th-St_Brooklyn_NY_11214_M42523-28026\n",
      "https://www.realtor.com/realestateandhomes-detail/2-Schuyler-Ter_Bronx_NY_10465_M35451-86835\n",
      "https://www.realtor.com/realestateandhomes-detail/8039-249th-St_Bellerose_NY_11426_M48230-68163\n",
      "\n",
      "\n",
      "\n",
      "\n",
      " 13\n"
     ]
    },
    {
     "name": "stdout",
     "output_type": "stream",
     "text": [
      "mmmmmmmmmmmmmmmmmmmm https://www.realtor.com/realestateandhomes-search/Atlanta_GA/shw-nc/price-800000-na/pg-14\n",
      "https://www.realtor.com/realestateandhomes-detail/24521-134th-Ave_Rosedale_NY_11422_M44312-50895\n",
      "https://www.realtor.com/realestateandhomes-detail/42-Eaton-Ct_Brooklyn_NY_11229_M32863-44935\n",
      "https://www.realtor.com/realestateandhomes-detail/8260-266th-St_Glen-Oaks_NY_11004_M47823-27712\n",
      "https://www.realtor.com/realestateandhomes-detail/56-Waverly-Pl_Staten-Island_NY_10304_M49949-32912\n",
      "https://www.realtor.com/realestateandhomes-detail/125-Malba-Dr_Whitestone_NY_11357_M42221-34022\n",
      "https://www.realtor.com/realestateandhomes-detail/15-Boone-St_Staten-Island_NY_10314_M47782-45978\n",
      "https://www.realtor.com/realestateandhomes-detail/26-Emerson-Ave_Staten-Island_NY_10301_M44790-88289\n",
      "https://www.realtor.com/realestateandhomes-detail/63-Highview-Ave_Staten-Island_NY_10301_M31653-74764\n",
      "https://www.realtor.com/realestateandhomes-detail/3296-Griswold-Ave_Bronx_NY_10465_M39940-06474\n",
      "https://www.realtor.com/realestateandhomes-detail/100-Gold-Ave_Staten-Island_NY_10312_M32604-59076\n",
      "https://www.realtor.com/realestateandhomes-detail/3405-Corporal-Kennedy-St_Bayside_NY_11361_M99324-37508\n",
      "https://www.realtor.com/realestateandhomes-detail/1531-Hone-Ave_Bronx_NY_10461_M45520-14101\n",
      "https://www.realtor.com/realestateandhomes-detail/16432-88th-St_Howard-Beach_NY_11414_M46767-63296\n",
      "https://www.realtor.com/realestateandhomes-detail/1068-82nd-St_Brooklyn_NY_11228_M45299-11362\n",
      "https://www.realtor.com/realestateandhomes-detail/12510-Francis-Lewis-Blvd_Springfield-Gardens_NY_11413_M32531-49263\n",
      "https://www.realtor.com/realestateandhomes-detail/5322-Avenue-M_Brooklyn_NY_11234_M32580-04446\n",
      "https://www.realtor.com/realestateandhomes-detail/8851-239th-St_Bellerose_NY_11426_M42667-63397\n",
      "https://www.realtor.com/realestateandhomes-detail/27-Frederick-St_Staten-Island_NY_10314_M42016-23752\n",
      "https://www.realtor.com/realestateandhomes-detail/13416-232nd-St_Springfield-Gardens_NY_11413_M33470-96705\n",
      "https://www.realtor.com/realestateandhomes-detail/22-Duncan-St_Staten-Island_NY_10304_M45736-69252\n",
      "https://www.realtor.com/realestateandhomes-detail/115-43-227-St_Cambria-Heights_NY_11414_M96026-98033\n",
      "https://www.realtor.com/realestateandhomes-detail/1202-E-46th-St_Brooklyn_NY_11234_M30922-05119\n",
      "https://www.realtor.com/realestateandhomes-detail/30-Conference-Ct_Staten-Island_NY_10307_M47165-20615\n",
      "https://www.realtor.com/realestateandhomes-detail/11554-228th-St_Cambria-Heights_NY_11411_M41564-88398\n",
      "https://www.realtor.com/realestateandhomes-detail/14-W-10th-Rd_Far-Rockaway_NY_11693_M45672-00202\n",
      "https://www.realtor.com/realestateandhomes-detail/331-Winchester-Ave_Staten-Island_NY_10312_M33461-44850\n",
      "https://www.realtor.com/realestateandhomes-detail/7832-138th-St_Flushing_NY_11367_M31849-18565\n",
      "https://www.realtor.com/realestateandhomes-detail/8709-150th-St_Jamaica_NY_11435_M34525-21935\n",
      "https://www.realtor.com/realestateandhomes-detail/204-Utter-Ave_Staten-Island_NY_10314_M40347-03298\n",
      "https://www.realtor.com/realestateandhomes-detail/4806-Glenwood-St_Little-Neck_NY_11362_M97431-66209\n",
      "https://www.realtor.com/realestateandhomes-detail/1630-E-52nd-St_Brooklyn_NY_11234_M31237-35255\n",
      "https://www.realtor.com/realestateandhomes-detail/933-E-22nd-St_Brooklyn_NY_11210_M37698-97656\n",
      "https://www.realtor.com/realestateandhomes-detail/206-Rosedale-Ave_Staten-Island_NY_10312_M36315-17991\n",
      "https://www.realtor.com/realestateandhomes-detail/2427-E-72nd-St_Brooklyn_NY_11234_M40911-23782\n",
      "https://www.realtor.com/realestateandhomes-detail/535-Carlton-Blvd_Staten-Island_NY_10312_M42158-83310\n",
      "https://www.realtor.com/realestateandhomes-detail/24105-87th-Ave_Bellerose_NY_11426_M46801-90540\n",
      "https://www.realtor.com/realestateandhomes-detail/73-Bartlett-Pl_Brooklyn_NY_11229_M46359-03223\n",
      "https://www.realtor.com/realestateandhomes-detail/57-Marine-Ave_Brooklyn_NY_11209_M49846-30392\n",
      "https://www.realtor.com/realestateandhomes-detail/7647-173rd-St_Fresh-Meadows_NY_11366_M44425-91114\n",
      "https://www.realtor.com/realestateandhomes-detail/16410-Foch-Blvd_Jamaica_NY_11434_M48103-09912\n",
      "https://www.realtor.com/realestateandhomes-detail/104-Grosvenor-St_Little-Neck_NY_11363_M36176-48243\n",
      "https://www.realtor.com/realestateandhomes-detail/134-Greaves-Ave_Staten-Island_NY_10308_M32769-61591\n",
      "\n",
      "\n",
      "\n",
      "\n",
      " 14\n"
     ]
    },
    {
     "name": "stdout",
     "output_type": "stream",
     "text": [
      "mmmmmmmmmmmmmmmmmmmm https://www.realtor.com/realestateandhomes-search/Atlanta_GA/shw-nc/price-800000-na/pg-15\n",
      "https://www.realtor.com/realestateandhomes-detail/16-Canterbury-Ave_Staten-Island_NY_10314_M32862-00396\n",
      "https://www.realtor.com/realestateandhomes-detail/18645-Grand-Central-Pkwy_Jamaica_NY_11432_M40800-35131\n",
      "https://www.realtor.com/realestateandhomes-detail/5621-Palisade-Ave_Bronx_NY_10471_M33862-15399\n",
      "https://www.realtor.com/realestateandhomes-detail/164-Oxford-St_Brooklyn_NY_11235_M49809-01812\n",
      "https://www.realtor.com/realestateandhomes-detail/22117-Murdock-Ave_Queens-Village_NY_11429_M40097-85681\n",
      "https://www.realtor.com/realestateandhomes-detail/262-Howard-Ave_Staten-Island_NY_10301_M32291-14046\n",
      "https://www.realtor.com/realestateandhomes-detail/2126-154th-St_Whitestone_NY_11357_M40903-77394\n",
      "https://www.realtor.com/realestateandhomes-detail/4574-166th-St_Flushing_NY_11358_M43897-82125\n",
      "https://www.realtor.com/realestateandhomes-detail/5-Boulevard_Whitestone_NY_11357_M36244-41314\n",
      "https://www.realtor.com/realestateandhomes-detail/10314-Avenue-M_Brooklyn_NY_11236_M31049-17880\n",
      "https://www.realtor.com/realestateandhomes-detail/4581-Hylan-Blvd_Staten-Island_NY_10312_M44102-36573\n",
      "https://www.realtor.com/realestateandhomes-detail/24-Glover-St_Staten-Island_NY_10308_M32270-44824\n",
      "https://www.realtor.com/realestateandhomes-detail/8411-Sutter-Ave_Ozone-Park_NY_11417_M44017-00929\n",
      "https://www.realtor.com/realestateandhomes-detail/19346-McLaughlin-Ave_Hollis_NY_11423_M34452-66663\n",
      "https://www.realtor.com/realestateandhomes-detail/2233-E-72nd-St_Brooklyn_NY_11234_M41298-80363\n",
      "https://www.realtor.com/realestateandhomes-detail/3339-Eastchester-Rd_Bronx_NY_10469_M32552-85622\n",
      "https://www.realtor.com/realestateandhomes-detail/14808-Edgewood-St_Rosedale_NY_11422_M38978-25491\n",
      "https://www.realtor.com/realestateandhomes-detail/453-Stratford-Rd_Brooklyn_NY_11218_M36698-19707\n",
      "https://www.realtor.com/realestateandhomes-detail/118-William-Ave_Staten-Island_NY_10308_M39833-92467\n",
      "https://www.realtor.com/realestateandhomes-detail/1700-Gravesend-Neck-Rd_Brooklyn_NY_11229_M43424-16256\n",
      "https://www.realtor.com/realestateandhomes-detail/179-Hickory-Ave_Staten-Island_NY_10305_M49492-12675\n",
      "https://www.realtor.com/realestateandhomes-detail/1903-Tomlinson-Ave_Bronx_NY_10461_M30655-71006\n",
      "https://www.realtor.com/realestateandhomes-detail/1242-Pawnee-Pl_Bronx_NY_10461_M31065-63543\n",
      "https://www.realtor.com/realestateandhomes-detail/11730-220th-St_Cambria-Heights_NY_11411_M47500-13618\n",
      "https://www.realtor.com/realestateandhomes-detail/1466-E-56th-St_Brooklyn_NY_11234_M40291-82711\n",
      "https://www.realtor.com/realestateandhomes-detail/1927-Schenectady-Ave_Brooklyn_NY_11234_M38258-22463\n",
      "https://www.realtor.com/realestateandhomes-detail/286-W-234th-St_Bronx_NY_10463_M45990-67688\n",
      "https://www.realtor.com/realestateandhomes-detail/50-Tyndale-St_Staten-Island_NY_10312_M42578-22720\n",
      "https://www.realtor.com/realestateandhomes-detail/431-Washington-Ave_Brooklyn_NY_11238_M33536-32706\n",
      "https://www.realtor.com/realestateandhomes-detail/18237-Radnor-Rd_Jamaica_NY_11432_M33371-22823\n",
      "https://www.realtor.com/realestateandhomes-detail/18851-120th-Rd_Saint-Albans_NY_11412_M37782-92795\n",
      "https://www.realtor.com/realestateandhomes-detail/8829-74th-Pl_Woodhaven_NY_11421_M36249-83856\n",
      "https://www.realtor.com/realestateandhomes-detail/2850-Gerritsen-Ave_Brooklyn_NY_11229_M47757-49007\n",
      "https://www.realtor.com/realestateandhomes-detail/605-Van-Buren-St_Brooklyn_NY_11221_M45025-46788\n",
      "https://www.realtor.com/realestateandhomes-detail/9252-219th-St_Queens-Village_NY_11428_M36533-48313\n",
      "https://www.realtor.com/realestateandhomes-detail/2938-Bouck-Ave_Bronx_NY_10469_M42517-23211\n",
      "https://www.realtor.com/realestateandhomes-detail/37-Montana-Pl_Brooklyn_NY_11234_M35848-41283\n",
      "https://www.realtor.com/realestateandhomes-detail/19406-114th-Dr_Saint-Albans_NY_11412_M36061-32364\n",
      "https://www.realtor.com/realestateandhomes-detail/15942-81st-St_Howard-Beach_NY_11414_M38645-77973\n",
      "https://www.realtor.com/realestateandhomes-detail/297-Broad-St_Staten-Island_NY_10304_M30908-55474\n",
      "https://www.realtor.com/realestateandhomes-detail/1489-E-54th-St_Brooklyn_NY_11234_M32149-25016\n",
      "https://www.realtor.com/realestateandhomes-detail/139-Kennington-St_Staten-Island_NY_10308_M34371-30612\n",
      "\n",
      "\n",
      "\n",
      "\n",
      " 15\n"
     ]
    },
    {
     "name": "stdout",
     "output_type": "stream",
     "text": [
      "mmmmmmmmmmmmmmmmmmmm https://www.realtor.com/realestateandhomes-search/Atlanta_GA/shw-nc/price-800000-na/pg-16\n",
      "https://www.realtor.com/realestateandhomes-detail/4309-Edson-Ave_Bronx_NY_10466_M48314-43585\n",
      "https://www.realtor.com/realestateandhomes-detail/267-Decker-Ave_Staten-Island_NY_10302_M43667-75037\n",
      "https://www.realtor.com/realestateandhomes-detail/4029-167th-St_Flushing_NY_11358_M34329-83423\n",
      "https://www.realtor.com/realestateandhomes-detail/11046-174th-St_Jamaica_NY_11433_M33902-11567\n",
      "https://www.realtor.com/realestateandhomes-detail/207-E-31st-St_New-York_NY_10016_M47655-75158\n",
      "https://www.realtor.com/realestateandhomes-detail/9022-195th-Pl_Hollis_NY_11423_M49824-23631\n",
      "https://www.realtor.com/realestateandhomes-detail/6316-84th-Pl_Middle-Village_NY_11379_M37290-39294\n",
      "https://www.realtor.com/realestateandhomes-detail/24816-88th-Dr_Bellerose_NY_11426_M37380-36131\n",
      "https://www.realtor.com/realestateandhomes-detail/3399-Fort-Independence-St_Bronx_NY_10463_M38879-52676\n",
      "https://www.realtor.com/realestateandhomes-detail/13022-226th-St_Springfield-Gardens_NY_11413_M44442-06602\n",
      "https://www.realtor.com/realestateandhomes-detail/8-Circle-Rd_Staten-Island_NY_10304_M33362-10037\n",
      "https://www.realtor.com/realestateandhomes-detail/285-Bartlett-Ave_Staten-Island_NY_10312_M45868-02607\n",
      "https://www.realtor.com/realestateandhomes-detail/1205-Beverley-Rd_Brooklyn_NY_11218_M30865-05355\n",
      "https://www.realtor.com/realestateandhomes-detail/213-E-9th-St_Brooklyn_NY_11218_M46725-43868\n",
      "https://www.realtor.com/realestateandhomes-detail/4617-Delafield-Ave_Bronx_NY_10471_M43138-48686\n",
      "https://www.realtor.com/realestateandhomes-detail/10412-38th-Ave_Corona_NY_11368_M49485-47666\n",
      "https://www.realtor.com/realestateandhomes-detail/280-Washington-Ave_Brooklyn_NY_11205_M39460-07757\n",
      "https://www.realtor.com/realestateandhomes-detail/2715-Seymour-Ave_Bronx_NY_10469_M43085-44327\n",
      "https://www.realtor.com/realestateandhomes-detail/1042-Virginia-Ave_Bronx_NY_10472_M35367-47062\n",
      "https://www.realtor.com/realestateandhomes-detail/1000-Ocean-Ave_Brooklyn_NY_11226_M36249-23693\n",
      "https://www.realtor.com/realestateandhomes-detail/1076-Lafayette-Ave_Brooklyn_NY_11221_M37750-42985\n",
      "https://www.realtor.com/realestateandhomes-detail/1031A-115th-St_College-Point_NY_11356_M40128-57935\n",
      "https://www.realtor.com/realestateandhomes-detail/14592-224th-St_Springfield-Gardens_NY_11413_M30140-63665\n",
      "https://www.realtor.com/realestateandhomes-detail/4296-Vireo-Ave_Bronx_NY_10470_M41588-72930\n",
      "https://www.realtor.com/realestateandhomes-detail/592-Powell-St_Brooklyn_NY_11212_M38610-48928\n",
      "https://www.realtor.com/realestateandhomes-detail/67-Purdue-St_Staten-Island_NY_10314_M47071-50783\n",
      "https://www.realtor.com/realestateandhomes-detail/10921-114th-St_South-Ozone-Park_NY_11420_M40716-47146\n",
      "https://www.realtor.com/realestateandhomes-detail/411A-Stuyvesant-Ave_Brooklyn_NY_11233_M49728-46771\n",
      "https://www.realtor.com/realestateandhomes-detail/14916-15th-Rd_Whitestone_NY_11357_M46160-45183\n",
      "https://www.realtor.com/realestateandhomes-detail/1348-E-69th-St_Brooklyn_NY_11234_M45466-30777\n",
      "https://www.realtor.com/realestateandhomes-detail/161-Whitman-Dr_Brooklyn_NY_11234_M31588-39773\n",
      "https://www.realtor.com/realestateandhomes-detail/185-Utter-Ave_Staten-Island_NY_10314_M36524-91197\n",
      "https://www.realtor.com/realestateandhomes-detail/49-Park-Dr-N_Staten-Island_NY_10314_M40612-51170\n",
      "https://www.realtor.com/realestateandhomes-detail/1446-142nd-St_Whitestone_NY_11357_M45305-93674\n",
      "https://www.realtor.com/realestateandhomes-detail/319-Winchester-Ave_Staten-Island_NY_10312_M44109-26956\n",
      "https://www.realtor.com/realestateandhomes-detail/11449-204th-St_Saint-Albans_NY_11412_M37602-27036\n",
      "https://www.realtor.com/realestateandhomes-detail/4733-Beach-47th-St_Brooklyn_NY_11224_M40046-86392\n",
      "https://www.realtor.com/realestateandhomes-detail/1639-W-9th-St_Brooklyn_NY_11223_M47448-48020\n",
      "https://www.realtor.com/realestateandhomes-detail/41-Ocean-Ave_Staten-Island_NY_10305_M36057-24884\n",
      "https://www.realtor.com/realestateandhomes-detail/63-E-9th-St-Apt-14K_New-York_NY_10003_M38745-84107\n",
      "https://www.realtor.com/realestateandhomes-detail/3022-Avenue-I_Brooklyn_NY_11210_M35757-32649\n",
      "https://www.realtor.com/realestateandhomes-detail/45-W-70th-St_New-York_NY_10023_M42610-32849\n",
      "\n",
      "\n",
      "\n",
      "\n",
      " 16\n"
     ]
    },
    {
     "name": "stdout",
     "output_type": "stream",
     "text": [
      "mmmmmmmmmmmmmmmmmmmm https://www.realtor.com/realestateandhomes-search/Atlanta_GA/shw-nc/price-800000-na/pg-17\n",
      "https://www.realtor.com/realestateandhomes-detail/15751-Rose-Ave_Flushing_NY_11355_M96792-69610\n",
      "https://www.realtor.com/realestateandhomes-detail/45-W-70th-St_New-York_NY_10023_M42610-32849\n",
      "https://www.realtor.com/realestateandhomes-detail/7138-Harrow-St_Forest-Hills_NY_11375_M49897-13235\n",
      "https://www.realtor.com/realestateandhomes-detail/44-Rutland-Rd_Brooklyn_NY_11225_M44552-27264\n",
      "https://www.realtor.com/realestateandhomes-detail/6214-Avenue-T_Brooklyn_NY_11234_M43524-04752\n",
      "https://www.realtor.com/realestateandhomes-detail/50-W-29th-St-Apt-2E_New-York_NY_10001_M37050-20460\n",
      "https://www.realtor.com/realestateandhomes-detail/91-Allison-Ave_Staten-Island_NY_10306_M30065-90880\n",
      "https://www.realtor.com/realestateandhomes-detail/689-E-17th-St_Brooklyn_NY_11230_M37648-94573\n",
      "https://www.realtor.com/realestateandhomes-detail/171-Monitor-St_Brooklyn_NY_11222_M33510-49984\n",
      "https://www.realtor.com/realestateandhomes-detail/4830-42nd-St_Sunnyside_NY_11104_M44593-20373\n",
      "https://www.realtor.com/realestateandhomes-detail/525-Falcon-Ave_Staten-Island_NY_10306_M45823-55365\n",
      "https://www.realtor.com/realestateandhomes-detail/730-Linwood-St_Brooklyn_NY_11208_M44214-87066\n",
      "https://www.realtor.com/realestateandhomes-detail/116-E-16th-St_Brooklyn_NY_11226_M37641-11988\n",
      "https://www.realtor.com/realestateandhomes-detail/699-Alabama-Ave_Brooklyn_NY_11207_M47746-77710\n",
      "https://www.realtor.com/realestateandhomes-detail/3428-72nd-St_Jackson-Heights_NY_11372_M45314-69164\n",
      "https://www.realtor.com/realestateandhomes-detail/101-Laurel-Ave_Staten-Island_NY_10304_M45873-44630\n",
      "https://www.realtor.com/realestateandhomes-detail/77-City-Blvd_Staten-Island_NY_10301_M39745-91407\n",
      "https://www.realtor.com/realestateandhomes-detail/120-Warwick-St_Brooklyn_NY_11207_M40339-62901\n",
      "https://www.realtor.com/realestateandhomes-detail/3372-Fort-Independence-St_Bronx_NY_10463_M34073-38891\n",
      "https://www.realtor.com/realestateandhomes-detail/18715-120th-Ave_Saint-Albans_NY_11412_M30102-41720\n",
      "https://www.realtor.com/realestateandhomes-detail/1663-Allerton-Ave_Bronx_NY_10469_M43357-85731\n",
      "https://www.realtor.com/realestateandhomes-detail/15737-91st-St_Howard-Beach_NY_11414_M46784-26965\n",
      "https://www.realtor.com/realestateandhomes-detail/6415-15th-Ave_Brooklyn_NY_11219_M34468-62648\n",
      "https://www.realtor.com/realestateandhomes-detail/8142-250th-St_Bellerose_NY_11426_M34794-79947\n",
      "https://www.realtor.com/realestateandhomes-detail/297-Burbank-Ave_Staten-Island_NY_10306_M30306-62753\n",
      "https://www.realtor.com/realestateandhomes-detail/18116-93rd-Ave_Hollis_NY_11423_M36101-55160\n",
      "https://www.realtor.com/realestateandhomes-detail/8472-151st-St_Jamaica_NY_11432_M46079-85773\n",
      "https://www.realtor.com/realestateandhomes-detail/3260-Fairmount-Ave_Bronx_NY_10465_M34829-64083\n",
      "https://www.realtor.com/realestateandhomes-detail/13839-11th-Ave_Whitestone_NY_11357_M38153-11877\n",
      "https://www.realtor.com/realestateandhomes-detail/2719-Avenue-Y_Brooklyn_NY_11235_M45867-96860\n",
      "https://www.realtor.com/realestateandhomes-detail/59B-Brighton-10th-Ct_Brooklyn_NY_11235_M92370-27595\n",
      "https://www.realtor.com/realestateandhomes-detail/7203-Ingram-St-H0USE_Forest-Hills_NY_11375_M99574-01002\n",
      "https://www.realtor.com/realestateandhomes-detail/181-Androvette-Ave_Staten-Island_NY_10312_M34146-18834\n",
      "https://www.realtor.com/realestateandhomes-detail/9948-1st-St_Howard-Beach_NY_11414_M47185-70608\n",
      "https://www.realtor.com/realestateandhomes-detail/11551-209th-St_Cambria-Heights_NY_11411_M46462-11520\n",
      "https://www.realtor.com/realestateandhomes-detail/245-Arleigh-Rd_Little-Neck_NY_11363_M38449-50194\n",
      "https://www.realtor.com/realestateandhomes-detail/16-Upshaw-Rd_Forest-Hills_NY_11375_M45869-42928\n",
      "https://www.realtor.com/realestateandhomes-detail/1112-Albemarle-Rd_Brooklyn_NY_11218_M32737-20004\n",
      "https://www.realtor.com/realestateandhomes-detail/6-Green-St_Staten-Island_NY_10310_M37934-43586\n",
      "https://www.realtor.com/realestateandhomes-detail/15031-Hoover-Ave_Jamaica_NY_11432_M32191-50222\n",
      "https://www.realtor.com/realestateandhomes-detail/2612-Harway-Ave_Brooklyn_NY_11214_M34257-97241\n",
      "https://www.realtor.com/realestateandhomes-detail/52-Park-Pl_Staten-Island_NY_10301_M32015-22728\n",
      "\n",
      "\n",
      "\n",
      "\n",
      " 17\n"
     ]
    },
    {
     "name": "stdout",
     "output_type": "stream",
     "text": [
      "mmmmmmmmmmmmmmmmmmmm https://www.realtor.com/realestateandhomes-search/Atlanta_GA/shw-nc/price-800000-na/pg-18\n",
      "https://www.realtor.com/realestateandhomes-detail/11946-238th-St_Cambria-Heights_NY_11411_M95097-18447\n",
      "https://www.realtor.com/realestateandhomes-detail/64-2nd-St_Brooklyn_NY_11231_M47696-46319\n",
      "https://www.realtor.com/realestateandhomes-detail/132-Crowell-Ave_Staten-Island_NY_10314_M39971-63899\n",
      "https://www.realtor.com/realestateandhomes-detail/4415-72nd-St_Woodside_NY_11377_M90842-23658\n",
      "https://www.realtor.com/realestateandhomes-detail/348-Darlington-Ave_Staten-Island_NY_10312_M36634-43532\n",
      "https://www.realtor.com/realestateandhomes-detail/16311-96th-St_Howard-Beach_NY_11414_M38906-37016\n",
      "https://www.realtor.com/realestateandhomes-detail/7205-164th-St_Fresh-Meadows_NY_11365_M38249-71277\n",
      "https://www.realtor.com/realestateandhomes-detail/4374-DE-Reimer-Ave_Bronx_NY_10466_M45070-03140\n",
      "https://www.realtor.com/realestateandhomes-detail/7927-270th-St_New-Hyde-Park_NY_11040_M48871-97682\n",
      "https://www.realtor.com/realestateandhomes-detail/5331-212th-St_Oakland-Gardens_NY_11364_M47786-97021\n",
      "https://www.realtor.com/realestateandhomes-detail/17615-130th-Ave_Jamaica_NY_11434_M41676-53660\n",
      "https://www.realtor.com/realestateandhomes-detail/8131-259th-St_Glen-Oaks_NY_11004_M41793-64458\n",
      "https://www.realtor.com/realestateandhomes-detail/10237-90th-Ave_Richmond-Hill_NY_11418_M34934-60973\n",
      "https://www.realtor.com/realestateandhomes-detail/142-Woodbine-St_Brooklyn_NY_11221_M36702-17037\n",
      "https://www.realtor.com/realestateandhomes-detail/3204-Glennon-Pl_Bronx_NY_10465_M42836-27933\n",
      "https://www.realtor.com/realestateandhomes-detail/13055-116th-St_South-Ozone-Park_NY_11420_M40319-71512\n",
      "https://www.realtor.com/realestateandhomes-detail/12509-Linden-Blvd_South-Ozone-Park_NY_11420_M36219-84911\n",
      "https://www.realtor.com/realestateandhomes-detail/2737-Palisade-Ave_Bronx_NY_10463_M42854-45741\n",
      "https://www.realtor.com/realestateandhomes-detail/443-Manhattan-St_Staten-Island_NY_10307_M46963-67627\n",
      "https://www.realtor.com/realestateandhomes-detail/1329-Harding-Park_Bronx_NY_10473_M39073-45488\n",
      "https://www.realtor.com/realestateandhomes-detail/1142-78th-St_Brooklyn_NY_11228_M42955-90637\n",
      "https://www.realtor.com/realestateandhomes-detail/106-Highland-Ave_Staten-Island_NY_10301_M48057-60319\n",
      "https://www.realtor.com/realestateandhomes-detail/6451-59th-Ave_Maspeth_NY_11378_M47272-77021\n",
      "https://www.realtor.com/realestateandhomes-detail/16031-90th-St_Howard-Beach_NY_11414_M33975-10617\n",
      "https://www.realtor.com/realestateandhomes-detail/416-Westervelt-Ave_Staten-Island_NY_10301_M30797-00362\n",
      "https://www.realtor.com/realestateandhomes-detail/3105-Avenue-J_Brooklyn_NY_11210_M30412-17789\n",
      "https://www.realtor.com/realestateandhomes-detail/47-Beacon-Ct_Brooklyn_NY_11229_M45447-87993\n",
      "https://www.realtor.com/realestateandhomes-detail/534-W-42nd-St-Apt-1_New-York_NY_10036_M90300-31899\n",
      "https://www.realtor.com/realestateandhomes-detail/13017-229th-St_Springfield-Gardens_NY_11413_M32737-20064\n",
      "https://www.realtor.com/realestateandhomes-detail/35-Julieann-Ct_Staten-Island_NY_10304_M35482-22312\n",
      "https://www.realtor.com/realestateandhomes-detail/136-Union-Ave_Staten-Island_NY_10303_M90118-74448\n",
      "https://www.realtor.com/realestateandhomes-detail/1329-56th-St_Brooklyn_NY_11219_M46577-44917\n",
      "https://www.realtor.com/realestateandhomes-detail/13528-115th-St_South-Ozone-Park_NY_11420_M37691-80309\n",
      "https://www.realtor.com/realestateandhomes-detail/392-Eldert-Ln_Brooklyn_NY_11208_M49834-20212\n",
      "https://www.realtor.com/realestateandhomes-detail/24218-54th-Ave_Little-Neck_NY_11362_M45844-26514\n",
      "https://www.realtor.com/realestateandhomes-detail/2-Smith-Ct_Staten-Island_NY_10314_M33512-45912\n",
      "https://www.realtor.com/realestateandhomes-detail/2514-Mickle-Ave_Bronx_NY_10469_M40957-18530\n",
      "https://www.realtor.com/realestateandhomes-detail/5020-Grosvenor-Ave_Bronx_NY_10471_M30462-82103\n",
      "https://www.realtor.com/realestateandhomes-detail/17303-Fairchild-Ave_Flushing_NY_11358_M34310-18477\n",
      "https://www.realtor.com/realestateandhomes-detail/19918-Epsom-Crse_Hollis_NY_11423_M47334-62464\n",
      "https://www.realtor.com/realestateandhomes-detail/921-Nugent-Ave_Staten-Island_NY_10306_M35157-42858\n",
      "https://www.realtor.com/realestateandhomes-detail/1638-E-36th-St_Brooklyn_NY_11234_M37201-13505\n",
      "\n",
      "\n",
      "\n",
      "\n",
      " 18\n"
     ]
    },
    {
     "name": "stdout",
     "output_type": "stream",
     "text": [
      "mmmmmmmmmmmmmmmmmmmm https://www.realtor.com/realestateandhomes-search/Atlanta_GA/shw-nc/price-800000-na/pg-19\n",
      "https://www.realtor.com/realestateandhomes-detail/1638-E-36th-St_Brooklyn_NY_11234_M37201-13505\n",
      "https://www.realtor.com/realestateandhomes-detail/244-Four-Corners-Rd_Staten-Island_NY_10304_M42322-36761\n",
      "https://www.realtor.com/realestateandhomes-detail/926-Van-Nest-Ave_Bronx_NY_10462_M41880-66684\n",
      "https://www.realtor.com/realestateandhomes-detail/3246-212th-St_Bayside_NY_11361_M38815-13158\n",
      "https://www.realtor.com/realestateandhomes-detail/11510-Park-Ln-S_Kew-Gardens_NY_11418_M44304-20894\n",
      "https://www.realtor.com/realestateandhomes-detail/16026-85th-St_Howard-Beach_NY_11414_M33157-11873\n",
      "https://www.realtor.com/realestateandhomes-detail/503-Bedell-Ave_Staten-Island_NY_10307_M35499-18172\n",
      "https://www.realtor.com/realestateandhomes-detail/27-Mayberry-Promenade_Staten-Island_NY_10312_M47458-55576\n",
      "https://www.realtor.com/realestateandhomes-detail/66-Mulberry-St_New-York_NY_10013_M90313-88572\n",
      "https://www.realtor.com/realestateandhomes-detail/17925-142nd-Ave_Jamaica_NY_11434_M32332-29747\n",
      "https://www.realtor.com/realestateandhomes-detail/5612-135th-St_Flushing_NY_11355_M44627-86106\n",
      "https://www.realtor.com/realestateandhomes-detail/5723-141st-St_Flushing_NY_11355_M96042-67229\n",
      "https://www.realtor.com/realestateandhomes-detail/374-Billiou-St_Staten-Island_NY_10312_M35557-25362\n",
      "https://www.realtor.com/realestateandhomes-detail/5351-63rd-St_Maspeth_NY_11378_M36389-67725\n",
      "https://www.realtor.com/realestateandhomes-detail/181-Collfield-Ave_Staten-Island_NY_10302_M39976-00941\n",
      "https://www.realtor.com/realestateandhomes-detail/66-Paerdegat-1st-St_Brooklyn_NY_11236_M42458-87316\n",
      "https://www.realtor.com/realestateandhomes-detail/63-Pitt-St-Unit-Residences_New-York_NY_10002_M96757-13534\n",
      "https://www.realtor.com/realestateandhomes-detail/5644-213th-St_Oakland-Gardens_NY_11364_M44975-09741\n",
      "https://www.realtor.com/realestateandhomes-detail/42-Elmhurst-Ave_Staten-Island_NY_10301_M35134-53188\n",
      "https://www.realtor.com/realestateandhomes-detail/337-Howard-Ave_Staten-Island_NY_10301_M34564-71636\n",
      "https://www.realtor.com/realestateandhomes-detail/97-Preston-Ave_Staten-Island_NY_10312_M45357-50192\n",
      "https://www.realtor.com/realestateandhomes-detail/19625-McLaughlin-Ave_Hollis_NY_11423_M38950-61514\n",
      "https://www.realtor.com/realestateandhomes-detail/8605-Somerset-St_Jamaica_NY_11432_M49087-72830\n",
      "https://www.realtor.com/realestateandhomes-detail/6133-Fieldston-Rd_Bronx_NY_10471_M32935-72266\n",
      "https://www.realtor.com/realestateandhomes-detail/12319-7th-Ave_College-Point_NY_11356_M32562-38058\n",
      "https://www.realtor.com/realestateandhomes-detail/10547-88th-St_Ozone-Park_NY_11417_M44907-96796\n",
      "https://www.realtor.com/realestateandhomes-detail/6759-197th-St_Fresh-Meadows_NY_11365_M49387-28350\n",
      "https://www.realtor.com/realestateandhomes-detail/3412-Kingsland-Ave_Bronx_NY_10469_M33368-32950\n",
      "https://www.realtor.com/realestateandhomes-detail/2951-Brighton-7th-St_Brooklyn_NY_11235_M32868-01573\n",
      "https://www.realtor.com/realestateandhomes-detail/1462-E-65th-St_Brooklyn_NY_11234_M41321-25766\n",
      "https://www.realtor.com/realestateandhomes-detail/1171-Grenada-Pl_Bronx_NY_10466_M37988-01170\n",
      "https://www.realtor.com/realestateandhomes-detail/240-Mallory-Ave_Staten-Island_NY_10305_M38598-67943\n",
      "https://www.realtor.com/realestateandhomes-detail/414-Castleton-Ave_Staten-Island_NY_10301_M48936-57379\n",
      "https://www.realtor.com/realestateandhomes-detail/703-Marcy-Ave_Staten-Island_NY_10309_M93869-44144\n",
      "https://www.realtor.com/realestateandhomes-detail/12051-234th-St_Cambria-Heights_NY_11411_M43844-97882\n",
      "https://www.realtor.com/realestateandhomes-detail/2805-216th-St_Bayside_NY_11360_M32851-22312\n",
      "https://www.realtor.com/realestateandhomes-detail/1674-Ryder-St_Brooklyn_NY_11234_M32273-87065\n",
      "https://www.realtor.com/realestateandhomes-detail/8272-164th-Pl_Jamaica_NY_11432_M48033-03915\n",
      "https://www.realtor.com/realestateandhomes-detail/15808-81st-St_Howard-Beach_NY_11414_M38026-04711\n",
      "https://www.realtor.com/realestateandhomes-detail/3353-210th-St_Bayside_NY_11361_M36780-91676\n",
      "https://www.realtor.com/realestateandhomes-detail/139-82nd-St_Brooklyn_NY_11209_M34831-20484\n",
      "https://www.realtor.com/realestateandhomes-detail/15744-12th-Ave_Whitestone_NY_11357_M44705-48794\n",
      "\n",
      "\n",
      "\n",
      "\n",
      " 19\n"
     ]
    },
    {
     "name": "stdout",
     "output_type": "stream",
     "text": [
      "mmmmmmmmmmmmmmmmmmmm https://www.realtor.com/realestateandhomes-search/Atlanta_GA/shw-nc/price-800000-na/pg-20\n",
      "https://www.realtor.com/realestateandhomes-detail/112-Johnson-Ave_Staten-Island_NY_10307_M34351-58665\n",
      "https://www.realtor.com/realestateandhomes-detail/15744-12th-Ave_Whitestone_NY_11357_M44705-48794\n",
      "https://www.realtor.com/realestateandhomes-detail/21531-26th-Ave_Bayside_NY_11360_M39678-50123\n",
      "https://www.realtor.com/realestateandhomes-detail/2773-Bedford-Ave_Brooklyn_NY_11210_M42500-50432\n",
      "https://www.realtor.com/realestateandhomes-detail/242-Legion-St_Brooklyn_NY_11212_M33162-95380\n",
      "https://www.realtor.com/realestateandhomes-detail/8839-186th-St_Hollis_NY_11423_M31487-15664\n",
      "https://www.realtor.com/realestateandhomes-detail/194-Falmouth-St_Brooklyn_NY_11235_M42699-23849\n",
      "https://www.realtor.com/realestateandhomes-detail/1830-E-33rd-St_Brooklyn_NY_11234_M41654-69338\n",
      "https://www.realtor.com/realestateandhomes-detail/10811-Flatlands-7th-St_Brooklyn_NY_11236_M47334-88205\n",
      "https://www.realtor.com/realestateandhomes-detail/53-Topside-Ln_Staten-Island_NY_10309_M45621-95866\n",
      "https://www.realtor.com/realestateandhomes-detail/8068-87th-Ave_Woodhaven_NY_11421_M31106-39318\n",
      "https://www.realtor.com/realestateandhomes-detail/22927-129th-Ave_Springfield-Gardens_NY_11413_M46511-31328\n",
      "https://www.realtor.com/realestateandhomes-detail/8707-Eliot-Ave_Rego-Park_NY_11374_M34833-43713\n",
      "https://www.realtor.com/realestateandhomes-detail/16439-90th-St_Howard-Beach_NY_11414_M33774-84988\n",
      "https://www.realtor.com/realestateandhomes-detail/22440-Fairbury-Ave_Queens-Village_NY_11428_M31101-92126\n",
      "https://www.realtor.com/realestateandhomes-detail/4525-Greystone-Ave_Bronx_NY_10471_M43148-17601\n",
      "https://www.realtor.com/realestateandhomes-detail/7203-Ingram-St_Forest-Hills_NY_11375_M43977-27995\n",
      "https://www.realtor.com/realestateandhomes-detail/16521-144th-Dr_Jamaica_NY_11434_M37142-45235\n",
      "https://www.realtor.com/realestateandhomes-detail/7523-Narrows-Ave_Brooklyn_NY_11209_M49183-17834\n",
      "https://www.realtor.com/realestateandhomes-detail/6639-Jay-Ave_Maspeth_NY_11378_M46363-37452\n",
      "https://www.realtor.com/realestateandhomes-detail/8931-214th-St_Queens-Village_NY_11427_M33082-52387\n",
      "https://www.realtor.com/realestateandhomes-detail/9522-Flatlands-Ave_Brooklyn_NY_11236_M39722-69545\n",
      "https://www.realtor.com/realestateandhomes-detail/7422-14th-Ave_Brooklyn_NY_11228_M49819-56691\n",
      "https://www.realtor.com/realestateandhomes-detail/1413-81st-St_Brooklyn_NY_11228_M36837-63467\n",
      "https://www.realtor.com/realestateandhomes-detail/8211-Commonwealth-Blvd_Bellerose_NY_11426_M34306-29371\n",
      "https://www.realtor.com/realestateandhomes-detail/9115-164th-Ave_Howard-Beach_NY_11414_M35244-75683\n",
      "https://www.realtor.com/realestateandhomes-detail/987-Hylan-Blvd_Staten-Island_NY_10305_M45228-59325\n",
      "https://www.realtor.com/realestateandhomes-detail/77-Irvington-St_Staten-Island_NY_10312_M36689-94231\n",
      "https://www.realtor.com/realestateandhomes-detail/279-Huntington-Ave_Bronx_NY_10465_M44401-68858\n",
      "https://www.realtor.com/realestateandhomes-detail/10056-223rd-St_Queens-Village_NY_11429_M39330-29212\n",
      "https://www.realtor.com/realestateandhomes-detail/1415-157th-St_Whitestone_NY_11357_M49392-53926\n",
      "https://www.realtor.com/realestateandhomes-detail/1435-161st-St_Whitestone_NY_11357_M45400-12511\n",
      "https://www.realtor.com/realestateandhomes-detail/4485-Fieldston-Rd_Bronx_NY_10471_M43223-45321\n",
      "https://www.realtor.com/realestateandhomes-detail/117-Woodbine-Ave_Staten-Island_NY_10314_M39290-93543\n",
      "https://www.realtor.com/realestateandhomes-detail/2903-167th-St_Flushing_NY_11358_M36112-22054\n",
      "https://www.realtor.com/realestateandhomes-detail/10925-208th-St_Queens-Village_NY_11429_M44789-33631\n",
      "https://www.realtor.com/realestateandhomes-detail/18711-Aberdeen-Rd_Jamaica_NY_11432_M34720-04013\n",
      "https://www.realtor.com/realestateandhomes-detail/58-Darcey-Ave_Staten-Island_NY_10314_M44381-19720\n",
      "https://www.realtor.com/realestateandhomes-detail/30-Beverly-Rd_Staten-Island_NY_10305_M45418-27689\n",
      "https://www.realtor.com/realestateandhomes-detail/447-E-17th-St_Brooklyn_NY_11226_M42458-48827\n",
      "https://www.realtor.com/realestateandhomes-detail/3-Silver-Lake-Rd_Staten-Island_NY_10301_M44575-21458\n",
      "https://www.realtor.com/realestateandhomes-detail/15026-Sullivan-Dr_Whitestone_NY_11357_M44629-15663\n",
      "\n",
      "\n",
      "\n",
      "\n",
      " 20\n"
     ]
    },
    {
     "name": "stdout",
     "output_type": "stream",
     "text": [
      "mmmmmmmmmmmmmmmmmmmm https://www.realtor.com/realestateandhomes-search/Atlanta_GA/shw-nc/price-800000-na/pg-21\n",
      "https://www.realtor.com/realestateandhomes-detail/3-Silver-Lake-Rd_Staten-Island_NY_10301_M44575-21458\n",
      "https://www.realtor.com/realestateandhomes-detail/48-Kings-Pl_Brooklyn_NY_11223_M36694-25526\n",
      "https://www.realtor.com/realestateandhomes-detail/447-Greeley-Ave_Staten-Island_NY_10306_M33658-32640\n",
      "https://www.realtor.com/realestateandhomes-detail/Woodhaven_NY_11421_M31860-36543\n",
      "https://www.realtor.com/realestateandhomes-detail/16-E-76th-St_New-York_NY_10021_M40108-55204\n",
      "https://www.realtor.com/realestateandhomes-detail/87-Harris-Ln_Staten-Island_NY_10309_M35367-63631\n",
      "https://www.realtor.com/realestateandhomes-detail/1324-E-101st-St_Brooklyn_NY_11236_M38709-80562\n",
      "https://www.realtor.com/realestateandhomes-detail/18-Rowan-Ave_Staten-Island_NY_10306_M31903-86509\n",
      "https://www.realtor.com/realestateandhomes-detail/31-Bell-Point-Dr_Brooklyn_NY_11234_M43118-15445\n",
      "https://www.realtor.com/realestateandhomes-detail/267-Dover-St_Brooklyn_NY_11235_M36695-60068\n",
      "https://www.realtor.com/realestateandhomes-detail/60-82nd-St_Brooklyn_NY_11209_M36633-01316\n",
      "https://www.realtor.com/realestateandhomes-detail/382-Flagg-Pl_Staten-Island_NY_10304_M42256-77955\n",
      "https://www.realtor.com/realestateandhomes-detail/665-Hunter-Ave_Staten-Island_NY_10306_M35618-14232\n",
      "https://www.realtor.com/realestateandhomes-detail/5277-70th-St_Maspeth_NY_11378_M42125-22558\n",
      "https://www.realtor.com/realestateandhomes-detail/3915-Clarendon-Rd_Brooklyn_NY_11203_M46022-99492\n",
      "https://www.realtor.com/realestateandhomes-detail/7502-66th-Dr_Middle-Village_NY_11379_M47624-23880\n",
      "https://www.realtor.com/realestateandhomes-detail/915-Malba-Dr_Whitestone_NY_11357_M38918-18857\n",
      "https://www.realtor.com/realestateandhomes-detail/2878-W-16th-St_Brooklyn_NY_11224_M48085-07481\n",
      "https://www.realtor.com/realestateandhomes-detail/9228-218th-Pl_Queens-Village_NY_11428_M48800-37640\n",
      "https://www.realtor.com/realestateandhomes-detail/3-Gain-Ct_Brooklyn_NY_11229_M47103-70022\n",
      "https://www.realtor.com/realestateandhomes-detail/719-Correll-Ave_Staten-Island_NY_10309_M31757-06876\n",
      "https://www.realtor.com/realestateandhomes-detail/2318-32nd-St_Astoria_NY_11105_M42178-99003\n",
      "https://www.realtor.com/realestateandhomes-detail/455-Darlington-Ave_Staten-Island_NY_10309_M47138-08791\n",
      "https://www.realtor.com/realestateandhomes-detail/3032-84th-St_East-Elmhurst_NY_11370_M34146-72027\n",
      "https://www.realtor.com/realestateandhomes-detail/2028-65th-St_Brooklyn_NY_11204_M42040-62333\n",
      "https://www.realtor.com/realestateandhomes-detail/65-Pelton-Ave_Staten-Island_NY_10310_M47341-28176\n",
      "https://www.realtor.com/realestateandhomes-detail/327A-Mersereau-Ave_Staten-Island_NY_10303_M37118-08428\n",
      "https://www.realtor.com/realestateandhomes-detail/419-W-55th-St-Apt-2D_New-York_NY_10019_M33291-76404\n",
      "https://www.realtor.com/realestateandhomes-detail/2912-Schley-Ave_Bronx_NY_10465_M30033-28658\n",
      "https://www.realtor.com/realestateandhomes-detail/1645-72nd-St_Brooklyn_NY_11204_M46817-42258\n",
      "https://www.realtor.com/realestateandhomes-detail/7-Lexington-Ave-Apt-12F_New-York_NY_10010_M32891-23646\n",
      "https://www.realtor.com/realestateandhomes-detail/2931-170th-St_Flushing_NY_11358_M36826-60866\n",
      "https://www.realtor.com/realestateandhomes-detail/1620-68th-St_Brooklyn_NY_11204_M46346-60851\n",
      "https://www.realtor.com/realestateandhomes-detail/7906-214th-St_Oakland-Gardens_NY_11364_M34191-57758\n",
      "https://www.realtor.com/realestateandhomes-detail/21518-48th-Ave_Oakland-Gardens_NY_11364_M44144-67923\n",
      "https://www.realtor.com/realestateandhomes-detail/3366-11th-St_Astoria_NY_11106_M44565-25427\n",
      "https://www.realtor.com/realestateandhomes-detail/51-Tanglewood-Dr_Staten-Island_NY_10308_M36338-51225\n",
      "https://www.realtor.com/realestateandhomes-detail/543-Lexington-Ave_Brooklyn_NY_11221_M32338-74488\n",
      "https://www.realtor.com/realestateandhomes-detail/3169-Fairmount-Ave_Bronx_NY_10465_M31848-41618\n",
      "https://www.realtor.com/realestateandhomes-detail/86-Gaylord-Dr-S_Brooklyn_NY_11234_M45568-13305\n",
      "https://www.realtor.com/realestateandhomes-detail/12121-237th-St_Rosedale_NY_11422_M47088-56273\n",
      "https://www.realtor.com/realestateandhomes-detail/16651-20th-Rd_Whitestone_NY_11357_M39127-66689\n",
      "\n",
      "\n",
      "\n",
      "\n",
      " 21\n"
     ]
    },
    {
     "name": "stdout",
     "output_type": "stream",
     "text": [
      "mmmmmmmmmmmmmmmmmmmm https://www.realtor.com/realestateandhomes-search/Atlanta_GA/shw-nc/price-800000-na/pg-22\n",
      "https://www.realtor.com/realestateandhomes-detail/418-E-59th-St_New-York_NY_10022_M35030-81545\n",
      "https://www.realtor.com/realestateandhomes-detail/16651-20th-Rd_Whitestone_NY_11357_M39127-66689\n",
      "https://www.realtor.com/realestateandhomes-detail/563-W-139th-St_New-York_NY_10031_M98438-50281\n",
      "https://www.realtor.com/realestateandhomes-detail/290-19th-St_Brooklyn_NY_11215_M45976-69069\n",
      "https://www.realtor.com/realestateandhomes-detail/12035-144th-St_South-Ozone-Park_NY_11436_M33348-63419\n",
      "https://www.realtor.com/realestateandhomes-detail/19140-112th-Rd_Saint-Albans_NY_11412_M41115-65268\n",
      "https://www.realtor.com/realestateandhomes-detail/932-College-Point-Blvd_College-Point_NY_11356_M35175-46847\n",
      "https://www.realtor.com/realestateandhomes-detail/12702-97th-Ave_South-Richmond-Hill_NY_11419_M36051-17960\n",
      "https://www.realtor.com/realestateandhomes-detail/6-Caldera-Pl_Staten-Island_NY_10301_M43047-68361\n",
      "https://www.realtor.com/realestateandhomes-detail/5000-Iselin-Ave_Bronx_NY_10471_M48739-43482\n",
      "https://www.realtor.com/realestateandhomes-detail/4912-Surf-Ave_Brooklyn_NY_11224_M41391-32466\n",
      "https://www.realtor.com/realestateandhomes-detail/6917-Hessler-Ave_Arverne_NY_11692_M47852-57050\n",
      "https://www.realtor.com/realestateandhomes-detail/14529-4th-Ave_Whitestone_NY_11357_M38748-62854\n",
      "https://www.realtor.com/realestateandhomes-detail/14-Delafield-Way_Bronx_NY_10471_M94977-79067\n",
      "https://www.realtor.com/realestateandhomes-detail/5021-Surf-Ave_Brooklyn_NY_11224_M40693-33356\n",
      "https://www.realtor.com/realestateandhomes-detail/2314-National-Dr_Brooklyn_NY_11234_M38822-38728\n",
      "https://www.realtor.com/realestateandhomes-detail/26221-Hungry-Harbor-Rd_Jamaica_NY_11422_M40863-69119\n",
      "https://www.realtor.com/realestateandhomes-detail/8607-105th-St_Richmond-Hill_NY_11418_M43864-09817\n",
      "https://www.realtor.com/realestateandhomes-detail/3780-Willett-Ave_Bronx_NY_10467_M45323-21236\n",
      "https://www.realtor.com/realestateandhomes-detail/5828-218th-St_Oakland-Gardens_NY_11364_M45879-54183\n",
      "https://www.realtor.com/realestateandhomes-detail/197-Beach-24th-St_Far-Rockaway_NY_11691_M45961-35480\n",
      "https://www.realtor.com/realestateandhomes-detail/11611-148th-St_Jamaica_NY_11436_M45067-10576\n",
      "https://www.realtor.com/realestateandhomes-detail/11442-175th-Pl_Jamaica_NY_11434_M49599-69938\n",
      "https://www.realtor.com/realestateandhomes-detail/3028-94th-St_East-Elmhurst_NY_11369_M49108-45905\n",
      "https://www.realtor.com/realestateandhomes-detail/6614-254th-St_Little-Neck_NY_11362_M46307-38634\n",
      "https://www.realtor.com/realestateandhomes-detail/2623-Avenue-Y_Brooklyn_NY_11235_M47805-24122\n",
      "https://www.realtor.com/realestateandhomes-detail/803-Cross-Bay-Blvd_Far-Rockaway_NY_11693_M34265-40786\n",
      "https://www.realtor.com/realestateandhomes-detail/19303-85th-Rd_Hollis_NY_11423_M38703-16928\n",
      "https://www.realtor.com/realestateandhomes-detail/24-Fort-Charles-Pl_Bronx_NY_10463_M42310-22393\n",
      "https://www.realtor.com/realestateandhomes-detail/3963-Duryea-Ave_Bronx_NY_10466_M41077-95600\n",
      "https://www.realtor.com/realestateandhomes-detail/2143-E-28th-St_Brooklyn_NY_11229_M42060-22907\n",
      "https://www.realtor.com/realestateandhomes-detail/2162-62nd-St_Brooklyn_NY_11204_M34313-97282\n",
      "https://www.realtor.com/realestateandhomes-detail/122-30_South-Ozone-Park_NY_11420_M91921-68550\n",
      "https://www.realtor.com/realestateandhomes-detail/1765-Needham-Ave_Bronx_NY_10466_M39345-64147\n",
      "https://www.realtor.com/realestateandhomes-detail/227-King-St_Staten-Island_NY_10312_M43560-91084\n",
      "https://www.realtor.com/realestateandhomes-detail/12142-Laurelton-Pkwy_Rosedale_NY_11422_M38257-93573\n",
      "https://www.realtor.com/realestateandhomes-detail/53109-63rd-St_Maspeth_NY_11378_M44119-97702\n",
      "https://www.realtor.com/realestateandhomes-detail/5648-219th-St_Oakland-Gardens_NY_11364_M42601-04166\n",
      "https://www.realtor.com/realestateandhomes-detail/6926-Nansen-St_Forest-Hills_NY_11375_M40492-91432\n",
      "https://www.realtor.com/realestateandhomes-detail/9436-211th-St_Queens-Village_NY_11428_M47949-22930\n",
      "https://www.realtor.com/realestateandhomes-detail/2644-211th-St_Bayside_NY_11360_M46026-96975\n",
      "https://www.realtor.com/realestateandhomes-detail/1282-Edison-Ave_Bronx_NY_10461_M43033-13797\n",
      "\n",
      "\n",
      "\n",
      "\n",
      " 22\n"
     ]
    },
    {
     "name": "stdout",
     "output_type": "stream",
     "text": [
      "mmmmmmmmmmmmmmmmmmmm https://www.realtor.com/realestateandhomes-search/Atlanta_GA/shw-nc/price-800000-na/pg-23\n",
      "https://www.realtor.com/realestateandhomes-detail/6014-60th-Ave_Maspeth_NY_11378_M30585-77573\n",
      "https://www.realtor.com/realestateandhomes-detail/1282-Edison-Ave_Bronx_NY_10461_M43033-13797\n",
      "https://www.realtor.com/realestateandhomes-detail/14125-11th-Ave_Whitestone_NY_11357_M49797-77749\n",
      "https://www.realtor.com/realestateandhomes-detail/98-Kennington-St_Staten-Island_NY_10308_M38945-26492\n",
      "https://www.realtor.com/realestateandhomes-detail/11728-202nd-St_Saint-Albans_NY_11412_M49550-74801\n",
      "https://www.realtor.com/realestateandhomes-detail/75-Longview-Rd_Staten-Island_NY_10304_M41361-78460\n",
      "https://www.realtor.com/realestateandhomes-detail/11841-225th-St_Cambria-Heights_NY_11411_M41122-70172\n",
      "https://www.realtor.com/realestateandhomes-detail/201-E-23rd-St-5E_New-York_NY_10010_M94672-14679\n",
      "https://www.realtor.com/realestateandhomes-detail/328-149th-Pl_Whitestone_NY_11357_M37382-51503\n",
      "https://www.realtor.com/realestateandhomes-detail/15-Bovanizer-St_Staten-Island_NY_10312_M46132-61426\n",
      "https://www.realtor.com/realestateandhomes-detail/35-Monarch-Ct_Staten-Island_NY_10314_M42519-36992\n",
      "https://www.realtor.com/realestateandhomes-detail/2711-Edgehill-Ave_Bronx_NY_10463_M42949-85822\n",
      "https://www.realtor.com/realestateandhomes-detail/5005-212th-St_Oakland-Gardens_NY_11364_M32623-66120\n",
      "https://www.realtor.com/realestateandhomes-detail/11445-207th-St_Cambria-Heights_NY_11411_M37181-16521\n",
      "https://www.realtor.com/realestateandhomes-detail/214-Mayfair-Dr-N_Brooklyn_NY_11234_M31232-78617\n",
      "https://www.realtor.com/realestateandhomes-detail/2928-215th-St_Bayside_NY_11360_M47375-25155\n",
      "https://www.realtor.com/realestateandhomes-detail/16-Nicolosi-Loop_Staten-Island_NY_10312_M42697-71789\n",
      "https://www.realtor.com/realestateandhomes-detail/2363-E-64th-St_Brooklyn_NY_11234_M30668-20714\n",
      "https://www.realtor.com/realestateandhomes-detail/11154-178th-Pl_Jamaica_NY_11433_M37804-36550\n",
      "https://www.realtor.com/realestateandhomes-detail/10312-114th-St_South-Richmond-Hill_NY_11419_M45456-27593\n",
      "https://www.realtor.com/realestateandhomes-detail/3207-Ampere-Ave_Bronx_NY_10465_M39919-56847\n",
      "https://www.realtor.com/realestateandhomes-detail/2047-E-29th-St_Brooklyn_NY_11229_M40420-15494\n",
      "https://www.realtor.com/realestateandhomes-detail/5-Pleasant-Plains-Ave_Staten-Island_NY_10309_M32923-73244\n",
      "https://www.realtor.com/realestateandhomes-detail/1063-Hart-St_Brooklyn_NY_11237_M31545-35296\n",
      "https://www.realtor.com/realestateandhomes-detail/8018-261st-St_Glen-Oaks_NY_11004_M37343-35734\n",
      "https://www.realtor.com/realestateandhomes-detail/8509-85th-St_Woodhaven_NY_11421_M47902-26718\n",
      "https://www.realtor.com/realestateandhomes-detail/4425-Douglas-Ave_Bronx_NY_10471_M98325-29745\n",
      "https://www.realtor.com/realestateandhomes-detail/145-99th-St_Brooklyn_NY_11209_M31265-76393\n",
      "https://www.realtor.com/realestateandhomes-detail/2504-Humphrey-St_East-Elmhurst_NY_11369_M33224-28670\n",
      "https://www.realtor.com/realestateandhomes-detail/8-Cedar-Ave_Staten-Island_NY_10305_M36807-05887\n",
      "https://www.realtor.com/realestateandhomes-detail/4842-64th-St_Woodside_NY_11377_M47535-51436\n",
      "https://www.realtor.com/realestateandhomes-detail/14140-250th-St_Rosedale_NY_11422_M40060-37565\n",
      "https://www.realtor.com/realestateandhomes-detail/8989-Vanderveer-St_Jamaica_NY_11427_M33071-34409\n",
      "https://www.realtor.com/realestateandhomes-detail/7618-86th-Ave_Woodhaven_NY_11421_M32156-79414\n",
      "https://www.realtor.com/realestateandhomes-detail/NY_11221_M95798-20784\n",
      "https://www.realtor.com/realestateandhomes-detail/14A-Mesereau-Ct_Brooklyn_NY_11235_M95575-15054\n",
      "https://www.realtor.com/realestateandhomes-detail/1333-E-26th-St_Brooklyn_NY_11210_M34625-31311\n",
      "https://www.realtor.com/realestateandhomes-detail/699-Willowbrook-Rd_Staten-Island_NY_10314_M92402-20139\n",
      "https://www.realtor.com/realestateandhomes-detail/1238-Cross-Bay-Blvd_Far-Rockaway_NY_11693_M92378-64400\n",
      "https://www.realtor.com/realestateandhomes-detail/18609-Dormans-Rd_Saint-Albans_NY_11412_M90498-35382\n",
      "https://www.realtor.com/realestateandhomes-detail/2472-Stuart-St_Brooklyn_NY_11229_M49831-75034\n",
      "https://www.realtor.com/realestateandhomes-detail/6015-Independence-Ave_Bronx_NY_10471_M44765-79366\n",
      "\n",
      "\n",
      "\n",
      "\n",
      " 23\n"
     ]
    },
    {
     "name": "stdout",
     "output_type": "stream",
     "text": [
      "mmmmmmmmmmmmmmmmmmmm https://www.realtor.com/realestateandhomes-search/Atlanta_GA/shw-nc/price-800000-na/pg-24\n",
      "https://www.realtor.com/realestateandhomes-detail/107-Montreal-Ave_Staten-Island_NY_10306_M41832-25749\n",
      "https://www.realtor.com/realestateandhomes-detail/6015-Independence-Ave_Bronx_NY_10471_M44765-79366\n",
      "https://www.realtor.com/realestateandhomes-detail/868-Morris-Park-Ave_Bronx_NY_10462_M40188-04773\n",
      "https://www.realtor.com/realestateandhomes-detail/44-Olympia-Blvd_Staten-Island_NY_10305_M45453-11092\n",
      "https://www.realtor.com/realestateandhomes-detail/3025-Corlear-Ave_Bronx_NY_10463_M39837-69712\n",
      "https://www.realtor.com/realestateandhomes-detail/15536-115th-Ave_Jamaica_NY_11434_M45199-29317\n",
      "https://www.realtor.com/realestateandhomes-detail/4827-213th-St_Oakland-Gardens_NY_11364_M38948-23397\n",
      "https://www.realtor.com/realestateandhomes-detail/2405-82nd-St_Brooklyn_NY_11214_M32103-53381\n",
      "https://www.realtor.com/realestateandhomes-detail/17102-Courtney-Ave_Flushing_NY_11358_M41785-94806\n",
      "https://www.realtor.com/realestateandhomes-detail/2381-E-72nd-St_Brooklyn_NY_11234_M47081-22693\n",
      "https://www.realtor.com/realestateandhomes-detail/277-Jewett-Ave_Staten-Island_NY_10302_M47718-73134\n",
      "https://www.realtor.com/realestateandhomes-detail/86-Whitman-Dr_Brooklyn_NY_11234_M31408-68142\n",
      "https://www.realtor.com/realestateandhomes-detail/1527-Woodrow-Rd_Staten-Island_NY_10309_M38652-25312\n",
      "https://www.realtor.com/realestateandhomes-detail/19-Luna-Cir_Staten-Island_NY_10312_M41186-21126\n",
      "https://www.realtor.com/realestateandhomes-detail/1056-81st-St_Brooklyn_NY_11228_M44708-07577\n",
      "https://www.realtor.com/realestateandhomes-detail/New-York_NY_10004_M98704-86387\n",
      "https://www.realtor.com/realestateandhomes-detail/18261-Avon-Rd_Jamaica_NY_11432_M38215-68704\n",
      "https://www.realtor.com/realestateandhomes-detail/351-W-53-W-Unit-4E_New-York_NY_10019_M92621-46075\n",
      "https://www.realtor.com/realestateandhomes-detail/51-Cromwell-Cir_Staten-Island_NY_10304_M48134-38326\n",
      "https://www.realtor.com/realestateandhomes-detail/9506-68th-Ave_Forest-Hills_NY_11375_M35527-06301\n",
      "https://www.realtor.com/realestateandhomes-detail/3833-Amundson-Ave_Bronx_NY_10466_M42158-84747\n",
      "https://www.realtor.com/realestateandhomes-detail/20945-112th-Ave_Queens-Village_NY_11429_M34769-81203\n",
      "https://www.realtor.com/realestateandhomes-detail/13411-102nd-Ave_South-Richmond-Hill_NY_11419_M47378-30590\n",
      "https://www.realtor.com/realestateandhomes-detail/138-Wakeman-Pl_Brooklyn_NY_11220_M32738-25504\n",
      "https://www.realtor.com/realestateandhomes-detail/14-Van-Riper-St_Staten-Island_NY_10302_M47544-81679\n",
      "https://www.realtor.com/realestateandhomes-detail/243-E-61st-St_New-York_NY_10065_M41752-72543\n",
      "https://www.realtor.com/realestateandhomes-detail/1911-147th-St_Whitestone_NY_11357_M46251-75339\n",
      "https://www.realtor.com/realestateandhomes-detail/668-Stewart-Ave_Staten-Island_NY_10314_M39315-64468\n",
      "https://www.realtor.com/realestateandhomes-detail/75-Maplewood-Ave_Staten-Island_NY_10306_M45203-70730\n",
      "https://www.realtor.com/realestateandhomes-detail/5206-Bowne-St_Flushing_NY_11355_M31530-25919\n",
      "https://www.realtor.com/realestateandhomes-detail/315-W-35th-St_New-York_NY_10001_M90860-72274\n",
      "https://www.realtor.com/realestateandhomes-detail/8029-Shore-Rd_Brooklyn_NY_11209_M40784-90628\n",
      "https://www.realtor.com/realestateandhomes-detail/4711-212th-St_Bayside_NY_11361_M40849-62459\n",
      "https://www.realtor.com/realestateandhomes-detail/166-Pinewood-Ave_Staten-Island_NY_10306_M47585-24774\n",
      "https://www.realtor.com/realestateandhomes-detail/Richmond-Hill_NY_11418_M30185-89291\n",
      "https://www.realtor.com/realestateandhomes-detail/6015-78th-Ave_Ridgewood_NY_11385_M46729-78617\n",
      "https://www.realtor.com/realestateandhomes-detail/8622-77th-St_Woodhaven_NY_11421_M46459-41212\n",
      "https://www.realtor.com/realestateandhomes-detail/8522-211th-St_Queens-Village_NY_11427_M36638-83203\n",
      "https://www.realtor.com/realestateandhomes-detail/9317-201st-St_Hollis_NY_11423_M40140-80711\n",
      "https://www.realtor.com/realestateandhomes-detail/53-Evans-St_Staten-Island_NY_10314_M45146-28626\n",
      "https://www.realtor.com/realestateandhomes-detail/235-Oder-Ave_Staten-Island_NY_10304_M96734-06452\n",
      "https://www.realtor.com/realestateandhomes-detail/147-Wood-Ave_Staten-Island_NY_10307_M31185-53515\n",
      "\n",
      "\n",
      "\n",
      "\n",
      " 24\n"
     ]
    },
    {
     "name": "stdout",
     "output_type": "stream",
     "text": [
      "mmmmmmmmmmmmmmmmmmmm https://www.realtor.com/realestateandhomes-search/Atlanta_GA/shw-nc/price-800000-na/pg-25\n",
      "https://www.realtor.com/realestateandhomes-detail/69-Longview-Rd_Staten-Island_NY_10304_M49466-73517\n",
      "https://www.realtor.com/realestateandhomes-detail/793-Jackson-Ave_Bronx_NY_10456_M35736-25824\n",
      "https://www.realtor.com/realestateandhomes-detail/24047-68th-Ave_Little-Neck_NY_11362_M95253-23686\n",
      "https://www.realtor.com/realestateandhomes-detail/New-York_NY_10014_M95171-47973\n",
      "https://www.realtor.com/realestateandhomes-detail/2163-Ryder-St_Brooklyn_NY_11234_M49961-73908\n",
      "https://www.realtor.com/realestateandhomes-detail/3279-Barkley-Ave_Bronx_NY_10465_M31473-50154\n",
      "https://www.realtor.com/realestateandhomes-detail/2964-Avenue-T_Brooklyn_NY_11229_M39129-72981\n",
      "https://www.realtor.com/realestateandhomes-detail/2251-Plumb-1st-St-Apt-6C_Brooklyn_NY_11229_M49364-89275\n",
      "https://www.realtor.com/realestateandhomes-detail/9920-196th-St_Hollis_NY_11423_M47655-24473\n",
      "https://www.realtor.com/realestateandhomes-detail/3708-Avenue-M_Brooklyn_NY_11234_M44405-63376\n",
      "https://www.realtor.com/realestateandhomes-detail/399-Ocean-Ter_Staten-Island_NY_10301_M35842-95745\n",
      "https://www.realtor.com/realestateandhomes-detail/107-Utica-Ave_Brooklyn_NY_11213_M36011-15830\n",
      "https://www.realtor.com/realestateandhomes-detail/230-Woodrow-Rd_Staten-Island_NY_10312_M48319-77169\n",
      "https://www.realtor.com/realestateandhomes-detail/8655-Santiago-St_Hollis_NY_11423_M45762-83645\n",
      "https://www.realtor.com/realestateandhomes-detail/1357-Waring-Ave_Bronx_NY_10469_M47297-33455\n",
      "https://www.realtor.com/realestateandhomes-detail/2109-48th-St_Astoria_NY_11105_M36523-88325\n",
      "https://www.realtor.com/realestateandhomes-detail/2195-Linden-Blvd_Brooklyn_NY_11207_M35432-22226\n",
      "https://www.realtor.com/realestateandhomes-detail/3369-164th-St_Flushing_NY_11358_M35637-82509\n",
      "https://www.realtor.com/realestateandhomes-detail/14920-11th-Ave_Whitestone_NY_11357_M45390-54052\n",
      "https://www.realtor.com/realestateandhomes-detail/152-E-End-Ave_New-York_NY_10028_M34549-47768\n",
      "https://www.realtor.com/realestateandhomes-detail/811-150th-St_Whitestone_NY_11357_M40782-60368\n",
      "https://www.realtor.com/realestateandhomes-detail/1418-143rd-St_Whitestone_NY_11357_M37590-67421\n",
      "https://www.realtor.com/realestateandhomes-detail/14450-166th-St_Jamaica_NY_11434_M40411-55381\n",
      "https://www.realtor.com/realestateandhomes-detail/486-Ashford-St_Brooklyn_NY_11207_M46029-02045\n",
      "https://www.realtor.com/realestateandhomes-detail/3602-Avenue-K_Brooklyn_NY_11210_M42900-55681\n",
      "https://www.realtor.com/realestateandhomes-detail/3314-76th-St_Jackson-Heights_NY_11372_M45395-55873\n",
      "https://www.realtor.com/realestateandhomes-detail/1311-Dumont-Ave_Brooklyn_NY_11208_M43131-85236\n",
      "https://www.realtor.com/realestateandhomes-detail/2317-E-63rd-St_Brooklyn_NY_11234_M31859-59932\n",
      "https://www.realtor.com/realestateandhomes-detail/1432-Pearl-St_Far-Rockaway_NY_11691_M34292-73276\n",
      "https://www.realtor.com/realestateandhomes-detail/7503-181st-St_Fresh-Meadows_NY_11366_M31604-60734\n",
      "https://www.realtor.com/realestateandhomes-detail/44-Westbury-Ave_Staten-Island_NY_10301_M43206-80918\n",
      "https://www.realtor.com/realestateandhomes-detail/14019-Rose-Ave_Flushing_NY_11355_M33800-24147\n",
      "https://www.realtor.com/realestateandhomes-detail/12218-115th-Ave_South-Ozone-Park_NY_11420_M32485-29603\n",
      "https://www.realtor.com/realestateandhomes-detail/6815-Madeline-Ct_Brooklyn_NY_11220_M44039-36030\n",
      "https://www.realtor.com/realestateandhomes-detail/3730-Neptune-Ave_Brooklyn_NY_11224_M37121-20923\n",
      "https://www.realtor.com/realestateandhomes-detail/2420-National-Dr_Brooklyn_NY_11234_M34634-88853\n",
      "https://www.realtor.com/realestateandhomes-detail/395-E-7th-St_Brooklyn_NY_11218_M35928-63610\n",
      "https://www.realtor.com/realestateandhomes-detail/3763-Barnes-Ave_Bronx_NY_10467_M46013-75028\n",
      "https://www.realtor.com/realestateandhomes-detail/8715-258th-St_Floral-Park_NY_11001_M45781-36029\n",
      "https://www.realtor.com/realestateandhomes-detail/483-Van-Duzer-St_Staten-Island_NY_10304_M37392-58906\n",
      "https://www.realtor.com/realestateandhomes-detail/4953-Fresh-Meadow-Ln_Fresh-Meadows_NY_11365_M30409-29963\n",
      "https://www.realtor.com/realestateandhomes-detail/201-E-23rd-St-15C_New-York_NY_10010_M94985-54466\n",
      "\n",
      "\n",
      "\n",
      "\n",
      " 25\n"
     ]
    },
    {
     "name": "stdout",
     "output_type": "stream",
     "text": [
      "mmmmmmmmmmmmmmmmmmmm https://www.realtor.com/realestateandhomes-search/Atlanta_GA/shw-nc/price-800000-na/pg-26\n",
      "https://www.realtor.com/realestateandhomes-detail/2064-E-73rd-St_Brooklyn_NY_11234_M39858-94207\n",
      "https://www.realtor.com/realestateandhomes-detail/1888-Drumgoole-Rd-W_Staten-Island_NY_10309_M48040-90872\n",
      "https://www.realtor.com/realestateandhomes-detail/425-Quincy-Ave_Bronx_NY_10465_M41638-84236\n",
      "https://www.realtor.com/realestateandhomes-detail/201-E-23rd-St-15C_New-York_NY_10010_M94985-54466\n",
      "https://www.realtor.com/realestateandhomes-detail/3211-Ampere-Ave_Bronx_NY_10465_M42461-70586\n",
      "https://www.realtor.com/realestateandhomes-detail/1933-E-28th-St_Brooklyn_NY_11229_M38036-25260\n",
      "https://www.realtor.com/realestateandhomes-detail/12646-149th-St_Jamaica_NY_11436_M46661-39353\n",
      "https://www.realtor.com/realestateandhomes-detail/15-The-Oval_Staten-Island_NY_10304_M47325-69304\n",
      "https://www.realtor.com/realestateandhomes-detail/16016-Riverside-Dr_Whitestone_NY_11357_M35359-71967\n",
      "https://www.realtor.com/realestateandhomes-detail/9412-82nd-Pl_Ozone-Park_NY_11416_M37220-00403\n",
      "https://www.realtor.com/realestateandhomes-detail/16716-118th-Ave_Jamaica_NY_11434_M46055-94792\n",
      "https://www.realtor.com/realestateandhomes-detail/99-Excelsior-Ave_Staten-Island_NY_10309_M42748-50259\n",
      "https://www.realtor.com/realestateandhomes-detail/13849-102nd-Ave_Jamaica_NY_11435_M39184-75898\n",
      "https://www.realtor.com/realestateandhomes-detail/15423-28th-Ave_Flushing_NY_11354_M33090-79942\n",
      "https://www.realtor.com/realestateandhomes-detail/10210A-160th-Ave_Howard-Beach_NY_11414_M40067-29660\n",
      "https://www.realtor.com/realestateandhomes-detail/6290-Dry-Harbor-Rd_Middle-Village_NY_11379_M49567-06982\n",
      "https://www.realtor.com/realestateandhomes-detail/35-Jeffrey-Pl_Staten-Island_NY_10307_M48990-13525\n",
      "https://www.realtor.com/realestateandhomes-detail/373-Ocean-Ter_Staten-Island_NY_10301_M37900-62168\n",
      "https://www.realtor.com/realestateandhomes-detail/13720-Westgate-St_Springfield-Gardens_NY_11413_M37830-20495\n",
      "https://www.realtor.com/realestateandhomes-detail/15940-95th-St_Howard-Beach_NY_11414_M47353-45357\n",
      "https://www.realtor.com/realestateandhomes-detail/5314-Glenwood-Rd_Brooklyn_NY_11234_M49120-61527\n",
      "https://www.realtor.com/realestateandhomes-detail/14576-225th-St_Springfield-Gardens_NY_11413_M49913-31414\n",
      "https://www.realtor.com/realestateandhomes-detail/1044-Lafayette-Ave_Brooklyn_NY_11221_M47554-33410\n",
      "https://www.realtor.com/realestateandhomes-detail/2574-Stillwell-Ave_Brooklyn_NY_11223_M34288-99760\n",
      "https://www.realtor.com/realestateandhomes-detail/270-S-2nd-St_Brooklyn_NY_11211_M90521-95899\n",
      "https://www.realtor.com/realestateandhomes-detail/40-W-24th-St-6WEST_New-York_NY_10010_M90927-73063\n",
      "https://www.realtor.com/realestateandhomes-detail/322-Morningstar-Rd_Staten-Island_NY_10303_M33686-61703\n",
      "https://www.realtor.com/realestateandhomes-detail/6752-212th-St_Oakland-Gardens_NY_11364_M47344-25081\n",
      "https://www.realtor.com/realestateandhomes-detail/118-Van-Cortlandt-Ave_Staten-Island_NY_10301_M48492-12408\n",
      "https://www.realtor.com/realestateandhomes-detail/3329-166th-St_Flushing_NY_11358_M44679-07284\n",
      "https://www.realtor.com/realestateandhomes-detail/13069-227th-St_Springfield-Gardens_NY_11413_M32690-24555\n",
      "https://www.realtor.com/realestateandhomes-detail/10728-125th-St_S-Richmond-Hl_NY_11419_M31172-87177\n",
      "https://www.realtor.com/realestateandhomes-detail/21732-Corbett-Rd_Bayside_NY_11361_M41657-77768\n",
      "https://www.realtor.com/realestateandhomes-detail/40-Dimarco-Pl_Staten-Island_NY_10306_M35818-30046\n",
      "https://www.realtor.com/realestateandhomes-detail/118-E-28th-St_Brooklyn_NY_11226_M44786-31438\n",
      "https://www.realtor.com/realestateandhomes-detail/6731-52nd-Rd_Maspeth_NY_11378_M39156-62060\n",
      "https://www.realtor.com/realestateandhomes-detail/9112-91st-Ave_Woodhaven_NY_11421_M42902-42867\n",
      "https://www.realtor.com/realestateandhomes-detail/15704-82nd-St_Howard-Beach_NY_11414_M42425-03268\n",
      "https://www.realtor.com/realestateandhomes-detail/24809-Rushmore-Ave_Little-Neck_NY_11362_M41882-27089\n",
      "https://www.realtor.com/realestateandhomes-detail/6220-79th-St_Middle-Village_NY_11379_M30683-12911\n",
      "https://www.realtor.com/realestateandhomes-detail/273-Church-St_New-York_NY_10013_M99798-08855\n",
      "https://www.realtor.com/realestateandhomes-detail/13401-Linden-Blvd_South-Ozone-Park_NY_11420_M93212-56134\n",
      "\n",
      "\n",
      "\n",
      "\n",
      " 26\n"
     ]
    },
    {
     "name": "stdout",
     "output_type": "stream",
     "text": [
      "mmmmmmmmmmmmmmmmmmmm https://www.realtor.com/realestateandhomes-search/Atlanta_GA/shw-nc/price-800000-na/pg-27\n",
      "https://www.realtor.com/realestateandhomes-detail/333-Mayfair-Dr-N_Brooklyn_NY_11234_M30517-28007\n",
      "https://www.realtor.com/realestateandhomes-detail/71-Abingdon-Ave_Staten-Island_NY_10308_M37528-67273\n",
      "https://www.realtor.com/realestateandhomes-detail/1255-E-223rd-St_Bronx_NY_10466_M33062-57207\n",
      "https://www.realtor.com/realestateandhomes-detail/14620-111th-Ave_Jamaica_NY_11435_M45157-20711\n",
      "https://www.realtor.com/realestateandhomes-detail/1211-Ditmas-Ave_Brooklyn_NY_11218_M33493-79314\n",
      "https://www.realtor.com/realestateandhomes-detail/1489-E-55th-St_Brooklyn_NY_11234_M42755-75677\n",
      "https://www.realtor.com/realestateandhomes-detail/555-Kappock-St-Apt-16A_Bronx_NY_10463_M30196-74220\n",
      "https://www.realtor.com/realestateandhomes-detail/17119-Gladwin-Ave_Fresh-Meadows_NY_11365_M44021-21524\n",
      "https://www.realtor.com/realestateandhomes-detail/2826-160th-St_Flushing_NY_11358_M48025-75044\n",
      "https://www.realtor.com/realestateandhomes-detail/10-Hausman-St_Brooklyn_NY_11222_M41693-72815\n",
      "https://www.realtor.com/realestateandhomes-detail/6619-Commonwealth-Blvd_Little-Neck_NY_11362_M42711-25927\n",
      "https://www.realtor.com/realestateandhomes-detail/14733-249th-St_Rosedale_NY_11422_M40830-66268\n",
      "https://www.realtor.com/realestateandhomes-detail/7115-167th-St_Fresh-Meadows_NY_11365_M35885-93404\n",
      "https://www.realtor.com/realestateandhomes-detail/14716-Rockaway-Beach-Blvd_Rockaway-Park_NY_11694_M35616-92987\n",
      "https://www.realtor.com/realestateandhomes-detail/2059-Gerritsen-Ave_Brooklyn_NY_11229_M44911-49004\n",
      "https://www.realtor.com/realestateandhomes-detail/23-Vogel-Loop_Staten-Island_NY_10314_M48598-81136\n",
      "https://www.realtor.com/realestateandhomes-detail/69-Rockland-Ave_Staten-Island_NY_10306_M48802-93427\n",
      "https://www.realtor.com/realestateandhomes-detail/178-E-75th-St_New-York_NY_10021_M48707-29561\n",
      "https://www.realtor.com/realestateandhomes-detail/8510-Dumont-Ave_Ozone-Park_NY_11417_M43721-92600\n",
      "https://www.realtor.com/realestateandhomes-detail/13507-224th-St_Springfield-Gardens_NY_11413_M33245-13543\n",
      "https://www.realtor.com/realestateandhomes-detail/949-72nd-St_Brooklyn_NY_11228_M46296-31172\n",
      "https://www.realtor.com/realestateandhomes-detail/11422-197th-St_Saint-Albans_NY_11412_M48832-22915\n",
      "https://www.realtor.com/realestateandhomes-detail/304-W-18th-St_New-York_NY_10011_M99653-44717\n",
      "https://www.realtor.com/realestateandhomes-detail/1397-E-52nd-St_Brooklyn_NY_11234_M49895-18529\n",
      "https://www.realtor.com/realestateandhomes-detail/998-Annadale-Rd_Staten-Island_NY_10312_M37427-57226\n",
      "https://www.realtor.com/realestateandhomes-detail/3349-74th-St_Jackson-Heights_NY_11372_M35295-38257\n",
      "https://www.realtor.com/realestateandhomes-detail/2-Seafoam-St_Staten-Island_NY_10306_M33375-85056\n",
      "https://www.realtor.com/realestateandhomes-detail/1533-Beach-Ave_Bronx_NY_10460_M39060-20361\n",
      "https://www.realtor.com/realestateandhomes-detail/1392-W-7th-St_Brooklyn_NY_11204_M31032-99700\n",
      "https://www.realtor.com/realestateandhomes-detail/2809-Wickham-Ave_Bronx_NY_10469_M92541-64998\n",
      "https://www.realtor.com/realestateandhomes-detail/111-Hampton-Grn_Staten-Island_NY_10312_M37672-75894\n",
      "https://www.realtor.com/realestateandhomes-detail/9155-96th-St_Woodhaven_NY_11421_M38399-16846\n",
      "https://www.realtor.com/realestateandhomes-detail/160-E-105th-St_New-York_NY_10029_M94455-21233\n",
      "https://www.realtor.com/realestateandhomes-detail/602-76th-St_Brooklyn_NY_11209_M30524-37986\n",
      "https://www.realtor.com/realestateandhomes-detail/61-Greenleaf-Ave_Staten-Island_NY_10310_M37359-03045\n",
      "https://www.realtor.com/realestateandhomes-detail/3602-Tibbett-Ave_Bronx_NY_10463_M31302-56458\n",
      "https://www.realtor.com/realestateandhomes-detail/5630-215th-St_Oakland-Gardens_NY_11364_M42328-25496\n",
      "https://www.realtor.com/realestateandhomes-detail/10411-188th-St_Saint-Albans_NY_11412_M41973-17350\n",
      "https://www.realtor.com/realestateandhomes-detail/7207-112th-St_Forest-Hills_NY_11375_M41254-95913\n",
      "https://www.realtor.com/realestateandhomes-detail/2120-E-37th-St_Brooklyn_NY_11234_M37524-04185\n",
      "https://www.realtor.com/realestateandhomes-detail/2601-Avenue-P_Brooklyn_NY_11229_M44851-77007\n",
      "https://www.realtor.com/realestateandhomes-detail/11542-Springfield-Blvd_Cambria-Heights_NY_11411_M47794-82754\n",
      "\n",
      "\n",
      "\n",
      "\n",
      " 27\n"
     ]
    },
    {
     "name": "stdout",
     "output_type": "stream",
     "text": [
      "mmmmmmmmmmmmmmmmmmmm https://www.realtor.com/realestateandhomes-search/Atlanta_GA/shw-nc/price-800000-na/pg-28\n",
      "https://www.realtor.com/realestateandhomes-detail/1919-E-36th-St_Brooklyn_NY_11234_M49338-65252\n",
      "https://www.realtor.com/realestateandhomes-detail/1854-73rd-St_Brooklyn_NY_11204_M49463-67716\n",
      "https://www.realtor.com/realestateandhomes-detail/135-W-122nd-St-135W122_New-York_NY_10027_M96371-36585\n",
      "https://www.realtor.com/realestateandhomes-detail/15055-77th-Ave_Flushing_NY_11367_M39634-04104\n",
      "https://www.realtor.com/realestateandhomes-detail/13158-225th-St_Springfield-Gardens_NY_11413_M32863-90484\n",
      "https://www.realtor.com/realestateandhomes-detail/579-Beach-43rd-St_Far-Rockaway_NY_11691_M99224-51354\n",
      "https://www.realtor.com/realestateandhomes-detail/28-W-38th-St-Apt-2W_New-York_NY_10018_M39326-44261\n",
      "https://www.realtor.com/realestateandhomes-detail/617-W-227th-St_Bronx_NY_10463_M42192-53203\n",
      "https://www.realtor.com/realestateandhomes-detail/1677-E-34th-St_Brooklyn_NY_11234_M47806-71903\n",
      "https://www.realtor.com/realestateandhomes-detail/16320-21st-Rd_Whitestone_NY_11357_M47188-52992\n",
      "https://www.realtor.com/realestateandhomes-detail/2046-Stuart-St_Brooklyn_NY_11229_M49078-71997\n",
      "https://www.realtor.com/realestateandhomes-detail/5610-Avenue-N_Brooklyn_NY_11234_M33236-49090\n",
      "https://www.realtor.com/realestateandhomes-detail/491-E-49th-St_Brooklyn_NY_11203_M42733-73837\n",
      "https://www.realtor.com/realestateandhomes-detail/8059-268th-St_Glen-Oaks_NY_11004_M41773-52097\n",
      "https://www.realtor.com/realestateandhomes-detail/149-Revere-Ave_Bronx_NY_10465_M95734-27963\n",
      "https://www.realtor.com/realestateandhomes-detail/50-Poillon-Ave_Staten-Island_NY_10312_M93235-31402\n",
      "https://www.realtor.com/realestateandhomes-detail/177-Freedom-Ave_Staten-Island_NY_10314_M33940-09331\n",
      "https://www.realtor.com/realestateandhomes-detail/106-Vincent-Ave_Staten-Island_NY_10306_M45812-87951\n",
      "https://www.realtor.com/realestateandhomes-detail/25-Benjamin-Pl_Staten-Island_NY_10303_M46186-49244\n",
      "https://www.realtor.com/realestateandhomes-detail/3409-Corporal-Kennedy-St_Bayside_NY_11361_M97606-18608\n",
      "https://www.realtor.com/realestateandhomes-detail/16215-14th-Ave_Whitestone_NY_11357_M41933-43193\n",
      "https://www.realtor.com/realestateandhomes-detail/1902-E-1st-St_Brooklyn_NY_11223_M39129-09822\n",
      "https://www.realtor.com/realestateandhomes-detail/7846-64th-Pl_Ridgewood_NY_11385_M39056-93160\n",
      "https://www.realtor.com/realestateandhomes-detail/Southampton_NY_11223_M95189-98413\n",
      "https://www.realtor.com/realestateandhomes-detail/5508-Avenue-O_Brooklyn_NY_11234_M43760-96445\n",
      "https://www.realtor.com/realestateandhomes-detail/651-20th-St_Brooklyn_NY_11218_M44028-78062\n",
      "https://www.realtor.com/realestateandhomes-detail/1029-E-230th-St_Bronx_NY_10466_M30738-58566\n",
      "https://www.realtor.com/realestateandhomes-detail/211-Dover-Grn_Staten-Island_NY_10312_M38592-48240\n",
      "https://www.realtor.com/realestateandhomes-detail/25-Legion-Pl_Staten-Island_NY_10305_M47179-01044\n",
      "https://www.realtor.com/realestateandhomes-detail/7335-141st-Pl_Flushing_NY_11367_M38042-72935\n",
      "https://www.realtor.com/realestateandhomes-detail/12044-192nd-St_Saint-Albans_NY_11412_M36501-96452\n",
      "https://www.realtor.com/realestateandhomes-detail/3249-201st-St_Bayside_NY_11361_M36001-47069\n",
      "https://www.realtor.com/realestateandhomes-detail/22115-92nd-Ave_Queens-Village_NY_11428_M49544-20461\n",
      "https://www.realtor.com/realestateandhomes-detail/5959-58th-Rd_Maspeth_NY_11378_M31920-52807\n",
      "https://www.realtor.com/realestateandhomes-detail/1646-Radcliff-Ave_Bronx_NY_10462_M47745-23969\n",
      "https://www.realtor.com/realestateandhomes-detail/3152-Randall-Ave_Bronx_NY_10465_M34358-56783\n",
      "https://www.realtor.com/realestateandhomes-detail/626-88th-St_Brooklyn_NY_11228_M48529-32552\n",
      "https://www.realtor.com/realestateandhomes-detail/333-Travis-Ave_Staten-Island_NY_10314_M35094-67658\n",
      "https://www.realtor.com/realestateandhomes-detail/8210-Fort-Hamilton-Pkwy_Brooklyn_NY_11209_M43535-87816\n",
      "https://www.realtor.com/realestateandhomes-detail/3913-219th-St_Bayside_NY_11361_M42701-51449\n",
      "https://www.realtor.com/realestateandhomes-detail/101-West-Ter_Staten-Island_NY_10312_M47195-78868\n",
      "https://www.realtor.com/realestateandhomes-detail/16603-69th-Ave_Fresh-Meadows_NY_11365_M42552-70966\n",
      "\n",
      "\n",
      "\n",
      "\n",
      " 28\n"
     ]
    },
    {
     "name": "stdout",
     "output_type": "stream",
     "text": [
      "mmmmmmmmmmmmmmmmmmmm https://www.realtor.com/realestateandhomes-search/Atlanta_GA/shw-nc/price-800000-na/pg-29\n",
      "https://www.realtor.com/realestateandhomes-detail/1542-E-22nd-St_Brooklyn_NY_11210_M43640-19131\n",
      "https://www.realtor.com/realestateandhomes-detail/101-West-Ter_Staten-Island_NY_10312_M47195-78868\n",
      "https://www.realtor.com/realestateandhomes-detail/21425-28th-Ave_Bayside_NY_11360_M35501-44397\n",
      "https://www.realtor.com/realestateandhomes-detail/218-Beach-118th-St_Rockaway-Park_NY_11694_M30073-37912\n",
      "https://www.realtor.com/realestateandhomes-detail/15460-Riverside-Dr_Whitestone_NY_11357_M30222-23836\n",
      "https://www.realtor.com/realestateandhomes-detail/389-Manhattan-Ave_New-York_NY_10026_M96912-79087\n",
      "https://www.realtor.com/realestateandhomes-detail/276-Berry-St_Brooklyn_NY_11249_M92706-91945\n",
      "https://www.realtor.com/realestateandhomes-detail/946-Gerard-Ave_Bronx_NY_10452_M35936-37635\n",
      "https://www.realtor.com/realestateandhomes-detail/372-E-9th-St_Brooklyn_NY_11218_M30886-83227\n",
      "https://www.realtor.com/realestateandhomes-detail/2758-E-26th-St_Brooklyn_NY_11235_M43529-29624\n",
      "https://www.realtor.com/realestateandhomes-detail/6957-197th-St_Fresh-Meadows_NY_11365_M47548-42446\n",
      "https://www.realtor.com/realestateandhomes-detail/5810-83rd-Pl_Middle-Village_NY_11379_M94417-99966\n",
      "https://www.realtor.com/realestateandhomes-detail/2217-E-64th-St_Brooklyn_NY_11234_M32259-18469\n",
      "https://www.realtor.com/realestateandhomes-detail/1752-Zerega-Ave_Bronx_NY_10462_M41053-39440\n",
      "https://www.realtor.com/realestateandhomes-detail/310-E-46th-St-Apt-25V_New-York_NY_10017_M38901-89487\n",
      "https://www.realtor.com/realestateandhomes-detail/19332-Foothill-Ave_Hollis_NY_11423_M46057-65378\n",
      "https://www.realtor.com/realestateandhomes-detail/16-Berkshire-Ln_Staten-Island_NY_10309_M94710-48219\n",
      "https://www.realtor.com/realestateandhomes-detail/38-McDonald-St_Staten-Island_NY_10314_M42650-19418\n",
      "https://www.realtor.com/realestateandhomes-detail/3026-Kingsland-Ave_Bronx_NY_10469_M33459-11319\n",
      "https://www.realtor.com/realestateandhomes-detail/50-Brook-St_Staten-Island_NY_10301_M39088-92253\n",
      "https://www.realtor.com/realestateandhomes-detail/8019-266th-St_Floral-Park_NY_11004_M48999-42635\n",
      "https://www.realtor.com/realestateandhomes-detail/7511-15th-Ave_Brooklyn_NY_11228_M38649-66590\n",
      "https://www.realtor.com/realestateandhomes-detail/3302-Parsons-Blvd_Flushing_NY_11354_M40102-15506\n",
      "https://www.realtor.com/realestateandhomes-detail/19-Father-Capodanno-Blvd_Staten-Island_NY_10305_M42723-21584\n",
      "https://www.realtor.com/realestateandhomes-detail/535-Craig-Ave_Staten-Island_NY_10307_M34127-61834\n",
      "https://www.realtor.com/realestateandhomes-detail/2073-Bathgate-Ave_Bronx_NY_10457_M45292-33238\n",
      "https://www.realtor.com/realestateandhomes-detail/10242-85th-Dr_Richmond-Hill_NY_11418_M36145-75286\n",
      "https://www.realtor.com/realestateandhomes-detail/16249-13th-Ave_Whitestone_NY_11357_M41758-28200\n",
      "https://www.realtor.com/realestateandhomes-detail/2848-Brighton-4th-St_Brooklyn_NY_11235_M32295-90127\n",
      "https://www.realtor.com/realestateandhomes-detail/11344-198th-St_Saint-Albans_NY_11412_M35441-96368\n",
      "https://www.realtor.com/realestateandhomes-detail/2878-W-31st-St_Brooklyn_NY_11224_M46974-09698\n",
      "https://www.realtor.com/realestateandhomes-detail/16807-81st-Ave_Jamaica_NY_11432_M96874-76841\n",
      "https://www.realtor.com/realestateandhomes-detail/179-Benziger-Ave_Staten-Island_NY_10301_M48496-81641\n",
      "https://www.realtor.com/realestateandhomes-detail/150-Douglas-Rd_Staten-Island_NY_10304_M38168-78789\n",
      "https://www.realtor.com/realestateandhomes-detail/3415-91st-St_Jackson-Heights_NY_11372_M42690-42397\n",
      "https://www.realtor.com/realestateandhomes-detail/11202-Witthoff-Ave_Queens-Village_NY_11429_M34692-67152\n",
      "https://www.realtor.com/realestateandhomes-detail/203-Cortelyou-Ave_Staten-Island_NY_10312_M33409-35842\n",
      "https://www.realtor.com/realestateandhomes-detail/3240-213th-St_Bayside_NY_11361_M35267-54684\n",
      "https://www.realtor.com/realestateandhomes-detail/NY_11232_M99548-45118\n",
      "https://www.realtor.com/realestateandhomes-detail/2136-Richmond-Rd_Staten-Island_NY_10306_M37092-51599\n",
      "https://www.realtor.com/realestateandhomes-detail/13814-Brookville-Blvd_Rosedale_NY_11422_M42558-25000\n",
      "https://www.realtor.com/realestateandhomes-detail/10941-132nd-St_South-Ozone-Park_NY_11420_M33764-26317\n",
      "\n",
      "\n",
      "\n",
      "\n",
      " 29\n"
     ]
    },
    {
     "name": "stdout",
     "output_type": "stream",
     "text": [
      "mmmmmmmmmmmmmmmmmmmm https://www.realtor.com/realestateandhomes-search/Atlanta_GA/shw-nc/price-800000-na/pg-30\n",
      "https://www.realtor.com/realestateandhomes-detail/10941-132nd-St_South-Ozone-Park_NY_11420_M33764-26317\n",
      "https://www.realtor.com/realestateandhomes-detail/2509-E-29th-St_Brooklyn_NY_11235_M34975-20882\n",
      "https://www.realtor.com/realestateandhomes-detail/20-Linda-Ln_Staten-Island_NY_10312_M43663-65112\n",
      "https://www.realtor.com/realestateandhomes-detail/24-Martineau-St_Staten-Island_NY_10303_M37533-95293\n",
      "https://www.realtor.com/realestateandhomes-detail/6307-Ocean-Ave-N_Arverne_NY_11692_M45406-20504\n",
      "https://www.realtor.com/realestateandhomes-detail/9333-207th-St_Queens-Village_NY_11428_M49049-31992\n",
      "https://www.realtor.com/realestateandhomes-detail/7221-Avenue-N_Brooklyn_NY_11234_M92024-15736\n",
      "https://www.realtor.com/realestateandhomes-detail/14-Webers-Ct_Brooklyn_NY_11235_M42405-48840\n",
      "https://www.realtor.com/realestateandhomes-detail/8314-169th-St_Jamaica_NY_11432_M31262-77195\n",
      "https://www.realtor.com/realestateandhomes-detail/61-Queensdale-St_Staten-Island_NY_10309_M30860-68986\n",
      "https://www.realtor.com/realestateandhomes-detail/28-Hooker-Pl_Staten-Island_NY_10302_M33898-24537\n",
      "https://www.realtor.com/realestateandhomes-detail/19168-115th-Rd_Saint-Albans_NY_11412_M49652-16915\n",
      "https://www.realtor.com/realestateandhomes-detail/298-Van-Brunt-St_Brooklyn_NY_11231_M48150-36237\n",
      "https://www.realtor.com/realestateandhomes-detail/17211-Horace-Harding-Expy_Fresh-Meadows_NY_11365_M44876-32247\n",
      "https://www.realtor.com/realestateandhomes-detail/366-Neal-Dow-Ave_Staten-Island_NY_10314_M42443-67788\n",
      "https://www.realtor.com/realestateandhomes-detail/2452-E-74th-St_Brooklyn_NY_11234_M46932-90848\n",
      "https://www.realtor.com/realestateandhomes-detail/10830-67th-Ave_Forest-Hills_NY_11375_M39526-56471\n",
      "https://www.realtor.com/realestateandhomes-detail/20955-112th-Ave_Queens-Village_NY_11429_M31891-85255\n",
      "https://www.realtor.com/realestateandhomes-detail/146-Baltic-St_Brooklyn_NY_11201_M31216-49065\n",
      "https://www.realtor.com/realestateandhomes-detail/163-Boyd-St_Staten-Island_NY_10304_M44726-13462\n",
      "https://www.realtor.com/realestateandhomes-detail/665-Nasby-Pl_Far-Rockaway_NY_11691_M42251-12669\n",
      "https://www.realtor.com/realestateandhomes-detail/10212-62nd-Rd_Forest-Hills_NY_11375_M41532-71635\n",
      "https://www.realtor.com/realestateandhomes-detail/2921-Greene-Pl_Bronx_NY_10465_M48712-32239\n",
      "https://www.realtor.com/realestateandhomes-detail/935-Van-Nest-Ave_Bronx_NY_10462_M46360-48802\n",
      "https://www.realtor.com/realestateandhomes-detail/17806-69th-Ave_Fresh-Meadows_NY_11365_M49614-97841\n",
      "https://www.realtor.com/realestateandhomes-detail/2134-E-74th-St_Brooklyn_NY_11234_M40868-47645\n",
      "https://www.realtor.com/realestateandhomes-detail/531-Jewett-Ave_Staten-Island_NY_10302_M38171-05534\n",
      "https://www.realtor.com/realestateandhomes-detail/38-Mervin-St_Inwood_NY_11096_M45825-70369\n",
      "https://www.realtor.com/realestateandhomes-detail/2622-Avenue-Y_Brooklyn_NY_11235_M98677-28594\n",
      "https://www.realtor.com/realestateandhomes-detail/15416-27th-Ave_Flushing_NY_11354_M32477-83061\n",
      "https://www.realtor.com/realestateandhomes-detail/6812-60th-Rd_Maspeth_NY_11378_M45676-61914\n",
      "https://www.realtor.com/realestateandhomes-detail/2020-E-41st-St-Apt-2B_Brooklyn_NY_11234_M49236-70829\n",
      "https://www.realtor.com/realestateandhomes-detail/90-Justin-Ave_Staten-Island_NY_10306_M38326-78326\n",
      "https://www.realtor.com/realestateandhomes-detail/11766-127th-St_South-Ozone-Park_NY_11420_M37075-34217\n",
      "https://www.realtor.com/realestateandhomes-detail/10970-203rd-St_Saint-Albans_NY_11412_M40256-30004\n",
      "https://www.realtor.com/realestateandhomes-detail/1352-E-66th-St_Brooklyn_NY_11234_M45130-50709\n",
      "https://www.realtor.com/realestateandhomes-detail/16-Poland-Pl_Staten-Island_NY_10314_M33860-28335\n",
      "https://www.realtor.com/realestateandhomes-detail/821-E-12th-St_Brooklyn_NY_11230_M31541-15221\n",
      "https://www.realtor.com/realestateandhomes-detail/3114-77th-St_East-Elmhurst_NY_11370_M41983-60277\n",
      "https://www.realtor.com/realestateandhomes-detail/16433-97th-St_Howard-Beach_NY_11414_M46843-23207\n",
      "https://www.realtor.com/realestateandhomes-detail/17-Coleridge-St_Brooklyn_NY_11235_M45296-22681\n",
      "https://www.realtor.com/realestateandhomes-detail/16249-95th-St_Howard-Beach_NY_11414_M48766-95077\n",
      "\n",
      "\n",
      "\n",
      "\n",
      " 30\n"
     ]
    },
    {
     "name": "stdout",
     "output_type": "stream",
     "text": [
      "mmmmmmmmmmmmmmmmmmmm https://www.realtor.com/realestateandhomes-search/Atlanta_GA/shw-nc/price-800000-na/pg-31\n",
      "https://www.realtor.com/realestateandhomes-detail/17-Coleridge-St_Brooklyn_NY_11235_M45296-22681\n",
      "https://www.realtor.com/realestateandhomes-detail/2786-Brown-St_Brooklyn_NY_11235_M44354-73686\n",
      "https://www.realtor.com/realestateandhomes-detail/16249-95th-St_Howard-Beach_NY_11414_M48766-95077\n",
      "https://www.realtor.com/realestateandhomes-detail/6702-199th-St_Fresh-Meadows_NY_11365_M40490-24273\n",
      "https://www.realtor.com/realestateandhomes-detail/2272-Sedgwick-Ave_Bronx_NY_10468_M33781-14168\n",
      "https://www.realtor.com/realestateandhomes-detail/9-Mallow-St_Staten-Island_NY_10309_M44646-33475\n",
      "https://www.realtor.com/realestateandhomes-detail/296-E-48th-St_Brooklyn_NY_11203_M38156-39414\n",
      "https://www.realtor.com/realestateandhomes-detail/13528-226th-St_Springfield-Gardens_NY_11413_M33256-31522\n",
      "https://www.realtor.com/realestateandhomes-detail/11548-135th-St_South-Ozone-Park_NY_11420_M41080-77493\n",
      "https://www.realtor.com/realestateandhomes-detail/2906-Voorhies-Ave_Brooklyn_NY_11235_M39626-56706\n",
      "https://www.realtor.com/realestateandhomes-detail/8807-74th-Pl_Woodhaven_NY_11421_M49008-40259\n",
      "https://www.realtor.com/realestateandhomes-detail/186-Monahan-Ave_Staten-Island_NY_10314_M35475-53451\n",
      "https://www.realtor.com/realestateandhomes-detail/15404-25th-Ave_Whitestone_NY_11357_M32509-72188\n",
      "https://www.realtor.com/realestateandhomes-detail/95-Bryson-Ave_Staten-Island_NY_10302_M37795-82582\n",
      "https://www.realtor.com/realestateandhomes-detail/335-W-38th-St-Apt-4_New-York_NY_10018_M96861-62177\n",
      "https://www.realtor.com/realestateandhomes-detail/512-Lorimer-St_Brooklyn_NY_11211_M37220-32441\n",
      "https://www.realtor.com/realestateandhomes-detail/2239-E-63rd-St_Brooklyn_NY_11234_M37139-53252\n",
      "https://www.realtor.com/realestateandhomes-detail/414-E-182nd-St_Bronx_NY_10457_M30902-00645\n",
      "https://www.realtor.com/realestateandhomes-detail/3424-87th-St_Jackson-Heights_NY_11372_M41018-56007\n",
      "https://www.realtor.com/realestateandhomes-detail/162-Commodore-Cir-E_Arverne_NY_11692_M35491-84195\n",
      "https://www.realtor.com/realestateandhomes-detail/534-E-87th-St_New-York_NY_10128_M38631-44381\n",
      "https://www.realtor.com/realestateandhomes-detail/356-Hollywood-Ave_Little-Neck_NY_11363_M47872-66965\n",
      "https://www.realtor.com/realestateandhomes-detail/NY_11210_M92843-70871\n",
      "https://www.realtor.com/realestateandhomes-detail/3042-Harding-Ave_Bronx_NY_10465_M33566-21166\n",
      "https://www.realtor.com/realestateandhomes-detail/154-Beaumont-St_Brooklyn_NY_11235_M38340-98651\n",
      "https://www.realtor.com/realestateandhomes-detail/8647-Santiago-St_Hollis_NY_11423_M33544-12295\n",
      "https://www.realtor.com/realestateandhomes-detail/639-74th-St_Brooklyn_NY_11209_M48554-62784\n",
      "https://www.realtor.com/realestateandhomes-detail/30-Bridge-Ct_Staten-Island_NY_10305_M42324-20278\n",
      "https://www.realtor.com/realestateandhomes-detail/10228-216th-St_Queens-Village_NY_11429_M33019-80336\n",
      "https://www.realtor.com/realestateandhomes-detail/325-Colony-Ave_Staten-Island_NY_10306_M40621-29106\n",
      "https://www.realtor.com/realestateandhomes-detail/11614-Nashville-Blvd_Cambria-Heights_NY_11411_M40378-21042\n",
      "https://www.realtor.com/realestateandhomes-detail/132-E-36th-St_New-York_NY_10016_M48034-50014\n",
      "https://www.realtor.com/realestateandhomes-detail/707-Marcy-Ave_Staten-Island_NY_10309_M92099-40219\n",
      "https://www.realtor.com/realestateandhomes-detail/145-Roe-St_Staten-Island_NY_10310_M33835-92751\n",
      "https://www.realtor.com/realestateandhomes-detail/11640-217th-St_Cambria-Heights_NY_11411_M37672-08363\n",
      "https://www.realtor.com/realestateandhomes-detail/81-08-Main-St_Kew-Garden-Hills_NY_11367_M98330-84705\n",
      "https://www.realtor.com/realestateandhomes-detail/960-E-15th-St_Brooklyn_NY_11230_M32582-73531\n",
      "https://www.realtor.com/realestateandhomes-detail/728-Avenue-P_Brooklyn_NY_11223_M49128-52335\n",
      "https://www.realtor.com/realestateandhomes-detail/16403-33rd-Ave_Flushing_NY_11358_M44132-71041\n",
      "https://www.realtor.com/realestateandhomes-detail/16035-119th-Dr_Jamaica_NY_11434_M37317-45707\n",
      "https://www.realtor.com/realestateandhomes-detail/641-Classon-Ave-Unit-Retail_Brooklyn_NY_11238_M91105-26906\n",
      "https://www.realtor.com/realestateandhomes-detail/3701-Neptune-Ave_Brooklyn_NY_11224_M37643-21063\n",
      "\n",
      "\n",
      "\n",
      "\n",
      " 31\n"
     ]
    },
    {
     "name": "stdout",
     "output_type": "stream",
     "text": [
      "mmmmmmmmmmmmmmmmmmmm https://www.realtor.com/realestateandhomes-search/Atlanta_GA/shw-nc/price-800000-na/pg-32\n",
      "https://www.realtor.com/realestateandhomes-detail/641-Classon-Ave-Unit-Retail_Brooklyn_NY_11238_M91105-26906\n",
      "https://www.realtor.com/realestateandhomes-detail/3701-Neptune-Ave_Brooklyn_NY_11224_M37643-21063\n",
      "https://www.realtor.com/realestateandhomes-detail/78-Eleanor-St_Staten-Island_NY_10306_M47632-65069\n",
      "https://www.realtor.com/realestateandhomes-detail/3816-Avenue-R_Brooklyn_NY_11234_M48462-53021\n",
      "https://www.realtor.com/realestateandhomes-detail/504-McClean-Ave_Staten-Island_NY_10305_M45971-67614\n",
      "https://www.realtor.com/realestateandhomes-detail/358-Linden-Blvd_Brooklyn_NY_11203_M42980-60338\n",
      "https://www.realtor.com/realestateandhomes-detail/3524-Avenue-M_Brooklyn_NY_11234_M44774-93925\n",
      "https://www.realtor.com/realestateandhomes-detail/81-Portsmouth-Ave_Staten-Island_NY_10301_M43457-24854\n",
      "https://www.realtor.com/realestateandhomes-detail/934-123rd-St_College-Point_NY_11356_M47035-25317\n",
      "https://www.realtor.com/realestateandhomes-detail/11944-177th-Pl_Jamaica_NY_11434_M44536-24278\n",
      "https://www.realtor.com/realestateandhomes-detail/2311-Cortelyou-Rd_Brooklyn_NY_11226_M92859-04873\n",
      "https://www.realtor.com/realestateandhomes-detail/4325-Hylan-Blvd_Staten-Island_NY_10312_M31486-00015\n",
      "https://www.realtor.com/realestateandhomes-detail/933-Edgegrove-Ave_Staten-Island_NY_10309_M30877-83219\n",
      "https://www.realtor.com/realestateandhomes-detail/108-Celeste-Ct_Brooklyn_NY_11229_M48791-75296\n",
      "https://www.realtor.com/realestateandhomes-detail/8820-75th-Ave_Ridgewood_NY_11385_M45102-48395\n",
      "https://www.realtor.com/realestateandhomes-detail/46-Smith-Ter_Staten-Island_NY_10304_M44530-48842\n",
      "https://www.realtor.com/realestateandhomes-detail/1664-E-35th-St_Brooklyn_NY_11234_M47707-76892\n",
      "https://www.realtor.com/realestateandhomes-detail/115-W-122nd-St_New-York_NY_10027_M33975-86036\n",
      "https://www.realtor.com/realestateandhomes-detail/21908-38th-Ave_Bayside_NY_11361_M47024-68053\n",
      "https://www.realtor.com/realestateandhomes-detail/1163-Linwood-St_Brooklyn_NY_11239_M33645-95313\n",
      "https://www.realtor.com/realestateandhomes-detail/23107-126th-Ave_Springfield-Gardens_NY_11413_M31957-83773\n",
      "https://www.realtor.com/realestateandhomes-detail/8771-111th-St_Richmond-Hill_NY_11418_M32152-53745\n",
      "https://www.realtor.com/realestateandhomes-detail/70-Topside-Ln_Staten-Island_NY_10309_M32356-24367\n",
      "https://www.realtor.com/realestateandhomes-detail/855-E-215th-St_Bronx_NY_10467_M46451-99776\n",
      "https://www.realtor.com/realestateandhomes-detail/61-Woodhaven-Ave_Staten-Island_NY_10301_M34495-04831\n",
      "https://www.realtor.com/realestateandhomes-detail/NY_M31340-28601\n",
      "https://www.realtor.com/realestateandhomes-detail/776-Hewitt-Pl_Bronx_NY_10455_M34837-74488\n",
      "https://www.realtor.com/realestateandhomes-detail/68-Tier-St_Bronx_NY_10464_M45241-71367\n",
      "https://www.realtor.com/realestateandhomes-detail/1773-Coleman-St_Brooklyn_NY_11234_M43836-46910\n",
      "https://www.realtor.com/realestateandhomes-detail/35-Stuyvesant-St_New-York_NY_10003_M39860-58832\n",
      "https://www.realtor.com/realestateandhomes-detail/16230-89th-St_Howard-Beach_NY_11414_M34594-83880\n",
      "https://www.realtor.com/realestateandhomes-detail/11814-196th-St_Saint-Albans_NY_11412_M37308-11613\n",
      "https://www.realtor.com/realestateandhomes-detail/3224-157th-St_Flushing_NY_11354_M32832-22972\n",
      "https://www.realtor.com/realestateandhomes-detail/2201-Palmer-Ave_Bronx_NY_10475_M36194-69231\n",
      "https://www.realtor.com/realestateandhomes-detail/2403-88th-St_East-Elmhurst_NY_11369_M37318-63283\n",
      "https://www.realtor.com/realestateandhomes-detail/11-Sigma-Pl_Bronx_NY_10471_M34356-30039\n",
      "https://www.realtor.com/realestateandhomes-detail/14640-Farmers-Blvd_Jamaica_NY_11434_M46502-25573\n",
      "https://www.realtor.com/realestateandhomes-detail/1138-Vincent-Ave_Bronx_NY_10465_M41755-55569\n",
      "https://www.realtor.com/realestateandhomes-detail/1456-Castleton-Ave_Staten-Island_NY_10302_M49396-18881\n",
      "https://www.realtor.com/realestateandhomes-detail/10576-Avenue-K_Brooklyn_NY_11236_M33808-81630\n",
      "https://www.realtor.com/realestateandhomes-detail/7-Center-Dr_Little-Neck_NY_11363_M48301-60065\n",
      "https://www.realtor.com/realestateandhomes-detail/5-Bayview-Ave_Howard-Beach_NY_11414_M47023-97189\n",
      "\n",
      "\n",
      "\n",
      "\n",
      " 32\n"
     ]
    },
    {
     "name": "stdout",
     "output_type": "stream",
     "text": [
      "mmmmmmmmmmmmmmmmmmmm https://www.realtor.com/realestateandhomes-search/Atlanta_GA/shw-nc/price-800000-na/pg-33\n",
      "https://www.realtor.com/realestateandhomes-detail/5622-210th-St_Oakland-Gardens_NY_11364_M49181-83444\n",
      "https://www.realtor.com/realestateandhomes-detail/3170-Ampere-Ave_Bronx_NY_10465_M40556-44343\n",
      "https://www.realtor.com/realestateandhomes-detail/3412-Hunter-Ave_Bronx_NY_10475_M41753-69239\n",
      "https://www.realtor.com/realestateandhomes-detail/650-City-Island-Ave_Bronx_NY_10464_M91764-34666\n",
      "https://www.realtor.com/realestateandhomes-detail/13637-72nd-Ave_Flushing_NY_11367_M33459-15660\n",
      "https://www.realtor.com/realestateandhomes-detail/8604-Little-Neck-Pkwy_Floral-Park_NY_11001_M48643-16394\n",
      "https://www.realtor.com/realestateandhomes-detail/192-Gansevoort-Blvd_Staten-Island_NY_10314_M48711-37377\n",
      "https://www.realtor.com/realestateandhomes-detail/10154-103rd-St_Ozone-Park_NY_11416_M39777-45194\n",
      "https://www.realtor.com/realestateandhomes-detail/10230-Davenport-Ct_Howard-Beach_NY_11414_M44809-56661\n",
      "https://www.realtor.com/realestateandhomes-detail/12266-Nellis-St_Springfield-Gardens_NY_11413_M38847-98859\n",
      "https://www.realtor.com/realestateandhomes-detail/192-Bathgate-St_Staten-Island_NY_10312_M35469-72940\n",
      "https://www.realtor.com/realestateandhomes-detail/12-W-14th-Rd_Far-Rockaway_NY_11693_M46643-42364\n",
      "https://www.realtor.com/realestateandhomes-detail/10719-96th-St_Ozone-Park_NY_11417_M35230-12865\n",
      "https://www.realtor.com/realestateandhomes-detail/12602-150th-Ave_South-Ozone-Park_NY_11420_M49191-75103\n",
      "https://www.realtor.com/realestateandhomes-detail/11436-Sutter-Ave_South-Ozone-Park_NY_11420_M44872-21192\n",
      "https://www.realtor.com/realestateandhomes-detail/3422-87th-St_Jackson-Heights_NY_11372_M34662-12048\n",
      "https://www.realtor.com/realestateandhomes-detail/14443-75th-Ave_Flushing_NY_11367_M38229-11501\n",
      "https://www.realtor.com/realestateandhomes-detail/4734-Glenwood-St_Little-Neck_NY_11362_M44897-25530\n",
      "https://www.realtor.com/realestateandhomes-detail/6810-60th-Dr_Maspeth_NY_11378_M45020-69484\n",
      "https://www.realtor.com/realestateandhomes-detail/641-Georgia-Ave_Brooklyn_NY_11207_M45177-41143\n",
      "https://www.realtor.com/realestateandhomes-detail/81-Dictum-Ct_Brooklyn_NY_11229_M48060-96782\n",
      "https://www.realtor.com/realestateandhomes-detail/21629-28th-Ave_Bayside_NY_11360_M40062-34044\n",
      "https://www.realtor.com/realestateandhomes-detail/84102-Austin-St_Kew-Gardens_NY_11415_M49538-70399\n",
      "https://www.realtor.com/realestateandhomes-detail/5222-Browvale-Ln_Little-Neck_NY_11362_M43182-85229\n",
      "https://www.realtor.com/realestateandhomes-detail/270-Milford-St_Brooklyn_NY_11208_M40870-62498\n",
      "https://www.realtor.com/realestateandhomes-detail/743-E-49th-St_Brooklyn_NY_11203_M44462-16427\n",
      "https://www.realtor.com/realestateandhomes-detail/6927-43rd-Ave_Woodside_NY_11377_M31858-59140\n",
      "https://www.realtor.com/realestateandhomes-detail/2701-Bayswater-Ave_Far-Rockaway_NY_11691_M35046-95691\n",
      "https://www.realtor.com/realestateandhomes-detail/17906-146th-Rd_Jamaica_NY_11434_M48013-38970\n",
      "https://www.realtor.com/realestateandhomes-detail/26-Cherry-St_Little-Neck_NY_11363_M38252-44520\n",
      "https://www.realtor.com/realestateandhomes-detail/4557-157th-St_Flushing_NY_11355_M38228-22447\n",
      "https://www.realtor.com/realestateandhomes-detail/15114-33rd-Ave_Flushing_NY_11354_M45307-45887\n",
      "https://www.realtor.com/realestateandhomes-detail/60-E-13th-St-Apt-2E_New-York_NY_10003_M92928-61771\n",
      "https://www.realtor.com/realestateandhomes-detail/21820-36th-Ave_Bayside_NY_11361_M45610-86661\n",
      "https://www.realtor.com/realestateandhomes-detail/4947-166th-St_Fresh-Meadows_NY_11365_M44381-94955\n",
      "https://www.realtor.com/realestateandhomes-detail/58-Hope-Ln_Staten-Island_NY_10305_M39159-32857\n",
      "https://www.realtor.com/realestateandhomes-detail/12254-Grayson-St_Springfield-Gardens_NY_11413_M39046-24340\n",
      "https://www.realtor.com/realestateandhomes-detail/217-W-20th-St_New-York_NY_10011_M48012-64223\n",
      "https://www.realtor.com/realestateandhomes-detail/255-Saint-Marys-Ave_Staten-Island_NY_10305_M32216-64007\n",
      "https://www.realtor.com/realestateandhomes-detail/41-Wolcott-St-Unit-House_Brooklyn_NY_11231_M97446-69674\n",
      "https://www.realtor.com/realestateandhomes-detail/310-E-46th-St-Ph-G_New-York_NY_10017_M34692-00292\n",
      "https://www.realtor.com/realestateandhomes-detail/150-Riche-Ave_Staten-Island_NY_10314_M95728-87577\n",
      "\n",
      "\n",
      "\n",
      "\n",
      " 33\n"
     ]
    },
    {
     "name": "stdout",
     "output_type": "stream",
     "text": [
      "mmmmmmmmmmmmmmmmmmmm https://www.realtor.com/realestateandhomes-search/Atlanta_GA/shw-nc/price-800000-na/pg-34\n",
      "https://www.realtor.com/realestateandhomes-detail/150-Riche-Ave_Staten-Island_NY_10314_M95728-87577\n",
      "https://www.realtor.com/realestateandhomes-detail/1991-Morris-Ave_Bronx_NY_10453_M92640-26222\n",
      "https://www.realtor.com/realestateandhomes-detail/427-7th-Ave-Store2_Brooklyn_NY_11215_M96369-26706\n",
      "https://www.realtor.com/realestateandhomes-detail/6955-Kessel-St_Forest-Hills_NY_11375_M40004-35781\n",
      "https://www.realtor.com/realestateandhomes-detail/14458-Boulevard_Whitestone_NY_11357_M96158-58762\n",
      "https://www.realtor.com/realestateandhomes-detail/687-N-Saratoga-Ave-NE_Brownsville_NY_11212_M96168-30857\n",
      "https://www.realtor.com/realestateandhomes-detail/19154-115th-Rd_Saint-Albans_NY_11412_M49629-43693\n",
      "https://www.realtor.com/realestateandhomes-detail/7320-170th-St_Fresh-Meadows_NY_11366_M43603-82445\n",
      "https://www.realtor.com/realestateandhomes-detail/21741-112th-Rd_Queens-Village_NY_11429_M32904-27894\n",
      "https://www.realtor.com/realestateandhomes-detail/8043-208th-St_Queens-Village_NY_11427_M30584-89743\n",
      "https://www.realtor.com/realestateandhomes-detail/1260-E-100th-St_Brooklyn_NY_11236_M34950-64478\n",
      "https://www.realtor.com/realestateandhomes-detail/139-35-182S-St_Springfield-Gardens_NY_11413_M91635-20140\n",
      "https://www.realtor.com/realestateandhomes-detail/17002-144th-Ave_Jamaica_NY_11434_M34850-47093\n",
      "https://www.realtor.com/realestateandhomes-detail/156-10th-St_Brooklyn_NY_11215_M33713-84593\n",
      "https://www.realtor.com/realestateandhomes-detail/859-Lamont-Ave_Staten-Island_NY_10309_M47238-33330\n",
      "https://www.realtor.com/realestateandhomes-detail/82-Piedmont-Ave_Staten-Island_NY_10305_M42384-76621\n",
      "https://www.realtor.com/realestateandhomes-detail/430-E-136th-St_Bronx_NY_10454_M49235-95963\n",
      "https://www.realtor.com/realestateandhomes-detail/1248A-78th-St_Brooklyn_NY_11228_M49296-49675\n",
      "https://www.realtor.com/realestateandhomes-detail/16305-91st-St_Howard-Beach_NY_11414_M49348-16649\n",
      "https://www.realtor.com/realestateandhomes-detail/9518-Linden-Blvd_Ozone-Park_NY_11417_M38226-73384\n",
      "https://www.realtor.com/realestateandhomes-detail/5648-210th-St_Oakland-Gardens_NY_11364_M43862-48158\n",
      "https://www.realtor.com/realestateandhomes-detail/2544-Fish-Ave_Bronx_NY_10469_M31310-50416\n",
      "https://www.realtor.com/realestateandhomes-detail/6416-211th-St_Oakland-Gardens_NY_11364_M30530-19873\n",
      "https://www.realtor.com/realestateandhomes-detail/55-Whitlock-Ave_Staten-Island_NY_10304_M35891-03051\n",
      "https://www.realtor.com/realestateandhomes-detail/5434-65th-Pl_Maspeth_NY_11378_M35577-66245\n",
      "https://www.realtor.com/realestateandhomes-detail/16818-118th-Rd-12369-10_Jamaica_NY_11434_M99451-97881\n",
      "https://www.realtor.com/realestateandhomes-detail/5931-163rd-St_Fresh-Meadows_NY_11365_M33301-65465\n",
      "https://www.realtor.com/realestateandhomes-detail/388-Fenimore-St_Brooklyn_NY_11225_M44281-36086\n",
      "https://www.realtor.com/realestateandhomes-detail/2834-Corporal-Kennedy-St_Bayside_NY_11360_M39449-68835\n",
      "https://www.realtor.com/realestateandhomes-detail/24-Bancroft-Ave_Staten-Island_NY_10306_M48100-74944\n",
      "https://www.realtor.com/realestateandhomes-detail/11448-199th-St_Saint-Albans_NY_11412_M45813-77004\n",
      "https://www.realtor.com/realestateandhomes-detail/114-E-13th-St-3_New-York_NY_10003_M93801-83099\n",
      "https://www.realtor.com/realestateandhomes-detail/Withheld-St_Howard-Beach_NY_11414_M97815-51773\n",
      "https://www.realtor.com/realestateandhomes-detail/4622-Avenue-M_Brooklyn_NY_11234_M42232-91559\n",
      "https://www.realtor.com/realestateandhomes-detail/1019-E-228th-St_Bronx_NY_10466_M32196-13891\n",
      "https://www.realtor.com/realestateandhomes-detail/3114-Neptune-Ave_Brooklyn_NY_11224_M33490-38846\n",
      "https://www.realtor.com/realestateandhomes-detail/1274-E-5th-St_Brooklyn_NY_11230_M37989-81538\n",
      "https://www.realtor.com/realestateandhomes-detail/4635-Matilda-Ave_Bronx_NY_10470_M48738-94568\n",
      "https://www.realtor.com/realestateandhomes-detail/837-Swinton-Ave_Bronx_NY_10465_M33639-62556\n",
      "https://www.realtor.com/realestateandhomes-detail/2121-E-17th-St_Brooklyn_NY_11229_M40170-19493\n",
      "https://www.realtor.com/realestateandhomes-detail/5312-199th-St_Fresh-Meadows_NY_11365_M47042-76934\n",
      "https://www.realtor.com/realestateandhomes-detail/1542-145th-Pl_Whitestone_NY_11357_M36355-92055\n",
      "\n",
      "\n",
      "\n",
      "\n",
      " 34\n"
     ]
    },
    {
     "name": "stdout",
     "output_type": "stream",
     "text": [
      "mmmmmmmmmmmmmmmmmmmm https://www.realtor.com/realestateandhomes-search/Atlanta_GA/shw-nc/price-800000-na/pg-35\n",
      "https://www.realtor.com/realestateandhomes-detail/5043-192nd-St_Fresh-Meadows_NY_11365_M43048-65637\n",
      "https://www.realtor.com/realestateandhomes-detail/945-E-32nd-St_Brooklyn_NY_11210_M47713-55417\n",
      "https://www.realtor.com/realestateandhomes-detail/21538-112th-Ave_Queens-Village_NY_11429_M32467-23870\n",
      "https://www.realtor.com/realestateandhomes-detail/6125-165th-St_Fresh-Meadows_NY_11365_M46233-86880\n",
      "https://www.realtor.com/realestateandhomes-detail/516-Beach-45th-St_Far-Rockaway_NY_11691_M36771-92219\n",
      "https://www.realtor.com/realestateandhomes-detail/6418-84th-Pl_Middle-Village_NY_11379_M42347-58953\n",
      "https://www.realtor.com/realestateandhomes-detail/5628-213th-St_Oakland-Gardens_NY_11364_M42307-74646\n",
      "https://www.realtor.com/realestateandhomes-detail/335-E-59th-St_Brooklyn_NY_11203_M43850-35196\n",
      "https://www.realtor.com/realestateandhomes-detail/406-E-58th-St_Brooklyn_NY_11203_M44276-20721\n",
      "https://www.realtor.com/realestateandhomes-detail/21440-24th-Ave_Bayside_NY_11360_M32407-01309\n",
      "https://www.realtor.com/realestateandhomes-detail/8514-Sutter-Ave_Ozone-Park_NY_11417_M44578-20809\n",
      "https://www.realtor.com/realestateandhomes-detail/11402-Sutter-Ave_South-Ozone-Park_NY_11420_M41661-42203\n",
      "https://www.realtor.com/realestateandhomes-detail/600-W-115th-St-1004_New-York_NY_10025_M91557-93712\n",
      "https://www.realtor.com/realestateandhomes-detail/3232-Plunkett-Ave_Far-Rockaway_NY_11691_M34720-17312\n",
      "https://www.realtor.com/realestateandhomes-detail/110-W-13th-St_New-York_NY_10011_M44856-08790\n",
      "https://www.realtor.com/realestateandhomes-detail/24457-89th-Ave_Bellerose_NY_11426_M37319-48484\n",
      "https://www.realtor.com/realestateandhomes-detail/14539-115th-Ave_South-Ozone-Park_NY_11436_M43188-90227\n",
      "https://www.realtor.com/realestateandhomes-detail/16615-Douglas-Ave_Jamaica_NY_11433_M32333-72513\n",
      "https://www.realtor.com/realestateandhomes-detail/1156-Beach-9th-St_Far-Rockaway_NY_11691_M35865-98009\n",
      "https://www.realtor.com/realestateandhomes-detail/10032-199th-St_Hollis_NY_11423_M35131-86029\n",
      "https://www.realtor.com/realestateandhomes-detail/62-Todt-Hill-Rd_Staten-Island_NY_10314_M32413-35350\n",
      "https://www.realtor.com/realestateandhomes-detail/1702-Clintonville-St_Whitestone_NY_11357_M40810-69131\n",
      "https://www.realtor.com/realestateandhomes-detail/2149-Ryder-St_Brooklyn_NY_11234_M48510-23062\n",
      "https://www.realtor.com/realestateandhomes-detail/5247-Independence-Ave_Bronx_NY_10471_M36310-62088\n",
      "https://www.realtor.com/realestateandhomes-detail/2046-E-36th-St_Brooklyn_NY_11234_M31527-79945\n",
      "https://www.realtor.com/realestateandhomes-detail/5740-164th-St_Fresh-Meadows_NY_11365_M39153-39262\n",
      "https://www.realtor.com/realestateandhomes-detail/1175-York-Ave-Apt-17D_New-York_NY_10065_M98103-47740\n",
      "https://www.realtor.com/realestateandhomes-detail/10-Harris-Ln_Staten-Island_NY_10309_M94904-77109\n",
      "https://www.realtor.com/realestateandhomes-detail/5-Osprey-Ct_Staten-Island_NY_10308_M37221-03547\n",
      "https://www.realtor.com/realestateandhomes-detail/3605-Flatlands-Ave_Brooklyn_NY_11234_M35277-09444\n",
      "https://www.realtor.com/realestateandhomes-detail/9219-178th-St_Jamaica_NY_11433_M40485-14442\n",
      "https://www.realtor.com/realestateandhomes-detail/7913-20th-Ave_Brooklyn_NY_11214_M36838-00733\n",
      "https://www.realtor.com/realestateandhomes-detail/2840-210th-Pl_Bayside_NY_11360_M45895-42097\n",
      "https://www.realtor.com/realestateandhomes-detail/11421-Linden-Blvd_South-Ozone-Park_NY_11420_M49979-16114\n",
      "https://www.realtor.com/realestateandhomes-detail/500-King-St_Staten-Island_NY_10312_M37944-54138\n",
      "https://www.realtor.com/realestateandhomes-detail/5618-187th-St_Fresh-Meadows_NY_11365_M44197-93804\n",
      "https://www.realtor.com/realestateandhomes-detail/11549-197th-St_Saint-Albans_NY_11412_M30671-30367\n",
      "https://www.realtor.com/realestateandhomes-detail/194-56-115-Dr_Saint-Albans_NY_11412_M97817-64821\n",
      "https://www.realtor.com/realestateandhomes-detail/200-Brighton-10th-St_Brooklyn_NY_11235_M38995-89433\n",
      "https://www.realtor.com/realestateandhomes-detail/18907-Quencer-Rd_Saint-Albans_NY_11412_M42278-00891\n",
      "https://www.realtor.com/realestateandhomes-detail/4970-Independence-Ave_Bronx_NY_10471_M48131-60528\n",
      "https://www.realtor.com/realestateandhomes-detail/3925-Murray-St_Flushing_NY_11354_M44965-64794\n",
      "\n",
      "\n",
      "\n",
      "\n",
      " 35\n"
     ]
    },
    {
     "name": "stdout",
     "output_type": "stream",
     "text": [
      "mmmmmmmmmmmmmmmmmmmm https://www.realtor.com/realestateandhomes-search/Atlanta_GA/shw-nc/price-800000-na/pg-36\n",
      "https://www.realtor.com/realestateandhomes-detail/18907-Quencer-Rd_Saint-Albans_NY_11412_M42278-00891\n",
      "https://www.realtor.com/realestateandhomes-detail/1637-Sheepshead-Bay-Rd-1_Brooklyn_NY_11235_M97632-25137\n",
      "https://www.realtor.com/realestateandhomes-detail/53-Calvanico-Ln_Staten-Island_NY_10314_M39801-70079\n",
      "https://www.realtor.com/realestateandhomes-detail/49-Endview-St_Staten-Island_NY_10312_M46217-17280\n",
      "https://www.realtor.com/realestateandhomes-detail/115-Milton-St_Brooklyn_NY_11222_M35674-86206\n",
      "https://www.realtor.com/realestateandhomes-detail/2740-E-63rd-St_Brooklyn_NY_11234_M35348-67654\n",
      "https://www.realtor.com/realestateandhomes-detail/71-Allison-Ave_Staten-Island_NY_10306_M42834-95805\n",
      "https://www.realtor.com/realestateandhomes-detail/804-Bartholdi-St_Bronx_NY_10467_M44290-20044\n",
      "https://www.realtor.com/realestateandhomes-detail/254-Rice-Ave_Staten-Island_NY_10314_M47779-83893\n",
      "https://www.realtor.com/realestateandhomes-detail/23312-Bay-Ave_Little-Neck_NY_11363_M99209-48384\n",
      "https://www.realtor.com/realestateandhomes-detail/NY_11412_M90305-61615\n",
      "https://www.realtor.com/realestateandhomes-detail/4425-Edson-Ave_Bronx_NY_10466_M34424-70525\n",
      "https://www.realtor.com/realestateandhomes-detail/285-Adams-Ave_Staten-Island_NY_10306_M30305-03020\n",
      "https://www.realtor.com/realestateandhomes-detail/100-Sterling-Ave_Staten-Island_NY_10306_M30070-38071\n",
      "https://www.realtor.com/realestateandhomes-detail/74-E-Brandis-Ave_Staten-Island_NY_10308_M40781-00451\n",
      "https://www.realtor.com/realestateandhomes-detail/74-Ottavio-Promenade_Staten-Island_NY_10307_M48855-97786\n",
      "https://www.realtor.com/realestateandhomes-detail/849-73rd-St_Brooklyn_NY_11228_M46449-44326\n",
      "https://www.realtor.com/realestateandhomes-detail/8917-91st-St_Woodhaven_NY_11421_M30033-18385\n",
      "https://www.realtor.com/realestateandhomes-detail/74-81st-St_Brooklyn_NY_11209_M35881-35910\n",
      "https://www.realtor.com/realestateandhomes-detail/552-17th-St_Brooklyn_NY_11215_M33468-35783\n",
      "https://www.realtor.com/realestateandhomes-detail/8991-215th-Pl_Queens-Village_NY_11427_M48331-11595\n",
      "https://www.realtor.com/realestateandhomes-detail/NY_10014_M93294-16744\n",
      "https://www.realtor.com/realestateandhomes-detail/1304-Ditmas-Ave_Brooklyn_NY_11226_M35866-04857\n",
      "https://www.realtor.com/realestateandhomes-detail/7724-Colonial-Rd_Brooklyn_NY_11209_M30757-01381\n",
      "https://www.realtor.com/realestateandhomes-detail/61-Exeter-St_Brooklyn_NY_11235_M38004-00793\n",
      "https://www.realtor.com/realestateandhomes-detail/2515-Avenue-R_Brooklyn_NY_11229_M38739-06901\n",
      "https://www.realtor.com/realestateandhomes-detail/41-Center-Pl_Staten-Island_NY_10306_M33576-71399\n",
      "https://www.realtor.com/realestateandhomes-detail/260-Douglas-Rd_Staten-Island_NY_10304_M39102-96284\n",
      "https://www.realtor.com/realestateandhomes-detail/1503-E-22nd-St_Brooklyn_NY_11210_M45414-83766\n",
      "https://www.realtor.com/realestateandhomes-detail/6156-146th-Pl_Flushing_NY_11367_M30138-38846\n",
      "https://www.realtor.com/realestateandhomes-detail/7931-Langdale-St_New-Hyde-Park_NY_11040_M41740-72694\n",
      "https://www.realtor.com/realestateandhomes-detail/22345-113th-Dr_Queens-Village_NY_11429_M36166-99445\n",
      "https://www.realtor.com/realestateandhomes-detail/934-E-98th-St_Brooklyn_NY_11236_M49219-88789\n",
      "https://www.realtor.com/realestateandhomes-detail/11212-72nd-Ave_Forest-Hills_NY_11375_M44884-41521\n",
      "https://www.realtor.com/realestateandhomes-detail/13213-83rd-St_Ozone-Park_NY_11417_M45859-54417\n",
      "https://www.realtor.com/realestateandhomes-detail/10324-Farmers-Blvd_Hollis_NY_11423_M48486-76163\n",
      "https://www.realtor.com/realestateandhomes-detail/635-W-42nd-St-Apt-34B_New-York_NY_10036_M31503-06177\n",
      "https://www.realtor.com/realestateandhomes-detail/119-Osgood-Ave_Staten-Island_NY_10304_M31466-79856\n",
      "https://www.realtor.com/realestateandhomes-detail/154-Beaumont-St-873367_Brooklyn_NY_11235_M93758-33157\n",
      "https://www.realtor.com/realestateandhomes-detail/1764-E-24th-St_Brooklyn_NY_11229_M38651-12139\n",
      "https://www.realtor.com/realestateandhomes-detail/4535-220th-Pl_Bayside_NY_11361_M47284-46786\n",
      "https://www.realtor.com/realestateandhomes-detail/1007-Cross-Bay-Blvd_Far-Rockaway_NY_11693_M45764-96021\n",
      "\n",
      "\n",
      "\n",
      "\n",
      " 36\n"
     ]
    },
    {
     "name": "stdout",
     "output_type": "stream",
     "text": [
      "mmmmmmmmmmmmmmmmmmmm https://www.realtor.com/realestateandhomes-search/Atlanta_GA/shw-nc/price-800000-na/pg-37\n",
      "https://www.realtor.com/realestateandhomes-detail/180-Beach-26th-St_Far-Rockaway_NY_11691_M43058-06732\n",
      "https://www.realtor.com/realestateandhomes-detail/2525-Harway-Ave_Brooklyn_NY_11214_M44194-05768\n",
      "https://www.realtor.com/realestateandhomes-detail/471-481-Myrtle-Ave_Brooklyn_NY_11205_M90037-66191\n",
      "https://www.realtor.com/realestateandhomes-detail/96-Coffey-St_Brooklyn_NY_11231_M95068-87875\n",
      "https://www.realtor.com/realestateandhomes-detail/18806-Brinkerhoff-Ave_Saint-Albans_NY_11412_M42626-57846\n",
      "https://www.realtor.com/realestateandhomes-detail/320-E-18th-St_Brooklyn_NY_11226_M40848-59955\n",
      "https://www.realtor.com/realestateandhomes-detail/3826-Harper-Ave_Bronx_NY_10466_M38417-68801\n",
      "https://www.realtor.com/realestateandhomes-detail/1701-E-48th-St_Brooklyn_NY_11234_M31839-19752\n",
      "https://www.realtor.com/realestateandhomes-detail/3531-210th-St_Bayside_NY_11361_M43928-62603\n",
      "https://www.realtor.com/realestateandhomes-detail/11818-230th-St_Cambria-Heights_NY_11411_M35197-28387\n",
      "https://www.realtor.com/realestateandhomes-detail/11812-Francis-Lewis-Blvd_Cambria-Heights_NY_11411_M34645-37527\n",
      "https://www.realtor.com/realestateandhomes-detail/12026-142nd-Pl_Jamaica_NY_11436_M46036-76559\n",
      "https://www.realtor.com/realestateandhomes-detail/10-Mount-Morris-Park-W-Apt-2_New-York_NY_10027_M44537-58087\n",
      "https://www.realtor.com/realestateandhomes-detail/3712-222nd-St_Bayside_NY_11361_M45580-30854\n",
      "https://www.realtor.com/realestateandhomes-detail/451-Degraw-St_Brooklyn_NY_11217_M30804-60842\n",
      "https://www.realtor.com/realestateandhomes-detail/21924-130th-Dr_Springfield-Gardens_NY_11413_M31925-46710\n",
      "https://www.realtor.com/realestateandhomes-detail/629-Beach-66th-St_Arverne_NY_11692_M39721-22408\n",
      "https://www.realtor.com/realestateandhomes-detail/1707-Rockaway-Pkwy_Brooklyn_NY_11236_M45964-61334\n",
      "https://www.realtor.com/realestateandhomes-detail/3323-158th-St_Flushing_NY_11358_M34706-92185\n",
      "https://www.realtor.com/realestateandhomes-detail/36-Dahill-Rd-Apt-1N_Brooklyn_NY_11218_M97437-88297\n",
      "https://www.realtor.com/realestateandhomes-detail/8849-247th-St_Bellerose_NY_11426_M36331-02237\n",
      "https://www.realtor.com/realestateandhomes-detail/73-Ilyse-Ct_Staten-Island_NY_10306_M40633-39286\n",
      "https://www.realtor.com/realestateandhomes-detail/25614-Horace-Harding-Expy_Little-Neck_NY_11362_M48404-66190\n",
      "https://www.realtor.com/realestateandhomes-detail/81-Burgundy-Loop_Staten-Island_NY_10304_M49421-65896\n",
      "https://www.realtor.com/realestateandhomes-detail/6437-217th-St_Oakland-Gardens_NY_11364_M32889-26587\n",
      "https://www.realtor.com/realestateandhomes-detail/1956-Ford-St_Brooklyn_NY_11229_M38123-73310\n",
      "https://www.realtor.com/realestateandhomes-detail/154-Kennington-St_Staten-Island_NY_10308_M39094-32869\n",
      "https://www.realtor.com/realestateandhomes-detail/1244-162nd-St_Whitestone_NY_11357_M45304-35164\n",
      "https://www.realtor.com/realestateandhomes-detail/2802-34th-Ave_Astoria_NY_11106_M44729-64996\n",
      "https://www.realtor.com/realestateandhomes-detail/3-Doxey-Pl_Ozone-Park_NY_11417_M44385-00388\n",
      "https://www.realtor.com/realestateandhomes-detail/3802-254th-St_Little-Neck_NY_11363_M37422-32661\n",
      "https://www.realtor.com/realestateandhomes-detail/3249-Barkley-Ave-B_Bronx_NY_10465_M36434-65349\n",
      "https://www.realtor.com/realestateandhomes-detail/5807-Seabury-St_Elmhurst_NY_11373_M45490-37870\n",
      "https://www.realtor.com/realestateandhomes-detail/8024-190th-St_Hollis_NY_11423_M41136-49012\n",
      "https://www.realtor.com/realestateandhomes-detail/8050-255th-St_Glen-Oaks_NY_11004_M40292-27131\n",
      "https://www.realtor.com/realestateandhomes-detail/1546-Fulton-St_Brooklyn_NY_11216_M97049-23014\n",
      "https://www.realtor.com/realestateandhomes-detail/600-2nd-St_Brooklyn_NY_11215_M37846-63896\n",
      "https://www.realtor.com/realestateandhomes-detail/6-E-69th-St_New-York_NY_10021_M38799-67768\n",
      "https://www.realtor.com/realestateandhomes-detail/2610-Avenue-T_Brooklyn_NY_11229_M30137-11671\n",
      "https://www.realtor.com/realestateandhomes-detail/1378-E-93th-St_Brooklyn_NY_11236_M91169-69984\n",
      "https://www.realtor.com/realestateandhomes-detail/6635-Bergen-Pl_Brooklyn_NY_11220_M31855-05221\n",
      "https://www.realtor.com/realestateandhomes-detail/11511-180th-St_Jamaica_NY_11434_M46112-17578\n",
      "\n",
      "\n",
      "\n",
      "\n",
      " 37\n"
     ]
    },
    {
     "name": "stdout",
     "output_type": "stream",
     "text": [
      "mmmmmmmmmmmmmmmmmmmm https://www.realtor.com/realestateandhomes-search/Atlanta_GA/shw-nc/price-800000-na/pg-38\n",
      "https://www.realtor.com/realestateandhomes-detail/6635-Bergen-Pl_Brooklyn_NY_11220_M31855-05221\n",
      "https://www.realtor.com/realestateandhomes-detail/397-Stockholm-St_Brooklyn_NY_11237_M31622-07709\n",
      "https://www.realtor.com/realestateandhomes-detail/1703-Murray-St_Whitestone_NY_11357_M48967-96645\n",
      "https://www.realtor.com/realestateandhomes-detail/11-Van-Name-Ave_Staten-Island_NY_10303_M37926-18935\n",
      "https://www.realtor.com/realestateandhomes-detail/1476-E-95th-St_Brooklyn_NY_11236_M32182-15791\n",
      "https://www.realtor.com/realestateandhomes-detail/1651-201st-St_Bayside_NY_11360_M32046-80887\n",
      "https://www.realtor.com/realestateandhomes-detail/1640-E-51st-St_Brooklyn_NY_11234_M37900-84424\n",
      "https://www.realtor.com/realestateandhomes-detail/11427-135th-St_South-Ozone-Park_NY_11420_M36905-40947\n",
      "https://www.realtor.com/realestateandhomes-detail/48-Bond-St-Apt-4B_New-York_NY_10012_M45789-59242\n",
      "https://www.realtor.com/realestateandhomes-detail/26-Ira-Ct_Brooklyn_NY_11229_M46841-72065\n",
      "https://www.realtor.com/realestateandhomes-detail/3929-47th-Ave_Sunnyside_NY_11104_M92909-99105\n",
      "https://www.realtor.com/realestateandhomes-detail/11911-Linden-Blvd_South-Ozone-Park_NY_11420_M46793-37795\n",
      "https://www.realtor.com/realestateandhomes-detail/14202-185th-St_Springfield-Gardens_NY_11413_M38922-46972\n",
      "https://www.realtor.com/realestateandhomes-detail/39-Longdale-St_Staten-Island_NY_10314_M43068-31806\n",
      "https://www.realtor.com/realestateandhomes-detail/132-E-62nd-St_New-York_NY_10065_M44359-70555\n",
      "https://www.realtor.com/realestateandhomes-detail/799-Willoughby-Ave_Brooklyn_NY_11206_M31049-47625\n",
      "https://www.realtor.com/realestateandhomes-detail/17809-132nd-Ave_Jamaica_NY_11434_M42064-84772\n",
      "https://www.realtor.com/realestateandhomes-detail/5823-196th-St_Fresh-Meadows_NY_11365_M37474-17702\n",
      "https://www.realtor.com/realestateandhomes-detail/118-Baden-Pl_Staten-Island_NY_10306_M34723-75970\n",
      "https://www.realtor.com/realestateandhomes-detail/13028-236th-St_Rosedale_NY_11422_M33997-82617\n",
      "https://www.realtor.com/realestateandhomes-detail/642-E-89th-St_Brooklyn_NY_11236_M37806-82034\n",
      "https://www.realtor.com/realestateandhomes-detail/7710-65th-St_Ridgewood_NY_11385_M33139-11216\n",
      "https://www.realtor.com/realestateandhomes-detail/608-127th-St_College-Point_NY_11356_M48586-95107\n",
      "https://www.realtor.com/realestateandhomes-detail/1120-Banner-Ave_Brooklyn_NY_11235_M48883-07377\n",
      "https://www.realtor.com/realestateandhomes-detail/2445-Yates-Ave_Bronx_NY_10469_M38647-44218\n",
      "https://www.realtor.com/realestateandhomes-detail/13915-89th-Ave_Jamaica_NY_11435_M35991-86378\n",
      "https://www.realtor.com/realestateandhomes-detail/1029-E-213th-St_Bronx_NY_10469_M37748-19573\n",
      "https://www.realtor.com/realestateandhomes-detail/632-Belmont-Ave_Brooklyn_NY_11207_M41602-36362\n",
      "https://www.realtor.com/realestateandhomes-detail/301-Rugby-Rd_Brooklyn_NY_11226_M47095-26204\n",
      "https://www.realtor.com/realestateandhomes-detail/237-Davis-Ave_Bronx_NY_10465_M41750-84838\n",
      "https://www.realtor.com/realestateandhomes-detail/105-48-Van-Siclen-St_Richmond-Hill-South_NY_11419_M96554-90016\n",
      "https://www.realtor.com/realestateandhomes-detail/14592-221st-St_Springfield-Gardens_NY_11413_M35975-28303\n",
      "https://www.realtor.com/realestateandhomes-detail/3123-102nd-St_East-Elmhurst_NY_11369_M42354-55634\n",
      "https://www.realtor.com/realestateandhomes-detail/4-Wood-Ln_Staten-Island_NY_10307_M41183-24924\n",
      "https://www.realtor.com/realestateandhomes-detail/1963-E-27th-St_Brooklyn_NY_11229_M48846-59687\n",
      "https://www.realtor.com/realestateandhomes-detail/9122-Sutter-Ave_Ozone-Park_NY_11417_M45229-61676\n",
      "https://www.realtor.com/realestateandhomes-detail/187-Avenue-O_Brooklyn_NY_11204_M49892-10251\n",
      "https://www.realtor.com/realestateandhomes-detail/34-Dixon-Ave_Staten-Island_NY_10302_M33078-06419\n",
      "https://www.realtor.com/realestateandhomes-detail/16-Alberta-Ave_Staten-Island_NY_10314_M38421-51396\n",
      "https://www.realtor.com/realestateandhomes-detail/8-E-68th-St_New-York_NY_10065_M90040-55524\n",
      "https://www.realtor.com/realestateandhomes-detail/545-Arbutus-Ave_Staten-Island_NY_10312_M43109-37357\n",
      "https://www.realtor.com/realestateandhomes-detail/333-W-262nd-St_Bronx_NY_10471_M49682-50008\n",
      "\n",
      "\n",
      "\n",
      "\n",
      " 38\n"
     ]
    },
    {
     "name": "stdout",
     "output_type": "stream",
     "text": [
      "mmmmmmmmmmmmmmmmmmmm https://www.realtor.com/realestateandhomes-search/Atlanta_GA/shw-nc/price-800000-na/pg-39\n",
      "https://www.realtor.com/realestateandhomes-detail/241-Loretto-St_Staten-Island_NY_10307_M37294-02814\n",
      "https://www.realtor.com/realestateandhomes-detail/545-Arbutus-Ave_Staten-Island_NY_10312_M43109-37357\n",
      "https://www.realtor.com/realestateandhomes-detail/111-David-St_Staten-Island_NY_10308_M43265-76458\n",
      "https://www.realtor.com/realestateandhomes-detail/15470-11th-Ave_Whitestone_NY_11357_M47348-12965\n",
      "https://www.realtor.com/realestateandhomes-detail/15911-29th-Ave_Flushing_NY_11358_M33969-53034\n",
      "https://www.realtor.com/realestateandhomes-detail/777-Logan-St_Brooklyn_NY_11208_M34119-37459\n",
      "https://www.realtor.com/realestateandhomes-detail/14585-9th-Ave_Whitestone_NY_11357_M44836-77778\n",
      "https://www.realtor.com/realestateandhomes-detail/21833-Stewart-Rd_Queens-Village_NY_11427_M44205-95985\n",
      "https://www.realtor.com/realestateandhomes-detail/442-Tompkins-Ave_Staten-Island_NY_10305_M49907-88872\n",
      "https://www.realtor.com/realestateandhomes-detail/1588-Lincoln-Pl_Brooklyn_NY_11233_M39289-81593\n",
      "https://www.realtor.com/realestateandhomes-detail/521-Mill-Rd_Staten-Island_NY_10306_M43509-53612\n",
      "https://www.realtor.com/realestateandhomes-detail/4187-Murdock-Ave_Bronx_NY_10466_M46185-48330\n",
      "https://www.realtor.com/realestateandhomes-detail/171-E-94th-St_New-York_NY_10128_M34165-12060\n",
      "https://www.realtor.com/realestateandhomes-detail/24607-87th-Ave_Bellerose_NY_11426_M35190-85420\n",
      "https://www.realtor.com/realestateandhomes-detail/140-Roman-Ave_Staten-Island_NY_10314_M34465-93012\n",
      "https://www.realtor.com/realestateandhomes-detail/1372-E-94th-St_Brooklyn_NY_11236_M46522-11184\n",
      "https://www.realtor.com/realestateandhomes-detail/8258-89th-St_Ridgewood_NY_11385_M36619-04959\n",
      "https://www.realtor.com/realestateandhomes-detail/8409-107th-Ave_Ozone-Park_NY_11417_M33398-13492\n",
      "https://www.realtor.com/realestateandhomes-detail/9305-210th-St_Queens-Village_NY_11428_M47692-13801\n",
      "https://www.realtor.com/realestateandhomes-detail/21548-24th-Ave_Bayside_NY_11360_M46252-80136\n",
      "https://www.realtor.com/realestateandhomes-detail/2934-161st-St_Flushing_NY_11358_M48725-97750\n",
      "https://www.realtor.com/realestateandhomes-detail/3930-Carpenter-Ave_Bronx_NY_10466_M45813-77738\n",
      "https://www.realtor.com/realestateandhomes-detail/11125-147th-St_Jamaica_NY_11435_M32337-33707\n",
      "https://www.realtor.com/realestateandhomes-detail/88-Gwenn-Loop_Staten-Island_NY_10314_M32023-92592\n",
      "https://www.realtor.com/realestateandhomes-detail/19831-Pompeii-Ave_Jamaica_NY_11423_M34835-38786\n",
      "https://www.realtor.com/realestateandhomes-detail/2260-E-22nd-St_Brooklyn_NY_11229_M43846-01303\n",
      "https://www.realtor.com/realestateandhomes-detail/119-Dubois-Ave_Staten-Island_NY_10310_M42378-51323\n",
      "https://www.realtor.com/realestateandhomes-detail/688-N-Railroad-Ave_Staten-Island_NY_10304_M39942-22335\n",
      "https://www.realtor.com/realestateandhomes-detail/3022-44th-St_Astoria_NY_11103_M95787-76055\n",
      "https://www.realtor.com/realestateandhomes-detail/9714-88th-St_Ozone-Park_NY_11416_M49455-39794\n",
      "https://www.realtor.com/realestateandhomes-detail/622-W-256th-St_Bronx_NY_10471_M43918-19463\n",
      "https://www.realtor.com/realestateandhomes-detail/15036-119th-Ave_Jamaica_NY_11434_M41229-63571\n",
      "https://www.realtor.com/realestateandhomes-detail/5958-69th-Pl_Maspeth_NY_11378_M47927-06570\n",
      "https://www.realtor.com/realestateandhomes-detail/13704-130th-Ave_Jamaica_NY_11436_M30723-62120\n",
      "https://www.realtor.com/realestateandhomes-detail/5727-225th-St_Oakland-Gardens_NY_11364_M30075-83243\n",
      "https://www.realtor.com/realestateandhomes-detail/314-W-52nd-St_New-York_NY_10019_M96296-66287\n",
      "https://www.realtor.com/realestateandhomes-detail/139-Highland-Ave_Staten-Island_NY_10301_M46501-12704\n",
      "https://www.realtor.com/realestateandhomes-detail/9102-173rd-St_Jamaica_NY_11432_M39883-54615\n",
      "https://www.realtor.com/realestateandhomes-detail/40-McLaughlin-St_Staten-Island_NY_10305_M30894-13474\n",
      "https://www.realtor.com/realestateandhomes-detail/199-W-179th-St_Bronx_NY_10453_M30893-40380\n",
      "https://www.realtor.com/realestateandhomes-detail/16124-84th-St_Howard-Beach_NY_11414_M44728-81324\n",
      "https://www.realtor.com/realestateandhomes-detail/555-Kappock-St-Apt-19B_Bronx_NY_10463_M90578-37092\n",
      "\n",
      "\n",
      "\n",
      "\n",
      " 39\n"
     ]
    },
    {
     "name": "stdout",
     "output_type": "stream",
     "text": [
      "mmmmmmmmmmmmmmmmmmmm https://www.realtor.com/realestateandhomes-search/Atlanta_GA/shw-nc/price-800000-na/pg-40\n",
      "https://www.realtor.com/realestateandhomes-detail/199-W-179th-St_Bronx_NY_10453_M30893-40380\n",
      "https://www.realtor.com/realestateandhomes-detail/16124-84th-St_Howard-Beach_NY_11414_M44728-81324\n",
      "https://www.realtor.com/realestateandhomes-detail/126-Jerome-St_Brooklyn_NY_11207_M37352-34735\n",
      "https://www.realtor.com/realestateandhomes-detail/18616-Hilburn-Ave_Saint-Albans_NY_11412_M47973-81566\n",
      "https://www.realtor.com/realestateandhomes-detail/3812-31st-St_Long-Island-City_NY_11101_M45501-49551\n",
      "https://www.realtor.com/realestateandhomes-detail/9965-165th-Ave_Howard-Beach_NY_11414_M31371-09509\n",
      "https://www.realtor.com/realestateandhomes-detail/3399-Ely-Ave_Bronx_NY_10469_M36084-46735\n",
      "https://www.realtor.com/realestateandhomes-detail/296-Ashland-Ave_Staten-Island_NY_10309_M39254-40778\n",
      "https://www.realtor.com/realestateandhomes-detail/6111-Alderton-St_Rego-Park_NY_11374_M47552-52371\n",
      "https://www.realtor.com/realestateandhomes-detail/1942-Kimball-St_Brooklyn_NY_11234_M35691-67545\n",
      "https://www.realtor.com/realestateandhomes-detail/115-32-149-St_Jamaica_NY_11435_M96288-93781\n",
      "https://www.realtor.com/realestateandhomes-detail/167-W-72nd-St_New-York_NY_10023_M93145-82649\n",
      "https://www.realtor.com/realestateandhomes-detail/737-E-48th-St_Brooklyn_NY_11203_M48281-58923\n",
      "https://www.realtor.com/realestateandhomes-detail/15311-125th-Ave_Jamaica_NY_11434_M41402-54969\n",
      "https://www.realtor.com/realestateandhomes-detail/9636-149th-Ave_Ozone-Park_NY_11417_M44734-06196\n",
      "https://www.realtor.com/realestateandhomes-detail/186-E-2nd-St-Apt-16_New-York_NY_10009_M98829-91884\n",
      "https://www.realtor.com/realestateandhomes-detail/3150-Wissman-Ave_Bronx_NY_10465_M33752-91403\n",
      "https://www.realtor.com/realestateandhomes-detail/9319-201st-St_Hollis_NY_11423_M31708-40262\n",
      "https://www.realtor.com/realestateandhomes-detail/286-Bay-10th-St_Brooklyn_NY_11228_M41363-93679\n",
      "https://www.realtor.com/realestateandhomes-detail/7216-Avenue-X_Brooklyn_NY_11234_M42045-33492\n",
      "https://www.realtor.com/realestateandhomes-detail/98-106-Clifton-Pl_Brooklyn_NY_11238_M90825-49025\n",
      "https://www.realtor.com/realestateandhomes-detail/392-West-St_New-York_NY_10014_M96495-43003\n",
      "https://www.realtor.com/realestateandhomes-detail/108-E-Macon-Ave_Staten-Island_NY_10308_M41128-93543\n",
      "https://www.realtor.com/realestateandhomes-detail/761-E-22nd-St_Brooklyn_NY_11210_M46303-21555\n",
      "https://www.realtor.com/realestateandhomes-detail/13918-232nd-St_Springfield-Gardens_NY_11413_M33679-28366\n",
      "https://www.realtor.com/realestateandhomes-detail/333-E-46th-St-Apt-17E_New-York_NY_10017_M30832-43225\n",
      "https://www.realtor.com/realestateandhomes-detail/11818-190th-St_Saint-Albans_NY_11412_M34666-74984\n",
      "https://www.realtor.com/realestateandhomes-detail/6942-180th-St_Fresh-Meadows_NY_11365_M40698-55935\n",
      "https://www.realtor.com/realestateandhomes-detail/11922-237th-St_Cambria-Heights_NY_11411_M45154-83297\n",
      "https://www.realtor.com/realestateandhomes-detail/7-Lake-Ave_Brooklyn_NY_11235_M42509-83303\n",
      "https://www.realtor.com/realestateandhomes-detail/116-Ave_Jamaica_NY_11434_M90982-01394\n",
      "https://www.realtor.com/realestateandhomes-detail/458-Van-Sicklen-St_Brooklyn_NY_11223_M48218-81798\n",
      "https://www.realtor.com/realestateandhomes-detail/121-Rockne-St_Staten-Island_NY_10314_M48209-54674\n",
      "https://www.realtor.com/realestateandhomes-detail/319-Clarke-Ave_Staten-Island_NY_10306_M47472-83054\n",
      "https://www.realtor.com/realestateandhomes-detail/527-9th-St_Brooklyn_NY_11215_M46873-73267\n",
      "https://www.realtor.com/realestateandhomes-detail/17955-Anderson-Rd_Jamaica_NY_11434_M44748-65866\n",
      "https://www.realtor.com/realestateandhomes-detail/13921-246th-St_Rosedale_NY_11422_M30268-33440\n",
      "https://www.realtor.com/realestateandhomes-detail/11630-130th-St_South-Ozone-Park_NY_11420_M39990-04451\n",
      "https://www.realtor.com/realestateandhomes-detail/13105-135th-St_South-Ozone-Park_NY_11420_M45459-93955\n",
      "https://www.realtor.com/realestateandhomes-detail/90-Flagg-Pl_Staten-Island_NY_10304_M35456-50962\n",
      "https://www.realtor.com/realestateandhomes-detail/2039-W-5th-St_Brooklyn_NY_11223_M44355-08506\n",
      "https://www.realtor.com/realestateandhomes-detail/30-Paradise-Pl_Staten-Island_NY_10307_M31058-39531\n",
      "\n",
      "\n",
      "\n",
      "\n",
      " 40\n"
     ]
    },
    {
     "name": "stdout",
     "output_type": "stream",
     "text": [
      "mmmmmmmmmmmmmmmmmmmm https://www.realtor.com/realestateandhomes-search/Atlanta_GA/shw-nc/price-800000-na/pg-41\n",
      "https://www.realtor.com/realestateandhomes-detail/9129-220th-St_Queens-Village_NY_11428_M49375-01723\n",
      "https://www.realtor.com/realestateandhomes-detail/30-Paradise-Pl_Staten-Island_NY_10307_M31058-39531\n",
      "https://www.realtor.com/realestateandhomes-detail/2937-168th-St_Flushing_NY_11358_M30644-71890\n",
      "https://www.realtor.com/realestateandhomes-detail/660-E-37th-St_Brooklyn_NY_11203_M46404-59817\n",
      "https://www.realtor.com/realestateandhomes-detail/13013-Lefferts-Blvd_South-Ozone-Park_NY_11420_M40442-32007\n",
      "https://www.realtor.com/realestateandhomes-detail/151-Amity-Pl_Staten-Island_NY_10303_M48397-36709\n",
      "https://www.realtor.com/realestateandhomes-detail/21616-28th-Rd_Bayside_NY_11360_M34730-70205\n",
      "https://www.realtor.com/realestateandhomes-detail/15929-92nd-St_Howard-Beach_NY_11414_M33378-85109\n",
      "https://www.realtor.com/realestateandhomes-detail/2136-E-63rd-St_Brooklyn_NY_11234_M40945-52249\n",
      "https://www.realtor.com/realestateandhomes-detail/12015-196th-St_Saint-Albans_NY_11412_M40810-36940\n",
      "https://www.realtor.com/realestateandhomes-detail/W-262nd-St_Bronx_NY_10471_M33563-28113\n",
      "https://www.realtor.com/realestateandhomes-detail/15158-22nd-Ave_Whitestone_NY_11357_M39249-75397\n",
      "https://www.realtor.com/realestateandhomes-detail/15307-Arlington-Ter_Jamaica_NY_11433_M38413-40472\n",
      "https://www.realtor.com/realestateandhomes-detail/439-Beach-69th-St_Far-Rockaway_NY_11692_M46910-29304\n",
      "https://www.realtor.com/realestateandhomes-detail/8405-102nd-St_Richmond-Hill_NY_11418_M43167-59771\n",
      "https://www.realtor.com/realestateandhomes-detail/121-Legion-St_Brooklyn_NY_11212_M33083-98149\n",
      "https://www.realtor.com/realestateandhomes-detail/141-W-95th-St_New-York_NY_10025_M94723-60243\n",
      "https://www.realtor.com/realestateandhomes-detail/2028-E-21st-St_Brooklyn_NY_11229_M36428-50537\n",
      "https://www.realtor.com/realestateandhomes-detail/15731-80th-St_Howard-Beach_NY_11414_M47129-58675\n",
      "https://www.realtor.com/realestateandhomes-detail/10949-132nd-St_South-Ozone-Park_NY_11420_M46274-63603\n",
      "https://www.realtor.com/realestateandhomes-detail/21-87th-St_Brooklyn_NY_11209_M45679-78782\n",
      "https://www.realtor.com/realestateandhomes-detail/2713-Avenue-Y_Brooklyn_NY_11235_M47466-86646\n",
      "https://www.realtor.com/realestateandhomes-detail/1736-Jarvis-Ave_Bronx_NY_10461_M47204-88353\n",
      "https://www.realtor.com/realestateandhomes-detail/1655-72nd-St_Brooklyn_NY_11204_M30409-24033\n",
      "https://www.realtor.com/realestateandhomes-detail/8008-215th-St_Queens-Village_NY_11427_M35097-51264\n",
      "https://www.realtor.com/realestateandhomes-detail/50-Wellington-Ct_Brooklyn_NY_11230_M34085-26662\n",
      "https://www.realtor.com/realestateandhomes-detail/203-Sterling-St_Brooklyn_NY_11225_M31000-60712\n",
      "https://www.realtor.com/realestateandhomes-detail/1328-E-35th-St_Brooklyn_NY_11210_M40729-81566\n",
      "https://www.realtor.com/realestateandhomes-detail/8557-151st-St_Jamaica_NY_11432_M49381-57989\n",
      "https://www.realtor.com/realestateandhomes-detail/6341-252nd-St_Little-Neck_NY_11362_M46709-85852\n",
      "https://www.realtor.com/realestateandhomes-detail/21204-50th-Ave_Oakland-Gardens_NY_11364_M44247-16057\n",
      "https://www.realtor.com/realestateandhomes-detail/12516-Adair-St_Springfield-Gardens_NY_11413_M32496-08999\n",
      "https://www.realtor.com/realestateandhomes-detail/60-Woodbine-St_Ridgewood_NY_11385_M90765-57850\n",
      "https://www.realtor.com/realestateandhomes-detail/3715-Bedford-Ave_Brooklyn_NY_11229_M97650-94621\n",
      "https://www.realtor.com/realestateandhomes-detail/291-Simonson-Ave_Staten-Island_NY_10303_M34001-88690\n",
      "https://www.realtor.com/realestateandhomes-detail/150-Dudley-Ave_Staten-Island_NY_10301_M33689-71203\n",
      "https://www.realtor.com/realestateandhomes-detail/14840-61st-Rd_Flushing_NY_11367_M33421-75248\n",
      "https://www.realtor.com/realestateandhomes-detail/240-E-76th-St-Apt-6R_New-York_NY_10021_M43644-49477\n",
      "https://www.realtor.com/realestateandhomes-detail/646-Saint-Anns-Ave_Bronx_NY_10455_M47995-96367\n",
      "https://www.realtor.com/realestateandhomes-detail/3520-Newkirk-Ave_Brooklyn_NY_11203_M38850-95611\n",
      "https://www.realtor.com/realestateandhomes-detail/4744-Glenwood-St_Little-Neck_NY_11362_M31964-36890\n",
      "https://www.realtor.com/realestateandhomes-detail/69-Rugby-Rd_Brooklyn_NY_11226_M99366-56029\n",
      "\n",
      "\n",
      "\n",
      "\n",
      " 41\n"
     ]
    },
    {
     "name": "stdout",
     "output_type": "stream",
     "text": [
      "mmmmmmmmmmmmmmmmmmmm https://www.realtor.com/realestateandhomes-search/Atlanta_GA/shw-nc/price-800000-na/pg-42\n",
      "https://www.realtor.com/realestateandhomes-detail/69-Rugby-Rd_Brooklyn_NY_11226_M99366-56029\n",
      "https://www.realtor.com/realestateandhomes-detail/14903-Reeves-Ave_Flushing_NY_11367_M48383-82540\n",
      "https://www.realtor.com/realestateandhomes-detail/1028-Swinton-Ave_Bronx_NY_10465_M33343-73398\n",
      "https://www.realtor.com/realestateandhomes-detail/16415-99th-St_Howard-Beach_NY_11414_M45684-19828\n",
      "https://www.realtor.com/realestateandhomes-detail/10655-Union-Hall-St_Jamaica_NY_11433_M47856-46156\n",
      "https://www.realtor.com/realestateandhomes-detail/10993-202nd-St_Saint-Albans_NY_11412_M32348-89045\n",
      "https://www.realtor.com/realestateandhomes-detail/23336-87th-Ave_Queens-Village_NY_11427_M36577-36248\n",
      "https://www.realtor.com/realestateandhomes-detail/30-Bogardus-St_Brooklyn_NY_11235_M93750-30780\n",
      "https://www.realtor.com/realestateandhomes-detail/10220-187th-St_Hollis_NY_11423_M39509-98397\n",
      "https://www.realtor.com/realestateandhomes-detail/11167-43rd-Ave_Corona_NY_11368_M39342-38169\n",
      "https://www.realtor.com/realestateandhomes-detail/3110-95th-St_East-Elmhurst_NY_11369_M30236-65163\n",
      "https://www.realtor.com/realestateandhomes-detail/284-Brinsmade-Ave_Bronx_NY_10465_M41628-69832\n",
      "https://www.realtor.com/realestateandhomes-detail/8763-108th-St_Richmond-Hill_NY_11418_M39140-31805\n",
      "https://www.realtor.com/realestateandhomes-detail/8730-110th-St_Richmond-Hill_NY_11418_M35980-66473\n",
      "https://www.realtor.com/realestateandhomes-detail/63-E-9th-St-Apt-4E_New-York_NY_10003_M37647-95032\n",
      "https://www.realtor.com/realestateandhomes-detail/8405-246th-St_Bellerose_NY_11426_M40884-58183\n",
      "https://www.realtor.com/realestateandhomes-detail/168-Sea-Grass-Ln_Arverne_NY_11692_M45397-63387\n",
      "https://www.realtor.com/realestateandhomes-detail/3727-111th-St_Corona_NY_11368_M48835-18597\n",
      "https://www.realtor.com/realestateandhomes-detail/12940-135th-St_Jamaica_NY_11420_M38567-84316\n",
      "https://www.realtor.com/realestateandhomes-detail/19440-115th-Ave_Saint-Albans_NY_11412_M49211-31305\n",
      "https://www.realtor.com/realestateandhomes-detail/5812-264th-St_Little-Neck_NY_11362_M49220-84995\n",
      "https://www.realtor.com/realestateandhomes-detail/5844-78th-Ave_Ridgewood_NY_11385_M41575-37623\n",
      "https://www.realtor.com/realestateandhomes-detail/15585-Bayview-Ave_Rosedale_NY_11422_M34891-98134\n",
      "https://www.realtor.com/realestateandhomes-detail/5304-Seabury-St_Elmhurst_NY_11373_M44156-74435\n",
      "https://www.realtor.com/realestateandhomes-detail/24030-67th-Ave_Little-Neck_NY_11362_M47006-50765\n",
      "https://www.realtor.com/realestateandhomes-detail/2622-Fillmore-Ave_Brooklyn_NY_11229_M41624-94360\n",
      "https://www.realtor.com/realestateandhomes-detail/8919-168th-Pl_Jamaica_NY_11432_M37809-56347\n",
      "https://www.realtor.com/realestateandhomes-detail/7729-80th-St_Ridgewood_NY_11385_M33251-69902\n",
      "https://www.realtor.com/realestateandhomes-detail/12220-26th-Ave_Flushing_NY_11354_M39691-84177\n",
      "https://www.realtor.com/realestateandhomes-detail/1817-Cross-Bay-Blvd_Far-Rockaway_NY_11693_M43125-08792\n",
      "https://www.realtor.com/realestateandhomes-detail/209-Seagirt-Ave_Far-Rockaway_NY_11691_M48775-13705\n",
      "https://www.realtor.com/realestateandhomes-detail/17920-Anderson-Rd_Jamaica_NY_11434_M30910-71549\n",
      "https://www.realtor.com/realestateandhomes-detail/8518-124th-St_Kew-Gardens_NY_11415_M46964-25192\n",
      "https://www.realtor.com/realestateandhomes-detail/11432-127th-St_South-Ozone-Park_NY_11420_M36453-37358\n",
      "https://www.realtor.com/realestateandhomes-detail/11616-217th-St_Cambria-Heights_NY_11411_M37584-50866\n",
      "https://www.realtor.com/realestateandhomes-detail/32-Preston-Ct_Brooklyn_NY_11234_M45053-57477\n",
      "https://www.realtor.com/realestateandhomes-detail/13010-121st-St_South-Ozone-Park_NY_11420_M45741-62636\n",
      "https://www.realtor.com/realestateandhomes-detail/15012-107th-Ave_Jamaica_NY_11433_M44869-31288\n",
      "https://www.realtor.com/realestateandhomes-detail/1657-Ryder-St_Brooklyn_NY_11234_M41244-25014\n",
      "https://www.realtor.com/realestateandhomes-detail/229-Ditmars-St_Bronx_NY_10464_M45846-16726\n",
      "https://www.realtor.com/realestateandhomes-detail/2037-W-9th-St_Brooklyn_NY_11223_M43362-78748\n",
      "https://www.realtor.com/realestateandhomes-detail/8429-Kendrick-Pl_Jamaica_NY_11432_M40483-76750\n",
      "\n",
      "\n",
      "\n",
      "\n",
      " 42\n"
     ]
    },
    {
     "name": "stdout",
     "output_type": "stream",
     "text": [
      "mmmmmmmmmmmmmmmmmmmm https://www.realtor.com/realestateandhomes-search/Atlanta_GA/shw-nc/price-800000-na/pg-43\n",
      "https://www.realtor.com/realestateandhomes-detail/2037-W-9th-St_Brooklyn_NY_11223_M43362-78748\n",
      "https://www.realtor.com/realestateandhomes-detail/551-E-169th-St_Bronx_NY_10456_M91918-15606\n",
      "https://www.realtor.com/realestateandhomes-detail/17442-Polhemus-Ave_Jamaica_NY_11433_M46892-47386\n",
      "https://www.realtor.com/realestateandhomes-detail/509-E-40th-St_Brooklyn_NY_11203_M45591-08265\n",
      "https://www.realtor.com/realestateandhomes-detail/1608-202nd-St_Bayside_NY_11360_M46708-08968\n",
      "https://www.realtor.com/realestateandhomes-detail/59A-Ide-Ct_Brooklyn_NY_11235_M41110-87045\n",
      "https://www.realtor.com/realestateandhomes-detail/156-Reade-St_New-York_NY_10013_M92453-89727\n",
      "https://www.realtor.com/realestateandhomes-detail/11948-178th-St_Jamaica_NY_11434_M40121-05616\n",
      "https://www.realtor.com/realestateandhomes-detail/692-6th-Ave_Brooklyn_NY_11215_M46994-05092\n",
      "https://www.realtor.com/realestateandhomes-detail/6054-59th-Dr_Maspeth_NY_11378_M46693-65746\n",
      "https://www.realtor.com/realestateandhomes-detail/101-Lockman-Ave_Staten-Island_NY_10303_M30758-63192\n",
      "https://www.realtor.com/realestateandhomes-detail/49-E-80th-St_New-York_NY_10075_M30781-37302\n",
      "https://www.realtor.com/realestateandhomes-detail/15025-Hawtree-St_Ozone-Park_NY_11417_M95492-75586\n",
      "https://www.realtor.com/realestateandhomes-detail/2594-40th-St_Woodside_NY_11105_M93071-82512\n",
      "https://www.realtor.com/realestateandhomes-detail/2052-E-28th-St_Brooklyn_NY_11229_M43029-61070\n",
      "https://www.realtor.com/realestateandhomes-detail/5703-Avenue-O_Brooklyn_NY_11234_M44533-71488\n",
      "https://www.realtor.com/realestateandhomes-detail/2554-W-16th-St_Brooklyn_NY_11214_M45020-24361\n",
      "https://www.realtor.com/realestateandhomes-detail/127-W-11th-St_New-York_NY_10011_M40285-66522\n",
      "https://www.realtor.com/realestateandhomes-detail/91-Westentry-Rd_Staten-Island_NY_10304_M42064-95838\n",
      "https://www.realtor.com/realestateandhomes-detail/13649-71st-Rd_Flushing_NY_11367_M37235-17637\n",
      "https://www.realtor.com/realestateandhomes-detail/11141-Sutphin-Blvd_Jamaica_NY_11435_M45134-82309\n",
      "https://www.realtor.com/realestateandhomes-detail/32-Crosby-Ave_Brooklyn_NY_11207_M35421-43439\n",
      "https://www.realtor.com/realestateandhomes-detail/140-Union-Ave_Staten-Island_NY_10303_M91736-47006\n",
      "https://www.realtor.com/realestateandhomes-detail/1983-Rockaway-Pkwy_Brooklyn_NY_11236_M91170-60113\n",
      "https://www.realtor.com/realestateandhomes-detail/9303-Avenue-K_Brooklyn_NY_11236_M42532-04739\n",
      "https://www.realtor.com/realestateandhomes-detail/22-4th-Pl_Brooklyn_NY_11231_M36117-70741\n",
      "https://www.realtor.com/realestateandhomes-detail/1101-Harding-Park_Bronx_NY_10473_M45091-01405\n",
      "https://www.realtor.com/realestateandhomes-detail/244-Grafton-St_Brooklyn_NY_11212_M48503-01191\n",
      "https://www.realtor.com/realestateandhomes-detail/24947-Rushmore-Ter_Little-Neck_NY_11362_M44159-38965\n",
      "https://www.realtor.com/realestateandhomes-detail/18365-Elmira-Ave_Saint-Albans_NY_11412_M38246-29586\n",
      "https://www.realtor.com/realestateandhomes-detail/33-Avenue-X_Brooklyn_NY_11223_M37316-14160\n",
      "https://www.realtor.com/realestateandhomes-detail/520-E-34th-St_Brooklyn_NY_11203_M44475-14376\n",
      "https://www.realtor.com/realestateandhomes-detail/5115-Concord-Ave_Great-Neck_NY_11020_M48377-45777\n",
      "https://www.realtor.com/realestateandhomes-detail/6944-172nd-St_Fresh-Meadows_NY_11365_M49227-41261\n",
      "https://www.realtor.com/realestateandhomes-detail/10223-Russell-St_Howard-Beach_NY_11414_M30530-74809\n",
      "https://www.realtor.com/realestateandhomes-detail/2930-Bell-Blvd_Bayside_NY_11360_M41732-97264\n",
      "https://www.realtor.com/realestateandhomes-detail/3553-Hylan-Blvd_Staten-Island_NY_10308_M45702-32561\n",
      "https://www.realtor.com/realestateandhomes-detail/1754-Gerritsen-Ave_Brooklyn_NY_11229_M40410-67398\n",
      "https://www.realtor.com/realestateandhomes-detail/648-Rogers-Ave_Brooklyn_NY_11226_M39690-76871\n",
      "https://www.realtor.com/realestateandhomes-detail/20019-119th-Ave_Saint-Albans_NY_11412_M43118-40666\n",
      "https://www.realtor.com/realestateandhomes-detail/49-Chambers-St-Apt-5G_New-York_NY_10007_M46218-80282\n",
      "https://www.realtor.com/realestateandhomes-detail/4734-206th-St_Bayside_NY_11361_M49706-85562\n",
      "\n",
      "\n",
      "\n",
      "\n",
      " 43\n"
     ]
    },
    {
     "name": "stdout",
     "output_type": "stream",
     "text": [
      "mmmmmmmmmmmmmmmmmmmm https://www.realtor.com/realestateandhomes-search/Atlanta_GA/shw-nc/price-800000-na/pg-44\n",
      "https://www.realtor.com/realestateandhomes-detail/15314-119th-Ave_Jamaica_NY_11434_M32910-09628\n",
      "https://www.realtor.com/realestateandhomes-detail/122-E-38th-St_New-York_NY_10016_M38418-01634\n",
      "https://www.realtor.com/realestateandhomes-detail/4734-206th-St_Bayside_NY_11361_M49706-85562\n",
      "https://www.realtor.com/realestateandhomes-detail/525-W-22nd-St-Ph-D_New-York_NY_10011_M30765-57334\n",
      "https://www.realtor.com/realestateandhomes-detail/175-Park-Dr-N_Staten-Island_NY_10314_M31981-10708\n",
      "https://www.realtor.com/realestateandhomes-detail/11646-128th-St_South-Ozone-Park_NY_11420_M47301-36349\n",
      "https://www.realtor.com/realestateandhomes-detail/5018-67th-St_Woodside_NY_11377_M44430-93241\n",
      "https://www.realtor.com/realestateandhomes-detail/9932-Alstyne-Ave_Corona_NY_11368_M47443-46749\n",
      "https://www.realtor.com/realestateandhomes-detail/129-W-22nd-St-Apt-10B_New-York_NY_10011_M46978-35673\n",
      "https://www.realtor.com/realestateandhomes-detail/2446-E-66th-St_Brooklyn_NY_11234_M37723-86250\n",
      "https://www.realtor.com/realestateandhomes-detail/8318-Parsons-Blvd_Jamaica_NY_11432_M93766-66668\n",
      "https://www.realtor.com/realestateandhomes-detail/Brooklyn_NY_11222_M98297-27903\n",
      "https://www.realtor.com/realestateandhomes-detail/121-Finley-Ave_Staten-Island_NY_10306_M93843-07788\n",
      "https://www.realtor.com/realestateandhomes-detail/4807-190th-St_Fresh-Meadows_NY_11365_M44211-35378\n",
      "https://www.realtor.com/realestateandhomes-detail/357-Henry-St_Brooklyn_NY_11201_M30969-88303\n",
      "https://www.realtor.com/realestateandhomes-detail/101-Bedell-Ave_Staten-Island_NY_10307_M34505-83768\n",
      "https://www.realtor.com/realestateandhomes-detail/1438-E-51st-St_Brooklyn_NY_11234_M32951-92707\n",
      "https://www.realtor.com/realestateandhomes-detail/17008-104th-Ave_Jamaica_NY_11433_M31674-73029\n",
      "https://www.realtor.com/realestateandhomes-detail/40-Larkin-St_Staten-Island_NY_10302_M31426-81027\n",
      "https://www.realtor.com/realestateandhomes-detail/23317-38th-Dr_Little-Neck_NY_11363_M30681-44585\n",
      "https://www.realtor.com/realestateandhomes-detail/139-Schenectady-Ave_Brooklyn_NY_11213_M93860-66531\n",
      "https://www.realtor.com/realestateandhomes-detail/647-Baltic-St_Brooklyn_NY_11217_M48716-48278\n",
      "https://www.realtor.com/realestateandhomes-detail/2868-W-25th-St_Brooklyn_NY_11224_M37802-70886\n",
      "https://www.realtor.com/realestateandhomes-detail/5022-201st-St_Oakland-Gardens_NY_11364_M32700-58648\n",
      "https://www.realtor.com/realestateandhomes-detail/206-Sheffield-Ave_Brooklyn_NY_11207_M41591-76468\n",
      "https://www.realtor.com/realestateandhomes-detail/2524-West-St_Brooklyn_NY_11223_M93770-49198\n",
      "https://www.realtor.com/realestateandhomes-detail/6280-Austin-St_Rego-Park_NY_11374_M31081-93064\n",
      "https://www.realtor.com/realestateandhomes-detail/20-Van-Tuyl-St_Staten-Island_NY_10301_M44301-78926\n",
      "https://www.realtor.com/realestateandhomes-detail/3325-Kingsland-Ave_Bronx_NY_10469_M32466-72114\n",
      "https://www.realtor.com/realestateandhomes-detail/3223-Jordan-St_Flushing_NY_11358_M35408-56954\n",
      "https://www.realtor.com/realestateandhomes-detail/3485-Mickle-Ave_Bronx_NY_10469_M47742-48586\n",
      "https://www.realtor.com/realestateandhomes-detail/8230-266th-St_Floral-Park_NY_11004_M49305-75239\n",
      "https://www.realtor.com/realestateandhomes-detail/157-E-65th-St_New-York_NY_10065_M43426-81152\n",
      "https://www.realtor.com/realestateandhomes-detail/49-Chambers-St-Apt-12E_New-York_NY_10007_M35990-36364\n",
      "https://www.realtor.com/realestateandhomes-detail/15038-120th-Ave_Jamaica_NY_11434_M36693-99785\n",
      "https://www.realtor.com/realestateandhomes-detail/15-W-24th-St-Apt-6_New-York_NY_10010_M95635-05216\n",
      "https://www.realtor.com/realestateandhomes-detail/529-W-42nd-St-Apt-5M_New-York_NY_10036_M93235-93029\n",
      "https://www.realtor.com/realestateandhomes-detail/3009-Coddington-Ave_Bronx_NY_10461_M32130-43713\n",
      "https://www.realtor.com/realestateandhomes-detail/2750-Bedford-Ave_Brooklyn_NY_11210_M32163-43048\n",
      "https://www.realtor.com/realestateandhomes-detail/14706-11th-Ave_Whitestone_NY_11357_M44509-58281\n",
      "https://www.realtor.com/realestateandhomes-detail/3723-111th-St_Corona_NY_11368_M48050-51746\n",
      "https://www.realtor.com/realestateandhomes-detail/8555-262nd-St_Floral-Park_NY_11001_M41962-08664\n",
      "\n",
      "\n",
      "\n",
      "\n",
      " 44\n"
     ]
    },
    {
     "name": "stdout",
     "output_type": "stream",
     "text": [
      "mmmmmmmmmmmmmmmmmmmm https://www.realtor.com/realestateandhomes-search/Atlanta_GA/shw-nc/price-800000-na/pg-45\n",
      "https://www.realtor.com/realestateandhomes-detail/8555-262nd-St_Floral-Park_NY_11001_M41962-08664\n",
      "https://www.realtor.com/realestateandhomes-detail/8115-169th-St_Jamaica_NY_11432_M39516-11099\n",
      "https://www.realtor.com/realestateandhomes-detail/246-Dubois-Ave_Staten-Island_NY_10310_M43906-28389\n",
      "https://www.realtor.com/realestateandhomes-detail/674-Castleton-Ave_Staten-Island_NY_10301_M45557-91749\n",
      "https://www.realtor.com/realestateandhomes-detail/13801-107th-Ave_Jamaica_NY_11435_M40652-29883\n",
      "https://www.realtor.com/realestateandhomes-detail/35-Country-Dr-S-A_Staten-Island_NY_10314_M38310-98970\n",
      "https://www.realtor.com/realestateandhomes-detail/1490-E-23rd-St_Brooklyn_NY_11210_M45110-70539\n",
      "https://www.realtor.com/realestateandhomes-detail/25120-Memphis-Ave_Rosedale_NY_11422_M44272-52067\n",
      "https://www.realtor.com/realestateandhomes-detail/4612-Avenue-K_Brooklyn_NY_11234_M33160-61635\n",
      "https://www.realtor.com/realestateandhomes-detail/39-Reynolds-St_Staten-Island_NY_10305_M45727-50198\n",
      "https://www.realtor.com/realestateandhomes-detail/6120-214th-St_Oakland-Gardens_NY_11364_M30326-35402\n",
      "https://www.realtor.com/realestateandhomes-detail/2322-Plumb-1st-St_Brooklyn_NY_11229_M46165-86166\n",
      "https://www.realtor.com/realestateandhomes-detail/11110-153rd-St_Jamaica_NY_11433_M37320-43834\n",
      "https://www.realtor.com/realestateandhomes-detail/13005-123rd-St_South-Ozone-Park_NY_11420_M42795-66434\n",
      "https://www.realtor.com/realestateandhomes-detail/3395-Richmond-Ave_Staten-Island_NY_10312_M41908-29927\n",
      "https://www.realtor.com/realestateandhomes-detail/8538-Homelawn-St_Jamaica_NY_11432_M48798-79130\n",
      "https://www.realtor.com/realestateandhomes-detail/8726-127th-St_Richmond-Hill_NY_11418_M34566-62521\n",
      "https://www.realtor.com/realestateandhomes-detail/4507-189th-St_Flushing_NY_11358_M36430-14275\n",
      "https://www.realtor.com/realestateandhomes-detail/73-Irving-Pl_Staten-Island_NY_10304_M34466-72619\n",
      "https://www.realtor.com/realestateandhomes-detail/5005-46th-St_Woodside_NY_11377_M42209-33992\n",
      "https://www.realtor.com/realestateandhomes-detail/11003-164th-Pl_Jamaica_NY_11433_M35103-56966\n",
      "https://www.realtor.com/realestateandhomes-detail/4643-157th-St_Flushing_NY_11355_M35718-44548\n",
      "https://www.realtor.com/realestateandhomes-detail/445-Lafayette-St-Apt-11C_New-York_NY_10003_M96527-66714\n",
      "https://www.realtor.com/realestateandhomes-detail/1620-Madison-Pl_Brooklyn_NY_11229_M43927-97885\n",
      "https://www.realtor.com/realestateandhomes-detail/714-Ladd-Rd_Bronx_NY_10471_M34283-25914\n",
      "https://www.realtor.com/realestateandhomes-detail/1223-Avenue-Y_Brooklyn_NY_11235_M30517-82943\n",
      "https://www.realtor.com/realestateandhomes-detail/11650-147th-St_Jamaica_NY_11436_M48069-54052\n",
      "https://www.realtor.com/realestateandhomes-detail/455-Beach-46th-St_Far-Rockaway_NY_11691_M45265-70175\n",
      "https://www.realtor.com/realestateandhomes-detail/39-41-Eldridge-St_New-York_NY_10002_M97797-30638\n",
      "https://www.realtor.com/realestateandhomes-detail/2025-E-33rd-St_Brooklyn_NY_11234_M47192-50689\n",
      "https://www.realtor.com/realestateandhomes-detail/240-E-76th-St-Apt-14M_New-York_NY_10021_M42790-83352\n",
      "https://www.realtor.com/realestateandhomes-detail/9728-130th-St_South-Richmond-Hill_NY_11419_M42907-79111\n",
      "https://www.realtor.com/realestateandhomes-detail/942-Jerome-St_Brooklyn_NY_11207_M41602-62255\n",
      "https://www.realtor.com/realestateandhomes-detail/4417-Baychester-Ave_Bronx_NY_10466_M49206-63326\n",
      "https://www.realtor.com/realestateandhomes-detail/6-Schuyler-Ter_Bronx_NY_10465_M33213-18946\n",
      "https://www.realtor.com/realestateandhomes-detail/15-Woodvale_Staten-Island_NY_10309_M91701-95184\n",
      "https://www.realtor.com/realestateandhomes-detail/1853-W-4th-St_Brooklyn_NY_11223_M49967-41121\n",
      "https://www.realtor.com/realestateandhomes-detail/11321-205th-St_Saint-Albans_NY_11412_M48884-90711\n",
      "https://www.realtor.com/realestateandhomes-detail/238-Kosciuszko-St_Brooklyn_NY_11221_M49795-90044\n",
      "https://www.realtor.com/realestateandhomes-detail/14602-133rd-Ave_Jamaica_NY_11436_M37031-25463\n",
      "https://www.realtor.com/realestateandhomes-detail/291-Bedford-Ave_Staten-Island_NY_10306_M36250-74132\n",
      "https://www.realtor.com/realestateandhomes-detail/967-E-228th-St_Bronx_NY_10466_M34680-65930\n",
      "\n",
      "\n",
      "\n",
      "\n",
      " 45\n"
     ]
    },
    {
     "name": "stdout",
     "output_type": "stream",
     "text": [
      "mmmmmmmmmmmmmmmmmmmm https://www.realtor.com/realestateandhomes-search/Atlanta_GA/shw-nc/price-800000-na/pg-46\n",
      "https://www.realtor.com/realestateandhomes-detail/291-Bedford-Ave_Staten-Island_NY_10306_M36250-74132\n",
      "https://www.realtor.com/realestateandhomes-detail/13304-145th-St_Jamaica_NY_11436_M46138-92502\n",
      "https://www.realtor.com/realestateandhomes-detail/1114-Banner-Ave_Brooklyn_NY_11235_M42640-35830\n",
      "https://www.realtor.com/realestateandhomes-detail/238-Kosciuszko-St_Brooklyn_NY_11221_M49795-90044\n",
      "https://www.realtor.com/realestateandhomes-detail/4557-196th-St_Flushing_NY_11358_M40237-92081\n",
      "https://www.realtor.com/realestateandhomes-detail/967-E-228th-St_Bronx_NY_10466_M34680-65930\n",
      "https://www.realtor.com/realestateandhomes-detail/32-Wandel-Ave_Staten-Island_NY_10304_M94410-44055\n",
      "https://www.realtor.com/realestateandhomes-detail/8304-251st-St_Bellerose_NY_11426_M32356-23694\n",
      "https://www.realtor.com/realestateandhomes-detail/14506-225th-St_Springfield-Gardens_NY_11413_M42290-95722\n",
      "https://www.realtor.com/realestateandhomes-detail/14-Goller-Pl_Staten-Island_NY_10314_M49577-93289\n",
      "https://www.realtor.com/realestateandhomes-detail/1488-E-23rd-St_Brooklyn_NY_11210_M35436-22001\n",
      "https://www.realtor.com/realestateandhomes-detail/2147-E-13th-St_Brooklyn_NY_11229_M40373-47805\n",
      "https://www.realtor.com/realestateandhomes-detail/2114-Avenue-N_Brooklyn_NY_11210_M33143-32604\n",
      "https://www.realtor.com/realestateandhomes-detail/587-Saint-Johns-Pl_Brooklyn_NY_11238_M97380-51534\n",
      "https://www.realtor.com/realestateandhomes-detail/87-Steuben-St_Staten-Island_NY_10304_M31517-83854\n",
      "https://www.realtor.com/realestateandhomes-detail/550-W-261st-St_Bronx_NY_10471_M47924-03398\n",
      "https://www.realtor.com/realestateandhomes-detail/1431-Shore-Dr_Bronx_NY_10465_M48582-26425\n",
      "https://www.realtor.com/realestateandhomes-detail/3278-Spencer-Dr_Bronx_NY_10465_M49669-08434\n",
      "https://www.realtor.com/realestateandhomes-detail/2808-Quentin-Rd_Brooklyn_NY_11229_M46605-78352\n",
      "https://www.realtor.com/realestateandhomes-detail/1727-E-16th-St_Brooklyn_NY_11229_M46685-01416\n",
      "https://www.realtor.com/realestateandhomes-detail/2333-95th-St_East-Elmhurst_NY_11369_M36982-88594\n",
      "https://www.realtor.com/realestateandhomes-detail/685-E-132nd-St_Bronx_NY_10454_M30989-29099\n",
      "https://www.realtor.com/realestateandhomes-detail/NY_11210_M98790-90593\n",
      "https://www.realtor.com/realestateandhomes-detail/NY_11375_M94982-47528\n",
      "https://www.realtor.com/realestateandhomes-detail/3167-Shore-Pkwy_Brooklyn_NY_11235_M31270-52809\n",
      "https://www.realtor.com/realestateandhomes-detail/1630-Kimball-St_Brooklyn_NY_11234_M32539-57682\n",
      "https://www.realtor.com/realestateandhomes-detail/350-Brookfield-Ave_Staten-Island_NY_10308_M37750-40508\n",
      "https://www.realtor.com/realestateandhomes-detail/612-127th-St_College-Point_NY_11356_M39124-81156\n",
      "https://www.realtor.com/realestateandhomes-detail/40-Jenna-Ln_Staten-Island_NY_10304_M44616-35233\n",
      "https://www.realtor.com/realestateandhomes-detail/724-125th-St_College-Point_NY_11356_M46236-64402\n",
      "https://www.realtor.com/realestateandhomes-detail/310-Beach-39th-St_Far-Rockaway_NY_11691_M49785-92759\n",
      "https://www.realtor.com/realestateandhomes-detail/3827-28th-St_Long-Island-City_NY_11101_M93817-27868\n",
      "https://www.realtor.com/realestateandhomes-detail/7328-179th-St_Fresh-Meadows_NY_11366_M42959-48408\n",
      "https://www.realtor.com/realestateandhomes-detail/455-Irving-Ave_Brooklyn_NY_11237_M32876-86509\n",
      "https://www.realtor.com/realestateandhomes-detail/NY_11229_M93969-42726\n",
      "https://www.realtor.com/realestateandhomes-detail/NY_10306_M97775-42746\n",
      "https://www.realtor.com/realestateandhomes-detail/NY_10462_M97523-65026\n",
      "https://www.realtor.com/realestateandhomes-detail/11429-130th-St_South-Ozone-Park_NY_11420_M45375-83224\n",
      "https://www.realtor.com/realestateandhomes-detail/2068-Hermany-Ave_Bronx_NY_10473_M48579-85159\n",
      "https://www.realtor.com/realestateandhomes-detail/77-Arlington-Pl_Staten-Island_NY_10303_M49177-14730\n",
      "https://www.realtor.com/realestateandhomes-detail/17841-134th-Ave_Jamaica_NY_11434_M48469-17663\n",
      "https://www.realtor.com/realestateandhomes-detail/3349-Bouck-Ave_Bronx_NY_10469_M48401-34773\n",
      "\n",
      "\n",
      "\n",
      "\n",
      " 46\n"
     ]
    },
    {
     "name": "stdout",
     "output_type": "stream",
     "text": [
      "mmmmmmmmmmmmmmmmmmmm https://www.realtor.com/realestateandhomes-search/Atlanta_GA/shw-nc/price-800000-na/pg-47\n",
      "https://www.realtor.com/realestateandhomes-detail/9063-199th-St_Hollis_NY_11423_M40340-92522\n",
      "https://www.realtor.com/realestateandhomes-detail/11429-130th-St_South-Ozone-Park_NY_11420_M45375-83224\n",
      "https://www.realtor.com/realestateandhomes-detail/17841-134th-Ave_Jamaica_NY_11434_M48469-17663\n",
      "https://www.realtor.com/realestateandhomes-detail/2068-Hermany-Ave_Bronx_NY_10473_M48579-85159\n",
      "https://www.realtor.com/realestateandhomes-detail/4417-Douglaston-Pkwy_Little-Neck_NY_11363_M90497-02681\n",
      "https://www.realtor.com/realestateandhomes-detail/423-Olmstead-Ave_Bronx_NY_10473_M44412-02858\n",
      "https://www.realtor.com/realestateandhomes-detail/7333-188th-St_Fresh-Meadows_NY_11366_M49628-98203\n",
      "https://www.realtor.com/realestateandhomes-detail/4026-Paulding-Ave_Bronx_NY_10466_M33546-71964\n",
      "https://www.realtor.com/realestateandhomes-detail/NY_11228_M96739-34286\n",
      "https://www.realtor.com/realestateandhomes-detail/24659-86th-Rd_Bellerose_NY_11426_M41892-38864\n",
      "https://www.realtor.com/realestateandhomes-detail/18506-64th-Ave_Fresh-Meadows_NY_11365_M44423-18880\n",
      "https://www.realtor.com/realestateandhomes-detail/159-Hastings-St_Brooklyn_NY_11235_M43436-73149\n",
      "https://www.realtor.com/realestateandhomes-detail/1208-31st-Dr_Astoria_NY_11106_M42656-75164\n",
      "https://www.realtor.com/realestateandhomes-detail/13834-78th-Dr_Flushing_NY_11367_M33897-40408\n",
      "https://www.realtor.com/realestateandhomes-detail/11125-Francis-Lewis-Blvd_Queens-Village_NY_11429_M45964-24221\n",
      "https://www.realtor.com/realestateandhomes-detail/165-28th-Ave_Brooklyn_NY_11214_M36364-89433\n",
      "https://www.realtor.com/realestateandhomes-detail/186-E-2nd-St-Apt-2_New-York_NY_10009_M39942-07323\n",
      "https://www.realtor.com/realestateandhomes-detail/3408-Murray-Ln_Flushing_NY_11354_M38417-22058\n",
      "https://www.realtor.com/realestateandhomes-detail/28-Bogardus-St_Brooklyn_NY_11235_M99487-84309\n",
      "https://www.realtor.com/realestateandhomes-detail/8835-241st-St_Bellerose_NY_11426_M43310-84414\n",
      "https://www.realtor.com/realestateandhomes-detail/2172-E-72nd-St_Brooklyn_NY_11234_M49955-70132\n",
      "https://www.realtor.com/realestateandhomes-detail/69-Wadsworth-Ave_Staten-Island_NY_10305_M41542-61888\n",
      "https://www.realtor.com/realestateandhomes-detail/155-Stuyvesant-Ave_Brooklyn_NY_11221_M38186-48509\n",
      "https://www.realtor.com/realestateandhomes-detail/2561-McIntosh-St_East-Elmhurst_NY_11369_M36374-47831\n",
      "https://www.realtor.com/realestateandhomes-detail/664-S-Gannon-Ave_Staten-Island_NY_10314_M42098-41856\n",
      "https://www.realtor.com/realestateandhomes-detail/61-Lexington-Ave-Apt-5F_New-York_NY_10010_M37021-74371\n",
      "https://www.realtor.com/realestateandhomes-detail/11638-218th-St_Cambria-Heights_NY_11411_M37951-57820\n",
      "https://www.realtor.com/realestateandhomes-detail/967-Bard-Ave_Staten-Island_NY_10301_M43666-42421\n",
      "https://www.realtor.com/realestateandhomes-detail/67-E-93rd-St_New-York_NY_10128_M47493-46866\n",
      "https://www.realtor.com/realestateandhomes-detail/58-Heberton-Ave_Staten-Island_NY_10302_M49151-35157\n",
      "https://www.realtor.com/realestateandhomes-detail/47-Division-St_New-York_NY_10002_M91345-08474\n",
      "https://www.realtor.com/realestateandhomes-detail/64-10-Myrtle-Ave-Unit-Multifamil_Ridgewood_NY_11385_M90736-99594\n",
      "https://www.realtor.com/realestateandhomes-detail/5411-Post-Rd_Bronx_NY_10471_M93299-34063\n",
      "https://www.realtor.com/realestateandhomes-detail/63-Ashford-St_Brooklyn_NY_11207_M43525-74207\n",
      "https://www.realtor.com/realestateandhomes-detail/220-Douglas-Rd_Staten-Island_NY_10304_M39224-82247\n",
      "https://www.realtor.com/realestateandhomes-detail/8414-Eliot-Ave_Middle-Village_NY_11379_M40193-19465\n",
      "https://www.realtor.com/realestateandhomes-detail/8592-98th-St_Woodhaven_NY_11421_M30621-69625\n",
      "https://www.realtor.com/realestateandhomes-detail/26-46-4th-St-Unit-Residences_Astoria_NY_11102_M95347-79257\n",
      "https://www.realtor.com/realestateandhomes-detail/230-Sunnyside-Ave_Brooklyn_NY_11207_M36384-38635\n",
      "https://www.realtor.com/realestateandhomes-detail/13535-Sutter-Ave_South-Ozone-Park_NY_11420_M44181-34507\n",
      "https://www.realtor.com/realestateandhomes-detail/8778-256th-St_Floral-Park_NY_11001_M45876-20012\n",
      "https://www.realtor.com/realestateandhomes-detail/25-The-Oval_Staten-Island_NY_10304_M48079-60232\n",
      "\n",
      "\n",
      "\n",
      "\n",
      " 47\n"
     ]
    },
    {
     "name": "stdout",
     "output_type": "stream",
     "text": [
      "mmmmmmmmmmmmmmmmmmmm https://www.realtor.com/realestateandhomes-search/Atlanta_GA/shw-nc/price-800000-na/pg-48\n",
      "https://www.realtor.com/realestateandhomes-detail/502-Schenck-Ave_Brooklyn_NY_11207_M44065-26976\n",
      "https://www.realtor.com/realestateandhomes-detail/60-E-8th-St-Apt-28F_New-York_NY_10003_M41501-62787\n",
      "https://www.realtor.com/realestateandhomes-detail/788-Troy-Ave_Brooklyn_NY_11203_M41068-11521\n",
      "https://www.realtor.com/realestateandhomes-detail/145-Sixth-Ave-Ph_New-York_NY_10013_M95247-32387\n",
      "https://www.realtor.com/realestateandhomes-detail/Springfield-Blvd_Queens-Village_NY_11429_M92818-75451\n",
      "https://www.realtor.com/realestateandhomes-detail/456-Oder-Ave_Staten-Island_NY_10304_M43101-08060\n",
      "https://www.realtor.com/realestateandhomes-detail/1918-E-37th-St_Brooklyn_NY_11234_M49403-93732\n",
      "https://www.realtor.com/realestateandhomes-detail/1059-Neill-Ave_Bronx_NY_10461_M46348-48068\n",
      "https://www.realtor.com/realestateandhomes-detail/13318-148th-St_Jamaica_NY_11436_M32569-77599\n",
      "https://www.realtor.com/realestateandhomes-detail/3224-Avenue-L_Brooklyn_NY_11210_M33916-51488\n",
      "https://www.realtor.com/realestateandhomes-detail/NY_11235_M95908-66828\n",
      "https://www.realtor.com/realestateandhomes-detail/NY_11220_M97909-76007\n",
      "https://www.realtor.com/realestateandhomes-detail/NY_10026_M94867-07440\n",
      "https://www.realtor.com/realestateandhomes-detail/459-Vanderbilt-Ave_Brooklyn_NY_11238_M98229-21714\n",
      "https://www.realtor.com/realestateandhomes-detail/119-Macon-Ave_Staten-Island_NY_10312_M41456-58650\n",
      "https://www.realtor.com/realestateandhomes-detail/2648-E-11th-St_Brooklyn_NY_11235_M35291-96933\n",
      "https://www.realtor.com/realestateandhomes-detail/18329-Brinkerhoff-Ave_Jamaica_NY_11412_M42511-24022\n",
      "https://www.realtor.com/realestateandhomes-detail/24002-65th-Ave_Little-Neck_NY_11362_M45882-02449\n",
      "https://www.realtor.com/realestateandhomes-detail/3279-Bruckner-Blvd_Bronx_NY_10461_M42706-91576\n",
      "https://www.realtor.com/realestateandhomes-detail/13-Hylan-Blvd-A_Staten-Island_NY_10305_M44915-74306\n",
      "https://www.realtor.com/realestateandhomes-detail/3319-Bell-Blvd_Bayside_NY_11361_M43046-16851\n",
      "https://www.realtor.com/realestateandhomes-detail/2712-Holland-Ave_Bronx_NY_10467_M34293-95254\n",
      "https://www.realtor.com/realestateandhomes-detail/3044-Brighton-2nd-St_Brooklyn_NY_11235_M35126-05365\n",
      "https://www.realtor.com/realestateandhomes-detail/15033-Hawtree-St_Ozone-Park_NY_11417_M97095-53298\n",
      "https://www.realtor.com/realestateandhomes-detail/10436-10438-38th-Ave_Corona_NY_11368_M93705-96777\n",
      "https://www.realtor.com/realestateandhomes-detail/NY_10027_M93358-89060\n",
      "https://www.realtor.com/realestateandhomes-detail/5324-66th-St_Maspeth_NY_11378_M44989-39145\n",
      "https://www.realtor.com/realestateandhomes-detail/115-Gain-Ct_Brooklyn_NY_11229_M43827-22354\n",
      "https://www.realtor.com/realestateandhomes-detail/3402-Kings-Hwy_Brooklyn_NY_11234_M34702-82627\n",
      "https://www.realtor.com/realestateandhomes-detail/14204-Liberty-Ave_Jamaica_NY_11435_M98736-25875\n",
      "https://www.realtor.com/realestateandhomes-detail/14340-Poplar-Ave_Flushing_NY_11355_M48148-47614\n",
      "https://www.realtor.com/realestateandhomes-detail/1809-W-3rd-St_Brooklyn_NY_11223_M34670-24746\n",
      "https://www.realtor.com/realestateandhomes-detail/270-Cleveland-St_Brooklyn_NY_11208_M38709-20031\n",
      "https://www.realtor.com/realestateandhomes-detail/9709-Remington-St_Jamaica_NY_11435_M30234-77427\n",
      "https://www.realtor.com/realestateandhomes-detail/1025-E-13th-St_Brooklyn_NY_11230_M39413-82928\n",
      "https://www.realtor.com/realestateandhomes-detail/11625-168th-St_Jamaica_NY_11434_M35646-95785\n",
      "https://www.realtor.com/realestateandhomes-detail/12860-236th-St_Rosedale_NY_11422_M93178-10757\n",
      "https://www.realtor.com/realestateandhomes-detail/10421-189th-St_Saint-Albans_NY_11412_M40376-08819\n",
      "https://www.realtor.com/realestateandhomes-detail/NY_10035_M95008-52240\n",
      "https://www.realtor.com/realestateandhomes-detail/791-Schenectady-Ave_Brooklyn_NY_11203_M48941-77726\n",
      "https://www.realtor.com/realestateandhomes-detail/1718-63rd-St_Brooklyn_NY_11204_M48144-70245\n",
      "https://www.realtor.com/realestateandhomes-detail/8805-91st-Ave_Woodhaven_NY_11421_M43879-66763\n",
      "\n",
      "\n",
      "\n",
      "\n",
      " 48\n"
     ]
    },
    {
     "name": "stdout",
     "output_type": "stream",
     "text": [
      "mmmmmmmmmmmmmmmmmmmm https://www.realtor.com/realestateandhomes-search/Atlanta_GA/shw-nc/price-800000-na/pg-49\n",
      "https://www.realtor.com/realestateandhomes-detail/3060-Grace-Ave_Bronx_NY_10469_M33593-27058\n",
      "https://www.realtor.com/realestateandhomes-detail/15168-28th-Ave_Flushing_NY_11354_M32012-22155\n",
      "https://www.realtor.com/realestateandhomes-detail/976-Metropolitan-Ave-Apt-1B_Brooklyn_NY_11211_M94669-54828\n",
      "https://www.realtor.com/realestateandhomes-detail/4544-Vernon-Blvd_Long-Island-City_NY_11101_M91702-35595\n",
      "https://www.realtor.com/realestateandhomes-detail/11228-Dillon-St_Jamaica_NY_11433_M40132-28669\n",
      "https://www.realtor.com/realestateandhomes-detail/6311-138th-St_Flushing_NY_11367_M44014-23621\n",
      "https://www.realtor.com/realestateandhomes-detail/43-Charlton-St_New-York_NY_10014_M41504-38904\n",
      "https://www.realtor.com/realestateandhomes-detail/4320-72nd-St_Woodside_NY_11377_M32273-36134\n",
      "https://www.realtor.com/realestateandhomes-detail/17209-Sayres-Ave_Jamaica_NY_11433_M38420-74419\n",
      "https://www.realtor.com/realestateandhomes-detail/625-E-93rd-St_Brooklyn_NY_11236_M35705-91875\n",
      "https://www.realtor.com/realestateandhomes-detail/2162-Brown-St_Brooklyn_NY_11229_M41440-59091\n",
      "https://www.realtor.com/realestateandhomes-detail/3036-91st-St_East-Elmhurst_NY_11369_M37521-26509\n",
      "https://www.realtor.com/realestateandhomes-detail/3514-109th-St_Corona_NY_11368_M47334-48646\n",
      "https://www.realtor.com/realestateandhomes-detail/511-Powell-St_Brooklyn_NY_11212_M44381-86579\n",
      "https://www.realtor.com/realestateandhomes-detail/11132-147th-St_Jamaica_NY_11435_M32325-41197\n",
      "https://www.realtor.com/realestateandhomes-detail/4312-Snyder-Ave_Brooklyn_NY_11203_M30822-71559\n",
      "https://www.realtor.com/realestateandhomes-detail/333-Lafayette-Ave_Staten-Island_NY_10301_M43857-66147\n",
      "https://www.realtor.com/realestateandhomes-detail/4526-215th-Pl_Bayside_NY_11361_M35234-52536\n",
      "https://www.realtor.com/realestateandhomes-detail/10513-171st-St_Jamaica_NY_11433_M31545-06314\n",
      "https://www.realtor.com/realestateandhomes-detail/341-Hillman-Ave_Staten-Island_NY_10314_M44028-68066\n",
      "https://www.realtor.com/realestateandhomes-detail/4026-Wickham-Ave_Bronx_NY_10466_M49731-31847\n",
      "https://www.realtor.com/realestateandhomes-detail/21834-104th-Ave_Queens-Village_NY_11429_M31757-32250\n",
      "https://www.realtor.com/realestateandhomes-detail/253-Weed-Ave_Staten-Island_NY_10306_M42536-76050\n",
      "https://www.realtor.com/realestateandhomes-detail/602-E-52nd-St_Brooklyn_NY_11203_M45371-42178\n",
      "https://www.realtor.com/realestateandhomes-detail/57-Jerome-Rd_Staten-Island_NY_10305_M31302-87916\n",
      "https://www.realtor.com/realestateandhomes-detail/14308-224th-St_Springfield-Gardens_NY_11413_M34900-00222\n",
      "https://www.realtor.com/realestateandhomes-detail/2519-120th-St_Flushing_NY_11354_M40057-30694\n",
      "https://www.realtor.com/realestateandhomes-detail/88-Prince-6th-St-Unit-Entire_New-York_NY_10012_M96170-89800\n",
      "https://www.realtor.com/realestateandhomes-detail/2531-E-63rd-St_Brooklyn_NY_11234_M32130-89538\n",
      "https://www.realtor.com/realestateandhomes-detail/1544-E-35th-St_Brooklyn_NY_11234_M46369-54893\n",
      "https://www.realtor.com/realestateandhomes-detail/262-Malcolm-X-Blvd_New-York_NY_10027_M49738-02876\n",
      "https://www.realtor.com/realestateandhomes-detail/6716-Woodside-Ave_Woodside_NY_11377_M46793-12604\n",
      "https://www.realtor.com/realestateandhomes-detail/53-Crosby-St-Apt-1_New-York_NY_10012_M42723-43290\n",
      "https://www.realtor.com/realestateandhomes-detail/249-Targee-St_Staten-Island_NY_10304_M37791-33464\n",
      "https://www.realtor.com/realestateandhomes-detail/10468-39th-Ave_Corona_NY_11368_M30150-47803\n",
      "https://www.realtor.com/realestateandhomes-detail/3927-56th-St_Woodside_NY_11377_M38776-25608\n",
      "https://www.realtor.com/realestateandhomes-detail/1530-E-2nd-St_Brooklyn_NY_11230_M41698-47123\n",
      "https://www.realtor.com/realestateandhomes-detail/1851-E-21st-St_Brooklyn_NY_11229_M39111-69695\n",
      "https://www.realtor.com/realestateandhomes-detail/4756-Glenwood-St_Little-Neck_NY_11362_M44264-30994\n",
      "https://www.realtor.com/realestateandhomes-detail/68-Circle-Rd_Staten-Island_NY_10304_M46341-51876\n",
      "https://www.realtor.com/realestateandhomes-detail/126-Crystal-St_Brooklyn_NY_11208_M43536-04202\n",
      "https://www.realtor.com/realestateandhomes-detail/135-E-87th-St_Brooklyn_NY_11236_M35309-78178\n",
      "\n",
      "\n",
      "\n",
      "\n",
      " 49\n"
     ]
    },
    {
     "name": "stdout",
     "output_type": "stream",
     "text": [
      "mmmmmmmmmmmmmmmmmmmm https://www.realtor.com/realestateandhomes-search/Atlanta_GA/shw-nc/price-800000-na/pg-50\n",
      "https://www.realtor.com/realestateandhomes-detail/10468-39th-Ave_Corona_NY_11368_M30150-47803\n",
      "https://www.realtor.com/realestateandhomes-detail/125-Tioga-St_Staten-Island_NY_10301_M35236-26790\n",
      "https://www.realtor.com/realestateandhomes-detail/7127-5th-Ave_Brooklyn_NY_11209_M92832-75830\n",
      "https://www.realtor.com/realestateandhomes-detail/18-W-127th-St_New-York_NY_10027_M98994-11348\n",
      "https://www.realtor.com/realestateandhomes-detail/2594-Schurz-Ave_Bronx_NY_10465_M41806-82953\n",
      "https://www.realtor.com/realestateandhomes-detail/133-Quentin-Rd_Brooklyn_NY_11223_M47324-75727\n",
      "https://www.realtor.com/realestateandhomes-detail/60-Lyman-Pl_Staten-Island_NY_10304_M33705-20261\n",
      "https://www.realtor.com/realestateandhomes-detail/8812-157th-Ave_Howard-Beach_NY_11414_M46829-73410\n",
      "https://www.realtor.com/realestateandhomes-detail/11416-149th-Ave_South-Ozone-Park_NY_11420_M45535-82909\n",
      "https://www.realtor.com/realestateandhomes-detail/153-Carlyle-Grn_Staten-Island_NY_10312_M45460-24220\n",
      "https://www.realtor.com/realestateandhomes-detail/10610-217th-St_Queens-Village_NY_11429_M48736-82834\n",
      "https://www.realtor.com/realestateandhomes-detail/19-Warren-St-Apt-2E_New-York_NY_10007_M37624-89771\n",
      "https://www.realtor.com/realestateandhomes-detail/8617-Avenue-J_Brooklyn_NY_11236_M32959-26654\n",
      "https://www.realtor.com/realestateandhomes-detail/2107-65th-St_Brooklyn_NY_11204_M42392-41383\n",
      "https://www.realtor.com/realestateandhomes-detail/6022-77th-Pl_Middle-Village_NY_11379_M34971-86344\n",
      "https://www.realtor.com/realestateandhomes-detail/24547-148th-Dr_Rosedale_NY_11422_M36169-94423\n",
      "https://www.realtor.com/realestateandhomes-detail/21252-Whitehall-Ter_Queens-Village_NY_11427_M35008-80044\n",
      "https://www.realtor.com/realestateandhomes-detail/134-62nd-St_New-York_NY_10065_M98797-75474\n",
      "https://www.realtor.com/realestateandhomes-detail/118-Kingsland-Ave-Apt-1_Brooklyn_NY_11222_M91735-26224\n",
      "https://www.realtor.com/realestateandhomes-detail/22-Grove-St_Staten-Island_NY_10304_M45216-18176\n",
      "https://www.realtor.com/realestateandhomes-detail/401-Linwood-St_Brooklyn_NY_11208_M40791-82937\n",
      "https://www.realtor.com/realestateandhomes-detail/1131-61st-St_Brooklyn_NY_11219_M48671-42248\n",
      "https://www.realtor.com/realestateandhomes-detail/10217-62nd-Dr_Forest-Hills_NY_11375_M38203-99642\n",
      "https://www.realtor.com/realestateandhomes-detail/1300-Avenue-S_Brooklyn_NY_11229_M32885-07306\n",
      "https://www.realtor.com/realestateandhomes-detail/14136-71st-Rd_Flushing_NY_11367_M40407-62606\n",
      "https://www.realtor.com/realestateandhomes-detail/45-Giacomo-Ln_Staten-Island_NY_10310_M36789-10611\n",
      "https://www.realtor.com/realestateandhomes-detail/11552-118th-St_South-Ozone-Park_NY_11420_M45316-04929\n",
      "https://www.realtor.com/realestateandhomes-detail/45-E-Loop-Rd_Staten-Island_NY_10304_M47520-24052\n",
      "https://www.realtor.com/realestateandhomes-detail/14-Stuyvesant-Ave_Brooklyn_NY_11221_M30648-03796\n",
      "https://www.realtor.com/realestateandhomes-detail/958-Clove-Rd_Staten-Island_NY_10301_M42612-78303\n",
      "https://www.realtor.com/realestateandhomes-detail/1809-Voorhies-Ave_Brooklyn_NY_11235_M97437-81171\n",
      "https://www.realtor.com/realestateandhomes-detail/2373-Broadway-Apt-1425_New-York_NY_10024_M96554-63546\n",
      "https://www.realtor.com/realestateandhomes-detail/7817-95th-Ave_Ozone-Park_NY_11416_M46391-76481\n",
      "https://www.realtor.com/realestateandhomes-detail/196-Brighton-10th-St_Brooklyn_NY_11235_M36463-52833\n",
      "https://www.realtor.com/realestateandhomes-detail/717-Annadale-Rd_Staten-Island_NY_10312_M35966-61527\n",
      "https://www.realtor.com/realestateandhomes-detail/210-Canal-St-Rm-510_New-York_NY_10013_M91691-94833\n",
      "https://www.realtor.com/realestateandhomes-detail/2543-Bouck-Ave_Bronx_NY_10469_M38722-66863\n",
      "https://www.realtor.com/realestateandhomes-detail/343-E-74th-St-Apt-7D_New-York_NY_10021_M37273-74372\n",
      "https://www.realtor.com/realestateandhomes-detail/18446-Aberdeen-Rd_Jamaica_NY_11432_M39350-80765\n",
      "https://www.realtor.com/realestateandhomes-detail/149-E-42nd-St_Brooklyn_NY_11203_M44339-86839\n",
      "https://www.realtor.com/realestateandhomes-detail/25-Arlington-Pl_Staten-Island_NY_10303_M35424-96655\n",
      "https://www.realtor.com/realestateandhomes-detail/1470-Louis-Nine-Blvd_Bronx_NY_10459_M46101-37599\n",
      "\n",
      "\n",
      "\n",
      "\n",
      " 50\n"
     ]
    },
    {
     "name": "stdout",
     "output_type": "stream",
     "text": [
      "mmmmmmmmmmmmmmmmmmmm https://www.realtor.com/realestateandhomes-search/Atlanta_GA/shw-nc/price-800000-na/pg-51\n",
      "https://www.realtor.com/realestateandhomes-detail/92-Brighton-11th-St_Brooklyn_NY_11235_M35993-51033\n",
      "https://www.realtor.com/realestateandhomes-detail/6434-Cloverdale-Blvd_Oakland-Gardens_NY_11364_M34419-92334\n",
      "https://www.realtor.com/realestateandhomes-detail/1470-Louis-Nine-Blvd_Bronx_NY_10459_M46101-37599\n",
      "https://www.realtor.com/realestateandhomes-detail/42-Sylvia-St_Staten-Island_NY_10312_M42692-61438\n",
      "https://www.realtor.com/realestateandhomes-detail/958-Clarkson-Ave_Brooklyn_NY_11203_M45874-51200\n",
      "https://www.realtor.com/realestateandhomes-detail/8931-92nd-St_Woodhaven_NY_11421_M34377-30719\n",
      "https://www.realtor.com/realestateandhomes-detail/8514-67th-Ave_Rego-Park_NY_11374_M34029-29403\n",
      "https://www.realtor.com/realestateandhomes-detail/389-Warwick-St_Brooklyn_NY_11207_M32209-94993\n",
      "https://www.realtor.com/realestateandhomes-detail/15905-65th-Ave_Fresh-Meadows_NY_11365_M37423-42533\n",
      "https://www.realtor.com/realestateandhomes-detail/264-84th-St_Brooklyn_NY_11209_M42828-22940\n",
      "https://www.realtor.com/realestateandhomes-detail/17228-83rd-Ave_Jamaica_NY_11432_M49909-68904\n",
      "https://www.realtor.com/realestateandhomes-detail/2255-E-12th-St_Brooklyn_NY_11229_M42418-72744\n",
      "https://www.realtor.com/realestateandhomes-detail/424-Snediker-Ave_Brooklyn_NY_11207_M38893-36927\n",
      "https://www.realtor.com/realestateandhomes-detail/3317-Hone-Ave_Bronx_NY_10469_M46704-33894\n",
      "https://www.realtor.com/realestateandhomes-detail/578-Junius-St_Brooklyn_NY_11212_M46134-48307\n",
      "https://www.realtor.com/realestateandhomes-detail/418-Beach-29th-St_Far-Rockaway_NY_11691_M43132-46623\n",
      "https://www.realtor.com/realestateandhomes-detail/4124-Digney-Ave_Bronx_NY_10466_M37624-66876\n",
      "https://www.realtor.com/realestateandhomes-detail/3449-110th-St_Corona_NY_11368_M48568-65224\n",
      "https://www.realtor.com/realestateandhomes-detail/14449-176th-St_Jamaica_NY_11434_M46546-97486\n",
      "https://www.realtor.com/realestateandhomes-detail/4615-48th-Ave_Woodside_NY_11377_M90389-21734\n",
      "https://www.realtor.com/realestateandhomes-detail/9717-31st-Ave_East-Elmhurst_NY_11369_M42520-87616\n",
      "https://www.realtor.com/realestateandhomes-detail/9485-219th-St_Queens-Village_NY_11428_M35599-97127\n",
      "https://www.realtor.com/realestateandhomes-detail/3014-Grace-Ave_Bronx_NY_10469_M35046-04223\n",
      "https://www.realtor.com/realestateandhomes-detail/1633-E-56th-St_Brooklyn_NY_11234_M40678-79281\n",
      "https://www.realtor.com/realestateandhomes-detail/21608-115th-Rd_Cambria-Heights_NY_11411_M49418-55541\n",
      "https://www.realtor.com/realestateandhomes-detail/3415-153rd-St_Flushing_NY_11354_M33793-90626\n",
      "https://www.realtor.com/realestateandhomes-detail/12137-7th-Ave_College-Point_NY_11356_M48929-43731\n",
      "https://www.realtor.com/realestateandhomes-detail/432-Fenimore-St_Brooklyn_NY_11225_M46318-38086\n",
      "https://www.realtor.com/realestateandhomes-detail/1117-51st-St_Brooklyn_NY_11219_M31738-24533\n",
      "https://www.realtor.com/realestateandhomes-detail/1084-Pacific-St_Brooklyn_NY_11238_M97774-58551\n",
      "https://www.realtor.com/realestateandhomes-detail/19863-Foothill-Ave_Jamaica_NY_11423_M39127-62837\n",
      "https://www.realtor.com/realestateandhomes-detail/13511-77th-Ave_Flushing_NY_11367_M35647-33051\n",
      "https://www.realtor.com/realestateandhomes-detail/237-Livingston-Ave_Staten-Island_NY_10314_M36634-63280\n",
      "https://www.realtor.com/realestateandhomes-detail/7007-Narrows-Ave_Brooklyn_NY_11209_M44353-13953\n",
      "https://www.realtor.com/realestateandhomes-detail/NY_10011_M94753-93250\n",
      "https://www.realtor.com/realestateandhomes-detail/438-Shepherd-Ave_Brooklyn_NY_11208_M33314-51247\n",
      "https://www.realtor.com/realestateandhomes-detail/2156-Kimball-St_Brooklyn_NY_11234_M37779-31355\n",
      "https://www.realtor.com/realestateandhomes-detail/22-Spirit-Ln_Staten-Island_NY_10303_M35283-79312\n",
      "https://www.realtor.com/realestateandhomes-detail/35-Herkimer-St_Brooklyn_NY_11216_M31233-45628\n",
      "https://www.realtor.com/realestateandhomes-detail/21719-39th-Ave_Bayside_NY_11361_M47310-19359\n",
      "https://www.realtor.com/realestateandhomes-detail/19355-85th-Rd_Hollis_NY_11423_M47056-24805\n",
      "https://www.realtor.com/realestateandhomes-detail/201-E-23rd-St-17A_New-York_NY_10010_M95577-40056\n",
      "\n",
      "\n",
      "\n",
      "\n",
      " 51\n"
     ]
    },
    {
     "name": "stdout",
     "output_type": "stream",
     "text": [
      "mmmmmmmmmmmmmmmmmmmm https://www.realtor.com/realestateandhomes-search/Atlanta_GA/shw-nc/price-800000-na/pg-52\n",
      "https://www.realtor.com/realestateandhomes-detail/305-E-24th-St-Apt-18K_New-York_NY_10010_M94299-43075\n",
      "https://www.realtor.com/realestateandhomes-detail/30-Bogardus-St_Brooklyn_NY_11235_M90888-35162\n",
      "https://www.realtor.com/realestateandhomes-detail/44-Linton-Pl_Staten-Island_NY_10308_M32839-00057\n",
      "https://www.realtor.com/realestateandhomes-detail/10231-90th-Ave_Richmond-Hill_NY_11418_M37523-72146\n",
      "https://www.realtor.com/realestateandhomes-detail/6422-Strickland-Ave_Brooklyn_NY_11234_M31531-28637\n",
      "https://www.realtor.com/realestateandhomes-detail/791-W-254th-St_Bronx_NY_10471_M33827-12400\n",
      "https://www.realtor.com/realestateandhomes-detail/2307-E-66th-St_Brooklyn_NY_11234_M30967-82532\n",
      "https://www.realtor.com/realestateandhomes-detail/1903-Lacombe-Ave_Bronx_NY_10473_M45525-53494\n",
      "https://www.realtor.com/realestateandhomes-detail/1209-Union-St_Brooklyn_NY_11225_M30427-99405\n",
      "https://www.realtor.com/realestateandhomes-detail/1-City-Pt-Apt-43H_Brooklyn_NY_11201_M90461-87717\n",
      "https://www.realtor.com/realestateandhomes-detail/425-E-63rd-St-Apt-E1G_New-York_NY_10065_M98667-69237\n",
      "https://www.realtor.com/realestateandhomes-detail/466-E-92nd-St_Brooklyn_NY_11212_M32393-34912\n",
      "https://www.realtor.com/realestateandhomes-detail/14340-Franklin-Ave_Flushing_NY_11355_M42179-72832\n",
      "https://www.realtor.com/realestateandhomes-detail/59-Newton-St_Staten-Island_NY_10312_M42310-89741\n",
      "https://www.realtor.com/realestateandhomes-detail/16028-87th-St_Howard-Beach_NY_11414_M39427-99186\n",
      "https://www.realtor.com/realestateandhomes-detail/65-Alter-Ave_Staten-Island_NY_10304_M34875-17315\n",
      "https://www.realtor.com/realestateandhomes-detail/16002-Baisley-Blvd_Jamaica_NY_11434_M33213-11914\n",
      "https://www.realtor.com/realestateandhomes-detail/105-Franklin-St_Brooklyn_NY_11222_M99568-05270\n",
      "https://www.realtor.com/realestateandhomes-detail/300-E-40th-St-Apt-31S_New-York_NY_10016_M98648-27000\n",
      "https://www.realtor.com/realestateandhomes-detail/30-Kinghorn-St_Staten-Island_NY_10312_M46823-17144\n",
      "https://www.realtor.com/realestateandhomes-detail/1118-Williams-Ct_Brooklyn_NY_11235_M34582-05312\n",
      "https://www.realtor.com/realestateandhomes-detail/2559-Seymour-Ave_Bronx_NY_10469_M35576-27362\n",
      "https://www.realtor.com/realestateandhomes-detail/3080-Coddington-Ave_Bronx_NY_10461_M42680-08428\n",
      "https://www.realtor.com/realestateandhomes-detail/159-Remsen-Ave_Brooklyn_NY_11212_M45860-25648\n",
      "https://www.realtor.com/realestateandhomes-detail/4719-164th-St_Flushing_NY_11358_M40848-70961\n",
      "https://www.realtor.com/realestateandhomes-detail/10703-Princeton-St_Jamaica_NY_11435_M42093-00017\n",
      "https://www.realtor.com/realestateandhomes-detail/142-Dehart-Ave_Staten-Island_NY_10303_M47717-06768\n",
      "https://www.realtor.com/realestateandhomes-detail/21-E-22nd-St-Apt-6H_New-York_NY_10010_M96651-71607\n",
      "https://www.realtor.com/realestateandhomes-detail/100-Patchen-Ave_Brooklyn_NY_11221_M39159-12619\n",
      "https://www.realtor.com/realestateandhomes-detail/2326-85th-St_Brooklyn_NY_11214_M30541-81262\n",
      "https://www.realtor.com/realestateandhomes-detail/2335-Hermany-Ave_Bronx_NY_10473_M49577-83353\n",
      "https://www.realtor.com/realestateandhomes-detail/4059-Paulding-Ave_Bronx_NY_10466_M34657-55441\n",
      "https://www.realtor.com/realestateandhomes-detail/2070-Pearson-St_Brooklyn_NY_11234_M41787-08194\n",
      "https://www.realtor.com/realestateandhomes-detail/1077-Adee-Ave_Bronx_NY_10469_M43553-08010\n",
      "https://www.realtor.com/realestateandhomes-detail/2247-E-66th-St_Brooklyn_NY_11234_M48949-10052\n",
      "https://www.realtor.com/realestateandhomes-detail/22315-114th-Rd_Cambria-Heights_NY_11411_M36882-88023\n",
      "https://www.realtor.com/realestateandhomes-detail/3236-Fish-Ave_Bronx_NY_10469_M32103-37820\n",
      "https://www.realtor.com/realestateandhomes-detail/196-Sixth-Ave-Apt-1A_New-York-City_NY_10013_M33919-87674\n",
      "https://www.realtor.com/realestateandhomes-detail/2416-McDonald-Ave_Brooklyn_NY_11223_M30898-05577\n",
      "https://www.realtor.com/realestateandhomes-detail/3317-Gunther-Ave_Bronx_NY_10469_M49908-38244\n",
      "https://www.realtor.com/realestateandhomes-detail/25723-148th-Dr_Rosedale_NY_11422_M37763-06328\n",
      "https://www.realtor.com/realestateandhomes-detail/11750-127th-St_South-Ozone-Park_NY_11420_M31754-64388\n",
      "\n",
      "\n",
      "\n",
      "\n",
      " 52\n"
     ]
    },
    {
     "name": "stdout",
     "output_type": "stream",
     "text": [
      "mmmmmmmmmmmmmmmmmmmm https://www.realtor.com/realestateandhomes-search/Atlanta_GA/shw-nc/price-800000-na/pg-53\n",
      "https://www.realtor.com/realestateandhomes-detail/13307-Linden-Blvd_South-Ozone-Park_NY_11420_M37230-50147\n",
      "https://www.realtor.com/realestateandhomes-detail/5768-Mazeau-St_Maspeth_NY_11378_M31991-70602\n",
      "https://www.realtor.com/realestateandhomes-detail/1714-Matthews-Ave_Bronx_NY_10462_M42831-72518\n",
      "https://www.realtor.com/realestateandhomes-detail/1958-Colden-Ave_Bronx_NY_10462_M46279-71538\n",
      "https://www.realtor.com/realestateandhomes-detail/214-Beach-3rd-St_Far-Rockaway_NY_11691_M36629-31958\n",
      "https://www.realtor.com/realestateandhomes-detail/9211-89th-Ave_Woodhaven_NY_11421_M33510-04647\n",
      "https://www.realtor.com/realestateandhomes-detail/23325-38th-Dr_Little-Neck_NY_11363_M30717-59382\n",
      "https://www.realtor.com/realestateandhomes-detail/10231-164th-Ave_Howard-Beach_NY_11414_M93789-27096\n",
      "https://www.realtor.com/realestateandhomes-detail/23106-125th-Ave_Springfield-Gardens_NY_11413_M31871-00808\n",
      "https://www.realtor.com/realestateandhomes-detail/1050-E-31st-St_Brooklyn_NY_11210_M31886-63899\n",
      "https://www.realtor.com/realestateandhomes-detail/1799-E-52nd-St_Brooklyn_NY_11234_M45026-23765\n",
      "https://www.realtor.com/realestateandhomes-detail/24-Hudson-St_Staten-Island_NY_10304_M44965-83686\n",
      "https://www.realtor.com/realestateandhomes-detail/3629-Tibbett-Ave_Bronx_NY_10463_M43878-52551\n",
      "https://www.realtor.com/realestateandhomes-detail/2327-Bassford-Ave_Bronx_NY_10458_M45436-55158\n",
      "https://www.realtor.com/realestateandhomes-detail/1934-Haring-St_Brooklyn_NY_11229_M37344-22404\n",
      "https://www.realtor.com/realestateandhomes-detail/18-Orient-Ave_Brooklyn_NY_11211_M47449-11179\n",
      "https://www.realtor.com/realestateandhomes-detail/3943-Seton-Ave_Bronx_NY_10466_M31241-44844\n",
      "https://www.realtor.com/realestateandhomes-detail/1702-Palmetto-St_Ridgewood_NY_11385_M94291-93555\n",
      "https://www.realtor.com/realestateandhomes-detail/310-E-46th-St-Apt-5T_New-York_NY_10017_M35273-75059\n",
      "https://www.realtor.com/realestateandhomes-detail/217A-34th-St_Brooklyn_NY_11232_M99530-97631\n",
      "https://www.realtor.com/realestateandhomes-detail/NY_10014_M96852-00477\n",
      "https://www.realtor.com/realestateandhomes-detail/13502-91st-Ave_Richmond-Hill_NY_11418_M43444-53441\n",
      "https://www.realtor.com/realestateandhomes-detail/1440-E-3rd-St_Brooklyn_NY_11230_M48968-27980\n",
      "https://www.realtor.com/realestateandhomes-detail/854-Flushing-Ave_Brooklyn_NY_11206_M30013-15500\n",
      "https://www.realtor.com/realestateandhomes-detail/233-Sunset-Blvd_Bronx_NY_10473_M93799-41297\n",
      "https://www.realtor.com/realestateandhomes-detail/9703-Jamaica-Ave_Jamaica_NY_11421_M93127-09835\n",
      "https://www.realtor.com/realestateandhomes-detail/247-Saint-Marys-Ave_Staten-Island_NY_10305_M44638-59114\n",
      "https://www.realtor.com/realestateandhomes-detail/2704-Glenwood-Rd_Brooklyn_NY_11210_M93791-02893\n",
      "https://www.realtor.com/realestateandhomes-detail/6940-198th-St_Fresh-Meadows_NY_11365_M47828-17796\n",
      "https://www.realtor.com/realestateandhomes-detail/102-Lorraine-Loop_Staten-Island_NY_10309_M31372-35125\n",
      "https://www.realtor.com/realestateandhomes-detail/1327-E-34th-St_Brooklyn_NY_11210_M38070-51800\n",
      "https://www.realtor.com/realestateandhomes-detail/18602-Foch-Blvd_Saint-Albans_NY_11412_M39301-57808\n",
      "https://www.realtor.com/realestateandhomes-detail/1158-E-224th-St_Bronx_NY_10466_M40629-71213\n",
      "https://www.realtor.com/realestateandhomes-detail/NY_10003_M92599-58027\n",
      "https://www.realtor.com/realestateandhomes-detail/109-Roman-Ave_Staten-Island_NY_10314_M32016-84112\n",
      "https://www.realtor.com/realestateandhomes-detail/107-Longview-Rd_Staten-Island_NY_10304_M30143-00559\n",
      "https://www.realtor.com/realestateandhomes-detail/14713-72nd-Dr_Flushing_NY_11367_M49386-86713\n",
      "https://www.realtor.com/realestateandhomes-detail/11401-115th-St_South-Ozone-Park_NY_11420_M43983-94930\n",
      "https://www.realtor.com/realestateandhomes-detail/3216-53rd-Pl_Woodside_NY_11377_M39989-76112\n",
      "https://www.realtor.com/realestateandhomes-detail/215-217-E-96th-St-Unit-25K_New-York_NY_10128_M91188-22803\n",
      "https://www.realtor.com/realestateandhomes-detail/7-E-69th-St_New-York_NY_10021_M47177-52867\n",
      "https://www.realtor.com/realestateandhomes-detail/1634-73rd-St_Brooklyn_NY_11204_M49295-98042\n",
      "\n",
      "\n",
      "\n",
      "\n",
      " 53\n"
     ]
    },
    {
     "name": "stdout",
     "output_type": "stream",
     "text": [
      "mmmmmmmmmmmmmmmmmmmm https://www.realtor.com/realestateandhomes-search/Atlanta_GA/shw-nc/price-800000-na/pg-54\n",
      "https://www.realtor.com/realestateandhomes-detail/271-Clifton-Ave_Staten-Island_NY_10305_M39596-59136\n",
      "https://www.realtor.com/realestateandhomes-detail/227-Dahlgren-Pl_Brooklyn_NY_11228_M43808-66486\n",
      "https://www.realtor.com/realestateandhomes-detail/9956-62nd-Rd_Rego-Park_NY_11374_M37450-85172\n",
      "https://www.realtor.com/realestateandhomes-detail/2703-Avenue-S_Brooklyn_NY_11229_M32562-35000\n",
      "https://www.realtor.com/realestateandhomes-detail/200-Rector-Pl-Apt-16F_New-York_NY_10280_M42856-41669\n",
      "https://www.realtor.com/realestateandhomes-detail/4725-Independence-Ave_Bronx_NY_10471_M36304-65832\n",
      "https://www.realtor.com/realestateandhomes-detail/24829-88th-Rd_Bellerose_NY_11426_M36104-98777\n",
      "https://www.realtor.com/realestateandhomes-detail/799-Father-Capodanno-Blvd_Staten-Island_NY_10305_M42748-55668\n",
      "https://www.realtor.com/realestateandhomes-detail/46-70th-St_Brooklyn_NY_11209_M45731-97940\n",
      "https://www.realtor.com/realestateandhomes-detail/86-Granite-St_Brooklyn_NY_11207_M36731-54046\n",
      "https://www.realtor.com/realestateandhomes-detail/124-Hett-Ave_Staten-Island_NY_10306_M39010-35437\n",
      "https://www.realtor.com/realestateandhomes-detail/4503-97th-Pl_Corona_NY_11368_M40433-95190\n",
      "https://www.realtor.com/realestateandhomes-detail/1205-E-95th-St_Brooklyn_NY_11236_M48881-09615\n",
      "https://www.realtor.com/realestateandhomes-detail/2621-91st-St_East-Elmhurst_NY_11369_M44283-78972\n",
      "https://www.realtor.com/realestateandhomes-detail/3364-190th-St_Flushing_NY_11358_M30822-36372\n",
      "https://www.realtor.com/realestateandhomes-detail/142-Great-Kills-Rd_Staten-Island_NY_10308_M35635-17093\n",
      "https://www.realtor.com/realestateandhomes-detail/165-Clove-Rd_Staten-Island_NY_10310_M32984-40072\n",
      "https://www.realtor.com/realestateandhomes-detail/193-Rockaway-Ave_Brooklyn_NY_11233_M97692-43262\n",
      "https://www.realtor.com/realestateandhomes-detail/19611-Pompeii-Ave_Hollis_NY_11423_M46069-95154\n",
      "https://www.realtor.com/realestateandhomes-detail/7372-Amboy-Rd_Staten-Island_NY_10307_M35008-23333\n",
      "https://www.realtor.com/realestateandhomes-detail/12011-218th-St_Cambria-Heights_NY_11411_M30031-61191\n",
      "https://www.realtor.com/realestateandhomes-detail/2312A-Mermaid-Ave_Brooklyn_NY_11224_M98710-28942\n",
      "https://www.realtor.com/realestateandhomes-detail/22911-141st-Ave_Springfield-Gardens_NY_11413_M37407-17352\n",
      "https://www.realtor.com/realestateandhomes-detail/10909-215th-St_Queens-Village_NY_11429_M35361-35552\n",
      "https://www.realtor.com/realestateandhomes-detail/556-E-New-York-Ave_Brooklyn_NY_11225_M49209-88386\n",
      "https://www.realtor.com/realestateandhomes-detail/774-E-35th-St_Brooklyn_NY_11210_M38779-73964\n",
      "https://www.realtor.com/realestateandhomes-detail/7234-73rd-St_Ridgewood_NY_11385_M33400-23269\n",
      "https://www.realtor.com/realestateandhomes-detail/11840-Montauk-St_Saint-Albans_NY_11412_M99646-95178\n",
      "https://www.realtor.com/realestateandhomes-detail/407-Christopher-Ave_Brooklyn_NY_11212_M32202-19409\n",
      "https://www.realtor.com/realestateandhomes-detail/16016-119th-Ave_Jamaica_NY_11434_M32334-38822\n",
      "https://www.realtor.com/realestateandhomes-detail/10465-142nd-St_Jamaica_NY_11435_M41529-91178\n",
      "https://www.realtor.com/realestateandhomes-detail/956-Hegeman-Ave_Brooklyn_NY_11208_M43559-08454\n",
      "https://www.realtor.com/realestateandhomes-detail/11540-227th-St_Cambria-Heights_NY_11411_M48759-69354\n",
      "https://www.realtor.com/realestateandhomes-detail/14561-157th-St_Jamaica_NY_11434_M39170-35122\n",
      "https://www.realtor.com/realestateandhomes-detail/942-Magenta-St_Bronx_NY_10469_M39251-06821\n",
      "https://www.realtor.com/realestateandhomes-detail/1151-E-72nd-St_Brooklyn_NY_11234_M33071-22884\n",
      "https://www.realtor.com/realestateandhomes-detail/14118-Lakewood-Ave_Jamaica_NY_11435_M43026-71318\n",
      "https://www.realtor.com/realestateandhomes-detail/25909-81st-Ave_Glen-Oaks_NY_11004_M49584-43960\n",
      "https://www.realtor.com/realestateandhomes-detail/11434-145th-St_Jamaica_NY_11436_M49605-27001\n",
      "https://www.realtor.com/realestateandhomes-detail/4346-39th-Pl_Sunnyside_NY_11104_M99978-24294\n",
      "https://www.realtor.com/realestateandhomes-detail/616-Port-Richmond-Ave_Staten-Island_NY_10302_M40836-96640\n",
      "https://www.realtor.com/realestateandhomes-detail/446-Tompkins-Ave_Staten-Island_NY_10305_M44470-89440\n",
      "\n",
      "\n",
      "\n",
      "\n",
      " 54\n"
     ]
    },
    {
     "name": "stdout",
     "output_type": "stream",
     "text": [
      "mmmmmmmmmmmmmmmmmmmm https://www.realtor.com/realestateandhomes-search/Atlanta_GA/shw-nc/price-800000-na/pg-55\n",
      "https://www.realtor.com/realestateandhomes-detail/616-Port-Richmond-Ave_Staten-Island_NY_10302_M40836-96640\n",
      "https://www.realtor.com/realestateandhomes-detail/11434-145th-St_Jamaica_NY_11436_M49605-27001\n",
      "https://www.realtor.com/realestateandhomes-detail/NY_11238_M90401-94688\n",
      "https://www.realtor.com/realestateandhomes-detail/2751-Fulton-St_Brooklyn_NY_11207_M36851-56828\n",
      "https://www.realtor.com/realestateandhomes-detail/4229-Bruner-Ave_Bronx_NY_10466_M42418-18694\n",
      "https://www.realtor.com/realestateandhomes-detail/259-Miller-Ave_Brooklyn_NY_11207_M38659-84480\n",
      "https://www.realtor.com/realestateandhomes-detail/18367-Dunlop-Ave_Saint-Albans_NY_11412_M40765-75696\n",
      "https://www.realtor.com/realestateandhomes-detail/1424-Ovington-Ave_Brooklyn_NY_11219_M91471-13201\n",
      "https://www.realtor.com/realestateandhomes-detail/1623-George-St_Ridgewood_NY_11385_M46379-11365\n",
      "https://www.realtor.com/realestateandhomes-detail/230-New-Lots-Ave_Brooklyn_NY_11207_M37411-51398\n",
      "https://www.realtor.com/realestateandhomes-detail/5036-201st-St_Oakland-Gardens_NY_11364_M32900-33193\n",
      "https://www.realtor.com/realestateandhomes-detail/15047-116th-Dr_Jamaica_NY_11434_M46058-27314\n",
      "https://www.realtor.com/realestateandhomes-detail/8811-Eldert-Ln_Jamaica_NY_11421_M44958-89787\n",
      "https://www.realtor.com/realestateandhomes-detail/2421-W-1st-St_Brooklyn_NY_11223_M31250-40266\n",
      "https://www.realtor.com/realestateandhomes-detail/1235-Troy-Ave_Brooklyn_NY_11203_M49362-11784\n",
      "https://www.realtor.com/realestateandhomes-detail/3130-14th-St_Astoria_NY_11106_M48136-90444\n",
      "https://www.realtor.com/realestateandhomes-detail/1702-Palmetto-St-G_Ridgewood_NY_11385_M97259-35847\n",
      "https://www.realtor.com/realestateandhomes-detail/197-Bay-Ter_Staten-Island_NY_10306_M44523-23119\n",
      "https://www.realtor.com/realestateandhomes-detail/12322-146th-St_Jamaica_NY_11436_M44277-49119\n",
      "https://www.realtor.com/realestateandhomes-detail/13110-134th-St_South-Ozone-Park_NY_11420_M43698-53315\n",
      "https://www.realtor.com/realestateandhomes-detail/1565-Charlotte-St_Bronx_NY_10460_M46171-46745\n",
      "https://www.realtor.com/realestateandhomes-detail/150-W-55th-St-1DEG_New-York_NY_10019_M98149-30274\n",
      "https://www.realtor.com/realestateandhomes-detail/622-Ocean-Ave_Brooklyn_NY_11226_M46076-06081\n",
      "https://www.realtor.com/realestateandhomes-detail/78-Townsend-Ave_Staten-Island_NY_10304_M34838-10316\n",
      "https://www.realtor.com/realestateandhomes-detail/22523-Murdock-Ave_Queens-Village_NY_11429_M35754-84015\n",
      "https://www.realtor.com/realestateandhomes-detail/1024-E-226th-St_Bronx_NY_10466_M30703-92834\n",
      "https://www.realtor.com/realestateandhomes-detail/60-Warren-St-Fl-3_New-York_NY_10007_M41725-13090\n",
      "https://www.realtor.com/realestateandhomes-detail/6451-Shaler-Ave_Ridgewood_NY_11385_M49272-65664\n",
      "https://www.realtor.com/realestateandhomes-detail/3622-Avenue-M_Brooklyn_NY_11234_M41664-44550\n",
      "https://www.realtor.com/realestateandhomes-detail/1671-E-52nd-St_Brooklyn_NY_11234_M45684-58164\n",
      "https://www.realtor.com/realestateandhomes-detail/29-Bogardus-St_Brooklyn_NY_11235_M97924-64875\n",
      "https://www.realtor.com/realestateandhomes-detail/651-Decatur-St_Brooklyn_NY_11233_M98599-17771\n",
      "https://www.realtor.com/realestateandhomes-detail/348-Targee-St_Staten-Island_NY_10304_M45180-44650\n",
      "https://www.realtor.com/realestateandhomes-detail/107-Denker-Pl_Staten-Island_NY_10314_M48904-16465\n",
      "https://www.realtor.com/realestateandhomes-detail/307-Bay-11th-St_Brooklyn_NY_11228_M44344-87804\n",
      "https://www.realtor.com/realestateandhomes-detail/99-Richmond-St_Brooklyn_NY_11208_M46694-17381\n",
      "https://www.realtor.com/realestateandhomes-detail/469-Barlow-Ave_Staten-Island_NY_10308_M33832-32686\n",
      "https://www.realtor.com/realestateandhomes-detail/3017-Corlear-Ave_Bronx_NY_10463_M31353-24627\n",
      "https://www.realtor.com/realestateandhomes-detail/1397-E-53rd-St_Brooklyn_NY_11234_M30042-01335\n",
      "https://www.realtor.com/realestateandhomes-detail/9963-165th-Ave_Howard-Beach_NY_11414_M38578-19539\n",
      "https://www.realtor.com/realestateandhomes-detail/15007-Reeves-Ave_Flushing_NY_11367_M34179-73134\n",
      "https://www.realtor.com/realestateandhomes-detail/429-Warren-St_Brooklyn_NY_11217_M97890-06693\n",
      "\n",
      "\n",
      "\n",
      "\n",
      " 55\n"
     ]
    },
    {
     "name": "stdout",
     "output_type": "stream",
     "text": [
      "mmmmmmmmmmmmmmmmmmmm https://www.realtor.com/realestateandhomes-search/Atlanta_GA/shw-nc/price-800000-na/pg-56\n",
      "https://www.realtor.com/realestateandhomes-detail/2401-92nd-St_East-Elmhurst_NY_11369_M36440-64722\n",
      "https://www.realtor.com/realestateandhomes-detail/1677-Eastburn-Ave_Bronx_NY_10457_M38787-36616\n",
      "https://www.realtor.com/realestateandhomes-detail/625-Lenox-Rd_Brooklyn_NY_11203_M40462-91631\n",
      "https://www.realtor.com/realestateandhomes-detail/1756-E-23rd-St_Brooklyn_NY_11229_M46525-28908\n",
      "https://www.realtor.com/realestateandhomes-detail/3167-Ampere-Ave-A_Bronx_NY_10465_M98210-39121\n",
      "https://www.realtor.com/realestateandhomes-detail/168-E-80th-St_New-York_NY_10075_M96669-57072\n",
      "https://www.realtor.com/realestateandhomes-detail/324-97th-St_Brooklyn_NY_11209_M46660-28626\n",
      "https://www.realtor.com/realestateandhomes-detail/1006-E-22nd-St_Brooklyn_NY_11210_M49736-91875\n",
      "https://www.realtor.com/realestateandhomes-detail/301-Mosel-Ave_Staten-Island_NY_10304_M34606-03571\n",
      "https://www.realtor.com/realestateandhomes-detail/1943-E-29th-St_Brooklyn_NY_11229_M36466-70556\n",
      "https://www.realtor.com/realestateandhomes-detail/564-566-Grandview-Ave_Ridgewood_NY_11385_M95816-91998\n",
      "https://www.realtor.com/realestateandhomes-detail/47-Milburn-St_Staten-Island_NY_10306_M90282-20709\n",
      "https://www.realtor.com/realestateandhomes-detail/45-E-89th-St-Apt-7D_New-York_NY_10128_M35010-51119\n",
      "https://www.realtor.com/realestateandhomes-detail/20A-Buel-Ave_Staten-Island_NY_10304_M34470-48427\n",
      "https://www.realtor.com/realestateandhomes-detail/2417-Quentin-Rd_Brooklyn_NY_11229_M44338-15091\n",
      "https://www.realtor.com/realestateandhomes-detail/603-Herkimer-St_Brooklyn_NY_11213_M46031-11119\n",
      "https://www.realtor.com/realestateandhomes-detail/797-Father-Capodanno-Blvd_Staten-Island_NY_10305_M37447-34003\n",
      "https://www.realtor.com/realestateandhomes-detail/13037-92nd-Ave_Richmond-Hill_NY_11418_M39266-77554\n",
      "https://www.realtor.com/realestateandhomes-detail/13337-147th-St_Jamaica_NY_11436_M48949-84431\n",
      "https://www.realtor.com/realestateandhomes-detail/21-Spirit-Ln_Staten-Island_NY_10303_M43161-13104\n",
      "https://www.realtor.com/realestateandhomes-detail/855-Kinsella-St_Bronx_NY_10462_M42972-96310\n",
      "https://www.realtor.com/realestateandhomes-detail/19306-119th-Ave_Saint-Albans_NY_11412_M49303-46449\n",
      "https://www.realtor.com/realestateandhomes-detail/462-Lake-St_Brooklyn_NY_11223_M47697-18925\n",
      "https://www.realtor.com/realestateandhomes-detail/2588-Stedman-Pl_Bronx_NY_10469_M46940-69948\n",
      "https://www.realtor.com/realestateandhomes-detail/19204-48th-Ave_Fresh-Meadows_NY_11365_M34313-65243\n",
      "https://www.realtor.com/realestateandhomes-detail/7620-11th-Ave_Brooklyn_NY_11228_M30655-18332\n",
      "https://www.realtor.com/realestateandhomes-detail/7917-12th-Ave_Brooklyn_NY_11228_M95415-72903\n",
      "https://www.realtor.com/realestateandhomes-detail/NY_11217_M94319-14534\n",
      "https://www.realtor.com/realestateandhomes-detail/NY_10075_M92453-48775\n",
      "https://www.realtor.com/realestateandhomes-detail/4744-199th-St_Flushing_NY_11358_M34201-10929\n",
      "https://www.realtor.com/realestateandhomes-detail/17015-84th-Dr_Jamaica_NY_11432_M45026-11323\n",
      "https://www.realtor.com/realestateandhomes-detail/1469-E-5th-St_Brooklyn_NY_11230_M49300-31935\n",
      "https://www.realtor.com/realestateandhomes-detail/16434-109th-Dr_Jamaica_NY_11433_M32597-94067\n",
      "https://www.realtor.com/realestateandhomes-detail/10437-214th-St_Queens-Village_NY_11429_M30111-27879\n",
      "https://www.realtor.com/realestateandhomes-detail/515-E-24th-St_Brooklyn_NY_11210_M30892-28918\n",
      "https://www.realtor.com/realestateandhomes-detail/995-W-Fingerboard-Rd_Staten-Island_NY_10304_M38477-31841\n",
      "https://www.realtor.com/realestateandhomes-detail/NY_10024_M96424-41991\n",
      "https://www.realtor.com/realestateandhomes-detail/1194-Brooklyn-Ave_Brooklyn_NY_11203_M32328-25967\n",
      "https://www.realtor.com/realestateandhomes-detail/6-Chatham-Sq_New-York_NY_10038_M96838-02260\n",
      "https://www.realtor.com/realestateandhomes-detail/55-Walker-St_New-York_NY_10013_M91995-70339\n",
      "https://www.realtor.com/realestateandhomes-detail/12720-107th-Ave_South-Richmond-Hill_NY_11419_M38853-62923\n",
      "https://www.realtor.com/realestateandhomes-detail/343-Stewart-Ave_Staten-Island_NY_10314_M48222-44461\n",
      "\n",
      "\n",
      "\n",
      "\n",
      " 56\n"
     ]
    },
    {
     "name": "stdout",
     "output_type": "stream",
     "text": [
      "mmmmmmmmmmmmmmmmmmmm https://www.realtor.com/realestateandhomes-search/Atlanta_GA/shw-nc/price-800000-na/pg-57\n",
      "https://www.realtor.com/realestateandhomes-detail/2741-E-21st-St_Brooklyn_NY_11235_M47305-60643\n",
      "https://www.realtor.com/realestateandhomes-detail/343-Stewart-Ave_Staten-Island_NY_10314_M48222-44461\n",
      "https://www.realtor.com/realestateandhomes-detail/19846-Epsom-Crse_Hollis_NY_11423_M38450-87885\n",
      "https://www.realtor.com/realestateandhomes-detail/302-Hunter-Ave_Staten-Island_NY_10306_M46073-21620\n",
      "https://www.realtor.com/realestateandhomes-detail/4658-189th-St_Flushing_NY_11358_M31435-60369\n",
      "https://www.realtor.com/realestateandhomes-detail/3-Beech-Ct_College-Point_NY_11356_M43232-26375\n",
      "https://www.realtor.com/realestateandhomes-detail/24047-68th-Ave_Little-Neck_NY_11362_M95132-79696\n",
      "https://www.realtor.com/realestateandhomes-detail/333-E-66th-St-Apt-9D_New-York_NY_10065_M32465-14580\n",
      "https://www.realtor.com/realestateandhomes-detail/69-Elmbank-St_Staten-Island_NY_10312_M96479-87786\n",
      "https://www.realtor.com/realestateandhomes-detail/355D-Dormans-Ct_Far-Rockaway_NY_11693_M93636-90399\n",
      "https://www.realtor.com/realestateandhomes-detail/4344-195th-St_Flushing_NY_11358_M39345-12574\n",
      "https://www.realtor.com/realestateandhomes-detail/300-E-40th-St-Apt-30T_New-York_NY_10016_M38908-38324\n",
      "https://www.realtor.com/realestateandhomes-detail/11321-203rd-St_Saint-Albans_NY_11412_M47443-04408\n",
      "https://www.realtor.com/realestateandhomes-detail/795-Father-Capodanno-Blvd_Staten-Island_NY_10305_M41747-42565\n",
      "https://www.realtor.com/realestateandhomes-detail/3714-74th-St_Jackson-Heights_NY_11372_M90816-75068\n",
      "https://www.realtor.com/realestateandhomes-detail/4400-Bedford-Ave_Brooklyn_NY_11229_M45611-02253\n",
      "https://www.realtor.com/realestateandhomes-detail/6950-Burchell-Ave_Arverne_NY_11692_M43221-55109\n",
      "https://www.realtor.com/realestateandhomes-detail/63-Redgrave-Ave_Staten-Island_NY_10306_M49091-64382\n",
      "https://www.realtor.com/realestateandhomes-detail/6915-Cloverdale-Blvd_Oakland-Gardens_NY_11364_M35710-45516\n",
      "https://www.realtor.com/realestateandhomes-detail/2416-National-Dr_Brooklyn_NY_11234_M38980-02222\n",
      "https://www.realtor.com/realestateandhomes-detail/81-Spartan-Ave_Staten-Island_NY_10303_M45110-75766\n",
      "https://www.realtor.com/realestateandhomes-detail/43-W-126th-St_New-York_NY_10027_M92707-59293\n",
      "https://www.realtor.com/realestateandhomes-detail/166-Revere-Ave-147_Bronx_NY_10465_M91132-84251\n",
      "https://www.realtor.com/realestateandhomes-detail/8478-160th-St_Jamaica_NY_11432_M45365-48001\n",
      "https://www.realtor.com/realestateandhomes-detail/11554-158th-St_Jamaica_NY_11434_M41277-09644\n",
      "https://www.realtor.com/realestateandhomes-detail/3714-68th-St_Woodside_NY_11377_M43050-41298\n",
      "https://www.realtor.com/realestateandhomes-detail/14-E-32nd-St_Brooklyn_NY_11226_M33255-47484\n",
      "https://www.realtor.com/realestateandhomes-detail/183-24th-St_Brooklyn_NY_11232_M37833-70960\n",
      "https://www.realtor.com/realestateandhomes-detail/1329-E-37th-St_Brooklyn_NY_11210_M33363-86095\n",
      "https://www.realtor.com/realestateandhomes-detail/2721-Yates-Ave_Bronx_NY_10469_M42483-22564\n",
      "https://www.realtor.com/realestateandhomes-detail/17617-127th-Ave_Jamaica_NY_11434_M41824-85505\n",
      "https://www.realtor.com/realestateandhomes-detail/1728-W-2nd-St_Brooklyn_NY_11223_M30340-78472\n",
      "https://www.realtor.com/realestateandhomes-detail/17140-Pidgeon-Meadow-Rd_Fresh-Meadows_NY_11365_M33622-25547\n",
      "https://www.realtor.com/realestateandhomes-detail/6411-Bell-Blvd_Oakland-Gardens_NY_11364_M33512-13721\n",
      "https://www.realtor.com/realestateandhomes-detail/Astoria_NY_11102_M95096-11695\n",
      "https://www.realtor.com/realestateandhomes-detail/10510-150th-St_Jamaica_NY_11435_M92914-31180\n",
      "https://www.realtor.com/realestateandhomes-detail/4024-24th-St_Long-Island-City_NY_11101_M40048-23716\n",
      "https://www.realtor.com/realestateandhomes-detail/3065-Brighton-4th-St_Brooklyn_NY_11235_M49717-71656\n",
      "https://www.realtor.com/realestateandhomes-detail/11520-147th-St_Jamaica_NY_11436_M38242-48703\n",
      "https://www.realtor.com/realestateandhomes-detail/8621-59th-Ave_Elmhurst_NY_11373_M36355-17523\n",
      "https://www.realtor.com/realestateandhomes-detail/83-Maguire-Ave_Staten-Island_NY_10309_M49001-25206\n",
      "https://www.realtor.com/realestateandhomes-detail/327-Pulaski-Ave_Staten-Island_NY_10303_M42075-68633\n",
      "\n",
      "\n",
      "\n",
      "\n",
      " 57\n"
     ]
    },
    {
     "name": "stdout",
     "output_type": "stream",
     "text": [
      "mmmmmmmmmmmmmmmmmmmm https://www.realtor.com/realestateandhomes-search/Atlanta_GA/shw-nc/price-800000-na/pg-58\n",
      "https://www.realtor.com/realestateandhomes-detail/10510-150th-St_Jamaica_NY_11435_M92914-31180\n",
      "https://www.realtor.com/realestateandhomes-detail/Astoria_NY_11102_M95096-11695\n",
      "https://www.realtor.com/realestateandhomes-detail/217-E-5th-St-Apt-6_New-York_NY_10003_M99395-94097\n",
      "https://www.realtor.com/realestateandhomes-detail/250-Buel-Ave_Staten-Island_NY_10305_M97089-46424\n",
      "https://www.realtor.com/realestateandhomes-detail/Brooklyn_NY_11226_M90921-19563\n",
      "https://www.realtor.com/realestateandhomes-detail/155-99th-St-Unit-House_Howard-Beach_NY_11414_M91051-88013\n",
      "https://www.realtor.com/realestateandhomes-detail/41-Chester-Pl_Staten-Island_NY_10304_M46941-30448\n",
      "https://www.realtor.com/realestateandhomes-detail/9126-110th-St_Richmond-Hill_NY_11418_M48890-15583\n",
      "https://www.realtor.com/realestateandhomes-detail/4029-216th-St_Bayside_NY_11361_M48641-27711\n",
      "https://www.realtor.com/realestateandhomes-detail/13206-97th-Ave_South-Richmond-Hill_NY_11419_M36847-18013\n",
      "https://www.realtor.com/realestateandhomes-detail/17455-128th-Ave_Jamaica_NY_11434_M41590-45227\n",
      "https://www.realtor.com/realestateandhomes-detail/12-W-18th-St-Apt-4E_New-York_NY_10011_M31380-24373\n",
      "https://www.realtor.com/realestateandhomes-detail/14305-32nd-Ave_Flushing_NY_11354_M49543-45409\n",
      "https://www.realtor.com/realestateandhomes-detail/13-Cox-Pl_Brooklyn_NY_11208_M33923-46946\n",
      "https://www.realtor.com/realestateandhomes-detail/4635-Union-St_Flushing_NY_11355_M48366-53785\n",
      "https://www.realtor.com/realestateandhomes-detail/73-Westbrook-Ave_Staten-Island_NY_10303_M47029-88370\n",
      "https://www.realtor.com/realestateandhomes-detail/480-Midland-Ave_Staten-Island_NY_10306_M91081-07246\n",
      "https://www.realtor.com/realestateandhomes-detail/4514-48th-St_Woodside_NY_11377_M97220-90602\n",
      "https://www.realtor.com/realestateandhomes-detail/27-16-McIntosh-Family-St-Unit-Multi_East-Elmhurst_NY_11369_M90404-91376\n",
      "https://www.realtor.com/realestateandhomes-detail/2724-Clarendon-Rd-1_Brooklyn_NY_11226_M93640-95132\n",
      "https://www.realtor.com/realestateandhomes-detail/135-Saint-Johns-Ave_Staten-Island_NY_10305_M34297-14840\n",
      "https://www.realtor.com/realestateandhomes-detail/579-E-43rd-St_Brooklyn_NY_11203_M39966-69843\n",
      "https://www.realtor.com/realestateandhomes-detail/2850-Harrington-Ave_Bronx_NY_10461_M34054-93263\n",
      "https://www.realtor.com/realestateandhomes-detail/84-Targee-St_Staten-Island_NY_10304_M31230-90514\n",
      "https://www.realtor.com/realestateandhomes-detail/1891-Pacific-St_Brooklyn_NY_11233_M43534-21785\n",
      "https://www.realtor.com/realestateandhomes-detail/17308-Warwick-Cres_Jamaica_NY_11432_M40929-97382\n",
      "https://www.realtor.com/realestateandhomes-detail/102-Burgher-Ave_Staten-Island_NY_10304_M41927-69315\n",
      "https://www.realtor.com/realestateandhomes-detail/1518-Decatur-St_Ridgewood_NY_11385_M90962-84114\n",
      "https://www.realtor.com/realestateandhomes-detail/324-Bay-Ridge-Ave_Brooklyn_NY_11220_M99080-62570\n",
      "https://www.realtor.com/realestateandhomes-detail/39-E-20th-St-Fl-7_New-York_NY_10003_M91173-79625\n",
      "https://www.realtor.com/realestateandhomes-detail/240-23-145-Ave-145-Ave_Rosedale_NY_11422_M99468-93608\n",
      "https://www.realtor.com/realestateandhomes-detail/Dale-Plane_New-York_NY_11553_M92544-65690\n",
      "https://www.realtor.com/realestateandhomes-detail/3301-146th-St_Flushing_NY_11354_M32354-85300\n",
      "https://www.realtor.com/realestateandhomes-detail/80-Bell-St_Staten-Island_NY_10305_M45648-49818\n",
      "https://www.realtor.com/realestateandhomes-detail/9731-81st-St_Ozone-Park_NY_11416_M49408-44286\n",
      "https://www.realtor.com/realestateandhomes-detail/828-Hendrix-St_Brooklyn_NY_11207_M38837-86228\n",
      "https://www.realtor.com/realestateandhomes-detail/11037-213th-St_Queens-Village_NY_11429_M34842-85327\n",
      "https://www.realtor.com/realestateandhomes-detail/473-Fanning-St_Staten-Island_NY_10314_M30887-33241\n",
      "https://www.realtor.com/realestateandhomes-detail/629-48th-St_Brooklyn_NY_11220_M44013-72903\n",
      "https://www.realtor.com/realestateandhomes-detail/31-Frank-Ct_Brooklyn_NY_11229_M31666-83994\n",
      "https://www.realtor.com/realestateandhomes-detail/9107-139th-St_Jamaica_NY_11435_M48376-82710\n",
      "https://www.realtor.com/realestateandhomes-detail/1771-E-33rd-St_Brooklyn_NY_11234_M37855-67725\n",
      "\n",
      "\n",
      "\n",
      "\n",
      " 58\n"
     ]
    },
    {
     "name": "stdout",
     "output_type": "stream",
     "text": [
      "mmmmmmmmmmmmmmmmmmmm https://www.realtor.com/realestateandhomes-search/Atlanta_GA/shw-nc/price-800000-na/pg-59\n",
      "https://www.realtor.com/realestateandhomes-detail/1771-E-33rd-St_Brooklyn_NY_11234_M37855-67725\n",
      "https://www.realtor.com/realestateandhomes-detail/13162-224th-St_Springfield-Gardens_NY_11413_M32842-66325\n",
      "https://www.realtor.com/realestateandhomes-detail/79-Worth-St-Apt-4R_New-York_NY_10013_M39753-52835\n",
      "https://www.realtor.com/realestateandhomes-detail/Morris-Park-Ave_Bronx_NY_10462_M96352-81071\n",
      "https://www.realtor.com/realestateandhomes-detail/1933-Colden-Ave_Bronx_NY_10462_M47878-99294\n",
      "https://www.realtor.com/realestateandhomes-detail/21-Father-Capodanno-Blvd_Staten-Island_NY_10305_M35952-90420\n",
      "https://www.realtor.com/realestateandhomes-detail/1319-E-89th-St_Brooklyn_NY_11236_M35100-10047\n",
      "https://www.realtor.com/realestateandhomes-detail/10754-Merrick-Blvd_Jamaica_NY_11433_M34337-38188\n",
      "https://www.realtor.com/realestateandhomes-detail/232-12th-St_Brooklyn_NY_11215_M34591-29441\n",
      "https://www.realtor.com/realestateandhomes-detail/2048-E-41st-St_Brooklyn_NY_11234_M46351-41457\n",
      "https://www.realtor.com/realestateandhomes-detail/11649-167th-St_Jamaica_NY_11434_M47108-09846\n",
      "https://www.realtor.com/realestateandhomes-detail/425-E-61st-St-702_New-York_NY_10065_M93096-62110\n",
      "https://www.realtor.com/realestateandhomes-detail/447-Logan-St_Brooklyn_NY_11208_M32232-63844\n",
      "https://www.realtor.com/realestateandhomes-detail/1-City-Pt-Apt-46F_Brooklyn_NY_11201_M91903-29596\n",
      "https://www.realtor.com/realestateandhomes-detail/2324-2nd-Ave_New-York_NY_10035_M90486-65153\n",
      "https://www.realtor.com/realestateandhomes-detail/310-E-23rd-St-Apt-5B_New-York_NY_10010_M35197-68403\n",
      "https://www.realtor.com/realestateandhomes-detail/4634-Carpenter-Ave_Bronx_NY_10470_M35051-00053\n",
      "https://www.realtor.com/realestateandhomes-detail/12702-116th-Ave_South-Ozone-Park_NY_11420_M39657-63231\n",
      "https://www.realtor.com/realestateandhomes-detail/10348-96th-St_Ozone-Park_NY_11417_M45461-23422\n",
      "https://www.realtor.com/realestateandhomes-detail/11219-176th-St_Jamaica_NY_11433_M45204-37742\n",
      "https://www.realtor.com/realestateandhomes-detail/7424-43rd-Ave_Elmhurst_NY_11373_M35943-18541\n",
      "https://www.realtor.com/realestateandhomes-detail/8506-79th-St_Woodhaven_NY_11421_M46860-39367\n",
      "https://www.realtor.com/realestateandhomes-detail/705-Eldert-Ln_Brooklyn_NY_11208_M34292-32708\n",
      "https://www.realtor.com/realestateandhomes-detail/22-Braisted-Ave_Staten-Island_NY_10314_M35556-77427\n",
      "https://www.realtor.com/realestateandhomes-detail/82-W-End-Ave_Brooklyn_NY_11235_M36714-97897\n",
      "https://www.realtor.com/realestateandhomes-detail/2217-E-13th-St_Brooklyn_NY_11229_M41980-38549\n",
      "https://www.realtor.com/realestateandhomes-detail/15207-125th-Ave_Jamaica_NY_11434_M46572-54315\n",
      "https://www.realtor.com/realestateandhomes-detail/686-E-223rd-St-B_Bronx_NY_10466_M38418-98269\n",
      "https://www.realtor.com/realestateandhomes-detail/491-Tarrytown-Ave_Staten-Island_NY_10306_M33742-82563\n",
      "https://www.realtor.com/realestateandhomes-detail/547-Sheffield-Ave_Brooklyn_NY_11207_M31600-74622\n",
      "https://www.realtor.com/realestateandhomes-detail/1117-McDonald-Ave_Brooklyn_NY_11230_M97600-58018\n",
      "https://www.realtor.com/realestateandhomes-detail/1720-W-12th-St_Brooklyn_NY_11223_M49911-38634\n",
      "https://www.realtor.com/realestateandhomes-detail/1752-Nostrand-Ave_Brooklyn_NY_11226_M91919-06857\n",
      "https://www.realtor.com/realestateandhomes-detail/692-Sackman-St_Brooklyn_NY_11212_M33815-64493\n",
      "https://www.realtor.com/realestateandhomes-detail/99-E-4th-St-Apt-4A_New-York_NY_10003_M32789-46252\n",
      "https://www.realtor.com/realestateandhomes-detail/830-53rd-St_Brooklyn_NY_11220_M37612-57032\n",
      "https://www.realtor.com/realestateandhomes-detail/11930-177th-Pl_Jamaica_NY_11434_M48639-96837\n",
      "https://www.realtor.com/realestateandhomes-detail/1556-E-56th-St_Brooklyn_NY_11234_M33968-57347\n",
      "https://www.realtor.com/realestateandhomes-detail/1801-E-7th-St_Brooklyn_NY_11223_M32113-05848\n",
      "https://www.realtor.com/realestateandhomes-detail/3883-Bedford-Ave_Brooklyn_NY_11229_M48356-44303\n",
      "https://www.realtor.com/realestateandhomes-detail/3057-Wilson-Ave_Bronx_NY_10469_M41317-83738\n",
      "https://www.realtor.com/realestateandhomes-detail/2646-Bainbridge-Ave_Bronx_NY_10458_M39747-07791\n",
      "\n",
      "\n",
      "\n",
      "\n",
      " 59\n"
     ]
    },
    {
     "name": "stdout",
     "output_type": "stream",
     "text": [
      "mmmmmmmmmmmmmmmmmmmm https://www.realtor.com/realestateandhomes-search/Atlanta_GA/shw-nc/price-800000-na/pg-60\n",
      "https://www.realtor.com/realestateandhomes-detail/4449-Park-Ave_Bronx_NY_10457_M45725-91199\n",
      "https://www.realtor.com/realestateandhomes-detail/158-Bay-38th-St_Brooklyn_NY_11214_M31498-42936\n",
      "https://www.realtor.com/realestateandhomes-detail/763-Patterson-Ave_Staten-Island_NY_10306_M38213-13589\n",
      "https://www.realtor.com/realestateandhomes-detail/7575-180th-St_Fresh-Meadows_NY_11366_M44122-18149\n",
      "https://www.realtor.com/realestateandhomes-detail/10111-46th-Ave_Corona_NY_11368_M35206-19102\n",
      "https://www.realtor.com/realestateandhomes-detail/13865-63rd-Ave_Flushing_NY_11367_M36074-61343\n",
      "https://www.realtor.com/realestateandhomes-detail/642-E-26th-St_Brooklyn_NY_11210_M37856-88969\n",
      "https://www.realtor.com/realestateandhomes-detail/1373-Richmond-Rd_Staten-Island_NY_10304_M34562-12700\n",
      "https://www.realtor.com/realestateandhomes-detail/11426-149th-St_Jamaica_NY_11436_M37561-63826\n",
      "https://www.realtor.com/realestateandhomes-detail/Shore-Dr_Bronx_NY_10465_M95073-68782\n",
      "https://www.realtor.com/realestateandhomes-detail/2948-Throop-Ave_Bronx_NY_10469_M94106-89928\n",
      "https://www.realtor.com/realestateandhomes-detail/138-Union-Ave_Staten-Island_NY_10303_M94420-08549\n",
      "https://www.realtor.com/realestateandhomes-detail/4107-Lowerre-Pl_Bronx_NY_10466_M46713-49096\n",
      "https://www.realtor.com/realestateandhomes-detail/28-29-30-Bogardus-St_Brooklyn_NY_11235_M94297-40441\n",
      "https://www.realtor.com/realestateandhomes-detail/3235-Hering-Ave_Bronx_NY_10469_M41943-53256\n",
      "https://www.realtor.com/realestateandhomes-detail/657-Snediker-Ave_Brooklyn_NY_11207_M31769-05317\n",
      "https://www.realtor.com/realestateandhomes-detail/1010-E-229th-St_Bronx_NY_10466_M40283-13886\n",
      "https://www.realtor.com/realestateandhomes-detail/1271-Rogers-Ave-Apt-1_Brooklyn_NY_11226_M94120-61994\n",
      "https://www.realtor.com/realestateandhomes-detail/1551-E-4th-St_Brooklyn_NY_11230_M44723-68895\n",
      "https://www.realtor.com/realestateandhomes-detail/96-Oberlin-St_Staten-Island_NY_10305_M38815-67391\n",
      "https://www.realtor.com/realestateandhomes-detail/11642-196th-St_Saint-Albans_NY_11412_M40166-91253\n",
      "https://www.realtor.com/realestateandhomes-detail/118-Radford-St_Staten-Island_NY_10314_M46312-77324\n",
      "https://www.realtor.com/realestateandhomes-detail/207-E-58th-St_Brooklyn_NY_11203_M31870-97507\n",
      "https://www.realtor.com/realestateandhomes-detail/3359-Seymour-Ave_Bronx_NY_10469_M90149-37215\n",
      "https://www.realtor.com/realestateandhomes-detail/164-Grimsby-St-C_Staten-Island_NY_10306_M35094-48213\n",
      "https://www.realtor.com/realestateandhomes-detail/70-Charlton-St-Apt-11A_New-York_NY_10014_M40587-69850\n",
      "https://www.realtor.com/realestateandhomes-detail/2771-Marion-Ave_Bronx_NY_10458_M36184-50455\n",
      "https://www.realtor.com/realestateandhomes-detail/15-Midway-Pl_Staten-Island_NY_10304_M40584-28405\n",
      "https://www.realtor.com/realestateandhomes-detail/801-E-52nd-St_Brooklyn_NY_11203_M35562-06518\n",
      "https://www.realtor.com/realestateandhomes-detail/21-E-61st-St-Apt-8F_New-York_NY_10065_M34480-56165\n",
      "https://www.realtor.com/realestateandhomes-detail/63-E-9th-St-Apt-6F_New-York_NY_10003_M36720-81617\n",
      "https://www.realtor.com/realestateandhomes-detail/22-Long-Pond-Ln_Staten-Island_NY_10304_M38056-38996\n",
      "https://www.realtor.com/realestateandhomes-detail/763-E-160th-St_Bronx_NY_10456_M30633-83106\n",
      "https://www.realtor.com/realestateandhomes-detail/3503-Fillmore-Ave_Brooklyn_NY_11234_M43550-87900\n",
      "https://www.realtor.com/realestateandhomes-detail/767-Union-Ave_Bronx_NY_10455_M33555-42379\n",
      "https://www.realtor.com/realestateandhomes-detail/30-43rd-St_Astoria_NY_11103_M99891-34331\n",
      "https://www.realtor.com/realestateandhomes-detail/149-Waldron-Ave_Staten-Island_NY_10301_M92614-18884\n",
      "https://www.realtor.com/realestateandhomes-detail/86-Evans-St_Staten-Island_NY_10314_M35313-90701\n",
      "https://www.realtor.com/realestateandhomes-detail/11536-159th-St_Jamaica_NY_11434_M35156-03240\n",
      "https://www.realtor.com/realestateandhomes-detail/11710-109th-Ave_South-Ozone-Park_NY_11420_M31032-75885\n",
      "https://www.realtor.com/realestateandhomes-detail/240-E-76th-St-Apt-17D_New-York_NY_10021_M38262-74331\n",
      "https://www.realtor.com/realestateandhomes-detail/18309-145th-Dr_Springfield-Gardens_NY_11413_M48322-88748\n",
      "\n",
      "\n",
      "\n",
      "\n",
      " 60\n"
     ]
    },
    {
     "name": "stdout",
     "output_type": "stream",
     "text": [
      "mmmmmmmmmmmmmmmmmmmm https://www.realtor.com/realestateandhomes-search/Atlanta_GA/shw-nc/price-800000-na/pg-61\n",
      "https://www.realtor.com/realestateandhomes-detail/1866-Gleason-Ave_Bronx_NY_10472_M47339-41358\n",
      "https://www.realtor.com/realestateandhomes-detail/319-E-59th-St_Brooklyn_NY_11203_M41796-25321\n",
      "https://www.realtor.com/realestateandhomes-detail/2665-Harding-Ave_Bronx_NY_10465_M35391-12486\n",
      "https://www.realtor.com/realestateandhomes-detail/16905-104th-Ave_Jamaica_NY_11433_M41607-84131\n",
      "https://www.realtor.com/realestateandhomes-detail/754-E-86th-St_Brooklyn_NY_11236_M40453-22013\n",
      "https://www.realtor.com/realestateandhomes-detail/8437-90th-St_Woodhaven_NY_11421_M34911-49261\n",
      "https://www.realtor.com/realestateandhomes-detail/976-Van-Duzer-St_Staten-Island_NY_10304_M49310-21821\n",
      "https://www.realtor.com/realestateandhomes-detail/325-Stockholm-St_Brooklyn_NY_11237_M94848-83229\n",
      "https://www.realtor.com/realestateandhomes-detail/478-Midland-Ave_Staten-Island_NY_10306_M33394-37683\n",
      "https://www.realtor.com/realestateandhomes-detail/2323-Avenue-T_Brooklyn_NY_11229_M39063-76909\n",
      "https://www.realtor.com/realestateandhomes-detail/8215-Queens-Blvd_Elmhurst_NY_11373_M90139-23581\n",
      "https://www.realtor.com/realestateandhomes-detail/166-Pierce-St_Staten-Island_NY_10304_M39212-31652\n",
      "https://www.realtor.com/realestateandhomes-detail/10946-125th-St_South-Ozone-Park_NY_11420_M41118-57098\n",
      "https://www.realtor.com/realestateandhomes-detail/1143-E-224th-St_Bronx_NY_10466_M39243-16013\n",
      "https://www.realtor.com/realestateandhomes-detail/20-Corbin-Pl_Brooklyn_NY_11235_M39293-27655\n",
      "https://www.realtor.com/realestateandhomes-detail/333-E-91st-St-Apt-5B_New-York_NY_10128_M42725-43805\n",
      "https://www.realtor.com/realestateandhomes-detail/1115-Hancock-St_Brooklyn_NY_11221_M91969-36598\n",
      "https://www.realtor.com/realestateandhomes-detail/519-5th-Ave_Brooklyn_NY_11215_M96180-21080\n",
      "https://www.realtor.com/realestateandhomes-detail/11616-Mexico-St_Saint-Albans_NY_11412_M38829-13520\n",
      "https://www.realtor.com/realestateandhomes-detail/936-Seneca-Ave_Ridgewood_NY_11385_M91880-62205\n",
      "https://www.realtor.com/realestateandhomes-detail/946-Nostrand-Ave_Brooklyn_NY_11225_M91786-93206\n",
      "https://www.realtor.com/realestateandhomes-detail/10431-91st-Ave_Richmond-Hill_NY_11418_M35144-78964\n",
      "https://www.realtor.com/realestateandhomes-detail/Eastchester-Rd_Bronx_NY_10469_M92705-85576\n",
      "https://www.realtor.com/realestateandhomes-detail/201-E-23rd-St-7A_New-York_NY_10010_M93551-35395\n",
      "https://www.realtor.com/realestateandhomes-detail/New-York_NY_10026_M91190-42295\n",
      "https://www.realtor.com/realestateandhomes-detail/55-Walker-St-Apt-5A_New-York_NY_10013_M36670-50715\n",
      "https://www.realtor.com/realestateandhomes-detail/655-Taylor-Ave_Bronx_NY_10473_M93329-02925\n",
      "https://www.realtor.com/realestateandhomes-detail/19-Ostrich-Ct_Staten-Island_NY_10309_M44715-35531\n",
      "https://www.realtor.com/realestateandhomes-detail/2366-Steinway-St-Mix_Astoria_NY_11105_M92224-50536\n",
      "https://www.realtor.com/realestateandhomes-detail/1011-E-221st-St_Bronx_NY_10469_M49816-51226\n",
      "https://www.realtor.com/realestateandhomes-detail/8600-80th-St_Woodhaven_NY_11421_M46564-50208\n",
      "https://www.realtor.com/realestateandhomes-detail/1737-Nereid-Ave_Bronx_NY_10466_M41682-55724\n",
      "https://www.realtor.com/realestateandhomes-detail/11653-141st-St_Jamaica_NY_11436_M47642-47282\n",
      "https://www.realtor.com/realestateandhomes-detail/15023-115th-Ave_Jamaica_NY_11434_M49850-98555\n",
      "https://www.realtor.com/realestateandhomes-detail/Brooklyn_NY_11211_M90911-56834\n",
      "https://www.realtor.com/realestateandhomes-detail/25907-147th-Rd_Rosedale_NY_11422_M95166-93532\n",
      "https://www.realtor.com/realestateandhomes-detail/1554-E-58th-St_Brooklyn_NY_11234_M37085-23797\n",
      "https://www.realtor.com/realestateandhomes-detail/29-Veronica-Pl_Brooklyn_NY_11226_M44197-83502\n",
      "https://www.realtor.com/realestateandhomes-detail/4363-159th-St_Flushing_NY_11358_M44412-35019\n",
      "https://www.realtor.com/realestateandhomes-detail/10015-40th-Rd_Corona_NY_11368_M32204-67828\n",
      "https://www.realtor.com/realestateandhomes-detail/11615-135th-St_South-Ozone-Park_NY_11420_M38849-94635\n",
      "https://www.realtor.com/realestateandhomes-detail/8944-98th-St_Woodhaven_NY_11421_M33431-24566\n",
      "\n",
      "\n",
      "\n",
      "\n",
      " 61\n"
     ]
    },
    {
     "name": "stdout",
     "output_type": "stream",
     "text": [
      "mmmmmmmmmmmmmmmmmmmm https://www.realtor.com/realestateandhomes-search/Atlanta_GA/shw-nc/price-800000-na/pg-62\n",
      "https://www.realtor.com/realestateandhomes-detail/111-3rd-Ave-Apt-8K_New-York_NY_10003_M93568-27992\n",
      "https://www.realtor.com/realestateandhomes-detail/1258-E-56th-St_Brooklyn_NY_11234_M47613-61204\n",
      "https://www.realtor.com/realestateandhomes-detail/14519-167th-St_Jamaica_NY_11434_M33403-93300\n",
      "https://www.realtor.com/realestateandhomes-detail/240-E-76th-St-Apt-8R_New-York_NY_10021_M90459-06489\n",
      "https://www.realtor.com/realestateandhomes-detail/10712-173rd-St_Jamaica_NY_11433_M32584-39194\n",
      "https://www.realtor.com/realestateandhomes-detail/15530-99th-St_Howard-Beach_NY_11414_M46975-20426\n",
      "https://www.realtor.com/realestateandhomes-detail/9-Furness-Pl_Staten-Island_NY_10314_M34055-61773\n",
      "https://www.realtor.com/realestateandhomes-detail/11718-142nd-Pl_Jamaica_NY_11436_M45164-36987\n",
      "https://www.realtor.com/realestateandhomes-detail/84-72-B-151st-St_Briarwood_NY_11432_M90906-50608\n",
      "https://www.realtor.com/realestateandhomes-detail/165-Cedar-Grove-Ave_Staten-Island_NY_10306_M48641-97688\n",
      "https://www.realtor.com/realestateandhomes-detail/53-Mariners-Ln_Staten-Island_NY_10303_M38450-51995\n",
      "https://www.realtor.com/realestateandhomes-detail/14-Colon-Ave_Staten-Island_NY_10308_M42220-57717\n",
      "https://www.realtor.com/realestateandhomes-detail/116-W-133rd-St-Unit-Building_New-York_NY_10030_M94387-15786\n",
      "https://www.realtor.com/realestateandhomes-detail/8535-Britton-Ave_Elmhurst_NY_11373_M94191-24885\n",
      "https://www.realtor.com/realestateandhomes-detail/234-E-70th-St-Apt-4_New-York_NY_10021_M34900-74111\n",
      "https://www.realtor.com/realestateandhomes-detail/3063-Brighton-4th-St_Brooklyn_NY_11235_M34173-06903\n",
      "https://www.realtor.com/realestateandhomes-detail/10141-133rd-St_S-Richmond-Hl_NY_11419_M30679-71739\n",
      "https://www.realtor.com/realestateandhomes-detail/21417-27th-Ave_Bayside_NY_11360_M32588-87089\n",
      "https://www.realtor.com/realestateandhomes-detail/1368-77th-St_Brooklyn_NY_11228_M40895-65614\n",
      "https://www.realtor.com/realestateandhomes-detail/165-Cedar-Grv_Staten-Island_NY_10306_M91528-43136\n",
      "https://www.realtor.com/realestateandhomes-detail/15844-77th-Ave_Fresh-Meadows_NY_11366_M39994-40270\n",
      "https://www.realtor.com/realestateandhomes-detail/4527-158th-St_Flushing_NY_11358_M38793-54882\n",
      "https://www.realtor.com/realestateandhomes-detail/99-E-4th-St-Apt-2E_New-York_NY_10003_M30677-32031\n",
      "https://www.realtor.com/realestateandhomes-detail/251-Stanhope-St-1_Brooklyn_NY_11237_M99433-59922\n",
      "https://www.realtor.com/realestateandhomes-detail/15354-Foch-Blvd_Jamaica_NY_11434_M32267-63143\n",
      "https://www.realtor.com/realestateandhomes-detail/14038-Charles-Ln_Jamaica_NY_11413_M48192-45668\n",
      "https://www.realtor.com/realestateandhomes-detail/1915-E-26th-St_Brooklyn_NY_11229_M49419-00174\n",
      "https://www.realtor.com/realestateandhomes-detail/19-Drumgoole-Rd-E_Staten-Island_NY_10312_M34398-13910\n",
      "https://www.realtor.com/realestateandhomes-detail/Murdock-Ave_Bronx_NY_10466_M90067-17545\n",
      "https://www.realtor.com/realestateandhomes-detail/4805-67th-St_Woodside_NY_11377_M48182-69783\n",
      "https://www.realtor.com/realestateandhomes-detail/1220-E-223rd-St-1_Bronx_NY_10466_M37066-24730\n",
      "https://www.realtor.com/realestateandhomes-detail/15402-119th-Ave_Jamaica_NY_11434_M31973-28123\n",
      "https://www.realtor.com/realestateandhomes-detail/490-Van-Duzer-St_Staten-Island_NY_10304_M45012-97568\n",
      "https://www.realtor.com/realestateandhomes-detail/41-Burgundy-Loop_Staten-Island_NY_10304_M41152-96384\n",
      "https://www.realtor.com/realestateandhomes-detail/9-Adler-Pl_Brooklyn_NY_11208_M46458-28039\n",
      "https://www.realtor.com/realestateandhomes-detail/637-Oceanside-Ave_Staten-Island_NY_10305_M46084-02333\n",
      "https://www.realtor.com/realestateandhomes-detail/186-Macdougal-St_Brooklyn_NY_11233_M47841-62366\n",
      "https://www.realtor.com/realestateandhomes-detail/1476-Arnow-Ave_Bronx_NY_10469_M35802-10523\n",
      "https://www.realtor.com/realestateandhomes-detail/2680-E-23rd-St_Brooklyn_NY_11235_M34847-38663\n",
      "https://www.realtor.com/realestateandhomes-detail/1189-Clove-Rd_Staten-Island_NY_10301_M97276-16059\n",
      "https://www.realtor.com/realestateandhomes-detail/1734-E-7th-St_Brooklyn_NY_11223_M49552-14265\n",
      "https://www.realtor.com/realestateandhomes-detail/2070-Ford-St_Brooklyn_NY_11229_M42628-25650\n",
      "\n",
      "\n",
      "\n",
      "\n",
      " 62\n"
     ]
    },
    {
     "name": "stdout",
     "output_type": "stream",
     "text": [
      "mmmmmmmmmmmmmmmmmmmm https://www.realtor.com/realestateandhomes-search/Atlanta_GA/shw-nc/price-800000-na/pg-63\n",
      "https://www.realtor.com/realestateandhomes-detail/19703-McLaughlin-Ave_Hollis_NY_11423_M45490-04976\n",
      "https://www.realtor.com/realestateandhomes-detail/10735-Van-Wyck-Expy_Jamaica_NY_11435_M46146-58087\n",
      "https://www.realtor.com/realestateandhomes-detail/29-Bogardus-St_Brooklyn_NY_11235_M98388-33431\n",
      "https://www.realtor.com/realestateandhomes-detail/1014-116th-St_College-Point_NY_11356_M30656-70178\n",
      "https://www.realtor.com/realestateandhomes-detail/2790-Bainbridge-Ave_Bronx_NY_10458_M37247-27848\n",
      "https://www.realtor.com/realestateandhomes-detail/4161-Laconia-Ave_Bronx_NY_10466_M36645-75542\n",
      "https://www.realtor.com/realestateandhomes-detail/513-New-York-Ave_Brooklyn_NY_11225_M93624-47619\n",
      "https://www.realtor.com/realestateandhomes-detail/29-30-Bogardus-St_Brooklyn_NY_11235_M92806-27876\n",
      "https://www.realtor.com/realestateandhomes-detail/25-Pearsall-St_Staten-Island_NY_10305_M41951-69377\n",
      "https://www.realtor.com/realestateandhomes-detail/49-McLaughlin-St_Staten-Island_NY_10305_M38956-53917\n",
      "https://www.realtor.com/realestateandhomes-detail/425-E-61st-St-703_New-York_NY_10065_M97128-56457\n",
      "https://www.realtor.com/realestateandhomes-detail/1176-E-94th-St_Brooklyn_NY_11236_M31161-21630\n",
      "https://www.realtor.com/realestateandhomes-detail/557-Snediker-Ave_Brooklyn_NY_11207_M38047-40089\n",
      "https://www.realtor.com/realestateandhomes-detail/19-Drumgoole-Rd_Staten-Island_NY_10312_M90260-79831\n",
      "https://www.realtor.com/realestateandhomes-detail/950-E-10th-St_Brooklyn_NY_11230_M40412-29760\n",
      "https://www.realtor.com/realestateandhomes-detail/76-Railroad-Ave_Staten-Island_NY_10305_M39121-75141\n",
      "https://www.realtor.com/realestateandhomes-detail/1768-W-5th-St_Brooklyn_NY_11223_M36574-81531\n",
      "https://www.realtor.com/realestateandhomes-detail/13458-161st-St_Jamaica_NY_11434_M35281-32820\n",
      "https://www.realtor.com/realestateandhomes-detail/20815-38th-Ave_Bayside_NY_11361_M37670-45481\n",
      "https://www.realtor.com/realestateandhomes-detail/117-Lorraine-Loop_Staten-Island_NY_10309_M33877-63387\n",
      "https://www.realtor.com/realestateandhomes-detail/10435-198th-St_Saint-Albans_NY_11412_M43066-20286\n",
      "https://www.realtor.com/realestateandhomes-detail/51-Crestwater-Ct_Staten-Island_NY_10305_M47882-35329\n",
      "https://www.realtor.com/realestateandhomes-detail/1115-Putnam-Ave_Brooklyn_NY_11221_M96266-86563\n",
      "https://www.realtor.com/realestateandhomes-detail/11156-145th-St_Jamaica_NY_11435_M31449-69474\n",
      "https://www.realtor.com/realestateandhomes-detail/476-Riga-St_Staten-Island_NY_10306_M37784-28713\n",
      "https://www.realtor.com/realestateandhomes-detail/8521-80th-St_Woodhaven_NY_11421_M34239-71362\n",
      "https://www.realtor.com/realestateandhomes-detail/49-Chambers-St-Apt-5D_New-York_NY_10007_M93596-95193\n",
      "https://www.realtor.com/realestateandhomes-detail/11717-139th-St_Jamaica_NY_11436_M44618-79648\n",
      "https://www.realtor.com/realestateandhomes-detail/480-Sutter-Ave_Brooklyn_NY_11207_M39846-54035\n",
      "https://www.realtor.com/realestateandhomes-detail/14108-Rockaway-Blvd_Jamaica_NY_11436_M91799-60302\n",
      "https://www.realtor.com/realestateandhomes-detail/117-Osborn-St_Brooklyn_NY_11212_M96674-90712\n",
      "https://www.realtor.com/realestateandhomes-detail/1530-Coleman-St_Brooklyn_NY_11234_M92990-46811\n",
      "https://www.realtor.com/realestateandhomes-detail/218-Targee-St_Staten-Island_NY_10304_M31379-96891\n",
      "https://www.realtor.com/realestateandhomes-detail/12-Bunnell-Ct_Staten-Island_NY_10312_M47007-32817\n",
      "https://www.realtor.com/realestateandhomes-detail/29-Lorraine-Loop_Staten-Island_NY_10309_M30959-07195\n",
      "https://www.realtor.com/realestateandhomes-detail/2837-W-15th-St_Brooklyn_NY_11224_M97598-81310\n",
      "https://www.realtor.com/realestateandhomes-detail/27-Vermont-St_Brooklyn_NY_11207_M45894-02327\n",
      "https://www.realtor.com/realestateandhomes-detail/1601-Saint-Johns-Pl_Brooklyn_NY_11233_M90297-95318\n",
      "https://www.realtor.com/realestateandhomes-detail/10-Gunther-Pl_Brooklyn_NY_11233_M90607-45770\n",
      "https://www.realtor.com/realestateandhomes-detail/2352-Pacific-St_Brooklyn_NY_11233_M91399-99660\n",
      "https://www.realtor.com/realestateandhomes-detail/10380-103rd-St_Ozone-Park_NY_11417_M31503-66738\n",
      "https://www.realtor.com/realestateandhomes-detail/9038-84th-St_Woodhaven_NY_11421_M42401-85228\n",
      "\n",
      "\n",
      "\n",
      "\n",
      " 63\n"
     ]
    },
    {
     "name": "stdout",
     "output_type": "stream",
     "text": [
      "mmmmmmmmmmmmmmmmmmmm https://www.realtor.com/realestateandhomes-search/Atlanta_GA/shw-nc/price-800000-na/pg-64\n",
      "https://www.realtor.com/realestateandhomes-detail/2321-83rd-St_Brooklyn_NY_11214_M32464-64079\n",
      "https://www.realtor.com/realestateandhomes-detail/10721-Union-Hall-St_Jamaica_NY_11433_M33817-14932\n",
      "https://www.realtor.com/realestateandhomes-detail/Quincy-Ave_Bronx_NY_10465_M98467-00535\n",
      "https://www.realtor.com/realestateandhomes-detail/484-Hegeman-Ave_Brooklyn_NY_11207_M36893-48987\n",
      "https://www.realtor.com/realestateandhomes-detail/13245-154th-St_Jamaica_NY_11434_M47486-30406\n",
      "https://www.realtor.com/realestateandhomes-detail/2827-Atlantic-Ave_Brooklyn_NY_11207_M93287-14700\n",
      "https://www.realtor.com/realestateandhomes-detail/22260-Birmington-Pkwy_Oakland-Gardens_NY_11364_M43837-15297\n",
      "https://www.realtor.com/realestateandhomes-detail/2232-E-7th-St_Brooklyn_NY_11223_M90360-57004\n",
      "https://www.realtor.com/realestateandhomes-detail/497-501-Avenue-Y_Brooklyn_NY_11223_M90732-68887\n",
      "https://www.realtor.com/realestateandhomes-detail/15-Euclid-Ave_Brooklyn_NY_11208_M48771-42116\n",
      "https://www.realtor.com/realestateandhomes-detail/Bronx_NY_10456_M94251-93863\n",
      "https://www.realtor.com/realestateandhomes-detail/Paulding-Ave_Bronx_NY_10469_M93910-79793\n",
      "https://www.realtor.com/realestateandhomes-detail/57-Maple-Ter_Staten-Island_NY_10306_M37318-83366\n",
      "https://www.realtor.com/realestateandhomes-detail/201-E-23rd-St-14B_New-York_NY_10010_M96425-12623\n",
      "https://www.realtor.com/realestateandhomes-detail/396-Manor-Rd_Staten-Island_NY_10314_M39467-43079\n",
      "https://www.realtor.com/realestateandhomes-detail/10763-109th-St_South-Richmond-Hill_NY_11419_M32450-34828\n",
      "https://www.realtor.com/realestateandhomes-detail/14514-177th-Pl_Jamaica_NY_11434_M33643-55301\n",
      "https://www.realtor.com/realestateandhomes-detail/E-183rd-St_Bronx_NY_10458_M96314-79022\n",
      "https://www.realtor.com/realestateandhomes-detail/219-E-115th-St_New-York_NY_10029_M97766-64111\n",
      "https://www.realtor.com/realestateandhomes-detail/14117-Rockaway-Blvd_Jamaica_NY_11436_M34729-80691\n",
      "https://www.realtor.com/realestateandhomes-detail/8811-179th-Pl_Jamaica_NY_11432_M44221-30186\n",
      "https://www.realtor.com/realestateandhomes-detail/6811-52nd-Dr_Maspeth_NY_11378_M38299-87658\n",
      "https://www.realtor.com/realestateandhomes-detail/60-E-8th-St-Apt-23D_New-York_NY_10003_M48479-92750\n",
      "https://www.realtor.com/realestateandhomes-detail/8925-127th-St_Richmond-Hill_NY_11418_M42777-97265\n",
      "https://www.realtor.com/realestateandhomes-detail/4514-50th-St_Woodside_NY_11377_M45255-21134\n",
      "https://www.realtor.com/realestateandhomes-detail/6450-217th-St_Oakland-Gardens_NY_11364_M43737-48324\n",
      "https://www.realtor.com/realestateandhomes-detail/8016-Park-Ln-S_Woodhaven_NY_11421_M32655-03980\n",
      "https://www.realtor.com/realestateandhomes-detail/503-119th-St_College-Point_NY_11356_M48241-88067\n",
      "https://www.realtor.com/realestateandhomes-detail/2448-Devoe-Ter_Bronx_NY_10468_M33631-41483\n",
      "https://www.realtor.com/realestateandhomes-detail/192-Jamie-Ln_Staten-Island_NY_10312_M35516-92417\n",
      "https://www.realtor.com/realestateandhomes-detail/828-53rd-St_Brooklyn_NY_11220_M37229-84909\n",
      "https://www.realtor.com/realestateandhomes-detail/2809-Tiemann-Ave_Bronx_NY_10469_M38091-52878\n",
      "https://www.realtor.com/realestateandhomes-detail/5724-Beverley-Rd_Brooklyn_NY_11203_M41383-34657\n",
      "https://www.realtor.com/realestateandhomes-detail/24843-88th-Rd_Bellerose_NY_11426_M36684-08829\n",
      "https://www.realtor.com/realestateandhomes-detail/658-E-156th-St_Bronx_NY_10455_M35344-59318\n",
      "https://www.realtor.com/realestateandhomes-detail/1878-Fulton-St_Brooklyn_NY_11233_M93962-36167\n",
      "https://www.realtor.com/realestateandhomes-detail/119-121-Montgomery-Ave_Staten-Island_NY_10301_M99705-63942\n",
      "https://www.realtor.com/realestateandhomes-detail/1023B-E-229th-St_Bronx_NY_10466_M30625-29720\n",
      "https://www.realtor.com/realestateandhomes-detail/3313-Mickle-Ave_Bronx_NY_10469_M33604-59558\n",
      "https://www.realtor.com/realestateandhomes-detail/420-E-64th-St-Apt-E3A_New-York_NY_10065_M31745-09260\n",
      "https://www.realtor.com/realestateandhomes-detail/173-Clove-Rd_Staten-Island_NY_10310_M40219-69718\n",
      "https://www.realtor.com/realestateandhomes-detail/25-Palisade-St_Staten-Island_NY_10305_M33880-31402\n",
      "\n",
      "\n",
      "\n",
      "\n",
      " 64\n"
     ]
    },
    {
     "name": "stdout",
     "output_type": "stream",
     "text": [
      "mmmmmmmmmmmmmmmmmmmm https://www.realtor.com/realestateandhomes-search/Atlanta_GA/shw-nc/price-800000-na/pg-65\n",
      "https://www.realtor.com/realestateandhomes-detail/208-Osgood-Ave_Staten-Island_NY_10304_M41040-82486\n",
      "https://www.realtor.com/realestateandhomes-detail/201-E-23rd-St-10D_New-York_NY_10010_M90161-21032\n",
      "https://www.realtor.com/realestateandhomes-detail/3325-Junction-Blvd_Jackson-Heights_NY_11372_M96933-24185\n",
      "https://www.realtor.com/realestateandhomes-detail/166-Pierce-St_Staten-Island_NY_10304_M38467-13400\n",
      "https://www.realtor.com/realestateandhomes-detail/1885-E-21st-St_Brooklyn_NY_11229_M31627-05647\n",
      "https://www.realtor.com/realestateandhomes-detail/301-E-69th-St-Apt-15K_New-York_NY_10021_M96455-93427\n",
      "https://www.realtor.com/realestateandhomes-detail/10519-101st-Rd_Ozone-Park_NY_11416_M41114-42097\n",
      "https://www.realtor.com/realestateandhomes-detail/597-Broadway-Commercial_New-York_NY_10012_M91871-71187\n",
      "https://www.realtor.com/realestateandhomes-detail/2216-E-26th-St_Brooklyn_NY_11229_M38108-67448\n",
      "https://www.realtor.com/realestateandhomes-detail/329-Pulaski-Ave_Staten-Island_NY_10303_M99945-87036\n",
      "https://www.realtor.com/realestateandhomes-detail/2315-West-St_Brooklyn_NY_11223_M32717-75174\n",
      "https://www.realtor.com/realestateandhomes-detail/15015-Hawtree-St_Ozone-Park_NY_11417_M90783-19159\n",
      "https://www.realtor.com/realestateandhomes-detail/1817-Trafalgar-Pl_Bronx_NY_10460_M48470-03079\n",
      "https://www.realtor.com/realestateandhomes-detail/559-Beach-65th-St_Arverne_NY_11692_M32642-73500\n",
      "https://www.realtor.com/realestateandhomes-detail/195-Rockaway-Ave_Brooklyn_NY_11233_M92290-45177\n",
      "https://www.realtor.com/realestateandhomes-detail/11467-145th-St_Jamaica_NY_11436_M42805-43572\n",
      "https://www.realtor.com/realestateandhomes-detail/17361-105th-Ave_Jamaica_NY_11433_M32080-92906\n",
      "https://www.realtor.com/realestateandhomes-detail/11205-103rd-Ave_South-Richmond-Hill_NY_11419_M47292-98828\n",
      "https://www.realtor.com/realestateandhomes-detail/17838-134th-Ave_Jamaica_NY_11434_M37102-45184\n",
      "https://www.realtor.com/realestateandhomes-detail/761-E-228th-St-9_Bronx_NY_10466_M99339-04798\n",
      "https://www.realtor.com/realestateandhomes-detail/1055-E-218th-St_Bronx_NY_10469_M43236-66076\n",
      "https://www.realtor.com/realestateandhomes-detail/3648-Holland-Ave_Bronx_NY_10467_M40489-78814\n",
      "https://www.realtor.com/realestateandhomes-detail/8902-171st-St_Jamaica_NY_11432_M31666-35508\n",
      "https://www.realtor.com/realestateandhomes-detail/773-Post-Ave_Staten-Island_NY_10310_M49259-14857\n",
      "https://www.realtor.com/realestateandhomes-detail/12415-95th-Ave_South-Richmond-Hill_NY_11419_M45889-30618\n",
      "https://www.realtor.com/realestateandhomes-detail/403-Linden-Blvd_Brooklyn_NY_11203_M32053-57818\n",
      "https://www.realtor.com/realestateandhomes-detail/698-Henderson-Ave_Staten-Island_NY_10310_M49797-39780\n",
      "https://www.realtor.com/realestateandhomes-detail/1112-E-213th-St_Bronx_NY_10469_M49770-67516\n",
      "https://www.realtor.com/realestateandhomes-detail/4351-166th-St_Flushing_NY_11358_M45473-68423\n",
      "https://www.realtor.com/realestateandhomes-detail/15021-Hawtree-St_Ozone-Park_NY_11417_M99680-89581\n",
      "https://www.realtor.com/realestateandhomes-detail/3830-Barnes-Ave_Bronx_NY_10467_M99791-21364\n",
      "https://www.realtor.com/realestateandhomes-detail/153-Waldron-Ave_Staten-Island_NY_10301_M91455-38251\n",
      "https://www.realtor.com/realestateandhomes-detail/12017-18th-Ave_College-Point_NY_11356_M99755-25643\n",
      "https://www.realtor.com/realestateandhomes-detail/9815-Albert-Rd_Ozone-Park_NY_11417_M49662-11723\n",
      "https://www.realtor.com/realestateandhomes-detail/15017-Hawtree-St_Ozone-Park_NY_11417_M93527-16578\n",
      "https://www.realtor.com/realestateandhomes-detail/94-Catherine-St_Staten-Island_NY_10302_M47943-82771\n",
      "https://www.realtor.com/realestateandhomes-detail/11-Merit-Ct_Brooklyn_NY_11229_M46561-75896\n",
      "https://www.realtor.com/realestateandhomes-detail/53-Raritan-Ave_Staten-Island_NY_10304_M35335-03488\n",
      "https://www.realtor.com/realestateandhomes-detail/846-Stanley-Ave-43831_Brooklyn_NY_11208_M97980-88232\n",
      "https://www.realtor.com/realestateandhomes-detail/563-E-32nd-St_Brooklyn_NY_11210_M48520-55839\n",
      "https://www.realtor.com/realestateandhomes-detail/Mickle-Ave_Bronx_NY_10469_M93000-70302\n",
      "https://www.realtor.com/realestateandhomes-detail/11451-204th-St_Saint-Albans_NY_11412_M44240-31972\n",
      "\n",
      "\n",
      "\n",
      "\n",
      " 65\n"
     ]
    },
    {
     "name": "stdout",
     "output_type": "stream",
     "text": [
      "mmmmmmmmmmmmmmmmmmmm https://www.realtor.com/realestateandhomes-search/Atlanta_GA/shw-nc/price-800000-na/pg-66\n",
      "https://www.realtor.com/realestateandhomes-detail/28-8-38th-Ave_Long-Island-City_NY_11101_M95229-90227\n",
      "https://www.realtor.com/realestateandhomes-detail/11451-204th-St_Saint-Albans_NY_11412_M44240-31972\n",
      "https://www.realtor.com/realestateandhomes-detail/1545-E-55th-St_Brooklyn_NY_11234_M41558-12384\n",
      "https://www.realtor.com/realestateandhomes-detail/69A-7th-Ave_Brooklyn_NY_11217_M97517-57294\n",
      "https://www.realtor.com/realestateandhomes-detail/1609-E-31st-St_Brooklyn_NY_11234_M36954-95942\n",
      "https://www.realtor.com/realestateandhomes-detail/15029-Hawtree-St_Ozone-Park_NY_11417_M97731-83765\n",
      "https://www.realtor.com/realestateandhomes-detail/147-Essex-St_Brooklyn_NY_11208_M37834-77683\n",
      "https://www.realtor.com/realestateandhomes-detail/436-4th-Ave_Brooklyn_NY_11215_M97964-61910\n",
      "https://www.realtor.com/realestateandhomes-detail/16811-111th-Ave_Jamaica_NY_11433_M44597-26446\n",
      "https://www.realtor.com/realestateandhomes-detail/333-W-57th-St-Apt-302_New-York_NY_10019_M93962-77569\n",
      "https://www.realtor.com/realestateandhomes-detail/12-Ridge-Ct_Staten-Island_NY_10301_M97894-47585\n",
      "https://www.realtor.com/realestateandhomes-detail/18-Downey-Pl_Staten-Island_NY_10303_M36822-54609\n",
      "https://www.realtor.com/realestateandhomes-detail/2719-Thomson-Ave_Long-Island-City_NY_11101_M94805-41587\n",
      "https://www.realtor.com/realestateandhomes-detail/2561-Radcliff-Ave_Bronx_NY_10469_M38167-08418\n",
      "https://www.realtor.com/realestateandhomes-detail/1773-W-4th-St_Brooklyn_NY_11223_M92551-11064\n",
      "https://www.realtor.com/realestateandhomes-detail/43-41-45-Burling-St_Flushing_NY_11355_M45512-97883\n",
      "https://www.realtor.com/realestateandhomes-detail/43-Morris-St_Staten-Island_NY_10309_M48089-72710\n",
      "https://www.realtor.com/realestateandhomes-detail/1142-Bay-Ridge-Pkwy_Brooklyn_NY_11228_M38422-50446\n",
      "https://www.realtor.com/realestateandhomes-detail/299-Whitman-Dr_Brooklyn_NY_11234_M32219-31013\n",
      "https://www.realtor.com/realestateandhomes-detail/9432-40th-Dr_Elmhurst_NY_11373_M95839-29445\n",
      "https://www.realtor.com/realestateandhomes-detail/10455-128th-St_South-Richmond-Hill_NY_11419_M47481-90522\n",
      "https://www.realtor.com/realestateandhomes-detail/4010-Quentin-Rd_Brooklyn_NY_11234_M40732-68321\n",
      "https://www.realtor.com/realestateandhomes-detail/4611-104th-St_Corona_NY_11368_M96198-27322\n",
      "https://www.realtor.com/realestateandhomes-detail/13211-131st-Ave_South-Ozone-Park_NY_11420_M32614-36917\n",
      "https://www.realtor.com/realestateandhomes-detail/NY_10036_M91335-61914\n",
      "https://www.realtor.com/realestateandhomes-detail/2481-Davidson-Ave_Bronx_NY_10468_M49402-76584\n",
      "https://www.realtor.com/realestateandhomes-detail/1945-E-29th-St_Brooklyn_NY_11229_M37021-12832\n",
      "https://www.realtor.com/realestateandhomes-detail/11480-226th-St_Cambria-Heights_NY_11411_M47771-77341\n",
      "https://www.realtor.com/realestateandhomes-detail/2373-Broadway-Apt-303_New-York_NY_10024_M34033-20648\n",
      "https://www.realtor.com/realestateandhomes-detail/1032-Ovington-Ave_Brooklyn_NY_11219_M92367-96704\n",
      "https://www.realtor.com/realestateandhomes-detail/NY_11210_M90114-09961\n",
      "https://www.realtor.com/realestateandhomes-detail/394-Linden-Blvd_Brooklyn_NY_11203_M41690-82911\n",
      "https://www.realtor.com/realestateandhomes-detail/1441-Broadway_Astoria_NY_11106_M33873-93663\n",
      "https://www.realtor.com/realestateandhomes-detail/198-Madison-St_Brooklyn_NY_11216_M33274-34748\n",
      "https://www.realtor.com/realestateandhomes-detail/540-Ashford-St_Brooklyn_NY_11207_M32344-13881\n",
      "https://www.realtor.com/realestateandhomes-detail/1140-E-21st-St_Brooklyn_NY_11210_M49919-73952\n",
      "https://www.realtor.com/realestateandhomes-detail/64-Chestnut-Ave_Staten-Island_NY_10305_M46096-32812\n",
      "https://www.realtor.com/realestateandhomes-detail/14-Ridge-Ct_Staten-Island_NY_10301_M97847-94985\n",
      "https://www.realtor.com/realestateandhomes-detail/1238-118th-St_College-Point_NY_11356_M35013-73428\n",
      "https://www.realtor.com/realestateandhomes-detail/134-Manhattan-Ave_Brooklyn_NY_11206_M97228-38340\n",
      "https://www.realtor.com/realestateandhomes-detail/284-Legion-St_Brooklyn_NY_11212_M39010-35284\n",
      "https://www.realtor.com/realestateandhomes-detail/1737-E-2nd-St_Brooklyn_NY_11223_M46028-40108\n",
      "\n",
      "\n",
      "\n",
      "\n",
      " 66\n"
     ]
    },
    {
     "name": "stdout",
     "output_type": "stream",
     "text": [
      "mmmmmmmmmmmmmmmmmmmm https://www.realtor.com/realestateandhomes-search/Atlanta_GA/shw-nc/price-800000-na/pg-67\n",
      "https://www.realtor.com/realestateandhomes-detail/1737-E-2nd-St_Brooklyn_NY_11223_M46028-40108\n",
      "https://www.realtor.com/realestateandhomes-detail/2130-Hermany-Ave_Bronx_NY_10473_M31011-08194\n",
      "https://www.realtor.com/realestateandhomes-detail/201-E-23rd-St-4C_New-York_NY_10010_M91899-18642\n",
      "https://www.realtor.com/realestateandhomes-detail/Drumgoole-Rd-W_Staten-Island_NY_10312_M34442-48558\n",
      "https://www.realtor.com/realestateandhomes-detail/10319A-110th-St_S-Richmond-Hl_NY_11419_M90365-34666\n",
      "https://www.realtor.com/realestateandhomes-detail/299-Bay-13th-St_Brooklyn_NY_11214_M37943-05625\n",
      "https://www.realtor.com/realestateandhomes-detail/3705-Lyme-Ave_Brooklyn_NY_11224_M46019-34353\n",
      "https://www.realtor.com/realestateandhomes-detail/539-Kosciuszko-St_Brooklyn_NY_11221_M31570-45413\n",
      "https://www.realtor.com/realestateandhomes-detail/2122-67th-St_Brooklyn_NY_11204_M39464-83287\n",
      "https://www.realtor.com/realestateandhomes-detail/135-Alex-Cir_Staten-Island_NY_10305_M45016-48706\n",
      "https://www.realtor.com/realestateandhomes-detail/1824-College-Point-Blvd_College-Point_NY_11356_M91228-07604\n",
      "https://www.realtor.com/realestateandhomes-detail/3708-Shore-Pkwy_Brooklyn_NY_11235_M45260-89937\n",
      "https://www.realtor.com/realestateandhomes-detail/3173-Shore-Pkwy_Brooklyn_NY_11235_M94877-34881\n",
      "https://www.realtor.com/realestateandhomes-detail/1266-Boston-Rd_Bronx_NY_10456_M33985-64947\n",
      "https://www.realtor.com/realestateandhomes-detail/17826-Zoller-Rd_Jamaica_NY_11434_M31458-15219\n",
      "https://www.realtor.com/realestateandhomes-detail/3626-Bayview-Ave_Brooklyn_NY_11224_M32263-59363\n",
      "https://www.realtor.com/realestateandhomes-detail/1324-Rockaway-Pkwy_Brooklyn_NY_11236_M46809-15407\n",
      "https://www.realtor.com/realestateandhomes-detail/NY_10463_M95203-36354\n",
      "https://www.realtor.com/realestateandhomes-detail/NY_10469_M92930-22065\n",
      "https://www.realtor.com/realestateandhomes-detail/11530-116th-St_South-Ozone-Park_NY_11420_M34986-95875\n",
      "https://www.realtor.com/realestateandhomes-detail/536-Georgia-Ave_Brooklyn_NY_11207_M94025-29333\n",
      "https://www.realtor.com/realestateandhomes-detail/164-Thornycroft-Ave_Staten-Island_NY_10312_M45242-15420\n",
      "https://www.realtor.com/realestateandhomes-detail/1008-Rathbun-Ave_Staten-Island_NY_10309_M40020-41885\n",
      "https://www.realtor.com/realestateandhomes-detail/10151-116th-St_S-Richmond-Hl_NY_11419_M43132-13209\n",
      "https://www.realtor.com/realestateandhomes-detail/30-E-14th-St_New-York_NY_10003_M90754-71561\n",
      "https://www.realtor.com/realestateandhomes-detail/716-Montgomery-St_Brooklyn_NY_11213_M33157-33243\n",
      "https://www.realtor.com/realestateandhomes-detail/4232-196th-St_Flushing_NY_11358_M38526-56723\n",
      "https://www.realtor.com/realestateandhomes-detail/13136-132nd-St_South-Ozone-Park_NY_11420_M48801-86490\n",
      "https://www.realtor.com/realestateandhomes-detail/20012-36th-Ave_Bayside_NY_11361_M43291-37842\n",
      "https://www.realtor.com/realestateandhomes-detail/1265-E-92nd-St_Brooklyn_NY_11236_M41849-33532\n",
      "https://www.realtor.com/realestateandhomes-detail/2341-Richmond-Rd_Staten-Island_NY_10306_M48830-49180\n",
      "https://www.realtor.com/realestateandhomes-detail/39-Troy-St_Staten-Island_NY_10308_M31330-97383\n",
      "https://www.realtor.com/realestateandhomes-detail/579-E-29th-St_Brooklyn_NY_11210_M32043-84532\n",
      "https://www.realtor.com/realestateandhomes-detail/46-Delphine-Ter_Staten-Island_NY_10305_M47661-23174\n",
      "https://www.realtor.com/realestateandhomes-detail/11415-118th-St_South-Ozone-Park_NY_11420_M96235-05182\n",
      "https://www.realtor.com/realestateandhomes-detail/18918-Tioga-Dr_Saint-Albans_NY_11412_M32829-68408\n",
      "https://www.realtor.com/realestateandhomes-detail/8237-Austin-St_Kew-Gardens_NY_11415_M35347-64935\n",
      "https://www.realtor.com/realestateandhomes-detail/61-E-Figurea-Ave_Staten-Island_NY_10308_M38739-81586\n",
      "https://www.realtor.com/realestateandhomes-detail/177-Cedar-Grove-Ave_Staten-Island_NY_10306_M40606-20798\n",
      "https://www.realtor.com/realestateandhomes-detail/72-Leverett-Ave_Staten-Island_NY_10308_M49228-40983\n",
      "https://www.realtor.com/realestateandhomes-detail/8019-86th-Rd_Woodhaven_NY_11421_M47690-35695\n",
      "https://www.realtor.com/realestateandhomes-detail/8429-258th-St_Floral-Park_NY_11001_M49510-34242\n",
      "\n",
      "\n",
      "\n",
      "\n",
      " 67\n"
     ]
    },
    {
     "name": "stdout",
     "output_type": "stream",
     "text": [
      "mmmmmmmmmmmmmmmmmmmm https://www.realtor.com/realestateandhomes-search/Atlanta_GA/shw-nc/price-800000-na/pg-68\n",
      "https://www.realtor.com/realestateandhomes-detail/24705-136th-Rd_Rosedale_NY_11422_M49705-78166\n",
      "https://www.realtor.com/realestateandhomes-detail/14619-183rd-St_Springfield-Gardens_NY_11413_M49141-58722\n",
      "https://www.realtor.com/realestateandhomes-detail/1233-Todt-Hill-Rd_Staten-Island_NY_10304_M41212-29742\n",
      "https://www.realtor.com/realestateandhomes-detail/10-Maguire-Ct_Staten-Island_NY_10309_M46712-99020\n",
      "https://www.realtor.com/realestateandhomes-detail/6248-70th-St_Middle-Village_NY_11379_M39368-92275\n",
      "https://www.realtor.com/realestateandhomes-detail/10728-109th-St_South-Richmond-Hill_NY_11419_M34341-84157\n",
      "https://www.realtor.com/realestateandhomes-detail/204-Byrne-Ave_Staten-Island_NY_10314_M38972-53204\n",
      "https://www.realtor.com/realestateandhomes-detail/12605-109th-Ave_South-Ozone-Park_NY_11420_M31847-75798\n",
      "https://www.realtor.com/realestateandhomes-detail/8242-62nd-Ave_Middle-Village_NY_11379_M30055-62658\n",
      "https://www.realtor.com/realestateandhomes-detail/146-Ardsley-St_Staten-Island_NY_10306_M47123-89537\n",
      "https://www.realtor.com/realestateandhomes-detail/576-Sheldon-Ave_Staten-Island_NY_10312_M31482-77216\n",
      "https://www.realtor.com/realestateandhomes-detail/310-E-46th-St-Ph-H_New-York_NY_10017_M34458-35218\n",
      "https://www.realtor.com/realestateandhomes-detail/29-Livingston-Ct_Staten-Island_NY_10310_M49922-63063\n",
      "https://www.realtor.com/realestateandhomes-detail/503-Minnieford-Ave_Bronx_NY_10464_M36585-01194\n",
      "https://www.realtor.com/realestateandhomes-detail/11718-125th-St_South-Ozone-Park_NY_11420_M41811-84346\n",
      "https://www.realtor.com/realestateandhomes-detail/5017-40th-St_Sunnyside_NY_11104_M37630-42281\n",
      "https://www.realtor.com/realestateandhomes-detail/67-Dale-Ave_Staten-Island_NY_10306_M44154-17242\n",
      "https://www.realtor.com/realestateandhomes-detail/8922-210th-Pl_Queens-Village_NY_11427_M49197-92177\n",
      "https://www.realtor.com/realestateandhomes-detail/4815-212th-St_Oakland-Gardens_NY_11364_M38842-61391\n",
      "https://www.realtor.com/realestateandhomes-detail/16-Mapleton-Ave_Staten-Island_NY_10306_M43400-14942\n",
      "https://www.realtor.com/realestateandhomes-detail/171-Keiber-Ct_Staten-Island_NY_10314_M43657-36666\n",
      "https://www.realtor.com/realestateandhomes-detail/9214-243rd-St_Bellerose_NY_11426_M31109-10329\n",
      "https://www.realtor.com/realestateandhomes-detail/1823-Anthony-Ave_Bronx_NY_10457_M34150-58994\n",
      "https://www.realtor.com/realestateandhomes-detail/436-Bement-Ave_Staten-Island_NY_10310_M35531-88129\n",
      "https://www.realtor.com/realestateandhomes-detail/13547-229th-St_Springfield-Gardens_NY_11413_M33486-61874\n",
      "https://www.realtor.com/realestateandhomes-detail/57-Aster-Ct_Brooklyn_NY_11229_M30220-99657\n",
      "https://www.realtor.com/realestateandhomes-detail/305-Arkansas-Dr_Brooklyn_NY_11234_M35899-09451\n",
      "https://www.realtor.com/realestateandhomes-detail/16-Maple-St_Hudson-Falls_NY_12839_M44056-05386\n",
      "https://www.realtor.com/realestateandhomes-detail/131-W-14th-St_New-York_NY_10011_M91145-88912\n",
      "https://www.realtor.com/realestateandhomes-detail/13228-140th-St_Jamaica_NY_11436_M48075-95796\n",
      "https://www.realtor.com/realestateandhomes-detail/5110-248th-St_Little-Neck_NY_11362_M41586-37931\n",
      "https://www.realtor.com/realestateandhomes-detail/2509-Tilden-Ave_Brooklyn_NY_11226_M99658-92708\n",
      "https://www.realtor.com/realestateandhomes-detail/3230-157th-St_Flushing_NY_11354_M32882-00864\n",
      "https://www.realtor.com/realestateandhomes-detail/1629-Pelham-Pkwy-N_Bronx_NY_10469_M32580-09184\n",
      "https://www.realtor.com/realestateandhomes-detail/Ozone-Park_NY_11417_M31833-33799\n",
      "https://www.realtor.com/realestateandhomes-detail/7716-Woodside-Ave_Elmhurst_NY_11373_M35906-66048\n",
      "https://www.realtor.com/realestateandhomes-detail/1946-Gildersleeve-Ave_Bronx_NY_10473_M41818-36974\n",
      "https://www.realtor.com/realestateandhomes-detail/10608-Ruscoe-St_Jamaica_NY_11433_M36646-51266\n",
      "https://www.realtor.com/realestateandhomes-detail/11144-Witthoff-Ave_Queens-Village_NY_11429_M32327-11173\n",
      "https://www.realtor.com/realestateandhomes-detail/1112A-White-Plains-Rd_Bronx_NY_10472_M97775-35493\n",
      "https://www.realtor.com/realestateandhomes-detail/9911-200th-St_Hollis_NY_11423_M41087-00865\n",
      "https://www.realtor.com/realestateandhomes-detail/95th-Ave_Jamaica_NY_11435_M95105-79105\n",
      "\n",
      "\n",
      "\n",
      "\n",
      " 68\n"
     ]
    },
    {
     "name": "stdout",
     "output_type": "stream",
     "text": [
      "mmmmmmmmmmmmmmmmmmmm https://www.realtor.com/realestateandhomes-search/Atlanta_GA/shw-nc/price-800000-na/pg-69\n",
      "https://www.realtor.com/realestateandhomes-detail/59-Tanglewood-Dr_Staten-Island_NY_10308_M31587-54021\n",
      "https://www.realtor.com/realestateandhomes-detail/18823-Mangin-Ave_Jamaica_NY_11412_M39016-49362\n",
      "https://www.realtor.com/realestateandhomes-detail/86-Ambassador-Ln_Staten-Island_NY_10309_M40962-45969\n",
      "https://www.realtor.com/realestateandhomes-detail/66-Bodine-St_Staten-Island_NY_10310_M30353-48815\n",
      "https://www.realtor.com/realestateandhomes-detail/3319-Fillmore-Ave_Brooklyn_NY_11234_M43805-31092\n",
      "https://www.realtor.com/realestateandhomes-detail/1506-E-172nd-St_Bronx_NY_10472_M93090-77550\n",
      "https://www.realtor.com/realestateandhomes-detail/930-Putnam-Ave_Brooklyn_NY_11221_M42316-99844\n",
      "https://www.realtor.com/realestateandhomes-detail/1-Family-Home-for-Sale-on-Nelson-St_Bronx_NY_10452_M90027-90395\n",
      "https://www.realtor.com/realestateandhomes-detail/1585-W-9th-St_Brooklyn_NY_11204_M45396-99006\n",
      "https://www.realtor.com/realestateandhomes-detail/271-Church-Ave_Brooklyn_NY_11218_M34693-27010\n",
      "https://www.realtor.com/realestateandhomes-detail/8001-12th-Ave_Brooklyn_NY_11228_M37670-47774\n",
      "https://www.realtor.com/realestateandhomes-detail/199-King-St_Staten-Island_NY_10308_M43215-82821\n",
      "https://www.realtor.com/realestateandhomes-detail/13317-229th-St_Springfield-Gardens_NY_11413_M33058-43306\n",
      "https://www.realtor.com/realestateandhomes-detail/465-Argyle-Rd_Brooklyn_NY_11218_M48798-68827\n",
      "https://www.realtor.com/realestateandhomes-detail/558-E-34th-St_Brooklyn_NY_11203_M44881-91176\n",
      "https://www.realtor.com/realestateandhomes-detail/3331-74th-St_Jackson-Heights_NY_11372_M45253-94815\n",
      "https://www.realtor.com/realestateandhomes-detail/17931-Tudor-Rd_Jamaica_NY_11432_M32287-53463\n",
      "https://www.realtor.com/realestateandhomes-detail/892-Mother-Gaston-Blvd_Brooklyn_NY_11212_M37332-67160\n",
      "https://www.realtor.com/realestateandhomes-detail/8746-117th-St_Richmond-Hill_NY_11418_M40576-92013\n",
      "https://www.realtor.com/realestateandhomes-detail/2439-Crotona-Ave_Bronx_NY_10458_M30176-40706\n",
      "https://www.realtor.com/realestateandhomes-detail/11640-203rd-St_Saint-Albans_NY_11412_M32587-14577\n",
      "https://www.realtor.com/realestateandhomes-detail/394-17th-St_Brooklyn_NY_11215_M31941-64218\n",
      "https://www.realtor.com/realestateandhomes-detail/69-Marine-St_Bronx_NY_10464_M47176-64364\n",
      "https://www.realtor.com/realestateandhomes-detail/2266-E-63rd-St_Brooklyn_NY_11234_M41615-09701\n",
      "https://www.realtor.com/realestateandhomes-detail/23107-147th-Ave_Springfield-Gardens_NY_11413_M35366-17256\n",
      "https://www.realtor.com/realestateandhomes-detail/NY_11229_M98273-62822\n",
      "https://www.realtor.com/realestateandhomes-detail/4303-Westmoreland-St_Little-Neck_NY_11363_M48284-66557\n",
      "https://www.realtor.com/realestateandhomes-detail/NY_11229_M91055-83350\n",
      "https://www.realtor.com/realestateandhomes-detail/NY_11101_M94217-64497\n",
      "https://www.realtor.com/realestateandhomes-detail/1191-Remsen-Ave_Brooklyn_NY_11236_M39673-74960\n",
      "https://www.realtor.com/realestateandhomes-detail/6538-75th-Pl_Middle-Village_NY_11379_M43203-12111\n",
      "https://www.realtor.com/realestateandhomes-detail/NY_11218_M94219-22623\n",
      "https://www.realtor.com/realestateandhomes-detail/NY_11385_M99109-73451\n",
      "https://www.realtor.com/realestateandhomes-detail/11936-Springfield-Blvd_Cambria-Heights_NY_11411_M39704-68889\n",
      "https://www.realtor.com/realestateandhomes-detail/7801-86th-St_Ridgewood_NY_11385_M41422-21320\n",
      "https://www.realtor.com/realestateandhomes-detail/79-Byrne-Ave_Staten-Island_NY_10314_M49119-78924\n",
      "https://www.realtor.com/realestateandhomes-detail/310-Huntington-Ave_Bronx_NY_10465_M41738-71509\n",
      "https://www.realtor.com/realestateandhomes-detail/NY_11226_M97864-50082\n",
      "https://www.realtor.com/realestateandhomes-detail/NY_11237_M97319-45344\n",
      "https://www.realtor.com/realestateandhomes-detail/NY_11228_M93257-23819\n",
      "https://www.realtor.com/realestateandhomes-detail/15811-96th-St_Howard-Beach_NY_11414_M36169-55935\n",
      "https://www.realtor.com/realestateandhomes-detail/NY_11413_M94455-87834\n",
      "\n",
      "\n",
      "\n",
      "\n",
      " 69\n"
     ]
    },
    {
     "name": "stdout",
     "output_type": "stream",
     "text": [
      "mmmmmmmmmmmmmmmmmmmm https://www.realtor.com/realestateandhomes-search/Atlanta_GA/shw-nc/price-800000-na/pg-70\n",
      "https://www.realtor.com/realestateandhomes-detail/NY_11360_M91617-58604\n",
      "https://www.realtor.com/realestateandhomes-detail/NY_11210_M95200-16437\n",
      "https://www.realtor.com/realestateandhomes-detail/NY_10024_M94284-44707\n",
      "https://www.realtor.com/realestateandhomes-detail/1-Alston-Pl_Little-Neck_NY_11363_M42304-00061\n",
      "https://www.realtor.com/realestateandhomes-detail/6916-68th-St_Ridgewood_NY_11385_M46842-65826\n",
      "https://www.realtor.com/realestateandhomes-detail/8401-Midland-Pkwy_Jamaica_NY_11432_M36654-03586\n",
      "https://www.realtor.com/realestateandhomes-detail/10225-163rd-Dr_Howard-Beach_NY_11414_M49821-83375\n",
      "https://www.realtor.com/realestateandhomes-detail/22110-114th-Rd_Cambria-Heights_NY_11411_M40434-60795\n",
      "https://www.realtor.com/realestateandhomes-detail/205-Cannon-Blvd_Staten-Island_NY_10306_M41470-38593\n",
      "https://www.realtor.com/realestateandhomes-detail/11829-205th-St_Saint-Albans_NY_11412_M34696-05695\n",
      "https://www.realtor.com/realestateandhomes-detail/877-Travis-Ave_Staten-Island_NY_10314_M33829-78612\n",
      "https://www.realtor.com/realestateandhomes-detail/1-City-Pt-Apt-46J_Brooklyn_NY_11201_M96769-38792\n",
      "https://www.realtor.com/realestateandhomes-detail/221-Saint-John-Ave_Staten-Island_NY_10314_M45565-38290\n",
      "https://www.realtor.com/realestateandhomes-detail/115115-223rd-St_Cambria-Heights_NY_11411_M38627-66463\n",
      "https://www.realtor.com/realestateandhomes-detail/200-Potter-Ave_Staten-Island_NY_10314_M37544-24219\n",
      "https://www.realtor.com/realestateandhomes-detail/8303-258th-St_Glen-Oaks_NY_11004_M31178-30451\n",
      "https://www.realtor.com/realestateandhomes-detail/6702-215th-St_Oakland-Gardens_NY_11364_M47474-30895\n",
      "https://www.realtor.com/realestateandhomes-detail/10016-205th-Pl_Hollis_NY_11423_M43553-22501\n",
      "https://www.realtor.com/realestateandhomes-detail/211-Morningstar-Rd_Staten-Island_NY_10303_M45784-82856\n",
      "https://www.realtor.com/realestateandhomes-detail/136-Beach-140th-St_Rockaway-Park_NY_11694_M34667-76632\n",
      "https://www.realtor.com/realestateandhomes-detail/13534-226th-St_Springfield-Gardens_NY_11413_M48516-72815\n",
      "https://www.realtor.com/realestateandhomes-detail/60-Romer-Rd_Staten-Island_NY_10304_M44394-24731\n",
      "https://www.realtor.com/realestateandhomes-detail/251-Beach-140th-St_Rockaway-Park_NY_11694_M35713-82836\n",
      "https://www.realtor.com/realestateandhomes-detail/3718-Neptune-Ave_Brooklyn_NY_11224_M38429-14935\n",
      "https://www.realtor.com/realestateandhomes-detail/14438-158th-St_Jamaica_NY_11434_M31726-61218\n",
      "https://www.realtor.com/realestateandhomes-detail/332-Willowbrook-Rd_Staten-Island_NY_10314_M41178-20871\n",
      "https://www.realtor.com/realestateandhomes-detail/31-Ray-St_Staten-Island_NY_10312_M37135-95267\n",
      "https://www.realtor.com/realestateandhomes-detail/176-State-St_Brooklyn_NY_11201_M49993-04950\n",
      "https://www.realtor.com/realestateandhomes-detail/531-Beach-134th-St_Rockaway-Park_NY_11694_M45098-32692\n",
      "https://www.realtor.com/realestateandhomes-detail/2434-E-66th-St_Brooklyn_NY_11234_M37080-42489\n",
      "https://www.realtor.com/realestateandhomes-detail/9-Inwood-Rd_Staten-Island_NY_10301_M41586-49823\n",
      "https://www.realtor.com/realestateandhomes-detail/21931-133rd-Ave_Springfield-Gardens_NY_11413_M34748-68416\n",
      "https://www.realtor.com/realestateandhomes-detail/1761-E-53rd-St_Brooklyn_NY_11234_M43539-97741\n",
      "https://www.realtor.com/realestateandhomes-detail/2572-Pearsall-Ave_Bronx_NY_10469_M32242-46240\n",
      "https://www.realtor.com/realestateandhomes-detail/3163-Rawlins-Ave_Bronx_NY_10465_M32588-80822\n",
      "https://www.realtor.com/realestateandhomes-detail/1846-Williamsbridge-Rd_Bronx_NY_10461_M30688-87675\n",
      "https://www.realtor.com/realestateandhomes-detail/16643-24th-Rd_Whitestone_NY_11357_M39558-72012\n",
      "https://www.realtor.com/realestateandhomes-detail/117-Gary-Pl_Staten-Island_NY_10314_M45529-36089\n",
      "https://www.realtor.com/realestateandhomes-detail/41-Josephine-St_Staten-Island_NY_10314_M37248-62880\n",
      "https://www.realtor.com/realestateandhomes-detail/2117-38th-St_Astoria_NY_11105_M41262-51901\n",
      "https://www.realtor.com/realestateandhomes-detail/2282-E-74th-St_Brooklyn_NY_11234_M30627-97918\n",
      "https://www.realtor.com/realestateandhomes-detail/555-16th-St_Brooklyn_NY_11215_M35447-81098\n",
      "\n",
      "\n",
      "\n",
      "\n",
      " 70\n"
     ]
    },
    {
     "name": "stdout",
     "output_type": "stream",
     "text": [
      "mmmmmmmmmmmmmmmmmmmm https://www.realtor.com/realestateandhomes-search/Atlanta_GA/shw-nc/price-800000-na/pg-71\n",
      "https://www.realtor.com/realestateandhomes-detail/1578-E-51st-St_Brooklyn_NY_11234_M31148-06653\n",
      "https://www.realtor.com/realestateandhomes-detail/8404-164th-Ave_Howard-Beach_NY_11414_M46311-87048\n",
      "https://www.realtor.com/realestateandhomes-detail/219-Ardsley-St_Staten-Island_NY_10306_M46969-98702\n",
      "https://www.realtor.com/realestateandhomes-detail/822-Lafayette-Ave_Brooklyn_NY_11221_M95603-15995\n",
      "https://www.realtor.com/realestateandhomes-detail/133-Van-Pelt-Ave_Staten-Island_NY_10303_M49402-89668\n",
      "https://www.realtor.com/realestateandhomes-detail/81-Exeter-St_Staten-Island_NY_10308_M35161-71676\n",
      "https://www.realtor.com/realestateandhomes-detail/160-Marine-Ave_Brooklyn_NY_11209_M43352-06260\n",
      "https://www.realtor.com/realestateandhomes-detail/16025-10th-Ave_Whitestone_NY_11357_M45200-37966\n",
      "https://www.realtor.com/realestateandhomes-detail/15-Westbury-Ave_Staten-Island_NY_10301_M46654-40747\n",
      "https://www.realtor.com/realestateandhomes-detail/11202-178th-St_Jamaica_NY_11433_M93887-99171\n",
      "https://www.realtor.com/realestateandhomes-detail/59-Midwood-St_Brooklyn_NY_11225_M49861-01434\n",
      "https://www.realtor.com/realestateandhomes-detail/8409-120th-St_Kew-Gardens_NY_11415_M38233-01830\n",
      "https://www.realtor.com/realestateandhomes-detail/5807-201st-St_Oakland-Gardens_NY_11364_M44102-10159\n",
      "https://www.realtor.com/realestateandhomes-detail/160-Nicolosi-Dr_Staten-Island_NY_10312_M42560-95188\n",
      "https://www.realtor.com/realestateandhomes-detail/4126-Gunther-Ave_Bronx_NY_10466_M48370-47997\n",
      "https://www.realtor.com/realestateandhomes-detail/7138-58th-Rd_Maspeth_NY_11378_M49548-60132\n",
      "https://www.realtor.com/realestateandhomes-detail/1612-Overing-St_Bronx_NY_10461_M38645-23771\n",
      "https://www.realtor.com/realestateandhomes-detail/11623-201st-St_Saint-Albans_NY_11412_M32310-25982\n",
      "https://www.realtor.com/realestateandhomes-detail/4022-223rd-St_Bayside_NY_11361_M49285-97792\n",
      "https://www.realtor.com/realestateandhomes-detail/10436-211th-St_Queens-Village_NY_11429_M40593-18416\n",
      "https://www.realtor.com/realestateandhomes-detail/362-Brehaut-Ave_Staten-Island_NY_10307_M45164-84923\n",
      "https://www.realtor.com/realestateandhomes-detail/162-Sand-Ln_Staten-Island_NY_10305_M46419-61277\n",
      "https://www.realtor.com/realestateandhomes-detail/35-Peter-Ct_Staten-Island_NY_10304_M34892-67591\n",
      "https://www.realtor.com/realestateandhomes-detail/33-Emerson-Ct_Staten-Island_NY_10304_M39878-46710\n",
      "https://www.realtor.com/realestateandhomes-detail/19-Center-Dr_Whitestone_NY_11357_M49712-43848\n",
      "https://www.realtor.com/realestateandhomes-detail/8523-214th-St_Queens-Village_NY_11427_M33019-58295\n",
      "https://www.realtor.com/realestateandhomes-detail/8857-16th-Ave_Brooklyn_NY_11214_M38610-11662\n",
      "https://www.realtor.com/realestateandhomes-detail/16116-87th-St_Howard-Beach_NY_11414_M33136-48428\n",
      "https://www.realtor.com/realestateandhomes-detail/174-Natick-St_Staten-Island_NY_10306_M30009-70020\n",
      "https://www.realtor.com/realestateandhomes-detail/735-Chauncey-St_Brooklyn_NY_11207_M37561-33928\n",
      "https://www.realtor.com/realestateandhomes-detail/227-Newman-Ave_Bronx_NY_10473_M39521-76417\n",
      "https://www.realtor.com/realestateandhomes-detail/8519-Radnor-St_Jamaica_NY_11432_M46100-25067\n",
      "https://www.realtor.com/realestateandhomes-detail/25-Tarring-St_Staten-Island_NY_10306_M44466-83367\n",
      "https://www.realtor.com/realestateandhomes-detail/South-Ozone-Park_NY_11420_M40240-47165\n",
      "https://www.realtor.com/realestateandhomes-detail/434-Darlington-Ave_Staten-Island_NY_10309_M38477-94143\n",
      "https://www.realtor.com/realestateandhomes-detail/81-W-119th-St_New-York_NY_10026_M35513-82580\n",
      "https://www.realtor.com/realestateandhomes-detail/8048-248th-St_Bellerose_NY_11426_M48470-67430\n",
      "https://www.realtor.com/realestateandhomes-detail/8321-12th-Ave_Brooklyn_NY_11228_M30239-24465\n",
      "https://www.realtor.com/realestateandhomes-detail/233-Lockman-Ave_Staten-Island_NY_10303_M37646-14268\n",
      "https://www.realtor.com/realestateandhomes-detail/269-College-Ave_Staten-Island_NY_10314_M38287-96371\n",
      "https://www.realtor.com/realestateandhomes-detail/98-Glover-St_Staten-Island_NY_10308_M32431-80977\n",
      "https://www.realtor.com/realestateandhomes-detail/8411-159th-Ave_Howard-Beach_NY_11414_M42631-11335\n",
      "\n",
      "\n",
      "\n",
      "\n",
      " 71\n"
     ]
    },
    {
     "name": "stdout",
     "output_type": "stream",
     "text": [
      "mmmmmmmmmmmmmmmmmmmm https://www.realtor.com/realestateandhomes-search/Atlanta_GA/shw-nc/price-800000-na/pg-72\n",
      "https://www.realtor.com/realestateandhomes-detail/1759-Coleman-St_Brooklyn_NY_11234_M43063-57345\n",
      "https://www.realtor.com/realestateandhomes-detail/668-Yetman-Ave_Staten-Island_NY_10307_M37368-20173\n",
      "https://www.realtor.com/realestateandhomes-detail/20612-50th-Ave_Oakland-Gardens_NY_11364_M45685-54371\n",
      "https://www.realtor.com/realestateandhomes-detail/96-Ridgewood-Ave_Staten-Island_NY_10312_M45077-61543\n",
      "https://www.realtor.com/realestateandhomes-detail/1242-Saint-Lawrence-Ave_Bronx_NY_10472_M31822-73417\n",
      "https://www.realtor.com/realestateandhomes-detail/25712-86th-Ave_Floral-Park_NY_11001_M49807-35198\n",
      "https://www.realtor.com/realestateandhomes-detail/21611-121st-Ave_Cambria-Heights_NY_11411_M43441-76132\n",
      "https://www.realtor.com/realestateandhomes-detail/2-Oak-Ct_Staten-Island_NY_10308_M39465-12482\n",
      "https://www.realtor.com/realestateandhomes-detail/1433-138th-St_College-Point_NY_11356_M35281-77790\n",
      "https://www.realtor.com/realestateandhomes-detail/3758-Bayview-Ave_Brooklyn_NY_11224_M32454-02259\n",
      "https://www.realtor.com/realestateandhomes-detail/11937-180th-St_Jamaica_NY_11434_M37885-15036\n",
      "https://www.realtor.com/realestateandhomes-detail/11939-226th-St_Cambria-Heights_NY_11411_M40945-92817\n",
      "https://www.realtor.com/realestateandhomes-detail/2320-154th-St_Whitestone_NY_11357_M41912-27258\n",
      "https://www.realtor.com/realestateandhomes-detail/28-Logan-St_Brooklyn_NY_11208_M41129-92593\n",
      "https://www.realtor.com/realestateandhomes-detail/1629-Mahan-Ave_Bronx_NY_10461_M40337-28820\n",
      "https://www.realtor.com/realestateandhomes-detail/22519-109th-Ave_Queens-Village_NY_11429_M45131-85404\n",
      "https://www.realtor.com/realestateandhomes-detail/8746-89th-St_Woodhaven_NY_11421_M49740-42646\n",
      "https://www.realtor.com/realestateandhomes-detail/7315-190th-St_Fresh-Meadows_NY_11366_M43174-88123\n",
      "https://www.realtor.com/realestateandhomes-detail/313-Sheldon-Ave_Staten-Island_NY_10312_M36599-76363\n",
      "https://www.realtor.com/realestateandhomes-detail/81-Hillis-St_Staten-Island_NY_10312_M49182-36454\n",
      "https://www.realtor.com/realestateandhomes-detail/740-Logan-Ave_Bronx_NY_10465_M49672-55200\n",
      "https://www.realtor.com/realestateandhomes-detail/208-Tysens-Ln_Staten-Island_NY_10306_M43734-29194\n",
      "https://www.realtor.com/realestateandhomes-detail/10350-102nd-St_Ozone-Park_NY_11417_M45968-81562\n",
      "https://www.realtor.com/realestateandhomes-detail/17529-Peck-Ave_Fresh-Meadows_NY_11365_M39276-14278\n",
      "https://www.realtor.com/realestateandhomes-detail/39-Canterbury-Ave_Staten-Island_NY_10314_M49456-20624\n",
      "https://www.realtor.com/realestateandhomes-detail/209-Nicholas-Ave_Staten-Island_NY_10302_M90057-97544\n",
      "https://www.realtor.com/realestateandhomes-detail/4167-Monticello-Ave_Bronx_NY_10466_M33002-86433\n",
      "https://www.realtor.com/realestateandhomes-detail/14544-175th-St_Jamaica_NY_11434_M41471-02456\n",
      "https://www.realtor.com/realestateandhomes-detail/13816-243rd-St_Rosedale_NY_11422_M46305-97091\n",
      "https://www.realtor.com/realestateandhomes-detail/287-Ridgecrest-Ave_Staten-Island_NY_10312_M37935-22490\n",
      "https://www.realtor.com/realestateandhomes-detail/139-Roe-St_Staten-Island_NY_10310_M31279-09193\n",
      "https://www.realtor.com/realestateandhomes-detail/11564-228th-St_Cambria-Heights_NY_11411_M39658-07497\n",
      "https://www.realtor.com/realestateandhomes-detail/15043-Coolidge-Ave_Jamaica_NY_11432_M43908-76136\n",
      "https://www.realtor.com/realestateandhomes-detail/221-Willowbrook-Rd_Staten-Island_NY_10302_M30884-30039\n",
      "https://www.realtor.com/realestateandhomes-detail/322-83rd-St_Brooklyn_NY_11209_M36214-51663\n",
      "https://www.realtor.com/realestateandhomes-detail/76-Lorraine-Ave_Staten-Island_NY_10312_M41985-55503\n",
      "https://www.realtor.com/realestateandhomes-detail/182-Kensington-St_Brooklyn_NY_11235_M37638-05637\n",
      "https://www.realtor.com/realestateandhomes-detail/143-Wolverine-St_Staten-Island_NY_10306_M49691-07614\n",
      "https://www.realtor.com/realestateandhomes-detail/24-Cyrus-Ave_Brooklyn_NY_11229_M31350-07942\n",
      "https://www.realtor.com/realestateandhomes-detail/2924-202nd-St_Bayside_NY_11360_M34786-44352\n",
      "https://www.realtor.com/realestateandhomes-detail/6294-Austin-St_Rego-Park_NY_11374_M47509-57342\n",
      "https://www.realtor.com/realestateandhomes-detail/6165-70th-St_Middle-Village_NY_11379_M31394-92084\n",
      "\n",
      "\n",
      "\n",
      "\n",
      " 72\n"
     ]
    },
    {
     "name": "stdout",
     "output_type": "stream",
     "text": [
      "mmmmmmmmmmmmmmmmmmmm https://www.realtor.com/realestateandhomes-search/Atlanta_GA/shw-nc/price-800000-na/pg-73\n",
      "https://www.realtor.com/realestateandhomes-detail/11140-114th-St_South-Ozone-Park_NY_11420_M42461-26288\n",
      "https://www.realtor.com/realestateandhomes-detail/1017-E-103rd-St_Brooklyn_NY_11236_M33060-88884\n",
      "https://www.realtor.com/realestateandhomes-detail/7406-Avenue-U_Brooklyn_NY_11234_M99759-57209\n",
      "https://www.realtor.com/realestateandhomes-detail/2545-48th-St_Astoria_NY_11103_M49552-89653\n",
      "https://www.realtor.com/realestateandhomes-detail/4535-Springfield-Blvd_Bayside_NY_11361_M44147-20561\n",
      "https://www.realtor.com/realestateandhomes-detail/11044-63rd-Dr_Forest-Hills_NY_11375_M34715-81493\n",
      "https://www.realtor.com/realestateandhomes-detail/16014-83rd-St_Howard-Beach_NY_11414_M47827-34338\n",
      "https://www.realtor.com/realestateandhomes-detail/39-Plumtree-Ln_Staten-Island_NY_10309_M40720-07086\n",
      "https://www.realtor.com/realestateandhomes-detail/2020-Tomlinson-Ave_Bronx_NY_10461_M32080-01438\n",
      "https://www.realtor.com/realestateandhomes-detail/61-Summer-St_Forest-Hills_NY_11375_M32665-61947\n",
      "https://www.realtor.com/realestateandhomes-detail/13815-242nd-St_Rosedale_NY_11422_M39851-07404\n",
      "https://www.realtor.com/realestateandhomes-detail/28-Jansen-St_Staten-Island_NY_10312_M44741-84929\n",
      "https://www.realtor.com/realestateandhomes-detail/125-Queen-St_Staten-Island_NY_10314_M34830-42253\n",
      "https://www.realtor.com/realestateandhomes-detail/8056-88th-Rd_Woodhaven_NY_11421_M45785-08689\n",
      "https://www.realtor.com/realestateandhomes-detail/17637-127th-Ave_Jamaica_NY_11434_M41806-59474\n",
      "https://www.realtor.com/realestateandhomes-detail/17210-111th-Ave_Jamaica_NY_11433_M38118-51739\n",
      "https://www.realtor.com/realestateandhomes-detail/162-10th-St_Brooklyn_NY_11215_M41722-87782\n",
      "https://www.realtor.com/realestateandhomes-detail/43-Lockman-Ave_Staten-Island_NY_10303_M30593-91646\n",
      "https://www.realtor.com/realestateandhomes-detail/4834-188th-St_Fresh-Meadows_NY_11365_M35447-16868\n",
      "https://www.realtor.com/realestateandhomes-detail/2143-80th-St_East-Elmhurst_NY_11370_M31662-56031\n",
      "https://www.realtor.com/realestateandhomes-detail/3865-Poplar-Ave_Brooklyn_NY_11224_M35649-94982\n",
      "https://www.realtor.com/realestateandhomes-detail/6291-Wetherole-St_Rego-Park_NY_11374_M49674-61095\n",
      "https://www.realtor.com/realestateandhomes-detail/66-Martinot-Ave_Rochester_NY_14609_M45928-81785\n",
      "https://www.realtor.com/realestateandhomes-detail/18428-Midland-Pkwy_Jamaica_NY_11432_M34906-74251\n",
      "https://www.realtor.com/realestateandhomes-detail/4613-193rd-St_Flushing_NY_11358_M37196-33053\n",
      "https://www.realtor.com/realestateandhomes-detail/12041-231st-St_Cambria-Heights_NY_11411_M31615-36372\n",
      "https://www.realtor.com/realestateandhomes-detail/360-New-York-Ave_Brooklyn_NY_11213_M43748-52176\n",
      "https://www.realtor.com/realestateandhomes-detail/1913-Ryder-St_Brooklyn_NY_11234_M30553-89516\n",
      "https://www.realtor.com/realestateandhomes-detail/8716-Avenue-M_Brooklyn_NY_11236_M34968-92435\n",
      "https://www.realtor.com/realestateandhomes-detail/24930-147th-Rd_Rosedale_NY_11422_M45379-63036\n",
      "https://www.realtor.com/realestateandhomes-detail/151-Nicolosi-Dr_Staten-Island_NY_10312_M36755-16261\n",
      "https://www.realtor.com/realestateandhomes-detail/82-Crosshill-St_Staten-Island_NY_10301_M37142-90724\n",
      "https://www.realtor.com/realestateandhomes-detail/32-Linden-St_Staten-Island_NY_10310_M45734-31135\n",
      "https://www.realtor.com/realestateandhomes-detail/23139-128th-Ave_Springfield-Gardens_NY_11413_M31979-07931\n",
      "https://www.realtor.com/realestateandhomes-detail/10924-125th-St_South-Ozone-Park_NY_11420_M33283-90517\n",
      "https://www.realtor.com/realestateandhomes-detail/62-Daleham-St_Staten-Island_NY_10308_M38286-03040\n",
      "https://www.realtor.com/realestateandhomes-detail/13177-228th-St_Springfield-Gardens_NY_11413_M37878-76530\n",
      "https://www.realtor.com/realestateandhomes-detail/119-Glenn-Rd_Staten-Island_NY_10314_M48758-08215\n",
      "https://www.realtor.com/realestateandhomes-detail/350-Arleigh-Rd_Little-Neck_NY_11363_M45484-19390\n",
      "https://www.realtor.com/realestateandhomes-detail/6716-Amboy-Rd_Staten-Island_NY_10309_M48117-73953\n",
      "https://www.realtor.com/realestateandhomes-detail/1540-Dunbar-St_Far-Rockaway_NY_11691_M39096-69763\n",
      "https://www.realtor.com/realestateandhomes-detail/1130-E-42nd-St_Brooklyn_NY_11210_M36905-74911\n",
      "\n",
      "\n",
      "\n",
      "\n",
      " 73\n"
     ]
    },
    {
     "name": "stdout",
     "output_type": "stream",
     "text": [
      "mmmmmmmmmmmmmmmmmmmm https://www.realtor.com/realestateandhomes-search/Atlanta_GA/shw-nc/price-800000-na/pg-74\n",
      "https://www.realtor.com/realestateandhomes-detail/115-E-235th-St_Bronx_NY_10470_M39704-64548\n",
      "https://www.realtor.com/realestateandhomes-detail/160-Woods-of-Arden-Rd_Staten-Island_NY_10312_M47611-15016\n",
      "https://www.realtor.com/realestateandhomes-detail/9105-Ridge-Blvd_Brooklyn_NY_11209_M40092-13241\n",
      "https://www.realtor.com/realestateandhomes-detail/311-Tompkins-Ave_Staten-Island_NY_10304_M34289-32255\n",
      "https://www.realtor.com/realestateandhomes-detail/5032-201st-St_Oakland-Gardens_NY_11364_M39290-17788\n",
      "https://www.realtor.com/realestateandhomes-detail/21738-54th-Ave_Oakland-Gardens_NY_11364_M44838-94373\n",
      "https://www.realtor.com/realestateandhomes-detail/18206-Midland-Pkwy_Jamaica_NY_11432_M40413-90349\n",
      "https://www.realtor.com/realestateandhomes-detail/51-Fieldway-Ave_Staten-Island_NY_10308_M40976-01912\n",
      "https://www.realtor.com/realestateandhomes-detail/31-Rene-Dr_Staten-Island_NY_10306_M44775-12970\n",
      "https://www.realtor.com/realestateandhomes-detail/134-Prall-Ave_Staten-Island_NY_10312_M42813-02677\n",
      "https://www.realtor.com/realestateandhomes-detail/404-2nd-St_Brooklyn_NY_11215_M96967-41419\n",
      "https://www.realtor.com/realestateandhomes-detail/673-Pelton-Ave_Staten-Island_NY_10310_M38022-38349\n",
      "https://www.realtor.com/realestateandhomes-detail/1417-136th-St_College-Point_NY_11356_M45809-77228\n",
      "https://www.realtor.com/realestateandhomes-detail/47-Montell-St_Staten-Island_NY_10302_M38699-76460\n",
      "https://www.realtor.com/realestateandhomes-detail/8417-Midland-Pkwy_Jamaica_NY_11432_M47706-99151\n",
      "https://www.realtor.com/realestateandhomes-detail/896-Stafford-Ave_Staten-Island_NY_10309_M41413-22383\n",
      "https://www.realtor.com/realestateandhomes-detail/57-Justin-Ave_Staten-Island_NY_10306_M43703-75312\n",
      "https://www.realtor.com/realestateandhomes-detail/12-Middlemay-Cir_Forest-Hills_NY_11375_M30863-81115\n",
      "https://www.realtor.com/realestateandhomes-detail/3327-Utopia-Pkwy_Flushing_NY_11358_M31001-61290\n",
      "https://www.realtor.com/realestateandhomes-detail/476-Saint-George-Rd_Staten-Island_NY_10306_M33869-47908\n",
      "https://www.realtor.com/realestateandhomes-detail/6149-148th-St_Flushing_NY_11367_M49929-32627\n",
      "https://www.realtor.com/realestateandhomes-detail/11736-222nd-St_Cambria-Heights_NY_11411_M38895-55601\n",
      "https://www.realtor.com/realestateandhomes-detail/130-E-236th-St_Bronx_NY_10470_M36766-14368\n",
      "https://www.realtor.com/realestateandhomes-detail/1351-80th-St_Brooklyn_NY_11228_M44168-54014\n",
      "https://www.realtor.com/realestateandhomes-detail/99-Signal-Hill-Rd_Staten-Island_NY_10301_M48528-83363\n",
      "https://www.realtor.com/realestateandhomes-detail/9-Penn-Ave_Staten-Island_NY_10306_M41963-04169\n",
      "https://www.realtor.com/realestateandhomes-detail/2250-81st-St_Brooklyn_NY_11214_M48660-94950\n",
      "https://www.realtor.com/realestateandhomes-detail/747-Patterson-Ave_Staten-Island_NY_10306_M35607-35445\n",
      "https://www.realtor.com/realestateandhomes-detail/212-Center-St_Staten-Island_NY_10306_M90775-90428\n",
      "https://www.realtor.com/realestateandhomes-detail/453-Beach-142nd-St_Rockaway-Park_NY_11694_M47306-33401\n",
      "https://www.realtor.com/realestateandhomes-detail/1938-Kimball-St_Brooklyn_NY_11234_M31395-87801\n",
      "https://www.realtor.com/realestateandhomes-detail/5235-240th-St_Little-Neck_NY_11362_M40528-39920\n",
      "https://www.realtor.com/realestateandhomes-detail/15450-25th-Dr_Flushing_NY_11354_M42333-88337\n",
      "https://www.realtor.com/realestateandhomes-detail/16015-12th-Rd_Whitestone_NY_11357_M43044-27373\n",
      "https://www.realtor.com/realestateandhomes-detail/14251-231st-St_Springfield-Gardens_NY_11413_M33946-48047\n",
      "https://www.realtor.com/realestateandhomes-detail/373-Richard-Ave_Staten-Island_NY_10309_M34493-13426\n",
      "https://www.realtor.com/realestateandhomes-detail/51-W-13th-Rd_Far-Rockaway_NY_11693_M47018-31903\n",
      "https://www.realtor.com/realestateandhomes-detail/46-Rokeby-Pl_Staten-Island_NY_10310_M44969-30452\n",
      "https://www.realtor.com/realestateandhomes-detail/710-Oakland-Ave_Staten-Island_NY_10310_M38214-67575\n",
      "https://www.realtor.com/realestateandhomes-detail/5225-73rd-St_Maspeth_NY_11378_M30686-96943\n",
      "https://www.realtor.com/realestateandhomes-detail/2701-Goethals-Rd-N-Apt-D11_Staten-Island_NY_10303_M47042-16034\n",
      "https://www.realtor.com/realestateandhomes-detail/14452-Jewel-Ave_Flushing_NY_11367_M40197-44614\n",
      "\n",
      "\n",
      "\n",
      "\n",
      " 74\n"
     ]
    },
    {
     "name": "stdout",
     "output_type": "stream",
     "text": [
      "mmmmmmmmmmmmmmmmmmmm https://www.realtor.com/realestateandhomes-search/Atlanta_GA/shw-nc/price-800000-na/pg-75\n",
      "https://www.realtor.com/realestateandhomes-detail/14452-Jewel-Ave_Flushing_NY_11367_M40197-44614\n",
      "https://www.realtor.com/realestateandhomes-detail/7355-192nd-St_Fresh-Meadows_NY_11366_M30792-20979\n",
      "https://www.realtor.com/realestateandhomes-detail/16450-87th-St_Howard-Beach_NY_11414_M43681-58952\n",
      "https://www.realtor.com/realestateandhomes-detail/264-Myrtle-Ave_Staten-Island_NY_10310_M31202-03366\n",
      "https://www.realtor.com/realestateandhomes-detail/Queens-Village_NY_11429_M35757-07611\n",
      "https://www.realtor.com/realestateandhomes-detail/2445-Little-Neck-Blvd_Bayside_NY_11360_M36904-13405\n",
      "https://www.realtor.com/realestateandhomes-detail/10920-221st-St_Queens-Village_NY_11429_M33931-03790\n",
      "https://www.realtor.com/realestateandhomes-detail/5043-39th-St_Sunnyside_NY_11104_M44066-38407\n",
      "https://www.realtor.com/realestateandhomes-detail/3016-83rd-St_East-Elmhurst_NY_11370_M36483-03593\n",
      "https://www.realtor.com/realestateandhomes-detail/1450-Oakley-St_Bronx_NY_10469_M47727-57949\n",
      "https://www.realtor.com/realestateandhomes-detail/2636-E-7th-St_Brooklyn_NY_11235_M35925-97673\n",
      "https://www.realtor.com/realestateandhomes-detail/15703-9th-Ave_Whitestone_NY_11357_M97680-39563\n",
      "https://www.realtor.com/realestateandhomes-detail/9514-130th-St_S-Richmond-Hl_NY_11419_M43507-40013\n",
      "https://www.realtor.com/realestateandhomes-detail/16-77th-St_Brooklyn_NY_11209_M38344-73236\n",
      "https://www.realtor.com/realestateandhomes-detail/2521-98th-St_East-Elmhurst_NY_11369_M45281-02634\n",
      "https://www.realtor.com/realestateandhomes-detail/240-76th-St_Brooklyn_NY_11209_M49971-85163\n",
      "https://www.realtor.com/realestateandhomes-detail/2310-60th-St_Brooklyn_NY_11204_M39610-08781\n",
      "https://www.realtor.com/realestateandhomes-detail/220-92nd-St_Brooklyn_NY_11209_M45471-50269\n",
      "https://www.realtor.com/realestateandhomes-detail/11408-178th-St_Jamaica_NY_11434_M40197-07868\n",
      "https://www.realtor.com/realestateandhomes-detail/6974-230th-St_Oakland-Gardens_NY_11364_M41899-42546\n",
      "https://www.realtor.com/realestateandhomes-detail/304-Crystal-Ave_Staten-Island_NY_10314_M43383-33603\n",
      "https://www.realtor.com/realestateandhomes-detail/19-Brandis-Ave_Staten-Island_NY_10312_M43690-72930\n",
      "https://www.realtor.com/realestateandhomes-detail/9809-74th-Ave_Forest-Hills_NY_11375_M38298-25296\n",
      "https://www.realtor.com/realestateandhomes-detail/609-W-147th-St_New-York_NY_10031_M32392-31674\n",
      "https://www.realtor.com/realestateandhomes-detail/16117-84th-Ave_Jamaica_NY_11432_M31512-87718\n",
      "https://www.realtor.com/realestateandhomes-detail/8951-121st-St_Richmond-Hill_NY_11418_M47196-07544\n",
      "https://www.realtor.com/realestateandhomes-detail/167-Union-Ave_Staten-Island_NY_10303_M44051-52660\n",
      "https://www.realtor.com/realestateandhomes-detail/7714-83rd-St_Ridgewood_NY_11385_M42447-65822\n",
      "https://www.realtor.com/realestateandhomes-detail/211-Beverley-Rd_Brooklyn_NY_11218_M48387-77791\n",
      "https://www.realtor.com/realestateandhomes-detail/11583-220th-St_Cambria-Heights_NY_11411_M37163-03085\n",
      "https://www.realtor.com/realestateandhomes-detail/4269-Richmond-Ave_Staten-Island_NY_10312_M32911-72630\n",
      "https://www.realtor.com/realestateandhomes-detail/61-Billop-Ave_Staten-Island_NY_10307_M38171-04311\n",
      "https://www.realtor.com/realestateandhomes-detail/7340-72nd-St_Ridgewood_NY_11385_M32346-07364\n",
      "https://www.realtor.com/realestateandhomes-detail/14729-5th-Ave_Whitestone_NY_11357_M36756-81985\n",
      "https://www.realtor.com/realestateandhomes-detail/11545-143rd-St_Jamaica_NY_11436_M46449-21734\n",
      "https://www.realtor.com/realestateandhomes-detail/553-Oakland-Ave_Staten-Island_NY_10310_M37519-66592\n",
      "https://www.realtor.com/realestateandhomes-detail/15939-95th-St_Howard-Beach_NY_11414_M36668-31584\n",
      "https://www.realtor.com/realestateandhomes-detail/346-Cleveland-Ave_Staten-Island_NY_10308_M40347-46862\n",
      "https://www.realtor.com/realestateandhomes-detail/36-Winding-Woods-Loop_Staten-Island_NY_10307_M48778-84072\n",
      "https://www.realtor.com/realestateandhomes-detail/682-Argyle-Rd_Brooklyn_NY_11230_M32882-32903\n",
      "https://www.realtor.com/realestateandhomes-detail/13511-Springfield-Blvd_Springfield-Gardens_NY_11413_M44976-23984\n",
      "https://www.realtor.com/realestateandhomes-detail/10218-163rd-Dr_Howard-Beach_NY_11414_M38603-53623\n",
      "\n",
      "\n",
      "\n",
      "\n",
      " 75\n"
     ]
    },
    {
     "name": "stdout",
     "output_type": "stream",
     "text": [
      "mmmmmmmmmmmmmmmmmmmm https://www.realtor.com/realestateandhomes-search/Atlanta_GA/shw-nc/price-800000-na/pg-76\n",
      "https://www.realtor.com/realestateandhomes-detail/682-Argyle-Rd_Brooklyn_NY_11230_M32882-32903\n",
      "https://www.realtor.com/realestateandhomes-detail/170-Brookfield-Ave_Staten-Island_NY_10308_M47638-53100\n",
      "https://www.realtor.com/realestateandhomes-detail/310-Beach-146th-St_Rockaway-Park_NY_11694_M37776-49828\n",
      "https://www.realtor.com/realestateandhomes-detail/8555-67th-Rd_Rego-Park_NY_11374_M30048-50234\n",
      "https://www.realtor.com/realestateandhomes-detail/1010-Sheldon-Ave_Staten-Island_NY_10309_M45747-42963\n",
      "https://www.realtor.com/realestateandhomes-detail/4859-207th-St_Oakland-Gardens_NY_11364_M32255-63113\n",
      "https://www.realtor.com/realestateandhomes-detail/8540-Forest-Pkwy_Woodhaven_NY_11421_M49938-52810\n",
      "https://www.realtor.com/realestateandhomes-detail/518-E-87th-St_New-York_NY_10128_M41635-61590\n",
      "https://www.realtor.com/realestateandhomes-detail/533-Underhill-Ave_Bronx_NY_10473_M36357-85172\n",
      "https://www.realtor.com/realestateandhomes-detail/13825-77th-Ave_Flushing_NY_11367_M37244-92146\n",
      "https://www.realtor.com/realestateandhomes-detail/312-E-23rd-St-Apt-5D_New-York_NY_10010_M35482-75595\n",
      "https://www.realtor.com/realestateandhomes-detail/15552-79th-St_Howard-Beach_NY_11414_M42099-97062\n",
      "https://www.realtor.com/realestateandhomes-detail/17501-Murdock-Ave_Jamaica_NY_11434_M45137-67138\n",
      "https://www.realtor.com/realestateandhomes-detail/7804-85th-St_Ridgewood_NY_11385_M40918-00500\n",
      "https://www.realtor.com/realestateandhomes-detail/20962-45th-Rd_Bayside_NY_11361_M41256-58795\n",
      "https://www.realtor.com/realestateandhomes-detail/10545-171st-Pl_Jamaica_NY_11433_M37274-68347\n",
      "https://www.realtor.com/realestateandhomes-detail/145-Eltingville-Blvd_Staten-Island_NY_10312_M41219-86433\n",
      "https://www.realtor.com/realestateandhomes-detail/66-Buffington-Ave_Staten-Island_NY_10312_M40181-01581\n",
      "https://www.realtor.com/realestateandhomes-detail/283-Ocean-Ter_Staten-Island_NY_10301_M30825-16126\n",
      "https://www.realtor.com/realestateandhomes-detail/2786-Bedford-Ave_Brooklyn_NY_11210_M32221-19269\n",
      "https://www.realtor.com/realestateandhomes-detail/490-Steuben-St_Staten-Island_NY_10305_M34381-77207\n",
      "https://www.realtor.com/realestateandhomes-detail/8127-247th-St_Bellerose_NY_11426_M49478-71805\n",
      "https://www.realtor.com/realestateandhomes-detail/39-Linden-St_Staten-Island_NY_10310_M33073-58005\n",
      "https://www.realtor.com/realestateandhomes-detail/6406-60th-Rd_Maspeth_NY_11378_M41159-82948\n",
      "https://www.realtor.com/realestateandhomes-detail/458-Watchogue-Rd_Staten-Island_NY_10314_M40412-00167\n",
      "https://www.realtor.com/realestateandhomes-detail/1941-Strauss-St_Brooklyn_NY_11212_M30549-29730\n",
      "https://www.realtor.com/realestateandhomes-detail/7622-57th-Rd_Middle-Village_NY_11379_M43569-81798\n",
      "https://www.realtor.com/realestateandhomes-detail/86-Sunset-Ave_Staten-Island_NY_10314_M43118-62708\n",
      "https://www.realtor.com/realestateandhomes-detail/57-Chart-Loop_Staten-Island_NY_10309_M44394-60224\n",
      "https://www.realtor.com/realestateandhomes-detail/935-Sheldon-Ave_Staten-Island_NY_10309_M39328-76296\n",
      "https://www.realtor.com/realestateandhomes-detail/179-Marine-Ave_Brooklyn_NY_11209_M46623-76563\n",
      "https://www.realtor.com/realestateandhomes-detail/109-Dale-Ave_Staten-Island_NY_10306_M32478-13326\n",
      "https://www.realtor.com/realestateandhomes-detail/26506-80th-Ave_Glen-Oaks_NY_11004_M48990-48252\n",
      "https://www.realtor.com/realestateandhomes-detail/48-Grymes-Hill-Rd_Staten-Island_NY_10301_M48340-45169\n",
      "https://www.realtor.com/realestateandhomes-detail/375-Clarke-Ave_Staten-Island_NY_10306_M40173-15847\n",
      "https://www.realtor.com/realestateandhomes-detail/371-Pelton-Ave_Staten-Island_NY_10310_M48949-97027\n",
      "https://www.realtor.com/realestateandhomes-detail/9428-213th-St_Queens-Village_NY_11428_M30592-54658\n",
      "https://www.realtor.com/realestateandhomes-detail/34-Titus-Ave_Staten-Island_NY_10306_M41641-25991\n",
      "https://www.realtor.com/realestateandhomes-detail/32-Whitman-Dr_Brooklyn_NY_11234_M36576-81679\n",
      "https://www.realtor.com/realestateandhomes-detail/6160-81st-St_Middle-Village_NY_11379_M39523-89832\n",
      "https://www.realtor.com/realestateandhomes-detail/218-N-5th-St_Brooklyn_NY_11211_M99726-79237\n",
      "https://www.realtor.com/realestateandhomes-detail/35-Milbank-Rd_Staten-Island_NY_10306_M39578-02137\n",
      "\n",
      "\n",
      "\n",
      "\n",
      " 76\n"
     ]
    },
    {
     "name": "stdout",
     "output_type": "stream",
     "text": [
      "mmmmmmmmmmmmmmmmmmmm https://www.realtor.com/realestateandhomes-search/Atlanta_GA/shw-nc/price-800000-na/pg-77\n",
      "https://www.realtor.com/realestateandhomes-detail/35-Milbank-Rd_Staten-Island_NY_10306_M39578-02137\n",
      "https://www.realtor.com/realestateandhomes-detail/269-Fisher-Ave_Staten-Island_NY_10307_M42645-29886\n",
      "https://www.realtor.com/realestateandhomes-detail/5376-62nd-St_Maspeth_NY_11378_M35775-54461\n",
      "https://www.realtor.com/realestateandhomes-detail/67-Sparkill-Ave_Staten-Island_NY_10304_M38866-03368\n",
      "https://www.realtor.com/realestateandhomes-detail/2711-206th-St_Bayside_NY_11360_M30874-26487\n",
      "https://www.realtor.com/realestateandhomes-detail/6132-Booth-St_Rego-Park_NY_11374_M36871-56747\n",
      "https://www.realtor.com/realestateandhomes-detail/12048-217th-St_Cambria-Heights_NY_11411_M36680-84105\n",
      "https://www.realtor.com/realestateandhomes-detail/72-Theresa-Pl_Staten-Island_NY_10301_M48153-48335\n",
      "https://www.realtor.com/realestateandhomes-detail/480-Ocean-Ter_Staten-Island_NY_10301_M45239-19218\n",
      "https://www.realtor.com/realestateandhomes-detail/5710-84th-St_Elmhurst_NY_11373_M38735-35098\n",
      "https://www.realtor.com/realestateandhomes-detail/13822-227th-St_Springfield-Gardens_NY_11413_M33358-79656\n",
      "https://www.realtor.com/realestateandhomes-detail/13255-154th-St_Jamaica_NY_11434_M44669-78784\n",
      "https://www.realtor.com/realestateandhomes-detail/23316-Union-Tpke_Queens-Village_NY_11427_M37719-54436\n",
      "https://www.realtor.com/realestateandhomes-detail/5855-197th-St_Fresh-Meadows_NY_11365_M46967-17022\n",
      "https://www.realtor.com/realestateandhomes-detail/6960-181st-St_Fresh-Meadows_NY_11365_M35549-95267\n",
      "https://www.realtor.com/realestateandhomes-detail/3210-167th-St_Flushing_NY_11358_M49752-94464\n",
      "https://www.realtor.com/realestateandhomes-detail/6074-70th-St_Maspeth_NY_11378_M34321-57274\n",
      "https://www.realtor.com/realestateandhomes-detail/301-E-52nd-St_Brooklyn_NY_11203_M39909-01142\n",
      "https://www.realtor.com/realestateandhomes-detail/22909-137th-Ave_Springfield-Gardens_NY_11413_M42464-27565\n",
      "https://www.realtor.com/realestateandhomes-detail/8906-107th-St_Richmond-Hill_NY_11418_M32145-45692\n",
      "https://www.realtor.com/realestateandhomes-detail/21919-107th-Ave_Queens-Village_NY_11429_M31130-04742\n",
      "https://www.realtor.com/realestateandhomes-detail/8561-79th-St_Woodhaven_NY_11421_M46876-33579\n",
      "https://www.realtor.com/realestateandhomes-detail/269-W-87th-St-Apt-10C_New-York_NY_10024_M32146-85246\n",
      "https://www.realtor.com/realestateandhomes-detail/6446-80th-St_Middle-Village_NY_11379_M39206-23505\n",
      "https://www.realtor.com/realestateandhomes-detail/15703-Locke-Ave_Whitestone_NY_11357_M39249-00865\n",
      "https://www.realtor.com/realestateandhomes-detail/2540-88th-St_East-Elmhurst_NY_11369_M35944-91572\n",
      "https://www.realtor.com/realestateandhomes-detail/722-151st-Pl_Whitestone_NY_11357_M45169-93531\n",
      "https://www.realtor.com/realestateandhomes-detail/8905-89th-Ave_Woodhaven_NY_11421_M31673-66306\n",
      "https://www.realtor.com/realestateandhomes-detail/13302-Foch-Blvd_South-Ozone-Park_NY_11420_M39037-39404\n",
      "https://www.realtor.com/realestateandhomes-detail/8910-157th-Ave_Howard-Beach_NY_11414_M32302-98333\n",
      "https://www.realtor.com/realestateandhomes-detail/94-Laurel-Ave_Staten-Island_NY_10304_M37283-39985\n",
      "https://www.realtor.com/realestateandhomes-detail/7131-171st-St_Fresh-Meadows_NY_11365_M44249-05536\n",
      "https://www.realtor.com/realestateandhomes-detail/5609-Clearview-Expy_Oakland-Gardens_NY_11364_M41929-88203\n",
      "https://www.realtor.com/realestateandhomes-detail/2336-Mickle-Ave_Bronx_NY_10469_M41733-38413\n",
      "https://www.realtor.com/realestateandhomes-detail/10558-Flatlands-9th-St_Brooklyn_NY_11236_M40074-85709\n",
      "https://www.realtor.com/realestateandhomes-detail/108-Lincoln-St_Staten-Island_NY_10314_M37680-89447\n",
      "https://www.realtor.com/realestateandhomes-detail/567-Beach-131st-St_Rockaway-Park_NY_11694_M34602-55795\n",
      "https://www.realtor.com/realestateandhomes-detail/26-Trantor-Pl_Staten-Island_NY_10302_M40899-20053\n",
      "https://www.realtor.com/realestateandhomes-detail/24218-Van-Zandt-Ave_Little-Neck_NY_11362_M35061-27022\n",
      "https://www.realtor.com/realestateandhomes-detail/6932-Burchell-Ave_Arverne_NY_11692_M43167-14281\n",
      "https://www.realtor.com/realestateandhomes-detail/65-Griswold-Ct_Staten-Island_NY_10301_M32650-37192\n",
      "https://www.realtor.com/realestateandhomes-detail/100-Bionia-Ave_Staten-Island_NY_10305_M41141-06872\n",
      "\n",
      "\n",
      "\n",
      "\n",
      " 77\n"
     ]
    },
    {
     "name": "stdout",
     "output_type": "stream",
     "text": [
      "mmmmmmmmmmmmmmmmmmmm https://www.realtor.com/realestateandhomes-search/Atlanta_GA/shw-nc/price-800000-na/pg-78\n",
      "https://www.realtor.com/realestateandhomes-detail/12116-198th-St_Springfield-Gardens_NY_11413_M40338-58257\n",
      "https://www.realtor.com/realestateandhomes-detail/15710-Locke-Ave_Whitestone_NY_11357_M42385-09515\n",
      "https://www.realtor.com/realestateandhomes-detail/323-Garfield-Pl_Brooklyn_NY_11215_M35823-09828\n",
      "https://www.realtor.com/realestateandhomes-detail/13306-230th-St_Springfield-Gardens_NY_11413_M33052-47051\n",
      "https://www.realtor.com/realestateandhomes-detail/15134-20th-Rd_Whitestone_NY_11357_M46891-29291\n",
      "https://www.realtor.com/realestateandhomes-detail/195-Fairview-Ave_Staten-Island_NY_10314_M43355-49326\n",
      "https://www.realtor.com/realestateandhomes-detail/38-Brighton-1st-Walk_Brooklyn_NY_11235_M38258-40133\n",
      "https://www.realtor.com/realestateandhomes-detail/1905-Batchelder-St_Brooklyn_NY_11229_M37287-20715\n",
      "https://www.realtor.com/realestateandhomes-detail/3436-76th-St_Jackson-Heights_NY_11372_M35664-68806\n",
      "https://www.realtor.com/realestateandhomes-detail/13239-114th-Pl_South-Ozone-Park_NY_11420_M39973-88717\n",
      "https://www.realtor.com/realestateandhomes-detail/83-Lisa-Ln_Staten-Island_NY_10312_M37544-34368\n",
      "https://www.realtor.com/realestateandhomes-detail/204-Morrison-Ave_Staten-Island_NY_10310_M41232-45252\n",
      "https://www.realtor.com/realestateandhomes-detail/83-Vincent-Ave_Staten-Island_NY_10306_M38010-61583\n",
      "https://www.realtor.com/realestateandhomes-detail/3329-29th-St_Astoria_NY_11106_M31466-16176\n",
      "https://www.realtor.com/realestateandhomes-detail/15742-98th-St_Howard-Beach_NY_11414_M42276-60051\n",
      "https://www.realtor.com/realestateandhomes-detail/232-Mace-St_Staten-Island_NY_10306_M34117-93623\n",
      "https://www.realtor.com/realestateandhomes-detail/312-Grandview-Ave_Staten-Island_NY_10303_M45827-24876\n",
      "https://www.realtor.com/realestateandhomes-detail/24714-137th-Rd_Rosedale_NY_11422_M32389-92670\n",
      "https://www.realtor.com/realestateandhomes-detail/2845-47th-St_Astoria_NY_11103_M45625-81151\n",
      "https://www.realtor.com/realestateandhomes-detail/1428-Hobart-Ave_Bronx_NY_10461_M32362-60395\n",
      "https://www.realtor.com/realestateandhomes-detail/90-Louisiana-Ave_Brooklyn_NY_11207_M36310-27787\n",
      "https://www.realtor.com/realestateandhomes-detail/22656-129th-Ave_Springfield-Gardens_NY_11413_M42540-53785\n",
      "https://www.realtor.com/realestateandhomes-detail/1083-Sheldon-Ave_Staten-Island_NY_10309_M35119-81779\n",
      "https://www.realtor.com/realestateandhomes-detail/14308-Newport-Ave_Rockaway-Park_NY_11694_M35064-64861\n",
      "https://www.realtor.com/realestateandhomes-detail/122-Prescott-Ave_Staten-Island_NY_10306_M49453-25645\n",
      "https://www.realtor.com/realestateandhomes-detail/132-Annadale-Rd_Staten-Island_NY_10312_M41202-21636\n",
      "https://www.realtor.com/realestateandhomes-detail/2285-E-26th-St_Brooklyn_NY_11229_M47335-31769\n",
      "https://www.realtor.com/realestateandhomes-detail/102-Bradhurst-Ave-Apt-808_New-York_NY_10039_M49858-32654\n",
      "https://www.realtor.com/realestateandhomes-detail/10015-203rd-St_Hollis_NY_11423_M36170-00721\n",
      "https://www.realtor.com/realestateandhomes-detail/9744-80th-St_Ozone-Park_NY_11416_M39727-69931\n",
      "https://www.realtor.com/realestateandhomes-detail/94-Coursen-Pl_Staten-Island_NY_10304_M31385-93146\n",
      "https://www.realtor.com/realestateandhomes-detail/2213-E-26th-St_Brooklyn_NY_11229_M42688-81105\n",
      "https://www.realtor.com/realestateandhomes-detail/945-Olympia-Blvd_Staten-Island_NY_10306_M34888-12176\n",
      "https://www.realtor.com/realestateandhomes-detail/10168-105th-St_Ozone-Park_NY_11416_M47204-64661\n",
      "https://www.realtor.com/realestateandhomes-detail/63-Enfield-Pl_Staten-Island_NY_10306_M32885-05593\n",
      "https://www.realtor.com/realestateandhomes-detail/21417-69th-Ave_Oakland-Gardens_NY_11364_M44258-46111\n",
      "https://www.realtor.com/realestateandhomes-detail/3096-Richmond-Rd_Staten-Island_NY_10306_M36952-63572\n",
      "https://www.realtor.com/realestateandhomes-detail/13017-217th-St_Springfield-Gardens_NY_11413_M32564-28666\n",
      "https://www.realtor.com/realestateandhomes-detail/260-Richard-Ave_Staten-Island_NY_10309_M45624-09862\n",
      "https://www.realtor.com/realestateandhomes-detail/16665-17th-Rd_Whitestone_NY_11357_M48416-67720\n",
      "https://www.realtor.com/realestateandhomes-detail/17-Queensdale-St_Staten-Island_NY_10309_M46798-08953\n",
      "https://www.realtor.com/realestateandhomes-detail/17815-Croydon-Rd_Jamaica_NY_11432_M90560-40428\n",
      "\n",
      "\n",
      "\n",
      "\n",
      " 78\n"
     ]
    },
    {
     "name": "stdout",
     "output_type": "stream",
     "text": [
      "mmmmmmmmmmmmmmmmmmmm https://www.realtor.com/realestateandhomes-search/Atlanta_GA/shw-nc/price-800000-na/pg-79\n",
      "https://www.realtor.com/realestateandhomes-detail/132-Eagle-St_Brooklyn_NY_11222_M90943-18052\n",
      "https://www.realtor.com/realestateandhomes-detail/9519-N-Conduit-Ave_Ozone-Park_NY_11417_M32788-02846\n",
      "https://www.realtor.com/realestateandhomes-detail/258-Sterling-St_Brooklyn_NY_11225_M34072-23057\n",
      "https://www.realtor.com/realestateandhomes-detail/410-Vermont-St_Brooklyn_NY_11207_M42384-78394\n",
      "https://www.realtor.com/realestateandhomes-detail/15-Douglas-Rd_Staten-Island_NY_10304_M44111-89743\n",
      "https://www.realtor.com/realestateandhomes-detail/163-E-65th-St_New-York_NY_10065_M41043-18188\n",
      "https://www.realtor.com/realestateandhomes-detail/459-Riga-St_Staten-Island_NY_10306_M37044-20324\n",
      "https://www.realtor.com/realestateandhomes-detail/21-Dana-St_Staten-Island_NY_10301_M33661-87629\n",
      "https://www.realtor.com/realestateandhomes-detail/1726-E-4th-St_Brooklyn_NY_11223_M46314-97618\n",
      "https://www.realtor.com/realestateandhomes-detail/3379-Campbell-Dr_Bronx_NY_10465_M33315-49410\n",
      "https://www.realtor.com/realestateandhomes-detail/1515-Utopia-Pkwy_Whitestone_NY_11357_M49764-95900\n",
      "https://www.realtor.com/realestateandhomes-detail/909-Rathbun-Ave_Staten-Island_NY_10309_M48483-38844\n",
      "https://www.realtor.com/realestateandhomes-detail/4404-Clarendon-Rd_Brooklyn_NY_11203_M46262-61493\n",
      "https://www.realtor.com/realestateandhomes-detail/90-Belair-Rd_Staten-Island_NY_10305_M41436-70137\n",
      "https://www.realtor.com/realestateandhomes-detail/10728-118th-St_South-Richmond-Hill_NY_11419_M44955-13124\n",
      "https://www.realtor.com/realestateandhomes-detail/178-Mackenzie-St_Brooklyn_NY_11235_M43014-13570\n",
      "https://www.realtor.com/realestateandhomes-detail/122-Durant-Ave_Staten-Island_NY_10306_M39215-87864\n",
      "https://www.realtor.com/realestateandhomes-detail/2363-56th-Dr_Brooklyn_NY_11234_M39272-18721\n",
      "https://www.realtor.com/realestateandhomes-detail/224-W-262nd-St_Bronx_NY_10471_M34681-72653\n",
      "https://www.realtor.com/realestateandhomes-detail/1747-Stuart-St_Brooklyn_NY_11229_M49193-06344\n",
      "https://www.realtor.com/realestateandhomes-detail/298-Bay-10th-St_Brooklyn_NY_11228_M41999-92122\n",
      "https://www.realtor.com/realestateandhomes-detail/1805-Bussing-Ave_Bronx_NY_10466_M31302-67831\n",
      "https://www.realtor.com/realestateandhomes-detail/1455-Seabury-Pl_Bronx_NY_10460_M46049-94899\n",
      "https://www.realtor.com/realestateandhomes-detail/459-Beach-141st-St_Rockaway-Park_NY_11694_M36825-47142\n",
      "https://www.realtor.com/realestateandhomes-detail/5319-210th-St_Oakland-Gardens_NY_11364_M34227-21471\n",
      "https://www.realtor.com/realestateandhomes-detail/8143-169th-St_Jamaica_NY_11432_M39438-59783\n",
      "https://www.realtor.com/realestateandhomes-detail/708-Pelton-Ave_Staten-Island_NY_10310_M45373-20436\n",
      "https://www.realtor.com/realestateandhomes-detail/18248-Avon-Rd_Jamaica_NY_11432_M32273-74623\n",
      "https://www.realtor.com/realestateandhomes-detail/11137-197th-St_Saint-Albans_NY_11412_M40221-56048\n",
      "https://www.realtor.com/realestateandhomes-detail/2519-160th-St_Flushing_NY_11358_M43435-09197\n",
      "https://www.realtor.com/realestateandhomes-detail/25725-149th-Ave_Rosedale_NY_11422_M45526-08551\n",
      "https://www.realtor.com/realestateandhomes-detail/4-78th-St_Brooklyn_NY_11209_M30522-23837\n",
      "https://www.realtor.com/realestateandhomes-detail/443-E-143rd-St_Bronx_NY_10454_M46343-34568\n",
      "https://www.realtor.com/realestateandhomes-detail/16015-12th-Ave_Whitestone_NY_11357_M34842-92328\n",
      "https://www.realtor.com/realestateandhomes-detail/50-Gramercy-Park-N-15AB_New-York_NY_10010_M43663-95530\n",
      "https://www.realtor.com/realestateandhomes-detail/11115-120th-St_South-Ozone-Park_NY_11420_M30089-84124\n",
      "https://www.realtor.com/realestateandhomes-detail/11-Shields-Pl_Staten-Island_NY_10301_M36827-50439\n",
      "https://www.realtor.com/realestateandhomes-detail/15012-11th-Ave_Whitestone_NY_11357_M40619-00619\n",
      "https://www.realtor.com/realestateandhomes-detail/2140-W-6th-St_Brooklyn_NY_11223_M45075-62466\n",
      "https://www.realtor.com/realestateandhomes-detail/64-Whitman-Ave_Staten-Island_NY_10308_M31124-87390\n",
      "https://www.realtor.com/realestateandhomes-detail/2841-56th-Pl_Woodside_NY_11377_M45664-37213\n",
      "https://www.realtor.com/realestateandhomes-detail/1118-Bay-24th-St_Far-Rockaway_NY_11691_M35077-51499\n",
      "\n",
      "\n",
      "\n",
      "\n",
      " 79\n"
     ]
    },
    {
     "name": "stdout",
     "output_type": "stream",
     "text": [
      "mmmmmmmmmmmmmmmmmmmm https://www.realtor.com/realestateandhomes-search/Atlanta_GA/shw-nc/price-800000-na/pg-80\n",
      "https://www.realtor.com/realestateandhomes-detail/2263-National-Dr_Brooklyn_NY_11234_M39113-43429\n",
      "https://www.realtor.com/realestateandhomes-detail/1118-Bay-24th-St_Far-Rockaway_NY_11691_M35077-51499\n",
      "https://www.realtor.com/realestateandhomes-detail/1925-W-9th-St_Brooklyn_NY_11223_M42165-43275\n",
      "https://www.realtor.com/realestateandhomes-detail/677-Bement-Ave_Staten-Island_NY_10310_M37978-78234\n",
      "https://www.realtor.com/realestateandhomes-detail/2737-Arlington-Ave_Bronx_NY_10463_M44075-20745\n",
      "https://www.realtor.com/realestateandhomes-detail/311-Wainwright-Ave_Staten-Island_NY_10312_M35976-43250\n",
      "https://www.realtor.com/realestateandhomes-detail/17204-32nd-Ave_Flushing_NY_11358_M36856-04875\n",
      "https://www.realtor.com/realestateandhomes-detail/17422-Gladwin-Ave_Fresh-Meadows_NY_11365_M33929-69950\n",
      "https://www.realtor.com/realestateandhomes-detail/2634-169th-St_Flushing_NY_11358_M35900-27882\n",
      "https://www.realtor.com/realestateandhomes-detail/1555-Robertson-Pl_Bronx_NY_10465_M33605-05047\n",
      "https://www.realtor.com/realestateandhomes-detail/90-Scranton-Ave_Staten-Island_NY_10312_M34422-42343\n",
      "https://www.realtor.com/realestateandhomes-detail/1646-71st-St_Brooklyn_NY_11204_M47485-22827\n",
      "https://www.realtor.com/realestateandhomes-detail/2940-155th-St_Flushing_NY_11354_M47977-67737\n",
      "https://www.realtor.com/realestateandhomes-detail/11451-198th-St_Saint-Albans_NY_11412_M36292-74514\n",
      "https://www.realtor.com/realestateandhomes-detail/144-Purdy-Ave_Staten-Island_NY_10314_M33074-16089\n",
      "https://www.realtor.com/realestateandhomes-detail/1396-E-38th-St_Brooklyn_NY_11234_M35023-09296\n",
      "https://www.realtor.com/realestateandhomes-detail/40-Francis-Pl_Staten-Island_NY_10304_M38927-52248\n",
      "https://www.realtor.com/realestateandhomes-detail/1251-E-104th-St_Brooklyn_NY_11236_M35058-71602\n",
      "https://www.realtor.com/realestateandhomes-detail/359-20th-St_Brooklyn_NY_11215_M47114-41991\n",
      "https://www.realtor.com/realestateandhomes-detail/13342-86th-St_Ozone-Park_NY_11417_M32412-87414\n",
      "https://www.realtor.com/realestateandhomes-detail/1717-Colden-Ave_Bronx_NY_10462_M42184-75693\n",
      "https://www.realtor.com/realestateandhomes-detail/53-Palmer-Ave_Staten-Island_NY_10302_M37330-98653\n",
      "https://www.realtor.com/realestateandhomes-detail/1292-Victory-Blvd_Staten-Island_NY_10301_M34704-30771\n",
      "https://www.realtor.com/realestateandhomes-detail/4456-Waldo-Ave_Bronx_NY_10471_M44427-82549\n",
      "https://www.realtor.com/realestateandhomes-detail/2706-154th-St_Flushing_NY_11354_M31944-49903\n",
      "https://www.realtor.com/realestateandhomes-detail/9451-224th-St_Queens-Village_NY_11428_M39185-56728\n",
      "https://www.realtor.com/realestateandhomes-detail/4-Alderbrook-Rd_Bronx_NY_10471_M33846-12963\n",
      "https://www.realtor.com/realestateandhomes-detail/28-W-13th-Rd_Far-Rockaway_NY_11693_M32023-24909\n",
      "https://www.realtor.com/realestateandhomes-detail/9728-Cresskill-Pl_Jamaica_NY_11435_M47349-03241\n",
      "https://www.realtor.com/realestateandhomes-detail/8514-261st-St_Floral-Park_NY_11001_M49707-85191\n",
      "https://www.realtor.com/realestateandhomes-detail/7338-178th-St_Fresh-Meadows_NY_11366_M30161-67005\n",
      "https://www.realtor.com/realestateandhomes-detail/2-Bionia-Ave_Staten-Island_NY_10305_M39434-18186\n",
      "https://www.realtor.com/realestateandhomes-detail/12-Kay-Ct_Brooklyn_NY_11229_M47087-44842\n",
      "https://www.realtor.com/realestateandhomes-detail/1413-Arden-Ave_Staten-Island_NY_10312_M46574-23494\n",
      "https://www.realtor.com/realestateandhomes-detail/14133-11th-Ave_Whitestone_NY_11357_M48866-21116\n",
      "https://www.realtor.com/realestateandhomes-detail/227-Beach-86th-St_Far-Rockaway_NY_11693_M34461-31300\n",
      "https://www.realtor.com/realestateandhomes-detail/301-Thomas-St_Staten-Island_NY_10306_M34623-16091\n",
      "https://www.realtor.com/realestateandhomes-detail/10347-96th-St_Ozone-Park_NY_11417_M49163-85232\n",
      "https://www.realtor.com/realestateandhomes-detail/153-Shafter-Ave_Staten-Island_NY_10308_M34546-82871\n",
      "https://www.realtor.com/realestateandhomes-detail/8209-255th-St_Glen-Oaks_NY_11004_M49200-66244\n",
      "https://www.realtor.com/realestateandhomes-detail/39-Eagan-Ave_Staten-Island_NY_10312_M35713-20196\n",
      "https://www.realtor.com/realestateandhomes-detail/14614-61st-Rd_Flushing_NY_11367_M37324-88580\n",
      "\n",
      "\n",
      "\n",
      "\n",
      " 80\n"
     ]
    },
    {
     "name": "stdout",
     "output_type": "stream",
     "text": [
      "mmmmmmmmmmmmmmmmmmmm https://www.realtor.com/realestateandhomes-search/Atlanta_GA/shw-nc/price-800000-na/pg-81\n",
      "https://www.realtor.com/realestateandhomes-detail/11444-209th-St_Cambria-Heights_NY_11411_M48847-22479\n",
      "https://www.realtor.com/realestateandhomes-detail/14614-61st-Rd_Flushing_NY_11367_M37324-88580\n",
      "https://www.realtor.com/realestateandhomes-detail/23947-65th-Ave_Little-Neck_NY_11362_M45992-87401\n",
      "https://www.realtor.com/realestateandhomes-detail/1835-76th-St_Brooklyn_NY_11214_M30911-55375\n",
      "https://www.realtor.com/realestateandhomes-detail/17311-47th-Ave_Flushing_NY_11358_M39209-06408\n",
      "https://www.realtor.com/realestateandhomes-detail/212-S-Oxford-St-Ph-B_Brooklyn_NY_11217_M94014-36115\n",
      "https://www.realtor.com/realestateandhomes-detail/8081-88th-Ave_Woodhaven_NY_11421_M31070-70011\n",
      "https://www.realtor.com/realestateandhomes-detail/102-Hales-Ave_Staten-Island_NY_10312_M46433-36968\n",
      "https://www.realtor.com/realestateandhomes-detail/9923-Russell-St_Howard-Beach_NY_11414_M44091-83525\n",
      "https://www.realtor.com/realestateandhomes-detail/10618-109th-Ave_Ozone-Park_NY_11417_M30907-96166\n",
      "https://www.realtor.com/realestateandhomes-detail/1834-Madison-Pl_Brooklyn_NY_11229_M41891-42658\n",
      "https://www.realtor.com/realestateandhomes-detail/266-Swinton-Ave_Bronx_NY_10465_M41595-15897\n",
      "https://www.realtor.com/realestateandhomes-detail/59-Beresford-Ave_Staten-Island_NY_10314_M40196-71978\n",
      "https://www.realtor.com/realestateandhomes-detail/479-Sharrotts-Rd_Staten-Island_NY_10309_M33556-26847\n",
      "https://www.realtor.com/realestateandhomes-detail/16111-88th-St_Howard-Beach_NY_11414_M33953-86458\n",
      "https://www.realtor.com/realestateandhomes-detail/863-Delafield-Ave_Staten-Island_NY_10310_M31785-61832\n",
      "https://www.realtor.com/realestateandhomes-detail/24921-145th-Ave_Rosedale_NY_11422_M34575-33455\n",
      "https://www.realtor.com/realestateandhomes-detail/8915-160th-Ave_Howard-Beach_NY_11414_M49099-46448\n",
      "https://www.realtor.com/realestateandhomes-detail/338-Calhoun-Ave_Bronx_NY_10465_M37429-48968\n",
      "https://www.realtor.com/realestateandhomes-detail/9322-201st-St_Hollis_NY_11423_M42226-67118\n",
      "https://www.realtor.com/realestateandhomes-detail/7262-51st-Dr_Woodside_NY_11377_M32971-49765\n",
      "https://www.realtor.com/realestateandhomes-detail/344-Beach-Rd_Staten-Island_NY_10312_M45591-40609\n",
      "https://www.realtor.com/realestateandhomes-detail/5729-Waldron-St_Corona_NY_11368_M35421-84710\n",
      "https://www.realtor.com/realestateandhomes-detail/24816-82nd-Ave_Bellerose_NY_11426_M32195-62073\n",
      "https://www.realtor.com/realestateandhomes-detail/5302-207th-St_Oakland-Gardens_NY_11364_M42414-55450\n",
      "https://www.realtor.com/realestateandhomes-detail/8119-164th-Pl_Jamaica_NY_11432_M32956-24307\n",
      "https://www.realtor.com/realestateandhomes-detail/2660-E-63rd-St_Brooklyn_NY_11234_M32172-26058\n",
      "https://www.realtor.com/realestateandhomes-detail/13529-94th-St_Ozone-Park_NY_11417_M38048-60263\n",
      "https://www.realtor.com/realestateandhomes-detail/67-Governor-Rd_Staten-Island_NY_10314_M37327-99303\n",
      "https://www.realtor.com/realestateandhomes-detail/3-Williams-Ct_Far-Rockaway_NY_11691_M37452-89691\n",
      "https://www.realtor.com/realestateandhomes-detail/9221-214th-St_Queens-Village_NY_11428_M44129-83583\n",
      "https://www.realtor.com/realestateandhomes-detail/14719-24th-Ave_Whitestone_NY_11357_M45836-61079\n",
      "https://www.realtor.com/realestateandhomes-detail/174-Keiber-Ct_Staten-Island_NY_10314_M39837-21563\n",
      "https://www.realtor.com/realestateandhomes-detail/193-Kiswick-St_Staten-Island_NY_10306_M38203-10405\n",
      "https://www.realtor.com/realestateandhomes-detail/3251-84th-St_East-Elmhurst_NY_11370_M40513-34761\n",
      "https://www.realtor.com/realestateandhomes-detail/14223-58th-Ave_Flushing_NY_11355_M44291-49481\n",
      "https://www.realtor.com/realestateandhomes-detail/8060-268th-St_Floral-Park_NY_11004_M49012-46943\n",
      "https://www.realtor.com/realestateandhomes-detail/8701-Commonwealth-Blvd_Bellerose_NY_11426_M36207-22944\n",
      "https://www.realtor.com/realestateandhomes-detail/13103-107th-Ave_South-Richmond-Hill_NY_11419_M44172-17379\n",
      "https://www.realtor.com/realestateandhomes-detail/6403-35th-Ave_Woodside_NY_11377_M42031-65658\n",
      "https://www.realtor.com/realestateandhomes-detail/120-Bolivar-St_Staten-Island_NY_10314_M33216-70052\n",
      "https://www.realtor.com/realestateandhomes-detail/13940-227th-St_Springfield-Gardens_NY_11413_M33419-54004\n",
      "\n",
      "\n",
      "\n",
      "\n",
      " 81\n"
     ]
    },
    {
     "name": "stdout",
     "output_type": "stream",
     "text": [
      "mmmmmmmmmmmmmmmmmmmm https://www.realtor.com/realestateandhomes-search/Atlanta_GA/shw-nc/price-800000-na/pg-82\n",
      "https://www.realtor.com/realestateandhomes-detail/435-W-259th-St_Bronx_NY_10471_M46366-02716\n",
      "https://www.realtor.com/realestateandhomes-detail/22414-141st-Ave_Springfield-Gardens_NY_11413_M33283-93666\n",
      "https://www.realtor.com/realestateandhomes-detail/13940-227th-St_Springfield-Gardens_NY_11413_M33419-54004\n",
      "https://www.realtor.com/realestateandhomes-detail/43-Country-Woods-Ln_Staten-Island_NY_10308_M30824-15701\n",
      "https://www.realtor.com/realestateandhomes-detail/6501-163rd-St_Fresh-Meadows_NY_11365_M35347-55489\n",
      "https://www.realtor.com/realestateandhomes-detail/441-Ogorman-Ave_Staten-Island_NY_10308_M49651-75094\n",
      "https://www.realtor.com/realestateandhomes-detail/914-E-26th-St_Brooklyn_NY_11210_M37293-42864\n",
      "https://www.realtor.com/realestateandhomes-detail/201-E-23rd-St-7D_New-York_NY_10010_M90750-69219\n",
      "https://www.realtor.com/realestateandhomes-detail/462-Westminster-Rd_Brooklyn_NY_11218_M47785-05464\n",
      "https://www.realtor.com/realestateandhomes-detail/5927-160th-St_Fresh-Meadows_NY_11365_M42627-24154\n",
      "https://www.realtor.com/realestateandhomes-detail/949-Westwood-Ave_Staten-Island_NY_10314_M36995-57379\n",
      "https://www.realtor.com/realestateandhomes-detail/9407-214th-Pl_Queens-Village_NY_11428_M31409-41604\n",
      "https://www.realtor.com/realestateandhomes-detail/946-Drumgoole-Rd-W_Staten-Island_NY_10312_M34414-16346\n",
      "https://www.realtor.com/realestateandhomes-detail/22430-Edmore-Ave_Queens-Village_NY_11428_M38128-70515\n",
      "https://www.realtor.com/realestateandhomes-detail/11450-114th-St_South-Ozone-Park_NY_11420_M44123-91180\n",
      "https://www.realtor.com/realestateandhomes-detail/43-Watkins-Ave_Staten-Island_NY_10312_M46107-29268\n",
      "https://www.realtor.com/realestateandhomes-detail/526-88th-St_Brooklyn_NY_11209_M48526-71690\n",
      "https://www.realtor.com/realestateandhomes-detail/4834-65th-St_Woodside_NY_11377_M34559-92956\n",
      "https://www.realtor.com/realestateandhomes-detail/412-E-136th-St_Bronx_NY_10454_M40659-25372\n",
      "https://www.realtor.com/realestateandhomes-detail/6723-Eliot-Ave_Middle-Village_NY_11379_M48489-50323\n",
      "https://www.realtor.com/realestateandhomes-detail/263-Albee-Ave_Staten-Island_NY_10312_M37884-07609\n",
      "https://www.realtor.com/realestateandhomes-detail/4-Sheridan-Ave_Staten-Island_NY_10304_M45026-92152\n",
      "https://www.realtor.com/realestateandhomes-detail/21-Dryden-Ct_Staten-Island_NY_10302_M47430-30365\n",
      "https://www.realtor.com/realestateandhomes-detail/168-Norfolk-St_Brooklyn_NY_11235_M41868-35318\n",
      "https://www.realtor.com/realestateandhomes-detail/8887-195th-St_Hollis_NY_11423_M39771-12896\n",
      "https://www.realtor.com/realestateandhomes-detail/148-Woehrle-Ave_Staten-Island_NY_10312_M31369-59742\n",
      "https://www.realtor.com/realestateandhomes-detail/72-Dictum-Ct_Brooklyn_NY_11229_M30545-58293\n",
      "https://www.realtor.com/realestateandhomes-detail/439-Marine-Ave_Brooklyn_NY_11209_M31405-13856\n",
      "https://www.realtor.com/realestateandhomes-detail/21804-40th-Ave_Bayside_NY_11361_M33619-90579\n",
      "https://www.realtor.com/realestateandhomes-detail/6636-58th-Ave_Maspeth_NY_11378_M42384-38835\n",
      "https://www.realtor.com/realestateandhomes-detail/1118-Vincent-Ave_Bronx_NY_10465_M49423-06615\n",
      "https://www.realtor.com/realestateandhomes-detail/53-Pierpont-Pl_Staten-Island_NY_10314_M42274-43976\n",
      "https://www.realtor.com/realestateandhomes-detail/5025-203rd-St_Oakland-Gardens_NY_11364_M39117-04869\n",
      "https://www.realtor.com/realestateandhomes-detail/110-Monticello-Ter_Staten-Island_NY_10308_M31191-95260\n",
      "https://www.realtor.com/realestateandhomes-detail/26-Norwalk-Ave_Staten-Island_NY_10314_M41098-92823\n",
      "https://www.realtor.com/realestateandhomes-detail/25-Seneca-St_Staten-Island_NY_10310_M35580-69967\n",
      "https://www.realtor.com/realestateandhomes-detail/6949-Loubet-St_Forest-Hills_NY_11375_M39705-48496\n",
      "https://www.realtor.com/realestateandhomes-detail/376-Adelaide-Ave_Staten-Island_NY_10306_M31136-05369\n",
      "https://www.realtor.com/realestateandhomes-detail/265-Berriman-St_Brooklyn_NY_11208_M45444-69047\n",
      "https://www.realtor.com/realestateandhomes-detail/105-Bartlett-Ave_Staten-Island_NY_10312_M33812-39921\n",
      "https://www.realtor.com/realestateandhomes-detail/2029-82nd-St_Brooklyn_NY_11214_M48277-48295\n",
      "https://www.realtor.com/realestateandhomes-detail/206-Virginia-Ave_Staten-Island_NY_10305_M40837-48427\n",
      "\n",
      "\n",
      "\n",
      "\n",
      " 82\n"
     ]
    },
    {
     "name": "stdout",
     "output_type": "stream",
     "text": [
      "mmmmmmmmmmmmmmmmmmmm https://www.realtor.com/realestateandhomes-search/Atlanta_GA/shw-nc/price-800000-na/pg-83\n",
      "https://www.realtor.com/realestateandhomes-detail/105-Bartlett-Ave_Staten-Island_NY_10312_M33812-39921\n",
      "https://www.realtor.com/realestateandhomes-detail/5048-214th-St_Oakland-Gardens_NY_11364_M39971-92941\n",
      "https://www.realtor.com/realestateandhomes-detail/11239-176th-St_Jamaica_NY_11433_M37822-99847\n",
      "https://www.realtor.com/realestateandhomes-detail/67-Roff-St_Staten-Island_NY_10304_M30113-67218\n",
      "https://www.realtor.com/realestateandhomes-detail/55-Fieldway-Ave_Staten-Island_NY_10308_M40630-86648\n",
      "https://www.realtor.com/realestateandhomes-detail/2209-E-65th-St_Brooklyn_NY_11234_M36130-14335\n",
      "https://www.realtor.com/realestateandhomes-detail/431A-Marine-Ave-A_Brooklyn_NY_11209_M31551-32498\n",
      "https://www.realtor.com/realestateandhomes-detail/11580-217th-St_Cambria-Heights_NY_11411_M49520-29143\n",
      "https://www.realtor.com/realestateandhomes-detail/8533-Somerset-St_Jamaica_NY_11432_M49165-61412\n",
      "https://www.realtor.com/realestateandhomes-detail/1340-84th-St_Brooklyn_NY_11228_M46152-61039\n",
      "https://www.realtor.com/realestateandhomes-detail/98-Bay-10th-St_Brooklyn_NY_11228_M35296-42901\n",
      "https://www.realtor.com/realestateandhomes-detail/22031-Union-Tpke_Oakland-Gardens_NY_11364_M30119-44581\n",
      "https://www.realtor.com/realestateandhomes-detail/28-Mandy-Ct_Staten-Island_NY_10309_M40944-48125\n",
      "https://www.realtor.com/realestateandhomes-detail/11736-224th-St_Cambria-Heights_NY_11411_M39172-81462\n",
      "https://www.realtor.com/realestateandhomes-detail/15731-24th-Ave_Whitestone_NY_11357_M33098-30855\n",
      "https://www.realtor.com/realestateandhomes-detail/78-Almond-St_Staten-Island_NY_10312_M34629-02900\n",
      "https://www.realtor.com/realestateandhomes-detail/3426-209th-St_Bayside_NY_11361_M38463-63151\n",
      "https://www.realtor.com/realestateandhomes-detail/1833-76th-St_Brooklyn_NY_11214_M31668-33057\n",
      "https://www.realtor.com/realestateandhomes-detail/196-Wild-Ave_Staten-Island_NY_10314_M46828-72984\n",
      "https://www.realtor.com/realestateandhomes-detail/177-Hampton-Grn_Staten-Island_NY_10312_M44663-12369\n",
      "https://www.realtor.com/realestateandhomes-detail/1118-E-213th-St_Bronx_NY_10469_M43683-10675\n",
      "https://www.realtor.com/realestateandhomes-detail/13929-227th-St_Springfield-Gardens_NY_11413_M33421-40334\n",
      "https://www.realtor.com/realestateandhomes-detail/1032-78th-St_Brooklyn_NY_11228_M40479-32555\n",
      "https://www.realtor.com/realestateandhomes-detail/258-Greencroft-Ave_Staten-Island_NY_10308_M35770-44630\n",
      "https://www.realtor.com/realestateandhomes-detail/1355-E-57th-St_Brooklyn_NY_11234_M42898-48533\n",
      "https://www.realtor.com/realestateandhomes-detail/19311-McLaughlin-Ave_Hollis_NY_11423_M46983-57946\n",
      "https://www.realtor.com/realestateandhomes-detail/1873-E-34th-St_Brooklyn_NY_11234_M43617-95769\n",
      "https://www.realtor.com/realestateandhomes-detail/10520-Remington-St_Jamaica_NY_11435_M41102-84408\n",
      "https://www.realtor.com/realestateandhomes-detail/24662-87th-Ave_Bellerose_NY_11426_M37472-35744\n",
      "https://www.realtor.com/realestateandhomes-detail/10331-105th-St_Ozone-Park_NY_11417_M49479-50708\n",
      "https://www.realtor.com/realestateandhomes-detail/45-Sleepy-Hollow-Rd_Staten-Island_NY_10314_M33718-19862\n",
      "https://www.realtor.com/realestateandhomes-detail/127-15-102-Ave_Richmond-Hill_NY_11418_M98986-17072\n",
      "https://www.realtor.com/realestateandhomes-detail/555-E-92nd-St_Brooklyn_NY_11236_M30745-91626\n",
      "https://www.realtor.com/realestateandhomes-detail/3114-31st-Ave_Astoria_NY_11106_M46813-39486\n",
      "https://www.realtor.com/realestateandhomes-detail/3358-76th-St_Jackson-Heights_NY_11372_M36583-34674\n",
      "https://www.realtor.com/realestateandhomes-detail/360-Decker-Ave_Staten-Island_NY_10302_M45391-21797\n",
      "https://www.realtor.com/realestateandhomes-detail/206-Maybury-Ave_Staten-Island_NY_10308_M41353-15045\n",
      "https://www.realtor.com/realestateandhomes-detail/1456-E-70th-St_Brooklyn_NY_11234_M38620-12768\n",
      "https://www.realtor.com/realestateandhomes-detail/11719-146th-St_Jamaica_NY_11436_M39540-08715\n",
      "https://www.realtor.com/realestateandhomes-detail/3341-72nd-St_Jackson-Heights_NY_11372_M44324-16289\n",
      "https://www.realtor.com/realestateandhomes-detail/12003-226th-St_Cambria-Heights_NY_11411_M43531-57224\n",
      "https://www.realtor.com/realestateandhomes-detail/44-Prince-St_Staten-Island_NY_10304_M34375-79729\n",
      "\n",
      "\n",
      "\n",
      "\n",
      " 83\n"
     ]
    },
    {
     "name": "stdout",
     "output_type": "stream",
     "text": [
      "mmmmmmmmmmmmmmmmmmmm https://www.realtor.com/realestateandhomes-search/Atlanta_GA/shw-nc/price-800000-na/pg-84\n",
      "https://www.realtor.com/realestateandhomes-detail/54-7th-Ave-S_New-York_NY_10014_M98330-52543\n",
      "https://www.realtor.com/realestateandhomes-detail/3231-166th-St_Flushing_NY_11358_M30464-06131\n",
      "https://www.realtor.com/realestateandhomes-detail/1940-E-37th-St_Brooklyn_NY_11234_M46873-41596\n",
      "https://www.realtor.com/realestateandhomes-detail/2231-Mermaid-Ave_Brooklyn_NY_11224_M38734-73008\n",
      "https://www.realtor.com/realestateandhomes-detail/11542-217th-St_Cambria-Heights_NY_11411_M38031-40955\n",
      "https://www.realtor.com/realestateandhomes-detail/486-Delafield-Ave_Staten-Island_NY_10310_M35988-76175\n",
      "https://www.realtor.com/realestateandhomes-detail/6458-58th-Rd_Maspeth_NY_11378_M39562-98384\n",
      "https://www.realtor.com/realestateandhomes-detail/360-Grimsby-St_Staten-Island_NY_10306_M41805-18786\n",
      "https://www.realtor.com/realestateandhomes-detail/181-Jumel-St_Staten-Island_NY_10308_M42999-78021\n",
      "https://www.realtor.com/realestateandhomes-detail/41-Furness-Pl_Staten-Island_NY_10314_M37544-64633\n",
      "https://www.realtor.com/realestateandhomes-detail/621-Cross-Bay-Blvd_Far-Rockaway_NY_11693_M46705-28511\n",
      "https://www.realtor.com/realestateandhomes-detail/126-Craig-Ave_Staten-Island_NY_10307_M40277-92652\n",
      "https://www.realtor.com/realestateandhomes-detail/531-Rensselaer-Ave_Staten-Island_NY_10312_M39667-11846\n",
      "https://www.realtor.com/realestateandhomes-detail/166-E-64th-St_New-York_NY_10065_M40882-19301\n",
      "https://www.realtor.com/realestateandhomes-detail/89-Daleham-St_Staten-Island_NY_10308_M48610-91317\n",
      "https://www.realtor.com/realestateandhomes-detail/129-Slosson-Ave_Staten-Island_NY_10314_M91643-23532\n",
      "https://www.realtor.com/realestateandhomes-detail/102-Mallow-St_Staten-Island_NY_10309_M48215-49003\n",
      "https://www.realtor.com/realestateandhomes-detail/295-Vanderbilt-Ave_Staten-Island_NY_10304_M37050-86037\n",
      "https://www.realtor.com/realestateandhomes-detail/70-Manchester-Dr_Staten-Island_NY_10312_M40778-87525\n",
      "https://www.realtor.com/realestateandhomes-detail/16333-15th-Dr_Whitestone_NY_11357_M39562-41522\n",
      "https://www.realtor.com/realestateandhomes-detail/651-Rathbun-Ave_Staten-Island_NY_10312_M46305-80643\n",
      "https://www.realtor.com/realestateandhomes-detail/18626-Elmira-Ave_Saint-Albans_NY_11412_M39542-82171\n",
      "https://www.realtor.com/realestateandhomes-detail/3843-Regatta-Pl_Little-Neck_NY_11363_M48062-56055\n",
      "https://www.realtor.com/realestateandhomes-detail/23416-130th-Ave_Rosedale_NY_11422_M32784-52838\n",
      "https://www.realtor.com/realestateandhomes-detail/88-Morningside-Ave-Apt-4C_New-York_NY_10027_M48154-76212\n",
      "https://www.realtor.com/realestateandhomes-detail/25301-148th-Ave_Rosedale_NY_11422_M36510-18229\n",
      "https://www.realtor.com/realestateandhomes-detail/3995-E-Tremont-Ave_Bronx_NY_10465_M31239-47142\n",
      "https://www.realtor.com/realestateandhomes-detail/486-Classon-Ave_Brooklyn_NY_11238_M35340-16315\n",
      "https://www.realtor.com/realestateandhomes-detail/839-Clarence-Ave_Bronx_NY_10465_M40857-08512\n",
      "https://www.realtor.com/realestateandhomes-detail/8523-Edgerton-Blvd_Jamaica_NY_11432_M45836-40780\n",
      "https://www.realtor.com/realestateandhomes-detail/7203-160th-St_Fresh-Meadows_NY_11365_M37203-02617\n",
      "https://www.realtor.com/realestateandhomes-detail/21619-115th-Ter_Cambria-Heights_NY_11411_M40969-74688\n",
      "https://www.realtor.com/realestateandhomes-detail/93-Pleasant-Valley-Ave_Staten-Island_NY_10304_M48715-90866\n",
      "https://www.realtor.com/realestateandhomes-detail/1562-Allerton-Ave_Bronx_NY_10469_M34890-75698\n",
      "https://www.realtor.com/realestateandhomes-detail/3229-162nd-St_Flushing_NY_11358_M48857-07138\n",
      "https://www.realtor.com/realestateandhomes-detail/4665-Amboy-Rd_Staten-Island_NY_10312_M90154-18187\n",
      "https://www.realtor.com/realestateandhomes-detail/397A-Hancock-St_Brooklyn_NY_11216_M94014-98766\n",
      "https://www.realtor.com/realestateandhomes-detail/1579-W-8th-St_Brooklyn_NY_11204_M31323-86028\n",
      "https://www.realtor.com/realestateandhomes-detail/6411-Avenue-T_Brooklyn_NY_11234_M46193-70443\n",
      "https://www.realtor.com/realestateandhomes-detail/80-Mulberry-Ave_Staten-Island_NY_10314_M31310-42681\n",
      "https://www.realtor.com/realestateandhomes-detail/99-Elmira-St_Staten-Island_NY_10306_M30864-75763\n",
      "https://www.realtor.com/realestateandhomes-detail/21305-Union-Tpke_Oakland-Gardens_NY_11364_M96065-28161\n",
      "\n",
      "\n",
      "\n",
      "\n",
      " 84\n"
     ]
    },
    {
     "name": "stdout",
     "output_type": "stream",
     "text": [
      "mmmmmmmmmmmmmmmmmmmm https://www.realtor.com/realestateandhomes-search/Atlanta_GA/shw-nc/price-800000-na/pg-85\n",
      "https://www.realtor.com/realestateandhomes-detail/14821-12th-Ave_Whitestone_NY_11357_M43538-43235\n",
      "https://www.realtor.com/realestateandhomes-detail/300-Tanglewood-Dr_Staten-Island_NY_10308_M32322-79726\n",
      "https://www.realtor.com/realestateandhomes-detail/1310-Kearney-Ave_Bronx_NY_10465_M32421-11148\n",
      "https://www.realtor.com/realestateandhomes-detail/8222-214th-St_Queens-Village_NY_11427_M47503-85054\n",
      "https://www.realtor.com/realestateandhomes-detail/10724-87th-St_Ozone-Park_NY_11417_M30099-22773\n",
      "https://www.realtor.com/realestateandhomes-detail/1136-Dean-St_Brooklyn_NY_11216_M35708-13328\n",
      "https://www.realtor.com/realestateandhomes-detail/13133-228th-St_Springfield-Gardens_NY_11413_M32944-77194\n",
      "https://www.realtor.com/realestateandhomes-detail/7318-137th-St_Flushing_NY_11367_M31015-91917\n",
      "https://www.realtor.com/realestateandhomes-detail/8068-Springfield-Blvd_Queens-Village_NY_11427_M38143-54855\n",
      "https://www.realtor.com/realestateandhomes-detail/8546-109th-St_Richmond-Hill_NY_11418_M31705-88847\n",
      "https://www.realtor.com/realestateandhomes-detail/45-Elmwood-Ave_Staten-Island_NY_10308_M44310-94830\n",
      "https://www.realtor.com/realestateandhomes-detail/360-Gurley-Ave_Staten-Island_NY_10308_M49563-68959\n",
      "https://www.realtor.com/realestateandhomes-detail/16365-26th-Ave_Flushing_NY_11358_M49144-39179\n",
      "https://www.realtor.com/realestateandhomes-detail/11259-Mayville-St_Saint-Albans_NY_11412_M39238-59864\n",
      "https://www.realtor.com/realestateandhomes-detail/20-Daleham-St_Staten-Island_NY_10308_M38052-00028\n",
      "https://www.realtor.com/realestateandhomes-detail/1806-Undercliff-Ave_Bronx_NY_10453_M44287-64257\n",
      "https://www.realtor.com/realestateandhomes-detail/10817-Ditmars-Blvd_East-Elmhurst_NY_11369_M40461-88698\n",
      "https://www.realtor.com/realestateandhomes-detail/4209-Quentin-Rd_Brooklyn_NY_11234_M41383-99742\n",
      "https://www.realtor.com/realestateandhomes-detail/14792-Grand-Central-Pkwy_Jamaica_NY_11435_M43536-10193\n",
      "https://www.realtor.com/realestateandhomes-detail/147-Roosevelt-Ave_Staten-Island_NY_10314_M31628-92467\n",
      "https://www.realtor.com/realestateandhomes-detail/2776-Marion-Ave_Bronx_NY_10458_M32962-40892\n",
      "https://www.realtor.com/realestateandhomes-detail/8738-115th-St_Richmond-Hill_NY_11418_M48047-20021\n",
      "https://www.realtor.com/realestateandhomes-detail/288-Nome-Ave_Staten-Island_NY_10314_M46776-67125\n",
      "https://www.realtor.com/realestateandhomes-detail/8652-Musket-St_Queens-Village_NY_11427_M41235-13114\n",
      "https://www.realtor.com/realestateandhomes-detail/85-Foster-Rd_Staten-Island_NY_10309_M30624-05112\n",
      "https://www.realtor.com/realestateandhomes-detail/11441-203rd-St_Saint-Albans_NY_11412_M44929-07657\n",
      "https://www.realtor.com/realestateandhomes-detail/877-Tysens-Ln_Staten-Island_NY_10306_M39603-00881\n",
      "https://www.realtor.com/realestateandhomes-detail/19-Winters-St_Bronx_NY_10464_M44375-65317\n",
      "https://www.realtor.com/realestateandhomes-detail/42-Hudson-St_Staten-Island_NY_10304_M49705-25646\n",
      "https://www.realtor.com/realestateandhomes-detail/10321-177th-St_Jamaica_NY_11433_M40684-14455\n",
      "https://www.realtor.com/realestateandhomes-detail/4261-78th-St_Elmhurst_NY_11373_M40714-48221\n",
      "https://www.realtor.com/realestateandhomes-detail/136-Bionia-Ave_Staten-Island_NY_10305_M46604-82450\n",
      "https://www.realtor.com/realestateandhomes-detail/10-Taylor-Ct_Staten-Island_NY_10310_M40174-60539\n",
      "https://www.realtor.com/realestateandhomes-detail/14036-247th-St_Rosedale_NY_11422_M34169-45769\n",
      "https://www.realtor.com/realestateandhomes-detail/8501-77th-Ave_Ridgewood_NY_11385_M38090-30900\n",
      "https://www.realtor.com/realestateandhomes-detail/11422-201st-St_Saint-Albans_NY_11412_M48568-84820\n",
      "https://www.realtor.com/realestateandhomes-detail/16726-Northern-Blvd_Flushing_NY_11358_M34219-09843\n",
      "https://www.realtor.com/realestateandhomes-detail/39-Deirdre-Ct_Staten-Island_NY_10304_M39444-09416\n",
      "https://www.realtor.com/realestateandhomes-detail/2740-E-23rd-St_Brooklyn_NY_11235_M49821-31588\n",
      "https://www.realtor.com/realestateandhomes-detail/76-Boundary-Ave_Staten-Island_NY_10306_M31006-48193\n",
      "https://www.realtor.com/realestateandhomes-detail/1882-Richmond-Rd_Staten-Island_NY_10306_M35076-42850\n",
      "https://www.realtor.com/realestateandhomes-detail/25-Gwenn-Loop_Staten-Island_NY_10314_M36576-80762\n",
      "\n",
      "\n",
      "\n",
      "\n",
      " 85\n"
     ]
    },
    {
     "name": "stdout",
     "output_type": "stream",
     "text": [
      "mmmmmmmmmmmmmmmmmmmm https://www.realtor.com/realestateandhomes-search/Atlanta_GA/shw-nc/price-800000-na/pg-86\n",
      "https://www.realtor.com/realestateandhomes-detail/2413-88th-St_East-Elmhurst_NY_11369_M34375-89359\n",
      "https://www.realtor.com/realestateandhomes-detail/4521-76th-St_Elmhurst_NY_11373_M41670-35363\n",
      "https://www.realtor.com/realestateandhomes-detail/186-Thornycroft-Ave_Staten-Island_NY_10312_M45110-60542\n",
      "https://www.realtor.com/realestateandhomes-detail/183-Bay-Ter_Staten-Island_NY_10306_M37339-36174\n",
      "https://www.realtor.com/realestateandhomes-detail/3224-Spencer-Dr_Bronx_NY_10465_M44995-04462\n",
      "https://www.realtor.com/realestateandhomes-detail/262-Genesee-Ave_Staten-Island_NY_10312_M34626-66006\n",
      "https://www.realtor.com/realestateandhomes-detail/26221-60th-Rd_Little-Neck_NY_11362_M31572-09151\n",
      "https://www.realtor.com/realestateandhomes-detail/115116-221st-St_Cambria-Heights_NY_11411_M43920-96985\n",
      "https://www.realtor.com/realestateandhomes-detail/4969-Amboy-Rd_Staten-Island_NY_10312_M48898-39805\n",
      "https://www.realtor.com/realestateandhomes-detail/21702-Corbett-Rd_Bayside_NY_11361_M41596-66153\n",
      "https://www.realtor.com/realestateandhomes-detail/180-Bay-44th-St_Brooklyn_NY_11214_M33188-06720\n",
      "https://www.realtor.com/realestateandhomes-detail/3279-31st-St_Astoria_NY_11106_M43143-80528\n",
      "https://www.realtor.com/realestateandhomes-detail/133-E-49th-St_Brooklyn_NY_11203_M35698-33257\n",
      "https://www.realtor.com/realestateandhomes-detail/12047-228th-St_Cambria-Heights_NY_11411_M37034-49484\n",
      "https://www.realtor.com/realestateandhomes-detail/78-Bodine-St_Staten-Island_NY_10310_M40266-65227\n",
      "https://www.realtor.com/realestateandhomes-detail/46-Elizabeth-St_Staten-Island_NY_10310_M30162-87026\n",
      "https://www.realtor.com/realestateandhomes-detail/3359-154th-St_Flushing_NY_11354_M47946-49473\n",
      "https://www.realtor.com/realestateandhomes-detail/7721-249th-St_Bellerose_NY_11426_M49958-71561\n",
      "https://www.realtor.com/realestateandhomes-detail/1246-E-100th-St_Brooklyn_NY_11236_M48046-66155\n",
      "https://www.realtor.com/realestateandhomes-detail/1779-E-16th-St_Brooklyn_NY_11229_M46187-00879\n",
      "https://www.realtor.com/realestateandhomes-detail/6011-69th-St_Maspeth_NY_11378_M48289-66332\n",
      "https://www.realtor.com/realestateandhomes-detail/15427-24th-Rd_Whitestone_NY_11357_M32045-91833\n",
      "https://www.realtor.com/realestateandhomes-detail/10707-Princeton-St_Jamaica_NY_11435_M41968-15223\n",
      "https://www.realtor.com/realestateandhomes-detail/297-Woods-of-Arden-Rd_Staten-Island_NY_10312_M43309-71913\n",
      "https://www.realtor.com/realestateandhomes-detail/58-Montell-St_Staten-Island_NY_10302_M30674-78355\n",
      "https://www.realtor.com/realestateandhomes-detail/694-Pennsylvania-Ave_Brooklyn_NY_11207_M90269-87164\n",
      "https://www.realtor.com/realestateandhomes-detail/135-McArthur-Ave_Staten-Island_NY_10312_M39309-30244\n",
      "https://www.realtor.com/realestateandhomes-detail/31-Fingal-St_Staten-Island_NY_10312_M47196-20352\n",
      "https://www.realtor.com/realestateandhomes-detail/74-Sleepy-Hollow-Rd_Staten-Island_NY_10314_M32567-79897\n",
      "https://www.realtor.com/realestateandhomes-detail/73-Whitman-Ave_Staten-Island_NY_10308_M42088-03484\n",
      "https://www.realtor.com/realestateandhomes-detail/130-Coale-Ave_Staten-Island_NY_10314_M44047-16841\n",
      "https://www.realtor.com/realestateandhomes-detail/24716-88th-Rd_Bellerose_NY_11426_M36219-96986\n",
      "https://www.realtor.com/realestateandhomes-detail/264-Highland-Blvd_Brooklyn_NY_11207_M42764-55538\n",
      "https://www.realtor.com/realestateandhomes-detail/37-Billings-St_Staten-Island_NY_10312_M42562-22575\n",
      "https://www.realtor.com/realestateandhomes-detail/3626-191st-St_Flushing_NY_11358_M46885-96195\n",
      "https://www.realtor.com/realestateandhomes-detail/5826-Hewlett-St_Little-Neck_NY_11362_M48230-52419\n",
      "https://www.realtor.com/realestateandhomes-detail/13446-229th-St_Springfield-Gardens_NY_11413_M33425-87525\n",
      "https://www.realtor.com/realestateandhomes-detail/2131-E-19th-St_Brooklyn_NY_11229_M44428-94683\n",
      "https://www.realtor.com/realestateandhomes-detail/8831-62nd-Dr_Rego-Park_NY_11374_M48197-96984\n",
      "https://www.realtor.com/realestateandhomes-detail/150129-Powells-Cove-Blvd_Whitestone_NY_11357_M49329-62951\n",
      "https://www.realtor.com/realestateandhomes-detail/441-Beach-45th-St_Far-Rockaway_NY_11691_M33435-12970\n",
      "https://www.realtor.com/realestateandhomes-detail/40-Ashwood-Ct_Staten-Island_NY_10308_M49971-88465\n",
      "\n",
      "\n",
      "\n",
      "\n",
      " 86\n"
     ]
    },
    {
     "name": "stdout",
     "output_type": "stream",
     "text": [
      "mmmmmmmmmmmmmmmmmmmm https://www.realtor.com/realestateandhomes-search/Atlanta_GA/shw-nc/price-800000-na/pg-87\n",
      "https://www.realtor.com/realestateandhomes-detail/447-Winant-Ave_Staten-Island_NY_10309_M42126-50436\n",
      "https://www.realtor.com/realestateandhomes-detail/19-Amherst-St_Brooklyn_NY_11235_M37113-81902\n",
      "https://www.realtor.com/realestateandhomes-detail/527-Midland-Ave_Staten-Island_NY_10306_M48903-56454\n",
      "https://www.realtor.com/realestateandhomes-detail/15107-21st-Ave_Whitestone_NY_11357_M41942-08533\n",
      "https://www.realtor.com/realestateandhomes-detail/2227-Turnbull-Ave_Bronx_NY_10473_M45460-83742\n",
      "https://www.realtor.com/realestateandhomes-detail/30-Clinton-Ct_Staten-Island_NY_10301_M44792-95438\n",
      "https://www.realtor.com/realestateandhomes-detail/419-Ogorman-Ave_Staten-Island_NY_10308_M30974-32102\n",
      "https://www.realtor.com/realestateandhomes-detail/2225-Seward-Ave_Bronx_NY_10473_M47195-04917\n",
      "https://www.realtor.com/realestateandhomes-detail/404-Howe-Ave_Bronx_NY_10473_M45164-85137\n",
      "https://www.realtor.com/realestateandhomes-detail/9022-196th-St_Hollis_NY_11423_M39660-07645\n",
      "https://www.realtor.com/realestateandhomes-detail/5015-199th-St_Fresh-Meadows_NY_11365_M39232-41567\n",
      "https://www.realtor.com/realestateandhomes-detail/15722-Powells-Cove-Blvd_Whitestone_NY_11357_M49358-99991\n",
      "https://www.realtor.com/realestateandhomes-detail/3228-Utopia-Pkwy_Flushing_NY_11358_M36981-63498\n",
      "https://www.realtor.com/realestateandhomes-detail/70-Princess-St_Staten-Island_NY_10303_M48653-10592\n",
      "https://www.realtor.com/realestateandhomes-detail/1117-Hancock-St_Brooklyn_NY_11221_M45328-19328\n",
      "https://www.realtor.com/realestateandhomes-detail/192-Ramapo-Ave_Staten-Island_NY_10309_M48828-47107\n",
      "https://www.realtor.com/realestateandhomes-detail/22514-Murdock-Ave_Queens-Village_NY_11429_M37057-27781\n",
      "https://www.realtor.com/realestateandhomes-detail/4008-Clarendon-Rd_Brooklyn_NY_11203_M34868-30631\n",
      "https://www.realtor.com/realestateandhomes-detail/14109-72nd-Ave_Flushing_NY_11367_M42754-16096\n",
      "https://www.realtor.com/realestateandhomes-detail/2040-W-8th-St_Brooklyn_NY_11223_M45971-49791\n",
      "https://www.realtor.com/realestateandhomes-detail/142-E-16th-St-Apt-18C_New-York_NY_10003_M48357-56926\n",
      "https://www.realtor.com/realestateandhomes-detail/8007-257th-St_Glen-Oaks_NY_11004_M48912-96936\n",
      "https://www.realtor.com/realestateandhomes-detail/11115-117th-St_South-Ozone-Park_NY_11420_M34201-48195\n",
      "https://www.realtor.com/realestateandhomes-detail/686-Rugby-Rd_Brooklyn_NY_11230_M41866-98330\n",
      "https://www.realtor.com/realestateandhomes-detail/296-Demorest-Ave_Staten-Island_NY_10314_M48314-09956\n",
      "https://www.realtor.com/realestateandhomes-detail/1560-W-2nd-St_Brooklyn_NY_11204_M46134-57753\n",
      "https://www.realtor.com/realestateandhomes-detail/139-Adelaide-Ave_Staten-Island_NY_10306_M48013-16898\n",
      "https://www.realtor.com/realestateandhomes-detail/2027-65th-St_Brooklyn_NY_11204_M43695-50937\n",
      "https://www.realtor.com/realestateandhomes-detail/143-Roman-Ave_Staten-Island_NY_10314_M41136-93949\n",
      "https://www.realtor.com/realestateandhomes-detail/661-E-228th-St_Bronx_NY_10466_M46399-71172\n",
      "https://www.realtor.com/realestateandhomes-detail/31-Giacomo-Ln_Staten-Island_NY_10310_M36834-94322\n",
      "https://www.realtor.com/realestateandhomes-detail/4757-188th-St_Flushing_NY_11358_M43244-90971\n",
      "https://www.realtor.com/realestateandhomes-detail/11457-176th-St_Jamaica_NY_11434_M43078-39912\n",
      "https://www.realtor.com/realestateandhomes-detail/159-North-Ave_Staten-Island_NY_10314_M38973-79797\n",
      "https://www.realtor.com/realestateandhomes-detail/24674-87th-Ave_Bellerose_NY_11426_M37562-81921\n",
      "https://www.realtor.com/realestateandhomes-detail/20-Edgegrove-Ave_Staten-Island_NY_10312_M31482-29281\n",
      "https://www.realtor.com/realestateandhomes-detail/61-Berry-Ave_Staten-Island_NY_10312_M38539-21136\n",
      "https://www.realtor.com/realestateandhomes-detail/13318-233rd-St_Rosedale_NY_11422_M43863-10615\n",
      "https://www.realtor.com/realestateandhomes-detail/1915-Bogart-Ave_Bronx_NY_10462_M44940-57337\n",
      "https://www.realtor.com/realestateandhomes-detail/16228-96th-St_Howard-Beach_NY_11414_M31983-98686\n",
      "https://www.realtor.com/realestateandhomes-detail/12358-147th-St_Jamaica_NY_11436_M42010-44648\n",
      "https://www.realtor.com/realestateandhomes-detail/814-Lamont-Ave_Staten-Island_NY_10309_M42546-65784\n",
      "\n",
      "\n",
      "\n",
      "\n",
      " 87\n"
     ]
    },
    {
     "name": "stdout",
     "output_type": "stream",
     "text": [
      "mmmmmmmmmmmmmmmmmmmm https://www.realtor.com/realestateandhomes-search/Atlanta_GA/shw-nc/price-800000-na/pg-88\n",
      "https://www.realtor.com/realestateandhomes-detail/63-Riegelmann-St_Staten-Island_NY_10302_M40046-66735\n",
      "https://www.realtor.com/realestateandhomes-detail/8014-78th-Ave_Ridgewood_NY_11385_M43852-68575\n",
      "https://www.realtor.com/realestateandhomes-detail/8160-Bay-16th-St_Brooklyn_NY_11214_M39130-54514\n",
      "https://www.realtor.com/realestateandhomes-detail/261-Fenimore-St_Brooklyn_NY_11225_M41671-20412\n",
      "https://www.realtor.com/realestateandhomes-detail/994-E-54th-St_Brooklyn_NY_11234_M39538-08231\n",
      "https://www.realtor.com/realestateandhomes-detail/260-Garretson-Ave_Staten-Island_NY_10305_M43482-48789\n",
      "https://www.realtor.com/realestateandhomes-detail/5111-Browvale-Ln_Little-Neck_NY_11362_M43674-76273\n",
      "https://www.realtor.com/realestateandhomes-detail/4322-249th-St_Little-Neck_NY_11363_M43793-14767\n",
      "https://www.realtor.com/realestateandhomes-detail/24134-87th-Ave_Bellerose_NY_11426_M41977-84137\n",
      "https://www.realtor.com/realestateandhomes-detail/15056-86th-Ave_Jamaica_NY_11432_M40166-63433\n",
      "https://www.realtor.com/realestateandhomes-detail/203-Ardmore-Ave_Staten-Island_NY_10314_M36014-44376\n",
      "https://www.realtor.com/realestateandhomes-detail/2118-Quimby-Ave_Bronx_NY_10473_M44406-77986\n",
      "https://www.realtor.com/realestateandhomes-detail/2625-E-63rd-St_Brooklyn_NY_11234_M38605-20204\n",
      "https://www.realtor.com/realestateandhomes-detail/7344-185th-St_Fresh-Meadows_NY_11366_M47459-99045\n",
      "https://www.realtor.com/realestateandhomes-detail/3331-72nd-St_Jackson-Heights_NY_11372_M46770-78574\n",
      "https://www.realtor.com/realestateandhomes-detail/5431-Browvale-Ln_Little-Neck_NY_11362_M36435-63818\n",
      "https://www.realtor.com/realestateandhomes-detail/674-W-231st-St_Bronx_NY_10463_M42545-06785\n",
      "https://www.realtor.com/realestateandhomes-detail/14736-77th-Rd_Flushing_NY_11367_M42140-86505\n",
      "https://www.realtor.com/realestateandhomes-detail/1044-New-York-Ave_Brooklyn_NY_11203_M35889-36165\n",
      "https://www.realtor.com/realestateandhomes-detail/2019-Avenue-V_Brooklyn_NY_11229_M34057-49386\n",
      "https://www.realtor.com/realestateandhomes-detail/10113-107th-St_Ozone-Park_NY_11416_M41127-83671\n",
      "https://www.realtor.com/realestateandhomes-detail/303-147th-St_Whitestone_NY_11357_M47282-54524\n",
      "https://www.realtor.com/realestateandhomes-detail/1965-Bussing-Ave_Bronx_NY_10466_M45895-92692\n",
      "https://www.realtor.com/realestateandhomes-detail/534-Macdonough-St_Brooklyn_NY_11233_M38550-73782\n",
      "https://www.realtor.com/realestateandhomes-detail/1099-Arden-Ave_Staten-Island_NY_10312_M36915-33829\n",
      "https://www.realtor.com/realestateandhomes-detail/6432-78th-St_Middle-Village_NY_11379_M45607-93609\n",
      "https://www.realtor.com/realestateandhomes-detail/224-Bidwell-Ave_Staten-Island_NY_10314_M42060-87442\n",
      "https://www.realtor.com/realestateandhomes-detail/552-77th-St_Brooklyn_NY_11209_M39022-22720\n",
      "https://www.realtor.com/realestateandhomes-detail/1923-E-32nd-St_Brooklyn_NY_11234_M48511-34860\n",
      "https://www.realtor.com/realestateandhomes-detail/20715-39th-Ave_Bayside_NY_11361_M46319-29218\n",
      "https://www.realtor.com/realestateandhomes-detail/11743-140th-St_South-Ozone-Park_NY_11436_M32384-93692\n",
      "https://www.realtor.com/realestateandhomes-detail/8509-124th-St_Kew-Gardens_NY_11415_M34328-66550\n",
      "https://www.realtor.com/realestateandhomes-detail/2942-162nd-St_Flushing_NY_11358_M48276-84065\n",
      "https://www.realtor.com/realestateandhomes-detail/11465-197th-St_Saint-Albans_NY_11412_M43692-51037\n",
      "https://www.realtor.com/realestateandhomes-detail/544-E-43rd-St_Brooklyn_NY_11203_M48931-32354\n",
      "https://www.realtor.com/realestateandhomes-detail/514-Clove-Rd_Staten-Island_NY_10310_M30632-04848\n",
      "https://www.realtor.com/realestateandhomes-detail/172-Sullivan-Pl_Brooklyn_NY_11225_M32691-50814\n",
      "https://www.realtor.com/realestateandhomes-detail/8085-Chevy-Chase-St_Jamaica_NY_11432_M35021-89427\n",
      "https://www.realtor.com/realestateandhomes-detail/13211-Centreville-St_Ozone-Park_NY_11417_M32014-01484\n",
      "https://www.realtor.com/realestateandhomes-detail/16906-Foch-Blvd_Jamaica_NY_11434_M36418-73552\n",
      "https://www.realtor.com/realestateandhomes-detail/7603-20th-Ave_Brooklyn_NY_11214_M40426-47792\n",
      "https://www.realtor.com/realestateandhomes-detail/603A-20th-St_Brooklyn_NY_11218_M34300-87899\n",
      "\n",
      "\n",
      "\n",
      "\n",
      " 88\n"
     ]
    },
    {
     "name": "stdout",
     "output_type": "stream",
     "text": [
      "mmmmmmmmmmmmmmmmmmmm https://www.realtor.com/realestateandhomes-search/Atlanta_GA/shw-nc/price-800000-na/pg-89\n",
      "https://www.realtor.com/realestateandhomes-detail/260-Brighton-Ave_Staten-Island_NY_10301_M98515-39343\n",
      "https://www.realtor.com/realestateandhomes-detail/835-Dean-Ave_Bronx_NY_10465_M33792-87082\n",
      "https://www.realtor.com/realestateandhomes-detail/3239-158th-St_Flushing_NY_11358_M33762-33170\n",
      "https://www.realtor.com/realestateandhomes-detail/515-Beach-43rd-St_Far-Rockaway_NY_11691_M41952-52009\n",
      "https://www.realtor.com/realestateandhomes-detail/14702-29th-Ave_Flushing_NY_11354_M30585-83871\n",
      "https://www.realtor.com/realestateandhomes-detail/363A-12th-St_Brooklyn_NY_11215_M42953-72819\n",
      "https://www.realtor.com/realestateandhomes-detail/46-Seafoam-St_Staten-Island_NY_10306_M43576-10764\n",
      "https://www.realtor.com/realestateandhomes-detail/74-Reno-Ave_Staten-Island_NY_10306_M42372-98632\n",
      "https://www.realtor.com/realestateandhomes-detail/59-Tabb-Pl_Staten-Island_NY_10302_M30909-93165\n",
      "https://www.realtor.com/realestateandhomes-detail/197-Craig-Ave_Staten-Island_NY_10307_M33692-72479\n",
      "https://www.realtor.com/realestateandhomes-detail/17219-Sayres-Ave_Jamaica_NY_11433_M44207-88612\n",
      "https://www.realtor.com/realestateandhomes-detail/323-E-235th-St_Bronx_NY_10470_M41418-45543\n",
      "https://www.realtor.com/realestateandhomes-detail/123-Roe-St_Staten-Island_NY_10310_M31316-73053\n",
      "https://www.realtor.com/realestateandhomes-detail/7637-266th-St_New-Hyde-Park_NY_11040_M48509-75186\n",
      "https://www.realtor.com/realestateandhomes-detail/163-Beaumont-St_Brooklyn_NY_11235_M38618-61778\n",
      "https://www.realtor.com/realestateandhomes-detail/4817-Little-Neck-Pkwy_Little-Neck_NY_11362_M33788-03817\n",
      "https://www.realtor.com/realestateandhomes-detail/145-Winter-Ave_Staten-Island_NY_10301_M46280-21399\n",
      "https://www.realtor.com/realestateandhomes-detail/3531-160th-St_Flushing_NY_11358_M49659-98277\n",
      "https://www.realtor.com/realestateandhomes-detail/7351-187th-St_Fresh-Meadows_NY_11366_M34919-86782\n",
      "https://www.realtor.com/realestateandhomes-detail/2808-Wickham-Ave_Bronx_NY_10469_M48737-48653\n",
      "https://www.realtor.com/realestateandhomes-detail/14553-7th-Ave_Whitestone_NY_11357_M38884-64923\n",
      "https://www.realtor.com/realestateandhomes-detail/662-Barlow-Ave_Staten-Island_NY_10312_M43670-60570\n",
      "https://www.realtor.com/realestateandhomes-detail/381-Greeley-Ave_Staten-Island_NY_10306_M39725-18391\n",
      "https://www.realtor.com/realestateandhomes-detail/9-Westbrook-Ave_Staten-Island_NY_10303_M42478-90383\n",
      "https://www.realtor.com/realestateandhomes-detail/3343-159th-St_Flushing_NY_11358_M44118-22041\n",
      "https://www.realtor.com/realestateandhomes-detail/660-Clarence-Ave_Bronx_NY_10465_M34453-59598\n",
      "https://www.realtor.com/realestateandhomes-detail/2776-Mill-Ave_Brooklyn_NY_11234_M39440-62927\n",
      "https://www.realtor.com/realestateandhomes-detail/4112-111th-St_Corona_NY_11368_M31611-29075\n",
      "https://www.realtor.com/realestateandhomes-detail/550-Vanderbilt-Ave_Brooklyn_NY_11238_M94640-76532\n",
      "https://www.realtor.com/realestateandhomes-detail/4178-Baychester-Ave_Bronx_NY_10466_M46113-18737\n",
      "https://www.realtor.com/realestateandhomes-detail/636-Logan-Ave_Bronx_NY_10465_M39335-14403\n",
      "https://www.realtor.com/realestateandhomes-detail/133-29-Amber-St_Howard-Beach_NY_11208_M94456-59689\n",
      "https://www.realtor.com/realestateandhomes-detail/118-E-55th-St_Brooklyn_NY_11203_M30524-83476\n",
      "https://www.realtor.com/realestateandhomes-detail/1330-Bushwick-Ave_Brooklyn_NY_11207_M41936-91732\n",
      "https://www.realtor.com/realestateandhomes-detail/68-Margaret-St_Staten-Island_NY_10308_M49074-58373\n",
      "https://www.realtor.com/realestateandhomes-detail/2741-168th-St_Flushing_NY_11358_M35997-17028\n",
      "https://www.realtor.com/realestateandhomes-detail/280-Edinboro-Rd_Staten-Island_NY_10306_M36035-39492\n",
      "https://www.realtor.com/realestateandhomes-detail/10507-131st-St_South-Richmond-Hill_NY_11419_M37628-65398\n",
      "https://www.realtor.com/realestateandhomes-detail/6806-Vista-Pl_Brooklyn_NY_11220_M43089-07877\n",
      "https://www.realtor.com/realestateandhomes-detail/1734-E-35th-St_Brooklyn_NY_11234_M48443-39863\n",
      "https://www.realtor.com/realestateandhomes-detail/11588-233rd-St_Cambria-Heights_NY_11411_M38026-11008\n",
      "https://www.realtor.com/realestateandhomes-detail/3092-Farragut-Rd_Brooklyn_NY_11210_M38902-34459\n",
      "\n",
      "\n",
      "\n",
      "\n",
      " 89\n"
     ]
    },
    {
     "name": "stdout",
     "output_type": "stream",
     "text": [
      "mmmmmmmmmmmmmmmmmmmm https://www.realtor.com/realestateandhomes-search/Atlanta_GA/shw-nc/price-800000-na/pg-90\n",
      "https://www.realtor.com/realestateandhomes-detail/110-Nehring-Ave_Staten-Island_NY_10314_M45029-33418\n",
      "https://www.realtor.com/realestateandhomes-detail/254-Flagg-Pl_Staten-Island_NY_10304_M35332-78669\n",
      "https://www.realtor.com/realestateandhomes-detail/117-Bathgate-St_Staten-Island_NY_10312_M35358-30423\n",
      "https://www.realtor.com/realestateandhomes-detail/5605-Oceania-St_Oakland-Gardens_NY_11364_M45276-95154\n",
      "https://www.realtor.com/realestateandhomes-detail/2956-Waterbury-Ave_Bronx_NY_10461_M37466-57892\n",
      "https://www.realtor.com/realestateandhomes-detail/2560-Tenbroeck-Ave_Bronx_NY_10469_M35132-06359\n",
      "https://www.realtor.com/realestateandhomes-detail/1836-Richmond-Ter_Staten-Island_NY_10310_M36178-07273\n",
      "https://www.realtor.com/realestateandhomes-detail/2353-100th-St_East-Elmhurst_NY_11369_M41080-51600\n",
      "https://www.realtor.com/realestateandhomes-detail/18138-Midland-Pkwy_Jamaica_NY_11432_M34117-07718\n",
      "https://www.realtor.com/realestateandhomes-detail/2266-56th-Dr_Brooklyn_NY_11234_M30446-10212\n",
      "https://www.realtor.com/realestateandhomes-detail/8127-252nd-St_Bellerose_NY_11426_M31743-58485\n",
      "https://www.realtor.com/realestateandhomes-detail/9056-Shore-Pkwy_Howard-Beach_NY_11414_M45185-10214\n",
      "https://www.realtor.com/realestateandhomes-detail/10846-171st-Pl_Jamaica_NY_11433_M33138-25312\n",
      "https://www.realtor.com/realestateandhomes-detail/273-Gansevoort-Blvd_Staten-Island_NY_10314_M34955-71833\n",
      "https://www.realtor.com/realestateandhomes-detail/224-Mill-Rd_Staten-Island_NY_10306_M42331-79782\n",
      "https://www.realtor.com/realestateandhomes-detail/32-Walker-St_Staten-Island_NY_10302_M42414-29006\n",
      "https://www.realtor.com/realestateandhomes-detail/42-Greenway-Ave_Staten-Island_NY_10314_M94819-89599\n",
      "https://www.realtor.com/realestateandhomes-detail/187-Fenimore-St_Brooklyn_NY_11225_M47776-45198\n",
      "https://www.realtor.com/realestateandhomes-detail/2158-Hughes-Ave_Bronx_NY_10457_M49371-08979\n",
      "https://www.realtor.com/realestateandhomes-detail/4035-172nd-St_Flushing_NY_11358_M33551-34869\n",
      "https://www.realtor.com/realestateandhomes-detail/83-Ocean-Ter_Staten-Island_NY_10314_M31558-10012\n",
      "https://www.realtor.com/realestateandhomes-detail/1666-Arthur-Kill-Rd_Staten-Island_NY_10312_M34980-44684\n",
      "https://www.realtor.com/realestateandhomes-detail/97-Utica-Ave_Brooklyn_NY_11213_M37277-84695\n",
      "https://www.realtor.com/realestateandhomes-detail/11147-133rd-St_South-Ozone-Park_NY_11420_M48596-15690\n",
      "https://www.realtor.com/realestateandhomes-detail/33-Virginia-Ave_Staten-Island_NY_10305_M46305-76272\n",
      "https://www.realtor.com/realestateandhomes-detail/1919-E-16th-St_Brooklyn_NY_11229_M45965-56685\n",
      "https://www.realtor.com/realestateandhomes-detail/Jamaica_NY_11436_M30427-72962\n",
      "https://www.realtor.com/realestateandhomes-detail/10010-23rd-Ave_East-Elmhurst_NY_11369_M41260-66274\n",
      "https://www.realtor.com/realestateandhomes-detail/771-E-223rd-St_Bronx_NY_10466_M46051-64782\n",
      "https://www.realtor.com/realestateandhomes-detail/9071-178th-St_Jamaica_NY_11432_M44459-43123\n",
      "https://www.realtor.com/realestateandhomes-detail/10929-192nd-St_Saint-Albans_NY_11412_M44059-95256\n",
      "https://www.realtor.com/realestateandhomes-detail/885-Olympia-Blvd_Staten-Island_NY_10305_M48322-21584\n",
      "https://www.realtor.com/realestateandhomes-detail/70-Area-Pl_Staten-Island_NY_10314_M49859-09632\n",
      "https://www.realtor.com/realestateandhomes-detail/2307-Avenue-M_Brooklyn_NY_11210_M38878-07098\n",
      "https://www.realtor.com/realestateandhomes-detail/44-Anderson-St_Staten-Island_NY_10305_M35378-45933\n",
      "https://www.realtor.com/realestateandhomes-detail/8416-102nd-St_Richmond-Hill_NY_11418_M46446-37608\n",
      "https://www.realtor.com/realestateandhomes-detail/8536-65th-Dr_Rego-Park_NY_11374_M38511-58565\n",
      "https://www.realtor.com/realestateandhomes-detail/23-Melrose-Pl_Staten-Island_NY_10308_M41673-94021\n",
      "https://www.realtor.com/realestateandhomes-detail/1908-Gerritsen-Ave_Brooklyn_NY_11229_M49701-55982\n",
      "https://www.realtor.com/realestateandhomes-detail/230-Weed-Ave_Staten-Island_NY_10306_M32367-43415\n",
      "https://www.realtor.com/realestateandhomes-detail/13203-155th-St_Jamaica_NY_11434_M34562-46817\n",
      "https://www.realtor.com/realestateandhomes-detail/1978-E-27th-St_Brooklyn_NY_11229_M38131-65341\n",
      "\n",
      "\n",
      "\n",
      "\n",
      " 90\n"
     ]
    },
    {
     "name": "stdout",
     "output_type": "stream",
     "text": [
      "mmmmmmmmmmmmmmmmmmmm https://www.realtor.com/realestateandhomes-search/Atlanta_GA/shw-nc/price-800000-na/pg-91\n",
      "https://www.realtor.com/realestateandhomes-detail/10207-Russell-St_Howard-Beach_NY_11414_M41027-17495\n",
      "https://www.realtor.com/realestateandhomes-detail/38-Milbank-Rd_Staten-Island_NY_10306_M39496-78161\n",
      "https://www.realtor.com/realestateandhomes-detail/13203-155th-St_Jamaica_NY_11434_M34562-46817\n",
      "https://www.realtor.com/realestateandhomes-detail/21021-89th-Ave_Queens-Village_NY_11427_M30514-66076\n",
      "https://www.realtor.com/realestateandhomes-detail/1154-Arthur-Kill-Rd_Staten-Island_NY_10312_M33839-21143\n",
      "https://www.realtor.com/realestateandhomes-detail/10323-107th-St_Ozone-Park_NY_11417_M38512-22244\n",
      "https://www.realtor.com/realestateandhomes-detail/20811-34th-Ave_Bayside_NY_11361_M39381-20125\n",
      "https://www.realtor.com/realestateandhomes-detail/189-33rd-St_Brooklyn_NY_11232_M45421-59262\n",
      "https://www.realtor.com/realestateandhomes-detail/12-Harris-Ln_Staten-Island_NY_10309_M99642-22094\n",
      "https://www.realtor.com/realestateandhomes-detail/11930-144th-St_Jamaica_NY_11436_M45832-17556\n",
      "https://www.realtor.com/realestateandhomes-detail/7207-57th-Dr_Maspeth_NY_11378_M49205-75465\n",
      "https://www.realtor.com/realestateandhomes-detail/621-W-254th-St_Bronx_NY_10471_M47974-79790\n",
      "https://www.realtor.com/realestateandhomes-detail/14705-17th-Ave_Whitestone_NY_11357_M32983-85839\n",
      "https://www.realtor.com/realestateandhomes-detail/632-Wilson-Ave_Staten-Island_NY_10312_M36429-21370\n",
      "https://www.realtor.com/realestateandhomes-detail/179-Amboy-St_Brooklyn_NY_11212_M30744-94349\n",
      "https://www.realtor.com/realestateandhomes-detail/5311-Beverley-Rd_Brooklyn_NY_11203_M44698-77151\n",
      "https://www.realtor.com/realestateandhomes-detail/17201-Victoria-Dr_Jamaica_NY_11434_M42666-98312\n",
      "https://www.realtor.com/realestateandhomes-detail/10523-Flatlands-3rd-St_Brooklyn_NY_11236_M31329-14049\n",
      "https://www.realtor.com/realestateandhomes-detail/83-Palmer-Ave_Staten-Island_NY_10302_M42686-91077\n",
      "https://www.realtor.com/realestateandhomes-detail/322-Winchester-Ave_Staten-Island_NY_10312_M46159-71171\n",
      "https://www.realtor.com/realestateandhomes-detail/519-Fairview-Ave_Ridgewood_NY_11385_M91524-47855\n",
      "https://www.realtor.com/realestateandhomes-detail/265-Milton-Ave_Staten-Island_NY_10306_M38652-97398\n",
      "https://www.realtor.com/realestateandhomes-detail/5353-64th-St_Maspeth_NY_11378_M44500-07739\n",
      "https://www.realtor.com/realestateandhomes-detail/4201-Avenue-I_Brooklyn_NY_11210_M40640-78155\n",
      "https://www.realtor.com/realestateandhomes-detail/412-7th-Ave-Apt-2R_Brooklyn_NY_11215_M40210-22998\n",
      "https://www.realtor.com/realestateandhomes-detail/294-Locust-Ave_Staten-Island_NY_10306_M44948-90272\n",
      "https://www.realtor.com/realestateandhomes-detail/8234-210th-St_Queens-Village_NY_11427_M31657-41125\n",
      "https://www.realtor.com/realestateandhomes-detail/281-Huntington-Ave_Bronx_NY_10465_M43027-74404\n",
      "https://www.realtor.com/realestateandhomes-detail/347-Clarke-Ave_Staten-Island_NY_10306_M30348-07496\n",
      "https://www.realtor.com/realestateandhomes-detail/212D-Beach-117th-St_Rockaway-Park_NY_11694_M98641-05821\n",
      "https://www.realtor.com/realestateandhomes-detail/2775-Cross-Bronx-Expy_Bronx_NY_10465_M37906-57598\n",
      "https://www.realtor.com/realestateandhomes-detail/6218-Amboy-Rd_Staten-Island_NY_10309_M49239-99376\n",
      "https://www.realtor.com/realestateandhomes-detail/15149-27th-Ave_Flushing_NY_11354_M45927-96830\n",
      "https://www.realtor.com/realestateandhomes-detail/524-W-19th-St-Apt-6_New-York_NY_10011_M47122-19164\n",
      "https://www.realtor.com/realestateandhomes-detail/NY_11231_M93892-75566\n",
      "https://www.realtor.com/realestateandhomes-detail/236-Nelson-Ave_Staten-Island_NY_10308_M45963-32019\n",
      "https://www.realtor.com/realestateandhomes-detail/6136-Amboy-Rd_Staten-Island_NY_10309_M36584-12629\n",
      "https://www.realtor.com/realestateandhomes-detail/15462-20th-Rd_Whitestone_NY_11357_M39696-57262\n",
      "https://www.realtor.com/realestateandhomes-detail/4429-Ketcham-St_Elmhurst_NY_11373_M38278-86244\n",
      "https://www.realtor.com/realestateandhomes-detail/11418-157th-St_Jamaica_NY_11434_M49443-66880\n",
      "https://www.realtor.com/realestateandhomes-detail/8738-114th-St_Richmond-Hill_NY_11418_M32852-69450\n",
      "https://www.realtor.com/realestateandhomes-detail/9426-54th-Ave_Elmhurst_NY_11373_M43978-86505\n",
      "\n",
      "\n",
      "\n",
      "\n",
      " 91\n"
     ]
    },
    {
     "name": "stdout",
     "output_type": "stream",
     "text": [
      "mmmmmmmmmmmmmmmmmmmm https://www.realtor.com/realestateandhomes-search/Atlanta_GA/shw-nc/price-800000-na/pg-92\n",
      "https://www.realtor.com/realestateandhomes-detail/61-Cranford-St_Staten-Island_NY_10308_M39923-62890\n",
      "https://www.realtor.com/realestateandhomes-detail/2207-160th-St_Whitestone_NY_11357_M48535-54853\n",
      "https://www.realtor.com/realestateandhomes-detail/471-Lincoln-Ave_Staten-Island_NY_10306_M42142-40306\n",
      "https://www.realtor.com/realestateandhomes-detail/8518-212th-St_Queens-Village_NY_11427_M39261-52682\n",
      "https://www.realtor.com/realestateandhomes-detail/61-Thornycroft-Ave_Staten-Island_NY_10312_M41610-01949\n",
      "https://www.realtor.com/realestateandhomes-detail/14427-69th-Ave_Flushing_NY_11367_M31983-79793\n",
      "https://www.realtor.com/realestateandhomes-detail/25-Ledyard-Pl_Staten-Island_NY_10305_M31899-48764\n",
      "https://www.realtor.com/realestateandhomes-detail/234-Betts-Ave_Bronx_NY_10473_M39189-92058\n",
      "https://www.realtor.com/realestateandhomes-detail/2181-E-72nd-St_Brooklyn_NY_11234_M94372-59918\n",
      "https://www.realtor.com/realestateandhomes-detail/1632-W-4th-St_Brooklyn_NY_11223_M35250-38372\n",
      "https://www.realtor.com/realestateandhomes-detail/11462-201st-St_Saint-Albans_NY_11412_M36586-40077\n",
      "https://www.realtor.com/realestateandhomes-detail/11056-68th-Ave_Forest-Hills_NY_11375_M30473-65599\n",
      "https://www.realtor.com/realestateandhomes-detail/184-73rd-St_Brooklyn_NY_11209_M49400-06612\n",
      "https://www.realtor.com/realestateandhomes-detail/369-Cromwell-Ave_Staten-Island_NY_10305_M44155-15741\n",
      "https://www.realtor.com/realestateandhomes-detail/115-Cloverdale-Ave_Staten-Island_NY_10308_M41443-45999\n",
      "https://www.realtor.com/realestateandhomes-detail/NY_10021_M95921-79834\n",
      "https://www.realtor.com/realestateandhomes-detail/21-Francis-Pl_Staten-Island_NY_10304_M33536-19560\n",
      "https://www.realtor.com/realestateandhomes-detail/111-Faber-St_Staten-Island_NY_10302_M44408-96996\n",
      "https://www.realtor.com/realestateandhomes-detail/299-Brookfield-Ave_Staten-Island_NY_10308_M35983-01441\n",
      "https://www.realtor.com/realestateandhomes-detail/340-Bartlett-Ave_Staten-Island_NY_10312_M32850-17332\n",
      "https://www.realtor.com/realestateandhomes-detail/109-8th-St_Staten-Island_NY_10306_M34644-01058\n",
      "https://www.realtor.com/realestateandhomes-detail/606-W-113th-St-Apt-3A_New-York_NY_10025_M43203-46197\n",
      "https://www.realtor.com/realestateandhomes-detail/39-Eltingville-Blvd_Staten-Island_NY_10312_M98943-70811\n",
      "https://www.realtor.com/realestateandhomes-detail/328-Natick-St_Staten-Island_NY_10306_M45387-03648\n",
      "https://www.realtor.com/realestateandhomes-detail/88-Ann-St_Staten-Island_NY_10302_M46877-64972\n",
      "https://www.realtor.com/realestateandhomes-detail/6269-Booth-St_Rego-Park_NY_11374_M45917-29416\n",
      "https://www.realtor.com/realestateandhomes-detail/134-Cromwell-Ave_Staten-Island_NY_10304_M48197-19823\n",
      "https://www.realtor.com/realestateandhomes-detail/51-Osage-Ln_Staten-Island_NY_10312_M48343-05328\n",
      "https://www.realtor.com/realestateandhomes-detail/20526-116th-Rd_Saint-Albans_NY_11412_M48328-02095\n",
      "https://www.realtor.com/realestateandhomes-detail/371-Eldert-Ln_Brooklyn_NY_11208_M47714-44531\n",
      "https://www.realtor.com/realestateandhomes-detail/6451-Austin-St_Rego-Park_NY_11374_M35162-86806\n",
      "https://www.realtor.com/realestateandhomes-detail/154-Decker-Ave_Staten-Island_NY_10302_M30647-97134\n",
      "https://www.realtor.com/realestateandhomes-detail/13109-135th-St_South-Ozone-Park_NY_11420_M33581-04772\n",
      "https://www.realtor.com/realestateandhomes-detail/637-E-241st-St_Bronx_NY_10470_M43062-14243\n",
      "https://www.realtor.com/realestateandhomes-detail/15404-Willets-Point-Blvd_Whitestone_NY_11357_M46629-02291\n",
      "https://www.realtor.com/realestateandhomes-detail/1537-E-28th-St_Brooklyn_NY_11229_M46035-36789\n",
      "https://www.realtor.com/realestateandhomes-detail/196-Wiman-Ave_Staten-Island_NY_10308_M45582-01959\n",
      "https://www.realtor.com/realestateandhomes-detail/360-E-9th-St_Brooklyn_NY_11218_M42789-81399\n",
      "https://www.realtor.com/realestateandhomes-detail/3630-212th-St_Bayside_NY_11361_M49242-64793\n",
      "https://www.realtor.com/realestateandhomes-detail/5644-220th-St_Oakland-Gardens_NY_11364_M36268-27038\n",
      "https://www.realtor.com/realestateandhomes-detail/22114-114th-Rd_Cambria-Heights_NY_11411_M41582-15930\n",
      "https://www.realtor.com/realestateandhomes-detail/4253-Byron-Ave_Bronx_NY_10466_M41171-26851\n",
      "\n",
      "\n",
      "\n",
      "\n",
      " 92\n"
     ]
    },
    {
     "name": "stdout",
     "output_type": "stream",
     "text": [
      "mmmmmmmmmmmmmmmmmmmm https://www.realtor.com/realestateandhomes-search/Atlanta_GA/shw-nc/price-800000-na/pg-93\n",
      "https://www.realtor.com/realestateandhomes-detail/29-Lake-Ave_Staten-Island_NY_10303_M33791-72625\n",
      "https://www.realtor.com/realestateandhomes-detail/5644-220th-St_Oakland-Gardens_NY_11364_M36268-27038\n",
      "https://www.realtor.com/realestateandhomes-detail/8227-Little-Neck-Pkwy_Glen-Oaks_NY_11004_M49176-43957\n",
      "https://www.realtor.com/realestateandhomes-detail/39-Alberta-Ave_Staten-Island_NY_10314_M36135-08237\n",
      "https://www.realtor.com/realestateandhomes-detail/267-Robinson-Ave_Bronx_NY_10465_M41782-15177\n",
      "https://www.realtor.com/realestateandhomes-detail/11930-203rd-St_Saint-Albans_NY_11412_M37540-32666\n",
      "https://www.realtor.com/realestateandhomes-detail/134-Kelly-Blvd_Staten-Island_NY_10314_M37958-56426\n",
      "https://www.realtor.com/realestateandhomes-detail/2936133-31-99th-St_Queens_NY_11374_M44119-53891\n",
      "https://www.realtor.com/realestateandhomes-detail/7122-66th-Dr_Middle-Village_NY_11379_M34139-17262\n",
      "https://www.realtor.com/realestateandhomes-detail/16115-99th-St_Howard-Beach_NY_11414_M46916-27332\n",
      "https://www.realtor.com/realestateandhomes-detail/190-Vanderbilt-Ave_Staten-Island_NY_10304_M38096-94686\n",
      "https://www.realtor.com/realestateandhomes-detail/1981-Cornell-Ave_Bronx_NY_10473_M42290-15657\n",
      "https://www.realtor.com/realestateandhomes-detail/8716-Avenue-L_Brooklyn_NY_11236_M47407-19724\n",
      "https://www.realtor.com/realestateandhomes-detail/53-Willis-Ave_Staten-Island_NY_10301_M30860-72927\n",
      "https://www.realtor.com/realestateandhomes-detail/40A-Country-Dr-N_Staten-Island_NY_10314_M97329-19919\n",
      "https://www.realtor.com/realestateandhomes-detail/78-Stack-Dr_Staten-Island_NY_10312_M41876-35726\n",
      "https://www.realtor.com/realestateandhomes-detail/280-Oldfield-St_Staten-Island_NY_10306_M38310-42996\n",
      "https://www.realtor.com/realestateandhomes-detail/476-Cortelyou-Ave_Staten-Island_NY_10312_M39759-41204\n",
      "https://www.realtor.com/realestateandhomes-detail/8213-258th-St_Glen-Oaks_NY_11004_M46731-36914\n",
      "https://www.realtor.com/realestateandhomes-detail/15-Petrus-Ave_Staten-Island_NY_10312_M46514-59018\n",
      "https://www.realtor.com/realestateandhomes-detail/8645-261st-St_Floral-Park_NY_11001_M49843-12729\n",
      "https://www.realtor.com/realestateandhomes-detail/1505-Egmont-Pl_Far-Rockaway_NY_11691_M39306-50489\n",
      "https://www.realtor.com/realestateandhomes-detail/205-Noel-St_Staten-Island_NY_10312_M32122-64766\n",
      "https://www.realtor.com/realestateandhomes-detail/26305-81st-Ave_Glen-Oaks_NY_11004_M41766-06778\n",
      "https://www.realtor.com/realestateandhomes-detail/235-Father-Capodanno-Blvd_Staten-Island_NY_10305_M34717-80418\n",
      "https://www.realtor.com/realestateandhomes-detail/96-Highland-Ave_Staten-Island_NY_10301_M32410-01882\n",
      "https://www.realtor.com/realestateandhomes-detail/151-Clinton-Pl_Staten-Island_NY_10302_M30039-29254\n",
      "https://www.realtor.com/realestateandhomes-detail/4069-Grace-Ave_Bronx_NY_10466_M31253-97365\n",
      "https://www.realtor.com/realestateandhomes-detail/3035-92nd-St_East-Elmhurst_NY_11369_M44314-48597\n",
      "https://www.realtor.com/realestateandhomes-detail/532-Seagirt-Blvd_Far-Rockaway_NY_11691_M48669-67443\n",
      "https://www.realtor.com/realestateandhomes-detail/10540-92nd-St_Ozone-Park_NY_11417_M47264-90584\n",
      "https://www.realtor.com/realestateandhomes-detail/3921-221st-St_Bayside_NY_11361_M48999-03016\n",
      "https://www.realtor.com/realestateandhomes-detail/3937-Little-Neck-Pkwy_Little-Neck_NY_11363_M38892-84070\n",
      "https://www.realtor.com/realestateandhomes-detail/116-Coursen-Pl_Staten-Island_NY_10304_M45180-86135\n",
      "https://www.realtor.com/realestateandhomes-detail/5817-80th-St_Middle-Village_NY_11379_M37783-95146\n",
      "https://www.realtor.com/realestateandhomes-detail/190-Utter-Ave_Staten-Island_NY_10314_M37135-14437\n",
      "https://www.realtor.com/realestateandhomes-detail/97-Delafield-Ave_Staten-Island_NY_10301_M36714-83529\n",
      "https://www.realtor.com/realestateandhomes-detail/801-E-51st-St_Brooklyn_NY_11203_M35559-82922\n",
      "https://www.realtor.com/realestateandhomes-detail/23-Bevy-Ct_Brooklyn_NY_11229_M33962-42200\n",
      "https://www.realtor.com/realestateandhomes-detail/150-Calhoun-Ave_Bronx_NY_10465_M41580-62525\n",
      "https://www.realtor.com/realestateandhomes-detail/99-E-4th-St-Apt-6M_New-York_NY_10003_M38127-23530\n",
      "https://www.realtor.com/realestateandhomes-detail/480-Huguenot-Ave_Staten-Island_NY_10312_M38958-88885\n",
      "\n",
      "\n",
      "\n",
      "\n",
      " 93\n"
     ]
    },
    {
     "name": "stdout",
     "output_type": "stream",
     "text": [
      "mmmmmmmmmmmmmmmmmmmm https://www.realtor.com/realestateandhomes-search/Atlanta_GA/shw-nc/price-800000-na/pg-94\n",
      "https://www.realtor.com/realestateandhomes-detail/2544-82nd-St_East-Elmhurst_NY_11370_M33101-39835\n",
      "https://www.realtor.com/realestateandhomes-detail/285-Calhoun-Ave_Bronx_NY_10465_M41627-58034\n",
      "https://www.realtor.com/realestateandhomes-detail/10731-121st-St_South-Richmond-Hill_NY_11419_M44652-90444\n",
      "https://www.realtor.com/realestateandhomes-detail/230-Grasmere-Dr_Staten-Island_NY_10305_M33038-70750\n",
      "https://www.realtor.com/realestateandhomes-detail/572-Christopher-Ave_Brooklyn_NY_11212_M35589-50379\n",
      "https://www.realtor.com/realestateandhomes-detail/171-E-73rd-St_New-York_NY_10021_M48622-70192\n",
      "https://www.realtor.com/realestateandhomes-detail/11639-192nd-St_Saint-Albans_NY_11412_M46902-22599\n",
      "https://www.realtor.com/realestateandhomes-detail/16-Tacoma-St_Staten-Island_NY_10304_M46484-01987\n",
      "https://www.realtor.com/realestateandhomes-detail/16212-76th-Ave_Fresh-Meadows_NY_11366_M40077-40151\n",
      "https://www.realtor.com/realestateandhomes-detail/18-Sweetgum-Ln_Staten-Island_NY_10314_M42512-66205\n",
      "https://www.realtor.com/realestateandhomes-detail/110-Husson-Ave_Bronx_NY_10473_M39309-72095\n",
      "https://www.realtor.com/realestateandhomes-detail/2819-157th-St_Flushing_NY_11354_M42964-79578\n",
      "https://www.realtor.com/realestateandhomes-detail/436-Ashland-Ave_Staten-Island_NY_10309_M34382-69409\n",
      "https://www.realtor.com/realestateandhomes-detail/63-Gregg-Pl_Staten-Island_NY_10301_M49358-79692\n",
      "https://www.realtor.com/realestateandhomes-detail/343-E-74th-St-Apt-11M_New-York_NY_10021_M38515-06004\n",
      "https://www.realtor.com/realestateandhomes-detail/5859-78th-Ave_Ridgewood_NY_11385_M38873-00752\n",
      "https://www.realtor.com/realestateandhomes-detail/127-Winthrop-St_Brooklyn_NY_11225_M42323-73077\n",
      "https://www.realtor.com/realestateandhomes-detail/514-Kissel-Ave_Staten-Island_NY_10301_M37262-64464\n",
      "https://www.realtor.com/realestateandhomes-detail/14519-106th-Ave_Jamaica_NY_11435_M41058-11791\n",
      "https://www.realtor.com/realestateandhomes-detail/272-Seaview-Ave_Staten-Island_NY_10305_M43315-18307\n",
      "https://www.realtor.com/realestateandhomes-detail/8936-90th-St_Woodhaven_NY_11421_M33915-95482\n",
      "https://www.realtor.com/realestateandhomes-detail/NY_11217_M94289-81494\n",
      "https://www.realtor.com/realestateandhomes-detail/112-Ramona-Ave_Staten-Island_NY_10312_M30602-19720\n",
      "https://www.realtor.com/realestateandhomes-detail/45-78th-St_Brooklyn_NY_11209_M45506-66505\n",
      "https://www.realtor.com/realestateandhomes-detail/6623-Booth-St_Rego-Park_NY_11374_M43658-81358\n",
      "https://www.realtor.com/realestateandhomes-detail/22706-56th-Ave_Oakland-Gardens_NY_11364_M48610-16265\n",
      "https://www.realtor.com/realestateandhomes-detail/23319-40th-Ave_Little-Neck_NY_11363_M37796-80562\n",
      "https://www.realtor.com/realestateandhomes-detail/6-Center-Pl_Staten-Island_NY_10306_M40325-84214\n",
      "https://www.realtor.com/realestateandhomes-detail/22-Kermit-Ave_Staten-Island_NY_10305_M39532-29798\n",
      "https://www.realtor.com/realestateandhomes-detail/606-68th-St_Brooklyn_NY_11220_M41941-75486\n",
      "https://www.realtor.com/realestateandhomes-detail/14536-159th-St_Jamaica_NY_11434_M39053-33616\n",
      "https://www.realtor.com/realestateandhomes-detail/158-Davis-Ave_Staten-Island_NY_10310_M47429-22939\n",
      "https://www.realtor.com/realestateandhomes-detail/540-Pelton-Ave_Staten-Island_NY_10310_M37407-86810\n",
      "https://www.realtor.com/realestateandhomes-detail/18620-Troon-Rd_Jamaica_NY_11432_M40992-27092\n",
      "https://www.realtor.com/realestateandhomes-detail/2607-160th-St_Flushing_NY_11358_M34861-20285\n",
      "https://www.realtor.com/realestateandhomes-detail/16-Howe-St_Staten-Island_NY_10310_M46131-19363\n",
      "https://www.realtor.com/realestateandhomes-detail/154-Summit-Pl_Bronx_NY_10463_M35289-66703\n",
      "https://www.realtor.com/realestateandhomes-detail/1615-Bayview-Ave_Bronx_NY_10465_M42979-70246\n",
      "https://www.realtor.com/realestateandhomes-detail/5718-73rd-Pl_Maspeth_NY_11378_M38208-41055\n",
      "https://www.realtor.com/realestateandhomes-detail/133-Northfield-Ave_Staten-Island_NY_10303_M37454-94914\n",
      "https://www.realtor.com/realestateandhomes-detail/81-Carlyle-Grn_Staten-Island_NY_10312_M45334-08735\n",
      "https://www.realtor.com/realestateandhomes-detail/1911-Batchelder-St_Brooklyn_NY_11229_M49165-22068\n",
      "\n",
      "\n",
      "\n",
      "\n",
      " 94\n"
     ]
    },
    {
     "name": "stdout",
     "output_type": "stream",
     "text": [
      "mmmmmmmmmmmmmmmmmmmm https://www.realtor.com/realestateandhomes-search/Atlanta_GA/shw-nc/price-800000-na/pg-95\n",
      "https://www.realtor.com/realestateandhomes-detail/81-Carlyle-Grn_Staten-Island_NY_10312_M45334-08735\n",
      "https://www.realtor.com/realestateandhomes-detail/1245-Bay-St_Staten-Island_NY_10305_M34377-12346\n",
      "https://www.realtor.com/realestateandhomes-detail/10535-86th-St_Ozone-Park_NY_11417_M30629-52210\n",
      "https://www.realtor.com/realestateandhomes-detail/48-Ashton-Dr_Staten-Island_NY_10312_M45711-78731\n",
      "https://www.realtor.com/realestateandhomes-detail/197-Johnson-Ave_Staten-Island_NY_10307_M42732-02182\n",
      "https://www.realtor.com/realestateandhomes-detail/11755-140th-St_Jamaica_NY_11436_M44933-32103\n",
      "https://www.realtor.com/realestateandhomes-detail/3163-Layton-Ave_Bronx_NY_10465_M42675-75758\n",
      "https://www.realtor.com/realestateandhomes-detail/6940-168th-St_Fresh-Meadows_NY_11365_M46523-85072\n",
      "https://www.realtor.com/realestateandhomes-detail/62-Saint-Marys-Ave_Staten-Island_NY_10305_M38706-28843\n",
      "https://www.realtor.com/realestateandhomes-detail/555-E-17th-St_Brooklyn_NY_11226_M37867-97501\n",
      "https://www.realtor.com/realestateandhomes-detail/1237-E-224th-St_Bronx_NY_10466_M37070-89685\n",
      "https://www.realtor.com/realestateandhomes-detail/3013-Brighton-5th-St_Brooklyn_NY_11235_M43100-89014\n",
      "https://www.realtor.com/realestateandhomes-detail/3812-211th-St_Bayside_NY_11361_M39654-12093\n",
      "https://www.realtor.com/realestateandhomes-detail/13344-122nd-St_South-Ozone-Park_NY_11420_M41554-33580\n",
      "https://www.realtor.com/realestateandhomes-detail/126-Waldron-Ave_Staten-Island_NY_10301_M32737-68092\n",
      "https://www.realtor.com/realestateandhomes-detail/4740-Glenwood-St_Little-Neck_NY_11362_M40816-24972\n",
      "https://www.realtor.com/realestateandhomes-detail/10564-Flatlands-2nd-St_Brooklyn_NY_11236_M30161-59851\n",
      "https://www.realtor.com/realestateandhomes-detail/10755-166th-St_Jamaica_NY_11433_M43838-52988\n",
      "https://www.realtor.com/realestateandhomes-detail/11852-227th-St_Cambria-Heights_NY_11411_M40080-98564\n",
      "https://www.realtor.com/realestateandhomes-detail/3543-161st-St_Flushing_NY_11358_M49892-52225\n",
      "https://www.realtor.com/realestateandhomes-detail/120-Essex-St_Brooklyn_NY_11208_M44716-91810\n",
      "https://www.realtor.com/realestateandhomes-detail/14424-Jewel-Ave_Flushing_NY_11367_M42768-32202\n",
      "https://www.realtor.com/realestateandhomes-detail/557-Drew-St_Brooklyn_NY_11208_M41009-18428\n",
      "https://www.realtor.com/realestateandhomes-detail/9971-163rd-Rd_Howard-Beach_NY_11414_M34098-15286\n",
      "https://www.realtor.com/realestateandhomes-detail/3033-Hylan-Blvd_Staten-Island_NY_10306_M34062-94007\n",
      "https://www.realtor.com/realestateandhomes-detail/10454-124th-St_S-Richmond-Hl_NY_11419_M30444-82823\n",
      "https://www.realtor.com/realestateandhomes-detail/1556-W-1st-St_Brooklyn_NY_11204_M33139-81680\n",
      "https://www.realtor.com/realestateandhomes-detail/66-Olympia-Blvd_Staten-Island_NY_10305_M33000-34284\n",
      "https://www.realtor.com/realestateandhomes-detail/197-Wiman-Ave_Staten-Island_NY_10308_M44371-44508\n",
      "https://www.realtor.com/realestateandhomes-detail/6635-16th-Ave_Brooklyn_NY_11204_M48177-95139\n",
      "https://www.realtor.com/realestateandhomes-detail/44-Douglas-Rd_Staten-Island_NY_10304_M41803-51900\n",
      "https://www.realtor.com/realestateandhomes-detail/NY_11215_M93138-60072\n",
      "https://www.realtor.com/realestateandhomes-detail/NY_11106_M91605-15168\n",
      "https://www.realtor.com/realestateandhomes-detail/7610-Amboy-Rd_Staten-Island_NY_10307_M41156-52446\n",
      "https://www.realtor.com/realestateandhomes-detail/14553-221st-St_Springfield-Gardens_NY_11413_M43660-77134\n",
      "https://www.realtor.com/realestateandhomes-detail/1324-139th-St_Whitestone_NY_11357_M30685-90739\n",
      "https://www.realtor.com/realestateandhomes-detail/43-78th-St_Brooklyn_NY_11209_M30686-11405\n",
      "https://www.realtor.com/realestateandhomes-detail/60-E-8th-St-Apt-10E_New-York_NY_10003_M32437-06062\n",
      "https://www.realtor.com/realestateandhomes-detail/6425-Pleasantview-St_Middle-Village_NY_11379_M47115-34346\n",
      "https://www.realtor.com/realestateandhomes-detail/9311-210th-St_Queens-Village_NY_11428_M35177-86187\n",
      "https://www.realtor.com/realestateandhomes-detail/9220-91st-Ave_Woodhaven_NY_11421_M34958-65589\n",
      "https://www.realtor.com/realestateandhomes-detail/13801-15th-Ave_Whitestone_NY_11357_M30915-01070\n",
      "\n",
      "\n",
      "\n",
      "\n",
      " 95\n"
     ]
    },
    {
     "name": "stdout",
     "output_type": "stream",
     "text": [
      "mmmmmmmmmmmmmmmmmmmm https://www.realtor.com/realestateandhomes-search/Atlanta_GA/shw-nc/price-800000-na/pg-96\n",
      "https://www.realtor.com/realestateandhomes-detail/13801-15th-Ave_Whitestone_NY_11357_M30915-01070\n",
      "https://www.realtor.com/realestateandhomes-detail/5805-Van-Horn-St_Elmhurst_NY_11373_M43874-32445\n",
      "https://www.realtor.com/realestateandhomes-detail/43-78th-St_Brooklyn_NY_11209_M30686-11405\n",
      "https://www.realtor.com/realestateandhomes-detail/NY_11201_M90025-40679\n",
      "https://www.realtor.com/realestateandhomes-detail/780-Barlow-Ave_Staten-Island_NY_10312_M45759-60144\n",
      "https://www.realtor.com/realestateandhomes-detail/15443-25th-Dr_Flushing_NY_11354_M46137-40289\n",
      "https://www.realtor.com/realestateandhomes-detail/11239-177th-St_Jamaica_NY_11433_M35012-26810\n",
      "https://www.realtor.com/realestateandhomes-detail/7325-244th-St_Little-Neck_NY_11362_M47950-58696\n",
      "https://www.realtor.com/realestateandhomes-detail/83-E-37th-St_Brooklyn_NY_11203_M30981-43702\n",
      "https://www.realtor.com/realestateandhomes-detail/6308-77th-St_Middle-Village_NY_11379_M44616-28936\n",
      "https://www.realtor.com/realestateandhomes-detail/2718-Neptune-Ave_Brooklyn_NY_11224_M37857-21160\n",
      "https://www.realtor.com/realestateandhomes-detail/279-Clifton-Ave_Staten-Island_NY_10305_M37697-22391\n",
      "https://www.realtor.com/realestateandhomes-detail/107-Chestnut-Ave_Staten-Island_NY_10305_M46356-44440\n",
      "https://www.realtor.com/realestateandhomes-detail/2712-Heath-Ave_Bronx_NY_10463_M33077-27026\n",
      "https://www.realtor.com/realestateandhomes-detail/8509-Radnor-St_Jamaica_NY_11432_M33139-90120\n",
      "https://www.realtor.com/realestateandhomes-detail/4143-249th-St_Little-Neck_NY_11363_M32040-49291\n",
      "https://www.realtor.com/realestateandhomes-detail/9-Maryland-Ln_Staten-Island_NY_10305_M31663-22156\n",
      "https://www.realtor.com/realestateandhomes-detail/11578-217th-St_Cambria-Heights_NY_11411_M37255-82305\n",
      "https://www.realtor.com/realestateandhomes-detail/88-Hope-Ave_Staten-Island_NY_10305_M36205-01794\n",
      "https://www.realtor.com/realestateandhomes-detail/9817-Flatlands-Ave_Brooklyn_NY_11236_M32043-82606\n",
      "https://www.realtor.com/realestateandhomes-detail/1262-Leland-Ave_Bronx_NY_10472_M32025-83355\n",
      "https://www.realtor.com/realestateandhomes-detail/427-78th-St_Brooklyn_NY_11209_M38807-20271\n",
      "https://www.realtor.com/realestateandhomes-detail/11817-197th-St_Jamaica_NY_11412_M44334-34361\n",
      "https://www.realtor.com/realestateandhomes-detail/69-Eaton-Ct_Brooklyn_NY_11229_M47780-22229\n",
      "https://www.realtor.com/realestateandhomes-detail/61-Cuba-Ave_Staten-Island_NY_10306_M34345-59412\n",
      "https://www.realtor.com/realestateandhomes-detail/278-Cortelyou-Ave_Staten-Island_NY_10312_M43191-21343\n",
      "https://www.realtor.com/realestateandhomes-detail/90-Targee-St_Staten-Island_NY_10304_M45637-92554\n",
      "https://www.realtor.com/realestateandhomes-detail/1921-W-13th-St_Brooklyn_NY_11223_M41287-07448\n",
      "https://www.realtor.com/realestateandhomes-detail/145-E-38th-St_Brooklyn_NY_11203_M40550-58574\n",
      "https://www.realtor.com/realestateandhomes-detail/10915-169th-Pl_Jamaica_NY_11433_M44366-58828\n",
      "https://www.realtor.com/realestateandhomes-detail/8527-Eliot-Ave_Rego-Park_NY_11374_M48039-48289\n",
      "https://www.realtor.com/realestateandhomes-detail/2301-Hylan-Blvd_Staten-Island_NY_10306_M41974-40213\n",
      "https://www.realtor.com/realestateandhomes-detail/59-Pembrook-Loop_Staten-Island_NY_10309_M40991-43633\n",
      "https://www.realtor.com/realestateandhomes-detail/3526-208th-St_Bayside_NY_11361_M44729-52707\n",
      "https://www.realtor.com/realestateandhomes-detail/8560-67th-Ave_Rego-Park_NY_11374_M34088-38944\n",
      "https://www.realtor.com/realestateandhomes-detail/13521-220th-Pl_Springfield-Gardens_NY_11413_M33196-31705\n",
      "https://www.realtor.com/realestateandhomes-detail/2032-79th-St_Brooklyn_NY_11214_M35865-73889\n",
      "https://www.realtor.com/realestateandhomes-detail/9220-77th-St_Woodhaven_NY_11421_M41773-76922\n",
      "https://www.realtor.com/realestateandhomes-detail/305-Aspen-Knolls-Way_Staten-Island_NY_10312_M41861-47014\n",
      "https://www.realtor.com/realestateandhomes-detail/3111-Avenue-R_Brooklyn_NY_11234_M44649-44749\n",
      "https://www.realtor.com/realestateandhomes-detail/6923-Alderton-St_Rego-Park_NY_11374_M32307-19111\n",
      "https://www.realtor.com/realestateandhomes-detail/557-Hunter-Ave_Staten-Island_NY_10306_M43219-40960\n",
      "\n",
      "\n",
      "\n",
      "\n",
      " 96\n"
     ]
    },
    {
     "name": "stdout",
     "output_type": "stream",
     "text": [
      "mmmmmmmmmmmmmmmmmmmm https://www.realtor.com/realestateandhomes-search/Atlanta_GA/shw-nc/price-800000-na/pg-97\n",
      "https://www.realtor.com/realestateandhomes-detail/3111-Avenue-R_Brooklyn_NY_11234_M44649-44749\n",
      "https://www.realtor.com/realestateandhomes-detail/690-Oakland-Ave_Staten-Island_NY_10310_M98975-19109\n",
      "https://www.realtor.com/realestateandhomes-detail/24-Harris-Ln_Staten-Island_NY_10309_M99299-78983\n",
      "https://www.realtor.com/realestateandhomes-detail/49-Mary-St_Staten-Island_NY_10304_M47835-52966\n",
      "https://www.realtor.com/realestateandhomes-detail/794-Patterson-Ave_Staten-Island_NY_10306_M36164-72700\n",
      "https://www.realtor.com/realestateandhomes-detail/23-Jones-St_Staten-Island_NY_10314_M42866-41888\n",
      "https://www.realtor.com/realestateandhomes-detail/274-Morrison-Ave_Staten-Island_NY_10310_M35213-71238\n",
      "https://www.realtor.com/realestateandhomes-detail/1026-Swinton-Ave_Bronx_NY_10465_M36115-28436\n",
      "https://www.realtor.com/realestateandhomes-detail/11517-Linden-Blvd_South-Ozone-Park_NY_11420_M36032-40142\n",
      "https://www.realtor.com/realestateandhomes-detail/7391-Park-Dr-E_Flushing_NY_11367_M40513-35984\n",
      "https://www.realtor.com/realestateandhomes-detail/251-N-Railroad-Ave_Staten-Island_NY_10304_M31390-80752\n",
      "https://www.realtor.com/realestateandhomes-detail/329-Chauncey-St_Brooklyn_NY_11233_M91381-44039\n",
      "https://www.realtor.com/realestateandhomes-detail/250-W-89th-St-Apt-7C_New-York_NY_10024_M45040-38585\n",
      "https://www.realtor.com/realestateandhomes-detail/2235-E-70th-St_Brooklyn_NY_11234_M45746-73353\n",
      "https://www.realtor.com/realestateandhomes-detail/8931-Hollis-Court-Blvd_Queens-Village_NY_11427_M49954-92604\n",
      "https://www.realtor.com/realestateandhomes-detail/109-Burnside-Ave_Staten-Island_NY_10302_M46207-82849\n",
      "https://www.realtor.com/realestateandhomes-detail/1031-N-Railroad-Ave_Staten-Island_NY_10306_M46407-38502\n",
      "https://www.realtor.com/realestateandhomes-detail/16-E-94th-St_New-York_NY_10128_M34769-36600\n",
      "https://www.realtor.com/realestateandhomes-detail/16015-25th-Ave_Whitestone_NY_11357_M34096-23455\n",
      "https://www.realtor.com/realestateandhomes-detail/9121-89th-St_Woodhaven_NY_11421_M45393-03755\n",
      "https://www.realtor.com/realestateandhomes-detail/70-Kell-Ave_Staten-Island_NY_10314_M46492-93221\n",
      "https://www.realtor.com/realestateandhomes-detail/8746-109th-St_Richmond-Hill_NY_11418_M33975-89001\n",
      "https://www.realtor.com/realestateandhomes-detail/5105-Browvale-Ln_Little-Neck_NY_11362_M44077-40458\n",
      "https://www.realtor.com/realestateandhomes-detail/745-Schenck-Ave_Brooklyn_NY_11207_M43869-57221\n",
      "https://www.realtor.com/realestateandhomes-detail/2117-Gerritsen-Ave_Brooklyn_NY_11229_M42863-11417\n",
      "https://www.realtor.com/realestateandhomes-detail/729-Westwood-Ave_Staten-Island_NY_10314_M35204-65483\n",
      "https://www.realtor.com/realestateandhomes-detail/106-Justin-Ave_Staten-Island_NY_10306_M48365-33060\n",
      "https://www.realtor.com/realestateandhomes-detail/310-E-46th-St-Apt-3W_New-York_NY_10017_M41791-84733\n",
      "https://www.realtor.com/realestateandhomes-detail/845-W-Fingerboard-Rd_Staten-Island_NY_10305_M35677-77486\n",
      "https://www.realtor.com/realestateandhomes-detail/11833-191st-St_Saint-Albans_NY_11412_M42297-43795\n",
      "https://www.realtor.com/realestateandhomes-detail/58-Metcalfe-St_Staten-Island_NY_10304_M42644-95736\n",
      "https://www.realtor.com/realestateandhomes-detail/13606-59th-Ave_Flushing_NY_11355_M44010-50961\n",
      "https://www.realtor.com/realestateandhomes-detail/3-Locust-Ave_Staten-Island_NY_10306_M43731-05173\n",
      "https://www.realtor.com/realestateandhomes-detail/7645-167th-St_Fresh-Meadows_NY_11366_M46360-17099\n",
      "https://www.realtor.com/realestateandhomes-detail/13723-249th-St_Rosedale_NY_11422_M49791-76419\n",
      "https://www.realtor.com/realestateandhomes-detail/10435-205th-St_Saint-Albans_NY_11412_M43215-50630\n",
      "https://www.realtor.com/realestateandhomes-detail/27-Tompkins-Cir_Staten-Island_NY_10301_M46462-35488\n",
      "https://www.realtor.com/realestateandhomes-detail/1434-165th-St_Whitestone_NY_11357_M42085-47697\n",
      "https://www.realtor.com/realestateandhomes-detail/19124-114th-Dr_Saint-Albans_NY_11412_M48347-86116\n",
      "https://www.realtor.com/realestateandhomes-detail/5847-196th-Pl_Fresh-Meadows_NY_11365_M48168-85869\n",
      "https://www.realtor.com/realestateandhomes-detail/566-E-32nd-St_Brooklyn_NY_11210_M48481-80181\n",
      "https://www.realtor.com/realestateandhomes-detail/15-Schuyler-Ter_Bronx_NY_10465_M39618-28296\n",
      "\n",
      "\n",
      "\n",
      "\n",
      " 97\n"
     ]
    },
    {
     "name": "stdout",
     "output_type": "stream",
     "text": [
      "mmmmmmmmmmmmmmmmmmmm https://www.realtor.com/realestateandhomes-search/Atlanta_GA/shw-nc/price-800000-na/pg-98\n",
      "https://www.realtor.com/realestateandhomes-detail/15-Schuyler-Ter_Bronx_NY_10465_M39618-28296\n",
      "https://www.realtor.com/realestateandhomes-detail/368-Grimsby-St_Staten-Island_NY_10306_M30463-14449\n",
      "https://www.realtor.com/realestateandhomes-detail/1800-Grand-Concourse_Bronx_NY_10457_M96387-85183\n",
      "https://www.realtor.com/realestateandhomes-detail/13506-228th-St_Springfield-Gardens_NY_11413_M33271-59425\n",
      "https://www.realtor.com/realestateandhomes-detail/2447-95th-St_East-Elmhurst_NY_11369_M37198-26383\n",
      "https://www.realtor.com/realestateandhomes-detail/1462-Arnow-Ave_Bronx_NY_10469_M43834-43797\n",
      "https://www.realtor.com/realestateandhomes-detail/9032-207th-St_Queens-Village_NY_11428_M43848-39573\n",
      "https://www.realtor.com/realestateandhomes-detail/15931-95th-St_Howard-Beach_NY_11414_M45375-32660\n",
      "https://www.realtor.com/realestateandhomes-detail/19341-McLaughlin-Ave_Hollis_NY_11423_M47301-96360\n",
      "https://www.realtor.com/realestateandhomes-detail/24106-141st-Ave_Rosedale_NY_11422_M47376-18580\n",
      "https://www.realtor.com/realestateandhomes-detail/10205-217th-St_Queens-Village_NY_11429_M41205-88701\n",
      "https://www.realtor.com/realestateandhomes-detail/27-Metcalfe-St_Staten-Island_NY_10304_M35518-72449\n",
      "https://www.realtor.com/realestateandhomes-detail/7534-193rd-St_Fresh-Meadows_NY_11366_M31324-58267\n",
      "https://www.realtor.com/realestateandhomes-detail/3407-150th-Pl_Flushing_NY_11354_M45578-73353\n",
      "https://www.realtor.com/realestateandhomes-detail/1221-Tabor-Ct_Brooklyn_NY_11219_M37799-17822\n",
      "https://www.realtor.com/realestateandhomes-detail/11040-160th-St_Jamaica_NY_11433_M49906-83372\n",
      "https://www.realtor.com/realestateandhomes-detail/6336-72nd-St_Middle-Village_NY_11379_M31831-66546\n",
      "https://www.realtor.com/realestateandhomes-detail/13417-89th-Ave_Richmond-Hill_NY_11418_M35918-63360\n",
      "https://www.realtor.com/realestateandhomes-detail/3019-90th-St_East-Elmhurst_NY_11369_M37849-57804\n",
      "https://www.realtor.com/realestateandhomes-detail/37-Austin-Ave_Staten-Island_NY_10305_M34414-45941\n",
      "https://www.realtor.com/realestateandhomes-detail/16328-20th-Rd_Whitestone_NY_11357_M45916-64330\n",
      "https://www.realtor.com/realestateandhomes-detail/7608-11th-Ave_Brooklyn_NY_11228_M30345-62929\n",
      "https://www.realtor.com/realestateandhomes-detail/25815-83rd-Ave_Glen-Oaks_NY_11004_M49221-90402\n",
      "https://www.realtor.com/realestateandhomes-detail/6-Opal-Ct_Brooklyn_NY_11229_M44586-29134\n",
      "https://www.realtor.com/realestateandhomes-detail/4819-208th-St_Oakland-Gardens_NY_11364_M42879-50048\n",
      "https://www.realtor.com/realestateandhomes-detail/14825-58th-Ave_Flushing_NY_11355_M37735-18383\n",
      "https://www.realtor.com/realestateandhomes-detail/1640-E-36th-St_Brooklyn_NY_11234_M37304-88662\n",
      "https://www.realtor.com/realestateandhomes-detail/81-Emily-Ln_Staten-Island_NY_10312_M42707-40703\n",
      "https://www.realtor.com/realestateandhomes-detail/101-Ebony-Ct_Brooklyn_NY_11229_M46731-31899\n",
      "https://www.realtor.com/realestateandhomes-detail/26-Gaylord-Dr-N_Brooklyn_NY_11234_M36962-89196\n",
      "https://www.realtor.com/realestateandhomes-detail/34-Finley-Ave_Staten-Island_NY_10306_M38427-62172\n",
      "https://www.realtor.com/realestateandhomes-detail/13749-70th-Rd_Flushing_NY_11367_M36204-45635\n",
      "https://www.realtor.com/realestateandhomes-detail/380-E-48th-St_Brooklyn_NY_11203_M39741-65585\n",
      "https://www.realtor.com/realestateandhomes-detail/1503-Dunbar-St_Far-Rockaway_NY_11691_M46150-26224\n",
      "https://www.realtor.com/realestateandhomes-detail/7621-167th-St_Fresh-Meadows_NY_11366_M46488-73850\n",
      "https://www.realtor.com/realestateandhomes-detail/1851-Atlantic-Ave_Brooklyn_NY_11233_M38159-65361\n",
      "https://www.realtor.com/realestateandhomes-detail/5316-207th-St_Oakland-Gardens_NY_11364_M40878-23713\n",
      "https://www.realtor.com/realestateandhomes-detail/2269-Coney-Island-Ave_Brooklyn_NY_11223_M45329-80987\n",
      "https://www.realtor.com/realestateandhomes-detail/8934-197th-St_Hollis_NY_11423_M39847-15148\n",
      "https://www.realtor.com/realestateandhomes-detail/13721-224th-St_Springfield-Gardens_NY_11413_M33296-93509\n",
      "https://www.realtor.com/realestateandhomes-detail/64-Goller-Pl_Staten-Island_NY_10314_M39569-81063\n",
      "https://www.realtor.com/realestateandhomes-detail/7131-66th-Rd_Middle-Village_NY_11379_M33860-42337\n",
      "\n",
      "\n",
      "\n",
      "\n",
      " 98\n"
     ]
    },
    {
     "name": "stdout",
     "output_type": "stream",
     "text": [
      "mmmmmmmmmmmmmmmmmmmm https://www.realtor.com/realestateandhomes-search/Atlanta_GA/shw-nc/price-800000-na/pg-99\n",
      "https://www.realtor.com/realestateandhomes-detail/9957-164th-Ave_Howard-Beach_NY_11414_M34885-02064\n",
      "https://www.realtor.com/realestateandhomes-detail/7131-66th-Rd_Middle-Village_NY_11379_M33860-42337\n",
      "https://www.realtor.com/realestateandhomes-detail/Bronx_NY_10466_M40303-74885\n",
      "https://www.realtor.com/realestateandhomes-detail/8780-108th-St_Richmond-Hill_NY_11418_M35322-92085\n",
      "https://www.realtor.com/realestateandhomes-detail/9007-Schenck-St_Brooklyn_NY_11236_M43221-37286\n",
      "https://www.realtor.com/realestateandhomes-detail/3026-87th-St_East-Elmhurst_NY_11369_M30388-46220\n",
      "https://www.realtor.com/realestateandhomes-detail/4518-Glenwood-St_Little-Neck_NY_11362_M49392-52000\n",
      "https://www.realtor.com/realestateandhomes-detail/1703-E-46th-St_Brooklyn_NY_11234_M42289-93249\n",
      "https://www.realtor.com/realestateandhomes-detail/15425-58th-Rd_Flushing_NY_11355_M38469-93523\n",
      "https://www.realtor.com/realestateandhomes-detail/10111-158th-Ave_Howard-Beach_NY_11414_M31301-27480\n",
      "https://www.realtor.com/realestateandhomes-detail/200-Coverly-Ave_Staten-Island_NY_10301_M44844-15393\n",
      "https://www.realtor.com/realestateandhomes-detail/21821-119th-Ave_Cambria-Heights_NY_11411_M41119-34778\n",
      "https://www.realtor.com/realestateandhomes-detail/240-E-76th-St-Apt-12E_New-York_NY_10021_M38018-00113\n",
      "https://www.realtor.com/realestateandhomes-detail/1123-E-82nd-St_Brooklyn_NY_11236_M44611-87889\n",
      "https://www.realtor.com/realestateandhomes-detail/14027-Rose-Ave_Flushing_NY_11355_M47918-54528\n",
      "https://www.realtor.com/realestateandhomes-detail/718-Cauldwell-Ave_Bronx_NY_10455_M35371-42466\n",
      "https://www.realtor.com/realestateandhomes-detail/11-Nadal-Pl_Staten-Island_NY_10314_M36489-38857\n",
      "https://www.realtor.com/realestateandhomes-detail/802-Van-Duzer-St_Staten-Island_NY_10304_M42637-50418\n",
      "https://www.realtor.com/realestateandhomes-detail/243-150th-St_Whitestone_NY_11357_M32424-27587\n",
      "https://www.realtor.com/realestateandhomes-detail/15417-58th-Rd_Flushing_NY_11355_M33037-43911\n",
      "https://www.realtor.com/realestateandhomes-detail/394-Bainbridge-St_Brooklyn_NY_11233_M31144-71259\n",
      "https://www.realtor.com/realestateandhomes-detail/1008-E-42nd-St_Brooklyn_NY_11210_M30058-22664\n",
      "https://www.realtor.com/realestateandhomes-detail/48-Canton-Ct_Brooklyn_NY_11229_M45712-09547\n",
      "https://www.realtor.com/realestateandhomes-detail/35-Jeanette-Ave_Staten-Island_NY_10312_M42931-10571\n",
      "https://www.realtor.com/realestateandhomes-detail/3040-Avenue-T_Brooklyn_NY_11229_M42973-71178\n",
      "https://www.realtor.com/realestateandhomes-detail/762-New-Dorp-Ln_Staten-Island_NY_10306_M39533-94086\n",
      "https://www.realtor.com/realestateandhomes-detail/4106-Avenue-T_Brooklyn_NY_11234_M33196-05049\n",
      "https://www.realtor.com/realestateandhomes-detail/13103-226th-St_Springfield-Gardens_NY_11413_M32903-77940\n",
      "https://www.realtor.com/realestateandhomes-detail/124-Fairfield-St_Staten-Island_NY_10308_M48737-99003\n",
      "https://www.realtor.com/realestateandhomes-detail/757-E-22nd-St_Brooklyn_NY_11210_M37338-05330\n",
      "https://www.realtor.com/realestateandhomes-detail/40-Quinn-St_Staten-Island_NY_10304_M44876-77126\n",
      "https://www.realtor.com/realestateandhomes-detail/3005-Edson-Ave_Bronx_NY_10469_M33436-38096\n",
      "https://www.realtor.com/realestateandhomes-detail/155-28th-Ave_Brooklyn_NY_11214_M33712-02635\n",
      "https://www.realtor.com/realestateandhomes-detail/3222-153rd-St_Flushing_NY_11354_M46074-79611\n",
      "https://www.realtor.com/realestateandhomes-detail/11141-128th-St_South-Ozone-Park_NY_11420_M35361-10881\n",
      "https://www.realtor.com/realestateandhomes-detail/189-Manhattan-St_Staten-Island_NY_10307_M31698-25155\n",
      "https://www.realtor.com/realestateandhomes-detail/135-Ward-Ave_Staten-Island_NY_10304_M31997-09292\n",
      "https://www.realtor.com/realestateandhomes-detail/3441-84th-St_Jackson-Heights_NY_11372_M31392-48892\n",
      "https://www.realtor.com/realestateandhomes-detail/1334-E-28th-St_Brooklyn_NY_11210_M41472-89855\n",
      "https://www.realtor.com/realestateandhomes-detail/626-Ramona-Ave_Staten-Island_NY_10309_M40960-44262\n",
      "https://www.realtor.com/realestateandhomes-detail/1635-201st-St_Bayside_NY_11360_M46826-22272\n",
      "https://www.realtor.com/realestateandhomes-detail/14609-N-Conduit-Ave_Jamaica_NY_11436_M48803-76182\n",
      "\n",
      "\n",
      "\n",
      "\n",
      " 99\n"
     ]
    },
    {
     "name": "stdout",
     "output_type": "stream",
     "text": [
      "mmmmmmmmmmmmmmmmmmmm https://www.realtor.com/realestateandhomes-search/Atlanta_GA/shw-nc/price-800000-na/pg-100\n",
      "https://www.realtor.com/realestateandhomes-detail/3584-Bedford-Ave_Brooklyn_NY_11210_M35337-61751\n",
      "https://www.realtor.com/realestateandhomes-detail/1663-73rd-St_Brooklyn_NY_11204_M36027-60607\n",
      "https://www.realtor.com/realestateandhomes-detail/29-Cottage-Pl_Staten-Island_NY_10302_M49582-16512\n",
      "https://www.realtor.com/realestateandhomes-detail/9154-117th-St_Richmond-Hill_NY_11418_M37631-74898\n",
      "https://www.realtor.com/realestateandhomes-detail/7847-222nd-St_Oakland-Gardens_NY_11364_M37530-89645\n",
      "https://www.realtor.com/realestateandhomes-detail/22717-113th-Dr_Queens-Village_NY_11429_M41101-80130\n",
      "https://www.realtor.com/realestateandhomes-detail/9130-91st-St_Woodhaven_NY_11421_M37245-58455\n",
      "https://www.realtor.com/realestateandhomes-detail/9216-25th-Ave_East-Elmhurst_NY_11369_M44327-39087\n",
      "https://www.realtor.com/realestateandhomes-detail/135-Ridgewood-Ave_Brooklyn_NY_11208_M40017-27861\n",
      "https://www.realtor.com/realestateandhomes-detail/1752-E-38th-St_Brooklyn_NY_11234_M48443-86575\n",
      "https://www.realtor.com/realestateandhomes-detail/183-12-Elmira-Ave_Saint-Albans_NY_11412_M96867-38370\n",
      "https://www.realtor.com/realestateandhomes-detail/7133-165th-St_Fresh-Meadows_NY_11365_M34953-26899\n",
      "https://www.realtor.com/realestateandhomes-detail/1368-E-100th-St_Brooklyn_NY_11236_M49006-30971\n",
      "https://www.realtor.com/realestateandhomes-detail/11532-174th-St_Jamaica_NY_11434_M39259-46757\n",
      "https://www.realtor.com/realestateandhomes-detail/11424-179th-St_Jamaica_NY_11434_M47864-99911\n",
      "https://www.realtor.com/realestateandhomes-detail/9226-92nd-St_Woodhaven_NY_11421_M37047-70239\n",
      "https://www.realtor.com/realestateandhomes-detail/11440-200th-St_Saint-Albans_NY_11412_M43915-73336\n",
      "https://www.realtor.com/realestateandhomes-detail/17319-140th-Ave_Jamaica_NY_11434_M31420-38060\n",
      "https://www.realtor.com/realestateandhomes-detail/1227-78th-St_Brooklyn_NY_11228_M41905-93584\n",
      "https://www.realtor.com/realestateandhomes-detail/15750-92nd-St_Howard-Beach_NY_11414_M46715-32765\n",
      "https://www.realtor.com/realestateandhomes-detail/11718-Sutter-Ave_South-Ozone-Park_NY_11420_M35996-86579\n",
      "https://www.realtor.com/realestateandhomes-detail/4842-58th-Ln_Woodside_NY_11377_M43390-68252\n",
      "https://www.realtor.com/realestateandhomes-detail/11123-146th-St_Jamaica_NY_11435_M49091-00000\n",
      "https://www.realtor.com/realestateandhomes-detail/16-Pleasant-Valley-Ave_Staten-Island_NY_10304_M48519-51714\n",
      "https://www.realtor.com/realestateandhomes-detail/13236-57th-Rd_Flushing_NY_11355_M42753-52937\n",
      "https://www.realtor.com/realestateandhomes-detail/11573-217th-St_Cambria-Heights_NY_11411_M48757-45759\n",
      "https://www.realtor.com/realestateandhomes-detail/8019-Utopia-Pkwy_Jamaica_NY_11432_M38903-14218\n",
      "https://www.realtor.com/realestateandhomes-detail/88-Lott-St_Brooklyn_NY_11226_M33129-61042\n",
      "https://www.realtor.com/realestateandhomes-detail/2506-Avenue-S_Brooklyn_NY_11229_M32926-43826\n",
      "https://www.realtor.com/realestateandhomes-detail/1076-Rhinelander-Ave_Bronx_NY_10461_M37767-99498\n",
      "https://www.realtor.com/realestateandhomes-detail/132-Logan-St_Brooklyn_NY_11208_M47775-09433\n",
      "https://www.realtor.com/realestateandhomes-detail/58-Hinton-St_Staten-Island_NY_10312_M49323-01091\n",
      "https://www.realtor.com/realestateandhomes-detail/14140-72nd-Ave_Flushing_NY_11367_M37373-48896\n",
      "https://www.realtor.com/realestateandhomes-detail/372-Atkins-Ave_Brooklyn_NY_11208_M45544-35501\n",
      "https://www.realtor.com/realestateandhomes-detail/17138-Gladwin-Ave_Fresh-Meadows_NY_11365_M41568-68762\n",
      "https://www.realtor.com/realestateandhomes-detail/14-Brighton-7th-St_Brooklyn_NY_11235_M93652-89946\n",
      "https://www.realtor.com/realestateandhomes-detail/434-E-54th-St_Brooklyn_NY_11203_M44475-17586\n",
      "https://www.realtor.com/realestateandhomes-detail/19416-112th-Ave_Saint-Albans_NY_11412_M46362-24248\n",
      "https://www.realtor.com/realestateandhomes-detail/1634-201st-St_Bayside_NY_11360_M40482-54283\n",
      "https://www.realtor.com/realestateandhomes-detail/11528-130th-St_South-Ozone-Park_NY_11420_M32925-77947\n",
      "https://www.realtor.com/realestateandhomes-detail/2127-E-37th-St_Brooklyn_NY_11234_M48380-54514\n",
      "https://www.realtor.com/realestateandhomes-detail/7527-188th-St_Fresh-Meadows_NY_11366_M36578-57492\n",
      "\n",
      "\n",
      "\n",
      "\n",
      " 100\n"
     ]
    },
    {
     "name": "stdout",
     "output_type": "stream",
     "text": [
      "mmmmmmmmmmmmmmmmmmmm https://www.realtor.com/realestateandhomes-search/Atlanta_GA/shw-nc/price-800000-na/pg-101\n",
      "https://www.realtor.com/realestateandhomes-detail/7527-188th-St_Fresh-Meadows_NY_11366_M36578-57492\n",
      "https://www.realtor.com/realestateandhomes-detail/15-Williams-Ct_Far-Rockaway_NY_11691_M40391-51030\n",
      "https://www.realtor.com/realestateandhomes-detail/6-Altamont-St_Staten-Island_NY_10306_M42652-54386\n",
      "https://www.realtor.com/realestateandhomes-detail/11505-95th-Ave_S-Richmond-Hl_NY_11419_M38551-84510\n",
      "https://www.realtor.com/realestateandhomes-detail/518-Logan-Ave_Bronx_NY_10465_M32641-35320\n",
      "https://www.realtor.com/realestateandhomes-detail/9-Linda-Ave_Staten-Island_NY_10305_M49982-15464\n",
      "https://www.realtor.com/realestateandhomes-detail/18306-143rd-Ave_Springfield-Gardens_NY_11413_M30690-59972\n",
      "https://www.realtor.com/realestateandhomes-detail/31-Gibson-Ave_Staten-Island_NY_10308_M49646-90637\n",
      "https://www.realtor.com/realestateandhomes-detail/80-Cooper-St_Brooklyn_NY_11207_M97067-80086\n",
      "https://www.realtor.com/realestateandhomes-detail/8972-Cooper-Ave_Rego-Park_NY_11374_M41458-94905\n",
      "https://www.realtor.com/realestateandhomes-detail/2310-Turnbull-Ave_Bronx_NY_10473_M45365-43660\n",
      "https://www.realtor.com/realestateandhomes-detail/11934-224th-St_Cambria-Heights_NY_11411_M40909-03488\n",
      "https://www.realtor.com/realestateandhomes-detail/66-Forest-Ave_Ridgewood_NY_11385_M93306-03570\n",
      "https://www.realtor.com/realestateandhomes-detail/5823-211th-St_Oakland-Gardens_NY_11364_M37024-39635\n",
      "https://www.realtor.com/realestateandhomes-detail/10238-187th-St_Hollis_NY_11423_M41512-19379\n",
      "https://www.realtor.com/realestateandhomes-detail/147-Vassar-St_Staten-Island_NY_10314_M46728-22552\n",
      "https://www.realtor.com/realestateandhomes-detail/3918-221st-St_Bayside_NY_11361_M44214-59399\n",
      "https://www.realtor.com/realestateandhomes-detail/44-Finley-Ave_Staten-Island_NY_10306_M47300-03029\n",
      "https://www.realtor.com/realestateandhomes-detail/14-Williams-Ct_Far-Rockaway_NY_11691_M30858-94732\n",
      "https://www.realtor.com/realestateandhomes-detail/3243-98th-St_East-Elmhurst_NY_11369_M30800-11268\n",
      "https://www.realtor.com/realestateandhomes-detail/3708-Rombouts-Ave_Bronx_NY_10466_M38696-80992\n",
      "https://www.realtor.com/realestateandhomes-detail/11416-207th-St_Cambria-Heights_NY_11411_M44397-20933\n",
      "https://www.realtor.com/realestateandhomes-detail/8255-251st-St_Bellerose_NY_11426_M34461-32003\n",
      "https://www.realtor.com/realestateandhomes-detail/301-Union-Ave_Staten-Island_NY_10303_M34443-75429\n",
      "https://www.realtor.com/realestateandhomes-detail/57-Bay-10th-St_Brooklyn_NY_11228_M40059-21243\n",
      "https://www.realtor.com/realestateandhomes-detail/9905-220th-St_Queens-Village_NY_11429_M42184-44694\n",
      "https://www.realtor.com/realestateandhomes-detail/9044-Desarc-Rd_Ozone-Park_NY_11417_M40867-72044\n",
      "https://www.realtor.com/realestateandhomes-detail/17820-Dalny-Rd_Jamaica_NY_11432_M33143-62779\n",
      "https://www.realtor.com/realestateandhomes-detail/5009-184th-St_Fresh-Meadows_NY_11365_M36623-28183\n",
      "https://www.realtor.com/realestateandhomes-detail/15-Hempstead-Ave_Staten-Island_NY_10306_M35036-81287\n",
      "https://www.realtor.com/realestateandhomes-detail/2247-Coney-Island-Ave_Brooklyn_NY_11223_M35404-15908\n",
      "https://www.realtor.com/realestateandhomes-detail/9328-212th-St_Queens-Village_NY_11428_M49830-04142\n",
      "https://www.realtor.com/realestateandhomes-detail/9213-215th-Pl_Queens-Village_NY_11428_M34143-94718\n",
      "https://www.realtor.com/realestateandhomes-detail/2912-172nd-St_Flushing_NY_11358_M30360-08933\n",
      "https://www.realtor.com/realestateandhomes-detail/33-Winfield-Ave_Staten-Island_NY_10305_M46880-90216\n",
      "https://www.realtor.com/realestateandhomes-detail/22157-92nd-Ave_Queens-Village_NY_11428_M38102-37931\n",
      "https://www.realtor.com/realestateandhomes-detail/10511-187th-St_Saint-Albans_NY_11412_M31566-30472\n",
      "https://www.realtor.com/realestateandhomes-detail/638-Autumn-Ave_Brooklyn_NY_11208_M31319-55284\n",
      "https://www.realtor.com/realestateandhomes-detail/151-Ross-Ave_Staten-Island_NY_10306_M40106-07977\n",
      "https://www.realtor.com/realestateandhomes-detail/10-Cedar-Ave_Staten-Island_NY_10305_M41848-68936\n",
      "https://www.realtor.com/realestateandhomes-detail/28-Elizabeth-Ave_Staten-Island_NY_10310_M31120-73093\n",
      "https://www.realtor.com/realestateandhomes-detail/3384-Ely-Ave_Bronx_NY_10469_M36183-59476\n",
      "\n",
      "\n",
      "\n",
      "\n",
      " 101\n"
     ]
    },
    {
     "name": "stdout",
     "output_type": "stream",
     "text": [
      "mmmmmmmmmmmmmmmmmmmm https://www.realtor.com/realestateandhomes-search/Atlanta_GA/shw-nc/price-800000-na/pg-102\n",
      "https://www.realtor.com/realestateandhomes-detail/151-Ross-Ave_Staten-Island_NY_10306_M40106-07977\n",
      "https://www.realtor.com/realestateandhomes-detail/10-Cedar-Ave_Staten-Island_NY_10305_M41848-68936\n",
      "https://www.realtor.com/realestateandhomes-detail/38-Starr-Ave_Staten-Island_NY_10310_M34492-05480\n",
      "https://www.realtor.com/realestateandhomes-detail/1067-Father-Capodanno-Blvd_Staten-Island_NY_10306_M36350-81001\n",
      "https://www.realtor.com/realestateandhomes-detail/1827-E-31st-St_Brooklyn_NY_11234_M42448-55242\n",
      "https://www.realtor.com/realestateandhomes-detail/13319-Crossbay-Blvd_Ozone-Park_NY_11417_M43265-22314\n",
      "https://www.realtor.com/realestateandhomes-detail/5015-230th-St_Oakland-Gardens_NY_11364_M40267-27867\n",
      "https://www.realtor.com/realestateandhomes-detail/555-Ingram-Ave_Staten-Island_NY_10314_M38592-43868\n",
      "https://www.realtor.com/realestateandhomes-detail/109-Harris-Ln_Staten-Island_NY_10309_M48520-32177\n",
      "https://www.realtor.com/realestateandhomes-detail/3811-Avenue-R_Brooklyn_NY_11234_M44840-88071\n",
      "https://www.realtor.com/realestateandhomes-detail/1806-Stuart-St_Brooklyn_NY_11229_M41583-57840\n",
      "https://www.realtor.com/realestateandhomes-detail/310-E-23rd-St-Apt-5A_New-York_NY_10010_M35048-10088\n",
      "https://www.realtor.com/realestateandhomes-detail/10432-194th-St_Saint-Albans_NY_11412_M43936-69156\n",
      "https://www.realtor.com/realestateandhomes-detail/11464-198th-St_Saint-Albans_NY_11412_M43643-31932\n",
      "https://www.realtor.com/realestateandhomes-detail/1945-Hobart-Ave_Bronx_NY_10461_M43524-09490\n",
      "https://www.realtor.com/realestateandhomes-detail/9129-79th-St_Woodhaven_NY_11421_M32347-92471\n",
      "https://www.realtor.com/realestateandhomes-detail/1983-E-27th-St_Brooklyn_NY_11229_M39718-53170\n",
      "https://www.realtor.com/realestateandhomes-detail/8854-Sabre-St_Queens-Village_NY_11427_M39027-57894\n",
      "https://www.realtor.com/realestateandhomes-detail/8008-Penelope-Ave_Middle-Village_NY_11379_M41882-51057\n",
      "https://www.realtor.com/realestateandhomes-detail/14-Brighton-7th-Walk_Brooklyn_NY_11235_M33119-56084\n",
      "https://www.realtor.com/realestateandhomes-detail/226-Fingerboard-Rd_Staten-Island_NY_10305_M97322-20593\n",
      "https://www.realtor.com/realestateandhomes-detail/323-Winchester-Ave_Staten-Island_NY_10312_M94582-80066\n",
      "https://www.realtor.com/realestateandhomes-detail/2878-Sampson-Ave_Bronx_NY_10465_M38327-68113\n",
      "https://www.realtor.com/realestateandhomes-detail/29-Kingsley-Pl_Staten-Island_NY_10301_M31575-72883\n",
      "https://www.realtor.com/realestateandhomes-detail/453-Willowbrook-Rd_Staten-Island_NY_10314_M34982-22790\n",
      "https://www.realtor.com/realestateandhomes-detail/3216-Healy-Ave_Far-Rockaway_NY_11691_M40837-76247\n",
      "https://www.realtor.com/realestateandhomes-detail/1633-72nd-St_Brooklyn_NY_11204_M46892-32713\n",
      "https://www.realtor.com/realestateandhomes-detail/5917-Avenue-O_Brooklyn_NY_11234_M41622-59392\n",
      "https://www.realtor.com/realestateandhomes-detail/7564-184th-St_Fresh-Meadows_NY_11366_M31013-78471\n",
      "https://www.realtor.com/realestateandhomes-detail/229-Freeborn-St-A_Staten-Island_NY_10306_M30474-24721\n",
      "https://www.realtor.com/realestateandhomes-detail/61-Mariners-Ln_Staten-Island_NY_10303_M49641-69769\n",
      "https://www.realtor.com/realestateandhomes-detail/16407-95th-St_Howard-Beach_NY_11414_M32482-23251\n",
      "https://www.realtor.com/realestateandhomes-detail/73-Woodland-Ave_Staten-Island_NY_10308_M96520-07161\n",
      "https://www.realtor.com/realestateandhomes-detail/9617-149th-Ave_Ozone-Park_NY_11417_M48736-43122\n",
      "https://www.realtor.com/realestateandhomes-detail/13121-133rd-St_South-Ozone-Park_NY_11420_M45320-93758\n",
      "https://www.realtor.com/realestateandhomes-detail/170-Steinway-Ave_Staten-Island_NY_10314_M44660-40135\n",
      "https://www.realtor.com/realestateandhomes-detail/1848-E-38th-St_Brooklyn_NY_11234_M44891-24048\n",
      "https://www.realtor.com/realestateandhomes-detail/7148-166th-St_Fresh-Meadows_NY_11365_M49538-21057\n",
      "https://www.realtor.com/realestateandhomes-detail/8313-Britton-Ave_Elmhurst_NY_11373_M31769-16537\n",
      "https://www.realtor.com/realestateandhomes-detail/10507-131st-St-1F_South-Richmond-Hill_NY_11419_M91033-70655\n",
      "https://www.realtor.com/realestateandhomes-detail/20908-33rd-Ave_Bayside_NY_11361_M37965-01320\n",
      "https://www.realtor.com/realestateandhomes-detail/21623-111th-Ave_Queens-Village_NY_11429_M33081-74707\n",
      "\n",
      "\n",
      "\n",
      "\n",
      " 102\n"
     ]
    },
    {
     "name": "stdout",
     "output_type": "stream",
     "text": [
      "mmmmmmmmmmmmmmmmmmmm https://www.realtor.com/realestateandhomes-search/Atlanta_GA/shw-nc/price-800000-na/pg-103\n",
      "https://www.realtor.com/realestateandhomes-detail/20908-33rd-Ave_Bayside_NY_11361_M37965-01320\n",
      "https://www.realtor.com/realestateandhomes-detail/5611-194th-St_Fresh-Meadows_NY_11365_M46186-07607\n",
      "https://www.realtor.com/realestateandhomes-detail/21516-111th-Ave_Queens-Village_NY_11429_M30716-39546\n",
      "https://www.realtor.com/realestateandhomes-detail/15010-Booth-Memorial-Ave_Flushing_NY_11355_M33732-92310\n",
      "https://www.realtor.com/realestateandhomes-detail/979-Hylan-Blvd_Staten-Island_NY_10305_M38867-10091\n",
      "https://www.realtor.com/realestateandhomes-detail/662-E-88th-St_Brooklyn_NY_11236_M40686-28452\n",
      "https://www.realtor.com/realestateandhomes-detail/702-Vermont-St_Brooklyn_NY_11207_M35471-42150\n",
      "https://www.realtor.com/realestateandhomes-detail/15040-60th-Ave_Flushing_NY_11355_M31215-74686\n",
      "https://www.realtor.com/realestateandhomes-detail/21609-115th-Ct_Cambria-Heights_NY_11411_M38858-72051\n",
      "https://www.realtor.com/realestateandhomes-detail/435-E-51st-St_Brooklyn_NY_11203_M44010-43747\n",
      "https://www.realtor.com/realestateandhomes-detail/9911-39th-Ave_Corona_NY_11368_M92395-68676\n",
      "https://www.realtor.com/realestateandhomes-detail/546-Powell-St_Brooklyn_NY_11212_M45256-87012\n",
      "https://www.realtor.com/realestateandhomes-detail/21611-135th-Ave_Springfield-Gardens_NY_11413_M33055-58570\n",
      "https://www.realtor.com/realestateandhomes-detail/280-Eldert-Ln_Brooklyn_NY_11208_M33790-39855\n",
      "https://www.realtor.com/realestateandhomes-detail/16433-76th-Rd_Fresh-Meadows_NY_11366_M43506-56034\n",
      "https://www.realtor.com/realestateandhomes-detail/19441-113th-Rd_Saint-Albans_NY_11412_M47413-23132\n",
      "https://www.realtor.com/realestateandhomes-detail/653-Bay-Ridge-Pkwy_Brooklyn_NY_11209_M38819-68420\n",
      "https://www.realtor.com/realestateandhomes-detail/11419-149th-St_Jamaica_NY_11436_M43471-00546\n",
      "https://www.realtor.com/realestateandhomes-detail/3236-Corsa-Ave_Bronx_NY_10469_M44186-86006\n",
      "https://www.realtor.com/realestateandhomes-detail/1623-Undercliff-Ave_Bronx_NY_10453_M42051-86273\n",
      "https://www.realtor.com/realestateandhomes-detail/5331-194th-St_Fresh-Meadows_NY_11365_M43328-06871\n",
      "https://www.realtor.com/realestateandhomes-detail/13319-Inwood-St_Jamaica_NY_11436_M38236-56819\n",
      "https://www.realtor.com/realestateandhomes-detail/127-Bradley-Ave_Staten-Island_NY_10314_M38126-24174\n",
      "https://www.realtor.com/realestateandhomes-detail/504A-College-Pl_College-Point_NY_11356_M34760-60099\n",
      "https://www.realtor.com/realestateandhomes-detail/19-Doscher-St_Brooklyn_NY_11208_M32969-96697\n",
      "https://www.realtor.com/realestateandhomes-detail/108-Withers-St_Brooklyn_NY_11211_M35202-37363\n",
      "https://www.realtor.com/realestateandhomes-detail/24429-87th-Ave_Bellerose_NY_11426_M34542-04191\n",
      "https://www.realtor.com/realestateandhomes-detail/4-Russek-Dr_Staten-Island_NY_10312_M41274-88494\n",
      "https://www.realtor.com/realestateandhomes-detail/14354-227th-St_Springfield-Gardens_NY_11413_M33877-16582\n",
      "https://www.realtor.com/realestateandhomes-detail/2555-Morgan-Ave_Bronx_NY_10469_M40090-37947\n",
      "https://www.realtor.com/realestateandhomes-detail/1090-Sheldon-Ave_Staten-Island_NY_10309_M41919-29533\n",
      "https://www.realtor.com/realestateandhomes-detail/8852-212th-St_Queens-Village_NY_11427_M37568-09942\n",
      "https://www.realtor.com/realestateandhomes-detail/15433-11th-Ave_Whitestone_NY_11357_M41644-19227\n",
      "https://www.realtor.com/realestateandhomes-detail/100-Montgomery-Ave_Staten-Island_NY_10301_M39443-32165\n",
      "https://www.realtor.com/realestateandhomes-detail/1051-E-213th-St_Bronx_NY_10469_M46549-97570\n",
      "https://www.realtor.com/realestateandhomes-detail/16047-122nd-Ave_Jamaica_NY_11434_M43592-05679\n",
      "https://www.realtor.com/realestateandhomes-detail/16-Mersereau-Ave_Staten-Island_NY_10303_M43839-97833\n",
      "https://www.realtor.com/realestateandhomes-detail/644-Shepherd-Ave_Brooklyn_NY_11208_M44845-03774\n",
      "https://www.realtor.com/realestateandhomes-detail/312-Ardsley-St_Staten-Island_NY_10306_M40062-47862\n",
      "https://www.realtor.com/realestateandhomes-detail/71-Wadsworth-Rd_Staten-Island_NY_10305_M43033-56627\n",
      "https://www.realtor.com/realestateandhomes-detail/22221-100th-Dr_Queens-Village_NY_11429_M33785-44178\n",
      "https://www.realtor.com/realestateandhomes-detail/3607-212th-St_Bayside_NY_11361_M42325-21071\n",
      "\n",
      "\n",
      "\n",
      "\n",
      " 103\n"
     ]
    },
    {
     "name": "stdout",
     "output_type": "stream",
     "text": [
      "mmmmmmmmmmmmmmmmmmmm https://www.realtor.com/realestateandhomes-search/Atlanta_GA/shw-nc/price-800000-na/pg-104\n",
      "https://www.realtor.com/realestateandhomes-detail/312-Ardsley-St_Staten-Island_NY_10306_M40062-47862\n",
      "https://www.realtor.com/realestateandhomes-detail/71-Wadsworth-Rd_Staten-Island_NY_10305_M43033-56627\n",
      "https://www.realtor.com/realestateandhomes-detail/1196-Richmond-Rd_Staten-Island_NY_10304_M44483-27440\n",
      "https://www.realtor.com/realestateandhomes-detail/3607-212th-St_Bayside_NY_11361_M42325-21071\n",
      "https://www.realtor.com/realestateandhomes-detail/1625-W-3rd-St_Brooklyn_NY_11223_M34800-58379\n",
      "https://www.realtor.com/realestateandhomes-detail/22221-100th-Dr_Queens-Village_NY_11429_M33785-44178\n",
      "https://www.realtor.com/realestateandhomes-detail/94-Glover-St_Staten-Island_NY_10308_M35797-80055\n",
      "https://www.realtor.com/realestateandhomes-detail/390-Hinsdale-St_Brooklyn_NY_11207_M32230-14355\n",
      "https://www.realtor.com/realestateandhomes-detail/11026-217th-St_Queens-Village_NY_11429_M31547-50821\n",
      "https://www.realtor.com/realestateandhomes-detail/131-Olympia-Blvd_Staten-Island_NY_10305_M40583-94288\n",
      "https://www.realtor.com/realestateandhomes-detail/14620-123rd-Ave_Jamaica_NY_11436_M34234-07298\n",
      "https://www.realtor.com/realestateandhomes-detail/450-Washington-St-Apt-1008_New-York_NY_10013_M96069-05265\n",
      "https://www.realtor.com/realestateandhomes-detail/797-Mother-Gaston-Blvd_Brooklyn_NY_11212_M38299-31866\n",
      "https://www.realtor.com/realestateandhomes-detail/129-Benziger-Ave_Staten-Island_NY_10301_M31104-51885\n",
      "https://www.realtor.com/realestateandhomes-detail/19-Tilden-St_Staten-Island_NY_10301_M30349-30666\n",
      "https://www.realtor.com/realestateandhomes-detail/530-Sutter-Ave_Brooklyn_NY_11207_M39630-77054\n",
      "https://www.realtor.com/realestateandhomes-detail/22553-Murdock-Ave_Queens-Village_NY_11429_M40402-31956\n",
      "https://www.realtor.com/realestateandhomes-detail/155-Dehart-Ave_Staten-Island_NY_10303_M43419-86888\n",
      "https://www.realtor.com/realestateandhomes-detail/366-Avenue-S_Brooklyn_NY_11223_M32700-60664\n",
      "https://www.realtor.com/realestateandhomes-detail/310-E-46th-St-Apt-15L_New-York_NY_10017_M32287-89475\n",
      "https://www.realtor.com/realestateandhomes-detail/1055-74th-St_Brooklyn_NY_11228_M30096-56684\n",
      "https://www.realtor.com/realestateandhomes-detail/11809-203rd-St_Saint-Albans_NY_11412_M30226-00714\n",
      "https://www.realtor.com/realestateandhomes-detail/651-90th-St_Brooklyn_NY_11228_M47914-62639\n",
      "https://www.realtor.com/realestateandhomes-detail/104-Oakdale-St_Staten-Island_NY_10308_M49524-69334\n",
      "https://www.realtor.com/realestateandhomes-detail/20007-53rd-Ave_Oakland-Gardens_NY_11364_M43624-44667\n",
      "https://www.realtor.com/realestateandhomes-detail/368-Eldert-Ln_Brooklyn_NY_11208_M30639-72758\n",
      "https://www.realtor.com/realestateandhomes-detail/1331-Chisholm-St_Bronx_NY_10459_M46477-76201\n",
      "https://www.realtor.com/realestateandhomes-detail/1123-Southern-Blvd_Bronx_NY_10459_M36404-77776\n",
      "https://www.realtor.com/realestateandhomes-detail/266-Soundview-Ave_Bronx_NY_10473_M90295-95111\n",
      "https://www.realtor.com/realestateandhomes-detail/20-Mallory-Ave_Staten-Island_NY_10305_M48086-82806\n",
      "https://www.realtor.com/realestateandhomes-detail/1359-Albany-Ave_Brooklyn_NY_11203_M46775-02164\n",
      "https://www.realtor.com/realestateandhomes-detail/12412-Linden-Blvd_South-Ozone-Park_NY_11420_M37474-96605\n",
      "https://www.realtor.com/realestateandhomes-detail/23007-145th-Ave_Springfield-Gardens_NY_11413_M38037-18317\n",
      "https://www.realtor.com/realestateandhomes-detail/16332-20th-Ave_Whitestone_NY_11357_M44951-74581\n",
      "https://www.realtor.com/realestateandhomes-detail/1201-Harding-Park_Bronx_NY_10473_M38844-83795\n",
      "https://www.realtor.com/realestateandhomes-detail/148-Rolling-Hill-Grn_Staten-Island_NY_10312_M37175-63127\n",
      "https://www.realtor.com/realestateandhomes-detail/9716-161st-Ave_Howard-Beach_NY_11414_M42850-49602\n",
      "https://www.realtor.com/realestateandhomes-detail/3233-Corsa-Ave_Bronx_NY_10469_M32435-46850\n",
      "https://www.realtor.com/realestateandhomes-detail/8813-Glenwood-Rd_Brooklyn_NY_11236_M34717-10105\n",
      "https://www.realtor.com/realestateandhomes-detail/25-Marconi-Pl_Brooklyn_NY_11233_M30155-09363\n",
      "https://www.realtor.com/realestateandhomes-detail/1115-E-32nd-St_Brooklyn_NY_11210_M41189-58293\n",
      "https://www.realtor.com/realestateandhomes-detail/3454-10th-St_Astoria_NY_11106_M40568-00686\n",
      "\n",
      "\n",
      "\n",
      "\n",
      " 104\n"
     ]
    },
    {
     "name": "stdout",
     "output_type": "stream",
     "text": [
      "mmmmmmmmmmmmmmmmmmmm https://www.realtor.com/realestateandhomes-search/Atlanta_GA/shw-nc/price-800000-na/pg-105\n",
      "https://www.realtor.com/realestateandhomes-detail/129-Olympia-Blvd_Staten-Island_NY_10305_M48953-26123\n",
      "https://www.realtor.com/realestateandhomes-detail/10438-202nd-St_Saint-Albans_NY_11412_M37827-59633\n",
      "https://www.realtor.com/realestateandhomes-detail/1115-E-32nd-St_Brooklyn_NY_11210_M41189-58293\n",
      "https://www.realtor.com/realestateandhomes-detail/3454-10th-St_Astoria_NY_11106_M40568-00686\n",
      "https://www.realtor.com/realestateandhomes-detail/19043-112th-Ave_Saint-Albans_NY_11412_M46043-37899\n",
      "https://www.realtor.com/realestateandhomes-detail/1930-E-37th-St_Brooklyn_NY_11234_M30043-12430\n",
      "https://www.realtor.com/realestateandhomes-detail/184-Livingston-Ave_Staten-Island_NY_10314_M40780-56888\n",
      "https://www.realtor.com/realestateandhomes-detail/2183-E-27th-St_Brooklyn_NY_11229_M40961-53462\n",
      "https://www.realtor.com/realestateandhomes-detail/11825-152nd-St_Jamaica_NY_11434_M31648-69488\n",
      "https://www.realtor.com/realestateandhomes-detail/1981-Gleason-Ave_Bronx_NY_10472_M49730-02379\n",
      "https://www.realtor.com/realestateandhomes-detail/9010-202nd-St_Hollis_NY_11423_M44886-62488\n",
      "https://www.realtor.com/realestateandhomes-detail/180-Travis-Ave_Staten-Island_NY_10314_M47109-89175\n",
      "https://www.realtor.com/realestateandhomes-detail/4-W-21st-St-Apt-14D_New-York_NY_10010_M35594-45811\n",
      "https://www.realtor.com/realestateandhomes-detail/17947-Zoller-Rd_Jamaica_NY_11434_M30984-87472\n",
      "https://www.realtor.com/realestateandhomes-detail/1049-E-219th-St_Bronx_NY_10469_M49759-12271\n",
      "https://www.realtor.com/realestateandhomes-detail/25-Church-Ave_Staten-Island_NY_10314_M37602-78120\n",
      "https://www.realtor.com/realestateandhomes-detail/14441-68th-Ave_Flushing_NY_11367_M39627-92105\n",
      "https://www.realtor.com/realestateandhomes-detail/341-Parkinson-Ave_Staten-Island_NY_10305_M44291-26889\n",
      "https://www.realtor.com/realestateandhomes-detail/765-Shepherd-Ave_Brooklyn_NY_11208_M44143-04186\n",
      "https://www.realtor.com/realestateandhomes-detail/11454-122nd-St_South-Ozone-Park_NY_11420_M31125-08912\n",
      "https://www.realtor.com/realestateandhomes-detail/2991-Quentin-Rd_Brooklyn_NY_11229_M36901-88953\n",
      "https://www.realtor.com/realestateandhomes-detail/3735-Rombouts-Ave_Bronx_NY_10466_M39588-98807\n",
      "https://www.realtor.com/realestateandhomes-detail/79-Weirfield-St_Brooklyn_NY_11221_M41097-15116\n",
      "https://www.realtor.com/realestateandhomes-detail/9442-113th-St_South-Richmond-Hill_NY_11419_M43599-31402\n",
      "https://www.realtor.com/realestateandhomes-detail/277-Graff-Ave_Bronx_NY_10465_M35251-00492\n",
      "https://www.realtor.com/realestateandhomes-detail/153-28th-Ave_Brooklyn_NY_11214_M49088-90773\n",
      "https://www.realtor.com/realestateandhomes-detail/118-Vincent-Ave_Staten-Island_NY_10306_M43856-89689\n",
      "https://www.realtor.com/realestateandhomes-detail/133-Herzl-St_Brooklyn_NY_11212_M44938-31632\n",
      "https://www.realtor.com/realestateandhomes-detail/1257-80th-St_Brooklyn_NY_11228_M44842-30837\n",
      "https://www.realtor.com/realestateandhomes-detail/2868-Dewey-Ave_Bronx_NY_10465_M33721-61064\n",
      "https://www.realtor.com/realestateandhomes-detail/8054-161st-St_Jamaica_NY_11432_M40813-88078\n",
      "https://www.realtor.com/realestateandhomes-detail/10912-Francis-Lewis-Blvd_Jamaica_NY_11429_M44524-00280\n",
      "https://www.realtor.com/realestateandhomes-detail/66-Florence-Pl_Staten-Island_NY_10309_M34837-47157\n",
      "https://www.realtor.com/realestateandhomes-detail/11238-212th-St_Queens-Village_NY_11429_M32199-66221\n",
      "https://www.realtor.com/realestateandhomes-detail/10817-221st-St_Queens-Village_NY_11429_M45121-79224\n",
      "https://www.realtor.com/realestateandhomes-detail/309-Brielle-Ave_Staten-Island_NY_10314_M39108-52124\n",
      "https://www.realtor.com/realestateandhomes-detail/16-Amanda-Ct_Staten-Island_NY_10312_M43118-07772\n",
      "https://www.realtor.com/realestateandhomes-detail/15908-59th-Ave_Fresh-Meadows_NY_11365_M42454-32757\n",
      "https://www.realtor.com/realestateandhomes-detail/22136-107th-Ave_Queens-Village_NY_11429_M31930-14721\n",
      "https://www.realtor.com/realestateandhomes-detail/8-Piedmont-Ave_Staten-Island_NY_10305_M40481-65750\n",
      "https://www.realtor.com/realestateandhomes-detail/2023-E-23rd-St_Brooklyn_NY_11229_M38592-63312\n",
      "https://www.realtor.com/realestateandhomes-detail/14449-166th-St_Jamaica_NY_11434_M37387-66225\n",
      "\n",
      "\n",
      "\n",
      "\n",
      " 105\n"
     ]
    },
    {
     "name": "stdout",
     "output_type": "stream",
     "text": [
      "mmmmmmmmmmmmmmmmmmmm https://www.realtor.com/realestateandhomes-search/Atlanta_GA/shw-nc/price-800000-na/pg-106\n",
      "https://www.realtor.com/realestateandhomes-detail/1900-E-51st-St_Brooklyn_NY_11234_M45510-97310\n",
      "https://www.realtor.com/realestateandhomes-detail/14449-166th-St_Jamaica_NY_11434_M37387-66225\n",
      "https://www.realtor.com/realestateandhomes-detail/11111-76th-Dr_Forest-Hills_NY_11375_M34728-28939\n",
      "https://www.realtor.com/realestateandhomes-detail/328-Manor-Rd_Staten-Island_NY_10314_M38596-71464\n",
      "https://www.realtor.com/realestateandhomes-detail/103-Otis-Ave_Staten-Island_NY_10306_M43773-16224\n",
      "https://www.realtor.com/realestateandhomes-detail/11642-141st-St_Jamaica_NY_11436_M31059-01468\n",
      "https://www.realtor.com/realestateandhomes-detail/2446-Barnes-Ave_Bronx_NY_10467_M35618-04296\n",
      "https://www.realtor.com/realestateandhomes-detail/160-Todt-Hill-Rd_Staten-Island_NY_10314_M45026-14472\n",
      "https://www.realtor.com/realestateandhomes-detail/10805-221st-St_Queens-Village_NY_11429_M32523-04835\n",
      "https://www.realtor.com/realestateandhomes-detail/72-Husson-St_Staten-Island_NY_10305_M34951-96025\n",
      "https://www.realtor.com/realestateandhomes-detail/6414-Utopia-Pkwy_Fresh-Meadows_NY_11365_M34392-68772\n",
      "https://www.realtor.com/realestateandhomes-detail/1221-Arnow-Ave_Bronx_NY_10469_M36963-68466\n",
      "https://www.realtor.com/realestateandhomes-detail/416-E-180th-St_Bronx_NY_10457_M44651-35817\n",
      "https://www.realtor.com/realestateandhomes-detail/101-Scribner-Ave_Staten-Island_NY_10301_M43571-02339\n",
      "https://www.realtor.com/realestateandhomes-detail/75-Woodland-Ave_Staten-Island_NY_10308_M99751-40115\n",
      "https://www.realtor.com/realestateandhomes-detail/49-Eva-Ave_Staten-Island_NY_10306_M38066-51474\n",
      "https://www.realtor.com/realestateandhomes-detail/1611-Avenue-K_Brooklyn_NY_11230_M39613-94739\n",
      "https://www.realtor.com/realestateandhomes-detail/10448-112th-St_S-Richmond-Hl_NY_11419_M40038-26279\n",
      "https://www.realtor.com/realestateandhomes-detail/26-Slater-Blvd_Staten-Island_NY_10305_M44936-97762\n",
      "https://www.realtor.com/realestateandhomes-detail/2111-Quimby-Ave_Bronx_NY_10473_M47678-35695\n",
      "https://www.realtor.com/realestateandhomes-detail/50-Slater-Blvd_Staten-Island_NY_10305_M30810-83573\n",
      "https://www.realtor.com/realestateandhomes-detail/21905-82nd-Ave_Queens-Village_NY_11427_M31781-87950\n",
      "https://www.realtor.com/realestateandhomes-detail/310-Avenue-X_Brooklyn_NY_11223_M41207-07866\n",
      "https://www.realtor.com/realestateandhomes-detail/487-Midwood-St_Brooklyn_NY_11225_M39181-71320\n",
      "https://www.realtor.com/realestateandhomes-detail/5806-206th-St_Oakland-Gardens_NY_11364_M30249-13129\n",
      "https://www.realtor.com/realestateandhomes-detail/315-Travis-Ave_Staten-Island_NY_10314_M35868-31755\n",
      "https://www.realtor.com/realestateandhomes-detail/12-Grandview-Ter_Staten-Island_NY_10308_M47101-28909\n",
      "https://www.realtor.com/realestateandhomes-detail/17-Bartow-St_Staten-Island_NY_10308_M39560-58861\n",
      "https://www.realtor.com/realestateandhomes-detail/1826-E-38th-St_Brooklyn_NY_11234_M49421-45231\n",
      "https://www.realtor.com/realestateandhomes-detail/78-Byrne-Ave_Staten-Island_NY_10314_M47081-80868\n",
      "https://www.realtor.com/realestateandhomes-detail/10447-212th-Pl_Jamaica_NY_11429_M49778-49366\n",
      "https://www.realtor.com/realestateandhomes-detail/2862-Roosevelt-Ave_Bronx_NY_10465_M38329-91709\n",
      "https://www.realtor.com/realestateandhomes-detail/6211-65th-St_Middle-Village_NY_11379_M41261-19284\n",
      "https://www.realtor.com/realestateandhomes-detail/2508-Ocean-Ave_Brooklyn_NY_11229_M41007-93332\n",
      "https://www.realtor.com/realestateandhomes-detail/1556-150th-Pl_Whitestone_NY_11357_M47068-99551\n",
      "https://www.realtor.com/realestateandhomes-detail/2662-Bath-Ave_Brooklyn_NY_11214_M47319-52078\n",
      "https://www.realtor.com/realestateandhomes-detail/425-E-63rd-St-Apt-W2G_New-York_NY_10065_M99336-91571\n",
      "https://www.realtor.com/realestateandhomes-detail/778-Elsmere-Pl_Bronx_NY_10460_M48311-65053\n",
      "https://www.realtor.com/realestateandhomes-detail/423-Hamden-Ave_Staten-Island_NY_10306_M33212-27233\n",
      "https://www.realtor.com/realestateandhomes-detail/631-Katan-Ave_Staten-Island_NY_10312_M35429-74112\n",
      "https://www.realtor.com/realestateandhomes-detail/166-Wiman-Ave_Staten-Island_NY_10308_M35086-24359\n",
      "https://www.realtor.com/realestateandhomes-detail/85-Hewitt-Ave_Staten-Island_NY_10301_M42027-48731\n",
      "\n",
      "\n",
      "\n",
      "\n",
      " 106\n"
     ]
    },
    {
     "name": "stdout",
     "output_type": "stream",
     "text": [
      "mmmmmmmmmmmmmmmmmmmm https://www.realtor.com/realestateandhomes-search/Atlanta_GA/shw-nc/price-800000-na/pg-107\n",
      "https://www.realtor.com/realestateandhomes-detail/778-Elsmere-Pl_Bronx_NY_10460_M48311-65053\n",
      "https://www.realtor.com/realestateandhomes-detail/85-Hewitt-Ave_Staten-Island_NY_10301_M42027-48731\n",
      "https://www.realtor.com/realestateandhomes-detail/11512-227th-St_Cambria-Heights_NY_11411_M36165-42157\n",
      "https://www.realtor.com/realestateandhomes-detail/21624-115th-Ter_Cambria-Heights_NY_11411_M38034-77052\n",
      "https://www.realtor.com/realestateandhomes-detail/4176-Glenwood-St_Little-Neck_NY_11363_M39703-70389\n",
      "https://www.realtor.com/realestateandhomes-detail/276-Lander-Ave_Staten-Island_NY_10314_M42077-41665\n",
      "https://www.realtor.com/realestateandhomes-detail/3621-210th-St_Bayside_NY_11361_M49036-56727\n",
      "https://www.realtor.com/realestateandhomes-detail/Fresh-Meadows_NY_11365_M45199-81104\n",
      "https://www.realtor.com/realestateandhomes-detail/852-71st-St_Brooklyn_NY_11228_M34003-25006\n",
      "https://www.realtor.com/realestateandhomes-detail/1684-Troy-Ave_Brooklyn_NY_11234_M32704-01409\n",
      "https://www.realtor.com/realestateandhomes-detail/11022-207th-St_Queens-Village_NY_11429_M45813-03175\n",
      "https://www.realtor.com/realestateandhomes-detail/1424-E-52nd-St_Brooklyn_NY_11234_M47325-54631\n",
      "https://www.realtor.com/realestateandhomes-detail/233-Atlantic-Ave_Staten-Island_NY_10305_M36309-16662\n",
      "https://www.realtor.com/realestateandhomes-detail/5020-Utopia-Pkwy_Fresh-Meadows_NY_11365_M45480-92220\n",
      "https://www.realtor.com/realestateandhomes-detail/282-Forbell-St_Brooklyn_NY_11208_M32611-63307\n",
      "https://www.realtor.com/realestateandhomes-detail/36-Amador-St_Staten-Island_NY_10303_M37343-60620\n",
      "https://www.realtor.com/realestateandhomes-detail/8818-215th-Pl_Queens-Village_NY_11427_M49999-51219\n",
      "https://www.realtor.com/realestateandhomes-detail/3828-219th-St_Bayside_NY_11361_M42242-02542\n",
      "https://www.realtor.com/realestateandhomes-detail/15-Clark-Pl_Staten-Island_NY_10302_M31669-65827\n",
      "https://www.realtor.com/realestateandhomes-detail/1882-Batchelder-St_Brooklyn_NY_11229_M48336-41389\n",
      "https://www.realtor.com/realestateandhomes-detail/4393-Barnes-Ave_Bronx_NY_10466_M47059-36965\n",
      "https://www.realtor.com/realestateandhomes-detail/14918-24th-Ave_Whitestone_NY_11357_M36193-20136\n",
      "https://www.realtor.com/realestateandhomes-detail/2022-Ford-St_Brooklyn_NY_11229_M39123-76726\n",
      "https://www.realtor.com/realestateandhomes-detail/4815-203rd-St_Oakland-Gardens_NY_11364_M32279-48133\n",
      "https://www.realtor.com/realestateandhomes-detail/510-119th-St_College-Point_NY_11356_M30092-02125\n",
      "https://www.realtor.com/realestateandhomes-detail/2767-Schurz-Ave_Bronx_NY_10465_M35050-88681\n",
      "https://www.realtor.com/realestateandhomes-detail/348-Bleecker-St_Brooklyn_NY_11237_M46472-50442\n",
      "https://www.realtor.com/realestateandhomes-detail/11620-170th-St_Jamaica_NY_11434_M45247-27697\n",
      "https://www.realtor.com/realestateandhomes-detail/25322-147th-Ave_Rosedale_NY_11422_M45411-30641\n",
      "https://www.realtor.com/realestateandhomes-detail/16630-Willets-Point-Blvd_Whitestone_NY_11357_M48882-50149\n",
      "https://www.realtor.com/realestateandhomes-detail/17934-142nd-Ave_Jamaica_NY_11434_M32487-69645\n",
      "https://www.realtor.com/realestateandhomes-detail/111-3rd-Ave-Apt-14F_New-York_NY_10003_M30518-97827\n",
      "https://www.realtor.com/realestateandhomes-detail/22014-130th-Ave_Springfield-Gardens_NY_11413_M46022-42783\n",
      "https://www.realtor.com/realestateandhomes-detail/13-Hett-Ave_Staten-Island_NY_10306_M47408-10153\n",
      "https://www.realtor.com/realestateandhomes-detail/2545-Westervelt-Ave_Bronx_NY_10469_M37863-68866\n",
      "https://www.realtor.com/realestateandhomes-detail/3304-210th-St_Bayside_NY_11361_M37442-75990\n",
      "https://www.realtor.com/realestateandhomes-detail/12-Daleham-St_Staten-Island_NY_10308_M31112-96806\n",
      "https://www.realtor.com/realestateandhomes-detail/11836-154th-St_Jamaica_NY_11434_M36048-55172\n",
      "https://www.realtor.com/realestateandhomes-detail/310-E-23rd-St-Apt-7C_New-York_NY_10010_M45912-92343\n",
      "https://www.realtor.com/realestateandhomes-detail/4411-Edson-Ave_Bronx_NY_10466_M49017-69493\n",
      "https://www.realtor.com/realestateandhomes-detail/1321-Bristow-St_Bronx_NY_10459_M43463-31993\n",
      "https://www.realtor.com/realestateandhomes-detail/1651-82nd-St_Brooklyn_NY_11214_M44674-27045\n",
      "\n",
      "\n",
      "\n",
      "\n",
      " 107\n"
     ]
    },
    {
     "name": "stdout",
     "output_type": "stream",
     "text": [
      "mmmmmmmmmmmmmmmmmmmm https://www.realtor.com/realestateandhomes-search/Atlanta_GA/shw-nc/price-800000-na/pg-108\n",
      "https://www.realtor.com/realestateandhomes-detail/12336-147th-St_Jamaica_NY_11436_M34305-62359\n",
      "https://www.realtor.com/realestateandhomes-detail/Brooklyn_NY_11208_M44121-70580\n",
      "https://www.realtor.com/realestateandhomes-detail/13121-Mathewson-Ct_Jamaica_NY_11434_M32957-20361\n",
      "https://www.realtor.com/realestateandhomes-detail/13215-Bennett-Ct_Jamaica_NY_11434_M36873-96086\n",
      "https://www.realtor.com/realestateandhomes-detail/13424-230th-St_Springfield-Gardens_NY_11413_M33443-01759\n",
      "https://www.realtor.com/realestateandhomes-detail/11455-170th-St_Jamaica_NY_11434_M48739-93037\n",
      "https://www.realtor.com/realestateandhomes-detail/5803-218th-St_Oakland-Gardens_NY_11364_M46394-70237\n",
      "https://www.realtor.com/realestateandhomes-detail/32-Brunswick-St_Staten-Island_NY_10314_M38155-43513\n",
      "https://www.realtor.com/realestateandhomes-detail/6427-Bell-Blvd_Oakland-Gardens_NY_11364_M33467-41808\n",
      "https://www.realtor.com/realestateandhomes-detail/1418-Edwards-Ave_Bronx_NY_10461_M31413-44039\n",
      "https://www.realtor.com/realestateandhomes-detail/453-E-49th-St_Brooklyn_NY_11203_M33130-09680\n",
      "https://www.realtor.com/realestateandhomes-detail/1314-77th-St_Brooklyn_NY_11228_M41589-36425\n",
      "https://www.realtor.com/realestateandhomes-detail/44-Broadway_Howard-Beach_NY_11414_M49882-74170\n",
      "https://www.realtor.com/realestateandhomes-detail/1961-E-34th-St_Brooklyn_NY_11234_M30060-12142\n",
      "https://www.realtor.com/realestateandhomes-detail/399-Harold-St_Staten-Island_NY_10314_M38223-01947\n",
      "https://www.realtor.com/realestateandhomes-detail/1369-Merry-Ave_Bronx_NY_10461_M46935-56448\n",
      "https://www.realtor.com/realestateandhomes-detail/2-Fairview-Ave_Staten-Island_NY_10314_M47766-79585\n",
      "https://www.realtor.com/realestateandhomes-detail/2552-Fish-Ave_Bronx_NY_10469_M32843-56206\n",
      "https://www.realtor.com/realestateandhomes-detail/66-Forest-St_Staten-Island_NY_10314_M32341-94810\n",
      "https://www.realtor.com/realestateandhomes-detail/9019-185th-St_Hollis_NY_11423_M44987-48963\n",
      "https://www.realtor.com/realestateandhomes-detail/1045-Calhoun-Ave_Bronx_NY_10465_M43153-78516\n",
      "https://www.realtor.com/realestateandhomes-detail/502-White-Plains-Rd_Bronx_NY_10473_M46233-63860\n",
      "https://www.realtor.com/realestateandhomes-detail/67-Schaefer-St_Brooklyn_NY_11207_M34943-14788\n",
      "https://www.realtor.com/realestateandhomes-detail/13-Pine-St_Brooklyn_NY_11208_M47550-00803\n",
      "https://www.realtor.com/realestateandhomes-detail/12913-135th-Pl_South-Ozone-Park_NY_11420_M38920-00632\n",
      "https://www.realtor.com/realestateandhomes-detail/3880-Victory-Blvd_Staten-Island_NY_10314_M44018-11321\n",
      "https://www.realtor.com/realestateandhomes-detail/3112-Tiemann-Ave_Bronx_NY_10469_M37230-42657\n",
      "https://www.realtor.com/realestateandhomes-detail/19731-Carpenter-Ave_Hollis_NY_11423_M42021-59477\n",
      "https://www.realtor.com/realestateandhomes-detail/3427-Jordan-St_Flushing_NY_11358_M41681-48970\n",
      "https://www.realtor.com/realestateandhomes-detail/16863-93rd-Ave_Jamaica_NY_11433_M41277-29240\n",
      "https://www.realtor.com/realestateandhomes-detail/10-Finley-Ave_Staten-Island_NY_10306_M93572-15353\n",
      "https://www.realtor.com/realestateandhomes-detail/1253-E-223rd-St_Bronx_NY_10466_M39572-21840\n",
      "https://www.realtor.com/realestateandhomes-detail/708A-Elbe-Ave_Staten-Island_NY_10304_M38787-11212\n",
      "https://www.realtor.com/realestateandhomes-detail/109-Laconia-Ave_Staten-Island_NY_10305_M49315-54916\n",
      "https://www.realtor.com/realestateandhomes-detail/19103-104th-Ave_Saint-Albans_NY_11412_M48005-54459\n",
      "https://www.realtor.com/realestateandhomes-detail/1956-N-Railroad-Ave_Staten-Island_NY_10306_M40570-43268\n",
      "https://www.realtor.com/realestateandhomes-detail/273-Jewett-Ave-Apt-B_Staten-Island_NY_10302_M41979-75907\n",
      "https://www.realtor.com/realestateandhomes-detail/35-Ely-Ave_Staten-Island_NY_10312_M47487-49021\n",
      "https://www.realtor.com/realestateandhomes-detail/290-Seguine-Ave_Staten-Island_NY_10309_M36939-22180\n",
      "https://www.realtor.com/realestateandhomes-detail/10329-171st-St_Jamaica_NY_11433_M36481-29155\n",
      "https://www.realtor.com/realestateandhomes-detail/15604-113th-Ave_Jamaica_NY_11433_M40369-29808\n",
      "https://www.realtor.com/realestateandhomes-detail/5817-Avenue-L_Brooklyn_NY_11234_M39547-90444\n",
      "\n",
      "\n",
      "\n",
      "\n",
      " 108\n"
     ]
    },
    {
     "name": "stdout",
     "output_type": "stream",
     "text": [
      "mmmmmmmmmmmmmmmmmmmm https://www.realtor.com/realestateandhomes-search/Atlanta_GA/shw-nc/price-800000-na/pg-109\n",
      "https://www.realtor.com/realestateandhomes-detail/10329-171st-St_Jamaica_NY_11433_M36481-29155\n",
      "https://www.realtor.com/realestateandhomes-detail/5817-Avenue-L_Brooklyn_NY_11234_M39547-90444\n",
      "https://www.realtor.com/realestateandhomes-detail/49-Weed-Ave_Staten-Island_NY_10306_M34885-42019\n",
      "https://www.realtor.com/realestateandhomes-detail/440-Westervelt-Ave_Staten-Island_NY_10301_M40565-21545\n",
      "https://www.realtor.com/realestateandhomes-detail/5928-159th-St_Fresh-Meadows_NY_11365_M40086-90448\n",
      "https://www.realtor.com/realestateandhomes-detail/4749-157th-St_Flushing_NY_11355_M45464-48147\n",
      "https://www.realtor.com/realestateandhomes-detail/40-Greenway-Ave_Staten-Island_NY_10314_M91637-86854\n",
      "https://www.realtor.com/realestateandhomes-detail/2256-Andrews-Ave_Bronx_NY_10468_M49926-35233\n",
      "https://www.realtor.com/realestateandhomes-detail/11114-205th-St_Saint-Albans_NY_11412_M40484-28537\n",
      "https://www.realtor.com/realestateandhomes-detail/1424-138th-St_College-Point_NY_11356_M44989-35293\n",
      "https://www.realtor.com/realestateandhomes-detail/1561-E-53rd-St_Brooklyn_NY_11234_M43765-38561\n",
      "https://www.realtor.com/realestateandhomes-detail/16-Ashwood-Ct_Staten-Island_NY_10308_M37053-64568\n",
      "https://www.realtor.com/realestateandhomes-detail/11015-214th-St_Queens-Village_NY_11429_M41912-82193\n",
      "https://www.realtor.com/realestateandhomes-detail/20-Country-Ln_Staten-Island_NY_10312_M41605-80651\n",
      "https://www.realtor.com/realestateandhomes-detail/424-Hinsdale-St_Brooklyn_NY_11207_M39516-08317\n",
      "https://www.realtor.com/realestateandhomes-detail/556-Eltingville-Blvd_Staten-Island_NY_10312_M40900-91923\n",
      "https://www.realtor.com/realestateandhomes-detail/309-Corbin-Ave_Staten-Island_NY_10308_M40430-15866\n",
      "https://www.realtor.com/realestateandhomes-detail/589-Saratoga-Ave_Brooklyn_NY_11212_M44952-10472\n",
      "https://www.realtor.com/realestateandhomes-detail/288-Chester-St_Brooklyn_NY_11212_M46382-74425\n",
      "https://www.realtor.com/realestateandhomes-detail/16339-21st-Ave_Whitestone_NY_11357_M46189-80266\n",
      "https://www.realtor.com/realestateandhomes-detail/424-Applegate-Ct_Brooklyn_NY_11223_M42007-05249\n",
      "https://www.realtor.com/realestateandhomes-detail/567-E-51st-St_Brooklyn_NY_11203_M43600-91686\n",
      "https://www.realtor.com/realestateandhomes-detail/23112-128th-Rd_Springfield-Gardens_NY_11413_M38649-60079\n",
      "https://www.realtor.com/realestateandhomes-detail/10331-177th-St_Jamaica_NY_11433_M39388-54071\n",
      "https://www.realtor.com/realestateandhomes-detail/9139-91st-St_Woodhaven_NY_11421_M34872-94422\n",
      "https://www.realtor.com/realestateandhomes-detail/6403-136th-St_Flushing_NY_11367_M34978-77950\n",
      "https://www.realtor.com/realestateandhomes-detail/11431-223rd-St_Cambria-Heights_NY_11411_M35193-52579\n",
      "https://www.realtor.com/realestateandhomes-detail/1906-E-38th-St_Brooklyn_NY_11234_M30787-69783\n",
      "https://www.realtor.com/realestateandhomes-detail/14018-Rockaway-Blvd_Jamaica_NY_11436_M49937-39299\n",
      "https://www.realtor.com/realestateandhomes-detail/11473-145th-St_Jamaica_NY_11436_M49766-25888\n",
      "https://www.realtor.com/realestateandhomes-detail/1875-E-22nd-St_Brooklyn_NY_11229_M49859-75115\n",
      "https://www.realtor.com/realestateandhomes-detail/246-Aspen-Knolls-Way_Staten-Island_NY_10312_M30825-53392\n",
      "https://www.realtor.com/realestateandhomes-detail/9708-190th-St_Hollis_NY_11423_M33804-07475\n",
      "https://www.realtor.com/realestateandhomes-detail/11919-236th-St_Cambria-Heights_NY_11411_M30948-30334\n",
      "https://www.realtor.com/realestateandhomes-detail/5112-Snyder-Ave_Brooklyn_NY_11203_M46389-96999\n",
      "https://www.realtor.com/realestateandhomes-detail/38-Greenway-Ave_Staten-Island_NY_10314_M99104-73477\n",
      "https://www.realtor.com/realestateandhomes-detail/113-Van-Pelt-Ave_Staten-Island_NY_10303_M49049-98820\n",
      "https://www.realtor.com/realestateandhomes-detail/3184-Ampere-Ave_Bronx_NY_10465_M33979-57319\n",
      "https://www.realtor.com/realestateandhomes-detail/Bronx_NY_10469_M37338-87047\n",
      "https://www.realtor.com/realestateandhomes-detail/13955-230th-Pl-55_Springfield-Gardens_NY_11413_M96042-08338\n",
      "https://www.realtor.com/realestateandhomes-detail/5808-219th-St_Oakland-Gardens_NY_11364_M38888-81145\n",
      "https://www.realtor.com/realestateandhomes-detail/3102-Wissman-Ave_Bronx_NY_10465_M38554-77593\n",
      "\n",
      "\n",
      "\n",
      "\n",
      " 109\n"
     ]
    },
    {
     "name": "stdout",
     "output_type": "stream",
     "text": [
      "mmmmmmmmmmmmmmmmmmmm https://www.realtor.com/realestateandhomes-search/Atlanta_GA/shw-nc/price-800000-na/pg-110\n",
      "https://www.realtor.com/realestateandhomes-detail/5808-219th-St_Oakland-Gardens_NY_11364_M38888-81145\n",
      "https://www.realtor.com/realestateandhomes-detail/13955-230th-Pl-55_Springfield-Gardens_NY_11413_M96042-08338\n",
      "https://www.realtor.com/realestateandhomes-detail/7733-76th-St_Ridgewood_NY_11385_M42170-12844\n",
      "https://www.realtor.com/realestateandhomes-detail/3316-Mickle-Ave_Bronx_NY_10469_M32590-86748\n",
      "https://www.realtor.com/realestateandhomes-detail/9961-163rd-Rd_Howard-Beach_NY_11414_M34100-38881\n",
      "https://www.realtor.com/realestateandhomes-detail/34-Harris-Ln_Staten-Island_NY_10309_M98593-76022\n",
      "https://www.realtor.com/realestateandhomes-detail/16514-144th-Ave_Jamaica_NY_11434_M46695-40000\n",
      "https://www.realtor.com/realestateandhomes-detail/24944-Thebes-Ave_Little-Neck_NY_11362_M30677-94856\n",
      "https://www.realtor.com/realestateandhomes-detail/994-Rensselaer-Ave_Staten-Island_NY_10309_M39316-09254\n",
      "https://www.realtor.com/realestateandhomes-detail/11431-145th-St_Jamaica_NY_11436_M32094-02289\n",
      "https://www.realtor.com/realestateandhomes-detail/55-Kingdom-Ave_Staten-Island_NY_10312_M44330-47180\n",
      "https://www.realtor.com/realestateandhomes-detail/17907-Murdock-Ave_Jamaica_NY_11434_M35530-45147\n",
      "https://www.realtor.com/realestateandhomes-detail/15712-110th-Ave_Jamaica_NY_11433_M49029-93247\n",
      "https://www.realtor.com/realestateandhomes-detail/9422-124th-St_South-Richmond-Hill_NY_11419_M48752-65153\n",
      "https://www.realtor.com/realestateandhomes-detail/18230-Tudor-Rd_Jamaica_NY_11432_M34194-96300\n",
      "https://www.realtor.com/realestateandhomes-detail/8019-236th-St_Queens-Village_NY_11427_M40640-73936\n",
      "https://www.realtor.com/realestateandhomes-detail/140-Hendricks-Ave_Staten-Island_NY_10301_M39878-96052\n",
      "https://www.realtor.com/realestateandhomes-detail/406-Hinsdale-St_Brooklyn_NY_11207_M33280-13334\n",
      "https://www.realtor.com/realestateandhomes-detail/89-14-85th_Woodhaven_NY_11421_M92152-35823\n",
      "https://www.realtor.com/realestateandhomes-detail/5853-41st-Dr_Woodside_NY_11377_M46017-62178\n",
      "https://www.realtor.com/realestateandhomes-detail/13822-63rd-Ave_Flushing_NY_11367_M47798-08702\n",
      "https://www.realtor.com/realestateandhomes-detail/185-Oxford-St_Brooklyn_NY_11235_M38677-03085\n",
      "https://www.realtor.com/realestateandhomes-detail/26-Guilford-St_Staten-Island_NY_10305_M31358-84074\n",
      "https://www.realtor.com/realestateandhomes-detail/1538-St-Marks-Ave_Brooklyn_NY_11233_M92873-52907\n",
      "https://www.realtor.com/realestateandhomes-detail/23426-134th-Rd_Rosedale_NY_11422_M41795-93986\n",
      "https://www.realtor.com/realestateandhomes-detail/699-Sackman-St_Brooklyn_NY_11212_M38562-41622\n",
      "https://www.realtor.com/realestateandhomes-detail/6121-160th-St_Fresh-Meadows_NY_11365_M35516-74227\n",
      "https://www.realtor.com/realestateandhomes-detail/16233-76th-Rd_Fresh-Meadows_NY_11366_M37662-88790\n",
      "https://www.realtor.com/realestateandhomes-detail/12310-144th-St_Jamaica_NY_11436_M46743-70052\n",
      "https://www.realtor.com/realestateandhomes-detail/445-Walker-St_Staten-Island_NY_10303_M43451-17227\n",
      "https://www.realtor.com/realestateandhomes-detail/10222-221st-St_Queens-Village_NY_11429_M48130-70528\n",
      "https://www.realtor.com/realestateandhomes-detail/1277-E-223rd-St_Bronx_NY_10466_M39396-69581\n",
      "https://www.realtor.com/realestateandhomes-detail/11040-176th-St_Jamaica_NY_11433_M34229-31065\n",
      "https://www.realtor.com/realestateandhomes-detail/4831-Wilder-Ave_Bronx_NY_10470_M35847-37372\n",
      "https://www.realtor.com/realestateandhomes-detail/1720-George-St_Ridgewood_NY_11385_M47238-46628\n",
      "https://www.realtor.com/realestateandhomes-detail/15114-84th-Rd_Jamaica_NY_11432_M45953-86553\n",
      "https://www.realtor.com/realestateandhomes-detail/3245-105th-St_East-Elmhurst_NY_11369_M44603-85648\n",
      "https://www.realtor.com/realestateandhomes-detail/105-Labau-Ave_Staten-Island_NY_10301_M31994-00495\n",
      "https://www.realtor.com/realestateandhomes-detail/14560-175th-St_Jamaica_NY_11434_M46729-20532\n",
      "https://www.realtor.com/realestateandhomes-detail/2934-Throop-Ave_Bronx_NY_10469_M49471-28443\n",
      "https://www.realtor.com/realestateandhomes-detail/11828-200th-St_Saint-Albans_NY_11412_M37493-32786\n",
      "https://www.realtor.com/realestateandhomes-detail/252A-Livingston-Ave_Staten-Island_NY_10314_M95593-20592\n",
      "\n",
      "\n",
      "\n",
      "\n",
      " 110\n"
     ]
    },
    {
     "name": "stdout",
     "output_type": "stream",
     "text": [
      "mmmmmmmmmmmmmmmmmmmm https://www.realtor.com/realestateandhomes-search/Atlanta_GA/shw-nc/price-800000-na/pg-111\n",
      "https://www.realtor.com/realestateandhomes-detail/2919-Wallace-Ave_Bronx_NY_10467_M43825-54489\n",
      "https://www.realtor.com/realestateandhomes-detail/11649-121st-St_South-Ozone-Park_NY_11420_M48839-70160\n",
      "https://www.realtor.com/realestateandhomes-detail/15225-118th-Ave_Jamaica_NY_11434_M42105-89101\n",
      "https://www.realtor.com/realestateandhomes-detail/8848-202nd-St_Hollis_NY_11423_M41423-87351\n",
      "https://www.realtor.com/realestateandhomes-detail/4135-Murdock-Ave_Bronx_NY_10466_M43074-81285\n",
      "https://www.realtor.com/realestateandhomes-detail/84-Elm-St_Staten-Island_NY_10310_M92773-91948\n",
      "https://www.realtor.com/realestateandhomes-detail/1460-E-86th-St_Brooklyn_NY_11236_M48563-96298\n",
      "https://www.realtor.com/realestateandhomes-detail/18814-Woodhull-Ave_Hollis_NY_11423_M34576-14285\n",
      "https://www.realtor.com/realestateandhomes-detail/8537-90th-St_Woodhaven_NY_11421_M34716-21908\n",
      "https://www.realtor.com/realestateandhomes-detail/3809-205th-St_Bayside_NY_11361_M30233-92226\n",
      "https://www.realtor.com/realestateandhomes-detail/8842-162nd-St_Jamaica_NY_11432_M41743-72902\n",
      "https://www.realtor.com/realestateandhomes-detail/60-E-8th-St-Apt-31J_New-York_NY_10003_M44119-52669\n",
      "https://www.realtor.com/realestateandhomes-detail/110-Maybury-Ave_Staten-Island_NY_10308_M38344-79687\n",
      "https://www.realtor.com/realestateandhomes-detail/2759-Tenbroeck-Ave_Bronx_NY_10469_M37809-62155\n",
      "https://www.realtor.com/realestateandhomes-detail/839-E-220th-St_Bronx_NY_10467_M44890-89594\n",
      "https://www.realtor.com/realestateandhomes-detail/10914-115th-St_South-Ozone-Park_NY_11420_M40393-00308\n",
      "https://www.realtor.com/realestateandhomes-detail/781-E-38th-St_Brooklyn_NY_11210_M39956-97076\n",
      "https://www.realtor.com/realestateandhomes-detail/14734-33rd-Ave_Flushing_NY_11354_M31865-55117\n",
      "https://www.realtor.com/realestateandhomes-detail/13312-133rd-St_South-Ozone-Park_NY_11420_M30869-79296\n",
      "https://www.realtor.com/realestateandhomes-detail/1524-Harding-Park_Bronx_NY_10473_M42330-72570\n",
      "https://www.realtor.com/realestateandhomes-detail/22635-76th-Rd_Oakland-Gardens_NY_11364_M45714-85785\n",
      "https://www.realtor.com/realestateandhomes-detail/440-Beach-46th-St_Far-Rockaway_NY_11691_M39176-39600\n",
      "https://www.realtor.com/realestateandhomes-detail/24923-Thebes-Ave_Little-Neck_NY_11362_M38113-72357\n",
      "https://www.realtor.com/realestateandhomes-detail/8913-88th-St_Woodhaven_NY_11421_M32591-64398\n",
      "https://www.realtor.com/realestateandhomes-detail/51-Hamden-Ave_Staten-Island_NY_10306_M47077-79932\n",
      "https://www.realtor.com/realestateandhomes-detail/343-Ardsley-St_Staten-Island_NY_10306_M99042-79589\n",
      "https://www.realtor.com/realestateandhomes-detail/5631-Metropolitan-Ave_Ridgewood_NY_11385_M95194-23698\n",
      "https://www.realtor.com/realestateandhomes-detail/1473-E-56th-St_Brooklyn_NY_11234_M32338-93381\n",
      "https://www.realtor.com/realestateandhomes-detail/23607-Seward-Ave_Queens-Village_NY_11427_M40523-72430\n",
      "https://www.realtor.com/realestateandhomes-detail/16322-91st-St_Howard-Beach_NY_11414_M43534-76171\n",
      "https://www.realtor.com/realestateandhomes-detail/9251-224th-St_Queens-Village_NY_11428_M32708-37381\n",
      "https://www.realtor.com/realestateandhomes-detail/14720-27th-Ave_Flushing_NY_11354_M31324-76640\n",
      "https://www.realtor.com/realestateandhomes-detail/11009-34th-Ave_Corona_NY_11368_M45615-40853\n",
      "https://www.realtor.com/realestateandhomes-detail/2994-Holland-Ave_Bronx_NY_10467_M40583-35714\n",
      "https://www.realtor.com/realestateandhomes-detail/19-Spirit-Ln_Staten-Island_NY_10303_M36563-82751\n",
      "https://www.realtor.com/realestateandhomes-detail/8562-67th-Dr_Rego-Park_NY_11374_M43597-69743\n",
      "https://www.realtor.com/realestateandhomes-detail/7803-10th-Ave_Brooklyn_NY_11228_M32881-54519\n",
      "https://www.realtor.com/realestateandhomes-detail/Clintonville-St_Queens_NY_11357_M40955-90619\n",
      "https://www.realtor.com/realestateandhomes-detail/87-Burke-Ave_Staten-Island_NY_10314_M40697-01246\n",
      "https://www.realtor.com/realestateandhomes-detail/5736-156th-St_Flushing_NY_11355_M41487-27636\n",
      "https://www.realtor.com/realestateandhomes-detail/11450-121st-St_Jamaica_NY_11420_M37765-26774\n",
      "https://www.realtor.com/realestateandhomes-detail/574-Travis-Ave_Staten-Island_NY_10314_M44454-25771\n",
      "\n",
      "\n",
      "\n",
      "\n",
      " 111\n"
     ]
    },
    {
     "name": "stdout",
     "output_type": "stream",
     "text": [
      "mmmmmmmmmmmmmmmmmmmm https://www.realtor.com/realestateandhomes-search/Atlanta_GA/shw-nc/price-800000-na/pg-112\n",
      "https://www.realtor.com/realestateandhomes-detail/1221-E-223rd-St_Bronx_NY_10466_M40015-19673\n",
      "https://www.realtor.com/realestateandhomes-detail/11034-Union-Hall-St_Jamaica_NY_11433_M44879-17872\n",
      "https://www.realtor.com/realestateandhomes-detail/14829-Laburnum-Ave_Flushing_NY_11355_M37666-57078\n",
      "https://www.realtor.com/realestateandhomes-detail/8103-Surrey-Pl_Jamaica_NY_11432_M39767-33939\n",
      "https://www.realtor.com/realestateandhomes-detail/3613-Paulding-Ave_Bronx_NY_10469_M31328-24660\n",
      "https://www.realtor.com/realestateandhomes-detail/3311-Gunther-Ave_Bronx_NY_10469_M46234-99625\n",
      "https://www.realtor.com/realestateandhomes-detail/74-Steele-Ave_Staten-Island_NY_10306_M48869-91850\n",
      "https://www.realtor.com/realestateandhomes-detail/516-Beach-72nd-St_Arverne_NY_11692_M48059-02382\n",
      "https://www.realtor.com/realestateandhomes-detail/1454-E-53rd-St_Brooklyn_NY_11234_M41418-37655\n",
      "https://www.realtor.com/realestateandhomes-detail/1239-E-57th-St_Brooklyn_NY_11234_M40750-47640\n",
      "https://www.realtor.com/realestateandhomes-detail/12809-160th-St_Jamaica_NY_11434_M44661-21667\n",
      "https://www.realtor.com/realestateandhomes-detail/21904-119th-Ave_Cambria-Heights_NY_11411_M42114-34845\n",
      "https://www.realtor.com/realestateandhomes-detail/14-Holly-Pl_Staten-Island_NY_10306_M36771-15058\n",
      "https://www.realtor.com/realestateandhomes-detail/5514-Avenue-L_Brooklyn_NY_11234_M30264-33879\n",
      "https://www.realtor.com/realestateandhomes-detail/173-Roosevelt-Ave_Staten-Island_NY_10314_M32181-57859\n",
      "https://www.realtor.com/realestateandhomes-detail/104-Winfield-St_Staten-Island_NY_10305_M40091-85910\n",
      "https://www.realtor.com/realestateandhomes-detail/14320-182nd-Pl_Springfield-Gardens_NY_11413_M32801-84835\n",
      "https://www.realtor.com/realestateandhomes-detail/212-Beach-117th-St_Rockaway-Park_NY_11694_M37986-40334\n",
      "https://www.realtor.com/realestateandhomes-detail/405-Winant-Ave_Staten-Island_NY_10309_M36563-86970\n",
      "https://www.realtor.com/realestateandhomes-detail/2116-Voorhies-Ave_Brooklyn_NY_11235_M42680-00541\n",
      "https://www.realtor.com/realestateandhomes-detail/70-Charlton-St-Apt-7C_New-York_NY_10014_M49772-19970\n",
      "https://www.realtor.com/realestateandhomes-detail/9429-114th-St_South-Richmond-Hill_NY_11419_M43610-74051\n",
      "https://www.realtor.com/realestateandhomes-detail/13733-220th-Pl_Springfield-Gardens_NY_11413_M33283-51935\n",
      "https://www.realtor.com/realestateandhomes-detail/1158-E-83rd-St_Brooklyn_NY_11236_M34303-82174\n",
      "https://www.realtor.com/realestateandhomes-detail/17203-119th-Ave_Jamaica_NY_11434_M30875-26913\n",
      "https://www.realtor.com/realestateandhomes-detail/11546-199th-St_Saint-Albans_NY_11412_M46897-46365\n",
      "https://www.realtor.com/realestateandhomes-detail/8329-Little-Neck-Pkwy_Glen-Oaks_NY_11004_M49333-32919\n",
      "https://www.realtor.com/realestateandhomes-detail/14602-120th-Ave_Jamaica_NY_11436_M48915-89869\n",
      "https://www.realtor.com/realestateandhomes-detail/24-Von-Braun-Ave_Staten-Island_NY_10312_M39898-84965\n",
      "https://www.realtor.com/realestateandhomes-detail/16444-81st-Ave_Jamaica_NY_11432_M32768-79538\n",
      "https://www.realtor.com/realestateandhomes-detail/1933-Pilgrim-Ave_Bronx_NY_10461_M30832-02871\n",
      "https://www.realtor.com/realestateandhomes-detail/4287-Hampton-St_Elmhurst_NY_11373_M35894-50520\n",
      "https://www.realtor.com/realestateandhomes-detail/7-Lexington-Ave-Apt-7H_New-York_NY_10010_M32029-79521\n",
      "https://www.realtor.com/realestateandhomes-detail/17913-134th-Ave_Jamaica_NY_11434_M36506-94208\n",
      "https://www.realtor.com/realestateandhomes-detail/14222-122nd-Ave_Jamaica_NY_11436_M40909-61053\n",
      "https://www.realtor.com/realestateandhomes-detail/52A-Francine-Ct_Staten-Island_NY_10306_M93451-38536\n",
      "https://www.realtor.com/realestateandhomes-detail/3946-Secor-Ave_Bronx_NY_10466_M46964-32224\n",
      "https://www.realtor.com/realestateandhomes-detail/17130-103rd-Rd_Jamaica_NY_11433_M30105-55072\n",
      "https://www.realtor.com/realestateandhomes-detail/11114-158th-St_Jamaica_NY_11433_M44859-80043\n",
      "https://www.realtor.com/realestateandhomes-detail/964-E-229th-St_Bronx_NY_10466_M31467-58973\n",
      "https://www.realtor.com/realestateandhomes-detail/179-Benton-Ave_Staten-Island_NY_10305_M37423-79096\n",
      "https://www.realtor.com/realestateandhomes-detail/15144-28th-Ave_Flushing_NY_11354_M46739-33010\n",
      "\n",
      "\n",
      "\n",
      "\n",
      " 112\n"
     ]
    },
    {
     "name": "stdout",
     "output_type": "stream",
     "text": [
      "mmmmmmmmmmmmmmmmmmmm https://www.realtor.com/realestateandhomes-search/Atlanta_GA/shw-nc/price-800000-na/pg-113\n",
      "https://www.realtor.com/realestateandhomes-detail/49-Marine-Way_Staten-Island_NY_10306_M39416-30644\n",
      "https://www.realtor.com/realestateandhomes-detail/100-Arlington-Ave_Staten-Island_NY_10303_M38496-92415\n",
      "https://www.realtor.com/realestateandhomes-detail/15144-28th-Ave_Flushing_NY_11354_M46739-33010\n",
      "https://www.realtor.com/realestateandhomes-detail/11123-167th-St_Jamaica_NY_11433_M90141-76233\n",
      "https://www.realtor.com/realestateandhomes-detail/17928-142nd-Ave_Jamaica_NY_11434_M33871-55547\n",
      "https://www.realtor.com/realestateandhomes-detail/825-Tysens-Ln_Staten-Island_NY_10306_M32659-22648\n",
      "https://www.realtor.com/realestateandhomes-detail/263-Slater-Blvd_Staten-Island_NY_10305_M40546-32354\n",
      "https://www.realtor.com/realestateandhomes-detail/5039-201st-St_Oakland-Gardens_NY_11364_M39361-51327\n",
      "https://www.realtor.com/realestateandhomes-detail/1787-Patterson-Ave_Bronx_NY_10473_M46673-69863\n",
      "https://www.realtor.com/realestateandhomes-detail/273-Dorset-St_Brooklyn_NY_11236_M44520-67180\n",
      "https://www.realtor.com/realestateandhomes-detail/300-E-85th-St-Apt-2902_New-York_NY_10028_M41996-45661\n",
      "https://www.realtor.com/realestateandhomes-detail/Brooklyn_NY_11236_M37318-41608\n",
      "https://www.realtor.com/realestateandhomes-detail/13045-220th-St_Springfield-Gardens_NY_11413_M32588-88219\n",
      "https://www.realtor.com/realestateandhomes-detail/17409-69th-Ave_Fresh-Meadows_NY_11365_M40814-84132\n",
      "https://www.realtor.com/realestateandhomes-detail/16131-Mathias-Ave_Jamaica_NY_11433_M49160-07498\n",
      "https://www.realtor.com/realestateandhomes-detail/15323-110th-Rd_Jamaica_NY_11433_M39382-12327\n",
      "https://www.realtor.com/realestateandhomes-detail/1846-70th-St_Brooklyn_NY_11204_M49974-71918\n",
      "https://www.realtor.com/realestateandhomes-detail/372-Gower-St_Staten-Island_NY_10314_M48310-76489\n",
      "https://www.realtor.com/realestateandhomes-detail/4419-192nd-St_Flushing_NY_11358_M35679-60667\n",
      "https://www.realtor.com/realestateandhomes-detail/10421-171st-St_Jamaica_NY_11433_M35311-64660\n",
      "https://www.realtor.com/realestateandhomes-detail/4713-Kings-Hwy_Brooklyn_NY_11234_M33819-75641\n",
      "https://www.realtor.com/realestateandhomes-detail/201-E-23rd-St-6C_New-York_NY_10010_M98870-95272\n",
      "https://www.realtor.com/realestateandhomes-detail/476-Gower-St_Staten-Island_NY_10314_M36737-77570\n",
      "https://www.realtor.com/realestateandhomes-detail/18823-118th-Ave_Saint-Albans_NY_11412_M42015-70742\n",
      "https://www.realtor.com/realestateandhomes-detail/6644-Thornton-Pl_Rego-Park_NY_11374_M43487-39024\n",
      "https://www.realtor.com/realestateandhomes-detail/1494-E-58th-St_Brooklyn_NY_11234_M35696-74747\n",
      "https://www.realtor.com/realestateandhomes-detail/11715-146th-St_Jamaica_NY_11436_M42934-79929\n",
      "https://www.realtor.com/realestateandhomes-detail/2507-121st-St_Flushing_NY_11354_M44933-53625\n",
      "https://www.realtor.com/realestateandhomes-detail/1218-Havemeyer-Ave_Bronx_NY_10462_M36907-72277\n",
      "https://www.realtor.com/realestateandhomes-detail/10941-164th-St_Jamaica_NY_11433_M47810-96349\n",
      "https://www.realtor.com/realestateandhomes-detail/10914-177th-St_Jamaica_NY_11433_M33893-54450\n",
      "https://www.realtor.com/realestateandhomes-detail/1662-E-48th-St_Brooklyn_NY_11234_M31669-26482\n",
      "https://www.realtor.com/realestateandhomes-detail/1966-E-36th-St_Brooklyn_NY_11234_M30773-90943\n",
      "https://www.realtor.com/realestateandhomes-detail/13708-246th-St_Rosedale_NY_11422_M36619-23852\n",
      "https://www.realtor.com/realestateandhomes-detail/233-Swinton-Ave_Bronx_NY_10465_M38907-62143\n",
      "https://www.realtor.com/realestateandhomes-detail/12225-26th-Ave_Flushing_NY_11354_M39671-71816\n",
      "https://www.realtor.com/realestateandhomes-detail/10755-111th-St_South-Richmond-Hill_NY_11419_M49800-87249\n",
      "https://www.realtor.com/realestateandhomes-detail/11409-127th-St_South-Ozone-Park_NY_11420_M38985-31099\n",
      "https://www.realtor.com/realestateandhomes-detail/45-Vanessa-Ln_Staten-Island_NY_10312_M45221-78724\n",
      "https://www.realtor.com/realestateandhomes-detail/15409-118th-Ave_Jamaica_NY_11434_M36531-51834\n",
      "https://www.realtor.com/realestateandhomes-detail/4-Vreeland-St_Staten-Island_NY_10302_M36741-81198\n",
      "https://www.realtor.com/realestateandhomes-detail/17814-145th-Dr_Jamaica_NY_11434_M34958-29546\n",
      "\n",
      "\n",
      "\n",
      "\n",
      " 113\n"
     ]
    },
    {
     "name": "stdout",
     "output_type": "stream",
     "text": [
      "mmmmmmmmmmmmmmmmmmmm https://www.realtor.com/realestateandhomes-search/Atlanta_GA/shw-nc/price-800000-na/pg-114\n",
      "https://www.realtor.com/realestateandhomes-detail/1559-150th-Pl_Whitestone_NY_11357_M40068-72640\n",
      "https://www.realtor.com/realestateandhomes-detail/284-Eldert-Ln_Brooklyn_NY_11208_M37636-64797\n",
      "https://www.realtor.com/realestateandhomes-detail/508-Jersey-St_Staten-Island_NY_10301_M43833-24968\n",
      "https://www.realtor.com/realestateandhomes-detail/419-Travis-Ave_Staten-Island_NY_10314_M38540-03892\n",
      "https://www.realtor.com/realestateandhomes-detail/127-Husson-Ave_Bronx_NY_10473_M38824-34168\n",
      "https://www.realtor.com/realestateandhomes-detail/267-Graves-St_Staten-Island_NY_10314_M36901-72292\n",
      "https://www.realtor.com/realestateandhomes-detail/117-Milton-Ave_Staten-Island_NY_10306_M46597-56728\n",
      "https://www.realtor.com/realestateandhomes-detail/18620-Brinkerhoff-Ave_Saint-Albans_NY_11412_M43202-20429\n",
      "https://www.realtor.com/realestateandhomes-detail/15731-23rd-Ave_Whitestone_NY_11357_M32893-56109\n",
      "https://www.realtor.com/realestateandhomes-detail/3269-Decatur-Ave_Bronx_NY_10467_M38673-86951\n",
      "https://www.realtor.com/realestateandhomes-detail/5920-Parsons-Blvd_Fresh-Meadows_NY_11365_M43489-87442\n",
      "https://www.realtor.com/realestateandhomes-detail/534-Warwick-St_Brooklyn_NY_11207_M45904-17954\n",
      "https://www.realtor.com/realestateandhomes-detail/10316-Van-Wyck-Expy_South-Richmond-Hill_NY_11419_M31264-07793\n",
      "https://www.realtor.com/realestateandhomes-detail/6616-Clyde-St_Rego-Park_NY_11374_M32102-69555\n",
      "https://www.realtor.com/realestateandhomes-detail/1825-Linden-Blvd_Brooklyn_NY_11207_M30736-17942\n",
      "https://www.realtor.com/realestateandhomes-detail/28-Von-Braun-Ave_Staten-Island_NY_10312_M38841-04624\n",
      "https://www.realtor.com/realestateandhomes-detail/11556-147th-St_Jamaica_NY_11436_M43848-88211\n",
      "https://www.realtor.com/realestateandhomes-detail/44-Greenway-Ave_Staten-Island_NY_10314_M48575-85169\n",
      "https://www.realtor.com/realestateandhomes-detail/175-Caswell-Ave_Staten-Island_NY_10314_M34301-75179\n",
      "https://www.realtor.com/realestateandhomes-detail/12117-196th-St_Jamaica_NY_11413_M38511-84978\n",
      "https://www.realtor.com/realestateandhomes-detail/35-Duke-Pl_Staten-Island_NY_10314_M43544-69053\n",
      "https://www.realtor.com/realestateandhomes-detail/1724-Coleman-St_Brooklyn_NY_11234_M43755-97466\n",
      "https://www.realtor.com/realestateandhomes-detail/14451-224th-St_Springfield-Gardens_NY_11413_M33803-00659\n",
      "https://www.realtor.com/realestateandhomes-detail/5644-190th-St_Fresh-Meadows_NY_11365_M49400-55403\n",
      "https://www.realtor.com/realestateandhomes-detail/1950-20th-Dr_Brooklyn_NY_11214_M43462-23680\n",
      "https://www.realtor.com/realestateandhomes-detail/124-Pennsylvania-Ave_Brooklyn_NY_11207_M48985-39768\n",
      "https://www.realtor.com/realestateandhomes-detail/539-Lexington-Ave_Brooklyn_NY_11221_M44631-42165\n",
      "https://www.realtor.com/realestateandhomes-detail/15-Ann-St_Staten-Island_NY_10302_M45999-10558\n",
      "https://www.realtor.com/realestateandhomes-detail/301-E-69th-St-Apt-11E_New-York_NY_10021_M96291-88986\n",
      "https://www.realtor.com/realestateandhomes-detail/3462-Richmond-Rd_Staten-Island_NY_10306_M45007-66918\n",
      "https://www.realtor.com/realestateandhomes-detail/5-Center-Dr_Whitestone_NY_11357_M42577-71636\n",
      "https://www.realtor.com/realestateandhomes-detail/20612-46th-Rd_Bayside_NY_11361_M40623-79298\n",
      "https://www.realtor.com/realestateandhomes-detail/10927-175th-St_Jamaica_NY_11433_M38536-13562\n",
      "https://www.realtor.com/realestateandhomes-detail/1173-E-45th-St_Brooklyn_NY_11234_M42860-49333\n",
      "https://www.realtor.com/realestateandhomes-detail/1468-71st-St_Brooklyn_NY_11228_M34804-53783\n",
      "https://www.realtor.com/realestateandhomes-detail/9208-95th-Ave_Ozone-Park_NY_11416_M97443-98750\n",
      "https://www.realtor.com/realestateandhomes-detail/701-Willowbrook-Rd_Staten-Island_NY_10314_M95407-28724\n",
      "https://www.realtor.com/realestateandhomes-detail/11522-146th-St-1_Jamaica_NY_11436_M96611-89017\n",
      "https://www.realtor.com/realestateandhomes-detail/15-Hope-Ave_Staten-Island_NY_10305_M47699-61566\n",
      "https://www.realtor.com/realestateandhomes-detail/36-Harris-Ln_Staten-Island_NY_10309_M95283-30933\n",
      "https://www.realtor.com/realestateandhomes-detail/123-Bradford-St_Brooklyn_NY_11207_M30710-64660\n",
      "https://www.realtor.com/realestateandhomes-detail/143-Monahan-Ave_Staten-Island_NY_10314_M37806-27251\n",
      "\n",
      "\n",
      "\n",
      "\n",
      " 114\n"
     ]
    },
    {
     "name": "stdout",
     "output_type": "stream",
     "text": [
      "mmmmmmmmmmmmmmmmmmmm https://www.realtor.com/realestateandhomes-search/Atlanta_GA/shw-nc/price-800000-na/pg-115\n",
      "https://www.realtor.com/realestateandhomes-detail/48-Canton-Close_Brooklyn_NY_11229_M90387-51701\n",
      "https://www.realtor.com/realestateandhomes-detail/130-E-63rd-St-Apt-3D_New-York_NY_10065_M38859-82410\n",
      "https://www.realtor.com/realestateandhomes-detail/5336-66th-St_Maspeth_NY_11378_M45047-15366\n",
      "https://www.realtor.com/realestateandhomes-detail/15426-Riverside-Dr_Whitestone_NY_11357_M33594-80463\n",
      "https://www.realtor.com/realestateandhomes-detail/3524-Avenue-R_Brooklyn_NY_11234_M41968-47261\n",
      "https://www.realtor.com/realestateandhomes-detail/11-Saint-Anthony-Pl_Staten-Island_NY_10302_M40686-58869\n",
      "https://www.realtor.com/realestateandhomes-detail/3468-Richmond-Rd_Staten-Island_NY_10306_M92860-97067\n",
      "https://www.realtor.com/realestateandhomes-detail/213-Crossfield-Ave_Staten-Island_NY_10312_M36298-39098\n",
      "https://www.realtor.com/realestateandhomes-detail/139-28th-Ave_Brooklyn_NY_11214_M33751-52825\n",
      "https://www.realtor.com/realestateandhomes-detail/11116-203rd-St_Saint-Albans_NY_11412_M33310-72442\n",
      "https://www.realtor.com/realestateandhomes-detail/1427-Shore-Dr_Bronx_NY_10465_M31666-91178\n",
      "https://www.realtor.com/realestateandhomes-detail/8520-80th-St_Woodhaven_NY_11421_M47101-55506\n",
      "https://www.realtor.com/realestateandhomes-detail/1210-77th-St_Brooklyn_NY_11228_M33117-69754\n",
      "https://www.realtor.com/realestateandhomes-detail/19611-Station-Rd_Flushing_NY_11358_M48117-68359\n",
      "https://www.realtor.com/realestateandhomes-detail/10145-114th-St_South-Richmond-Hill_NY_11419_M40347-24820\n",
      "https://www.realtor.com/realestateandhomes-detail/1758-E-17th-St_Brooklyn_NY_11229_M37704-93911\n",
      "https://www.realtor.com/realestateandhomes-detail/1221-152nd-St_Whitestone_NY_11357_M45904-07438\n",
      "https://www.realtor.com/realestateandhomes-detail/874-Blake-Ave_Brooklyn_NY_11207_M31462-42661\n",
      "https://www.realtor.com/realestateandhomes-detail/380-Bradford-St_Brooklyn_NY_11207_M32985-73239\n",
      "https://www.realtor.com/realestateandhomes-detail/89-Robin-Rd_Staten-Island_NY_10305_M99232-23811\n",
      "https://www.realtor.com/realestateandhomes-detail/123-Cranford-Ave_Staten-Island_NY_10306_M48468-00791\n",
      "https://www.realtor.com/realestateandhomes-detail/6464-214th-St_Oakland-Gardens_NY_11364_M30953-30016\n",
      "https://www.realtor.com/realestateandhomes-detail/9712-148th-St_Jamaica_NY_11435_M30820-59489\n",
      "https://www.realtor.com/realestateandhomes-detail/123-Adams-Ave_Staten-Island_NY_10306_M35077-91913\n",
      "https://www.realtor.com/realestateandhomes-detail/29-N-Burgher-Ave_Staten-Island_NY_10310_M34932-64493\n",
      "https://www.realtor.com/realestateandhomes-detail/14819-Linden-Blvd_Jamaica_NY_11436_M39641-98061\n",
      "https://www.realtor.com/realestateandhomes-detail/240-E-76th-St-Apt-17B_New-York_NY_10021_M36051-42080\n",
      "https://www.realtor.com/realestateandhomes-detail/445-Lafayette-St-Apt-14B_New-York_NY_10003_M95915-51248\n",
      "https://www.realtor.com/realestateandhomes-detail/7-Lexington-Ave-Apt-3H_New-York_NY_10010_M32236-24733\n",
      "https://www.realtor.com/realestateandhomes-detail/123-Mariners-Ln_Staten-Island_NY_10303_M31546-25540\n",
      "https://www.realtor.com/realestateandhomes-detail/17839-Selover-Rd_Jamaica_NY_11434_M45919-98960\n",
      "https://www.realtor.com/realestateandhomes-detail/4262-Richmond-Ave_Staten-Island_NY_10312_M42808-49220\n",
      "https://www.realtor.com/realestateandhomes-detail/61-Robin-Rd_Staten-Island_NY_10305_M49493-97079\n",
      "https://www.realtor.com/realestateandhomes-detail/48-Amy-Ln_Staten-Island_NY_10314_M38648-47394\n",
      "https://www.realtor.com/realestateandhomes-detail/16475-Underhill-Ave_Fresh-Meadows_NY_11365_M41586-20261\n",
      "https://www.realtor.com/realestateandhomes-detail/14212-Hook-Creek-Blvd_Rosedale_NY_11422_M35025-32493\n",
      "https://www.realtor.com/realestateandhomes-detail/410-Willow-Rd-W_Staten-Island_NY_10314_M31933-70933\n",
      "https://www.realtor.com/realestateandhomes-detail/2411-Avenue-M_Brooklyn_NY_11210_M41380-01189\n",
      "https://www.realtor.com/realestateandhomes-detail/10850-50th-Ave_Corona_NY_11368_M35702-24443\n",
      "https://www.realtor.com/realestateandhomes-detail/NY_11375_M96050-85094\n",
      "https://www.realtor.com/realestateandhomes-detail/294-Colony-Ave_Staten-Island_NY_10306_M39795-85043\n",
      "https://www.realtor.com/realestateandhomes-detail/57-Middle-Loop-Rd_Staten-Island_NY_10308_M40651-69169\n",
      "\n",
      "\n",
      "\n",
      "\n",
      " 115\n"
     ]
    },
    {
     "name": "stdout",
     "output_type": "stream",
     "text": [
      "mmmmmmmmmmmmmmmmmmmm https://www.realtor.com/realestateandhomes-search/Atlanta_GA/shw-nc/price-800000-na/pg-116\n",
      "https://www.realtor.com/realestateandhomes-detail/13916-219th-St_Springfield-Gardens_NY_11413_M42115-27687\n",
      "https://www.realtor.com/realestateandhomes-detail/46-Hitchcock-Ave_Staten-Island_NY_10306_M45201-84400\n",
      "https://www.realtor.com/realestateandhomes-detail/1176-E-40th-St_Brooklyn_NY_11210_M36904-63113\n",
      "https://www.realtor.com/realestateandhomes-detail/171-N-Burgher-Ave_Staten-Island_NY_10310_M38961-22630\n",
      "https://www.realtor.com/realestateandhomes-detail/11505-Linden-Blvd_South-Ozone-Park_NY_11420_M35323-97585\n",
      "https://www.realtor.com/realestateandhomes-detail/14749-84th-Rd_Jamaica_NY_11435_M37798-51667\n",
      "https://www.realtor.com/realestateandhomes-detail/11637-168th-St_Jamaica_NY_11434_M44996-84983\n",
      "https://www.realtor.com/realestateandhomes-detail/11515-127th-St_South-Ozone-Park_NY_11420_M37701-41000\n",
      "https://www.realtor.com/realestateandhomes-detail/8038-209th-St_Queens-Village_NY_11427_M30804-02117\n",
      "https://www.realtor.com/realestateandhomes-detail/13311-133rd-St_South-Ozone-Park_NY_11420_M37598-26557\n",
      "https://www.realtor.com/realestateandhomes-detail/14802-11th-Ave_Whitestone_NY_11357_M37361-64610\n",
      "https://www.realtor.com/realestateandhomes-detail/6924-Almeda-Ave_Arverne_NY_11692_M33016-13975\n",
      "https://www.realtor.com/realestateandhomes-detail/20825-104th-Ave_Queens-Village_NY_11429_M43691-48165\n",
      "https://www.realtor.com/realestateandhomes-detail/89-Isernia-Ave_Staten-Island_NY_10306_M42685-82427\n",
      "https://www.realtor.com/realestateandhomes-detail/1-Campus-Pl_Brooklyn_NY_11208_M48051-23496\n",
      "https://www.realtor.com/realestateandhomes-detail/11164-145th-St_Jamaica_NY_11435_M38889-58123\n",
      "https://www.realtor.com/realestateandhomes-detail/15015-78th-Rd_Flushing_NY_11367_M46173-12532\n",
      "https://www.realtor.com/realestateandhomes-detail/52-Wild-Ave_Staten-Island_NY_10314_M38757-80835\n",
      "https://www.realtor.com/realestateandhomes-detail/13316-Hawtree-Creek-Rd_South-Ozone-Park_NY_11420_M43235-53545\n",
      "https://www.realtor.com/realestateandhomes-detail/1775-Richmond-Ave_Staten-Island_NY_10314_M48491-64593\n",
      "https://www.realtor.com/realestateandhomes-detail/10822-175th-St_Jamaica_NY_11433_M31894-68862\n",
      "https://www.realtor.com/realestateandhomes-detail/4318-Avenue-I_Brooklyn_NY_11210_M35087-17112\n",
      "https://www.realtor.com/realestateandhomes-detail/12006-135th-St_South-Ozone-Park_NY_11420_M31664-78221\n",
      "https://www.realtor.com/realestateandhomes-detail/19935-34th-Ave_Flushing_NY_11358_M47282-45935\n",
      "https://www.realtor.com/realestateandhomes-detail/22113-104th-Ave_Queens-Village_NY_11429_M31118-12232\n",
      "https://www.realtor.com/realestateandhomes-detail/480-Riga-St_Staten-Island_NY_10306_M48872-46567\n",
      "https://www.realtor.com/realestateandhomes-detail/668-Van-Siclen-Ave_Brooklyn_NY_11207_M45052-16637\n",
      "https://www.realtor.com/realestateandhomes-detail/307-Abingdon-Ave_Staten-Island_NY_10308_M47921-37951\n",
      "https://www.realtor.com/realestateandhomes-detail/201-E-23rd-St-3E_New-York_NY_10010_M99524-86079\n",
      "https://www.realtor.com/realestateandhomes-detail/16435-109th-Ave_Jamaica_NY_11433_M49440-26412\n",
      "https://www.realtor.com/realestateandhomes-detail/15306-119th-Ave_Jamaica_NY_11434_M41273-98218\n",
      "https://www.realtor.com/realestateandhomes-detail/1-Rose-St_Brooklyn_NY_11236_M39049-91772\n",
      "https://www.realtor.com/realestateandhomes-detail/227-Woods-of-Arden-Rd_Staten-Island_NY_10312_M48349-76114\n",
      "https://www.realtor.com/realestateandhomes-detail/17221-Baisley-Blvd_Jamaica_NY_11434_M38868-54783\n",
      "https://www.realtor.com/realestateandhomes-detail/425-E-63rd-St-Apt-W7B_New-York_NY_10065_M92597-66451\n",
      "https://www.realtor.com/realestateandhomes-detail/30-Harris-Ln_Staten-Island_NY_10309_M93639-33492\n",
      "https://www.realtor.com/realestateandhomes-detail/458-Ogorman-Ave_Staten-Island_NY_10308_M35395-17826\n",
      "https://www.realtor.com/realestateandhomes-detail/325-Pulaski-Ave_Staten-Island_NY_10303_M97712-97383\n",
      "https://www.realtor.com/realestateandhomes-detail/21-Eden-Ct_Staten-Island_NY_10307_M31235-97716\n",
      "https://www.realtor.com/realestateandhomes-detail/5614-184th-St_Fresh-Meadows_NY_11365_M48727-15845\n",
      "https://www.realtor.com/realestateandhomes-detail/167-08-Springfield-Gdn_NY_11434_M90973-90197\n",
      "https://www.realtor.com/realestateandhomes-detail/8910-Avenue-L_Brooklyn_NY_11236_M46644-81126\n",
      "\n",
      "\n",
      "\n",
      "\n",
      " 116\n"
     ]
    },
    {
     "name": "stdout",
     "output_type": "stream",
     "text": [
      "mmmmmmmmmmmmmmmmmmmm https://www.realtor.com/realestateandhomes-search/Atlanta_GA/shw-nc/price-800000-na/pg-117\n",
      "https://www.realtor.com/realestateandhomes-detail/14394-232nd-St_Springfield-Gardens_NY_11413_M33912-56846\n",
      "https://www.realtor.com/realestateandhomes-detail/1354-Union-St_Brooklyn_NY_11213_M30842-39134\n",
      "https://www.realtor.com/realestateandhomes-detail/171-Maryland-Ave_Staten-Island_NY_10305_M47217-76702\n",
      "https://www.realtor.com/realestateandhomes-detail/7915-23rd-Ave_Brooklyn_NY_11214_M49150-30207\n",
      "https://www.realtor.com/realestateandhomes-detail/2845-200th-St_Bayside_NY_11360_M37025-11018\n",
      "https://www.realtor.com/realestateandhomes-detail/293-Chesterton-Ave_Staten-Island_NY_10306_M37239-66571\n",
      "https://www.realtor.com/realestateandhomes-detail/57-Westfield-Ave_Staten-Island_NY_10309_M49232-91323\n",
      "https://www.realtor.com/realestateandhomes-detail/644-E-49th-St_Brooklyn_NY_11203_M43558-83783\n",
      "https://www.realtor.com/realestateandhomes-detail/538-Beach-43rd-St_Far-Rockaway_NY_11691_M45918-46808\n",
      "https://www.realtor.com/realestateandhomes-detail/749-E-223rd-St_Bronx_NY_10466_M99707-97479\n",
      "https://www.realtor.com/realestateandhomes-detail/284-Chelsea-St_Staten-Island_NY_10307_M40046-37203\n",
      "https://www.realtor.com/realestateandhomes-detail/10967-203rd-St_Saint-Albans_NY_11412_M45664-71330\n",
      "https://www.realtor.com/realestateandhomes-detail/571-Greene-Ave_Brooklyn_NY_11216_M93429-49661\n",
      "https://www.realtor.com/realestateandhomes-detail/8820-Rutledge-Ave_Ridgewood_NY_11385_M42871-52942\n",
      "https://www.realtor.com/realestateandhomes-detail/116-23-141-141-St_Jamaica_NY_11436_M92310-54452\n",
      "https://www.realtor.com/realestateandhomes-detail/22702-112th-Rd_Queens-Village_NY_11429_M38943-97025\n",
      "https://www.realtor.com/realestateandhomes-detail/3128-Seymour-Ave_Bronx_NY_10469_M46944-24938\n",
      "https://www.realtor.com/realestateandhomes-detail/19147-114th-Dr_Saint-Albans_NY_11412_M48191-71686\n",
      "https://www.realtor.com/realestateandhomes-detail/11617-221st-St_Cambria-Heights_NY_11411_M43437-87025\n",
      "https://www.realtor.com/realestateandhomes-detail/618-E-89th-St_Brooklyn_NY_11236_M48193-91217\n",
      "https://www.realtor.com/realestateandhomes-detail/889-Rockaway-Ave_Brooklyn_NY_11212_M40727-56748\n",
      "https://www.realtor.com/realestateandhomes-detail/1802-26th-Rd_Astoria_NY_11102_M42878-84594\n",
      "https://www.realtor.com/realestateandhomes-detail/9119-182nd-St_Hollis_NY_11423_M35666-85401\n",
      "https://www.realtor.com/realestateandhomes-detail/14116-183rd-St_Springfield-Gardens_NY_11413_M49711-25050\n",
      "https://www.realtor.com/realestateandhomes-detail/10232-220th-St_Queens-Village_NY_11429_M36641-81330\n",
      "https://www.realtor.com/realestateandhomes-detail/NY_11209_M90059-16911\n",
      "https://www.realtor.com/realestateandhomes-detail/8545-67th-Rd_Rego-Park_NY_11374_M38849-96041\n",
      "https://www.realtor.com/realestateandhomes-detail/241-Gordon-St_Staten-Island_NY_10304_M45528-55260\n",
      "https://www.realtor.com/realestateandhomes-detail/563-E-32nd-St_East-Flatbush_NY_11203_M99524-95987\n",
      "https://www.realtor.com/realestateandhomes-detail/16438-77th-Ave_Fresh-Meadows_NY_11366_M45164-67956\n",
      "https://www.realtor.com/realestateandhomes-detail/63-Mariners-Ln_Staten-Island_NY_10303_M40710-58044\n",
      "https://www.realtor.com/realestateandhomes-detail/102-Pilot-St_Bronx_NY_10464_M39929-45358\n",
      "https://www.realtor.com/realestateandhomes-detail/3724-Barnes-Ave_Bronx_NY_10467_M46572-73942\n",
      "https://www.realtor.com/realestateandhomes-detail/11011-Guy-R-Brewer-Blvd_Jamaica_NY_11433_M40733-58230\n",
      "https://www.realtor.com/realestateandhomes-detail/116-Tysen-St_Staten-Island_NY_10301_M49911-05892\n",
      "https://www.realtor.com/realestateandhomes-detail/56-Clifton-Ave_Staten-Island_NY_10305_M44900-94338\n",
      "https://www.realtor.com/realestateandhomes-detail/13740-234th-St_Rosedale_NY_11422_M36630-92394\n",
      "https://www.realtor.com/realestateandhomes-detail/6619-Clinton-Ave_Maspeth_NY_11378_M45739-92753\n",
      "https://www.realtor.com/realestateandhomes-detail/84-Wolcott-Ave_Staten-Island_NY_10312_M38304-43593\n",
      "https://www.realtor.com/realestateandhomes-detail/127-Autumn-Ave_Brooklyn_NY_11208_M46578-27673\n",
      "https://www.realtor.com/realestateandhomes-detail/5430-Kings-Hwy_Brooklyn_NY_11203_M45494-80353\n",
      "https://www.realtor.com/realestateandhomes-detail/1612-E-2nd-St_Brooklyn_NY_11230_M93564-71773\n",
      "\n",
      "\n",
      "\n",
      "\n",
      " 117\n"
     ]
    },
    {
     "name": "stdout",
     "output_type": "stream",
     "text": [
      "mmmmmmmmmmmmmmmmmmmm https://www.realtor.com/realestateandhomes-search/Atlanta_GA/shw-nc/price-800000-na/pg-118\n",
      "https://www.realtor.com/realestateandhomes-detail/1551-Radcliff-Ave_Bronx_NY_10462_M37602-34068\n",
      "https://www.realtor.com/realestateandhomes-detail/18214-69th-Ave_Fresh-Meadows_NY_11365_M34265-10521\n",
      "https://www.realtor.com/realestateandhomes-detail/46-Bianca-Ct_Staten-Island_NY_10312_M32309-96940\n",
      "https://www.realtor.com/realestateandhomes-detail/8-E-56th-St_Brooklyn_NY_11203_M48803-14796\n",
      "https://www.realtor.com/realestateandhomes-detail/11143-130th-St_Jamaica_NY_11420_M47335-59741\n",
      "https://www.realtor.com/realestateandhomes-detail/2217-Homer-Ave_Bronx_NY_10473_M41714-19049\n",
      "https://www.realtor.com/realestateandhomes-detail/17820-Selover-Rd_Jamaica_NY_11434_M39789-06736\n",
      "https://www.realtor.com/realestateandhomes-detail/175-40-114th-Ave_Jamaica_NY_11434_M92927-41381\n",
      "https://www.realtor.com/realestateandhomes-detail/12835-Brookville-Blvd_Rosedale_NY_11422_M47320-35689\n",
      "https://www.realtor.com/realestateandhomes-detail/150123-Powells-Cove-Blvd_Whitestone_NY_11357_M48211-72124\n",
      "https://www.realtor.com/realestateandhomes-detail/13603-220th-St_Springfield-Gardens_NY_11413_M93715-59994\n",
      "https://www.realtor.com/realestateandhomes-detail/1315-E-64th-St_Brooklyn_NY_11234_M40773-44830\n",
      "https://www.realtor.com/realestateandhomes-detail/33-Essex-St_Brooklyn_NY_11208_M42349-40637\n",
      "https://www.realtor.com/realestateandhomes-detail/827-E-57th-St_Brooklyn_NY_11234_M32176-05015\n",
      "https://www.realtor.com/realestateandhomes-detail/11635-127th-St_South-Ozone-Park_NY_11420_M40847-11747\n",
      "https://www.realtor.com/realestateandhomes-detail/10727-109th-St_South-Richmond-Hill_NY_11419_M32561-02812\n",
      "https://www.realtor.com/realestateandhomes-detail/1544-Ohm-Ave_Bronx_NY_10465_M45118-02223\n",
      "https://www.realtor.com/realestateandhomes-detail/815-Swinton-Ave_Bronx_NY_10465_M44153-25774\n",
      "https://www.realtor.com/realestateandhomes-detail/6820-65th-Pl_Ridgewood_NY_11385_M30999-71812\n",
      "https://www.realtor.com/realestateandhomes-detail/1259-Rogers-Ave_Brooklyn_NY_11226_M97097-70769\n",
      "https://www.realtor.com/realestateandhomes-detail/22317-135th-Ave_Springfield-Gardens_NY_11413_M46362-90556\n",
      "https://www.realtor.com/realestateandhomes-detail/4225-Ely-Ave_Bronx_NY_10466_M31330-25511\n",
      "https://www.realtor.com/realestateandhomes-detail/1331-E-104th-St_Brooklyn_NY_11236_M31474-75586\n",
      "https://www.realtor.com/realestateandhomes-detail/3010-90th-St_East-Elmhurst_NY_11369_M43535-62778\n",
      "https://www.realtor.com/realestateandhomes-detail/1753-Linden-Blvd_Brooklyn_NY_11207_M42123-95383\n",
      "https://www.realtor.com/realestateandhomes-detail/1123-E-73rd-St-68_Brooklyn_NY_11234_M41512-94981\n",
      "https://www.realtor.com/realestateandhomes-detail/11944-193rd-St_Saint-Albans_NY_11412_M45522-00920\n",
      "https://www.realtor.com/realestateandhomes-detail/3050-86th-St_East-Elmhurst_NY_11369_M45671-94607\n",
      "https://www.realtor.com/realestateandhomes-detail/12711-143rd-St_South-Ozone-Park_NY_11436_M37024-30708\n",
      "https://www.realtor.com/realestateandhomes-detail/21709-135th-Ave_Springfield-Gardens_NY_11413_M37417-34905\n",
      "https://www.realtor.com/realestateandhomes-detail/10915-221st-St_Jamaica_NY_11429_M34105-81517\n",
      "https://www.realtor.com/realestateandhomes-detail/10214-Van-Wyck-Expy_South-Richmond-Hill_NY_11419_M31199-60785\n",
      "https://www.realtor.com/realestateandhomes-detail/11609-167th-St_Jamaica_NY_11434_M35561-24618\n",
      "https://www.realtor.com/realestateandhomes-detail/15305-118th-Ave_Jamaica_NY_11434_M31084-11585\n",
      "https://www.realtor.com/realestateandhomes-detail/1325-College-Ave_Bronx_NY_10456_M96265-37595\n",
      "https://www.realtor.com/realestateandhomes-detail/228-Pennsylvania-Ave_Brooklyn_NY_11207_M98836-86301\n",
      "https://www.realtor.com/realestateandhomes-detail/10510-130th-St_South-Richmond-Hill_NY_11419_M34529-78787\n",
      "https://www.realtor.com/realestateandhomes-detail/7151-67th-Pl_Ridgewood_NY_11385_M32050-55472\n",
      "https://www.realtor.com/realestateandhomes-detail/4812-Snyder-Ave_Brooklyn_NY_11203_M31170-74801\n",
      "https://www.realtor.com/realestateandhomes-detail/14822-112th-Ave_Jamaica_NY_11435_M32118-61841\n",
      "https://www.realtor.com/realestateandhomes-detail/10415-202nd-St_Saint-Albans_NY_11412_M30638-38369\n",
      "https://www.realtor.com/realestateandhomes-detail/15037-Linden-Blvd_Jamaica_NY_11434_M39971-67048\n",
      "\n",
      "\n",
      "\n",
      "\n",
      " 118\n"
     ]
    },
    {
     "name": "stdout",
     "output_type": "stream",
     "text": [
      "mmmmmmmmmmmmmmmmmmmm https://www.realtor.com/realestateandhomes-search/Atlanta_GA/shw-nc/price-800000-na/pg-119\n",
      "https://www.realtor.com/realestateandhomes-detail/15037-Linden-Blvd_Jamaica_NY_11434_M39971-67048\n",
      "https://www.realtor.com/realestateandhomes-detail/11532-116th-St_South-Ozone-Park_NY_11420_M48827-40384\n",
      "https://www.realtor.com/realestateandhomes-detail/10428-42nd-Ave_Corona_NY_11368_M38359-79251\n",
      "https://www.realtor.com/realestateandhomes-detail/200-W-56th-St-2212_New-York_NY_10019_M94161-33234\n",
      "https://www.realtor.com/realestateandhomes-detail/127-Concord-St_Brooklyn_NY_11201_M94228-18638\n",
      "\n",
      "\n",
      "\n",
      "\n",
      " 119\n"
     ]
    },
    {
     "name": "stdout",
     "output_type": "stream",
     "text": [
      "mmmmmmmmmmmmmmmmmmmm https://www.realtor.com/realestateandhomes-search/Atlanta_GA/shw-nc/price-800000-na/pg-120\n"
     ]
    },
    {
     "name": "stdout",
     "output_type": "stream",
     "text": [
      "mmmmmmmmmmmmmmmmmmmm https://www.realtor.com/realestateandhomes-search/Atlanta_GA/shw-nc/price-800000-na/pg-121\n"
     ]
    },
    {
     "name": "stdout",
     "output_type": "stream",
     "text": [
      "mmmmmmmmmmmmmmmmmmmm https://www.realtor.com/realestateandhomes-search/Atlanta_GA/shw-nc/price-800000-na/pg-122\n"
     ]
    },
    {
     "name": "stdout",
     "output_type": "stream",
     "text": [
      "mmmmmmmmmmmmmmmmmmmm https://www.realtor.com/realestateandhomes-search/Atlanta_GA/shw-nc/price-800000-na/pg-123\n"
     ]
    },
    {
     "name": "stdout",
     "output_type": "stream",
     "text": [
      "mmmmmmmmmmmmmmmmmmmm https://www.realtor.com/realestateandhomes-search/Atlanta_GA/shw-nc/price-800000-na/pg-124\n"
     ]
    },
    {
     "name": "stdout",
     "output_type": "stream",
     "text": [
      "mmmmmmmmmmmmmmmmmmmm https://www.realtor.com/realestateandhomes-search/Atlanta_GA/shw-nc/price-800000-na/pg-125\n"
     ]
    }
   ],
   "source": [
    "import math\n",
    "# total_homes_number = int(total_homes.text.strip())\n",
    "# page = math.ceil(total_homes_number / 40)\n",
    "\n",
    "# for 7,788 then i am using below code \n",
    "# Remove commas before converting to int\n",
    "# if total_homes_number:\n",
    "  \n",
    "# total_homes_number = int(total_homes.text.strip().replace(',', ''))\n",
    "\n",
    "# # Now do the math\n",
    "# page = math.ceil(total_homes_number / 40)\n",
    "# # print(\"heyyyyyyyy\" ,page)\n",
    "\n",
    "# for p in range(2, page+1):\n",
    "#   response = requests.get(\n",
    "#     f'{url}/pg-{p}',\n",
    "#     cookies=cookies,\n",
    "#     headers=headers,\n",
    "#     )\n",
    "#   print(\"mmmmmmmmmmmmmmmmmmmm\",f'https://www.realtor.com/realestateandhomes-search/Atlanta_GA/shw-nc/price-800000-na/pg-{p}')\n",
    "#   if response.status_code==200:\n",
    "#     soup = BeautifulSoup(response.text, 'html.parser')\n",
    "#     script_tag = soup.find('script', {'data-testid': 'seoLinkingData', 'type': 'application/ld+json'})\n",
    "\n",
    "\n",
    "#     if script_tag:\n",
    "#       # Load the content of the script tag (it's a JSON string)\n",
    "#       json_data = json.loads(script_tag.string)\n",
    "#       # print(json_data)\n",
    "#       # print(json.dumps(json_data, indent=2))\n",
    "#       # ans=json_data[1][\"mainEntity\"][\"itemListElement\"]\n",
    "#       ans=get_main_entity_item_list(json_data)\n",
    "#       c=0\n",
    "#       if (ans):\n",
    "#         for i in ans:\n",
    "#           print(i[\"url\"])\n",
    "#           link_array.append(i[\"url\"])\n",
    "#           c=c+1\n",
    "#       print(\"\\n\\n\\n\\n\",p )\n",
    "\n",
    "\n",
    "\n",
    "if total_homes:  # Add your condition here (e.g., ensure the element exists)\n",
    "    total_homes_number = int(total_homes.text.strip().replace(',', ''))\n",
    "\n",
    "    # Now do the math\n",
    "    page = math.ceil(total_homes_number / 40)\n",
    "    # print(\"heyyyyyyyy\" ,page)\n",
    "\n",
    "    for p in range(2, page + 1):\n",
    "        response = requests.get(\n",
    "            f'{url}/pg-{p}',\n",
    "            cookies=cookies,\n",
    "            headers=headers,\n",
    "        )\n",
    "        print(\"mmmmmmmmmmmmmmmmmmmm\", f'https://www.realtor.com/realestateandhomes-search/Atlanta_GA/shw-nc/price-800000-na/pg-{p}')\n",
    "        \n",
    "        if response.status_code == 200:\n",
    "            soup = BeautifulSoup(response.text, 'html.parser')\n",
    "            script_tag = soup.find('script', {'data-testid': 'seoLinkingData', 'type': 'application/ld+json'})\n",
    "\n",
    "            if script_tag:\n",
    "                try:\n",
    "                    # Load the content of the script tag (it's a JSON string)\n",
    "                    json_data = json.loads(script_tag.string)\n",
    "                    ans = get_main_entity_item_list(json_data)\n",
    "\n",
    "                    c = 0\n",
    "                    if ans:\n",
    "                        for i in ans:\n",
    "                            print(i[\"url\"])\n",
    "                            link_array.append(i[\"url\"])\n",
    "                            c += 1\n",
    "                    print(\"\\n\\n\\n\\n\", p)\n",
    "                except Exception as e:\n",
    "                    print(f\"Error parsing page {p}: {e}\")\n"
   ]
  },
  {
   "cell_type": "code",
   "execution_count": 4,
   "id": "f270f001",
   "metadata": {
    "execution": {
     "iopub.execute_input": "2025-05-14T06:33:59.540974Z",
     "iopub.status.busy": "2025-05-14T06:33:59.540678Z",
     "iopub.status.idle": "2025-05-14T06:33:59.544301Z",
     "shell.execute_reply": "2025-05-14T06:33:59.543501Z"
    },
    "papermill": {
     "duration": 0.023635,
     "end_time": "2025-05-14T06:33:59.545656",
     "exception": false,
     "start_time": "2025-05-14T06:33:59.522021",
     "status": "completed"
    },
    "tags": []
   },
   "outputs": [
    {
     "name": "stdout",
     "output_type": "stream",
     "text": [
      "4961\n"
     ]
    }
   ],
   "source": [
    "print(len(link_array))"
   ]
  },
  {
   "cell_type": "code",
   "execution_count": 5,
   "id": "b4329f6e",
   "metadata": {
    "execution": {
     "iopub.execute_input": "2025-05-14T06:33:59.578699Z",
     "iopub.status.busy": "2025-05-14T06:33:59.578407Z",
     "iopub.status.idle": "2025-05-14T06:33:59.589300Z",
     "shell.execute_reply": "2025-05-14T06:33:59.588452Z"
    },
    "papermill": {
     "duration": 0.027917,
     "end_time": "2025-05-14T06:33:59.590757",
     "exception": false,
     "start_time": "2025-05-14T06:33:59.562840",
     "status": "completed"
    },
    "tags": []
   },
   "outputs": [],
   "source": [
    "import requests\n",
    "\n",
    "cookies = {\n",
    "    '_cq_duid': '1.1744778181.6MobFmGeC2R1nUU7',\n",
    "    'split': 'n',\n",
    "    '__vst': '510a7abc-5631-4c8b-a9a5-54de51e58a8a',\n",
    "    '__bot': 'false',\n",
    "    '_lr_env_src_ats': 'false',\n",
    "    'permutive-id': '36491759-b0ef-4036-bc03-7d07f765413e',\n",
    "    's_ecid': 'MCMID%7C62206642167978879802294781651943730817',\n",
    "    '_cc_id': 'f15316d1891455e0cdcc7f071e6be91a',\n",
    "    '_gcl_au': '1.1.761638148.1744778188',\n",
    "    'pbjs-unifiedid': '%7B%22TDID%22%3A%22768f16ce-051a-44b9-986e-505d5a184422%22%2C%22TDID_LOOKUP%22%3A%22TRUE%22%2C%22TDID_CREATED_AT%22%3A%222025-03-16T04%3A36%3A27%22%7D',\n",
    "    'pbjs-unifiedid_cst': 'VyxHLMwsHQ%3D%3D',\n",
    "    '__gsas': 'ID=b761dbf92fed2797:T=1744778187:RT=1744778187:S=ALNI_MYyPr435-r92Lh6hgKWE7ir2wPpFg',\n",
    "    '__split': '11',\n",
    "    '_ga': 'GA1.1.122217795.1744778189',\n",
    "    '_fbp': 'fb.1.1744778190942.615506763789365416',\n",
    "    'ajs_anonymous_id': '484b625d-2e90-49a9-82ea-71509bf26df2',\n",
    "    'kampyle_userid': '597b-3652-68fb-14df-8b6d-f4a2-9005-9eb6',\n",
    "    'cto_bundle': 'OyMQ419RVHR2WTVsekpyUlYyaUt1RzBVN25kNWJ5eG45aU1kZ21lc3NIREpMTHVNcm4ybXA5Z0ZmMzF3YXZZaEVISyUyQlpoeE9rQlN3N2dsNVlWZmRwc2d6TjhucUExcSUyQjhwSHVqNExBVjdVZUU3eE5OdjRmRlc2SEZld3c2SFhpMVI0Slh0NmN6Ymh3MzlPN1kzJTJGeFZObEklMkJpQSUzRCUzRA',\n",
    "    'G_ENABLED_IDPS': 'google',\n",
    "    '__spdt': 'fec8a0e0243d44f7ac0a8810ea3a5617',\n",
    "    '_pbjs_userid_consent_data': '3524755945110770',\n",
    "    'spec-property-history': 'true',\n",
    "    '_lr_sampling_rate': '100',\n",
    "    'sbjs_migrations': '1418474375998%3D1',\n",
    "    'sbjs_current_add': 'fd%3D2025-05-13%2015%3A38%3A57%7C%7C%7Cep%3Dhttps%3A%2F%2Fwww.realtor.com%2Frealestateagents%2FMarie-Crabb_San-Antonio_TX_1562457_770159571%7C%7C%7Crf%3D%28none%29',\n",
    "    'sbjs_first_add': 'fd%3D2025-05-13%2015%3A38%3A57%7C%7C%7Cep%3Dhttps%3A%2F%2Fwww.realtor.com%2Frealestateagents%2FMarie-Crabb_San-Antonio_TX_1562457_770159571%7C%7C%7Crf%3D%28none%29',\n",
    "    'sbjs_current': 'typ%3Dtypein%7C%7C%7Csrc%3D%28direct%29%7C%7C%7Cmdm%3D%28none%29%7C%7C%7Ccmp%3D%28none%29%7C%7C%7Ccnt%3D%28none%29%7C%7C%7Ctrm%3D%28none%29',\n",
    "    'sbjs_first': 'typ%3Dtypein%7C%7C%7Csrc%3D%28direct%29%7C%7C%7Cmdm%3D%28none%29%7C%7C%7Ccmp%3D%28none%29%7C%7C%7Ccnt%3D%28none%29%7C%7C%7Ctrm%3D%28none%29',\n",
    "    'sbjs_udata': 'vst%3D1%7C%7C%7Cuip%3D%28none%29%7C%7C%7Cuag%3DMozilla%2F5.0%20%28Windows%20NT%2010.0%3B%20Win64%3B%20x64%29%20AppleWebKit%2F537.36%20%28KHTML%2C%20like%20Gecko%29%20Chrome%2F136.0.0.0%20Safari%2F537.36',\n",
    "    'AWSALBTG': 'Gysy51HA+pJTrxIKFj2v3w0nCE/eoaQmJ7DSPj4suoUKY1CHB4l5GhwD4Qau/EW7RngdZBfgTbUsgutlOm0f96YiXJTcsrWR+T8lWoqugNfMSDTEbOwrgbTJv4zI4vgeWeD4ltJdQFCOglNyh0FuxME92j87R8+5+nrtZTwzAFAL',\n",
    "    'AWSALBTGCORS': 'Gysy51HA+pJTrxIKFj2v3w0nCE/eoaQmJ7DSPj4suoUKY1CHB4l5GhwD4Qau/EW7RngdZBfgTbUsgutlOm0f96YiXJTcsrWR+T8lWoqugNfMSDTEbOwrgbTJv4zI4vgeWeD4ltJdQFCOglNyh0FuxME92j87R8+5+nrtZTwzAFAL',\n",
    "    'AWSALB': 'PA4KsCC+ZE35rkHrZlFJmvdEFqqcwpfhPvIHyR8fvTkTuV8elUxXm3ZXx+OJ8h1qNL5Hsxp9M9bcRnTPQfhDhKnSOIaGtgnBBIXsSuTsBL6E4DClOUhJXGkw1ucY',\n",
    "    'AWSALBCORS': 'PA4KsCC+ZE35rkHrZlFJmvdEFqqcwpfhPvIHyR8fvTkTuV8elUxXm3ZXx+OJ8h1qNL5Hsxp9M9bcRnTPQfhDhKnSOIaGtgnBBIXsSuTsBL6E4DClOUhJXGkw1ucY',\n",
    "    'leadid_token-27789EFE-7A9A-DB70-BB9B-97D9B7057DBB-01836014-7527-FD48-9B7F-1A40A9705CFE': '86378343-6E72-C9A3-F38C-4FC85D4B9DDF',\n",
    "    '_parsely_session': '{%22sid%22:25%2C%22surl%22:%22https://www.realtor.com/realestateandhomes-detail/127-Concord-St_Brooklyn_NY_11201_M94228-18638%22%2C%22sref%22:%22https://colab.research.google.com/%22%2C%22sts%22:1747135330658%2C%22slts%22:1747130960659}',\n",
    "    '_parsely_visitor': '{%22id%22:%22pid=1b405088-93a3-4244-a70a-8f0b5d157233%22%2C%22session_count%22:25%2C%22last_session_ts%22:1747135330658}',\n",
    "    '_lr_retry_request': 'true',\n",
    "    'AMP_MKTG_c07a79acf5': 'JTdCJTdE',\n",
    "    'claritas_24hrexp_ldp': 'true',\n",
    "    'panoramaId_expiry': '1747223247759',\n",
    "    'panoramaId': '1c8ce1f32d9b77f43d98a20754f4a9fb927a4d1c3ceb4de2702245f6f0c8d4e0',\n",
    "    'ab.storage.deviceId.7cc9d032-9d6d-44cf-a8f5-d276489af322': 'g%3Ac0e51af7-dd43-dbd5-e0cf-a1fa33760e57%7Ce%3Aundefined%7Cc%3A1744778189271%7Cl%3A1747136849038',\n",
    "    'ab.storage.userId.7cc9d032-9d6d-44cf-a8f5-d276489af322': 'g%3Avisitor_510a7abc-5631-4c8b-a9a5-54de51e58a8a%7Ce%3Aundefined%7Cc%3A1744778189264%7Cl%3A1747136849040',\n",
    "    '__ssn': '12d7e70c-46a9-45b7-8708-9b6155f748af',\n",
    "    '__ssnstarttime': '1747138479',\n",
    "    'criteria': 'sprefix%3D%252Fnewhomecommunities%26area_type%3Dcity%26city%3DNew%2520York%26pg%3D1%26state_code%3DNY%26state_id%3DNY%26loc%3DNew%2520York%252C%2520NY%26locSlug%3DNew-York_NY%26county_fips%3D36081%26county_fips_multi%3D36081-36047-36085-36005-36061',\n",
    "    'isAuth0GnavEnabled': 'C',\n",
    "    'AMCVS_8853394255142B6A0A4C98A4%40AdobeOrg': '1',\n",
    "    'AMCV_8853394255142B6A0A4C98A4%40AdobeOrg': '-1124106680%7CMCIDTS%7C20221%7CMCMID%7C62206642167978879802294781651943730817%7CMCAAMLH-1747743283%7C12%7CMCAAMB-1747743283%7CRKhpRz8krg2tLO6pguXWp5olkAcUniQYPHaMWWgdJ3xzPWQmdj0y%7CMCOPTOUT-1747145683s%7CNONE%7CMCAID%7CNONE%7CvVersion%7C5.2.0',\n",
    "    'claritas_24hrexp_sitevisit': 'true',\n",
    "    '__gads': 'ID=90cc70a1b7f62534:T=1744778191:RT=1747138485:S=ALNI_Mbwq8lNnQn41vMslb5NKa0v1IXODQ',\n",
    "    '__gpi': 'UID=000010a0d44ff64d:T=1744778191:RT=1747138485:S=ALNI_MYQOz2G493eHyeT1BxhNY1pSbZ_ZQ',\n",
    "    '__eoi': 'ID=ff471cc055362e70:T=1744778191:RT=1747138485:S=AA-AfjY5Nukxc6S-HKQMxCxsgauf',\n",
    "    'KP_UIDz-ssn': '0EE1EXb8l2EUoH5DeGMAxEF0VE4oMTjtLX6Pl6gj6CH7mbj35i1YYPID3R0DR0l5OL7FYNQaTSGxTBTLyjowYx7OW50OmhcD5hUdm0QLcXGf6NdsuQWeYKdzy9U3TgJu7xBkhQVIUDCMnpYyy7ZWW0bWYD5xPvcAozNs5Hff',\n",
    "    'KP_UIDz': '0EE1EXb8l2EUoH5DeGMAxEF0VE4oMTjtLX6Pl6gj6CH7mbj35i1YYPID3R0DR0l5OL7FYNQaTSGxTBTLyjowYx7OW50OmhcD5hUdm0QLcXGf6NdsuQWeYKdzy9U3TgJu7xBkhQVIUDCMnpYyy7ZWW0bWYD5xPvcAozNs5Hff',\n",
    "    'ab.storage.sessionId.7cc9d032-9d6d-44cf-a8f5-d276489af322': 'g%3A5e73a82d-0856-363b-ebe3-ab7bcf82f658%7Ce%3A1747140306176%7Cc%3A1747136849034%7Cl%3A1747138506176',\n",
    "    'kampyleUserSession': '1747138528373',\n",
    "    'kampyleUserSessionsCount': '74',\n",
    "    'kampyleUserPercentile': '80.84019685422727',\n",
    "    '_parsely_slot_click': '{%22url%22:%22https://www.realtor.com/realestateandhomes-search/New-York_NY/type-single-family-home%22%2C%22x%22:16%2C%22y%22:317%2C%22xpath%22:%22//*[@id=%5C%22property_id_4407935011%5C%22]/div[2]/div[1]/div[1]/div[1]/a[1]%22%2C%22href%22:%22https://www.realtor.com/realestateandhomes-detail/177-Benedict-Rd_Staten-Island_NY_10304_M44079-35011?from=srp-list-card%22}',\n",
    "    '_uetsid': '523b07802f1e11f0a6117f38eb0c06f4|nu1ncn|2|fvv|0|1958',\n",
    "    'kampyleSessionPageCounter': '2',\n",
    "    'AMP_c07a79acf5': 'JTdCJTIyZGV2aWNlSWQlMjIlM0ElMjJjNGJmMzkxNC1mNjA1LTQyZWUtYWM2Yi02MTQwMzBlODAxNGYlMjIlMkMlMjJ1c2VySWQlMjIlM0ElMjI1MTBhN2FiYy01NjMxLTRjOGItYTlhNS01NGRlNTFlNThhOGElMjIlMkMlMjJzZXNzaW9uSWQlMjIlM0ExNzQ3MTM2ODQ2ODMxJTJDJTIyb3B0T3V0JTIyJTNBZmFsc2UlMkMlMjJsYXN0RXZlbnRUaW1lJTIyJTNBMTc0NzEzODcxNTI1MSUyQyUyMmxhc3RFdmVudElkJTIyJTNBMzgxJTJDJTIycGFnZUNvdW50ZXIlMjIlM0E1JTdE',\n",
    "    'split_tcv': '123',\n",
    "    '_uetvid': '5e6611101a7c11f096fd0b3e24a7f2ce|1glbpa|1747138715700|5|1|bat.bing.com/p/insights/c/b',\n",
    "    '_ga_07XBH6XBNS': 'GS2.1.s1747135361$o25$g1$t1747138718$j0$l0$h538070340',\n",
    "    '_ga_MS5EHT6J6V': 'GS2.1.s1747135361$o25$g1$t1747138718$j0$l0$h0',\n",
    "}\n",
    "\n",
    "headers = {\n",
    "    'accept': 'text/html,application/xhtml+xml,application/xml;q=0.9,image/avif,image/webp,image/apng,*/*;q=0.8,application/signed-exchange;v=b3;q=0.7',\n",
    "    'accept-language': 'en-US,en;q=0.9',\n",
    "    'cache-control': 'max-age=0',\n",
    "    'priority': 'u=0, i',\n",
    "    'sec-ch-ua': '\"Chromium\";v=\"136\", \"Google Chrome\";v=\"136\", \"Not.A/Brand\";v=\"99\"',\n",
    "    'sec-ch-ua-mobile': '?0',\n",
    "    'sec-ch-ua-platform': '\"Windows\"',\n",
    "    'sec-fetch-dest': 'document',\n",
    "    'sec-fetch-mode': 'navigate',\n",
    "    'sec-fetch-sites': 'same-origin',\n",
    "    'sec-fetch-user': '?1',\n",
    "    'upgrade-insecure-requests': '1',\n",
    "    'user-agent': 'Mozilla/5.0 (Windows NT 10.0; Win64; x64) AppleWebKit/537.36 (KHTML, like Gecko) Chrome/136.0.0.0 Safari/537.36',\n",
    "    # 'cookie': '_cq_duid=1.1744778181.6MobFmGeC2R1nUU7; split=n; __vst=510a7abc-5631-4c8b-a9a5-54de51e58a8a; __bot=false; _lr_env_src_ats=false; permutive-id=36491759-b0ef-4036-bc03-7d07f765413e; s_ecid=MCMID%7C62206642167978879802294781651943730817; _cc_id=f15316d1891455e0cdcc7f071e6be91a; _gcl_au=1.1.761638148.1744778188; pbjs-unifiedid=%7B%22TDID%22%3A%22768f16ce-051a-44b9-986e-505d5a184422%22%2C%22TDID_LOOKUP%22%3A%22TRUE%22%2C%22TDID_CREATED_AT%22%3A%222025-03-16T04%3A36%3A27%22%7D; pbjs-unifiedid_cst=VyxHLMwsHQ%3D%3D; __gsas=ID=b761dbf92fed2797:T=1744778187:RT=1744778187:S=ALNI_MYyPr435-r92Lh6hgKWE7ir2wPpFg; __split=11; _ga=GA1.1.122217795.1744778189; _fbp=fb.1.1744778190942.615506763789365416; ajs_anonymous_id=484b625d-2e90-49a9-82ea-71509bf26df2; kampyle_userid=597b-3652-68fb-14df-8b6d-f4a2-9005-9eb6; cto_bundle=OyMQ419RVHR2WTVsekpyUlYyaUt1RzBVN25kNWJ5eG45aU1kZ21lc3NIREpMTHVNcm4ybXA5Z0ZmMzF3YXZZaEVISyUyQlpoeE9rQlN3N2dsNVlWZmRwc2d6TjhucUExcSUyQjhwSHVqNExBVjdVZUU3eE5OdjRmRlc2SEZld3c2SFhpMVI0Slh0NmN6Ymh3MzlPN1kzJTJGeFZObEklMkJpQSUzRCUzRA; G_ENABLED_IDPS=google; __spdt=fec8a0e0243d44f7ac0a8810ea3a5617; _pbjs_userid_consent_data=3524755945110770; spec-property-history=true; _lr_sampling_rate=100; sbjs_migrations=1418474375998%3D1; sbjs_current_add=fd%3D2025-05-13%2015%3A38%3A57%7C%7C%7Cep%3Dhttps%3A%2F%2Fwww.realtor.com%2Frealestateagents%2FMarie-Crabb_San-Antonio_TX_1562457_770159571%7C%7C%7Crf%3D%28none%29; sbjs_first_add=fd%3D2025-05-13%2015%3A38%3A57%7C%7C%7Cep%3Dhttps%3A%2F%2Fwww.realtor.com%2Frealestateagents%2FMarie-Crabb_San-Antonio_TX_1562457_770159571%7C%7C%7Crf%3D%28none%29; sbjs_current=typ%3Dtypein%7C%7C%7Csrc%3D%28direct%29%7C%7C%7Cmdm%3D%28none%29%7C%7C%7Ccmp%3D%28none%29%7C%7C%7Ccnt%3D%28none%29%7C%7C%7Ctrm%3D%28none%29; sbjs_first=typ%3Dtypein%7C%7C%7Csrc%3D%28direct%29%7C%7C%7Cmdm%3D%28none%29%7C%7C%7Ccmp%3D%28none%29%7C%7C%7Ccnt%3D%28none%29%7C%7C%7Ctrm%3D%28none%29; sbjs_udata=vst%3D1%7C%7C%7Cuip%3D%28none%29%7C%7C%7Cuag%3DMozilla%2F5.0%20%28Windows%20NT%2010.0%3B%20Win64%3B%20x64%29%20AppleWebKit%2F537.36%20%28KHTML%2C%20like%20Gecko%29%20Chrome%2F136.0.0.0%20Safari%2F537.36; AWSALBTG=Gysy51HA+pJTrxIKFj2v3w0nCE/eoaQmJ7DSPj4suoUKY1CHB4l5GhwD4Qau/EW7RngdZBfgTbUsgutlOm0f96YiXJTcsrWR+T8lWoqugNfMSDTEbOwrgbTJv4zI4vgeWeD4ltJdQFCOglNyh0FuxME92j87R8+5+nrtZTwzAFAL; AWSALBTGCORS=Gysy51HA+pJTrxIKFj2v3w0nCE/eoaQmJ7DSPj4suoUKY1CHB4l5GhwD4Qau/EW7RngdZBfgTbUsgutlOm0f96YiXJTcsrWR+T8lWoqugNfMSDTEbOwrgbTJv4zI4vgeWeD4ltJdQFCOglNyh0FuxME92j87R8+5+nrtZTwzAFAL; AWSALB=PA4KsCC+ZE35rkHrZlFJmvdEFqqcwpfhPvIHyR8fvTkTuV8elUxXm3ZXx+OJ8h1qNL5Hsxp9M9bcRnTPQfhDhKnSOIaGtgnBBIXsSuTsBL6E4DClOUhJXGkw1ucY; AWSALBCORS=PA4KsCC+ZE35rkHrZlFJmvdEFqqcwpfhPvIHyR8fvTkTuV8elUxXm3ZXx+OJ8h1qNL5Hsxp9M9bcRnTPQfhDhKnSOIaGtgnBBIXsSuTsBL6E4DClOUhJXGkw1ucY; leadid_token-27789EFE-7A9A-DB70-BB9B-97D9B7057DBB-01836014-7527-FD48-9B7F-1A40A9705CFE=86378343-6E72-C9A3-F38C-4FC85D4B9DDF; _parsely_session={%22sid%22:25%2C%22surl%22:%22https://www.realtor.com/realestateandhomes-detail/127-Concord-St_Brooklyn_NY_11201_M94228-18638%22%2C%22sref%22:%22https://colab.research.google.com/%22%2C%22sts%22:1747135330658%2C%22slts%22:1747130960659}; _parsely_visitor={%22id%22:%22pid=1b405088-93a3-4244-a70a-8f0b5d157233%22%2C%22session_count%22:25%2C%22last_session_ts%22:1747135330658}; _lr_retry_request=true; AMP_MKTG_c07a79acf5=JTdCJTdE; claritas_24hrexp_ldp=true; panoramaId_expiry=1747223247759; panoramaId=1c8ce1f32d9b77f43d98a20754f4a9fb927a4d1c3ceb4de2702245f6f0c8d4e0; ab.storage.deviceId.7cc9d032-9d6d-44cf-a8f5-d276489af322=g%3Ac0e51af7-dd43-dbd5-e0cf-a1fa33760e57%7Ce%3Aundefined%7Cc%3A1744778189271%7Cl%3A1747136849038; ab.storage.userId.7cc9d032-9d6d-44cf-a8f5-d276489af322=g%3Avisitor_510a7abc-5631-4c8b-a9a5-54de51e58a8a%7Ce%3Aundefined%7Cc%3A1744778189264%7Cl%3A1747136849040; __ssn=12d7e70c-46a9-45b7-8708-9b6155f748af; __ssnstarttime=1747138479; criteria=sprefix%3D%252Fnewhomecommunities%26area_type%3Dcity%26city%3DNew%2520York%26pg%3D1%26state_code%3DNY%26state_id%3DNY%26loc%3DNew%2520York%252C%2520NY%26locSlug%3DNew-York_NY%26county_fips%3D36081%26county_fips_multi%3D36081-36047-36085-36005-36061; isAuth0GnavEnabled=C; AMCVS_8853394255142B6A0A4C98A4%40AdobeOrg=1; AMCV_8853394255142B6A0A4C98A4%40AdobeOrg=-1124106680%7CMCIDTS%7C20221%7CMCMID%7C62206642167978879802294781651943730817%7CMCAAMLH-1747743283%7C12%7CMCAAMB-1747743283%7CRKhpRz8krg2tLO6pguXWp5olkAcUniQYPHaMWWgdJ3xzPWQmdj0y%7CMCOPTOUT-1747145683s%7CNONE%7CMCAID%7CNONE%7CvVersion%7C5.2.0; claritas_24hrexp_sitevisit=true; __gads=ID=90cc70a1b7f62534:T=1744778191:RT=1747138485:S=ALNI_Mbwq8lNnQn41vMslb5NKa0v1IXODQ; __gpi=UID=000010a0d44ff64d:T=1744778191:RT=1747138485:S=ALNI_MYQOz2G493eHyeT1BxhNY1pSbZ_ZQ; __eoi=ID=ff471cc055362e70:T=1744778191:RT=1747138485:S=AA-AfjY5Nukxc6S-HKQMxCxsgauf; KP_UIDz-ssn=0EE1EXb8l2EUoH5DeGMAxEF0VE4oMTjtLX6Pl6gj6CH7mbj35i1YYPID3R0DR0l5OL7FYNQaTSGxTBTLyjowYx7OW50OmhcD5hUdm0QLcXGf6NdsuQWeYKdzy9U3TgJu7xBkhQVIUDCMnpYyy7ZWW0bWYD5xPvcAozNs5Hff; KP_UIDz=0EE1EXb8l2EUoH5DeGMAxEF0VE4oMTjtLX6Pl6gj6CH7mbj35i1YYPID3R0DR0l5OL7FYNQaTSGxTBTLyjowYx7OW50OmhcD5hUdm0QLcXGf6NdsuQWeYKdzy9U3TgJu7xBkhQVIUDCMnpYyy7ZWW0bWYD5xPvcAozNs5Hff; ab.storage.sessionId.7cc9d032-9d6d-44cf-a8f5-d276489af322=g%3A5e73a82d-0856-363b-ebe3-ab7bcf82f658%7Ce%3A1747140306176%7Cc%3A1747136849034%7Cl%3A1747138506176; kampyleUserSession=1747138528373; kampyleUserSessionsCount=74; kampyleUserPercentile=80.84019685422727; _parsely_slot_click={%22url%22:%22https://www.realtor.com/realestateandhomes-search/New-York_NY/type-single-family-home%22%2C%22x%22:16%2C%22y%22:317%2C%22xpath%22:%22//*[@id=%5C%22property_id_4407935011%5C%22]/div[2]/div[1]/div[1]/div[1]/a[1]%22%2C%22href%22:%22https://www.realtor.com/realestateandhomes-detail/177-Benedict-Rd_Staten-Island_NY_10304_M44079-35011?from=srp-list-card%22}; _uetsid=523b07802f1e11f0a6117f38eb0c06f4|nu1ncn|2|fvv|0|1958; kampyleSessionPageCounter=2; AMP_c07a79acf5=JTdCJTIyZGV2aWNlSWQlMjIlM0ElMjJjNGJmMzkxNC1mNjA1LTQyZWUtYWM2Yi02MTQwMzBlODAxNGYlMjIlMkMlMjJ1c2VySWQlMjIlM0ElMjI1MTBhN2FiYy01NjMxLTRjOGItYTlhNS01NGRlNTFlNThhOGElMjIlMkMlMjJzZXNzaW9uSWQlMjIlM0ExNzQ3MTM2ODQ2ODMxJTJDJTIyb3B0T3V0JTIyJTNBZmFsc2UlMkMlMjJsYXN0RXZlbnRUaW1lJTIyJTNBMTc0NzEzODcxNTI1MSUyQyUyMmxhc3RFdmVudElkJTIyJTNBMzgxJTJDJTIycGFnZUNvdW50ZXIlMjIlM0E1JTdE; split_tcv=123; _uetvid=5e6611101a7c11f096fd0b3e24a7f2ce|1glbpa|1747138715700|5|1|bat.bing.com/p/insights/c/b; _ga_07XBH6XBNS=GS2.1.s1747135361$o25$g1$t1747138718$j0$l0$h538070340; _ga_MS5EHT6J6V=GS2.1.s1747135361$o25$g1$t1747138718$j0$l0$h0',\n",
    "}\n",
    "\n",
    "params = {\n",
    "    'from': 'srp-list-card',\n",
    "}\n",
    "\n",
    "# response = requests.get(\n",
    "#     'https://www.realtor.com/realestateandhomes-detail/177-Benedict-Rd_Staten-Island_NY_10304_M44079-35011',\n",
    "#     params=params,\n",
    "#     cookies=cookies,\n",
    "#     headers=headers,\n",
    "# )"
   ]
  },
  {
   "cell_type": "code",
   "execution_count": 6,
   "id": "e254f76e",
   "metadata": {
    "execution": {
     "iopub.execute_input": "2025-05-14T06:33:59.621363Z",
     "iopub.status.busy": "2025-05-14T06:33:59.620988Z"
    },
    "papermill": {
     "duration": null,
     "end_time": null,
     "exception": false,
     "start_time": "2025-05-14T06:33:59.604906",
     "status": "running"
    },
    "tags": []
   },
   "outputs": [
    {
     "name": "stdout",
     "output_type": "stream",
     "text": [
      "<Response [200]> 2\n"
     ]
    },
    {
     "name": "stdout",
     "output_type": "stream",
     "text": [
      "<Response [200]> 3\n"
     ]
    },
    {
     "name": "stdout",
     "output_type": "stream",
     "text": [
      "<Response [200]> 4\n"
     ]
    },
    {
     "name": "stdout",
     "output_type": "stream",
     "text": [
      "<Response [200]> 5\n"
     ]
    },
    {
     "name": "stdout",
     "output_type": "stream",
     "text": [
      "<Response [200]> 6\n"
     ]
    },
    {
     "name": "stdout",
     "output_type": "stream",
     "text": [
      "<Response [200]> 7\n"
     ]
    },
    {
     "name": "stdout",
     "output_type": "stream",
     "text": [
      "<Response [200]> 8\n"
     ]
    },
    {
     "name": "stdout",
     "output_type": "stream",
     "text": [
      "<Response [200]> 9\n"
     ]
    },
    {
     "name": "stdout",
     "output_type": "stream",
     "text": [
      "<Response [200]> 10\n"
     ]
    },
    {
     "name": "stdout",
     "output_type": "stream",
     "text": [
      "<Response [200]> 11\n"
     ]
    },
    {
     "name": "stdout",
     "output_type": "stream",
     "text": [
      "<Response [200]> 12\n"
     ]
    },
    {
     "name": "stdout",
     "output_type": "stream",
     "text": [
      "<Response [200]> 13\n"
     ]
    },
    {
     "name": "stdout",
     "output_type": "stream",
     "text": [
      "<Response [200]> 14\n"
     ]
    },
    {
     "name": "stdout",
     "output_type": "stream",
     "text": [
      "<Response [200]> 15\n"
     ]
    },
    {
     "name": "stdout",
     "output_type": "stream",
     "text": [
      "<Response [200]> 16\n"
     ]
    },
    {
     "name": "stdout",
     "output_type": "stream",
     "text": [
      "<Response [200]> 17\n"
     ]
    },
    {
     "name": "stdout",
     "output_type": "stream",
     "text": [
      "<Response [200]> 18\n"
     ]
    },
    {
     "name": "stdout",
     "output_type": "stream",
     "text": [
      "<Response [200]> 19\n"
     ]
    },
    {
     "name": "stdout",
     "output_type": "stream",
     "text": [
      "<Response [200]> 20\n"
     ]
    },
    {
     "name": "stdout",
     "output_type": "stream",
     "text": [
      "<Response [200]> 21\n"
     ]
    },
    {
     "name": "stdout",
     "output_type": "stream",
     "text": [
      "<Response [200]> 22\n"
     ]
    },
    {
     "name": "stdout",
     "output_type": "stream",
     "text": [
      "<Response [200]> 23\n"
     ]
    },
    {
     "name": "stdout",
     "output_type": "stream",
     "text": [
      "<Response [200]> 24\n"
     ]
    },
    {
     "name": "stdout",
     "output_type": "stream",
     "text": [
      "<Response [200]> 25\n"
     ]
    },
    {
     "name": "stdout",
     "output_type": "stream",
     "text": [
      "<Response [200]> 26\n"
     ]
    },
    {
     "name": "stdout",
     "output_type": "stream",
     "text": [
      "<Response [200]> 27\n"
     ]
    },
    {
     "name": "stdout",
     "output_type": "stream",
     "text": [
      "<Response [200]> 28\n"
     ]
    },
    {
     "name": "stdout",
     "output_type": "stream",
     "text": [
      "<Response [200]> 29\n"
     ]
    },
    {
     "name": "stdout",
     "output_type": "stream",
     "text": [
      "<Response [200]> 30\n"
     ]
    },
    {
     "name": "stdout",
     "output_type": "stream",
     "text": [
      "<Response [200]> 31\n"
     ]
    },
    {
     "name": "stdout",
     "output_type": "stream",
     "text": [
      "<Response [200]> 32\n"
     ]
    },
    {
     "name": "stdout",
     "output_type": "stream",
     "text": [
      "<Response [200]> 33\n"
     ]
    },
    {
     "name": "stdout",
     "output_type": "stream",
     "text": [
      "<Response [200]> 34\n"
     ]
    },
    {
     "name": "stdout",
     "output_type": "stream",
     "text": [
      "<Response [200]> 35\n"
     ]
    },
    {
     "name": "stdout",
     "output_type": "stream",
     "text": [
      "<Response [200]> 36\n"
     ]
    },
    {
     "name": "stdout",
     "output_type": "stream",
     "text": [
      "<Response [200]> 37\n"
     ]
    },
    {
     "name": "stdout",
     "output_type": "stream",
     "text": [
      "<Response [200]> 38\n"
     ]
    },
    {
     "name": "stdout",
     "output_type": "stream",
     "text": [
      "<Response [200]> 39\n"
     ]
    },
    {
     "name": "stdout",
     "output_type": "stream",
     "text": [
      "<Response [200]> 40\n"
     ]
    },
    {
     "name": "stdout",
     "output_type": "stream",
     "text": [
      "<Response [200]> 41\n"
     ]
    },
    {
     "name": "stdout",
     "output_type": "stream",
     "text": [
      "<Response [200]> 42\n"
     ]
    },
    {
     "name": "stdout",
     "output_type": "stream",
     "text": [
      "<Response [200]> 43\n"
     ]
    },
    {
     "name": "stdout",
     "output_type": "stream",
     "text": [
      "<Response [200]> 44\n"
     ]
    },
    {
     "name": "stdout",
     "output_type": "stream",
     "text": [
      "<Response [200]> 45\n"
     ]
    },
    {
     "name": "stdout",
     "output_type": "stream",
     "text": [
      "<Response [200]> 46\n"
     ]
    },
    {
     "name": "stdout",
     "output_type": "stream",
     "text": [
      "<Response [200]> 47\n"
     ]
    },
    {
     "name": "stdout",
     "output_type": "stream",
     "text": [
      "<Response [200]> 48\n"
     ]
    },
    {
     "name": "stdout",
     "output_type": "stream",
     "text": [
      "<Response [200]> 49\n"
     ]
    },
    {
     "name": "stdout",
     "output_type": "stream",
     "text": [
      "<Response [200]> 50\n"
     ]
    },
    {
     "name": "stdout",
     "output_type": "stream",
     "text": [
      "<Response [200]> 51\n"
     ]
    },
    {
     "name": "stdout",
     "output_type": "stream",
     "text": [
      "<Response [200]> 52\n"
     ]
    },
    {
     "name": "stdout",
     "output_type": "stream",
     "text": [
      "<Response [200]> 53\n"
     ]
    },
    {
     "name": "stdout",
     "output_type": "stream",
     "text": [
      "<Response [200]> 54\n"
     ]
    },
    {
     "name": "stdout",
     "output_type": "stream",
     "text": [
      "<Response [200]> 55\n"
     ]
    },
    {
     "name": "stdout",
     "output_type": "stream",
     "text": [
      "<Response [200]> 56\n"
     ]
    },
    {
     "name": "stdout",
     "output_type": "stream",
     "text": [
      "<Response [200]> 57\n"
     ]
    },
    {
     "name": "stdout",
     "output_type": "stream",
     "text": [
      "<Response [200]> 58\n"
     ]
    },
    {
     "name": "stdout",
     "output_type": "stream",
     "text": [
      "<Response [200]> 59\n"
     ]
    },
    {
     "name": "stdout",
     "output_type": "stream",
     "text": [
      "<Response [200]> 60\n"
     ]
    },
    {
     "name": "stdout",
     "output_type": "stream",
     "text": [
      "<Response [200]> 61\n"
     ]
    },
    {
     "name": "stdout",
     "output_type": "stream",
     "text": [
      "<Response [200]> 62\n"
     ]
    },
    {
     "name": "stdout",
     "output_type": "stream",
     "text": [
      "<Response [200]> 63\n"
     ]
    },
    {
     "name": "stdout",
     "output_type": "stream",
     "text": [
      "<Response [200]> 64\n"
     ]
    },
    {
     "name": "stdout",
     "output_type": "stream",
     "text": [
      "<Response [200]> 65\n"
     ]
    },
    {
     "name": "stdout",
     "output_type": "stream",
     "text": [
      "<Response [200]> 66\n"
     ]
    },
    {
     "name": "stdout",
     "output_type": "stream",
     "text": [
      "<Response [200]> 67\n"
     ]
    },
    {
     "name": "stdout",
     "output_type": "stream",
     "text": [
      "<Response [200]> 68\n"
     ]
    },
    {
     "name": "stdout",
     "output_type": "stream",
     "text": [
      "<Response [200]> 69\n"
     ]
    },
    {
     "name": "stdout",
     "output_type": "stream",
     "text": [
      "<Response [200]> 70\n"
     ]
    },
    {
     "name": "stdout",
     "output_type": "stream",
     "text": [
      "<Response [200]> 71\n"
     ]
    },
    {
     "name": "stdout",
     "output_type": "stream",
     "text": [
      "<Response [200]> 72\n"
     ]
    },
    {
     "name": "stdout",
     "output_type": "stream",
     "text": [
      "<Response [200]> 73\n"
     ]
    },
    {
     "name": "stdout",
     "output_type": "stream",
     "text": [
      "<Response [200]> 74\n"
     ]
    },
    {
     "name": "stdout",
     "output_type": "stream",
     "text": [
      "<Response [200]> 75\n"
     ]
    },
    {
     "name": "stdout",
     "output_type": "stream",
     "text": [
      "<Response [200]> 76\n"
     ]
    },
    {
     "name": "stdout",
     "output_type": "stream",
     "text": [
      "<Response [200]> 77\n"
     ]
    },
    {
     "name": "stdout",
     "output_type": "stream",
     "text": [
      "<Response [200]> 78\n"
     ]
    },
    {
     "name": "stdout",
     "output_type": "stream",
     "text": [
      "<Response [200]> 79\n"
     ]
    },
    {
     "name": "stdout",
     "output_type": "stream",
     "text": [
      "<Response [200]> 80\n"
     ]
    },
    {
     "name": "stdout",
     "output_type": "stream",
     "text": [
      "<Response [200]> 81\n"
     ]
    },
    {
     "name": "stdout",
     "output_type": "stream",
     "text": [
      "<Response [200]> 82\n"
     ]
    },
    {
     "name": "stdout",
     "output_type": "stream",
     "text": [
      "<Response [200]> 83\n"
     ]
    },
    {
     "name": "stdout",
     "output_type": "stream",
     "text": [
      "<Response [200]> 84\n"
     ]
    },
    {
     "name": "stdout",
     "output_type": "stream",
     "text": [
      "<Response [200]> 85\n"
     ]
    },
    {
     "name": "stdout",
     "output_type": "stream",
     "text": [
      "<Response [200]> 86\n"
     ]
    },
    {
     "name": "stdout",
     "output_type": "stream",
     "text": [
      "<Response [200]> 87\n"
     ]
    },
    {
     "name": "stdout",
     "output_type": "stream",
     "text": [
      "<Response [200]> 88\n"
     ]
    },
    {
     "name": "stdout",
     "output_type": "stream",
     "text": [
      "<Response [200]> 89\n"
     ]
    },
    {
     "name": "stdout",
     "output_type": "stream",
     "text": [
      "<Response [200]> 90\n"
     ]
    },
    {
     "name": "stdout",
     "output_type": "stream",
     "text": [
      "<Response [200]> 91\n"
     ]
    },
    {
     "name": "stdout",
     "output_type": "stream",
     "text": [
      "<Response [200]> 92\n"
     ]
    },
    {
     "name": "stdout",
     "output_type": "stream",
     "text": [
      "<Response [200]> 93\n"
     ]
    },
    {
     "name": "stdout",
     "output_type": "stream",
     "text": [
      "<Response [200]> 94\n"
     ]
    },
    {
     "name": "stdout",
     "output_type": "stream",
     "text": [
      "<Response [200]> 95\n"
     ]
    },
    {
     "name": "stdout",
     "output_type": "stream",
     "text": [
      "<Response [200]> 96\n"
     ]
    },
    {
     "name": "stdout",
     "output_type": "stream",
     "text": [
      "<Response [200]> 97\n"
     ]
    },
    {
     "name": "stdout",
     "output_type": "stream",
     "text": [
      "<Response [200]> 98\n"
     ]
    },
    {
     "name": "stdout",
     "output_type": "stream",
     "text": [
      "<Response [200]> 99\n"
     ]
    },
    {
     "name": "stdout",
     "output_type": "stream",
     "text": [
      "<Response [200]> 100\n"
     ]
    },
    {
     "name": "stdout",
     "output_type": "stream",
     "text": [
      "<Response [200]> 101\n"
     ]
    },
    {
     "name": "stdout",
     "output_type": "stream",
     "text": [
      "<Response [200]> 102\n"
     ]
    },
    {
     "name": "stdout",
     "output_type": "stream",
     "text": [
      "<Response [200]> 103\n"
     ]
    },
    {
     "name": "stdout",
     "output_type": "stream",
     "text": [
      "<Response [200]> 104\n"
     ]
    },
    {
     "name": "stdout",
     "output_type": "stream",
     "text": [
      "<Response [200]> 105\n"
     ]
    },
    {
     "name": "stdout",
     "output_type": "stream",
     "text": [
      "<Response [200]> 106\n"
     ]
    },
    {
     "name": "stdout",
     "output_type": "stream",
     "text": [
      "<Response [200]> 107\n"
     ]
    },
    {
     "name": "stdout",
     "output_type": "stream",
     "text": [
      "<Response [200]> 108\n"
     ]
    },
    {
     "name": "stdout",
     "output_type": "stream",
     "text": [
      "<Response [200]> 109\n"
     ]
    },
    {
     "name": "stdout",
     "output_type": "stream",
     "text": [
      "<Response [200]> 110\n"
     ]
    },
    {
     "name": "stdout",
     "output_type": "stream",
     "text": [
      "<Response [200]> 111\n"
     ]
    },
    {
     "name": "stdout",
     "output_type": "stream",
     "text": [
      "<Response [200]> 112\n"
     ]
    },
    {
     "name": "stdout",
     "output_type": "stream",
     "text": [
      "<Response [200]> 113\n"
     ]
    },
    {
     "name": "stdout",
     "output_type": "stream",
     "text": [
      "<Response [200]> 114\n"
     ]
    },
    {
     "name": "stdout",
     "output_type": "stream",
     "text": [
      "<Response [200]> 115\n"
     ]
    },
    {
     "name": "stdout",
     "output_type": "stream",
     "text": [
      "<Response [200]> 116\n"
     ]
    },
    {
     "name": "stdout",
     "output_type": "stream",
     "text": [
      "<Response [200]> 117\n"
     ]
    },
    {
     "name": "stdout",
     "output_type": "stream",
     "text": [
      "<Response [200]> 118\n"
     ]
    },
    {
     "name": "stdout",
     "output_type": "stream",
     "text": [
      "<Response [200]> 119\n"
     ]
    },
    {
     "name": "stdout",
     "output_type": "stream",
     "text": [
      "<Response [200]> 120\n"
     ]
    },
    {
     "name": "stdout",
     "output_type": "stream",
     "text": [
      "<Response [200]> 121\n"
     ]
    },
    {
     "name": "stdout",
     "output_type": "stream",
     "text": [
      "<Response [200]> 122\n"
     ]
    },
    {
     "name": "stdout",
     "output_type": "stream",
     "text": [
      "<Response [200]> 123\n"
     ]
    },
    {
     "name": "stdout",
     "output_type": "stream",
     "text": [
      "<Response [200]> 124\n"
     ]
    },
    {
     "name": "stdout",
     "output_type": "stream",
     "text": [
      "<Response [200]> 125\n"
     ]
    },
    {
     "name": "stdout",
     "output_type": "stream",
     "text": [
      "<Response [200]> 126\n"
     ]
    },
    {
     "name": "stdout",
     "output_type": "stream",
     "text": [
      "<Response [200]> 127\n"
     ]
    },
    {
     "name": "stdout",
     "output_type": "stream",
     "text": [
      "<Response [200]> 128\n"
     ]
    },
    {
     "name": "stdout",
     "output_type": "stream",
     "text": [
      "<Response [200]> 129\n"
     ]
    },
    {
     "name": "stdout",
     "output_type": "stream",
     "text": [
      "<Response [200]> 130\n"
     ]
    },
    {
     "name": "stdout",
     "output_type": "stream",
     "text": [
      "<Response [200]> 131\n"
     ]
    },
    {
     "name": "stdout",
     "output_type": "stream",
     "text": [
      "<Response [200]> 132\n"
     ]
    },
    {
     "name": "stdout",
     "output_type": "stream",
     "text": [
      "<Response [200]> 133\n"
     ]
    },
    {
     "name": "stdout",
     "output_type": "stream",
     "text": [
      "<Response [200]> 134\n"
     ]
    },
    {
     "name": "stdout",
     "output_type": "stream",
     "text": [
      "<Response [200]> 135\n"
     ]
    },
    {
     "name": "stdout",
     "output_type": "stream",
     "text": [
      "<Response [200]> 136\n"
     ]
    },
    {
     "name": "stdout",
     "output_type": "stream",
     "text": [
      "<Response [200]> 137\n"
     ]
    },
    {
     "name": "stdout",
     "output_type": "stream",
     "text": [
      "<Response [200]> 138\n"
     ]
    },
    {
     "name": "stdout",
     "output_type": "stream",
     "text": [
      "<Response [200]> 139\n"
     ]
    },
    {
     "name": "stdout",
     "output_type": "stream",
     "text": [
      "<Response [200]> 140\n"
     ]
    },
    {
     "name": "stdout",
     "output_type": "stream",
     "text": [
      "<Response [200]> 141\n"
     ]
    },
    {
     "name": "stdout",
     "output_type": "stream",
     "text": [
      "<Response [200]> 142\n"
     ]
    },
    {
     "name": "stdout",
     "output_type": "stream",
     "text": [
      "<Response [200]> 143\n"
     ]
    },
    {
     "name": "stdout",
     "output_type": "stream",
     "text": [
      "<Response [200]> 144\n"
     ]
    },
    {
     "name": "stdout",
     "output_type": "stream",
     "text": [
      "<Response [200]> 145\n"
     ]
    },
    {
     "name": "stdout",
     "output_type": "stream",
     "text": [
      "<Response [200]> 146\n"
     ]
    },
    {
     "name": "stdout",
     "output_type": "stream",
     "text": [
      "<Response [200]> 147\n"
     ]
    },
    {
     "name": "stdout",
     "output_type": "stream",
     "text": [
      "<Response [200]> 148\n"
     ]
    },
    {
     "name": "stdout",
     "output_type": "stream",
     "text": [
      "<Response [200]> 149\n"
     ]
    },
    {
     "name": "stdout",
     "output_type": "stream",
     "text": [
      "<Response [200]> 150\n"
     ]
    },
    {
     "name": "stdout",
     "output_type": "stream",
     "text": [
      "<Response [200]> 151\n"
     ]
    },
    {
     "name": "stdout",
     "output_type": "stream",
     "text": [
      "<Response [200]> 152\n"
     ]
    },
    {
     "name": "stdout",
     "output_type": "stream",
     "text": [
      "<Response [200]> 153\n"
     ]
    },
    {
     "name": "stdout",
     "output_type": "stream",
     "text": [
      "<Response [200]> 154\n"
     ]
    },
    {
     "name": "stdout",
     "output_type": "stream",
     "text": [
      "<Response [200]> 155\n"
     ]
    },
    {
     "name": "stdout",
     "output_type": "stream",
     "text": [
      "<Response [200]> 156\n"
     ]
    },
    {
     "name": "stdout",
     "output_type": "stream",
     "text": [
      "<Response [200]> 157\n"
     ]
    },
    {
     "name": "stdout",
     "output_type": "stream",
     "text": [
      "<Response [200]> 158\n"
     ]
    },
    {
     "name": "stdout",
     "output_type": "stream",
     "text": [
      "<Response [200]> 159\n"
     ]
    },
    {
     "name": "stdout",
     "output_type": "stream",
     "text": [
      "<Response [200]> 160\n"
     ]
    },
    {
     "name": "stdout",
     "output_type": "stream",
     "text": [
      "<Response [200]> 161\n"
     ]
    },
    {
     "name": "stdout",
     "output_type": "stream",
     "text": [
      "<Response [200]> 162\n"
     ]
    },
    {
     "name": "stdout",
     "output_type": "stream",
     "text": [
      "<Response [200]> 163\n"
     ]
    },
    {
     "name": "stdout",
     "output_type": "stream",
     "text": [
      "<Response [200]> 164\n"
     ]
    },
    {
     "name": "stdout",
     "output_type": "stream",
     "text": [
      "<Response [200]> 165\n"
     ]
    },
    {
     "name": "stdout",
     "output_type": "stream",
     "text": [
      "<Response [200]> 166\n"
     ]
    },
    {
     "name": "stdout",
     "output_type": "stream",
     "text": [
      "<Response [200]> 167\n"
     ]
    },
    {
     "name": "stdout",
     "output_type": "stream",
     "text": [
      "<Response [200]> 168\n"
     ]
    },
    {
     "name": "stdout",
     "output_type": "stream",
     "text": [
      "<Response [200]> 169\n"
     ]
    },
    {
     "name": "stdout",
     "output_type": "stream",
     "text": [
      "<Response [200]> 170\n"
     ]
    },
    {
     "name": "stdout",
     "output_type": "stream",
     "text": [
      "<Response [200]> 171\n"
     ]
    },
    {
     "name": "stdout",
     "output_type": "stream",
     "text": [
      "<Response [200]> 172\n"
     ]
    },
    {
     "name": "stdout",
     "output_type": "stream",
     "text": [
      "<Response [200]> 173\n"
     ]
    },
    {
     "name": "stdout",
     "output_type": "stream",
     "text": [
      "<Response [200]> 174\n"
     ]
    },
    {
     "name": "stdout",
     "output_type": "stream",
     "text": [
      "<Response [200]> 175\n"
     ]
    },
    {
     "name": "stdout",
     "output_type": "stream",
     "text": [
      "<Response [200]> 176\n"
     ]
    },
    {
     "name": "stdout",
     "output_type": "stream",
     "text": [
      "<Response [200]> 177\n"
     ]
    },
    {
     "name": "stdout",
     "output_type": "stream",
     "text": [
      "<Response [200]> 178\n"
     ]
    },
    {
     "name": "stdout",
     "output_type": "stream",
     "text": [
      "<Response [200]> 179\n"
     ]
    },
    {
     "name": "stdout",
     "output_type": "stream",
     "text": [
      "<Response [200]> 180\n"
     ]
    },
    {
     "name": "stdout",
     "output_type": "stream",
     "text": [
      "<Response [200]> 181\n"
     ]
    },
    {
     "name": "stdout",
     "output_type": "stream",
     "text": [
      "<Response [200]> 182\n"
     ]
    },
    {
     "name": "stdout",
     "output_type": "stream",
     "text": [
      "<Response [200]> 183\n"
     ]
    },
    {
     "name": "stdout",
     "output_type": "stream",
     "text": [
      "<Response [200]> 184\n"
     ]
    },
    {
     "name": "stdout",
     "output_type": "stream",
     "text": [
      "<Response [200]> 185\n"
     ]
    },
    {
     "name": "stdout",
     "output_type": "stream",
     "text": [
      "<Response [200]> 186\n"
     ]
    },
    {
     "name": "stdout",
     "output_type": "stream",
     "text": [
      "<Response [200]> 187\n"
     ]
    },
    {
     "name": "stdout",
     "output_type": "stream",
     "text": [
      "<Response [200]> 188\n"
     ]
    },
    {
     "name": "stdout",
     "output_type": "stream",
     "text": [
      "<Response [200]> 189\n"
     ]
    },
    {
     "name": "stdout",
     "output_type": "stream",
     "text": [
      "<Response [200]> 190\n"
     ]
    },
    {
     "name": "stdout",
     "output_type": "stream",
     "text": [
      "<Response [200]> 191\n"
     ]
    },
    {
     "name": "stdout",
     "output_type": "stream",
     "text": [
      "<Response [200]> 192\n"
     ]
    },
    {
     "name": "stdout",
     "output_type": "stream",
     "text": [
      "<Response [200]> 193\n"
     ]
    },
    {
     "name": "stdout",
     "output_type": "stream",
     "text": [
      "<Response [200]> 194\n"
     ]
    },
    {
     "name": "stdout",
     "output_type": "stream",
     "text": [
      "<Response [200]> 195\n"
     ]
    },
    {
     "name": "stdout",
     "output_type": "stream",
     "text": [
      "<Response [200]> 196\n"
     ]
    },
    {
     "name": "stdout",
     "output_type": "stream",
     "text": [
      "<Response [200]> 197\n"
     ]
    },
    {
     "name": "stdout",
     "output_type": "stream",
     "text": [
      "<Response [200]> 198\n"
     ]
    },
    {
     "name": "stdout",
     "output_type": "stream",
     "text": [
      "<Response [200]> 199\n"
     ]
    },
    {
     "name": "stdout",
     "output_type": "stream",
     "text": [
      "<Response [200]> 200\n"
     ]
    },
    {
     "name": "stdout",
     "output_type": "stream",
     "text": [
      "<Response [200]> 201\n"
     ]
    },
    {
     "name": "stdout",
     "output_type": "stream",
     "text": [
      "<Response [200]> 202\n"
     ]
    },
    {
     "name": "stdout",
     "output_type": "stream",
     "text": [
      "<Response [200]> 203\n"
     ]
    },
    {
     "name": "stdout",
     "output_type": "stream",
     "text": [
      "<Response [200]> 204\n"
     ]
    },
    {
     "name": "stdout",
     "output_type": "stream",
     "text": [
      "<Response [200]> 205\n"
     ]
    },
    {
     "name": "stdout",
     "output_type": "stream",
     "text": [
      "<Response [200]> 206\n"
     ]
    },
    {
     "name": "stdout",
     "output_type": "stream",
     "text": [
      "<Response [200]> 207\n"
     ]
    },
    {
     "name": "stdout",
     "output_type": "stream",
     "text": [
      "<Response [200]> 208\n"
     ]
    },
    {
     "name": "stdout",
     "output_type": "stream",
     "text": [
      "<Response [200]> 209\n"
     ]
    },
    {
     "name": "stdout",
     "output_type": "stream",
     "text": [
      "<Response [200]> 210\n"
     ]
    },
    {
     "name": "stdout",
     "output_type": "stream",
     "text": [
      "<Response [200]> 211\n"
     ]
    },
    {
     "name": "stdout",
     "output_type": "stream",
     "text": [
      "<Response [200]> 212\n"
     ]
    },
    {
     "name": "stdout",
     "output_type": "stream",
     "text": [
      "<Response [200]> 213\n"
     ]
    },
    {
     "name": "stdout",
     "output_type": "stream",
     "text": [
      "<Response [200]> 214\n"
     ]
    },
    {
     "name": "stdout",
     "output_type": "stream",
     "text": [
      "<Response [200]> 215\n"
     ]
    },
    {
     "name": "stdout",
     "output_type": "stream",
     "text": [
      "<Response [200]> 216\n"
     ]
    },
    {
     "name": "stdout",
     "output_type": "stream",
     "text": [
      "<Response [200]> 217\n"
     ]
    },
    {
     "name": "stdout",
     "output_type": "stream",
     "text": [
      "<Response [200]> 218\n"
     ]
    },
    {
     "name": "stdout",
     "output_type": "stream",
     "text": [
      "<Response [200]> 219\n"
     ]
    },
    {
     "name": "stdout",
     "output_type": "stream",
     "text": [
      "<Response [200]> 220\n"
     ]
    },
    {
     "name": "stdout",
     "output_type": "stream",
     "text": [
      "<Response [200]> 221\n"
     ]
    },
    {
     "name": "stdout",
     "output_type": "stream",
     "text": [
      "<Response [200]> 222\n"
     ]
    },
    {
     "name": "stdout",
     "output_type": "stream",
     "text": [
      "<Response [200]> 223\n"
     ]
    },
    {
     "name": "stdout",
     "output_type": "stream",
     "text": [
      "<Response [200]> 224\n"
     ]
    },
    {
     "name": "stdout",
     "output_type": "stream",
     "text": [
      "<Response [200]> 225\n"
     ]
    },
    {
     "name": "stdout",
     "output_type": "stream",
     "text": [
      "<Response [200]> 226\n"
     ]
    },
    {
     "name": "stdout",
     "output_type": "stream",
     "text": [
      "<Response [200]> 227\n"
     ]
    },
    {
     "name": "stdout",
     "output_type": "stream",
     "text": [
      "<Response [200]> 228\n"
     ]
    },
    {
     "name": "stdout",
     "output_type": "stream",
     "text": [
      "<Response [200]> 229\n"
     ]
    },
    {
     "name": "stdout",
     "output_type": "stream",
     "text": [
      "<Response [200]> 230\n"
     ]
    },
    {
     "name": "stdout",
     "output_type": "stream",
     "text": [
      "<Response [200]> 231\n"
     ]
    },
    {
     "name": "stdout",
     "output_type": "stream",
     "text": [
      "<Response [200]> 232\n"
     ]
    },
    {
     "name": "stdout",
     "output_type": "stream",
     "text": [
      "<Response [200]> 233\n"
     ]
    },
    {
     "name": "stdout",
     "output_type": "stream",
     "text": [
      "<Response [200]> 234\n"
     ]
    },
    {
     "name": "stdout",
     "output_type": "stream",
     "text": [
      "<Response [200]> 235\n"
     ]
    },
    {
     "name": "stdout",
     "output_type": "stream",
     "text": [
      "<Response [200]> 236\n"
     ]
    },
    {
     "name": "stdout",
     "output_type": "stream",
     "text": [
      "<Response [200]> 237\n"
     ]
    },
    {
     "name": "stdout",
     "output_type": "stream",
     "text": [
      "<Response [200]> 238\n"
     ]
    },
    {
     "name": "stdout",
     "output_type": "stream",
     "text": [
      "<Response [200]> 239\n"
     ]
    },
    {
     "name": "stdout",
     "output_type": "stream",
     "text": [
      "<Response [200]> 240\n"
     ]
    },
    {
     "name": "stdout",
     "output_type": "stream",
     "text": [
      "<Response [200]> 241\n"
     ]
    },
    {
     "name": "stdout",
     "output_type": "stream",
     "text": [
      "<Response [200]> 242\n"
     ]
    },
    {
     "name": "stdout",
     "output_type": "stream",
     "text": [
      "<Response [200]> 243\n"
     ]
    },
    {
     "name": "stdout",
     "output_type": "stream",
     "text": [
      "<Response [200]> 244\n"
     ]
    },
    {
     "name": "stdout",
     "output_type": "stream",
     "text": [
      "<Response [200]> 245\n"
     ]
    },
    {
     "name": "stdout",
     "output_type": "stream",
     "text": [
      "<Response [200]> 246\n"
     ]
    },
    {
     "name": "stdout",
     "output_type": "stream",
     "text": [
      "<Response [200]> 247\n"
     ]
    },
    {
     "name": "stdout",
     "output_type": "stream",
     "text": [
      "<Response [200]> 248\n"
     ]
    },
    {
     "name": "stdout",
     "output_type": "stream",
     "text": [
      "<Response [200]> 249\n"
     ]
    },
    {
     "name": "stdout",
     "output_type": "stream",
     "text": [
      "<Response [200]> 250\n"
     ]
    },
    {
     "name": "stdout",
     "output_type": "stream",
     "text": [
      "<Response [200]> 251\n"
     ]
    },
    {
     "name": "stdout",
     "output_type": "stream",
     "text": [
      "<Response [200]> 252\n"
     ]
    },
    {
     "name": "stdout",
     "output_type": "stream",
     "text": [
      "<Response [200]> 253\n"
     ]
    },
    {
     "name": "stdout",
     "output_type": "stream",
     "text": [
      "<Response [200]> 254\n"
     ]
    },
    {
     "name": "stdout",
     "output_type": "stream",
     "text": [
      "<Response [200]> 255\n"
     ]
    },
    {
     "name": "stdout",
     "output_type": "stream",
     "text": [
      "<Response [200]> 256\n"
     ]
    },
    {
     "name": "stdout",
     "output_type": "stream",
     "text": [
      "<Response [200]> 257\n"
     ]
    },
    {
     "name": "stdout",
     "output_type": "stream",
     "text": [
      "<Response [200]> 258\n"
     ]
    },
    {
     "name": "stdout",
     "output_type": "stream",
     "text": [
      "<Response [200]> 259\n"
     ]
    },
    {
     "name": "stdout",
     "output_type": "stream",
     "text": [
      "<Response [200]> 260\n"
     ]
    },
    {
     "name": "stdout",
     "output_type": "stream",
     "text": [
      "<Response [200]> 261\n"
     ]
    },
    {
     "name": "stdout",
     "output_type": "stream",
     "text": [
      "<Response [200]> 262\n"
     ]
    },
    {
     "name": "stdout",
     "output_type": "stream",
     "text": [
      "<Response [200]> 263\n"
     ]
    },
    {
     "name": "stdout",
     "output_type": "stream",
     "text": [
      "<Response [200]> 264\n"
     ]
    },
    {
     "name": "stdout",
     "output_type": "stream",
     "text": [
      "<Response [200]> 265\n"
     ]
    },
    {
     "name": "stdout",
     "output_type": "stream",
     "text": [
      "<Response [200]> 266\n"
     ]
    },
    {
     "name": "stdout",
     "output_type": "stream",
     "text": [
      "<Response [200]> 267\n"
     ]
    },
    {
     "name": "stdout",
     "output_type": "stream",
     "text": [
      "<Response [200]> 268\n"
     ]
    },
    {
     "name": "stdout",
     "output_type": "stream",
     "text": [
      "<Response [200]> 269\n"
     ]
    },
    {
     "name": "stdout",
     "output_type": "stream",
     "text": [
      "<Response [200]> 270\n"
     ]
    },
    {
     "name": "stdout",
     "output_type": "stream",
     "text": [
      "<Response [200]> 271\n"
     ]
    },
    {
     "name": "stdout",
     "output_type": "stream",
     "text": [
      "<Response [200]> 272\n"
     ]
    },
    {
     "name": "stdout",
     "output_type": "stream",
     "text": [
      "<Response [200]> 273\n"
     ]
    },
    {
     "name": "stdout",
     "output_type": "stream",
     "text": [
      "<Response [200]> 274\n"
     ]
    },
    {
     "name": "stdout",
     "output_type": "stream",
     "text": [
      "<Response [200]> 275\n"
     ]
    },
    {
     "name": "stdout",
     "output_type": "stream",
     "text": [
      "<Response [200]> 276\n"
     ]
    },
    {
     "name": "stdout",
     "output_type": "stream",
     "text": [
      "<Response [200]> 277\n"
     ]
    },
    {
     "name": "stdout",
     "output_type": "stream",
     "text": [
      "<Response [200]> 278\n"
     ]
    },
    {
     "name": "stdout",
     "output_type": "stream",
     "text": [
      "<Response [200]> 279\n"
     ]
    },
    {
     "name": "stdout",
     "output_type": "stream",
     "text": [
      "<Response [200]> 280\n"
     ]
    },
    {
     "name": "stdout",
     "output_type": "stream",
     "text": [
      "<Response [200]> 281\n"
     ]
    },
    {
     "name": "stdout",
     "output_type": "stream",
     "text": [
      "<Response [200]> 282\n"
     ]
    },
    {
     "name": "stdout",
     "output_type": "stream",
     "text": [
      "<Response [200]> 283\n"
     ]
    },
    {
     "name": "stdout",
     "output_type": "stream",
     "text": [
      "<Response [200]> 284\n"
     ]
    },
    {
     "name": "stdout",
     "output_type": "stream",
     "text": [
      "<Response [200]> 285\n"
     ]
    },
    {
     "name": "stdout",
     "output_type": "stream",
     "text": [
      "<Response [200]> 286\n"
     ]
    },
    {
     "name": "stdout",
     "output_type": "stream",
     "text": [
      "<Response [200]> 287\n"
     ]
    },
    {
     "name": "stdout",
     "output_type": "stream",
     "text": [
      "<Response [200]> 288\n"
     ]
    },
    {
     "name": "stdout",
     "output_type": "stream",
     "text": [
      "<Response [200]> 289\n"
     ]
    },
    {
     "name": "stdout",
     "output_type": "stream",
     "text": [
      "<Response [200]> 290\n"
     ]
    },
    {
     "name": "stdout",
     "output_type": "stream",
     "text": [
      "<Response [200]> 291\n"
     ]
    },
    {
     "name": "stdout",
     "output_type": "stream",
     "text": [
      "<Response [200]> 292\n"
     ]
    },
    {
     "name": "stdout",
     "output_type": "stream",
     "text": [
      "<Response [200]> 293\n"
     ]
    },
    {
     "name": "stdout",
     "output_type": "stream",
     "text": [
      "<Response [200]> 294\n"
     ]
    },
    {
     "name": "stdout",
     "output_type": "stream",
     "text": [
      "<Response [200]> 295\n"
     ]
    },
    {
     "name": "stdout",
     "output_type": "stream",
     "text": [
      "<Response [200]> 296\n"
     ]
    },
    {
     "name": "stdout",
     "output_type": "stream",
     "text": [
      "<Response [200]> 297\n"
     ]
    },
    {
     "name": "stdout",
     "output_type": "stream",
     "text": [
      "<Response [200]> 298\n"
     ]
    },
    {
     "name": "stdout",
     "output_type": "stream",
     "text": [
      "<Response [200]> 299\n"
     ]
    },
    {
     "name": "stdout",
     "output_type": "stream",
     "text": [
      "<Response [200]> 300\n"
     ]
    },
    {
     "name": "stdout",
     "output_type": "stream",
     "text": [
      "<Response [200]> 301\n"
     ]
    },
    {
     "name": "stdout",
     "output_type": "stream",
     "text": [
      "<Response [200]> 302\n"
     ]
    },
    {
     "name": "stdout",
     "output_type": "stream",
     "text": [
      "<Response [200]> 303\n"
     ]
    },
    {
     "name": "stdout",
     "output_type": "stream",
     "text": [
      "<Response [200]> 304\n"
     ]
    },
    {
     "name": "stdout",
     "output_type": "stream",
     "text": [
      "<Response [200]> 305\n"
     ]
    },
    {
     "name": "stdout",
     "output_type": "stream",
     "text": [
      "<Response [200]> 306\n"
     ]
    },
    {
     "name": "stdout",
     "output_type": "stream",
     "text": [
      "<Response [200]> 307\n"
     ]
    },
    {
     "name": "stdout",
     "output_type": "stream",
     "text": [
      "<Response [200]> 308\n"
     ]
    },
    {
     "name": "stdout",
     "output_type": "stream",
     "text": [
      "<Response [200]> 309\n"
     ]
    },
    {
     "name": "stdout",
     "output_type": "stream",
     "text": [
      "<Response [200]> 310\n"
     ]
    },
    {
     "name": "stdout",
     "output_type": "stream",
     "text": [
      "<Response [200]> 311\n"
     ]
    },
    {
     "name": "stdout",
     "output_type": "stream",
     "text": [
      "<Response [200]> 312\n"
     ]
    },
    {
     "name": "stdout",
     "output_type": "stream",
     "text": [
      "<Response [200]> 313\n"
     ]
    },
    {
     "name": "stdout",
     "output_type": "stream",
     "text": [
      "<Response [200]> 314\n"
     ]
    },
    {
     "name": "stdout",
     "output_type": "stream",
     "text": [
      "<Response [200]> 315\n"
     ]
    },
    {
     "name": "stdout",
     "output_type": "stream",
     "text": [
      "<Response [200]> 316\n"
     ]
    },
    {
     "name": "stdout",
     "output_type": "stream",
     "text": [
      "<Response [200]> 317\n"
     ]
    },
    {
     "name": "stdout",
     "output_type": "stream",
     "text": [
      "<Response [200]> 318\n"
     ]
    },
    {
     "name": "stdout",
     "output_type": "stream",
     "text": [
      "<Response [200]> 319\n"
     ]
    },
    {
     "name": "stdout",
     "output_type": "stream",
     "text": [
      "<Response [200]> 320\n"
     ]
    },
    {
     "name": "stdout",
     "output_type": "stream",
     "text": [
      "<Response [200]> 321\n"
     ]
    },
    {
     "name": "stdout",
     "output_type": "stream",
     "text": [
      "<Response [200]> 322\n"
     ]
    },
    {
     "name": "stdout",
     "output_type": "stream",
     "text": [
      "<Response [200]> 323\n"
     ]
    },
    {
     "name": "stdout",
     "output_type": "stream",
     "text": [
      "<Response [200]> 324\n"
     ]
    },
    {
     "name": "stdout",
     "output_type": "stream",
     "text": [
      "<Response [200]> 325\n"
     ]
    },
    {
     "name": "stdout",
     "output_type": "stream",
     "text": [
      "<Response [200]> 326\n"
     ]
    },
    {
     "name": "stdout",
     "output_type": "stream",
     "text": [
      "<Response [200]> 327\n"
     ]
    },
    {
     "name": "stdout",
     "output_type": "stream",
     "text": [
      "<Response [200]> 328\n"
     ]
    },
    {
     "name": "stdout",
     "output_type": "stream",
     "text": [
      "<Response [200]> 329\n"
     ]
    },
    {
     "name": "stdout",
     "output_type": "stream",
     "text": [
      "<Response [200]> 330\n"
     ]
    },
    {
     "name": "stdout",
     "output_type": "stream",
     "text": [
      "<Response [200]> 331\n"
     ]
    },
    {
     "name": "stdout",
     "output_type": "stream",
     "text": [
      "<Response [200]> 332\n"
     ]
    },
    {
     "name": "stdout",
     "output_type": "stream",
     "text": [
      "<Response [200]> 333\n"
     ]
    },
    {
     "name": "stdout",
     "output_type": "stream",
     "text": [
      "<Response [200]> 334\n"
     ]
    },
    {
     "name": "stdout",
     "output_type": "stream",
     "text": [
      "<Response [200]> 335\n"
     ]
    },
    {
     "name": "stdout",
     "output_type": "stream",
     "text": [
      "<Response [200]> 336\n"
     ]
    },
    {
     "name": "stdout",
     "output_type": "stream",
     "text": [
      "<Response [200]> 337\n"
     ]
    },
    {
     "name": "stdout",
     "output_type": "stream",
     "text": [
      "<Response [200]> 338\n"
     ]
    },
    {
     "name": "stdout",
     "output_type": "stream",
     "text": [
      "<Response [200]> 339\n"
     ]
    },
    {
     "name": "stdout",
     "output_type": "stream",
     "text": [
      "<Response [200]> 340\n"
     ]
    },
    {
     "name": "stdout",
     "output_type": "stream",
     "text": [
      "<Response [200]> 341\n"
     ]
    },
    {
     "name": "stdout",
     "output_type": "stream",
     "text": [
      "<Response [200]> 342\n"
     ]
    },
    {
     "name": "stdout",
     "output_type": "stream",
     "text": [
      "<Response [200]> 343\n"
     ]
    },
    {
     "name": "stdout",
     "output_type": "stream",
     "text": [
      "<Response [200]> 344\n"
     ]
    },
    {
     "name": "stdout",
     "output_type": "stream",
     "text": [
      "<Response [200]> 345\n"
     ]
    },
    {
     "name": "stdout",
     "output_type": "stream",
     "text": [
      "<Response [200]> 346\n"
     ]
    },
    {
     "name": "stdout",
     "output_type": "stream",
     "text": [
      "<Response [200]> 347\n"
     ]
    },
    {
     "name": "stdout",
     "output_type": "stream",
     "text": [
      "<Response [200]> 348\n"
     ]
    },
    {
     "name": "stdout",
     "output_type": "stream",
     "text": [
      "<Response [200]> 349\n"
     ]
    },
    {
     "name": "stdout",
     "output_type": "stream",
     "text": [
      "<Response [200]> 350\n"
     ]
    },
    {
     "name": "stdout",
     "output_type": "stream",
     "text": [
      "<Response [200]> 351\n"
     ]
    },
    {
     "name": "stdout",
     "output_type": "stream",
     "text": [
      "<Response [200]> 352\n"
     ]
    },
    {
     "name": "stdout",
     "output_type": "stream",
     "text": [
      "<Response [200]> 353\n"
     ]
    },
    {
     "name": "stdout",
     "output_type": "stream",
     "text": [
      "<Response [200]> 354\n"
     ]
    },
    {
     "name": "stdout",
     "output_type": "stream",
     "text": [
      "<Response [200]> 355\n"
     ]
    },
    {
     "name": "stdout",
     "output_type": "stream",
     "text": [
      "<Response [200]> 356\n"
     ]
    },
    {
     "name": "stdout",
     "output_type": "stream",
     "text": [
      "<Response [200]> 357\n"
     ]
    },
    {
     "name": "stdout",
     "output_type": "stream",
     "text": [
      "<Response [200]> 358\n"
     ]
    },
    {
     "name": "stdout",
     "output_type": "stream",
     "text": [
      "<Response [200]> 359\n"
     ]
    },
    {
     "name": "stdout",
     "output_type": "stream",
     "text": [
      "<Response [200]> 360\n"
     ]
    },
    {
     "name": "stdout",
     "output_type": "stream",
     "text": [
      "<Response [200]> 361\n"
     ]
    },
    {
     "name": "stdout",
     "output_type": "stream",
     "text": [
      "<Response [200]> 362\n"
     ]
    },
    {
     "name": "stdout",
     "output_type": "stream",
     "text": [
      "<Response [200]> 363\n"
     ]
    },
    {
     "name": "stdout",
     "output_type": "stream",
     "text": [
      "<Response [200]> 364\n"
     ]
    },
    {
     "name": "stdout",
     "output_type": "stream",
     "text": [
      "<Response [200]> 365\n"
     ]
    },
    {
     "name": "stdout",
     "output_type": "stream",
     "text": [
      "<Response [200]> 366\n"
     ]
    },
    {
     "name": "stdout",
     "output_type": "stream",
     "text": [
      "<Response [200]> 367\n"
     ]
    },
    {
     "name": "stdout",
     "output_type": "stream",
     "text": [
      "<Response [200]> 368\n"
     ]
    },
    {
     "name": "stdout",
     "output_type": "stream",
     "text": [
      "<Response [200]> 369\n"
     ]
    },
    {
     "name": "stdout",
     "output_type": "stream",
     "text": [
      "<Response [200]> 370\n"
     ]
    },
    {
     "name": "stdout",
     "output_type": "stream",
     "text": [
      "<Response [200]> 371\n"
     ]
    },
    {
     "name": "stdout",
     "output_type": "stream",
     "text": [
      "<Response [200]> 372\n"
     ]
    },
    {
     "name": "stdout",
     "output_type": "stream",
     "text": [
      "<Response [200]> 373\n"
     ]
    },
    {
     "name": "stdout",
     "output_type": "stream",
     "text": [
      "<Response [200]> 374\n"
     ]
    },
    {
     "name": "stdout",
     "output_type": "stream",
     "text": [
      "<Response [200]> 375\n"
     ]
    },
    {
     "name": "stdout",
     "output_type": "stream",
     "text": [
      "<Response [200]> 376\n"
     ]
    },
    {
     "name": "stdout",
     "output_type": "stream",
     "text": [
      "<Response [200]> 377\n"
     ]
    },
    {
     "name": "stdout",
     "output_type": "stream",
     "text": [
      "<Response [200]> 378\n"
     ]
    },
    {
     "name": "stdout",
     "output_type": "stream",
     "text": [
      "<Response [200]> 379\n"
     ]
    },
    {
     "name": "stdout",
     "output_type": "stream",
     "text": [
      "<Response [200]> 380\n"
     ]
    },
    {
     "name": "stdout",
     "output_type": "stream",
     "text": [
      "<Response [200]> 381\n"
     ]
    },
    {
     "name": "stdout",
     "output_type": "stream",
     "text": [
      "<Response [200]> 382\n"
     ]
    },
    {
     "name": "stdout",
     "output_type": "stream",
     "text": [
      "<Response [200]> 383\n"
     ]
    },
    {
     "name": "stdout",
     "output_type": "stream",
     "text": [
      "<Response [200]> 384\n"
     ]
    },
    {
     "name": "stdout",
     "output_type": "stream",
     "text": [
      "<Response [200]> 385\n"
     ]
    },
    {
     "name": "stdout",
     "output_type": "stream",
     "text": [
      "<Response [200]> 386\n"
     ]
    },
    {
     "name": "stdout",
     "output_type": "stream",
     "text": [
      "<Response [200]> 387\n"
     ]
    },
    {
     "name": "stdout",
     "output_type": "stream",
     "text": [
      "<Response [200]> 388\n"
     ]
    },
    {
     "name": "stdout",
     "output_type": "stream",
     "text": [
      "<Response [200]> 389\n"
     ]
    },
    {
     "name": "stdout",
     "output_type": "stream",
     "text": [
      "<Response [200]> 390\n"
     ]
    },
    {
     "name": "stdout",
     "output_type": "stream",
     "text": [
      "<Response [200]> 391\n"
     ]
    },
    {
     "name": "stdout",
     "output_type": "stream",
     "text": [
      "<Response [200]> 392\n"
     ]
    },
    {
     "name": "stdout",
     "output_type": "stream",
     "text": [
      "<Response [200]> 393\n"
     ]
    },
    {
     "name": "stdout",
     "output_type": "stream",
     "text": [
      "<Response [200]> 394\n"
     ]
    },
    {
     "name": "stdout",
     "output_type": "stream",
     "text": [
      "<Response [200]> 395\n"
     ]
    },
    {
     "name": "stdout",
     "output_type": "stream",
     "text": [
      "<Response [200]> 396\n"
     ]
    },
    {
     "name": "stdout",
     "output_type": "stream",
     "text": [
      "<Response [200]> 397\n"
     ]
    },
    {
     "name": "stdout",
     "output_type": "stream",
     "text": [
      "<Response [200]> 398\n"
     ]
    },
    {
     "name": "stdout",
     "output_type": "stream",
     "text": [
      "<Response [200]> 399\n"
     ]
    },
    {
     "name": "stdout",
     "output_type": "stream",
     "text": [
      "<Response [200]> 400\n"
     ]
    },
    {
     "name": "stdout",
     "output_type": "stream",
     "text": [
      "<Response [200]> 401\n"
     ]
    },
    {
     "name": "stdout",
     "output_type": "stream",
     "text": [
      "<Response [200]> 402\n"
     ]
    },
    {
     "name": "stdout",
     "output_type": "stream",
     "text": [
      "<Response [200]> 403\n"
     ]
    },
    {
     "name": "stdout",
     "output_type": "stream",
     "text": [
      "<Response [200]> 404\n"
     ]
    },
    {
     "name": "stdout",
     "output_type": "stream",
     "text": [
      "<Response [200]> 405\n"
     ]
    },
    {
     "name": "stdout",
     "output_type": "stream",
     "text": [
      "<Response [200]> 406\n"
     ]
    },
    {
     "name": "stdout",
     "output_type": "stream",
     "text": [
      "<Response [200]> 407\n"
     ]
    },
    {
     "name": "stdout",
     "output_type": "stream",
     "text": [
      "<Response [200]> 408\n"
     ]
    },
    {
     "name": "stdout",
     "output_type": "stream",
     "text": [
      "<Response [200]> 409\n"
     ]
    },
    {
     "name": "stdout",
     "output_type": "stream",
     "text": [
      "<Response [200]> 410\n"
     ]
    },
    {
     "name": "stdout",
     "output_type": "stream",
     "text": [
      "<Response [200]> 411\n"
     ]
    },
    {
     "name": "stdout",
     "output_type": "stream",
     "text": [
      "<Response [200]> 412\n"
     ]
    },
    {
     "name": "stdout",
     "output_type": "stream",
     "text": [
      "<Response [200]> 413\n"
     ]
    },
    {
     "name": "stdout",
     "output_type": "stream",
     "text": [
      "<Response [200]> 414\n"
     ]
    },
    {
     "name": "stdout",
     "output_type": "stream",
     "text": [
      "<Response [200]> 415\n"
     ]
    },
    {
     "name": "stdout",
     "output_type": "stream",
     "text": [
      "<Response [200]> 416\n"
     ]
    },
    {
     "name": "stdout",
     "output_type": "stream",
     "text": [
      "<Response [200]> 417\n"
     ]
    },
    {
     "name": "stdout",
     "output_type": "stream",
     "text": [
      "<Response [200]> 418\n"
     ]
    },
    {
     "name": "stdout",
     "output_type": "stream",
     "text": [
      "<Response [200]> 419\n"
     ]
    },
    {
     "name": "stdout",
     "output_type": "stream",
     "text": [
      "<Response [200]> 420\n"
     ]
    },
    {
     "name": "stdout",
     "output_type": "stream",
     "text": [
      "<Response [200]> 421\n"
     ]
    },
    {
     "name": "stdout",
     "output_type": "stream",
     "text": [
      "<Response [200]> 422\n"
     ]
    },
    {
     "name": "stdout",
     "output_type": "stream",
     "text": [
      "<Response [200]> 423\n"
     ]
    },
    {
     "name": "stdout",
     "output_type": "stream",
     "text": [
      "<Response [200]> 424\n"
     ]
    },
    {
     "name": "stdout",
     "output_type": "stream",
     "text": [
      "<Response [200]> 425\n"
     ]
    },
    {
     "name": "stdout",
     "output_type": "stream",
     "text": [
      "<Response [200]> 426\n"
     ]
    },
    {
     "name": "stdout",
     "output_type": "stream",
     "text": [
      "<Response [200]> 427\n"
     ]
    },
    {
     "name": "stdout",
     "output_type": "stream",
     "text": [
      "<Response [200]> 428\n"
     ]
    },
    {
     "name": "stdout",
     "output_type": "stream",
     "text": [
      "<Response [200]> 429\n"
     ]
    },
    {
     "name": "stdout",
     "output_type": "stream",
     "text": [
      "<Response [200]> 430\n"
     ]
    },
    {
     "name": "stdout",
     "output_type": "stream",
     "text": [
      "<Response [200]> 431\n"
     ]
    },
    {
     "name": "stdout",
     "output_type": "stream",
     "text": [
      "<Response [200]> 432\n"
     ]
    },
    {
     "name": "stdout",
     "output_type": "stream",
     "text": [
      "<Response [200]> 433\n"
     ]
    },
    {
     "name": "stdout",
     "output_type": "stream",
     "text": [
      "<Response [200]> 434\n"
     ]
    },
    {
     "name": "stdout",
     "output_type": "stream",
     "text": [
      "<Response [200]> 435\n"
     ]
    },
    {
     "name": "stdout",
     "output_type": "stream",
     "text": [
      "<Response [200]> 436\n"
     ]
    },
    {
     "name": "stdout",
     "output_type": "stream",
     "text": [
      "<Response [200]> 437\n"
     ]
    },
    {
     "name": "stdout",
     "output_type": "stream",
     "text": [
      "<Response [200]> 438\n"
     ]
    },
    {
     "name": "stdout",
     "output_type": "stream",
     "text": [
      "<Response [200]> 439\n"
     ]
    },
    {
     "name": "stdout",
     "output_type": "stream",
     "text": [
      "<Response [200]> 440\n"
     ]
    },
    {
     "name": "stdout",
     "output_type": "stream",
     "text": [
      "<Response [200]> 441\n"
     ]
    },
    {
     "name": "stdout",
     "output_type": "stream",
     "text": [
      "<Response [200]> 442\n"
     ]
    },
    {
     "name": "stdout",
     "output_type": "stream",
     "text": [
      "<Response [200]> 443\n"
     ]
    },
    {
     "name": "stdout",
     "output_type": "stream",
     "text": [
      "<Response [200]> 444\n"
     ]
    },
    {
     "name": "stdout",
     "output_type": "stream",
     "text": [
      "<Response [200]> 445\n"
     ]
    },
    {
     "name": "stdout",
     "output_type": "stream",
     "text": [
      "<Response [200]> 446\n"
     ]
    },
    {
     "name": "stdout",
     "output_type": "stream",
     "text": [
      "<Response [200]> 447\n"
     ]
    },
    {
     "name": "stdout",
     "output_type": "stream",
     "text": [
      "<Response [200]> 448\n"
     ]
    },
    {
     "name": "stdout",
     "output_type": "stream",
     "text": [
      "<Response [200]> 449\n"
     ]
    },
    {
     "name": "stdout",
     "output_type": "stream",
     "text": [
      "<Response [200]> 450\n"
     ]
    },
    {
     "name": "stdout",
     "output_type": "stream",
     "text": [
      "<Response [200]> 451\n"
     ]
    },
    {
     "name": "stdout",
     "output_type": "stream",
     "text": [
      "<Response [200]> 452\n"
     ]
    },
    {
     "name": "stdout",
     "output_type": "stream",
     "text": [
      "<Response [200]> 453\n"
     ]
    },
    {
     "name": "stdout",
     "output_type": "stream",
     "text": [
      "<Response [200]> 454\n"
     ]
    },
    {
     "name": "stdout",
     "output_type": "stream",
     "text": [
      "<Response [200]> 455\n"
     ]
    },
    {
     "name": "stdout",
     "output_type": "stream",
     "text": [
      "<Response [200]> 456\n"
     ]
    },
    {
     "name": "stdout",
     "output_type": "stream",
     "text": [
      "<Response [200]> 457\n"
     ]
    },
    {
     "name": "stdout",
     "output_type": "stream",
     "text": [
      "<Response [200]> 458\n"
     ]
    },
    {
     "name": "stdout",
     "output_type": "stream",
     "text": [
      "<Response [200]> 459\n"
     ]
    },
    {
     "name": "stdout",
     "output_type": "stream",
     "text": [
      "<Response [200]> 460\n"
     ]
    },
    {
     "name": "stdout",
     "output_type": "stream",
     "text": [
      "<Response [200]> 461\n"
     ]
    },
    {
     "name": "stdout",
     "output_type": "stream",
     "text": [
      "<Response [200]> 462\n"
     ]
    },
    {
     "name": "stdout",
     "output_type": "stream",
     "text": [
      "<Response [200]> 463\n"
     ]
    },
    {
     "name": "stdout",
     "output_type": "stream",
     "text": [
      "<Response [200]> 464\n"
     ]
    },
    {
     "name": "stdout",
     "output_type": "stream",
     "text": [
      "<Response [200]> 465\n"
     ]
    },
    {
     "name": "stdout",
     "output_type": "stream",
     "text": [
      "<Response [200]> 466\n"
     ]
    },
    {
     "name": "stdout",
     "output_type": "stream",
     "text": [
      "<Response [200]> 467\n"
     ]
    },
    {
     "name": "stdout",
     "output_type": "stream",
     "text": [
      "<Response [200]> 468\n"
     ]
    },
    {
     "name": "stdout",
     "output_type": "stream",
     "text": [
      "<Response [200]> 469\n"
     ]
    },
    {
     "name": "stdout",
     "output_type": "stream",
     "text": [
      "<Response [200]> 470\n"
     ]
    },
    {
     "name": "stdout",
     "output_type": "stream",
     "text": [
      "<Response [200]> 471\n"
     ]
    },
    {
     "name": "stdout",
     "output_type": "stream",
     "text": [
      "<Response [200]> 472\n"
     ]
    },
    {
     "name": "stdout",
     "output_type": "stream",
     "text": [
      "<Response [200]> 473\n"
     ]
    },
    {
     "name": "stdout",
     "output_type": "stream",
     "text": [
      "<Response [200]> 474\n"
     ]
    },
    {
     "name": "stdout",
     "output_type": "stream",
     "text": [
      "<Response [200]> 475\n"
     ]
    },
    {
     "name": "stdout",
     "output_type": "stream",
     "text": [
      "<Response [200]> 476\n"
     ]
    },
    {
     "name": "stdout",
     "output_type": "stream",
     "text": [
      "<Response [200]> 477\n"
     ]
    },
    {
     "name": "stdout",
     "output_type": "stream",
     "text": [
      "<Response [200]> 478\n"
     ]
    },
    {
     "name": "stdout",
     "output_type": "stream",
     "text": [
      "<Response [200]> 479\n"
     ]
    },
    {
     "name": "stdout",
     "output_type": "stream",
     "text": [
      "<Response [200]> 480\n"
     ]
    },
    {
     "name": "stdout",
     "output_type": "stream",
     "text": [
      "<Response [200]> 481\n"
     ]
    },
    {
     "name": "stdout",
     "output_type": "stream",
     "text": [
      "<Response [200]> 482\n"
     ]
    },
    {
     "name": "stdout",
     "output_type": "stream",
     "text": [
      "<Response [200]> 483\n"
     ]
    },
    {
     "name": "stdout",
     "output_type": "stream",
     "text": [
      "<Response [200]> 484\n"
     ]
    },
    {
     "name": "stdout",
     "output_type": "stream",
     "text": [
      "<Response [200]> 485\n"
     ]
    },
    {
     "name": "stdout",
     "output_type": "stream",
     "text": [
      "<Response [200]> 486\n"
     ]
    },
    {
     "name": "stdout",
     "output_type": "stream",
     "text": [
      "<Response [200]> 487\n"
     ]
    },
    {
     "name": "stdout",
     "output_type": "stream",
     "text": [
      "<Response [200]> 488\n"
     ]
    },
    {
     "name": "stdout",
     "output_type": "stream",
     "text": [
      "<Response [200]> 489\n"
     ]
    },
    {
     "name": "stdout",
     "output_type": "stream",
     "text": [
      "<Response [200]> 490\n"
     ]
    },
    {
     "name": "stdout",
     "output_type": "stream",
     "text": [
      "<Response [200]> 491\n"
     ]
    },
    {
     "name": "stdout",
     "output_type": "stream",
     "text": [
      "<Response [200]> 492\n"
     ]
    },
    {
     "name": "stdout",
     "output_type": "stream",
     "text": [
      "<Response [200]> 493\n"
     ]
    },
    {
     "name": "stdout",
     "output_type": "stream",
     "text": [
      "<Response [200]> 494\n"
     ]
    },
    {
     "name": "stdout",
     "output_type": "stream",
     "text": [
      "<Response [200]> 495\n"
     ]
    },
    {
     "name": "stdout",
     "output_type": "stream",
     "text": [
      "<Response [200]> 496\n"
     ]
    },
    {
     "name": "stdout",
     "output_type": "stream",
     "text": [
      "<Response [200]> 497\n"
     ]
    },
    {
     "name": "stdout",
     "output_type": "stream",
     "text": [
      "<Response [200]> 498\n"
     ]
    },
    {
     "name": "stdout",
     "output_type": "stream",
     "text": [
      "<Response [200]> 499\n"
     ]
    },
    {
     "name": "stdout",
     "output_type": "stream",
     "text": [
      "<Response [200]> 500\n"
     ]
    },
    {
     "name": "stdout",
     "output_type": "stream",
     "text": [
      "<Response [200]> 501\n"
     ]
    },
    {
     "name": "stdout",
     "output_type": "stream",
     "text": [
      "<Response [200]> 502\n"
     ]
    },
    {
     "name": "stdout",
     "output_type": "stream",
     "text": [
      "<Response [200]> 503\n"
     ]
    },
    {
     "name": "stdout",
     "output_type": "stream",
     "text": [
      "<Response [200]> 504\n"
     ]
    },
    {
     "name": "stdout",
     "output_type": "stream",
     "text": [
      "<Response [200]> 505\n"
     ]
    },
    {
     "name": "stdout",
     "output_type": "stream",
     "text": [
      "<Response [200]> 506\n"
     ]
    },
    {
     "name": "stdout",
     "output_type": "stream",
     "text": [
      "<Response [200]> 507\n"
     ]
    },
    {
     "name": "stdout",
     "output_type": "stream",
     "text": [
      "<Response [200]> 508\n"
     ]
    },
    {
     "name": "stdout",
     "output_type": "stream",
     "text": [
      "<Response [200]> 509\n"
     ]
    },
    {
     "name": "stdout",
     "output_type": "stream",
     "text": [
      "<Response [200]> 510\n"
     ]
    },
    {
     "name": "stdout",
     "output_type": "stream",
     "text": [
      "<Response [200]> 511\n"
     ]
    },
    {
     "name": "stdout",
     "output_type": "stream",
     "text": [
      "<Response [200]> 512\n"
     ]
    },
    {
     "name": "stdout",
     "output_type": "stream",
     "text": [
      "<Response [200]> 513\n"
     ]
    },
    {
     "name": "stdout",
     "output_type": "stream",
     "text": [
      "<Response [200]> 514\n"
     ]
    },
    {
     "name": "stdout",
     "output_type": "stream",
     "text": [
      "<Response [200]> 515\n"
     ]
    },
    {
     "name": "stdout",
     "output_type": "stream",
     "text": [
      "<Response [200]> 516\n"
     ]
    },
    {
     "name": "stdout",
     "output_type": "stream",
     "text": [
      "<Response [200]> 517\n"
     ]
    },
    {
     "name": "stdout",
     "output_type": "stream",
     "text": [
      "<Response [200]> 518\n"
     ]
    },
    {
     "name": "stdout",
     "output_type": "stream",
     "text": [
      "<Response [200]> 519\n"
     ]
    },
    {
     "name": "stdout",
     "output_type": "stream",
     "text": [
      "<Response [200]> 520\n"
     ]
    },
    {
     "name": "stdout",
     "output_type": "stream",
     "text": [
      "<Response [200]> 521\n"
     ]
    },
    {
     "name": "stdout",
     "output_type": "stream",
     "text": [
      "<Response [200]> 522\n"
     ]
    },
    {
     "name": "stdout",
     "output_type": "stream",
     "text": [
      "<Response [200]> 523\n"
     ]
    },
    {
     "name": "stdout",
     "output_type": "stream",
     "text": [
      "<Response [200]> 524\n"
     ]
    },
    {
     "name": "stdout",
     "output_type": "stream",
     "text": [
      "<Response [200]> 525\n"
     ]
    },
    {
     "name": "stdout",
     "output_type": "stream",
     "text": [
      "<Response [200]> 526\n"
     ]
    },
    {
     "name": "stdout",
     "output_type": "stream",
     "text": [
      "<Response [200]> 527\n"
     ]
    },
    {
     "name": "stdout",
     "output_type": "stream",
     "text": [
      "<Response [200]> 528\n"
     ]
    },
    {
     "name": "stdout",
     "output_type": "stream",
     "text": [
      "<Response [200]> 529\n"
     ]
    },
    {
     "name": "stdout",
     "output_type": "stream",
     "text": [
      "<Response [200]> 530\n"
     ]
    },
    {
     "name": "stdout",
     "output_type": "stream",
     "text": [
      "<Response [200]> 531\n"
     ]
    },
    {
     "name": "stdout",
     "output_type": "stream",
     "text": [
      "<Response [200]> 532\n"
     ]
    },
    {
     "name": "stdout",
     "output_type": "stream",
     "text": [
      "<Response [200]> 533\n"
     ]
    },
    {
     "name": "stdout",
     "output_type": "stream",
     "text": [
      "<Response [200]> 534\n"
     ]
    },
    {
     "name": "stdout",
     "output_type": "stream",
     "text": [
      "<Response [200]> 535\n"
     ]
    },
    {
     "name": "stdout",
     "output_type": "stream",
     "text": [
      "<Response [200]> 536\n"
     ]
    },
    {
     "name": "stdout",
     "output_type": "stream",
     "text": [
      "<Response [200]> 537\n"
     ]
    },
    {
     "name": "stdout",
     "output_type": "stream",
     "text": [
      "<Response [200]> 538\n"
     ]
    },
    {
     "name": "stdout",
     "output_type": "stream",
     "text": [
      "<Response [200]> 539\n"
     ]
    },
    {
     "name": "stdout",
     "output_type": "stream",
     "text": [
      "<Response [200]> 540\n"
     ]
    },
    {
     "name": "stdout",
     "output_type": "stream",
     "text": [
      "<Response [200]> 541\n"
     ]
    },
    {
     "name": "stdout",
     "output_type": "stream",
     "text": [
      "<Response [200]> 542\n"
     ]
    },
    {
     "name": "stdout",
     "output_type": "stream",
     "text": [
      "<Response [200]> 543\n"
     ]
    },
    {
     "name": "stdout",
     "output_type": "stream",
     "text": [
      "<Response [200]> 544\n"
     ]
    },
    {
     "name": "stdout",
     "output_type": "stream",
     "text": [
      "<Response [200]> 545\n"
     ]
    },
    {
     "name": "stdout",
     "output_type": "stream",
     "text": [
      "<Response [200]> 546\n"
     ]
    },
    {
     "name": "stdout",
     "output_type": "stream",
     "text": [
      "<Response [200]> 547\n"
     ]
    },
    {
     "name": "stdout",
     "output_type": "stream",
     "text": [
      "<Response [200]> 548\n"
     ]
    },
    {
     "name": "stdout",
     "output_type": "stream",
     "text": [
      "<Response [200]> 549\n"
     ]
    },
    {
     "name": "stdout",
     "output_type": "stream",
     "text": [
      "<Response [200]> 550\n"
     ]
    },
    {
     "name": "stdout",
     "output_type": "stream",
     "text": [
      "<Response [200]> 551\n"
     ]
    },
    {
     "name": "stdout",
     "output_type": "stream",
     "text": [
      "<Response [200]> 552\n"
     ]
    },
    {
     "name": "stdout",
     "output_type": "stream",
     "text": [
      "<Response [200]> 553\n"
     ]
    },
    {
     "name": "stdout",
     "output_type": "stream",
     "text": [
      "<Response [200]> 554\n"
     ]
    },
    {
     "name": "stdout",
     "output_type": "stream",
     "text": [
      "<Response [200]> 555\n"
     ]
    },
    {
     "name": "stdout",
     "output_type": "stream",
     "text": [
      "<Response [200]> 556\n"
     ]
    },
    {
     "name": "stdout",
     "output_type": "stream",
     "text": [
      "<Response [200]> 557\n"
     ]
    },
    {
     "name": "stdout",
     "output_type": "stream",
     "text": [
      "<Response [200]> 558\n"
     ]
    },
    {
     "name": "stdout",
     "output_type": "stream",
     "text": [
      "<Response [200]> 559\n"
     ]
    },
    {
     "name": "stdout",
     "output_type": "stream",
     "text": [
      "<Response [200]> 560\n"
     ]
    },
    {
     "name": "stdout",
     "output_type": "stream",
     "text": [
      "<Response [200]> 561\n"
     ]
    },
    {
     "name": "stdout",
     "output_type": "stream",
     "text": [
      "<Response [200]> 562\n"
     ]
    },
    {
     "name": "stdout",
     "output_type": "stream",
     "text": [
      "<Response [200]> 563\n"
     ]
    },
    {
     "name": "stdout",
     "output_type": "stream",
     "text": [
      "<Response [200]> 564\n"
     ]
    },
    {
     "name": "stdout",
     "output_type": "stream",
     "text": [
      "<Response [200]> 565\n"
     ]
    },
    {
     "name": "stdout",
     "output_type": "stream",
     "text": [
      "<Response [200]> 566\n"
     ]
    },
    {
     "name": "stdout",
     "output_type": "stream",
     "text": [
      "<Response [200]> 567\n"
     ]
    },
    {
     "name": "stdout",
     "output_type": "stream",
     "text": [
      "<Response [200]> 568\n"
     ]
    },
    {
     "name": "stdout",
     "output_type": "stream",
     "text": [
      "<Response [200]> 569\n"
     ]
    },
    {
     "name": "stdout",
     "output_type": "stream",
     "text": [
      "<Response [200]> 570\n"
     ]
    },
    {
     "name": "stdout",
     "output_type": "stream",
     "text": [
      "<Response [200]> 571\n"
     ]
    },
    {
     "name": "stdout",
     "output_type": "stream",
     "text": [
      "<Response [200]> 572\n"
     ]
    },
    {
     "name": "stdout",
     "output_type": "stream",
     "text": [
      "<Response [200]> 573\n"
     ]
    },
    {
     "name": "stdout",
     "output_type": "stream",
     "text": [
      "<Response [200]> 574\n"
     ]
    },
    {
     "name": "stdout",
     "output_type": "stream",
     "text": [
      "<Response [200]> 575\n"
     ]
    },
    {
     "name": "stdout",
     "output_type": "stream",
     "text": [
      "<Response [200]> 576\n"
     ]
    },
    {
     "name": "stdout",
     "output_type": "stream",
     "text": [
      "<Response [200]> 577\n"
     ]
    },
    {
     "name": "stdout",
     "output_type": "stream",
     "text": [
      "<Response [200]> 578\n"
     ]
    },
    {
     "name": "stdout",
     "output_type": "stream",
     "text": [
      "<Response [200]> 579\n"
     ]
    },
    {
     "name": "stdout",
     "output_type": "stream",
     "text": [
      "<Response [200]> 580\n"
     ]
    },
    {
     "name": "stdout",
     "output_type": "stream",
     "text": [
      "<Response [200]> 581\n"
     ]
    },
    {
     "name": "stdout",
     "output_type": "stream",
     "text": [
      "<Response [200]> 582\n"
     ]
    },
    {
     "name": "stdout",
     "output_type": "stream",
     "text": [
      "<Response [200]> 583\n"
     ]
    },
    {
     "name": "stdout",
     "output_type": "stream",
     "text": [
      "<Response [200]> 584\n"
     ]
    },
    {
     "name": "stdout",
     "output_type": "stream",
     "text": [
      "<Response [200]> 585\n"
     ]
    },
    {
     "name": "stdout",
     "output_type": "stream",
     "text": [
      "<Response [200]> 586\n"
     ]
    },
    {
     "name": "stdout",
     "output_type": "stream",
     "text": [
      "<Response [200]> 587\n"
     ]
    },
    {
     "name": "stdout",
     "output_type": "stream",
     "text": [
      "<Response [200]> 588\n"
     ]
    },
    {
     "name": "stdout",
     "output_type": "stream",
     "text": [
      "<Response [200]> 589\n"
     ]
    },
    {
     "name": "stdout",
     "output_type": "stream",
     "text": [
      "<Response [200]> 590\n"
     ]
    },
    {
     "name": "stdout",
     "output_type": "stream",
     "text": [
      "<Response [200]> 591\n"
     ]
    },
    {
     "name": "stdout",
     "output_type": "stream",
     "text": [
      "<Response [200]> 592\n"
     ]
    },
    {
     "name": "stdout",
     "output_type": "stream",
     "text": [
      "<Response [200]> 593\n"
     ]
    },
    {
     "name": "stdout",
     "output_type": "stream",
     "text": [
      "<Response [200]> 594\n"
     ]
    },
    {
     "name": "stdout",
     "output_type": "stream",
     "text": [
      "<Response [200]> 595\n"
     ]
    },
    {
     "name": "stdout",
     "output_type": "stream",
     "text": [
      "<Response [200]> 596\n"
     ]
    },
    {
     "name": "stdout",
     "output_type": "stream",
     "text": [
      "<Response [200]> 597\n"
     ]
    },
    {
     "name": "stdout",
     "output_type": "stream",
     "text": [
      "<Response [200]> 598\n"
     ]
    },
    {
     "name": "stdout",
     "output_type": "stream",
     "text": [
      "<Response [200]> 599\n"
     ]
    },
    {
     "name": "stdout",
     "output_type": "stream",
     "text": [
      "<Response [200]> 600\n"
     ]
    },
    {
     "name": "stdout",
     "output_type": "stream",
     "text": [
      "<Response [200]> 601\n"
     ]
    },
    {
     "name": "stdout",
     "output_type": "stream",
     "text": [
      "<Response [200]> 602\n"
     ]
    },
    {
     "name": "stdout",
     "output_type": "stream",
     "text": [
      "<Response [200]> 603\n"
     ]
    },
    {
     "name": "stdout",
     "output_type": "stream",
     "text": [
      "<Response [200]> 604\n"
     ]
    },
    {
     "name": "stdout",
     "output_type": "stream",
     "text": [
      "<Response [200]> 605\n"
     ]
    },
    {
     "name": "stdout",
     "output_type": "stream",
     "text": [
      "<Response [200]> 606\n"
     ]
    },
    {
     "name": "stdout",
     "output_type": "stream",
     "text": [
      "<Response [200]> 607\n"
     ]
    },
    {
     "name": "stdout",
     "output_type": "stream",
     "text": [
      "<Response [200]> 608\n"
     ]
    },
    {
     "name": "stdout",
     "output_type": "stream",
     "text": [
      "<Response [200]> 609\n"
     ]
    },
    {
     "name": "stdout",
     "output_type": "stream",
     "text": [
      "<Response [200]> 610\n"
     ]
    },
    {
     "name": "stdout",
     "output_type": "stream",
     "text": [
      "<Response [200]> 611\n"
     ]
    },
    {
     "name": "stdout",
     "output_type": "stream",
     "text": [
      "<Response [200]> 612\n"
     ]
    },
    {
     "name": "stdout",
     "output_type": "stream",
     "text": [
      "<Response [200]> 613\n"
     ]
    },
    {
     "name": "stdout",
     "output_type": "stream",
     "text": [
      "<Response [200]> 614\n"
     ]
    },
    {
     "name": "stdout",
     "output_type": "stream",
     "text": [
      "<Response [200]> 615\n"
     ]
    },
    {
     "name": "stdout",
     "output_type": "stream",
     "text": [
      "<Response [200]> 616\n"
     ]
    },
    {
     "name": "stdout",
     "output_type": "stream",
     "text": [
      "<Response [200]> 617\n"
     ]
    },
    {
     "name": "stdout",
     "output_type": "stream",
     "text": [
      "<Response [200]> 618\n"
     ]
    },
    {
     "name": "stdout",
     "output_type": "stream",
     "text": [
      "<Response [200]> 619\n"
     ]
    },
    {
     "name": "stdout",
     "output_type": "stream",
     "text": [
      "<Response [200]> 620\n"
     ]
    },
    {
     "name": "stdout",
     "output_type": "stream",
     "text": [
      "<Response [200]> 621\n"
     ]
    },
    {
     "name": "stdout",
     "output_type": "stream",
     "text": [
      "<Response [200]> 622\n"
     ]
    },
    {
     "name": "stdout",
     "output_type": "stream",
     "text": [
      "<Response [200]> 623\n"
     ]
    },
    {
     "name": "stdout",
     "output_type": "stream",
     "text": [
      "<Response [200]> 624\n"
     ]
    },
    {
     "name": "stdout",
     "output_type": "stream",
     "text": [
      "<Response [200]> 625\n"
     ]
    },
    {
     "name": "stdout",
     "output_type": "stream",
     "text": [
      "<Response [200]> 626\n"
     ]
    },
    {
     "name": "stdout",
     "output_type": "stream",
     "text": [
      "<Response [200]> 627\n"
     ]
    },
    {
     "name": "stdout",
     "output_type": "stream",
     "text": [
      "<Response [200]> 628\n"
     ]
    },
    {
     "name": "stdout",
     "output_type": "stream",
     "text": [
      "<Response [200]> 629\n"
     ]
    },
    {
     "name": "stdout",
     "output_type": "stream",
     "text": [
      "<Response [200]> 630\n"
     ]
    },
    {
     "name": "stdout",
     "output_type": "stream",
     "text": [
      "<Response [200]> 631\n"
     ]
    },
    {
     "name": "stdout",
     "output_type": "stream",
     "text": [
      "<Response [200]> 632\n"
     ]
    },
    {
     "name": "stdout",
     "output_type": "stream",
     "text": [
      "<Response [200]> 633\n"
     ]
    },
    {
     "name": "stdout",
     "output_type": "stream",
     "text": [
      "<Response [200]> 634\n"
     ]
    },
    {
     "name": "stdout",
     "output_type": "stream",
     "text": [
      "<Response [200]> 635\n"
     ]
    },
    {
     "name": "stdout",
     "output_type": "stream",
     "text": [
      "<Response [200]> 636\n"
     ]
    },
    {
     "name": "stdout",
     "output_type": "stream",
     "text": [
      "<Response [200]> 637\n"
     ]
    },
    {
     "name": "stdout",
     "output_type": "stream",
     "text": [
      "<Response [200]> 638\n"
     ]
    },
    {
     "name": "stdout",
     "output_type": "stream",
     "text": [
      "<Response [200]> 639\n"
     ]
    },
    {
     "name": "stdout",
     "output_type": "stream",
     "text": [
      "<Response [200]> 640\n"
     ]
    },
    {
     "name": "stdout",
     "output_type": "stream",
     "text": [
      "<Response [200]> 641\n"
     ]
    },
    {
     "name": "stdout",
     "output_type": "stream",
     "text": [
      "<Response [200]> 642\n"
     ]
    },
    {
     "name": "stdout",
     "output_type": "stream",
     "text": [
      "<Response [200]> 643\n"
     ]
    },
    {
     "name": "stdout",
     "output_type": "stream",
     "text": [
      "<Response [200]> 644\n"
     ]
    },
    {
     "name": "stdout",
     "output_type": "stream",
     "text": [
      "<Response [200]> 645\n"
     ]
    },
    {
     "name": "stdout",
     "output_type": "stream",
     "text": [
      "<Response [200]> 646\n"
     ]
    },
    {
     "name": "stdout",
     "output_type": "stream",
     "text": [
      "<Response [200]> 647\n"
     ]
    },
    {
     "name": "stdout",
     "output_type": "stream",
     "text": [
      "<Response [200]> 648\n"
     ]
    },
    {
     "name": "stdout",
     "output_type": "stream",
     "text": [
      "<Response [200]> 649\n"
     ]
    },
    {
     "name": "stdout",
     "output_type": "stream",
     "text": [
      "<Response [200]> 650\n"
     ]
    },
    {
     "name": "stdout",
     "output_type": "stream",
     "text": [
      "<Response [200]> 651\n"
     ]
    },
    {
     "name": "stdout",
     "output_type": "stream",
     "text": [
      "<Response [200]> 652\n"
     ]
    },
    {
     "name": "stdout",
     "output_type": "stream",
     "text": [
      "<Response [200]> 653\n"
     ]
    },
    {
     "name": "stdout",
     "output_type": "stream",
     "text": [
      "<Response [200]> 654\n"
     ]
    },
    {
     "name": "stdout",
     "output_type": "stream",
     "text": [
      "<Response [200]> 655\n"
     ]
    },
    {
     "name": "stdout",
     "output_type": "stream",
     "text": [
      "<Response [200]> 656\n"
     ]
    },
    {
     "name": "stdout",
     "output_type": "stream",
     "text": [
      "<Response [200]> 657\n"
     ]
    },
    {
     "name": "stdout",
     "output_type": "stream",
     "text": [
      "<Response [200]> 658\n"
     ]
    },
    {
     "name": "stdout",
     "output_type": "stream",
     "text": [
      "<Response [200]> 659\n"
     ]
    },
    {
     "name": "stdout",
     "output_type": "stream",
     "text": [
      "<Response [200]> 660\n"
     ]
    },
    {
     "name": "stdout",
     "output_type": "stream",
     "text": [
      "<Response [200]> 661\n"
     ]
    },
    {
     "name": "stdout",
     "output_type": "stream",
     "text": [
      "<Response [200]> 662\n"
     ]
    },
    {
     "name": "stdout",
     "output_type": "stream",
     "text": [
      "<Response [200]> 663\n"
     ]
    },
    {
     "name": "stdout",
     "output_type": "stream",
     "text": [
      "<Response [200]> 664\n"
     ]
    },
    {
     "name": "stdout",
     "output_type": "stream",
     "text": [
      "<Response [200]> 665\n"
     ]
    },
    {
     "name": "stdout",
     "output_type": "stream",
     "text": [
      "<Response [200]> 666\n"
     ]
    },
    {
     "name": "stdout",
     "output_type": "stream",
     "text": [
      "<Response [200]> 667\n"
     ]
    },
    {
     "name": "stdout",
     "output_type": "stream",
     "text": [
      "<Response [200]> 668\n"
     ]
    },
    {
     "name": "stdout",
     "output_type": "stream",
     "text": [
      "<Response [200]> 669\n"
     ]
    },
    {
     "name": "stdout",
     "output_type": "stream",
     "text": [
      "<Response [200]> 670\n"
     ]
    },
    {
     "name": "stdout",
     "output_type": "stream",
     "text": [
      "<Response [200]> 671\n"
     ]
    },
    {
     "name": "stdout",
     "output_type": "stream",
     "text": [
      "<Response [200]> 672\n"
     ]
    },
    {
     "name": "stdout",
     "output_type": "stream",
     "text": [
      "<Response [200]> 673\n"
     ]
    },
    {
     "name": "stdout",
     "output_type": "stream",
     "text": [
      "<Response [200]> 674\n"
     ]
    },
    {
     "name": "stdout",
     "output_type": "stream",
     "text": [
      "<Response [200]> 675\n"
     ]
    },
    {
     "name": "stdout",
     "output_type": "stream",
     "text": [
      "<Response [200]> 676\n"
     ]
    },
    {
     "name": "stdout",
     "output_type": "stream",
     "text": [
      "<Response [200]> 677\n"
     ]
    },
    {
     "name": "stdout",
     "output_type": "stream",
     "text": [
      "<Response [200]> 678\n"
     ]
    },
    {
     "name": "stdout",
     "output_type": "stream",
     "text": [
      "<Response [200]> 679\n"
     ]
    },
    {
     "name": "stdout",
     "output_type": "stream",
     "text": [
      "<Response [200]> 680\n"
     ]
    },
    {
     "name": "stdout",
     "output_type": "stream",
     "text": [
      "<Response [200]> 681\n"
     ]
    },
    {
     "name": "stdout",
     "output_type": "stream",
     "text": [
      "<Response [200]> 682\n"
     ]
    },
    {
     "name": "stdout",
     "output_type": "stream",
     "text": [
      "<Response [200]> 683\n"
     ]
    },
    {
     "name": "stdout",
     "output_type": "stream",
     "text": [
      "<Response [200]> 684\n"
     ]
    },
    {
     "name": "stdout",
     "output_type": "stream",
     "text": [
      "<Response [200]> 685\n"
     ]
    },
    {
     "name": "stdout",
     "output_type": "stream",
     "text": [
      "<Response [200]> 686\n"
     ]
    },
    {
     "name": "stdout",
     "output_type": "stream",
     "text": [
      "<Response [200]> 687\n"
     ]
    },
    {
     "name": "stdout",
     "output_type": "stream",
     "text": [
      "<Response [200]> 688\n"
     ]
    },
    {
     "name": "stdout",
     "output_type": "stream",
     "text": [
      "<Response [200]> 689\n"
     ]
    },
    {
     "name": "stdout",
     "output_type": "stream",
     "text": [
      "<Response [200]> 690\n"
     ]
    },
    {
     "name": "stdout",
     "output_type": "stream",
     "text": [
      "<Response [200]> 691\n"
     ]
    },
    {
     "name": "stdout",
     "output_type": "stream",
     "text": [
      "<Response [200]> 692\n"
     ]
    },
    {
     "name": "stdout",
     "output_type": "stream",
     "text": [
      "<Response [200]> 693\n"
     ]
    },
    {
     "name": "stdout",
     "output_type": "stream",
     "text": [
      "<Response [200]> 694\n"
     ]
    },
    {
     "name": "stdout",
     "output_type": "stream",
     "text": [
      "<Response [200]> 695\n"
     ]
    },
    {
     "name": "stdout",
     "output_type": "stream",
     "text": [
      "<Response [200]> 696\n"
     ]
    },
    {
     "name": "stdout",
     "output_type": "stream",
     "text": [
      "<Response [200]> 697\n"
     ]
    },
    {
     "name": "stdout",
     "output_type": "stream",
     "text": [
      "<Response [200]> 698\n"
     ]
    },
    {
     "name": "stdout",
     "output_type": "stream",
     "text": [
      "<Response [200]> 699\n"
     ]
    },
    {
     "name": "stdout",
     "output_type": "stream",
     "text": [
      "<Response [200]> 700\n"
     ]
    },
    {
     "name": "stdout",
     "output_type": "stream",
     "text": [
      "<Response [200]> 701\n"
     ]
    },
    {
     "name": "stdout",
     "output_type": "stream",
     "text": [
      "<Response [200]> 702\n"
     ]
    },
    {
     "name": "stdout",
     "output_type": "stream",
     "text": [
      "<Response [200]> 703\n"
     ]
    },
    {
     "name": "stdout",
     "output_type": "stream",
     "text": [
      "<Response [200]> 704\n"
     ]
    },
    {
     "name": "stdout",
     "output_type": "stream",
     "text": [
      "<Response [200]> 705\n"
     ]
    },
    {
     "name": "stdout",
     "output_type": "stream",
     "text": [
      "<Response [200]> 706\n"
     ]
    },
    {
     "name": "stdout",
     "output_type": "stream",
     "text": [
      "<Response [200]> 707\n"
     ]
    },
    {
     "name": "stdout",
     "output_type": "stream",
     "text": [
      "<Response [200]> 708\n"
     ]
    },
    {
     "name": "stdout",
     "output_type": "stream",
     "text": [
      "<Response [200]> 709\n"
     ]
    },
    {
     "name": "stdout",
     "output_type": "stream",
     "text": [
      "<Response [200]> 710\n"
     ]
    },
    {
     "name": "stdout",
     "output_type": "stream",
     "text": [
      "<Response [200]> 711\n"
     ]
    },
    {
     "name": "stdout",
     "output_type": "stream",
     "text": [
      "<Response [200]> 712\n"
     ]
    },
    {
     "name": "stdout",
     "output_type": "stream",
     "text": [
      "<Response [200]> 713\n"
     ]
    },
    {
     "name": "stdout",
     "output_type": "stream",
     "text": [
      "<Response [200]> 714\n"
     ]
    },
    {
     "name": "stdout",
     "output_type": "stream",
     "text": [
      "<Response [200]> 715\n"
     ]
    },
    {
     "name": "stdout",
     "output_type": "stream",
     "text": [
      "<Response [200]> 716\n"
     ]
    },
    {
     "name": "stdout",
     "output_type": "stream",
     "text": [
      "<Response [200]> 717\n"
     ]
    },
    {
     "name": "stdout",
     "output_type": "stream",
     "text": [
      "<Response [200]> 718\n"
     ]
    },
    {
     "name": "stdout",
     "output_type": "stream",
     "text": [
      "<Response [200]> 719\n"
     ]
    },
    {
     "name": "stdout",
     "output_type": "stream",
     "text": [
      "<Response [200]> 720\n"
     ]
    },
    {
     "name": "stdout",
     "output_type": "stream",
     "text": [
      "<Response [200]> 721\n"
     ]
    },
    {
     "name": "stdout",
     "output_type": "stream",
     "text": [
      "<Response [200]> 722\n"
     ]
    },
    {
     "name": "stdout",
     "output_type": "stream",
     "text": [
      "<Response [200]> 723\n"
     ]
    },
    {
     "name": "stdout",
     "output_type": "stream",
     "text": [
      "<Response [200]> 724\n"
     ]
    },
    {
     "name": "stdout",
     "output_type": "stream",
     "text": [
      "<Response [200]> 725\n"
     ]
    },
    {
     "name": "stdout",
     "output_type": "stream",
     "text": [
      "<Response [200]> 726\n"
     ]
    },
    {
     "name": "stdout",
     "output_type": "stream",
     "text": [
      "<Response [200]> 727\n"
     ]
    },
    {
     "name": "stdout",
     "output_type": "stream",
     "text": [
      "<Response [200]> 728\n"
     ]
    },
    {
     "name": "stdout",
     "output_type": "stream",
     "text": [
      "<Response [200]> 729\n"
     ]
    },
    {
     "name": "stdout",
     "output_type": "stream",
     "text": [
      "<Response [200]> 730\n"
     ]
    },
    {
     "name": "stdout",
     "output_type": "stream",
     "text": [
      "<Response [200]> 731\n"
     ]
    },
    {
     "name": "stdout",
     "output_type": "stream",
     "text": [
      "<Response [200]> 732\n"
     ]
    },
    {
     "name": "stdout",
     "output_type": "stream",
     "text": [
      "<Response [200]> 733\n"
     ]
    },
    {
     "name": "stdout",
     "output_type": "stream",
     "text": [
      "<Response [200]> 734\n"
     ]
    },
    {
     "name": "stdout",
     "output_type": "stream",
     "text": [
      "<Response [200]> 735\n"
     ]
    },
    {
     "name": "stdout",
     "output_type": "stream",
     "text": [
      "<Response [200]> 736\n"
     ]
    },
    {
     "name": "stdout",
     "output_type": "stream",
     "text": [
      "<Response [200]> 737\n"
     ]
    },
    {
     "name": "stdout",
     "output_type": "stream",
     "text": [
      "<Response [200]> 738\n"
     ]
    },
    {
     "name": "stdout",
     "output_type": "stream",
     "text": [
      "<Response [200]> 739\n"
     ]
    },
    {
     "name": "stdout",
     "output_type": "stream",
     "text": [
      "<Response [200]> 740\n"
     ]
    },
    {
     "name": "stdout",
     "output_type": "stream",
     "text": [
      "<Response [200]> 741\n"
     ]
    },
    {
     "name": "stdout",
     "output_type": "stream",
     "text": [
      "<Response [200]> 742\n"
     ]
    },
    {
     "name": "stdout",
     "output_type": "stream",
     "text": [
      "<Response [200]> 743\n"
     ]
    },
    {
     "name": "stdout",
     "output_type": "stream",
     "text": [
      "<Response [200]> 744\n"
     ]
    },
    {
     "name": "stdout",
     "output_type": "stream",
     "text": [
      "<Response [200]> 745\n"
     ]
    },
    {
     "name": "stdout",
     "output_type": "stream",
     "text": [
      "<Response [200]> 746\n"
     ]
    },
    {
     "name": "stdout",
     "output_type": "stream",
     "text": [
      "<Response [200]> 747\n"
     ]
    },
    {
     "name": "stdout",
     "output_type": "stream",
     "text": [
      "<Response [200]> 748\n"
     ]
    },
    {
     "name": "stdout",
     "output_type": "stream",
     "text": [
      "<Response [200]> 749\n"
     ]
    },
    {
     "name": "stdout",
     "output_type": "stream",
     "text": [
      "<Response [200]> 750\n"
     ]
    },
    {
     "name": "stdout",
     "output_type": "stream",
     "text": [
      "<Response [200]> 751\n"
     ]
    },
    {
     "name": "stdout",
     "output_type": "stream",
     "text": [
      "<Response [200]> 752\n"
     ]
    },
    {
     "name": "stdout",
     "output_type": "stream",
     "text": [
      "<Response [200]> 753\n"
     ]
    },
    {
     "name": "stdout",
     "output_type": "stream",
     "text": [
      "<Response [200]> 754\n"
     ]
    },
    {
     "name": "stdout",
     "output_type": "stream",
     "text": [
      "<Response [200]> 755\n"
     ]
    },
    {
     "name": "stdout",
     "output_type": "stream",
     "text": [
      "<Response [200]> 756\n"
     ]
    },
    {
     "name": "stdout",
     "output_type": "stream",
     "text": [
      "<Response [200]> 757\n"
     ]
    },
    {
     "name": "stdout",
     "output_type": "stream",
     "text": [
      "<Response [200]> 758\n"
     ]
    },
    {
     "name": "stdout",
     "output_type": "stream",
     "text": [
      "<Response [200]> 759\n"
     ]
    },
    {
     "name": "stdout",
     "output_type": "stream",
     "text": [
      "<Response [200]> 760\n"
     ]
    },
    {
     "name": "stdout",
     "output_type": "stream",
     "text": [
      "<Response [200]> 761\n"
     ]
    },
    {
     "name": "stdout",
     "output_type": "stream",
     "text": [
      "<Response [200]> 762\n"
     ]
    },
    {
     "name": "stdout",
     "output_type": "stream",
     "text": [
      "<Response [200]> 763\n"
     ]
    },
    {
     "name": "stdout",
     "output_type": "stream",
     "text": [
      "<Response [200]> 764\n"
     ]
    },
    {
     "name": "stdout",
     "output_type": "stream",
     "text": [
      "<Response [200]> 765\n"
     ]
    },
    {
     "name": "stdout",
     "output_type": "stream",
     "text": [
      "<Response [200]> 766\n"
     ]
    },
    {
     "name": "stdout",
     "output_type": "stream",
     "text": [
      "<Response [200]> 767\n"
     ]
    },
    {
     "name": "stdout",
     "output_type": "stream",
     "text": [
      "<Response [200]> 768\n"
     ]
    },
    {
     "name": "stdout",
     "output_type": "stream",
     "text": [
      "<Response [200]> 769\n"
     ]
    },
    {
     "name": "stdout",
     "output_type": "stream",
     "text": [
      "<Response [200]> 770\n"
     ]
    },
    {
     "name": "stdout",
     "output_type": "stream",
     "text": [
      "<Response [200]> 771\n"
     ]
    },
    {
     "name": "stdout",
     "output_type": "stream",
     "text": [
      "<Response [200]> 772\n"
     ]
    },
    {
     "name": "stdout",
     "output_type": "stream",
     "text": [
      "<Response [200]> 773\n"
     ]
    },
    {
     "name": "stdout",
     "output_type": "stream",
     "text": [
      "<Response [200]> 774\n"
     ]
    },
    {
     "name": "stdout",
     "output_type": "stream",
     "text": [
      "<Response [200]> 775\n"
     ]
    },
    {
     "name": "stdout",
     "output_type": "stream",
     "text": [
      "<Response [200]> 776\n"
     ]
    },
    {
     "name": "stdout",
     "output_type": "stream",
     "text": [
      "<Response [200]> 777\n"
     ]
    },
    {
     "name": "stdout",
     "output_type": "stream",
     "text": [
      "<Response [200]> 778\n"
     ]
    },
    {
     "name": "stdout",
     "output_type": "stream",
     "text": [
      "<Response [200]> 779\n"
     ]
    },
    {
     "name": "stdout",
     "output_type": "stream",
     "text": [
      "<Response [200]> 780\n"
     ]
    },
    {
     "name": "stdout",
     "output_type": "stream",
     "text": [
      "<Response [200]> 781\n"
     ]
    },
    {
     "name": "stdout",
     "output_type": "stream",
     "text": [
      "<Response [200]> 782\n"
     ]
    },
    {
     "name": "stdout",
     "output_type": "stream",
     "text": [
      "<Response [200]> 783\n"
     ]
    },
    {
     "name": "stdout",
     "output_type": "stream",
     "text": [
      "<Response [200]> 784\n"
     ]
    },
    {
     "name": "stdout",
     "output_type": "stream",
     "text": [
      "<Response [200]> 785\n"
     ]
    },
    {
     "name": "stdout",
     "output_type": "stream",
     "text": [
      "<Response [200]> 786\n"
     ]
    },
    {
     "name": "stdout",
     "output_type": "stream",
     "text": [
      "<Response [200]> 787\n"
     ]
    },
    {
     "name": "stdout",
     "output_type": "stream",
     "text": [
      "<Response [200]> 788\n"
     ]
    },
    {
     "name": "stdout",
     "output_type": "stream",
     "text": [
      "<Response [200]> 789\n"
     ]
    },
    {
     "name": "stdout",
     "output_type": "stream",
     "text": [
      "<Response [200]> 790\n"
     ]
    },
    {
     "name": "stdout",
     "output_type": "stream",
     "text": [
      "<Response [200]> 791\n"
     ]
    },
    {
     "name": "stdout",
     "output_type": "stream",
     "text": [
      "<Response [200]> 792\n"
     ]
    },
    {
     "name": "stdout",
     "output_type": "stream",
     "text": [
      "<Response [200]> 793\n"
     ]
    },
    {
     "name": "stdout",
     "output_type": "stream",
     "text": [
      "<Response [200]> 794\n"
     ]
    },
    {
     "name": "stdout",
     "output_type": "stream",
     "text": [
      "<Response [200]> 795\n"
     ]
    },
    {
     "name": "stdout",
     "output_type": "stream",
     "text": [
      "<Response [200]> 796\n"
     ]
    },
    {
     "name": "stdout",
     "output_type": "stream",
     "text": [
      "<Response [200]> 797\n"
     ]
    },
    {
     "name": "stdout",
     "output_type": "stream",
     "text": [
      "<Response [200]> 798\n"
     ]
    },
    {
     "name": "stdout",
     "output_type": "stream",
     "text": [
      "<Response [200]> 799\n"
     ]
    },
    {
     "name": "stdout",
     "output_type": "stream",
     "text": [
      "<Response [200]> 800\n"
     ]
    },
    {
     "name": "stdout",
     "output_type": "stream",
     "text": [
      "<Response [200]> 801\n"
     ]
    },
    {
     "name": "stdout",
     "output_type": "stream",
     "text": [
      "<Response [200]> 802\n"
     ]
    },
    {
     "name": "stdout",
     "output_type": "stream",
     "text": [
      "<Response [200]> 803\n"
     ]
    },
    {
     "name": "stdout",
     "output_type": "stream",
     "text": [
      "<Response [200]> 804\n"
     ]
    },
    {
     "name": "stdout",
     "output_type": "stream",
     "text": [
      "<Response [200]> 805\n"
     ]
    },
    {
     "name": "stdout",
     "output_type": "stream",
     "text": [
      "<Response [200]> 806\n"
     ]
    },
    {
     "name": "stdout",
     "output_type": "stream",
     "text": [
      "<Response [200]> 807\n"
     ]
    },
    {
     "name": "stdout",
     "output_type": "stream",
     "text": [
      "<Response [200]> 808\n"
     ]
    },
    {
     "name": "stdout",
     "output_type": "stream",
     "text": [
      "<Response [200]> 809\n"
     ]
    },
    {
     "name": "stdout",
     "output_type": "stream",
     "text": [
      "<Response [200]> 810\n"
     ]
    },
    {
     "name": "stdout",
     "output_type": "stream",
     "text": [
      "<Response [200]> 811\n"
     ]
    },
    {
     "name": "stdout",
     "output_type": "stream",
     "text": [
      "<Response [200]> 812\n"
     ]
    },
    {
     "name": "stdout",
     "output_type": "stream",
     "text": [
      "<Response [200]> 813\n"
     ]
    },
    {
     "name": "stdout",
     "output_type": "stream",
     "text": [
      "<Response [200]> 814\n"
     ]
    },
    {
     "name": "stdout",
     "output_type": "stream",
     "text": [
      "<Response [200]> 815\n"
     ]
    },
    {
     "name": "stdout",
     "output_type": "stream",
     "text": [
      "<Response [200]> 816\n"
     ]
    },
    {
     "name": "stdout",
     "output_type": "stream",
     "text": [
      "<Response [200]> 817\n"
     ]
    },
    {
     "name": "stdout",
     "output_type": "stream",
     "text": [
      "<Response [200]> 818\n"
     ]
    },
    {
     "name": "stdout",
     "output_type": "stream",
     "text": [
      "<Response [200]> 819\n"
     ]
    },
    {
     "name": "stdout",
     "output_type": "stream",
     "text": [
      "<Response [200]> 820\n"
     ]
    },
    {
     "name": "stdout",
     "output_type": "stream",
     "text": [
      "<Response [200]> 821\n"
     ]
    },
    {
     "name": "stdout",
     "output_type": "stream",
     "text": [
      "<Response [200]> 822\n"
     ]
    },
    {
     "name": "stdout",
     "output_type": "stream",
     "text": [
      "<Response [200]> 823\n"
     ]
    },
    {
     "name": "stdout",
     "output_type": "stream",
     "text": [
      "<Response [200]> 824\n"
     ]
    },
    {
     "name": "stdout",
     "output_type": "stream",
     "text": [
      "<Response [200]> 825\n"
     ]
    },
    {
     "name": "stdout",
     "output_type": "stream",
     "text": [
      "<Response [200]> 826\n"
     ]
    },
    {
     "name": "stdout",
     "output_type": "stream",
     "text": [
      "<Response [200]> 827\n"
     ]
    },
    {
     "name": "stdout",
     "output_type": "stream",
     "text": [
      "<Response [200]> 828\n"
     ]
    },
    {
     "name": "stdout",
     "output_type": "stream",
     "text": [
      "<Response [200]> 829\n"
     ]
    },
    {
     "name": "stdout",
     "output_type": "stream",
     "text": [
      "<Response [200]> 830\n"
     ]
    },
    {
     "name": "stdout",
     "output_type": "stream",
     "text": [
      "<Response [200]> 831\n"
     ]
    },
    {
     "name": "stdout",
     "output_type": "stream",
     "text": [
      "<Response [200]> 832\n"
     ]
    },
    {
     "name": "stdout",
     "output_type": "stream",
     "text": [
      "<Response [200]> 833\n"
     ]
    },
    {
     "name": "stdout",
     "output_type": "stream",
     "text": [
      "<Response [200]> 834\n"
     ]
    },
    {
     "name": "stdout",
     "output_type": "stream",
     "text": [
      "<Response [200]> 835\n"
     ]
    },
    {
     "name": "stdout",
     "output_type": "stream",
     "text": [
      "<Response [200]> 836\n"
     ]
    },
    {
     "name": "stdout",
     "output_type": "stream",
     "text": [
      "<Response [200]> 837\n"
     ]
    },
    {
     "name": "stdout",
     "output_type": "stream",
     "text": [
      "<Response [200]> 838\n"
     ]
    },
    {
     "name": "stdout",
     "output_type": "stream",
     "text": [
      "<Response [200]> 839\n"
     ]
    },
    {
     "name": "stdout",
     "output_type": "stream",
     "text": [
      "<Response [200]> 840\n"
     ]
    },
    {
     "name": "stdout",
     "output_type": "stream",
     "text": [
      "<Response [200]> 841\n"
     ]
    },
    {
     "name": "stdout",
     "output_type": "stream",
     "text": [
      "<Response [200]> 842\n"
     ]
    },
    {
     "name": "stdout",
     "output_type": "stream",
     "text": [
      "<Response [200]> 843\n"
     ]
    },
    {
     "name": "stdout",
     "output_type": "stream",
     "text": [
      "<Response [200]> 844\n"
     ]
    },
    {
     "name": "stdout",
     "output_type": "stream",
     "text": [
      "<Response [200]> 845\n"
     ]
    },
    {
     "name": "stdout",
     "output_type": "stream",
     "text": [
      "<Response [200]> 846\n"
     ]
    },
    {
     "name": "stdout",
     "output_type": "stream",
     "text": [
      "<Response [200]> 847\n"
     ]
    },
    {
     "name": "stdout",
     "output_type": "stream",
     "text": [
      "<Response [200]> 848\n"
     ]
    },
    {
     "name": "stdout",
     "output_type": "stream",
     "text": [
      "<Response [200]> 849\n"
     ]
    },
    {
     "name": "stdout",
     "output_type": "stream",
     "text": [
      "<Response [200]> 850\n"
     ]
    },
    {
     "name": "stdout",
     "output_type": "stream",
     "text": [
      "<Response [200]> 851\n"
     ]
    },
    {
     "name": "stdout",
     "output_type": "stream",
     "text": [
      "<Response [200]> 852\n"
     ]
    },
    {
     "name": "stdout",
     "output_type": "stream",
     "text": [
      "<Response [200]> 853\n"
     ]
    },
    {
     "name": "stdout",
     "output_type": "stream",
     "text": [
      "<Response [200]> 854\n"
     ]
    },
    {
     "name": "stdout",
     "output_type": "stream",
     "text": [
      "<Response [200]> 855\n"
     ]
    },
    {
     "name": "stdout",
     "output_type": "stream",
     "text": [
      "<Response [200]> 856\n"
     ]
    },
    {
     "name": "stdout",
     "output_type": "stream",
     "text": [
      "<Response [200]> 857\n"
     ]
    },
    {
     "name": "stdout",
     "output_type": "stream",
     "text": [
      "<Response [200]> 858\n"
     ]
    },
    {
     "name": "stdout",
     "output_type": "stream",
     "text": [
      "<Response [200]> 859\n"
     ]
    },
    {
     "name": "stdout",
     "output_type": "stream",
     "text": [
      "<Response [200]> 860\n"
     ]
    },
    {
     "name": "stdout",
     "output_type": "stream",
     "text": [
      "<Response [200]> 861\n"
     ]
    },
    {
     "name": "stdout",
     "output_type": "stream",
     "text": [
      "<Response [200]> 862\n"
     ]
    },
    {
     "name": "stdout",
     "output_type": "stream",
     "text": [
      "<Response [200]> 863\n"
     ]
    },
    {
     "name": "stdout",
     "output_type": "stream",
     "text": [
      "<Response [200]> 864\n"
     ]
    },
    {
     "name": "stdout",
     "output_type": "stream",
     "text": [
      "<Response [200]> 865\n"
     ]
    },
    {
     "name": "stdout",
     "output_type": "stream",
     "text": [
      "<Response [200]> 866\n"
     ]
    },
    {
     "name": "stdout",
     "output_type": "stream",
     "text": [
      "<Response [200]> 867\n"
     ]
    },
    {
     "name": "stdout",
     "output_type": "stream",
     "text": [
      "<Response [200]> 868\n"
     ]
    },
    {
     "name": "stdout",
     "output_type": "stream",
     "text": [
      "<Response [200]> 869\n"
     ]
    },
    {
     "name": "stdout",
     "output_type": "stream",
     "text": [
      "<Response [200]> 870\n"
     ]
    },
    {
     "name": "stdout",
     "output_type": "stream",
     "text": [
      "<Response [200]> 871\n"
     ]
    },
    {
     "name": "stdout",
     "output_type": "stream",
     "text": [
      "<Response [200]> 872\n"
     ]
    },
    {
     "name": "stdout",
     "output_type": "stream",
     "text": [
      "<Response [200]> 873\n"
     ]
    },
    {
     "name": "stdout",
     "output_type": "stream",
     "text": [
      "<Response [200]> 874\n"
     ]
    },
    {
     "name": "stdout",
     "output_type": "stream",
     "text": [
      "<Response [200]> 875\n"
     ]
    },
    {
     "name": "stdout",
     "output_type": "stream",
     "text": [
      "<Response [200]> 876\n"
     ]
    },
    {
     "name": "stdout",
     "output_type": "stream",
     "text": [
      "<Response [200]> 877\n"
     ]
    },
    {
     "name": "stdout",
     "output_type": "stream",
     "text": [
      "<Response [200]> 878\n"
     ]
    },
    {
     "name": "stdout",
     "output_type": "stream",
     "text": [
      "<Response [200]> 879\n"
     ]
    },
    {
     "name": "stdout",
     "output_type": "stream",
     "text": [
      "<Response [200]> 880\n"
     ]
    },
    {
     "name": "stdout",
     "output_type": "stream",
     "text": [
      "<Response [200]> 881\n"
     ]
    },
    {
     "name": "stdout",
     "output_type": "stream",
     "text": [
      "<Response [200]> 882\n"
     ]
    },
    {
     "name": "stdout",
     "output_type": "stream",
     "text": [
      "<Response [200]> 883\n"
     ]
    },
    {
     "name": "stdout",
     "output_type": "stream",
     "text": [
      "<Response [200]> 884\n"
     ]
    },
    {
     "name": "stdout",
     "output_type": "stream",
     "text": [
      "<Response [200]> 885\n"
     ]
    },
    {
     "name": "stdout",
     "output_type": "stream",
     "text": [
      "<Response [200]> 886\n"
     ]
    },
    {
     "name": "stdout",
     "output_type": "stream",
     "text": [
      "<Response [200]> 887\n"
     ]
    },
    {
     "name": "stdout",
     "output_type": "stream",
     "text": [
      "<Response [200]> 888\n"
     ]
    },
    {
     "name": "stdout",
     "output_type": "stream",
     "text": [
      "<Response [200]> 889\n"
     ]
    },
    {
     "name": "stdout",
     "output_type": "stream",
     "text": [
      "<Response [200]> 890\n"
     ]
    },
    {
     "name": "stdout",
     "output_type": "stream",
     "text": [
      "<Response [200]> 891\n"
     ]
    },
    {
     "name": "stdout",
     "output_type": "stream",
     "text": [
      "<Response [200]> 892\n"
     ]
    },
    {
     "name": "stdout",
     "output_type": "stream",
     "text": [
      "<Response [200]> 893\n"
     ]
    },
    {
     "name": "stdout",
     "output_type": "stream",
     "text": [
      "<Response [200]> 894\n"
     ]
    },
    {
     "name": "stdout",
     "output_type": "stream",
     "text": [
      "<Response [200]> 895\n"
     ]
    },
    {
     "name": "stdout",
     "output_type": "stream",
     "text": [
      "<Response [200]> 896\n"
     ]
    },
    {
     "name": "stdout",
     "output_type": "stream",
     "text": [
      "<Response [200]> 897\n"
     ]
    },
    {
     "name": "stdout",
     "output_type": "stream",
     "text": [
      "<Response [200]> 898\n"
     ]
    },
    {
     "name": "stdout",
     "output_type": "stream",
     "text": [
      "<Response [200]> 899\n"
     ]
    },
    {
     "name": "stdout",
     "output_type": "stream",
     "text": [
      "<Response [200]> 900\n"
     ]
    },
    {
     "name": "stdout",
     "output_type": "stream",
     "text": [
      "<Response [200]> 901\n"
     ]
    },
    {
     "name": "stdout",
     "output_type": "stream",
     "text": [
      "<Response [200]> 902\n"
     ]
    },
    {
     "name": "stdout",
     "output_type": "stream",
     "text": [
      "<Response [200]> 903\n"
     ]
    },
    {
     "name": "stdout",
     "output_type": "stream",
     "text": [
      "<Response [200]> 904\n"
     ]
    },
    {
     "name": "stdout",
     "output_type": "stream",
     "text": [
      "<Response [200]> 905\n"
     ]
    },
    {
     "name": "stdout",
     "output_type": "stream",
     "text": [
      "<Response [200]> 906\n"
     ]
    },
    {
     "name": "stdout",
     "output_type": "stream",
     "text": [
      "<Response [200]> 907\n"
     ]
    },
    {
     "name": "stdout",
     "output_type": "stream",
     "text": [
      "<Response [200]> 908\n"
     ]
    },
    {
     "name": "stdout",
     "output_type": "stream",
     "text": [
      "<Response [200]> 909\n"
     ]
    },
    {
     "name": "stdout",
     "output_type": "stream",
     "text": [
      "<Response [200]> 910\n"
     ]
    },
    {
     "name": "stdout",
     "output_type": "stream",
     "text": [
      "<Response [200]> 911\n"
     ]
    },
    {
     "name": "stdout",
     "output_type": "stream",
     "text": [
      "<Response [200]> 912\n"
     ]
    },
    {
     "name": "stdout",
     "output_type": "stream",
     "text": [
      "<Response [200]> 913\n"
     ]
    },
    {
     "name": "stdout",
     "output_type": "stream",
     "text": [
      "<Response [200]> 914\n"
     ]
    },
    {
     "name": "stdout",
     "output_type": "stream",
     "text": [
      "<Response [200]> 915\n"
     ]
    },
    {
     "name": "stdout",
     "output_type": "stream",
     "text": [
      "<Response [200]> 916\n"
     ]
    },
    {
     "name": "stdout",
     "output_type": "stream",
     "text": [
      "<Response [200]> 917\n"
     ]
    },
    {
     "name": "stdout",
     "output_type": "stream",
     "text": [
      "<Response [200]> 918\n"
     ]
    },
    {
     "name": "stdout",
     "output_type": "stream",
     "text": [
      "<Response [200]> 919\n"
     ]
    },
    {
     "name": "stdout",
     "output_type": "stream",
     "text": [
      "<Response [200]> 920\n"
     ]
    },
    {
     "name": "stdout",
     "output_type": "stream",
     "text": [
      "<Response [200]> 921\n"
     ]
    },
    {
     "name": "stdout",
     "output_type": "stream",
     "text": [
      "<Response [200]> 922\n"
     ]
    },
    {
     "name": "stdout",
     "output_type": "stream",
     "text": [
      "<Response [200]> 923\n"
     ]
    },
    {
     "name": "stdout",
     "output_type": "stream",
     "text": [
      "<Response [200]> 924\n"
     ]
    },
    {
     "name": "stdout",
     "output_type": "stream",
     "text": [
      "<Response [200]> 925\n"
     ]
    },
    {
     "name": "stdout",
     "output_type": "stream",
     "text": [
      "<Response [200]> 926\n"
     ]
    },
    {
     "name": "stdout",
     "output_type": "stream",
     "text": [
      "<Response [200]> 927\n"
     ]
    },
    {
     "name": "stdout",
     "output_type": "stream",
     "text": [
      "<Response [200]> 928\n"
     ]
    },
    {
     "name": "stdout",
     "output_type": "stream",
     "text": [
      "<Response [200]> 929\n"
     ]
    },
    {
     "name": "stdout",
     "output_type": "stream",
     "text": [
      "<Response [200]> 930\n"
     ]
    },
    {
     "name": "stdout",
     "output_type": "stream",
     "text": [
      "<Response [200]> 931\n"
     ]
    },
    {
     "name": "stdout",
     "output_type": "stream",
     "text": [
      "<Response [200]> 932\n"
     ]
    },
    {
     "name": "stdout",
     "output_type": "stream",
     "text": [
      "<Response [200]> 933\n"
     ]
    },
    {
     "name": "stdout",
     "output_type": "stream",
     "text": [
      "<Response [200]> 934\n"
     ]
    },
    {
     "name": "stdout",
     "output_type": "stream",
     "text": [
      "<Response [200]> 935\n"
     ]
    },
    {
     "name": "stdout",
     "output_type": "stream",
     "text": [
      "<Response [200]> 936\n"
     ]
    },
    {
     "name": "stdout",
     "output_type": "stream",
     "text": [
      "<Response [200]> 937\n"
     ]
    },
    {
     "name": "stdout",
     "output_type": "stream",
     "text": [
      "<Response [200]> 938\n"
     ]
    },
    {
     "name": "stdout",
     "output_type": "stream",
     "text": [
      "<Response [200]> 939\n"
     ]
    },
    {
     "name": "stdout",
     "output_type": "stream",
     "text": [
      "<Response [200]> 940\n"
     ]
    },
    {
     "name": "stdout",
     "output_type": "stream",
     "text": [
      "<Response [200]> 941\n"
     ]
    },
    {
     "name": "stdout",
     "output_type": "stream",
     "text": [
      "<Response [200]> 942\n"
     ]
    },
    {
     "name": "stdout",
     "output_type": "stream",
     "text": [
      "<Response [200]> 943\n"
     ]
    },
    {
     "name": "stdout",
     "output_type": "stream",
     "text": [
      "<Response [200]> 944\n"
     ]
    },
    {
     "name": "stdout",
     "output_type": "stream",
     "text": [
      "<Response [200]> 945\n"
     ]
    },
    {
     "name": "stdout",
     "output_type": "stream",
     "text": [
      "<Response [200]> 946\n"
     ]
    },
    {
     "name": "stdout",
     "output_type": "stream",
     "text": [
      "<Response [200]> 947\n"
     ]
    },
    {
     "name": "stdout",
     "output_type": "stream",
     "text": [
      "<Response [200]> 948\n"
     ]
    },
    {
     "name": "stdout",
     "output_type": "stream",
     "text": [
      "<Response [200]> 949\n"
     ]
    },
    {
     "name": "stdout",
     "output_type": "stream",
     "text": [
      "<Response [200]> 950\n"
     ]
    },
    {
     "name": "stdout",
     "output_type": "stream",
     "text": [
      "<Response [200]> 951\n"
     ]
    },
    {
     "name": "stdout",
     "output_type": "stream",
     "text": [
      "<Response [200]> 952\n"
     ]
    },
    {
     "name": "stdout",
     "output_type": "stream",
     "text": [
      "<Response [200]> 953\n"
     ]
    },
    {
     "name": "stdout",
     "output_type": "stream",
     "text": [
      "<Response [200]> 954\n"
     ]
    },
    {
     "name": "stdout",
     "output_type": "stream",
     "text": [
      "<Response [200]> 955\n"
     ]
    },
    {
     "name": "stdout",
     "output_type": "stream",
     "text": [
      "<Response [200]> 956\n"
     ]
    },
    {
     "name": "stdout",
     "output_type": "stream",
     "text": [
      "<Response [200]> 957\n"
     ]
    },
    {
     "name": "stdout",
     "output_type": "stream",
     "text": [
      "<Response [200]> 958\n"
     ]
    },
    {
     "name": "stdout",
     "output_type": "stream",
     "text": [
      "<Response [200]> 959\n"
     ]
    },
    {
     "name": "stdout",
     "output_type": "stream",
     "text": [
      "<Response [200]> 960\n"
     ]
    },
    {
     "name": "stdout",
     "output_type": "stream",
     "text": [
      "<Response [200]> 961\n"
     ]
    },
    {
     "name": "stdout",
     "output_type": "stream",
     "text": [
      "<Response [200]> 962\n"
     ]
    },
    {
     "name": "stdout",
     "output_type": "stream",
     "text": [
      "<Response [200]> 963\n"
     ]
    },
    {
     "name": "stdout",
     "output_type": "stream",
     "text": [
      "<Response [200]> 964\n"
     ]
    },
    {
     "name": "stdout",
     "output_type": "stream",
     "text": [
      "<Response [200]> 965\n"
     ]
    },
    {
     "name": "stdout",
     "output_type": "stream",
     "text": [
      "<Response [200]> 966\n"
     ]
    },
    {
     "name": "stdout",
     "output_type": "stream",
     "text": [
      "<Response [200]> 967\n"
     ]
    },
    {
     "name": "stdout",
     "output_type": "stream",
     "text": [
      "<Response [200]> 968\n"
     ]
    },
    {
     "name": "stdout",
     "output_type": "stream",
     "text": [
      "<Response [200]> 969\n"
     ]
    },
    {
     "name": "stdout",
     "output_type": "stream",
     "text": [
      "<Response [200]> 970\n"
     ]
    },
    {
     "name": "stdout",
     "output_type": "stream",
     "text": [
      "<Response [200]> 971\n"
     ]
    },
    {
     "name": "stdout",
     "output_type": "stream",
     "text": [
      "<Response [200]> 972\n"
     ]
    },
    {
     "name": "stdout",
     "output_type": "stream",
     "text": [
      "<Response [200]> 973\n"
     ]
    },
    {
     "name": "stdout",
     "output_type": "stream",
     "text": [
      "<Response [200]> 974\n"
     ]
    },
    {
     "name": "stdout",
     "output_type": "stream",
     "text": [
      "<Response [200]> 975\n"
     ]
    },
    {
     "name": "stdout",
     "output_type": "stream",
     "text": [
      "<Response [200]> 976\n"
     ]
    },
    {
     "name": "stdout",
     "output_type": "stream",
     "text": [
      "<Response [200]> 977\n"
     ]
    },
    {
     "name": "stdout",
     "output_type": "stream",
     "text": [
      "<Response [200]> 978\n"
     ]
    },
    {
     "name": "stdout",
     "output_type": "stream",
     "text": [
      "<Response [200]> 979\n"
     ]
    },
    {
     "name": "stdout",
     "output_type": "stream",
     "text": [
      "<Response [200]> 980\n"
     ]
    },
    {
     "name": "stdout",
     "output_type": "stream",
     "text": [
      "<Response [200]> 981\n"
     ]
    },
    {
     "name": "stdout",
     "output_type": "stream",
     "text": [
      "<Response [200]> 982\n"
     ]
    },
    {
     "name": "stdout",
     "output_type": "stream",
     "text": [
      "<Response [200]> 983\n"
     ]
    },
    {
     "name": "stdout",
     "output_type": "stream",
     "text": [
      "<Response [200]> 984\n"
     ]
    },
    {
     "name": "stdout",
     "output_type": "stream",
     "text": [
      "<Response [200]> 985\n"
     ]
    },
    {
     "name": "stdout",
     "output_type": "stream",
     "text": [
      "<Response [200]> 986\n"
     ]
    },
    {
     "name": "stdout",
     "output_type": "stream",
     "text": [
      "<Response [200]> 987\n"
     ]
    },
    {
     "name": "stdout",
     "output_type": "stream",
     "text": [
      "<Response [200]> 988\n"
     ]
    },
    {
     "name": "stdout",
     "output_type": "stream",
     "text": [
      "<Response [200]> 989\n"
     ]
    },
    {
     "name": "stdout",
     "output_type": "stream",
     "text": [
      "<Response [200]> 990\n"
     ]
    },
    {
     "name": "stdout",
     "output_type": "stream",
     "text": [
      "<Response [200]> 991\n"
     ]
    },
    {
     "name": "stdout",
     "output_type": "stream",
     "text": [
      "<Response [200]> 992\n"
     ]
    },
    {
     "name": "stdout",
     "output_type": "stream",
     "text": [
      "<Response [200]> 993\n"
     ]
    },
    {
     "name": "stdout",
     "output_type": "stream",
     "text": [
      "<Response [200]> 994\n"
     ]
    },
    {
     "name": "stdout",
     "output_type": "stream",
     "text": [
      "<Response [200]> 995\n"
     ]
    },
    {
     "name": "stdout",
     "output_type": "stream",
     "text": [
      "<Response [200]> 996\n"
     ]
    },
    {
     "name": "stdout",
     "output_type": "stream",
     "text": [
      "<Response [200]> 997\n"
     ]
    },
    {
     "name": "stdout",
     "output_type": "stream",
     "text": [
      "<Response [200]> 998\n"
     ]
    },
    {
     "name": "stdout",
     "output_type": "stream",
     "text": [
      "<Response [200]> 999\n"
     ]
    },
    {
     "name": "stdout",
     "output_type": "stream",
     "text": [
      "<Response [200]> 1000\n"
     ]
    },
    {
     "name": "stdout",
     "output_type": "stream",
     "text": [
      "<Response [200]> 1001\n"
     ]
    },
    {
     "name": "stdout",
     "output_type": "stream",
     "text": [
      "<Response [200]> 1002\n"
     ]
    },
    {
     "name": "stdout",
     "output_type": "stream",
     "text": [
      "<Response [200]> 1003\n"
     ]
    },
    {
     "name": "stdout",
     "output_type": "stream",
     "text": [
      "<Response [200]> 1004\n"
     ]
    },
    {
     "name": "stdout",
     "output_type": "stream",
     "text": [
      "<Response [200]> 1005\n"
     ]
    },
    {
     "name": "stdout",
     "output_type": "stream",
     "text": [
      "<Response [200]> 1006\n"
     ]
    },
    {
     "name": "stdout",
     "output_type": "stream",
     "text": [
      "<Response [200]> 1007\n"
     ]
    },
    {
     "name": "stdout",
     "output_type": "stream",
     "text": [
      "<Response [200]> 1008\n"
     ]
    },
    {
     "name": "stdout",
     "output_type": "stream",
     "text": [
      "<Response [200]> 1009\n"
     ]
    },
    {
     "name": "stdout",
     "output_type": "stream",
     "text": [
      "<Response [200]> 1010\n"
     ]
    },
    {
     "name": "stdout",
     "output_type": "stream",
     "text": [
      "<Response [200]> 1011\n"
     ]
    },
    {
     "name": "stdout",
     "output_type": "stream",
     "text": [
      "<Response [200]> 1012\n"
     ]
    },
    {
     "name": "stdout",
     "output_type": "stream",
     "text": [
      "<Response [200]> 1013\n"
     ]
    },
    {
     "name": "stdout",
     "output_type": "stream",
     "text": [
      "<Response [200]> 1014\n"
     ]
    },
    {
     "name": "stdout",
     "output_type": "stream",
     "text": [
      "<Response [200]> 1015\n"
     ]
    },
    {
     "name": "stdout",
     "output_type": "stream",
     "text": [
      "<Response [200]> 1016\n"
     ]
    },
    {
     "name": "stdout",
     "output_type": "stream",
     "text": [
      "<Response [200]> 1017\n"
     ]
    },
    {
     "name": "stdout",
     "output_type": "stream",
     "text": [
      "<Response [200]> 1018\n"
     ]
    },
    {
     "name": "stdout",
     "output_type": "stream",
     "text": [
      "<Response [200]> 1019\n"
     ]
    },
    {
     "name": "stdout",
     "output_type": "stream",
     "text": [
      "<Response [200]> 1020\n"
     ]
    },
    {
     "name": "stdout",
     "output_type": "stream",
     "text": [
      "<Response [200]> 1021\n"
     ]
    },
    {
     "name": "stdout",
     "output_type": "stream",
     "text": [
      "<Response [200]> 1022\n"
     ]
    },
    {
     "name": "stdout",
     "output_type": "stream",
     "text": [
      "<Response [200]> 1023\n"
     ]
    },
    {
     "name": "stdout",
     "output_type": "stream",
     "text": [
      "<Response [200]> 1024\n"
     ]
    },
    {
     "name": "stdout",
     "output_type": "stream",
     "text": [
      "<Response [200]> 1025\n"
     ]
    },
    {
     "name": "stdout",
     "output_type": "stream",
     "text": [
      "<Response [200]> 1026\n"
     ]
    },
    {
     "name": "stdout",
     "output_type": "stream",
     "text": [
      "<Response [200]> 1027\n"
     ]
    },
    {
     "name": "stdout",
     "output_type": "stream",
     "text": [
      "<Response [200]> 1028\n"
     ]
    },
    {
     "name": "stdout",
     "output_type": "stream",
     "text": [
      "<Response [200]> 1029\n"
     ]
    },
    {
     "name": "stdout",
     "output_type": "stream",
     "text": [
      "<Response [200]> 1030\n"
     ]
    },
    {
     "name": "stdout",
     "output_type": "stream",
     "text": [
      "<Response [200]> 1031\n"
     ]
    },
    {
     "name": "stdout",
     "output_type": "stream",
     "text": [
      "<Response [200]> 1032\n"
     ]
    },
    {
     "name": "stdout",
     "output_type": "stream",
     "text": [
      "<Response [200]> 1033\n"
     ]
    },
    {
     "name": "stdout",
     "output_type": "stream",
     "text": [
      "<Response [200]> 1034\n"
     ]
    },
    {
     "name": "stdout",
     "output_type": "stream",
     "text": [
      "<Response [200]> 1035\n"
     ]
    },
    {
     "name": "stdout",
     "output_type": "stream",
     "text": [
      "<Response [200]> 1036\n"
     ]
    },
    {
     "name": "stdout",
     "output_type": "stream",
     "text": [
      "<Response [200]> 1037\n"
     ]
    },
    {
     "name": "stdout",
     "output_type": "stream",
     "text": [
      "<Response [200]> 1038\n"
     ]
    },
    {
     "name": "stdout",
     "output_type": "stream",
     "text": [
      "<Response [200]> 1039\n"
     ]
    },
    {
     "name": "stdout",
     "output_type": "stream",
     "text": [
      "<Response [200]> 1040\n"
     ]
    },
    {
     "name": "stdout",
     "output_type": "stream",
     "text": [
      "<Response [200]> 1041\n"
     ]
    },
    {
     "name": "stdout",
     "output_type": "stream",
     "text": [
      "<Response [200]> 1042\n"
     ]
    },
    {
     "name": "stdout",
     "output_type": "stream",
     "text": [
      "<Response [200]> 1043\n"
     ]
    },
    {
     "name": "stdout",
     "output_type": "stream",
     "text": [
      "<Response [200]> 1044\n"
     ]
    },
    {
     "name": "stdout",
     "output_type": "stream",
     "text": [
      "<Response [200]> 1045\n"
     ]
    },
    {
     "name": "stdout",
     "output_type": "stream",
     "text": [
      "<Response [200]> 1046\n"
     ]
    },
    {
     "name": "stdout",
     "output_type": "stream",
     "text": [
      "<Response [200]> 1047\n"
     ]
    },
    {
     "name": "stdout",
     "output_type": "stream",
     "text": [
      "<Response [200]> 1048\n"
     ]
    },
    {
     "name": "stdout",
     "output_type": "stream",
     "text": [
      "<Response [200]> 1049\n"
     ]
    },
    {
     "name": "stdout",
     "output_type": "stream",
     "text": [
      "<Response [200]> 1050\n"
     ]
    },
    {
     "name": "stdout",
     "output_type": "stream",
     "text": [
      "<Response [200]> 1051\n"
     ]
    },
    {
     "name": "stdout",
     "output_type": "stream",
     "text": [
      "<Response [200]> 1052\n"
     ]
    },
    {
     "name": "stdout",
     "output_type": "stream",
     "text": [
      "<Response [200]> 1053\n"
     ]
    },
    {
     "name": "stdout",
     "output_type": "stream",
     "text": [
      "<Response [200]> 1054\n"
     ]
    },
    {
     "name": "stdout",
     "output_type": "stream",
     "text": [
      "<Response [200]> 1055\n"
     ]
    },
    {
     "name": "stdout",
     "output_type": "stream",
     "text": [
      "<Response [200]> 1056\n"
     ]
    },
    {
     "name": "stdout",
     "output_type": "stream",
     "text": [
      "<Response [200]> 1057\n"
     ]
    },
    {
     "name": "stdout",
     "output_type": "stream",
     "text": [
      "<Response [200]> 1058\n"
     ]
    },
    {
     "name": "stdout",
     "output_type": "stream",
     "text": [
      "<Response [200]> 1059\n"
     ]
    },
    {
     "name": "stdout",
     "output_type": "stream",
     "text": [
      "<Response [200]> 1060\n"
     ]
    },
    {
     "name": "stdout",
     "output_type": "stream",
     "text": [
      "<Response [200]> 1061\n"
     ]
    },
    {
     "name": "stdout",
     "output_type": "stream",
     "text": [
      "<Response [200]> 1062\n"
     ]
    },
    {
     "name": "stdout",
     "output_type": "stream",
     "text": [
      "<Response [200]> 1063\n"
     ]
    },
    {
     "name": "stdout",
     "output_type": "stream",
     "text": [
      "<Response [200]> 1064\n"
     ]
    },
    {
     "name": "stdout",
     "output_type": "stream",
     "text": [
      "<Response [200]> 1065\n"
     ]
    },
    {
     "name": "stdout",
     "output_type": "stream",
     "text": [
      "<Response [200]> 1066\n"
     ]
    },
    {
     "name": "stdout",
     "output_type": "stream",
     "text": [
      "<Response [200]> 1067\n"
     ]
    },
    {
     "name": "stdout",
     "output_type": "stream",
     "text": [
      "<Response [200]> 1068\n"
     ]
    },
    {
     "name": "stdout",
     "output_type": "stream",
     "text": [
      "<Response [200]> 1069\n"
     ]
    },
    {
     "name": "stdout",
     "output_type": "stream",
     "text": [
      "<Response [200]> 1070\n"
     ]
    },
    {
     "name": "stdout",
     "output_type": "stream",
     "text": [
      "<Response [200]> 1071\n"
     ]
    },
    {
     "name": "stdout",
     "output_type": "stream",
     "text": [
      "<Response [200]> 1072\n"
     ]
    },
    {
     "name": "stdout",
     "output_type": "stream",
     "text": [
      "<Response [200]> 1073\n"
     ]
    },
    {
     "name": "stdout",
     "output_type": "stream",
     "text": [
      "<Response [200]> 1074\n"
     ]
    },
    {
     "name": "stdout",
     "output_type": "stream",
     "text": [
      "<Response [200]> 1075\n"
     ]
    },
    {
     "name": "stdout",
     "output_type": "stream",
     "text": [
      "<Response [200]> 1076\n"
     ]
    },
    {
     "name": "stdout",
     "output_type": "stream",
     "text": [
      "<Response [200]> 1077\n"
     ]
    },
    {
     "name": "stdout",
     "output_type": "stream",
     "text": [
      "<Response [200]> 1078\n"
     ]
    },
    {
     "name": "stdout",
     "output_type": "stream",
     "text": [
      "<Response [200]> 1079\n"
     ]
    },
    {
     "name": "stdout",
     "output_type": "stream",
     "text": [
      "<Response [200]> 1080\n"
     ]
    },
    {
     "name": "stdout",
     "output_type": "stream",
     "text": [
      "<Response [200]> 1081\n"
     ]
    },
    {
     "name": "stdout",
     "output_type": "stream",
     "text": [
      "<Response [200]> 1082\n"
     ]
    },
    {
     "name": "stdout",
     "output_type": "stream",
     "text": [
      "<Response [200]> 1083\n"
     ]
    },
    {
     "name": "stdout",
     "output_type": "stream",
     "text": [
      "<Response [200]> 1084\n"
     ]
    },
    {
     "name": "stdout",
     "output_type": "stream",
     "text": [
      "<Response [200]> 1085\n"
     ]
    },
    {
     "name": "stdout",
     "output_type": "stream",
     "text": [
      "<Response [200]> 1086\n"
     ]
    },
    {
     "name": "stdout",
     "output_type": "stream",
     "text": [
      "<Response [200]> 1087\n"
     ]
    },
    {
     "name": "stdout",
     "output_type": "stream",
     "text": [
      "<Response [200]> 1088\n"
     ]
    },
    {
     "name": "stdout",
     "output_type": "stream",
     "text": [
      "<Response [200]> 1089\n"
     ]
    },
    {
     "name": "stdout",
     "output_type": "stream",
     "text": [
      "<Response [200]> 1090\n"
     ]
    },
    {
     "name": "stdout",
     "output_type": "stream",
     "text": [
      "<Response [200]> 1091\n"
     ]
    },
    {
     "name": "stdout",
     "output_type": "stream",
     "text": [
      "<Response [200]> 1092\n"
     ]
    },
    {
     "name": "stdout",
     "output_type": "stream",
     "text": [
      "<Response [200]> 1093\n"
     ]
    },
    {
     "name": "stdout",
     "output_type": "stream",
     "text": [
      "<Response [200]> 1094\n"
     ]
    },
    {
     "name": "stdout",
     "output_type": "stream",
     "text": [
      "<Response [200]> 1095\n"
     ]
    },
    {
     "name": "stdout",
     "output_type": "stream",
     "text": [
      "<Response [200]> 1096\n"
     ]
    },
    {
     "name": "stdout",
     "output_type": "stream",
     "text": [
      "<Response [200]> 1097\n"
     ]
    },
    {
     "name": "stdout",
     "output_type": "stream",
     "text": [
      "<Response [200]> 1098\n"
     ]
    },
    {
     "name": "stdout",
     "output_type": "stream",
     "text": [
      "<Response [200]> 1099\n"
     ]
    },
    {
     "name": "stdout",
     "output_type": "stream",
     "text": [
      "<Response [200]> 1100\n"
     ]
    },
    {
     "name": "stdout",
     "output_type": "stream",
     "text": [
      "<Response [200]> 1101\n"
     ]
    },
    {
     "name": "stdout",
     "output_type": "stream",
     "text": [
      "<Response [200]> 1102\n"
     ]
    },
    {
     "name": "stdout",
     "output_type": "stream",
     "text": [
      "<Response [200]> 1103\n"
     ]
    },
    {
     "name": "stdout",
     "output_type": "stream",
     "text": [
      "<Response [200]> 1104\n"
     ]
    },
    {
     "name": "stdout",
     "output_type": "stream",
     "text": [
      "<Response [200]> 1105\n"
     ]
    },
    {
     "name": "stdout",
     "output_type": "stream",
     "text": [
      "<Response [200]> 1106\n"
     ]
    },
    {
     "name": "stdout",
     "output_type": "stream",
     "text": [
      "<Response [200]> 1107\n"
     ]
    },
    {
     "name": "stdout",
     "output_type": "stream",
     "text": [
      "<Response [200]> 1108\n"
     ]
    },
    {
     "name": "stdout",
     "output_type": "stream",
     "text": [
      "<Response [200]> 1109\n"
     ]
    },
    {
     "name": "stdout",
     "output_type": "stream",
     "text": [
      "<Response [200]> 1110\n"
     ]
    },
    {
     "name": "stdout",
     "output_type": "stream",
     "text": [
      "<Response [200]> 1111\n"
     ]
    },
    {
     "name": "stdout",
     "output_type": "stream",
     "text": [
      "<Response [200]> 1112\n"
     ]
    },
    {
     "name": "stdout",
     "output_type": "stream",
     "text": [
      "<Response [200]> 1113\n"
     ]
    },
    {
     "name": "stdout",
     "output_type": "stream",
     "text": [
      "<Response [200]> 1114\n"
     ]
    },
    {
     "name": "stdout",
     "output_type": "stream",
     "text": [
      "<Response [200]> 1115\n"
     ]
    },
    {
     "name": "stdout",
     "output_type": "stream",
     "text": [
      "<Response [200]> 1116\n"
     ]
    },
    {
     "name": "stdout",
     "output_type": "stream",
     "text": [
      "<Response [200]> 1117\n"
     ]
    },
    {
     "name": "stdout",
     "output_type": "stream",
     "text": [
      "<Response [200]> 1118\n"
     ]
    },
    {
     "name": "stdout",
     "output_type": "stream",
     "text": [
      "<Response [200]> 1119\n"
     ]
    },
    {
     "name": "stdout",
     "output_type": "stream",
     "text": [
      "<Response [200]> 1120\n"
     ]
    },
    {
     "name": "stdout",
     "output_type": "stream",
     "text": [
      "<Response [200]> 1121\n"
     ]
    },
    {
     "name": "stdout",
     "output_type": "stream",
     "text": [
      "<Response [200]> 1122\n"
     ]
    },
    {
     "name": "stdout",
     "output_type": "stream",
     "text": [
      "<Response [200]> 1123\n"
     ]
    },
    {
     "name": "stdout",
     "output_type": "stream",
     "text": [
      "<Response [200]> 1124\n"
     ]
    },
    {
     "name": "stdout",
     "output_type": "stream",
     "text": [
      "<Response [200]> 1125\n"
     ]
    },
    {
     "name": "stdout",
     "output_type": "stream",
     "text": [
      "<Response [200]> 1126\n"
     ]
    },
    {
     "name": "stdout",
     "output_type": "stream",
     "text": [
      "<Response [200]> 1127\n"
     ]
    },
    {
     "name": "stdout",
     "output_type": "stream",
     "text": [
      "<Response [200]> 1128\n"
     ]
    },
    {
     "name": "stdout",
     "output_type": "stream",
     "text": [
      "<Response [200]> 1129\n"
     ]
    },
    {
     "name": "stdout",
     "output_type": "stream",
     "text": [
      "<Response [200]> 1130\n"
     ]
    },
    {
     "name": "stdout",
     "output_type": "stream",
     "text": [
      "<Response [200]> 1131\n"
     ]
    },
    {
     "name": "stdout",
     "output_type": "stream",
     "text": [
      "<Response [200]> 1132\n"
     ]
    },
    {
     "name": "stdout",
     "output_type": "stream",
     "text": [
      "<Response [200]> 1133\n"
     ]
    },
    {
     "name": "stdout",
     "output_type": "stream",
     "text": [
      "<Response [200]> 1134\n"
     ]
    },
    {
     "name": "stdout",
     "output_type": "stream",
     "text": [
      "<Response [200]> 1135\n"
     ]
    },
    {
     "name": "stdout",
     "output_type": "stream",
     "text": [
      "<Response [200]> 1136\n"
     ]
    },
    {
     "name": "stdout",
     "output_type": "stream",
     "text": [
      "<Response [200]> 1137\n"
     ]
    },
    {
     "name": "stdout",
     "output_type": "stream",
     "text": [
      "<Response [200]> 1138\n"
     ]
    },
    {
     "name": "stdout",
     "output_type": "stream",
     "text": [
      "<Response [200]> 1139\n"
     ]
    },
    {
     "name": "stdout",
     "output_type": "stream",
     "text": [
      "<Response [200]> 1140\n"
     ]
    },
    {
     "name": "stdout",
     "output_type": "stream",
     "text": [
      "<Response [200]> 1141\n"
     ]
    },
    {
     "name": "stdout",
     "output_type": "stream",
     "text": [
      "<Response [200]> 1142\n"
     ]
    },
    {
     "name": "stdout",
     "output_type": "stream",
     "text": [
      "<Response [200]> 1143\n"
     ]
    },
    {
     "name": "stdout",
     "output_type": "stream",
     "text": [
      "<Response [200]> 1144\n"
     ]
    },
    {
     "name": "stdout",
     "output_type": "stream",
     "text": [
      "<Response [200]> 1145\n"
     ]
    },
    {
     "name": "stdout",
     "output_type": "stream",
     "text": [
      "<Response [200]> 1146\n"
     ]
    },
    {
     "name": "stdout",
     "output_type": "stream",
     "text": [
      "<Response [200]> 1147\n"
     ]
    },
    {
     "name": "stdout",
     "output_type": "stream",
     "text": [
      "<Response [200]> 1148\n"
     ]
    },
    {
     "name": "stdout",
     "output_type": "stream",
     "text": [
      "<Response [200]> 1149\n"
     ]
    },
    {
     "name": "stdout",
     "output_type": "stream",
     "text": [
      "<Response [200]> 1150\n"
     ]
    },
    {
     "name": "stdout",
     "output_type": "stream",
     "text": [
      "<Response [200]> 1151\n"
     ]
    },
    {
     "name": "stdout",
     "output_type": "stream",
     "text": [
      "<Response [200]> 1152\n"
     ]
    },
    {
     "name": "stdout",
     "output_type": "stream",
     "text": [
      "<Response [200]> 1153\n"
     ]
    },
    {
     "name": "stdout",
     "output_type": "stream",
     "text": [
      "<Response [200]> 1154\n"
     ]
    },
    {
     "name": "stdout",
     "output_type": "stream",
     "text": [
      "<Response [200]> 1155\n"
     ]
    },
    {
     "name": "stdout",
     "output_type": "stream",
     "text": [
      "<Response [200]> 1156\n"
     ]
    },
    {
     "name": "stdout",
     "output_type": "stream",
     "text": [
      "<Response [200]> 1157\n"
     ]
    },
    {
     "name": "stdout",
     "output_type": "stream",
     "text": [
      "<Response [200]> 1158\n"
     ]
    },
    {
     "name": "stdout",
     "output_type": "stream",
     "text": [
      "<Response [200]> 1159\n"
     ]
    },
    {
     "name": "stdout",
     "output_type": "stream",
     "text": [
      "<Response [200]> 1160\n"
     ]
    },
    {
     "name": "stdout",
     "output_type": "stream",
     "text": [
      "<Response [200]> 1161\n"
     ]
    },
    {
     "name": "stdout",
     "output_type": "stream",
     "text": [
      "<Response [200]> 1162\n"
     ]
    },
    {
     "name": "stdout",
     "output_type": "stream",
     "text": [
      "<Response [200]> 1163\n"
     ]
    },
    {
     "name": "stdout",
     "output_type": "stream",
     "text": [
      "<Response [200]> 1164\n"
     ]
    },
    {
     "name": "stdout",
     "output_type": "stream",
     "text": [
      "<Response [200]> 1165\n"
     ]
    },
    {
     "name": "stdout",
     "output_type": "stream",
     "text": [
      "<Response [200]> 1166\n"
     ]
    },
    {
     "name": "stdout",
     "output_type": "stream",
     "text": [
      "<Response [200]> 1167\n"
     ]
    },
    {
     "name": "stdout",
     "output_type": "stream",
     "text": [
      "<Response [200]> 1168\n"
     ]
    },
    {
     "name": "stdout",
     "output_type": "stream",
     "text": [
      "<Response [200]> 1169\n"
     ]
    },
    {
     "name": "stdout",
     "output_type": "stream",
     "text": [
      "<Response [200]> 1170\n"
     ]
    },
    {
     "name": "stdout",
     "output_type": "stream",
     "text": [
      "<Response [200]> 1171\n"
     ]
    },
    {
     "name": "stdout",
     "output_type": "stream",
     "text": [
      "<Response [200]> 1172\n"
     ]
    },
    {
     "name": "stdout",
     "output_type": "stream",
     "text": [
      "<Response [200]> 1173\n"
     ]
    },
    {
     "name": "stdout",
     "output_type": "stream",
     "text": [
      "<Response [200]> 1174\n"
     ]
    },
    {
     "name": "stdout",
     "output_type": "stream",
     "text": [
      "<Response [200]> 1175\n"
     ]
    },
    {
     "name": "stdout",
     "output_type": "stream",
     "text": [
      "<Response [200]> 1176\n"
     ]
    },
    {
     "name": "stdout",
     "output_type": "stream",
     "text": [
      "<Response [200]> 1177\n"
     ]
    },
    {
     "name": "stdout",
     "output_type": "stream",
     "text": [
      "<Response [200]> 1178\n"
     ]
    },
    {
     "name": "stdout",
     "output_type": "stream",
     "text": [
      "<Response [200]> 1179\n"
     ]
    },
    {
     "name": "stdout",
     "output_type": "stream",
     "text": [
      "<Response [200]> 1180\n"
     ]
    },
    {
     "name": "stdout",
     "output_type": "stream",
     "text": [
      "<Response [200]> 1181\n"
     ]
    },
    {
     "name": "stdout",
     "output_type": "stream",
     "text": [
      "<Response [200]> 1182\n"
     ]
    },
    {
     "name": "stdout",
     "output_type": "stream",
     "text": [
      "<Response [200]> 1183\n"
     ]
    },
    {
     "name": "stdout",
     "output_type": "stream",
     "text": [
      "<Response [200]> 1184\n"
     ]
    },
    {
     "name": "stdout",
     "output_type": "stream",
     "text": [
      "<Response [200]> 1185\n"
     ]
    },
    {
     "name": "stdout",
     "output_type": "stream",
     "text": [
      "<Response [200]> 1186\n"
     ]
    },
    {
     "name": "stdout",
     "output_type": "stream",
     "text": [
      "<Response [200]> 1187\n"
     ]
    },
    {
     "name": "stdout",
     "output_type": "stream",
     "text": [
      "<Response [200]> 1188\n"
     ]
    },
    {
     "name": "stdout",
     "output_type": "stream",
     "text": [
      "<Response [200]> 1189\n"
     ]
    },
    {
     "name": "stdout",
     "output_type": "stream",
     "text": [
      "<Response [200]> 1190\n"
     ]
    },
    {
     "name": "stdout",
     "output_type": "stream",
     "text": [
      "<Response [200]> 1191\n"
     ]
    },
    {
     "name": "stdout",
     "output_type": "stream",
     "text": [
      "<Response [200]> 1192\n"
     ]
    },
    {
     "name": "stdout",
     "output_type": "stream",
     "text": [
      "<Response [200]> 1193\n"
     ]
    },
    {
     "name": "stdout",
     "output_type": "stream",
     "text": [
      "<Response [200]> 1194\n"
     ]
    },
    {
     "name": "stdout",
     "output_type": "stream",
     "text": [
      "<Response [200]> 1195\n"
     ]
    },
    {
     "name": "stdout",
     "output_type": "stream",
     "text": [
      "<Response [200]> 1196\n"
     ]
    },
    {
     "name": "stdout",
     "output_type": "stream",
     "text": [
      "<Response [200]> 1197\n"
     ]
    },
    {
     "name": "stdout",
     "output_type": "stream",
     "text": [
      "<Response [200]> 1198\n"
     ]
    },
    {
     "name": "stdout",
     "output_type": "stream",
     "text": [
      "<Response [200]> 1199\n"
     ]
    },
    {
     "name": "stdout",
     "output_type": "stream",
     "text": [
      "<Response [200]> 1200\n"
     ]
    },
    {
     "name": "stdout",
     "output_type": "stream",
     "text": [
      "<Response [200]> 1201\n"
     ]
    },
    {
     "name": "stdout",
     "output_type": "stream",
     "text": [
      "<Response [200]> 1202\n"
     ]
    },
    {
     "name": "stdout",
     "output_type": "stream",
     "text": [
      "<Response [200]> 1203\n"
     ]
    },
    {
     "name": "stdout",
     "output_type": "stream",
     "text": [
      "<Response [200]> 1204\n"
     ]
    },
    {
     "name": "stdout",
     "output_type": "stream",
     "text": [
      "<Response [200]> 1205\n"
     ]
    },
    {
     "name": "stdout",
     "output_type": "stream",
     "text": [
      "<Response [200]> 1206\n"
     ]
    },
    {
     "name": "stdout",
     "output_type": "stream",
     "text": [
      "<Response [200]> 1207\n"
     ]
    },
    {
     "name": "stdout",
     "output_type": "stream",
     "text": [
      "<Response [200]> 1208\n"
     ]
    },
    {
     "name": "stdout",
     "output_type": "stream",
     "text": [
      "<Response [200]> 1209\n"
     ]
    },
    {
     "name": "stdout",
     "output_type": "stream",
     "text": [
      "<Response [200]> 1210\n"
     ]
    },
    {
     "name": "stdout",
     "output_type": "stream",
     "text": [
      "<Response [200]> 1211\n"
     ]
    },
    {
     "name": "stdout",
     "output_type": "stream",
     "text": [
      "<Response [200]> 1212\n"
     ]
    },
    {
     "name": "stdout",
     "output_type": "stream",
     "text": [
      "<Response [200]> 1213\n"
     ]
    },
    {
     "name": "stdout",
     "output_type": "stream",
     "text": [
      "<Response [200]> 1214\n"
     ]
    },
    {
     "name": "stdout",
     "output_type": "stream",
     "text": [
      "<Response [200]> 1215\n"
     ]
    },
    {
     "name": "stdout",
     "output_type": "stream",
     "text": [
      "<Response [200]> 1216\n"
     ]
    },
    {
     "name": "stdout",
     "output_type": "stream",
     "text": [
      "<Response [200]> 1217\n"
     ]
    },
    {
     "name": "stdout",
     "output_type": "stream",
     "text": [
      "<Response [200]> 1218\n"
     ]
    },
    {
     "name": "stdout",
     "output_type": "stream",
     "text": [
      "<Response [200]> 1219\n"
     ]
    },
    {
     "name": "stdout",
     "output_type": "stream",
     "text": [
      "<Response [200]> 1220\n"
     ]
    },
    {
     "name": "stdout",
     "output_type": "stream",
     "text": [
      "<Response [200]> 1221\n"
     ]
    },
    {
     "name": "stdout",
     "output_type": "stream",
     "text": [
      "<Response [200]> 1222\n"
     ]
    },
    {
     "name": "stdout",
     "output_type": "stream",
     "text": [
      "<Response [200]> 1223\n"
     ]
    },
    {
     "name": "stdout",
     "output_type": "stream",
     "text": [
      "<Response [200]> 1224\n"
     ]
    },
    {
     "name": "stdout",
     "output_type": "stream",
     "text": [
      "<Response [200]> 1225\n"
     ]
    },
    {
     "name": "stdout",
     "output_type": "stream",
     "text": [
      "<Response [200]> 1226\n"
     ]
    },
    {
     "name": "stdout",
     "output_type": "stream",
     "text": [
      "<Response [200]> 1227\n"
     ]
    },
    {
     "name": "stdout",
     "output_type": "stream",
     "text": [
      "<Response [200]> 1228\n"
     ]
    },
    {
     "name": "stdout",
     "output_type": "stream",
     "text": [
      "<Response [200]> 1229\n"
     ]
    },
    {
     "name": "stdout",
     "output_type": "stream",
     "text": [
      "<Response [200]> 1230\n"
     ]
    },
    {
     "name": "stdout",
     "output_type": "stream",
     "text": [
      "<Response [200]> 1231\n"
     ]
    },
    {
     "name": "stdout",
     "output_type": "stream",
     "text": [
      "<Response [200]> 1232\n"
     ]
    },
    {
     "name": "stdout",
     "output_type": "stream",
     "text": [
      "<Response [200]> 1233\n"
     ]
    },
    {
     "name": "stdout",
     "output_type": "stream",
     "text": [
      "<Response [200]> 1234\n"
     ]
    },
    {
     "name": "stdout",
     "output_type": "stream",
     "text": [
      "<Response [200]> 1235\n"
     ]
    },
    {
     "name": "stdout",
     "output_type": "stream",
     "text": [
      "<Response [200]> 1236\n"
     ]
    },
    {
     "name": "stdout",
     "output_type": "stream",
     "text": [
      "<Response [200]> 1237\n"
     ]
    },
    {
     "name": "stdout",
     "output_type": "stream",
     "text": [
      "<Response [200]> 1238\n"
     ]
    },
    {
     "name": "stdout",
     "output_type": "stream",
     "text": [
      "<Response [200]> 1239\n"
     ]
    },
    {
     "name": "stdout",
     "output_type": "stream",
     "text": [
      "<Response [200]> 1240\n"
     ]
    },
    {
     "name": "stdout",
     "output_type": "stream",
     "text": [
      "<Response [200]> 1241\n"
     ]
    },
    {
     "name": "stdout",
     "output_type": "stream",
     "text": [
      "<Response [200]> 1242\n"
     ]
    },
    {
     "name": "stdout",
     "output_type": "stream",
     "text": [
      "<Response [200]> 1243\n"
     ]
    },
    {
     "name": "stdout",
     "output_type": "stream",
     "text": [
      "<Response [200]> 1244\n"
     ]
    },
    {
     "name": "stdout",
     "output_type": "stream",
     "text": [
      "<Response [200]> 1245\n"
     ]
    },
    {
     "name": "stdout",
     "output_type": "stream",
     "text": [
      "<Response [200]> 1246\n"
     ]
    },
    {
     "name": "stdout",
     "output_type": "stream",
     "text": [
      "<Response [200]> 1247\n"
     ]
    },
    {
     "name": "stdout",
     "output_type": "stream",
     "text": [
      "<Response [200]> 1248\n"
     ]
    },
    {
     "name": "stdout",
     "output_type": "stream",
     "text": [
      "<Response [200]> 1249\n"
     ]
    },
    {
     "name": "stdout",
     "output_type": "stream",
     "text": [
      "<Response [200]> 1250\n"
     ]
    },
    {
     "name": "stdout",
     "output_type": "stream",
     "text": [
      "<Response [200]> 1251\n"
     ]
    },
    {
     "name": "stdout",
     "output_type": "stream",
     "text": [
      "<Response [200]> 1252\n"
     ]
    },
    {
     "name": "stdout",
     "output_type": "stream",
     "text": [
      "<Response [200]> 1253\n"
     ]
    },
    {
     "name": "stdout",
     "output_type": "stream",
     "text": [
      "<Response [200]> 1254\n"
     ]
    },
    {
     "name": "stdout",
     "output_type": "stream",
     "text": [
      "<Response [200]> 1255\n"
     ]
    },
    {
     "name": "stdout",
     "output_type": "stream",
     "text": [
      "<Response [200]> 1256\n"
     ]
    },
    {
     "name": "stdout",
     "output_type": "stream",
     "text": [
      "<Response [200]> 1257\n"
     ]
    },
    {
     "name": "stdout",
     "output_type": "stream",
     "text": [
      "<Response [200]> 1258\n"
     ]
    },
    {
     "name": "stdout",
     "output_type": "stream",
     "text": [
      "<Response [200]> 1259\n"
     ]
    },
    {
     "name": "stdout",
     "output_type": "stream",
     "text": [
      "<Response [200]> 1260\n"
     ]
    },
    {
     "name": "stdout",
     "output_type": "stream",
     "text": [
      "<Response [200]> 1261\n"
     ]
    },
    {
     "name": "stdout",
     "output_type": "stream",
     "text": [
      "<Response [200]> 1262\n"
     ]
    },
    {
     "name": "stdout",
     "output_type": "stream",
     "text": [
      "<Response [200]> 1263\n"
     ]
    },
    {
     "name": "stdout",
     "output_type": "stream",
     "text": [
      "<Response [200]> 1264\n"
     ]
    },
    {
     "name": "stdout",
     "output_type": "stream",
     "text": [
      "<Response [200]> 1265\n"
     ]
    },
    {
     "name": "stdout",
     "output_type": "stream",
     "text": [
      "<Response [200]> 1266\n"
     ]
    },
    {
     "name": "stdout",
     "output_type": "stream",
     "text": [
      "<Response [200]> 1267\n"
     ]
    },
    {
     "name": "stdout",
     "output_type": "stream",
     "text": [
      "<Response [200]> 1268\n"
     ]
    },
    {
     "name": "stdout",
     "output_type": "stream",
     "text": [
      "<Response [200]> 1269\n"
     ]
    },
    {
     "name": "stdout",
     "output_type": "stream",
     "text": [
      "<Response [200]> 1270\n"
     ]
    },
    {
     "name": "stdout",
     "output_type": "stream",
     "text": [
      "<Response [200]> 1271\n"
     ]
    },
    {
     "name": "stdout",
     "output_type": "stream",
     "text": [
      "<Response [200]> 1272\n"
     ]
    },
    {
     "name": "stdout",
     "output_type": "stream",
     "text": [
      "<Response [200]> 1273\n"
     ]
    },
    {
     "name": "stdout",
     "output_type": "stream",
     "text": [
      "<Response [200]> 1274\n"
     ]
    },
    {
     "name": "stdout",
     "output_type": "stream",
     "text": [
      "<Response [200]> 1275\n"
     ]
    },
    {
     "name": "stdout",
     "output_type": "stream",
     "text": [
      "<Response [200]> 1276\n"
     ]
    },
    {
     "name": "stdout",
     "output_type": "stream",
     "text": [
      "<Response [200]> 1277\n"
     ]
    },
    {
     "name": "stdout",
     "output_type": "stream",
     "text": [
      "<Response [200]> 1278\n"
     ]
    },
    {
     "name": "stdout",
     "output_type": "stream",
     "text": [
      "<Response [200]> 1279\n"
     ]
    },
    {
     "name": "stdout",
     "output_type": "stream",
     "text": [
      "<Response [200]> 1280\n"
     ]
    },
    {
     "name": "stdout",
     "output_type": "stream",
     "text": [
      "<Response [200]> 1281\n"
     ]
    },
    {
     "name": "stdout",
     "output_type": "stream",
     "text": [
      "<Response [200]> 1282\n"
     ]
    },
    {
     "name": "stdout",
     "output_type": "stream",
     "text": [
      "<Response [200]> 1283\n"
     ]
    },
    {
     "name": "stdout",
     "output_type": "stream",
     "text": [
      "<Response [200]> 1284\n"
     ]
    },
    {
     "name": "stdout",
     "output_type": "stream",
     "text": [
      "<Response [200]> 1285\n"
     ]
    },
    {
     "name": "stdout",
     "output_type": "stream",
     "text": [
      "<Response [200]> 1286\n"
     ]
    },
    {
     "name": "stdout",
     "output_type": "stream",
     "text": [
      "<Response [200]> 1287\n"
     ]
    },
    {
     "name": "stdout",
     "output_type": "stream",
     "text": [
      "<Response [200]> 1288\n"
     ]
    },
    {
     "name": "stdout",
     "output_type": "stream",
     "text": [
      "<Response [200]> 1289\n"
     ]
    },
    {
     "name": "stdout",
     "output_type": "stream",
     "text": [
      "<Response [200]> 1290\n"
     ]
    },
    {
     "name": "stdout",
     "output_type": "stream",
     "text": [
      "<Response [200]> 1291\n"
     ]
    },
    {
     "name": "stdout",
     "output_type": "stream",
     "text": [
      "<Response [200]> 1292\n"
     ]
    },
    {
     "name": "stdout",
     "output_type": "stream",
     "text": [
      "<Response [200]> 1293\n"
     ]
    },
    {
     "name": "stdout",
     "output_type": "stream",
     "text": [
      "<Response [200]> 1294\n"
     ]
    },
    {
     "name": "stdout",
     "output_type": "stream",
     "text": [
      "<Response [200]> 1295\n"
     ]
    },
    {
     "name": "stdout",
     "output_type": "stream",
     "text": [
      "<Response [200]> 1296\n"
     ]
    },
    {
     "name": "stdout",
     "output_type": "stream",
     "text": [
      "<Response [200]> 1297\n"
     ]
    },
    {
     "name": "stdout",
     "output_type": "stream",
     "text": [
      "<Response [200]> 1298\n"
     ]
    },
    {
     "name": "stdout",
     "output_type": "stream",
     "text": [
      "<Response [200]> 1299\n"
     ]
    },
    {
     "name": "stdout",
     "output_type": "stream",
     "text": [
      "<Response [200]> 1300\n"
     ]
    },
    {
     "name": "stdout",
     "output_type": "stream",
     "text": [
      "<Response [200]> 1301\n"
     ]
    },
    {
     "name": "stdout",
     "output_type": "stream",
     "text": [
      "<Response [200]> 1302\n"
     ]
    },
    {
     "name": "stdout",
     "output_type": "stream",
     "text": [
      "<Response [200]> 1303\n"
     ]
    },
    {
     "name": "stdout",
     "output_type": "stream",
     "text": [
      "<Response [200]> 1304\n"
     ]
    },
    {
     "name": "stdout",
     "output_type": "stream",
     "text": [
      "<Response [200]> 1305\n"
     ]
    },
    {
     "name": "stdout",
     "output_type": "stream",
     "text": [
      "<Response [200]> 1306\n"
     ]
    },
    {
     "name": "stdout",
     "output_type": "stream",
     "text": [
      "<Response [200]> 1307\n"
     ]
    },
    {
     "name": "stdout",
     "output_type": "stream",
     "text": [
      "<Response [200]> 1308\n"
     ]
    },
    {
     "name": "stdout",
     "output_type": "stream",
     "text": [
      "<Response [200]> 1309\n"
     ]
    },
    {
     "name": "stdout",
     "output_type": "stream",
     "text": [
      "<Response [200]> 1310\n"
     ]
    },
    {
     "name": "stdout",
     "output_type": "stream",
     "text": [
      "<Response [200]> 1311\n"
     ]
    },
    {
     "name": "stdout",
     "output_type": "stream",
     "text": [
      "<Response [200]> 1312\n"
     ]
    },
    {
     "name": "stdout",
     "output_type": "stream",
     "text": [
      "<Response [200]> 1313\n"
     ]
    },
    {
     "name": "stdout",
     "output_type": "stream",
     "text": [
      "<Response [200]> 1314\n"
     ]
    },
    {
     "name": "stdout",
     "output_type": "stream",
     "text": [
      "<Response [200]> 1315\n"
     ]
    },
    {
     "name": "stdout",
     "output_type": "stream",
     "text": [
      "<Response [200]> 1316\n"
     ]
    },
    {
     "name": "stdout",
     "output_type": "stream",
     "text": [
      "<Response [200]> 1317\n"
     ]
    },
    {
     "name": "stdout",
     "output_type": "stream",
     "text": [
      "<Response [200]> 1318\n"
     ]
    },
    {
     "name": "stdout",
     "output_type": "stream",
     "text": [
      "<Response [200]> 1319\n"
     ]
    },
    {
     "name": "stdout",
     "output_type": "stream",
     "text": [
      "<Response [200]> 1320\n"
     ]
    },
    {
     "name": "stdout",
     "output_type": "stream",
     "text": [
      "<Response [200]> 1321\n"
     ]
    },
    {
     "name": "stdout",
     "output_type": "stream",
     "text": [
      "<Response [200]> 1322\n"
     ]
    },
    {
     "name": "stdout",
     "output_type": "stream",
     "text": [
      "<Response [200]> 1323\n"
     ]
    },
    {
     "name": "stdout",
     "output_type": "stream",
     "text": [
      "<Response [200]> 1324\n"
     ]
    },
    {
     "name": "stdout",
     "output_type": "stream",
     "text": [
      "<Response [200]> 1325\n"
     ]
    },
    {
     "name": "stdout",
     "output_type": "stream",
     "text": [
      "<Response [200]> 1326\n"
     ]
    },
    {
     "name": "stdout",
     "output_type": "stream",
     "text": [
      "<Response [200]> 1327\n"
     ]
    },
    {
     "name": "stdout",
     "output_type": "stream",
     "text": [
      "<Response [200]> 1328\n"
     ]
    },
    {
     "name": "stdout",
     "output_type": "stream",
     "text": [
      "<Response [200]> 1329\n"
     ]
    },
    {
     "name": "stdout",
     "output_type": "stream",
     "text": [
      "<Response [200]> 1330\n"
     ]
    },
    {
     "name": "stdout",
     "output_type": "stream",
     "text": [
      "<Response [200]> 1331\n"
     ]
    },
    {
     "name": "stdout",
     "output_type": "stream",
     "text": [
      "<Response [200]> 1332\n"
     ]
    },
    {
     "name": "stdout",
     "output_type": "stream",
     "text": [
      "<Response [200]> 1333\n"
     ]
    },
    {
     "name": "stdout",
     "output_type": "stream",
     "text": [
      "<Response [200]> 1334\n"
     ]
    },
    {
     "name": "stdout",
     "output_type": "stream",
     "text": [
      "<Response [200]> 1335\n"
     ]
    },
    {
     "name": "stdout",
     "output_type": "stream",
     "text": [
      "<Response [200]> 1336\n"
     ]
    },
    {
     "name": "stdout",
     "output_type": "stream",
     "text": [
      "<Response [200]> 1337\n"
     ]
    },
    {
     "name": "stdout",
     "output_type": "stream",
     "text": [
      "<Response [200]> 1338\n"
     ]
    },
    {
     "name": "stdout",
     "output_type": "stream",
     "text": [
      "<Response [200]> 1339\n"
     ]
    },
    {
     "name": "stdout",
     "output_type": "stream",
     "text": [
      "<Response [200]> 1340\n"
     ]
    },
    {
     "name": "stdout",
     "output_type": "stream",
     "text": [
      "<Response [200]> 1341\n"
     ]
    },
    {
     "name": "stdout",
     "output_type": "stream",
     "text": [
      "<Response [200]> 1342\n"
     ]
    },
    {
     "name": "stdout",
     "output_type": "stream",
     "text": [
      "<Response [200]> 1343\n"
     ]
    },
    {
     "name": "stdout",
     "output_type": "stream",
     "text": [
      "<Response [200]> 1344\n"
     ]
    },
    {
     "name": "stdout",
     "output_type": "stream",
     "text": [
      "<Response [200]> 1345\n"
     ]
    },
    {
     "name": "stdout",
     "output_type": "stream",
     "text": [
      "<Response [200]> 1346\n"
     ]
    },
    {
     "name": "stdout",
     "output_type": "stream",
     "text": [
      "<Response [200]> 1347\n"
     ]
    },
    {
     "name": "stdout",
     "output_type": "stream",
     "text": [
      "<Response [200]> 1348\n"
     ]
    },
    {
     "name": "stdout",
     "output_type": "stream",
     "text": [
      "<Response [200]> 1349\n"
     ]
    },
    {
     "name": "stdout",
     "output_type": "stream",
     "text": [
      "<Response [200]> 1350\n"
     ]
    },
    {
     "name": "stdout",
     "output_type": "stream",
     "text": [
      "<Response [200]> 1351\n"
     ]
    },
    {
     "name": "stdout",
     "output_type": "stream",
     "text": [
      "<Response [200]> 1352\n"
     ]
    },
    {
     "name": "stdout",
     "output_type": "stream",
     "text": [
      "<Response [200]> 1353\n"
     ]
    },
    {
     "name": "stdout",
     "output_type": "stream",
     "text": [
      "<Response [200]> 1354\n"
     ]
    },
    {
     "name": "stdout",
     "output_type": "stream",
     "text": [
      "<Response [200]> 1355\n"
     ]
    },
    {
     "name": "stdout",
     "output_type": "stream",
     "text": [
      "<Response [200]> 1356\n"
     ]
    },
    {
     "name": "stdout",
     "output_type": "stream",
     "text": [
      "<Response [200]> 1357\n"
     ]
    },
    {
     "name": "stdout",
     "output_type": "stream",
     "text": [
      "<Response [200]> 1358\n"
     ]
    },
    {
     "name": "stdout",
     "output_type": "stream",
     "text": [
      "<Response [200]> 1359\n"
     ]
    },
    {
     "name": "stdout",
     "output_type": "stream",
     "text": [
      "<Response [200]> 1360\n"
     ]
    },
    {
     "name": "stdout",
     "output_type": "stream",
     "text": [
      "<Response [200]> 1361\n"
     ]
    },
    {
     "name": "stdout",
     "output_type": "stream",
     "text": [
      "<Response [200]> 1362\n"
     ]
    },
    {
     "name": "stdout",
     "output_type": "stream",
     "text": [
      "<Response [200]> 1363\n"
     ]
    },
    {
     "name": "stdout",
     "output_type": "stream",
     "text": [
      "<Response [200]> 1364\n"
     ]
    },
    {
     "name": "stdout",
     "output_type": "stream",
     "text": [
      "<Response [200]> 1365\n"
     ]
    },
    {
     "name": "stdout",
     "output_type": "stream",
     "text": [
      "<Response [200]> 1366\n"
     ]
    },
    {
     "name": "stdout",
     "output_type": "stream",
     "text": [
      "<Response [200]> 1367\n"
     ]
    },
    {
     "name": "stdout",
     "output_type": "stream",
     "text": [
      "<Response [200]> 1368\n"
     ]
    },
    {
     "name": "stdout",
     "output_type": "stream",
     "text": [
      "<Response [200]> 1369\n"
     ]
    },
    {
     "name": "stdout",
     "output_type": "stream",
     "text": [
      "<Response [200]> 1370\n"
     ]
    },
    {
     "name": "stdout",
     "output_type": "stream",
     "text": [
      "<Response [200]> 1371\n"
     ]
    },
    {
     "name": "stdout",
     "output_type": "stream",
     "text": [
      "<Response [200]> 1372\n"
     ]
    },
    {
     "name": "stdout",
     "output_type": "stream",
     "text": [
      "<Response [200]> 1373\n"
     ]
    },
    {
     "name": "stdout",
     "output_type": "stream",
     "text": [
      "<Response [200]> 1374\n"
     ]
    },
    {
     "name": "stdout",
     "output_type": "stream",
     "text": [
      "<Response [200]> 1375\n"
     ]
    },
    {
     "name": "stdout",
     "output_type": "stream",
     "text": [
      "<Response [200]> 1376\n"
     ]
    },
    {
     "name": "stdout",
     "output_type": "stream",
     "text": [
      "<Response [200]> 1377\n"
     ]
    },
    {
     "name": "stdout",
     "output_type": "stream",
     "text": [
      "<Response [200]> 1378\n"
     ]
    },
    {
     "name": "stdout",
     "output_type": "stream",
     "text": [
      "<Response [200]> 1379\n"
     ]
    },
    {
     "name": "stdout",
     "output_type": "stream",
     "text": [
      "<Response [200]> 1380\n"
     ]
    },
    {
     "name": "stdout",
     "output_type": "stream",
     "text": [
      "<Response [200]> 1381\n"
     ]
    },
    {
     "name": "stdout",
     "output_type": "stream",
     "text": [
      "<Response [200]> 1382\n"
     ]
    },
    {
     "name": "stdout",
     "output_type": "stream",
     "text": [
      "<Response [200]> 1383\n"
     ]
    },
    {
     "name": "stdout",
     "output_type": "stream",
     "text": [
      "<Response [200]> 1384\n"
     ]
    },
    {
     "name": "stdout",
     "output_type": "stream",
     "text": [
      "<Response [200]> 1385\n"
     ]
    },
    {
     "name": "stdout",
     "output_type": "stream",
     "text": [
      "<Response [200]> 1386\n"
     ]
    },
    {
     "name": "stdout",
     "output_type": "stream",
     "text": [
      "<Response [200]> 1387\n"
     ]
    },
    {
     "name": "stdout",
     "output_type": "stream",
     "text": [
      "<Response [200]> 1388\n"
     ]
    },
    {
     "name": "stdout",
     "output_type": "stream",
     "text": [
      "<Response [200]> 1389\n"
     ]
    },
    {
     "name": "stdout",
     "output_type": "stream",
     "text": [
      "<Response [200]> 1390\n"
     ]
    },
    {
     "name": "stdout",
     "output_type": "stream",
     "text": [
      "<Response [200]> 1391\n"
     ]
    },
    {
     "name": "stdout",
     "output_type": "stream",
     "text": [
      "<Response [200]> 1392\n"
     ]
    },
    {
     "name": "stdout",
     "output_type": "stream",
     "text": [
      "<Response [200]> 1393\n"
     ]
    },
    {
     "name": "stdout",
     "output_type": "stream",
     "text": [
      "<Response [200]> 1394\n"
     ]
    },
    {
     "name": "stdout",
     "output_type": "stream",
     "text": [
      "<Response [200]> 1395\n"
     ]
    },
    {
     "name": "stdout",
     "output_type": "stream",
     "text": [
      "<Response [200]> 1396\n"
     ]
    },
    {
     "name": "stdout",
     "output_type": "stream",
     "text": [
      "<Response [200]> 1397\n"
     ]
    },
    {
     "name": "stdout",
     "output_type": "stream",
     "text": [
      "<Response [200]> 1398\n"
     ]
    },
    {
     "name": "stdout",
     "output_type": "stream",
     "text": [
      "<Response [200]> 1399\n"
     ]
    },
    {
     "name": "stdout",
     "output_type": "stream",
     "text": [
      "<Response [200]> 1400\n"
     ]
    },
    {
     "name": "stdout",
     "output_type": "stream",
     "text": [
      "<Response [200]> 1401\n"
     ]
    },
    {
     "name": "stdout",
     "output_type": "stream",
     "text": [
      "<Response [200]> 1402\n"
     ]
    },
    {
     "name": "stdout",
     "output_type": "stream",
     "text": [
      "<Response [200]> 1403\n"
     ]
    },
    {
     "name": "stdout",
     "output_type": "stream",
     "text": [
      "<Response [200]> 1404\n"
     ]
    },
    {
     "name": "stdout",
     "output_type": "stream",
     "text": [
      "<Response [200]> 1405\n"
     ]
    },
    {
     "name": "stdout",
     "output_type": "stream",
     "text": [
      "<Response [200]> 1406\n"
     ]
    },
    {
     "name": "stdout",
     "output_type": "stream",
     "text": [
      "<Response [200]> 1407\n"
     ]
    },
    {
     "name": "stdout",
     "output_type": "stream",
     "text": [
      "<Response [200]> 1408\n"
     ]
    },
    {
     "name": "stdout",
     "output_type": "stream",
     "text": [
      "<Response [200]> 1409\n"
     ]
    },
    {
     "name": "stdout",
     "output_type": "stream",
     "text": [
      "<Response [200]> 1410\n"
     ]
    },
    {
     "name": "stdout",
     "output_type": "stream",
     "text": [
      "<Response [200]> 1411\n"
     ]
    },
    {
     "name": "stdout",
     "output_type": "stream",
     "text": [
      "<Response [200]> 1412\n"
     ]
    },
    {
     "name": "stdout",
     "output_type": "stream",
     "text": [
      "<Response [200]> 1413\n"
     ]
    },
    {
     "name": "stdout",
     "output_type": "stream",
     "text": [
      "<Response [200]> 1414\n"
     ]
    },
    {
     "name": "stdout",
     "output_type": "stream",
     "text": [
      "<Response [200]> 1415\n"
     ]
    },
    {
     "name": "stdout",
     "output_type": "stream",
     "text": [
      "<Response [200]> 1416\n"
     ]
    },
    {
     "name": "stdout",
     "output_type": "stream",
     "text": [
      "<Response [200]> 1417\n"
     ]
    },
    {
     "name": "stdout",
     "output_type": "stream",
     "text": [
      "<Response [200]> 1418\n"
     ]
    },
    {
     "name": "stdout",
     "output_type": "stream",
     "text": [
      "<Response [200]> 1419\n"
     ]
    },
    {
     "name": "stdout",
     "output_type": "stream",
     "text": [
      "<Response [200]> 1420\n"
     ]
    },
    {
     "name": "stdout",
     "output_type": "stream",
     "text": [
      "<Response [200]> 1421\n"
     ]
    },
    {
     "name": "stdout",
     "output_type": "stream",
     "text": [
      "<Response [200]> 1422\n"
     ]
    },
    {
     "name": "stdout",
     "output_type": "stream",
     "text": [
      "<Response [200]> 1423\n"
     ]
    },
    {
     "name": "stdout",
     "output_type": "stream",
     "text": [
      "<Response [200]> 1424\n"
     ]
    },
    {
     "name": "stdout",
     "output_type": "stream",
     "text": [
      "<Response [200]> 1425\n"
     ]
    },
    {
     "name": "stdout",
     "output_type": "stream",
     "text": [
      "<Response [200]> 1426\n"
     ]
    },
    {
     "name": "stdout",
     "output_type": "stream",
     "text": [
      "<Response [200]> 1427\n"
     ]
    },
    {
     "name": "stdout",
     "output_type": "stream",
     "text": [
      "<Response [200]> 1428\n"
     ]
    },
    {
     "name": "stdout",
     "output_type": "stream",
     "text": [
      "<Response [200]> 1429\n"
     ]
    },
    {
     "name": "stdout",
     "output_type": "stream",
     "text": [
      "<Response [200]> 1430\n"
     ]
    },
    {
     "name": "stdout",
     "output_type": "stream",
     "text": [
      "<Response [200]> 1431\n"
     ]
    },
    {
     "name": "stdout",
     "output_type": "stream",
     "text": [
      "<Response [200]> 1432\n"
     ]
    },
    {
     "name": "stdout",
     "output_type": "stream",
     "text": [
      "<Response [200]> 1433\n"
     ]
    },
    {
     "name": "stdout",
     "output_type": "stream",
     "text": [
      "<Response [200]> 1434\n"
     ]
    },
    {
     "name": "stdout",
     "output_type": "stream",
     "text": [
      "<Response [200]> 1435\n"
     ]
    },
    {
     "name": "stdout",
     "output_type": "stream",
     "text": [
      "<Response [200]> 1436\n"
     ]
    },
    {
     "name": "stdout",
     "output_type": "stream",
     "text": [
      "<Response [200]> 1437\n"
     ]
    },
    {
     "name": "stdout",
     "output_type": "stream",
     "text": [
      "<Response [200]> 1438\n"
     ]
    },
    {
     "name": "stdout",
     "output_type": "stream",
     "text": [
      "<Response [200]> 1439\n"
     ]
    },
    {
     "name": "stdout",
     "output_type": "stream",
     "text": [
      "<Response [200]> 1440\n"
     ]
    },
    {
     "name": "stdout",
     "output_type": "stream",
     "text": [
      "<Response [200]> 1441\n"
     ]
    },
    {
     "name": "stdout",
     "output_type": "stream",
     "text": [
      "<Response [200]> 1442\n"
     ]
    },
    {
     "name": "stdout",
     "output_type": "stream",
     "text": [
      "<Response [200]> 1443\n"
     ]
    },
    {
     "name": "stdout",
     "output_type": "stream",
     "text": [
      "<Response [200]> 1444\n"
     ]
    },
    {
     "name": "stdout",
     "output_type": "stream",
     "text": [
      "<Response [200]> 1445\n"
     ]
    },
    {
     "name": "stdout",
     "output_type": "stream",
     "text": [
      "<Response [200]> 1446\n"
     ]
    },
    {
     "name": "stdout",
     "output_type": "stream",
     "text": [
      "<Response [200]> 1447\n"
     ]
    },
    {
     "name": "stdout",
     "output_type": "stream",
     "text": [
      "<Response [200]> 1448\n"
     ]
    },
    {
     "name": "stdout",
     "output_type": "stream",
     "text": [
      "<Response [200]> 1449\n"
     ]
    },
    {
     "name": "stdout",
     "output_type": "stream",
     "text": [
      "<Response [200]> 1450\n"
     ]
    },
    {
     "name": "stdout",
     "output_type": "stream",
     "text": [
      "<Response [200]> 1451\n"
     ]
    },
    {
     "name": "stdout",
     "output_type": "stream",
     "text": [
      "<Response [200]> 1452\n"
     ]
    },
    {
     "name": "stdout",
     "output_type": "stream",
     "text": [
      "<Response [200]> 1453\n"
     ]
    },
    {
     "name": "stdout",
     "output_type": "stream",
     "text": [
      "<Response [200]> 1454\n"
     ]
    },
    {
     "name": "stdout",
     "output_type": "stream",
     "text": [
      "<Response [200]> 1455\n"
     ]
    },
    {
     "name": "stdout",
     "output_type": "stream",
     "text": [
      "<Response [200]> 1456\n"
     ]
    },
    {
     "name": "stdout",
     "output_type": "stream",
     "text": [
      "<Response [200]> 1457\n"
     ]
    },
    {
     "name": "stdout",
     "output_type": "stream",
     "text": [
      "<Response [200]> 1458\n"
     ]
    },
    {
     "name": "stdout",
     "output_type": "stream",
     "text": [
      "<Response [200]> 1459\n"
     ]
    },
    {
     "name": "stdout",
     "output_type": "stream",
     "text": [
      "<Response [200]> 1460\n"
     ]
    },
    {
     "name": "stdout",
     "output_type": "stream",
     "text": [
      "<Response [200]> 1461\n"
     ]
    },
    {
     "name": "stdout",
     "output_type": "stream",
     "text": [
      "<Response [200]> 1462\n"
     ]
    },
    {
     "name": "stdout",
     "output_type": "stream",
     "text": [
      "<Response [200]> 1463\n"
     ]
    },
    {
     "name": "stdout",
     "output_type": "stream",
     "text": [
      "<Response [200]> 1464\n"
     ]
    },
    {
     "name": "stdout",
     "output_type": "stream",
     "text": [
      "<Response [200]> 1465\n"
     ]
    },
    {
     "name": "stdout",
     "output_type": "stream",
     "text": [
      "<Response [200]> 1466\n"
     ]
    },
    {
     "name": "stdout",
     "output_type": "stream",
     "text": [
      "<Response [200]> 1467\n"
     ]
    },
    {
     "name": "stdout",
     "output_type": "stream",
     "text": [
      "<Response [200]> 1468\n"
     ]
    },
    {
     "name": "stdout",
     "output_type": "stream",
     "text": [
      "<Response [200]> 1469\n"
     ]
    },
    {
     "name": "stdout",
     "output_type": "stream",
     "text": [
      "<Response [200]> 1470\n"
     ]
    },
    {
     "name": "stdout",
     "output_type": "stream",
     "text": [
      "<Response [200]> 1471\n"
     ]
    },
    {
     "name": "stdout",
     "output_type": "stream",
     "text": [
      "<Response [200]> 1472\n"
     ]
    },
    {
     "name": "stdout",
     "output_type": "stream",
     "text": [
      "<Response [200]> 1473\n"
     ]
    },
    {
     "name": "stdout",
     "output_type": "stream",
     "text": [
      "<Response [200]> 1474\n"
     ]
    },
    {
     "name": "stdout",
     "output_type": "stream",
     "text": [
      "<Response [200]> 1475\n"
     ]
    },
    {
     "name": "stdout",
     "output_type": "stream",
     "text": [
      "<Response [200]> 1476\n"
     ]
    },
    {
     "name": "stdout",
     "output_type": "stream",
     "text": [
      "<Response [200]> 1477\n"
     ]
    },
    {
     "name": "stdout",
     "output_type": "stream",
     "text": [
      "<Response [200]> 1478\n"
     ]
    },
    {
     "name": "stdout",
     "output_type": "stream",
     "text": [
      "<Response [200]> 1479\n"
     ]
    },
    {
     "name": "stdout",
     "output_type": "stream",
     "text": [
      "<Response [200]> 1480\n"
     ]
    },
    {
     "name": "stdout",
     "output_type": "stream",
     "text": [
      "<Response [200]> 1481\n"
     ]
    },
    {
     "name": "stdout",
     "output_type": "stream",
     "text": [
      "<Response [200]> 1482\n"
     ]
    },
    {
     "name": "stdout",
     "output_type": "stream",
     "text": [
      "<Response [200]> 1483\n"
     ]
    },
    {
     "name": "stdout",
     "output_type": "stream",
     "text": [
      "<Response [200]> 1484\n"
     ]
    },
    {
     "name": "stdout",
     "output_type": "stream",
     "text": [
      "<Response [200]> 1485\n"
     ]
    },
    {
     "name": "stdout",
     "output_type": "stream",
     "text": [
      "<Response [200]> 1486\n"
     ]
    },
    {
     "name": "stdout",
     "output_type": "stream",
     "text": [
      "<Response [200]> 1487\n"
     ]
    },
    {
     "name": "stdout",
     "output_type": "stream",
     "text": [
      "<Response [200]> 1488\n"
     ]
    },
    {
     "name": "stdout",
     "output_type": "stream",
     "text": [
      "<Response [200]> 1489\n"
     ]
    },
    {
     "name": "stdout",
     "output_type": "stream",
     "text": [
      "<Response [200]> 1490\n"
     ]
    },
    {
     "name": "stdout",
     "output_type": "stream",
     "text": [
      "<Response [200]> 1491\n"
     ]
    },
    {
     "name": "stdout",
     "output_type": "stream",
     "text": [
      "<Response [200]> 1492\n"
     ]
    },
    {
     "name": "stdout",
     "output_type": "stream",
     "text": [
      "<Response [200]> 1493\n"
     ]
    },
    {
     "name": "stdout",
     "output_type": "stream",
     "text": [
      "<Response [200]> 1494\n"
     ]
    },
    {
     "name": "stdout",
     "output_type": "stream",
     "text": [
      "<Response [200]> 1495\n"
     ]
    },
    {
     "name": "stdout",
     "output_type": "stream",
     "text": [
      "<Response [200]> 1496\n"
     ]
    },
    {
     "name": "stdout",
     "output_type": "stream",
     "text": [
      "<Response [200]> 1497\n"
     ]
    },
    {
     "name": "stdout",
     "output_type": "stream",
     "text": [
      "<Response [200]> 1498\n"
     ]
    },
    {
     "name": "stdout",
     "output_type": "stream",
     "text": [
      "<Response [200]> 1499\n"
     ]
    },
    {
     "name": "stdout",
     "output_type": "stream",
     "text": [
      "<Response [200]> 1500\n"
     ]
    },
    {
     "name": "stdout",
     "output_type": "stream",
     "text": [
      "<Response [200]> 1501\n"
     ]
    },
    {
     "name": "stdout",
     "output_type": "stream",
     "text": [
      "<Response [200]> 1502\n"
     ]
    },
    {
     "name": "stdout",
     "output_type": "stream",
     "text": [
      "<Response [200]> 1503\n"
     ]
    },
    {
     "name": "stdout",
     "output_type": "stream",
     "text": [
      "<Response [200]> 1504\n"
     ]
    },
    {
     "name": "stdout",
     "output_type": "stream",
     "text": [
      "<Response [200]> 1505\n"
     ]
    },
    {
     "name": "stdout",
     "output_type": "stream",
     "text": [
      "<Response [200]> 1506\n"
     ]
    },
    {
     "name": "stdout",
     "output_type": "stream",
     "text": [
      "<Response [200]> 1507\n"
     ]
    },
    {
     "name": "stdout",
     "output_type": "stream",
     "text": [
      "<Response [200]> 1508\n"
     ]
    },
    {
     "name": "stdout",
     "output_type": "stream",
     "text": [
      "<Response [200]> 1509\n"
     ]
    },
    {
     "name": "stdout",
     "output_type": "stream",
     "text": [
      "<Response [200]> 1510\n"
     ]
    },
    {
     "name": "stdout",
     "output_type": "stream",
     "text": [
      "<Response [200]> 1511\n"
     ]
    },
    {
     "name": "stdout",
     "output_type": "stream",
     "text": [
      "<Response [200]> 1512\n"
     ]
    },
    {
     "name": "stdout",
     "output_type": "stream",
     "text": [
      "<Response [200]> 1513\n"
     ]
    },
    {
     "name": "stdout",
     "output_type": "stream",
     "text": [
      "<Response [200]> 1514\n"
     ]
    },
    {
     "name": "stdout",
     "output_type": "stream",
     "text": [
      "<Response [200]> 1515\n"
     ]
    },
    {
     "name": "stdout",
     "output_type": "stream",
     "text": [
      "<Response [200]> 1516\n"
     ]
    },
    {
     "name": "stdout",
     "output_type": "stream",
     "text": [
      "<Response [200]> 1517\n"
     ]
    },
    {
     "name": "stdout",
     "output_type": "stream",
     "text": [
      "<Response [200]> 1518\n"
     ]
    },
    {
     "name": "stdout",
     "output_type": "stream",
     "text": [
      "<Response [200]> 1519\n"
     ]
    },
    {
     "name": "stdout",
     "output_type": "stream",
     "text": [
      "<Response [200]> 1520\n"
     ]
    },
    {
     "name": "stdout",
     "output_type": "stream",
     "text": [
      "<Response [200]> 1521\n"
     ]
    },
    {
     "name": "stdout",
     "output_type": "stream",
     "text": [
      "<Response [200]> 1522\n"
     ]
    },
    {
     "name": "stdout",
     "output_type": "stream",
     "text": [
      "<Response [200]> 1523\n"
     ]
    },
    {
     "name": "stdout",
     "output_type": "stream",
     "text": [
      "<Response [200]> 1524\n"
     ]
    },
    {
     "name": "stdout",
     "output_type": "stream",
     "text": [
      "<Response [200]> 1525\n"
     ]
    },
    {
     "name": "stdout",
     "output_type": "stream",
     "text": [
      "<Response [200]> 1526\n"
     ]
    },
    {
     "name": "stdout",
     "output_type": "stream",
     "text": [
      "<Response [200]> 1527\n"
     ]
    },
    {
     "name": "stdout",
     "output_type": "stream",
     "text": [
      "<Response [200]> 1528\n"
     ]
    },
    {
     "name": "stdout",
     "output_type": "stream",
     "text": [
      "<Response [200]> 1529\n"
     ]
    },
    {
     "name": "stdout",
     "output_type": "stream",
     "text": [
      "<Response [200]> 1530\n"
     ]
    },
    {
     "name": "stdout",
     "output_type": "stream",
     "text": [
      "<Response [200]> 1531\n"
     ]
    },
    {
     "name": "stdout",
     "output_type": "stream",
     "text": [
      "<Response [200]> 1532\n"
     ]
    },
    {
     "name": "stdout",
     "output_type": "stream",
     "text": [
      "<Response [200]> 1533\n"
     ]
    },
    {
     "name": "stdout",
     "output_type": "stream",
     "text": [
      "<Response [200]> 1534\n"
     ]
    },
    {
     "name": "stdout",
     "output_type": "stream",
     "text": [
      "<Response [200]> 1535\n"
     ]
    },
    {
     "name": "stdout",
     "output_type": "stream",
     "text": [
      "<Response [200]> 1536\n"
     ]
    },
    {
     "name": "stdout",
     "output_type": "stream",
     "text": [
      "<Response [200]> 1537\n"
     ]
    },
    {
     "name": "stdout",
     "output_type": "stream",
     "text": [
      "<Response [200]> 1538\n"
     ]
    },
    {
     "name": "stdout",
     "output_type": "stream",
     "text": [
      "<Response [200]> 1539\n"
     ]
    },
    {
     "name": "stdout",
     "output_type": "stream",
     "text": [
      "<Response [200]> 1540\n"
     ]
    },
    {
     "name": "stdout",
     "output_type": "stream",
     "text": [
      "<Response [200]> 1541\n"
     ]
    },
    {
     "name": "stdout",
     "output_type": "stream",
     "text": [
      "<Response [200]> 1542\n"
     ]
    },
    {
     "name": "stdout",
     "output_type": "stream",
     "text": [
      "<Response [200]> 1543\n"
     ]
    },
    {
     "name": "stdout",
     "output_type": "stream",
     "text": [
      "<Response [200]> 1544\n"
     ]
    },
    {
     "name": "stdout",
     "output_type": "stream",
     "text": [
      "<Response [200]> 1545\n"
     ]
    },
    {
     "name": "stdout",
     "output_type": "stream",
     "text": [
      "<Response [200]> 1546\n"
     ]
    },
    {
     "name": "stdout",
     "output_type": "stream",
     "text": [
      "<Response [200]> 1547\n"
     ]
    },
    {
     "name": "stdout",
     "output_type": "stream",
     "text": [
      "<Response [200]> 1548\n"
     ]
    },
    {
     "name": "stdout",
     "output_type": "stream",
     "text": [
      "<Response [200]> 1549\n"
     ]
    },
    {
     "name": "stdout",
     "output_type": "stream",
     "text": [
      "<Response [200]> 1550\n"
     ]
    },
    {
     "name": "stdout",
     "output_type": "stream",
     "text": [
      "<Response [200]> 1551\n"
     ]
    },
    {
     "name": "stdout",
     "output_type": "stream",
     "text": [
      "<Response [200]> 1552\n"
     ]
    },
    {
     "name": "stdout",
     "output_type": "stream",
     "text": [
      "<Response [200]> 1553\n"
     ]
    },
    {
     "name": "stdout",
     "output_type": "stream",
     "text": [
      "<Response [200]> 1554\n"
     ]
    },
    {
     "name": "stdout",
     "output_type": "stream",
     "text": [
      "<Response [200]> 1555\n"
     ]
    },
    {
     "name": "stdout",
     "output_type": "stream",
     "text": [
      "<Response [200]> 1556\n"
     ]
    },
    {
     "name": "stdout",
     "output_type": "stream",
     "text": [
      "<Response [200]> 1557\n"
     ]
    },
    {
     "name": "stdout",
     "output_type": "stream",
     "text": [
      "<Response [200]> 1558\n"
     ]
    },
    {
     "name": "stdout",
     "output_type": "stream",
     "text": [
      "<Response [200]> 1559\n"
     ]
    },
    {
     "name": "stdout",
     "output_type": "stream",
     "text": [
      "<Response [200]> 1560\n"
     ]
    },
    {
     "name": "stdout",
     "output_type": "stream",
     "text": [
      "<Response [200]> 1561\n"
     ]
    },
    {
     "name": "stdout",
     "output_type": "stream",
     "text": [
      "<Response [200]> 1562\n"
     ]
    },
    {
     "name": "stdout",
     "output_type": "stream",
     "text": [
      "<Response [200]> 1563\n"
     ]
    },
    {
     "name": "stdout",
     "output_type": "stream",
     "text": [
      "<Response [200]> 1564\n"
     ]
    },
    {
     "name": "stdout",
     "output_type": "stream",
     "text": [
      "<Response [200]> 1565\n"
     ]
    },
    {
     "name": "stdout",
     "output_type": "stream",
     "text": [
      "<Response [200]> 1566\n"
     ]
    },
    {
     "name": "stdout",
     "output_type": "stream",
     "text": [
      "<Response [200]> 1567\n"
     ]
    },
    {
     "name": "stdout",
     "output_type": "stream",
     "text": [
      "<Response [200]> 1568\n"
     ]
    },
    {
     "name": "stdout",
     "output_type": "stream",
     "text": [
      "<Response [200]> 1569\n"
     ]
    },
    {
     "name": "stdout",
     "output_type": "stream",
     "text": [
      "<Response [200]> 1570\n"
     ]
    },
    {
     "name": "stdout",
     "output_type": "stream",
     "text": [
      "<Response [200]> 1571\n"
     ]
    },
    {
     "name": "stdout",
     "output_type": "stream",
     "text": [
      "<Response [200]> 1572\n"
     ]
    },
    {
     "name": "stdout",
     "output_type": "stream",
     "text": [
      "<Response [200]> 1573\n"
     ]
    },
    {
     "name": "stdout",
     "output_type": "stream",
     "text": [
      "<Response [200]> 1574\n"
     ]
    },
    {
     "name": "stdout",
     "output_type": "stream",
     "text": [
      "<Response [200]> 1575\n"
     ]
    },
    {
     "name": "stdout",
     "output_type": "stream",
     "text": [
      "<Response [200]> 1576\n"
     ]
    },
    {
     "name": "stdout",
     "output_type": "stream",
     "text": [
      "<Response [200]> 1577\n"
     ]
    },
    {
     "name": "stdout",
     "output_type": "stream",
     "text": [
      "<Response [200]> 1578\n"
     ]
    },
    {
     "name": "stdout",
     "output_type": "stream",
     "text": [
      "<Response [200]> 1579\n"
     ]
    },
    {
     "name": "stdout",
     "output_type": "stream",
     "text": [
      "<Response [200]> 1580\n"
     ]
    },
    {
     "name": "stdout",
     "output_type": "stream",
     "text": [
      "<Response [200]> 1581\n"
     ]
    },
    {
     "name": "stdout",
     "output_type": "stream",
     "text": [
      "<Response [200]> 1582\n"
     ]
    },
    {
     "name": "stdout",
     "output_type": "stream",
     "text": [
      "<Response [200]> 1583\n"
     ]
    },
    {
     "name": "stdout",
     "output_type": "stream",
     "text": [
      "<Response [200]> 1584\n"
     ]
    },
    {
     "name": "stdout",
     "output_type": "stream",
     "text": [
      "<Response [200]> 1585\n"
     ]
    },
    {
     "name": "stdout",
     "output_type": "stream",
     "text": [
      "<Response [200]> 1586\n"
     ]
    },
    {
     "name": "stdout",
     "output_type": "stream",
     "text": [
      "<Response [200]> 1587\n"
     ]
    },
    {
     "name": "stdout",
     "output_type": "stream",
     "text": [
      "<Response [200]> 1588\n"
     ]
    },
    {
     "name": "stdout",
     "output_type": "stream",
     "text": [
      "<Response [200]> 1589\n"
     ]
    },
    {
     "name": "stdout",
     "output_type": "stream",
     "text": [
      "<Response [200]> 1590\n"
     ]
    },
    {
     "name": "stdout",
     "output_type": "stream",
     "text": [
      "<Response [200]> 1591\n"
     ]
    },
    {
     "name": "stdout",
     "output_type": "stream",
     "text": [
      "<Response [200]> 1592\n"
     ]
    },
    {
     "name": "stdout",
     "output_type": "stream",
     "text": [
      "<Response [200]> 1593\n"
     ]
    },
    {
     "name": "stdout",
     "output_type": "stream",
     "text": [
      "<Response [200]> 1594\n"
     ]
    },
    {
     "name": "stdout",
     "output_type": "stream",
     "text": [
      "<Response [200]> 1595\n"
     ]
    },
    {
     "name": "stdout",
     "output_type": "stream",
     "text": [
      "<Response [200]> 1596\n"
     ]
    },
    {
     "name": "stdout",
     "output_type": "stream",
     "text": [
      "<Response [200]> 1597\n"
     ]
    },
    {
     "name": "stdout",
     "output_type": "stream",
     "text": [
      "<Response [200]> 1598\n"
     ]
    },
    {
     "name": "stdout",
     "output_type": "stream",
     "text": [
      "<Response [200]> 1599\n"
     ]
    },
    {
     "name": "stdout",
     "output_type": "stream",
     "text": [
      "<Response [200]> 1600\n"
     ]
    },
    {
     "name": "stdout",
     "output_type": "stream",
     "text": [
      "<Response [200]> 1601\n"
     ]
    },
    {
     "name": "stdout",
     "output_type": "stream",
     "text": [
      "<Response [200]> 1602\n"
     ]
    },
    {
     "name": "stdout",
     "output_type": "stream",
     "text": [
      "<Response [200]> 1603\n"
     ]
    },
    {
     "name": "stdout",
     "output_type": "stream",
     "text": [
      "<Response [200]> 1604\n"
     ]
    },
    {
     "name": "stdout",
     "output_type": "stream",
     "text": [
      "<Response [200]> 1605\n"
     ]
    },
    {
     "name": "stdout",
     "output_type": "stream",
     "text": [
      "<Response [200]> 1606\n"
     ]
    },
    {
     "name": "stdout",
     "output_type": "stream",
     "text": [
      "<Response [200]> 1607\n"
     ]
    },
    {
     "name": "stdout",
     "output_type": "stream",
     "text": [
      "<Response [200]> 1608\n"
     ]
    },
    {
     "name": "stdout",
     "output_type": "stream",
     "text": [
      "<Response [200]> 1609\n"
     ]
    },
    {
     "name": "stdout",
     "output_type": "stream",
     "text": [
      "<Response [200]> 1610\n"
     ]
    },
    {
     "name": "stdout",
     "output_type": "stream",
     "text": [
      "<Response [200]> 1611\n"
     ]
    },
    {
     "name": "stdout",
     "output_type": "stream",
     "text": [
      "<Response [200]> 1612\n"
     ]
    },
    {
     "name": "stdout",
     "output_type": "stream",
     "text": [
      "<Response [200]> 1613\n"
     ]
    },
    {
     "name": "stdout",
     "output_type": "stream",
     "text": [
      "<Response [200]> 1614\n"
     ]
    },
    {
     "name": "stdout",
     "output_type": "stream",
     "text": [
      "<Response [200]> 1615\n"
     ]
    },
    {
     "name": "stdout",
     "output_type": "stream",
     "text": [
      "<Response [200]> 1616\n"
     ]
    },
    {
     "name": "stdout",
     "output_type": "stream",
     "text": [
      "<Response [200]> 1617\n"
     ]
    },
    {
     "name": "stdout",
     "output_type": "stream",
     "text": [
      "<Response [200]> 1618\n"
     ]
    },
    {
     "name": "stdout",
     "output_type": "stream",
     "text": [
      "<Response [200]> 1619\n"
     ]
    },
    {
     "name": "stdout",
     "output_type": "stream",
     "text": [
      "<Response [200]> 1620\n"
     ]
    },
    {
     "name": "stdout",
     "output_type": "stream",
     "text": [
      "<Response [200]> 1621\n"
     ]
    },
    {
     "name": "stdout",
     "output_type": "stream",
     "text": [
      "<Response [200]> 1622\n"
     ]
    },
    {
     "name": "stdout",
     "output_type": "stream",
     "text": [
      "<Response [200]> 1623\n"
     ]
    },
    {
     "name": "stdout",
     "output_type": "stream",
     "text": [
      "<Response [200]> 1624\n"
     ]
    },
    {
     "name": "stdout",
     "output_type": "stream",
     "text": [
      "<Response [200]> 1625\n"
     ]
    },
    {
     "name": "stdout",
     "output_type": "stream",
     "text": [
      "<Response [200]> 1626\n"
     ]
    },
    {
     "name": "stdout",
     "output_type": "stream",
     "text": [
      "<Response [200]> 1627\n"
     ]
    },
    {
     "name": "stdout",
     "output_type": "stream",
     "text": [
      "<Response [200]> 1628\n"
     ]
    },
    {
     "name": "stdout",
     "output_type": "stream",
     "text": [
      "<Response [200]> 1629\n"
     ]
    },
    {
     "name": "stdout",
     "output_type": "stream",
     "text": [
      "<Response [200]> 1630\n"
     ]
    },
    {
     "name": "stdout",
     "output_type": "stream",
     "text": [
      "<Response [200]> 1631\n"
     ]
    },
    {
     "name": "stdout",
     "output_type": "stream",
     "text": [
      "<Response [200]> 1632\n"
     ]
    },
    {
     "name": "stdout",
     "output_type": "stream",
     "text": [
      "<Response [200]> 1633\n"
     ]
    },
    {
     "name": "stdout",
     "output_type": "stream",
     "text": [
      "<Response [200]> 1634\n"
     ]
    },
    {
     "name": "stdout",
     "output_type": "stream",
     "text": [
      "<Response [200]> 1635\n"
     ]
    },
    {
     "name": "stdout",
     "output_type": "stream",
     "text": [
      "<Response [200]> 1636\n"
     ]
    },
    {
     "name": "stdout",
     "output_type": "stream",
     "text": [
      "<Response [200]> 1637\n"
     ]
    },
    {
     "name": "stdout",
     "output_type": "stream",
     "text": [
      "<Response [200]> 1638\n"
     ]
    },
    {
     "name": "stdout",
     "output_type": "stream",
     "text": [
      "<Response [200]> 1639\n"
     ]
    },
    {
     "name": "stdout",
     "output_type": "stream",
     "text": [
      "<Response [200]> 1640\n"
     ]
    },
    {
     "name": "stdout",
     "output_type": "stream",
     "text": [
      "<Response [200]> 1641\n"
     ]
    },
    {
     "name": "stdout",
     "output_type": "stream",
     "text": [
      "<Response [200]> 1642\n"
     ]
    },
    {
     "name": "stdout",
     "output_type": "stream",
     "text": [
      "<Response [200]> 1643\n"
     ]
    },
    {
     "name": "stdout",
     "output_type": "stream",
     "text": [
      "<Response [200]> 1644\n"
     ]
    },
    {
     "name": "stdout",
     "output_type": "stream",
     "text": [
      "<Response [200]> 1645\n"
     ]
    },
    {
     "name": "stdout",
     "output_type": "stream",
     "text": [
      "<Response [200]> 1646\n"
     ]
    },
    {
     "name": "stdout",
     "output_type": "stream",
     "text": [
      "<Response [200]> 1647\n"
     ]
    },
    {
     "name": "stdout",
     "output_type": "stream",
     "text": [
      "<Response [200]> 1648\n"
     ]
    },
    {
     "name": "stdout",
     "output_type": "stream",
     "text": [
      "<Response [200]> 1649\n"
     ]
    },
    {
     "name": "stdout",
     "output_type": "stream",
     "text": [
      "<Response [200]> 1650\n"
     ]
    },
    {
     "name": "stdout",
     "output_type": "stream",
     "text": [
      "<Response [200]> 1651\n"
     ]
    },
    {
     "name": "stdout",
     "output_type": "stream",
     "text": [
      "<Response [200]> 1652\n"
     ]
    },
    {
     "name": "stdout",
     "output_type": "stream",
     "text": [
      "<Response [200]> 1653\n"
     ]
    },
    {
     "name": "stdout",
     "output_type": "stream",
     "text": [
      "<Response [200]> 1654\n"
     ]
    },
    {
     "name": "stdout",
     "output_type": "stream",
     "text": [
      "<Response [200]> 1655\n"
     ]
    },
    {
     "name": "stdout",
     "output_type": "stream",
     "text": [
      "<Response [200]> 1656\n"
     ]
    },
    {
     "name": "stdout",
     "output_type": "stream",
     "text": [
      "<Response [200]> 1657\n"
     ]
    },
    {
     "name": "stdout",
     "output_type": "stream",
     "text": [
      "<Response [200]> 1658\n"
     ]
    },
    {
     "name": "stdout",
     "output_type": "stream",
     "text": [
      "<Response [200]> 1659\n"
     ]
    },
    {
     "name": "stdout",
     "output_type": "stream",
     "text": [
      "<Response [200]> 1660\n"
     ]
    },
    {
     "name": "stdout",
     "output_type": "stream",
     "text": [
      "<Response [200]> 1661\n"
     ]
    },
    {
     "name": "stdout",
     "output_type": "stream",
     "text": [
      "<Response [200]> 1662\n"
     ]
    },
    {
     "name": "stdout",
     "output_type": "stream",
     "text": [
      "<Response [200]> 1663\n"
     ]
    },
    {
     "name": "stdout",
     "output_type": "stream",
     "text": [
      "<Response [200]> 1664\n"
     ]
    },
    {
     "name": "stdout",
     "output_type": "stream",
     "text": [
      "<Response [200]> 1665\n"
     ]
    },
    {
     "name": "stdout",
     "output_type": "stream",
     "text": [
      "<Response [200]> 1666\n"
     ]
    },
    {
     "name": "stdout",
     "output_type": "stream",
     "text": [
      "<Response [200]> 1667\n"
     ]
    },
    {
     "name": "stdout",
     "output_type": "stream",
     "text": [
      "<Response [200]> 1668\n"
     ]
    },
    {
     "name": "stdout",
     "output_type": "stream",
     "text": [
      "<Response [200]> 1669\n"
     ]
    },
    {
     "name": "stdout",
     "output_type": "stream",
     "text": [
      "<Response [200]> 1670\n"
     ]
    },
    {
     "name": "stdout",
     "output_type": "stream",
     "text": [
      "<Response [200]> 1671\n"
     ]
    },
    {
     "name": "stdout",
     "output_type": "stream",
     "text": [
      "<Response [200]> 1672\n"
     ]
    },
    {
     "name": "stdout",
     "output_type": "stream",
     "text": [
      "<Response [200]> 1673\n"
     ]
    },
    {
     "name": "stdout",
     "output_type": "stream",
     "text": [
      "<Response [200]> 1674\n"
     ]
    },
    {
     "name": "stdout",
     "output_type": "stream",
     "text": [
      "<Response [200]> 1675\n"
     ]
    },
    {
     "name": "stdout",
     "output_type": "stream",
     "text": [
      "<Response [200]> 1676\n"
     ]
    },
    {
     "name": "stdout",
     "output_type": "stream",
     "text": [
      "<Response [200]> 1677\n"
     ]
    },
    {
     "name": "stdout",
     "output_type": "stream",
     "text": [
      "<Response [200]> 1678\n"
     ]
    },
    {
     "name": "stdout",
     "output_type": "stream",
     "text": [
      "<Response [200]> 1679\n"
     ]
    },
    {
     "name": "stdout",
     "output_type": "stream",
     "text": [
      "<Response [200]> 1680\n"
     ]
    },
    {
     "name": "stdout",
     "output_type": "stream",
     "text": [
      "<Response [200]> 1681\n"
     ]
    },
    {
     "name": "stdout",
     "output_type": "stream",
     "text": [
      "<Response [200]> 1682\n"
     ]
    },
    {
     "name": "stdout",
     "output_type": "stream",
     "text": [
      "<Response [200]> 1683\n"
     ]
    },
    {
     "name": "stdout",
     "output_type": "stream",
     "text": [
      "<Response [200]> 1684\n"
     ]
    },
    {
     "name": "stdout",
     "output_type": "stream",
     "text": [
      "<Response [200]> 1685\n"
     ]
    },
    {
     "name": "stdout",
     "output_type": "stream",
     "text": [
      "<Response [200]> 1686\n"
     ]
    },
    {
     "name": "stdout",
     "output_type": "stream",
     "text": [
      "<Response [200]> 1687\n"
     ]
    },
    {
     "name": "stdout",
     "output_type": "stream",
     "text": [
      "<Response [200]> 1688\n"
     ]
    },
    {
     "name": "stdout",
     "output_type": "stream",
     "text": [
      "<Response [200]> 1689\n"
     ]
    },
    {
     "name": "stdout",
     "output_type": "stream",
     "text": [
      "<Response [200]> 1690\n"
     ]
    },
    {
     "name": "stdout",
     "output_type": "stream",
     "text": [
      "<Response [200]> 1691\n"
     ]
    },
    {
     "name": "stdout",
     "output_type": "stream",
     "text": [
      "<Response [200]> 1692\n"
     ]
    },
    {
     "name": "stdout",
     "output_type": "stream",
     "text": [
      "<Response [200]> 1693\n"
     ]
    },
    {
     "name": "stdout",
     "output_type": "stream",
     "text": [
      "<Response [200]> 1694\n"
     ]
    },
    {
     "name": "stdout",
     "output_type": "stream",
     "text": [
      "<Response [200]> 1695\n"
     ]
    },
    {
     "name": "stdout",
     "output_type": "stream",
     "text": [
      "<Response [200]> 1696\n"
     ]
    },
    {
     "name": "stdout",
     "output_type": "stream",
     "text": [
      "<Response [200]> 1697\n"
     ]
    },
    {
     "name": "stdout",
     "output_type": "stream",
     "text": [
      "<Response [200]> 1698\n"
     ]
    },
    {
     "name": "stdout",
     "output_type": "stream",
     "text": [
      "<Response [200]> 1699\n"
     ]
    },
    {
     "name": "stdout",
     "output_type": "stream",
     "text": [
      "<Response [200]> 1700\n"
     ]
    },
    {
     "name": "stdout",
     "output_type": "stream",
     "text": [
      "<Response [200]> 1701\n"
     ]
    },
    {
     "name": "stdout",
     "output_type": "stream",
     "text": [
      "<Response [200]> 1702\n"
     ]
    },
    {
     "name": "stdout",
     "output_type": "stream",
     "text": [
      "<Response [200]> 1703\n"
     ]
    },
    {
     "name": "stdout",
     "output_type": "stream",
     "text": [
      "<Response [200]> 1704\n"
     ]
    },
    {
     "name": "stdout",
     "output_type": "stream",
     "text": [
      "<Response [200]> 1705\n"
     ]
    },
    {
     "name": "stdout",
     "output_type": "stream",
     "text": [
      "<Response [200]> 1706\n"
     ]
    },
    {
     "name": "stdout",
     "output_type": "stream",
     "text": [
      "<Response [200]> 1707\n"
     ]
    },
    {
     "name": "stdout",
     "output_type": "stream",
     "text": [
      "<Response [200]> 1708\n"
     ]
    },
    {
     "name": "stdout",
     "output_type": "stream",
     "text": [
      "<Response [200]> 1709\n"
     ]
    },
    {
     "name": "stdout",
     "output_type": "stream",
     "text": [
      "<Response [200]> 1710\n"
     ]
    },
    {
     "name": "stdout",
     "output_type": "stream",
     "text": [
      "<Response [200]> 1711\n"
     ]
    },
    {
     "name": "stdout",
     "output_type": "stream",
     "text": [
      "<Response [200]> 1712\n"
     ]
    },
    {
     "name": "stdout",
     "output_type": "stream",
     "text": [
      "<Response [200]> 1713\n"
     ]
    },
    {
     "name": "stdout",
     "output_type": "stream",
     "text": [
      "<Response [200]> 1714\n"
     ]
    },
    {
     "name": "stdout",
     "output_type": "stream",
     "text": [
      "<Response [200]> 1715\n"
     ]
    },
    {
     "name": "stdout",
     "output_type": "stream",
     "text": [
      "<Response [200]> 1716\n"
     ]
    },
    {
     "name": "stdout",
     "output_type": "stream",
     "text": [
      "<Response [200]> 1717\n"
     ]
    },
    {
     "name": "stdout",
     "output_type": "stream",
     "text": [
      "<Response [200]> 1718\n"
     ]
    },
    {
     "name": "stdout",
     "output_type": "stream",
     "text": [
      "<Response [200]> 1719\n"
     ]
    },
    {
     "name": "stdout",
     "output_type": "stream",
     "text": [
      "<Response [200]> 1720\n"
     ]
    },
    {
     "name": "stdout",
     "output_type": "stream",
     "text": [
      "<Response [200]> 1721\n"
     ]
    },
    {
     "name": "stdout",
     "output_type": "stream",
     "text": [
      "<Response [200]> 1722\n"
     ]
    },
    {
     "name": "stdout",
     "output_type": "stream",
     "text": [
      "<Response [200]> 1723\n"
     ]
    },
    {
     "name": "stdout",
     "output_type": "stream",
     "text": [
      "<Response [200]> 1724\n"
     ]
    },
    {
     "name": "stdout",
     "output_type": "stream",
     "text": [
      "<Response [200]> 1725\n"
     ]
    },
    {
     "name": "stdout",
     "output_type": "stream",
     "text": [
      "<Response [200]> 1726\n"
     ]
    },
    {
     "name": "stdout",
     "output_type": "stream",
     "text": [
      "<Response [200]> 1727\n"
     ]
    },
    {
     "name": "stdout",
     "output_type": "stream",
     "text": [
      "<Response [200]> 1728\n"
     ]
    },
    {
     "name": "stdout",
     "output_type": "stream",
     "text": [
      "<Response [200]> 1729\n"
     ]
    },
    {
     "name": "stdout",
     "output_type": "stream",
     "text": [
      "<Response [200]> 1730\n"
     ]
    },
    {
     "name": "stdout",
     "output_type": "stream",
     "text": [
      "<Response [200]> 1731\n"
     ]
    },
    {
     "name": "stdout",
     "output_type": "stream",
     "text": [
      "<Response [200]> 1732\n"
     ]
    },
    {
     "name": "stdout",
     "output_type": "stream",
     "text": [
      "<Response [200]> 1733\n"
     ]
    },
    {
     "name": "stdout",
     "output_type": "stream",
     "text": [
      "<Response [200]> 1734\n"
     ]
    },
    {
     "name": "stdout",
     "output_type": "stream",
     "text": [
      "<Response [200]> 1735\n"
     ]
    },
    {
     "name": "stdout",
     "output_type": "stream",
     "text": [
      "<Response [200]> 1736\n"
     ]
    },
    {
     "name": "stdout",
     "output_type": "stream",
     "text": [
      "<Response [200]> 1737\n"
     ]
    },
    {
     "name": "stdout",
     "output_type": "stream",
     "text": [
      "<Response [200]> 1738\n"
     ]
    },
    {
     "name": "stdout",
     "output_type": "stream",
     "text": [
      "<Response [200]> 1739\n"
     ]
    },
    {
     "name": "stdout",
     "output_type": "stream",
     "text": [
      "<Response [200]> 1740\n"
     ]
    },
    {
     "name": "stdout",
     "output_type": "stream",
     "text": [
      "<Response [200]> 1741\n"
     ]
    },
    {
     "name": "stdout",
     "output_type": "stream",
     "text": [
      "<Response [200]> 1742\n"
     ]
    },
    {
     "name": "stdout",
     "output_type": "stream",
     "text": [
      "<Response [200]> 1743\n"
     ]
    },
    {
     "name": "stdout",
     "output_type": "stream",
     "text": [
      "<Response [200]> 1744\n"
     ]
    },
    {
     "name": "stdout",
     "output_type": "stream",
     "text": [
      "<Response [200]> 1745\n"
     ]
    },
    {
     "name": "stdout",
     "output_type": "stream",
     "text": [
      "<Response [200]> 1746\n"
     ]
    },
    {
     "name": "stdout",
     "output_type": "stream",
     "text": [
      "<Response [200]> 1747\n"
     ]
    },
    {
     "name": "stdout",
     "output_type": "stream",
     "text": [
      "<Response [200]> 1748\n"
     ]
    },
    {
     "name": "stdout",
     "output_type": "stream",
     "text": [
      "<Response [200]> 1749\n"
     ]
    },
    {
     "name": "stdout",
     "output_type": "stream",
     "text": [
      "<Response [200]> 1750\n"
     ]
    },
    {
     "name": "stdout",
     "output_type": "stream",
     "text": [
      "<Response [200]> 1751\n"
     ]
    },
    {
     "name": "stdout",
     "output_type": "stream",
     "text": [
      "<Response [200]> 1752\n"
     ]
    },
    {
     "name": "stdout",
     "output_type": "stream",
     "text": [
      "<Response [200]> 1753\n"
     ]
    },
    {
     "name": "stdout",
     "output_type": "stream",
     "text": [
      "<Response [200]> 1754\n"
     ]
    },
    {
     "name": "stdout",
     "output_type": "stream",
     "text": [
      "<Response [200]> 1755\n"
     ]
    },
    {
     "name": "stdout",
     "output_type": "stream",
     "text": [
      "<Response [200]> 1756\n"
     ]
    },
    {
     "name": "stdout",
     "output_type": "stream",
     "text": [
      "<Response [200]> 1757\n"
     ]
    },
    {
     "name": "stdout",
     "output_type": "stream",
     "text": [
      "<Response [200]> 1758\n"
     ]
    },
    {
     "name": "stdout",
     "output_type": "stream",
     "text": [
      "<Response [200]> 1759\n"
     ]
    },
    {
     "name": "stdout",
     "output_type": "stream",
     "text": [
      "<Response [200]> 1760\n"
     ]
    },
    {
     "name": "stdout",
     "output_type": "stream",
     "text": [
      "<Response [200]> 1761\n"
     ]
    },
    {
     "name": "stdout",
     "output_type": "stream",
     "text": [
      "<Response [200]> 1762\n"
     ]
    },
    {
     "name": "stdout",
     "output_type": "stream",
     "text": [
      "<Response [200]> 1763\n"
     ]
    },
    {
     "name": "stdout",
     "output_type": "stream",
     "text": [
      "<Response [200]> 1764\n"
     ]
    },
    {
     "name": "stdout",
     "output_type": "stream",
     "text": [
      "<Response [200]> 1765\n"
     ]
    },
    {
     "name": "stdout",
     "output_type": "stream",
     "text": [
      "<Response [200]> 1766\n"
     ]
    },
    {
     "name": "stdout",
     "output_type": "stream",
     "text": [
      "<Response [200]> 1767\n"
     ]
    },
    {
     "name": "stdout",
     "output_type": "stream",
     "text": [
      "<Response [200]> 1768\n"
     ]
    },
    {
     "name": "stdout",
     "output_type": "stream",
     "text": [
      "<Response [200]> 1769\n"
     ]
    },
    {
     "name": "stdout",
     "output_type": "stream",
     "text": [
      "<Response [200]> 1770\n"
     ]
    },
    {
     "name": "stdout",
     "output_type": "stream",
     "text": [
      "<Response [200]> 1771\n"
     ]
    },
    {
     "name": "stdout",
     "output_type": "stream",
     "text": [
      "<Response [200]> 1772\n"
     ]
    },
    {
     "name": "stdout",
     "output_type": "stream",
     "text": [
      "<Response [200]> 1773\n"
     ]
    },
    {
     "name": "stdout",
     "output_type": "stream",
     "text": [
      "<Response [200]> 1774\n"
     ]
    },
    {
     "name": "stdout",
     "output_type": "stream",
     "text": [
      "<Response [200]> 1775\n"
     ]
    },
    {
     "name": "stdout",
     "output_type": "stream",
     "text": [
      "<Response [200]> 1776\n"
     ]
    },
    {
     "name": "stdout",
     "output_type": "stream",
     "text": [
      "<Response [200]> 1777\n"
     ]
    },
    {
     "name": "stdout",
     "output_type": "stream",
     "text": [
      "<Response [200]> 1778\n"
     ]
    },
    {
     "name": "stdout",
     "output_type": "stream",
     "text": [
      "<Response [200]> 1779\n"
     ]
    },
    {
     "name": "stdout",
     "output_type": "stream",
     "text": [
      "<Response [200]> 1780\n"
     ]
    },
    {
     "name": "stdout",
     "output_type": "stream",
     "text": [
      "<Response [200]> 1781\n"
     ]
    },
    {
     "name": "stdout",
     "output_type": "stream",
     "text": [
      "<Response [200]> 1782\n"
     ]
    },
    {
     "name": "stdout",
     "output_type": "stream",
     "text": [
      "<Response [200]> 1783\n"
     ]
    },
    {
     "name": "stdout",
     "output_type": "stream",
     "text": [
      "<Response [200]> 1784\n"
     ]
    },
    {
     "name": "stdout",
     "output_type": "stream",
     "text": [
      "<Response [200]> 1785\n"
     ]
    },
    {
     "name": "stdout",
     "output_type": "stream",
     "text": [
      "<Response [200]> 1786\n"
     ]
    },
    {
     "name": "stdout",
     "output_type": "stream",
     "text": [
      "<Response [200]> 1787\n"
     ]
    },
    {
     "name": "stdout",
     "output_type": "stream",
     "text": [
      "<Response [200]> 1788\n"
     ]
    },
    {
     "name": "stdout",
     "output_type": "stream",
     "text": [
      "<Response [200]> 1789\n"
     ]
    },
    {
     "name": "stdout",
     "output_type": "stream",
     "text": [
      "<Response [200]> 1790\n"
     ]
    },
    {
     "name": "stdout",
     "output_type": "stream",
     "text": [
      "<Response [200]> 1791\n"
     ]
    },
    {
     "name": "stdout",
     "output_type": "stream",
     "text": [
      "<Response [200]> 1792\n"
     ]
    },
    {
     "name": "stdout",
     "output_type": "stream",
     "text": [
      "<Response [200]> 1793\n"
     ]
    },
    {
     "name": "stdout",
     "output_type": "stream",
     "text": [
      "<Response [200]> 1794\n"
     ]
    },
    {
     "name": "stdout",
     "output_type": "stream",
     "text": [
      "<Response [200]> 1795\n"
     ]
    },
    {
     "name": "stdout",
     "output_type": "stream",
     "text": [
      "<Response [200]> 1796\n"
     ]
    },
    {
     "name": "stdout",
     "output_type": "stream",
     "text": [
      "<Response [200]> 1797\n"
     ]
    },
    {
     "name": "stdout",
     "output_type": "stream",
     "text": [
      "<Response [200]> 1798\n"
     ]
    },
    {
     "name": "stdout",
     "output_type": "stream",
     "text": [
      "<Response [200]> 1799\n"
     ]
    },
    {
     "name": "stdout",
     "output_type": "stream",
     "text": [
      "<Response [200]> 1800\n"
     ]
    },
    {
     "name": "stdout",
     "output_type": "stream",
     "text": [
      "<Response [200]> 1801\n"
     ]
    },
    {
     "name": "stdout",
     "output_type": "stream",
     "text": [
      "<Response [200]> 1802\n"
     ]
    },
    {
     "name": "stdout",
     "output_type": "stream",
     "text": [
      "<Response [200]> 1803\n"
     ]
    },
    {
     "name": "stdout",
     "output_type": "stream",
     "text": [
      "<Response [200]> 1804\n"
     ]
    },
    {
     "name": "stdout",
     "output_type": "stream",
     "text": [
      "<Response [200]> 1805\n"
     ]
    },
    {
     "name": "stdout",
     "output_type": "stream",
     "text": [
      "<Response [200]> 1806\n"
     ]
    },
    {
     "name": "stdout",
     "output_type": "stream",
     "text": [
      "<Response [200]> 1807\n"
     ]
    },
    {
     "name": "stdout",
     "output_type": "stream",
     "text": [
      "<Response [200]> 1808\n"
     ]
    },
    {
     "name": "stdout",
     "output_type": "stream",
     "text": [
      "<Response [200]> 1809\n"
     ]
    },
    {
     "name": "stdout",
     "output_type": "stream",
     "text": [
      "<Response [200]> 1810\n"
     ]
    },
    {
     "name": "stdout",
     "output_type": "stream",
     "text": [
      "<Response [200]> 1811\n"
     ]
    },
    {
     "name": "stdout",
     "output_type": "stream",
     "text": [
      "<Response [200]> 1812\n"
     ]
    },
    {
     "name": "stdout",
     "output_type": "stream",
     "text": [
      "<Response [200]> 1813\n"
     ]
    },
    {
     "name": "stdout",
     "output_type": "stream",
     "text": [
      "<Response [200]> 1814\n"
     ]
    },
    {
     "name": "stdout",
     "output_type": "stream",
     "text": [
      "<Response [200]> 1815\n"
     ]
    },
    {
     "name": "stdout",
     "output_type": "stream",
     "text": [
      "<Response [200]> 1816\n"
     ]
    },
    {
     "name": "stdout",
     "output_type": "stream",
     "text": [
      "<Response [200]> 1817\n"
     ]
    },
    {
     "name": "stdout",
     "output_type": "stream",
     "text": [
      "<Response [200]> 1818\n"
     ]
    },
    {
     "name": "stdout",
     "output_type": "stream",
     "text": [
      "<Response [200]> 1819\n"
     ]
    },
    {
     "name": "stdout",
     "output_type": "stream",
     "text": [
      "<Response [200]> 1820\n"
     ]
    },
    {
     "name": "stdout",
     "output_type": "stream",
     "text": [
      "<Response [200]> 1821\n"
     ]
    },
    {
     "name": "stdout",
     "output_type": "stream",
     "text": [
      "<Response [200]> 1822\n"
     ]
    },
    {
     "name": "stdout",
     "output_type": "stream",
     "text": [
      "<Response [200]> 1823\n"
     ]
    },
    {
     "name": "stdout",
     "output_type": "stream",
     "text": [
      "<Response [200]> 1824\n"
     ]
    },
    {
     "name": "stdout",
     "output_type": "stream",
     "text": [
      "<Response [200]> 1825\n"
     ]
    },
    {
     "name": "stdout",
     "output_type": "stream",
     "text": [
      "<Response [200]> 1826\n"
     ]
    },
    {
     "name": "stdout",
     "output_type": "stream",
     "text": [
      "<Response [200]> 1827\n"
     ]
    },
    {
     "name": "stdout",
     "output_type": "stream",
     "text": [
      "<Response [200]> 1828\n"
     ]
    },
    {
     "name": "stdout",
     "output_type": "stream",
     "text": [
      "<Response [200]> 1829\n"
     ]
    },
    {
     "name": "stdout",
     "output_type": "stream",
     "text": [
      "<Response [200]> 1830\n"
     ]
    },
    {
     "name": "stdout",
     "output_type": "stream",
     "text": [
      "<Response [200]> 1831\n"
     ]
    },
    {
     "name": "stdout",
     "output_type": "stream",
     "text": [
      "<Response [200]> 1832\n"
     ]
    },
    {
     "name": "stdout",
     "output_type": "stream",
     "text": [
      "<Response [200]> 1833\n"
     ]
    },
    {
     "name": "stdout",
     "output_type": "stream",
     "text": [
      "<Response [200]> 1834\n"
     ]
    },
    {
     "name": "stdout",
     "output_type": "stream",
     "text": [
      "<Response [200]> 1835\n"
     ]
    },
    {
     "name": "stdout",
     "output_type": "stream",
     "text": [
      "<Response [200]> 1836\n"
     ]
    },
    {
     "name": "stdout",
     "output_type": "stream",
     "text": [
      "<Response [200]> 1837\n"
     ]
    },
    {
     "name": "stdout",
     "output_type": "stream",
     "text": [
      "<Response [200]> 1838\n"
     ]
    },
    {
     "name": "stdout",
     "output_type": "stream",
     "text": [
      "<Response [200]> 1839\n"
     ]
    },
    {
     "name": "stdout",
     "output_type": "stream",
     "text": [
      "<Response [200]> 1840\n"
     ]
    },
    {
     "name": "stdout",
     "output_type": "stream",
     "text": [
      "<Response [200]> 1841\n"
     ]
    },
    {
     "name": "stdout",
     "output_type": "stream",
     "text": [
      "<Response [200]> 1842\n"
     ]
    },
    {
     "name": "stdout",
     "output_type": "stream",
     "text": [
      "<Response [200]> 1843\n"
     ]
    },
    {
     "name": "stdout",
     "output_type": "stream",
     "text": [
      "<Response [200]> 1844\n"
     ]
    },
    {
     "name": "stdout",
     "output_type": "stream",
     "text": [
      "<Response [200]> 1845\n"
     ]
    },
    {
     "name": "stdout",
     "output_type": "stream",
     "text": [
      "<Response [200]> 1846\n"
     ]
    },
    {
     "name": "stdout",
     "output_type": "stream",
     "text": [
      "<Response [200]> 1847\n"
     ]
    },
    {
     "name": "stdout",
     "output_type": "stream",
     "text": [
      "<Response [200]> 1848\n"
     ]
    },
    {
     "name": "stdout",
     "output_type": "stream",
     "text": [
      "<Response [200]> 1849\n"
     ]
    },
    {
     "name": "stdout",
     "output_type": "stream",
     "text": [
      "<Response [200]> 1850\n"
     ]
    },
    {
     "name": "stdout",
     "output_type": "stream",
     "text": [
      "<Response [200]> 1851\n"
     ]
    },
    {
     "name": "stdout",
     "output_type": "stream",
     "text": [
      "<Response [200]> 1852\n"
     ]
    },
    {
     "name": "stdout",
     "output_type": "stream",
     "text": [
      "<Response [200]> 1853\n"
     ]
    },
    {
     "name": "stdout",
     "output_type": "stream",
     "text": [
      "<Response [200]> 1854\n"
     ]
    },
    {
     "name": "stdout",
     "output_type": "stream",
     "text": [
      "<Response [200]> 1855\n"
     ]
    },
    {
     "name": "stdout",
     "output_type": "stream",
     "text": [
      "<Response [200]> 1856\n"
     ]
    },
    {
     "name": "stdout",
     "output_type": "stream",
     "text": [
      "<Response [200]> 1857\n"
     ]
    },
    {
     "name": "stdout",
     "output_type": "stream",
     "text": [
      "<Response [200]> 1858\n"
     ]
    },
    {
     "name": "stdout",
     "output_type": "stream",
     "text": [
      "<Response [200]> 1859\n"
     ]
    },
    {
     "name": "stdout",
     "output_type": "stream",
     "text": [
      "<Response [200]> 1860\n"
     ]
    },
    {
     "name": "stdout",
     "output_type": "stream",
     "text": [
      "<Response [200]> 1861\n"
     ]
    },
    {
     "name": "stdout",
     "output_type": "stream",
     "text": [
      "<Response [200]> 1862\n"
     ]
    },
    {
     "name": "stdout",
     "output_type": "stream",
     "text": [
      "<Response [200]> 1863\n"
     ]
    },
    {
     "name": "stdout",
     "output_type": "stream",
     "text": [
      "<Response [200]> 1864\n"
     ]
    },
    {
     "name": "stdout",
     "output_type": "stream",
     "text": [
      "<Response [200]> 1865\n"
     ]
    },
    {
     "name": "stdout",
     "output_type": "stream",
     "text": [
      "<Response [200]> 1866\n"
     ]
    },
    {
     "name": "stdout",
     "output_type": "stream",
     "text": [
      "<Response [200]> 1867\n"
     ]
    },
    {
     "name": "stdout",
     "output_type": "stream",
     "text": [
      "<Response [200]> 1868\n"
     ]
    },
    {
     "name": "stdout",
     "output_type": "stream",
     "text": [
      "<Response [200]> 1869\n"
     ]
    },
    {
     "name": "stdout",
     "output_type": "stream",
     "text": [
      "<Response [200]> 1870\n"
     ]
    },
    {
     "name": "stdout",
     "output_type": "stream",
     "text": [
      "<Response [200]> 1871\n"
     ]
    },
    {
     "name": "stdout",
     "output_type": "stream",
     "text": [
      "<Response [200]> 1872\n"
     ]
    },
    {
     "name": "stdout",
     "output_type": "stream",
     "text": [
      "<Response [200]> 1873\n"
     ]
    },
    {
     "name": "stdout",
     "output_type": "stream",
     "text": [
      "<Response [200]> 1874\n"
     ]
    },
    {
     "name": "stdout",
     "output_type": "stream",
     "text": [
      "<Response [200]> 1875\n"
     ]
    },
    {
     "name": "stdout",
     "output_type": "stream",
     "text": [
      "<Response [200]> 1876\n"
     ]
    },
    {
     "name": "stdout",
     "output_type": "stream",
     "text": [
      "<Response [200]> 1877\n"
     ]
    },
    {
     "name": "stdout",
     "output_type": "stream",
     "text": [
      "<Response [200]> 1878\n"
     ]
    },
    {
     "name": "stdout",
     "output_type": "stream",
     "text": [
      "<Response [200]> 1879\n"
     ]
    },
    {
     "name": "stdout",
     "output_type": "stream",
     "text": [
      "<Response [200]> 1880\n"
     ]
    },
    {
     "name": "stdout",
     "output_type": "stream",
     "text": [
      "<Response [200]> 1881\n"
     ]
    },
    {
     "name": "stdout",
     "output_type": "stream",
     "text": [
      "<Response [200]> 1882\n"
     ]
    },
    {
     "name": "stdout",
     "output_type": "stream",
     "text": [
      "<Response [200]> 1883\n"
     ]
    },
    {
     "name": "stdout",
     "output_type": "stream",
     "text": [
      "<Response [200]> 1884\n"
     ]
    },
    {
     "name": "stdout",
     "output_type": "stream",
     "text": [
      "<Response [200]> 1885\n"
     ]
    },
    {
     "name": "stdout",
     "output_type": "stream",
     "text": [
      "<Response [200]> 1886\n"
     ]
    },
    {
     "name": "stdout",
     "output_type": "stream",
     "text": [
      "<Response [200]> 1887\n"
     ]
    },
    {
     "name": "stdout",
     "output_type": "stream",
     "text": [
      "<Response [200]> 1888\n"
     ]
    },
    {
     "name": "stdout",
     "output_type": "stream",
     "text": [
      "<Response [200]> 1889\n"
     ]
    },
    {
     "name": "stdout",
     "output_type": "stream",
     "text": [
      "<Response [200]> 1890\n"
     ]
    },
    {
     "name": "stdout",
     "output_type": "stream",
     "text": [
      "<Response [200]> 1891\n"
     ]
    },
    {
     "name": "stdout",
     "output_type": "stream",
     "text": [
      "<Response [200]> 1892\n"
     ]
    },
    {
     "name": "stdout",
     "output_type": "stream",
     "text": [
      "<Response [200]> 1893\n"
     ]
    },
    {
     "name": "stdout",
     "output_type": "stream",
     "text": [
      "<Response [200]> 1894\n"
     ]
    },
    {
     "name": "stdout",
     "output_type": "stream",
     "text": [
      "<Response [200]> 1895\n"
     ]
    },
    {
     "name": "stdout",
     "output_type": "stream",
     "text": [
      "<Response [200]> 1896\n"
     ]
    },
    {
     "name": "stdout",
     "output_type": "stream",
     "text": [
      "<Response [200]> 1897\n"
     ]
    },
    {
     "name": "stdout",
     "output_type": "stream",
     "text": [
      "<Response [200]> 1898\n"
     ]
    },
    {
     "name": "stdout",
     "output_type": "stream",
     "text": [
      "<Response [200]> 1899\n"
     ]
    },
    {
     "name": "stdout",
     "output_type": "stream",
     "text": [
      "<Response [200]> 1900\n"
     ]
    },
    {
     "name": "stdout",
     "output_type": "stream",
     "text": [
      "<Response [200]> 1901\n"
     ]
    },
    {
     "name": "stdout",
     "output_type": "stream",
     "text": [
      "<Response [200]> 1902\n"
     ]
    },
    {
     "name": "stdout",
     "output_type": "stream",
     "text": [
      "<Response [200]> 1903\n"
     ]
    },
    {
     "name": "stdout",
     "output_type": "stream",
     "text": [
      "<Response [200]> 1904\n"
     ]
    },
    {
     "name": "stdout",
     "output_type": "stream",
     "text": [
      "<Response [200]> 1905\n"
     ]
    },
    {
     "name": "stdout",
     "output_type": "stream",
     "text": [
      "<Response [200]> 1906\n"
     ]
    },
    {
     "name": "stdout",
     "output_type": "stream",
     "text": [
      "<Response [200]> 1907\n"
     ]
    },
    {
     "name": "stdout",
     "output_type": "stream",
     "text": [
      "<Response [200]> 1908\n"
     ]
    },
    {
     "name": "stdout",
     "output_type": "stream",
     "text": [
      "<Response [200]> 1909\n"
     ]
    },
    {
     "name": "stdout",
     "output_type": "stream",
     "text": [
      "<Response [200]> 1910\n"
     ]
    },
    {
     "name": "stdout",
     "output_type": "stream",
     "text": [
      "<Response [200]> 1911\n"
     ]
    },
    {
     "name": "stdout",
     "output_type": "stream",
     "text": [
      "<Response [200]> 1912\n"
     ]
    },
    {
     "name": "stdout",
     "output_type": "stream",
     "text": [
      "<Response [200]> 1913\n"
     ]
    },
    {
     "name": "stdout",
     "output_type": "stream",
     "text": [
      "<Response [200]> 1914\n"
     ]
    },
    {
     "name": "stdout",
     "output_type": "stream",
     "text": [
      "<Response [200]> 1915\n"
     ]
    },
    {
     "name": "stdout",
     "output_type": "stream",
     "text": [
      "<Response [200]> 1916\n"
     ]
    },
    {
     "name": "stdout",
     "output_type": "stream",
     "text": [
      "<Response [200]> 1917\n"
     ]
    },
    {
     "name": "stdout",
     "output_type": "stream",
     "text": [
      "<Response [200]> 1918\n"
     ]
    },
    {
     "name": "stdout",
     "output_type": "stream",
     "text": [
      "<Response [200]> 1919\n"
     ]
    },
    {
     "name": "stdout",
     "output_type": "stream",
     "text": [
      "<Response [200]> 1920\n"
     ]
    },
    {
     "name": "stdout",
     "output_type": "stream",
     "text": [
      "<Response [200]> 1921\n"
     ]
    },
    {
     "name": "stdout",
     "output_type": "stream",
     "text": [
      "<Response [200]> 1922\n"
     ]
    },
    {
     "name": "stdout",
     "output_type": "stream",
     "text": [
      "<Response [200]> 1923\n"
     ]
    },
    {
     "name": "stdout",
     "output_type": "stream",
     "text": [
      "<Response [200]> 1924\n"
     ]
    },
    {
     "name": "stdout",
     "output_type": "stream",
     "text": [
      "<Response [200]> 1925\n"
     ]
    },
    {
     "name": "stdout",
     "output_type": "stream",
     "text": [
      "<Response [200]> 1926\n"
     ]
    },
    {
     "name": "stdout",
     "output_type": "stream",
     "text": [
      "<Response [200]> 1927\n"
     ]
    },
    {
     "name": "stdout",
     "output_type": "stream",
     "text": [
      "<Response [200]> 1928\n"
     ]
    },
    {
     "name": "stdout",
     "output_type": "stream",
     "text": [
      "<Response [200]> 1929\n"
     ]
    },
    {
     "name": "stdout",
     "output_type": "stream",
     "text": [
      "<Response [200]> 1930\n"
     ]
    },
    {
     "name": "stdout",
     "output_type": "stream",
     "text": [
      "<Response [200]> 1931\n"
     ]
    },
    {
     "name": "stdout",
     "output_type": "stream",
     "text": [
      "<Response [200]> 1932\n"
     ]
    },
    {
     "name": "stdout",
     "output_type": "stream",
     "text": [
      "<Response [200]> 1933\n"
     ]
    },
    {
     "name": "stdout",
     "output_type": "stream",
     "text": [
      "<Response [200]> 1934\n"
     ]
    },
    {
     "name": "stdout",
     "output_type": "stream",
     "text": [
      "<Response [200]> 1935\n"
     ]
    },
    {
     "name": "stdout",
     "output_type": "stream",
     "text": [
      "<Response [200]> 1936\n"
     ]
    },
    {
     "name": "stdout",
     "output_type": "stream",
     "text": [
      "<Response [200]> 1937\n"
     ]
    },
    {
     "name": "stdout",
     "output_type": "stream",
     "text": [
      "<Response [200]> 1938\n"
     ]
    },
    {
     "name": "stdout",
     "output_type": "stream",
     "text": [
      "<Response [200]> 1939\n"
     ]
    },
    {
     "name": "stdout",
     "output_type": "stream",
     "text": [
      "<Response [200]> 1940\n"
     ]
    },
    {
     "name": "stdout",
     "output_type": "stream",
     "text": [
      "<Response [200]> 1941\n"
     ]
    },
    {
     "name": "stdout",
     "output_type": "stream",
     "text": [
      "<Response [200]> 1942\n"
     ]
    },
    {
     "name": "stdout",
     "output_type": "stream",
     "text": [
      "<Response [200]> 1943\n"
     ]
    },
    {
     "name": "stdout",
     "output_type": "stream",
     "text": [
      "<Response [200]> 1944\n"
     ]
    },
    {
     "name": "stdout",
     "output_type": "stream",
     "text": [
      "<Response [200]> 1945\n"
     ]
    },
    {
     "name": "stdout",
     "output_type": "stream",
     "text": [
      "<Response [200]> 1946\n"
     ]
    },
    {
     "name": "stdout",
     "output_type": "stream",
     "text": [
      "<Response [200]> 1947\n"
     ]
    },
    {
     "name": "stdout",
     "output_type": "stream",
     "text": [
      "<Response [200]> 1948\n"
     ]
    },
    {
     "name": "stdout",
     "output_type": "stream",
     "text": [
      "<Response [200]> 1949\n"
     ]
    },
    {
     "name": "stdout",
     "output_type": "stream",
     "text": [
      "<Response [200]> 1950\n"
     ]
    },
    {
     "name": "stdout",
     "output_type": "stream",
     "text": [
      "<Response [200]> 1951\n"
     ]
    },
    {
     "name": "stdout",
     "output_type": "stream",
     "text": [
      "<Response [200]> 1952\n"
     ]
    },
    {
     "name": "stdout",
     "output_type": "stream",
     "text": [
      "<Response [200]> 1953\n"
     ]
    },
    {
     "name": "stdout",
     "output_type": "stream",
     "text": [
      "<Response [200]> 1954\n"
     ]
    },
    {
     "name": "stdout",
     "output_type": "stream",
     "text": [
      "<Response [200]> 1955\n"
     ]
    },
    {
     "name": "stdout",
     "output_type": "stream",
     "text": [
      "<Response [200]> 1956\n"
     ]
    },
    {
     "name": "stdout",
     "output_type": "stream",
     "text": [
      "<Response [200]> 1957\n"
     ]
    },
    {
     "name": "stdout",
     "output_type": "stream",
     "text": [
      "<Response [200]> 1958\n"
     ]
    },
    {
     "name": "stdout",
     "output_type": "stream",
     "text": [
      "<Response [200]> 1959\n"
     ]
    },
    {
     "name": "stdout",
     "output_type": "stream",
     "text": [
      "<Response [200]> 1960\n"
     ]
    },
    {
     "name": "stdout",
     "output_type": "stream",
     "text": [
      "<Response [200]> 1961\n"
     ]
    },
    {
     "name": "stdout",
     "output_type": "stream",
     "text": [
      "<Response [200]> 1962\n"
     ]
    },
    {
     "name": "stdout",
     "output_type": "stream",
     "text": [
      "<Response [200]> 1963\n"
     ]
    },
    {
     "name": "stdout",
     "output_type": "stream",
     "text": [
      "<Response [200]> 1964\n"
     ]
    },
    {
     "name": "stdout",
     "output_type": "stream",
     "text": [
      "<Response [200]> 1965\n"
     ]
    },
    {
     "name": "stdout",
     "output_type": "stream",
     "text": [
      "<Response [200]> 1966\n"
     ]
    },
    {
     "name": "stdout",
     "output_type": "stream",
     "text": [
      "<Response [200]> 1967\n"
     ]
    },
    {
     "name": "stdout",
     "output_type": "stream",
     "text": [
      "<Response [200]> 1968\n"
     ]
    },
    {
     "name": "stdout",
     "output_type": "stream",
     "text": [
      "<Response [200]> 1969\n"
     ]
    },
    {
     "name": "stdout",
     "output_type": "stream",
     "text": [
      "<Response [200]> 1970\n"
     ]
    },
    {
     "name": "stdout",
     "output_type": "stream",
     "text": [
      "<Response [200]> 1971\n"
     ]
    },
    {
     "name": "stdout",
     "output_type": "stream",
     "text": [
      "<Response [200]> 1972\n"
     ]
    },
    {
     "name": "stdout",
     "output_type": "stream",
     "text": [
      "<Response [200]> 1973\n"
     ]
    },
    {
     "name": "stdout",
     "output_type": "stream",
     "text": [
      "<Response [200]> 1974\n"
     ]
    },
    {
     "name": "stdout",
     "output_type": "stream",
     "text": [
      "<Response [200]> 1975\n"
     ]
    },
    {
     "name": "stdout",
     "output_type": "stream",
     "text": [
      "<Response [200]> 1976\n"
     ]
    },
    {
     "name": "stdout",
     "output_type": "stream",
     "text": [
      "<Response [200]> 1977\n"
     ]
    },
    {
     "name": "stdout",
     "output_type": "stream",
     "text": [
      "<Response [200]> 1978\n"
     ]
    },
    {
     "name": "stdout",
     "output_type": "stream",
     "text": [
      "<Response [200]> 1979\n"
     ]
    },
    {
     "name": "stdout",
     "output_type": "stream",
     "text": [
      "<Response [200]> 1980\n"
     ]
    },
    {
     "name": "stdout",
     "output_type": "stream",
     "text": [
      "<Response [200]> 1981\n"
     ]
    },
    {
     "name": "stdout",
     "output_type": "stream",
     "text": [
      "<Response [200]> 1982\n"
     ]
    },
    {
     "name": "stdout",
     "output_type": "stream",
     "text": [
      "<Response [200]> 1983\n"
     ]
    },
    {
     "name": "stdout",
     "output_type": "stream",
     "text": [
      "<Response [200]> 1984\n"
     ]
    },
    {
     "name": "stdout",
     "output_type": "stream",
     "text": [
      "<Response [200]> 1985\n"
     ]
    },
    {
     "name": "stdout",
     "output_type": "stream",
     "text": [
      "<Response [200]> 1986\n"
     ]
    },
    {
     "name": "stdout",
     "output_type": "stream",
     "text": [
      "<Response [200]> 1987\n"
     ]
    },
    {
     "name": "stdout",
     "output_type": "stream",
     "text": [
      "<Response [200]> 1988\n"
     ]
    },
    {
     "name": "stdout",
     "output_type": "stream",
     "text": [
      "<Response [200]> 1989\n"
     ]
    },
    {
     "name": "stdout",
     "output_type": "stream",
     "text": [
      "<Response [200]> 1990\n"
     ]
    },
    {
     "name": "stdout",
     "output_type": "stream",
     "text": [
      "<Response [200]> 1991\n"
     ]
    },
    {
     "name": "stdout",
     "output_type": "stream",
     "text": [
      "<Response [200]> 1992\n"
     ]
    },
    {
     "name": "stdout",
     "output_type": "stream",
     "text": [
      "<Response [200]> 1993\n"
     ]
    },
    {
     "name": "stdout",
     "output_type": "stream",
     "text": [
      "<Response [200]> 1994\n"
     ]
    },
    {
     "name": "stdout",
     "output_type": "stream",
     "text": [
      "<Response [200]> 1995\n"
     ]
    },
    {
     "name": "stdout",
     "output_type": "stream",
     "text": [
      "<Response [200]> 1996\n"
     ]
    },
    {
     "name": "stdout",
     "output_type": "stream",
     "text": [
      "<Response [200]> 1997\n"
     ]
    },
    {
     "name": "stdout",
     "output_type": "stream",
     "text": [
      "<Response [200]> 1998\n"
     ]
    },
    {
     "name": "stdout",
     "output_type": "stream",
     "text": [
      "<Response [200]> 1999\n"
     ]
    },
    {
     "name": "stdout",
     "output_type": "stream",
     "text": [
      "<Response [200]> 2000\n"
     ]
    },
    {
     "name": "stdout",
     "output_type": "stream",
     "text": [
      "<Response [200]> 2001\n"
     ]
    },
    {
     "name": "stdout",
     "output_type": "stream",
     "text": [
      "<Response [200]> 2002\n"
     ]
    },
    {
     "name": "stdout",
     "output_type": "stream",
     "text": [
      "<Response [200]> 2003\n"
     ]
    },
    {
     "name": "stdout",
     "output_type": "stream",
     "text": [
      "<Response [200]> 2004\n"
     ]
    },
    {
     "name": "stdout",
     "output_type": "stream",
     "text": [
      "<Response [200]> 2005\n"
     ]
    },
    {
     "name": "stdout",
     "output_type": "stream",
     "text": [
      "<Response [200]> 2006\n"
     ]
    },
    {
     "name": "stdout",
     "output_type": "stream",
     "text": [
      "<Response [200]> 2007\n"
     ]
    },
    {
     "name": "stdout",
     "output_type": "stream",
     "text": [
      "<Response [200]> 2008\n"
     ]
    },
    {
     "name": "stdout",
     "output_type": "stream",
     "text": [
      "<Response [200]> 2009\n"
     ]
    },
    {
     "name": "stdout",
     "output_type": "stream",
     "text": [
      "<Response [200]> 2010\n"
     ]
    },
    {
     "name": "stdout",
     "output_type": "stream",
     "text": [
      "<Response [200]> 2011\n"
     ]
    },
    {
     "name": "stdout",
     "output_type": "stream",
     "text": [
      "<Response [200]> 2012\n"
     ]
    },
    {
     "name": "stdout",
     "output_type": "stream",
     "text": [
      "<Response [200]> 2013\n"
     ]
    },
    {
     "name": "stdout",
     "output_type": "stream",
     "text": [
      "<Response [200]> 2014\n"
     ]
    },
    {
     "name": "stdout",
     "output_type": "stream",
     "text": [
      "<Response [200]> 2015\n"
     ]
    },
    {
     "name": "stdout",
     "output_type": "stream",
     "text": [
      "<Response [200]> 2016\n"
     ]
    },
    {
     "name": "stdout",
     "output_type": "stream",
     "text": [
      "<Response [200]> 2017\n"
     ]
    },
    {
     "name": "stdout",
     "output_type": "stream",
     "text": [
      "<Response [200]> 2018\n"
     ]
    },
    {
     "name": "stdout",
     "output_type": "stream",
     "text": [
      "<Response [200]> 2019\n"
     ]
    },
    {
     "name": "stdout",
     "output_type": "stream",
     "text": [
      "<Response [200]> 2020\n"
     ]
    },
    {
     "name": "stdout",
     "output_type": "stream",
     "text": [
      "<Response [200]> 2021\n"
     ]
    },
    {
     "name": "stdout",
     "output_type": "stream",
     "text": [
      "<Response [200]> 2022\n"
     ]
    },
    {
     "name": "stdout",
     "output_type": "stream",
     "text": [
      "<Response [200]> 2023\n"
     ]
    },
    {
     "name": "stdout",
     "output_type": "stream",
     "text": [
      "<Response [200]> 2024\n"
     ]
    },
    {
     "name": "stdout",
     "output_type": "stream",
     "text": [
      "<Response [200]> 2025\n"
     ]
    },
    {
     "name": "stdout",
     "output_type": "stream",
     "text": [
      "<Response [200]> 2026\n"
     ]
    },
    {
     "name": "stdout",
     "output_type": "stream",
     "text": [
      "<Response [200]> 2027\n"
     ]
    },
    {
     "name": "stdout",
     "output_type": "stream",
     "text": [
      "<Response [200]> 2028\n"
     ]
    },
    {
     "name": "stdout",
     "output_type": "stream",
     "text": [
      "<Response [200]> 2029\n"
     ]
    },
    {
     "name": "stdout",
     "output_type": "stream",
     "text": [
      "<Response [200]> 2030\n"
     ]
    },
    {
     "name": "stdout",
     "output_type": "stream",
     "text": [
      "<Response [200]> 2031\n"
     ]
    },
    {
     "name": "stdout",
     "output_type": "stream",
     "text": [
      "<Response [200]> 2032\n"
     ]
    },
    {
     "name": "stdout",
     "output_type": "stream",
     "text": [
      "<Response [200]> 2033\n"
     ]
    },
    {
     "name": "stdout",
     "output_type": "stream",
     "text": [
      "<Response [200]> 2034\n"
     ]
    },
    {
     "name": "stdout",
     "output_type": "stream",
     "text": [
      "<Response [200]> 2035\n"
     ]
    },
    {
     "name": "stdout",
     "output_type": "stream",
     "text": [
      "<Response [200]> 2036\n"
     ]
    },
    {
     "name": "stdout",
     "output_type": "stream",
     "text": [
      "<Response [200]> 2037\n"
     ]
    },
    {
     "name": "stdout",
     "output_type": "stream",
     "text": [
      "<Response [200]> 2038\n"
     ]
    },
    {
     "name": "stdout",
     "output_type": "stream",
     "text": [
      "<Response [200]> 2039\n"
     ]
    },
    {
     "name": "stdout",
     "output_type": "stream",
     "text": [
      "<Response [200]> 2040\n"
     ]
    },
    {
     "name": "stdout",
     "output_type": "stream",
     "text": [
      "<Response [200]> 2041\n"
     ]
    },
    {
     "name": "stdout",
     "output_type": "stream",
     "text": [
      "<Response [200]> 2042\n"
     ]
    },
    {
     "name": "stdout",
     "output_type": "stream",
     "text": [
      "<Response [200]> 2043\n"
     ]
    },
    {
     "name": "stdout",
     "output_type": "stream",
     "text": [
      "<Response [200]> 2044\n"
     ]
    },
    {
     "name": "stdout",
     "output_type": "stream",
     "text": [
      "<Response [200]> 2045\n"
     ]
    },
    {
     "name": "stdout",
     "output_type": "stream",
     "text": [
      "<Response [200]> 2046\n"
     ]
    },
    {
     "name": "stdout",
     "output_type": "stream",
     "text": [
      "<Response [200]> 2047\n"
     ]
    },
    {
     "name": "stdout",
     "output_type": "stream",
     "text": [
      "<Response [200]> 2048\n"
     ]
    },
    {
     "name": "stdout",
     "output_type": "stream",
     "text": [
      "<Response [200]> 2049\n"
     ]
    },
    {
     "name": "stdout",
     "output_type": "stream",
     "text": [
      "<Response [200]> 2050\n"
     ]
    },
    {
     "name": "stdout",
     "output_type": "stream",
     "text": [
      "<Response [200]> 2051\n"
     ]
    },
    {
     "name": "stdout",
     "output_type": "stream",
     "text": [
      "<Response [200]> 2052\n"
     ]
    },
    {
     "name": "stdout",
     "output_type": "stream",
     "text": [
      "<Response [200]> 2053\n"
     ]
    },
    {
     "name": "stdout",
     "output_type": "stream",
     "text": [
      "<Response [200]> 2054\n"
     ]
    },
    {
     "name": "stdout",
     "output_type": "stream",
     "text": [
      "<Response [200]> 2055\n"
     ]
    },
    {
     "name": "stdout",
     "output_type": "stream",
     "text": [
      "<Response [200]> 2056\n"
     ]
    },
    {
     "name": "stdout",
     "output_type": "stream",
     "text": [
      "<Response [200]> 2057\n"
     ]
    },
    {
     "name": "stdout",
     "output_type": "stream",
     "text": [
      "<Response [200]> 2058\n"
     ]
    },
    {
     "name": "stdout",
     "output_type": "stream",
     "text": [
      "<Response [200]> 2059\n"
     ]
    },
    {
     "name": "stdout",
     "output_type": "stream",
     "text": [
      "<Response [200]> 2060\n"
     ]
    },
    {
     "name": "stdout",
     "output_type": "stream",
     "text": [
      "<Response [200]> 2061\n"
     ]
    },
    {
     "name": "stdout",
     "output_type": "stream",
     "text": [
      "<Response [200]> 2062\n"
     ]
    },
    {
     "name": "stdout",
     "output_type": "stream",
     "text": [
      "<Response [200]> 2063\n"
     ]
    },
    {
     "name": "stdout",
     "output_type": "stream",
     "text": [
      "<Response [200]> 2064\n"
     ]
    },
    {
     "name": "stdout",
     "output_type": "stream",
     "text": [
      "<Response [200]> 2065\n"
     ]
    },
    {
     "name": "stdout",
     "output_type": "stream",
     "text": [
      "<Response [200]> 2066\n"
     ]
    },
    {
     "name": "stdout",
     "output_type": "stream",
     "text": [
      "<Response [200]> 2067\n"
     ]
    },
    {
     "name": "stdout",
     "output_type": "stream",
     "text": [
      "<Response [200]> 2068\n"
     ]
    },
    {
     "name": "stdout",
     "output_type": "stream",
     "text": [
      "<Response [200]> 2069\n"
     ]
    },
    {
     "name": "stdout",
     "output_type": "stream",
     "text": [
      "<Response [200]> 2070\n"
     ]
    },
    {
     "name": "stdout",
     "output_type": "stream",
     "text": [
      "<Response [200]> 2071\n"
     ]
    },
    {
     "name": "stdout",
     "output_type": "stream",
     "text": [
      "<Response [200]> 2072\n"
     ]
    },
    {
     "name": "stdout",
     "output_type": "stream",
     "text": [
      "<Response [200]> 2073\n"
     ]
    },
    {
     "name": "stdout",
     "output_type": "stream",
     "text": [
      "<Response [200]> 2074\n"
     ]
    },
    {
     "name": "stdout",
     "output_type": "stream",
     "text": [
      "<Response [200]> 2075\n"
     ]
    },
    {
     "name": "stdout",
     "output_type": "stream",
     "text": [
      "<Response [200]> 2076\n"
     ]
    },
    {
     "name": "stdout",
     "output_type": "stream",
     "text": [
      "<Response [200]> 2077\n"
     ]
    },
    {
     "name": "stdout",
     "output_type": "stream",
     "text": [
      "<Response [200]> 2078\n"
     ]
    },
    {
     "name": "stdout",
     "output_type": "stream",
     "text": [
      "<Response [200]> 2079\n"
     ]
    },
    {
     "name": "stdout",
     "output_type": "stream",
     "text": [
      "<Response [200]> 2080\n"
     ]
    },
    {
     "name": "stdout",
     "output_type": "stream",
     "text": [
      "<Response [200]> 2081\n"
     ]
    },
    {
     "name": "stdout",
     "output_type": "stream",
     "text": [
      "<Response [200]> 2082\n"
     ]
    },
    {
     "name": "stdout",
     "output_type": "stream",
     "text": [
      "<Response [200]> 2083\n"
     ]
    },
    {
     "name": "stdout",
     "output_type": "stream",
     "text": [
      "<Response [200]> 2084\n"
     ]
    },
    {
     "name": "stdout",
     "output_type": "stream",
     "text": [
      "<Response [200]> 2085\n"
     ]
    },
    {
     "name": "stdout",
     "output_type": "stream",
     "text": [
      "<Response [200]> 2086\n"
     ]
    },
    {
     "name": "stdout",
     "output_type": "stream",
     "text": [
      "<Response [200]> 2087\n"
     ]
    },
    {
     "name": "stdout",
     "output_type": "stream",
     "text": [
      "<Response [200]> 2088\n"
     ]
    },
    {
     "name": "stdout",
     "output_type": "stream",
     "text": [
      "<Response [200]> 2089\n"
     ]
    },
    {
     "name": "stdout",
     "output_type": "stream",
     "text": [
      "<Response [200]> 2090\n"
     ]
    },
    {
     "name": "stdout",
     "output_type": "stream",
     "text": [
      "<Response [200]> 2091\n"
     ]
    },
    {
     "name": "stdout",
     "output_type": "stream",
     "text": [
      "<Response [200]> 2092\n"
     ]
    },
    {
     "name": "stdout",
     "output_type": "stream",
     "text": [
      "<Response [200]> 2093\n"
     ]
    },
    {
     "name": "stdout",
     "output_type": "stream",
     "text": [
      "<Response [200]> 2094\n"
     ]
    },
    {
     "name": "stdout",
     "output_type": "stream",
     "text": [
      "<Response [200]> 2095\n"
     ]
    },
    {
     "name": "stdout",
     "output_type": "stream",
     "text": [
      "<Response [200]> 2096\n"
     ]
    },
    {
     "name": "stdout",
     "output_type": "stream",
     "text": [
      "<Response [200]> 2097\n"
     ]
    },
    {
     "name": "stdout",
     "output_type": "stream",
     "text": [
      "<Response [200]> 2098\n"
     ]
    },
    {
     "name": "stdout",
     "output_type": "stream",
     "text": [
      "<Response [200]> 2099\n"
     ]
    },
    {
     "name": "stdout",
     "output_type": "stream",
     "text": [
      "<Response [200]> 2100\n"
     ]
    },
    {
     "name": "stdout",
     "output_type": "stream",
     "text": [
      "<Response [200]> 2101\n"
     ]
    },
    {
     "name": "stdout",
     "output_type": "stream",
     "text": [
      "<Response [200]> 2102\n"
     ]
    },
    {
     "name": "stdout",
     "output_type": "stream",
     "text": [
      "<Response [200]> 2103\n"
     ]
    },
    {
     "name": "stdout",
     "output_type": "stream",
     "text": [
      "<Response [200]> 2104\n"
     ]
    },
    {
     "name": "stdout",
     "output_type": "stream",
     "text": [
      "<Response [200]> 2105\n"
     ]
    },
    {
     "name": "stdout",
     "output_type": "stream",
     "text": [
      "<Response [200]> 2106\n"
     ]
    },
    {
     "name": "stdout",
     "output_type": "stream",
     "text": [
      "<Response [200]> 2107\n"
     ]
    },
    {
     "name": "stdout",
     "output_type": "stream",
     "text": [
      "<Response [200]> 2108\n"
     ]
    },
    {
     "name": "stdout",
     "output_type": "stream",
     "text": [
      "<Response [200]> 2109\n"
     ]
    },
    {
     "name": "stdout",
     "output_type": "stream",
     "text": [
      "<Response [200]> 2110\n"
     ]
    },
    {
     "name": "stdout",
     "output_type": "stream",
     "text": [
      "<Response [200]> 2111\n"
     ]
    },
    {
     "name": "stdout",
     "output_type": "stream",
     "text": [
      "<Response [200]> 2112\n"
     ]
    },
    {
     "name": "stdout",
     "output_type": "stream",
     "text": [
      "<Response [200]> 2113\n"
     ]
    },
    {
     "name": "stdout",
     "output_type": "stream",
     "text": [
      "<Response [200]> 2114\n"
     ]
    },
    {
     "name": "stdout",
     "output_type": "stream",
     "text": [
      "<Response [200]> 2115\n"
     ]
    },
    {
     "name": "stdout",
     "output_type": "stream",
     "text": [
      "<Response [200]> 2116\n"
     ]
    },
    {
     "name": "stdout",
     "output_type": "stream",
     "text": [
      "<Response [200]> 2117\n"
     ]
    },
    {
     "name": "stdout",
     "output_type": "stream",
     "text": [
      "<Response [200]> 2118\n"
     ]
    },
    {
     "name": "stdout",
     "output_type": "stream",
     "text": [
      "<Response [200]> 2119\n"
     ]
    },
    {
     "name": "stdout",
     "output_type": "stream",
     "text": [
      "<Response [200]> 2120\n"
     ]
    },
    {
     "name": "stdout",
     "output_type": "stream",
     "text": [
      "<Response [200]> 2121\n"
     ]
    },
    {
     "name": "stdout",
     "output_type": "stream",
     "text": [
      "<Response [200]> 2122\n"
     ]
    },
    {
     "name": "stdout",
     "output_type": "stream",
     "text": [
      "<Response [200]> 2123\n"
     ]
    },
    {
     "name": "stdout",
     "output_type": "stream",
     "text": [
      "<Response [200]> 2124\n"
     ]
    },
    {
     "name": "stdout",
     "output_type": "stream",
     "text": [
      "<Response [200]> 2125\n"
     ]
    },
    {
     "name": "stdout",
     "output_type": "stream",
     "text": [
      "<Response [200]> 2126\n"
     ]
    },
    {
     "name": "stdout",
     "output_type": "stream",
     "text": [
      "<Response [200]> 2127\n"
     ]
    },
    {
     "name": "stdout",
     "output_type": "stream",
     "text": [
      "<Response [200]> 2128\n"
     ]
    },
    {
     "name": "stdout",
     "output_type": "stream",
     "text": [
      "<Response [200]> 2129\n"
     ]
    },
    {
     "name": "stdout",
     "output_type": "stream",
     "text": [
      "<Response [200]> 2130\n"
     ]
    },
    {
     "name": "stdout",
     "output_type": "stream",
     "text": [
      "<Response [200]> 2131\n"
     ]
    },
    {
     "name": "stdout",
     "output_type": "stream",
     "text": [
      "<Response [200]> 2132\n"
     ]
    },
    {
     "name": "stdout",
     "output_type": "stream",
     "text": [
      "<Response [200]> 2133\n"
     ]
    },
    {
     "name": "stdout",
     "output_type": "stream",
     "text": [
      "<Response [200]> 2134\n"
     ]
    },
    {
     "name": "stdout",
     "output_type": "stream",
     "text": [
      "<Response [200]> 2135\n"
     ]
    },
    {
     "name": "stdout",
     "output_type": "stream",
     "text": [
      "<Response [200]> 2136\n"
     ]
    },
    {
     "name": "stdout",
     "output_type": "stream",
     "text": [
      "<Response [200]> 2137\n"
     ]
    },
    {
     "name": "stdout",
     "output_type": "stream",
     "text": [
      "<Response [200]> 2138\n"
     ]
    },
    {
     "name": "stdout",
     "output_type": "stream",
     "text": [
      "<Response [200]> 2139\n"
     ]
    },
    {
     "name": "stdout",
     "output_type": "stream",
     "text": [
      "<Response [200]> 2140\n"
     ]
    },
    {
     "name": "stdout",
     "output_type": "stream",
     "text": [
      "<Response [200]> 2141\n"
     ]
    },
    {
     "name": "stdout",
     "output_type": "stream",
     "text": [
      "<Response [200]> 2142\n"
     ]
    },
    {
     "name": "stdout",
     "output_type": "stream",
     "text": [
      "<Response [200]> 2143\n"
     ]
    },
    {
     "name": "stdout",
     "output_type": "stream",
     "text": [
      "<Response [200]> 2144\n"
     ]
    },
    {
     "name": "stdout",
     "output_type": "stream",
     "text": [
      "<Response [200]> 2145\n"
     ]
    },
    {
     "name": "stdout",
     "output_type": "stream",
     "text": [
      "<Response [200]> 2146\n"
     ]
    },
    {
     "name": "stdout",
     "output_type": "stream",
     "text": [
      "<Response [200]> 2147\n"
     ]
    },
    {
     "name": "stdout",
     "output_type": "stream",
     "text": [
      "<Response [200]> 2148\n"
     ]
    },
    {
     "name": "stdout",
     "output_type": "stream",
     "text": [
      "<Response [200]> 2149\n"
     ]
    },
    {
     "name": "stdout",
     "output_type": "stream",
     "text": [
      "<Response [200]> 2150\n"
     ]
    },
    {
     "name": "stdout",
     "output_type": "stream",
     "text": [
      "<Response [200]> 2151\n"
     ]
    },
    {
     "name": "stdout",
     "output_type": "stream",
     "text": [
      "<Response [200]> 2152\n"
     ]
    },
    {
     "name": "stdout",
     "output_type": "stream",
     "text": [
      "<Response [200]> 2153\n"
     ]
    },
    {
     "name": "stdout",
     "output_type": "stream",
     "text": [
      "<Response [200]> 2154\n"
     ]
    },
    {
     "name": "stdout",
     "output_type": "stream",
     "text": [
      "<Response [200]> 2155\n"
     ]
    },
    {
     "name": "stdout",
     "output_type": "stream",
     "text": [
      "<Response [200]> 2156\n"
     ]
    },
    {
     "name": "stdout",
     "output_type": "stream",
     "text": [
      "<Response [200]> 2157\n"
     ]
    },
    {
     "name": "stdout",
     "output_type": "stream",
     "text": [
      "<Response [200]> 2158\n"
     ]
    },
    {
     "name": "stdout",
     "output_type": "stream",
     "text": [
      "<Response [200]> 2159\n"
     ]
    },
    {
     "name": "stdout",
     "output_type": "stream",
     "text": [
      "<Response [200]> 2160\n"
     ]
    },
    {
     "name": "stdout",
     "output_type": "stream",
     "text": [
      "<Response [200]> 2161\n"
     ]
    },
    {
     "name": "stdout",
     "output_type": "stream",
     "text": [
      "<Response [200]> 2162\n"
     ]
    },
    {
     "name": "stdout",
     "output_type": "stream",
     "text": [
      "<Response [200]> 2163\n"
     ]
    },
    {
     "name": "stdout",
     "output_type": "stream",
     "text": [
      "<Response [200]> 2164\n"
     ]
    },
    {
     "name": "stdout",
     "output_type": "stream",
     "text": [
      "<Response [200]> 2165\n"
     ]
    },
    {
     "name": "stdout",
     "output_type": "stream",
     "text": [
      "<Response [200]> 2166\n"
     ]
    },
    {
     "name": "stdout",
     "output_type": "stream",
     "text": [
      "<Response [200]> 2167\n"
     ]
    },
    {
     "name": "stdout",
     "output_type": "stream",
     "text": [
      "<Response [200]> 2168\n"
     ]
    },
    {
     "name": "stdout",
     "output_type": "stream",
     "text": [
      "<Response [200]> 2169\n"
     ]
    },
    {
     "name": "stdout",
     "output_type": "stream",
     "text": [
      "<Response [200]> 2170\n"
     ]
    },
    {
     "name": "stdout",
     "output_type": "stream",
     "text": [
      "<Response [200]> 2171\n"
     ]
    },
    {
     "name": "stdout",
     "output_type": "stream",
     "text": [
      "<Response [200]> 2172\n"
     ]
    },
    {
     "name": "stdout",
     "output_type": "stream",
     "text": [
      "<Response [200]> 2173\n"
     ]
    },
    {
     "name": "stdout",
     "output_type": "stream",
     "text": [
      "<Response [200]> 2174\n"
     ]
    },
    {
     "name": "stdout",
     "output_type": "stream",
     "text": [
      "<Response [200]> 2175\n"
     ]
    },
    {
     "name": "stdout",
     "output_type": "stream",
     "text": [
      "<Response [200]> 2176\n"
     ]
    },
    {
     "name": "stdout",
     "output_type": "stream",
     "text": [
      "<Response [200]> 2177\n"
     ]
    },
    {
     "name": "stdout",
     "output_type": "stream",
     "text": [
      "<Response [200]> 2178\n"
     ]
    },
    {
     "name": "stdout",
     "output_type": "stream",
     "text": [
      "<Response [200]> 2179\n"
     ]
    },
    {
     "name": "stdout",
     "output_type": "stream",
     "text": [
      "<Response [200]> 2180\n"
     ]
    },
    {
     "name": "stdout",
     "output_type": "stream",
     "text": [
      "<Response [200]> 2181\n"
     ]
    },
    {
     "name": "stdout",
     "output_type": "stream",
     "text": [
      "<Response [200]> 2182\n"
     ]
    },
    {
     "name": "stdout",
     "output_type": "stream",
     "text": [
      "<Response [200]> 2183\n"
     ]
    },
    {
     "name": "stdout",
     "output_type": "stream",
     "text": [
      "<Response [200]> 2184\n"
     ]
    },
    {
     "name": "stdout",
     "output_type": "stream",
     "text": [
      "<Response [200]> 2185\n"
     ]
    },
    {
     "name": "stdout",
     "output_type": "stream",
     "text": [
      "<Response [200]> 2186\n"
     ]
    },
    {
     "name": "stdout",
     "output_type": "stream",
     "text": [
      "<Response [200]> 2187\n"
     ]
    },
    {
     "name": "stdout",
     "output_type": "stream",
     "text": [
      "<Response [200]> 2188\n"
     ]
    },
    {
     "name": "stdout",
     "output_type": "stream",
     "text": [
      "<Response [200]> 2189\n"
     ]
    },
    {
     "name": "stdout",
     "output_type": "stream",
     "text": [
      "<Response [200]> 2190\n"
     ]
    },
    {
     "name": "stdout",
     "output_type": "stream",
     "text": [
      "<Response [200]> 2191\n"
     ]
    },
    {
     "name": "stdout",
     "output_type": "stream",
     "text": [
      "<Response [200]> 2192\n"
     ]
    },
    {
     "name": "stdout",
     "output_type": "stream",
     "text": [
      "<Response [200]> 2193\n"
     ]
    },
    {
     "name": "stdout",
     "output_type": "stream",
     "text": [
      "<Response [200]> 2194\n"
     ]
    },
    {
     "name": "stdout",
     "output_type": "stream",
     "text": [
      "<Response [200]> 2195\n"
     ]
    },
    {
     "name": "stdout",
     "output_type": "stream",
     "text": [
      "<Response [200]> 2196\n"
     ]
    },
    {
     "name": "stdout",
     "output_type": "stream",
     "text": [
      "<Response [200]> 2197\n"
     ]
    },
    {
     "name": "stdout",
     "output_type": "stream",
     "text": [
      "<Response [200]> 2198\n"
     ]
    },
    {
     "name": "stdout",
     "output_type": "stream",
     "text": [
      "<Response [200]> 2199\n"
     ]
    },
    {
     "name": "stdout",
     "output_type": "stream",
     "text": [
      "<Response [200]> 2200\n"
     ]
    },
    {
     "name": "stdout",
     "output_type": "stream",
     "text": [
      "<Response [200]> 2201\n"
     ]
    },
    {
     "name": "stdout",
     "output_type": "stream",
     "text": [
      "<Response [200]> 2202\n"
     ]
    },
    {
     "name": "stdout",
     "output_type": "stream",
     "text": [
      "<Response [200]> 2203\n"
     ]
    },
    {
     "name": "stdout",
     "output_type": "stream",
     "text": [
      "<Response [200]> 2204\n"
     ]
    },
    {
     "name": "stdout",
     "output_type": "stream",
     "text": [
      "<Response [200]> 2205\n"
     ]
    },
    {
     "name": "stdout",
     "output_type": "stream",
     "text": [
      "<Response [200]> 2206\n"
     ]
    },
    {
     "name": "stdout",
     "output_type": "stream",
     "text": [
      "<Response [200]> 2207\n"
     ]
    },
    {
     "name": "stdout",
     "output_type": "stream",
     "text": [
      "<Response [200]> 2208\n"
     ]
    },
    {
     "name": "stdout",
     "output_type": "stream",
     "text": [
      "<Response [200]> 2209\n"
     ]
    },
    {
     "name": "stdout",
     "output_type": "stream",
     "text": [
      "<Response [200]> 2210\n"
     ]
    },
    {
     "name": "stdout",
     "output_type": "stream",
     "text": [
      "<Response [200]> 2211\n"
     ]
    },
    {
     "name": "stdout",
     "output_type": "stream",
     "text": [
      "<Response [200]> 2212\n"
     ]
    },
    {
     "name": "stdout",
     "output_type": "stream",
     "text": [
      "<Response [200]> 2213\n"
     ]
    },
    {
     "name": "stdout",
     "output_type": "stream",
     "text": [
      "<Response [200]> 2214\n"
     ]
    },
    {
     "name": "stdout",
     "output_type": "stream",
     "text": [
      "<Response [200]> 2215\n"
     ]
    },
    {
     "name": "stdout",
     "output_type": "stream",
     "text": [
      "<Response [200]> 2216\n"
     ]
    },
    {
     "name": "stdout",
     "output_type": "stream",
     "text": [
      "<Response [200]> 2217\n"
     ]
    },
    {
     "name": "stdout",
     "output_type": "stream",
     "text": [
      "<Response [200]> 2218\n"
     ]
    },
    {
     "name": "stdout",
     "output_type": "stream",
     "text": [
      "<Response [200]> 2219\n"
     ]
    },
    {
     "name": "stdout",
     "output_type": "stream",
     "text": [
      "<Response [200]> 2220\n"
     ]
    },
    {
     "name": "stdout",
     "output_type": "stream",
     "text": [
      "<Response [200]> 2221\n"
     ]
    },
    {
     "name": "stdout",
     "output_type": "stream",
     "text": [
      "<Response [200]> 2222\n"
     ]
    },
    {
     "name": "stdout",
     "output_type": "stream",
     "text": [
      "<Response [200]> 2223\n"
     ]
    },
    {
     "name": "stdout",
     "output_type": "stream",
     "text": [
      "<Response [200]> 2224\n"
     ]
    },
    {
     "name": "stdout",
     "output_type": "stream",
     "text": [
      "<Response [200]> 2225\n"
     ]
    },
    {
     "name": "stdout",
     "output_type": "stream",
     "text": [
      "<Response [200]> 2226\n"
     ]
    },
    {
     "name": "stdout",
     "output_type": "stream",
     "text": [
      "<Response [200]> 2227\n"
     ]
    },
    {
     "name": "stdout",
     "output_type": "stream",
     "text": [
      "<Response [200]> 2228\n"
     ]
    },
    {
     "name": "stdout",
     "output_type": "stream",
     "text": [
      "<Response [200]> 2229\n"
     ]
    },
    {
     "name": "stdout",
     "output_type": "stream",
     "text": [
      "<Response [200]> 2230\n"
     ]
    },
    {
     "name": "stdout",
     "output_type": "stream",
     "text": [
      "<Response [200]> 2231\n"
     ]
    },
    {
     "name": "stdout",
     "output_type": "stream",
     "text": [
      "<Response [200]> 2232\n"
     ]
    },
    {
     "name": "stdout",
     "output_type": "stream",
     "text": [
      "<Response [200]> 2233\n"
     ]
    },
    {
     "name": "stdout",
     "output_type": "stream",
     "text": [
      "<Response [200]> 2234\n"
     ]
    },
    {
     "name": "stdout",
     "output_type": "stream",
     "text": [
      "<Response [200]> 2235\n"
     ]
    },
    {
     "name": "stdout",
     "output_type": "stream",
     "text": [
      "<Response [200]> 2236\n"
     ]
    },
    {
     "name": "stdout",
     "output_type": "stream",
     "text": [
      "<Response [200]> 2237\n"
     ]
    },
    {
     "name": "stdout",
     "output_type": "stream",
     "text": [
      "<Response [200]> 2238\n"
     ]
    },
    {
     "name": "stdout",
     "output_type": "stream",
     "text": [
      "<Response [200]> 2239\n"
     ]
    },
    {
     "name": "stdout",
     "output_type": "stream",
     "text": [
      "<Response [200]> 2240\n"
     ]
    },
    {
     "name": "stdout",
     "output_type": "stream",
     "text": [
      "<Response [200]> 2241\n"
     ]
    },
    {
     "name": "stdout",
     "output_type": "stream",
     "text": [
      "<Response [200]> 2242\n"
     ]
    },
    {
     "name": "stdout",
     "output_type": "stream",
     "text": [
      "<Response [200]> 2243\n"
     ]
    },
    {
     "name": "stdout",
     "output_type": "stream",
     "text": [
      "<Response [200]> 2244\n"
     ]
    },
    {
     "name": "stdout",
     "output_type": "stream",
     "text": [
      "<Response [200]> 2245\n"
     ]
    },
    {
     "name": "stdout",
     "output_type": "stream",
     "text": [
      "<Response [200]> 2246\n"
     ]
    },
    {
     "name": "stdout",
     "output_type": "stream",
     "text": [
      "<Response [200]> 2247\n"
     ]
    },
    {
     "name": "stdout",
     "output_type": "stream",
     "text": [
      "<Response [200]> 2248\n"
     ]
    },
    {
     "name": "stdout",
     "output_type": "stream",
     "text": [
      "<Response [200]> 2249\n"
     ]
    },
    {
     "name": "stdout",
     "output_type": "stream",
     "text": [
      "<Response [200]> 2250\n"
     ]
    },
    {
     "name": "stdout",
     "output_type": "stream",
     "text": [
      "<Response [200]> 2251\n"
     ]
    },
    {
     "name": "stdout",
     "output_type": "stream",
     "text": [
      "<Response [200]> 2252\n"
     ]
    },
    {
     "name": "stdout",
     "output_type": "stream",
     "text": [
      "<Response [200]> 2253\n"
     ]
    },
    {
     "name": "stdout",
     "output_type": "stream",
     "text": [
      "<Response [200]> 2254\n"
     ]
    },
    {
     "name": "stdout",
     "output_type": "stream",
     "text": [
      "<Response [200]> 2255\n"
     ]
    },
    {
     "name": "stdout",
     "output_type": "stream",
     "text": [
      "<Response [200]> 2256\n"
     ]
    },
    {
     "name": "stdout",
     "output_type": "stream",
     "text": [
      "<Response [200]> 2257\n"
     ]
    },
    {
     "name": "stdout",
     "output_type": "stream",
     "text": [
      "<Response [200]> 2258\n"
     ]
    },
    {
     "name": "stdout",
     "output_type": "stream",
     "text": [
      "<Response [200]> 2259\n"
     ]
    }
   ],
   "source": [
    "from ast import main\n",
    "import requests\n",
    "from bs4 import BeautifulSoup\n",
    "import json\n",
    "import time\n",
    "import re\n",
    "result=[]\n",
    "\n",
    "# if link_array:\n",
    "k=1\n",
    "# for link in link_array:\n",
    "#   detail_res = requests.get(link,params=params,cookies=cookies,\n",
    "#                 headers=headers )\n",
    "#   k=k+1\n",
    "#   print(detail_res , k)\n",
    "#   data = {\n",
    "#         \"Price\": \"N/A\",\n",
    "#         \"Address\": \"N/A\",\n",
    "#         \"Realtor's Name\": \"N/A\",\n",
    "#         \"Realtor's Email\":\"N/A\",\n",
    "#         \"Realtor's Phone\": \"N/A\",\n",
    "#         \"Brokered Name\":\"N/A\",\n",
    "#         \"Estimated Price\": \"N/A\",\n",
    "#         \"Property Type\": \"N/A\",\n",
    "#         \"Days on Market\": \"N/A\",\n",
    "#         \"Year Built\": \"N/A\",\n",
    "#         \"Zip Code\": \"N/A\",\n",
    "#         \"Multi Listings\": \"N/A\",\n",
    "#         \"Link\": link,\n",
    "#         }\n",
    "#   if detail_res.status_code == 200:\n",
    "#       # time.sleep(3)  # delay to avoid blocking\n",
    "#       detail_soup = BeautifulSoup(detail_res.text, 'html.parser')\n",
    "\n",
    "#       main_price=detail_soup.find(\"span\", class_=\"base__StyledType-rui__sc-108xfm0-0 mQZci\")\n",
    "#       data['Price']=main_price.text.strip()\n",
    "\n",
    "#       main_address=detail_soup.find(\"h1\",class_=\"sc-3cba215e-3 jTQGBk\")\n",
    "#       if main_address:\n",
    "#         data['Address']=main_address.text.strip()\n",
    "\n",
    "#       script_tag = detail_soup.find('script', {'id': '__NEXT_DATA__', 'type': 'application/json'})\n",
    "#       if script_tag:\n",
    "#           try:\n",
    "#               json_data = json.loads(script_tag.string)\n",
    "#               advertiser_info = json_data[\"props\"][\"pageProps\"][\"initialReduxState\"][\"propertyDetails\"][\"advertisers\"][0]\n",
    "\n",
    "#               data[\"Realtor's Name\"] = advertiser_info.get(\"name\", \"N/A\")\n",
    "#               data[\"Realtor's Email\"]= advertiser_email = advertiser_info.get(\"email\",\"N/A\")\n",
    "#               data[\"Realtor's Phone\"] = advertiser_info[\"phones\"][0].get(\"number\", \"N/A\")\n",
    "#               data[\"Brokered Name\"] = advertiser_info[\"office\"].get(\"name\")\n",
    "#               data[\"Estimated Price\"] = json_data[\"props\"][\"pageProps\"][\"initialReduxState\"][\"propertyDetails\"].get(\"estimate\", {}).get(\"price\", \"N/A\")\n",
    "#               data[\"Zip Code\"] = re.search(r'\\b\\d{5}\\b', detail_soup.text).group() if re.search(r'\\b\\d{5}\\b', detail_soup.text) else \"N/A\"\n",
    "\n",
    "#               # Optionally extract more fields...\n",
    "#           except Exception as e:\n",
    "#               data[\"error\"] = str(e)\n",
    "\n",
    "\n",
    "\n",
    "#       multi_listings = detail_soup.find(\"div\", class_=\"sc-205c724c-0 ficrCd\")\n",
    "#       if multi_listings:\n",
    "#           listings = multi_listings.find_all('a')\n",
    "\n",
    "#           data[\"Multi Listings\"] = len(listings)\n",
    "#       else:\n",
    "#         \"N/A\"\n",
    "\n",
    "\n",
    "\n",
    "#       fifi = detail_soup.find(\"ul\", \"sc-596aad4c-0 fdDkrT\")\n",
    "#       if fifi:\n",
    "#           prop_type_tag = fifi.find('span', string=\"Property type\")\n",
    "#           data[\"Property Type\"] = prop_type_tag.find_next('p').text.strip() if prop_type_tag else None\n",
    "\n",
    "#           dom_tag = fifi.find('span', string=\"On Realtor.com\")\n",
    "#           data[\"Days on Market\"] = dom_tag.find_next('p').text.strip() if dom_tag else None\n",
    "\n",
    "#           year_built_tag = fifi.find('span', string=\"Year built\")\n",
    "#           data[\"Year Built\"] = year_built_tag.find_next('p').text.strip() if year_built_tag else None\n",
    "\n",
    "\n",
    "\n",
    "\n",
    "\n",
    "#       estim=detail_soup.find(\"div\", \"mortgage-components-bx9k35 jhJBqN\")\n",
    "#       if estim:\n",
    "#           price = estim.find('span', class_='base__StyledType-rui__sc-108xfm0-0 mQZci').text.strip()\n",
    "#           estimated_price=price\n",
    "\n",
    "\n",
    "#           data[\"Estimated Price\"] = f\"{price} \"\n",
    "#       else:\n",
    "#           \"N/A\"\n",
    "\n",
    "\n",
    "#   # print(data)\n",
    "#   result.append(data)\n",
    "\n",
    "if link_array:  # Add your condition here (e.g., len(link_array) > 0)\n",
    "    for link in link_array:\n",
    "        # main_link=link+'?from=srp-list-card'\n",
    "        detail_res = requests.get(link, params=params, cookies=cookies, headers=headers)\n",
    "        k = k + 1\n",
    "        print(detail_res, k)\n",
    "        data = {\n",
    "            \"Price\": \"N/A\",\n",
    "            \"Address\": \"N/A\",\n",
    "            \"Realtor's Name\": \"N/A\",\n",
    "            \"Realtor's Email\": \"N/A\",\n",
    "            \"Realtor's Phone\": \"N/A\",\n",
    "            \"Brokered Name\": \"N/A\",\n",
    "            \"Estimated Price\": \"N/A\",\n",
    "            \"Property Type\": \"N/A\",\n",
    "            \"Days on Market\": \"N/A\",\n",
    "            \"Year Built\": \"N/A\",\n",
    "            \"Zip Code\": \"N/A\",\n",
    "            \"Multi Listings\": \"N/A\",\n",
    "            \"Link\": link,\n",
    "        }\n",
    "\n",
    "        if detail_res.status_code == 200:\n",
    "            # time.sleep(3)  # delay to avoid blocking\n",
    "            detail_soup = BeautifulSoup(detail_res.text, 'html.parser')\n",
    "\n",
    "            main_price = detail_soup.find(\"span\", class_=\"base__StyledType-rui__sc-108xfm0-0 mQZci\")\n",
    "            if main_price:\n",
    "                data['Price'] = main_price.text.strip()\n",
    "\n",
    "            main_address = detail_soup.find(\"h1\", class_=\"sc-3cba215e-3 jTQGBk\")\n",
    "            if main_address:\n",
    "                data['Address'] = main_address.text.strip()\n",
    "\n",
    "            script_tag = detail_soup.find('script', {'id': '__NEXT_DATA__', 'type': 'application/json'})\n",
    "            if script_tag:\n",
    "                try:\n",
    "                    json_data = json.loads(script_tag.string)\n",
    "                    advertiser_info = json_data[\"props\"][\"pageProps\"][\"initialReduxState\"][\"propertyDetails\"][\"advertisers\"][0]\n",
    "\n",
    "                    data[\"Realtor's Name\"] = advertiser_info.get(\"name\", \"N/A\")\n",
    "                    data[\"Realtor's Email\"] = advertiser_info.get(\"email\", \"N/A\")\n",
    "                    data[\"Realtor's Phone\"] = advertiser_info[\"phones\"][0].get(\"number\", \"N/A\")\n",
    "                    data[\"Brokered Name\"] = advertiser_info[\"office\"].get(\"name\")\n",
    "                    data[\"Estimated Price\"] = json_data[\"props\"][\"pageProps\"][\"initialReduxState\"][\"propertyDetails\"].get(\"estimate\", {}).get(\"price\", \"N/A\")\n",
    "                    data[\"Zip Code\"] = re.search(r'\\b\\d{5}\\b', detail_soup.text).group() if re.search(r'\\b\\d{5}\\b', detail_soup.text) else \"N/A\"\n",
    "                except Exception as e:\n",
    "                    data[\"error\"] = str(e)\n",
    "\n",
    "            multi_listings = detail_soup.find(\"div\", class_=\"sc-205c724c-0 ficrCd\")\n",
    "            if multi_listings:\n",
    "                listings = multi_listings.find_all('a')\n",
    "                data[\"Multi Listings\"] = len(listings)\n",
    "\n",
    "            fifi = detail_soup.find(\"ul\", \"sc-596aad4c-0 fdDkrT\")\n",
    "            if fifi:\n",
    "                prop_type_tag = fifi.find('span', string=\"Property type\")\n",
    "                data[\"Property Type\"] = prop_type_tag.find_next('p').text.strip() if prop_type_tag else \"N/A\"\n",
    "\n",
    "                dom_tag = fifi.find('span', string=\"On Realtor.com\")\n",
    "                data[\"Days on Market\"] = dom_tag.find_next('p').text.strip() if dom_tag else \"N/A\"\n",
    "\n",
    "                year_built_tag = fifi.find('span', string=\"Year built\")\n",
    "                data[\"Year Built\"] = year_built_tag.find_next('p').text.strip() if year_built_tag else \"N/A\"\n",
    "\n",
    "            estim = detail_soup.find(\"div\", \"mortgage-components-bx9k35 jhJBqN\")\n",
    "            if estim:\n",
    "                price = estim.find('span', class_='base__StyledType-rui__sc-108xfm0-0 mQZci')\n",
    "                if price:\n",
    "                    data[\"Estimated Price\"] = price.text.strip()\n",
    "\n",
    "        result.append(data)\n",
    "\n",
    "else:\n",
    "    result.append({'message': 'No property URLs found.'})\n",
    "\n"
   ]
  },
  {
   "cell_type": "code",
   "execution_count": null,
   "id": "31e3543b",
   "metadata": {
    "papermill": {
     "duration": null,
     "end_time": null,
     "exception": null,
     "start_time": null,
     "status": "pending"
    },
    "tags": []
   },
   "outputs": [],
   "source": [
    "print(json.dumps(result, indent=2))"
   ]
  }
 ],
 "metadata": {
  "kernelspec": {
   "display_name": "Python 3",
   "language": "python",
   "name": "python3"
  },
  "language_info": {
   "codemirror_mode": {
    "name": "ipython",
    "version": 3
   },
   "file_extension": ".py",
   "mimetype": "text/x-python",
   "name": "python",
   "nbconvert_exporter": "python",
   "pygments_lexer": "ipython3",
   "version": "3.13.2"
  },
  "papermill": {
   "default_parameters": {},
   "duration": null,
   "end_time": null,
   "environment_variables": {},
   "exception": null,
   "input_path": "python_notebook.ipynb",
   "output_path": "executed_notebook.ipynb",
   "parameters": {
    "final_url": "/type-single-family-home",
    "location": "new-york_ny"
   },
   "start_time": "2025-05-14T06:24:46.576772",
   "version": "2.6.0"
  }
 },
 "nbformat": 4,
 "nbformat_minor": 5
}