{
 "cells": [
  {
   "cell_type": "code",
   "execution_count": 1,
   "id": "4a3171d9",
   "metadata": {
    "execution": {
     "iopub.execute_input": "2025-05-26T07:04:43.392009Z",
     "iopub.status.busy": "2025-05-26T07:04:43.390904Z",
     "iopub.status.idle": "2025-05-26T07:04:43.402833Z",
     "shell.execute_reply": "2025-05-26T07:04:43.401320Z"
    },
    "papermill": {
     "duration": 0.02701,
     "end_time": "2025-05-26T07:04:43.406550",
     "exception": false,
     "start_time": "2025-05-26T07:04:43.379540",
     "status": "completed"
    },
    "tags": [
     "injected-parameters"
    ]
   },
   "outputs": [],
   "source": [
    "# Parameters\n",
    "location = \"phoenix_az\"\n",
    "final_url = \"/type-single-family-home/price-600000-900000/sby-5\"\n"
   ]
  },
  {
   "cell_type": "code",
   "execution_count": 2,
   "id": "14978b06",
   "metadata": {
    "execution": {
     "iopub.execute_input": "2025-05-26T07:04:43.422852Z",
     "iopub.status.busy": "2025-05-26T07:04:43.422167Z",
     "iopub.status.idle": "2025-05-26T07:04:48.947401Z",
     "shell.execute_reply": "2025-05-26T07:04:48.945638Z"
    },
    "papermill": {
     "duration": 5.536935,
     "end_time": "2025-05-26T07:04:48.950519",
     "exception": false,
     "start_time": "2025-05-26T07:04:43.413584",
     "status": "completed"
    },
    "tags": []
   },
   "outputs": [
    {
     "name": "stdout",
     "output_type": "stream",
     "text": [
      "🔗 Final URL: https://www.realtor.com/realestateandhomes-search/phoenix_az/type-single-family-home/price-600000-900000/sby-5\n"
     ]
    }
   ],
   "source": [
    "import requests\n",
    "import time\n",
    "import sys\n",
    "from bs4 import BeautifulSoup\n",
    "import json\n",
    " \n",
    "cookies = {\n",
    "    '_cq_duid': '1.1744778181.6MobFmGeC2R1nUU7',\n",
    "    'split': 'n',\n",
    "    '__vst': '510a7abc-5631-4c8b-a9a5-54de51e58a8a',\n",
    "    '__bot': 'false',\n",
    "    '_lr_env_src_ats': 'false',\n",
    "    'permutive-id': '36491759-b0ef-4036-bc03-7d07f765413e',\n",
    "    's_ecid': 'MCMID%7C62206642167978879802294781651943730817',\n",
    "    '_cc_id': 'f15316d1891455e0cdcc7f071e6be91a',\n",
    "    '_gcl_au': '1.1.761638148.1744778188',\n",
    "    'pbjs-unifiedid': '%7B%22TDID%22%3A%22768f16ce-051a-44b9-986e-505d5a184422%22%2C%22TDID_LOOKUP%22%3A%22TRUE%22%2C%22TDID_CREATED_AT%22%3A%222025-03-16T04%3A36%3A27%22%7D',\n",
    "    'pbjs-unifiedid_cst': 'VyxHLMwsHQ%3D%3D',\n",
    "    '__gsas': 'ID=b761dbf92fed2797:T=1744778187:RT=1744778187:S=ALNI_MYyPr435-r92Lh6hgKWE7ir2wPpFg',\n",
    "    '__split': '11',\n",
    "    '_ga': 'GA1.1.122217795.1744778189',\n",
    "    '_fbp': 'fb.1.1744778190942.615506763789365416',\n",
    "    'ajs_anonymous_id': '484b625d-2e90-49a9-82ea-71509bf26df2',\n",
    "    'kampyle_userid': '597b-3652-68fb-14df-8b6d-f4a2-9005-9eb6',\n",
    "    'cto_bundle': 'OyMQ419RVHR2WTVsekpyUlYyaUt1RzBVN25kNWJ5eG45aU1kZ21lc3NIREpMTHVNcm4ybXA5Z0ZmMzF3YXZZaEVISyUyQlpoeE9rQlN3N2dsNVlWZmRwc2d6TjhucUExcSUyQjhwSHVqNExBVjdVZUU3eE5OdjRmRlc2SEZld3c2SFhpMVI0Slh0NmN6Ymh3MzlPN1kzJTJGeFZObEklMkJpQSUzRCUzRA',\n",
    "    'G_ENABLED_IDPS': 'google',\n",
    "    '__spdt': 'fec8a0e0243d44f7ac0a8810ea3a5617',\n",
    "    '_pbjs_userid_consent_data': '3524755945110770',\n",
    "    'spec-property-history': 'true',\n",
    "    '_lr_sampling_rate': '100',\n",
    "    'sbjs_migrations': '1418474375998%3D1',\n",
    "    'sbjs_current_add': 'fd%3D2025-05-13%2015%3A38%3A57%7C%7C%7Cep%3Dhttps%3A%2F%2Fwww.realtor.com%2Frealestateagents%2FMarie-Crabb_San-Antonio_TX_1562457_770159571%7C%7C%7Crf%3D%28none%29',\n",
    "    'sbjs_first_add': 'fd%3D2025-05-13%2015%3A38%3A57%7C%7C%7Cep%3Dhttps%3A%2F%2Fwww.realtor.com%2Frealestateagents%2FMarie-Crabb_San-Antonio_TX_1562457_770159571%7C%7C%7Crf%3D%28none%29',\n",
    "    'sbjs_current': 'typ%3Dtypein%7C%7C%7Csrc%3D%28direct%29%7C%7C%7Cmdm%3D%28none%29%7C%7C%7Ccmp%3D%28none%29%7C%7C%7Ccnt%3D%28none%29%7C%7C%7Ctrm%3D%28none%29',\n",
    "    'sbjs_first': 'typ%3Dtypein%7C%7C%7Csrc%3D%28direct%29%7C%7C%7Cmdm%3D%28none%29%7C%7C%7Ccmp%3D%28none%29%7C%7C%7Ccnt%3D%28none%29%7C%7C%7Ctrm%3D%28none%29',\n",
    "    'sbjs_udata': 'vst%3D1%7C%7C%7Cuip%3D%28none%29%7C%7C%7Cuag%3DMozilla%2F5.0%20%28Windows%20NT%2010.0%3B%20Win64%3B%20x64%29%20AppleWebKit%2F537.36%20%28KHTML%2C%20like%20Gecko%29%20Chrome%2F136.0.0.0%20Safari%2F537.36',\n",
    "    'AWSALBTG': 'Gysy51HA+pJTrxIKFj2v3w0nCE/eoaQmJ7DSPj4suoUKY1CHB4l5GhwD4Qau/EW7RngdZBfgTbUsgutlOm0f96YiXJTcsrWR+T8lWoqugNfMSDTEbOwrgbTJv4zI4vgeWeD4ltJdQFCOglNyh0FuxME92j87R8+5+nrtZTwzAFAL',\n",
    "    'AWSALBTGCORS': 'Gysy51HA+pJTrxIKFj2v3w0nCE/eoaQmJ7DSPj4suoUKY1CHB4l5GhwD4Qau/EW7RngdZBfgTbUsgutlOm0f96YiXJTcsrWR+T8lWoqugNfMSDTEbOwrgbTJv4zI4vgeWeD4ltJdQFCOglNyh0FuxME92j87R8+5+nrtZTwzAFAL',\n",
    "    'AWSALB': 'PA4KsCC+ZE35rkHrZlFJmvdEFqqcwpfhPvIHyR8fvTkTuV8elUxXm3ZXx+OJ8h1qNL5Hsxp9M9bcRnTPQfhDhKnSOIaGtgnBBIXsSuTsBL6E4DClOUhJXGkw1ucY',\n",
    "    'AWSALBCORS': 'PA4KsCC+ZE35rkHrZlFJmvdEFqqcwpfhPvIHyR8fvTkTuV8elUxXm3ZXx+OJ8h1qNL5Hsxp9M9bcRnTPQfhDhKnSOIaGtgnBBIXsSuTsBL6E4DClOUhJXGkw1ucY',\n",
    "    'leadid_token-27789EFE-7A9A-DB70-BB9B-97D9B7057DBB-01836014-7527-FD48-9B7F-1A40A9705CFE': '86378343-6E72-C9A3-F38C-4FC85D4B9DDF',\n",
    "    '_parsely_session': '{%22sid%22:25%2C%22surl%22:%22https://www.realtor.com/realestateandhomes-detail/127-Concord-St_Brooklyn_NY_11201_M94228-18638%22%2C%22sref%22:%22https://colab.research.google.com/%22%2C%22sts%22:1747135330658%2C%22slts%22:1747130960659}',\n",
    "    '_parsely_visitor': '{%22id%22:%22pid=1b405088-93a3-4244-a70a-8f0b5d157233%22%2C%22session_count%22:25%2C%22last_session_ts%22:1747135330658}',\n",
    "    '_lr_retry_request': 'true',\n",
    "    'AMP_MKTG_c07a79acf5': 'JTdCJTdE',\n",
    "    'claritas_24hrexp_ldp': 'true',\n",
    "    'split_tcv': '123',\n",
    "    'panoramaId_expiry': '1747223247759',\n",
    "    'panoramaId': '1c8ce1f32d9b77f43d98a20754f4a9fb927a4d1c3ceb4de2702245f6f0c8d4e0',\n",
    "    'ab.storage.deviceId.7cc9d032-9d6d-44cf-a8f5-d276489af322': 'g%3Ac0e51af7-dd43-dbd5-e0cf-a1fa33760e57%7Ce%3Aundefined%7Cc%3A1744778189271%7Cl%3A1747136849038',\n",
    "    'ab.storage.userId.7cc9d032-9d6d-44cf-a8f5-d276489af322': 'g%3Avisitor_510a7abc-5631-4c8b-a9a5-54de51e58a8a%7Ce%3Aundefined%7Cc%3A1744778189264%7Cl%3A1747136849040',\n",
    "    'kampyleUserSession': '1747136968797',\n",
    "    'kampyleUserSessionsCount': '73',\n",
    "    'kampyleSessionPageCounter': '1',\n",
    "    'kampyleUserPercentile': '38.99125802441098',\n",
    "    '__ssn': '12d7e70c-46a9-45b7-8708-9b6155f748af',\n",
    "    '__ssnstarttime': '1747138479',\n",
    "    'criteria': 'sprefix%3D%252Fnewhomecommunities%26area_type%3Dcity%26city%3DNew%2520York%26pg%3D1%26state_code%3DNY%26state_id%3DNY%26loc%3DNew%2520York%252C%2520NY%26locSlug%3DNew-York_NY%26county_fips%3D36081%26county_fips_multi%3D36081-36047-36085-36005-36061',\n",
    "    'isAuth0GnavEnabled': 'C',\n",
    "    'AMCVS_8853394255142B6A0A4C98A4%40AdobeOrg': '1',\n",
    "    'AMCV_8853394255142B6A0A4C98A4%40AdobeOrg': '-1124106680%7CMCIDTS%7C20221%7CMCMID%7C62206642167978879802294781651943730817%7CMCAAMLH-1747743283%7C12%7CMCAAMB-1747743283%7CRKhpRz8krg2tLO6pguXWp5olkAcUniQYPHaMWWgdJ3xzPWQmdj0y%7CMCOPTOUT-1747145683s%7CNONE%7CMCAID%7CNONE%7CvVersion%7C5.2.0',\n",
    "    'claritas_24hrexp_sitevisit': 'true',\n",
    "    'ab.storage.sessionId.7cc9d032-9d6d-44cf-a8f5-d276489af322': 'g%3A5e73a82d-0856-363b-ebe3-ab7bcf82f658%7Ce%3A1747140285057%7Cc%3A1747136849034%7Cl%3A1747138485057',\n",
    "    '_uetsid': '523b07802f1e11f0a6117f38eb0c06f4|nu1ncn|2|fvv|0|1958',\n",
    "    'AMP_c07a79acf5': 'JTdCJTIyZGV2aWNlSWQlMjIlM0ElMjJjNGJmMzkxNC1mNjA1LTQyZWUtYWM2Yi02MTQwMzBlODAxNGYlMjIlMkMlMjJ1c2VySWQlMjIlM0ElMjI1MTBhN2FiYy01NjMxLTRjOGItYTlhNS01NGRlNTFlNThhOGElMjIlMkMlMjJzZXNzaW9uSWQlMjIlM0ExNzQ3MTM2ODQ2ODMxJTJDJTIyb3B0T3V0JTIyJTNBZmFsc2UlMkMlMjJsYXN0RXZlbnRUaW1lJTIyJTNBMTc0NzEzODQ4NTQxNSUyQyUyMmxhc3RFdmVudElkJTIyJTNBMzc2JTJDJTIycGFnZUNvdW50ZXIlMjIlM0EzJTdE',\n",
    "    '__gads': 'ID=90cc70a1b7f62534:T=1744778191:RT=1747138485:S=ALNI_Mbwq8lNnQn41vMslb5NKa0v1IXODQ',\n",
    "    '__gpi': 'UID=000010a0d44ff64d:T=1744778191:RT=1747138485:S=ALNI_MYQOz2G493eHyeT1BxhNY1pSbZ_ZQ',\n",
    "    '__eoi': 'ID=ff471cc055362e70:T=1744778191:RT=1747138485:S=AA-AfjY5Nukxc6S-HKQMxCxsgauf',\n",
    "    '_uetvid': '5e6611101a7c11f096fd0b3e24a7f2ce|1glbpa|1747138486190|3|1|bat.bing.com/p/insights/c/b',\n",
    "    '_ga_07XBH6XBNS': 'GS2.1.s1747135361$o25$g0$t1747138488$j0$l0$h538070340',\n",
    "    '_ga_MS5EHT6J6V': 'GS2.1.s1747135361$o25$g1$t1747138488$j0$l0$h0',\n",
    "    'KP_UIDz-ssn': '0MfNNCrrSb9BV7sBp4WHRRcf76Hju6CLGwabGOT0OemzWxp7pYt891SoHjCmiqzeE4EogTl5pik6AxlNeZssOqeTyXwkGLi6ak34mTbRw8IRL3eAxozFBk7kKCJKW4DrGUsqoPvVO0Mi9LFWIIbEhrxyequ0ffzwIJVbhdPx',\n",
    "    'KP_UIDz': '0MfNNCrrSb9BV7sBp4WHRRcf76Hju6CLGwabGOT0OemzWxp7pYt891SoHjCmiqzeE4EogTl5pik6AxlNeZssOqeTyXwkGLi6ak34mTbRw8IRL3eAxozFBk7kKCJKW4DrGUsqoPvVO0Mi9LFWIIbEhrxyequ0ffzwIJVbhdPx',\n",
    "}\n",
    "\n",
    "headers = {\n",
    "    'accept': 'text/html,application/xhtml+xml,application/xml;q=0.9,image/avif,image/webp,image/apng,*/*;q=0.8,application/signed-exchange;v=b3;q=0.7',\n",
    "    'accept-language': 'en-US,en;q=0.9',\n",
    "    'cache-control': 'max-age=0',\n",
    "    'priority': 'u=0, i',\n",
    "    'sec-ch-ua': '\"Chromium\";v=\"136\", \"Google Chrome\";v=\"136\", \"Not.A/Brand\";v=\"99\"',\n",
    "    'sec-ch-ua-mobile': '?0',\n",
    "    'sec-ch-ua-platform': '\"Windows\"',\n",
    "    'sec-fetch-dest': 'document',\n",
    "    'sec-fetch-mode': 'navigate',\n",
    "    'sec-fetch-site': 'same-origin',\n",
    "    'sec-fetch-user': '?1',\n",
    "    'upgrade-insecure-requests': '1',\n",
    "    'user-agent': 'Mozilla/5.0 (Windows NT 10.0; Win64; x64) AppleWebKit/537.36 (KHTML, like Gecko) Chrome/136.0.0.0 Safari/537.36',\n",
    "    # 'cookie': '_cq_duid=1.1744778181.6MobFmGeC2R1nUU7; split=n; __vst=510a7abc-5631-4c8b-a9a5-54de51e58a8a; __bot=false; _lr_env_src_ats=false; permutive-id=36491759-b0ef-4036-bc03-7d07f765413e; s_ecid=MCMID%7C62206642167978879802294781651943730817; _cc_id=f15316d1891455e0cdcc7f071e6be91a; _gcl_au=1.1.761638148.1744778188; pbjs-unifiedid=%7B%22TDID%22%3A%22768f16ce-051a-44b9-986e-505d5a184422%22%2C%22TDID_LOOKUP%22%3A%22TRUE%22%2C%22TDID_CREATED_AT%22%3A%222025-03-16T04%3A36%3A27%22%7D; pbjs-unifiedid_cst=VyxHLMwsHQ%3D%3D; __gsas=ID=b761dbf92fed2797:T=1744778187:RT=1744778187:S=ALNI_MYyPr435-r92Lh6hgKWE7ir2wPpFg; __split=11; _ga=GA1.1.122217795.1744778189; _fbp=fb.1.1744778190942.615506763789365416; ajs_anonymous_id=484b625d-2e90-49a9-82ea-71509bf26df2; kampyle_userid=597b-3652-68fb-14df-8b6d-f4a2-9005-9eb6; cto_bundle=OyMQ419RVHR2WTVsekpyUlYyaUt1RzBVN25kNWJ5eG45aU1kZ21lc3NIREpMTHVNcm4ybXA5Z0ZmMzF3YXZZaEVISyUyQlpoeE9rQlN3N2dsNVlWZmRwc2d6TjhucUExcSUyQjhwSHVqNExBVjdVZUU3eE5OdjRmRlc2SEZld3c2SFhpMVI0Slh0NmN6Ymh3MzlPN1kzJTJGeFZObEklMkJpQSUzRCUzRA; G_ENABLED_IDPS=google; __spdt=fec8a0e0243d44f7ac0a8810ea3a5617; _pbjs_userid_consent_data=3524755945110770; spec-property-history=true; _lr_sampling_rate=100; sbjs_migrations=1418474375998%3D1; sbjs_current_add=fd%3D2025-05-13%2015%3A38%3A57%7C%7C%7Cep%3Dhttps%3A%2F%2Fwww.realtor.com%2Frealestateagents%2FMarie-Crabb_San-Antonio_TX_1562457_770159571%7C%7C%7Crf%3D%28none%29; sbjs_first_add=fd%3D2025-05-13%2015%3A38%3A57%7C%7C%7Cep%3Dhttps%3A%2F%2Fwww.realtor.com%2Frealestateagents%2FMarie-Crabb_San-Antonio_TX_1562457_770159571%7C%7C%7Crf%3D%28none%29; sbjs_current=typ%3Dtypein%7C%7C%7Csrc%3D%28direct%29%7C%7C%7Cmdm%3D%28none%29%7C%7C%7Ccmp%3D%28none%29%7C%7C%7Ccnt%3D%28none%29%7C%7C%7Ctrm%3D%28none%29; sbjs_first=typ%3Dtypein%7C%7C%7Csrc%3D%28direct%29%7C%7C%7Cmdm%3D%28none%29%7C%7C%7Ccmp%3D%28none%29%7C%7C%7Ccnt%3D%28none%29%7C%7C%7Ctrm%3D%28none%29; sbjs_udata=vst%3D1%7C%7C%7Cuip%3D%28none%29%7C%7C%7Cuag%3DMozilla%2F5.0%20%28Windows%20NT%2010.0%3B%20Win64%3B%20x64%29%20AppleWebKit%2F537.36%20%28KHTML%2C%20like%20Gecko%29%20Chrome%2F136.0.0.0%20Safari%2F537.36; AWSALBTG=Gysy51HA+pJTrxIKFj2v3w0nCE/eoaQmJ7DSPj4suoUKY1CHB4l5GhwD4Qau/EW7RngdZBfgTbUsgutlOm0f96YiXJTcsrWR+T8lWoqugNfMSDTEbOwrgbTJv4zI4vgeWeD4ltJdQFCOglNyh0FuxME92j87R8+5+nrtZTwzAFAL; AWSALBTGCORS=Gysy51HA+pJTrxIKFj2v3w0nCE/eoaQmJ7DSPj4suoUKY1CHB4l5GhwD4Qau/EW7RngdZBfgTbUsgutlOm0f96YiXJTcsrWR+T8lWoqugNfMSDTEbOwrgbTJv4zI4vgeWeD4ltJdQFCOglNyh0FuxME92j87R8+5+nrtZTwzAFAL; AWSALB=PA4KsCC+ZE35rkHrZlFJmvdEFqqcwpfhPvIHyR8fvTkTuV8elUxXm3ZXx+OJ8h1qNL5Hsxp9M9bcRnTPQfhDhKnSOIaGtgnBBIXsSuTsBL6E4DClOUhJXGkw1ucY; AWSALBCORS=PA4KsCC+ZE35rkHrZlFJmvdEFqqcwpfhPvIHyR8fvTkTuV8elUxXm3ZXx+OJ8h1qNL5Hsxp9M9bcRnTPQfhDhKnSOIaGtgnBBIXsSuTsBL6E4DClOUhJXGkw1ucY; leadid_token-27789EFE-7A9A-DB70-BB9B-97D9B7057DBB-01836014-7527-FD48-9B7F-1A40A9705CFE=86378343-6E72-C9A3-F38C-4FC85D4B9DDF; _parsely_session={%22sid%22:25%2C%22surl%22:%22https://www.realtor.com/realestateandhomes-detail/127-Concord-St_Brooklyn_NY_11201_M94228-18638%22%2C%22sref%22:%22https://colab.research.google.com/%22%2C%22sts%22:1747135330658%2C%22slts%22:1747130960659}; _parsely_visitor={%22id%22:%22pid=1b405088-93a3-4244-a70a-8f0b5d157233%22%2C%22session_count%22:25%2C%22last_session_ts%22:1747135330658}; _lr_retry_request=true; AMP_MKTG_c07a79acf5=JTdCJTdE; claritas_24hrexp_ldp=true; split_tcv=123; panoramaId_expiry=1747223247759; panoramaId=1c8ce1f32d9b77f43d98a20754f4a9fb927a4d1c3ceb4de2702245f6f0c8d4e0; ab.storage.deviceId.7cc9d032-9d6d-44cf-a8f5-d276489af322=g%3Ac0e51af7-dd43-dbd5-e0cf-a1fa33760e57%7Ce%3Aundefined%7Cc%3A1744778189271%7Cl%3A1747136849038; ab.storage.userId.7cc9d032-9d6d-44cf-a8f5-d276489af322=g%3Avisitor_510a7abc-5631-4c8b-a9a5-54de51e58a8a%7Ce%3Aundefined%7Cc%3A1744778189264%7Cl%3A1747136849040; kampyleUserSession=1747136968797; kampyleUserSessionsCount=73; kampyleSessionPageCounter=1; kampyleUserPercentile=38.99125802441098; __ssn=12d7e70c-46a9-45b7-8708-9b6155f748af; __ssnstarttime=1747138479; criteria=sprefix%3D%252Fnewhomecommunities%26area_type%3Dcity%26city%3DNew%2520York%26pg%3D1%26state_code%3DNY%26state_id%3DNY%26loc%3DNew%2520York%252C%2520NY%26locSlug%3DNew-York_NY%26county_fips%3D36081%26county_fips_multi%3D36081-36047-36085-36005-36061; isAuth0GnavEnabled=C; AMCVS_8853394255142B6A0A4C98A4%40AdobeOrg=1; AMCV_8853394255142B6A0A4C98A4%40AdobeOrg=-1124106680%7CMCIDTS%7C20221%7CMCMID%7C62206642167978879802294781651943730817%7CMCAAMLH-1747743283%7C12%7CMCAAMB-1747743283%7CRKhpRz8krg2tLO6pguXWp5olkAcUniQYPHaMWWgdJ3xzPWQmdj0y%7CMCOPTOUT-1747145683s%7CNONE%7CMCAID%7CNONE%7CvVersion%7C5.2.0; claritas_24hrexp_sitevisit=true; ab.storage.sessionId.7cc9d032-9d6d-44cf-a8f5-d276489af322=g%3A5e73a82d-0856-363b-ebe3-ab7bcf82f658%7Ce%3A1747140285057%7Cc%3A1747136849034%7Cl%3A1747138485057; _uetsid=523b07802f1e11f0a6117f38eb0c06f4|nu1ncn|2|fvv|0|1958; AMP_c07a79acf5=JTdCJTIyZGV2aWNlSWQlMjIlM0ElMjJjNGJmMzkxNC1mNjA1LTQyZWUtYWM2Yi02MTQwMzBlODAxNGYlMjIlMkMlMjJ1c2VySWQlMjIlM0ElMjI1MTBhN2FiYy01NjMxLTRjOGItYTlhNS01NGRlNTFlNThhOGElMjIlMkMlMjJzZXNzaW9uSWQlMjIlM0ExNzQ3MTM2ODQ2ODMxJTJDJTIyb3B0T3V0JTIyJTNBZmFsc2UlMkMlMjJsYXN0RXZlbnRUaW1lJTIyJTNBMTc0NzEzODQ4NTQxNSUyQyUyMmxhc3RFdmVudElkJTIyJTNBMzc2JTJDJTIycGFnZUNvdW50ZXIlMjIlM0EzJTdE; __gads=ID=90cc70a1b7f62534:T=1744778191:RT=1747138485:S=ALNI_Mbwq8lNnQn41vMslb5NKa0v1IXODQ; __gpi=UID=000010a0d44ff64d:T=1744778191:RT=1747138485:S=ALNI_MYQOz2G493eHyeT1BxhNY1pSbZ_ZQ; __eoi=ID=ff471cc055362e70:T=1744778191:RT=1747138485:S=AA-AfjY5Nukxc6S-HKQMxCxsgauf; _uetvid=5e6611101a7c11f096fd0b3e24a7f2ce|1glbpa|1747138486190|3|1|bat.bing.com/p/insights/c/b; _ga_07XBH6XBNS=GS2.1.s1747135361$o25$g0$t1747138488$j0$l0$h538070340; _ga_MS5EHT6J6V=GS2.1.s1747135361$o25$g1$t1747138488$j0$l0$h0; KP_UIDz-ssn=0MfNNCrrSb9BV7sBp4WHRRcf76Hju6CLGwabGOT0OemzWxp7pYt891SoHjCmiqzeE4EogTl5pik6AxlNeZssOqeTyXwkGLi6ak34mTbRw8IRL3eAxozFBk7kKCJKW4DrGUsqoPvVO0Mi9LFWIIbEhrxyequ0ffzwIJVbhdPx; KP_UIDz=0MfNNCrrSb9BV7sBp4WHRRcf76Hju6CLGwabGOT0OemzWxp7pYt891SoHjCmiqzeE4EogTl5pik6AxlNeZssOqeTyXwkGLi6ak34mTbRw8IRL3eAxozFBk7kKCJKW4DrGUsqoPvVO0Mi9LFWIIbEhrxyequ0ffzwIJVbhdPx',\n",
    "}\n",
    " \n",
    "\n",
    "location=location\n",
    "# days=days\n",
    "# price=price\n",
    "# property_type=\"property_type\"\n",
    "final_url=final_url\n",
    "\n",
    "url = f\"https://www.realtor.com/realestateandhomes-search/{location}\"\n",
    "\n",
    "if final_url:\n",
    "   url+=final_url\n",
    "\n",
    "# if days:\n",
    "#     url += f\"/dom-{int(days)}\"\n",
    "# if price:\n",
    "#     url += f\"/price-{int(price)}-na\"\n",
    "# if property_type:\n",
    "#     url += f\"/type-{property_type.replace(' ', '-').lower()}\"\n",
    "\n",
    "print(\"🔗 Final URL:\", url)\n",
    "\n",
    "response = requests.get(\n",
    "    # 'https://www.realtor.com/realestateandhomes-search/Indiana/type-multi-family-home/dom-30/price-800000-na',\n",
    "    url,\n",
    "    cookies=cookies,\n",
    "    headers=headers,\n",
    ")\n",
    "\n",
    "\n",
    "# response = requests.get(\n",
    "#     'https://www.realtor.com/realestateandhomes-search/Atlanta_GA/shw-nc/price-800000-na',\n",
    "#     cookies=cookies,\n",
    "#     headers=headers,\n",
    "# )\n",
    "\n",
    "# response.text\n",
    "\n",
    "link_array=[]\n",
    "\n",
    "soup = BeautifulSoup(response.text, 'html.parser')\n",
    "# print(soup.prettify())\n",
    "# total_homes=soup.find('div', class_=\"TotalResults_totalNumber__ejYIx\")\n",
    "total_homes = soup.find('div', attrs={'data-testid': 'total-results'})\n",
    "script_tag = soup.find('script', {'data-testid': 'seoLinkingData', 'type': 'application/ld+json'})\n",
    "# print(script_tag)\n",
    "# print(total_homes.text)\n",
    "\n",
    "\n",
    "def get_main_entity_item_list(json_data):\n",
    "    for item in json_data:\n",
    "        if \"mainEntity\" in item:\n",
    "            main_entity = item[\"mainEntity\"]\n",
    "            if \"itemListElement\" in main_entity:\n",
    "                return main_entity[\"itemListElement\"]\n",
    "    return None  # Return None if not found\n",
    "\n",
    "if script_tag:\n",
    "  # Load the content of the script tag (it's a JSON string)\n",
    "  json_data = json.loads(script_tag.string)\n",
    "  # print(json_data)\n",
    "  # print(json.dumps(json_data, indent=2))\n",
    "  # ans=json_data[1][\"mainEntity\"][\"itemListElement\"]\n",
    "  ans=get_main_entity_item_list(json_data)\n",
    "\n",
    "  # print(json.dumps(ans,indent=2))\n",
    "  # print(ans)\n",
    "  c=0\n",
    "  if (ans):\n",
    "    for i in ans:\n",
    "    #   print(i[\"url\"])\n",
    "      link_array.append(i[\"url\"])\n",
    "      c=c+1\n",
    "#   print(c)\n",
    "\n",
    "# print(total_homes.text.strip())\n"
   ]
  },
  {
   "cell_type": "code",
   "execution_count": 3,
   "id": "c9b89832",
   "metadata": {
    "execution": {
     "iopub.execute_input": "2025-05-26T07:04:48.968911Z",
     "iopub.status.busy": "2025-05-26T07:04:48.967340Z",
     "iopub.status.idle": "2025-05-26T07:06:46.499588Z",
     "shell.execute_reply": "2025-05-26T07:06:46.498169Z"
    },
    "papermill": {
     "duration": 117.544693,
     "end_time": "2025-05-26T07:06:46.502566",
     "exception": false,
     "start_time": "2025-05-26T07:04:48.957873",
     "status": "completed"
    },
    "tags": []
   },
   "outputs": [
    {
     "name": "stdout",
     "output_type": "stream",
     "text": [
      "mmmmmmmmmmmmmmmmmmmm https://www.realtor.com/realestateandhomes-search/Atlanta_GA/shw-nc/price-800000-na/pg-2\n",
      "https://www.realtor.com/realestateandhomes-detail/5042-W-Lariat-Ln_Phoenix_AZ_85083_M12594-14346\n",
      "https://www.realtor.com/realestateandhomes-detail/7841-N-18th-St_Phoenix_AZ_85020_M20458-31417\n",
      "https://www.realtor.com/realestateandhomes-detail/1634-W-Red-Bird-Rd_Phoenix_AZ_85085_M24266-68407\n",
      "https://www.realtor.com/realestateandhomes-detail/4706-E-Rancho-Caliente-Dr_Cave-Creek_AZ_85331_M17875-39243\n",
      "https://www.realtor.com/realestateandhomes-detail/1416-E-Sapium-Way_Phoenix_AZ_85048_M18109-63074\n",
      "https://www.realtor.com/realestateandhomes-detail/2232-W-Chisum-Trl_Phoenix_AZ_85085_M92920-93658\n",
      "https://www.realtor.com/realestateandhomes-detail/1806-W-Fetlock-Trl_Phoenix_AZ_85085_M17211-18706\n",
      "https://www.realtor.com/realestateandhomes-detail/1647-W-Dion-Dr_Phoenix_AZ_85086_M18511-08460\n",
      "https://www.realtor.com/realestateandhomes-detail/211-W-Braeburn-Dr_Phoenix_AZ_85023_M18829-51428\n",
      "https://www.realtor.com/realestateandhomes-detail/3028-W-Parkside-Ln_Phoenix_AZ_85027_M23500-44494\n",
      "https://www.realtor.com/realestateandhomes-detail/1744-E-Luke-Ave_Phoenix_AZ_85016_M19243-44444\n",
      "https://www.realtor.com/realestateandhomes-detail/25842-N-44th-Ave_Phoenix_AZ_85083_M22014-27916\n",
      "https://www.realtor.com/realestateandhomes-detail/1510-E-Red-Range-Way_Phoenix_AZ_85085_M94277-03708\n",
      "https://www.realtor.com/realestateandhomes-detail/36223-N-17th-Ave_Phoenix_AZ_85086_M10162-71925\n",
      "https://www.realtor.com/realestateandhomes-detail/1716-W-Butler-Dr_Phoenix_AZ_85021_M10204-67232\n",
      "https://www.realtor.com/realestateandhomes-detail/17009-S-Coleman-St_Phoenix_AZ_85045_M19455-95325\n",
      "https://www.realtor.com/realestateandhomes-detail/6603-W-Via-Dona-Rd_Phoenix_AZ_85083_M12848-66985\n",
      "https://www.realtor.com/realestateandhomes-detail/1309-W-Lynwood-St_Phoenix_AZ_85007_M25742-85929\n",
      "https://www.realtor.com/realestateandhomes-detail/1526-E-Charleston-Ave_Phoenix_AZ_85022_M25068-23720\n",
      "https://www.realtor.com/realestateandhomes-detail/1330-E-Monte-Vista-Rd_Phoenix_AZ_85006_M29248-51815\n",
      "https://www.realtor.com/realestateandhomes-detail/3743-E-Coronado-Rd_Phoenix_AZ_85008_M21968-62821\n",
      "https://www.realtor.com/realestateandhomes-detail/5525-E-Dusty-Wren-Dr_Cave-Creek_AZ_85331_M22671-48622\n",
      "https://www.realtor.com/realestateandhomes-detail/4958-E-Desert-Vista-Trl_Cave-Creek_AZ_85331_M26205-44855\n",
      "https://www.realtor.com/realestateandhomes-detail/1974-W-Lariat-Ln_Phoenix_AZ_85085_M92769-75738\n",
      "https://www.realtor.com/realestateandhomes-detail/2701-E-Caldwell-St_Phoenix_AZ_85042_M22736-57016\n",
      "https://www.realtor.com/realestateandhomes-detail/26217-N-19th-Ln_Phoenix_AZ_85085_M98152-71300\n",
      "https://www.realtor.com/realestateandhomes-detail/1819-W-Joy-Ranch-Rd_Phoenix_AZ_85086_M29807-59198\n",
      "https://www.realtor.com/realestateandhomes-detail/14033-S-31st-St_Phoenix_AZ_85048_M28147-58501\n",
      "https://www.realtor.com/realestateandhomes-detail/5921-E-Ocupado-Dr_Cave-Creek_AZ_85331_M14440-42144\n",
      "https://www.realtor.com/realestateandhomes-detail/2415-W-Desperado-Way_Phoenix_AZ_85085_M21143-95493\n",
      "https://www.realtor.com/realestateandhomes-detail/127-E-Pershing-Ave_Phoenix_AZ_85022_M19669-62161\n",
      "https://www.realtor.com/realestateandhomes-detail/3702-W-Riordan-Ranch-Rd_Phoenix_AZ_85083_M29493-95796\n",
      "https://www.realtor.com/realestateandhomes-detail/2340-W-Horsetail-Trl_Phoenix_AZ_85085_M13534-70436\n",
      "https://www.realtor.com/realestateandhomes-detail/11237-N-15th-Ln_Phoenix_AZ_85029_M22072-52959\n",
      "https://www.realtor.com/realestateandhomes-detail/1215-E-Cambridge-Ave_Phoenix_AZ_85006_M24140-31004\n",
      "https://www.realtor.com/realestateandhomes-detail/701-W-Windsor-Ave_Phoenix_AZ_85007_M11453-23974\n",
      "https://www.realtor.com/realestateandhomes-detail/1322-W-Spur-Dr_Phoenix_AZ_85085_M23501-78638\n",
      "https://www.realtor.com/realestateandhomes-detail/2620-W-Piedmont-Rd_Phoenix_AZ_85041_M15152-41893\n",
      "https://www.realtor.com/realestateandhomes-detail/26711-N-21st-Dr_Phoenix_AZ_85085_M21250-90818\n",
      "https://www.realtor.com/realestateandhomes-detail/26029-N-23rd-Ave_Phoenix_AZ_85085_M95456-55186\n",
      "https://www.realtor.com/realestateandhomes-detail/2512-E-Bear-Creek-Ln_Phoenix_AZ_85024_M18579-94436\n",
      "https://www.realtor.com/realestateandhomes-detail/4614-W-Fallen-Leaf-Ln_Glendale_AZ_85310_M20334-42677\n",
      "\n",
      "\n",
      "\n",
      "\n",
      " 2\n"
     ]
    },
    {
     "name": "stdout",
     "output_type": "stream",
     "text": [
      "mmmmmmmmmmmmmmmmmmmm https://www.realtor.com/realestateandhomes-search/Atlanta_GA/shw-nc/price-800000-na/pg-3\n",
      "https://www.realtor.com/realestateandhomes-detail/16256-N-64th-Pl_Scottsdale_AZ_85254_M26054-18032\n",
      "https://www.realtor.com/realestateandhomes-detail/5748-W-Soft-Wind-Dr_Glendale_AZ_85310_M27075-94948\n",
      "https://www.realtor.com/realestateandhomes-detail/1720-W-Elm-St_Phoenix_AZ_85015_M22530-61026\n",
      "https://www.realtor.com/realestateandhomes-detail/25549-N-21st-Ave_Phoenix_AZ_85085_M95327-71605\n",
      "https://www.realtor.com/realestateandhomes-detail/11822-S-Coconino-St_Phoenix_AZ_85044_M14755-19027\n",
      "https://www.realtor.com/realestateandhomes-detail/2614-W-Florimond-Rd_Phoenix_AZ_85086_M29223-26200\n",
      "https://www.realtor.com/realestateandhomes-detail/3837-E-Windsong-Dr_Phoenix_AZ_85048_M15250-84657\n",
      "https://www.realtor.com/realestateandhomes-detail/24212-N-20th-Pl_Phoenix_AZ_85024_M97744-26246\n",
      "https://www.realtor.com/realestateandhomes-detail/1414-E-Amberwood-Dr_Phoenix_AZ_85048_M11093-83068\n",
      "https://www.realtor.com/realestateandhomes-detail/4426-E-Coyote-Wash-Dr_Cave-Creek_AZ_85331_M16990-34372\n",
      "https://www.realtor.com/realestateandhomes-detail/1635-E-Silverwood-Dr_Phoenix_AZ_85048_M14602-04651\n",
      "https://www.realtor.com/realestateandhomes-detail/15825-N-45th-St_Phoenix_AZ_85032_M18952-66859\n",
      "https://www.realtor.com/realestateandhomes-detail/37414-N-17th-Ave_Phoenix_AZ_85086_M18624-54977\n",
      "https://www.realtor.com/realestateandhomes-detail/4014-W-Topeka-Dr_Glendale_AZ_85308_M23789-72496\n",
      "https://www.realtor.com/realestateandhomes-detail/2249-E-Taxidea-Way_Phoenix_AZ_85048_M11649-46588\n",
      "https://www.realtor.com/realestateandhomes-detail/8813-S-13th-Pl_Phoenix_AZ_85042_M12525-02477\n",
      "https://www.realtor.com/realestateandhomes-detail/10844-N-37th-St_Phoenix_AZ_85028_M14402-48479\n",
      "https://www.realtor.com/realestateandhomes-detail/6245-W-Maya-Dr_Phoenix_AZ_85083_M28478-68847\n",
      "https://www.realtor.com/realestateandhomes-detail/11051-N-45th-Pl_Phoenix_AZ_85028_M29174-70439\n",
      "https://www.realtor.com/realestateandhomes-detail/1713-W-Cottonwood-Ln_Phoenix_AZ_85045_M24630-59866\n",
      "https://www.realtor.com/realestateandhomes-detail/136-E-Boca-Raton-Rd_Phoenix_AZ_85022_M20871-68793\n",
      "https://www.realtor.com/realestateandhomes-detail/2425-W-Woburn-Ln_Phoenix_AZ_85085_M24786-78304\n",
      "https://www.realtor.com/realestateandhomes-detail/6732-W-Coles-Rd_Laveen_AZ_85339_M92136-70939\n",
      "https://www.realtor.com/realestateandhomes-detail/2315-W-Kachina-Trl_Phoenix_AZ_85041_M29319-93854\n",
      "https://www.realtor.com/realestateandhomes-detail/3115-W-Molly-Ln_Phoenix_AZ_85083_M19506-54016\n",
      "https://www.realtor.com/realestateandhomes-detail/302-E-Acapulco-Ln_Phoenix_AZ_85022_M22999-20059\n",
      "https://www.realtor.com/realestateandhomes-detail/5210-E-Calle-De-Baca_Cave-Creek_AZ_85331_M16828-21945\n",
      "https://www.realtor.com/realestateandhomes-detail/6801-E-Sheena-Dr_Scottsdale_AZ_85254_M19748-03753\n",
      "https://www.realtor.com/realestateandhomes-detail/15055-S-40th-Pl_Phoenix_AZ_85044_M10800-04207\n",
      "https://www.realtor.com/realestateandhomes-detail/16008-S-13th-Way_Phoenix_AZ_85048_M24163-22417\n",
      "https://www.realtor.com/realestateandhomes-detail/9509-S-39th-Dr_Laveen_AZ_85339_M95201-80473\n",
      "https://www.realtor.com/realestateandhomes-detail/22432-N-48th-St_Phoenix_AZ_85054_M10754-86132\n",
      "https://www.realtor.com/realestateandhomes-detail/2149-W-Rowel-Rd_Phoenix_AZ_85085_M95843-17908\n",
      "https://www.realtor.com/realestateandhomes-detail/31107-N-27th-Ave_Phoenix_AZ_85085_M12126-36017\n",
      "https://www.realtor.com/realestateandhomes-detail/28931-N-64th-Dr_Phoenix_AZ_85083_M12056-05104\n",
      "https://www.realtor.com/realestateandhomes-detail/8021-N-16th-Dr_Phoenix_AZ_85021_M22919-69818\n",
      "https://www.realtor.com/realestateandhomes-detail/3025-W-Sentinel-Rock-Rd_Phoenix_AZ_85086_M11955-08329\n",
      "https://www.realtor.com/realestateandhomes-detail/2826-E-Victor-Hugo-Ave_Phoenix_AZ_85032_M15709-54660\n",
      "https://www.realtor.com/realestateandhomes-detail/1820-N-7th-Ave_Phoenix_AZ_85007_M14393-40278\n",
      "https://www.realtor.com/realestateandhomes-detail/6216-W-Molly-Dr_Phoenix_AZ_85083_M28443-28583\n",
      "https://www.realtor.com/realestateandhomes-detail/811-W-Northern-Ave_Phoenix_AZ_85021_M25341-49805\n",
      "https://www.realtor.com/realestateandhomes-detail/5231-W-Desperado-Way_Phoenix_AZ_85083_M29786-18592\n",
      "\n",
      "\n",
      "\n",
      "\n",
      " 3\n"
     ]
    },
    {
     "name": "stdout",
     "output_type": "stream",
     "text": [
      "mmmmmmmmmmmmmmmmmmmm https://www.realtor.com/realestateandhomes-search/Atlanta_GA/shw-nc/price-800000-na/pg-4\n",
      "https://www.realtor.com/realestateandhomes-detail/14818-N-10th-St_Phoenix_AZ_85022_M25153-94887\n",
      "https://www.realtor.com/realestateandhomes-detail/1860-W-Buckhorn-Trl_Phoenix_AZ_85085_M14191-53232\n",
      "https://www.realtor.com/realestateandhomes-detail/2025-W-Calle-De-Sol_Phoenix_AZ_85085_M13786-99479\n",
      "https://www.realtor.com/realestateandhomes-detail/3037-E-Bighorn-Ave_Phoenix_AZ_85048_M26594-95286\n",
      "https://www.realtor.com/realestateandhomes-detail/42711-N-45th-Dr_New-River_AZ_85087_M29048-02984\n",
      "https://www.realtor.com/realestateandhomes-detail/3213-W-Desert-Vista-Trl_Phoenix_AZ_85083_M29355-55610\n",
      "https://www.realtor.com/realestateandhomes-detail/24121-N-24th-Pl_Phoenix_AZ_85024_M18243-80556\n",
      "https://www.realtor.com/realestateandhomes-detail/6111-N-8th-St_Phoenix_AZ_85014_M18554-51089\n",
      "https://www.realtor.com/realestateandhomes-detail/30909-N-27th-Ave_Phoenix_AZ_85085_M27652-43463\n",
      "https://www.realtor.com/realestateandhomes-detail/1307-E-Galvin-St_Phoenix_AZ_85086_M12363-38687\n",
      "https://www.realtor.com/realestateandhomes-detail/2354-E-Lieber-Pl_Phoenix_AZ_85024_M94675-48184\n",
      "https://www.realtor.com/realestateandhomes-detail/901-W-Beck-Ln_Phoenix_AZ_85023_M25718-86907\n",
      "https://www.realtor.com/realestateandhomes-detail/3815-N-8th-St_Phoenix_AZ_85014_M20292-86041\n",
      "https://www.realtor.com/realestateandhomes-detail/2819-N-28th-Pl_Phoenix_AZ_85008_M12875-14545\n",
      "https://www.realtor.com/realestateandhomes-detail/3525-E-Robin-Ln_Phoenix_AZ_85050_M21456-98884\n",
      "https://www.realtor.com/realestateandhomes-detail/1414-E-Vermont-Ave_Phoenix_AZ_85014_M28890-59270\n",
      "https://www.realtor.com/realestateandhomes-detail/537-E-Balao-Dr_Phoenix_AZ_85085_M29360-22150\n",
      "https://www.realtor.com/realestateandhomes-detail/3131-E-Las-Rocas-Dr_Phoenix_AZ_85028_M11214-12447\n",
      "https://www.realtor.com/realestateandhomes-detail/18001-N-44th-Way_Phoenix_AZ_85032_M10381-86041\n",
      "https://www.realtor.com/realestateandhomes-detail/3606-W-Le-Marche-Ave_Phoenix_AZ_85053_M13248-93939\n",
      "https://www.realtor.com/realestateandhomes-detail/1629-W-Big-Oak-St_Phoenix_AZ_85085_M18347-40488\n",
      "https://www.realtor.com/realestateandhomes-detail/4016-E-Western-Star-Blvd_Phoenix_AZ_85044_M17086-92029\n",
      "https://www.realtor.com/realestateandhomes-detail/5650-E-Ocupado-Dr_Cave-Creek_AZ_85331_M14459-05441\n",
      "https://www.realtor.com/realestateandhomes-detail/4414-W-Gold-Pan-Pl_New-River_AZ_85087_M90150-24337\n",
      "https://www.realtor.com/realestateandhomes-detail/4446-E-Woodridge-Dr_Phoenix_AZ_85032_M15345-06642\n",
      "https://www.realtor.com/realestateandhomes-detail/1921-E-Yale-St_Phoenix_AZ_85006_M18389-49061\n",
      "https://www.realtor.com/realestateandhomes-detail/15273-S-31st-St_Phoenix_AZ_85048_M25035-11423\n",
      "https://www.realtor.com/realestateandhomes-detail/4640-N-14th-Ave_Phoenix_AZ_85013_M15561-05145\n",
      "https://www.realtor.com/realestateandhomes-detail/5116-W-Trotter-Trl_Phoenix_AZ_85083_M12687-68098\n",
      "https://www.realtor.com/realestateandhomes-detail/4720-E-Adobe-Dr_Phoenix_AZ_85050_M10646-41742\n",
      "https://www.realtor.com/realestateandhomes-detail/40726-N-Noble-Hawk-Ct_Phoenix_AZ_85086_M13317-07126\n",
      "https://www.realtor.com/realestateandhomes-detail/15239-N-50th-Pl_Scottsdale_AZ_85254_M25675-81727\n",
      "https://www.realtor.com/realestateandhomes-detail/29023-N-48th-Ct_Cave-Creek_AZ_85331_M18713-13082\n",
      "https://www.realtor.com/realestateandhomes-detail/15234-N-19th-Pl_Phoenix_AZ_85022_M26265-59193\n",
      "https://www.realtor.com/realestateandhomes-detail/14655-S-25th-Way_Phoenix_AZ_85048_M20139-65184\n",
      "https://www.realtor.com/realestateandhomes-detail/26645-N-42nd-St_Cave-Creek_AZ_85331_M29643-97707\n",
      "https://www.realtor.com/realestateandhomes-detail/2236-N-22nd-St_Phoenix_AZ_85006_M22108-38037\n",
      "https://www.realtor.com/realestateandhomes-detail/3926-E-Lavender-Ln_Phoenix_AZ_85044_M97179-46714\n",
      "https://www.realtor.com/realestateandhomes-detail/21804-N-38th-Pl_Phoenix_AZ_85050_M17532-02206\n",
      "https://www.realtor.com/realestateandhomes-detail/38406-N-12th-Ave_Phoenix_AZ_85086_M20693-60564\n",
      "https://www.realtor.com/realestateandhomes-detail/356-W-Roma-Ave_Phoenix_AZ_85013_M10170-01499\n",
      "https://www.realtor.com/realestateandhomes-detail/1102-E-Brown-St_Phoenix_AZ_85020_M24438-27460\n",
      "\n",
      "\n",
      "\n",
      "\n",
      " 4\n"
     ]
    },
    {
     "name": "stdout",
     "output_type": "stream",
     "text": [
      "mmmmmmmmmmmmmmmmmmmm https://www.realtor.com/realestateandhomes-search/Atlanta_GA/shw-nc/price-800000-na/pg-5\n",
      "https://www.realtor.com/realestateandhomes-detail/4019-E-Mark-Ln_Cave-Creek_AZ_85331_M90972-02365\n",
      "https://www.realtor.com/realestateandhomes-detail/16256-S-1st-St_Phoenix_AZ_85048_M13442-07144\n",
      "https://www.realtor.com/realestateandhomes-detail/4039-E-Paradise-Dr_Phoenix_AZ_85028_M18645-84394\n",
      "https://www.realtor.com/realestateandhomes-detail/4448-E-Sleepy-Ranch-Rd_Cave-Creek_AZ_85331_M29627-22482\n",
      "https://www.realtor.com/realestateandhomes-detail/37508-N-12th-St_Phoenix_AZ_85086_M26312-90562\n",
      "https://www.realtor.com/realestateandhomes-detail/27308-N-56th-Dr_Phoenix_AZ_85083_M10955-59146\n",
      "https://www.realtor.com/realestateandhomes-detail/5338-N-21st-Ave_Phoenix_AZ_85015_M21496-48035\n",
      "https://www.realtor.com/realestateandhomes-detail/35202-N-30th-Dr_Phoenix_AZ_85086_M11536-95942\n",
      "https://www.realtor.com/realestateandhomes-detail/2027-W-Sleepy-Ranch-Rd_Phoenix_AZ_85085_M96620-06835\n",
      "https://www.realtor.com/realestateandhomes-detail/512-W-Roma-Ave_Phoenix_AZ_85013_M12574-93148\n",
      "https://www.realtor.com/realestateandhomes-detail/3033-E-Sierra-St_Phoenix_AZ_85028_M23146-67926\n",
      "https://www.realtor.com/realestateandhomes-detail/4615-E-Bent-Tree-Dr_Cave-Creek_AZ_85331_M23871-36886\n",
      "https://www.realtor.com/realestateandhomes-detail/31020-N-5th-St_Phoenix_AZ_85085_M29350-53235\n",
      "https://www.realtor.com/realestateandhomes-detail/502-E-Le-Marche-Ave_Phoenix_AZ_85022_M25153-54472\n",
      "https://www.realtor.com/realestateandhomes-detail/9013-S-15th-Way_Phoenix_AZ_85042_M10346-51126\n",
      "https://www.realtor.com/realestateandhomes-detail/35707-N-34th-Ln_Phoenix_AZ_85086_M13448-62003\n",
      "https://www.realtor.com/realestateandhomes-detail/5049-E-Duane-Ln_Cave-Creek_AZ_85331_M13760-99087\n",
      "https://www.realtor.com/realestateandhomes-detail/1919-W-Plum-Rd_Phoenix_AZ_85085_M95936-36842\n",
      "https://www.realtor.com/realestateandhomes-detail/15615-N-47th-St_Phoenix_AZ_85032_M28644-82332\n",
      "https://www.realtor.com/realestateandhomes-detail/1430-W-Maddock-Rd_Phoenix_AZ_85086_M11754-55856\n",
      "https://www.realtor.com/realestateandhomes-detail/4056-E-Rosemonte-Dr_Phoenix_AZ_85050_M13246-99386\n",
      "https://www.realtor.com/realestateandhomes-detail/2108-E-Tecoma-Rd_Phoenix_AZ_85048_M21466-80578\n",
      "https://www.realtor.com/realestateandhomes-detail/24113-N-26th-Pl_Phoenix_AZ_85024_M18137-59762\n",
      "https://www.realtor.com/realestateandhomes-detail/3021-E-Shangri-La-Rd_Phoenix_AZ_85028_M28859-92090\n",
      "https://www.realtor.com/realestateandhomes-detail/4944-E-Dale-Ln_Cave-Creek_AZ_85331_M10758-34273\n",
      "https://www.realtor.com/realestateandhomes-detail/1622-E-Nighthawk-Way_Phoenix_AZ_85048_M23422-14978\n",
      "https://www.realtor.com/realestateandhomes-detail/2929-E-Bloomfield-Rd_Phoenix_AZ_85032_M21457-67302\n",
      "https://www.realtor.com/realestateandhomes-detail/3260-W-Caleb-Rd_Phoenix_AZ_85083_M90572-67885\n",
      "https://www.realtor.com/realestateandhomes-detail/917-E-LA-Mirada-Dr_Phoenix_AZ_85042_M91138-75627\n",
      "https://www.realtor.com/realestateandhomes-detail/4106-E-Lavender-Ln_Phoenix_AZ_85044_M24323-35399\n",
      "https://www.realtor.com/realestateandhomes-detail/3145-W-Sandra-Ter_Phoenix_AZ_85053_M18351-58637\n",
      "https://www.realtor.com/realestateandhomes-detail/4106-E-Muirwood-Dr_Phoenix_AZ_85048_M19482-02168\n",
      "https://www.realtor.com/realestateandhomes-detail/1546-W-Culver-St_Phoenix_AZ_85007_M12628-11508\n",
      "https://www.realtor.com/realestateandhomes-detail/5726-W-Park-View-Ln_Glendale_AZ_85310_M12812-86305\n",
      "https://www.realtor.com/realestateandhomes-detail/3371-W-Grandview-Rd_Phoenix_AZ_85053_M11311-85570\n",
      "https://www.realtor.com/realestateandhomes-detail/16401-S-29th-Dr_Phoenix_AZ_85045_M12436-33182\n",
      "https://www.realtor.com/realestateandhomes-detail/5222-W-El-Cortez-Trl_Phoenix_AZ_85083_M12785-31775\n",
      "https://www.realtor.com/realestateandhomes-detail/4216-N-20th-St_Phoenix_AZ_85016_M14313-16025\n",
      "https://www.realtor.com/realestateandhomes-detail/115-E-Santa-Cruz-Dr_Phoenix_AZ_85085_M96459-51315\n",
      "https://www.realtor.com/realestateandhomes-detail/1635-W-Windsong-Dr_Phoenix_AZ_85045_M29037-99432\n",
      "https://www.realtor.com/realestateandhomes-detail/1349-E-Rock-Wren-Rd_Phoenix_AZ_85048_M26946-99006\n",
      "https://www.realtor.com/realestateandhomes-detail/2330-E-Lieber-Pl_Phoenix_AZ_85024_M93552-06889\n",
      "\n",
      "\n",
      "\n",
      "\n",
      " 5\n"
     ]
    },
    {
     "name": "stdout",
     "output_type": "stream",
     "text": [
      "mmmmmmmmmmmmmmmmmmmm https://www.realtor.com/realestateandhomes-search/Atlanta_GA/shw-nc/price-800000-na/pg-6\n",
      "https://www.realtor.com/realestateandhomes-detail/13246-S-34th-Way_Phoenix_AZ_85044_M20750-53510\n",
      "https://www.realtor.com/realestateandhomes-detail/338-W-Encanto-Blvd_Phoenix_AZ_85003_M24575-83518\n",
      "https://www.realtor.com/realestateandhomes-detail/4905-W-Magellan-Dr_New-River_AZ_85087_M17730-28087\n",
      "https://www.realtor.com/realestateandhomes-detail/2808-E-Lupine-Ave_Phoenix_AZ_85028_M21136-18166\n",
      "https://www.realtor.com/realestateandhomes-detail/14236-N-28th-St_Phoenix_AZ_85032_M15711-76330\n",
      "https://www.realtor.com/realestateandhomes-detail/2926-W-Tanya-Trl_Phoenix_AZ_85086_M13266-50330\n",
      "https://www.realtor.com/realestateandhomes-detail/509-E-Seco-Pl_Phoenix_AZ_85086_M13809-80925\n",
      "https://www.realtor.com/realestateandhomes-detail/14038-S-33rd-Way_Phoenix_AZ_85044_M21528-92618\n",
      "https://www.realtor.com/realestateandhomes-detail/2038-W-Whisper-Rock-Trl_Phoenix_AZ_85085_M16537-17091\n",
      "https://www.realtor.com/realestateandhomes-detail/26330-N-56th-Dr_Phoenix_AZ_85083_M16732-73487\n",
      "https://www.realtor.com/realestateandhomes-detail/4605-E-Swilling-Rd_Phoenix_AZ_85050_M17157-53666\n",
      "https://www.realtor.com/realestateandhomes-detail/4535-E-Navigator-Ln_Phoenix_AZ_85050_M23324-63374\n",
      "https://www.realtor.com/realestateandhomes-detail/18-E-Paint-Your-Wagon-Trl_Phoenix_AZ_85085_M15287-27272\n",
      "https://www.realtor.com/realestateandhomes-detail/5018-E-Kathleen-Rd_Scottsdale_AZ_85254_M15420-71629\n",
      "https://www.realtor.com/realestateandhomes-detail/2930-E-Quiet-Hollow-Ln_Phoenix_AZ_85024_M11485-51316\n",
      "https://www.realtor.com/realestateandhomes-detail/5717-N-108th-Ave_Phoenix_AZ_85037_M96534-29933\n",
      "https://www.realtor.com/realestateandhomes-detail/2943-W-Thorn-Tree-Dr_Phoenix_AZ_85085_M27562-25105\n",
      "https://www.realtor.com/realestateandhomes-detail/1620-W-Nighthawk-Way_Phoenix_AZ_85045_M28859-11780\n",
      "https://www.realtor.com/realestateandhomes-detail/4530-E-Vista-Dr_Phoenix_AZ_85032_M26140-89624\n",
      "https://www.realtor.com/realestateandhomes-detail/2321-W-Brookhart-Way_Phoenix_AZ_85085_M29804-67396\n",
      "https://www.realtor.com/realestateandhomes-detail/4449-E-Rancho-Caliente-Dr_Cave-Creek_AZ_85331_M15180-31947\n",
      "https://www.realtor.com/realestateandhomes-detail/3002-E-Montecito-Ave_Phoenix_AZ_85016_M11225-30425\n",
      "https://www.realtor.com/realestateandhomes-detail/3811-E-Evans-Dr_Phoenix_AZ_85032_M11370-28099\n",
      "https://www.realtor.com/realestateandhomes-detail/19-E-Boca-Raton-Rd_Phoenix_AZ_85022_M18740-07602\n",
      "https://www.realtor.com/realestateandhomes-detail/2307-W-Sienna-Bouquet-Pl_Phoenix_AZ_85085_M18198-79600\n",
      "https://www.realtor.com/realestateandhomes-detail/1837-E-Coolidge-St_Phoenix_AZ_85016_M13461-63346\n",
      "https://www.realtor.com/realestateandhomes-detail/2251-E-Parkside-Ln_Phoenix_AZ_85024_M11292-88156\n",
      "https://www.realtor.com/realestateandhomes-detail/6012-E-Ludlow-Dr_Scottsdale_AZ_85254_M23695-87776\n",
      "https://www.realtor.com/realestateandhomes-detail/2246-E-Sheridan-St_Phoenix_AZ_85006_M24591-11422\n",
      "https://www.realtor.com/realestateandhomes-detail/21-W-Beryl-Ave_Phoenix_AZ_85021_M26357-48137\n",
      "https://www.realtor.com/realestateandhomes-detail/8615-S-45th-Gln_Laveen_AZ_85339_M15423-71499\n",
      "https://www.realtor.com/realestateandhomes-detail/4356-E-Rancho-Tierra-Dr_Cave-Creek_AZ_85331_M15608-87781\n",
      "https://www.realtor.com/realestateandhomes-detail/4530-E-White-Feather-Ln_Cave-Creek_AZ_85331_M14557-11919\n",
      "https://www.realtor.com/realestateandhomes-detail/26926-N-55th-Ln_Phoenix_AZ_85083_M10961-18135\n",
      "https://www.realtor.com/realestateandhomes-detail/511-E-Port-Au-Prince-Ln_Phoenix_AZ_85022_M20855-66358\n",
      "https://www.realtor.com/realestateandhomes-detail/4516-E-Madre-Del-Oro-Dr_Cave-Creek_AZ_85331_M28679-89338\n",
      "https://www.realtor.com/realestateandhomes-detail/2719-N-Greenfield-Rd_Phoenix_AZ_85006_M28690-85428\n",
      "https://www.realtor.com/realestateandhomes-detail/6027-E-Spring-Rd_Scottsdale_AZ_85254_M22593-66490\n",
      "https://www.realtor.com/realestateandhomes-detail/4938-E-Hearn-Rd_Scottsdale_AZ_85254_M24608-26175\n",
      "https://www.realtor.com/realestateandhomes-detail/3137-N-4th-Ave_Phoenix_AZ_85013_M11583-25966\n",
      "https://www.realtor.com/realestateandhomes-detail/2738-W-Silver-Fox-Way_Phoenix_AZ_85045_M12949-37013\n",
      "https://www.realtor.com/realestateandhomes-detail/2316-W-Moody-Trl_Phoenix_AZ_85041_M95235-95557\n",
      "\n",
      "\n",
      "\n",
      "\n",
      " 6\n"
     ]
    },
    {
     "name": "stdout",
     "output_type": "stream",
     "text": [
      "mmmmmmmmmmmmmmmmmmmm https://www.realtor.com/realestateandhomes-search/Atlanta_GA/shw-nc/price-800000-na/pg-7\n",
      "https://www.realtor.com/realestateandhomes-detail/26119-N-23rd-Ave_Phoenix_AZ_85085_M96639-51220\n",
      "https://www.realtor.com/realestateandhomes-detail/4418-E-Paradise-Ln_Phoenix_AZ_85032_M22113-67956\n",
      "https://www.realtor.com/realestateandhomes-detail/5719-E-Paradise-Ln_Scottsdale_AZ_85254_M18073-67873\n",
      "https://www.realtor.com/realestateandhomes-detail/4422-E-Spur-Dr_Cave-Creek_AZ_85331_M22255-89025\n",
      "https://www.realtor.com/realestateandhomes-detail/31256-N-40th-Pl_Cave-Creek_AZ_85331_M11995-83096\n",
      "https://www.realtor.com/realestateandhomes-detail/18825-N-34th-St_Phoenix_AZ_85050_M21539-26618\n",
      "https://www.realtor.com/realestateandhomes-detail/6506-W-Bent-Tree-Dr_Phoenix_AZ_85083_M24465-92327\n",
      "https://www.realtor.com/realestateandhomes-detail/1520-W-Encanto-Blvd_Phoenix_AZ_85007_M23224-79956\n",
      "https://www.realtor.com/realestateandhomes-detail/3125-W-Desert-Ln_Laveen_AZ_85339_M22063-30573\n",
      "https://www.realtor.com/realestateandhomes-detail/2946-W-Amber-Sun-Dr_Phoenix_AZ_85085_M27580-51136\n",
      "https://www.realtor.com/realestateandhomes-detail/9623-N-34th-Pl_Phoenix_AZ_85028_M18435-81443\n",
      "https://www.realtor.com/realestateandhomes-detail/8817-S-18th-Way_Phoenix_AZ_85042_M13917-82974\n",
      "https://www.realtor.com/realestateandhomes-detail/2926-N-16th-Ave_Phoenix_AZ_85015_M17855-14990\n",
      "https://www.realtor.com/realestateandhomes-detail/41225-N-River-Bend-Rd_Phoenix_AZ_85086_M10057-77297\n",
      "https://www.realtor.com/realestateandhomes-detail/3042-E-South-Fork-Dr_Phoenix_AZ_85048_M29939-19546\n",
      "https://www.realtor.com/realestateandhomes-detail/2705-E-Verbena-Dr_Phoenix_AZ_85048_M17502-45481\n",
      "https://www.realtor.com/realestateandhomes-detail/1737-W-Tamar-Rd_Phoenix_AZ_85086_M18315-81106\n",
      "https://www.realtor.com/realestateandhomes-detail/3805-E-Desert-Flower-Ln_Phoenix_AZ_85044_M20243-77454\n",
      "https://www.realtor.com/realestateandhomes-detail/2017-W-Edgemont-Ave_Phoenix_AZ_85009_M27631-49725\n",
      "https://www.realtor.com/realestateandhomes-detail/1422-E-Royal-Palm-Rd_Phoenix_AZ_85020_M11589-24730\n",
      "https://www.realtor.com/realestateandhomes-detail/1758-W-Aster-Dr_Phoenix_AZ_85029_M29764-82022\n",
      "https://www.realtor.com/realestateandhomes-detail/932-E-Mountain-Sage-Dr_Phoenix_AZ_85048_M26849-72595\n",
      "https://www.realtor.com/realestateandhomes-detail/4612-W-Waltann-Ln_Glendale_AZ_85306_M28900-00365\n",
      "https://www.realtor.com/realestateandhomes-detail/26624-N-41st-St_Cave-Creek_AZ_85331_M24898-15929\n",
      "https://www.realtor.com/realestateandhomes-detail/1805-W-Piedmont-Rd_Phoenix_AZ_85041_M26094-71824\n",
      "https://www.realtor.com/realestateandhomes-detail/10653-N-10th-Pl_Phoenix_AZ_85020_M22211-27262\n",
      "https://www.realtor.com/realestateandhomes-detail/15237-S-19th-Way_Phoenix_AZ_85048_M20804-96264\n",
      "https://www.realtor.com/realestateandhomes-detail/3413-N-16th-Dr_Phoenix_AZ_85015_M18842-32472\n",
      "https://www.realtor.com/realestateandhomes-detail/6016-W-Gambit-Trl_Phoenix_AZ_85083_M26469-56779\n",
      "https://www.realtor.com/realestateandhomes-detail/5802-E-Spring-Rd_Scottsdale_AZ_85254_M24900-68567\n",
      "https://www.realtor.com/realestateandhomes-detail/2146-E-Whitton-Ave_Phoenix_AZ_85016_M23759-71105\n",
      "https://www.realtor.com/realestateandhomes-detail/8149-N-13th-Pl_Phoenix_AZ_85020_M13587-73572\n",
      "https://www.realtor.com/realestateandhomes-detail/2210-W-Calle-De-Sol_Phoenix_AZ_85085_M13876-06039\n",
      "https://www.realtor.com/realestateandhomes-detail/29228-N-48th-St_Cave-Creek_AZ_85331_M10684-18351\n",
      "https://www.realtor.com/realestateandhomes-detail/5723-E-Jake-Hvn_Cave-Creek_AZ_85331_M14444-14803\n",
      "https://www.realtor.com/realestateandhomes-detail/20638-N-11th-St_Phoenix_AZ_85024_M11836-31897\n",
      "https://www.realtor.com/realestateandhomes-detail/39730-N-New-River-Rd_Phoenix_AZ_85086_M29316-63716\n",
      "https://www.realtor.com/realestateandhomes-detail/9821-N-29th-Pl_Phoenix_AZ_85028_M11596-47304\n",
      "https://www.realtor.com/realestateandhomes-detail/4931-E-Paradise-Ln_Scottsdale_AZ_85254_M18622-97873\n",
      "https://www.realtor.com/realestateandhomes-detail/5544-E-Paradise-Ln_Scottsdale_AZ_85254_M17319-41606\n",
      "https://www.realtor.com/realestateandhomes-detail/2607-W-Gray-Wolf-Trl_Phoenix_AZ_85085_M11385-73365\n",
      "https://www.realtor.com/realestateandhomes-detail/827-E-McLellan-Blvd_Phoenix_AZ_85014_M15719-31798\n",
      "\n",
      "\n",
      "\n",
      "\n",
      " 7\n"
     ]
    },
    {
     "name": "stdout",
     "output_type": "stream",
     "text": [
      "mmmmmmmmmmmmmmmmmmmm https://www.realtor.com/realestateandhomes-search/Atlanta_GA/shw-nc/price-800000-na/pg-8\n",
      "https://www.realtor.com/realestateandhomes-detail/4931-E-Paradise-Ln_Scottsdale_AZ_85254_M18622-97873\n",
      "https://www.realtor.com/realestateandhomes-detail/616-E-Lavitt-Ln_Phoenix_AZ_85086_M23454-10403\n",
      "https://www.realtor.com/realestateandhomes-detail/2717-W-Nighthawk-Way_Phoenix_AZ_85045_M26883-54197\n",
      "https://www.realtor.com/realestateandhomes-detail/2607-W-Gray-Wolf-Trl_Phoenix_AZ_85085_M11385-73365\n",
      "https://www.realtor.com/realestateandhomes-detail/827-E-McLellan-Blvd_Phoenix_AZ_85014_M15719-31798\n",
      "https://www.realtor.com/realestateandhomes-detail/4527-N-12th-Ave_Phoenix_AZ_85013_M14007-66175\n",
      "https://www.realtor.com/realestateandhomes-detail/7605-S-18th-Way_Phoenix_AZ_85042_M15521-72442\n",
      "https://www.realtor.com/realestateandhomes-detail/5910-W-Blue-Sky-Dr_Phoenix_AZ_85083_M13948-09739\n",
      "https://www.realtor.com/realestateandhomes-detail/39514-N-Bent-Creek-Ct_Phoenix_AZ_85086_M18468-97409\n",
      "https://www.realtor.com/realestateandhomes-detail/536-W-Windsor-Ave_Phoenix_AZ_85003_M17757-65835\n",
      "https://www.realtor.com/realestateandhomes-detail/5203-W-Roundhouse-Rd_Laveen_AZ_85339_M94317-86143\n",
      "https://www.realtor.com/realestateandhomes-detail/4780-E-Casey-Ln_Cave-Creek_AZ_85331_M25767-94639\n",
      "https://www.realtor.com/realestateandhomes-detail/17627-N-14th-Ave_Phoenix_AZ_85023_M13332-56032\n",
      "https://www.realtor.com/realestateandhomes-detail/4840-E-Sunnyside-Dr_Scottsdale_AZ_85254_M24677-33672\n",
      "https://www.realtor.com/realestateandhomes-detail/35206-N-27th-Ave_Phoenix_AZ_85086_M29218-04477\n",
      "https://www.realtor.com/realestateandhomes-detail/730-E-Mesquite-St_Phoenix_AZ_85086_M28828-95715\n",
      "https://www.realtor.com/realestateandhomes-detail/4916-E-Kathleen-Rd_Scottsdale_AZ_85254_M18057-28172\n",
      "https://www.realtor.com/realestateandhomes-detail/1750-E-Euclid-Ave_Phoenix_AZ_85042_M19848-08696\n",
      "https://www.realtor.com/realestateandhomes-detail/3020-E-Rockledge-Rd_Phoenix_AZ_85048_M17975-73228\n",
      "https://www.realtor.com/realestateandhomes-detail/41213-N-River-Bend-Rd_Phoenix_AZ_85086_M13077-11008\n",
      "https://www.realtor.com/realestateandhomes-detail/3440-W-Mesquite-St_Phoenix_AZ_85086_M13235-83150\n",
      "https://www.realtor.com/realestateandhomes-detail/10829-N-11th-Pl_Phoenix_AZ_85020_M11501-87868\n",
      "https://www.realtor.com/realestateandhomes-detail/3440-E-Topeka-Dr_Phoenix_AZ_85050_M15733-86393\n",
      "https://www.realtor.com/realestateandhomes-detail/1329-E-Catalina-Dr_Phoenix_AZ_85014_M19580-33559\n",
      "https://www.realtor.com/realestateandhomes-detail/1428-E-Las-Palmaritas-Dr_Phoenix_AZ_85020_M13349-94936\n",
      "https://www.realtor.com/realestateandhomes-detail/4750-W-Saddlehorn-Rd_Phoenix_AZ_85083_M14162-44137\n",
      "https://www.realtor.com/realestateandhomes-detail/3202-N-21st-St_Phoenix_AZ_85016_M18245-46953\n",
      "https://www.realtor.com/realestateandhomes-detail/14810-N-7th-Pl_Phoenix_AZ_85022_M24882-28015\n",
      "https://www.realtor.com/realestateandhomes-detail/1934-W-Morning-Vista-Ln_Phoenix_AZ_85085_M20893-90045\n",
      "https://www.realtor.com/realestateandhomes-detail/3827-N-8th-St_Phoenix_AZ_85014_M20247-76862\n",
      "https://www.realtor.com/realestateandhomes-detail/9609-S-50th-St_Phoenix_AZ_85044_M17251-39608\n",
      "https://www.realtor.com/realestateandhomes-detail/301-E-Ashurst-Dr_Phoenix_AZ_85048_M19025-92353\n",
      "https://www.realtor.com/realestateandhomes-detail/2938-N-18th-Ave_Phoenix_AZ_85015_M11906-27378\n",
      "https://www.realtor.com/realestateandhomes-detail/1757-W-Sunland-Ave_Phoenix_AZ_85041_M12862-37265\n",
      "https://www.realtor.com/realestateandhomes-detail/16221-S-35th-Dr_Phoenix_AZ_85045_M29893-49713\n",
      "https://www.realtor.com/realestateandhomes-detail/14025-N-11th-Pl_Phoenix_AZ_85022_M21465-77520\n",
      "https://www.realtor.com/realestateandhomes-detail/1978-W-Lariat-Ln_Phoenix_AZ_85085_M96341-70004\n",
      "https://www.realtor.com/realestateandhomes-detail/2126-W-Red-Fox-Rd_Phoenix_AZ_85085_M29083-55719\n",
      "https://www.realtor.com/realestateandhomes-detail/1322-W-Flower-St_Phoenix_AZ_85013_M17194-79740\n",
      "https://www.realtor.com/realestateandhomes-detail/207-E-Monterey-Way_Phoenix_AZ_85012_M29574-47804\n",
      "https://www.realtor.com/realestateandhomes-detail/32819-N-23rd-Ave_Phoenix_AZ_85085_M18130-97199\n",
      "https://www.realtor.com/realestateandhomes-detail/1302-E-Pierce-St_Phoenix_AZ_85006_M26753-39792\n",
      "\n",
      "\n",
      "\n",
      "\n",
      " 8\n"
     ]
    },
    {
     "name": "stdout",
     "output_type": "stream",
     "text": [
      "mmmmmmmmmmmmmmmmmmmm https://www.realtor.com/realestateandhomes-search/Atlanta_GA/shw-nc/price-800000-na/pg-9\n",
      "https://www.realtor.com/realestateandhomes-detail/26203-N-50th-Dr_Phoenix_AZ_85083_M12703-70533\n",
      "https://www.realtor.com/realestateandhomes-detail/1712-W-Aloe-Vera-Dr_Phoenix_AZ_85085_M13082-32731\n",
      "https://www.realtor.com/realestateandhomes-detail/7512-W-Warner-St_Phoenix_AZ_85043_M12727-72610\n",
      "https://www.realtor.com/realestateandhomes-detail/2168-E-Vista-Bonita-Dr_Phoenix_AZ_85024_M12117-20421\n",
      "https://www.realtor.com/realestateandhomes-detail/1978-W-Lariat-Ln_Phoenix_AZ_85085_M96341-70004\n",
      "https://www.realtor.com/realestateandhomes-detail/1302-E-Pierce-St_Phoenix_AZ_85006_M26753-39792\n",
      "https://www.realtor.com/realestateandhomes-detail/2126-W-Red-Fox-Rd_Phoenix_AZ_85085_M29083-55719\n",
      "https://www.realtor.com/realestateandhomes-detail/207-E-Monterey-Way_Phoenix_AZ_85012_M29574-47804\n",
      "https://www.realtor.com/realestateandhomes-detail/1248-E-Briarwood-Ter_Phoenix_AZ_85048_M29915-96770\n",
      "https://www.realtor.com/realestateandhomes-detail/2202-E-Lincoln-Dr_Phoenix_AZ_85016_M29708-67276\n",
      "https://www.realtor.com/realestateandhomes-detail/4615-W-Corral-Rd_Laveen_AZ_85339_M25358-81525\n",
      "https://www.realtor.com/realestateandhomes-detail/1811-E-Tierra-Buena-Ln_Phoenix_AZ_85022_M22210-68474\n",
      "https://www.realtor.com/realestateandhomes-detail/4329-E-Hubbell-St_Phoenix_AZ_85008_M18445-99179\n",
      "https://www.realtor.com/realestateandhomes-detail/32215-N-16th-Ave_Phoenix_AZ_85085_M12937-36279\n",
      "https://www.realtor.com/realestateandhomes-detail/4108-E-Paradise-Dr_Phoenix_AZ_85028_M25191-72045\n",
      "https://www.realtor.com/realestateandhomes-detail/730-E-Tanya-Trl_Phoenix_AZ_85086_M28471-96318\n",
      "https://www.realtor.com/realestateandhomes-detail/4317-E-Glenrosa-Ave_Phoenix_AZ_85018_M22361-89000\n",
      "https://www.realtor.com/realestateandhomes-detail/102-E-Angela-Dr_Phoenix_AZ_85022_M16106-11921\n",
      "https://www.realtor.com/realestateandhomes-detail/44014-N-49th-Dr_New-River_AZ_85087_M17723-20034\n",
      "https://www.realtor.com/realestateandhomes-detail/15430-N-19th-Way_Phoenix_AZ_85022_M16370-73889\n",
      "https://www.realtor.com/realestateandhomes-detail/15825-S-1st-Ave_Phoenix_AZ_85045_M15778-90497\n",
      "https://www.realtor.com/realestateandhomes-detail/13032-N-19th-St_Phoenix_AZ_85022_M10421-50936\n",
      "https://www.realtor.com/realestateandhomes-detail/1526-E-Hazel-Dr_Phoenix_AZ_85042_M18508-86118\n",
      "https://www.realtor.com/realestateandhomes-detail/5715-N-105th-Ln_Glendale_AZ_85307_M13485-80038\n",
      "https://www.realtor.com/realestateandhomes-detail/3435-E-Desert-Trumpet-Rd_Phoenix_AZ_85044_M97113-16279\n",
      "https://www.realtor.com/realestateandhomes-detail/2513-E-Pleasant-Ln_Phoenix_AZ_85042_M97834-89263\n",
      "https://www.realtor.com/realestateandhomes-detail/2320-E-Allen-St_Phoenix_AZ_85042_M29716-28094\n",
      "https://www.realtor.com/realestateandhomes-detail/1721-E-Cielo-Grande-Ave_Phoenix_AZ_85024_M29431-12373\n",
      "https://www.realtor.com/realestateandhomes-detail/6819-E-Grandview-Dr_Scottsdale_AZ_85254_M26817-75948\n",
      "https://www.realtor.com/realestateandhomes-detail/8436-N-13th-Pl_Phoenix_AZ_85020_M24920-76556\n",
      "https://www.realtor.com/realestateandhomes-detail/4508-E-Fernwood-Ct_Cave-Creek_AZ_85331_M25290-56967\n",
      "https://www.realtor.com/realestateandhomes-detail/14833-S-14th-Pl_Phoenix_AZ_85048_M17362-44859\n",
      "https://www.realtor.com/realestateandhomes-detail/4813-W-Yoosooni-Dr_New-River_AZ_85087_M17879-71730\n",
      "https://www.realtor.com/realestateandhomes-detail/15626-N-50th-St_Scottsdale_AZ_85254_M24178-21278\n",
      "https://www.realtor.com/realestateandhomes-detail/5011-E-Nisbet-Rd_Scottsdale_AZ_85254_M29656-30632\n",
      "https://www.realtor.com/realestateandhomes-detail/15255-N-5th-Ln_Phoenix_AZ_85023_M24628-46759\n",
      "https://www.realtor.com/realestateandhomes-detail/2317-E-Desert-Cove-Ave_Phoenix_AZ_85028_M19260-58678\n",
      "https://www.realtor.com/realestateandhomes-detail/5016-E-Waltann-Ln_Scottsdale_AZ_85254_M23226-81327\n",
      "https://www.realtor.com/realestateandhomes-detail/29816-N-51st-Pl_Cave-Creek_AZ_85331_M20887-37112\n",
      "https://www.realtor.com/realestateandhomes-detail/5521-W-Northwood-Dr_Glendale_AZ_85310_M15924-37513\n",
      "https://www.realtor.com/realestateandhomes-detail/3206-W-Sentinel-Rock-Rd_Phoenix_AZ_85086_M14407-95912\n",
      "https://www.realtor.com/realestateandhomes-detail/1401-W-Ocotillo-Rd_Phoenix_AZ_85013_M14195-85476\n",
      "\n",
      "\n",
      "\n",
      "\n",
      " 9\n"
     ]
    },
    {
     "name": "stdout",
     "output_type": "stream",
     "text": [
      "mmmmmmmmmmmmmmmmmmmm https://www.realtor.com/realestateandhomes-search/Atlanta_GA/shw-nc/price-800000-na/pg-10\n",
      "https://www.realtor.com/realestateandhomes-detail/41448-N-Bent-Creek-Way_Anthem_AZ_85086_M13187-04461\n",
      "https://www.realtor.com/realestateandhomes-detail/2320-W-Moody-Trl_Phoenix_AZ_85041_M98445-51024\n",
      "https://www.realtor.com/realestateandhomes-detail/4211-W-Yorkshire-Dr_Glendale_AZ_85308_M17928-16486\n",
      "https://www.realtor.com/realestateandhomes-detail/6404-W-Black-Hill-Rd_Phoenix_AZ_85083_M22471-02694\n",
      "https://www.realtor.com/realestateandhomes-detail/14201-N-10th-St_Phoenix_AZ_85022_M22077-27266\n",
      "https://www.realtor.com/realestateandhomes-detail/4539-N-9th-Ave_Phoenix_AZ_85013_M13103-96265\n",
      "https://www.realtor.com/realestateandhomes-detail/5032-W-Yearling-Rd_Phoenix_AZ_85083_M12657-12290\n",
      "https://www.realtor.com/realestateandhomes-detail/4607-E-Sierra-Sunset-Trl_Cave-Creek_AZ_85331_M23433-23510\n",
      "https://www.realtor.com/realestateandhomes-detail/3029-W-Night-Owl-Ln_Phoenix_AZ_85085_M27605-47955\n",
      "https://www.realtor.com/realestateandhomes-detail/5415-E-Juniper-Ave_Scottsdale_AZ_85254_M11690-65438\n",
      "https://www.realtor.com/realestateandhomes-detail/4132-W-Tunnel-Mine-Rd_New-River_AZ_85087_M10433-49190\n",
      "https://www.realtor.com/realestateandhomes-detail/33828-N-Pate-Pl_Cave-Creek_AZ_85331_M10023-73470\n",
      "https://www.realtor.com/realestateandhomes-detail/17005-S-Coleman-St_Phoenix_AZ_85045_M12946-76151\n",
      "https://www.realtor.com/realestateandhomes-detail/4634-E-Wilshire-Dr_Phoenix_AZ_85008_M24341-95027\n",
      "https://www.realtor.com/realestateandhomes-detail/41618-N-Anthem-Ridge-Dr_Phoenix_AZ_85086_M26724-27087\n",
      "https://www.realtor.com/realestateandhomes-detail/2346-E-Lupine-Ave_Phoenix_AZ_85028_M18641-48575\n",
      "https://www.realtor.com/realestateandhomes-detail/2915-W-Night-Owl-Ln_Phoenix_AZ_85085_M11976-10841\n",
      "https://www.realtor.com/realestateandhomes-detail/3954-E-Becker-Ln_Phoenix_AZ_85028_M24545-15635\n",
      "https://www.realtor.com/realestateandhomes-detail/1422-E-Windsor-Ave_Phoenix_AZ_85006_M16946-00612\n",
      "https://www.realtor.com/realestateandhomes-detail/1201-W-Dahlia-Dr_Phoenix_AZ_85029_M21004-48767\n",
      "https://www.realtor.com/realestateandhomes-detail/14034-S-34th-Pl_Phoenix_AZ_85044_M21519-60969\n",
      "https://www.realtor.com/realestateandhomes-detail/9907-S-37th-Dr_Laveen_AZ_85339_M92029-79445\n",
      "https://www.realtor.com/realestateandhomes-detail/9-W-Glenhaven-Dr_Phoenix_AZ_85045_M20610-18771\n",
      "https://www.realtor.com/realestateandhomes-detail/4625-E-Thorn-Tree-Dr_Cave-Creek_AZ_85331_M20078-19972\n",
      "https://www.realtor.com/realestateandhomes-detail/4829-E-Charleston-Ave_Scottsdale_AZ_85254_M16252-75106\n",
      "https://www.realtor.com/realestateandhomes-detail/4867-E-Windstone-Trl_Cave-Creek_AZ_85331_M21023-76447\n",
      "https://www.realtor.com/realestateandhomes-detail/4462-E-Dale-Ln_Cave-Creek_AZ_85331_M25166-47408\n",
      "https://www.realtor.com/realestateandhomes-detail/7028-N-12th-Way_Phoenix_AZ_85020_M15998-04614\n",
      "https://www.realtor.com/realestateandhomes-detail/6833-E-Grandview-Dr_Scottsdale_AZ_85254_M21539-03873\n",
      "https://www.realtor.com/realestateandhomes-detail/43916-N-50th-Ln_New-River_AZ_85087_M27823-43000\n",
      "https://www.realtor.com/realestateandhomes-detail/35317-N-31st-Dr_Phoenix_AZ_85086_M12075-45229\n",
      "https://www.realtor.com/realestateandhomes-detail/8420-S-40th-Dr_Laveen_AZ_85339_M10195-72418\n",
      "https://www.realtor.com/realestateandhomes-detail/1815-N-Dayton-St_Phoenix_AZ_85006_M27721-82605\n",
      "https://www.realtor.com/realestateandhomes-detail/2336-N-28th-Pl_Phoenix_AZ_85008_M94213-79247\n",
      "https://www.realtor.com/realestateandhomes-detail/5120-E-Janice-Way_Scottsdale_AZ_85254_M25410-48376\n",
      "https://www.realtor.com/realestateandhomes-detail/8137-N-13th-Pl_Phoenix_AZ_85020_M13851-57860\n",
      "https://www.realtor.com/realestateandhomes-detail/38234-N-15th-Ave_Phoenix_AZ_85086_M11086-02225\n",
      "https://www.realtor.com/realestateandhomes-detail/919-W-Port-Royale-Ln_Phoenix_AZ_85023_M26984-79314\n",
      "https://www.realtor.com/realestateandhomes-detail/11845-N-40th-Pl_Phoenix_AZ_85028_M26935-16646\n",
      "https://www.realtor.com/realestateandhomes-detail/15436-N-19th-Way_Phoenix_AZ_85022_M28678-56171\n",
      "https://www.realtor.com/realestateandhomes-detail/545-W-Windsor-Ave_Phoenix_AZ_85003_M18272-67367\n",
      "https://www.realtor.com/realestateandhomes-detail/1533-W-Culver-St_Phoenix_AZ_85007_M21561-62055\n",
      "\n",
      "\n",
      "\n",
      "\n",
      " 10\n"
     ]
    },
    {
     "name": "stdout",
     "output_type": "stream",
     "text": [
      "mmmmmmmmmmmmmmmmmmmm https://www.realtor.com/realestateandhomes-search/Atlanta_GA/shw-nc/price-800000-na/pg-11\n",
      "https://www.realtor.com/realestateandhomes-detail/1533-W-Culver-St_Phoenix_AZ_85007_M21561-62055\n",
      "https://www.realtor.com/realestateandhomes-detail/11825-S-46th-St_Phoenix_AZ_85044_M15030-21293\n",
      "https://www.realtor.com/realestateandhomes-detail/2336-N-28th-Pl_Phoenix_AZ_85008_M94213-79247\n",
      "https://www.realtor.com/realestateandhomes-detail/38234-N-15th-Ave_Phoenix_AZ_85086_M11086-02225\n",
      "https://www.realtor.com/realestateandhomes-detail/5120-E-Janice-Way_Scottsdale_AZ_85254_M25410-48376\n",
      "https://www.realtor.com/realestateandhomes-detail/1913-W-Lariat-Ln_Phoenix_AZ_85085_M90818-96471\n",
      "https://www.realtor.com/realestateandhomes-detail/4321-E-Desert-Sky-Ct_Cave-Creek_AZ_85331_M13865-70817\n",
      "https://www.realtor.com/realestateandhomes-detail/17629-N-24th-Way_Phoenix_AZ_85032_M18702-54931\n",
      "https://www.realtor.com/realestateandhomes-detail/320-E-Joan-D-Arc-Ave_Phoenix_AZ_85022_M17772-67141\n",
      "https://www.realtor.com/realestateandhomes-detail/2324-E-Cortez-St_Phoenix_AZ_85028_M11547-68614\n",
      "https://www.realtor.com/realestateandhomes-detail/2011-W-Cambridge-Ave_Phoenix_AZ_85009_M22799-85409\n",
      "https://www.realtor.com/realestateandhomes-detail/917-W-Willetta-St_Phoenix_AZ_85007_M22458-23912\n",
      "https://www.realtor.com/realestateandhomes-detail/5128-E-Blanche-Dr_Scottsdale_AZ_85254_M24103-30823\n",
      "https://www.realtor.com/realestateandhomes-detail/5330-E-Tierra-Buena-Ln_Scottsdale_AZ_85254_M24166-28768\n",
      "https://www.realtor.com/realestateandhomes-detail/4419-W-Lodge-Dr_Laveen_AZ_85339_M29863-40866\n",
      "https://www.realtor.com/realestateandhomes-detail/5541-W-Desperado-Way_Phoenix_AZ_85083_M13514-64373\n",
      "https://www.realtor.com/realestateandhomes-detail/16211-S-4th-St_Phoenix_AZ_85048_M15978-27776\n",
      "https://www.realtor.com/realestateandhomes-detail/2830-E-Saguaro-Park-Ln_Phoenix_AZ_85024_M18315-72883\n",
      "https://www.realtor.com/realestateandhomes-detail/2537-E-Vista-Bonita-Dr_Phoenix_AZ_85024_M19442-68425\n",
      "https://www.realtor.com/realestateandhomes-detail/1075-E-Shangri-La-Rd_Phoenix_AZ_85020_M23503-65550\n",
      "https://www.realtor.com/realestateandhomes-detail/2366-E-Shea-Blvd_Phoenix_AZ_85028_M24173-61491\n",
      "https://www.realtor.com/realestateandhomes-detail/3264-E-Vineyard-Rd_Phoenix_AZ_85042_M29488-97704\n",
      "https://www.realtor.com/realestateandhomes-detail/2914-E-Gary-Way_Phoenix_AZ_85042_M11595-87110\n",
      "https://www.realtor.com/realestateandhomes-detail/7607-N-22nd-Pl_Phoenix_AZ_85020_M11324-43166\n",
      "https://www.realtor.com/realestateandhomes-detail/2330-N-28th-Pl_Phoenix_AZ_85008_M97657-95465\n",
      "https://www.realtor.com/realestateandhomes-detail/4439-E-Coyote-Wash-Dr_Cave-Creek_AZ_85331_M20880-53546\n",
      "https://www.realtor.com/realestateandhomes-detail/44717-N-44th-Dr_New-River_AZ_85087_M94001-55068\n",
      "https://www.realtor.com/realestateandhomes-detail/15020-S-25th-St_Phoenix_AZ_85048_M21036-38414\n",
      "https://www.realtor.com/realestateandhomes-detail/4725-N-14th-Ave_Phoenix_AZ_85013_M16201-65300\n",
      "https://www.realtor.com/realestateandhomes-detail/3234-E-Marco-Polo-Rd_Phoenix_AZ_85050_M14003-60622\n",
      "https://www.realtor.com/realestateandhomes-detail/4757-E-Amber-Sun-Dr_Cave-Creek_AZ_85331_M14059-40883\n",
      "https://www.realtor.com/realestateandhomes-detail/302-W-Thunderbird-Rd_Phoenix_AZ_85023_M20316-42539\n",
      "https://www.realtor.com/realestateandhomes-detail/2520-E-Flower-St_Phoenix_AZ_85016_M25755-67492\n",
      "https://www.realtor.com/realestateandhomes-detail/15243-N-11th-St_Phoenix_AZ_85022_M13165-38145\n",
      "https://www.realtor.com/realestateandhomes-detail/14404-N-56th-Pl_Scottsdale_AZ_85254_M17065-82483\n",
      "https://www.realtor.com/realestateandhomes-detail/42209-N-46th-Ln_Phoenix_AZ_85086_M17679-68142\n",
      "https://www.realtor.com/realestateandhomes-detail/4517-W-Lodge-Dr_Laveen_AZ_85339_M19141-54211\n",
      "https://www.realtor.com/realestateandhomes-detail/4839-E-Marilyn-Rd_Scottsdale_AZ_85254_M20406-52674\n",
      "https://www.realtor.com/realestateandhomes-detail/4145-E-Libby-St_Phoenix_AZ_85032_M20689-74790\n",
      "https://www.realtor.com/realestateandhomes-detail/4516-E-Walter-Way_Phoenix_AZ_85050_M10451-25911\n",
      "https://www.realtor.com/realestateandhomes-detail/3845-E-Earll-Dr_Phoenix_AZ_85018_M10403-92800\n",
      "https://www.realtor.com/realestateandhomes-detail/26703-N-51st-Dr_Phoenix_AZ_85083_M10253-50110\n",
      "\n",
      "\n",
      "\n",
      "\n",
      " 11\n"
     ]
    },
    {
     "name": "stdout",
     "output_type": "stream",
     "text": [
      "mmmmmmmmmmmmmmmmmmmm https://www.realtor.com/realestateandhomes-search/Atlanta_GA/shw-nc/price-800000-na/pg-12\n",
      "https://www.realtor.com/realestateandhomes-detail/15243-N-11th-St_Phoenix_AZ_85022_M13165-38145\n",
      "https://www.realtor.com/realestateandhomes-detail/3845-E-Earll-Dr_Phoenix_AZ_85018_M10403-92800\n",
      "https://www.realtor.com/realestateandhomes-detail/44717-N-44th-Dr_New-River_AZ_85087_M94001-55068\n",
      "https://www.realtor.com/realestateandhomes-detail/901-E-Rose-Ln_Phoenix_AZ_85014_M28029-74942\n",
      "https://www.realtor.com/realestateandhomes-detail/1839-E-Palo-Verde-Dr_Phoenix_AZ_85016_M28434-34384\n",
      "https://www.realtor.com/realestateandhomes-detail/4517-W-Lodge-Dr_Laveen_AZ_85339_M19141-54211\n",
      "https://www.realtor.com/realestateandhomes-detail/16823-S-27th-Ave_Phoenix_AZ_85045_M21613-61185\n",
      "https://www.realtor.com/realestateandhomes-detail/4430-E-Creosote-Dr_Cave-Creek_AZ_85331_M25428-82631\n",
      "https://www.realtor.com/realestateandhomes-detail/8010-W-Atlantis-Way_Phoenix_AZ_85043_M24311-54289\n",
      "https://www.realtor.com/realestateandhomes-detail/9851-N-28th-Way_Phoenix_AZ_85028_M11114-99706\n",
      "https://www.realtor.com/realestateandhomes-detail/4401-E-Barwick-Dr_Cave-Creek_AZ_85331_M12891-81794\n",
      "https://www.realtor.com/realestateandhomes-detail/4521-W-Paseo-Way_Laveen_AZ_85339_M25159-81512\n",
      "https://www.realtor.com/realestateandhomes-detail/6814-N-11th-St_Phoenix_AZ_85014_M16062-87696\n",
      "https://www.realtor.com/realestateandhomes-detail/4911-W-Faull-Dr_New-River_AZ_85087_M17573-39125\n",
      "https://www.realtor.com/realestateandhomes-detail/39012-N-8th-St_Phoenix_AZ_85086_M15186-85827\n",
      "https://www.realtor.com/realestateandhomes-detail/2210-E-Everett-Dr_Phoenix_AZ_85022_M13578-17437\n",
      "https://www.realtor.com/realestateandhomes-detail/3923-W-Hayduk-Rd_Laveen_AZ_85339_M93151-20373\n",
      "https://www.realtor.com/realestateandhomes-detail/2543-W-Rabjohn-Rd_Phoenix_AZ_85085_M27020-03159\n",
      "https://www.realtor.com/realestateandhomes-detail/2114-E-Escuda-Rd_Phoenix_AZ_85024_M24570-10527\n",
      "https://www.realtor.com/realestateandhomes-detail/2633-E-Amber-Ridge-Way_Phoenix_AZ_85048_M17986-79834\n",
      "https://www.realtor.com/realestateandhomes-detail/2408-W-Crimson-Ter_Phoenix_AZ_85085_M14789-33492\n",
      "https://www.realtor.com/realestateandhomes-detail/42419-N-Central-Ave_Phoenix_AZ_85086_M10878-67840\n",
      "https://www.realtor.com/realestateandhomes-detail/1422-W-Colter-St_Phoenix_AZ_85013_M19481-76977\n",
      "https://www.realtor.com/realestateandhomes-detail/3830-E-Desert-Cove-Ave_Phoenix_AZ_85028_M17471-22143\n",
      "https://www.realtor.com/realestateandhomes-detail/4229-E-Pearce-Rd_Phoenix_AZ_85044_M20179-00853\n",
      "https://www.realtor.com/realestateandhomes-detail/25845-N-44th-Ave_Phoenix_AZ_85083_M21225-30073\n",
      "https://www.realtor.com/realestateandhomes-detail/15039-S-28th-St_Phoenix_AZ_85048_M12632-16878\n",
      "https://www.realtor.com/realestateandhomes-detail/5110-W-Sweet-Iron-Pass_Phoenix_AZ_85083_M12767-80275\n",
      "https://www.realtor.com/realestateandhomes-detail/2935-W-Joy-Ranch-Rd_Phoenix_AZ_85086_M98294-86374\n",
      "https://www.realtor.com/realestateandhomes-detail/14009-N-30th-St_Phoenix_AZ_85032_M27914-40933\n",
      "https://www.realtor.com/realestateandhomes-detail/1402-E-Granada-Rd_Phoenix_AZ_85006_M26306-95193\n",
      "https://www.realtor.com/realestateandhomes-detail/1819-W-Magdalena-Ln_Phoenix_AZ_85041_M25442-93234\n",
      "https://www.realtor.com/realestateandhomes-detail/10312-S-56th-Ln_Laveen_AZ_85339_M94128-99362\n",
      "https://www.realtor.com/realestateandhomes-detail/Darius_Estates-at-Laveen-Vistas_10626-S-48th-Glen_Laveen_AZ_85339_P417000839262\n",
      "https://www.realtor.com/realestateandhomes-detail/9452-S-51st-St_Phoenix_AZ_85044_M21130-78070\n",
      "https://www.realtor.com/realestateandhomes-detail/5434-E-Acoma-Dr_Scottsdale_AZ_85254_M20216-84309\n",
      "https://www.realtor.com/realestateandhomes-detail/15809-S-31st-St_Phoenix_AZ_85048_M11772-44349\n",
      "https://www.realtor.com/realestateandhomes-detail/4409-E-Gelding-Dr_Phoenix_AZ_85032_M11118-99482\n",
      "https://www.realtor.com/realestateandhomes-detail/15849-N-46th-Pl_Phoenix_AZ_85032_M18288-70322\n",
      "https://www.realtor.com/realestateandhomes-detail/1805-W-Dusty-Wren-Dr_Phoenix_AZ_85085_M12920-22046\n",
      "https://www.realtor.com/realestateandhomes-detail/4126-E-Windrose-Dr_Phoenix_AZ_85032_M23517-24794\n",
      "https://www.realtor.com/realestateandhomes-detail/7334-N-7th-Ave_Phoenix_AZ_85021_M27005-90877\n",
      "\n",
      "\n",
      "\n",
      "\n",
      " 12\n"
     ]
    },
    {
     "name": "stdout",
     "output_type": "stream",
     "text": [
      "mmmmmmmmmmmmmmmmmmmm https://www.realtor.com/realestateandhomes-search/Atlanta_GA/shw-nc/price-800000-na/pg-13\n",
      "https://www.realtor.com/realestateandhomes-detail/15809-S-31st-St_Phoenix_AZ_85048_M11772-44349\n",
      "https://www.realtor.com/realestateandhomes-detail/1805-W-Dusty-Wren-Dr_Phoenix_AZ_85085_M12920-22046\n",
      "https://www.realtor.com/realestateandhomes-detail/4030-E-Prickly-Pear-Trl_Phoenix_AZ_85050_M13328-46106\n",
      "https://www.realtor.com/realestateandhomes-detail/4409-E-Gelding-Dr_Phoenix_AZ_85032_M11118-99482\n",
      "https://www.realtor.com/realestateandhomes-detail/2638-E-Edgemont-Ave_Phoenix_AZ_85008_M14901-11013\n",
      "https://www.realtor.com/realestateandhomes-detail/15849-N-46th-Pl_Phoenix_AZ_85032_M18288-70322\n",
      "https://www.realtor.com/realestateandhomes-detail/15846-S-33rd-Pl_Phoenix_AZ_85048_M18989-83304\n",
      "https://www.realtor.com/realestateandhomes-detail/16811-S-11th-Way_Phoenix_AZ_85048_M18659-67605\n",
      "https://www.realtor.com/realestateandhomes-detail/8521-S-67th-Dr_Laveen_AZ_85339_M92354-36404\n",
      "https://www.realtor.com/realestateandhomes-detail/2050-W-Lariat-Ln_Phoenix_AZ_85085_M96536-39336\n",
      "https://www.realtor.com/realestateandhomes-detail/4442-E-Redfield-Rd_Phoenix_AZ_85032_M24521-43210\n",
      "https://www.realtor.com/realestateandhomes-detail/29506-N-21st-Ave_Phoenix_AZ_85085_M20730-30297\n",
      "https://www.realtor.com/realestateandhomes-detail/2301-E-Osborn-Rd_Phoenix_AZ_85016_M22817-62802\n",
      "https://www.realtor.com/realestateandhomes-detail/16662-S-37th-Way_Phoenix_AZ_85048_M21531-37032\n",
      "https://www.realtor.com/realestateandhomes-detail/1708-W-Dusty-Wren-Dr_Phoenix_AZ_85085_M12175-02479\n",
      "https://www.realtor.com/realestateandhomes-detail/747-E-Meadow-Ln_Phoenix_AZ_85022_M13199-79726\n",
      "https://www.realtor.com/realestateandhomes-detail/2610-E-Leiber-Ln_Phoenix_AZ_85024_M18259-08459\n",
      "https://www.realtor.com/realestateandhomes-detail/1721-W-South-Fork-Dr_Phoenix_AZ_85045_M18040-31609\n",
      "https://www.realtor.com/realestateandhomes-detail/813-E-Glendale-Ave_Phoenix_AZ_85020_M15437-96012\n",
      "https://www.realtor.com/realestateandhomes-detail/2823-E-Charlotte-Dr_Phoenix_AZ_85024_M18470-38249\n",
      "https://www.realtor.com/realestateandhomes-detail/5101-E-Winchcomb-Dr_Scottsdale_AZ_85254_M29940-27280\n",
      "https://www.realtor.com/realestateandhomes-detail/4332-W-Monte-Cristo-Ave_Glendale_AZ_85306_M29135-15174\n",
      "https://www.realtor.com/realestateandhomes-detail/2533-E-Flower-St_Phoenix_AZ_85016_M25520-15416\n",
      "https://www.realtor.com/realestateandhomes-detail/9221-N-Camino-Vista-Ln_Phoenix_AZ_85028_M17519-03556\n",
      "https://www.realtor.com/realestateandhomes-detail/4041-E-Sunnyside-Dr_Phoenix_AZ_85028_M25989-47056\n",
      "https://www.realtor.com/realestateandhomes-detail/4839-E-Eden-Dr_Cave-Creek_AZ_85331_M28032-95662\n",
      "https://www.realtor.com/realestateandhomes-detail/358-E-Whitton-Ave_Phoenix_AZ_85012_M20925-63612\n",
      "https://www.realtor.com/realestateandhomes-detail/5226-W-Thresher-Way_Laveen_AZ_85339_M99446-61458\n",
      "https://www.realtor.com/realestateandhomes-detail/1743-W-Butler-Dr_Phoenix_AZ_85021_M12533-79220\n",
      "https://www.realtor.com/realestateandhomes-detail/12641-N-18th-Pl_Phoenix_AZ_85022_M14295-41781\n",
      "https://www.realtor.com/realestateandhomes-detail/1917-W-Ashland-Ave_Phoenix_AZ_85009_M10407-81023\n",
      "https://www.realtor.com/realestateandhomes-detail/7917-S-32nd-Ter_Phoenix_AZ_85042_M17480-25819\n",
      "https://www.realtor.com/realestateandhomes-detail/5136-W-Trotter-Trl_Phoenix_AZ_85083_M12411-91300\n",
      "https://www.realtor.com/realestateandhomes-detail/629-E-Myrtle-Ave_Phoenix_AZ_85020_M15987-37383\n",
      "https://www.realtor.com/realestateandhomes-detail/2546-N-9th-St_Phoenix_AZ_85006_M25057-79754\n",
      "https://www.realtor.com/realestateandhomes-detail/6641-N-Desert-Shadow-Ln_Phoenix_AZ_85014_M98655-32141\n",
      "https://www.realtor.com/realestateandhomes-detail/3928-W-LA-Mirada-Dr_Laveen_AZ_85339_M93736-14259\n",
      "https://www.realtor.com/realestateandhomes-detail/2339-E-Questa-Dr_Phoenix_AZ_85024_M93696-87711\n",
      "https://www.realtor.com/realestateandhomes-detail/35019-N-Central-Ave_Phoenix_AZ_85086_M29813-18187\n",
      "https://www.realtor.com/realestateandhomes-detail/14605-S-35th-Pl_Phoenix_AZ_85044_M23510-87972\n",
      "https://www.realtor.com/realestateandhomes-detail/3834-E-Shaw-Butte-Dr_Phoenix_AZ_85028_M14295-90419\n",
      "https://www.realtor.com/realestateandhomes-detail/4365-E-Anderson-Dr_Phoenix_AZ_85032_M16778-68723\n",
      "\n",
      "\n",
      "\n",
      "\n",
      " 13\n"
     ]
    },
    {
     "name": "stdout",
     "output_type": "stream",
     "text": [
      "mmmmmmmmmmmmmmmmmmmm https://www.realtor.com/realestateandhomes-search/Atlanta_GA/shw-nc/price-800000-na/pg-14\n",
      "https://www.realtor.com/realestateandhomes-detail/1725-W-Weldon-Ave_Phoenix_AZ_85015_M26217-25473\n",
      "https://www.realtor.com/realestateandhomes-detail/4365-E-Anderson-Dr_Phoenix_AZ_85032_M16778-68723\n",
      "https://www.realtor.com/realestateandhomes-detail/2518-E-Campbell-Ave_Phoenix_AZ_85016_M18002-56926\n",
      "https://www.realtor.com/realestateandhomes-detail/2727-N-20th-Dr_Phoenix_AZ_85009_M27674-35309\n",
      "https://www.realtor.com/realestateandhomes-detail/14605-S-35th-Pl_Phoenix_AZ_85044_M23510-87972\n",
      "https://www.realtor.com/realestateandhomes-detail/3834-E-Shaw-Butte-Dr_Phoenix_AZ_85028_M14295-90419\n",
      "https://www.realtor.com/realestateandhomes-detail/1804-W-Magdalena-Ln_Phoenix_AZ_85041_M13890-62560\n",
      "https://www.realtor.com/realestateandhomes-detail/41215-N-Lytham-Ct_Phoenix_AZ_85086_M28279-11972\n",
      "https://www.realtor.com/realestateandhomes-detail/2353-N-51st-Pl_Phoenix_AZ_85008_M15154-03215\n",
      "https://www.realtor.com/realestateandhomes-detail/4815-E-Fernwood-Ct_Cave-Creek_AZ_85331_M13521-23971\n",
      "https://www.realtor.com/realestateandhomes-detail/1656-E-Montoya-Ln_Phoenix_AZ_85024_M13223-37110\n",
      "https://www.realtor.com/realestateandhomes-detail/14828-N-Skokie-Ct_Phoenix_AZ_85022_M14756-11932\n",
      "https://www.realtor.com/realestateandhomes-detail/33512-N-24th-Ln_Phoenix_AZ_85085_M18069-48318\n",
      "https://www.realtor.com/realestateandhomes-detail/1201-E-Le-Marche-Ave_Phoenix_AZ_85022_M24501-30849\n",
      "https://www.realtor.com/realestateandhomes-detail/10618-N-27th-St_Phoenix_AZ_85028_M23849-51494\n",
      "https://www.realtor.com/realestateandhomes-detail/2221-W-Steed-Rdg_Phoenix_AZ_85085_M18110-84838\n",
      "https://www.realtor.com/realestateandhomes-detail/1327-E-Le-Marche-Ave_Phoenix_AZ_85022_M28690-11415\n",
      "https://www.realtor.com/realestateandhomes-detail/2914-W-Caravaggio-Ln_Phoenix_AZ_85086_M29278-41560\n",
      "https://www.realtor.com/realestateandhomes-detail/5026-W-Parsons-Rd_Phoenix_AZ_85083_M12415-26694\n",
      "https://www.realtor.com/realestateandhomes-detail/21860-N-41st-St_Phoenix_AZ_85050_M13377-89698\n",
      "https://www.realtor.com/realestateandhomes-detail/7210-N-17th-Ave_Phoenix_AZ_85021_M26996-85122\n",
      "https://www.realtor.com/realestateandhomes-detail/4308-W-Kastler-Ln_New-River_AZ_85087_M29313-73601\n",
      "https://www.realtor.com/realestateandhomes-detail/3212-E-Desert-Cove-Ave_Phoenix_AZ_85028_M25864-48444\n",
      "https://www.realtor.com/realestateandhomes-detail/3025-W-Night-Owl-Ln_Phoenix_AZ_85085_M27603-98891\n",
      "https://www.realtor.com/realestateandhomes-detail/330-W-Minnezona-Ave_Phoenix_AZ_85013_M20051-93869\n",
      "https://www.realtor.com/realestateandhomes-detail/2122-W-Red-Range-Way_Phoenix_AZ_85085_M18027-00001\n",
      "https://www.realtor.com/realestateandhomes-detail/14266-N-2nd-Ave_Phoenix_AZ_85023_M22165-93412\n",
      "https://www.realtor.com/realestateandhomes-detail/29431-N-23rd-Dr_Phoenix_AZ_85085_M20600-24483\n",
      "https://www.realtor.com/realestateandhomes-detail/32030-N-20th-Ln_Phoenix_AZ_85085_M15829-11800\n",
      "https://www.realtor.com/realestateandhomes-detail/37509-N-7th-St_Phoenix_AZ_85086_M10018-14481\n",
      "https://www.realtor.com/realestateandhomes-detail/39-E-Tam-Oshanter-Dr_Phoenix_AZ_85022_M26575-48561\n",
      "https://www.realtor.com/realestateandhomes-detail/725-W-Portland-St_Phoenix_AZ_85007_M26504-83409\n",
      "https://www.realtor.com/realestateandhomes-detail/22232-N-48th-St_Phoenix_AZ_85054_M26181-11197\n",
      "https://www.realtor.com/realestateandhomes-detail/4536-E-Via-Dona-Rd_Cave-Creek_AZ_85331_M13340-12723\n",
      "https://www.realtor.com/realestateandhomes-detail/4558-E-Libby-St_Phoenix_AZ_85032_M14619-69262\n",
      "https://www.realtor.com/realestateandhomes-detail/1731-E-Evans-Dr_Phoenix_AZ_85022_M14503-60144\n",
      "https://www.realtor.com/realestateandhomes-detail/6213-W-Gambit-Trl_Phoenix_AZ_85083_M13913-06740\n",
      "https://www.realtor.com/realestateandhomes-detail/2418-E-Amelia-Ave_Phoenix_AZ_85016_M15365-48596\n",
      "https://www.realtor.com/realestateandhomes-detail/2931-N-8th-Ave_Phoenix_AZ_85013_M17680-37263\n",
      "https://www.realtor.com/realestateandhomes-detail/5323-E-Thunder-Hawk-Rd_Cave-Creek_AZ_85331_M14094-52105\n",
      "https://www.realtor.com/realestateandhomes-detail/9001-S-18th-Way_Phoenix_AZ_85042_M10250-43789\n",
      "https://www.realtor.com/realestateandhomes-detail/14021-N-29th-St_Phoenix_AZ_85032_M15548-53847\n",
      "\n",
      "\n",
      "\n",
      "\n",
      " 14\n"
     ]
    },
    {
     "name": "stdout",
     "output_type": "stream",
     "text": [
      "mmmmmmmmmmmmmmmmmmmm https://www.realtor.com/realestateandhomes-search/Atlanta_GA/shw-nc/price-800000-na/pg-15\n",
      "https://www.realtor.com/realestateandhomes-detail/4026-E-Madre-Del-Oro-Dr_Cave-Creek_AZ_85331_M99994-03237\n",
      "https://www.realtor.com/realestateandhomes-detail/14248-N-56th-Pl_Scottsdale_AZ_85254_M11755-49712\n",
      "https://www.realtor.com/realestateandhomes-detail/13215-N-30th-Pl_Phoenix_AZ_85032_M12235-47023\n",
      "https://www.realtor.com/realestateandhomes-detail/13614-N-12th-Way_Phoenix_AZ_85022_M18529-88388\n",
      "https://www.realtor.com/realestateandhomes-detail/13444-N-13th-St_Phoenix_AZ_85022_M18359-35107\n",
      "https://www.realtor.com/realestateandhomes-detail/8135-N-5th-St_Phoenix_AZ_85020_M10657-48501\n",
      "https://www.realtor.com/realestateandhomes-detail/3823-W-Lodge-Dr_Laveen_AZ_85339_M94308-05521\n",
      "https://www.realtor.com/realestateandhomes-detail/1113-E-LA-Mirada-Dr_Phoenix_AZ_85042_M91450-04360\n",
      "https://www.realtor.com/realestateandhomes-detail/634-E-Deer-Creek-Rd_Phoenix_AZ_85048_M96522-70097\n",
      "https://www.realtor.com/realestateandhomes-detail/4960-E-Villa-Theresa-Dr_Scottsdale_AZ_85254_M20053-61826\n",
      "https://www.realtor.com/realestateandhomes-detail/6741-N-10th-St_Phoenix_AZ_85014_M16021-88442\n",
      "https://www.realtor.com/realestateandhomes-detail/16436-S-1st-Ave_Phoenix_AZ_85045_M15700-64649\n",
      "https://www.realtor.com/realestateandhomes-detail/3019-E-Redfield-Rd_Phoenix_AZ_85032_M15996-10244\n",
      "https://www.realtor.com/realestateandhomes-detail/14821-N-Hana-Maui-Dr_Phoenix_AZ_85022_M14702-45636\n",
      "https://www.realtor.com/realestateandhomes-detail/4556-E-Paradise-Ln_Phoenix_AZ_85032_M23081-10343\n",
      "https://www.realtor.com/realestateandhomes-detail/7542-N-22nd-Pl_Phoenix_AZ_85020_M20874-31581\n",
      "https://www.realtor.com/realestateandhomes-detail/4913-E-Acoma-Dr_Scottsdale_AZ_85254_M24212-49745\n",
      "https://www.realtor.com/realestateandhomes-detail/6814-N-14th-St_Phoenix_AZ_85014_M21925-96071\n",
      "https://www.realtor.com/realestateandhomes-detail/608-E-Pasaro-Dr_Phoenix_AZ_85085_M29372-51926\n",
      "https://www.realtor.com/realestateandhomes-detail/4946-W-Weeping-Willow-Way_Laveen_AZ_85339_M95507-39072\n",
      "https://www.realtor.com/realestateandhomes-detail/5005-E-Baker-Dr_Cave-Creek_AZ_85331_M20667-12940\n",
      "https://www.realtor.com/realestateandhomes-detail/15229-S-18th-Dr_Phoenix_AZ_85045_M21049-55317\n",
      "https://www.realtor.com/realestateandhomes-detail/4514-E-Coyote-Wash-Dr_Cave-Creek_AZ_85331_M20262-66614\n",
      "https://www.realtor.com/realestateandhomes-detail/24813-N-55th-Dr_Glendale_AZ_85310_M16077-53815\n",
      "https://www.realtor.com/realestateandhomes-detail/21621-N-48th-Pl_Phoenix_AZ_85054_M25152-57195\n",
      "https://www.realtor.com/realestateandhomes-detail/753-E-Mountain-Sky-Ave_Phoenix_AZ_85048_M17062-08510\n",
      "https://www.realtor.com/realestateandhomes-detail/3412-E-Kristal-Way_Phoenix_AZ_85050_M22933-75775\n",
      "https://www.realtor.com/realestateandhomes-detail/1030-E-Wescott-Dr_Phoenix_AZ_85024_M18295-03843\n",
      "https://www.realtor.com/realestateandhomes-detail/2101-N-25th-Pl_Phoenix_AZ_85008_M12874-96083\n",
      "https://www.realtor.com/realestateandhomes-detail/22136-N-28th-Pl_Phoenix_AZ_85050_M12042-25163\n",
      "https://www.realtor.com/realestateandhomes-detail/325-E-Sharon-Ave_Phoenix_AZ_85022_M17626-55743\n",
      "https://www.realtor.com/realestateandhomes-detail/3017-W-Sahuaro-Dr_Phoenix_AZ_85029_M12253-63608\n",
      "https://www.realtor.com/realestateandhomes-detail/2320-E-Mulberry-Dr_Phoenix_AZ_85016_M17637-28935\n",
      "https://www.realtor.com/realestateandhomes-detail/4506-E-Lone-Cactus-Dr_Phoenix_AZ_85050_M11473-88031\n",
      "https://www.realtor.com/realestateandhomes-detail/2218-N-Dayton-St_Phoenix_AZ_85006_M16404-15931\n",
      "https://www.realtor.com/realestateandhomes-detail/213-E-Summerside-Rd_Phoenix_AZ_85042_M19074-46342\n",
      "https://www.realtor.com/realestateandhomes-detail/7813-S-43rd-Pl_Phoenix_AZ_85042_M19680-34616\n",
      "https://www.realtor.com/realestateandhomes-detail/3323-N-28th-St_Phoenix_AZ_85016_M12797-18874\n",
      "https://www.realtor.com/realestateandhomes-detail/1618-W-Culver-St_Phoenix_AZ_85007_M10116-39056\n",
      "https://www.realtor.com/realestateandhomes-detail/5112-E-Woodridge-Dr_Scottsdale_AZ_85254_M98489-39157\n",
      "https://www.realtor.com/realestateandhomes-detail/5253-E-Waltann-Ln_Scottsdale_AZ_85254_M23568-91462\n",
      "https://www.realtor.com/realestateandhomes-detail/15232-S-36th-Pl_Phoenix_AZ_85044_M23380-41193\n",
      "\n",
      "\n",
      "\n",
      "\n",
      " 15\n"
     ]
    },
    {
     "name": "stdout",
     "output_type": "stream",
     "text": [
      "mmmmmmmmmmmmmmmmmmmm https://www.realtor.com/realestateandhomes-search/Atlanta_GA/shw-nc/price-800000-na/pg-16\n",
      "https://www.realtor.com/realestateandhomes-detail/5112-E-Woodridge-Dr_Scottsdale_AZ_85254_M98489-39157\n",
      "https://www.realtor.com/realestateandhomes-detail/3323-N-28th-St_Phoenix_AZ_85016_M12797-18874\n",
      "https://www.realtor.com/realestateandhomes-detail/4506-E-Lone-Cactus-Dr_Phoenix_AZ_85050_M11473-88031\n",
      "https://www.realtor.com/realestateandhomes-detail/1618-W-Culver-St_Phoenix_AZ_85007_M10116-39056\n",
      "https://www.realtor.com/realestateandhomes-detail/939-E-Paseo-Way_Phoenix_AZ_85042_M96750-68659\n",
      "https://www.realtor.com/realestateandhomes-detail/3538-E-Squawbush-Pl_Phoenix_AZ_85044_M13940-94869\n",
      "https://www.realtor.com/realestateandhomes-detail/2317-W-Horsetail-Trl_Phoenix_AZ_85085_M18123-51880\n",
      "https://www.realtor.com/realestateandhomes-detail/11846-N-40th-Pl_Phoenix_AZ_85028_M18025-36599\n",
      "https://www.realtor.com/realestateandhomes-detail/4628-W-Whispering-Wind-Dr_Glendale_AZ_85310_M20501-00553\n",
      "https://www.realtor.com/realestateandhomes-detail/3710-E-Cheery-Lynn-Rd_Phoenix_AZ_85018_M13378-05225\n",
      "https://www.realtor.com/realestateandhomes-detail/5319-E-Gelding-Dr_Scottsdale_AZ_85254_M19883-68556\n",
      "https://www.realtor.com/realestateandhomes-detail/1327-W-Glendale-Ave_Phoenix_AZ_85021_M25722-81088\n",
      "https://www.realtor.com/realestateandhomes-detail/4832-W-Saguaro-Park-Ln_Glendale_AZ_85310_M19571-96558\n",
      "https://www.realtor.com/realestateandhomes-detail/26271-N-46th-St_Phoenix_AZ_85050_M10386-31490\n",
      "https://www.realtor.com/realestateandhomes-detail/15852-S-18th-Ln_Phoenix_AZ_85045_M28345-99726\n",
      "https://www.realtor.com/realestateandhomes-detail/1001-W-Northern-Ave_Phoenix_AZ_85021_M23899-41981\n",
      "https://www.realtor.com/realestateandhomes-detail/4036-E-Captain-Dreyfus-Ave_Phoenix_AZ_85032_M23482-84955\n",
      "https://www.realtor.com/realestateandhomes-detail/4134-N-35th-St_Phoenix_AZ_85018_M25769-37405\n",
      "https://www.realtor.com/realestateandhomes-detail/4705-E-Betty-Elyse-Ln_Phoenix_AZ_85032_M27833-56118\n",
      "https://www.realtor.com/realestateandhomes-detail/1333-W-Deer-Creek-Rd_Phoenix_AZ_85045_M27982-65432\n",
      "https://www.realtor.com/realestateandhomes-detail/2726-E-Fairmount-Ave_Phoenix_AZ_85016_M15578-64715\n",
      "https://www.realtor.com/realestateandhomes-detail/22231-N-51st-St_Phoenix_AZ_85054_M15837-94963\n",
      "https://www.realtor.com/realestateandhomes-detail/2409-W-Red-Range-Way_Phoenix_AZ_85085_M18194-69675\n",
      "https://www.realtor.com/realestateandhomes-detail/26803-N-45th-Pl_Cave-Creek_AZ_85331_M22229-80409\n",
      "https://www.realtor.com/realestateandhomes-detail/4020-E-Laurel-Ln_Phoenix_AZ_85028_M26504-48588\n",
      "https://www.realtor.com/realestateandhomes-detail/5102-E-Libby-St_Scottsdale_AZ_85254_M27238-11931\n",
      "https://www.realtor.com/realestateandhomes-detail/14247-N-2nd-Ave_Phoenix_AZ_85023_M29401-48951\n",
      "https://www.realtor.com/realestateandhomes-detail/5621-E-Lonesome-Trl_Cave-Creek_AZ_85331_M14449-36526\n",
      "https://www.realtor.com/realestateandhomes-detail/6511-E-Presidio-Rd_Scottsdale_AZ_85254_M11059-81045\n",
      "https://www.realtor.com/realestateandhomes-detail/6019-E-Paradise-Ln_Scottsdale_AZ_85254_M24783-78433\n",
      "https://www.realtor.com/realestateandhomes-detail/3636-W-Summerside-Rd_Laveen_AZ_85339_M94374-94314\n",
      "https://www.realtor.com/realestateandhomes-detail/6719-N-15th-Ave_Phoenix_AZ_85015_M13539-66266\n",
      "https://www.realtor.com/realestateandhomes-detail/2227-N-16th-Ave_Phoenix_AZ_85007_M14184-34084\n",
      "https://www.realtor.com/realestateandhomes-detail/21640-N-48th-St_Phoenix_AZ_85054_M12298-05775\n",
      "https://www.realtor.com/realestateandhomes-detail/4214-E-Morrow-Dr_Phoenix_AZ_85050_M18396-02914\n",
      "https://www.realtor.com/realestateandhomes-detail/3115-N-34th-Pl_Phoenix_AZ_85018_M17660-53945\n",
      "https://www.realtor.com/realestateandhomes-detail/3202-W-Knudsen-Dr_Phoenix_AZ_85027_M19985-40752\n",
      "https://www.realtor.com/realestateandhomes-detail/1807-W-Sierra-Sunset-Trl_Phoenix_AZ_85085_M14740-36888\n",
      "https://www.realtor.com/realestateandhomes-detail/2712-N-20th-Dr_Phoenix_AZ_85009_M22378-86266\n",
      "https://www.realtor.com/realestateandhomes-detail/2402-N-15th-St_Phoenix_AZ_85006_M27459-84647\n",
      "https://www.realtor.com/realestateandhomes-detail/13036-N-20th-St_Phoenix_AZ_85022_M26571-30565\n",
      "https://www.realtor.com/realestateandhomes-detail/14426-N-39th-Way_Phoenix_AZ_85032_M27653-74829\n",
      "\n",
      "\n",
      "\n",
      "\n",
      " 16\n"
     ]
    },
    {
     "name": "stdout",
     "output_type": "stream",
     "text": [
      "mmmmmmmmmmmmmmmmmmmm https://www.realtor.com/realestateandhomes-search/Atlanta_GA/shw-nc/price-800000-na/pg-17\n",
      "https://www.realtor.com/realestateandhomes-detail/3121-E-Sierra-St_Phoenix_AZ_85028_M23221-95647\n",
      "https://www.realtor.com/realestateandhomes-detail/1022-E-Hiddenview-Dr_Phoenix_AZ_85048_M15858-65409\n",
      "https://www.realtor.com/realestateandhomes-detail/4319-W-Saguaro-Park-Ln_Glendale_AZ_85310_M13861-52668\n",
      "https://www.realtor.com/realestateandhomes-detail/2310-W-Sienna-Bouquet-Pl_Phoenix_AZ_85085_M18167-49261\n",
      "https://www.realtor.com/realestateandhomes-detail/1702-W-Glenrosa-Ave_Phoenix_AZ_85015_M24055-15996\n",
      "https://www.realtor.com/realestateandhomes-detail/1801-W-Nighthawk-Way_Phoenix_AZ_85045_M20658-54417\n",
      "https://www.realtor.com/realestateandhomes-detail/2818-E-Malapai-Dr_Phoenix_AZ_85028_M11816-34210\n",
      "https://www.realtor.com/realestateandhomes-detail/Pomona_Estates-at-Laveen-Vistas_10626-S-48th-Glen_Laveen_AZ_85339_P417000839263\n",
      "https://www.realtor.com/realestateandhomes-detail/3634-W-Mineral-Rd_Laveen_AZ_85339_M97670-23477\n",
      "https://www.realtor.com/realestateandhomes-detail/3116-W-Folgers-Rd_Phoenix_AZ_85027_M23003-31727\n",
      "https://www.realtor.com/realestateandhomes-detail/1201-W-Ducasse-Dr_Phoenix_AZ_85013_M21372-44590\n",
      "https://www.realtor.com/realestateandhomes-detail/15802-N-50th-Dr_Glendale_AZ_85306_M13231-79706\n",
      "https://www.realtor.com/realestateandhomes-detail/1028-E-Manzanita-Dr_Phoenix_AZ_85020_M12641-89645\n",
      "https://www.realtor.com/realestateandhomes-detail/20436-N-17th-Pl_Phoenix_AZ_85024_M21651-80932\n",
      "https://www.realtor.com/realestateandhomes-detail/908-E-Mountain-Sage-Dr_Phoenix_AZ_85048_M12679-23760\n",
      "https://www.realtor.com/realestateandhomes-detail/851-E-Deer-Creek-Rd_Phoenix_AZ_85048_M90675-40914\n",
      "https://www.realtor.com/realestateandhomes-detail/5437-E-Pinchot-Ave_Phoenix_AZ_85018_M95336-43125\n",
      "https://www.realtor.com/realestateandhomes-detail/29606-N-21st-Dr_Phoenix_AZ_85085_M20786-94720\n",
      "https://www.realtor.com/realestateandhomes-detail/4222-W-Carmen-St_Laveen_AZ_85339_M90999-37641\n",
      "https://www.realtor.com/realestateandhomes-detail/6847-S-27th-Pl_Phoenix_AZ_85042_M25048-84485\n",
      "https://www.realtor.com/realestateandhomes-detail/1625-E-Monte-Cristo-Ave_Phoenix_AZ_85022_M19427-66415\n",
      "https://www.realtor.com/realestateandhomes-detail/6504-N-14th-Pl_Phoenix_AZ_85014_M16055-08229\n",
      "https://www.realtor.com/realestateandhomes-detail/5123-E-Beck-Ln_Scottsdale_AZ_85254_M22726-70432\n",
      "https://www.realtor.com/realestateandhomes-detail/4239-W-Reddie-Loop_Phoenix_AZ_85083_M25780-00264\n",
      "https://www.realtor.com/realestateandhomes-detail/6002-N-5th-Pl_Phoenix_AZ_85012_M25352-19145\n",
      "https://www.realtor.com/realestateandhomes-detail/1701-E-Yukon-Dr_Phoenix_AZ_85024_M11721-06724\n",
      "https://www.realtor.com/realestateandhomes-detail/1817-W-Seldon-Ln_Phoenix_AZ_85021_M11434-59364\n",
      "https://www.realtor.com/realestateandhomes-detail/512-W-Seldon-Ln_Phoenix_AZ_85021_M14687-42403\n",
      "https://www.realtor.com/realestateandhomes-detail/25608-N-55th-Dr_Phoenix_AZ_85083_M12567-68464\n",
      "https://www.realtor.com/realestateandhomes-detail/22026-N-28th-Pl_Phoenix_AZ_85050_M12037-77972\n",
      "https://www.realtor.com/realestateandhomes-detail/18428-N-42nd-St_Phoenix_AZ_85032_M16065-04443\n",
      "https://www.realtor.com/realestateandhomes-detail/22023-N-28th-Pl_Phoenix_AZ_85050_M12177-15435\n",
      "https://www.realtor.com/realestateandhomes-detail/3735-W-Links-Dr_Phoenix_AZ_85086_M26842-40391\n",
      "https://www.realtor.com/realestateandhomes-detail/728-E-State-Ave_Phoenix_AZ_85020_M15711-60586\n",
      "https://www.realtor.com/realestateandhomes-detail/10632-W-Rancho-Dr_Glendale_AZ_85307_M15811-94051\n",
      "https://www.realtor.com/realestateandhomes-detail/4321-W-Greenway-Rd_Glendale_AZ_85306_M14237-23219\n",
      "https://www.realtor.com/realestateandhomes-detail/2146-W-Ian-Dr_Phoenix_AZ_85041_M14037-91809\n",
      "https://www.realtor.com/realestateandhomes-detail/4333-N-15th-Dr_Phoenix_AZ_85015_M22970-34838\n",
      "https://www.realtor.com/realestateandhomes-detail/14401-N-29th-St_Phoenix_AZ_85032_M23646-16884\n",
      "https://www.realtor.com/realestateandhomes-detail/1614-E-Kathleen-Rd_Phoenix_AZ_85022_M28406-52033\n",
      "https://www.realtor.com/realestateandhomes-detail/2316-N-Mitchell-St_Phoenix_AZ_85006_M28886-01409\n",
      "https://www.realtor.com/realestateandhomes-detail/1532-W-Glenhaven-Dr_Phoenix_AZ_85045_M21275-75744\n",
      "\n",
      "\n",
      "\n",
      "\n",
      " 17\n"
     ]
    },
    {
     "name": "stdout",
     "output_type": "stream",
     "text": [
      "mmmmmmmmmmmmmmmmmmmm https://www.realtor.com/realestateandhomes-search/Atlanta_GA/shw-nc/price-800000-na/pg-18\n",
      "https://www.realtor.com/realestateandhomes-detail/4321-W-Greenway-Rd_Glendale_AZ_85306_M14237-23219\n",
      "https://www.realtor.com/realestateandhomes-detail/2146-W-Ian-Dr_Phoenix_AZ_85041_M14037-91809\n",
      "https://www.realtor.com/realestateandhomes-detail/728-E-State-Ave_Phoenix_AZ_85020_M15711-60586\n",
      "https://www.realtor.com/realestateandhomes-detail/10632-W-Rancho-Dr_Glendale_AZ_85307_M15811-94051\n",
      "https://www.realtor.com/realestateandhomes-detail/3206-W-Knudsen-Dr_Phoenix_AZ_85027_M11915-58139\n",
      "https://www.realtor.com/realestateandhomes-detail/40446-N-High-Noon-Way_Phoenix_AZ_85086_M29057-57377\n",
      "https://www.realtor.com/realestateandhomes-detail/5345-E-Evans-Dr_Scottsdale_AZ_85254_M24880-93472\n",
      "https://www.realtor.com/realestateandhomes-detail/934-E-Carlise-Rd_Phoenix_AZ_85086_M13899-74796\n",
      "https://www.realtor.com/realestateandhomes-detail/1621-W-Wildwood-Dr_Phoenix_AZ_85045_M28141-40724\n",
      "https://www.realtor.com/realestateandhomes-detail/3226-E-Lazy-Ln_Phoenix_AZ_85028_M18523-72537\n",
      "https://www.realtor.com/realestateandhomes-detail/11840-N-40th-Way_Phoenix_AZ_85028_M18287-34557\n",
      "https://www.realtor.com/realestateandhomes-detail/43709-N-50th-Dr_New-River_AZ_85087_M17874-87273\n",
      "https://www.realtor.com/realestateandhomes-detail/4316-E-Janice-Way_Phoenix_AZ_85032_M10576-40270\n",
      "https://www.realtor.com/realestateandhomes-detail/14602-N-63rd-Pl_Scottsdale_AZ_85254_M23755-13061\n",
      "https://www.realtor.com/realestateandhomes-detail/502-W-Windsor-Ave_Phoenix_AZ_85003_M21168-98272\n",
      "https://www.realtor.com/realestateandhomes-detail/2528-W-Coyote-Creek-Dr_Phoenix_AZ_85086_M13116-46676\n",
      "https://www.realtor.com/realestateandhomes-detail/5537-E-Dusty-Wren-Dr_Cave-Creek_AZ_85331_M13959-61834\n",
      "https://www.realtor.com/realestateandhomes-detail/1864-W-Buckhorn-Trl_Phoenix_AZ_85085_M14191-90498\n",
      "https://www.realtor.com/realestateandhomes-detail/1618-W-Vernon-Ave_Phoenix_AZ_85007_M28562-40050\n",
      "https://www.realtor.com/realestateandhomes-detail/6841-N-3rd-Pl_Phoenix_AZ_85012_M25477-77768\n",
      "https://www.realtor.com/realestateandhomes-detail/1455-E-Tuckey-Ln_Phoenix_AZ_85014_M24331-21835\n",
      "https://www.realtor.com/realestateandhomes-detail/15602-N-19th-St_Phoenix_AZ_85022_M16181-05524\n",
      "https://www.realtor.com/realestateandhomes-detail/4624-E-Aire-Libre-Ave_Phoenix_AZ_85032_M17321-65201\n",
      "https://www.realtor.com/realestateandhomes-detail/1905-W-Lariat-Ln_Phoenix_AZ_85085_M95631-81758\n",
      "https://www.realtor.com/realestateandhomes-detail/410-E-Beck-Ln_Phoenix_AZ_85022_M24591-94697\n",
      "https://www.realtor.com/realestateandhomes-detail/28422-N-32nd-Ln_Phoenix_AZ_85083_M25011-30102\n",
      "https://www.realtor.com/realestateandhomes-detail/4019-W-Charlotte-Dr_Glendale_AZ_85310_M20499-14223\n",
      "https://www.realtor.com/realestateandhomes-detail/4251-E-Desert-Forest-Trl_Cave-Creek_AZ_85331_M26294-27265\n",
      "https://www.realtor.com/realestateandhomes-detail/3124-W-Redbird-Rd_Phoenix_AZ_85083_M20670-72821\n",
      "https://www.realtor.com/realestateandhomes-detail/34242-N-10th-St_Phoenix_AZ_85085_M20704-25013\n",
      "https://www.realtor.com/realestateandhomes-detail/4940-W-LA-Puenta-Ave_Laveen_AZ_85339_M98723-18976\n",
      "https://www.realtor.com/realestateandhomes-detail/4336-N-93rd-Dr_Phoenix_AZ_85037_M99497-94580\n",
      "https://www.realtor.com/realestateandhomes-detail/2033-W-Burnside-Trl_Phoenix_AZ_85085_M91062-52722\n",
      "https://www.realtor.com/realestateandhomes-detail/3002-E-Mitchell-Dr_Phoenix_AZ_85016_M17142-65657\n",
      "https://www.realtor.com/realestateandhomes-detail/16412-S-42nd-Pl_Phoenix_AZ_85048_M10570-61684\n",
      "https://www.realtor.com/realestateandhomes-detail/930-W-Mackenzie-Dr_Phoenix_AZ_85013_M14729-64827\n",
      "https://www.realtor.com/realestateandhomes-detail/3616-E-Fairmount-Ave_Phoenix_AZ_85018_M10377-16992\n",
      "https://www.realtor.com/realestateandhomes-detail/4338-E-Hamblin-Dr_Phoenix_AZ_85050_M13457-77388\n",
      "https://www.realtor.com/realestateandhomes-detail/3022-E-Weldon-Ave_Phoenix_AZ_85016_M16202-92322\n",
      "https://www.realtor.com/realestateandhomes-detail/5745-N-13th-St_Phoenix_AZ_85014_M21766-46247\n",
      "https://www.realtor.com/realestateandhomes-detail/6616-W-Side-Canyon-Trl_Phoenix_AZ_85083_M12211-07736\n",
      "https://www.realtor.com/realestateandhomes-detail/1505-E-Cloud-Rd_Phoenix_AZ_85086_M21060-88520\n",
      "\n",
      "\n",
      "\n",
      "\n",
      " 18\n"
     ]
    },
    {
     "name": "stdout",
     "output_type": "stream",
     "text": [
      "mmmmmmmmmmmmmmmmmmmm https://www.realtor.com/realestateandhomes-search/Atlanta_GA/shw-nc/price-800000-na/pg-19\n",
      "https://www.realtor.com/realestateandhomes-detail/18226-N-48th-Pl_Scottsdale_AZ_85254_M27238-86463\n",
      "https://www.realtor.com/realestateandhomes-detail/5612-N-9th-St_Phoenix_AZ_85014_M21908-07306\n",
      "https://www.realtor.com/realestateandhomes-detail/6811-N-11th-Ave_Phoenix_AZ_85013_M96245-64500\n",
      "https://www.realtor.com/realestateandhomes-detail/8036-N-17th-Dr_Phoenix_AZ_85021_M22305-18279\n",
      "https://www.realtor.com/realestateandhomes-detail/721-W-Mountain-Sky-Ave_Phoenix_AZ_85045_M15043-27527\n",
      "https://www.realtor.com/realestateandhomes-detail/15212-N-53rd-St_Scottsdale_AZ_85254_M24946-89544\n",
      "https://www.realtor.com/realestateandhomes-detail/12841-N-19th-St_Phoenix_AZ_85022_M21150-76885\n",
      "https://www.realtor.com/realestateandhomes-detail/520-W-Townley-Ave_Phoenix_AZ_85021_M20385-75930\n",
      "https://www.realtor.com/realestateandhomes-detail/4968-E-Grandview-Rd_Scottsdale_AZ_85254_M19256-75869\n",
      "https://www.realtor.com/realestateandhomes-detail/106-E-Echo-Ln_Phoenix_AZ_85020_M19004-79720\n",
      "https://www.realtor.com/realestateandhomes-detail/4332-E-Greenway-Ln_Phoenix_AZ_85032_M10875-64821\n",
      "https://www.realtor.com/realestateandhomes-detail/4546-E-Sierra-Sunset-Trl_Cave-Creek_AZ_85331_M14310-66352\n",
      "https://www.realtor.com/realestateandhomes-detail/317-E-Belmont-Ave_Phoenix_AZ_85020_M10320-22823\n",
      "https://www.realtor.com/realestateandhomes-detail/6422-W-Range-Mule-Dr_Phoenix_AZ_85083_M14934-49540\n",
      "https://www.realtor.com/realestateandhomes-detail/6639-E-Pershing-Ave_Scottsdale_AZ_85254_M11207-01092\n",
      "https://www.realtor.com/realestateandhomes-detail/2315-E-Cholla-St_Phoenix_AZ_85028_M10465-85583\n",
      "https://www.realtor.com/realestateandhomes-detail/2156-W-Sierra-Sunset-Trl_Phoenix_AZ_85085_M97063-10261\n",
      "https://www.realtor.com/realestateandhomes-detail/945-E-Missouri-Ave_Phoenix_AZ_85014_M29340-76528\n",
      "https://www.realtor.com/realestateandhomes-detail/44323-N-43rd-Dr_New-River_AZ_85087_M91588-46588\n",
      "https://www.realtor.com/realestateandhomes-detail/6741-W-Desert-Dr_Laveen_AZ_85339_M91964-15663\n",
      "https://www.realtor.com/realestateandhomes-detail/4001-E-Cannon-Dr_Phoenix_AZ_85028_M12428-39409\n",
      "https://www.realtor.com/realestateandhomes-detail/7701-N-17th-Ave_Phoenix_AZ_85021_M17916-48646\n",
      "https://www.realtor.com/realestateandhomes-detail/2935-W-Kristal-Way_Phoenix_AZ_85027_M17851-28329\n",
      "https://www.realtor.com/realestateandhomes-detail/23211-N-22nd-Pl_Phoenix_AZ_85024_M21389-82975\n",
      "https://www.realtor.com/realestateandhomes-detail/19025-N-29th-Pl_Phoenix_AZ_85050_M17238-66269\n",
      "https://www.realtor.com/realestateandhomes-detail/13219-N-46th-Pl_Phoenix_AZ_85032_M20149-15206\n",
      "https://www.realtor.com/realestateandhomes-detail/3824-N-8th-Ave_Phoenix_AZ_85013_M22831-27121\n",
      "https://www.realtor.com/realestateandhomes-detail/6856-N-12th-Way_Phoenix_AZ_85014_M29050-93099\n",
      "https://www.realtor.com/realestateandhomes-detail/15240-N-51st-St_Scottsdale_AZ_85254_M22623-85032\n",
      "https://www.realtor.com/realestateandhomes-detail/10035-S-23rd-Dr_Phoenix_AZ_85041_M95733-21497\n",
      "https://www.realtor.com/realestateandhomes-detail/17234-N-28th-St_Phoenix_AZ_85032_M94323-18030\n",
      "https://www.realtor.com/realestateandhomes-detail/16847-S-13th-Way_Phoenix_AZ_85048_M19120-20637\n",
      "https://www.realtor.com/realestateandhomes-detail/10007-N-30th-Pl_Phoenix_AZ_85028_M25459-54886\n",
      "https://www.realtor.com/realestateandhomes-detail/3135-N-34th-St_Phoenix_AZ_85018_M17530-48131\n",
      "https://www.realtor.com/realestateandhomes-detail/1829-E-Amelia-Ave_Phoenix_AZ_85016_M19481-95351\n",
      "https://www.realtor.com/realestateandhomes-detail/4530-N-15th-St_Phoenix_AZ_85014_M14612-97438\n",
      "https://www.realtor.com/realestateandhomes-detail/134-E-Le-Marche-Ave_Phoenix_AZ_85022_M16924-85196\n",
      "https://www.realtor.com/realestateandhomes-detail/3247-E-Silverwood-Dr_Phoenix_AZ_85048_M21033-75626\n",
      "https://www.realtor.com/realestateandhomes-detail/4376-E-Anderson-Dr_Phoenix_AZ_85032_M21641-52007\n",
      "https://www.realtor.com/realestateandhomes-detail/4010-E-Catalina-Dr_Phoenix_AZ_85018_M20897-71815\n",
      "https://www.realtor.com/realestateandhomes-detail/4213-N-Westview-Dr_Phoenix_AZ_85015_M23486-48168\n",
      "https://www.realtor.com/realestateandhomes-detail/5506-E-Calle-De-Las-Estrellas_Cave-Creek_AZ_85331_M29682-37842\n",
      "\n",
      "\n",
      "\n",
      "\n",
      " 19\n"
     ]
    },
    {
     "name": "stdout",
     "output_type": "stream",
     "text": [
      "mmmmmmmmmmmmmmmmmmmm https://www.realtor.com/realestateandhomes-search/Atlanta_GA/shw-nc/price-800000-na/pg-20\n",
      "https://www.realtor.com/realestateandhomes-detail/710-E-Hayward-Ave_Phoenix_AZ_85020_M10520-23262\n",
      "https://www.realtor.com/realestateandhomes-detail/10035-S-23rd-Dr_Phoenix_AZ_85041_M95733-21497\n",
      "https://www.realtor.com/realestateandhomes-detail/1910-W-Desert-Hollow-Dr_Phoenix_AZ_85085_M94103-42929\n",
      "https://www.realtor.com/realestateandhomes-detail/16847-S-13th-Way_Phoenix_AZ_85048_M19120-20637\n",
      "https://www.realtor.com/realestateandhomes-detail/19203-N-39th-Way_Phoenix_AZ_85050_M29504-11606\n",
      "https://www.realtor.com/realestateandhomes-detail/816-E-Amberwood-Dr_Phoenix_AZ_85048_M93451-21961\n",
      "https://www.realtor.com/realestateandhomes-detail/4932-W-Capistrano-Ave_Laveen_AZ_85339_M91758-64071\n",
      "https://www.realtor.com/realestateandhomes-detail/3744-E-Evans-Dr_Phoenix_AZ_85032_M17079-42339\n",
      "https://www.realtor.com/realestateandhomes-detail/6444-E-Paradise-Ln_Scottsdale_AZ_85254_M22394-17839\n",
      "https://www.realtor.com/realestateandhomes-detail/4609-E-Monte-Cristo-Ave_Phoenix_AZ_85032_M17237-64468\n",
      "https://www.realtor.com/realestateandhomes-detail/4502-E-Hartford-Ave_Phoenix_AZ_85032_M21371-71465\n",
      "https://www.realtor.com/realestateandhomes-detail/7813-N-17th-Dr_Phoenix_AZ_85021_M18680-43829\n",
      "https://www.realtor.com/realestateandhomes-detail/4142-N-35th-St_Phoenix_AZ_85018_M25461-41215\n",
      "https://www.realtor.com/realestateandhomes-detail/5216-W-Siesta-Way_Laveen_AZ_85339_M19124-83572\n",
      "https://www.realtor.com/realestateandhomes-detail/19406-N-31st-Way_Phoenix_AZ_85050_M11875-07555\n",
      "https://www.realtor.com/realestateandhomes-detail/1909-W-Lariat-Ln_Phoenix_AZ_85085_M92909-56354\n",
      "https://www.realtor.com/realestateandhomes-detail/2470-W-Rowel-Rd_Phoenix_AZ_85085_M90930-00470\n",
      "https://www.realtor.com/realestateandhomes-detail/26811-N-41st-Ct_Cave-Creek_AZ_85331_M13738-25864\n",
      "https://www.realtor.com/realestateandhomes-detail/4002-E-Clarendon-Ave_Phoenix_AZ_85018_M29837-93147\n",
      "https://www.realtor.com/realestateandhomes-detail/27510-N-30th-Ln_Phoenix_AZ_85083_M96301-70246\n",
      "https://www.realtor.com/realestateandhomes-detail/4102-E-Rancho-Tierra-Dr_Cave-Creek_AZ_85331_M14281-46494\n",
      "https://www.realtor.com/realestateandhomes-detail/1835-E-Brookwood-Ct_Phoenix_AZ_85048_M23281-28452\n",
      "https://www.realtor.com/realestateandhomes-detail/2605-W-Golden-Puma-Trl_Phoenix_AZ_85085_M25389-24949\n",
      "https://www.realtor.com/realestateandhomes-detail/31017-N-41st-Pl_Cave-Creek_AZ_85331_M25092-31485\n",
      "https://www.realtor.com/realestateandhomes-detail/1632-E-Maryland-Ave_Phoenix_AZ_85016_M16349-37135\n",
      "https://www.realtor.com/realestateandhomes-detail/5234-E-Estevan-Rd_Phoenix_AZ_85054_M15556-96442\n",
      "https://www.realtor.com/realestateandhomes-detail/1209-E-Monroe-St_Phoenix_AZ_85034_M14984-80442\n",
      "https://www.realtor.com/realestateandhomes-detail/16014-S-13th-Way_Phoenix_AZ_85048_M13645-17083\n",
      "https://www.realtor.com/realestateandhomes-detail/4317-E-Ludlow-Dr_Phoenix_AZ_85032_M11538-98199\n",
      "https://www.realtor.com/realestateandhomes-detail/4027-E-Mark-Ln_Cave-Creek_AZ_85331_M97880-45722\n",
      "https://www.realtor.com/realestateandhomes-detail/3038-W-Woburn-Ln_Phoenix_AZ_85085_M27573-80349\n",
      "https://www.realtor.com/realestateandhomes-detail/4744-E-Tierra-Buena-Ln_Phoenix_AZ_85032_M29295-39557\n",
      "https://www.realtor.com/realestateandhomes-detail/6231-E-Kelton-Ln_Scottsdale_AZ_85254_M28537-30543\n",
      "https://www.realtor.com/realestateandhomes-detail/5812-N-18th-Pl_Phoenix_AZ_85016_M27488-53421\n",
      "https://www.realtor.com/realestateandhomes-detail/22634-N-47th-Pl_Phoenix_AZ_85050_M28470-61775\n",
      "https://www.realtor.com/realestateandhomes-detail/6819-N-10th-Pl_Phoenix_AZ_85014_M15934-34247\n",
      "https://www.realtor.com/realestateandhomes-detail/1334-W-Sells-Dr_Phoenix_AZ_85013_M14339-10119\n",
      "https://www.realtor.com/realestateandhomes-detail/1020-E-Vermont-Ave_Phoenix_AZ_85014_M29010-58903\n",
      "https://www.realtor.com/realestateandhomes-detail/2539-W-Golden-Puma-Trl_Phoenix_AZ_85085_M27008-47915\n",
      "https://www.realtor.com/realestateandhomes-detail/4418-E-Montecito-Ave_Phoenix_AZ_85018_M26999-37760\n",
      "https://www.realtor.com/realestateandhomes-detail/506-E-Balao-Dr_Phoenix_AZ_85085_M29390-40691\n",
      "https://www.realtor.com/realestateandhomes-detail/5024-E-Le-Marche-Ave_Scottsdale_AZ_85254_M24062-31570\n",
      "\n",
      "\n",
      "\n",
      "\n",
      " 20\n"
     ]
    },
    {
     "name": "stdout",
     "output_type": "stream",
     "text": [
      "mmmmmmmmmmmmmmmmmmmm https://www.realtor.com/realestateandhomes-search/Atlanta_GA/shw-nc/price-800000-na/pg-21\n",
      "https://www.realtor.com/realestateandhomes-detail/817-E-Meadow-Ln_Phoenix_AZ_85022_M90627-47193\n",
      "https://www.realtor.com/realestateandhomes-detail/25622-N-Singbush-Loop_Phoenix_AZ_85083_M12101-53845\n",
      "https://www.realtor.com/realestateandhomes-detail/15629-N-63rd-Pl_Scottsdale_AZ_85254_M21502-40438\n",
      "https://www.realtor.com/realestateandhomes-detail/4240-E-Bluefield-Ave_Phoenix_AZ_85032_M14121-25287\n",
      "https://www.realtor.com/realestateandhomes-detail/4308-E-Smokehouse-Trl_Cave-Creek_AZ_85331_M13860-11828\n",
      "https://www.realtor.com/realestateandhomes-detail/3806-N-14th-Pl_Phoenix_AZ_85014_M18633-42997\n",
      "https://www.realtor.com/realestateandhomes-detail/6422-W-Brookhart-Way_Phoenix_AZ_85083_M12855-75038\n",
      "https://www.realtor.com/realestateandhomes-detail/4025-N-8th-Ave_Phoenix_AZ_85013_M14749-77891\n",
      "https://www.realtor.com/realestateandhomes-detail/6216-W-Hedgehog-Pl_Phoenix_AZ_85083_M13928-34644\n",
      "https://www.realtor.com/realestateandhomes-detail/3015-E-Sells-Dr_Phoenix_AZ_85016_M25520-26085\n",
      "https://www.realtor.com/realestateandhomes-detail/14821-N-42nd-St_Phoenix_AZ_85032_M23615-12439\n",
      "https://www.realtor.com/realestateandhomes-detail/4341-E-Abraham-Ln_Phoenix_AZ_85050_M27020-34099\n",
      "https://www.realtor.com/realestateandhomes-detail/1236-E-Mescal-St_Phoenix_AZ_85020_M16381-24427\n",
      "https://www.realtor.com/realestateandhomes-detail/22208-N-34th-Ln_Phoenix_AZ_85027_M17505-94173\n",
      "https://www.realtor.com/realestateandhomes-detail/5024-E-Le-Marche-Ave_Scottsdale_AZ_85254_M24062-31570\n",
      "https://www.realtor.com/realestateandhomes-detail/214-W-Ruth-Ave_Phoenix_AZ_85021_M27962-15711\n",
      "https://www.realtor.com/realestateandhomes-detail/6307-E-Gelding-Dr_Scottsdale_AZ_85254_M28076-97568\n",
      "https://www.realtor.com/realestateandhomes-detail/4350-E-Abraham-Ln_Phoenix_AZ_85050_M10889-76403\n",
      "https://www.realtor.com/realestateandhomes-detail/1414-E-Cathedral-Rock-Dr_Phoenix_AZ_85048_M13586-29064\n",
      "https://www.realtor.com/realestateandhomes-detail/28802-N-45th-St_Cave-Creek_AZ_85331_M14310-67758\n",
      "https://www.realtor.com/realestateandhomes-detail/4625-E-Villa-Maria-Dr_Phoenix_AZ_85032_M92089-14179\n",
      "https://www.realtor.com/realestateandhomes-detail/3351-N-6th-Ave_Phoenix_AZ_85013_M21229-35355\n",
      "https://www.realtor.com/realestateandhomes-detail/4722-W-Lapenna-Dr_New-River_AZ_85087_M21923-97237\n",
      "https://www.realtor.com/realestateandhomes-detail/3411-E-Sells-Dr_Phoenix_AZ_85018_M25771-23735\n",
      "https://www.realtor.com/realestateandhomes-detail/6608-W-Saguaro-Park-Ln_Glendale_AZ_85310_M14921-57549\n",
      "https://www.realtor.com/realestateandhomes-detail/31275-N-41st-St_Cave-Creek_AZ_85331_M15098-33440\n",
      "https://www.realtor.com/realestateandhomes-detail/Cholla-Plan-5541_Ridge-Collection-at-Whispering-Hills_3541-W-Summerside-Rd_Laveen_AZ_85339_P417000784444\n",
      "https://www.realtor.com/realestateandhomes-detail/Cholla-Plan-5541_Summit-Collection-at-Whispering-Hills_3824-W-Whispering-Hills-Dr_Laveen_AZ_85339_P417000750368\n",
      "https://www.realtor.com/realestateandhomes-detail/Cholla-Plan-5541_Atlas-Collection-at-Whispering-Hills_3824-W-Whispering-Hills-Dr_Laveen_AZ_85339_P417000750350\n",
      "https://www.realtor.com/realestateandhomes-detail/4020-N-34th-St_Phoenix_AZ_85018_M20729-91839\n",
      "https://www.realtor.com/realestateandhomes-detail/2302-E-Paraiso-Dr_Phoenix_AZ_85024_M11359-96025\n",
      "https://www.realtor.com/realestateandhomes-detail/2910-E-Quiet-Hollow-Ln_Phoenix_AZ_85024_M11423-27903\n",
      "https://www.realtor.com/realestateandhomes-detail/2604-W-Balao-Dr_Phoenix_AZ_85085_M12112-94443\n",
      "https://www.realtor.com/realestateandhomes-detail/4245-E-Maya-Way_Cave-Creek_AZ_85331_M28983-99723\n",
      "https://www.realtor.com/realestateandhomes-detail/8911-S-14th-Way_Phoenix_AZ_85042_M29465-73914\n",
      "https://www.realtor.com/realestateandhomes-detail/702-W-Mountain-Sky-Ave_Phoenix_AZ_85045_M27419-52221\n",
      "https://www.realtor.com/realestateandhomes-detail/10832-N-37th-St_Phoenix_AZ_85028_M24523-91476\n",
      "https://www.realtor.com/realestateandhomes-detail/25807-N-19th-Gln_Phoenix_AZ_85085_M97389-00488\n",
      "https://www.realtor.com/realestateandhomes-detail/4855-E-Shady-Glen-Ave_Scottsdale_AZ_85254_M93303-97905\n",
      "https://www.realtor.com/realestateandhomes-detail/4657-E-Matt-Dillon-Trl_Cave-Creek_AZ_85331_M13863-09955\n",
      "https://www.realtor.com/realestateandhomes-detail/3401-E-Paradise-Ln_Phoenix_AZ_85032_M24054-60357\n",
      "https://www.realtor.com/realestateandhomes-detail/5528-W-Mine-Trl_Phoenix_AZ_85083_M16393-54660\n",
      "\n",
      "\n",
      "\n",
      "\n",
      " 21\n"
     ]
    },
    {
     "name": "stdout",
     "output_type": "stream",
     "text": [
      "mmmmmmmmmmmmmmmmmmmm https://www.realtor.com/realestateandhomes-search/Atlanta_GA/shw-nc/price-800000-na/pg-22\n",
      "https://www.realtor.com/realestateandhomes-detail/5528-W-Mine-Trl_Phoenix_AZ_85083_M16393-54660\n",
      "https://www.realtor.com/realestateandhomes-detail/10832-N-37th-St_Phoenix_AZ_85028_M24523-91476\n",
      "https://www.realtor.com/realestateandhomes-detail/3401-E-Paradise-Ln_Phoenix_AZ_85032_M24054-60357\n",
      "https://www.realtor.com/realestateandhomes-detail/1954-E-Vista-Dr_Phoenix_AZ_85022_M14481-24188\n",
      "https://www.realtor.com/realestateandhomes-detail/10245-N-34th-Pl_Phoenix_AZ_85028_M13271-20449\n",
      "https://www.realtor.com/realestateandhomes-detail/1919-W-Hide-Trl_Phoenix_AZ_85085_M98218-13564\n",
      "https://www.realtor.com/realestateandhomes-detail/2055-E-Park-View-Ln_Phoenix_AZ_85024_M95498-51040\n",
      "https://www.realtor.com/realestateandhomes-detail/9632-W-Monterey-Way_Phoenix_AZ_85037_M95184-76957\n",
      "https://www.realtor.com/realestateandhomes-detail/8830-S-20th-Pl_Phoenix_AZ_85042_M19814-27461\n",
      "https://www.realtor.com/realestateandhomes-detail/13616-N-41st-Pl_Phoenix_AZ_85032_M13530-34801\n",
      "https://www.realtor.com/realestateandhomes-detail/14616-N-28th-Pl_Phoenix_AZ_85032_M14977-62423\n",
      "https://www.realtor.com/realestateandhomes-detail/5622-E-Gelding-Dr_Scottsdale_AZ_85254_M29292-19114\n",
      "https://www.realtor.com/realestateandhomes-detail/24403-N-43rd-Dr_Glendale_AZ_85310_M28712-49114\n",
      "https://www.realtor.com/realestateandhomes-detail/31310-N-26th-Dr_Phoenix_AZ_85085_M12094-31146\n",
      "https://www.realtor.com/realestateandhomes-detail/6873-E-Kathleen-Rd_Scottsdale_AZ_85254_M18451-02376\n",
      "https://www.realtor.com/realestateandhomes-detail/1304-W-Ocotillo-Rd_Phoenix_AZ_85013_M22148-55025\n",
      "https://www.realtor.com/realestateandhomes-detail/20734-N-38th-St_Phoenix_AZ_85050_M12732-33713\n",
      "https://www.realtor.com/realestateandhomes-detail/735-E-Marblewood-Way_Phoenix_AZ_85048_M90604-01122\n",
      "https://www.realtor.com/realestateandhomes-detail/39004-N-33rd-Ave_Phoenix_AZ_85086_M17704-19471\n",
      "https://www.realtor.com/realestateandhomes-detail/4637-E-Fernwood-Ct_Cave-Creek_AZ_85331_M17254-54183\n",
      "https://www.realtor.com/realestateandhomes-detail/15028-N-9th-St_Phoenix_AZ_85022_M12613-10018\n",
      "https://www.realtor.com/realestateandhomes-detail/31227-N-45th-St_Cave-Creek_AZ_85331_M25681-48940\n",
      "https://www.realtor.com/realestateandhomes-detail/14010-N-12th-St_Phoenix_AZ_85022_M18826-64490\n",
      "https://www.realtor.com/realestateandhomes-detail/3942-N-38th-St_Phoenix_AZ_85018_M19865-93793\n",
      "https://www.realtor.com/realestateandhomes-detail/11416-N-Bancroft-Dr_Phoenix_AZ_85028_M18793-15813\n",
      "https://www.realtor.com/realestateandhomes-detail/4429-E-Rancho-Caliente-Dr_Cave-Creek_AZ_85331_M12139-67750\n",
      "https://www.realtor.com/realestateandhomes-detail/3615-E-Charter-Oak-Rd_Phoenix_AZ_85032_M15961-20544\n",
      "https://www.realtor.com/realestateandhomes-detail/17246-N-56th-Way_Scottsdale_AZ_85254_M14739-38113\n",
      "https://www.realtor.com/realestateandhomes-detail/39705-N-3rd-St_Phoenix_AZ_85086_M90105-08884\n",
      "https://www.realtor.com/realestateandhomes-detail/6412-N-17th-Pl_Phoenix_AZ_85016_M96179-03107\n",
      "https://www.realtor.com/realestateandhomes-detail/301-E-Tierra-Buena-Ln_Phoenix_AZ_85022_M24876-28611\n",
      "https://www.realtor.com/realestateandhomes-detail/15618-N-12th-Ave_Phoenix_AZ_85023_M18795-97494\n",
      "https://www.realtor.com/realestateandhomes-detail/6915-E-Sandra-Ter_Scottsdale_AZ_85254_M25849-96295\n",
      "https://www.realtor.com/realestateandhomes-detail/15420-S-29th-St_Phoenix_AZ_85048_M23928-57468\n",
      "https://www.realtor.com/realestateandhomes-detail/2342-W-Turney-Ave_Phoenix_AZ_85015_M25296-47687\n",
      "https://www.realtor.com/realestateandhomes-detail/2512-W-Corral-Rd_Phoenix_AZ_85041_M14352-75478\n",
      "https://www.realtor.com/realestateandhomes-detail/6726-N-11th-St_Phoenix_AZ_85014_M23276-36474\n",
      "https://www.realtor.com/realestateandhomes-detail/2916-E-Campo-Bello-Dr_Phoenix_AZ_85032_M15971-24798\n",
      "https://www.realtor.com/realestateandhomes-detail/7012-N-22nd-St_Phoenix_AZ_85020_M11741-88814\n",
      "https://www.realtor.com/realestateandhomes-detail/4502-W-Greenway-Rd_Glendale_AZ_85306_M10963-04648\n",
      "https://www.realtor.com/realestateandhomes-detail/15027-N-19th-Way_Phoenix_AZ_85022_M14431-67817\n",
      "https://www.realtor.com/realestateandhomes-detail/3929-E-Mercer-Ln_Phoenix_AZ_85028_M13826-98491\n",
      "\n",
      "\n",
      "\n",
      "\n",
      " 22\n"
     ]
    },
    {
     "name": "stdout",
     "output_type": "stream",
     "text": [
      "mmmmmmmmmmmmmmmmmmmm https://www.realtor.com/realestateandhomes-search/Atlanta_GA/shw-nc/price-800000-na/pg-23\n",
      "https://www.realtor.com/realestateandhomes-detail/3502-E-Janice-Way_Phoenix_AZ_85032_M25478-90789\n",
      "https://www.realtor.com/realestateandhomes-detail/2526-E-Novak-Way_Phoenix_AZ_85042_M98461-97445\n",
      "https://www.realtor.com/realestateandhomes-detail/3932-E-Shaw-Butte-Dr_Phoenix_AZ_85028_M13649-59902\n",
      "https://www.realtor.com/realestateandhomes-detail/16008-N-56th-Way_Scottsdale_AZ_85254_M18244-72941\n",
      "https://www.realtor.com/realestateandhomes-detail/541-W-Edgemont-Ave_Phoenix_AZ_85003_M13111-97223\n",
      "https://www.realtor.com/realestateandhomes-detail/28623-N-66th-Ave_Phoenix_AZ_85083_M12237-53618\n",
      "https://www.realtor.com/realestateandhomes-detail/4713-E-Cambridge-Ave_Phoenix_AZ_85008_M23757-99296\n",
      "https://www.realtor.com/realestateandhomes-detail/23619-N-21st-St_Phoenix_AZ_85024_M23911-98874\n",
      "https://www.realtor.com/realestateandhomes-detail/2850-E-Cortez-St_Phoenix_AZ_85028_M20466-22072\n",
      "https://www.realtor.com/realestateandhomes-detail/4803-E-Barwick-Dr_Cave-Creek_AZ_85331_M14135-38244\n",
      "https://www.realtor.com/realestateandhomes-detail/5649-E-Desert-Forest-Trl_Cave-Creek_AZ_85331_M14459-79973\n",
      "https://www.realtor.com/realestateandhomes-detail/5090-E-Sleepy-Ranch-Rd_Cave-Creek_AZ_85331_M14066-57160\n",
      "https://www.realtor.com/realestateandhomes-detail/735-E-Northern-Ave_Phoenix_AZ_85020_M14106-44799\n",
      "https://www.realtor.com/realestateandhomes-detail/2059-W-Whisper-Rock-Trl_Phoenix_AZ_85085_M13640-53964\n",
      "https://www.realtor.com/realestateandhomes-detail/2611-W-Trapanotto-Rd_Phoenix_AZ_85086_M13322-02955\n",
      "https://www.realtor.com/realestateandhomes-detail/4346-E-Prickly-Pear-Trl_Phoenix_AZ_85050_M19842-92047\n",
      "https://www.realtor.com/realestateandhomes-detail/5310-E-Kathleen-Rd_Scottsdale_AZ_85254_M16781-29585\n",
      "https://www.realtor.com/realestateandhomes-detail/3759-E-Charter-Oak-Rd_Phoenix_AZ_85032_M18607-71895\n",
      "https://www.realtor.com/realestateandhomes-detail/4665-E-Goldfinch-Gate-Ln_Phoenix_AZ_85044_M10744-62954\n",
      "https://www.realtor.com/realestateandhomes-detail/2023-W-Yellowbird-Ln_Phoenix_AZ_85085_M92153-92643\n",
      "https://www.realtor.com/realestateandhomes-detail/35925-N-30th-Dr_Phoenix_AZ_85086_M29261-27327\n",
      "https://www.realtor.com/realestateandhomes-detail/26205-N-19th-Ln_Phoenix_AZ_85085_M90264-76664\n",
      "https://www.realtor.com/realestateandhomes-detail/2631-E-Beekman-Pl_Phoenix_AZ_85016_M22203-48529\n",
      "https://www.realtor.com/realestateandhomes-detail/8121-N-8th-Ave_Phoenix_AZ_85021_M12707-97089\n",
      "https://www.realtor.com/realestateandhomes-detail/4112-W-Monte-Cristo-Ave_Phoenix_AZ_85053_M12522-62617\n",
      "https://www.realtor.com/realestateandhomes-detail/2605-W-Desert-Marigold-Dr_Phoenix_AZ_85085_M12111-08113\n",
      "https://www.realtor.com/realestateandhomes-detail/4043-W-Aire-Libre-Ave_Phoenix_AZ_85053_M13077-51606\n",
      "https://www.realtor.com/realestateandhomes-detail/609-E-Pasaro-Dr_Phoenix_AZ_85085_M29377-73649\n",
      "https://www.realtor.com/realestateandhomes-detail/2333-E-Taxidea-Way_Phoenix_AZ_85048_M21257-37118\n",
      "https://www.realtor.com/realestateandhomes-detail/2422-W-Maya-Way_Phoenix_AZ_85085_M17036-07964\n",
      "https://www.realtor.com/realestateandhomes-detail/1106-W-Glenrosa-Ave_Phoenix_AZ_85013_M21514-62694\n",
      "https://www.realtor.com/realestateandhomes-detail/1908-E-Beck-Ln_Phoenix_AZ_85022_M24734-59329\n",
      "https://www.realtor.com/realestateandhomes-detail/7202-N-16th-Dr_Phoenix_AZ_85021_M29029-76953\n",
      "https://www.realtor.com/realestateandhomes-detail/26264-N-46th-St_Phoenix_AZ_85050_M24899-04982\n",
      "https://www.realtor.com/realestateandhomes-detail/22236-N-48th-St_Phoenix_AZ_85054_M27789-62377\n",
      "https://www.realtor.com/realestateandhomes-detail/4442-E-Aire-Libre-Ave_Phoenix_AZ_85032_M21714-93398\n",
      "https://www.realtor.com/realestateandhomes-detail/4864-E-Muriel-Dr_Scottsdale_AZ_85254_M99991-06139\n",
      "https://www.realtor.com/realestateandhomes-detail/2428-W-Rowel-Rd_Phoenix_AZ_85085_M98225-97232\n",
      "https://www.realtor.com/realestateandhomes-detail/15034-S-44th-Pl_Phoenix_AZ_85044_M21604-68976\n",
      "https://www.realtor.com/realestateandhomes-detail/2131-E-Rose-Garden-Ln_Phoenix_AZ_85024_M19770-99720\n",
      "https://www.realtor.com/realestateandhomes-detail/6515-W-Copper-Springs-Rd_Phoenix_AZ_85083_M12206-60545\n",
      "https://www.realtor.com/realestateandhomes-detail/1323-W-Tuckey-Ln_Phoenix_AZ_85013_M10306-40834\n",
      "\n",
      "\n",
      "\n",
      "\n",
      " 23\n"
     ]
    },
    {
     "name": "stdout",
     "output_type": "stream",
     "text": [
      "mmmmmmmmmmmmmmmmmmmm https://www.realtor.com/realestateandhomes-search/Atlanta_GA/shw-nc/price-800000-na/pg-24\n",
      "https://www.realtor.com/realestateandhomes-detail/2131-E-Rose-Garden-Ln_Phoenix_AZ_85024_M19770-99720\n",
      "https://www.realtor.com/realestateandhomes-detail/6515-W-Copper-Springs-Rd_Phoenix_AZ_85083_M12206-60545\n",
      "https://www.realtor.com/realestateandhomes-detail/15056-N-43rd-St_Phoenix_AZ_85032_M23362-46130\n",
      "https://www.realtor.com/realestateandhomes-detail/19029-N-36th-St_Phoenix_AZ_85050_M24584-26633\n",
      "https://www.realtor.com/realestateandhomes-detail/1747-W-Echo-Ln_Phoenix_AZ_85021_M28165-47969\n",
      "https://www.realtor.com/realestateandhomes-detail/28917-N-66th-Ave_Phoenix_AZ_85083_M29988-89795\n",
      "https://www.realtor.com/realestateandhomes-detail/727-E-Monte-Way_Phoenix_AZ_85042_M92378-31893\n",
      "https://www.realtor.com/realestateandhomes-detail/5015-E-Karen-Dr_Scottsdale_AZ_85254_M29242-28170\n",
      "https://www.realtor.com/realestateandhomes-detail/Explorer-Plan-5583_Western-Garden-Destiny_3010-N-96th-Lane_Phoenix_AZ_85037_P417000932419\n",
      "https://www.realtor.com/realestateandhomes-detail/4522-E-Andora-Dr_Phoenix_AZ_85032_M19310-78207\n",
      "https://www.realtor.com/realestateandhomes-detail/4502-N-17th-Ave_Phoenix_AZ_85015_M18155-73382\n",
      "https://www.realtor.com/realestateandhomes-detail/2401-N-37th-St_Phoenix_AZ_85008_M18279-38154\n",
      "https://www.realtor.com/realestateandhomes-detail/5637-E-Lonesome-Trl_Cave-Creek_AZ_85331_M14447-50197\n",
      "https://www.realtor.com/realestateandhomes-detail/1437-E-Glenhaven-Dr_Phoenix_AZ_85048_M98787-11973\n",
      "https://www.realtor.com/realestateandhomes-detail/501-E-Desert-Hills-Estate-Dr_Phoenix_AZ_85086_M27583-28417\n",
      "https://www.realtor.com/realestateandhomes-detail/6252-E-Aire-Libre-Ln_Scottsdale_AZ_85254_M27492-58883\n",
      "https://www.realtor.com/realestateandhomes-detail/1617-W-Lamar-Rd_Phoenix_AZ_85015_M23606-88216\n",
      "https://www.realtor.com/realestateandhomes-detail/4314-E-Montecito-Ave_Phoenix_AZ_85018_M15267-19986\n",
      "https://www.realtor.com/realestateandhomes-detail/5707-N-13th-Pl_Phoenix_AZ_85014_M20979-77843\n",
      "https://www.realtor.com/realestateandhomes-detail/6254-E-Winchcomb-Dr_Scottsdale_AZ_85254_M20475-84139\n",
      "https://www.realtor.com/realestateandhomes-detail/1633-W-Acoma-Dr_Phoenix_AZ_85023_M12149-73930\n",
      "https://www.realtor.com/realestateandhomes-detail/1702-W-Monterosa-St_Phoenix_AZ_85015_M17017-77714\n",
      "https://www.realtor.com/realestateandhomes-detail/2716-E-Voltaire-Ave_Phoenix_AZ_85032_M18501-47953\n",
      "https://www.realtor.com/realestateandhomes-detail/4514-N-8th-Pl_Phoenix_AZ_85014_M15933-42045\n",
      "https://www.realtor.com/realestateandhomes-detail/5531-W-Hopi-Trail_Laveen_AZ_85339_M97939-00420\n",
      "https://www.realtor.com/realestateandhomes-detail/8146-N-17th-Dr_Phoenix_AZ_85021_M28586-21218\n",
      "https://www.realtor.com/realestateandhomes-detail/4308-E-Montecito-Ave_Phoenix_AZ_85018_M28124-95428\n",
      "https://www.realtor.com/realestateandhomes-detail/3551-E-Louise-Dr_Phoenix_AZ_85050_M91303-56503\n",
      "https://www.realtor.com/realestateandhomes-detail/4601-E-Sunnyside-Ln_Phoenix_AZ_85032_M10200-38934\n",
      "https://www.realtor.com/realestateandhomes-detail/4208-E-Tether-Trl_Phoenix_AZ_85050_M22615-99298\n",
      "https://www.realtor.com/realestateandhomes-detail/3350-E-Rosemonte-Dr_Phoenix_AZ_85050_M25447-34556\n",
      "https://www.realtor.com/realestateandhomes-detail/609-E-Winter-Dr_Phoenix_AZ_85020_M18482-96028\n",
      "https://www.realtor.com/realestateandhomes-detail/3740-E-Tonto-Ct_Phoenix_AZ_85044_M12714-26758\n",
      "https://www.realtor.com/realestateandhomes-detail/6204-W-Hedgehog-Pl_Phoenix_AZ_85083_M13998-77907\n",
      "https://www.realtor.com/realestateandhomes-detail/34014-N-43rd-St_Cave-Creek_AZ_85331_M29931-31491\n",
      "https://www.realtor.com/realestateandhomes-detail/5509-E-Desert-Hills-Dr_Scottsdale_AZ_85254_M24591-62505\n",
      "https://www.realtor.com/realestateandhomes-detail/2442-W-Rowel-Rd_Phoenix_AZ_85085_M90475-74276\n",
      "https://www.realtor.com/realestateandhomes-detail/40930-N-Lambert-Trl_Phoenix_AZ_85086_M28265-33132\n",
      "https://www.realtor.com/realestateandhomes-detail/2846-E-Lupine-Ave_Phoenix_AZ_85028_M28132-00332\n",
      "https://www.realtor.com/realestateandhomes-detail/15021-N-19th-Way_Phoenix_AZ_85022_M24650-48598\n",
      "https://www.realtor.com/realestateandhomes-detail/418-E-Marconi-Ave_Phoenix_AZ_85022_M24662-75226\n",
      "https://www.realtor.com/realestateandhomes-detail/11035-N-37th-St_Phoenix_AZ_85028_M97027-43194\n",
      "\n",
      "\n",
      "\n",
      "\n",
      " 24\n"
     ]
    },
    {
     "name": "stdout",
     "output_type": "stream",
     "text": [
      "mmmmmmmmmmmmmmmmmmmm https://www.realtor.com/realestateandhomes-search/Atlanta_GA/shw-nc/price-800000-na/pg-25\n",
      "https://www.realtor.com/realestateandhomes-detail/4820-E-St-John-Rd_Scottsdale_AZ_85254_M90735-80229\n",
      "https://www.realtor.com/realestateandhomes-detail/Pinnacle-Plan-6531_Summit-Collection-at-Whispering-Hills_3824-W-Whispering-Hills-Dr_Laveen_AZ_85339_P417000750369\n",
      "https://www.realtor.com/realestateandhomes-detail/4032-E-Cannon-Dr_Phoenix_AZ_85028_M11325-69485\n",
      "https://www.realtor.com/realestateandhomes-detail/845-W-Edgemont-Ave_Phoenix_AZ_85007_M19753-84967\n",
      "https://www.realtor.com/realestateandhomes-detail/1824-W-Tombstone-Trl_Phoenix_AZ_85085_M27050-58966\n",
      "https://www.realtor.com/realestateandhomes-detail/9412-N-33rd-Way_Phoenix_AZ_85028_M22439-88954\n",
      "https://www.realtor.com/realestateandhomes-detail/5238-E-Beck-Ln_Scottsdale_AZ_85254_M18851-25999\n",
      "https://www.realtor.com/realestateandhomes-detail/4807-E-Everett-Dr_Scottsdale_AZ_85254_M20502-67287\n",
      "https://www.realtor.com/realestateandhomes-detail/2855-E-Tina-Dr_Phoenix_AZ_85050_M18649-08167\n",
      "https://www.realtor.com/realestateandhomes-detail/Pinnacle-Plan-6531_Atlas-Collection-at-Whispering-Hills_3824-W-Whispering-Hills-Dr_Laveen_AZ_85339_P417000750351\n",
      "https://www.realtor.com/realestateandhomes-detail/1302-E-Nicolet-Ave_Phoenix_AZ_85020_M14389-41022\n",
      "https://www.realtor.com/realestateandhomes-detail/4635-E-Patrick-Ln_Phoenix_AZ_85050_M22736-38824\n",
      "https://www.realtor.com/realestateandhomes-detail/15008-N-48th-Pl_Scottsdale_AZ_85254_M29047-75348\n",
      "https://www.realtor.com/realestateandhomes-detail/6010-E-Greenway-Ln_Scottsdale_AZ_85254_M22488-94760\n",
      "https://www.realtor.com/realestateandhomes-detail/3823-E-Poinsettia-Dr_Phoenix_AZ_85028_M25747-09672\n",
      "https://www.realtor.com/realestateandhomes-detail/6721-E-Phelps-Rd_Scottsdale_AZ_85254_M22027-85417\n",
      "https://www.realtor.com/realestateandhomes-detail/3754-E-Yale-St_Phoenix_AZ_85008_M18103-48629\n",
      "https://www.realtor.com/realestateandhomes-detail/323-E-Griswold-Rd_Phoenix_AZ_85020_M17234-92386\n",
      "https://www.realtor.com/realestateandhomes-detail/15652-N-52nd-St_Scottsdale_AZ_85254_M14777-87878\n",
      "https://www.realtor.com/realestateandhomes-detail/14221-N-45th-St_Phoenix_AZ_85032_M11427-18416\n",
      "https://www.realtor.com/realestateandhomes-detail/1501-W-Grovers-Ave_Phoenix_AZ_85023_M28867-46855\n",
      "https://www.realtor.com/realestateandhomes-detail/521-W-Granada-Rd_Phoenix_AZ_85003_M11202-77347\n",
      "https://www.realtor.com/realestateandhomes-detail/35849-N-3rd-St_Phoenix_AZ_85086_M18047-33364\n",
      "https://www.realtor.com/realestateandhomes-detail/15868-N-18th-Pl_Phoenix_AZ_85022_M27786-41505\n",
      "https://www.realtor.com/realestateandhomes-detail/2511-E-Pinchot-Ave_Phoenix_AZ_85016_M28264-04551\n",
      "https://www.realtor.com/realestateandhomes-detail/1807-E-Medlock-Dr_Phoenix_AZ_85016_M28590-86079\n",
      "https://www.realtor.com/realestateandhomes-detail/1246-E-Cambridge-Ave_Phoenix_AZ_85006_M14891-53471\n",
      "https://www.realtor.com/realestateandhomes-detail/1720-W-Sunnyslope-Ln_Phoenix_AZ_85021_M12814-43776\n",
      "https://www.realtor.com/realestateandhomes-detail/2008-E-Mitchell-Dr_Phoenix_AZ_85016_M27433-38765\n",
      "https://www.realtor.com/realestateandhomes-detail/26633-N-41st-Way_Cave-Creek_AZ_85331_M22875-25022\n",
      "https://www.realtor.com/realestateandhomes-detail/15236-N-20th-Pl_Phoenix_AZ_85022_M23608-15758\n",
      "https://www.realtor.com/realestateandhomes-detail/1011-W-Northern-Ave_Phoenix_AZ_85021_M18215-35932\n",
      "https://www.realtor.com/realestateandhomes-detail/2064-W-Dobbins-Rd_Phoenix_AZ_85041_M17789-81191\n",
      "https://www.realtor.com/realestateandhomes-detail/16436-N-64th-Pl_Scottsdale_AZ_85254_M18925-95084\n",
      "https://www.realtor.com/realestateandhomes-detail/5333-E-Sheena-Dr_Scottsdale_AZ_85254_M21369-47869\n",
      "https://www.realtor.com/realestateandhomes-detail/32716-N-50th-St_Cave-Creek_AZ_85331_M29334-50799\n",
      "https://www.realtor.com/realestateandhomes-detail/856-E-Village-Circle-Dr-S_Phoenix_AZ_85022_M18219-60379\n",
      "https://www.realtor.com/realestateandhomes-detail/2528-E-Montecito-Ave_Phoenix_AZ_85016_M18083-06370\n",
      "https://www.realtor.com/realestateandhomes-detail/3201-W-Evans-Dr_Phoenix_AZ_85053_M21501-22343\n",
      "https://www.realtor.com/realestateandhomes-detail/34005-N-10th-St_Phoenix_AZ_85085_M10030-81523\n",
      "https://www.realtor.com/realestateandhomes-detail/3252-W-Peak-View-Rd_Phoenix_AZ_85083_M97877-39148\n",
      "https://www.realtor.com/realestateandhomes-detail/2482-W-Rowel-Rd_Phoenix_AZ_85085_M94858-00106\n",
      "\n",
      "\n",
      "\n",
      "\n",
      " 25\n"
     ]
    },
    {
     "name": "stdout",
     "output_type": "stream",
     "text": [
      "mmmmmmmmmmmmmmmmmmmm https://www.realtor.com/realestateandhomes-search/Atlanta_GA/shw-nc/price-800000-na/pg-26\n",
      "https://www.realtor.com/realestateandhomes-detail/13026-N-12th-Ave_Phoenix_AZ_85029_M13791-29184\n",
      "https://www.realtor.com/realestateandhomes-detail/9627-W-Cheery-Lynn-Rd_Phoenix_AZ_85037_M90305-49985\n",
      "https://www.realtor.com/realestateandhomes-detail/19030-N-36th-Pl_Phoenix_AZ_85050_M12665-38622\n",
      "https://www.realtor.com/realestateandhomes-detail/4712-E-Lone-Cactus-Dr_Phoenix_AZ_85050_M10935-97380\n",
      "https://www.realtor.com/realestateandhomes-detail/16023-S-30th-Pl_Phoenix_AZ_85048_M23750-92986\n",
      "https://www.realtor.com/realestateandhomes-detail/29227-N-44th-St_Cave-Creek_AZ_85331_M16051-96987\n",
      "https://www.realtor.com/realestateandhomes-detail/5320-E-Thomas-Rd_Phoenix_AZ_85018_M25835-08286\n",
      "https://www.realtor.com/realestateandhomes-detail/16016-S-7th-St_Phoenix_AZ_85048_M13564-67639\n",
      "https://www.realtor.com/realestateandhomes-detail/6611-E-Voltaire-Ave_Scottsdale_AZ_85254_M14314-82758\n",
      "https://www.realtor.com/realestateandhomes-detail/6713-E-Paradise-Ln_Scottsdale_AZ_85254_M21870-59189\n",
      "https://www.realtor.com/realestateandhomes-detail/3009-E-Whitton-Ave_Phoenix_AZ_85016_M15766-16638\n",
      "https://www.realtor.com/realestateandhomes-detail/742-W-Puget-Ave_Phoenix_AZ_85021_M23409-00001\n",
      "https://www.realtor.com/realestateandhomes-detail/4809-E-Red-Range-Way_Cave-Creek_AZ_85331_M27731-11624\n",
      "https://www.realtor.com/realestateandhomes-detail/4815-E-Everett-Dr_Scottsdale_AZ_85254_M29364-14133\n",
      "https://www.realtor.com/realestateandhomes-detail/15238-S-36th-Pl_Phoenix_AZ_85044_M10343-66725\n",
      "https://www.realtor.com/realestateandhomes-detail/10031-S-23rd-Dr_Phoenix_AZ_85041_M94605-97221\n",
      "https://www.realtor.com/realestateandhomes-detail/3933-W-Sandra-Ter_Phoenix_AZ_85053_M18179-79037\n",
      "https://www.realtor.com/realestateandhomes-detail/9059-N-Arroya-Grande-Dr_Phoenix_AZ_85028_M22805-09578\n",
      "https://www.realtor.com/realestateandhomes-detail/6314-N-14th-Pl_Phoenix_AZ_85014_M26422-95571\n",
      "https://www.realtor.com/realestateandhomes-detail/2614-E-Mountain-View-Rd_Phoenix_AZ_85028_M25821-02850\n",
      "https://www.realtor.com/realestateandhomes-detail/12444-N-33rd-St_Phoenix_AZ_85032_M25998-78704\n",
      "https://www.realtor.com/realestateandhomes-detail/549-E-Balao-Dr_Phoenix_AZ_85085_M29359-10352\n",
      "https://www.realtor.com/realestateandhomes-detail/1311-W-Windsong-Dr_Phoenix_AZ_85045_M21103-21613\n",
      "https://www.realtor.com/realestateandhomes-detail/2525-W-Balao-Dr_Phoenix_AZ_85085_M12119-65230\n",
      "https://www.realtor.com/realestateandhomes-detail/30645-N-44th-St_Cave-Creek_AZ_85331_M15238-45434\n",
      "https://www.realtor.com/realestateandhomes-detail/4623-E-Lone-Cactus-Dr_Phoenix_AZ_85050_M10282-71558\n",
      "https://www.realtor.com/realestateandhomes-detail/10039-S-23rd-Dr_Phoenix_AZ_85041_M95823-25910\n",
      "https://www.realtor.com/realestateandhomes-detail/15828-N-10th-Pl_Phoenix_AZ_85022_M24316-46942\n",
      "https://www.realtor.com/realestateandhomes-detail/4116-E-Lupine-Ave_Phoenix_AZ_85028_M24710-87607\n",
      "https://www.realtor.com/realestateandhomes-detail/1841-E-Clarendon-Ave_Phoenix_AZ_85016_M24168-51844\n",
      "https://www.realtor.com/realestateandhomes-detail/8227-N-15th-Pl_Phoenix_AZ_85020_M29510-32532\n",
      "https://www.realtor.com/realestateandhomes-detail/4821-E-Kirkland-Rd_Phoenix_AZ_85054_M28454-44818\n",
      "https://www.realtor.com/realestateandhomes-detail/6334-N-19th-St_Phoenix_AZ_85016_M15376-50280\n",
      "https://www.realtor.com/realestateandhomes-detail/2440-W-Morten-Ave_Phoenix_AZ_85021_M10220-09657\n",
      "https://www.realtor.com/realestateandhomes-detail/5016-E-Marconi-Ave_Scottsdale_AZ_85254_M23831-63951\n",
      "https://www.realtor.com/realestateandhomes-detail/1939-E-Solano-Dr_Phoenix_AZ_85016_M24109-74494\n",
      "https://www.realtor.com/realestateandhomes-detail/6351-E-Waltann-Ln_Scottsdale_AZ_85254_M16644-52984\n",
      "https://www.realtor.com/realestateandhomes-detail/2246-E-Glenrosa-Ave_Phoenix_AZ_85016_M28870-84175\n",
      "https://www.realtor.com/realestateandhomes-detail/4032-N-11th-Ave_Phoenix_AZ_85013_M17888-57553\n",
      "https://www.realtor.com/realestateandhomes-detail/26286-N-45th-Pl_Phoenix_AZ_85050_M24664-64704\n",
      "https://www.realtor.com/realestateandhomes-detail/4079-E-Shangri-La-Rd_Phoenix_AZ_85028_M26523-11886\n",
      "https://www.realtor.com/realestateandhomes-detail/8609-S-16th-St_Phoenix_AZ_85042_M20514-66095\n",
      "\n",
      "\n",
      "\n",
      "\n",
      " 26\n"
     ]
    },
    {
     "name": "stdout",
     "output_type": "stream",
     "text": [
      "mmmmmmmmmmmmmmmmmmmm https://www.realtor.com/realestateandhomes-search/Atlanta_GA/shw-nc/price-800000-na/pg-27\n",
      "https://www.realtor.com/realestateandhomes-detail/4710-E-Tierra-Buena-Ln_Phoenix_AZ_85032_M27151-95303\n",
      "https://www.realtor.com/realestateandhomes-detail/2336-N-12th-St_Phoenix_AZ_85006_M29685-93684\n",
      "https://www.realtor.com/realestateandhomes-detail/22436-N-48th-St_Phoenix_AZ_85054_M26444-58218\n",
      "https://www.realtor.com/realestateandhomes-detail/214-W-Beverly-Ln_Phoenix_AZ_85023_M10483-05561\n",
      "https://www.realtor.com/realestateandhomes-detail/Prato_Copperleaf-at-Sonoran-Foothills_32359-N-19th-Lane_Phoenix_AZ_85085_P417000731354\n",
      "https://www.realtor.com/realestateandhomes-detail/3023-W-Bent-Tree-Dr_Phoenix_AZ_85083_M95604-31264\n",
      "https://www.realtor.com/realestateandhomes-detail/2467-W-Rowel-Rd_Phoenix_AZ_85085_M97401-04949\n",
      "https://www.realtor.com/realestateandhomes-detail/Spring-Plan-50-2_Ridge-Collection-at-Whispering-Hills_3541-W-Summerside-Rd_Laveen_AZ_85339_P417000784441\n",
      "https://www.realtor.com/realestateandhomes-detail/2463-W-Rowel-Rd_Phoenix_AZ_85085_M90775-18857\n",
      "https://www.realtor.com/realestateandhomes-detail/41817-N-Bridlewood-Way_Phoenix_AZ_85086_M28906-50149\n",
      "https://www.realtor.com/realestateandhomes-detail/302-E-Carol-Ann-Way_Phoenix_AZ_85022_M20206-86352\n",
      "https://www.realtor.com/realestateandhomes-detail/1749-E-Medlock-Dr_Phoenix_AZ_85016_M19777-46540\n",
      "https://www.realtor.com/realestateandhomes-detail/6802-E-Beverly-Ln_Scottsdale_AZ_85254_M22472-43687\n",
      "https://www.realtor.com/realestateandhomes-detail/2461-W-Rowel-Rd_Phoenix_AZ_85085_M91357-71951\n",
      "https://www.realtor.com/realestateandhomes-detail/5109-E-Helena-Dr_Scottsdale_AZ_85254_M98090-25884\n",
      "https://www.realtor.com/realestateandhomes-detail/31203-N-43rd-St_Cave-Creek_AZ_85331_M14784-92782\n",
      "https://www.realtor.com/realestateandhomes-detail/4443-E-Thorn-Tree-Dr_Cave-Creek_AZ_85331_M20748-61403\n",
      "https://www.realtor.com/realestateandhomes-detail/202-W-Seminole-Dr_Phoenix_AZ_85023_M29662-72376\n",
      "https://www.realtor.com/realestateandhomes-detail/Tucker-Plan-5411_Ridge-Collection-at-Whispering-Hills_3541-W-Summerside-Rd_Laveen_AZ_85339_P417000784443\n",
      "https://www.realtor.com/realestateandhomes-detail/2457-W-Rowel-Rd_Phoenix_AZ_85085_M95383-98967\n",
      "https://www.realtor.com/realestateandhomes-detail/5616-W-Paseo-Way_Laveen_AZ_85339_M95646-18975\n",
      "https://www.realtor.com/realestateandhomes-detail/Deacon_Estates-at-Laveen-Vistas_10626-S-48th-Glen_Laveen_AZ_85339_P417000839261\n",
      "https://www.realtor.com/realestateandhomes-detail/5110-E-Mark-Ln_Cave-Creek_AZ_85331_M13834-03212\n",
      "https://www.realtor.com/realestateandhomes-detail/339-W-Southern-Hills-Rd_Phoenix_AZ_85023_M19886-74907\n",
      "https://www.realtor.com/realestateandhomes-detail/3907-E-Marilyn-Rd_Phoenix_AZ_85032_M28948-36713\n",
      "https://www.realtor.com/realestateandhomes-detail/3005-W-Donatello-Dr_Phoenix_AZ_85086_M29144-25821\n",
      "https://www.realtor.com/realestateandhomes-detail/2469-W-Rowel-Rd_Phoenix_AZ_85085_M91539-21903\n",
      "https://www.realtor.com/realestateandhomes-detail/536-W-Surrey-Ave_Phoenix_AZ_85029_M19147-15310\n",
      "https://www.realtor.com/realestateandhomes-detail/36014-N-3rd-St_Phoenix_AZ_85086_M14010-30002\n",
      "https://www.realtor.com/realestateandhomes-detail/4534-E-Beverly-Ln_Phoenix_AZ_85032_M15140-84906\n",
      "https://www.realtor.com/realestateandhomes-detail/2321-N-30th-St_Phoenix_AZ_85008_M13710-46326\n",
      "https://www.realtor.com/realestateandhomes-detail/5833-N-10th-St_Phoenix_AZ_85014_M27452-87263\n",
      "https://www.realtor.com/realestateandhomes-detail/44512-N-Sonoran-Arroyo-Ln_New-River_AZ_85087_M29308-04918\n",
      "https://www.realtor.com/realestateandhomes-detail/2455-W-Rowel-Rd_Phoenix_AZ_85085_M93244-18737\n",
      "https://www.realtor.com/realestateandhomes-detail/Alta_Union-Park-at-Norterra-Phase-2_26217-N-19th-Lane_Phoenix_AZ_85085_P417000853078\n",
      "https://www.realtor.com/realestateandhomes-detail/5110-E-Verde-Ln_Phoenix_AZ_85018_M11309-93646\n",
      "https://www.realtor.com/realestateandhomes-detail/4826-N-14th-Ave_Phoenix_AZ_85013_M16192-93662\n",
      "https://www.realtor.com/realestateandhomes-detail/1036-E-Glenn-Dr_Phoenix_AZ_85020_M28474-07318\n",
      "https://www.realtor.com/realestateandhomes-detail/4219-E-Catalina-Dr_Phoenix_AZ_85018_M20658-47080\n",
      "https://www.realtor.com/realestateandhomes-detail/3758-E-Sunnyside-Dr_Phoenix_AZ_85028_M10344-85524\n",
      "https://www.realtor.com/realestateandhomes-detail/2476-W-Rowel-Rd_Phoenix_AZ_85085_M99139-40749\n",
      "https://www.realtor.com/realestateandhomes-detail/2486-W-Rowel-Rd_Phoenix_AZ_85085_M99601-71265\n",
      "\n",
      "\n",
      "\n",
      "\n",
      " 27\n"
     ]
    },
    {
     "name": "stdout",
     "output_type": "stream",
     "text": [
      "mmmmmmmmmmmmmmmmmmmm https://www.realtor.com/realestateandhomes-search/Atlanta_GA/shw-nc/price-800000-na/pg-28\n",
      "https://www.realtor.com/realestateandhomes-detail/8106-N-11th-St_Phoenix_AZ_85020_M13121-88179\n",
      "https://www.realtor.com/realestateandhomes-detail/2486-W-Rowel-Rd_Phoenix_AZ_85085_M99601-71265\n",
      "https://www.realtor.com/realestateandhomes-detail/2462-W-Rowel-Rd_Phoenix_AZ_85085_M98300-71261\n",
      "https://www.realtor.com/realestateandhomes-detail/2480-W-Rowel-Rd_Phoenix_AZ_85085_M93453-04850\n",
      "https://www.realtor.com/realestateandhomes-detail/4018-E-Adobe-Dr_Phoenix_AZ_85050_M10413-89170\n",
      "https://www.realtor.com/realestateandhomes-detail/4721-E-Abraham-Ln_Phoenix_AZ_85050_M17340-88509\n",
      "https://www.realtor.com/realestateandhomes-detail/1539-W-Puget-Ave_Phoenix_AZ_85021_M13260-13844\n",
      "https://www.realtor.com/realestateandhomes-detail/2033-E-Hillery-Dr_Phoenix_AZ_85022_M15541-08528\n",
      "https://www.realtor.com/realestateandhomes-detail/41509-N-Anthem-Ridge-Dr_Phoenix_AZ_85086_M26923-64367\n",
      "https://www.realtor.com/realestateandhomes-detail/26421-N-24th-Gln_Phoenix_AZ_85085_M98998-03072\n",
      "https://www.realtor.com/realestateandhomes-detail/4130-N-Longview-Ave_Phoenix_AZ_85014_M24941-60300\n",
      "https://www.realtor.com/realestateandhomes-detail/15414-S-19th-Way_Phoenix_AZ_85048_M12461-11811\n",
      "https://www.realtor.com/realestateandhomes-detail/35616-N-34th-Ln_Phoenix_AZ_85086_M13523-52458\n",
      "https://www.realtor.com/realestateandhomes-detail/32639-N-22nd-Dr_Phoenix_AZ_85085_M94497-05579\n",
      "https://www.realtor.com/realestateandhomes-detail/2444-W-Morten-Ave_Phoenix_AZ_85021_M97944-45094\n",
      "https://www.realtor.com/realestateandhomes-detail/2484-W-Rowel-Rd_Phoenix_AZ_85085_M92735-89870\n",
      "https://www.realtor.com/realestateandhomes-detail/6920-E-Beverly-Ln_Scottsdale_AZ_85254_M27145-69977\n",
      "https://www.realtor.com/realestateandhomes-detail/1529-E-Edgemont-Ave_Phoenix_AZ_85006_M26382-97446\n",
      "https://www.realtor.com/realestateandhomes-detail/1936-W-Rowel-Rd_Phoenix_AZ_85085_M99864-09486\n",
      "https://www.realtor.com/realestateandhomes-detail/2459-W-Rowel-Rd_Phoenix_AZ_85085_M91778-85382\n",
      "https://www.realtor.com/realestateandhomes-detail/2478-W-Rowel-Rd_Phoenix_AZ_85085_M94105-93919\n",
      "https://www.realtor.com/realestateandhomes-detail/4828-W-Stargazer-Pl_Laveen_AZ_85339_M92175-98238\n",
      "https://www.realtor.com/realestateandhomes-detail/2826-N-28th-Pl_Phoenix_AZ_85008_M24550-38061\n",
      "https://www.realtor.com/realestateandhomes-detail/4116-E-Roy-Rogers-Rd_Cave-Creek_AZ_85331_M29157-13312\n",
      "https://www.realtor.com/realestateandhomes-detail/6720-E-Phelps-Rd_Scottsdale_AZ_85254_M19237-86678\n",
      "https://www.realtor.com/realestateandhomes-detail/3054-W-Eagle-Claw-Dr_Phoenix_AZ_85086_M11556-71037\n",
      "https://www.realtor.com/realestateandhomes-detail/4708-E-Weaver-Rd_Phoenix_AZ_85050_M10787-28269\n",
      "https://www.realtor.com/realestateandhomes-detail/1445-W-Wood-Dr_Phoenix_AZ_85029_M19600-67962\n",
      "https://www.realtor.com/realestateandhomes-detail/4738-W-Stargazer-Pl_Laveen_AZ_85339_M97937-42117\n",
      "https://www.realtor.com/realestateandhomes-detail/4813-W-Stargazer-Pl_Laveen_AZ_85339_M98244-02338\n",
      "https://www.realtor.com/realestateandhomes-detail/1417-W-Rose-Ln_Phoenix_AZ_85013_M22155-25998\n",
      "https://www.realtor.com/realestateandhomes-detail/22202-N-44th-Pl_Phoenix_AZ_85050_M27935-33361\n",
      "https://www.realtor.com/realestateandhomes-detail/Iris-Plan-60-1_Summit-Collection-at-Whispering-Hills_3824-W-Whispering-Hills-Dr_Laveen_AZ_85339_P417000750367\n",
      "https://www.realtor.com/realestateandhomes-detail/3022-E-Emile-Zola-Ave_Phoenix_AZ_85032_M15381-83375\n",
      "https://www.realtor.com/realestateandhomes-detail/7616-W-Jones-Ave_Phoenix_AZ_85043_M12716-91897\n",
      "https://www.realtor.com/realestateandhomes-detail/14042-N-44th-St_Phoenix_AZ_85032_M10662-48702\n",
      "https://www.realtor.com/realestateandhomes-detail/3701-E-Morrow-Dr_Phoenix_AZ_85050_M16215-08097\n",
      "https://www.realtor.com/realestateandhomes-detail/5014-E-Kirkland-Rd_Phoenix_AZ_85054_M28367-50481\n",
      "https://www.realtor.com/realestateandhomes-detail/22026-N-44th-Pl_Phoenix_AZ_85050_M29580-77018\n",
      "https://www.realtor.com/realestateandhomes-detail/2022-N-22nd-Pl_Phoenix_AZ_85006_M29494-68066\n",
      "https://www.realtor.com/realestateandhomes-detail/6845-E-Beverly-Ln_Scottsdale_AZ_85254_M27206-44326\n",
      "https://www.realtor.com/realestateandhomes-detail/4201-N-35th-St_Phoenix_AZ_85018_M19830-04187\n",
      "\n",
      "\n",
      "\n",
      "\n",
      " 28\n"
     ]
    },
    {
     "name": "stdout",
     "output_type": "stream",
     "text": [
      "mmmmmmmmmmmmmmmmmmmm https://www.realtor.com/realestateandhomes-search/Atlanta_GA/shw-nc/price-800000-na/pg-29\n",
      "https://www.realtor.com/realestateandhomes-detail/6845-E-Beverly-Ln_Scottsdale_AZ_85254_M27206-44326\n",
      "https://www.realtor.com/realestateandhomes-detail/1851-E-Campo-Bello-Dr_Phoenix_AZ_85022_M23648-77746\n",
      "https://www.realtor.com/realestateandhomes-detail/2022-N-22nd-Pl_Phoenix_AZ_85006_M29494-68066\n",
      "https://www.realtor.com/realestateandhomes-detail/Pecan-Plan-58-6_Atlas-Collection-at-Whispering-Hills_3824-W-Whispering-Hills-Dr_Laveen_AZ_85339_P417000750352\n",
      "https://www.realtor.com/realestateandhomes-detail/Pecan-Plan-58-6_Summit-Collection-at-Whispering-Hills_3824-W-Whispering-Hills-Dr_Laveen_AZ_85339_P417000750370\n",
      "https://www.realtor.com/realestateandhomes-detail/2501-E-Campbell-Ave_Phoenix_AZ_85016_M13163-87858\n",
      "https://www.realtor.com/realestateandhomes-detail/2464-W-Rowel-Rd_Phoenix_AZ_85085_M97150-41851\n",
      "https://www.realtor.com/realestateandhomes-detail/250-E-Voltaire-Ave_Phoenix_AZ_85022_M18129-67914\n",
      "https://www.realtor.com/realestateandhomes-detail/Palo-Verde-Plan-7051_Atlas-Collection-at-Whispering-Hills_3824-W-Whispering-Hills-Dr_Laveen_AZ_85339_P417000750353\n",
      "https://www.realtor.com/realestateandhomes-detail/15829-N-12th-St_Phoenix_AZ_85022_M18407-69530\n",
      "https://www.realtor.com/realestateandhomes-detail/2445-W-Rowel-Rd_Phoenix_AZ_85085_M94652-84066\n",
      "https://www.realtor.com/realestateandhomes-detail/1610-W-Wilshire-Dr_Phoenix_AZ_85007_M19986-01650\n",
      "https://www.realtor.com/realestateandhomes-detail/10010-S-37th-Ave_Laveen_AZ_85339_M93652-82639\n",
      "https://www.realtor.com/realestateandhomes-detail/4843-E-Estevan-Rd_Phoenix_AZ_85054_M29282-26998\n",
      "https://www.realtor.com/realestateandhomes-detail/Phoenix_AZ_85085_M91857-75714\n",
      "https://www.realtor.com/realestateandhomes-detail/6712-E-Beverly-Ln_Scottsdale_AZ_85254_M25205-26214\n",
      "https://www.realtor.com/realestateandhomes-detail/Phoenix_AZ_85085_M91927-44570\n",
      "https://www.realtor.com/realestateandhomes-detail/5124-W-Top-Hand-Trl_Laveen_AZ_85339_M92203-62422\n",
      "https://www.realtor.com/realestateandhomes-detail/5210-W-Top-Hand-Trl_Laveen_AZ_85339_M91125-96191\n",
      "https://www.realtor.com/realestateandhomes-detail/5112-W-Rainwater-Dr_Laveen_AZ_85339_M97640-71737\n",
      "https://www.realtor.com/realestateandhomes-detail/4330-E-Beck-Ln_Phoenix_AZ_85032_M18910-93074\n",
      "https://www.realtor.com/realestateandhomes-detail/5206-W-Top-Hand-Trl_Laveen_AZ_85339_M97011-50079\n",
      "https://www.realtor.com/realestateandhomes-detail/44815-N-44th-Dr_New-River_AZ_85087_M95561-70304\n",
      "https://www.realtor.com/realestateandhomes-detail/34889-N-3rd-St_Phoenix_AZ_85086_M96744-81490\n",
      "https://www.realtor.com/realestateandhomes-detail/231-E-Medlock-Dr_Phoenix_AZ_85012_M18848-31173\n",
      "https://www.realtor.com/realestateandhomes-detail/3948-E-Monterosa-St_Phoenix_AZ_85018_M14156-67478\n",
      "https://www.realtor.com/realestateandhomes-detail/3336-E-Earll-Dr_Phoenix_AZ_85018_M11593-15762\n",
      "https://www.realtor.com/realestateandhomes-detail/Ocotillo_Saguaro-Trails_28305-North-42nd-Street_Cave-Creek_AZ_85331_P417000803719\n",
      "https://www.realtor.com/realestateandhomes-detail/Ocotillo_Forest-Pleasant-Estates_28305-North-42nd-Street_Cave-Creek_AZ_85331_P417000806753\n",
      "https://www.realtor.com/realestateandhomes-detail/Sidewinder_Forest-Pleasant-Estates_28305-North-42nd-Street_Cave-Creek_AZ_85331_P417000806755\n",
      "https://www.realtor.com/realestateandhomes-detail/2325-N-53rd-St_Phoenix_AZ_85008_M22334-80662\n",
      "https://www.realtor.com/realestateandhomes-detail/Sidewinder_Saguaro-Trails_28305-North-42nd-Street_Cave-Creek_AZ_85331_P417000803721\n",
      "https://www.realtor.com/realestateandhomes-detail/1854-W-Fetlock-Trl_Phoenix_AZ_85085_M13268-67045\n",
      "https://www.realtor.com/realestateandhomes-detail/5208-W-Jackalope-Ln_Laveen_AZ_85339_M93101-51321\n",
      "https://www.realtor.com/realestateandhomes-detail/4002-N-44th-Pl_Phoenix_AZ_85018_M17763-02079\n",
      "https://www.realtor.com/realestateandhomes-detail/1956-W-Rowel-Rd_Phoenix_AZ_85085_M94048-95882\n",
      "https://www.realtor.com/realestateandhomes-detail/6762-N-17th-Pl_Phoenix_AZ_85016_M98684-01299\n",
      "https://www.realtor.com/realestateandhomes-detail/4822-W-Capistrano-Ave_Laveen_AZ_85339_M99525-16161\n",
      "https://www.realtor.com/realestateandhomes-detail/10512-S-48th-Gln_Laveen_AZ_85339_M94721-39030\n",
      "https://www.realtor.com/realestateandhomes-detail/4737-W-Capistrano-Ave_Laveen_AZ_85339_M91105-03620\n",
      "https://www.realtor.com/realestateandhomes-detail/1541-E-Las-Palmaritas-Dr_Phoenix_AZ_85020_M25129-45484\n",
      "https://www.realtor.com/realestateandhomes-detail/4818-W-Capistrano-Ave_Laveen_AZ_85339_M95901-27544\n",
      "\n",
      "\n",
      "\n",
      "\n",
      " 29\n"
     ]
    },
    {
     "name": "stdout",
     "output_type": "stream",
     "text": [
      "mmmmmmmmmmmmmmmmmmmm https://www.realtor.com/realestateandhomes-search/Atlanta_GA/shw-nc/price-800000-na/pg-30\n",
      "https://www.realtor.com/realestateandhomes-detail/4830-W-Capistrano-Ave_Laveen_AZ_85339_M92950-32197\n",
      "https://www.realtor.com/realestateandhomes-detail/6745-W-Desert-Dr_Laveen_AZ_85339_M93768-17820\n",
      "https://www.realtor.com/realestateandhomes-detail/26424-N-24th-Gln_Phoenix_AZ_85085_M90191-86575\n",
      "https://www.realtor.com/realestateandhomes-detail/3824-W-Lodge-Dr_Laveen_AZ_85339_M96743-62163\n",
      "https://www.realtor.com/realestateandhomes-detail/26421-N-22nd-Ave_Phoenix_AZ_85085_M99132-37078\n",
      "https://www.realtor.com/realestateandhomes-detail/2465-W-Rowel-Rd_Phoenix_AZ_85085_M93274-73049\n",
      "https://www.realtor.com/realestateandhomes-detail/4310-N-42nd-Pl_Phoenix_AZ_85018_M25158-06738\n",
      "https://www.realtor.com/realestateandhomes-detail/44319-N-43rd-Dr_New-River_AZ_85087_M95818-60460\n",
      "https://www.realtor.com/realestateandhomes-detail/4220-E-Luther-Ln_Cave-Creek_AZ_85331_M92895-45373\n",
      "https://www.realtor.com/realestateandhomes-detail/1957-W-Yellowbird-Ln_Phoenix_AZ_85085_M95404-76339\n",
      "https://www.realtor.com/realestateandhomes-detail/6619-W-Cordia-Ln_Phoenix_AZ_85083_M12665-32141\n",
      "https://www.realtor.com/realestateandhomes-detail/1144-W-Edgemont-Ave_Phoenix_AZ_85007_M23538-09241\n",
      "https://www.realtor.com/realestateandhomes-detail/1945-E-Solano-Dr_Phoenix_AZ_85016_M28262-54784\n",
      "https://www.realtor.com/realestateandhomes-detail/9775-S-36th-Ln_Laveen_AZ_85339_M93969-50006\n",
      "https://www.realtor.com/realestateandhomes-detail/10022-S-37th-Ave_Laveen_AZ_85339_M90191-71889\n",
      "https://www.realtor.com/realestateandhomes-detail/Pinnacle_Union-Park-at-Norterra-Phase-2_26217-N-19th-Lane_Phoenix_AZ_85085_P417000853079\n",
      "\n",
      "\n",
      "\n",
      "\n",
      " 30\n"
     ]
    },
    {
     "name": "stdout",
     "output_type": "stream",
     "text": [
      "mmmmmmmmmmmmmmmmmmmm https://www.realtor.com/realestateandhomes-search/Atlanta_GA/shw-nc/price-800000-na/pg-31\n"
     ]
    }
   ],
   "source": [
    "import math\n",
    "# total_homes_number = int(total_homes.text.strip())\n",
    "# page = math.ceil(total_homes_number / 40)\n",
    "\n",
    "# for 7,788 then i am using below code \n",
    "# Remove commas before converting to int\n",
    "# if total_homes_number:\n",
    "  \n",
    "# total_homes_number = int(total_homes.text.strip().replace(',', ''))\n",
    "\n",
    "# # Now do the math\n",
    "# page = math.ceil(total_homes_number / 40)\n",
    "# # print(\"heyyyyyyyy\" ,page)\n",
    "\n",
    "# for p in range(2, page+1):\n",
    "#   response = requests.get(\n",
    "#     f'{url}/pg-{p}',\n",
    "#     cookies=cookies,\n",
    "#     headers=headers,\n",
    "#     )\n",
    "#   print(\"mmmmmmmmmmmmmmmmmmmm\",f'https://www.realtor.com/realestateandhomes-search/Atlanta_GA/shw-nc/price-800000-na/pg-{p}')\n",
    "#   if response.status_code==200:\n",
    "#     soup = BeautifulSoup(response.text, 'html.parser')\n",
    "#     script_tag = soup.find('script', {'data-testid': 'seoLinkingData', 'type': 'application/ld+json'})\n",
    "\n",
    "\n",
    "#     if script_tag:\n",
    "#       # Load the content of the script tag (it's a JSON string)\n",
    "#       json_data = json.loads(script_tag.string)\n",
    "#       # print(json_data)\n",
    "#       # print(json.dumps(json_data, indent=2))\n",
    "#       # ans=json_data[1][\"mainEntity\"][\"itemListElement\"]\n",
    "#       ans=get_main_entity_item_list(json_data)\n",
    "#       c=0\n",
    "#       if (ans):\n",
    "#         for i in ans:\n",
    "#           print(i[\"url\"])\n",
    "#           link_array.append(i[\"url\"])\n",
    "#           c=c+1\n",
    "#       print(\"\\n\\n\\n\\n\",p )\n",
    "\n",
    "\n",
    "\n",
    "if total_homes:  # Add your condition here (e.g., ensure the element exists)\n",
    "    total_homes_number = int(total_homes.text.strip().replace(',', ''))\n",
    "\n",
    "    # Now do the math\n",
    "    page = math.ceil(total_homes_number / 40)\n",
    "    # print(\"heyyyyyyyy\" ,page)\n",
    "\n",
    "    for p in range(2, page + 1):\n",
    "        response = requests.get(\n",
    "            f'{url}/pg-{p}',\n",
    "            cookies=cookies,\n",
    "            headers=headers,\n",
    "        )\n",
    "        print(\"mmmmmmmmmmmmmmmmmmmm\", f'https://www.realtor.com/realestateandhomes-search/Atlanta_GA/shw-nc/price-800000-na/pg-{p}')\n",
    "        \n",
    "        if response.status_code == 200:\n",
    "            soup = BeautifulSoup(response.text, 'html.parser')\n",
    "            script_tag = soup.find('script', {'data-testid': 'seoLinkingData', 'type': 'application/ld+json'})\n",
    "\n",
    "            if script_tag:\n",
    "                try:\n",
    "                    # Load the content of the script tag (it's a JSON string)\n",
    "                    json_data = json.loads(script_tag.string)\n",
    "                    ans = get_main_entity_item_list(json_data)\n",
    "\n",
    "                    c = 0\n",
    "                    if ans:\n",
    "                        for i in ans:\n",
    "                            print(i[\"url\"])\n",
    "                            link_array.append(i[\"url\"])\n",
    "                            c += 1\n",
    "                    print(\"\\n\\n\\n\\n\", p)\n",
    "                except Exception as e:\n",
    "                    print(f\"Error parsing page {p}: {e}\")\n"
   ]
  },
  {
   "cell_type": "code",
   "execution_count": 4,
   "id": "f270f001",
   "metadata": {
    "execution": {
     "iopub.execute_input": "2025-05-26T07:06:46.539928Z",
     "iopub.status.busy": "2025-05-26T07:06:46.538956Z",
     "iopub.status.idle": "2025-05-26T07:06:46.547912Z",
     "shell.execute_reply": "2025-05-26T07:06:46.546058Z"
    },
    "papermill": {
     "duration": 0.027556,
     "end_time": "2025-05-26T07:06:46.550986",
     "exception": false,
     "start_time": "2025-05-26T07:06:46.523430",
     "status": "completed"
    },
    "tags": []
   },
   "outputs": [
    {
     "name": "stdout",
     "output_type": "stream",
     "text": [
      "1234\n"
     ]
    }
   ],
   "source": [
    "print(len(link_array))"
   ]
  },
  {
   "cell_type": "code",
   "execution_count": 5,
   "id": "b4329f6e",
   "metadata": {
    "execution": {
     "iopub.execute_input": "2025-05-26T07:06:46.579694Z",
     "iopub.status.busy": "2025-05-26T07:06:46.579059Z",
     "iopub.status.idle": "2025-05-26T07:06:46.603031Z",
     "shell.execute_reply": "2025-05-26T07:06:46.602068Z"
    },
    "papermill": {
     "duration": 0.041435,
     "end_time": "2025-05-26T07:06:46.605396",
     "exception": false,
     "start_time": "2025-05-26T07:06:46.563961",
     "status": "completed"
    },
    "tags": []
   },
   "outputs": [],
   "source": [
    "import requests\n",
    "\n",
    "cookies = {\n",
    "    '_cq_duid': '1.1744778181.6MobFmGeC2R1nUU7',\n",
    "    'split': 'n',\n",
    "    '__vst': '510a7abc-5631-4c8b-a9a5-54de51e58a8a',\n",
    "    '__bot': 'false',\n",
    "    '_lr_env_src_ats': 'false',\n",
    "    'permutive-id': '36491759-b0ef-4036-bc03-7d07f765413e',\n",
    "    's_ecid': 'MCMID%7C62206642167978879802294781651943730817',\n",
    "    '_cc_id': 'f15316d1891455e0cdcc7f071e6be91a',\n",
    "    '_gcl_au': '1.1.761638148.1744778188',\n",
    "    'pbjs-unifiedid': '%7B%22TDID%22%3A%22768f16ce-051a-44b9-986e-505d5a184422%22%2C%22TDID_LOOKUP%22%3A%22TRUE%22%2C%22TDID_CREATED_AT%22%3A%222025-03-16T04%3A36%3A27%22%7D',\n",
    "    'pbjs-unifiedid_cst': 'VyxHLMwsHQ%3D%3D',\n",
    "    '__gsas': 'ID=b761dbf92fed2797:T=1744778187:RT=1744778187:S=ALNI_MYyPr435-r92Lh6hgKWE7ir2wPpFg',\n",
    "    '__split': '11',\n",
    "    '_ga': 'GA1.1.122217795.1744778189',\n",
    "    '_fbp': 'fb.1.1744778190942.615506763789365416',\n",
    "    'ajs_anonymous_id': '484b625d-2e90-49a9-82ea-71509bf26df2',\n",
    "    'kampyle_userid': '597b-3652-68fb-14df-8b6d-f4a2-9005-9eb6',\n",
    "    'cto_bundle': 'OyMQ419RVHR2WTVsekpyUlYyaUt1RzBVN25kNWJ5eG45aU1kZ21lc3NIREpMTHVNcm4ybXA5Z0ZmMzF3YXZZaEVISyUyQlpoeE9rQlN3N2dsNVlWZmRwc2d6TjhucUExcSUyQjhwSHVqNExBVjdVZUU3eE5OdjRmRlc2SEZld3c2SFhpMVI0Slh0NmN6Ymh3MzlPN1kzJTJGeFZObEklMkJpQSUzRCUzRA',\n",
    "    'G_ENABLED_IDPS': 'google',\n",
    "    '__spdt': 'fec8a0e0243d44f7ac0a8810ea3a5617',\n",
    "    '_pbjs_userid_consent_data': '3524755945110770',\n",
    "    'spec-property-history': 'true',\n",
    "    '_lr_sampling_rate': '100',\n",
    "    'sbjs_migrations': '1418474375998%3D1',\n",
    "    'sbjs_current_add': 'fd%3D2025-05-13%2015%3A38%3A57%7C%7C%7Cep%3Dhttps%3A%2F%2Fwww.realtor.com%2Frealestateagents%2FMarie-Crabb_San-Antonio_TX_1562457_770159571%7C%7C%7Crf%3D%28none%29',\n",
    "    'sbjs_first_add': 'fd%3D2025-05-13%2015%3A38%3A57%7C%7C%7Cep%3Dhttps%3A%2F%2Fwww.realtor.com%2Frealestateagents%2FMarie-Crabb_San-Antonio_TX_1562457_770159571%7C%7C%7Crf%3D%28none%29',\n",
    "    'sbjs_current': 'typ%3Dtypein%7C%7C%7Csrc%3D%28direct%29%7C%7C%7Cmdm%3D%28none%29%7C%7C%7Ccmp%3D%28none%29%7C%7C%7Ccnt%3D%28none%29%7C%7C%7Ctrm%3D%28none%29',\n",
    "    'sbjs_first': 'typ%3Dtypein%7C%7C%7Csrc%3D%28direct%29%7C%7C%7Cmdm%3D%28none%29%7C%7C%7Ccmp%3D%28none%29%7C%7C%7Ccnt%3D%28none%29%7C%7C%7Ctrm%3D%28none%29',\n",
    "    'sbjs_udata': 'vst%3D1%7C%7C%7Cuip%3D%28none%29%7C%7C%7Cuag%3DMozilla%2F5.0%20%28Windows%20NT%2010.0%3B%20Win64%3B%20x64%29%20AppleWebKit%2F537.36%20%28KHTML%2C%20like%20Gecko%29%20Chrome%2F136.0.0.0%20Safari%2F537.36',\n",
    "    'AWSALBTG': 'Gysy51HA+pJTrxIKFj2v3w0nCE/eoaQmJ7DSPj4suoUKY1CHB4l5GhwD4Qau/EW7RngdZBfgTbUsgutlOm0f96YiXJTcsrWR+T8lWoqugNfMSDTEbOwrgbTJv4zI4vgeWeD4ltJdQFCOglNyh0FuxME92j87R8+5+nrtZTwzAFAL',\n",
    "    'AWSALBTGCORS': 'Gysy51HA+pJTrxIKFj2v3w0nCE/eoaQmJ7DSPj4suoUKY1CHB4l5GhwD4Qau/EW7RngdZBfgTbUsgutlOm0f96YiXJTcsrWR+T8lWoqugNfMSDTEbOwrgbTJv4zI4vgeWeD4ltJdQFCOglNyh0FuxME92j87R8+5+nrtZTwzAFAL',\n",
    "    'AWSALB': 'PA4KsCC+ZE35rkHrZlFJmvdEFqqcwpfhPvIHyR8fvTkTuV8elUxXm3ZXx+OJ8h1qNL5Hsxp9M9bcRnTPQfhDhKnSOIaGtgnBBIXsSuTsBL6E4DClOUhJXGkw1ucY',\n",
    "    'AWSALBCORS': 'PA4KsCC+ZE35rkHrZlFJmvdEFqqcwpfhPvIHyR8fvTkTuV8elUxXm3ZXx+OJ8h1qNL5Hsxp9M9bcRnTPQfhDhKnSOIaGtgnBBIXsSuTsBL6E4DClOUhJXGkw1ucY',\n",
    "    'leadid_token-27789EFE-7A9A-DB70-BB9B-97D9B7057DBB-01836014-7527-FD48-9B7F-1A40A9705CFE': '86378343-6E72-C9A3-F38C-4FC85D4B9DDF',\n",
    "    '_parsely_session': '{%22sid%22:25%2C%22surl%22:%22https://www.realtor.com/realestateandhomes-detail/127-Concord-St_Brooklyn_NY_11201_M94228-18638%22%2C%22sref%22:%22https://colab.research.google.com/%22%2C%22sts%22:1747135330658%2C%22slts%22:1747130960659}',\n",
    "    '_parsely_visitor': '{%22id%22:%22pid=1b405088-93a3-4244-a70a-8f0b5d157233%22%2C%22session_count%22:25%2C%22last_session_ts%22:1747135330658}',\n",
    "    '_lr_retry_request': 'true',\n",
    "    'AMP_MKTG_c07a79acf5': 'JTdCJTdE',\n",
    "    'claritas_24hrexp_ldp': 'true',\n",
    "    'panoramaId_expiry': '1747223247759',\n",
    "    'panoramaId': '1c8ce1f32d9b77f43d98a20754f4a9fb927a4d1c3ceb4de2702245f6f0c8d4e0',\n",
    "    'ab.storage.deviceId.7cc9d032-9d6d-44cf-a8f5-d276489af322': 'g%3Ac0e51af7-dd43-dbd5-e0cf-a1fa33760e57%7Ce%3Aundefined%7Cc%3A1744778189271%7Cl%3A1747136849038',\n",
    "    'ab.storage.userId.7cc9d032-9d6d-44cf-a8f5-d276489af322': 'g%3Avisitor_510a7abc-5631-4c8b-a9a5-54de51e58a8a%7Ce%3Aundefined%7Cc%3A1744778189264%7Cl%3A1747136849040',\n",
    "    '__ssn': '12d7e70c-46a9-45b7-8708-9b6155f748af',\n",
    "    '__ssnstarttime': '1747138479',\n",
    "    'criteria': 'sprefix%3D%252Fnewhomecommunities%26area_type%3Dcity%26city%3DNew%2520York%26pg%3D1%26state_code%3DNY%26state_id%3DNY%26loc%3DNew%2520York%252C%2520NY%26locSlug%3DNew-York_NY%26county_fips%3D36081%26county_fips_multi%3D36081-36047-36085-36005-36061',\n",
    "    'isAuth0GnavEnabled': 'C',\n",
    "    'AMCVS_8853394255142B6A0A4C98A4%40AdobeOrg': '1',\n",
    "    'AMCV_8853394255142B6A0A4C98A4%40AdobeOrg': '-1124106680%7CMCIDTS%7C20221%7CMCMID%7C62206642167978879802294781651943730817%7CMCAAMLH-1747743283%7C12%7CMCAAMB-1747743283%7CRKhpRz8krg2tLO6pguXWp5olkAcUniQYPHaMWWgdJ3xzPWQmdj0y%7CMCOPTOUT-1747145683s%7CNONE%7CMCAID%7CNONE%7CvVersion%7C5.2.0',\n",
    "    'claritas_24hrexp_sitevisit': 'true',\n",
    "    '__gads': 'ID=90cc70a1b7f62534:T=1744778191:RT=1747138485:S=ALNI_Mbwq8lNnQn41vMslb5NKa0v1IXODQ',\n",
    "    '__gpi': 'UID=000010a0d44ff64d:T=1744778191:RT=1747138485:S=ALNI_MYQOz2G493eHyeT1BxhNY1pSbZ_ZQ',\n",
    "    '__eoi': 'ID=ff471cc055362e70:T=1744778191:RT=1747138485:S=AA-AfjY5Nukxc6S-HKQMxCxsgauf',\n",
    "    'KP_UIDz-ssn': '0EE1EXb8l2EUoH5DeGMAxEF0VE4oMTjtLX6Pl6gj6CH7mbj35i1YYPID3R0DR0l5OL7FYNQaTSGxTBTLyjowYx7OW50OmhcD5hUdm0QLcXGf6NdsuQWeYKdzy9U3TgJu7xBkhQVIUDCMnpYyy7ZWW0bWYD5xPvcAozNs5Hff',\n",
    "    'KP_UIDz': '0EE1EXb8l2EUoH5DeGMAxEF0VE4oMTjtLX6Pl6gj6CH7mbj35i1YYPID3R0DR0l5OL7FYNQaTSGxTBTLyjowYx7OW50OmhcD5hUdm0QLcXGf6NdsuQWeYKdzy9U3TgJu7xBkhQVIUDCMnpYyy7ZWW0bWYD5xPvcAozNs5Hff',\n",
    "    'ab.storage.sessionId.7cc9d032-9d6d-44cf-a8f5-d276489af322': 'g%3A5e73a82d-0856-363b-ebe3-ab7bcf82f658%7Ce%3A1747140306176%7Cc%3A1747136849034%7Cl%3A1747138506176',\n",
    "    'kampyleUserSession': '1747138528373',\n",
    "    'kampyleUserSessionsCount': '74',\n",
    "    'kampyleUserPercentile': '80.84019685422727',\n",
    "    '_parsely_slot_click': '{%22url%22:%22https://www.realtor.com/realestateandhomes-search/New-York_NY/type-single-family-home%22%2C%22x%22:16%2C%22y%22:317%2C%22xpath%22:%22//*[@id=%5C%22property_id_4407935011%5C%22]/div[2]/div[1]/div[1]/div[1]/a[1]%22%2C%22href%22:%22https://www.realtor.com/realestateandhomes-detail/177-Benedict-Rd_Staten-Island_NY_10304_M44079-35011?from=srp-list-card%22}',\n",
    "    '_uetsid': '523b07802f1e11f0a6117f38eb0c06f4|nu1ncn|2|fvv|0|1958',\n",
    "    'kampyleSessionPageCounter': '2',\n",
    "    'AMP_c07a79acf5': 'JTdCJTIyZGV2aWNlSWQlMjIlM0ElMjJjNGJmMzkxNC1mNjA1LTQyZWUtYWM2Yi02MTQwMzBlODAxNGYlMjIlMkMlMjJ1c2VySWQlMjIlM0ElMjI1MTBhN2FiYy01NjMxLTRjOGItYTlhNS01NGRlNTFlNThhOGElMjIlMkMlMjJzZXNzaW9uSWQlMjIlM0ExNzQ3MTM2ODQ2ODMxJTJDJTIyb3B0T3V0JTIyJTNBZmFsc2UlMkMlMjJsYXN0RXZlbnRUaW1lJTIyJTNBMTc0NzEzODcxNTI1MSUyQyUyMmxhc3RFdmVudElkJTIyJTNBMzgxJTJDJTIycGFnZUNvdW50ZXIlMjIlM0E1JTdE',\n",
    "    'split_tcv': '123',\n",
    "    '_uetvid': '5e6611101a7c11f096fd0b3e24a7f2ce|1glbpa|1747138715700|5|1|bat.bing.com/p/insights/c/b',\n",
    "    '_ga_07XBH6XBNS': 'GS2.1.s1747135361$o25$g1$t1747138718$j0$l0$h538070340',\n",
    "    '_ga_MS5EHT6J6V': 'GS2.1.s1747135361$o25$g1$t1747138718$j0$l0$h0',\n",
    "}\n",
    "\n",
    "headers = {\n",
    "    'accept': 'text/html,application/xhtml+xml,application/xml;q=0.9,image/avif,image/webp,image/apng,*/*;q=0.8,application/signed-exchange;v=b3;q=0.7',\n",
    "    'accept-language': 'en-US,en;q=0.9',\n",
    "    'cache-control': 'max-age=0',\n",
    "    'priority': 'u=0, i',\n",
    "    'sec-ch-ua': '\"Chromium\";v=\"136\", \"Google Chrome\";v=\"136\", \"Not.A/Brand\";v=\"99\"',\n",
    "    'sec-ch-ua-mobile': '?0',\n",
    "    'sec-ch-ua-platform': '\"Windows\"',\n",
    "    'sec-fetch-dest': 'document',\n",
    "    'sec-fetch-mode': 'navigate',\n",
    "    'sec-fetch-sites': 'same-origin',\n",
    "    'sec-fetch-user': '?1',\n",
    "    'upgrade-insecure-requests': '1',\n",
    "    'user-agent': 'Mozilla/5.0 (Windows NT 10.0; Win64; x64) AppleWebKit/537.36 (KHTML, like Gecko) Chrome/136.0.0.0 Safari/537.36',\n",
    "    # 'cookie': '_cq_duid=1.1744778181.6MobFmGeC2R1nUU7; split=n; __vst=510a7abc-5631-4c8b-a9a5-54de51e58a8a; __bot=false; _lr_env_src_ats=false; permutive-id=36491759-b0ef-4036-bc03-7d07f765413e; s_ecid=MCMID%7C62206642167978879802294781651943730817; _cc_id=f15316d1891455e0cdcc7f071e6be91a; _gcl_au=1.1.761638148.1744778188; pbjs-unifiedid=%7B%22TDID%22%3A%22768f16ce-051a-44b9-986e-505d5a184422%22%2C%22TDID_LOOKUP%22%3A%22TRUE%22%2C%22TDID_CREATED_AT%22%3A%222025-03-16T04%3A36%3A27%22%7D; pbjs-unifiedid_cst=VyxHLMwsHQ%3D%3D; __gsas=ID=b761dbf92fed2797:T=1744778187:RT=1744778187:S=ALNI_MYyPr435-r92Lh6hgKWE7ir2wPpFg; __split=11; _ga=GA1.1.122217795.1744778189; _fbp=fb.1.1744778190942.615506763789365416; ajs_anonymous_id=484b625d-2e90-49a9-82ea-71509bf26df2; kampyle_userid=597b-3652-68fb-14df-8b6d-f4a2-9005-9eb6; cto_bundle=OyMQ419RVHR2WTVsekpyUlYyaUt1RzBVN25kNWJ5eG45aU1kZ21lc3NIREpMTHVNcm4ybXA5Z0ZmMzF3YXZZaEVISyUyQlpoeE9rQlN3N2dsNVlWZmRwc2d6TjhucUExcSUyQjhwSHVqNExBVjdVZUU3eE5OdjRmRlc2SEZld3c2SFhpMVI0Slh0NmN6Ymh3MzlPN1kzJTJGeFZObEklMkJpQSUzRCUzRA; G_ENABLED_IDPS=google; __spdt=fec8a0e0243d44f7ac0a8810ea3a5617; _pbjs_userid_consent_data=3524755945110770; spec-property-history=true; _lr_sampling_rate=100; sbjs_migrations=1418474375998%3D1; sbjs_current_add=fd%3D2025-05-13%2015%3A38%3A57%7C%7C%7Cep%3Dhttps%3A%2F%2Fwww.realtor.com%2Frealestateagents%2FMarie-Crabb_San-Antonio_TX_1562457_770159571%7C%7C%7Crf%3D%28none%29; sbjs_first_add=fd%3D2025-05-13%2015%3A38%3A57%7C%7C%7Cep%3Dhttps%3A%2F%2Fwww.realtor.com%2Frealestateagents%2FMarie-Crabb_San-Antonio_TX_1562457_770159571%7C%7C%7Crf%3D%28none%29; sbjs_current=typ%3Dtypein%7C%7C%7Csrc%3D%28direct%29%7C%7C%7Cmdm%3D%28none%29%7C%7C%7Ccmp%3D%28none%29%7C%7C%7Ccnt%3D%28none%29%7C%7C%7Ctrm%3D%28none%29; sbjs_first=typ%3Dtypein%7C%7C%7Csrc%3D%28direct%29%7C%7C%7Cmdm%3D%28none%29%7C%7C%7Ccmp%3D%28none%29%7C%7C%7Ccnt%3D%28none%29%7C%7C%7Ctrm%3D%28none%29; sbjs_udata=vst%3D1%7C%7C%7Cuip%3D%28none%29%7C%7C%7Cuag%3DMozilla%2F5.0%20%28Windows%20NT%2010.0%3B%20Win64%3B%20x64%29%20AppleWebKit%2F537.36%20%28KHTML%2C%20like%20Gecko%29%20Chrome%2F136.0.0.0%20Safari%2F537.36; AWSALBTG=Gysy51HA+pJTrxIKFj2v3w0nCE/eoaQmJ7DSPj4suoUKY1CHB4l5GhwD4Qau/EW7RngdZBfgTbUsgutlOm0f96YiXJTcsrWR+T8lWoqugNfMSDTEbOwrgbTJv4zI4vgeWeD4ltJdQFCOglNyh0FuxME92j87R8+5+nrtZTwzAFAL; AWSALBTGCORS=Gysy51HA+pJTrxIKFj2v3w0nCE/eoaQmJ7DSPj4suoUKY1CHB4l5GhwD4Qau/EW7RngdZBfgTbUsgutlOm0f96YiXJTcsrWR+T8lWoqugNfMSDTEbOwrgbTJv4zI4vgeWeD4ltJdQFCOglNyh0FuxME92j87R8+5+nrtZTwzAFAL; AWSALB=PA4KsCC+ZE35rkHrZlFJmvdEFqqcwpfhPvIHyR8fvTkTuV8elUxXm3ZXx+OJ8h1qNL5Hsxp9M9bcRnTPQfhDhKnSOIaGtgnBBIXsSuTsBL6E4DClOUhJXGkw1ucY; AWSALBCORS=PA4KsCC+ZE35rkHrZlFJmvdEFqqcwpfhPvIHyR8fvTkTuV8elUxXm3ZXx+OJ8h1qNL5Hsxp9M9bcRnTPQfhDhKnSOIaGtgnBBIXsSuTsBL6E4DClOUhJXGkw1ucY; leadid_token-27789EFE-7A9A-DB70-BB9B-97D9B7057DBB-01836014-7527-FD48-9B7F-1A40A9705CFE=86378343-6E72-C9A3-F38C-4FC85D4B9DDF; _parsely_session={%22sid%22:25%2C%22surl%22:%22https://www.realtor.com/realestateandhomes-detail/127-Concord-St_Brooklyn_NY_11201_M94228-18638%22%2C%22sref%22:%22https://colab.research.google.com/%22%2C%22sts%22:1747135330658%2C%22slts%22:1747130960659}; _parsely_visitor={%22id%22:%22pid=1b405088-93a3-4244-a70a-8f0b5d157233%22%2C%22session_count%22:25%2C%22last_session_ts%22:1747135330658}; _lr_retry_request=true; AMP_MKTG_c07a79acf5=JTdCJTdE; claritas_24hrexp_ldp=true; panoramaId_expiry=1747223247759; panoramaId=1c8ce1f32d9b77f43d98a20754f4a9fb927a4d1c3ceb4de2702245f6f0c8d4e0; ab.storage.deviceId.7cc9d032-9d6d-44cf-a8f5-d276489af322=g%3Ac0e51af7-dd43-dbd5-e0cf-a1fa33760e57%7Ce%3Aundefined%7Cc%3A1744778189271%7Cl%3A1747136849038; ab.storage.userId.7cc9d032-9d6d-44cf-a8f5-d276489af322=g%3Avisitor_510a7abc-5631-4c8b-a9a5-54de51e58a8a%7Ce%3Aundefined%7Cc%3A1744778189264%7Cl%3A1747136849040; __ssn=12d7e70c-46a9-45b7-8708-9b6155f748af; __ssnstarttime=1747138479; criteria=sprefix%3D%252Fnewhomecommunities%26area_type%3Dcity%26city%3DNew%2520York%26pg%3D1%26state_code%3DNY%26state_id%3DNY%26loc%3DNew%2520York%252C%2520NY%26locSlug%3DNew-York_NY%26county_fips%3D36081%26county_fips_multi%3D36081-36047-36085-36005-36061; isAuth0GnavEnabled=C; AMCVS_8853394255142B6A0A4C98A4%40AdobeOrg=1; AMCV_8853394255142B6A0A4C98A4%40AdobeOrg=-1124106680%7CMCIDTS%7C20221%7CMCMID%7C62206642167978879802294781651943730817%7CMCAAMLH-1747743283%7C12%7CMCAAMB-1747743283%7CRKhpRz8krg2tLO6pguXWp5olkAcUniQYPHaMWWgdJ3xzPWQmdj0y%7CMCOPTOUT-1747145683s%7CNONE%7CMCAID%7CNONE%7CvVersion%7C5.2.0; claritas_24hrexp_sitevisit=true; __gads=ID=90cc70a1b7f62534:T=1744778191:RT=1747138485:S=ALNI_Mbwq8lNnQn41vMslb5NKa0v1IXODQ; __gpi=UID=000010a0d44ff64d:T=1744778191:RT=1747138485:S=ALNI_MYQOz2G493eHyeT1BxhNY1pSbZ_ZQ; __eoi=ID=ff471cc055362e70:T=1744778191:RT=1747138485:S=AA-AfjY5Nukxc6S-HKQMxCxsgauf; KP_UIDz-ssn=0EE1EXb8l2EUoH5DeGMAxEF0VE4oMTjtLX6Pl6gj6CH7mbj35i1YYPID3R0DR0l5OL7FYNQaTSGxTBTLyjowYx7OW50OmhcD5hUdm0QLcXGf6NdsuQWeYKdzy9U3TgJu7xBkhQVIUDCMnpYyy7ZWW0bWYD5xPvcAozNs5Hff; KP_UIDz=0EE1EXb8l2EUoH5DeGMAxEF0VE4oMTjtLX6Pl6gj6CH7mbj35i1YYPID3R0DR0l5OL7FYNQaTSGxTBTLyjowYx7OW50OmhcD5hUdm0QLcXGf6NdsuQWeYKdzy9U3TgJu7xBkhQVIUDCMnpYyy7ZWW0bWYD5xPvcAozNs5Hff; ab.storage.sessionId.7cc9d032-9d6d-44cf-a8f5-d276489af322=g%3A5e73a82d-0856-363b-ebe3-ab7bcf82f658%7Ce%3A1747140306176%7Cc%3A1747136849034%7Cl%3A1747138506176; kampyleUserSession=1747138528373; kampyleUserSessionsCount=74; kampyleUserPercentile=80.84019685422727; _parsely_slot_click={%22url%22:%22https://www.realtor.com/realestateandhomes-search/New-York_NY/type-single-family-home%22%2C%22x%22:16%2C%22y%22:317%2C%22xpath%22:%22//*[@id=%5C%22property_id_4407935011%5C%22]/div[2]/div[1]/div[1]/div[1]/a[1]%22%2C%22href%22:%22https://www.realtor.com/realestateandhomes-detail/177-Benedict-Rd_Staten-Island_NY_10304_M44079-35011?from=srp-list-card%22}; _uetsid=523b07802f1e11f0a6117f38eb0c06f4|nu1ncn|2|fvv|0|1958; kampyleSessionPageCounter=2; AMP_c07a79acf5=JTdCJTIyZGV2aWNlSWQlMjIlM0ElMjJjNGJmMzkxNC1mNjA1LTQyZWUtYWM2Yi02MTQwMzBlODAxNGYlMjIlMkMlMjJ1c2VySWQlMjIlM0ElMjI1MTBhN2FiYy01NjMxLTRjOGItYTlhNS01NGRlNTFlNThhOGElMjIlMkMlMjJzZXNzaW9uSWQlMjIlM0ExNzQ3MTM2ODQ2ODMxJTJDJTIyb3B0T3V0JTIyJTNBZmFsc2UlMkMlMjJsYXN0RXZlbnRUaW1lJTIyJTNBMTc0NzEzODcxNTI1MSUyQyUyMmxhc3RFdmVudElkJTIyJTNBMzgxJTJDJTIycGFnZUNvdW50ZXIlMjIlM0E1JTdE; split_tcv=123; _uetvid=5e6611101a7c11f096fd0b3e24a7f2ce|1glbpa|1747138715700|5|1|bat.bing.com/p/insights/c/b; _ga_07XBH6XBNS=GS2.1.s1747135361$o25$g1$t1747138718$j0$l0$h538070340; _ga_MS5EHT6J6V=GS2.1.s1747135361$o25$g1$t1747138718$j0$l0$h0',\n",
    "}\n",
    "\n",
    "params = {\n",
    "    'from': 'srp-list-card',\n",
    "}\n",
    "\n",
    "# response = requests.get(\n",
    "#     'https://www.realtor.com/realestateandhomes-detail/177-Benedict-Rd_Staten-Island_NY_10304_M44079-35011',\n",
    "#     params=params,\n",
    "#     cookies=cookies,\n",
    "#     headers=headers,\n",
    "# )"
   ]
  },
  {
   "cell_type": "code",
   "execution_count": 6,
   "id": "e254f76e",
   "metadata": {
    "execution": {
     "iopub.execute_input": "2025-05-26T07:06:46.635205Z",
     "iopub.status.busy": "2025-05-26T07:06:46.634087Z"
    },
    "papermill": {
     "duration": null,
     "end_time": null,
     "exception": false,
     "start_time": "2025-05-26T07:06:46.618348",
     "status": "running"
    },
    "tags": []
   },
   "outputs": [
    {
     "name": "stdout",
     "output_type": "stream",
     "text": [
      "<Response [200]> 2\n"
     ]
    },
    {
     "name": "stdout",
     "output_type": "stream",
     "text": [
      "<Response [200]> 3\n"
     ]
    },
    {
     "name": "stdout",
     "output_type": "stream",
     "text": [
      "<Response [200]> 4\n"
     ]
    },
    {
     "name": "stdout",
     "output_type": "stream",
     "text": [
      "<Response [200]> 5\n"
     ]
    },
    {
     "name": "stdout",
     "output_type": "stream",
     "text": [
      "<Response [200]> 6\n"
     ]
    },
    {
     "name": "stdout",
     "output_type": "stream",
     "text": [
      "<Response [200]> 7\n"
     ]
    },
    {
     "name": "stdout",
     "output_type": "stream",
     "text": [
      "<Response [200]> 8\n"
     ]
    },
    {
     "name": "stdout",
     "output_type": "stream",
     "text": [
      "<Response [200]> 9\n"
     ]
    },
    {
     "name": "stdout",
     "output_type": "stream",
     "text": [
      "<Response [200]> 10\n"
     ]
    },
    {
     "name": "stdout",
     "output_type": "stream",
     "text": [
      "<Response [200]> 11\n"
     ]
    },
    {
     "name": "stdout",
     "output_type": "stream",
     "text": [
      "<Response [200]> 12\n"
     ]
    },
    {
     "name": "stdout",
     "output_type": "stream",
     "text": [
      "<Response [200]> 13\n"
     ]
    },
    {
     "name": "stdout",
     "output_type": "stream",
     "text": [
      "<Response [200]> 14\n"
     ]
    },
    {
     "name": "stdout",
     "output_type": "stream",
     "text": [
      "<Response [200]> 15\n"
     ]
    },
    {
     "name": "stdout",
     "output_type": "stream",
     "text": [
      "<Response [200]> 16\n"
     ]
    },
    {
     "name": "stdout",
     "output_type": "stream",
     "text": [
      "<Response [200]> 17\n"
     ]
    },
    {
     "name": "stdout",
     "output_type": "stream",
     "text": [
      "<Response [200]> 18\n"
     ]
    },
    {
     "name": "stdout",
     "output_type": "stream",
     "text": [
      "<Response [200]> 19\n"
     ]
    },
    {
     "name": "stdout",
     "output_type": "stream",
     "text": [
      "<Response [200]> 20\n"
     ]
    },
    {
     "name": "stdout",
     "output_type": "stream",
     "text": [
      "<Response [200]> 21\n"
     ]
    },
    {
     "name": "stdout",
     "output_type": "stream",
     "text": [
      "<Response [200]> 22\n"
     ]
    },
    {
     "name": "stdout",
     "output_type": "stream",
     "text": [
      "<Response [200]> 23\n"
     ]
    },
    {
     "name": "stdout",
     "output_type": "stream",
     "text": [
      "<Response [200]> 24\n"
     ]
    },
    {
     "name": "stdout",
     "output_type": "stream",
     "text": [
      "<Response [200]> 25\n"
     ]
    },
    {
     "name": "stdout",
     "output_type": "stream",
     "text": [
      "<Response [200]> 26\n"
     ]
    },
    {
     "name": "stdout",
     "output_type": "stream",
     "text": [
      "<Response [200]> 27\n"
     ]
    },
    {
     "name": "stdout",
     "output_type": "stream",
     "text": [
      "<Response [200]> 28\n"
     ]
    },
    {
     "name": "stdout",
     "output_type": "stream",
     "text": [
      "<Response [200]> 29\n"
     ]
    },
    {
     "name": "stdout",
     "output_type": "stream",
     "text": [
      "<Response [200]> 30\n"
     ]
    },
    {
     "name": "stdout",
     "output_type": "stream",
     "text": [
      "<Response [200]> 31\n"
     ]
    },
    {
     "name": "stdout",
     "output_type": "stream",
     "text": [
      "<Response [200]> 32\n"
     ]
    },
    {
     "name": "stdout",
     "output_type": "stream",
     "text": [
      "<Response [200]> 33\n"
     ]
    },
    {
     "name": "stdout",
     "output_type": "stream",
     "text": [
      "<Response [200]> 34\n"
     ]
    },
    {
     "name": "stdout",
     "output_type": "stream",
     "text": [
      "<Response [200]> 35\n"
     ]
    },
    {
     "name": "stdout",
     "output_type": "stream",
     "text": [
      "<Response [200]> 36\n"
     ]
    },
    {
     "name": "stdout",
     "output_type": "stream",
     "text": [
      "<Response [200]> 37\n"
     ]
    },
    {
     "name": "stdout",
     "output_type": "stream",
     "text": [
      "<Response [200]> 38\n"
     ]
    },
    {
     "name": "stdout",
     "output_type": "stream",
     "text": [
      "<Response [200]> 39\n"
     ]
    },
    {
     "name": "stdout",
     "output_type": "stream",
     "text": [
      "<Response [200]> 40\n"
     ]
    },
    {
     "name": "stdout",
     "output_type": "stream",
     "text": [
      "<Response [200]> 41\n"
     ]
    },
    {
     "name": "stdout",
     "output_type": "stream",
     "text": [
      "<Response [200]> 42\n"
     ]
    },
    {
     "name": "stdout",
     "output_type": "stream",
     "text": [
      "<Response [200]> 43\n"
     ]
    },
    {
     "name": "stdout",
     "output_type": "stream",
     "text": [
      "<Response [200]> 44\n"
     ]
    },
    {
     "name": "stdout",
     "output_type": "stream",
     "text": [
      "<Response [200]> 45\n"
     ]
    },
    {
     "name": "stdout",
     "output_type": "stream",
     "text": [
      "<Response [200]> 46\n"
     ]
    },
    {
     "name": "stdout",
     "output_type": "stream",
     "text": [
      "<Response [200]> 47\n"
     ]
    },
    {
     "name": "stdout",
     "output_type": "stream",
     "text": [
      "<Response [200]> 48\n"
     ]
    },
    {
     "name": "stdout",
     "output_type": "stream",
     "text": [
      "<Response [200]> 49\n"
     ]
    },
    {
     "name": "stdout",
     "output_type": "stream",
     "text": [
      "<Response [200]> 50\n"
     ]
    },
    {
     "name": "stdout",
     "output_type": "stream",
     "text": [
      "<Response [200]> 51\n"
     ]
    },
    {
     "name": "stdout",
     "output_type": "stream",
     "text": [
      "<Response [200]> 52\n"
     ]
    },
    {
     "name": "stdout",
     "output_type": "stream",
     "text": [
      "<Response [200]> 53\n"
     ]
    },
    {
     "name": "stdout",
     "output_type": "stream",
     "text": [
      "<Response [200]> 54\n"
     ]
    },
    {
     "name": "stdout",
     "output_type": "stream",
     "text": [
      "<Response [200]> 55\n"
     ]
    },
    {
     "name": "stdout",
     "output_type": "stream",
     "text": [
      "<Response [200]> 56\n"
     ]
    },
    {
     "name": "stdout",
     "output_type": "stream",
     "text": [
      "<Response [200]> 57\n"
     ]
    },
    {
     "name": "stdout",
     "output_type": "stream",
     "text": [
      "<Response [200]> 58\n"
     ]
    },
    {
     "name": "stdout",
     "output_type": "stream",
     "text": [
      "<Response [200]> 59\n"
     ]
    },
    {
     "name": "stdout",
     "output_type": "stream",
     "text": [
      "<Response [200]> 60\n"
     ]
    },
    {
     "name": "stdout",
     "output_type": "stream",
     "text": [
      "<Response [200]> 61\n"
     ]
    },
    {
     "name": "stdout",
     "output_type": "stream",
     "text": [
      "<Response [200]> 62\n"
     ]
    },
    {
     "name": "stdout",
     "output_type": "stream",
     "text": [
      "<Response [200]> 63\n"
     ]
    },
    {
     "name": "stdout",
     "output_type": "stream",
     "text": [
      "<Response [200]> 64\n"
     ]
    },
    {
     "name": "stdout",
     "output_type": "stream",
     "text": [
      "<Response [200]> 65\n"
     ]
    },
    {
     "name": "stdout",
     "output_type": "stream",
     "text": [
      "<Response [200]> 66\n"
     ]
    },
    {
     "name": "stdout",
     "output_type": "stream",
     "text": [
      "<Response [200]> 67\n"
     ]
    },
    {
     "name": "stdout",
     "output_type": "stream",
     "text": [
      "<Response [200]> 68\n"
     ]
    },
    {
     "name": "stdout",
     "output_type": "stream",
     "text": [
      "<Response [200]> 69\n"
     ]
    },
    {
     "name": "stdout",
     "output_type": "stream",
     "text": [
      "<Response [200]> 70\n"
     ]
    },
    {
     "name": "stdout",
     "output_type": "stream",
     "text": [
      "<Response [200]> 71\n"
     ]
    },
    {
     "name": "stdout",
     "output_type": "stream",
     "text": [
      "<Response [200]> 72\n"
     ]
    },
    {
     "name": "stdout",
     "output_type": "stream",
     "text": [
      "<Response [200]> 73\n"
     ]
    },
    {
     "name": "stdout",
     "output_type": "stream",
     "text": [
      "<Response [200]> 74\n"
     ]
    },
    {
     "name": "stdout",
     "output_type": "stream",
     "text": [
      "<Response [200]> 75\n"
     ]
    },
    {
     "name": "stdout",
     "output_type": "stream",
     "text": [
      "<Response [200]> 76\n"
     ]
    },
    {
     "name": "stdout",
     "output_type": "stream",
     "text": [
      "<Response [200]> 77\n"
     ]
    },
    {
     "name": "stdout",
     "output_type": "stream",
     "text": [
      "<Response [200]> 78\n"
     ]
    },
    {
     "name": "stdout",
     "output_type": "stream",
     "text": [
      "<Response [200]> 79\n"
     ]
    },
    {
     "name": "stdout",
     "output_type": "stream",
     "text": [
      "<Response [200]> 80\n"
     ]
    },
    {
     "name": "stdout",
     "output_type": "stream",
     "text": [
      "<Response [200]> 81\n"
     ]
    },
    {
     "name": "stdout",
     "output_type": "stream",
     "text": [
      "<Response [200]> 82\n"
     ]
    },
    {
     "name": "stdout",
     "output_type": "stream",
     "text": [
      "<Response [200]> 83\n"
     ]
    },
    {
     "name": "stdout",
     "output_type": "stream",
     "text": [
      "<Response [200]> 84\n"
     ]
    },
    {
     "name": "stdout",
     "output_type": "stream",
     "text": [
      "<Response [200]> 85\n"
     ]
    },
    {
     "name": "stdout",
     "output_type": "stream",
     "text": [
      "<Response [200]> 86\n"
     ]
    },
    {
     "name": "stdout",
     "output_type": "stream",
     "text": [
      "<Response [200]> 87\n"
     ]
    },
    {
     "name": "stdout",
     "output_type": "stream",
     "text": [
      "<Response [200]> 88\n"
     ]
    },
    {
     "name": "stdout",
     "output_type": "stream",
     "text": [
      "<Response [200]> 89\n"
     ]
    },
    {
     "name": "stdout",
     "output_type": "stream",
     "text": [
      "<Response [200]> 90\n"
     ]
    },
    {
     "name": "stdout",
     "output_type": "stream",
     "text": [
      "<Response [200]> 91\n"
     ]
    },
    {
     "name": "stdout",
     "output_type": "stream",
     "text": [
      "<Response [200]> 92\n"
     ]
    },
    {
     "name": "stdout",
     "output_type": "stream",
     "text": [
      "<Response [200]> 93\n"
     ]
    },
    {
     "name": "stdout",
     "output_type": "stream",
     "text": [
      "<Response [200]> 94\n"
     ]
    },
    {
     "name": "stdout",
     "output_type": "stream",
     "text": [
      "<Response [200]> 95\n"
     ]
    },
    {
     "name": "stdout",
     "output_type": "stream",
     "text": [
      "<Response [200]> 96\n"
     ]
    },
    {
     "name": "stdout",
     "output_type": "stream",
     "text": [
      "<Response [200]> 97\n"
     ]
    },
    {
     "name": "stdout",
     "output_type": "stream",
     "text": [
      "<Response [200]> 98\n"
     ]
    },
    {
     "name": "stdout",
     "output_type": "stream",
     "text": [
      "<Response [200]> 99\n"
     ]
    },
    {
     "name": "stdout",
     "output_type": "stream",
     "text": [
      "<Response [200]> 100\n"
     ]
    },
    {
     "name": "stdout",
     "output_type": "stream",
     "text": [
      "<Response [200]> 101\n"
     ]
    },
    {
     "name": "stdout",
     "output_type": "stream",
     "text": [
      "<Response [200]> 102\n"
     ]
    },
    {
     "name": "stdout",
     "output_type": "stream",
     "text": [
      "<Response [200]> 103\n"
     ]
    },
    {
     "name": "stdout",
     "output_type": "stream",
     "text": [
      "<Response [200]> 104\n"
     ]
    },
    {
     "name": "stdout",
     "output_type": "stream",
     "text": [
      "<Response [200]> 105\n"
     ]
    },
    {
     "name": "stdout",
     "output_type": "stream",
     "text": [
      "<Response [200]> 106\n"
     ]
    },
    {
     "name": "stdout",
     "output_type": "stream",
     "text": [
      "<Response [200]> 107\n"
     ]
    },
    {
     "name": "stdout",
     "output_type": "stream",
     "text": [
      "<Response [200]> 108\n"
     ]
    },
    {
     "name": "stdout",
     "output_type": "stream",
     "text": [
      "<Response [200]> 109\n"
     ]
    },
    {
     "name": "stdout",
     "output_type": "stream",
     "text": [
      "<Response [200]> 110\n"
     ]
    },
    {
     "name": "stdout",
     "output_type": "stream",
     "text": [
      "<Response [200]> 111\n"
     ]
    },
    {
     "name": "stdout",
     "output_type": "stream",
     "text": [
      "<Response [200]> 112\n"
     ]
    },
    {
     "name": "stdout",
     "output_type": "stream",
     "text": [
      "<Response [200]> 113\n"
     ]
    },
    {
     "name": "stdout",
     "output_type": "stream",
     "text": [
      "<Response [200]> 114\n"
     ]
    },
    {
     "name": "stdout",
     "output_type": "stream",
     "text": [
      "<Response [200]> 115\n"
     ]
    },
    {
     "name": "stdout",
     "output_type": "stream",
     "text": [
      "<Response [200]> 116\n"
     ]
    },
    {
     "name": "stdout",
     "output_type": "stream",
     "text": [
      "<Response [200]> 117\n"
     ]
    },
    {
     "name": "stdout",
     "output_type": "stream",
     "text": [
      "<Response [200]> 118\n"
     ]
    },
    {
     "name": "stdout",
     "output_type": "stream",
     "text": [
      "<Response [200]> 119\n"
     ]
    },
    {
     "name": "stdout",
     "output_type": "stream",
     "text": [
      "<Response [200]> 120\n"
     ]
    },
    {
     "name": "stdout",
     "output_type": "stream",
     "text": [
      "<Response [200]> 121\n"
     ]
    },
    {
     "name": "stdout",
     "output_type": "stream",
     "text": [
      "<Response [200]> 122\n"
     ]
    },
    {
     "name": "stdout",
     "output_type": "stream",
     "text": [
      "<Response [200]> 123\n"
     ]
    },
    {
     "name": "stdout",
     "output_type": "stream",
     "text": [
      "<Response [200]> 124\n"
     ]
    },
    {
     "name": "stdout",
     "output_type": "stream",
     "text": [
      "<Response [200]> 125\n"
     ]
    },
    {
     "name": "stdout",
     "output_type": "stream",
     "text": [
      "<Response [200]> 126\n"
     ]
    },
    {
     "name": "stdout",
     "output_type": "stream",
     "text": [
      "<Response [200]> 127\n"
     ]
    },
    {
     "name": "stdout",
     "output_type": "stream",
     "text": [
      "<Response [200]> 128\n"
     ]
    },
    {
     "name": "stdout",
     "output_type": "stream",
     "text": [
      "<Response [200]> 129\n"
     ]
    },
    {
     "name": "stdout",
     "output_type": "stream",
     "text": [
      "<Response [200]> 130\n"
     ]
    },
    {
     "name": "stdout",
     "output_type": "stream",
     "text": [
      "<Response [200]> 131\n"
     ]
    },
    {
     "name": "stdout",
     "output_type": "stream",
     "text": [
      "<Response [200]> 132\n"
     ]
    },
    {
     "name": "stdout",
     "output_type": "stream",
     "text": [
      "<Response [200]> 133\n"
     ]
    },
    {
     "name": "stdout",
     "output_type": "stream",
     "text": [
      "<Response [200]> 134\n"
     ]
    },
    {
     "name": "stdout",
     "output_type": "stream",
     "text": [
      "<Response [200]> 135\n"
     ]
    },
    {
     "name": "stdout",
     "output_type": "stream",
     "text": [
      "<Response [200]> 136\n"
     ]
    },
    {
     "name": "stdout",
     "output_type": "stream",
     "text": [
      "<Response [200]> 137\n"
     ]
    },
    {
     "name": "stdout",
     "output_type": "stream",
     "text": [
      "<Response [200]> 138\n"
     ]
    },
    {
     "name": "stdout",
     "output_type": "stream",
     "text": [
      "<Response [200]> 139\n"
     ]
    },
    {
     "name": "stdout",
     "output_type": "stream",
     "text": [
      "<Response [200]> 140\n"
     ]
    },
    {
     "name": "stdout",
     "output_type": "stream",
     "text": [
      "<Response [200]> 141\n"
     ]
    },
    {
     "name": "stdout",
     "output_type": "stream",
     "text": [
      "<Response [200]> 142\n"
     ]
    },
    {
     "name": "stdout",
     "output_type": "stream",
     "text": [
      "<Response [200]> 143\n"
     ]
    },
    {
     "name": "stdout",
     "output_type": "stream",
     "text": [
      "<Response [200]> 144\n"
     ]
    },
    {
     "name": "stdout",
     "output_type": "stream",
     "text": [
      "<Response [200]> 145\n"
     ]
    },
    {
     "name": "stdout",
     "output_type": "stream",
     "text": [
      "<Response [200]> 146\n"
     ]
    },
    {
     "name": "stdout",
     "output_type": "stream",
     "text": [
      "<Response [200]> 147\n"
     ]
    },
    {
     "name": "stdout",
     "output_type": "stream",
     "text": [
      "<Response [200]> 148\n"
     ]
    },
    {
     "name": "stdout",
     "output_type": "stream",
     "text": [
      "<Response [200]> 149\n"
     ]
    },
    {
     "name": "stdout",
     "output_type": "stream",
     "text": [
      "<Response [200]> 150\n"
     ]
    },
    {
     "name": "stdout",
     "output_type": "stream",
     "text": [
      "<Response [200]> 151\n"
     ]
    },
    {
     "name": "stdout",
     "output_type": "stream",
     "text": [
      "<Response [200]> 152\n"
     ]
    },
    {
     "name": "stdout",
     "output_type": "stream",
     "text": [
      "<Response [200]> 153\n"
     ]
    },
    {
     "name": "stdout",
     "output_type": "stream",
     "text": [
      "<Response [200]> 154\n"
     ]
    },
    {
     "name": "stdout",
     "output_type": "stream",
     "text": [
      "<Response [200]> 155\n"
     ]
    },
    {
     "name": "stdout",
     "output_type": "stream",
     "text": [
      "<Response [200]> 156\n"
     ]
    },
    {
     "name": "stdout",
     "output_type": "stream",
     "text": [
      "<Response [200]> 157\n"
     ]
    },
    {
     "name": "stdout",
     "output_type": "stream",
     "text": [
      "<Response [200]> 158\n"
     ]
    },
    {
     "name": "stdout",
     "output_type": "stream",
     "text": [
      "<Response [200]> 159\n"
     ]
    },
    {
     "name": "stdout",
     "output_type": "stream",
     "text": [
      "<Response [200]> 160\n"
     ]
    },
    {
     "name": "stdout",
     "output_type": "stream",
     "text": [
      "<Response [200]> 161\n"
     ]
    },
    {
     "name": "stdout",
     "output_type": "stream",
     "text": [
      "<Response [200]> 162\n"
     ]
    },
    {
     "name": "stdout",
     "output_type": "stream",
     "text": [
      "<Response [200]> 163\n"
     ]
    },
    {
     "name": "stdout",
     "output_type": "stream",
     "text": [
      "<Response [200]> 164\n"
     ]
    },
    {
     "name": "stdout",
     "output_type": "stream",
     "text": [
      "<Response [200]> 165\n"
     ]
    },
    {
     "name": "stdout",
     "output_type": "stream",
     "text": [
      "<Response [200]> 166\n"
     ]
    },
    {
     "name": "stdout",
     "output_type": "stream",
     "text": [
      "<Response [200]> 167\n"
     ]
    }
   ],
   "source": [
    "from ast import main\n",
    "import requests\n",
    "from bs4 import BeautifulSoup\n",
    "import json\n",
    "import time\n",
    "import re\n",
    "result=[]\n",
    "\n",
    "# if link_array:\n",
    "k=1\n",
    "# for link in link_array:\n",
    "#   detail_res = requests.get(link,params=params,cookies=cookies,\n",
    "#                 headers=headers )\n",
    "#   k=k+1\n",
    "#   print(detail_res , k)\n",
    "#   data = {\n",
    "#         \"Price\": \"N/A\",\n",
    "#         \"Address\": \"N/A\",\n",
    "#         \"Realtor's Name\": \"N/A\",\n",
    "#         \"Realtor's Email\":\"N/A\",\n",
    "#         \"Realtor's Phone\": \"N/A\",\n",
    "#         \"Brokered Name\":\"N/A\",\n",
    "#         \"Estimated Price\": \"N/A\",\n",
    "#         \"Property Type\": \"N/A\",\n",
    "#         \"Days on Market\": \"N/A\",\n",
    "#         \"Year Built\": \"N/A\",\n",
    "#         \"Zip Code\": \"N/A\",\n",
    "#         \"Multi Listings\": \"N/A\",\n",
    "#         \"Link\": link,\n",
    "#         }\n",
    "#   if detail_res.status_code == 200:\n",
    "#       # time.sleep(3)  # delay to avoid blocking\n",
    "#       detail_soup = BeautifulSoup(detail_res.text, 'html.parser')\n",
    "\n",
    "#       main_price=detail_soup.find(\"span\", class_=\"base__StyledType-rui__sc-108xfm0-0 mQZci\")\n",
    "#       data['Price']=main_price.text.strip()\n",
    "\n",
    "#       main_address=detail_soup.find(\"h1\",class_=\"sc-3cba215e-3 jTQGBk\")\n",
    "#       if main_address:\n",
    "#         data['Address']=main_address.text.strip()\n",
    "\n",
    "#       script_tag = detail_soup.find('script', {'id': '__NEXT_DATA__', 'type': 'application/json'})\n",
    "#       if script_tag:\n",
    "#           try:\n",
    "#               json_data = json.loads(script_tag.string)\n",
    "#               advertiser_info = json_data[\"props\"][\"pageProps\"][\"initialReduxState\"][\"propertyDetails\"][\"advertisers\"][0]\n",
    "\n",
    "#               data[\"Realtor's Name\"] = advertiser_info.get(\"name\", \"N/A\")\n",
    "#               data[\"Realtor's Email\"]= advertiser_email = advertiser_info.get(\"email\",\"N/A\")\n",
    "#               data[\"Realtor's Phone\"] = advertiser_info[\"phones\"][0].get(\"number\", \"N/A\")\n",
    "#               data[\"Brokered Name\"] = advertiser_info[\"office\"].get(\"name\")\n",
    "#               data[\"Estimated Price\"] = json_data[\"props\"][\"pageProps\"][\"initialReduxState\"][\"propertyDetails\"].get(\"estimate\", {}).get(\"price\", \"N/A\")\n",
    "#               data[\"Zip Code\"] = re.search(r'\\b\\d{5}\\b', detail_soup.text).group() if re.search(r'\\b\\d{5}\\b', detail_soup.text) else \"N/A\"\n",
    "\n",
    "#               # Optionally extract more fields...\n",
    "#           except Exception as e:\n",
    "#               data[\"error\"] = str(e)\n",
    "\n",
    "\n",
    "\n",
    "#       multi_listings = detail_soup.find(\"div\", class_=\"sc-205c724c-0 ficrCd\")\n",
    "#       if multi_listings:\n",
    "#           listings = multi_listings.find_all('a')\n",
    "\n",
    "#           data[\"Multi Listings\"] = len(listings)\n",
    "#       else:\n",
    "#         \"N/A\"\n",
    "\n",
    "\n",
    "\n",
    "#       fifi = detail_soup.find(\"ul\", \"sc-596aad4c-0 fdDkrT\")\n",
    "#       if fifi:\n",
    "#           prop_type_tag = fifi.find('span', string=\"Property type\")\n",
    "#           data[\"Property Type\"] = prop_type_tag.find_next('p').text.strip() if prop_type_tag else None\n",
    "\n",
    "#           dom_tag = fifi.find('span', string=\"On Realtor.com\")\n",
    "#           data[\"Days on Market\"] = dom_tag.find_next('p').text.strip() if dom_tag else None\n",
    "\n",
    "#           year_built_tag = fifi.find('span', string=\"Year built\")\n",
    "#           data[\"Year Built\"] = year_built_tag.find_next('p').text.strip() if year_built_tag else None\n",
    "\n",
    "\n",
    "\n",
    "\n",
    "\n",
    "#       estim=detail_soup.find(\"div\", \"mortgage-components-bx9k35 jhJBqN\")\n",
    "#       if estim:\n",
    "#           price = estim.find('span', class_='base__StyledType-rui__sc-108xfm0-0 mQZci').text.strip()\n",
    "#           estimated_price=price\n",
    "\n",
    "\n",
    "#           data[\"Estimated Price\"] = f\"{price} \"\n",
    "#       else:\n",
    "#           \"N/A\"\n",
    "\n",
    "\n",
    "#   # print(data)\n",
    "#   result.append(data)\n",
    "\n",
    "if link_array:  # Add your condition here (e.g., len(link_array) > 0)\n",
    "    for link in link_array:\n",
    "        link=link+'?from=srp-list-card'\n",
    "        detail_res = requests.get(link, params=params, cookies=cookies, headers=headers)\n",
    "        k = k + 1\n",
    "        print(detail_res, k)\n",
    "        data = {\n",
    "            \"Price\": \"N/A\",\n",
    "            \"Address\": \"N/A\",\n",
    "            \"Realtor's Name\": \"N/A\",\n",
    "            \"Realtor's Email\": \"N/A\",\n",
    "            \"Realtor's Phone\": \"N/A\",\n",
    "            \"Brokered Name\": \"N/A\",\n",
    "            \"Estimated Price\": \"N/A\",\n",
    "            \"Property Type\": \"N/A\",\n",
    "            \"Days on Market\": \"N/A\",\n",
    "            \"Year Built\": \"N/A\",\n",
    "            \"Zip Code\": \"N/A\",\n",
    "            \"Multi Listings\": \"N/A\",\n",
    "            \"Link\": link,\n",
    "        }\n",
    "\n",
    "        if detail_res.status_code == 200:\n",
    "            # time.sleep(3)  # delay to avoid blocking\n",
    "            detail_soup = BeautifulSoup(detail_res.text, 'html.parser')\n",
    "\n",
    "            main_price = detail_soup.find(\"span\", class_=\"base__StyledType-rui__sc-108xfm0-0 mQZci\")\n",
    "            if main_price:\n",
    "                data['Price'] = main_price.text.strip()\n",
    "\n",
    "            main_address = detail_soup.find(\"h1\", class_=\"sc-3cba215e-3 jTQGBk\")\n",
    "            if main_address:\n",
    "                data['Address'] = main_address.text.strip()\n",
    "\n",
    "            script_tag = detail_soup.find('script', {'id': '__NEXT_DATA__', 'type': 'application/json'})\n",
    "            if script_tag:\n",
    "                try:\n",
    "                    json_data = json.loads(script_tag.string)\n",
    "                    advertiser_info = json_data[\"props\"][\"pageProps\"][\"initialReduxState\"][\"propertyDetails\"][\"advertisers\"][0]\n",
    "\n",
    "                    data[\"Realtor's Name\"] = advertiser_info.get(\"name\", \"N/A\")\n",
    "                    data[\"Realtor's Email\"] = advertiser_info.get(\"email\", \"N/A\")\n",
    "                    data[\"Realtor's Phone\"] = advertiser_info[\"phones\"][0].get(\"number\", \"N/A\")\n",
    "                    data[\"Brokered Name\"] = advertiser_info[\"office\"].get(\"name\")\n",
    "                    data[\"Estimated Price\"] = json_data[\"props\"][\"pageProps\"][\"initialReduxState\"][\"propertyDetails\"].get(\"estimate\", {}).get(\"price\", \"N/A\")\n",
    "                    data[\"Zip Code\"] = re.search(r'\\b\\d{5}\\b', detail_soup.text).group() if re.search(r'\\b\\d{5}\\b', detail_soup.text) else \"N/A\"\n",
    "                except Exception as e:\n",
    "                    data[\"error\"] = str(e)\n",
    "\n",
    "            # multi_listings = detail_soup.find(\"div\", class_=\"sc-205c724c-0 ficrCd\")\n",
    "            # if multi_listings:\n",
    "            #     listings = multi_listings.find_all('a')\n",
    "            #     data[\"Multi Listings\"] = len(listings)\n",
    "\n",
    "            multi_listings = detail_soup.find(\"div\", class_=\"sc-205c724c-0 ficrCd\")\n",
    "            if multi_listings:\n",
    "                listings = multi_listings.find_all('a')\n",
    "                data[\"Multi Listings\"] = str(len(listings))   \n",
    "            else:\n",
    "                data[\"Multi Listings\"] = \"0\"   \n",
    "\n",
    " \n",
    "\n",
    "            fifi = detail_soup.find(\"ul\", \"sc-596aad4c-0 fdDkrT\")\n",
    "            if fifi:\n",
    "                prop_type_tag = fifi.find('span', string=\"Property type\")\n",
    "                data[\"Property Type\"] = prop_type_tag.find_next('p').text.strip() if prop_type_tag else \"N/A\"\n",
    "\n",
    "                dom_tag = fifi.find('span', string=\"On Realtor.com\")\n",
    "                data[\"Days on Market\"] = dom_tag.find_next('p').text.strip() if dom_tag else \"N/A\"\n",
    "\n",
    "                year_built_tag = fifi.find('span', string=\"Year built\")\n",
    "                data[\"Year Built\"] = year_built_tag.find_next('p').text.strip() if year_built_tag else \"N/A\"\n",
    "\n",
    "            estim = detail_soup.find(\"div\", \"mortgage-components-bx9k35 jhJBqN\")\n",
    "            if estim:\n",
    "                price = estim.find('span', class_='base__StyledType-rui__sc-108xfm0-0 mQZci')\n",
    "                if price:\n",
    "                    data[\"Estimated Price\"] = price.text.strip()\n",
    "\n",
    "        result.append(data)\n",
    "\n",
    "else:\n",
    "    result.append({'message': 'No property URLs found.'})\n",
    "\n"
   ]
  },
  {
   "cell_type": "code",
   "execution_count": null,
   "id": "31e3543b",
   "metadata": {
    "papermill": {
     "duration": null,
     "end_time": null,
     "exception": null,
     "start_time": null,
     "status": "pending"
    },
    "tags": []
   },
   "outputs": [],
   "source": [
    "print(json.dumps(result, indent=2))"
   ]
  }
 ],
 "metadata": {
  "kernelspec": {
   "display_name": "Python 3",
   "language": "python",
   "name": "python3"
  },
  "language_info": {
   "codemirror_mode": {
    "name": "ipython",
    "version": 3
   },
   "file_extension": ".py",
   "mimetype": "text/x-python",
   "name": "python",
   "nbconvert_exporter": "python",
   "pygments_lexer": "ipython3",
   "version": "3.13.2"
  },
  "papermill": {
   "default_parameters": {},
   "duration": null,
   "end_time": null,
   "environment_variables": {},
   "exception": null,
   "input_path": "python_notebook.ipynb",
   "output_path": "executed_notebook.ipynb",
   "parameters": {
    "final_url": "/type-single-family-home/price-600000-900000/sby-5",
    "location": "phoenix_az"
   },
   "start_time": "2025-05-26T07:04:39.329098",
   "version": "2.6.0"
  }
 },
 "nbformat": 4,
 "nbformat_minor": 5
}